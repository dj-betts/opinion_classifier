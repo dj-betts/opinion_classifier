{
 "cells": [
  {
   "cell_type": "code",
   "execution_count": 1,
   "metadata": {},
   "outputs": [],
   "source": [
    "from functions import vectorize_y_ser"
   ]
  },
  {
   "cell_type": "code",
   "execution_count": 2,
   "metadata": {},
   "outputs": [],
   "source": [
    "import datetime"
   ]
  },
  {
   "cell_type": "code",
   "execution_count": 3,
   "metadata": {},
   "outputs": [],
   "source": [
    "import nltk\n",
    "import string"
   ]
  },
  {
   "cell_type": "code",
   "execution_count": 4,
   "metadata": {},
   "outputs": [],
   "source": [
    "import re"
   ]
  },
  {
   "cell_type": "code",
   "execution_count": 5,
   "metadata": {},
   "outputs": [],
   "source": [
    "import pickle"
   ]
  },
  {
   "cell_type": "code",
   "execution_count": 6,
   "metadata": {},
   "outputs": [],
   "source": [
    "import pandas as pd\n",
    "import numpy as np"
   ]
  },
  {
   "cell_type": "code",
   "execution_count": 7,
   "metadata": {},
   "outputs": [],
   "source": [
    "import matplotlib.pyplot as plt\n",
    "plt.style.use('fivethirtyeight')"
   ]
  },
  {
   "cell_type": "code",
   "execution_count": 8,
   "metadata": {},
   "outputs": [],
   "source": [
    "from sklearn.feature_extraction.text import CountVectorizer, TfidfVectorizer\n",
    "from sklearn.model_selection import train_test_split\n",
    "from sklearn.metrics import confusion_matrix, plot_confusion_matrix\n",
    "from sklearn.naive_bayes import MultinomialNB\n",
    "from sklearn.ensemble import RandomForestClassifier\n",
    "from sklearn.inspection import permutation_importance"
   ]
  },
  {
   "cell_type": "code",
   "execution_count": 9,
   "metadata": {},
   "outputs": [],
   "source": [
    "from collections import Counter"
   ]
  },
  {
   "cell_type": "code",
   "execution_count": 10,
   "metadata": {},
   "outputs": [],
   "source": [
    "from imblearn.under_sampling import RandomUnderSampler"
   ]
  },
  {
   "cell_type": "code",
   "execution_count": 11,
   "metadata": {},
   "outputs": [],
   "source": [
    "from nltk.stem.snowball import SnowballStemmer\n",
    "from nltk.stem.wordnet import WordNetLemmatizer\n",
    "from nltk.tokenize import word_tokenize\n",
    "from nltk.corpus import stopwords"
   ]
  },
  {
   "cell_type": "markdown",
   "metadata": {},
   "source": [
    "# NLP Pipeline \n",
    "\n",
    "![](images/pipeline-walkthrough1.png)\n",
    "\n",
    "Below is a to do list when converting text into vector form: \n",
    "\n",
    "**Clean text and Create a Bag of Words (BoW)**\n",
    ">1. Lowercase the text\n",
    "2. Tokenize \n",
    "3. Strip out punctuation or undesirable text\n",
    "4. Remove Stopwords \n",
    "5. Stemming or Lemmatizing\n",
    "6. Compute N-Grams\n",
    "7. Use this to create BoW\n",
    "\n",
    "**Vectorize BoW**\n",
    ">8. Term Frequencies\n",
    "9. Document Frequencies\n",
    "10. TF-IDF\n",
    "11. Normalize vectors\n",
    "\n",
    "Let's go through both what each of these steps are and how to do them in python with the following corpus of comments about data science...\n",
    " "
   ]
  },
  {
   "cell_type": "code",
   "execution_count": 12,
   "metadata": {},
   "outputs": [],
   "source": [
    "# function to vectorize the type_of_material series into a y target vector.\n",
    "def vectorize_y_ser(ser):\n",
    "    y = ser.copy()\n",
    "    y.replace({'Op-Ed': 1,'News': 0}, inplace=True)\n",
    "    return y"
   ]
  },
  {
   "cell_type": "code",
   "execution_count": 13,
   "metadata": {},
   "outputs": [],
   "source": [
    "#rate of correct predictions out of total predictions\n",
    "def metrics_(tn, fp, fn, tp):\n",
    "    accuracy = (tp + tn) / (tn + fn + tp + fp)\n",
    "    print(f'Accuracy: {round(accuracy, 2)}')\n",
    "    recall = (tp) / (tp + fn)\n",
    "    print(f'Recall: {round(recall, 2)}')\n",
    "    precision = (tp) / (tp + fp)\n",
    "    print(f'Precision: {round(precision, 2)}')\n",
    "    print(f'TN:{tn} FP:{fp} FN:{fn} TP:{tp}')\n",
    "    return (accuracy, recall, precision)"
   ]
  },
  {
   "cell_type": "code",
   "execution_count": 14,
   "metadata": {},
   "outputs": [],
   "source": [
    "#prints number of features, stop words and parameters for vectorizer\n",
    "def vectorizer_parameters(vectorizer):\n",
    "    #features\n",
    "    feat_names = vectorizer.get_feature_names()\n",
    "    num_feat = len(feat_names)\n",
    "    \n",
    "    #stop words\n",
    "    stop_words = vectorizer.stop_words_\n",
    "    num_stop = len(stop_words)\n",
    "\n",
    "    params = vectorizer.get_params()\n",
    "    \n",
    "    print(f'Number of features: {num_feat}, Numbers of stop words: {num_stop}')\n",
    "      \n",
    "    for key, val in params.items():\n",
    "        print(f'{key}: {val}')"
   ]
  },
  {
   "cell_type": "code",
   "execution_count": 15,
   "metadata": {},
   "outputs": [],
   "source": [
    "#function that removes string.punctuation w/out the '?'\n",
    "def punc_strip(document):\n",
    "    for char in document:\n",
    "        if char in '!\"#$%&\\'()*+—,-./:;<=>?@[\\\\]^_`{|}~”’“':\n",
    "            document = document.replace(char, \" \") \n",
    "    return document"
   ]
  },
  {
   "cell_type": "code",
   "execution_count": 16,
   "metadata": {},
   "outputs": [],
   "source": [
    "#combine print, type, text columns in the list\n",
    "def printed_file(file):\n",
    "    print_cols = ['_id','print_page','pub_date','keywords','type_of_material','lead_paragraph','text']    \n",
    "    df = pd.read_csv(file, usecols=print_cols, index_col='_id', low_memory=False)\n",
    "    df = df[df.print_page.isna() == False]\n",
    "    df = df[~df.text.isna() == True]\n",
    "    return df"
   ]
  },
  {
   "cell_type": "code",
   "execution_count": 17,
   "metadata": {},
   "outputs": [],
   "source": [
    "#combine print, type, text columns in the list\n",
    "def printed_df(df):\n",
    "    print_cols = ['print_page','pub_date','keywords','type_of_material','lead_paragraph','text']    \n",
    "    df = df[print_cols]\n",
    "    df = df[df.print_page.isna() == False]\n",
    "    df = df[~df.text.isna() == True]\n",
    "    return df"
   ]
  },
  {
   "cell_type": "code",
   "execution_count": 18,
   "metadata": {},
   "outputs": [],
   "source": [
    "#returns articles w/ 'United States Politics and Government' as a keyword\n",
    "def return_pol_gov(row):\n",
    "    list_dict = eval(row.keywords)\n",
    "    for (dic) in (list_dict):\n",
    "        if dic.get('value') == 'United States Politics and Government':\n",
    "            return True"
   ]
  },
  {
   "cell_type": "code",
   "execution_count": 19,
   "metadata": {},
   "outputs": [],
   "source": [
    "def filter_keyword(df, keyword='United States Politics and Government'):\n",
    "    df[keyword] = df.apply(return_pol_gov, axis=1)\n",
    "    df = df[df[keyword] == True]\n",
    "    return df"
   ]
  },
  {
   "cell_type": "code",
   "execution_count": 20,
   "metadata": {},
   "outputs": [],
   "source": [
    "#returns shape of news and oped\n",
    "def oped_v_news(df):\n",
    "    df.type_of_material.hist()\n",
    "    news = sum(df.type_of_material == \"News\")\n",
    "    oped = sum(df.type_of_material == \"Op-Ed\")\n",
    "    print(f'News: {news} Oped: {oped}, Total: {oped+news}, Op-Ed {round(oped/(oped+news), 2)} of total')\n",
    "    #plt.savefig('img/oped_news_hist.png')"
   ]
  },
  {
   "cell_type": "code",
   "execution_count": 21,
   "metadata": {},
   "outputs": [],
   "source": [
    "#split article and return quote\n",
    "def return_quote(document):\n",
    "    article = []\n",
    "    quote_list = []\n",
    "    \n",
    "    open_quote = \"“\"\n",
    "    close_quote = \"”\"\n",
    "    \n",
    "    close_split = document.split(close_quote)\n",
    "    \n",
    "    for string in close_split:\n",
    "\n",
    "        quote = string.split(open_quote)\n",
    "        article.append(quote.pop(0))\n",
    "        quote_list += quote\n",
    "    \n",
    "    article = \" \".join(article)\n",
    "    quotation = \" \".join(quote_list)\n",
    "        \n",
    "    return(quotation)"
   ]
  },
  {
   "cell_type": "code",
   "execution_count": 22,
   "metadata": {},
   "outputs": [],
   "source": [
    "#split article and return quote\n",
    "def return_article(document):\n",
    "    article = []\n",
    "    quote_list = []\n",
    "    \n",
    "    open_quote = \"“\"\n",
    "    close_quote = \"”\"\n",
    "    \n",
    "    close_split = document.split(close_quote)\n",
    "    \n",
    "    for string in close_split:\n",
    "\n",
    "        quote = string.split(open_quote)\n",
    "        article.append(quote.pop(0))\n",
    "        quote_list += quote\n",
    "    \n",
    "    article = \" \".join(article)\n",
    "    quotation = \" \".join(quote_list)\n",
    "    \n",
    "    return(article)"
   ]
  },
  {
   "cell_type": "code",
   "execution_count": 85,
   "metadata": {},
   "outputs": [],
   "source": [
    "df_list_auto = []\n",
    "for num in range(2017,2021):\n",
    "    df_list_auto.append(f'/Users/djbetts/Desktop/opinion_classifier/data/archive/raw_{num}.csv')"
   ]
  },
  {
   "cell_type": "code",
   "execution_count": 86,
   "metadata": {},
   "outputs": [
    {
     "data": {
      "text/plain": [
       "['/Users/djbetts/Desktop/opinion_classifier/data/archive/raw_2017.csv',\n",
       " '/Users/djbetts/Desktop/opinion_classifier/data/archive/raw_2018.csv',\n",
       " '/Users/djbetts/Desktop/opinion_classifier/data/archive/raw_2019.csv',\n",
       " '/Users/djbetts/Desktop/opinion_classifier/data/archive/raw_2020.csv']"
      ]
     },
     "execution_count": 86,
     "metadata": {},
     "output_type": "execute_result"
    }
   ],
   "source": [
    "df_list_auto"
   ]
  },
  {
   "cell_type": "code",
   "execution_count": 92,
   "metadata": {},
   "outputs": [],
   "source": [
    "files = []\n",
    "for file in df_list_auto:\n",
    "    df = printed_file(file)\n",
    "    files.append(df)\n",
    "    "
   ]
  },
  {
   "cell_type": "code",
   "execution_count": 98,
   "metadata": {},
   "outputs": [],
   "source": [
    "data = pd.concat(files)"
   ]
  },
  {
   "cell_type": "code",
   "execution_count": 99,
   "metadata": {},
   "outputs": [
    {
     "data": {
      "text/plain": [
       "Index(['lead_paragraph', 'keywords', 'pub_date', 'type_of_material',\n",
       "       'print_page', 'text'],\n",
       "      dtype='object')"
      ]
     },
     "execution_count": 99,
     "metadata": {},
     "output_type": "execute_result"
    }
   ],
   "source": [
    "data.columns"
   ]
  },
  {
   "cell_type": "code",
   "execution_count": 100,
   "metadata": {},
   "outputs": [
    {
     "name": "stdout",
     "output_type": "stream",
     "text": [
      "CPU times: user 10 ms, sys: 1.4 ms, total: 11.4 ms\n",
      "Wall time: 10.8 ms\n"
     ]
    }
   ],
   "source": [
    "%%time\n",
    "df = data.copy()"
   ]
  },
  {
   "cell_type": "code",
   "execution_count": 101,
   "metadata": {},
   "outputs": [
    {
     "data": {
      "text/plain": [
       "(121876, 6)"
      ]
     },
     "execution_count": 101,
     "metadata": {},
     "output_type": "execute_result"
    }
   ],
   "source": [
    "df.shape"
   ]
  },
  {
   "cell_type": "code",
   "execution_count": 102,
   "metadata": {},
   "outputs": [],
   "source": [
    "df = printed_df(df)"
   ]
  },
  {
   "cell_type": "code",
   "execution_count": 103,
   "metadata": {},
   "outputs": [
    {
     "data": {
      "text/html": [
       "<div>\n",
       "<style scoped>\n",
       "    .dataframe tbody tr th:only-of-type {\n",
       "        vertical-align: middle;\n",
       "    }\n",
       "\n",
       "    .dataframe tbody tr th {\n",
       "        vertical-align: top;\n",
       "    }\n",
       "\n",
       "    .dataframe thead th {\n",
       "        text-align: right;\n",
       "    }\n",
       "</style>\n",
       "<table border=\"1\" class=\"dataframe\">\n",
       "  <thead>\n",
       "    <tr style=\"text-align: right;\">\n",
       "      <th></th>\n",
       "      <th>print_page</th>\n",
       "      <th>pub_date</th>\n",
       "      <th>keywords</th>\n",
       "      <th>type_of_material</th>\n",
       "      <th>lead_paragraph</th>\n",
       "      <th>text</th>\n",
       "    </tr>\n",
       "    <tr>\n",
       "      <th>_id</th>\n",
       "      <th></th>\n",
       "      <th></th>\n",
       "      <th></th>\n",
       "      <th></th>\n",
       "      <th></th>\n",
       "      <th></th>\n",
       "    </tr>\n",
       "  </thead>\n",
       "  <tbody>\n",
       "    <tr>\n",
       "      <th>nyt://article/92f2b7e3-3bfe-5c93-a594-98f2d05f67f1</th>\n",
       "      <td>18</td>\n",
       "      <td>2017-03-01T00:43:00+0000</td>\n",
       "      <td>[{'name': 'organizations', 'value': 'Republica...</td>\n",
       "      <td>News</td>\n",
       "      <td>WASHINGTON — Congressional Republicans, racked...</td>\n",
       "      <td>WASHINGTON — Congressional Republicans, racked...</td>\n",
       "    </tr>\n",
       "    <tr>\n",
       "      <th>nyt://article/95c25931-04d1-5524-96e9-39261ed45ca5</th>\n",
       "      <td>3</td>\n",
       "      <td>2017-03-01T00:45:29+0000</td>\n",
       "      <td>[{'name': 'organizations', 'value': 'Arconic I...</td>\n",
       "      <td>News</td>\n",
       "      <td>Arconic, the aerospace and automotive parts ma...</td>\n",
       "      <td>Arconic, the aerospace and automotive parts ma...</td>\n",
       "    </tr>\n",
       "    <tr>\n",
       "      <th>nyt://article/12d4f10c-0886-586b-ae39-b25d8a6b368c</th>\n",
       "      <td>10</td>\n",
       "      <td>2017-03-01T00:46:46+0000</td>\n",
       "      <td>[{'name': 'persons', 'value': 'Obama, Barack',...</td>\n",
       "      <td>News</td>\n",
       "      <td>PARIS — Many voters in France cannot identify ...</td>\n",
       "      <td>PARIS — Many voters in France cannot identify ...</td>\n",
       "    </tr>\n",
       "    <tr>\n",
       "      <th>nyt://article/6f3892d1-33c7-57f8-9b5b-464184e8d676</th>\n",
       "      <td>21</td>\n",
       "      <td>2017-03-01T01:00:05+0000</td>\n",
       "      <td>[{'name': 'glocations', 'value': 'Second Avenu...</td>\n",
       "      <td>News</td>\n",
       "      <td>Dear Diary:</td>\n",
       "      <td>Dear Diary:Many years ago, while visiting my b...</td>\n",
       "    </tr>\n",
       "    <tr>\n",
       "      <th>nyt://article/8f577a28-5b4d-5af6-8631-caa3861a5748</th>\n",
       "      <td>3</td>\n",
       "      <td>2017-03-01T01:06:03+0000</td>\n",
       "      <td>[{'name': 'subject', 'value': 'Extraordinary R...</td>\n",
       "      <td>News</td>\n",
       "      <td>ROME — A 10-year legal battle over the “extrao...</td>\n",
       "      <td>ROME — A 10-year legal battle over the “extrao...</td>\n",
       "    </tr>\n",
       "  </tbody>\n",
       "</table>\n",
       "</div>"
      ],
      "text/plain": [
       "                                                   print_page  \\\n",
       "_id                                                             \n",
       "nyt://article/92f2b7e3-3bfe-5c93-a594-98f2d05f67f1         18   \n",
       "nyt://article/95c25931-04d1-5524-96e9-39261ed45ca5          3   \n",
       "nyt://article/12d4f10c-0886-586b-ae39-b25d8a6b368c         10   \n",
       "nyt://article/6f3892d1-33c7-57f8-9b5b-464184e8d676         21   \n",
       "nyt://article/8f577a28-5b4d-5af6-8631-caa3861a5748          3   \n",
       "\n",
       "                                                                    pub_date  \\\n",
       "_id                                                                            \n",
       "nyt://article/92f2b7e3-3bfe-5c93-a594-98f2d05f67f1  2017-03-01T00:43:00+0000   \n",
       "nyt://article/95c25931-04d1-5524-96e9-39261ed45ca5  2017-03-01T00:45:29+0000   \n",
       "nyt://article/12d4f10c-0886-586b-ae39-b25d8a6b368c  2017-03-01T00:46:46+0000   \n",
       "nyt://article/6f3892d1-33c7-57f8-9b5b-464184e8d676  2017-03-01T01:00:05+0000   \n",
       "nyt://article/8f577a28-5b4d-5af6-8631-caa3861a5748  2017-03-01T01:06:03+0000   \n",
       "\n",
       "                                                                                             keywords  \\\n",
       "_id                                                                                                     \n",
       "nyt://article/92f2b7e3-3bfe-5c93-a594-98f2d05f67f1  [{'name': 'organizations', 'value': 'Republica...   \n",
       "nyt://article/95c25931-04d1-5524-96e9-39261ed45ca5  [{'name': 'organizations', 'value': 'Arconic I...   \n",
       "nyt://article/12d4f10c-0886-586b-ae39-b25d8a6b368c  [{'name': 'persons', 'value': 'Obama, Barack',...   \n",
       "nyt://article/6f3892d1-33c7-57f8-9b5b-464184e8d676  [{'name': 'glocations', 'value': 'Second Avenu...   \n",
       "nyt://article/8f577a28-5b4d-5af6-8631-caa3861a5748  [{'name': 'subject', 'value': 'Extraordinary R...   \n",
       "\n",
       "                                                   type_of_material  \\\n",
       "_id                                                                   \n",
       "nyt://article/92f2b7e3-3bfe-5c93-a594-98f2d05f67f1             News   \n",
       "nyt://article/95c25931-04d1-5524-96e9-39261ed45ca5             News   \n",
       "nyt://article/12d4f10c-0886-586b-ae39-b25d8a6b368c             News   \n",
       "nyt://article/6f3892d1-33c7-57f8-9b5b-464184e8d676             News   \n",
       "nyt://article/8f577a28-5b4d-5af6-8631-caa3861a5748             News   \n",
       "\n",
       "                                                                                       lead_paragraph  \\\n",
       "_id                                                                                                     \n",
       "nyt://article/92f2b7e3-3bfe-5c93-a594-98f2d05f67f1  WASHINGTON — Congressional Republicans, racked...   \n",
       "nyt://article/95c25931-04d1-5524-96e9-39261ed45ca5  Arconic, the aerospace and automotive parts ma...   \n",
       "nyt://article/12d4f10c-0886-586b-ae39-b25d8a6b368c  PARIS — Many voters in France cannot identify ...   \n",
       "nyt://article/6f3892d1-33c7-57f8-9b5b-464184e8d676                                        Dear Diary:   \n",
       "nyt://article/8f577a28-5b4d-5af6-8631-caa3861a5748  ROME — A 10-year legal battle over the “extrao...   \n",
       "\n",
       "                                                                                                 text  \n",
       "_id                                                                                                    \n",
       "nyt://article/92f2b7e3-3bfe-5c93-a594-98f2d05f67f1  WASHINGTON — Congressional Republicans, racked...  \n",
       "nyt://article/95c25931-04d1-5524-96e9-39261ed45ca5  Arconic, the aerospace and automotive parts ma...  \n",
       "nyt://article/12d4f10c-0886-586b-ae39-b25d8a6b368c  PARIS — Many voters in France cannot identify ...  \n",
       "nyt://article/6f3892d1-33c7-57f8-9b5b-464184e8d676  Dear Diary:Many years ago, while visiting my b...  \n",
       "nyt://article/8f577a28-5b4d-5af6-8631-caa3861a5748  ROME — A 10-year legal battle over the “extrao...  "
      ]
     },
     "execution_count": 103,
     "metadata": {},
     "output_type": "execute_result"
    }
   ],
   "source": [
    "df.head()"
   ]
  },
  {
   "cell_type": "code",
   "execution_count": 104,
   "metadata": {},
   "outputs": [
    {
     "data": {
      "text/plain": [
       "'WASHINGTON — Congressional Republicans, racked by divisions over health care, taxes and spending, are increasingly desperate for leadership from the White House to unite the party and point the way toward consensus.But presidential leadership does not appear to be forthcoming, leaving the party largely paralyzed at a moment it had thought would be full of legislative activity.“The White House is huge,” said Senator John Thune, Republican of South Dakota. “The president is the only person who can sign a bill into law, so he’s the guy that ultimately holds the whip hand when it comes to this getting done.”As congressional leaders struggle to clear the first major legislative hurdle of the Trump era — a bill to repeal and replace the Affordable Care Act — their talks with the White House, though not infrequent, have failed to advance any coherent, cohesive policy prescription. Repealing the health care law is the Republicans’ first step toward enacting their broader agenda.So far, President Trump, seeking to project an image of a man of action, has preferred attention-grabbing executive actions over closed-door engagement with Congress.In the absence of presidential leadership, the most fiscally conservative House Republicans have stepped forward to demand that the health care law be whittled to near nothingness. More moderate senators are insisting on a replacement plan with many of the current law’s popular components.Both sides are pressing hard to sway lawmakers working on draft legislation that would roll back the Affordable Care Act’s expansion of Medicaid, replace the subsidies offered in the insurance marketplaces with tax credits to buy coverage, and eliminate tax penalties for people who do not have health insurance.After weeks of loud protests across the country from voters who are fearful of losing their health care, Republican governors complicated matters further this week by joining Democrats in a call for a replacement plan that would ensure coverage for the 20 million Americans who gained insurance under the Affordable Care Act.“I’d like to hear a renewed commitment to repealing the law,” said Senator Mike Lee, Republican of Utah — another sign of just how far the party is from unity.Democrats, who have been dismissed as obstructionists by Republicans determined to repeal and replace the law without them, are sitting by quietly waiting for those efforts to fail. At that point, Democrats believe, Republicans will have to reach across the aisle and repair the law.“We’ve maintained all along there is room to negotiate,” said Senator Brian Schatz, Democrat of Hawaii. “But only if they abandon their attempt to repeal the law.”While he has seen no moves toward cooperation yet, “they are in a world of hurt,” Mr. Schatz said of Republicans, “because none of their plans add up, and their members are starting to figure this out and the public is starting to figure this out, and they don’t have Obama as a foil anymore. I think they need to fail first.”Senator Claire McCaskill, Democrat of Missouri, who has long offered to help fix the law, said she had heard from only one Republican colleague, Senator Bob Corker of Tennessee, since the end of last year. “I don’t think Republicans have decided what they’re waiting for,” she said. “The White House or Godot.”Many Republicans seem to be resigned to seeking consensus on health care legislation, as well as on a budget and tax reform, without comprehensive White House guidance.Representative Michael McCaul, Republican of Texas and the chairman of the House Homeland Security Committee, said he was relying less on a signal from Mr. Trump than on behind-the-scenes discussions between lawmakers and the administration to “get the details filled in.”Those details include how Mr. Trump plans to fund his call for a 10 percent increase in military spending, Mr. McCaul said. “From a budget standpoint, these numbers are difficult to crunch,” he said. “We as Republicans want a stronger national defense. That money’s got to come from someplace. That’s where the hard decisions have to be made.”Mr. Trump’s aversion to making big changes to two of the costliest government programs, Medicare and Social Security — something Republicans generally crave — is not helping matters. “That makes it even more difficult,” Mr. McCaul said.The president’s budget outline, unveiled this week, has something for almost every Republican to hate, from the lack of so-called entitlement reform to large proposed cuts at the State Department.“Speaking for myself,” said Senator Mitch McConnell of Kentucky, the Republican leader, “I think the diplomatic portion of the federal budget is very important, and you get results a lot cheaper, frequently, than you do on the defense side. So, speaking for myself, I’m not in favor” of huge reductions at the State Department.Senator Lindsey Graham, Republican of South Carolina, called those cuts “dead in the water” for him.Many of Mr. Trump’s direct contributions to the legislative process have happened through the news media, as he has signaled his priorities in interviews that have sometimes left congressional Republicans scrambling to decipher his intentions.Representative Eric Swalwell, Democrat of California, said some of his Republican colleagues were frustrated by their inability to move forward. “They’re reading about what he wants to do at the same time I am in the paper,” he said.Six weeks after Mr. Trump said Republicans would provide a replacement plan for the Affordable Care Act that offered “insurance for everybody,” Speaker Paul D. Ryan of Wisconsin is fighting to reconcile his party’s competing priorities while also contending with the occasional messaging complication from the White House.“This is a plan that we are all working on together: the House, the Senate, the White House,” Mr. Ryan said Tuesday. “We’re all working on this together with the administration.”'"
      ]
     },
     "execution_count": 104,
     "metadata": {},
     "output_type": "execute_result"
    }
   ],
   "source": [
    "df.text.iloc[0]"
   ]
  },
  {
   "cell_type": "code",
   "execution_count": 105,
   "metadata": {},
   "outputs": [
    {
     "data": {
      "text/plain": [
       "print_page                                                         18\n",
       "pub_date                                     2017-03-01T00:43:00+0000\n",
       "keywords            [{'name': 'organizations', 'value': 'Republica...\n",
       "type_of_material                                                 News\n",
       "lead_paragraph      WASHINGTON — Congressional Republicans, racked...\n",
       "text                WASHINGTON — Congressional Republicans, racked...\n",
       "Name: nyt://article/92f2b7e3-3bfe-5c93-a594-98f2d05f67f1, dtype: object"
      ]
     },
     "execution_count": 105,
     "metadata": {},
     "output_type": "execute_result"
    }
   ],
   "source": [
    "last_check_before_split = (df.iloc[0])\n",
    "last_check_before_split"
   ]
  },
  {
   "cell_type": "code",
   "execution_count": 106,
   "metadata": {},
   "outputs": [
    {
     "name": "stdout",
     "output_type": "stream",
     "text": [
      "News: 113679 Oped: 8197, Total: 121876, Op-Ed 0.07 of total\n"
     ]
    },
    {
     "data": {
      "image/png": "[encoded data removed]",
      "text/plain": [
       "<Figure size 432x288 with 1 Axes>"
      ]
     },
     "metadata": {},
     "output_type": "display_data"
    }
   ],
   "source": [
    "oped_v_news(df)"
   ]
  },
  {
   "cell_type": "markdown",
   "metadata": {},
   "source": [
    "# drop na"
   ]
  },
  {
   "cell_type": "code",
   "execution_count": 107,
   "metadata": {},
   "outputs": [
    {
     "data": {
      "text/plain": [
       "(121876, 6)"
      ]
     },
     "execution_count": 107,
     "metadata": {},
     "output_type": "execute_result"
    }
   ],
   "source": [
    "df.shape"
   ]
  },
  {
   "cell_type": "code",
   "execution_count": 108,
   "metadata": {},
   "outputs": [],
   "source": [
    "df = df.dropna()"
   ]
  },
  {
   "cell_type": "code",
   "execution_count": 109,
   "metadata": {},
   "outputs": [
    {
     "data": {
      "text/plain": [
       "(121601, 6)"
      ]
     },
     "execution_count": 109,
     "metadata": {},
     "output_type": "execute_result"
    }
   ],
   "source": [
    "df.shape"
   ]
  },
  {
   "cell_type": "markdown",
   "metadata": {},
   "source": [
    "# X, y"
   ]
  },
  {
   "cell_type": "code",
   "execution_count": 110,
   "metadata": {},
   "outputs": [],
   "source": [
    "#define X. X is currently pandas series of unsplit strings\n",
    "X = df.text"
   ]
  },
  {
   "cell_type": "code",
   "execution_count": 111,
   "metadata": {},
   "outputs": [],
   "source": [
    "#turn series into list...\n",
    "corpus = list(X)"
   ]
  },
  {
   "cell_type": "code",
   "execution_count": 112,
   "metadata": {},
   "outputs": [
    {
     "data": {
      "text/plain": [
       "'WASHINGTON — Congressional Republicans, racked by divisions over health care, taxes and spending, are increasingly desperate for leadership from the White House to unite the party and point the way toward consensus.But presidential leadership does not appear to be forthcoming, leaving the party largely paralyzed at a moment it had thought would be full of legislative activity.“The White House is huge,” said Senator John Thune, Republican of South Dakota. “The president is the only person who can sign a bill into law, so he’s the guy that ultimately holds the whip hand when it comes to this getting done.”As congressional leaders struggle to clear the first major legislative hurdle of the Trump era — a bill to repeal and replace the Affordable Care Act — their talks with the White House, though not infrequent, have failed to advance any coherent, cohesive policy prescription. Repealing the health care law is the Republicans’ first step toward enacting their broader agenda.So far, President Trump, seeking to project an image of a man of action, has preferred attention-grabbing executive actions over closed-door engagement with Congress.In the absence of presidential leadership, the most fiscally conservative House Republicans have stepped forward to demand that the health care law be whittled to near nothingness. More moderate senators are insisting on a replacement plan with many of the current law’s popular components.Both sides are pressing hard to sway lawmakers working on draft legislation that would roll back the Affordable Care Act’s expansion of Medicaid, replace the subsidies offered in the insurance marketplaces with tax credits to buy coverage, and eliminate tax penalties for people who do not have health insurance.After weeks of loud protests across the country from voters who are fearful of losing their health care, Republican governors complicated matters further this week by joining Democrats in a call for a replacement plan that would ensure coverage for the 20 million Americans who gained insurance under the Affordable Care Act.“I’d like to hear a renewed commitment to repealing the law,” said Senator Mike Lee, Republican of Utah — another sign of just how far the party is from unity.Democrats, who have been dismissed as obstructionists by Republicans determined to repeal and replace the law without them, are sitting by quietly waiting for those efforts to fail. At that point, Democrats believe, Republicans will have to reach across the aisle and repair the law.“We’ve maintained all along there is room to negotiate,” said Senator Brian Schatz, Democrat of Hawaii. “But only if they abandon their attempt to repeal the law.”While he has seen no moves toward cooperation yet, “they are in a world of hurt,” Mr. Schatz said of Republicans, “because none of their plans add up, and their members are starting to figure this out and the public is starting to figure this out, and they don’t have Obama as a foil anymore. I think they need to fail first.”Senator Claire McCaskill, Democrat of Missouri, who has long offered to help fix the law, said she had heard from only one Republican colleague, Senator Bob Corker of Tennessee, since the end of last year. “I don’t think Republicans have decided what they’re waiting for,” she said. “The White House or Godot.”Many Republicans seem to be resigned to seeking consensus on health care legislation, as well as on a budget and tax reform, without comprehensive White House guidance.Representative Michael McCaul, Republican of Texas and the chairman of the House Homeland Security Committee, said he was relying less on a signal from Mr. Trump than on behind-the-scenes discussions between lawmakers and the administration to “get the details filled in.”Those details include how Mr. Trump plans to fund his call for a 10 percent increase in military spending, Mr. McCaul said. “From a budget standpoint, these numbers are difficult to crunch,” he said. “We as Republicans want a stronger national defense. That money’s got to come from someplace. That’s where the hard decisions have to be made.”Mr. Trump’s aversion to making big changes to two of the costliest government programs, Medicare and Social Security — something Republicans generally crave — is not helping matters. “That makes it even more difficult,” Mr. McCaul said.The president’s budget outline, unveiled this week, has something for almost every Republican to hate, from the lack of so-called entitlement reform to large proposed cuts at the State Department.“Speaking for myself,” said Senator Mitch McConnell of Kentucky, the Republican leader, “I think the diplomatic portion of the federal budget is very important, and you get results a lot cheaper, frequently, than you do on the defense side. So, speaking for myself, I’m not in favor” of huge reductions at the State Department.Senator Lindsey Graham, Republican of South Carolina, called those cuts “dead in the water” for him.Many of Mr. Trump’s direct contributions to the legislative process have happened through the news media, as he has signaled his priorities in interviews that have sometimes left congressional Republicans scrambling to decipher his intentions.Representative Eric Swalwell, Democrat of California, said some of his Republican colleagues were frustrated by their inability to move forward. “They’re reading about what he wants to do at the same time I am in the paper,” he said.Six weeks after Mr. Trump said Republicans would provide a replacement plan for the Affordable Care Act that offered “insurance for everybody,” Speaker Paul D. Ryan of Wisconsin is fighting to reconcile his party’s competing priorities while also contending with the occasional messaging complication from the White House.“This is a plan that we are all working on together: the House, the Senate, the White House,” Mr. Ryan said Tuesday. “We’re all working on this together with the administration.”'"
      ]
     },
     "execution_count": 112,
     "metadata": {},
     "output_type": "execute_result"
    }
   ],
   "source": [
    "corpus[0]"
   ]
  },
  {
   "cell_type": "code",
   "execution_count": 113,
   "metadata": {},
   "outputs": [],
   "source": [
    "# define y as a series of op-ed or news\n",
    "y = df.type_of_material"
   ]
  },
  {
   "cell_type": "code",
   "execution_count": 114,
   "metadata": {},
   "outputs": [
    {
     "data": {
      "text/plain": [
       "_id\n",
       "nyt://article/92f2b7e3-3bfe-5c93-a594-98f2d05f67f1    0\n",
       "nyt://article/95c25931-04d1-5524-96e9-39261ed45ca5    0\n",
       "nyt://article/12d4f10c-0886-586b-ae39-b25d8a6b368c    0\n",
       "nyt://article/6f3892d1-33c7-57f8-9b5b-464184e8d676    0\n",
       "nyt://article/8f577a28-5b4d-5af6-8631-caa3861a5748    0\n",
       "                                                     ..\n",
       "nyt://article/a4383433-5708-530c-bf78-2ec5ee0d96cd    0\n",
       "nyt://article/aff30fb5-0177-5fed-b8b5-55656f2672f6    0\n",
       "nyt://article/d67ea079-eaf8-5e69-a77c-3138a3fc91cb    0\n",
       "nyt://article/5af20a48-6f66-5bae-a9fd-948268ed38cf    0\n",
       "nyt://article/3aea061c-d11a-53d1-8480-c0b163740360    0\n",
       "Name: type_of_material, Length: 121601, dtype: int64"
      ]
     },
     "execution_count": 114,
     "metadata": {},
     "output_type": "execute_result"
    }
   ],
   "source": [
    "vectorize_y_ser(y)"
   ]
  },
  {
   "cell_type": "code",
   "execution_count": 115,
   "metadata": {},
   "outputs": [
    {
     "name": "stdout",
     "output_type": "stream",
     "text": [
      "CPU times: user 29.1 ms, sys: 1.54 ms, total: 30.7 ms\n",
      "Wall time: 29.5 ms\n"
     ]
    }
   ],
   "source": [
    "%%time\n",
    "# vectorize y in to (1, 0) (op-ed, news)\n",
    "y = vectorize_y_ser(y)"
   ]
  },
  {
   "cell_type": "code",
   "execution_count": 116,
   "metadata": {},
   "outputs": [
    {
     "data": {
      "text/plain": [
       "0    113415\n",
       "1      8186\n",
       "Name: type_of_material, dtype: int64"
      ]
     },
     "execution_count": 116,
     "metadata": {},
     "output_type": "execute_result"
    }
   ],
   "source": [
    "y.value_counts()"
   ]
  },
  {
   "cell_type": "code",
   "execution_count": 117,
   "metadata": {},
   "outputs": [
    {
     "data": {
      "text/plain": [
       "(121601,)"
      ]
     },
     "execution_count": 117,
     "metadata": {},
     "output_type": "execute_result"
    }
   ],
   "source": [
    "y.shape\n",
    "X.shape"
   ]
  },
  {
   "cell_type": "markdown",
   "metadata": {},
   "source": [
    "# remove stop words"
   ]
  },
  {
   "cell_type": "markdown",
   "metadata": {},
   "source": [
    "# stemming/lemmatization"
   ]
  },
  {
   "cell_type": "code",
   "execution_count": 118,
   "metadata": {},
   "outputs": [],
   "source": [
    "snowball = SnowballStemmer('english')\n",
    "wordnet = WordNetLemmatizer()"
   ]
  },
  {
   "cell_type": "code",
   "execution_count": 119,
   "metadata": {},
   "outputs": [],
   "source": [
    "# %%time\n",
    "# def snowball_tokenize(doc):\n",
    "#     snowball = SnowballStemmer('english')\n",
    "#     return [snowball.stem(word) for word in word_tokenize(doc.lower())]"
   ]
  },
  {
   "cell_type": "code",
   "execution_count": 120,
   "metadata": {},
   "outputs": [
    {
     "name": "stdout",
     "output_type": "stream",
     "text": [
      "CPU times: user 3 µs, sys: 1 µs, total: 4 µs\n",
      "Wall time: 5.96 µs\n"
     ]
    }
   ],
   "source": [
    "%%time\n",
    "def wordnet_tokenize(doc):\n",
    "    wordnet = WordNetLemmatizer()\n",
    "    return  [wordnet.lemmatize(word) for word in word_tokenize(doc.lower())]"
   ]
  },
  {
   "cell_type": "markdown",
   "metadata": {},
   "source": [
    "# vectorizer"
   ]
  },
  {
   "cell_type": "markdown",
   "metadata": {},
   "source": [
    "# WORDNET tfidf"
   ]
  },
  {
   "cell_type": "code",
   "execution_count": 121,
   "metadata": {},
   "outputs": [],
   "source": [
    "import string"
   ]
  },
  {
   "cell_type": "code",
   "execution_count": 122,
   "metadata": {},
   "outputs": [
    {
     "name": "stdout",
     "output_type": "stream",
     "text": [
      "!\"#$%&'()*+,-./:;<=>?@[\\]^_`{|}~\n",
      "!\"#$%&'()*+,-./:;<=>?@[\\]^_`{|}~\n"
     ]
    }
   ],
   "source": [
    "print(string.punctuation)\n",
    "print('!\"#$%&\\'()*+,-./:;<=>?@[\\\\]^_`{|}~')"
   ]
  },
  {
   "cell_type": "code",
   "execution_count": 123,
   "metadata": {},
   "outputs": [],
   "source": [
    "# nytimes_quotes = \"”“\"\n",
    "# nytimes_punctuation = \"—’\""
   ]
  },
  {
   "cell_type": "code",
   "execution_count": 124,
   "metadata": {},
   "outputs": [],
   "source": [
    "#function that removes string.punctuation w/out the '?'\n",
    "def punc_strip(document):\n",
    "    for char in document:\n",
    "        if char in '!\"#$%&\\'()*+—,-./:;<=>?@[\\\\]^_`{|}~':\n",
    "            document = document.replace(char, \" \")\n",
    "        if char == '’':\n",
    "            document = document.replace(char, \"\")\n",
    "    return document"
   ]
  },
  {
   "cell_type": "code",
   "execution_count": 125,
   "metadata": {},
   "outputs": [],
   "source": [
    "stop_words_nlp = ['isn']"
   ]
  },
  {
   "cell_type": "code",
   "execution_count": 126,
   "metadata": {},
   "outputs": [],
   "source": [
    "alphabet = ['a','b','c','d','e','f','g','h','i','j','k','l','m','n','o','p','q','r','s','t','u','v','w','x','y','z']"
   ]
  },
  {
   "cell_type": "code",
   "execution_count": 127,
   "metadata": {},
   "outputs": [],
   "source": [
    "stop_words = alphabet# + stop_words_nlp"
   ]
  },
  {
   "cell_type": "code",
   "execution_count": 128,
   "metadata": {},
   "outputs": [
    {
     "name": "stdout",
     "output_type": "stream",
     "text": [
      "CPU times: user 7.36 ms, sys: 1.08 ms, total: 8.44 ms\n",
      "Wall time: 8.41 ms\n"
     ]
    }
   ],
   "source": [
    "%%time\n",
    "#create vectorizer\n",
    "\n",
    "vectorizer = TfidfVectorizer(#input='content', \n",
    "#                 encoding='utf-8', \n",
    "#                 decode_error='strict', \n",
    "#                 strip_accents='ascii', \n",
    "#                 lowercase=True, \n",
    "                 preprocessor=punc_strip, \n",
    "                 tokenizer=wordnet_tokenize, \n",
    "#                 analyzer='word', \n",
    "                 stop_words=stop_words,\n",
    "#                 token_pattern='(?u)\\b\\w\\w+\\b', \n",
    "#                 ngram_range=(1, 2), \n",
    "                 max_df=0.85, \n",
    "                 min_df=0.1, \n",
    "                 max_features=None, \n",
    "#                 vocabulary=None, \n",
    "#                 binary=False, \n",
    "#                 dtype=<class 'numpy.float64'>, \n",
    "#                 norm='l2', \n",
    "#                 use_idf=True, \n",
    "#                 smooth_idf=True, \n",
    "#                 sublinear_tf=False\n",
    ")"
   ]
  },
  {
   "cell_type": "markdown",
   "metadata": {},
   "source": [
    "# test, train, split"
   ]
  },
  {
   "cell_type": "code",
   "execution_count": 129,
   "metadata": {},
   "outputs": [],
   "source": [
    "#test, train, split"
   ]
  },
  {
   "cell_type": "code",
   "execution_count": 130,
   "metadata": {},
   "outputs": [
    {
     "name": "stdout",
     "output_type": "stream",
     "text": [
      "(91200,) (30401,) (91200,) (30401,)\n",
      "CPU times: user 15min 32s, sys: 11.3 s, total: 15min 43s\n",
      "Wall time: 15min 49s\n"
     ]
    }
   ],
   "source": [
    "%%time\n",
    "#test, train, split\n",
    "X_train, X_test, y_train, y_test = train_test_split(X, y, random_state=50)\n",
    "print(X_train.shape, X_test.shape, y_train.shape, y_test.shape)\n",
    "\n",
    "X_train = vectorizer.fit_transform(X_train)\n",
    "\n",
    "X_test = vectorizer.transform(X_test)"
   ]
  },
  {
   "cell_type": "code",
   "execution_count": 131,
   "metadata": {},
   "outputs": [
    {
     "data": {
      "text/plain": [
       "(91200, 835)"
      ]
     },
     "execution_count": 131,
     "metadata": {},
     "output_type": "execute_result"
    }
   ],
   "source": [
    "X_train.shape"
   ]
  },
  {
   "cell_type": "code",
   "execution_count": 132,
   "metadata": {},
   "outputs": [
    {
     "data": {
      "text/plain": [
       "(30401, 835)"
      ]
     },
     "execution_count": 132,
     "metadata": {},
     "output_type": "execute_result"
    }
   ],
   "source": [
    "X_test.shape"
   ]
  },
  {
   "cell_type": "markdown",
   "metadata": {},
   "source": [
    "# count vectorizer"
   ]
  },
  {
   "cell_type": "code",
   "execution_count": 133,
   "metadata": {},
   "outputs": [],
   "source": [
    "# count_vectorizer = CountVectorizer(strip_accents='None',\n",
    "#                                    lowercase=True,\n",
    "#                                    tokenizer=snowball_tokenize,\n",
    "#                                    stop_words='english',\n",
    "#                                    max_features=None)"
   ]
  },
  {
   "cell_type": "markdown",
   "metadata": {},
   "source": [
    "# balance classes"
   ]
  },
  {
   "cell_type": "code",
   "execution_count": 134,
   "metadata": {},
   "outputs": [
    {
     "name": "stdout",
     "output_type": "stream",
     "text": [
      "[(0, 6141), (1, 6141)]\n",
      "RandomUnderSampler(random_state=0)\n",
      "CPU times: user 46.1 ms, sys: 6.42 ms, total: 52.5 ms\n",
      "Wall time: 51.3 ms\n"
     ]
    }
   ],
   "source": [
    "%%time\n",
    "#balance the classes\n",
    "\n",
    "from imblearn.under_sampling import RandomUnderSampler\n",
    "rus = RandomUnderSampler(random_state=0)\n",
    "\n",
    "#X, y --> X_resampled, y_resampled\n",
    "X_resampled, y_resampled = rus.fit_resample(X_train, y_train)\n",
    "print(sorted(Counter(y_resampled).items()))\n",
    "print(rus)"
   ]
  },
  {
   "cell_type": "markdown",
   "metadata": {},
   "source": [
    "# random forest classifier"
   ]
  },
  {
   "cell_type": "code",
   "execution_count": 135,
   "metadata": {},
   "outputs": [
    {
     "name": "stdout",
     "output_type": "stream",
     "text": [
      "2021-01-12 11:01:08.833504\n",
      "CPU times: user 519 µs, sys: 59 µs, total: 578 µs\n",
      "Wall time: 564 µs\n"
     ]
    }
   ],
   "source": [
    "%%time\n",
    "print(datetime.datetime.now())\n",
    "rf_clf = RandomForestClassifier(max_depth=2, random_state=0)"
   ]
  },
  {
   "cell_type": "code",
   "execution_count": 136,
   "metadata": {},
   "outputs": [
    {
     "data": {
      "text/plain": [
       "(30401,)"
      ]
     },
     "execution_count": 136,
     "metadata": {},
     "output_type": "execute_result"
    }
   ],
   "source": [
    "rf_clf.fit(X_resampled, y_resampled)\n",
    "y_pred = rf_clf.predict(X_test)\n",
    "y_pred.shape"
   ]
  },
  {
   "cell_type": "markdown",
   "metadata": {},
   "source": [
    "### metrics y_pred"
   ]
  },
  {
   "cell_type": "code",
   "execution_count": 137,
   "metadata": {},
   "outputs": [],
   "source": [
    "tn, fp, fn, tp = confusion_matrix(y_true = y_test, y_pred = y_pred).ravel()"
   ]
  },
  {
   "cell_type": "code",
   "execution_count": 138,
   "metadata": {},
   "outputs": [
    {
     "name": "stdout",
     "output_type": "stream",
     "text": [
      "(30401,)\n",
      "(30401,)\n"
     ]
    }
   ],
   "source": [
    "print(y_test.shape)\n",
    "print(y_pred.shape)"
   ]
  },
  {
   "cell_type": "code",
   "execution_count": 139,
   "metadata": {},
   "outputs": [
    {
     "name": "stdout",
     "output_type": "stream",
     "text": [
      "Accuracy: 0.88\n",
      "Recall: 0.89\n",
      "Precision: 0.34\n",
      "TN:24856 FP:3500 FN:217 TP:1828\n"
     ]
    },
    {
     "data": {
      "text/plain": [
       "(0.8777342850564126, 0.8938875305623472, 0.3430930930930931)"
      ]
     },
     "execution_count": 139,
     "metadata": {},
     "output_type": "execute_result"
    }
   ],
   "source": [
    "metrics_(tn, fp, fn, tp)"
   ]
  },
  {
   "cell_type": "code",
   "execution_count": 140,
   "metadata": {},
   "outputs": [
    {
     "data": {
      "image/png": "[encoded data removed]",
      "text/plain": [
       "<Figure size 432x288 with 2 Axes>"
      ]
     },
     "metadata": {},
     "output_type": "display_data"
    }
   ],
   "source": [
    "class_names = [\"News\", \"Op-Ed\"]\n",
    "plot_confusion_matrix(estimator=rf_clf,\n",
    "                      X=X_test,\n",
    "                      y_true=y_test,\n",
    "                      display_labels=class_names,\n",
    "                      cmap='cividis')\n",
    "plt.savefig('img/confusion_matrix.png');"
   ]
  },
  {
   "cell_type": "markdown",
   "metadata": {},
   "source": [
    "# vectorizer parameters"
   ]
  },
  {
   "cell_type": "code",
   "execution_count": 141,
   "metadata": {},
   "outputs": [
    {
     "name": "stdout",
     "output_type": "stream",
     "text": [
      "Number of features: 835, Numbers of stop words: 338495\n",
      "analyzer: word\n",
      "binary: False\n",
      "decode_error: strict\n",
      "dtype: <class 'numpy.float64'>\n",
      "encoding: utf-8\n",
      "input: content\n",
      "lowercase: True\n",
      "max_df: 0.85\n",
      "max_features: None\n",
      "min_df: 0.1\n",
      "ngram_range: (1, 1)\n",
      "norm: l2\n",
      "preprocessor: <function punc_strip at 0x7fd25ebb67a0>\n",
      "smooth_idf: True\n",
      "stop_words: ['a', 'b', 'c', 'd', 'e', 'f', 'g', 'h', 'i', 'j', 'k', 'l', 'm', 'n', 'o', 'p', 'q', 'r', 's', 't', 'u', 'v', 'w', 'x', 'y', 'z']\n",
      "strip_accents: None\n",
      "sublinear_tf: False\n",
      "token_pattern: (?u)\\b\\w\\w+\\b\n",
      "tokenizer: <function wordnet_tokenize at 0x7fd25ebb6b00>\n",
      "use_idf: True\n",
      "vocabulary: None\n"
     ]
    }
   ],
   "source": [
    "vectorizer_parameters(vectorizer)"
   ]
  },
  {
   "cell_type": "markdown",
   "metadata": {},
   "source": [
    "# important features"
   ]
  },
  {
   "cell_type": "markdown",
   "metadata": {},
   "source": [
    "### feature imporance"
   ]
  },
  {
   "cell_type": "code",
   "execution_count": 142,
   "metadata": {
    "scrolled": true
   },
   "outputs": [
    {
     "name": "stdout",
     "output_type": "stream",
     "text": [
      "2021-01-12 11:01:12.337644\n",
      "CPU times: user 316 ms, sys: 16.5 ms, total: 332 ms\n",
      "Wall time: 332 ms\n"
     ]
    },
    {
     "data": {
      "image/png": "[encoded data removed]",
      "text/plain": [
       "<Figure size 1440x1080 with 1 Axes>"
      ]
     },
     "metadata": {},
     "output_type": "display_data"
    }
   ],
   "source": [
    "%%time\n",
    "print(datetime.datetime.now())\n",
    "\n",
    "feat_names = vectorizer.get_feature_names()\n",
    "feature_import = rf_clf.feature_importances_\n",
    "\n",
    "feat_scores = pd.Series(feature_import, index=feat_names)\n",
    "feat_scores = feat_scores.sort_values()\n",
    "ax = feat_scores[-10:].plot(kind='barh', figsize=(20,15))\n",
    "ax.set_title('\"Decrease in Impurity\" Importance')\n",
    "ax.set_xlabel('Average contribution to the reduction in variance')\n",
    "plt.savefig('img/feature_imporance.png');"
   ]
  },
  {
   "cell_type": "code",
   "execution_count": 143,
   "metadata": {
    "scrolled": true
   },
   "outputs": [
    {
     "data": {
      "text/plain": [
       "Index(['america', 'so', 'right', 'republican', 'american', 'mr', 'our',\n",
       "       'trump', 'these', 'said'],\n",
       "      dtype='object')"
      ]
     },
     "execution_count": 143,
     "metadata": {},
     "output_type": "execute_result"
    }
   ],
   "source": [
    "feat_scores[-10:].index"
   ]
  },
  {
   "cell_type": "code",
   "execution_count": 144,
   "metadata": {},
   "outputs": [],
   "source": [
    "count_df = df[['text', 'type_of_material']]\n",
    "oped = count_df[count_df['type_of_material'] == \"Op-Ed\"]\n",
    "news = count_df[count_df['type_of_material'] == \"News\"]"
   ]
  },
  {
   "cell_type": "code",
   "execution_count": 145,
   "metadata": {},
   "outputs": [
    {
     "name": "stdout",
     "output_type": "stream",
     "text": [
      "(8186, 2)\n",
      "(113415, 2)\n"
     ]
    }
   ],
   "source": [
    "print(oped.shape)\n",
    "print(news.shape)"
   ]
  },
  {
   "cell_type": "code",
   "execution_count": 146,
   "metadata": {},
   "outputs": [
    {
     "name": "stdout",
     "output_type": "stream",
     "text": [
      "50116334\n"
     ]
    }
   ],
   "source": [
    "oped_string = oped.text.str.cat(sep = \" \")\n",
    "num_oped_string = len(oped_string)\n",
    "print(num_oped_string)"
   ]
  },
  {
   "cell_type": "code",
   "execution_count": 147,
   "metadata": {},
   "outputs": [
    {
     "name": "stdout",
     "output_type": "stream",
     "text": [
      "709617069\n"
     ]
    }
   ],
   "source": [
    "news_string = news.text.str.cat(sep = \" \")\n",
    "num_news_string = len(news_string)\n",
    "print(num_news_string)"
   ]
  },
  {
   "cell_type": "markdown",
   "metadata": {},
   "source": [
    "# counting"
   ]
  },
  {
   "cell_type": "code",
   "execution_count": 148,
   "metadata": {},
   "outputs": [],
   "source": [
    "top_10 = feat_scores[-10:].index"
   ]
  },
  {
   "cell_type": "code",
   "execution_count": 149,
   "metadata": {},
   "outputs": [
    {
     "name": "stdout",
     "output_type": "stream",
     "text": [
      "CPU times: user 14.7 s, sys: 460 ms, total: 15.2 s\n",
      "Wall time: 15.4 s\n"
     ]
    },
    {
     "data": {
      "text/plain": [
       "dict_items([('so', 13660), ('our', 20779), ('said', 6656), ('these', 8947), ('right', 4795), ('republican', 29), ('trump', 17)])"
      ]
     },
     "execution_count": 149,
     "metadata": {},
     "output_type": "execute_result"
    }
   ],
   "source": [
    "%%time\n",
    "oped_list = [word for word in oped_string.split() if word in list(top_10)]\n",
    "oped_ed_counter = Counter(oped_list)\n",
    "oped_ed_counter.items()"
   ]
  },
  {
   "cell_type": "code",
   "execution_count": 150,
   "metadata": {},
   "outputs": [
    {
     "name": "stdout",
     "output_type": "stream",
     "text": [
      "CPU times: user 3min 35s, sys: 21.3 s, total: 3min 56s\n",
      "Wall time: 4min 4s\n"
     ]
    },
    {
     "data": {
      "text/plain": [
       "dict_items([('said', 542394), ('so', 141622), ('these', 65626), ('right', 42012), ('our', 102180), ('trump', 101), ('republican', 107), ('american', 2), ('mr', 1)])"
      ]
     },
     "execution_count": 150,
     "metadata": {},
     "output_type": "execute_result"
    }
   ],
   "source": [
    "%%time\n",
    "news_list = [word for word in news_string.split() if word  in list(top_10)]\n",
    "news_counter = Counter(news_list)\n",
    "news_counter.items()"
   ]
  },
  {
   "cell_type": "markdown",
   "metadata": {},
   "source": [
    "# merge dictionary"
   ]
  },
  {
   "cell_type": "code",
   "execution_count": 151,
   "metadata": {},
   "outputs": [],
   "source": [
    "# merge_dic.val[0] = news\n",
    "# merge_dic.val[1] = oped\n",
    "\n",
    "merge_dic = {}\n",
    "for key, oped_val in oped_ed_counter.items():\n",
    "    news_val = news_counter.get(key)\n",
    "    merged_values = (news_val, oped_val)\n",
    "    merged_values_set = set(merged_values)\n",
    "    merge_dic[key] = merged_values_set"
   ]
  },
  {
   "cell_type": "code",
   "execution_count": 163,
   "metadata": {
    "scrolled": false
   },
   "outputs": [
    {
     "data": {
      "image/png": "[encoded data removed]",
      "text/plain": [
       "<Figure size 1440x720 with 1 Axes>"
      ]
     },
     "metadata": {},
     "output_type": "display_data"
    }
   ],
   "source": [
    "import matplotlib\n",
    "import matplotlib.pyplot as plt\n",
    "import numpy as np\n",
    "\n",
    "merge_dic = {}\n",
    "for key, oped_val in oped_ed_counter.items():\n",
    "    news_val = news_counter.get(key)\n",
    "    merged_values = (news_val, oped_val)\n",
    "    merge_dic[key] = merged_values\n",
    "\n",
    "keys = []\n",
    "news_counts = []\n",
    "oped_counts = []\n",
    "    \n",
    "for k, v in merge_dic.items():\n",
    "    keys.append(k)\n",
    "    news_counts.append(v[0]/num_news_string)\n",
    "    oped_counts.append(v[1]/num_oped_string)\n",
    "\n",
    "x = np.arange(len(keys))  # the label locations\n",
    "width = 0.35  # the width of the bars\n",
    "\n",
    "fig, ax = plt.subplots(figsize=(20,10))\n",
    "rects1 = ax.bar(x - width/2, news_counts, width, label='News')\n",
    "rects2 = ax.bar(x + width/2, oped_counts, width, label='Op-Ed')\n",
    "\n",
    "\n",
    "# Add some text for labels, title and custom x-axis tick labels, etc.\n",
    "ax.set_ylabel('Count')\n",
    "ax.set_title('Word distribution in News and Op-Ed')\n",
    "ax.set_xticks(x)\n",
    "ax.set_yscale('log')\n",
    "ax.set_xticklabels(keys)\n",
    "ax.legend()\n",
    "\n",
    "# def autolabel(rects):\n",
    "#     \"\"\"Attach a text label above each bar in *rects*, displaying its height.\"\"\"\n",
    "#     for rect in rects:\n",
    "#         height = rect.get_height()\n",
    "#         ax.annotate('{}'.format(height),\n",
    "#                     xy=(rect.get_x() + rect.get_width() / 2, height),\n",
    "#                     xytext=(0, 3),  # 3 points vertical offset\n",
    "#                     textcoords=\"offset points\",\n",
    "#                     ha='center', va='bottom')\n",
    "\n",
    "# autolabel(rects1)\n",
    "# autolabel(rects2)\n",
    "\n",
    "fig.tight_layout()\n",
    "plt.xticks(rotation=45)\n",
    "plt.show()"
   ]
  },
  {
   "cell_type": "markdown",
   "metadata": {},
   "source": [
    "# oped most common "
   ]
  },
  {
   "cell_type": "code",
   "execution_count": 153,
   "metadata": {},
   "outputs": [
    {
     "data": {
      "text/plain": [
       "Index(['america', 'so', 'right', 'republican', 'american', 'mr', 'our',\n",
       "       'trump', 'these', 'said'],\n",
       "      dtype='object')"
      ]
     },
     "execution_count": 153,
     "metadata": {},
     "output_type": "execute_result"
    }
   ],
   "source": [
    "top_10"
   ]
  },
  {
   "cell_type": "code",
   "execution_count": 154,
   "metadata": {},
   "outputs": [
    {
     "name": "stdout",
     "output_type": "stream",
     "text": [
      "CPU times: user 14.8 s, sys: 446 ms, total: 15.2 s\n",
      "Wall time: 15.6 s\n"
     ]
    }
   ],
   "source": [
    "%%time\n",
    "oped_list_features = [word for word in oped_string.split() if word in list(top_10)]\n",
    "oped_ed_count_total = Counter(oped_list_features)"
   ]
  },
  {
   "cell_type": "code",
   "execution_count": 155,
   "metadata": {},
   "outputs": [
    {
     "name": "stdout",
     "output_type": "stream",
     "text": [
      "CPU times: user 3min 26s, sys: 10 s, total: 3min 36s\n",
      "Wall time: 3min 41s\n"
     ]
    }
   ],
   "source": [
    "%%time\n",
    "news_list_features = [word for word in news_string.split() if word in list(top_10)]\n",
    "news_counter_total = Counter(news_list_features)"
   ]
  },
  {
   "cell_type": "code",
   "execution_count": 156,
   "metadata": {},
   "outputs": [
    {
     "name": "stdout",
     "output_type": "stream",
     "text": [
      "CPU times: user 58 µs, sys: 1.05 ms, total: 1.11 ms\n",
      "Wall time: 2.66 ms\n"
     ]
    }
   ],
   "source": [
    "%%time\n",
    "merge_dic_total = {}\n",
    "for key, oped_val in oped_ed_count_total.items():\n",
    "    news_val = news_counter_total.get(key)\n",
    "    merged_values_total = (news_val, oped_val)\n",
    "    merge_dic_total[key] = merged_values_total\n",
    "\n",
    "news_words = []\n",
    "oped_words = []\n",
    "    \n",
    "for k, v in merge_dic_total.items():\n",
    "    if v[0]/num_news_string > v[1]/num_oped_string:\n",
    "        news_words.append(k)\n",
    "    else:\n",
    "        oped_words.append(k)"
   ]
  },
  {
   "cell_type": "code",
   "execution_count": 159,
   "metadata": {},
   "outputs": [
    {
     "data": {
      "text/plain": [
       "10"
      ]
     },
     "execution_count": 159,
     "metadata": {},
     "output_type": "execute_result"
    }
   ],
   "source": [
    "len(top_10)"
   ]
  },
  {
   "cell_type": "code",
   "execution_count": 160,
   "metadata": {},
   "outputs": [
    {
     "name": "stdout",
     "output_type": "stream",
     "text": [
      "1\n",
      "6\n"
     ]
    }
   ],
   "source": [
    "print(len(news_words))\n",
    "print(len(oped_words))"
   ]
  },
  {
   "cell_type": "code",
   "execution_count": 161,
   "metadata": {},
   "outputs": [
    {
     "data": {
      "text/plain": [
       "['said']"
      ]
     },
     "execution_count": 161,
     "metadata": {},
     "output_type": "execute_result"
    }
   ],
   "source": [
    "news_words"
   ]
  },
  {
   "cell_type": "code",
   "execution_count": 162,
   "metadata": {},
   "outputs": [
    {
     "data": {
      "text/plain": [
       "['so', 'our', 'these', 'right', 'republican', 'trump']"
      ]
     },
     "execution_count": 162,
     "metadata": {},
     "output_type": "execute_result"
    }
   ],
   "source": [
    "oped_words"
   ]
  },
  {
   "cell_type": "code",
   "execution_count": null,
   "metadata": {},
   "outputs": [],
   "source": [
    "print(num_oped_string)\n",
    "print(num_news_string)"
   ]
  },
  {
   "cell_type": "code",
   "execution_count": null,
   "metadata": {},
   "outputs": [],
   "source": [
    "# import matplotlib\n",
    "# import matplotlib.pyplot as plt\n",
    "# import numpy as np\n",
    "\n",
    "\n",
    "# labels = oped_ed_counter.keys()\n",
    "# #news_labels = news_counter.keys()\n",
    "\n",
    "# oped_counts = oped_ed_counter.values()\n",
    "# #news_counts = news_counter.values()\n",
    "\n",
    "# x = np.arange(len(labels))  # the label locations\n",
    "# width = 0.5  # the width of the bars\n",
    "\n",
    "# fig, ax = plt.subplots(figsize=(10,10))\n",
    "# rects1 = ax.bar(x - width/2, oped_counts, width, label='oped')\n",
    "# #rects2 = ax.bar(x + width/2, news_counts, width, label='news')\n",
    "\n",
    "# # Add some text for labels, title and custom x-axis tick labels, etc.\n",
    "# #ax.set_ylabel('Scores')\n",
    "# ax.set_title('words in oped corpus')\n",
    "# ax.set_xticks(x)\n",
    "# ax.set_xticklabels(labels)\n",
    "# ax.legend()\n",
    "\n",
    "# fig.tight_layout()\n",
    "# plt.xticks(rotation=90)\n",
    "# plt.show()"
   ]
  },
  {
   "cell_type": "code",
   "execution_count": null,
   "metadata": {},
   "outputs": [],
   "source": [
    "# import matplotlib\n",
    "# import matplotlib.pyplot as plt\n",
    "# import numpy as np\n",
    "\n",
    "\n",
    "# labels = news_counter.keys()\n",
    "# #news_labels = news_counter.keys()\n",
    "\n",
    "# oped_counts = news_counter.values()\n",
    "# #news_counts = news_counter.values()\n",
    "\n",
    "# x = np.arange(len(labels))  # the label locations\n",
    "# width = 0.5  # the width of the bars\n",
    "\n",
    "# fig, ax = plt.subplots(figsize=(10,10))\n",
    "# rects1 = ax.bar(x - width/2, oped_counts, width, label='news')\n",
    "# #rects2 = ax.bar(x + width/2, news_counts, width, label='news')\n",
    "\n",
    "# # Add some text for labels, title and custom x-axis tick labels, etc.\n",
    "# #ax.set_ylabel('Scores')\n",
    "# ax.set_title('words in news corpus')\n",
    "# ax.set_xticks(x)\n",
    "# ax.set_xticklabels(labels)\n",
    "# ax.legend()\n",
    "\n",
    "# fig.tight_layout()\n",
    "# plt.xticks(rotation=90)\n",
    "# plt.show()"
   ]
  },
  {
   "cell_type": "markdown",
   "metadata": {},
   "source": [
    "### permutation importance"
   ]
  },
  {
   "cell_type": "code",
   "execution_count": null,
   "metadata": {},
   "outputs": [],
   "source": [
    "# %%time\n",
    "# print(datetime.datetime.now())\n",
    "# r = permutation_importance(rf_clf, X_test.toarray(), y_test, n_repeats=30, random_state=0)"
   ]
  },
  {
   "cell_type": "code",
   "execution_count": null,
   "metadata": {},
   "outputs": [],
   "source": [
    "# for i in r.importances_mean.argsort()[::-1]:\n",
    "#     if r.importances_mean[i] - 2 * r.importances_std[i] > 0:\n",
    "#         print(f\"{feat_names[i]:<8}\"\n",
    "#               f\"{r.importances_mean[i]:.3f}\"\n",
    "#               f\" +/- {r.importances_std[i]:.3f}\")"
   ]
  },
  {
   "cell_type": "code",
   "execution_count": null,
   "metadata": {},
   "outputs": [],
   "source": [
    "# for i in r.importances_mean.argsort()[::-1]:\n",
    "#     if r.importances_mean[i] - 2 * r.importances_std[i] > 0:\n",
    "#         print(f\"{feat_names[i]:<20}\")\n",
    "# #               f\"{r.importances_mean[i]:.3f}\"\n",
    "# #               f\" +/- {r.importances_std[i]:.3f}\")"
   ]
  },
  {
   "cell_type": "code",
   "execution_count": null,
   "metadata": {},
   "outputs": [],
   "source": [
    "# len(feat_names)"
   ]
  },
  {
   "cell_type": "markdown",
   "metadata": {},
   "source": []
  },
  {
   "cell_type": "code",
   "execution_count": null,
   "metadata": {},
   "outputs": [],
   "source": [
    "#corpus[0]"
   ]
  },
  {
   "cell_type": "markdown",
   "metadata": {},
   "source": [
    "# make a plot"
   ]
  },
  {
   "cell_type": "code",
   "execution_count": null,
   "metadata": {},
   "outputs": [],
   "source": [
    "#y"
   ]
  },
  {
   "cell_type": "code",
   "execution_count": null,
   "metadata": {},
   "outputs": [],
   "source": [
    "#min_df = np.linspace(0,.4,5)"
   ]
  },
  {
   "cell_type": "code",
   "execution_count": null,
   "metadata": {},
   "outputs": [],
   "source": [
    "#min_df"
   ]
  },
  {
   "cell_type": "code",
   "execution_count": null,
   "metadata": {},
   "outputs": [],
   "source": [
    "#corpus[0]"
   ]
  },
  {
   "cell_type": "markdown",
   "metadata": {},
   "source": [
    "# min_df_plot"
   ]
  },
  {
   "cell_type": "code",
   "execution_count": null,
   "metadata": {},
   "outputs": [],
   "source": [
    "# #%%time\n",
    "# #num_feat_min = []\n",
    "\n",
    "# #min_df = np.linspace(0.01,0.5,5)\n",
    "\n",
    "# for val in min_df:\n",
    "#     vectorizer_plot = TfidfVectorizer(preprocessor=punc_strip,\n",
    "# #                 tokenizer=wordnet_tokenize,\n",
    "#                 stop_words=alphabet,\n",
    "# #                 max_df=0.95,\n",
    "#                  min_df=val,\n",
    "#                  max_features=None)\n",
    "    \n",
    "#     vectorizer_plot.fit(X)\n",
    "    \n",
    "#     features = vectorizer_plot.get_feature_names()\n",
    "#     stop_word = vectorizer_plot.get_stop_words()\n",
    "\n",
    "#     num_feat_min.append(len(features))"
   ]
  },
  {
   "cell_type": "code",
   "execution_count": null,
   "metadata": {},
   "outputs": [],
   "source": [
    "# learn_vect = TfidfVectorizer(preprocessor=punc_strip,\n",
    "#                  tokenizer=wordnet_tokenize,\n",
    "# #            stop_words=alphabet,\n",
    "# #                max_df=0.95,\n",
    "#              min_df=.2,\n",
    "#              max_features=None)\n",
    "\n",
    "# learn_vect.fit(X)\n",
    "\n",
    "# min_df_features = learn_vect.get_feature_names()\n",
    "# stop_word = learn_vect.get_stop_words()"
   ]
  },
  {
   "cell_type": "code",
   "execution_count": null,
   "metadata": {},
   "outputs": [],
   "source": [
    "#len(min_df_features)"
   ]
  },
  {
   "cell_type": "code",
   "execution_count": null,
   "metadata": {},
   "outputs": [],
   "source": [
    "#min_df_features"
   ]
  },
  {
   "cell_type": "markdown",
   "metadata": {},
   "source": [
    "# max_features"
   ]
  },
  {
   "cell_type": "code",
   "execution_count": null,
   "metadata": {},
   "outputs": [],
   "source": [
    "# %%time\n",
    "# TN = []\n",
    "# FP = []\n",
    "# FN = []\n",
    "# TP = []\n",
    "\n",
    "# num_feat = np.linspace(1000,50000,6)\n",
    "\n",
    "# for val in num_feat:\n",
    "#     vectorizer_plot = TfidfVectorizer(preprocessor=punc_strip,\n",
    "# #                 tokenizer=wordnet_tokenize,\n",
    "#                 stop_words=alphabet,\n",
    "# #                 max_df=0.95,\n",
    "# #                 min_df=val,\n",
    "#                  max_features=int(val))\n",
    "\n",
    "#     #test, train, split\n",
    "#     X_train, X_test, y_train, y_test = train_test_split(X, y, random_state=50)\n",
    "\n",
    "#     X_train = vectorizer_plot.fit_transform(X_train)\n",
    "\n",
    "#     X_test = vectorizer_plot.transform(X_test)\n",
    "    \n",
    "#     #X, y --> X_resampled, y_resampled\n",
    "#     rus = RandomUnderSampler(random_state=0)\n",
    "#     X_resampled, y_resampled = rus.fit_resample(X_train, y_train)\n",
    "    \n",
    "#     recall_rfc = RandomForestClassifier(max_depth=2, random_state=0)\n",
    "\n",
    "#     rf_clf.fit(X_resampled, y_resampled)\n",
    "#     y_pred = rf_clf.predict(X_test)\n",
    "    \n",
    "#     tn, fp, fn, tp = confusion_matrix(y_true = y_test, y_pred = y_pred).ravel()\n",
    "#     a, r, p  = metrics_(tn, fp, fn, tp)\n",
    "    \n",
    "#     TN.append(tn)\n",
    "#     FP.append(fp)\n",
    "#     FN.append(fn)\n",
    "#     TP.append(tp)\n",
    "    \n",
    "    \n",
    "#     num_feat_min.append(len(features))"
   ]
  },
  {
   "cell_type": "code",
   "execution_count": null,
   "metadata": {},
   "outputs": [],
   "source": [
    "# for f in features:\n",
    "#     model = RandomForestClassifier(max_features=f)\n",
    "#     score = cross_val_score(model, X, y).mean()\n",
    "#     print('A Random Forest Regressor with max features of: {} gets a score of {}'\n",
    "#           .format(f,score))\n",
    "#     scores.append(score)\n",
    "    \n",
    "# fig, ax = plt.subplots()\n",
    "# ax.plot(features, scores)"
   ]
  },
  {
   "cell_type": "code",
   "execution_count": null,
   "metadata": {},
   "outputs": [],
   "source": [
    "# for f in features:\n",
    "#     model = RandomForestClassifier(max_features=f)\n",
    "#     score = cross_val_score(model, X, y).mean()\n",
    "#     print('A Random Forest Regressor with max features of: {} gets a score of {}'\n",
    "#           .format(f,score))\n",
    "#     scores.append(score)"
   ]
  },
  {
   "cell_type": "code",
   "execution_count": null,
   "metadata": {},
   "outputs": [],
   "source": []
  },
  {
   "cell_type": "code",
   "execution_count": null,
   "metadata": {},
   "outputs": [],
   "source": []
  },
  {
   "cell_type": "code",
   "execution_count": null,
   "metadata": {},
   "outputs": [],
   "source": []
  },
  {
   "cell_type": "code",
   "execution_count": null,
   "metadata": {},
   "outputs": [],
   "source": []
  },
  {
   "cell_type": "code",
   "execution_count": null,
   "metadata": {},
   "outputs": [],
   "source": [
    "# #stacked bar graph\n",
    "\n",
    "# video_sales_df = pd.read_excel(\"data.xlsx\")\n",
    "\n",
    "# regional_genre = video_sales_df.groupby(['Genre'],as_index=False)[\"NA_Sales\",\"EU_Sales\",\"JP_Sales\"].sum()[:5]\n",
    "# columns = [\"NA_Sales\",\"EU_Sales\",\"JP_Sales\"]\n",
    "\n",
    "# # Normalization parameters\n",
    "# normalize_min = 0.1\n",
    "# normalize_max = 1\n",
    "\n",
    "# # Normalize\n",
    "# regional_genre[columns]= preprocessing.minmax_scale(regional_genre[columns], feature_range=(normalize_min, normalize_max))\n",
    "\n",
    "# # Plot stacked bars\n",
    "# plt.bar(regional_genre[\"Genre\"], regional_genre[\"NA_Sales\"], label=\"NA_Sales\")\n",
    "# plt.bar(regional_genre[\"Genre\"], regional_genre[\"EU_Sales\"], bottom=regional_genre[\"NA_Sales\"], label=\"EU_Sales\")\n",
    "# plt.bar(regional_genre[\"Genre\"], regional_genre[\"JP_Sales\"], bottom=regional_genre[\"EU_Sales\"]+regional_genre[\"NA_Sales\"], label=\"JP_Sales\")\n",
    "# plt.legend()\n",
    "# plt.ylabel(\"Normalized sales\")\n",
    "# plt.show()\n",
    "\n",
    "# # Another solution for plot:\n",
    "\n",
    "# plt.bar(columns, regional_genre.ix[0,1:], label=\"Action\")\n",
    "# bot = regional_genre.ix[0,1:]\n",
    "# plt.bar(columns, regional_genre.ix[1,1:], bottom=bot, label=\"Adventure\")\n",
    "# bot += regional_genre.ix[1,1:]\n",
    "# plt.bar(columns, regional_genre.ix[2,1:], bottom=bot, label=\"Fighting\")\n",
    "# bot += regional_genre.ix[2,1:]\n",
    "# plt.bar(columns, regional_genre.ix[3,1:], bottom=bot, label=\"Misc\")\n",
    "# bot += regional_genre.ix[3,1:]\n",
    "# plt.bar(columns, regional_genre.ix[4,1:], bottom=bot, label=\"Platform\")"
   ]
  },
  {
   "cell_type": "code",
   "execution_count": null,
   "metadata": {},
   "outputs": [],
   "source": []
  },
  {
   "cell_type": "code",
   "execution_count": null,
   "metadata": {},
   "outputs": [],
   "source": []
  },
  {
   "cell_type": "code",
   "execution_count": null,
   "metadata": {},
   "outputs": [],
   "source": []
  }
 ],
 "metadata": {
  "kernelspec": {
   "display_name": "Python 3",
   "language": "python",
   "name": "python3"
  },
  "language_info": {
   "codemirror_mode": {
    "name": "ipython",
    "version": 3
   },
   "file_extension": ".py",
   "mimetype": "text/x-python",
   "name": "python",
   "nbconvert_exporter": "python",
   "pygments_lexer": "ipython3",
   "version": "3.7.9"
  }
 },
 "nbformat": 4,
 "nbformat_minor": 4
}
