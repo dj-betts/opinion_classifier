{
 "cells": [
  {
   "cell_type": "code",
   "execution_count": 70,
   "metadata": {},
   "outputs": [],
   "source": [
    "import functions"
   ]
  },
  {
   "cell_type": "code",
   "execution_count": 71,
   "metadata": {},
   "outputs": [],
   "source": [
    "import datetime"
   ]
  },
  {
   "cell_type": "code",
   "execution_count": 72,
   "metadata": {},
   "outputs": [],
   "source": [
    "import nltk\n",
    "import string"
   ]
  },
  {
   "cell_type": "code",
   "execution_count": 73,
   "metadata": {},
   "outputs": [],
   "source": [
    "import re"
   ]
  },
  {
   "cell_type": "code",
   "execution_count": 74,
   "metadata": {},
   "outputs": [],
   "source": [
    "import pickle"
   ]
  },
  {
   "cell_type": "code",
   "execution_count": 75,
   "metadata": {},
   "outputs": [],
   "source": [
    "import pandas as pd\n",
    "import numpy as np"
   ]
  },
  {
   "cell_type": "code",
   "execution_count": 76,
   "metadata": {},
   "outputs": [],
   "source": [
    "import matplotlib.pyplot as plt\n",
    "plt.style.use('fivethirtyeight')"
   ]
  },
  {
   "cell_type": "code",
   "execution_count": 77,
   "metadata": {},
   "outputs": [],
   "source": [
    "from sklearn.feature_extraction.text import CountVectorizer, TfidfVectorizer\n",
    "from sklearn.model_selection import train_test_split\n",
    "from sklearn.metrics import confusion_matrix, plot_confusion_matrix\n",
    "from sklearn.naive_bayes import MultinomialNB\n",
    "from sklearn.ensemble import RandomForestClassifier\n",
    "from sklearn.inspection import permutation_importance"
   ]
  },
  {
   "cell_type": "code",
   "execution_count": 78,
   "metadata": {},
   "outputs": [],
   "source": [
    "from collections import Counter"
   ]
  },
  {
   "cell_type": "code",
   "execution_count": 79,
   "metadata": {},
   "outputs": [],
   "source": [
    "from imblearn.under_sampling import RandomUnderSampler"
   ]
  },
  {
   "cell_type": "code",
   "execution_count": 80,
   "metadata": {},
   "outputs": [],
   "source": [
    "from nltk.stem.snowball import SnowballStemmer\n",
    "from nltk.stem.wordnet import WordNetLemmatizer\n",
    "from nltk.tokenize import word_tokenize\n",
    "from nltk.corpus import stopwords"
   ]
  },
  {
   "cell_type": "markdown",
   "metadata": {},
   "source": [
    "# NLP Pipeline \n",
    "\n",
    "![](images/pipeline-walkthrough1.png)\n",
    "\n",
    "Below is a to do list when converting text into vector form: \n",
    "\n",
    "**Clean text and Create a Bag of Words (BoW)**\n",
    ">1. Lowercase the text\n",
    "2. Tokenize \n",
    "3. Strip out punctuation or undesirable text\n",
    "4. Remove Stopwords \n",
    "5. Stemming or Lemmatizing\n",
    "6. Compute N-Grams\n",
    "7. Use this to create BoW\n",
    "\n",
    "**Vectorize BoW**\n",
    ">8. Term Frequencies\n",
    "9. Document Frequencies\n",
    "10. TF-IDF\n",
    "11. Normalize vectors\n",
    "\n",
    "Let's go through both what each of these steps are and how to do them in python with the following corpus of comments about data science...\n",
    " "
   ]
  },
  {
   "cell_type": "code",
   "execution_count": 81,
   "metadata": {},
   "outputs": [],
   "source": [
    "# function to vectorize the type_of_material series into a y target vector.\n",
    "def vectorize_y_ser(ser):\n",
    "    y = ser.copy()\n",
    "    y.replace({'Op-Ed': 1,'News': 0}, inplace=True)\n",
    "    return y"
   ]
  },
  {
   "cell_type": "code",
   "execution_count": 82,
   "metadata": {},
   "outputs": [],
   "source": [
    "#rate of correct predictions out of total predictions\n",
    "def metrics_(tn, fp, fn, tp):\n",
    "    accuracy = (tp + tn) / (tn + fn + tp + fp)\n",
    "    print(f'Accuracy: {round(accuracy, 2)}')\n",
    "    recall = (tp) / (tp + fn)\n",
    "    print(f'Recall: {round(recall, 2)}')\n",
    "    precision = (tp) / (tp + fp)\n",
    "    print(f'Precision: {round(precision, 2)}')\n",
    "    print(f'TN:{tn} FP:{fp} FN:{fn} TP:{tp}')\n",
    "    return (accuracy, recall, precision)"
   ]
  },
  {
   "cell_type": "code",
   "execution_count": 83,
   "metadata": {},
   "outputs": [],
   "source": [
    "#prints number of features, stop words and parameters for vectorizer\n",
    "def vectorizer_parameters(vectorizer):\n",
    "    #features\n",
    "    feat_names = vectorizer.get_feature_names()\n",
    "    num_feat = len(feat_names)\n",
    "    \n",
    "    #stop words\n",
    "    stop_words = vectorizer.stop_words_\n",
    "    num_stop = len(stop_words)\n",
    "\n",
    "    params = vectorizer.get_params()\n",
    "    \n",
    "    print(f'Number of features: {num_feat}, Numbers of stop words: {num_stop}')\n",
    "      \n",
    "    for key, val in params.items():\n",
    "        print(f'{key}: {val}')"
   ]
  },
  {
   "cell_type": "code",
   "execution_count": 84,
   "metadata": {},
   "outputs": [],
   "source": [
    "#function that removes string.punctuation w/out the '?'\n",
    "def punc_strip(document):\n",
    "    for char in document:\n",
    "        if char in '!\"#$%&\\'()*+—,-./:;<=>?@[\\\\]^_`{|}~”’“':\n",
    "            document = document.replace(char, \" \") \n",
    "    return document"
   ]
  },
  {
   "cell_type": "code",
   "execution_count": 85,
   "metadata": {},
   "outputs": [],
   "source": [
    "#combine print, type, text columns in the list\n",
    "def printed_file(file):\n",
    "    print_cols = ['_id','print_page','pub_date','keywords','type_of_material','lead_paragraph','text']    \n",
    "    df = pd.read_csv(file, usecols=print_cols, index_col='_id', low_memory=False)\n",
    "    df = df[df.print_page.isna() == False]\n",
    "    df = df[~df.text.isna() == True]\n",
    "    return df"
   ]
  },
  {
   "cell_type": "code",
   "execution_count": 86,
   "metadata": {},
   "outputs": [],
   "source": [
    "#combine print, type, text columns in the list\n",
    "def printed_df(df):\n",
    "    print_cols = ['print_page','pub_date','keywords','type_of_material','lead_paragraph','text']    \n",
    "    df = df[print_cols]\n",
    "    df = df[df.print_page.isna() == False]\n",
    "    df = df[~df.text.isna() == True]\n",
    "    return df"
   ]
  },
  {
   "cell_type": "code",
   "execution_count": 87,
   "metadata": {},
   "outputs": [],
   "source": [
    "#returns articles w/ 'United States Politics and Government' as a keyword\n",
    "def return_pol_gov(row):\n",
    "    list_dict = eval(row.keywords)\n",
    "    for (dic) in (list_dict):\n",
    "        if dic.get('value') == 'United States Politics and Government':\n",
    "            return True"
   ]
  },
  {
   "cell_type": "code",
   "execution_count": 88,
   "metadata": {},
   "outputs": [],
   "source": [
    "def filter_keyword(df, keyword='United States Politics and Government'):\n",
    "    df[keyword] = df.apply(return_pol_gov, axis=1)\n",
    "    df = df[df[keyword] == True]\n",
    "    return df"
   ]
  },
  {
   "cell_type": "code",
   "execution_count": 89,
   "metadata": {},
   "outputs": [],
   "source": [
    "#returns shape of news and oped\n",
    "def oped_v_news(df):\n",
    "    df.type_of_material.hist()\n",
    "    news = sum(df.type_of_material == \"News\")\n",
    "    oped = sum(df.type_of_material == \"Op-Ed\")\n",
    "    print(f'News: {news} Oped: {oped}, Total: {oped+news}, Op-Ed {round(oped/(oped+news), 2)} of total')\n",
    "    #plt.savefig('img/oped_news_hist.png')"
   ]
  },
  {
   "cell_type": "code",
   "execution_count": 90,
   "metadata": {},
   "outputs": [],
   "source": [
    "#split article and return quote\n",
    "def return_quote(document):\n",
    "    article = []\n",
    "    quote_list = []\n",
    "    \n",
    "    open_quote = \"“\"\n",
    "    close_quote = \"”\"\n",
    "    \n",
    "    close_split = document.split(close_quote)\n",
    "    \n",
    "    for string in close_split:\n",
    "\n",
    "        quote = string.split(open_quote)\n",
    "        article.append(quote.pop(0))\n",
    "        quote_list += quote\n",
    "    \n",
    "    article = \" \".join(article)\n",
    "    quotation = \" \".join(quote_list)\n",
    "        \n",
    "    return(quotation)"
   ]
  },
  {
   "cell_type": "code",
   "execution_count": 91,
   "metadata": {},
   "outputs": [],
   "source": [
    "#split article and return quote\n",
    "def return_article(document):\n",
    "    article = []\n",
    "    quote_list = []\n",
    "    \n",
    "    open_quote = \"“\"\n",
    "    close_quote = \"”\"\n",
    "    \n",
    "    close_split = document.split(close_quote)\n",
    "    \n",
    "    for string in close_split:\n",
    "\n",
    "        quote = string.split(open_quote)\n",
    "        article.append(quote.pop(0))\n",
    "        quote_list += quote\n",
    "    \n",
    "    article = \" \".join(article)\n",
    "    quotation = \" \".join(quote_list)\n",
    "    \n",
    "    return(article)"
   ]
  },
  {
   "cell_type": "code",
   "execution_count": 96,
   "metadata": {},
   "outputs": [],
   "source": [
    "df_list_auto = []\n",
    "for num in range(2010,2021):\n",
    "    df_list_auto.append(f'/Users/djbetts/Desktop/opinion_classifier/data/archive/raw_{num}.csv')"
   ]
  },
  {
   "cell_type": "code",
   "execution_count": 97,
   "metadata": {},
   "outputs": [
    {
     "data": {
      "text/plain": [
       "['/Users/djbetts/Desktop/opinion_classifier/data/archive/raw_2010.csv',\n",
       " '/Users/djbetts/Desktop/opinion_classifier/data/archive/raw_2011.csv',\n",
       " '/Users/djbetts/Desktop/opinion_classifier/data/archive/raw_2012.csv',\n",
       " '/Users/djbetts/Desktop/opinion_classifier/data/archive/raw_2013.csv',\n",
       " '/Users/djbetts/Desktop/opinion_classifier/data/archive/raw_2014.csv',\n",
       " '/Users/djbetts/Desktop/opinion_classifier/data/archive/raw_2015.csv',\n",
       " '/Users/djbetts/Desktop/opinion_classifier/data/archive/raw_2016.csv',\n",
       " '/Users/djbetts/Desktop/opinion_classifier/data/archive/raw_2017.csv',\n",
       " '/Users/djbetts/Desktop/opinion_classifier/data/archive/raw_2018.csv',\n",
       " '/Users/djbetts/Desktop/opinion_classifier/data/archive/raw_2019.csv',\n",
       " '/Users/djbetts/Desktop/opinion_classifier/data/archive/raw_2020.csv']"
      ]
     },
     "execution_count": 97,
     "metadata": {},
     "output_type": "execute_result"
    }
   ],
   "source": [
    "df_list_auto"
   ]
  },
  {
   "cell_type": "code",
   "execution_count": 98,
   "metadata": {},
   "outputs": [],
   "source": [
    "files = []\n",
    "for file in df_list_auto:\n",
    "    df = printed_file(file)\n",
    "    files.append(df)\n",
    "    "
   ]
  },
  {
   "cell_type": "code",
   "execution_count": 99,
   "metadata": {},
   "outputs": [],
   "source": [
    "data = pd.concat(files)"
   ]
  },
  {
   "cell_type": "code",
   "execution_count": 100,
   "metadata": {},
   "outputs": [
    {
     "name": "stdout",
     "output_type": "stream",
     "text": [
      "News: 339111 Oped: 21387, Total: 360498, Op-Ed 0.06 of total\n"
     ]
    },
    {
     "data": {
      "image/png": "[encoded data removed]",
      "text/plain": [
       "<Figure size 432x288 with 1 Axes>"
      ]
     },
     "metadata": {},
     "output_type": "display_data"
    }
   ],
   "source": [
    "functions.oped_v_news(data)"
   ]
  },
  {
   "cell_type": "code",
   "execution_count": 101,
   "metadata": {},
   "outputs": [
    {
     "data": {
      "text/plain": [
       "Index(['lead_paragraph', 'print_page', 'keywords', 'pub_date',\n",
       "       'type_of_material', 'text'],\n",
       "      dtype='object')"
      ]
     },
     "execution_count": 101,
     "metadata": {},
     "output_type": "execute_result"
    }
   ],
   "source": [
    "data.columns"
   ]
  },
  {
   "cell_type": "code",
   "execution_count": 102,
   "metadata": {},
   "outputs": [
    {
     "name": "stdout",
     "output_type": "stream",
     "text": [
      "CPU times: user 132 ms, sys: 442 ms, total: 574 ms\n",
      "Wall time: 621 ms\n"
     ]
    }
   ],
   "source": [
    "%%time\n",
    "df = data.copy()"
   ]
  },
  {
   "cell_type": "code",
   "execution_count": 103,
   "metadata": {},
   "outputs": [
    {
     "data": {
      "text/plain": [
       "(360498, 6)"
      ]
     },
     "execution_count": 103,
     "metadata": {},
     "output_type": "execute_result"
    }
   ],
   "source": [
    "df.shape"
   ]
  },
  {
   "cell_type": "code",
   "execution_count": 104,
   "metadata": {},
   "outputs": [],
   "source": [
    "df = printed_df(df)"
   ]
  },
  {
   "cell_type": "code",
   "execution_count": 105,
   "metadata": {},
   "outputs": [
    {
     "data": {
      "text/html": [
       "<div>\n",
       "<style scoped>\n",
       "    .dataframe tbody tr th:only-of-type {\n",
       "        vertical-align: middle;\n",
       "    }\n",
       "\n",
       "    .dataframe tbody tr th {\n",
       "        vertical-align: top;\n",
       "    }\n",
       "\n",
       "    .dataframe thead th {\n",
       "        text-align: right;\n",
       "    }\n",
       "</style>\n",
       "<table border=\"1\" class=\"dataframe\">\n",
       "  <thead>\n",
       "    <tr style=\"text-align: right;\">\n",
       "      <th></th>\n",
       "      <th>print_page</th>\n",
       "      <th>pub_date</th>\n",
       "      <th>keywords</th>\n",
       "      <th>type_of_material</th>\n",
       "      <th>lead_paragraph</th>\n",
       "      <th>text</th>\n",
       "    </tr>\n",
       "    <tr>\n",
       "      <th>_id</th>\n",
       "      <th></th>\n",
       "      <th></th>\n",
       "      <th></th>\n",
       "      <th></th>\n",
       "      <th></th>\n",
       "      <th></th>\n",
       "    </tr>\n",
       "  </thead>\n",
       "  <tbody>\n",
       "    <tr>\n",
       "      <th>nyt://article/d5dc06a2-db1f-58f2-9a8f-061979998358</th>\n",
       "      <td>1</td>\n",
       "      <td>2010-11-01T00:00:20+0000</td>\n",
       "      <td>[{'name': 'subject', 'value': 'Graffiti', 'ran...</td>\n",
       "      <td>News</td>\n",
       "      <td>A vast new exhibition space opened in New York...</td>\n",
       "      <td>A vast new exhibition space opened in New York...</td>\n",
       "    </tr>\n",
       "    <tr>\n",
       "      <th>nyt://article/6dedf0cd-767d-558d-8637-2b4512d23d05</th>\n",
       "      <td>10</td>\n",
       "      <td>2010-11-01T00:01:45+0000</td>\n",
       "      <td>[{'name': 'persons', 'value': 'Serra, Jose', '...</td>\n",
       "      <td>News</td>\n",
       "      <td>SÃO PAULO, Brazil  Dilma Rousseff was elected...</td>\n",
       "      <td>SÃO PAULO, Brazil  Dilma Rousseff was elected...</td>\n",
       "    </tr>\n",
       "    <tr>\n",
       "      <th>nyt://article/873adafd-1ba0-5aa6-a482-f401d99fb541</th>\n",
       "      <td>6</td>\n",
       "      <td>2010-11-01T00:04:41+0000</td>\n",
       "      <td>[{'name': 'subject', 'value': 'Search Engines'...</td>\n",
       "      <td>News</td>\n",
       "      <td>Start-ups and big companies alike have tried t...</td>\n",
       "      <td>Start-ups and big companies alike have tried t...</td>\n",
       "    </tr>\n",
       "    <tr>\n",
       "      <th>nyt://article/c69e42ef-f363-5979-b176-a352c6264df8</th>\n",
       "      <td>1</td>\n",
       "      <td>2010-11-01T00:05:17+0000</td>\n",
       "      <td>[{'name': 'organizations', 'value': 'Republica...</td>\n",
       "      <td>News</td>\n",
       "      <td>WASHINGTON  Republicans made their closing ar...</td>\n",
       "      <td>WASHINGTON  Republicans made their closing ar...</td>\n",
       "    </tr>\n",
       "    <tr>\n",
       "      <th>nyt://article/c9f54c4f-c608-5a4c-bdf1-73d7e8890ed1</th>\n",
       "      <td>12</td>\n",
       "      <td>2010-11-01T00:13:58+0000</td>\n",
       "      <td>[{'name': 'subject', 'value': 'Children and Yo...</td>\n",
       "      <td>News</td>\n",
       "      <td>MIAMI — Two years ago, the University of Miami...</td>\n",
       "      <td>MIAMI — Two years ago, the University of Miami...</td>\n",
       "    </tr>\n",
       "  </tbody>\n",
       "</table>\n",
       "</div>"
      ],
      "text/plain": [
       "                                                   print_page  \\\n",
       "_id                                                             \n",
       "nyt://article/d5dc06a2-db1f-58f2-9a8f-061979998358          1   \n",
       "nyt://article/6dedf0cd-767d-558d-8637-2b4512d23d05         10   \n",
       "nyt://article/873adafd-1ba0-5aa6-a482-f401d99fb541          6   \n",
       "nyt://article/c69e42ef-f363-5979-b176-a352c6264df8          1   \n",
       "nyt://article/c9f54c4f-c608-5a4c-bdf1-73d7e8890ed1         12   \n",
       "\n",
       "                                                                    pub_date  \\\n",
       "_id                                                                            \n",
       "nyt://article/d5dc06a2-db1f-58f2-9a8f-061979998358  2010-11-01T00:00:20+0000   \n",
       "nyt://article/6dedf0cd-767d-558d-8637-2b4512d23d05  2010-11-01T00:01:45+0000   \n",
       "nyt://article/873adafd-1ba0-5aa6-a482-f401d99fb541  2010-11-01T00:04:41+0000   \n",
       "nyt://article/c69e42ef-f363-5979-b176-a352c6264df8  2010-11-01T00:05:17+0000   \n",
       "nyt://article/c9f54c4f-c608-5a4c-bdf1-73d7e8890ed1  2010-11-01T00:13:58+0000   \n",
       "\n",
       "                                                                                             keywords  \\\n",
       "_id                                                                                                     \n",
       "nyt://article/d5dc06a2-db1f-58f2-9a8f-061979998358  [{'name': 'subject', 'value': 'Graffiti', 'ran...   \n",
       "nyt://article/6dedf0cd-767d-558d-8637-2b4512d23d05  [{'name': 'persons', 'value': 'Serra, Jose', '...   \n",
       "nyt://article/873adafd-1ba0-5aa6-a482-f401d99fb541  [{'name': 'subject', 'value': 'Search Engines'...   \n",
       "nyt://article/c69e42ef-f363-5979-b176-a352c6264df8  [{'name': 'organizations', 'value': 'Republica...   \n",
       "nyt://article/c9f54c4f-c608-5a4c-bdf1-73d7e8890ed1  [{'name': 'subject', 'value': 'Children and Yo...   \n",
       "\n",
       "                                                   type_of_material  \\\n",
       "_id                                                                   \n",
       "nyt://article/d5dc06a2-db1f-58f2-9a8f-061979998358             News   \n",
       "nyt://article/6dedf0cd-767d-558d-8637-2b4512d23d05             News   \n",
       "nyt://article/873adafd-1ba0-5aa6-a482-f401d99fb541             News   \n",
       "nyt://article/c69e42ef-f363-5979-b176-a352c6264df8             News   \n",
       "nyt://article/c9f54c4f-c608-5a4c-bdf1-73d7e8890ed1             News   \n",
       "\n",
       "                                                                                       lead_paragraph  \\\n",
       "_id                                                                                                     \n",
       "nyt://article/d5dc06a2-db1f-58f2-9a8f-061979998358  A vast new exhibition space opened in New York...   \n",
       "nyt://article/6dedf0cd-767d-558d-8637-2b4512d23d05  SÃO PAULO, Brazil  Dilma Rousseff was elected...   \n",
       "nyt://article/873adafd-1ba0-5aa6-a482-f401d99fb541  Start-ups and big companies alike have tried t...   \n",
       "nyt://article/c69e42ef-f363-5979-b176-a352c6264df8  WASHINGTON  Republicans made their closing ar...   \n",
       "nyt://article/c9f54c4f-c608-5a4c-bdf1-73d7e8890ed1  MIAMI — Two years ago, the University of Miami...   \n",
       "\n",
       "                                                                                                 text  \n",
       "_id                                                                                                    \n",
       "nyt://article/d5dc06a2-db1f-58f2-9a8f-061979998358  A vast new exhibition space opened in New York...  \n",
       "nyt://article/6dedf0cd-767d-558d-8637-2b4512d23d05  SÃO PAULO, Brazil  Dilma Rousseff was elected...  \n",
       "nyt://article/873adafd-1ba0-5aa6-a482-f401d99fb541  Start-ups and big companies alike have tried t...  \n",
       "nyt://article/c69e42ef-f363-5979-b176-a352c6264df8  WASHINGTON  Republicans made their closing ar...  \n",
       "nyt://article/c9f54c4f-c608-5a4c-bdf1-73d7e8890ed1  MIAMI — Two years ago, the University of Miami...  "
      ]
     },
     "execution_count": 105,
     "metadata": {},
     "output_type": "execute_result"
    }
   ],
   "source": [
    "df.head()"
   ]
  },
  {
   "cell_type": "code",
   "execution_count": 106,
   "metadata": {},
   "outputs": [
    {
     "data": {
      "text/plain": [
       "'A vast new exhibition space opened in New York City this summer, with a show 18 months in the making. On view are works by 103 street artists from around the world, mostly big murals painted directly onto the gallery’s walls.It is one of the largest shows of such pieces ever mounted in one place, and many of the contributors are significant figures in both the street-art world and the commercial trade that now revolves around it. Its debut might have been expected to draw critics, art dealers and auction-house representatives, not to mention hordes of young fans. But none of them were invited.In the weeks since, almost no one has seen the show. The gallery, whose existence has been a closely guarded secret, closed on the same night it opened.Known to its creators and participating artists as the Underbelly Project, the space, where all the show’s artworks remain, defies every norm of the gallery scene. Collectors can’t buy the art. The public can’t see it. And the only people with a chance of stumbling across it are the urban explorers who prowl the city’s hidden infrastructure or employees of the Metropolitan Transportation Authority.That’s because the exhibition has been mounted, illegally, in a long-abandoned subway station. The dank, cavernous hall feels a lot farther than it actually is from the bright white rooms of Chelsea’s gallery district. Which is more or less the point: This is an art exhibition that goes to extremes to avoid being part of the art world, and even the world in general.The show’s curators, street artists themselves, unveiled the project for a single night, leading this reporter on a two-and-a-half hour tour. Determined to protect their secrecy, they offered the tour on condition that no details that might help identify the site be published, not even a description of the equipment they used to get in and out. And since they were (and remain) seriously concerned about the threat of prosecution, they agreed only to the use of street-artist pseudonyms.Workhorse, in his late 30s, is a well-known street artist with gallery representation; PAC, younger by a decade, is less established but familiar (under a different name) to followers of urban-art blogs. The two came up with the idea for the Underbelly Project in 2008, a few years after PAC first saw the old station, led to it from a functioning one by an urban explorer acquaintance.Abandoned stations like this — and there are a fair number of them in the city — are irresistible to those who search out hidden spaces in the city, despite or perhaps because of the fact that being there is illegal and potentially dangerous. PAC too found himself compelled after that first visit, and he began going back sporadically.Seduced by the AbandonedThe place was pitch black, but standing with a powerful flashlight on a platform, PAC said, he had been able to make out a landscape of several more platforms, each lined with rows of columns, alternating with sunken track beds. The station, about the size of a football field, had clearly never been completed: no track had been laid in those beds, no escalators or staircases met the gaping holes in the platforms, and there was no electricity.“I would hang out here for hours,” PAC said, enjoying “the solitude of being underground” and the architecture.Then he met Workhorse, whose art often focuses on abandoned spaces.“I told him I knew about a space that was pretty cool,” PAC said, and “brought him down here, and that night the idea for the project hatched.”The difficult process of getting to the Underbelly space — which involves waiting at an active station’s platform until it’s empty, slipping from it into the damp and very dirty no man’s land beyond, and traversing that to get to the old station’s entrance — suggested to PAC and Workhorse how challenging the project would be. And the legal risks were obvious. Charles F. Seaton, a spokesman for New York City Transit, described such incursions as “trespassing, punishable by law,” and said “anyone caught defacing M.T.A. property is subject to arrest and fine.” Beyond that, Workhorse and PAC worried that given anxiety about terrorism in the subway, a large-scale, long-term project like theirs might even lead to more serious charges.But Workhorse said: “There is a certain type of person that the urban art movement has bred that enjoys the adventure as much as the art. Where else do you see a creative person risking themselves legally, financially, physically and creatively?”In recent years, he said, as the vogue for street art has led to “anything that could possibly appreciate in value being ripped off the street by those looking to cash in,” the old sense of adventure and punk-rock energy has faded. The change isn’t all bad, he said: the runaway market for stars like Banksy has had a nice trickle-down effect for artists like him. But he said he feels strongly that something fundamental has been lost.PAC and Workhorse saw the Underbelly Project as a way to recapture that feeling and evade the whims of the marketplace. Workhorse called it “an eternal show without a crowd.” (He waved away the idea that there might be something perverse about creating art that normally revels in visibility for an audience of just a few. “We just see it as art, not street art,” he said, adding he had never felt a need to take all his drawings, for example, “and shove them in someone’s face.”)Not that he and PAC are averse to the project being publicized. Asked why they had sought out the freelance reporter who wrote this article, as well as one for this week’s Sunday Times Magazine of London, they cited their pride.“We do want to preserve the kind of sacred quality of the place,” PAC said, “but we also want people to know it exists. And we want it to become part of the folklore of the urban art scene.” Let’s Put On a ShowIn early 2009 Workhorse and PAC began putting out feelers among street artists, seeking a mix of the established and the up and coming. (For security reasons they avoided “anyone more than a step away from someone we knew well,” Workhorse said.) Soon they brought their first collaborators down to the site, Jim and Tina Darling, West Coast artists who painted big, contrasting images — his a leering man’s face, hers a woman with windblown hair — in a small side room. They worked for two long nights, after which all parties emerged exhausted and filthy with soot. Workhorse and PAC realized that their goal of including about 100 contributors would be more difficult than they had imagined, and would take a lot more time.They set some ground rules. Since bringing artists in and out of the space required careful planning — by now they had figured out that the active platform was emptiest on late nights early in the week — and since one or both of the curators had to be on hand, Workhorse and PAC set strict schedules and limited each artist to one visit, with four hours of working time. The artists were not allowed to go out for more materials if they ran out. (Workhorse and PAC supplied lighting in the form of camping lanterns. “We went through hundreds of batteries,” Workhorse said.) And in addition to their materials, the artists had to pay for their transportation, regardless of the distance.Of the international artists approached, most were from Europe. (Banksy, the most famous of this group, turned them down: He was promoting his film “Exit Through the Gift Shop,” Workhorse said, and told them through a mutual friend, “\\xa0‘Great project, love it, but I can’t risk going in.’\\xa0”) But more contributors were American, among them well known names like Ron English (whose most recent work has been priced at up to $200,000), Swoon and Revok.And many lived in New York, the wellspring of the graffiti movement in the 1970s. Patrick McNeil, of the Brooklyn collective Faile, received an e-mail from PAC, and signed on quickly. “It was really appealing because it sounded a little crazy,” he said. “You did it because you wanted to do it, not because there was any money.”Working conditions were far from favorable. The ambient humidity made stenciling and the wheat-pasting used by some artists laborious. While making his own piece — a self-portrait in an empty subway car — Workhorse had “to literally bash the tape for the stencil into the wall with the palm of my hand,” he said. “I woke up the next morning and couldn’t write.” (PAC, meanwhile, was happy with the dripping effect caused by the paint’s refusal to dry in his black-and-white diamond-pattern mural.)The Metropolitan Transit Authority would occasionally shut down the nearby subway line. The artists, working through the night, would hear workers on the tracks and go silent, turning out any lights. The members of Faile were among several participants stuck that way for hours after their work (in their case, a woozy, zigzagging version of the Stars and Stripes) was done. “We were getting crazy,” Mr. McNeil recalled. “We were like, ‘We’ve got to get the hell out of this dusty blackness.’ You couldn’t see your hand in front of your face.”Finally at 4 a.m., Mr. McNeil said, the coast seemed clear, and “we walked out there with our gear”; but the workers were still there. “We just walked by them and they’re like, ‘Where the hell did these guys come from?’\\xa0”The scariest moment came around 1:30 one morning, just after Workhorse had left the site with a Moscow-based Australian artist known as Strafe (who spoke on condition that her real name not be used). They heard workers nearby and sprinted back in the dark, but once back on their platform, Strafe said, “I swung round and stepped into thin air, and literally fell onto my back on the track bed.” Too stunned to move, she looked at Workhorse, who had jumped down to join her with a flashlight. She said she saw a look of horror that said, “\\xa0‘What are we going to do if she’s seriously injured?’\\xa0” Eventually she was able to sit up, but they still had to wait until after 5 a.m. to leave.Art, UndergroundWorkhorse said he felt that about 90 percent of the art was successful. For this reporter, the most arresting pieces are those that are sinisterly in sync with the Hades-like space, among them skulls, a pair of huge rats and a set of typographical strokes by the British graffiti artist SheOne that resemble the skeletal scratchings of a Lascaux cave painter.There is a certain amount of anarchic sloganeering and sly digs at the corporate-commercial complex. “WE OWN THE NIGHT,” blares one painting on an end wall. Another, by Mr. English, depicts Mickey Mouse on a respirator.One installation features a dining table set for two in the middle of a track bed, a relic of a three-course meal served on site by the artist-impresario Jeff Stark to the winner of a competition and her guest. “She wrote an essay about inviting a veteran of the club scene from the early ’90s who was a little out of touch with what younger artists are up in New York these days,” Mr. Stark said. “But he showed up and announced that he was claustrophobic,” so she ended up dining with a friend.Although other artists’ pieces would seem to be more permanent, the dampness of the space is already working against them. One thickly sprayed painting has simply never dried. The curators said they thought the painted works could last two or three decades if left untouched. But even assuming the work is discovered by the transportation authority sooner than that, PAC said, “I like the fact that it’ll feel apocalyptic, because things will be deteriorating, and it’ll already be a memory.”After this reporter’s tour, the curators destroyed the equipment they had been using to get in and out of the site. “We’re not under the illusion that no one will ever see it,” Workhorse said. “But what we are trying to do is to discourage it as much as possible.” He stressed that any self-styled explorer who found the site and attempted to enter it would be taking a real risk.“If you go in there and break your neck, nobody’s going to hear you scream,” he said — at least assuming there are no track workers around. “You’re just going to have to hope that someone is going to find you before you die.”'"
      ]
     },
     "execution_count": 106,
     "metadata": {},
     "output_type": "execute_result"
    }
   ],
   "source": [
    "df.text.iloc[0]"
   ]
  },
  {
   "cell_type": "code",
   "execution_count": 107,
   "metadata": {},
   "outputs": [
    {
     "data": {
      "text/plain": [
       "print_page                                                          1\n",
       "pub_date                                     2010-11-01T00:00:20+0000\n",
       "keywords            [{'name': 'subject', 'value': 'Graffiti', 'ran...\n",
       "type_of_material                                                 News\n",
       "lead_paragraph      A vast new exhibition space opened in New York...\n",
       "text                A vast new exhibition space opened in New York...\n",
       "Name: nyt://article/d5dc06a2-db1f-58f2-9a8f-061979998358, dtype: object"
      ]
     },
     "execution_count": 107,
     "metadata": {},
     "output_type": "execute_result"
    }
   ],
   "source": [
    "last_check_before_split = (df.iloc[0])\n",
    "last_check_before_split"
   ]
  },
  {
   "cell_type": "code",
   "execution_count": 108,
   "metadata": {},
   "outputs": [
    {
     "name": "stdout",
     "output_type": "stream",
     "text": [
      "News: 339111 Oped: 21387, Total: 360498, Op-Ed 0.06 of total\n"
     ]
    },
    {
     "data": {
      "image/png": "[encoded data removed]",
      "text/plain": [
       "<Figure size 432x288 with 1 Axes>"
      ]
     },
     "metadata": {},
     "output_type": "display_data"
    }
   ],
   "source": [
    "oped_v_news(df)"
   ]
  },
  {
   "cell_type": "markdown",
   "metadata": {},
   "source": [
    "# drop na"
   ]
  },
  {
   "cell_type": "code",
   "execution_count": 109,
   "metadata": {},
   "outputs": [
    {
     "data": {
      "text/plain": [
       "(360498, 6)"
      ]
     },
     "execution_count": 109,
     "metadata": {},
     "output_type": "execute_result"
    }
   ],
   "source": [
    "df.shape"
   ]
  },
  {
   "cell_type": "code",
   "execution_count": 110,
   "metadata": {},
   "outputs": [],
   "source": [
    "df = df.dropna()"
   ]
  },
  {
   "cell_type": "code",
   "execution_count": 111,
   "metadata": {},
   "outputs": [
    {
     "data": {
      "text/plain": [
       "(359957, 6)"
      ]
     },
     "execution_count": 111,
     "metadata": {},
     "output_type": "execute_result"
    }
   ],
   "source": [
    "df.shape"
   ]
  },
  {
   "cell_type": "markdown",
   "metadata": {},
   "source": [
    "# X, y"
   ]
  },
  {
   "cell_type": "code",
   "execution_count": 112,
   "metadata": {},
   "outputs": [],
   "source": [
    "#define X. X is currently pandas series of unsplit strings\n",
    "X = df.text"
   ]
  },
  {
   "cell_type": "code",
   "execution_count": 113,
   "metadata": {},
   "outputs": [],
   "source": [
    "#turn series into list...\n",
    "corpus = list(X)"
   ]
  },
  {
   "cell_type": "code",
   "execution_count": 114,
   "metadata": {},
   "outputs": [
    {
     "data": {
      "text/plain": [
       "'A vast new exhibition space opened in New York City this summer, with a show 18 months in the making. On view are works by 103 street artists from around the world, mostly big murals painted directly onto the gallery’s walls.It is one of the largest shows of such pieces ever mounted in one place, and many of the contributors are significant figures in both the street-art world and the commercial trade that now revolves around it. Its debut might have been expected to draw critics, art dealers and auction-house representatives, not to mention hordes of young fans. But none of them were invited.In the weeks since, almost no one has seen the show. The gallery, whose existence has been a closely guarded secret, closed on the same night it opened.Known to its creators and participating artists as the Underbelly Project, the space, where all the show’s artworks remain, defies every norm of the gallery scene. Collectors can’t buy the art. The public can’t see it. And the only people with a chance of stumbling across it are the urban explorers who prowl the city’s hidden infrastructure or employees of the Metropolitan Transportation Authority.That’s because the exhibition has been mounted, illegally, in a long-abandoned subway station. The dank, cavernous hall feels a lot farther than it actually is from the bright white rooms of Chelsea’s gallery district. Which is more or less the point: This is an art exhibition that goes to extremes to avoid being part of the art world, and even the world in general.The show’s curators, street artists themselves, unveiled the project for a single night, leading this reporter on a two-and-a-half hour tour. Determined to protect their secrecy, they offered the tour on condition that no details that might help identify the site be published, not even a description of the equipment they used to get in and out. And since they were (and remain) seriously concerned about the threat of prosecution, they agreed only to the use of street-artist pseudonyms.Workhorse, in his late 30s, is a well-known street artist with gallery representation; PAC, younger by a decade, is less established but familiar (under a different name) to followers of urban-art blogs. The two came up with the idea for the Underbelly Project in 2008, a few years after PAC first saw the old station, led to it from a functioning one by an urban explorer acquaintance.Abandoned stations like this — and there are a fair number of them in the city — are irresistible to those who search out hidden spaces in the city, despite or perhaps because of the fact that being there is illegal and potentially dangerous. PAC too found himself compelled after that first visit, and he began going back sporadically.Seduced by the AbandonedThe place was pitch black, but standing with a powerful flashlight on a platform, PAC said, he had been able to make out a landscape of several more platforms, each lined with rows of columns, alternating with sunken track beds. The station, about the size of a football field, had clearly never been completed: no track had been laid in those beds, no escalators or staircases met the gaping holes in the platforms, and there was no electricity.“I would hang out here for hours,” PAC said, enjoying “the solitude of being underground” and the architecture.Then he met Workhorse, whose art often focuses on abandoned spaces.“I told him I knew about a space that was pretty cool,” PAC said, and “brought him down here, and that night the idea for the project hatched.”The difficult process of getting to the Underbelly space — which involves waiting at an active station’s platform until it’s empty, slipping from it into the damp and very dirty no man’s land beyond, and traversing that to get to the old station’s entrance — suggested to PAC and Workhorse how challenging the project would be. And the legal risks were obvious. Charles F. Seaton, a spokesman for New York City Transit, described such incursions as “trespassing, punishable by law,” and said “anyone caught defacing M.T.A. property is subject to arrest and fine.” Beyond that, Workhorse and PAC worried that given anxiety about terrorism in the subway, a large-scale, long-term project like theirs might even lead to more serious charges.But Workhorse said: “There is a certain type of person that the urban art movement has bred that enjoys the adventure as much as the art. Where else do you see a creative person risking themselves legally, financially, physically and creatively?”In recent years, he said, as the vogue for street art has led to “anything that could possibly appreciate in value being ripped off the street by those looking to cash in,” the old sense of adventure and punk-rock energy has faded. The change isn’t all bad, he said: the runaway market for stars like Banksy has had a nice trickle-down effect for artists like him. But he said he feels strongly that something fundamental has been lost.PAC and Workhorse saw the Underbelly Project as a way to recapture that feeling and evade the whims of the marketplace. Workhorse called it “an eternal show without a crowd.” (He waved away the idea that there might be something perverse about creating art that normally revels in visibility for an audience of just a few. “We just see it as art, not street art,” he said, adding he had never felt a need to take all his drawings, for example, “and shove them in someone’s face.”)Not that he and PAC are averse to the project being publicized. Asked why they had sought out the freelance reporter who wrote this article, as well as one for this week’s Sunday Times Magazine of London, they cited their pride.“We do want to preserve the kind of sacred quality of the place,” PAC said, “but we also want people to know it exists. And we want it to become part of the folklore of the urban art scene.” Let’s Put On a ShowIn early 2009 Workhorse and PAC began putting out feelers among street artists, seeking a mix of the established and the up and coming. (For security reasons they avoided “anyone more than a step away from someone we knew well,” Workhorse said.) Soon they brought their first collaborators down to the site, Jim and Tina Darling, West Coast artists who painted big, contrasting images — his a leering man’s face, hers a woman with windblown hair — in a small side room. They worked for two long nights, after which all parties emerged exhausted and filthy with soot. Workhorse and PAC realized that their goal of including about 100 contributors would be more difficult than they had imagined, and would take a lot more time.They set some ground rules. Since bringing artists in and out of the space required careful planning — by now they had figured out that the active platform was emptiest on late nights early in the week — and since one or both of the curators had to be on hand, Workhorse and PAC set strict schedules and limited each artist to one visit, with four hours of working time. The artists were not allowed to go out for more materials if they ran out. (Workhorse and PAC supplied lighting in the form of camping lanterns. “We went through hundreds of batteries,” Workhorse said.) And in addition to their materials, the artists had to pay for their transportation, regardless of the distance.Of the international artists approached, most were from Europe. (Banksy, the most famous of this group, turned them down: He was promoting his film “Exit Through the Gift Shop,” Workhorse said, and told them through a mutual friend, “\\xa0‘Great project, love it, but I can’t risk going in.’\\xa0”) But more contributors were American, among them well known names like Ron English (whose most recent work has been priced at up to $200,000), Swoon and Revok.And many lived in New York, the wellspring of the graffiti movement in the 1970s. Patrick McNeil, of the Brooklyn collective Faile, received an e-mail from PAC, and signed on quickly. “It was really appealing because it sounded a little crazy,” he said. “You did it because you wanted to do it, not because there was any money.”Working conditions were far from favorable. The ambient humidity made stenciling and the wheat-pasting used by some artists laborious. While making his own piece — a self-portrait in an empty subway car — Workhorse had “to literally bash the tape for the stencil into the wall with the palm of my hand,” he said. “I woke up the next morning and couldn’t write.” (PAC, meanwhile, was happy with the dripping effect caused by the paint’s refusal to dry in his black-and-white diamond-pattern mural.)The Metropolitan Transit Authority would occasionally shut down the nearby subway line. The artists, working through the night, would hear workers on the tracks and go silent, turning out any lights. The members of Faile were among several participants stuck that way for hours after their work (in their case, a woozy, zigzagging version of the Stars and Stripes) was done. “We were getting crazy,” Mr. McNeil recalled. “We were like, ‘We’ve got to get the hell out of this dusty blackness.’ You couldn’t see your hand in front of your face.”Finally at 4 a.m., Mr. McNeil said, the coast seemed clear, and “we walked out there with our gear”; but the workers were still there. “We just walked by them and they’re like, ‘Where the hell did these guys come from?’\\xa0”The scariest moment came around 1:30 one morning, just after Workhorse had left the site with a Moscow-based Australian artist known as Strafe (who spoke on condition that her real name not be used). They heard workers nearby and sprinted back in the dark, but once back on their platform, Strafe said, “I swung round and stepped into thin air, and literally fell onto my back on the track bed.” Too stunned to move, she looked at Workhorse, who had jumped down to join her with a flashlight. She said she saw a look of horror that said, “\\xa0‘What are we going to do if she’s seriously injured?’\\xa0” Eventually she was able to sit up, but they still had to wait until after 5 a.m. to leave.Art, UndergroundWorkhorse said he felt that about 90 percent of the art was successful. For this reporter, the most arresting pieces are those that are sinisterly in sync with the Hades-like space, among them skulls, a pair of huge rats and a set of typographical strokes by the British graffiti artist SheOne that resemble the skeletal scratchings of a Lascaux cave painter.There is a certain amount of anarchic sloganeering and sly digs at the corporate-commercial complex. “WE OWN THE NIGHT,” blares one painting on an end wall. Another, by Mr. English, depicts Mickey Mouse on a respirator.One installation features a dining table set for two in the middle of a track bed, a relic of a three-course meal served on site by the artist-impresario Jeff Stark to the winner of a competition and her guest. “She wrote an essay about inviting a veteran of the club scene from the early ’90s who was a little out of touch with what younger artists are up in New York these days,” Mr. Stark said. “But he showed up and announced that he was claustrophobic,” so she ended up dining with a friend.Although other artists’ pieces would seem to be more permanent, the dampness of the space is already working against them. One thickly sprayed painting has simply never dried. The curators said they thought the painted works could last two or three decades if left untouched. But even assuming the work is discovered by the transportation authority sooner than that, PAC said, “I like the fact that it’ll feel apocalyptic, because things will be deteriorating, and it’ll already be a memory.”After this reporter’s tour, the curators destroyed the equipment they had been using to get in and out of the site. “We’re not under the illusion that no one will ever see it,” Workhorse said. “But what we are trying to do is to discourage it as much as possible.” He stressed that any self-styled explorer who found the site and attempted to enter it would be taking a real risk.“If you go in there and break your neck, nobody’s going to hear you scream,” he said — at least assuming there are no track workers around. “You’re just going to have to hope that someone is going to find you before you die.”'"
      ]
     },
     "execution_count": 114,
     "metadata": {},
     "output_type": "execute_result"
    }
   ],
   "source": [
    "corpus[0]"
   ]
  },
  {
   "cell_type": "code",
   "execution_count": 115,
   "metadata": {},
   "outputs": [],
   "source": [
    "# define y as a series of op-ed or news\n",
    "y = df.type_of_material"
   ]
  },
  {
   "cell_type": "code",
   "execution_count": 116,
   "metadata": {},
   "outputs": [
    {
     "data": {
      "text/plain": [
       "_id\n",
       "nyt://article/d5dc06a2-db1f-58f2-9a8f-061979998358    0\n",
       "nyt://article/6dedf0cd-767d-558d-8637-2b4512d23d05    0\n",
       "nyt://article/873adafd-1ba0-5aa6-a482-f401d99fb541    0\n",
       "nyt://article/c69e42ef-f363-5979-b176-a352c6264df8    0\n",
       "nyt://article/c9f54c4f-c608-5a4c-bdf1-73d7e8890ed1    0\n",
       "                                                     ..\n",
       "nyt://article/a4383433-5708-530c-bf78-2ec5ee0d96cd    0\n",
       "nyt://article/aff30fb5-0177-5fed-b8b5-55656f2672f6    0\n",
       "nyt://article/d67ea079-eaf8-5e69-a77c-3138a3fc91cb    0\n",
       "nyt://article/5af20a48-6f66-5bae-a9fd-948268ed38cf    0\n",
       "nyt://article/3aea061c-d11a-53d1-8480-c0b163740360    0\n",
       "Name: type_of_material, Length: 359957, dtype: int64"
      ]
     },
     "execution_count": 116,
     "metadata": {},
     "output_type": "execute_result"
    }
   ],
   "source": [
    "vectorize_y_ser(y)"
   ]
  },
  {
   "cell_type": "code",
   "execution_count": 117,
   "metadata": {},
   "outputs": [
    {
     "name": "stdout",
     "output_type": "stream",
     "text": [
      "CPU times: user 99.2 ms, sys: 6.26 ms, total: 105 ms\n",
      "Wall time: 106 ms\n"
     ]
    }
   ],
   "source": [
    "%%time\n",
    "# vectorize y in to (1, 0) (op-ed, news)\n",
    "y = vectorize_y_ser(y)"
   ]
  },
  {
   "cell_type": "code",
   "execution_count": 118,
   "metadata": {},
   "outputs": [
    {
     "data": {
      "text/plain": [
       "0    338600\n",
       "1     21357\n",
       "Name: type_of_material, dtype: int64"
      ]
     },
     "execution_count": 118,
     "metadata": {},
     "output_type": "execute_result"
    }
   ],
   "source": [
    "y.value_counts()"
   ]
  },
  {
   "cell_type": "code",
   "execution_count": 119,
   "metadata": {},
   "outputs": [
    {
     "data": {
      "text/plain": [
       "(359957,)"
      ]
     },
     "execution_count": 119,
     "metadata": {},
     "output_type": "execute_result"
    }
   ],
   "source": [
    "y.shape\n",
    "X.shape"
   ]
  },
  {
   "cell_type": "markdown",
   "metadata": {},
   "source": [
    "# remove stop words"
   ]
  },
  {
   "cell_type": "markdown",
   "metadata": {},
   "source": [
    "# stemming/lemmatization"
   ]
  },
  {
   "cell_type": "code",
   "execution_count": 120,
   "metadata": {},
   "outputs": [],
   "source": [
    "snowball = SnowballStemmer('english')\n",
    "wordnet = WordNetLemmatizer()"
   ]
  },
  {
   "cell_type": "code",
   "execution_count": 121,
   "metadata": {},
   "outputs": [],
   "source": [
    "# %%time\n",
    "# def snowball_tokenize(doc):\n",
    "#     snowball = SnowballStemmer('english')\n",
    "#     return [snowball.stem(word) for word in word_tokenize(doc.lower())]"
   ]
  },
  {
   "cell_type": "code",
   "execution_count": 122,
   "metadata": {},
   "outputs": [
    {
     "name": "stdout",
     "output_type": "stream",
     "text": [
      "CPU times: user 3 µs, sys: 1e+03 ns, total: 4 µs\n",
      "Wall time: 7.15 µs\n"
     ]
    }
   ],
   "source": [
    "%%time\n",
    "def wordnet_tokenize(doc):\n",
    "    wordnet = WordNetLemmatizer()\n",
    "    return  [wordnet.lemmatize(word) for word in word_tokenize(doc.lower())]"
   ]
  },
  {
   "cell_type": "markdown",
   "metadata": {},
   "source": [
    "# vectorizer"
   ]
  },
  {
   "cell_type": "markdown",
   "metadata": {},
   "source": [
    "# WORDNET tfidf"
   ]
  },
  {
   "cell_type": "code",
   "execution_count": 123,
   "metadata": {},
   "outputs": [],
   "source": [
    "import string"
   ]
  },
  {
   "cell_type": "code",
   "execution_count": 124,
   "metadata": {},
   "outputs": [
    {
     "name": "stdout",
     "output_type": "stream",
     "text": [
      "!\"#$%&'()*+,-./:;<=>?@[\\]^_`{|}~\n",
      "!\"#$%&'()*+,-./:;<=>?@[\\]^_`{|}~\n"
     ]
    }
   ],
   "source": [
    "print(string.punctuation)\n",
    "print('!\"#$%&\\'()*+,-./:;<=>?@[\\\\]^_`{|}~')"
   ]
  },
  {
   "cell_type": "code",
   "execution_count": 125,
   "metadata": {},
   "outputs": [],
   "source": [
    "# nytimes_quotes = \"”“\"\n",
    "# nytimes_punctuation = \"—’\""
   ]
  },
  {
   "cell_type": "code",
   "execution_count": 126,
   "metadata": {},
   "outputs": [],
   "source": [
    "#function that removes string.punctuation w/out the '?'\n",
    "def punc_strip(document):\n",
    "    for char in document:\n",
    "        if char in '!\"#$%&\\'()*+—,-./:;<=>?@[\\\\]^_`{|}~':\n",
    "            document = document.replace(char, \" \")\n",
    "        if char == '’':\n",
    "            document = document.replace(char, \"\")\n",
    "    return document"
   ]
  },
  {
   "cell_type": "code",
   "execution_count": 127,
   "metadata": {},
   "outputs": [],
   "source": [
    "stop_words_nlp = ['isn']"
   ]
  },
  {
   "cell_type": "code",
   "execution_count": 128,
   "metadata": {},
   "outputs": [],
   "source": [
    "alphabet = ['a','b','c','d','e','f','g','h','i','j','k','l','m','n','o','p','q','r','s','t','u','v','w','x','y','z']"
   ]
  },
  {
   "cell_type": "code",
   "execution_count": 129,
   "metadata": {},
   "outputs": [],
   "source": [
    "stop_words = alphabet# + stop_words_nlp"
   ]
  },
  {
   "cell_type": "code",
   "execution_count": 130,
   "metadata": {},
   "outputs": [
    {
     "name": "stdout",
     "output_type": "stream",
     "text": [
      "CPU times: user 150 µs, sys: 1.12 ms, total: 1.27 ms\n",
      "Wall time: 2.74 ms\n"
     ]
    }
   ],
   "source": [
    "%%time\n",
    "#create vectorizer\n",
    "\n",
    "vectorizer = TfidfVectorizer(#input='content', \n",
    "#                 encoding='utf-8', \n",
    "#                 decode_error='strict', \n",
    "#                 strip_accents='ascii', \n",
    "#                 lowercase=True, \n",
    "                 preprocessor=punc_strip, \n",
    "                 tokenizer=wordnet_tokenize, \n",
    "#                 analyzer='word', \n",
    "                 stop_words=stop_words,\n",
    "#                 token_pattern='(?u)\\b\\w\\w+\\b', \n",
    "#                 ngram_range=(1, 2), \n",
    "                 max_df=0.85, \n",
    "                 min_df=0.1, \n",
    "                 max_features=None, \n",
    "#                 vocabulary=None, \n",
    "#                 binary=False, \n",
    "#                 dtype=<class 'numpy.float64'>, \n",
    "#                 norm='l2', \n",
    "#                 use_idf=True, \n",
    "#                 smooth_idf=True, \n",
    "#                 sublinear_tf=False\n",
    ")"
   ]
  },
  {
   "cell_type": "markdown",
   "metadata": {},
   "source": [
    "# test, train, split"
   ]
  },
  {
   "cell_type": "code",
   "execution_count": 131,
   "metadata": {},
   "outputs": [],
   "source": [
    "#test, train, split"
   ]
  },
  {
   "cell_type": "code",
   "execution_count": null,
   "metadata": {},
   "outputs": [
    {
     "name": "stdout",
     "output_type": "stream",
     "text": [
      "(269967,) (89990,) (269967,) (89990,)\n"
     ]
    }
   ],
   "source": [
    "%%time\n",
    "#test, train, split\n",
    "X_train, X_test, y_train, y_test = train_test_split(X, y, random_state=50)\n",
    "print(X_train.shape, X_test.shape, y_train.shape, y_test.shape)\n",
    "\n",
    "X_train = vectorizer.fit_transform(X_train)\n",
    "\n",
    "X_test = vectorizer.transform(X_test)"
   ]
  },
  {
   "cell_type": "code",
   "execution_count": null,
   "metadata": {},
   "outputs": [],
   "source": [
    "X_train.shape"
   ]
  },
  {
   "cell_type": "code",
   "execution_count": null,
   "metadata": {},
   "outputs": [],
   "source": [
    "X_test.shape"
   ]
  },
  {
   "cell_type": "markdown",
   "metadata": {},
   "source": [
    "# count vectorizer"
   ]
  },
  {
   "cell_type": "code",
   "execution_count": null,
   "metadata": {},
   "outputs": [],
   "source": [
    "# count_vectorizer = CountVectorizer(strip_accents='None',\n",
    "#                                    lowercase=True,\n",
    "#                                    tokenizer=snowball_tokenize,\n",
    "#                                    stop_words='english',\n",
    "#                                    max_features=None)"
   ]
  },
  {
   "cell_type": "markdown",
   "metadata": {},
   "source": [
    "# balance classes"
   ]
  },
  {
   "cell_type": "code",
   "execution_count": null,
   "metadata": {},
   "outputs": [],
   "source": [
    "%%time\n",
    "#balance the classes\n",
    "\n",
    "from imblearn.under_sampling import RandomUnderSampler\n",
    "rus = RandomUnderSampler(random_state=0)\n",
    "\n",
    "#X, y --> X_resampled, y_resampled\n",
    "X_resampled, y_resampled = rus.fit_resample(X_train, y_train)\n",
    "print(sorted(Counter(y_resampled).items()))\n",
    "print(rus)"
   ]
  },
  {
   "cell_type": "markdown",
   "metadata": {},
   "source": [
    "# random forest classifier"
   ]
  },
  {
   "cell_type": "code",
   "execution_count": null,
   "metadata": {},
   "outputs": [],
   "source": [
    "%%time\n",
    "print(datetime.datetime.now())\n",
    "rf_clf = RandomForestClassifier(max_depth=2, random_state=0)"
   ]
  },
  {
   "cell_type": "code",
   "execution_count": null,
   "metadata": {},
   "outputs": [],
   "source": [
    "rf_clf.fit(X_resampled, y_resampled)\n",
    "y_pred = rf_clf.predict(X_test)\n",
    "y_pred.shape"
   ]
  },
  {
   "cell_type": "markdown",
   "metadata": {},
   "source": [
    "### metrics y_pred"
   ]
  },
  {
   "cell_type": "code",
   "execution_count": null,
   "metadata": {},
   "outputs": [],
   "source": [
    "tn, fp, fn, tp = confusion_matrix(y_true = y_test, y_pred = y_pred).ravel()"
   ]
  },
  {
   "cell_type": "code",
   "execution_count": null,
   "metadata": {},
   "outputs": [],
   "source": [
    "print(y_test.shape)\n",
    "print(y_pred.shape)"
   ]
  },
  {
   "cell_type": "code",
   "execution_count": null,
   "metadata": {},
   "outputs": [],
   "source": [
    "metrics_(tn, fp, fn, tp)"
   ]
  },
  {
   "cell_type": "code",
   "execution_count": null,
   "metadata": {},
   "outputs": [],
   "source": [
    "class_names = [\"News\", \"Op-Ed\"]\n",
    "plot_confusion_matrix(estimator=rf_clf,\n",
    "                      X=X_test,\n",
    "                      y_true=y_test,\n",
    "                      display_labels=class_names,\n",
    "                      cmap='cividis')\n",
    "#plt.savefig('img/confusion_matrix.png');"
   ]
  },
  {
   "cell_type": "markdown",
   "metadata": {},
   "source": [
    "# vectorizer parameters"
   ]
  },
  {
   "cell_type": "code",
   "execution_count": null,
   "metadata": {},
   "outputs": [],
   "source": [
    "vectorizer_parameters(vectorizer)"
   ]
  },
  {
   "cell_type": "markdown",
   "metadata": {},
   "source": [
    "# important features"
   ]
  },
  {
   "cell_type": "markdown",
   "metadata": {},
   "source": [
    "### feature imporance"
   ]
  },
  {
   "cell_type": "code",
   "execution_count": null,
   "metadata": {
    "scrolled": true
   },
   "outputs": [],
   "source": [
    "%%time\n",
    "print(datetime.datetime.now())\n",
    "\n",
    "feat_names = vectorizer.get_feature_names()\n",
    "feature_import = rf_clf.feature_importances_\n",
    "\n",
    "feat_scores = pd.Series(feature_import, index=feat_names)\n",
    "feat_scores = feat_scores.sort_values()\n",
    "ax = feat_scores[-10:].plot(kind='barh', figsize=(20,15))\n",
    "ax.set_title('\"Decrease in Impurity\" Importance')\n",
    "ax.set_xlabel('Average contribution to the reduction in variance')\n",
    "#plt.savefig('img/feature_imporance.png');"
   ]
  },
  {
   "cell_type": "code",
   "execution_count": null,
   "metadata": {
    "scrolled": true
   },
   "outputs": [],
   "source": [
    "feat_scores[-10:].index"
   ]
  },
  {
   "cell_type": "code",
   "execution_count": null,
   "metadata": {},
   "outputs": [],
   "source": [
    "count_df = df[['text', 'type_of_material']]\n",
    "oped = count_df[count_df['type_of_material'] == \"Op-Ed\"]\n",
    "news = count_df[count_df['type_of_material'] == \"News\"]"
   ]
  },
  {
   "cell_type": "code",
   "execution_count": null,
   "metadata": {},
   "outputs": [],
   "source": [
    "print(oped.shape)\n",
    "print(news.shape)"
   ]
  },
  {
   "cell_type": "code",
   "execution_count": null,
   "metadata": {},
   "outputs": [],
   "source": [
    "oped_string = oped.text.str.cat(sep = \" \")\n",
    "num_oped_string = len(oped_string)\n",
    "print(num_oped_string)"
   ]
  },
  {
   "cell_type": "code",
   "execution_count": null,
   "metadata": {},
   "outputs": [],
   "source": [
    "news_string = news.text.str.cat(sep = \" \")\n",
    "num_news_string = len(news_string)\n",
    "print(num_news_string)"
   ]
  },
  {
   "cell_type": "markdown",
   "metadata": {},
   "source": [
    "# counting"
   ]
  },
  {
   "cell_type": "code",
   "execution_count": null,
   "metadata": {},
   "outputs": [],
   "source": [
    "top = feat_scores[-6:].index"
   ]
  },
  {
   "cell_type": "code",
   "execution_count": null,
   "metadata": {},
   "outputs": [],
   "source": [
    "%%time\n",
    "oped_list = [word for word in oped_string.split() if word in list(top)]\n",
    "oped_ed_counter = Counter(oped_list)\n",
    "oped_ed_counter.items()"
   ]
  },
  {
   "cell_type": "code",
   "execution_count": null,
   "metadata": {},
   "outputs": [],
   "source": [
    "%%time\n",
    "news_list = [word for word in news_string.split() if word  in list(top)]\n",
    "news_counter = Counter(news_list)\n",
    "news_counter.items()"
   ]
  },
  {
   "cell_type": "markdown",
   "metadata": {},
   "source": [
    "# merge dictionary"
   ]
  },
  {
   "cell_type": "code",
   "execution_count": null,
   "metadata": {},
   "outputs": [],
   "source": [
    "# merge_dic.val[0] = news\n",
    "# merge_dic.val[1] = oped\n",
    "\n",
    "merge_dic = {}\n",
    "for key, oped_val in oped_ed_counter.items():\n",
    "    news_val = news_counter.get(key)\n",
    "    merged_values = (news_val, oped_val)\n",
    "    merged_values_set = set(merged_values)\n",
    "    merge_dic[key] = merged_values_set"
   ]
  },
  {
   "cell_type": "code",
   "execution_count": null,
   "metadata": {
    "scrolled": false
   },
   "outputs": [],
   "source": [
    "import matplotlib\n",
    "import matplotlib.pyplot as plt\n",
    "import numpy as np\n",
    "\n",
    "merge_dic = {}\n",
    "for key, oped_val in oped_ed_counter.items():\n",
    "    news_val = news_counter.get(key)\n",
    "    merged_values = (news_val, oped_val)\n",
    "    merge_dic[key] = merged_values\n",
    "\n",
    "keys = []\n",
    "news_counts = []\n",
    "oped_counts = []\n",
    "    \n",
    "for k, v in merge_dic.items():\n",
    "    keys.append(k)\n",
    "    news_counts.append(v[0]/num_news_string)\n",
    "    oped_counts.append(v[1]/num_oped_string)\n",
    "\n",
    "x = np.arange(len(keys))  # the label locations\n",
    "width = 0.35  # the width of the bars\n",
    "\n",
    "fig, ax = plt.subplots(figsize=(15,10))\n",
    "rects1 = ax.bar(x - width/2, news_counts, width, label='News')\n",
    "rects2 = ax.bar(x + width/2, oped_counts, width, label='Op-Ed')\n",
    "\n",
    "\n",
    "# Add some text for labels, title and custom x-axis tick labels, etc.\n",
    "ax.set_ylabel('Count')\n",
    "ax.set_title('Word distribution in News and Op-Ed')\n",
    "ax.set_xticks(x)\n",
    "#ax.set_yscale('log')\n",
    "ax.set_xticklabels(keys)\n",
    "ax.legend()\n",
    "\n",
    "# def autolabel(rects):\n",
    "#     \"\"\"Attach a text label above each bar in *rects*, displaying its height.\"\"\"\n",
    "#     for rect in rects:\n",
    "#         height = rect.get_height()\n",
    "#         ax.annotate('{}'.format(height),\n",
    "#                     xy=(rect.get_x() + rect.get_width() / 2, height),\n",
    "#                     xytext=(0, 3),  # 3 points vertical offset\n",
    "#                     textcoords=\"offset points\",\n",
    "#                     ha='center', va='bottom')\n",
    "\n",
    "# autolabel(rects1)\n",
    "# autolabel(rects2)\n",
    "\n",
    "fig.tight_layout()\n",
    "plt.xticks(rotation=45, fontsize=30)\n",
    "plt.show()"
   ]
  },
  {
   "cell_type": "markdown",
   "metadata": {},
   "source": [
    "# oped most common "
   ]
  },
  {
   "cell_type": "code",
   "execution_count": 81,
   "metadata": {},
   "outputs": [
    {
     "ename": "NameError",
     "evalue": "name 'top_10' is not defined",
     "output_type": "error",
     "traceback": [
      "\u001b[0;31m---------------------------------------------------------------------------\u001b[0m",
      "\u001b[0;31mNameError\u001b[0m                                 Traceback (most recent call last)",
      "\u001b[0;32m<ipython-input-81-5c77bfcd5be8>\u001b[0m in \u001b[0;36m<module>\u001b[0;34m\u001b[0m\n\u001b[0;32m----> 1\u001b[0;31m \u001b[0mtop_10\u001b[0m\u001b[0;34m\u001b[0m\u001b[0;34m\u001b[0m\u001b[0m\n\u001b[0m",
      "\u001b[0;31mNameError\u001b[0m: name 'top_10' is not defined"
     ]
    }
   ],
   "source": [
    "top_10"
   ]
  },
  {
   "cell_type": "code",
   "execution_count": null,
   "metadata": {},
   "outputs": [],
   "source": [
    "%%time\n",
    "oped_list_features = [word for word in oped_string.split() if word in list(top)]\n",
    "oped_ed_count_total = Counter(oped_list_features)"
   ]
  },
  {
   "cell_type": "code",
   "execution_count": null,
   "metadata": {},
   "outputs": [],
   "source": [
    "%%time\n",
    "news_list_features = [word for word in news_string.split() if word in list(top)]\n",
    "news_counter_total = Counter(news_list_features)"
   ]
  },
  {
   "cell_type": "code",
   "execution_count": null,
   "metadata": {},
   "outputs": [],
   "source": [
    "%%time\n",
    "merge_dic_total = {}\n",
    "for key, oped_val in oped_ed_count_total.items():\n",
    "    news_val = news_counter_total.get(key)\n",
    "    merged_values_total = (news_val, oped_val)\n",
    "    merge_dic_total[key] = merged_values_total\n",
    "\n",
    "news_words = []\n",
    "oped_words = []\n",
    "    \n",
    "for k, v in merge_dic_total.items():\n",
    "    if v[0]/num_news_string > v[1]/num_oped_string:\n",
    "        news_words.append(k)\n",
    "    else:\n",
    "        oped_words.append(k)"
   ]
  },
  {
   "cell_type": "code",
   "execution_count": null,
   "metadata": {},
   "outputs": [],
   "source": [
    "len(top_10)"
   ]
  },
  {
   "cell_type": "code",
   "execution_count": null,
   "metadata": {},
   "outputs": [],
   "source": [
    "print(len(news_words))\n",
    "print(len(oped_words))"
   ]
  },
  {
   "cell_type": "code",
   "execution_count": null,
   "metadata": {},
   "outputs": [],
   "source": [
    "news_words"
   ]
  },
  {
   "cell_type": "code",
   "execution_count": null,
   "metadata": {},
   "outputs": [],
   "source": [
    "oped_words"
   ]
  },
  {
   "cell_type": "code",
   "execution_count": null,
   "metadata": {},
   "outputs": [],
   "source": [
    "print(num_oped_string)\n",
    "print(num_news_string)"
   ]
  },
  {
   "cell_type": "code",
   "execution_count": null,
   "metadata": {},
   "outputs": [],
   "source": [
    "# import matplotlib\n",
    "# import matplotlib.pyplot as plt\n",
    "# import numpy as np\n",
    "\n",
    "\n",
    "# labels = oped_ed_counter.keys()\n",
    "# #news_labels = news_counter.keys()\n",
    "\n",
    "# oped_counts = oped_ed_counter.values()\n",
    "# #news_counts = news_counter.values()\n",
    "\n",
    "# x = np.arange(len(labels))  # the label locations\n",
    "# width = 0.5  # the width of the bars\n",
    "\n",
    "# fig, ax = plt.subplots(figsize=(10,10))\n",
    "# rects1 = ax.bar(x - width/2, oped_counts, width, label='oped')\n",
    "# #rects2 = ax.bar(x + width/2, news_counts, width, label='news')\n",
    "\n",
    "# # Add some text for labels, title and custom x-axis tick labels, etc.\n",
    "# #ax.set_ylabel('Scores')\n",
    "# ax.set_title('words in oped corpus')\n",
    "# ax.set_xticks(x)\n",
    "# ax.set_xticklabels(labels)\n",
    "# ax.legend()\n",
    "\n",
    "# fig.tight_layout()\n",
    "# plt.xticks(rotation=90)\n",
    "# plt.show()"
   ]
  },
  {
   "cell_type": "code",
   "execution_count": null,
   "metadata": {},
   "outputs": [],
   "source": [
    "# import matplotlib\n",
    "# import matplotlib.pyplot as plt\n",
    "# import numpy as np\n",
    "\n",
    "\n",
    "# labels = news_counter.keys()\n",
    "# #news_labels = news_counter.keys()\n",
    "\n",
    "# oped_counts = news_counter.values()\n",
    "# #news_counts = news_counter.values()\n",
    "\n",
    "# x = np.arange(len(labels))  # the label locations\n",
    "# width = 0.5  # the width of the bars\n",
    "\n",
    "# fig, ax = plt.subplots(figsize=(10,10))\n",
    "# rects1 = ax.bar(x - width/2, oped_counts, width, label='news')\n",
    "# #rects2 = ax.bar(x + width/2, news_counts, width, label='news')\n",
    "\n",
    "# # Add some text for labels, title and custom x-axis tick labels, etc.\n",
    "# #ax.set_ylabel('Scores')\n",
    "# ax.set_title('words in news corpus')\n",
    "# ax.set_xticks(x)\n",
    "# ax.set_xticklabels(labels)\n",
    "# ax.legend()\n",
    "\n",
    "# fig.tight_layout()\n",
    "# plt.xticks(rotation=90)\n",
    "# plt.show()"
   ]
  },
  {
   "cell_type": "markdown",
   "metadata": {},
   "source": [
    "### permutation importance"
   ]
  },
  {
   "cell_type": "code",
   "execution_count": null,
   "metadata": {},
   "outputs": [],
   "source": [
    "# %%time\n",
    "# print(datetime.datetime.now())\n",
    "# r = permutation_importance(rf_clf, X_test.toarray(), y_test, n_repeats=30, random_state=0)"
   ]
  },
  {
   "cell_type": "code",
   "execution_count": null,
   "metadata": {},
   "outputs": [],
   "source": [
    "# for i in r.importances_mean.argsort()[::-1]:\n",
    "#     if r.importances_mean[i] - 2 * r.importances_std[i] > 0:\n",
    "#         print(f\"{feat_names[i]:<8}\"\n",
    "#               f\"{r.importances_mean[i]:.3f}\"\n",
    "#               f\" +/- {r.importances_std[i]:.3f}\")"
   ]
  },
  {
   "cell_type": "code",
   "execution_count": null,
   "metadata": {},
   "outputs": [],
   "source": [
    "# for i in r.importances_mean.argsort()[::-1]:\n",
    "#     if r.importances_mean[i] - 2 * r.importances_std[i] > 0:\n",
    "#         print(f\"{feat_names[i]:<20}\")\n",
    "# #               f\"{r.importances_mean[i]:.3f}\"\n",
    "# #               f\" +/- {r.importances_std[i]:.3f}\")"
   ]
  },
  {
   "cell_type": "code",
   "execution_count": null,
   "metadata": {},
   "outputs": [],
   "source": [
    "# len(feat_names)"
   ]
  },
  {
   "cell_type": "markdown",
   "metadata": {},
   "source": []
  },
  {
   "cell_type": "code",
   "execution_count": null,
   "metadata": {},
   "outputs": [],
   "source": [
    "#corpus[0]"
   ]
  },
  {
   "cell_type": "markdown",
   "metadata": {},
   "source": [
    "# make a plot"
   ]
  },
  {
   "cell_type": "code",
   "execution_count": null,
   "metadata": {},
   "outputs": [],
   "source": [
    "#y"
   ]
  },
  {
   "cell_type": "code",
   "execution_count": null,
   "metadata": {},
   "outputs": [],
   "source": [
    "#min_df = np.linspace(0,.4,5)"
   ]
  },
  {
   "cell_type": "code",
   "execution_count": null,
   "metadata": {},
   "outputs": [],
   "source": [
    "#min_df"
   ]
  },
  {
   "cell_type": "code",
   "execution_count": null,
   "metadata": {},
   "outputs": [],
   "source": [
    "#corpus[0]"
   ]
  },
  {
   "cell_type": "markdown",
   "metadata": {},
   "source": [
    "# min_df_plot"
   ]
  },
  {
   "cell_type": "code",
   "execution_count": null,
   "metadata": {},
   "outputs": [],
   "source": [
    "# #%%time\n",
    "# #num_feat_min = []\n",
    "\n",
    "# #min_df = np.linspace(0.01,0.5,5)\n",
    "\n",
    "# for val in min_df:\n",
    "#     vectorizer_plot = TfidfVectorizer(preprocessor=punc_strip,\n",
    "# #                 tokenizer=wordnet_tokenize,\n",
    "#                 stop_words=alphabet,\n",
    "# #                 max_df=0.95,\n",
    "#                  min_df=val,\n",
    "#                  max_features=None)\n",
    "    \n",
    "#     vectorizer_plot.fit(X)\n",
    "    \n",
    "#     features = vectorizer_plot.get_feature_names()\n",
    "#     stop_word = vectorizer_plot.get_stop_words()\n",
    "\n",
    "#     num_feat_min.append(len(features))"
   ]
  },
  {
   "cell_type": "code",
   "execution_count": null,
   "metadata": {},
   "outputs": [],
   "source": [
    "# learn_vect = TfidfVectorizer(preprocessor=punc_strip,\n",
    "#                  tokenizer=wordnet_tokenize,\n",
    "# #            stop_words=alphabet,\n",
    "# #                max_df=0.95,\n",
    "#              min_df=.2,\n",
    "#              max_features=None)\n",
    "\n",
    "# learn_vect.fit(X)\n",
    "\n",
    "# min_df_features = learn_vect.get_feature_names()\n",
    "# stop_word = learn_vect.get_stop_words()"
   ]
  },
  {
   "cell_type": "code",
   "execution_count": null,
   "metadata": {},
   "outputs": [],
   "source": [
    "#len(min_df_features)"
   ]
  },
  {
   "cell_type": "code",
   "execution_count": null,
   "metadata": {},
   "outputs": [],
   "source": [
    "#min_df_features"
   ]
  },
  {
   "cell_type": "markdown",
   "metadata": {},
   "source": [
    "# max_features"
   ]
  },
  {
   "cell_type": "code",
   "execution_count": null,
   "metadata": {},
   "outputs": [],
   "source": [
    "# %%time\n",
    "# TN = []\n",
    "# FP = []\n",
    "# FN = []\n",
    "# TP = []\n",
    "\n",
    "# num_feat = np.linspace(1000,50000,6)\n",
    "\n",
    "# for val in num_feat:\n",
    "#     vectorizer_plot = TfidfVectorizer(preprocessor=punc_strip,\n",
    "# #                 tokenizer=wordnet_tokenize,\n",
    "#                 stop_words=alphabet,\n",
    "# #                 max_df=0.95,\n",
    "# #                 min_df=val,\n",
    "#                  max_features=int(val))\n",
    "\n",
    "#     #test, train, split\n",
    "#     X_train, X_test, y_train, y_test = train_test_split(X, y, random_state=50)\n",
    "\n",
    "#     X_train = vectorizer_plot.fit_transform(X_train)\n",
    "\n",
    "#     X_test = vectorizer_plot.transform(X_test)\n",
    "    \n",
    "#     #X, y --> X_resampled, y_resampled\n",
    "#     rus = RandomUnderSampler(random_state=0)\n",
    "#     X_resampled, y_resampled = rus.fit_resample(X_train, y_train)\n",
    "    \n",
    "#     recall_rfc = RandomForestClassifier(max_depth=2, random_state=0)\n",
    "\n",
    "#     rf_clf.fit(X_resampled, y_resampled)\n",
    "#     y_pred = rf_clf.predict(X_test)\n",
    "    \n",
    "#     tn, fp, fn, tp = confusion_matrix(y_true = y_test, y_pred = y_pred).ravel()\n",
    "#     a, r, p  = metrics_(tn, fp, fn, tp)\n",
    "    \n",
    "#     TN.append(tn)\n",
    "#     FP.append(fp)\n",
    "#     FN.append(fn)\n",
    "#     TP.append(tp)\n",
    "    \n",
    "    \n",
    "#     num_feat_min.append(len(features))"
   ]
  },
  {
   "cell_type": "code",
   "execution_count": null,
   "metadata": {},
   "outputs": [],
   "source": [
    "# for f in features:\n",
    "#     model = RandomForestClassifier(max_features=f)\n",
    "#     score = cross_val_score(model, X, y).mean()\n",
    "#     print('A Random Forest Regressor with max features of: {} gets a score of {}'\n",
    "#           .format(f,score))\n",
    "#     scores.append(score)\n",
    "    \n",
    "# fig, ax = plt.subplots()\n",
    "# ax.plot(features, scores)"
   ]
  },
  {
   "cell_type": "code",
   "execution_count": null,
   "metadata": {},
   "outputs": [],
   "source": [
    "# for f in features:\n",
    "#     model = RandomForestClassifier(max_features=f)\n",
    "#     score = cross_val_score(model, X, y).mean()\n",
    "#     print('A Random Forest Regressor with max features of: {} gets a score of {}'\n",
    "#           .format(f,score))\n",
    "#     scores.append(score)"
   ]
  },
  {
   "cell_type": "code",
   "execution_count": null,
   "metadata": {},
   "outputs": [],
   "source": []
  },
  {
   "cell_type": "code",
   "execution_count": null,
   "metadata": {},
   "outputs": [],
   "source": []
  },
  {
   "cell_type": "code",
   "execution_count": null,
   "metadata": {},
   "outputs": [],
   "source": []
  },
  {
   "cell_type": "code",
   "execution_count": null,
   "metadata": {},
   "outputs": [],
   "source": []
  },
  {
   "cell_type": "code",
   "execution_count": null,
   "metadata": {},
   "outputs": [],
   "source": [
    "# #stacked bar graph\n",
    "\n",
    "# video_sales_df = pd.read_excel(\"data.xlsx\")\n",
    "\n",
    "# regional_genre = video_sales_df.groupby(['Genre'],as_index=False)[\"NA_Sales\",\"EU_Sales\",\"JP_Sales\"].sum()[:5]\n",
    "# columns = [\"NA_Sales\",\"EU_Sales\",\"JP_Sales\"]\n",
    "\n",
    "# # Normalization parameters\n",
    "# normalize_min = 0.1\n",
    "# normalize_max = 1\n",
    "\n",
    "# # Normalize\n",
    "# regional_genre[columns]= preprocessing.minmax_scale(regional_genre[columns], feature_range=(normalize_min, normalize_max))\n",
    "\n",
    "# # Plot stacked bars\n",
    "# plt.bar(regional_genre[\"Genre\"], regional_genre[\"NA_Sales\"], label=\"NA_Sales\")\n",
    "# plt.bar(regional_genre[\"Genre\"], regional_genre[\"EU_Sales\"], bottom=regional_genre[\"NA_Sales\"], label=\"EU_Sales\")\n",
    "# plt.bar(regional_genre[\"Genre\"], regional_genre[\"JP_Sales\"], bottom=regional_genre[\"EU_Sales\"]+regional_genre[\"NA_Sales\"], label=\"JP_Sales\")\n",
    "# plt.legend()\n",
    "# plt.ylabel(\"Normalized sales\")\n",
    "# plt.show()\n",
    "\n",
    "# # Another solution for plot:\n",
    "\n",
    "# plt.bar(columns, regional_genre.ix[0,1:], label=\"Action\")\n",
    "# bot = regional_genre.ix[0,1:]\n",
    "# plt.bar(columns, regional_genre.ix[1,1:], bottom=bot, label=\"Adventure\")\n",
    "# bot += regional_genre.ix[1,1:]\n",
    "# plt.bar(columns, regional_genre.ix[2,1:], bottom=bot, label=\"Fighting\")\n",
    "# bot += regional_genre.ix[2,1:]\n",
    "# plt.bar(columns, regional_genre.ix[3,1:], bottom=bot, label=\"Misc\")\n",
    "# bot += regional_genre.ix[3,1:]\n",
    "# plt.bar(columns, regional_genre.ix[4,1:], bottom=bot, label=\"Platform\")"
   ]
  },
  {
   "cell_type": "code",
   "execution_count": null,
   "metadata": {},
   "outputs": [],
   "source": []
  },
  {
   "cell_type": "code",
   "execution_count": null,
   "metadata": {},
   "outputs": [],
   "source": []
  },
  {
   "cell_type": "code",
   "execution_count": null,
   "metadata": {},
   "outputs": [],
   "source": []
  }
 ],
 "metadata": {
  "kernelspec": {
   "display_name": "Python 3",
   "language": "python",
   "name": "python3"
  },
  "language_info": {
   "codemirror_mode": {
    "name": "ipython",
    "version": 3
   },
   "file_extension": ".py",
   "mimetype": "text/x-python",
   "name": "python",
   "nbconvert_exporter": "python",
   "pygments_lexer": "ipython3",
   "version": "3.7.9"
  }
 },
 "nbformat": 4,
 "nbformat_minor": 4
}
