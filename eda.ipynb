{
 "cells": [
  {
   "cell_type": "code",
   "execution_count": 3,
   "metadata": {},
   "outputs": [],
   "source": [
    "import json"
   ]
  },
  {
   "cell_type": "code",
   "execution_count": 472,
   "metadata": {},
   "outputs": [],
   "source": [
    "import pandas as pd\n",
    "import numpy as np"
   ]
  },
  {
   "cell_type": "code",
   "execution_count": 5,
   "metadata": {},
   "outputs": [],
   "source": [
    "import matplotlib.pyplot as plt\n",
    "plt.style.use('fivethirtyeight')"
   ]
  },
  {
   "cell_type": "code",
   "execution_count": 6,
   "metadata": {},
   "outputs": [],
   "source": [
    "from sklearn.feature_extraction.text import CountVectorizer"
   ]
  },
  {
   "cell_type": "code",
   "execution_count": 7,
   "metadata": {},
   "outputs": [],
   "source": [
    "#returns shape of news and oped\n",
    "def oped_v_news(df):\n",
    "    df.type_of_material.hist()\n",
    "    news = sum(df.type_of_material == \"News\")\n",
    "    oped = sum(df.type_of_material == \"Op-Ed\")\n",
    "    print(f'News: {news} Oped: {oped}, Total: {oped+news}, Op-Ed {round(oped/(oped+news), 2)} of total')\n",
    "    #plt.savefig('../img/oped_news_hist.png')"
   ]
  },
  {
   "cell_type": "markdown",
   "metadata": {},
   "source": [
    "# split quoted text from article"
   ]
  },
  {
   "cell_type": "code",
   "execution_count": 123,
   "metadata": {},
   "outputs": [],
   "source": [
    "#split document into article body and quotation\n",
    "def quote_removal(document):\n",
    "    article = []\n",
    "    quote_list = []\n",
    "    \n",
    "    open_quote = \"“\"\n",
    "    close_quote = \"”\"\n",
    "    \n",
    "    close_split = document.split(close_quote)\n",
    "    \n",
    "    for string in close_split:\n",
    "\n",
    "        quote = string.split(open_quote)\n",
    "        article.append(quote.pop(0))\n",
    "        quote_list += quote\n",
    "    \n",
    "    article = \" \".join(article)\n",
    "    quotation = \" \".join(quote_list)\n",
    "        \n",
    "    return(article, quotation)"
   ]
  },
  {
   "cell_type": "markdown",
   "metadata": {},
   "source": [
    "# filter only printed articles"
   ]
  },
  {
   "cell_type": "code",
   "execution_count": 522,
   "metadata": {},
   "outputs": [],
   "source": [
    "import os\n",
    "import glob\n",
    "import pandas as pd\n",
    "\n",
    "#extension = 'csv'\n",
    "#all_filenames = [i for i in glob.glob('*.{}'.format(extension))]\n",
    "df2020 = '/Users/djbetts/Desktop/opinion_classifier/data/archive/raw_2020.csv'\n",
    "df2019 = '/Users/djbetts/Desktop/opinion_classifier/data/archive/raw_2019.csv'\n",
    "\n",
    "#combine print, type, text columns in the list\n",
    "def printed(file):\n",
    "    print_cols = ['_id','print_page','pub_date','keywords','type_of_material','lead_paragraph','text']    \n",
    "    #df = pd.read_csv(file, usecols=print_cols, index_col='_id', low_memory=False)\n",
    "    df = df[df.print_page.isna() == False]\n",
    "    df = df[~df.text.isna() == True]\n",
    "    return df"
   ]
  },
  {
   "cell_type": "markdown",
   "metadata": {},
   "source": [
    "# concat articles"
   ]
  },
  {
   "cell_type": "code",
   "execution_count": 4,
   "metadata": {},
   "outputs": [],
   "source": [
    "import os\n",
    "import glob\n",
    "import pandas as pd\n",
    "\n",
    "#extension = 'csv'\n",
    "#all_filenames = [i for i in glob.glob('*.{}'.format(extension))]\n",
    "df2020 = '/Users/djbetts/Desktop/opinion_classifier/data/archive/raw_2020.csv'\n",
    "df2019 = '/Users/djbetts/Desktop/opinion_classifier/data/archive/raw_2019.csv'\n",
    "df2018 = '/Users/djbetts/Desktop/opinion_classifier/data/archive/raw_2018.csv'\n",
    "df2017 = '/Users/djbetts/Desktop/opinion_classifier/data/archive/raw_2017.csv'\n",
    "df2016 = '/Users/djbetts/Desktop/opinion_classifier/data/archive/raw_2016.csv'\n",
    "df2015 = '/Users/djbetts/Desktop/opinion_classifier/data/archive/raw_2015.csv'\n",
    "df2014 = '/Users/djbetts/Desktop/opinion_classifier/data/archive/raw_2014.csv'\n",
    "df2013 = '/Users/djbetts/Desktop/opinion_classifier/data/archive/raw_2013.csv'\n",
    "df2012 = '/Users/djbetts/Desktop/opinion_classifier/data/archive/raw_2012.csv'\n",
    "df2011 = '/Users/djbetts/Desktop/opinion_classifier/data/archive/raw_2011.csv'\n",
    "df2010 = '/Users/djbetts/Desktop/opinion_classifier/data/archive/raw_2010.csv'\n",
    "df2009 = '/Users/djbetts/Desktop/opinion_classifier/data/archive/raw_2009.csv'\n",
    "df2008 = '/Users/djbetts/Desktop/opinion_classifier/data/archive/raw_2008.csv'\n",
    "df2007 = '/Users/djbetts/Desktop/opinion_classifier/data/archive/raw_2007.csv'\n",
    "df2006 = '/Users/djbetts/Desktop/opinion_classifier/data/archive/raw_2006.csv'\n",
    "df2005 = '/Users/djbetts/Desktop/opinion_classifier/data/archive/raw_2005.csv'\n",
    "df2004 = '/Users/djbetts/Desktop/opinion_classifier/data/archive/raw_2004.csv'\n",
    "df2003 = '/Users/djbetts/Desktop/opinion_classifier/data/archive/raw_2003.csv'\n",
    "df2002 = '/Users/djbetts/Desktop/opinion_classifier/data/archive/raw_2002.csv'\n",
    "df2001 = '/Users/djbetts/Desktop/opinion_classifier/data/archive/raw_2001.csv'\n",
    "df2000 = '/Users/djbetts/Desktop/opinion_classifier/data/archive/raw_2000.csv'\n",
    "df1999 = '/Users/djbetts/Desktop/opinion_classifier/data/archive/raw_1999.csv'\n",
    "df1998 = '/Users/djbetts/Desktop/opinion_classifier/data/archive/raw_1998.csv'\n",
    "df1997 = '/Users/djbetts/Desktop/opinion_classifier/data/archive/raw_1997.csv'\n",
    "df1996 = '/Users/djbetts/Desktop/opinion_classifier/data/archive/raw_1996.csv'\n",
    "df1995 = '/Users/djbetts/Desktop/opinion_classifier/data/archive/raw_1995.csv'\n",
    "df1994 = '/Users/djbetts/Desktop/opinion_classifier/data/archive/raw_1994.csv'\n",
    "df1993 = '/Users/djbetts/Desktop/opinion_classifier/data/archive/raw_1993.csv'\n",
    "df1992 = '/Users/djbetts/Desktop/opinion_classifier/data/archive/raw_1992.csv'\n",
    "df1991 = '/Users/djbetts/Desktop/opinion_classifier/data/archive/raw_1991.csv'\n",
    "df1990 = '/Users/djbetts/Desktop/opinion_classifier/data/archive/raw_1990.csv'\n",
    "df1989 = '/Users/djbetts/Desktop/opinion_classifier/data/archive/raw_1989.csv'\n",
    "df1988 = '/Users/djbetts/Desktop/opinion_classifier/data/archive/raw_1988.csv'\n",
    "df1987 = '/Users/djbetts/Desktop/opinion_classifier/data/archive/raw_1987.csv'\n",
    "df1986 = '/Users/djbetts/Desktop/opinion_classifier/data/archive/raw_1986.csv'\n",
    "df1985 = '/Users/djbetts/Desktop/opinion_classifier/data/archive/raw_1985.csv'\n",
    "df1984 = '/Users/djbetts/Desktop/opinion_classifier/data/archive/raw_1984.csv'\n",
    "df1983 = '/Users/djbetts/Desktop/opinion_classifier/data/archive/raw_1983.csv'\n",
    "df1982 = '/Users/djbetts/Desktop/opinion_classifier/data/archive/raw_1982.csv'\n",
    "df1981 = '/Users/djbetts/Desktop/opinion_classifier/data/archive/raw_1981.csv'"
   ]
  },
  {
   "cell_type": "code",
   "execution_count": 454,
   "metadata": {},
   "outputs": [],
   "source": [
    "#combine print, type, text columns in the list\n",
    "def printed(file):\n",
    "    print_cols = ['_id','print_page','pub_date','keywords','type_of_material','lead_paragraph','text']    \n",
    "    df = pd.read_csv(file, usecols=print_cols, index_col='_id', low_memory=False)\n",
    "    df = df[df.print_page.isna() == False]\n",
    "    df = df[~df.text.isna() == True]\n",
    "    return df"
   ]
  },
  {
   "cell_type": "code",
   "execution_count": 455,
   "metadata": {},
   "outputs": [],
   "source": [
    "#returns articles w/ 'United States Politics and Government' as a keyword\n",
    "def return_pol_gov(row):\n",
    "    list_dict = eval(row.keywords)\n",
    "    for (dic) in (list_dict):\n",
    "        if dic.get('value') == 'United States Politics and Government':\n",
    "            return True\n",
    "\n",
    "def keyword_filter(df, keyword='United States Politics and Government'):\n",
    "    df[keyword] = df.apply(return_pol_gov, axis=1)\n",
    "    df = df[df[keyword] == True]\n",
    "    return df"
   ]
  },
  {
   "cell_type": "code",
   "execution_count": 456,
   "metadata": {},
   "outputs": [],
   "source": [
    "#returns shape of news and oped\n",
    "def oped_v_news(df):\n",
    "    df.type_of_material.hist()\n",
    "    news = sum(df.type_of_material == \"News\")\n",
    "    oped = sum(df.type_of_material == \"Op-Ed\")\n",
    "    print(f'News: {news} Oped: {oped}, Total: {oped+news}, Op-Ed {round(oped/(oped+news), 2)} of total')\n",
    "    plt.savefig('../img/oped_news_hist.png')"
   ]
  },
  {
   "cell_type": "markdown",
   "metadata": {},
   "source": [
    "# data"
   ]
  },
  {
   "cell_type": "code",
   "execution_count": 512,
   "metadata": {},
   "outputs": [],
   "source": [
    "data = printed(df2020)"
   ]
  },
  {
   "cell_type": "code",
   "execution_count": 513,
   "metadata": {},
   "outputs": [
    {
     "name": "stdout",
     "output_type": "stream",
     "text": [
      "CPU times: user 2.5 s, sys: 20.8 ms, total: 2.52 s\n",
      "Wall time: 2.52 s\n"
     ]
    }
   ],
   "source": [
    "%%time\n",
    "keyword = keyword_filter(data)"
   ]
  },
  {
   "cell_type": "code",
   "execution_count": 514,
   "metadata": {},
   "outputs": [],
   "source": [
    "df = data.copy()"
   ]
  },
  {
   "cell_type": "code",
   "execution_count": 515,
   "metadata": {},
   "outputs": [
    {
     "data": {
      "text/plain": [
       "Index(['web_url', 'keywords', 'pub_date', 'type_of_material', 'print_page',\n",
       "       'text', 'United States Politics and Government'],\n",
       "      dtype='object')"
      ]
     },
     "execution_count": 515,
     "metadata": {},
     "output_type": "execute_result"
    }
   ],
   "source": [
    "df.columns"
   ]
  },
  {
   "cell_type": "code",
   "execution_count": 516,
   "metadata": {},
   "outputs": [],
   "source": [
    "#split document into article body and quotation\n",
    "def quote_removal(document):\n",
    "    article = []\n",
    "    quote_list = []\n",
    "    \n",
    "    open_quote = \"“\"\n",
    "    close_quote = \"”\"\n",
    "    \n",
    "    close_split = document.split(close_quote)\n",
    "    \n",
    "    for string in close_split:\n",
    "\n",
    "        quote = string.split(open_quote)\n",
    "        article.append(quote.pop(0))\n",
    "        quote_list += quote\n",
    "    \n",
    "    #article = \" \".join(article)\n",
    "    quotation = \" \".join(quote_list)\n",
    "        \n",
    "    return(quotation)"
   ]
  },
  {
   "cell_type": "code",
   "execution_count": 517,
   "metadata": {},
   "outputs": [
    {
     "ename": "AttributeError",
     "evalue": "'float' object has no attribute 'split'",
     "output_type": "error",
     "traceback": [
      "\u001b[0;31m---------------------------------------------------------------------------\u001b[0m",
      "\u001b[0;31mAttributeError\u001b[0m                            Traceback (most recent call last)",
      "\u001b[0;32m<ipython-input-517-ed8c63cd3f1f>\u001b[0m in \u001b[0;36m<module>\u001b[0;34m\u001b[0m\n\u001b[0;32m----> 1\u001b[0;31m \u001b[0mdf\u001b[0m\u001b[0;34m[\u001b[0m\u001b[0;34m'article'\u001b[0m\u001b[0;34m]\u001b[0m \u001b[0;34m=\u001b[0m \u001b[0mdf\u001b[0m\u001b[0;34m.\u001b[0m\u001b[0mtext\u001b[0m\u001b[0;34m.\u001b[0m\u001b[0mapply\u001b[0m\u001b[0;34m(\u001b[0m\u001b[0mquote_removal\u001b[0m\u001b[0;34m)\u001b[0m\u001b[0;34m\u001b[0m\u001b[0;34m\u001b[0m\u001b[0m\n\u001b[0m",
      "\u001b[0;32m~/opt/anaconda3/lib/python3.7/site-packages/pandas/core/series.py\u001b[0m in \u001b[0;36mapply\u001b[0;34m(self, func, convert_dtype, args, **kwds)\u001b[0m\n\u001b[1;32m   4198\u001b[0m             \u001b[0;32melse\u001b[0m\u001b[0;34m:\u001b[0m\u001b[0;34m\u001b[0m\u001b[0;34m\u001b[0m\u001b[0m\n\u001b[1;32m   4199\u001b[0m                 \u001b[0mvalues\u001b[0m \u001b[0;34m=\u001b[0m \u001b[0mself\u001b[0m\u001b[0;34m.\u001b[0m\u001b[0mastype\u001b[0m\u001b[0;34m(\u001b[0m\u001b[0mobject\u001b[0m\u001b[0;34m)\u001b[0m\u001b[0;34m.\u001b[0m\u001b[0m_values\u001b[0m\u001b[0;34m\u001b[0m\u001b[0;34m\u001b[0m\u001b[0m\n\u001b[0;32m-> 4200\u001b[0;31m                 \u001b[0mmapped\u001b[0m \u001b[0;34m=\u001b[0m \u001b[0mlib\u001b[0m\u001b[0;34m.\u001b[0m\u001b[0mmap_infer\u001b[0m\u001b[0;34m(\u001b[0m\u001b[0mvalues\u001b[0m\u001b[0;34m,\u001b[0m \u001b[0mf\u001b[0m\u001b[0;34m,\u001b[0m \u001b[0mconvert\u001b[0m\u001b[0;34m=\u001b[0m\u001b[0mconvert_dtype\u001b[0m\u001b[0;34m)\u001b[0m\u001b[0;34m\u001b[0m\u001b[0;34m\u001b[0m\u001b[0m\n\u001b[0m\u001b[1;32m   4201\u001b[0m \u001b[0;34m\u001b[0m\u001b[0m\n\u001b[1;32m   4202\u001b[0m         \u001b[0;32mif\u001b[0m \u001b[0mlen\u001b[0m\u001b[0;34m(\u001b[0m\u001b[0mmapped\u001b[0m\u001b[0;34m)\u001b[0m \u001b[0;32mand\u001b[0m \u001b[0misinstance\u001b[0m\u001b[0;34m(\u001b[0m\u001b[0mmapped\u001b[0m\u001b[0;34m[\u001b[0m\u001b[0;36m0\u001b[0m\u001b[0;34m]\u001b[0m\u001b[0;34m,\u001b[0m \u001b[0mSeries\u001b[0m\u001b[0;34m)\u001b[0m\u001b[0;34m:\u001b[0m\u001b[0;34m\u001b[0m\u001b[0;34m\u001b[0m\u001b[0m\n",
      "\u001b[0;32mpandas/_libs/lib.pyx\u001b[0m in \u001b[0;36mpandas._libs.lib.map_infer\u001b[0;34m()\u001b[0m\n",
      "\u001b[0;32m<ipython-input-516-473aa5f1a96f>\u001b[0m in \u001b[0;36mquote_removal\u001b[0;34m(document)\u001b[0m\n\u001b[1;32m      7\u001b[0m     \u001b[0mclose_quote\u001b[0m \u001b[0;34m=\u001b[0m \u001b[0;34m\"”\"\u001b[0m\u001b[0;34m\u001b[0m\u001b[0;34m\u001b[0m\u001b[0m\n\u001b[1;32m      8\u001b[0m \u001b[0;34m\u001b[0m\u001b[0m\n\u001b[0;32m----> 9\u001b[0;31m     \u001b[0mclose_split\u001b[0m \u001b[0;34m=\u001b[0m \u001b[0mdocument\u001b[0m\u001b[0;34m.\u001b[0m\u001b[0msplit\u001b[0m\u001b[0;34m(\u001b[0m\u001b[0mclose_quote\u001b[0m\u001b[0;34m)\u001b[0m\u001b[0;34m\u001b[0m\u001b[0;34m\u001b[0m\u001b[0m\n\u001b[0m\u001b[1;32m     10\u001b[0m \u001b[0;34m\u001b[0m\u001b[0m\n\u001b[1;32m     11\u001b[0m     \u001b[0;32mfor\u001b[0m \u001b[0mstring\u001b[0m \u001b[0;32min\u001b[0m \u001b[0mclose_split\u001b[0m\u001b[0;34m:\u001b[0m\u001b[0;34m\u001b[0m\u001b[0;34m\u001b[0m\u001b[0m\n",
      "\u001b[0;31mAttributeError\u001b[0m: 'float' object has no attribute 'split'"
     ]
    }
   ],
   "source": [
    "df['article'] = df.text.apply(quote_removal)"
   ]
  },
  {
   "cell_type": "code",
   "execution_count": 518,
   "metadata": {},
   "outputs": [],
   "source": [
    "def keyword_string(row):\n",
    "    \n",
    "    dictionary_list = (eval(row))\n",
    "    output = \" \"\n",
    "    \n",
    "    for dictionary in dictionary_list:\n",
    "        dict_value = dictionary.get('value')\n",
    "        output += (f'{dict_value} ')\n",
    "    return output.split(\" \")\n",
    " "
   ]
  },
  {
   "cell_type": "code",
   "execution_count": 519,
   "metadata": {},
   "outputs": [],
   "source": [
    "df['keyword_list'] =  df.keywords.apply(keyword_string)\n"
   ]
  },
  {
   "cell_type": "code",
   "execution_count": 520,
   "metadata": {},
   "outputs": [],
   "source": [
    "def remove_lead_par(row):\n",
    "    print(f'{row.text}, {row.lead_paragraph}')"
   ]
  },
  {
   "cell_type": "code",
   "execution_count": 521,
   "metadata": {},
   "outputs": [
    {
     "ename": "AttributeError",
     "evalue": "'DataFrame' object has no attribute 'lead_paragraph'",
     "output_type": "error",
     "traceback": [
      "\u001b[0;31m---------------------------------------------------------------------------\u001b[0m",
      "\u001b[0;31mAttributeError\u001b[0m                            Traceback (most recent call last)",
      "\u001b[0;32m<ipython-input-521-1ce5101b723e>\u001b[0m in \u001b[0;36m<module>\u001b[0;34m\u001b[0m\n\u001b[0;32m----> 1\u001b[0;31m \u001b[0mdf\u001b[0m\u001b[0;34m.\u001b[0m\u001b[0mlead_paragraph\u001b[0m\u001b[0;34m.\u001b[0m\u001b[0miloc\u001b[0m\u001b[0;34m[\u001b[0m\u001b[0;36m1\u001b[0m\u001b[0;34m]\u001b[0m\u001b[0;34m\u001b[0m\u001b[0;34m\u001b[0m\u001b[0m\n\u001b[0m",
      "\u001b[0;32m~/opt/anaconda3/lib/python3.7/site-packages/pandas/core/generic.py\u001b[0m in \u001b[0;36m__getattr__\u001b[0;34m(self, name)\u001b[0m\n\u001b[1;32m   5137\u001b[0m             \u001b[0;32mif\u001b[0m \u001b[0mself\u001b[0m\u001b[0;34m.\u001b[0m\u001b[0m_info_axis\u001b[0m\u001b[0;34m.\u001b[0m\u001b[0m_can_hold_identifiers_and_holds_name\u001b[0m\u001b[0;34m(\u001b[0m\u001b[0mname\u001b[0m\u001b[0;34m)\u001b[0m\u001b[0;34m:\u001b[0m\u001b[0;34m\u001b[0m\u001b[0;34m\u001b[0m\u001b[0m\n\u001b[1;32m   5138\u001b[0m                 \u001b[0;32mreturn\u001b[0m \u001b[0mself\u001b[0m\u001b[0;34m[\u001b[0m\u001b[0mname\u001b[0m\u001b[0;34m]\u001b[0m\u001b[0;34m\u001b[0m\u001b[0;34m\u001b[0m\u001b[0m\n\u001b[0;32m-> 5139\u001b[0;31m             \u001b[0;32mreturn\u001b[0m \u001b[0mobject\u001b[0m\u001b[0;34m.\u001b[0m\u001b[0m__getattribute__\u001b[0m\u001b[0;34m(\u001b[0m\u001b[0mself\u001b[0m\u001b[0;34m,\u001b[0m \u001b[0mname\u001b[0m\u001b[0;34m)\u001b[0m\u001b[0;34m\u001b[0m\u001b[0;34m\u001b[0m\u001b[0m\n\u001b[0m\u001b[1;32m   5140\u001b[0m \u001b[0;34m\u001b[0m\u001b[0m\n\u001b[1;32m   5141\u001b[0m     \u001b[0;32mdef\u001b[0m \u001b[0m__setattr__\u001b[0m\u001b[0;34m(\u001b[0m\u001b[0mself\u001b[0m\u001b[0;34m,\u001b[0m \u001b[0mname\u001b[0m\u001b[0;34m:\u001b[0m \u001b[0mstr\u001b[0m\u001b[0;34m,\u001b[0m \u001b[0mvalue\u001b[0m\u001b[0;34m)\u001b[0m \u001b[0;34m->\u001b[0m \u001b[0;32mNone\u001b[0m\u001b[0;34m:\u001b[0m\u001b[0;34m\u001b[0m\u001b[0;34m\u001b[0m\u001b[0m\n",
      "\u001b[0;31mAttributeError\u001b[0m: 'DataFrame' object has no attribute 'lead_paragraph'"
     ]
    }
   ],
   "source": [
    "df.lead_paragraph.iloc[1]"
   ]
  },
  {
   "cell_type": "code",
   "execution_count": null,
   "metadata": {},
   "outputs": [],
   "source": []
  },
  {
   "cell_type": "code",
   "execution_count": 501,
   "metadata": {},
   "outputs": [
    {
     "name": "stderr",
     "output_type": "stream",
     "text": [
      "IOPub data rate exceeded.\n",
      "The notebook server will temporarily stop sending output\n",
      "to the client in order to avoid crashing it.\n",
      "To change this limit, set the config variable\n",
      "`--NotebookApp.iopub_data_rate_limit`.\n",
      "\n",
      "Current values:\n",
      "NotebookApp.iopub_data_rate_limit=1000000.0 (bytes/sec)\n",
      "NotebookApp.rate_limit_window=3.0 (secs)\n",
      "\n"
     ]
    },
    {
     "data": {
      "text/plain": [
       "_id\n",
       "nyt://article/eeb31381-63db-5bf0-8e56-c92b1bc2135e    None\n",
       "nyt://article/25642b46-e875-56a1-b7fd-1be7c34a4179    None\n",
       "nyt://article/cffd8777-d58f-5853-98e9-729e97b1833f    None\n",
       "nyt://article/0d6112f7-242d-5ab7-8882-44b56b5cfcd3    None\n",
       "nyt://article/6b78ea2e-6951-58a7-b8f8-7227d1985beb    None\n",
       "                                                      ... \n",
       "nyt://article/a4383433-5708-530c-bf78-2ec5ee0d96cd    None\n",
       "nyt://article/aff30fb5-0177-5fed-b8b5-55656f2672f6    None\n",
       "nyt://article/d67ea079-eaf8-5e69-a77c-3138a3fc91cb    None\n",
       "nyt://article/5af20a48-6f66-5bae-a9fd-948268ed38cf    None\n",
       "nyt://article/3aea061c-d11a-53d1-8480-c0b163740360    None\n",
       "Length: 27752, dtype: object"
      ]
     },
     "execution_count": 501,
     "metadata": {},
     "output_type": "execute_result"
    }
   ],
   "source": [
    "df.apply(remove_lead_par, axis =1)"
   ]
  },
  {
   "cell_type": "code",
   "execution_count": 488,
   "metadata": {},
   "outputs": [
    {
     "data": {
      "text/html": [
       "<div>\n",
       "<style scoped>\n",
       "    .dataframe tbody tr th:only-of-type {\n",
       "        vertical-align: middle;\n",
       "    }\n",
       "\n",
       "    .dataframe tbody tr th {\n",
       "        vertical-align: top;\n",
       "    }\n",
       "\n",
       "    .dataframe thead th {\n",
       "        text-align: right;\n",
       "    }\n",
       "</style>\n",
       "<table border=\"1\" class=\"dataframe\">\n",
       "  <thead>\n",
       "    <tr style=\"text-align: right;\">\n",
       "      <th></th>\n",
       "      <th>lead_paragraph</th>\n",
       "      <th>keywords</th>\n",
       "      <th>pub_date</th>\n",
       "      <th>type_of_material</th>\n",
       "      <th>print_page</th>\n",
       "      <th>text</th>\n",
       "      <th>United States Politics and Government</th>\n",
       "      <th>article</th>\n",
       "      <th>keyword_list</th>\n",
       "    </tr>\n",
       "    <tr>\n",
       "      <th>_id</th>\n",
       "      <th></th>\n",
       "      <th></th>\n",
       "      <th></th>\n",
       "      <th></th>\n",
       "      <th></th>\n",
       "      <th></th>\n",
       "      <th></th>\n",
       "      <th></th>\n",
       "      <th></th>\n",
       "    </tr>\n",
       "  </thead>\n",
       "  <tbody>\n",
       "    <tr>\n",
       "      <th>nyt://article/eeb31381-63db-5bf0-8e56-c92b1bc2135e</th>\n",
       "      <td>SACRAMENTO — With their most vulnerable member...</td>\n",
       "      <td>[{'name': 'subject', 'value': 'Churches (Build...</td>\n",
       "      <td>2020-06-01T00:28:09+0000</td>\n",
       "      <td>News</td>\n",
       "      <td>14.0</td>\n",
       "      <td>SACRAMENTO — With their most vulnerable member...</td>\n",
       "      <td>None</td>\n",
       "      <td>Outside the confines of these walls we hear th...</td>\n",
       "      <td>[, Churches, (Buildings), Coronavirus, (2019-n...</td>\n",
       "    </tr>\n",
       "    <tr>\n",
       "      <th>nyt://article/25642b46-e875-56a1-b7fd-1be7c34a4179</th>\n",
       "      <td>[Follow our live updates on the George Floyd p...</td>\n",
       "      <td>[{'name': 'subject', 'value': 'George Floyd Pr...</td>\n",
       "      <td>2020-06-01T00:45:13+0000</td>\n",
       "      <td>News</td>\n",
       "      <td>1.0</td>\n",
       "      <td>[Follow our live updates on the George Floyd p...</td>\n",
       "      <td>None</td>\n",
       "      <td>Light them up, I didn’t like what I saw one bi...</td>\n",
       "      <td>[, George, Floyd, Protests, (2020), Demonstrat...</td>\n",
       "    </tr>\n",
       "    <tr>\n",
       "      <th>nyt://article/cffd8777-d58f-5853-98e9-729e97b1833f</th>\n",
       "      <td>ZOMBI CHILD (2019) Stream on the Criterion Cha...</td>\n",
       "      <td>[{'name': 'subject', 'value': 'Television', 'r...</td>\n",
       "      <td>2020-06-01T05:00:09+0000</td>\n",
       "      <td>News</td>\n",
       "      <td>7.0</td>\n",
       "      <td>ZOMBI CHILD (2019) Stream on the Criterion Cha...</td>\n",
       "      <td>None</td>\n",
       "      <td>something personal has a story to tell, but it...</td>\n",
       "      <td>[, Television, Movies, ]</td>\n",
       "    </tr>\n",
       "    <tr>\n",
       "      <th>nyt://article/0d6112f7-242d-5ab7-8882-44b56b5cfcd3</th>\n",
       "      <td>A British woman who was convicted of killing h...</td>\n",
       "      <td>[{'name': 'glocations', 'value': 'Great Britai...</td>\n",
       "      <td>2020-06-01T06:11:39+0000</td>\n",
       "      <td>News</td>\n",
       "      <td>13.0</td>\n",
       "      <td>A British woman who was convicted of killing h...</td>\n",
       "      <td>None</td>\n",
       "      <td>the facts are extraordinary, tragic and, one w...</td>\n",
       "      <td>[, Great, Britain, Domestic, Violence, Murders...</td>\n",
       "    </tr>\n",
       "    <tr>\n",
       "      <th>nyt://article/6b78ea2e-6951-58a7-b8f8-7227d1985beb</th>\n",
       "      <td>As commissioner of one of New York City’s long...</td>\n",
       "      <td>[{'name': 'subject', 'value': 'Basketball', 'r...</td>\n",
       "      <td>2020-06-01T07:00:09+0000</td>\n",
       "      <td>News</td>\n",
       "      <td>1.0</td>\n",
       "      <td>As commissioner of one of New York City’s long...</td>\n",
       "      <td>None</td>\n",
       "      <td>I wander around the house, My wife is like, ‘W...</td>\n",
       "      <td>[, Basketball, Coronavirus, (2019-nCoV), Upper...</td>\n",
       "    </tr>\n",
       "  </tbody>\n",
       "</table>\n",
       "</div>"
      ],
      "text/plain": [
       "                                                                                       lead_paragraph  \\\n",
       "_id                                                                                                     \n",
       "nyt://article/eeb31381-63db-5bf0-8e56-c92b1bc2135e  SACRAMENTO — With their most vulnerable member...   \n",
       "nyt://article/25642b46-e875-56a1-b7fd-1be7c34a4179  [Follow our live updates on the George Floyd p...   \n",
       "nyt://article/cffd8777-d58f-5853-98e9-729e97b1833f  ZOMBI CHILD (2019) Stream on the Criterion Cha...   \n",
       "nyt://article/0d6112f7-242d-5ab7-8882-44b56b5cfcd3  A British woman who was convicted of killing h...   \n",
       "nyt://article/6b78ea2e-6951-58a7-b8f8-7227d1985beb  As commissioner of one of New York City’s long...   \n",
       "\n",
       "                                                                                             keywords  \\\n",
       "_id                                                                                                     \n",
       "nyt://article/eeb31381-63db-5bf0-8e56-c92b1bc2135e  [{'name': 'subject', 'value': 'Churches (Build...   \n",
       "nyt://article/25642b46-e875-56a1-b7fd-1be7c34a4179  [{'name': 'subject', 'value': 'George Floyd Pr...   \n",
       "nyt://article/cffd8777-d58f-5853-98e9-729e97b1833f  [{'name': 'subject', 'value': 'Television', 'r...   \n",
       "nyt://article/0d6112f7-242d-5ab7-8882-44b56b5cfcd3  [{'name': 'glocations', 'value': 'Great Britai...   \n",
       "nyt://article/6b78ea2e-6951-58a7-b8f8-7227d1985beb  [{'name': 'subject', 'value': 'Basketball', 'r...   \n",
       "\n",
       "                                                                    pub_date  \\\n",
       "_id                                                                            \n",
       "nyt://article/eeb31381-63db-5bf0-8e56-c92b1bc2135e  2020-06-01T00:28:09+0000   \n",
       "nyt://article/25642b46-e875-56a1-b7fd-1be7c34a4179  2020-06-01T00:45:13+0000   \n",
       "nyt://article/cffd8777-d58f-5853-98e9-729e97b1833f  2020-06-01T05:00:09+0000   \n",
       "nyt://article/0d6112f7-242d-5ab7-8882-44b56b5cfcd3  2020-06-01T06:11:39+0000   \n",
       "nyt://article/6b78ea2e-6951-58a7-b8f8-7227d1985beb  2020-06-01T07:00:09+0000   \n",
       "\n",
       "                                                   type_of_material  \\\n",
       "_id                                                                   \n",
       "nyt://article/eeb31381-63db-5bf0-8e56-c92b1bc2135e             News   \n",
       "nyt://article/25642b46-e875-56a1-b7fd-1be7c34a4179             News   \n",
       "nyt://article/cffd8777-d58f-5853-98e9-729e97b1833f             News   \n",
       "nyt://article/0d6112f7-242d-5ab7-8882-44b56b5cfcd3             News   \n",
       "nyt://article/6b78ea2e-6951-58a7-b8f8-7227d1985beb             News   \n",
       "\n",
       "                                                    print_page  \\\n",
       "_id                                                              \n",
       "nyt://article/eeb31381-63db-5bf0-8e56-c92b1bc2135e        14.0   \n",
       "nyt://article/25642b46-e875-56a1-b7fd-1be7c34a4179         1.0   \n",
       "nyt://article/cffd8777-d58f-5853-98e9-729e97b1833f         7.0   \n",
       "nyt://article/0d6112f7-242d-5ab7-8882-44b56b5cfcd3        13.0   \n",
       "nyt://article/6b78ea2e-6951-58a7-b8f8-7227d1985beb         1.0   \n",
       "\n",
       "                                                                                                 text  \\\n",
       "_id                                                                                                     \n",
       "nyt://article/eeb31381-63db-5bf0-8e56-c92b1bc2135e  SACRAMENTO — With their most vulnerable member...   \n",
       "nyt://article/25642b46-e875-56a1-b7fd-1be7c34a4179  [Follow our live updates on the George Floyd p...   \n",
       "nyt://article/cffd8777-d58f-5853-98e9-729e97b1833f  ZOMBI CHILD (2019) Stream on the Criterion Cha...   \n",
       "nyt://article/0d6112f7-242d-5ab7-8882-44b56b5cfcd3  A British woman who was convicted of killing h...   \n",
       "nyt://article/6b78ea2e-6951-58a7-b8f8-7227d1985beb  As commissioner of one of New York City’s long...   \n",
       "\n",
       "                                                   United States Politics and Government  \\\n",
       "_id                                                                                        \n",
       "nyt://article/eeb31381-63db-5bf0-8e56-c92b1bc2135e                                  None   \n",
       "nyt://article/25642b46-e875-56a1-b7fd-1be7c34a4179                                  None   \n",
       "nyt://article/cffd8777-d58f-5853-98e9-729e97b1833f                                  None   \n",
       "nyt://article/0d6112f7-242d-5ab7-8882-44b56b5cfcd3                                  None   \n",
       "nyt://article/6b78ea2e-6951-58a7-b8f8-7227d1985beb                                  None   \n",
       "\n",
       "                                                                                              article  \\\n",
       "_id                                                                                                     \n",
       "nyt://article/eeb31381-63db-5bf0-8e56-c92b1bc2135e  Outside the confines of these walls we hear th...   \n",
       "nyt://article/25642b46-e875-56a1-b7fd-1be7c34a4179  Light them up, I didn’t like what I saw one bi...   \n",
       "nyt://article/cffd8777-d58f-5853-98e9-729e97b1833f  something personal has a story to tell, but it...   \n",
       "nyt://article/0d6112f7-242d-5ab7-8882-44b56b5cfcd3  the facts are extraordinary, tragic and, one w...   \n",
       "nyt://article/6b78ea2e-6951-58a7-b8f8-7227d1985beb  I wander around the house, My wife is like, ‘W...   \n",
       "\n",
       "                                                                                         keyword_list  \n",
       "_id                                                                                                    \n",
       "nyt://article/eeb31381-63db-5bf0-8e56-c92b1bc2135e  [, Churches, (Buildings), Coronavirus, (2019-n...  \n",
       "nyt://article/25642b46-e875-56a1-b7fd-1be7c34a4179  [, George, Floyd, Protests, (2020), Demonstrat...  \n",
       "nyt://article/cffd8777-d58f-5853-98e9-729e97b1833f                           [, Television, Movies, ]  \n",
       "nyt://article/0d6112f7-242d-5ab7-8882-44b56b5cfcd3  [, Great, Britain, Domestic, Violence, Murders...  \n",
       "nyt://article/6b78ea2e-6951-58a7-b8f8-7227d1985beb  [, Basketball, Coronavirus, (2019-nCoV), Upper...  "
      ]
     },
     "execution_count": 488,
     "metadata": {},
     "output_type": "execute_result"
    }
   ],
   "source": [
    "df.head()"
   ]
  },
  {
   "cell_type": "code",
   "execution_count": 469,
   "metadata": {},
   "outputs": [],
   "source": [
    "example = pd.DataFrame([[4, 9]] * 3, columns=['A', 'B'])"
   ]
  },
  {
   "cell_type": "code",
   "execution_count": 470,
   "metadata": {},
   "outputs": [
    {
     "data": {
      "text/html": [
       "<div>\n",
       "<style scoped>\n",
       "    .dataframe tbody tr th:only-of-type {\n",
       "        vertical-align: middle;\n",
       "    }\n",
       "\n",
       "    .dataframe tbody tr th {\n",
       "        vertical-align: top;\n",
       "    }\n",
       "\n",
       "    .dataframe thead th {\n",
       "        text-align: right;\n",
       "    }\n",
       "</style>\n",
       "<table border=\"1\" class=\"dataframe\">\n",
       "  <thead>\n",
       "    <tr style=\"text-align: right;\">\n",
       "      <th></th>\n",
       "      <th>A</th>\n",
       "      <th>B</th>\n",
       "    </tr>\n",
       "  </thead>\n",
       "  <tbody>\n",
       "    <tr>\n",
       "      <th>0</th>\n",
       "      <td>4</td>\n",
       "      <td>9</td>\n",
       "    </tr>\n",
       "    <tr>\n",
       "      <th>1</th>\n",
       "      <td>4</td>\n",
       "      <td>9</td>\n",
       "    </tr>\n",
       "    <tr>\n",
       "      <th>2</th>\n",
       "      <td>4</td>\n",
       "      <td>9</td>\n",
       "    </tr>\n",
       "  </tbody>\n",
       "</table>\n",
       "</div>"
      ],
      "text/plain": [
       "   A  B\n",
       "0  4  9\n",
       "1  4  9\n",
       "2  4  9"
      ]
     },
     "execution_count": 470,
     "metadata": {},
     "output_type": "execute_result"
    }
   ],
   "source": [
    "example"
   ]
  },
  {
   "cell_type": "code",
   "execution_count": 473,
   "metadata": {},
   "outputs": [
    {
     "data": {
      "text/html": [
       "<div>\n",
       "<style scoped>\n",
       "    .dataframe tbody tr th:only-of-type {\n",
       "        vertical-align: middle;\n",
       "    }\n",
       "\n",
       "    .dataframe tbody tr th {\n",
       "        vertical-align: top;\n",
       "    }\n",
       "\n",
       "    .dataframe thead th {\n",
       "        text-align: right;\n",
       "    }\n",
       "</style>\n",
       "<table border=\"1\" class=\"dataframe\">\n",
       "  <thead>\n",
       "    <tr style=\"text-align: right;\">\n",
       "      <th></th>\n",
       "      <th>A</th>\n",
       "      <th>B</th>\n",
       "    </tr>\n",
       "  </thead>\n",
       "  <tbody>\n",
       "    <tr>\n",
       "      <th>0</th>\n",
       "      <td>2.0</td>\n",
       "      <td>3.0</td>\n",
       "    </tr>\n",
       "    <tr>\n",
       "      <th>1</th>\n",
       "      <td>2.0</td>\n",
       "      <td>3.0</td>\n",
       "    </tr>\n",
       "    <tr>\n",
       "      <th>2</th>\n",
       "      <td>2.0</td>\n",
       "      <td>3.0</td>\n",
       "    </tr>\n",
       "  </tbody>\n",
       "</table>\n",
       "</div>"
      ],
      "text/plain": [
       "     A    B\n",
       "0  2.0  3.0\n",
       "1  2.0  3.0\n",
       "2  2.0  3.0"
      ]
     },
     "execution_count": 473,
     "metadata": {},
     "output_type": "execute_result"
    }
   ],
   "source": [
    "example.apply(np.sqrt)"
   ]
  },
  {
   "cell_type": "code",
   "execution_count": 474,
   "metadata": {},
   "outputs": [
    {
     "data": {
      "text/plain": [
       "A    12\n",
       "B    27\n",
       "dtype: int64"
      ]
     },
     "execution_count": 474,
     "metadata": {},
     "output_type": "execute_result"
    }
   ],
   "source": [
    "example.apply(np.sum, axis=0)"
   ]
  },
  {
   "cell_type": "code",
   "execution_count": null,
   "metadata": {},
   "outputs": [],
   "source": []
  },
  {
   "cell_type": "code",
   "execution_count": null,
   "metadata": {},
   "outputs": [],
   "source": []
  },
  {
   "cell_type": "code",
   "execution_count": null,
   "metadata": {},
   "outputs": [],
   "source": []
  },
  {
   "cell_type": "code",
   "execution_count": null,
   "metadata": {},
   "outputs": [],
   "source": []
  },
  {
   "cell_type": "code",
   "execution_count": 12,
   "metadata": {},
   "outputs": [],
   "source": [
    "# printed_2020 = printed(df2020)\n",
    "# printed_2019 = printed(df2019)\n",
    "# printed_2018 = printed(df2018)\n",
    "# printed_2017 = printed(df2017)\n",
    "# printed_2016 = printed(df2016)\n",
    "# printed_2015 = printed(df2015)\n",
    "# printed_2014 = printed(df2014)\n",
    "# printed_2013 = printed(df2013)\n",
    "# printed_2012 = printed(df2012)\n",
    "# printed_2011 = printed(df2011)"
   ]
  },
  {
   "cell_type": "code",
   "execution_count": 13,
   "metadata": {},
   "outputs": [],
   "source": [
    "# list_printed_2011_2020 = [printed_2020,\n",
    "#                      printed_2019,\n",
    "#                      printed_2018,\n",
    "#                      printed_2017,\n",
    "#                      printed_2016,\n",
    "#                      printed_2015,\n",
    "#                      printed_2014,\n",
    "#                      printed_2013,\n",
    "#                      printed_2012,\n",
    "#                      printed_2011]\n",
    "# printed_2011_2020 = pd.concat(list_printed_2011_2020)\n",
    "# printed_2011_2020.to_csv(\"data/printed/printed_2011_2020.csv\")"
   ]
  },
  {
   "cell_type": "code",
   "execution_count": 14,
   "metadata": {},
   "outputs": [],
   "source": [
    "# printed_2010 = printed(df2010)\n",
    "# printed_2009 = printed(df2009)\n",
    "# printed_2008 = printed(df2008)\n",
    "# printed_2007 = printed(df2007)\n",
    "# printed_2006 = printed(df2006)\n",
    "# printed_2005 = printed(df2005)\n",
    "# printed_2004 = printed(df2004)\n",
    "# printed_2003 = printed(df2003)\n",
    "# printed_2002 = printed(df2002)\n",
    "# printed_2001 = printed(df2001)"
   ]
  },
  {
   "cell_type": "code",
   "execution_count": 15,
   "metadata": {},
   "outputs": [],
   "source": [
    "# list_printed_2001_2010 = [printed_2010,\n",
    "#                      printed_2009,\n",
    "#                      printed_2008,\n",
    "#                      printed_2007,\n",
    "#                      printed_2006,\n",
    "#                      printed_2005,\n",
    "#                      printed_2004,\n",
    "#                      printed_2003,\n",
    "#                      printed_2002,\n",
    "#                      printed_2001]\n",
    "# printed_2001_2010 = pd.concat(list_printed_2001_2010)\n",
    "# printed_2001_2010.to_csv(\"data/printed/printed_2001_2010.csv\")"
   ]
  },
  {
   "cell_type": "code",
   "execution_count": 16,
   "metadata": {},
   "outputs": [],
   "source": [
    "# printed_2000 = printed(df2000)\n",
    "# printed_1999 = printed(df1999)\n",
    "# printed_1998 = printed(df1998)\n",
    "# printed_1997 = printed(df1997)\n",
    "# printed_1996 = printed(df1996)\n",
    "# printed_1995 = printed(df1995)\n",
    "# printed_1994 = printed(df1994)\n",
    "# printed_1993 = printed(df1993)\n",
    "# printed_1992 = printed(df1992)\n",
    "# printed_1991 = printed(df1991)"
   ]
  },
  {
   "cell_type": "code",
   "execution_count": 17,
   "metadata": {},
   "outputs": [],
   "source": [
    "# list_printed_1991_2000 = [printed_2000,\n",
    "#                           printed_1999,\n",
    "#                           printed_1998,\n",
    "#                           printed_1997,\n",
    "#                           printed_1996,\n",
    "#                           printed_1995,\n",
    "#                           printed_1994,\n",
    "#                           printed_1993,\n",
    "#                           printed_1992,\n",
    "#                           printed_1991]\n",
    "# printed_1991_2000 = pd.concat(list_printed_1991_2000)\n",
    "# printed_1991_2000.to_csv(\"data/printed/printed_1991_2000.csv\")"
   ]
  },
  {
   "cell_type": "markdown",
   "metadata": {},
   "source": [
    "# broke here!!!"
   ]
  },
  {
   "cell_type": "code",
   "execution_count": 18,
   "metadata": {},
   "outputs": [],
   "source": [
    "# printed_1990 = printed(df1990)\n",
    "# printed_1989 = printed(df1989)\n",
    "# printed_1988 = printed(df1988)\n",
    "# printed_1987 = printed(df1987)\n",
    "# printed_1986 = printed(df1986)\n",
    "# printed_1985 = printed(df1985)\n",
    "# printed_1984 = printed(df1984)\n",
    "# printed_1983 = printed(df1983)\n",
    "# printed_1982 = printed(df1982)\n",
    "# printed_1981 = printed(df1981)"
   ]
  },
  {
   "cell_type": "code",
   "execution_count": 19,
   "metadata": {},
   "outputs": [],
   "source": [
    "# list_printed_1981_1990 = [printed_1990,\n",
    "#                           printed_1989,\n",
    "#                           printed_1988,\n",
    "#                           printed_1987,\n",
    "#                           printed_1986,\n",
    "#                           printed_1985,\n",
    "#                           printed_1984,\n",
    "#                           printed_1983,\n",
    "#                           printed_1982,\n",
    "#                           printed_1981]\n",
    "# printed_1981_1990 = pd.concat(list_printed_1981_1990)\n",
    "# printed_1981_1990.to_csv(\"data/printed/printed_1981_1990.csv\")"
   ]
  },
  {
   "cell_type": "code",
   "execution_count": 20,
   "metadata": {},
   "outputs": [],
   "source": [
    "# print(printed_2020.shape)\n",
    "# print(printed_2019.shape)\n",
    "# print(printed_2018.shape)\n",
    "# print(printed_2017.shape)\n",
    "# print(printed_2016.shape)\n",
    "# print(printed_2015.shape)\n",
    "# print(printed_2014.shape)\n",
    "# print(printed_2013.shape)\n",
    "# print(printed_2012.shape)\n",
    "# print(printed_2011.shape)\n",
    "# print(printed_2010.shape)\n",
    "# print(printed_2009.shape)\n",
    "# print(printed_2008.shape)\n",
    "# print(printed_2007.shape)\n",
    "# print(printed_2006.shape)\n",
    "# print(printed_2005.shape)\n",
    "# print(printed_2004.shape)\n",
    "# print(printed_2003.shape)\n",
    "# print(printed_2002.shape)\n",
    "# print(printed_2001.shape)\n",
    "# print(printed_2000.shape)\n",
    "# print(printed_1999.shape)\n",
    "# print(printed_1998.shape)\n",
    "# print(printed_1997.shape)\n",
    "# print(printed_1996.shape)\n",
    "# print(printed_1995.shape)\n",
    "# print(printed_1994.shape)\n",
    "# print(printed_1993.shape)\n",
    "# print(printed_1992.shape)\n",
    "# print(printed_1991.shape)\n",
    "# print(printed_1990.shape)\n",
    "# print(printed_1989.shape)\n",
    "# print(printed_1988.shape)\n",
    "# print(printed_1987.shape)\n",
    "# print(printed_1986.shape)\n",
    "# print(printed_1985.shape)\n",
    "# print(printed_1984.shape)\n",
    "# print(printed_1983.shape)\n",
    "# print(printed_1982.shape)\n",
    "# print(printed_1981.shape)"
   ]
  },
  {
   "cell_type": "markdown",
   "metadata": {},
   "source": [
    "# filter keywords"
   ]
  },
  {
   "cell_type": "code",
   "execution_count": 21,
   "metadata": {},
   "outputs": [],
   "source": [
    "# %%time\n",
    "# keyword_df2020 = filter_keyword(printed_2020)\n",
    "# keyword_df2019 = filter_keyword(printed_2019)\n",
    "# keyword_df2018 = filter_keyword(printed_2018)\n",
    "# keyword_df2017 = filter_keyword(printed_2017)\n",
    "# keyword_df2016 = filter_keyword(printed_2016)\n",
    "# keyword_df2015 = filter_keyword(printed_2015)\n",
    "# keyword_df2014 = filter_keyword(printed_2014)\n",
    "# keyword_df2013 = filter_keyword(printed_2013)\n",
    "# keyword_df2012 = filter_keyword(printed_2012)\n",
    "# keyword_df2011 = filter_keyword(printed_2011)"
   ]
  },
  {
   "cell_type": "code",
   "execution_count": 22,
   "metadata": {},
   "outputs": [],
   "source": [
    "# %%time\n",
    "# keyword_df2010 = filter_keyword(printed_2010)\n",
    "# keyword_df2009 = filter_keyword(printed_2009)\n",
    "# keyword_df2008 = filter_keyword(printed_2008)\n",
    "# keyword_df2007 = filter_keyword(printed_2007)\n",
    "# keyword_df2006 = filter_keyword(printed_2006)\n",
    "# keyword_df2005 = filter_keyword(printed_2005)\n",
    "# keyword_df2004 = filter_keyword(printed_2004)\n",
    "# keyword_df2003 = filter_keyword(printed_2003)\n",
    "# keyword_df2002 = filter_keyword(printed_2002)\n",
    "# keyword_df2001 = filter_keyword(printed_2001)"
   ]
  },
  {
   "cell_type": "code",
   "execution_count": 23,
   "metadata": {},
   "outputs": [],
   "source": [
    "# %%time\n",
    "# keyword_df2000 = filter_keyword(printed_2000)\n",
    "# keyword_df1999 = filter_keyword(printed_1999)\n",
    "# keyword_df1998 = filter_keyword(printed_1998)\n",
    "# keyword_df1997 = filter_keyword(printed_1997)\n",
    "# keyword_df1996 = filter_keyword(printed_1996)\n",
    "# keyword_df1995 = filter_keyword(printed_1995)\n",
    "# keyword_df1994 = filter_keyword(printed_1994)\n",
    "# keyword_df1993 = filter_keyword(printed_1993)\n",
    "# keyword_df1992 = filter_keyword(printed_1992)\n",
    "# keyword_df1991 = filter_keyword(printed_1991)"
   ]
  },
  {
   "cell_type": "code",
   "execution_count": 24,
   "metadata": {},
   "outputs": [],
   "source": [
    "# # %%time\n",
    "# keyword_df1990 = filter_keyword(printed_1990)\n",
    "# keyword_df1989 = filter_keyword(printed_1989)\n",
    "# keyword_df1988 = filter_keyword(printed_1988)\n",
    "# keyword_df1987 = filter_keyword(printed_1987)\n",
    "# keyword_df1986 = filter_keyword(printed_1986)\n",
    "# keyword_df1985 = filter_keyword(printed_1985)\n",
    "# keyword_df1984 = filter_keyword(printed_1984)\n",
    "# keyword_df1983 = filter_keyword(printed_1983)\n",
    "# keyword_df1982 = filter_keyword(printed_1982)\n",
    "# keyword_df1981 = filter_keyword(printed_1981)"
   ]
  },
  {
   "cell_type": "code",
   "execution_count": 25,
   "metadata": {},
   "outputs": [],
   "source": [
    "# print(keyword_df2020.shape)\n",
    "# print(keyword_df2019.shape)\n",
    "# print(keyword_df2018.shape)\n",
    "# print(keyword_df2017.shape)\n",
    "# print(keyword_df2016.shape)\n",
    "# print(keyword_df2015.shape)\n",
    "# print(keyword_df2014.shape)\n",
    "# print(keyword_df2013.shape)\n",
    "# print(keyword_df2012.shape)\n",
    "# print(keyword_df2011.shape)\n",
    "# print(keyword_df2010.shape)\n",
    "# print(keyword_df2009.shape)\n",
    "# print(keyword_df2008.shape)\n",
    "# print(keyword_df2007.shape)\n",
    "# print(keyword_df2006.shape)\n",
    "# print(keyword_df2005.shape)\n",
    "# print(keyword_df2004.shape)\n",
    "# print(keyword_df2003.shape)\n",
    "# print(keyword_df2002.shape)\n",
    "# print(keyword_df2001.shape)\n",
    "# print(keyword_df2000.shape)\n",
    "# print(keyword_df1999.shape)\n",
    "# print(keyword_df1998.shape)\n",
    "# print(keyword_df1997.shape)\n",
    "# print(keyword_df1996.shape)\n",
    "# print(keyword_df1995.shape)\n",
    "# print(keyword_df1994.shape)\n",
    "# print(keyword_df1993.shape)\n",
    "# print(keyword_df1992.shape)\n",
    "# print(keyword_df1991.shape)\n",
    "# print(keyword_df1990.shape)\n",
    "# print(keyword_df1989.shape)\n",
    "# print(keyword_df1988.shape)\n",
    "# print(keyword_df1987.shape)\n",
    "# print(keyword_df1986.shape)\n",
    "# print(keyword_df1985.shape)\n",
    "# print(keyword_df1984.shape)\n",
    "# print(keyword_df1983.shape)\n",
    "# print(keyword_df1982.shape)\n",
    "# print(keyword_df1981.shape)"
   ]
  },
  {
   "cell_type": "code",
   "execution_count": 26,
   "metadata": {},
   "outputs": [],
   "source": [
    "# #concat df together\n",
    "# df = pd.concat([keyword_df2020,\n",
    "#                 keyword_df2019,\n",
    "#                 keyword_df2018,\n",
    "#                 keyword_df2017,\n",
    "#                 keyword_df2016,\n",
    "#                 keyword_df2015,\n",
    "#                 keyword_df2014,\n",
    "#                 keyword_df2013,\n",
    "#                 keyword_df2012,\n",
    "#                 keyword_df2011,\n",
    "#                 keyword_df2010]#,\n",
    "#                 keyword_df2009,\n",
    "#                 keyword_df2008,\n",
    "#                 keyword_df2007,\n",
    "#                 keyword_df2006,\n",
    "#                 keyword_df2005,\n",
    "#                 keyword_df2004,\n",
    "#                 keyword_df2003,\n",
    "#                 keyword_df2002,\n",
    "#                 keyword_df2001,\n",
    "#                 keyword_df2000,\n",
    "#                 keyword_df1999,\n",
    "#                 keyword_df1998,\n",
    "#                 keyword_df1997,\n",
    "#                 keyword_df1996,\n",
    "#                 keyword_df1995,\n",
    "#                 keyword_df1994,\n",
    "#                 keyword_df1993,\n",
    "#                 keyword_df1992,\n",
    "#                 keyword_df1991,\n",
    "#                 keyword_df1990,\n",
    "#                 keyword_df1989,\n",
    "#                 keyword_df1988,\n",
    "#                 keyword_df1987,\n",
    "#                 keyword_df1986,\n",
    "#                 keyword_df1985,\n",
    "#                 keyword_df1984,\n",
    "#                 keyword_df1983,\n",
    "#                 keyword_df1982,\n",
    "#                 keyword_df1981,\n",
    "#                 keyword_df1980])"
   ]
  },
  {
   "cell_type": "code",
   "execution_count": null,
   "metadata": {},
   "outputs": [],
   "source": []
  },
  {
   "cell_type": "code",
   "execution_count": null,
   "metadata": {},
   "outputs": [],
   "source": []
  },
  {
   "cell_type": "code",
   "execution_count": null,
   "metadata": {},
   "outputs": [],
   "source": []
  },
  {
   "cell_type": "code",
   "execution_count": null,
   "metadata": {},
   "outputs": [],
   "source": []
  },
  {
   "cell_type": "code",
   "execution_count": null,
   "metadata": {},
   "outputs": [],
   "source": []
  },
  {
   "cell_type": "code",
   "execution_count": null,
   "metadata": {},
   "outputs": [],
   "source": []
  }
 ],
 "metadata": {
  "kernelspec": {
   "display_name": "Python 3",
   "language": "python",
   "name": "python3"
  },
  "language_info": {
   "codemirror_mode": {
    "name": "ipython",
    "version": 3
   },
   "file_extension": ".py",
   "mimetype": "text/x-python",
   "name": "python",
   "nbconvert_exporter": "python",
   "pygments_lexer": "ipython3",
   "version": "3.7.9"
  }
 },
 "nbformat": 4,
 "nbformat_minor": 4
}
