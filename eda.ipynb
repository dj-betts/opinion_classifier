{
 "cells": [
  {
   "cell_type": "code",
   "execution_count": 1,
   "metadata": {},
   "outputs": [],
   "source": [
    "import json"
   ]
  },
  {
   "cell_type": "code",
   "execution_count": 2,
   "metadata": {},
   "outputs": [],
   "source": [
    "import pandas as pd\n",
    "import numpy as np"
   ]
  },
  {
   "cell_type": "code",
   "execution_count": 3,
   "metadata": {},
   "outputs": [],
   "source": [
    "import matplotlib.pyplot as plt\n",
    "plt.style.use('fivethirtyeight')"
   ]
  },
  {
   "cell_type": "code",
   "execution_count": 4,
   "metadata": {},
   "outputs": [],
   "source": [
    "pd.options.display.max_rows = 4000"
   ]
  },
  {
   "cell_type": "code",
   "execution_count": 5,
   "metadata": {},
   "outputs": [],
   "source": [
    "from sklearn.feature_extraction.text import CountVectorizer"
   ]
  },
  {
   "cell_type": "code",
   "execution_count": 6,
   "metadata": {},
   "outputs": [],
   "source": [
    "#returns shape of news and oped\n",
    "def oped_v_news(df):\n",
    "    df.type_of_material.hist()\n",
    "    news = sum(df.type_of_material == \"News\")\n",
    "    oped = sum(df.type_of_material == \"Op-Ed\")\n",
    "    print(f'News: {news} Oped: {oped}, Total: {oped+news}, Op-Ed {round(oped/(oped+news), 2)} of total')\n",
    "    #plt.savefig('../img/oped_news_hist.png')"
   ]
  },
  {
   "cell_type": "markdown",
   "metadata": {},
   "source": [
    "# split quoted text from article"
   ]
  },
  {
   "cell_type": "code",
   "execution_count": 7,
   "metadata": {},
   "outputs": [],
   "source": [
    "#split document into article body and quotation\n",
    "def quote_removal(document):\n",
    "    article = []\n",
    "    quote_list = []\n",
    "    \n",
    "    open_quote = \"“\"\n",
    "    close_quote = \"”\"\n",
    "    \n",
    "    close_split = document.split(close_quote)\n",
    "    \n",
    "    for string in close_split:\n",
    "\n",
    "        quote = string.split(open_quote)\n",
    "        article.append(quote.pop(0))\n",
    "        quote_list += quote\n",
    "    \n",
    "    article = \" \".join(article)\n",
    "    quotation = \" \".join(quote_list)\n",
    "        \n",
    "    return(article, quotation)"
   ]
  },
  {
   "cell_type": "markdown",
   "metadata": {},
   "source": [
    "# filter only printed articles"
   ]
  },
  {
   "cell_type": "code",
   "execution_count": 8,
   "metadata": {},
   "outputs": [],
   "source": [
    "import os\n",
    "import glob\n",
    "import pandas as pd\n",
    "\n",
    "#extension = 'csv'\n",
    "#all_filenames = [i for i in glob.glob('*.{}'.format(extension))]\n",
    "df2020 = '/Users/djbetts/Desktop/opinion_classifier/data/archive/raw_2020.csv'\n",
    "df2019 = '/Users/djbetts/Desktop/opinion_classifier/data/archive/raw_2019.csv'\n",
    "\n",
    "#combine print, type, text columns in the list\n",
    "def printed(file):\n",
    "    print_cols = ['_id','print_page','pub_date','keywords','type_of_material','lead_paragraph','text','web_url']    \n",
    "    df = pd.read_csv(file, usecols=print_cols, index_col='_id', low_memory=False)\n",
    "    df = df[df.print_page.isna() == False]\n",
    "    df = df[~df.text.isna() == True]\n",
    "    return df"
   ]
  },
  {
   "cell_type": "markdown",
   "metadata": {},
   "source": [
    "# concat articles"
   ]
  },
  {
   "cell_type": "code",
   "execution_count": 9,
   "metadata": {},
   "outputs": [],
   "source": [
    "import os\n",
    "import glob\n",
    "import pandas as pd\n",
    "\n",
    "#extension = 'csv'\n",
    "#all_filenames = [i for i in glob.glob('*.{}'.format(extension))]\n",
    "df2020 = '/Users/djbetts/Desktop/opinion_classifier/data/archive/raw_2020.csv'\n",
    "df2019 = '/Users/djbetts/Desktop/opinion_classifier/data/archive/raw_2019.csv'\n",
    "df2018 = '/Users/djbetts/Desktop/opinion_classifier/data/archive/raw_2018.csv'\n",
    "df2017 = '/Users/djbetts/Desktop/opinion_classifier/data/archive/raw_2017.csv'\n",
    "df2016 = '/Users/djbetts/Desktop/opinion_classifier/data/archive/raw_2016.csv'\n",
    "df2015 = '/Users/djbetts/Desktop/opinion_classifier/data/archive/raw_2015.csv'\n",
    "df2014 = '/Users/djbetts/Desktop/opinion_classifier/data/archive/raw_2014.csv'\n",
    "df2013 = '/Users/djbetts/Desktop/opinion_classifier/data/archive/raw_2013.csv'\n",
    "df2012 = '/Users/djbetts/Desktop/opinion_classifier/data/archive/raw_2012.csv'\n",
    "df2011 = '/Users/djbetts/Desktop/opinion_classifier/data/archive/raw_2011.csv'\n",
    "df2010 = '/Users/djbetts/Desktop/opinion_classifier/data/archive/raw_2010.csv'\n",
    "df2009 = '/Users/djbetts/Desktop/opinion_classifier/data/archive/raw_2009.csv'\n",
    "df2008 = '/Users/djbetts/Desktop/opinion_classifier/data/archive/raw_2008.csv'\n",
    "df2007 = '/Users/djbetts/Desktop/opinion_classifier/data/archive/raw_2007.csv'\n",
    "df2006 = '/Users/djbetts/Desktop/opinion_classifier/data/archive/raw_2006.csv'\n",
    "df2005 = '/Users/djbetts/Desktop/opinion_classifier/data/archive/raw_2005.csv'\n",
    "df2004 = '/Users/djbetts/Desktop/opinion_classifier/data/archive/raw_2004.csv'\n",
    "df2003 = '/Users/djbetts/Desktop/opinion_classifier/data/archive/raw_2003.csv'\n",
    "df2002 = '/Users/djbetts/Desktop/opinion_classifier/data/archive/raw_2002.csv'\n",
    "df2001 = '/Users/djbetts/Desktop/opinion_classifier/data/archive/raw_2001.csv'\n",
    "df2000 = '/Users/djbetts/Desktop/opinion_classifier/data/archive/raw_2000.csv'\n",
    "df1999 = '/Users/djbetts/Desktop/opinion_classifier/data/archive/raw_1999.csv'\n",
    "df1998 = '/Users/djbetts/Desktop/opinion_classifier/data/archive/raw_1998.csv'\n",
    "df1997 = '/Users/djbetts/Desktop/opinion_classifier/data/archive/raw_1997.csv'\n",
    "df1996 = '/Users/djbetts/Desktop/opinion_classifier/data/archive/raw_1996.csv'\n",
    "df1995 = '/Users/djbetts/Desktop/opinion_classifier/data/archive/raw_1995.csv'\n",
    "df1994 = '/Users/djbetts/Desktop/opinion_classifier/data/archive/raw_1994.csv'\n",
    "df1993 = '/Users/djbetts/Desktop/opinion_classifier/data/archive/raw_1993.csv'\n",
    "df1992 = '/Users/djbetts/Desktop/opinion_classifier/data/archive/raw_1992.csv'\n",
    "df1991 = '/Users/djbetts/Desktop/opinion_classifier/data/archive/raw_1991.csv'\n",
    "df1990 = '/Users/djbetts/Desktop/opinion_classifier/data/archive/raw_1990.csv'\n",
    "df1989 = '/Users/djbetts/Desktop/opinion_classifier/data/archive/raw_1989.csv'\n",
    "df1988 = '/Users/djbetts/Desktop/opinion_classifier/data/archive/raw_1988.csv'\n",
    "df1987 = '/Users/djbetts/Desktop/opinion_classifier/data/archive/raw_1987.csv'\n",
    "df1986 = '/Users/djbetts/Desktop/opinion_classifier/data/archive/raw_1986.csv'\n",
    "df1985 = '/Users/djbetts/Desktop/opinion_classifier/data/archive/raw_1985.csv'\n",
    "df1984 = '/Users/djbetts/Desktop/opinion_classifier/data/archive/raw_1984.csv'\n",
    "df1983 = '/Users/djbetts/Desktop/opinion_classifier/data/archive/raw_1983.csv'\n",
    "df1982 = '/Users/djbetts/Desktop/opinion_classifier/data/archive/raw_1982.csv'\n",
    "df1981 = '/Users/djbetts/Desktop/opinion_classifier/data/archive/raw_1981.csv'"
   ]
  },
  {
   "cell_type": "code",
   "execution_count": 10,
   "metadata": {},
   "outputs": [],
   "source": [
    "#combine print, type, text columns in the list\n",
    "def printed(file):\n",
    "    print_cols = ['_id','print_page','pub_date','keywords','type_of_material','lead_paragraph','text']    \n",
    "    df = pd.read_csv(file, usecols=print_cols, index_col='_id', low_memory=False)\n",
    "    df = df[df.print_page.isna() == False]\n",
    "    df = df[~df.text.isna() == True]\n",
    "    return df"
   ]
  },
  {
   "cell_type": "code",
   "execution_count": 11,
   "metadata": {},
   "outputs": [],
   "source": [
    "#returns articles w/ 'United States Politics and Government' as a keyword\n",
    "def return_pol_gov(row):\n",
    "    list_dict = eval(row.keywords)\n",
    "    for (dic) in (list_dict):\n",
    "        if dic.get('value') == 'United States Politics and Government':\n",
    "            return True\n",
    "\n",
    "def keyword_filter(df, keyword='United States Politics and Government'):\n",
    "    df[keyword] = df.apply(return_pol_gov, axis=1)\n",
    "    df = df[df[keyword] == True]\n",
    "    return df"
   ]
  },
  {
   "cell_type": "code",
   "execution_count": 12,
   "metadata": {},
   "outputs": [],
   "source": [
    "#returns shape of news and oped\n",
    "def oped_v_news(df):\n",
    "    df.type_of_material.hist()\n",
    "    news = sum(df.type_of_material == \"News\")\n",
    "    oped = sum(df.type_of_material == \"Op-Ed\")\n",
    "    print(f'News: {news} Oped: {oped}, Total: {oped+news}, Op-Ed {round(oped/(oped+news), 2)} of total')\n",
    "    #plt.savefig('../img/oped_news_hist.png')"
   ]
  },
  {
   "cell_type": "markdown",
   "metadata": {},
   "source": [
    "# data"
   ]
  },
  {
   "cell_type": "code",
   "execution_count": 13,
   "metadata": {},
   "outputs": [],
   "source": [
    "data = printed(df2020)"
   ]
  },
  {
   "cell_type": "code",
   "execution_count": 14,
   "metadata": {},
   "outputs": [
    {
     "data": {
      "text/plain": [
       "(27752, 6)"
      ]
     },
     "execution_count": 14,
     "metadata": {},
     "output_type": "execute_result"
    }
   ],
   "source": [
    "data.shape"
   ]
  },
  {
   "cell_type": "code",
   "execution_count": 15,
   "metadata": {},
   "outputs": [],
   "source": [
    "data.columns\n",
    "df = data.copy()"
   ]
  },
  {
   "cell_type": "code",
   "execution_count": 16,
   "metadata": {},
   "outputs": [
    {
     "name": "stdout",
     "output_type": "stream",
     "text": [
      "CPU times: user 2.69 s, sys: 44.1 ms, total: 2.73 s\n",
      "Wall time: 2.77 s\n"
     ]
    }
   ],
   "source": [
    "%%time\n",
    "df = keyword_filter(data)"
   ]
  },
  {
   "cell_type": "code",
   "execution_count": 17,
   "metadata": {},
   "outputs": [
    {
     "data": {
      "text/plain": [
       "(4585, 7)"
      ]
     },
     "execution_count": 17,
     "metadata": {},
     "output_type": "execute_result"
    }
   ],
   "source": [
    "df.shape"
   ]
  },
  {
   "cell_type": "code",
   "execution_count": 18,
   "metadata": {},
   "outputs": [
    {
     "data": {
      "text/plain": [
       "'On the first Monday in May, the Department of Justice headquarters in Washington was on coronavirus lockdown — or at least it appeared to be from the outside. Signs posted on the outer doors facing Constitution Avenue admonished visitors to keep out if they had symptoms of Covid-19 or had been “exposed to any person diagnosed” with it. Inside, the guards operating the X-ray machines wore masks and gloves. Across the lobby, a free-standing pump of hand sanitizer cast a cautionary shadow down empt'"
      ]
     },
     "execution_count": 18,
     "metadata": {},
     "output_type": "execute_result"
    }
   ],
   "source": [
    "df.text[0][:500]"
   ]
  },
  {
   "cell_type": "code",
   "execution_count": 19,
   "metadata": {},
   "outputs": [
    {
     "name": "stderr",
     "output_type": "stream",
     "text": [
      "/Users/djbetts/opt/anaconda3/lib/python3.7/site-packages/ipykernel_launcher.py:1: SettingWithCopyWarning: \n",
      "A value is trying to be set on a copy of a slice from a DataFrame.\n",
      "Try using .loc[row_indexer,col_indexer] = value instead\n",
      "\n",
      "See the caveats in the documentation: https://pandas.pydata.org/pandas-docs/stable/user_guide/indexing.html#returning-a-view-versus-a-copy\n",
      "  \"\"\"Entry point for launching an IPython kernel.\n"
     ]
    }
   ],
   "source": [
    "df['text'] = [text.replace(lead, \"\") for text, lead in zip(df.text[:].astype('str'), df.lead_paragraph[:].astype('str'))]"
   ]
  },
  {
   "cell_type": "code",
   "execution_count": 20,
   "metadata": {},
   "outputs": [
    {
     "data": {
      "text/plain": [
       "'But as you drew closer to the fifth floor, where Attorney General William Pelham Barr works out of a suite of offices, things started to loosen up. One assistant outside his conference room wore a mask, but the other did not. In the middle of the room, with its oil paintings and vaulted ceiling, the long central table had fewer chairs than you might expect, and an appropriate distance between them. But past the next door, inside the attorney general’s smaller personal office, Barr himself was al'"
      ]
     },
     "execution_count": 20,
     "metadata": {},
     "output_type": "execute_result"
    }
   ],
   "source": [
    "df.text[0][:500]"
   ]
  },
  {
   "cell_type": "markdown",
   "metadata": {},
   "source": [
    "# remove quotations"
   ]
  },
  {
   "cell_type": "code",
   "execution_count": 21,
   "metadata": {},
   "outputs": [],
   "source": [
    "#split document into article body and quotation\n",
    "def text_parse(document):\n",
    "    article = []\n",
    "    quote_list = []\n",
    "    \n",
    "    open_quote = \"“\"\n",
    "    close_quote = \"”\"\n",
    "    \n",
    "    close_split = document.split(close_quote)\n",
    "    \n",
    "    for string in close_split:\n",
    "\n",
    "        quote = string.split(open_quote)\n",
    "        article.append(quote.pop(0))\n",
    "        quote_list += quote\n",
    "    \n",
    "    article = \" \".join(article)\n",
    "    quotation = \" \".join(quote_list)\n",
    "        \n",
    "    return(article, quotation)"
   ]
  },
  {
   "cell_type": "code",
   "execution_count": 22,
   "metadata": {},
   "outputs": [],
   "source": [
    "#split article and return quote\n",
    "def return_article(document):\n",
    "    article = []\n",
    "    quote_list = []\n",
    "    \n",
    "    open_quote = \"“\"\n",
    "    close_quote = \"”\"\n",
    "    \n",
    "    close_split = document.split(close_quote)\n",
    "    \n",
    "    for string in close_split:\n",
    "\n",
    "        quote = string.split(open_quote)\n",
    "        article.append(quote.pop(0))\n",
    "        quote_list += quote\n",
    "    \n",
    "    article = \" \".join(article)\n",
    "    quotation = \" \".join(quote_list)\n",
    "    \n",
    "    return(article)"
   ]
  },
  {
   "cell_type": "code",
   "execution_count": 23,
   "metadata": {},
   "outputs": [],
   "source": [
    "#split article and return quote\n",
    "def return_quote(document):\n",
    "    article = []\n",
    "    quote_list = []\n",
    "    \n",
    "    open_quote = \"“\"\n",
    "    close_quote = \"”\"\n",
    "    \n",
    "    close_split = document.split(close_quote)\n",
    "    \n",
    "    for string in close_split:\n",
    "\n",
    "        quote = string.split(open_quote)\n",
    "        article.append(quote.pop(0))\n",
    "        quote_list += quote\n",
    "    \n",
    "    article = \" \".join(article)\n",
    "    quotation = \" \".join(quote_list)\n",
    "        \n",
    "    return(quotation)"
   ]
  },
  {
   "cell_type": "code",
   "execution_count": 24,
   "metadata": {},
   "outputs": [
    {
     "name": "stderr",
     "output_type": "stream",
     "text": [
      "/Users/djbetts/opt/anaconda3/lib/python3.7/site-packages/ipykernel_launcher.py:1: SettingWithCopyWarning: \n",
      "A value is trying to be set on a copy of a slice from a DataFrame.\n",
      "Try using .loc[row_indexer,col_indexer] = value instead\n",
      "\n",
      "See the caveats in the documentation: https://pandas.pydata.org/pandas-docs/stable/user_guide/indexing.html#returning-a-view-versus-a-copy\n",
      "  \"\"\"Entry point for launching an IPython kernel.\n"
     ]
    }
   ],
   "source": [
    "df['article'] = df.text.apply(return_article)"
   ]
  },
  {
   "cell_type": "code",
   "execution_count": 25,
   "metadata": {},
   "outputs": [
    {
     "data": {
      "text/plain": [
       "'But as you drew closer to the fifth floor, where Attorney General William Pelham Barr works out of a suite of offices, things started to loosen up. One assistant outside his conference room wore a mask, but the other did not. In the middle of the room, with its oil paintings and vaulted ceiling, the long central table had fewer chairs than you might expect, and an appropriate distance between them. But past the next door, inside the attorney general’s smaller personal office, Barr himself was al'"
      ]
     },
     "execution_count": 25,
     "metadata": {},
     "output_type": "execute_result"
    }
   ],
   "source": [
    "df['article'][0][:500]"
   ]
  },
  {
   "cell_type": "code",
   "execution_count": 26,
   "metadata": {},
   "outputs": [
    {
     "name": "stderr",
     "output_type": "stream",
     "text": [
      "/Users/djbetts/opt/anaconda3/lib/python3.7/site-packages/ipykernel_launcher.py:1: SettingWithCopyWarning: \n",
      "A value is trying to be set on a copy of a slice from a DataFrame.\n",
      "Try using .loc[row_indexer,col_indexer] = value instead\n",
      "\n",
      "See the caveats in the documentation: https://pandas.pydata.org/pandas-docs/stable/user_guide/indexing.html#returning-a-view-versus-a-copy\n",
      "  \"\"\"Entry point for launching an IPython kernel.\n"
     ]
    }
   ],
   "source": [
    "df['quote_list'] = df.text.apply(return_quote)"
   ]
  },
  {
   "cell_type": "code",
   "execution_count": 27,
   "metadata": {},
   "outputs": [
    {
     "data": {
      "text/plain": [
       "'I’m not going to insist that you have a mask, rumpled, If you want to take it off … , I’m not going to infect you, Go ahead and take it off, opportunistic the product of some festering injustice. respect and support, might find themselves without the police protection they need. freedom liberate liberation disfavored speech and undue interference with the national economy. total I think the federal government does have the power to step in where a state is impairing interstate commerce, where th'"
      ]
     },
     "execution_count": 27,
     "metadata": {},
     "output_type": "execute_result"
    }
   ],
   "source": [
    "df['quote_list'][0][:500]"
   ]
  },
  {
   "cell_type": "code",
   "execution_count": 28,
   "metadata": {},
   "outputs": [],
   "source": [
    "def keyword_string(row):\n",
    "    \n",
    "    dictionary_list = (eval(row))\n",
    "    output = \" \"\n",
    "    \n",
    "    for dictionary in dictionary_list:\n",
    "        dict_value = dictionary.get('value')\n",
    "        output += (f'{dict_value} ')\n",
    "    return output.split(\" \")\n",
    " "
   ]
  },
  {
   "cell_type": "code",
   "execution_count": 29,
   "metadata": {},
   "outputs": [
    {
     "name": "stderr",
     "output_type": "stream",
     "text": [
      "/Users/djbetts/opt/anaconda3/lib/python3.7/site-packages/ipykernel_launcher.py:1: SettingWithCopyWarning: \n",
      "A value is trying to be set on a copy of a slice from a DataFrame.\n",
      "Try using .loc[row_indexer,col_indexer] = value instead\n",
      "\n",
      "See the caveats in the documentation: https://pandas.pydata.org/pandas-docs/stable/user_guide/indexing.html#returning-a-view-versus-a-copy\n",
      "  \"\"\"Entry point for launching an IPython kernel.\n"
     ]
    }
   ],
   "source": [
    "df['keyword_list'] =  df.keywords.apply(keyword_string)"
   ]
  },
  {
   "cell_type": "code",
   "execution_count": 30,
   "metadata": {},
   "outputs": [
    {
     "data": {
      "text/plain": [
       "['',\n",
       " 'Barr,',\n",
       " 'William',\n",
       " 'P',\n",
       " 'Justice',\n",
       " 'Department',\n",
       " 'United',\n",
       " 'States',\n",
       " 'Politics',\n",
       " 'and',\n",
       " 'Government',\n",
       " 'Presidential',\n",
       " 'Election',\n",
       " 'of',\n",
       " '2020',\n",
       " 'Trump,',\n",
       " 'Donald',\n",
       " 'J',\n",
       " 'Presidents',\n",
       " 'and',\n",
       " 'Presidency',\n",
       " '(US)',\n",
       " 'Special',\n",
       " 'Prosecutors',\n",
       " '(Independent',\n",
       " 'Counsel)',\n",
       " 'Central',\n",
       " 'Intelligence',\n",
       " 'Agency',\n",
       " 'Bush,',\n",
       " 'George',\n",
       " 'Attorneys',\n",
       " 'General',\n",
       " '']"
      ]
     },
     "execution_count": 30,
     "metadata": {},
     "output_type": "execute_result"
    }
   ],
   "source": [
    "df['keyword_list'][0]"
   ]
  },
  {
   "cell_type": "code",
   "execution_count": 31,
   "metadata": {},
   "outputs": [],
   "source": [
    "#returns articles w/ 'United States Politics and Government' as a keyword\n",
    "def return_pol_gov(row):\n",
    "    list_dict = eval(row.keywords)\n",
    "    for (dic) in (list_dict):\n",
    "        if dic.get('value') == 'United States Politics and Government':\n",
    "            return True\n",
    "\n",
    "def keyword_filter(df, keyword='United States Politics and Government'):\n",
    "    df[keyword] = df.apply(return_pol_gov, axis=1)\n",
    "    df = df[df[keyword] == True]\n",
    "    return df"
   ]
  },
  {
   "cell_type": "code",
   "execution_count": 32,
   "metadata": {},
   "outputs": [],
   "source": [
    "df2020 = '/Users/djbetts/Desktop/opinion_classifier/data/archive/raw_2020.csv'\n",
    "df2019 = '/Users/djbetts/Desktop/opinion_classifier/data/archive/raw_2019.csv'\n",
    "df2018 = '/Users/djbetts/Desktop/opinion_classifier/data/archive/raw_2018.csv'"
   ]
  },
  {
   "cell_type": "code",
   "execution_count": 33,
   "metadata": {},
   "outputs": [],
   "source": [
    "df_list = [df2020, df2019, df2018, df2017, df2016, df2015, df2014, df2013, df2012, df2011, df2010]"
   ]
  },
  {
   "cell_type": "code",
   "execution_count": 82,
   "metadata": {},
   "outputs": [],
   "source": [
    "df_list_auto = []\n",
    "for num in range(2010,2021):\n",
    "    df_list_auto.append(f'/Users/djbetts/Desktop/opinion_classifier/data/archive/raw_{num}.csv')"
   ]
  },
  {
   "cell_type": "code",
   "execution_count": 83,
   "metadata": {},
   "outputs": [
    {
     "data": {
      "text/plain": [
       "['/Users/djbetts/Desktop/opinion_classifier/data/archive/raw_2010.csv',\n",
       " '/Users/djbetts/Desktop/opinion_classifier/data/archive/raw_2011.csv',\n",
       " '/Users/djbetts/Desktop/opinion_classifier/data/archive/raw_2012.csv',\n",
       " '/Users/djbetts/Desktop/opinion_classifier/data/archive/raw_2013.csv',\n",
       " '/Users/djbetts/Desktop/opinion_classifier/data/archive/raw_2014.csv',\n",
       " '/Users/djbetts/Desktop/opinion_classifier/data/archive/raw_2015.csv',\n",
       " '/Users/djbetts/Desktop/opinion_classifier/data/archive/raw_2016.csv',\n",
       " '/Users/djbetts/Desktop/opinion_classifier/data/archive/raw_2017.csv',\n",
       " '/Users/djbetts/Desktop/opinion_classifier/data/archive/raw_2018.csv',\n",
       " '/Users/djbetts/Desktop/opinion_classifier/data/archive/raw_2019.csv',\n",
       " '/Users/djbetts/Desktop/opinion_classifier/data/archive/raw_2020.csv']"
      ]
     },
     "execution_count": 83,
     "metadata": {},
     "output_type": "execute_result"
    }
   ],
   "source": [
    "df_list_auto"
   ]
  },
  {
   "cell_type": "code",
   "execution_count": 84,
   "metadata": {},
   "outputs": [],
   "source": [
    "#combine print, type, text columns in the list\n",
    "def data_sizes(list_files):\n",
    "    \n",
    "    dfnames = []\n",
    "    df_sizes = []\n",
    "    printed_sizes = []\n",
    "    keyword_sizes = []\n",
    "    \n",
    "    print_cols = ['_id','print_page','pub_date','keywords','type_of_material',]\n",
    "    \n",
    "    for file in list_files:\n",
    "        \n",
    "        df_name = file[-8:-4]\n",
    "        dfnames.append(df_name)\n",
    "        \n",
    "        df = pd.read_csv(file, usecols=print_cols, index_col='_id', low_memory=False)\n",
    "        df_size = df.shape[0]\n",
    "        df_sizes.append(df_size)\n",
    "        \n",
    "        df_printed = df[df.print_page.isna() == False]\n",
    "        df_printed_size = df_printed.shape[0]\n",
    "        printed_sizes.append(df_printed_size)\n",
    "        \n",
    "#        df = df[~df.text.isna() == True]\n",
    "\n",
    "        keyword_df = keyword_filter(df)\n",
    "        keyword_size = keyword_df.shape[0]\n",
    "        keyword_sizes.append(keyword_size)\n",
    "        \n",
    "    return (dfnames, df_sizes, printed_sizes, keyword_sizes)"
   ]
  },
  {
   "cell_type": "code",
   "execution_count": 85,
   "metadata": {},
   "outputs": [],
   "source": [
    "dfnames, df_sizes, printed_sizes, keyword_sizes = data_sizes(df_list_auto)"
   ]
  },
  {
   "cell_type": "code",
   "execution_count": 86,
   "metadata": {},
   "outputs": [
    {
     "data": {
      "text/plain": [
       "(['2010',\n",
       "  '2011',\n",
       "  '2012',\n",
       "  '2013',\n",
       "  '2014',\n",
       "  '2015',\n",
       "  '2016',\n",
       "  '2017',\n",
       "  '2018',\n",
       "  '2019',\n",
       "  '2020'],\n",
       " [43239, 61348, 78334, 65627, 64106, 57385, 50015, 44293, 43307, 41748, 43549],\n",
       " [36353, 34550, 35828, 37289, 38431, 36691, 34458, 32544, 31361, 30255, 27801],\n",
       " [1794, 1822, 1790, 1792, 1845, 1914, 1889, 5785, 5853, 5819, 6053])"
      ]
     },
     "execution_count": 86,
     "metadata": {},
     "output_type": "execute_result"
    }
   ],
   "source": [
    "dfnames, df_sizes, printed_sizes, keyword_sizes"
   ]
  },
  {
   "cell_type": "code",
   "execution_count": 89,
   "metadata": {},
   "outputs": [
    {
     "data": {
      "image/png": "[encoded data removed]",
      "text/plain": [
       "<Figure size 1080x720 with 1 Axes>"
      ]
     },
     "metadata": {},
     "output_type": "display_data"
    }
   ],
   "source": [
    "import matplotlib\n",
    "import matplotlib.pyplot as plt\n",
    "import numpy as np\n",
    "\n",
    "x = np.arange(len(dfnames))  # the label locations\n",
    "width = 0.35  # the width of the bars\n",
    "\n",
    "fig, ax = plt.subplots(figsize=(15,10))\n",
    "ax.bar(x - width/2, df_sizes, width, label='Published')\n",
    "ax.bar(x + width/2, printed_sizes, width, label='Printed')\n",
    "#ax.bar(x + width/2, keyword_sizes, width, label='KEYWORD: United States Politics and Government')\n",
    "\n",
    "# ax.bar(x, df_sizes, width, label='Published')\n",
    "# ax.bar(x, printed_sizes, width, label='Printed')\n",
    "# ax.bar(x, keyword_sizes, width, label='KEYWORD: United States Politics and Government')\n",
    "\n",
    "# Add some text for labels, title and custom x-axis tick labels, etc.\n",
    "ax.set_ylabel('Count')\n",
    "ax.set_title('articles')\n",
    "ax.set_xticks(x)\n",
    "#ax.set_yscale('log')\n",
    "ax.set_xticklabels(dfnames)\n",
    "ax.legend()\n",
    "\n",
    "\n",
    "fig.tight_layout()\n",
    "plt.xticks(rotation=45)\n",
    "plt.show()"
   ]
  },
  {
   "cell_type": "code",
   "execution_count": 88,
   "metadata": {},
   "outputs": [
    {
     "data": {
      "text/plain": [
       "(['2010',\n",
       "  '2011',\n",
       "  '2012',\n",
       "  '2013',\n",
       "  '2014',\n",
       "  '2015',\n",
       "  '2016',\n",
       "  '2017',\n",
       "  '2018',\n",
       "  '2019',\n",
       "  '2020'],\n",
       " [43239, 61348, 78334, 65627, 64106, 57385, 50015, 44293, 43307, 41748, 43549],\n",
       " [36353, 34550, 35828, 37289, 38431, 36691, 34458, 32544, 31361, 30255, 27801],\n",
       " [1794, 1822, 1790, 1792, 1845, 1914, 1889, 5785, 5853, 5819, 6053])"
      ]
     },
     "execution_count": 88,
     "metadata": {},
     "output_type": "execute_result"
    }
   ],
   "source": [
    "dfnames, df_sizes, printed_sizes, keyword_sizes"
   ]
  },
  {
   "cell_type": "code",
   "execution_count": null,
   "metadata": {},
   "outputs": [],
   "source": []
  },
  {
   "cell_type": "code",
   "execution_count": null,
   "metadata": {},
   "outputs": [],
   "source": []
  },
  {
   "cell_type": "code",
   "execution_count": null,
   "metadata": {},
   "outputs": [],
   "source": []
  },
  {
   "cell_type": "code",
   "execution_count": null,
   "metadata": {},
   "outputs": [],
   "source": []
  },
  {
   "cell_type": "code",
   "execution_count": null,
   "metadata": {},
   "outputs": [],
   "source": []
  },
  {
   "cell_type": "code",
   "execution_count": 41,
   "metadata": {},
   "outputs": [],
   "source": [
    "# printed_2020 = printed(df2020)\n",
    "# printed_2019 = printed(df2019)\n",
    "# printed_2018 = printed(df2018)\n",
    "# printed_2017 = printed(df2017)\n",
    "# printed_2016 = printed(df2016)\n",
    "# printed_2015 = printed(df2015)\n",
    "# printed_2014 = printed(df2014)\n",
    "# printed_2013 = printed(df2013)\n",
    "# printed_2012 = printed(df2012)\n",
    "# printed_2011 = printed(df2011)\n",
    "# printed_2010 = printed(df2010)"
   ]
  },
  {
   "cell_type": "code",
   "execution_count": 42,
   "metadata": {},
   "outputs": [],
   "source": [
    "# list_printed_2011_2020 = [printed_2020,\n",
    "#                      printed_2019,\n",
    "#                      printed_2018,\n",
    "#                      printed_2017,\n",
    "#                      printed_2016,\n",
    "#                      printed_2015,\n",
    "#                      printed_2014,\n",
    "#                      printed_2013,\n",
    "#                      printed_2012,\n",
    "#                      printed_2011]\n",
    "# printed_2011_2020 = pd.concat(list_printed_2011_2020)\n",
    "# printed_2011_2020.to_csv(\"data/printed/printed_2011_2020.csv\")"
   ]
  },
  {
   "cell_type": "code",
   "execution_count": 43,
   "metadata": {},
   "outputs": [],
   "source": [
    "# printed_2010 = printed(df2010)\n",
    "# printed_2009 = printed(df2009)\n",
    "# printed_2008 = printed(df2008)\n",
    "# printed_2007 = printed(df2007)\n",
    "# printed_2006 = printed(df2006)\n",
    "# printed_2005 = printed(df2005)\n",
    "# printed_2004 = printed(df2004)\n",
    "# printed_2003 = printed(df2003)\n",
    "# printed_2002 = printed(df2002)\n",
    "# printed_2001 = printed(df2001)"
   ]
  },
  {
   "cell_type": "code",
   "execution_count": 44,
   "metadata": {},
   "outputs": [],
   "source": [
    "# list_printed_2001_2010 = [printed_2010,\n",
    "#                      printed_2009,\n",
    "#                      printed_2008,\n",
    "#                      printed_2007,\n",
    "#                      printed_2006,\n",
    "#                      printed_2005,\n",
    "#                      printed_2004,\n",
    "#                      printed_2003,\n",
    "#                      printed_2002,\n",
    "#                      printed_2001]\n",
    "# printed_2001_2010 = pd.concat(list_printed_2001_2010)\n",
    "# printed_2001_2010.to_csv(\"data/printed/printed_2001_2010.csv\")"
   ]
  },
  {
   "cell_type": "code",
   "execution_count": 45,
   "metadata": {},
   "outputs": [],
   "source": [
    "# printed_2000 = printed(df2000)\n",
    "# printed_1999 = printed(df1999)\n",
    "# printed_1998 = printed(df1998)\n",
    "# printed_1997 = printed(df1997)\n",
    "# printed_1996 = printed(df1996)\n",
    "# printed_1995 = printed(df1995)\n",
    "# printed_1994 = printed(df1994)\n",
    "# printed_1993 = printed(df1993)\n",
    "# printed_1992 = printed(df1992)\n",
    "# printed_1991 = printed(df1991)"
   ]
  },
  {
   "cell_type": "code",
   "execution_count": 46,
   "metadata": {},
   "outputs": [],
   "source": [
    "# list_printed_1991_2000 = [printed_2000,\n",
    "#                           printed_1999,\n",
    "#                           printed_1998,\n",
    "#                           printed_1997,\n",
    "#                           printed_1996,\n",
    "#                           printed_1995,\n",
    "#                           printed_1994,\n",
    "#                           printed_1993,\n",
    "#                           printed_1992,\n",
    "#                           printed_1991]\n",
    "# printed_1991_2000 = pd.concat(list_printed_1991_2000)\n",
    "# printed_1991_2000.to_csv(\"data/printed/printed_1991_2000.csv\")"
   ]
  },
  {
   "cell_type": "markdown",
   "metadata": {},
   "source": [
    "# broke here!!!"
   ]
  },
  {
   "cell_type": "code",
   "execution_count": 47,
   "metadata": {},
   "outputs": [],
   "source": [
    "# printed_1990 = printed(df1990)\n",
    "# printed_1989 = printed(df1989)\n",
    "# printed_1988 = printed(df1988)\n",
    "# printed_1987 = printed(df1987)\n",
    "# printed_1986 = printed(df1986)\n",
    "# printed_1985 = printed(df1985)\n",
    "# printed_1984 = printed(df1984)\n",
    "# printed_1983 = printed(df1983)\n",
    "# printed_1982 = printed(df1982)\n",
    "# printed_1981 = printed(df1981)"
   ]
  },
  {
   "cell_type": "code",
   "execution_count": 48,
   "metadata": {},
   "outputs": [],
   "source": [
    "# list_printed_1981_1990 = [printed_1990,\n",
    "#                           printed_1989,\n",
    "#                           printed_1988,\n",
    "#                           printed_1987,\n",
    "#                           printed_1986,\n",
    "#                           printed_1985,\n",
    "#                           printed_1984,\n",
    "#                           printed_1983,\n",
    "#                           printed_1982,\n",
    "#                           printed_1981]\n",
    "# printed_1981_1990 = pd.concat(list_printed_1981_1990)\n",
    "# printed_1981_1990.to_csv(\"data/printed/printed_1981_1990.csv\")"
   ]
  },
  {
   "cell_type": "code",
   "execution_count": 49,
   "metadata": {},
   "outputs": [],
   "source": [
    "# print(printed_2020.shape)\n",
    "# print(printed_2019.shape)\n",
    "# print(printed_2018.shape)\n",
    "# print(printed_2017.shape)\n",
    "# print(printed_2016.shape)\n",
    "# print(printed_2015.shape)\n",
    "# print(printed_2014.shape)\n",
    "# print(printed_2013.shape)\n",
    "# print(printed_2012.shape)\n",
    "# print(printed_2011.shape)\n",
    "# print(printed_2010.shape)\n",
    "# print(printed_2009.shape)\n",
    "# print(printed_2008.shape)\n",
    "# print(printed_2007.shape)\n",
    "# print(printed_2006.shape)\n",
    "# print(printed_2005.shape)\n",
    "# print(printed_2004.shape)\n",
    "# print(printed_2003.shape)\n",
    "# print(printed_2002.shape)\n",
    "# print(printed_2001.shape)\n",
    "# print(printed_2000.shape)\n",
    "# print(printed_1999.shape)\n",
    "# print(printed_1998.shape)\n",
    "# print(printed_1997.shape)\n",
    "# print(printed_1996.shape)\n",
    "# print(printed_1995.shape)\n",
    "# print(printed_1994.shape)\n",
    "# print(printed_1993.shape)\n",
    "# print(printed_1992.shape)\n",
    "# print(printed_1991.shape)\n",
    "# print(printed_1990.shape)\n",
    "# print(printed_1989.shape)\n",
    "# print(printed_1988.shape)\n",
    "# print(printed_1987.shape)\n",
    "# print(printed_1986.shape)\n",
    "# print(printed_1985.shape)\n",
    "# print(printed_1984.shape)\n",
    "# print(printed_1983.shape)\n",
    "# print(printed_1982.shape)\n",
    "# print(printed_1981.shape)"
   ]
  },
  {
   "cell_type": "markdown",
   "metadata": {},
   "source": [
    "# filter keywords"
   ]
  },
  {
   "cell_type": "code",
   "execution_count": 50,
   "metadata": {},
   "outputs": [],
   "source": [
    "# %%time\n",
    "# keyword_df2020 = filter_keyword(printed_2020)\n",
    "# keyword_df2019 = filter_keyword(printed_2019)\n",
    "# keyword_df2018 = filter_keyword(printed_2018)\n",
    "# keyword_df2017 = filter_keyword(printed_2017)\n",
    "# keyword_df2016 = filter_keyword(printed_2016)\n",
    "# keyword_df2015 = filter_keyword(printed_2015)\n",
    "# keyword_df2014 = filter_keyword(printed_2014)\n",
    "# keyword_df2013 = filter_keyword(printed_2013)\n",
    "# keyword_df2012 = filter_keyword(printed_2012)\n",
    "# keyword_df2011 = filter_keyword(printed_2011)"
   ]
  },
  {
   "cell_type": "code",
   "execution_count": 51,
   "metadata": {},
   "outputs": [],
   "source": [
    "# %%time\n",
    "# keyword_df2010 = filter_keyword(printed_2010)\n",
    "# keyword_df2009 = filter_keyword(printed_2009)\n",
    "# keyword_df2008 = filter_keyword(printed_2008)\n",
    "# keyword_df2007 = filter_keyword(printed_2007)\n",
    "# keyword_df2006 = filter_keyword(printed_2006)\n",
    "# keyword_df2005 = filter_keyword(printed_2005)\n",
    "# keyword_df2004 = filter_keyword(printed_2004)\n",
    "# keyword_df2003 = filter_keyword(printed_2003)\n",
    "# keyword_df2002 = filter_keyword(printed_2002)\n",
    "# keyword_df2001 = filter_keyword(printed_2001)"
   ]
  },
  {
   "cell_type": "code",
   "execution_count": 52,
   "metadata": {},
   "outputs": [],
   "source": [
    "# %%time\n",
    "# keyword_df2000 = filter_keyword(printed_2000)\n",
    "# keyword_df1999 = filter_keyword(printed_1999)\n",
    "# keyword_df1998 = filter_keyword(printed_1998)\n",
    "# keyword_df1997 = filter_keyword(printed_1997)\n",
    "# keyword_df1996 = filter_keyword(printed_1996)\n",
    "# keyword_df1995 = filter_keyword(printed_1995)\n",
    "# keyword_df1994 = filter_keyword(printed_1994)\n",
    "# keyword_df1993 = filter_keyword(printed_1993)\n",
    "# keyword_df1992 = filter_keyword(printed_1992)\n",
    "# keyword_df1991 = filter_keyword(printed_1991)"
   ]
  },
  {
   "cell_type": "code",
   "execution_count": 53,
   "metadata": {},
   "outputs": [],
   "source": [
    "# # %%time\n",
    "# keyword_df1990 = filter_keyword(printed_1990)\n",
    "# keyword_df1989 = filter_keyword(printed_1989)\n",
    "# keyword_df1988 = filter_keyword(printed_1988)\n",
    "# keyword_df1987 = filter_keyword(printed_1987)\n",
    "# keyword_df1986 = filter_keyword(printed_1986)\n",
    "# keyword_df1985 = filter_keyword(printed_1985)\n",
    "# keyword_df1984 = filter_keyword(printed_1984)\n",
    "# keyword_df1983 = filter_keyword(printed_1983)\n",
    "# keyword_df1982 = filter_keyword(printed_1982)\n",
    "# keyword_df1981 = filter_keyword(printed_1981)"
   ]
  },
  {
   "cell_type": "code",
   "execution_count": 54,
   "metadata": {},
   "outputs": [],
   "source": [
    "# print(keyword_df2020.shape)\n",
    "# print(keyword_df2019.shape)\n",
    "# print(keyword_df2018.shape)\n",
    "# print(keyword_df2017.shape)\n",
    "# print(keyword_df2016.shape)\n",
    "# print(keyword_df2015.shape)\n",
    "# print(keyword_df2014.shape)\n",
    "# print(keyword_df2013.shape)\n",
    "# print(keyword_df2012.shape)\n",
    "# print(keyword_df2011.shape)\n",
    "# print(keyword_df2010.shape)\n",
    "# print(keyword_df2009.shape)\n",
    "# print(keyword_df2008.shape)\n",
    "# print(keyword_df2007.shape)\n",
    "# print(keyword_df2006.shape)\n",
    "# print(keyword_df2005.shape)\n",
    "# print(keyword_df2004.shape)\n",
    "# print(keyword_df2003.shape)\n",
    "# print(keyword_df2002.shape)\n",
    "# print(keyword_df2001.shape)\n",
    "# print(keyword_df2000.shape)\n",
    "# print(keyword_df1999.shape)\n",
    "# print(keyword_df1998.shape)\n",
    "# print(keyword_df1997.shape)\n",
    "# print(keyword_df1996.shape)\n",
    "# print(keyword_df1995.shape)\n",
    "# print(keyword_df1994.shape)\n",
    "# print(keyword_df1993.shape)\n",
    "# print(keyword_df1992.shape)\n",
    "# print(keyword_df1991.shape)\n",
    "# print(keyword_df1990.shape)\n",
    "# print(keyword_df1989.shape)\n",
    "# print(keyword_df1988.shape)\n",
    "# print(keyword_df1987.shape)\n",
    "# print(keyword_df1986.shape)\n",
    "# print(keyword_df1985.shape)\n",
    "# print(keyword_df1984.shape)\n",
    "# print(keyword_df1983.shape)\n",
    "# print(keyword_df1982.shape)\n",
    "# print(keyword_df1981.shape)"
   ]
  },
  {
   "cell_type": "code",
   "execution_count": 55,
   "metadata": {},
   "outputs": [],
   "source": [
    "# #concat df together\n",
    "# df = pd.concat([keyword_df2020,\n",
    "#                 keyword_df2019,\n",
    "#                 keyword_df2018,\n",
    "#                 keyword_df2017,\n",
    "#                 keyword_df2016,\n",
    "#                 keyword_df2015,\n",
    "#                 keyword_df2014,\n",
    "#                 keyword_df2013,\n",
    "#                 keyword_df2012,\n",
    "#                 keyword_df2011,\n",
    "#                 keyword_df2010]#,\n",
    "#                 keyword_df2009,\n",
    "#                 keyword_df2008,\n",
    "#                 keyword_df2007,\n",
    "#                 keyword_df2006,\n",
    "#                 keyword_df2005,\n",
    "#                 keyword_df2004,\n",
    "#                 keyword_df2003,\n",
    "#                 keyword_df2002,\n",
    "#                 keyword_df2001,\n",
    "#                 keyword_df2000,\n",
    "#                 keyword_df1999,\n",
    "#                 keyword_df1998,\n",
    "#                 keyword_df1997,\n",
    "#                 keyword_df1996,\n",
    "#                 keyword_df1995,\n",
    "#                 keyword_df1994,\n",
    "#                 keyword_df1993,\n",
    "#                 keyword_df1992,\n",
    "#                 keyword_df1991,\n",
    "#                 keyword_df1990,\n",
    "#                 keyword_df1989,\n",
    "#                 keyword_df1988,\n",
    "#                 keyword_df1987,\n",
    "#                 keyword_df1986,\n",
    "#                 keyword_df1985,\n",
    "#                 keyword_df1984,\n",
    "#                 keyword_df1983,\n",
    "#                 keyword_df1982,\n",
    "#                 keyword_df1981,\n",
    "#                 keyword_df1980])"
   ]
  },
  {
   "cell_type": "code",
   "execution_count": null,
   "metadata": {},
   "outputs": [],
   "source": []
  },
  {
   "cell_type": "code",
   "execution_count": null,
   "metadata": {},
   "outputs": [],
   "source": []
  },
  {
   "cell_type": "code",
   "execution_count": null,
   "metadata": {},
   "outputs": [],
   "source": []
  },
  {
   "cell_type": "code",
   "execution_count": null,
   "metadata": {},
   "outputs": [],
   "source": []
  },
  {
   "cell_type": "code",
   "execution_count": null,
   "metadata": {},
   "outputs": [],
   "source": []
  },
  {
   "cell_type": "code",
   "execution_count": null,
   "metadata": {},
   "outputs": [],
   "source": []
  }
 ],
 "metadata": {
  "kernelspec": {
   "display_name": "Python 3",
   "language": "python",
   "name": "python3"
  },
  "language_info": {
   "codemirror_mode": {
    "name": "ipython",
    "version": 3
   },
   "file_extension": ".py",
   "mimetype": "text/x-python",
   "name": "python",
   "nbconvert_exporter": "python",
   "pygments_lexer": "ipython3",
   "version": "3.7.9"
  }
 },
 "nbformat": 4,
 "nbformat_minor": 4
}
