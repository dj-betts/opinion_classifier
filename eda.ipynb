{
 "cells": [
  {
   "cell_type": "code",
   "execution_count": 3,
   "metadata": {},
   "outputs": [],
   "source": [
    "import json"
   ]
  },
  {
   "cell_type": "code",
   "execution_count": 4,
   "metadata": {},
   "outputs": [],
   "source": [
    "import pandas as pd\n",
    "import numpy as np"
   ]
  },
  {
   "cell_type": "code",
   "execution_count": 5,
   "metadata": {},
   "outputs": [],
   "source": [
    "import matplotlib.pyplot as plt\n",
    "plt.style.use('fivethirtyeight')"
   ]
  },
  {
   "cell_type": "code",
   "execution_count": 6,
   "metadata": {},
   "outputs": [],
   "source": [
    "from sklearn.feature_extraction.text import CountVectorizer"
   ]
  },
  {
   "cell_type": "code",
   "execution_count": 7,
   "metadata": {},
   "outputs": [],
   "source": [
    "#returns shape of news and oped\n",
    "def oped_v_news(df):\n",
    "    df.type_of_material.hist()\n",
    "    news = sum(df.type_of_material == \"News\")\n",
    "    oped = sum(df.type_of_material == \"Op-Ed\")\n",
    "    print(f'News: {news} Oped: {oped}, Total: {oped+news}, Op-Ed {round(oped/(oped+news), 2)} of total')\n",
    "    #plt.savefig('../img/oped_news_hist.png')"
   ]
  },
  {
   "cell_type": "markdown",
   "metadata": {},
   "source": [
    "# filter only printed articles"
   ]
  },
  {
   "cell_type": "code",
   "execution_count": 8,
   "metadata": {},
   "outputs": [],
   "source": [
    "import os\n",
    "import glob\n",
    "import pandas as pd\n",
    "\n",
    "#extension = 'csv'\n",
    "#all_filenames = [i for i in glob.glob('*.{}'.format(extension))]\n",
    "df2020 = '/Users/djbetts/Desktop/opinion_classifier/data/archive/raw_2020.csv'\n",
    "df2019 = '/Users/djbetts/Desktop/opinion_classifier/data/archive/raw_2019.csv'\n",
    "\n",
    "#combine print, type, text columns in the list\n",
    "def printed(file):\n",
    "    print_cols = ['_id','print_page','pub_date','keywords','type_of_material','text']    \n",
    "    df = pd.read_csv(file, usecols=print_cols, index_col='_id', low_memory=False)\n",
    "    df = df[df.print_page.isna() == False]\n",
    "    return df"
   ]
  },
  {
   "cell_type": "markdown",
   "metadata": {},
   "source": [
    "# concat articles"
   ]
  },
  {
   "cell_type": "code",
   "execution_count": 9,
   "metadata": {},
   "outputs": [],
   "source": [
    "import os\n",
    "import glob\n",
    "import pandas as pd\n",
    "\n",
    "#extension = 'csv'\n",
    "#all_filenames = [i for i in glob.glob('*.{}'.format(extension))]\n",
    "df2020 = '/Users/djbetts/Desktop/opinion_classifier/data/archive/raw_2020.csv'\n",
    "df2019 = '/Users/djbetts/Desktop/opinion_classifier/data/archive/raw_2019.csv'\n",
    "df2018 = '/Users/djbetts/Desktop/opinion_classifier/data/archive/raw_2018.csv'\n",
    "df2017 = '/Users/djbetts/Desktop/opinion_classifier/data/archive/raw_2017.csv'\n",
    "df2016 = '/Users/djbetts/Desktop/opinion_classifier/data/archive/raw_2016.csv'\n",
    "df2015 = '/Users/djbetts/Desktop/opinion_classifier/data/archive/raw_2015.csv'\n",
    "df2014 = '/Users/djbetts/Desktop/opinion_classifier/data/archive/raw_2014.csv'\n",
    "df2013 = '/Users/djbetts/Desktop/opinion_classifier/data/archive/raw_2013.csv'\n",
    "df2012 = '/Users/djbetts/Desktop/opinion_classifier/data/archive/raw_2012.csv'\n",
    "df2011 = '/Users/djbetts/Desktop/opinion_classifier/data/archive/raw_2011.csv'\n",
    "df2010 = '/Users/djbetts/Desktop/opinion_classifier/data/archive/raw_2010.csv'\n",
    "df2009 = '/Users/djbetts/Desktop/opinion_classifier/data/archive/raw_2009.csv'\n",
    "df2008 = '/Users/djbetts/Desktop/opinion_classifier/data/archive/raw_2008.csv'\n",
    "df2007 = '/Users/djbetts/Desktop/opinion_classifier/data/archive/raw_2007.csv'\n",
    "df2006 = '/Users/djbetts/Desktop/opinion_classifier/data/archive/raw_2006.csv'\n",
    "df2005 = '/Users/djbetts/Desktop/opinion_classifier/data/archive/raw_2005.csv'\n",
    "df2004 = '/Users/djbetts/Desktop/opinion_classifier/data/archive/raw_2004.csv'\n",
    "df2003 = '/Users/djbetts/Desktop/opinion_classifier/data/archive/raw_2003.csv'\n",
    "df2002 = '/Users/djbetts/Desktop/opinion_classifier/data/archive/raw_2002.csv'\n",
    "df2001 = '/Users/djbetts/Desktop/opinion_classifier/data/archive/raw_2001.csv'\n",
    "df2000 = '/Users/djbetts/Desktop/opinion_classifier/data/archive/raw_2000.csv'\n",
    "df1999 = '/Users/djbetts/Desktop/opinion_classifier/data/archive/raw_1999.csv'\n",
    "df1998 = '/Users/djbetts/Desktop/opinion_classifier/data/archive/raw_1998.csv'\n",
    "df1997 = '/Users/djbetts/Desktop/opinion_classifier/data/archive/raw_1997.csv'\n",
    "df1996 = '/Users/djbetts/Desktop/opinion_classifier/data/archive/raw_1996.csv'\n",
    "df1995 = '/Users/djbetts/Desktop/opinion_classifier/data/archive/raw_1995.csv'\n",
    "df1994 = '/Users/djbetts/Desktop/opinion_classifier/data/archive/raw_1994.csv'\n",
    "df1993 = '/Users/djbetts/Desktop/opinion_classifier/data/archive/raw_1993.csv'\n",
    "df1992 = '/Users/djbetts/Desktop/opinion_classifier/data/archive/raw_1992.csv'\n",
    "df1991 = '/Users/djbetts/Desktop/opinion_classifier/data/archive/raw_1991.csv'\n",
    "df1990 = '/Users/djbetts/Desktop/opinion_classifier/data/archive/raw_1990.csv'\n",
    "df1989 = '/Users/djbetts/Desktop/opinion_classifier/data/archive/raw_1989.csv'\n",
    "df1988 = '/Users/djbetts/Desktop/opinion_classifier/data/archive/raw_1988.csv'\n",
    "df1987 = '/Users/djbetts/Desktop/opinion_classifier/data/archive/raw_1987.csv'\n",
    "df1986 = '/Users/djbetts/Desktop/opinion_classifier/data/archive/raw_1986.csv'\n",
    "df1985 = '/Users/djbetts/Desktop/opinion_classifier/data/archive/raw_1985.csv'\n",
    "df1984 = '/Users/djbetts/Desktop/opinion_classifier/data/archive/raw_1984.csv'\n",
    "df1983 = '/Users/djbetts/Desktop/opinion_classifier/data/archive/raw_1983.csv'\n",
    "df1982 = '/Users/djbetts/Desktop/opinion_classifier/data/archive/raw_1982.csv'\n",
    "df1981 = '/Users/djbetts/Desktop/opinion_classifier/data/archive/raw_1981.csv'"
   ]
  },
  {
   "cell_type": "code",
   "execution_count": 10,
   "metadata": {},
   "outputs": [],
   "source": [
    "#combine print, type, text columns in the list\n",
    "def printed(file):\n",
    "    print_cols = ['_id','print_page','pub_date','keywords','type_of_material','text']    \n",
    "    df = pd.read_csv(file, usecols=print_cols, index_col='_id', low_memory=False)\n",
    "    df = df[df.print_page.isna() == False]\n",
    "    df = df[~df.text.isna() == True]\n",
    "    return df"
   ]
  },
  {
   "cell_type": "code",
   "execution_count": 19,
   "metadata": {},
   "outputs": [],
   "source": [
    "#returns articles w/ 'United States Politics and Government' as a keyword\n",
    "def return_pol_gov(row):\n",
    "    list_dict = eval(row.keywords)\n",
    "    for (dic) in (list_dict):\n",
    "        if dic.get('value') == 'United States Politics and Government':\n",
    "            return True\n",
    "\n",
    "def keyword_filter(df, keyword='United States Politics and Government'):\n",
    "    df[keyword] = df.apply(return_pol_gov, axis=1)\n",
    "    df = df[df[keyword] == True]\n",
    "    return df"
   ]
  },
  {
   "cell_type": "code",
   "execution_count": 13,
   "metadata": {},
   "outputs": [],
   "source": [
    "#returns shape of news and oped\n",
    "def oped_v_news(df):\n",
    "    df.type_of_material.hist()\n",
    "    news = sum(df.type_of_material == \"News\")\n",
    "    oped = sum(df.type_of_material == \"Op-Ed\")\n",
    "    print(f'News: {news} Oped: {oped}, Total: {oped+news}, Op-Ed {round(oped/(oped+news), 2)} of total')\n",
    "    plt.savefig('../img/oped_news_hist.png')"
   ]
  },
  {
   "cell_type": "markdown",
   "metadata": {},
   "source": [
    "# data"
   ]
  },
  {
   "cell_type": "code",
   "execution_count": 14,
   "metadata": {},
   "outputs": [],
   "source": [
    "%%time\n",
    "printed_2011_2020 = pd.read_csv('data/printed/printed_2011_2020.csv', index_col = \"_id\")"
   ]
  },
  {
   "cell_type": "code",
   "execution_count": 20,
   "metadata": {},
   "outputs": [],
   "source": [
    "%%time\n",
    "filter_2011_2020 = keyword_filter(printed_2011_2020)"
   ]
  },
  {
   "cell_type": "code",
   "execution_count": 21,
   "metadata": {},
   "outputs": [
    {
     "data": {
      "text/plain": [
       "Index(['keywords', 'pub_date', 'type_of_material', 'print_page', 'text',\n",
       "       'United States Politics and Government'],\n",
       "      dtype='object')"
      ]
     },
     "execution_count": 21,
     "metadata": {},
     "output_type": "execute_result"
    }
   ],
   "source": [
    "%%time\n",
    "filter_2011_2020.columns"
   ]
  },
  {
   "cell_type": "code",
   "execution_count": 46,
   "metadata": {},
   "outputs": [
    {
     "name": "stdout",
     "output_type": "stream",
     "text": [
      "CPU times: user 6.15 ms, sys: 209 µs, total: 6.36 ms\n",
      "Wall time: 6.46 ms\n"
     ]
    }
   ],
   "source": [
    "%%time\n",
    "keyword_articles = list(filter_2011_2020.text)"
   ]
  },
  {
   "cell_type": "code",
   "execution_count": 98,
   "metadata": {},
   "outputs": [],
   "source": [
    "sample = keyword_articles[2]"
   ]
  },
  {
   "cell_type": "code",
   "execution_count": 99,
   "metadata": {},
   "outputs": [
    {
     "data": {
      "text/plain": [
       "5647"
      ]
     },
     "execution_count": 99,
     "metadata": {},
     "output_type": "execute_result"
    }
   ],
   "source": [
    "len(sample)"
   ]
  },
  {
   "cell_type": "code",
   "execution_count": 103,
   "metadata": {},
   "outputs": [
    {
     "data": {
      "text/plain": [
       "'The Supreme Court on Monday unanimously upheld a key aspect of the federal response to the worst debt crisis in Puerto Rican history, one that threatened basic services like schools and hospitals, some $50 billion in public pension obligations and more than $70 billion in debts to bondholders. The crisis worsened after Hurricane Maria destroyed much of the island’s infrastructure in 2017, with the commonwealth estimating that recovery costs would exceed $139 billion.The court ruled that members of a government board created by Congress in 2016 to clean up the financial mess had been properly appointed. Had the court come to the opposite conclusion, its ruling could have undone years of work on restructuring the commonwealth’s debts.The 2016 law at issue in the case — the Puerto Rico Oversight, Management and Economic Stability Act, or PROMESA — created an independent entity to restructure the commonwealth’s debt, the Financial Oversight and Management Board. Since then, the board has tried to resolve about 165,000 claims from creditors, not always to their satisfaction.A hedge fund that had bought distressed bonds and a labor union representing employees of an electric utility objected to the board’s actions, arguing that its members had been appointed without following the procedures set out in the Constitution, which requires Senate confirmation of “officers of the United States.”The 2016 law took a different approach, using what Justice Sonia Sotomayor called in a concurring opinion “a labyrinthine procedure.” The law let the president appoint one of the board’s seven voting members as he saw fit and choose six more from lists compiled by congressional leaders. If the president followed those procedures, as President Barack Obama did, no Senate confirmation was said to be required.The United States Court of Appeals for the First Circuit, in Boston, ruled that the appointment procedure ran afoul of the Constitution’s appointments clause because the board members were federal officers.Lawyers for the board argued that its members were mere territorial officers. A different constitutional provision gives Congress power over territories like Puerto Rico.Justice Stephen G. Breyer, writing for seven members of the court, accepted that the appointments clause applied in both states and territories. But he said that the requirement of Senate confirmation did not apply to officials who performed primarily local duties.The board, he wrote, “is part of the local Puerto Rico government.”“The government of Puerto Rico pays the board’s expenses, including the salaries of its employees,” Justice Breyer wrote, noting that the board members served without pay.“The board possesses investigatory powers,” he wrote. “It can hold hearings. It can issue subpoenas, subject to Puerto Rico’s limits on personal jurisdiction and enforceable under Puerto Rico’s laws. And it can enforce those subpoenas in (and only in) Puerto Rico’s courts.”“These powers are backed by Puerto Rican, not federal, law,” Justice Breyer wrote.Lawyers for the hedge fund argued that the board’s actions had vast effects on people and firms outside Puerto Rico. That was not enough, Justice Breyer wrote, to destroy the board’s essentially local character.“Some board actions, of course, may have nationwide consequences,” he wrote. “But the same can be said of many actions taken by many governors or other local officials. Taking actions with nationwide consequences does not automatically transform a local official into an ‘officer of the United States.’”In a concurring opinion, Justice Clarence Thomas said the majority had reached the right result for the wrong reasons. Territorial officers, he wrote, are not federal officers, whatever their duties.Justice Thomas criticized what he called the majority’s “amorphous test” in the five consolidated cases it decided on Monday, including Financial Oversight and Management Board v. Aurelius Investment, No. 18-1334.“The court fails to provide any explanation for what makes an officer’s duties ‘primarily local,’” he wrote. “Is it the relative importance of the duties? Or is it the number of duties exercised pursuant to each power? And what ratio is required for duties to be primarily local? The court’s opinion has no answers and does not even acknowledge the questions.”Justice Sotomayor issued a 24-page concurrence that had many of the characteristics of a dissent. She said the majority had not taken adequate account of Puerto Rico’s sovereignty, reflected in a Constitution ratified by the United States and Puerto Rico in 1952.“The compact altered the relationship between the federal government and Puerto Rico,” Justice Sotomayor wrote. “At a minimum, the post-compact developments, including this court’s precedents, indicate that Congress placed in the hands of the Puerto Rican people the authority to establish their own government, replete with officers of their own choosing, and that this grant of self-government was not an empty promise.”“I am skeptical that the Constitution countenances this freewheeling exercise of control over a population that the federal government has explicitly agreed to recognize as operating under a government of their own choosing, pursuant to a constitution of their own choosing,” she wrote. “Surely our Founders, having labored to attain such recognition of self-determination, would not view that same recognition with respect to Puerto Rico as a mere act of grace.”Still, Justice Sotomayor wrote, because the parties in the cases had not adequately addressed the issues that troubled her, “I reluctantly concur in the judgment.”'"
      ]
     },
     "execution_count": 103,
     "metadata": {},
     "output_type": "execute_result"
    }
   ],
   "source": [
    "sample"
   ]
  },
  {
   "cell_type": "code",
   "execution_count": 120,
   "metadata": {},
   "outputs": [],
   "source": [
    "#split article and return quote\n",
    "def return_article(document):\n",
    "    article = []\n",
    "    quote_list = []\n",
    "    \n",
    "    open_quote = \"“\"\n",
    "    close_quote = \"”\"\n",
    "    \n",
    "    close_split = document.split(close_quote)\n",
    "    \n",
    "    for string in close_split:\n",
    "\n",
    "        quote = string.split(open_quote)\n",
    "        article.append(quote.pop(0))\n",
    "        quote_list += quote\n",
    "    \n",
    "    article = \" \".join(article)\n",
    "    quotation = \" \".join(quote_list)\n",
    "        \n",
    "    return(article)"
   ]
  },
  {
   "cell_type": "code",
   "execution_count": null,
   "metadata": {},
   "outputs": [],
   "source": [
    "df['article'] = df.text.apply(return_quote)"
   ]
  },
  {
   "cell_type": "code",
   "execution_count": 118,
   "metadata": {},
   "outputs": [
    {
     "name": "stdout",
     "output_type": "stream",
     "text": [
      "['The Supreme Court on Monday unanimously upheld a key aspect of the federal response to the worst debt crisis in Puerto Rican history, one that threatened basic services like schools and hospitals, some $50 billion in public pension obligations and more than $70 billion in debts to bondholders. The crisis worsened after Hurricane Maria destroyed much of the island’s infrastructure in 2017, with the commonwealth estimating that recovery costs would exceed $139 billion.The court ruled that members of a government board created by Congress in 2016 to clean up the financial mess had been properly appointed. Had the court come to the opposite conclusion, its ruling could have undone years of work on restructuring the commonwealth’s debts.The 2016 law at issue in the case — the Puerto Rico Oversight, Management and Economic Stability Act, or PROMESA — created an independent entity to restructure the commonwealth’s debt, the Financial Oversight and Management Board. Since then, the board has tried to resolve about 165,000 claims from creditors, not always to their satisfaction.A hedge fund that had bought distressed bonds and a labor union representing employees of an electric utility objected to the board’s actions, arguing that its members had been appointed without following the procedures set out in the Constitution, which requires Senate confirmation of ', 'The 2016 law took a different approach, using what Justice Sonia Sotomayor called in a concurring opinion ', ' The law let the president appoint one of the board’s seven voting members as he saw fit and choose six more from lists compiled by congressional leaders. If the president followed those procedures, as President Barack Obama did, no Senate confirmation was said to be required.The United States Court of Appeals for the First Circuit, in Boston, ruled that the appointment procedure ran afoul of the Constitution’s appointments clause because the board members were federal officers.Lawyers for the board argued that its members were mere territorial officers. A different constitutional provision gives Congress power over territories like Puerto Rico.Justice Stephen G. Breyer, writing for seven members of the court, accepted that the appointments clause applied in both states and territories. But he said that the requirement of Senate confirmation did not apply to officials who performed primarily local duties.The board, he wrote, ', '', ' Justice Breyer wrote, noting that the board members served without pay.', ' he wrote. ', '', ' Justice Breyer wrote.Lawyers for the hedge fund argued that the board’s actions had vast effects on people and firms outside Puerto Rico. That was not enough, Justice Breyer wrote, to destroy the board’s essentially local character.', ' he wrote. ', 'In a concurring opinion, Justice Clarence Thomas said the majority had reached the right result for the wrong reasons. Territorial officers, he wrote, are not federal officers, whatever their duties.Justice Thomas criticized what he called the majority’s ', ' in the five consolidated cases it decided on Monday, including Financial Oversight and Management Board v. Aurelius Investment, No. 18-1334.', ' he wrote. ', 'Justice Sotomayor issued a 24-page concurrence that had many of the characteristics of a dissent. She said the majority had not taken adequate account of Puerto Rico’s sovereignty, reflected in a Constitution ratified by the United States and Puerto Rico in 1952.', ' Justice Sotomayor wrote. ', '', ' she wrote. ', 'Still, Justice Sotomayor wrote, because the parties in the cases had not adequately addressed the issues that troubled her, ', '']\n",
      "----\n",
      "[]\n"
     ]
    }
   ],
   "source": [
    "quote_removal(sample)"
   ]
  },
  {
   "cell_type": "code",
   "execution_count": null,
   "metadata": {},
   "outputs": [],
   "source": []
  },
  {
   "cell_type": "code",
   "execution_count": null,
   "metadata": {},
   "outputs": [],
   "source": []
  },
  {
   "cell_type": "code",
   "execution_count": null,
   "metadata": {},
   "outputs": [],
   "source": []
  },
  {
   "cell_type": "code",
   "execution_count": null,
   "metadata": {},
   "outputs": [],
   "source": []
  },
  {
   "cell_type": "code",
   "execution_count": null,
   "metadata": {},
   "outputs": [],
   "source": []
  },
  {
   "cell_type": "code",
   "execution_count": null,
   "metadata": {},
   "outputs": [],
   "source": []
  },
  {
   "cell_type": "code",
   "execution_count": null,
   "metadata": {},
   "outputs": [],
   "source": []
  },
  {
   "cell_type": "code",
   "execution_count": 12,
   "metadata": {},
   "outputs": [],
   "source": [
    "# printed_2020 = printed(df2020)\n",
    "# printed_2019 = printed(df2019)\n",
    "# printed_2018 = printed(df2018)\n",
    "# printed_2017 = printed(df2017)\n",
    "# printed_2016 = printed(df2016)\n",
    "# printed_2015 = printed(df2015)\n",
    "# printed_2014 = printed(df2014)\n",
    "# printed_2013 = printed(df2013)\n",
    "# printed_2012 = printed(df2012)\n",
    "# printed_2011 = printed(df2011)"
   ]
  },
  {
   "cell_type": "code",
   "execution_count": 13,
   "metadata": {},
   "outputs": [],
   "source": [
    "# list_printed_2011_2020 = [printed_2020,\n",
    "#                      printed_2019,\n",
    "#                      printed_2018,\n",
    "#                      printed_2017,\n",
    "#                      printed_2016,\n",
    "#                      printed_2015,\n",
    "#                      printed_2014,\n",
    "#                      printed_2013,\n",
    "#                      printed_2012,\n",
    "#                      printed_2011]\n",
    "# printed_2011_2020 = pd.concat(list_printed_2011_2020)\n",
    "# printed_2011_2020.to_csv(\"data/printed/printed_2011_2020.csv\")"
   ]
  },
  {
   "cell_type": "code",
   "execution_count": 14,
   "metadata": {},
   "outputs": [],
   "source": [
    "# printed_2010 = printed(df2010)\n",
    "# printed_2009 = printed(df2009)\n",
    "# printed_2008 = printed(df2008)\n",
    "# printed_2007 = printed(df2007)\n",
    "# printed_2006 = printed(df2006)\n",
    "# printed_2005 = printed(df2005)\n",
    "# printed_2004 = printed(df2004)\n",
    "# printed_2003 = printed(df2003)\n",
    "# printed_2002 = printed(df2002)\n",
    "# printed_2001 = printed(df2001)"
   ]
  },
  {
   "cell_type": "code",
   "execution_count": 15,
   "metadata": {},
   "outputs": [],
   "source": [
    "# list_printed_2001_2010 = [printed_2010,\n",
    "#                      printed_2009,\n",
    "#                      printed_2008,\n",
    "#                      printed_2007,\n",
    "#                      printed_2006,\n",
    "#                      printed_2005,\n",
    "#                      printed_2004,\n",
    "#                      printed_2003,\n",
    "#                      printed_2002,\n",
    "#                      printed_2001]\n",
    "# printed_2001_2010 = pd.concat(list_printed_2001_2010)\n",
    "# printed_2001_2010.to_csv(\"data/printed/printed_2001_2010.csv\")"
   ]
  },
  {
   "cell_type": "code",
   "execution_count": 16,
   "metadata": {},
   "outputs": [],
   "source": [
    "# printed_2000 = printed(df2000)\n",
    "# printed_1999 = printed(df1999)\n",
    "# printed_1998 = printed(df1998)\n",
    "# printed_1997 = printed(df1997)\n",
    "# printed_1996 = printed(df1996)\n",
    "# printed_1995 = printed(df1995)\n",
    "# printed_1994 = printed(df1994)\n",
    "# printed_1993 = printed(df1993)\n",
    "# printed_1992 = printed(df1992)\n",
    "# printed_1991 = printed(df1991)"
   ]
  },
  {
   "cell_type": "code",
   "execution_count": 17,
   "metadata": {},
   "outputs": [],
   "source": [
    "# list_printed_1991_2000 = [printed_2000,\n",
    "#                           printed_1999,\n",
    "#                           printed_1998,\n",
    "#                           printed_1997,\n",
    "#                           printed_1996,\n",
    "#                           printed_1995,\n",
    "#                           printed_1994,\n",
    "#                           printed_1993,\n",
    "#                           printed_1992,\n",
    "#                           printed_1991]\n",
    "# printed_1991_2000 = pd.concat(list_printed_1991_2000)\n",
    "# printed_1991_2000.to_csv(\"data/printed/printed_1991_2000.csv\")"
   ]
  },
  {
   "cell_type": "markdown",
   "metadata": {},
   "source": [
    "# broke here!!!"
   ]
  },
  {
   "cell_type": "code",
   "execution_count": 18,
   "metadata": {},
   "outputs": [],
   "source": [
    "# printed_1990 = printed(df1990)\n",
    "# printed_1989 = printed(df1989)\n",
    "# printed_1988 = printed(df1988)\n",
    "# printed_1987 = printed(df1987)\n",
    "# printed_1986 = printed(df1986)\n",
    "# printed_1985 = printed(df1985)\n",
    "# printed_1984 = printed(df1984)\n",
    "# printed_1983 = printed(df1983)\n",
    "# printed_1982 = printed(df1982)\n",
    "# printed_1981 = printed(df1981)"
   ]
  },
  {
   "cell_type": "code",
   "execution_count": 19,
   "metadata": {},
   "outputs": [],
   "source": [
    "# list_printed_1981_1990 = [printed_1990,\n",
    "#                           printed_1989,\n",
    "#                           printed_1988,\n",
    "#                           printed_1987,\n",
    "#                           printed_1986,\n",
    "#                           printed_1985,\n",
    "#                           printed_1984,\n",
    "#                           printed_1983,\n",
    "#                           printed_1982,\n",
    "#                           printed_1981]\n",
    "# printed_1981_1990 = pd.concat(list_printed_1981_1990)\n",
    "# printed_1981_1990.to_csv(\"data/printed/printed_1981_1990.csv\")"
   ]
  },
  {
   "cell_type": "code",
   "execution_count": 20,
   "metadata": {},
   "outputs": [],
   "source": [
    "# print(printed_2020.shape)\n",
    "# print(printed_2019.shape)\n",
    "# print(printed_2018.shape)\n",
    "# print(printed_2017.shape)\n",
    "# print(printed_2016.shape)\n",
    "# print(printed_2015.shape)\n",
    "# print(printed_2014.shape)\n",
    "# print(printed_2013.shape)\n",
    "# print(printed_2012.shape)\n",
    "# print(printed_2011.shape)\n",
    "# print(printed_2010.shape)\n",
    "# print(printed_2009.shape)\n",
    "# print(printed_2008.shape)\n",
    "# print(printed_2007.shape)\n",
    "# print(printed_2006.shape)\n",
    "# print(printed_2005.shape)\n",
    "# print(printed_2004.shape)\n",
    "# print(printed_2003.shape)\n",
    "# print(printed_2002.shape)\n",
    "# print(printed_2001.shape)\n",
    "# print(printed_2000.shape)\n",
    "# print(printed_1999.shape)\n",
    "# print(printed_1998.shape)\n",
    "# print(printed_1997.shape)\n",
    "# print(printed_1996.shape)\n",
    "# print(printed_1995.shape)\n",
    "# print(printed_1994.shape)\n",
    "# print(printed_1993.shape)\n",
    "# print(printed_1992.shape)\n",
    "# print(printed_1991.shape)\n",
    "# print(printed_1990.shape)\n",
    "# print(printed_1989.shape)\n",
    "# print(printed_1988.shape)\n",
    "# print(printed_1987.shape)\n",
    "# print(printed_1986.shape)\n",
    "# print(printed_1985.shape)\n",
    "# print(printed_1984.shape)\n",
    "# print(printed_1983.shape)\n",
    "# print(printed_1982.shape)\n",
    "# print(printed_1981.shape)"
   ]
  },
  {
   "cell_type": "markdown",
   "metadata": {},
   "source": [
    "# filter keywords"
   ]
  },
  {
   "cell_type": "code",
   "execution_count": 21,
   "metadata": {},
   "outputs": [],
   "source": [
    "# %%time\n",
    "# keyword_df2020 = filter_keyword(printed_2020)\n",
    "# keyword_df2019 = filter_keyword(printed_2019)\n",
    "# keyword_df2018 = filter_keyword(printed_2018)\n",
    "# keyword_df2017 = filter_keyword(printed_2017)\n",
    "# keyword_df2016 = filter_keyword(printed_2016)\n",
    "# keyword_df2015 = filter_keyword(printed_2015)\n",
    "# keyword_df2014 = filter_keyword(printed_2014)\n",
    "# keyword_df2013 = filter_keyword(printed_2013)\n",
    "# keyword_df2012 = filter_keyword(printed_2012)\n",
    "# keyword_df2011 = filter_keyword(printed_2011)"
   ]
  },
  {
   "cell_type": "code",
   "execution_count": 22,
   "metadata": {},
   "outputs": [],
   "source": [
    "# %%time\n",
    "# keyword_df2010 = filter_keyword(printed_2010)\n",
    "# keyword_df2009 = filter_keyword(printed_2009)\n",
    "# keyword_df2008 = filter_keyword(printed_2008)\n",
    "# keyword_df2007 = filter_keyword(printed_2007)\n",
    "# keyword_df2006 = filter_keyword(printed_2006)\n",
    "# keyword_df2005 = filter_keyword(printed_2005)\n",
    "# keyword_df2004 = filter_keyword(printed_2004)\n",
    "# keyword_df2003 = filter_keyword(printed_2003)\n",
    "# keyword_df2002 = filter_keyword(printed_2002)\n",
    "# keyword_df2001 = filter_keyword(printed_2001)"
   ]
  },
  {
   "cell_type": "code",
   "execution_count": 23,
   "metadata": {},
   "outputs": [],
   "source": [
    "# %%time\n",
    "# keyword_df2000 = filter_keyword(printed_2000)\n",
    "# keyword_df1999 = filter_keyword(printed_1999)\n",
    "# keyword_df1998 = filter_keyword(printed_1998)\n",
    "# keyword_df1997 = filter_keyword(printed_1997)\n",
    "# keyword_df1996 = filter_keyword(printed_1996)\n",
    "# keyword_df1995 = filter_keyword(printed_1995)\n",
    "# keyword_df1994 = filter_keyword(printed_1994)\n",
    "# keyword_df1993 = filter_keyword(printed_1993)\n",
    "# keyword_df1992 = filter_keyword(printed_1992)\n",
    "# keyword_df1991 = filter_keyword(printed_1991)"
   ]
  },
  {
   "cell_type": "code",
   "execution_count": 24,
   "metadata": {},
   "outputs": [],
   "source": [
    "# # %%time\n",
    "# keyword_df1990 = filter_keyword(printed_1990)\n",
    "# keyword_df1989 = filter_keyword(printed_1989)\n",
    "# keyword_df1988 = filter_keyword(printed_1988)\n",
    "# keyword_df1987 = filter_keyword(printed_1987)\n",
    "# keyword_df1986 = filter_keyword(printed_1986)\n",
    "# keyword_df1985 = filter_keyword(printed_1985)\n",
    "# keyword_df1984 = filter_keyword(printed_1984)\n",
    "# keyword_df1983 = filter_keyword(printed_1983)\n",
    "# keyword_df1982 = filter_keyword(printed_1982)\n",
    "# keyword_df1981 = filter_keyword(printed_1981)"
   ]
  },
  {
   "cell_type": "code",
   "execution_count": 25,
   "metadata": {},
   "outputs": [],
   "source": [
    "# print(keyword_df2020.shape)\n",
    "# print(keyword_df2019.shape)\n",
    "# print(keyword_df2018.shape)\n",
    "# print(keyword_df2017.shape)\n",
    "# print(keyword_df2016.shape)\n",
    "# print(keyword_df2015.shape)\n",
    "# print(keyword_df2014.shape)\n",
    "# print(keyword_df2013.shape)\n",
    "# print(keyword_df2012.shape)\n",
    "# print(keyword_df2011.shape)\n",
    "# print(keyword_df2010.shape)\n",
    "# print(keyword_df2009.shape)\n",
    "# print(keyword_df2008.shape)\n",
    "# print(keyword_df2007.shape)\n",
    "# print(keyword_df2006.shape)\n",
    "# print(keyword_df2005.shape)\n",
    "# print(keyword_df2004.shape)\n",
    "# print(keyword_df2003.shape)\n",
    "# print(keyword_df2002.shape)\n",
    "# print(keyword_df2001.shape)\n",
    "# print(keyword_df2000.shape)\n",
    "# print(keyword_df1999.shape)\n",
    "# print(keyword_df1998.shape)\n",
    "# print(keyword_df1997.shape)\n",
    "# print(keyword_df1996.shape)\n",
    "# print(keyword_df1995.shape)\n",
    "# print(keyword_df1994.shape)\n",
    "# print(keyword_df1993.shape)\n",
    "# print(keyword_df1992.shape)\n",
    "# print(keyword_df1991.shape)\n",
    "# print(keyword_df1990.shape)\n",
    "# print(keyword_df1989.shape)\n",
    "# print(keyword_df1988.shape)\n",
    "# print(keyword_df1987.shape)\n",
    "# print(keyword_df1986.shape)\n",
    "# print(keyword_df1985.shape)\n",
    "# print(keyword_df1984.shape)\n",
    "# print(keyword_df1983.shape)\n",
    "# print(keyword_df1982.shape)\n",
    "# print(keyword_df1981.shape)"
   ]
  },
  {
   "cell_type": "code",
   "execution_count": 26,
   "metadata": {},
   "outputs": [],
   "source": [
    "# #concat df together\n",
    "# df = pd.concat([keyword_df2020,\n",
    "#                 keyword_df2019,\n",
    "#                 keyword_df2018,\n",
    "#                 keyword_df2017,\n",
    "#                 keyword_df2016,\n",
    "#                 keyword_df2015,\n",
    "#                 keyword_df2014,\n",
    "#                 keyword_df2013,\n",
    "#                 keyword_df2012,\n",
    "#                 keyword_df2011,\n",
    "#                 keyword_df2010]#,\n",
    "#                 keyword_df2009,\n",
    "#                 keyword_df2008,\n",
    "#                 keyword_df2007,\n",
    "#                 keyword_df2006,\n",
    "#                 keyword_df2005,\n",
    "#                 keyword_df2004,\n",
    "#                 keyword_df2003,\n",
    "#                 keyword_df2002,\n",
    "#                 keyword_df2001,\n",
    "#                 keyword_df2000,\n",
    "#                 keyword_df1999,\n",
    "#                 keyword_df1998,\n",
    "#                 keyword_df1997,\n",
    "#                 keyword_df1996,\n",
    "#                 keyword_df1995,\n",
    "#                 keyword_df1994,\n",
    "#                 keyword_df1993,\n",
    "#                 keyword_df1992,\n",
    "#                 keyword_df1991,\n",
    "#                 keyword_df1990,\n",
    "#                 keyword_df1989,\n",
    "#                 keyword_df1988,\n",
    "#                 keyword_df1987,\n",
    "#                 keyword_df1986,\n",
    "#                 keyword_df1985,\n",
    "#                 keyword_df1984,\n",
    "#                 keyword_df1983,\n",
    "#                 keyword_df1982,\n",
    "#                 keyword_df1981,\n",
    "#                 keyword_df1980])"
   ]
  },
  {
   "cell_type": "code",
   "execution_count": null,
   "metadata": {},
   "outputs": [],
   "source": []
  },
  {
   "cell_type": "code",
   "execution_count": null,
   "metadata": {},
   "outputs": [],
   "source": []
  },
  {
   "cell_type": "code",
   "execution_count": null,
   "metadata": {},
   "outputs": [],
   "source": []
  },
  {
   "cell_type": "code",
   "execution_count": null,
   "metadata": {},
   "outputs": [],
   "source": []
  },
  {
   "cell_type": "code",
   "execution_count": null,
   "metadata": {},
   "outputs": [],
   "source": []
  },
  {
   "cell_type": "code",
   "execution_count": null,
   "metadata": {},
   "outputs": [],
   "source": []
  }
 ],
 "metadata": {
  "kernelspec": {
   "display_name": "Python 3",
   "language": "python",
   "name": "python3"
  },
  "language_info": {
   "codemirror_mode": {
    "name": "ipython",
    "version": 3
   },
   "file_extension": ".py",
   "mimetype": "text/x-python",
   "name": "python",
   "nbconvert_exporter": "python",
   "pygments_lexer": "ipython3",
   "version": "3.7.9"
  }
 },
 "nbformat": 4,
 "nbformat_minor": 4
}
