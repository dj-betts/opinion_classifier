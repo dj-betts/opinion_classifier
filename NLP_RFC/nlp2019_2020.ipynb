{
 "cells": [
  {
   "cell_type": "code",
   "execution_count": 1,
   "metadata": {},
   "outputs": [],
   "source": [
    "from functions import vectorize_y_ser"
   ]
  },
  {
   "cell_type": "code",
   "execution_count": 2,
   "metadata": {},
   "outputs": [],
   "source": [
    "import datetime"
   ]
  },
  {
   "cell_type": "code",
   "execution_count": 3,
   "metadata": {},
   "outputs": [],
   "source": [
    "import nltk\n",
    "import string"
   ]
  },
  {
   "cell_type": "code",
   "execution_count": 4,
   "metadata": {},
   "outputs": [],
   "source": [
    "import re"
   ]
  },
  {
   "cell_type": "code",
   "execution_count": 5,
   "metadata": {},
   "outputs": [],
   "source": [
    "import pickle"
   ]
  },
  {
   "cell_type": "code",
   "execution_count": 74,
   "metadata": {},
   "outputs": [],
   "source": [
    "import pandas as pd\n",
    "import numpy as np"
   ]
  },
  {
   "cell_type": "code",
   "execution_count": 75,
   "metadata": {},
   "outputs": [],
   "source": [
    "import matplotlib.pyplot as plt\n",
    "plt.style.use('fivethirtyeight')"
   ]
  },
  {
   "cell_type": "code",
   "execution_count": 76,
   "metadata": {},
   "outputs": [],
   "source": [
    "from sklearn.feature_extraction.text import CountVectorizer, TfidfVectorizer\n",
    "from sklearn.model_selection import train_test_split\n",
    "from sklearn.metrics import confusion_matrix, plot_confusion_matrix\n",
    "from sklearn.naive_bayes import MultinomialNB\n",
    "from sklearn.ensemble import RandomForestClassifier\n",
    "from sklearn.inspection import permutation_importance"
   ]
  },
  {
   "cell_type": "code",
   "execution_count": 77,
   "metadata": {},
   "outputs": [],
   "source": [
    "from collections import Counter"
   ]
  },
  {
   "cell_type": "code",
   "execution_count": 78,
   "metadata": {},
   "outputs": [],
   "source": [
    "from imblearn.under_sampling import RandomUnderSampler"
   ]
  },
  {
   "cell_type": "code",
   "execution_count": 79,
   "metadata": {},
   "outputs": [],
   "source": [
    "from nltk.stem.snowball import SnowballStemmer\n",
    "from nltk.stem.wordnet import WordNetLemmatizer\n",
    "from nltk.tokenize import word_tokenize\n",
    "from nltk.corpus import stopwords"
   ]
  },
  {
   "cell_type": "markdown",
   "metadata": {},
   "source": [
    "# NLP Pipeline \n",
    "\n",
    "![](images/pipeline-walkthrough1.png)\n",
    "\n",
    "Below is a to do list when converting text into vector form: \n",
    "\n",
    "**Clean text and Create a Bag of Words (BoW)**\n",
    ">1. Lowercase the text\n",
    "2. Tokenize \n",
    "3. Strip out punctuation or undesirable text\n",
    "4. Remove Stopwords \n",
    "5. Stemming or Lemmatizing\n",
    "6. Compute N-Grams\n",
    "7. Use this to create BoW\n",
    "\n",
    "**Vectorize BoW**\n",
    ">8. Term Frequencies\n",
    "9. Document Frequencies\n",
    "10. TF-IDF\n",
    "11. Normalize vectors\n",
    "\n",
    "Let's go through both what each of these steps are and how to do them in python with the following corpus of comments about data science...\n",
    " "
   ]
  },
  {
   "cell_type": "code",
   "execution_count": 80,
   "metadata": {},
   "outputs": [],
   "source": [
    "# function to vectorize the type_of_material series into a y target vector.\n",
    "def vectorize_y_ser(ser):\n",
    "    y = ser.copy()\n",
    "    y.replace({'Op-Ed': 1,'News': 0}, inplace=True)\n",
    "    return y"
   ]
  },
  {
   "cell_type": "code",
   "execution_count": 81,
   "metadata": {},
   "outputs": [],
   "source": [
    "#rate of correct predictions out of total predictions\n",
    "def metrics_(tn, fp, fn, tp):\n",
    "    accuracy = (tp + tn) / (tn + fn + tp + fp)\n",
    "    print(f'accuracy = {accuracy}')\n",
    "    recall = (tp) / (tp + fn)\n",
    "    print(f'recall = {recall}')\n",
    "    precision = (tp) / (tp + fp)\n",
    "    print(f'precision = {precision}')\n",
    "    print(f'tn:{tn} fp:{fp} fn:{fn} tp:{tp}')"
   ]
  },
  {
   "cell_type": "code",
   "execution_count": 82,
   "metadata": {},
   "outputs": [],
   "source": [
    "#function that removes string.punctuation w/out the '?'\n",
    "def punc_strip(document):\n",
    "    for char in document:\n",
    "        if char in '!\"#$%&\\'()*+—,-./:;<=>?@[\\\\]^_`{|}~”’“':\n",
    "            document = document.replace(char, \" \") \n",
    "    return document"
   ]
  },
  {
   "cell_type": "code",
   "execution_count": 83,
   "metadata": {},
   "outputs": [],
   "source": [
    "import os\n",
    "import glob\n",
    "import pandas as pd\n",
    "\n",
    "#extension = 'csv'\n",
    "#all_filenames = [i for i in glob.glob('*.{}'.format(extension))]\n",
    "df2020 = '/Users/djbetts/Desktop/opinion_classifier/data/archive/raw_2020.csv'\n",
    "df2019 = '/Users/djbetts/Desktop/opinion_classifier/data/archive/raw_2019.csv'\n",
    "\n",
    "#combine print, type, text columns in the list\n",
    "def printed(file):\n",
    "    print_cols = ['_id','print_page','pub_date','keywords','type_of_material','text']    \n",
    "    df = pd.read_csv(file, usecols=print_cols, index_col='_id', low_memory=False)\n",
    "    df = df[df.print_page.isna() == False]\n",
    "    df = df[~df.text.isna() == True]\n",
    "    return df"
   ]
  },
  {
   "cell_type": "code",
   "execution_count": 84,
   "metadata": {},
   "outputs": [],
   "source": [
    "#returns articles w/ 'United States Politics and Government' as a keyword\n",
    "def return_pol_gov(row):\n",
    "    list_dict = eval(row.keywords)\n",
    "    for (dic) in (list_dict):\n",
    "        if dic.get('value') == 'United States Politics and Government':\n",
    "            return True"
   ]
  },
  {
   "cell_type": "code",
   "execution_count": 85,
   "metadata": {},
   "outputs": [],
   "source": [
    "def filter_keyword(df, keyword):\n",
    "    df[keyword] = df.apply(return_pol_gov, axis=1)    \n",
    "    df = df[df[keyword] == True]\n",
    "    oped_v_news(df)\n",
    "    return df"
   ]
  },
  {
   "cell_type": "code",
   "execution_count": 86,
   "metadata": {},
   "outputs": [],
   "source": [
    "printed_2020 = printed(df2020)\n",
    "printed_2019 = printed(df2019)"
   ]
  },
  {
   "cell_type": "code",
   "execution_count": 87,
   "metadata": {},
   "outputs": [
    {
     "name": "stdout",
     "output_type": "stream",
     "text": [
      "(27752, 5)\n",
      "(30232, 5)\n"
     ]
    }
   ],
   "source": [
    "print(printed_2020.shape)\n",
    "print(printed_2019.shape)"
   ]
  },
  {
   "cell_type": "code",
   "execution_count": 88,
   "metadata": {},
   "outputs": [],
   "source": [
    "#concat df together\n",
    "df = pd.concat([printed_2019, printed_2020])"
   ]
  },
  {
   "cell_type": "code",
   "execution_count": 89,
   "metadata": {},
   "outputs": [
    {
     "name": "stdout",
     "output_type": "stream",
     "text": [
      "CPU times: user 6.95 ms, sys: 783 µs, total: 7.73 ms\n",
      "Wall time: 7.93 ms\n"
     ]
    }
   ],
   "source": [
    "%%time\n",
    "df = df.copy()"
   ]
  },
  {
   "cell_type": "code",
   "execution_count": 90,
   "metadata": {},
   "outputs": [
    {
     "data": {
      "text/plain": [
       "(57984, 5)"
      ]
     },
     "execution_count": 90,
     "metadata": {},
     "output_type": "execute_result"
    }
   ],
   "source": [
    "df.shape"
   ]
  },
  {
   "cell_type": "code",
   "execution_count": 91,
   "metadata": {},
   "outputs": [
    {
     "data": {
      "text/plain": [
       "'North Carolina’s secretary of health on Friday called for an investigation into a hospital where doctors had suspected children with complex heart conditions had been dying at higher than expected rates after undergoing heart surgery.Dr. Mandy Cohen, the secretary, said in a statement that a team from the state’s division of health service regulation would work with federal regulators to conduct a “thorough investigation” into events that occurred in 2016 and 2017 at North Carolina Children’s Hospital, part of the University of North Carolina medical center in Chapel Hill.“As a mother and a doctor my heart goes out to any family that loses a child,” Dr. Cohen said in the statement. “Patient safety, particularly for the most vulnerable children, is paramount.”The investigation is in response to an article published by The New York Times on Thursday, which gave a detailed look inside the medical institution as cardiologists grappled with whether to keep sending their young patients there for surgery.The article included discussions among doctors that were captured on secret audio recordings provided to The Times, in which the physicians talked openly about their concerns, including that some might not feel comfortable allowing their own children to have surgery at the hospital. The physicians also discussed unexpected complications with lower-risk patients.While the doctors could not pinpoint what might be going wrong, they considered everything from inadequate resources to misgivings about the chief pediatric cardiac surgeon to whether the hospital was taking on patients it was not equipped to handle.“It’s a nightmare right now,” Dr. Tim Hoffman, the hospital’s chief of pediatric cardiology, said in a 2016 meeting. “We are in crisis, and everyone is aware of that.”In a later meeting, Dr. Kevin Kelly, the head of the hospital at the time, told cardiologists to “do what your conscience says” when considering where to refer patients, according to one of the recordings.But, he warned, performing fewer surgeries at UNC could hurt revenues and could cost the cardiologists their jobs. “If it reduces the volume of things,” he said, “I’ll just —— we’ll just reduce the number of people that we have.”On Thursday, Dr. Wesley Burks, the chief executive of UNC Health Care, which runs the state-owned hospital, emailed employees about The Times’s article.“While this program faced culture challenges in the 2016-2017 time frame, we believe the Times’ criticism is overstated and does not consider the quality improvements we’ve made within this program over many years,” he said.A local newspaper, The News & Observer in Raleigh, posted an editorial Thursday evening in response to The Times article that said “it will take leaders outside of the self-serving ranks of UNC’s leadership to crack its culture of arrogant denial and bring it back to being a servant of the people.”UNC Health Care has defended its surgery program, describing it as “very strong” while denying any past problems affecting patient care. Administrators said there was “a dysfunctional group” in 2016 that sowed mistrust, creating “team culture issues,” and they maintain that there is a different team at the hospital today.Administrators told The Times it had conducted a “thorough internal investigation” of its heart surgery program in 2016 and had determined “criticism of the program was found to be unsubstantiated.”The Times is suing the hospital for mortality data related to pediatric heart surgeries that the hospital has refused to provide under the state’s open records law.'"
      ]
     },
     "execution_count": 91,
     "metadata": {},
     "output_type": "execute_result"
    }
   ],
   "source": [
    "df.text.iloc[0]"
   ]
  },
  {
   "cell_type": "code",
   "execution_count": 92,
   "metadata": {},
   "outputs": [
    {
     "data": {
      "text/plain": [
       "print_page                                                       13.0\n",
       "keywords            [{'name': 'subject', 'value': 'Hospitals', 'ra...\n",
       "pub_date                                     2019-06-01T00:03:16+0000\n",
       "type_of_material                                                 News\n",
       "text                North Carolina’s secretary of health on Friday...\n",
       "Name: nyt://article/4b1e8a16-71b7-5fac-b1cc-87b459a0a5dd, dtype: object"
      ]
     },
     "execution_count": 92,
     "metadata": {},
     "output_type": "execute_result"
    }
   ],
   "source": [
    "(df.iloc[0])"
   ]
  },
  {
   "cell_type": "code",
   "execution_count": 93,
   "metadata": {},
   "outputs": [
    {
     "data": {
      "text/plain": [
       "print_page                                                       13.0\n",
       "keywords            [{'name': 'subject', 'value': 'Hospitals', 'ra...\n",
       "pub_date                                     2019-06-01T00:03:16+0000\n",
       "type_of_material                                                 News\n",
       "text                North Carolina’s secretary of health on Friday...\n",
       "Name: nyt://article/4b1e8a16-71b7-5fac-b1cc-87b459a0a5dd, dtype: object"
      ]
     },
     "execution_count": 93,
     "metadata": {},
     "output_type": "execute_result"
    }
   ],
   "source": [
    "(df.iloc[0])"
   ]
  },
  {
   "cell_type": "code",
   "execution_count": 94,
   "metadata": {},
   "outputs": [
    {
     "data": {
      "text/plain": [
       "(57984, 5)"
      ]
     },
     "execution_count": 94,
     "metadata": {},
     "output_type": "execute_result"
    }
   ],
   "source": [
    "df.shape"
   ]
  },
  {
   "cell_type": "markdown",
   "metadata": {},
   "source": [
    "# filter keywords"
   ]
  },
  {
   "cell_type": "code",
   "execution_count": 95,
   "metadata": {},
   "outputs": [
    {
     "ename": "NameError",
     "evalue": "name 'oped_v_news' is not defined",
     "output_type": "error",
     "traceback": [
      "\u001b[0;31m---------------------------------------------------------------------------\u001b[0m",
      "\u001b[0;31mNameError\u001b[0m                                 Traceback (most recent call last)",
      "\u001b[0;32m<ipython-input-95-7d81142dc980>\u001b[0m in \u001b[0;36m<module>\u001b[0;34m\u001b[0m\n\u001b[0;32m----> 1\u001b[0;31m \u001b[0mdf\u001b[0m \u001b[0;34m=\u001b[0m \u001b[0mfilter_keyword\u001b[0m\u001b[0;34m(\u001b[0m\u001b[0mdf\u001b[0m\u001b[0;34m)\u001b[0m\u001b[0;34m\u001b[0m\u001b[0;34m\u001b[0m\u001b[0m\n\u001b[0m",
      "\u001b[0;32m<ipython-input-85-1c3764209898>\u001b[0m in \u001b[0;36mfilter_keyword\u001b[0;34m(df)\u001b[0m\n\u001b[1;32m      2\u001b[0m     \u001b[0mdf\u001b[0m\u001b[0;34m[\u001b[0m\u001b[0;34m'United States Politics and Government'\u001b[0m\u001b[0;34m]\u001b[0m \u001b[0;34m=\u001b[0m \u001b[0mdf\u001b[0m\u001b[0;34m.\u001b[0m\u001b[0mapply\u001b[0m\u001b[0;34m(\u001b[0m\u001b[0mreturn_pol_gov\u001b[0m\u001b[0;34m,\u001b[0m \u001b[0maxis\u001b[0m\u001b[0;34m=\u001b[0m\u001b[0;36m1\u001b[0m\u001b[0;34m)\u001b[0m\u001b[0;34m\u001b[0m\u001b[0;34m\u001b[0m\u001b[0m\n\u001b[1;32m      3\u001b[0m     \u001b[0mdf\u001b[0m \u001b[0;34m=\u001b[0m \u001b[0mdf\u001b[0m\u001b[0;34m[\u001b[0m\u001b[0mdf\u001b[0m\u001b[0;34m[\u001b[0m\u001b[0;34m'United States Politics and Government'\u001b[0m\u001b[0;34m]\u001b[0m \u001b[0;34m==\u001b[0m \u001b[0;32mTrue\u001b[0m\u001b[0;34m]\u001b[0m\u001b[0;34m\u001b[0m\u001b[0;34m\u001b[0m\u001b[0m\n\u001b[0;32m----> 4\u001b[0;31m     \u001b[0moped_v_news\u001b[0m\u001b[0;34m(\u001b[0m\u001b[0mdf\u001b[0m\u001b[0;34m)\u001b[0m\u001b[0;34m\u001b[0m\u001b[0;34m\u001b[0m\u001b[0m\n\u001b[0m\u001b[1;32m      5\u001b[0m     \u001b[0;32mreturn\u001b[0m \u001b[0mdf\u001b[0m\u001b[0;34m\u001b[0m\u001b[0;34m\u001b[0m\u001b[0m\n",
      "\u001b[0;31mNameError\u001b[0m: name 'oped_v_news' is not defined"
     ]
    }
   ],
   "source": [
    "df = filter_keyword(df)"
   ]
  },
  {
   "cell_type": "code",
   "execution_count": null,
   "metadata": {},
   "outputs": [],
   "source": [
    "df.shape"
   ]
  },
  {
   "cell_type": "code",
   "execution_count": null,
   "metadata": {},
   "outputs": [],
   "source": []
  },
  {
   "cell_type": "code",
   "execution_count": null,
   "metadata": {},
   "outputs": [],
   "source": []
  },
  {
   "cell_type": "code",
   "execution_count": 29,
   "metadata": {},
   "outputs": [],
   "source": [
    "#define X. X is currently pandas series of unsplit strings\n",
    "X = df.text"
   ]
  },
  {
   "cell_type": "code",
   "execution_count": 30,
   "metadata": {},
   "outputs": [],
   "source": [
    "#turn series into list...\n",
    "corpus = list(X)"
   ]
  },
  {
   "cell_type": "code",
   "execution_count": 31,
   "metadata": {},
   "outputs": [],
   "source": [
    "# define y as a series of op-ed or news\n",
    "y = df.type_of_material"
   ]
  },
  {
   "cell_type": "code",
   "execution_count": 32,
   "metadata": {},
   "outputs": [
    {
     "data": {
      "text/plain": [
       "_id\n",
       "nyt://article/4b1e8a16-71b7-5fac-b1cc-87b459a0a5dd    0\n",
       "nyt://article/2c929a23-32cb-5794-a320-2a254caa6dc1    0\n",
       "nyt://article/49a7077e-85df-5fef-a886-a9503d73c657    0\n",
       "nyt://article/ea6418b4-c464-5be4-86ef-f465d38dade2    0\n",
       "nyt://article/0ae91997-445f-5dd6-89a6-ea3cf6a550a6    0\n",
       "                                                     ..\n",
       "nyt://article/a4383433-5708-530c-bf78-2ec5ee0d96cd    0\n",
       "nyt://article/aff30fb5-0177-5fed-b8b5-55656f2672f6    0\n",
       "nyt://article/d67ea079-eaf8-5e69-a77c-3138a3fc91cb    0\n",
       "nyt://article/5af20a48-6f66-5bae-a9fd-948268ed38cf    0\n",
       "nyt://article/3aea061c-d11a-53d1-8480-c0b163740360    0\n",
       "Name: type_of_material, Length: 57984, dtype: int64"
      ]
     },
     "execution_count": 32,
     "metadata": {},
     "output_type": "execute_result"
    }
   ],
   "source": [
    "vectorize_y_ser(y)"
   ]
  },
  {
   "cell_type": "code",
   "execution_count": 33,
   "metadata": {},
   "outputs": [
    {
     "name": "stdout",
     "output_type": "stream",
     "text": [
      "CPU times: user 22.5 ms, sys: 2.42 ms, total: 24.9 ms\n",
      "Wall time: 24.4 ms\n"
     ]
    }
   ],
   "source": [
    "%%time\n",
    "# vectorize y in to (1, 0) (op-ed, news)\n",
    "y = vectorize_y_ser(y)"
   ]
  },
  {
   "cell_type": "code",
   "execution_count": 34,
   "metadata": {},
   "outputs": [
    {
     "data": {
      "text/plain": [
       "0    53972\n",
       "1     4012\n",
       "Name: type_of_material, dtype: int64"
      ]
     },
     "execution_count": 34,
     "metadata": {},
     "output_type": "execute_result"
    }
   ],
   "source": [
    "y.value_counts()"
   ]
  },
  {
   "cell_type": "code",
   "execution_count": 35,
   "metadata": {},
   "outputs": [
    {
     "data": {
      "text/plain": [
       "(57984,)"
      ]
     },
     "execution_count": 35,
     "metadata": {},
     "output_type": "execute_result"
    }
   ],
   "source": [
    "y.shape"
   ]
  },
  {
   "cell_type": "markdown",
   "metadata": {},
   "source": [
    "# remove stop words"
   ]
  },
  {
   "cell_type": "markdown",
   "metadata": {},
   "source": [
    "# stemming/lemmatization"
   ]
  },
  {
   "cell_type": "code",
   "execution_count": 36,
   "metadata": {},
   "outputs": [],
   "source": [
    "snowball = SnowballStemmer('english')\n",
    "wordnet = WordNetLemmatizer()"
   ]
  },
  {
   "cell_type": "code",
   "execution_count": 37,
   "metadata": {},
   "outputs": [
    {
     "name": "stdout",
     "output_type": "stream",
     "text": [
      "CPU times: user 4 µs, sys: 1e+03 ns, total: 5 µs\n",
      "Wall time: 7.87 µs\n"
     ]
    }
   ],
   "source": [
    "%%time\n",
    "def snowball_tokenize(doc):\n",
    "    snowball = SnowballStemmer('english')\n",
    "    return [snowball.stem(word) for word in word_tokenize(doc.lower())]"
   ]
  },
  {
   "cell_type": "code",
   "execution_count": 38,
   "metadata": {},
   "outputs": [
    {
     "name": "stdout",
     "output_type": "stream",
     "text": [
      "CPU times: user 4 µs, sys: 1e+03 ns, total: 5 µs\n",
      "Wall time: 8.34 µs\n"
     ]
    }
   ],
   "source": [
    "%%time\n",
    "def wordnet_tokenize(doc):\n",
    "    wordnet = WordNetLemmatizer()\n",
    "    return  [wordnet.lemmatize(word) for word in word_tokenize(doc.lower())]"
   ]
  },
  {
   "cell_type": "markdown",
   "metadata": {},
   "source": [
    "# vectorizer"
   ]
  },
  {
   "cell_type": "markdown",
   "metadata": {},
   "source": [
    "# SNOWBALL tfidf"
   ]
  },
  {
   "cell_type": "code",
   "execution_count": 39,
   "metadata": {},
   "outputs": [],
   "source": [
    "# %%time\n",
    "# #create vectorizer\n",
    "\n",
    "# snow_vectorizer = TfidfVectorizer(#input='content', \n",
    "# #                 encoding='utf-8', \n",
    "# #                 decode_error='strict', \n",
    "#                  strip_accents='ascii', \n",
    "#                  lowercase=True, \n",
    "# #                 preprocessor=None, \n",
    "#                  tokenizer=snowball_tokenize, \n",
    "# #                 analyzer='word', \n",
    "#                  stop_words='english', \n",
    "# #                 token_pattern='(?u)\\b\\w\\w+\\b', \n",
    "# #                 ngram_range=(1, 1), \n",
    "#                  max_df=0.90, \n",
    "#                  min_df=0.10, \n",
    "#                  max_features=None, \n",
    "# #                 vocabulary=None, \n",
    "# #                 binary=False, \n",
    "# #                 dtype=<class 'numpy.float64'>, \n",
    "# #                 norm='l2', \n",
    "# #                 use_idf=True, \n",
    "# #                 smooth_idf=True, \n",
    "# #                 sublinear_tf=False\n",
    "# )"
   ]
  },
  {
   "cell_type": "markdown",
   "metadata": {},
   "source": [
    "<!-- /Users/djbetts/opt/anaconda3/lib/python3.7/site-packages/sklearn/feature_extraction/text.py:386: UserWarning: Your stop_words may be inconsistent with your preprocessing. Tokenizing the stop words generated tokens ['abov', 'afterward', 'alon', 'alreadi', 'alway', 'ani', 'anoth', 'anyon', 'anyth', 'anywher', 'becam', 'becaus', 'becom', 'befor', 'besid', 'cri', 'describ', 'dure', 'els', 'elsewher', 'empti', 'everi', 'everyon', 'everyth', 'everywher', 'fifti', 'forti', 'henc', 'hereaft', 'herebi', 'howev', 'hundr', 'inde', 'mani', 'meanwhil', 'moreov', 'nobodi', 'noon', 'noth', 'nowher', 'onc', 'onli', 'otherwis', 'ourselv', 'perhap', 'pleas', 'sever', 'sinc', 'sincer', 'sixti', 'someon', 'someth', 'sometim', 'somewher', 'themselv', 'thenc', 'thereaft', 'therebi', 'therefor', 'togeth', 'twelv', 'twenti', 'veri', 'whatev', 'whenc', 'whenev', 'wherea', 'whereaft', 'wherebi', 'wherev', 'whi', 'yourselv'] not in stop_words.\n",
    "  'stop_words.' % sorted(inconsistent)) -->"
   ]
  },
  {
   "cell_type": "markdown",
   "metadata": {},
   "source": [
    "# WORDNET tfidf"
   ]
  },
  {
   "cell_type": "code",
   "execution_count": 40,
   "metadata": {},
   "outputs": [],
   "source": [
    "#function that removes string.punctuation w/out the '?'\n",
    "def punc_strip(document):\n",
    "    for char in document:\n",
    "        if char in '!\"#$%&\\'()*+—,-./:;<=>?@[\\\\]^_`{|}~”’':\n",
    "            document = document.replace(char, \" \")\n",
    "            \n",
    "    return document"
   ]
  },
  {
   "cell_type": "code",
   "execution_count": 41,
   "metadata": {},
   "outputs": [],
   "source": [
    "stop_words = ['a','b','c','d', 'e', 'f', 'g', 'h', 'i', 'j', 'k', 'l', 'm', 'n', 'o', 'p', 'q', 'r', 's', 't', 'u', 'v', 'w', 'x', 'y', 'z', 'mr','ms', 'said']\n"
   ]
  },
  {
   "cell_type": "code",
   "execution_count": 42,
   "metadata": {},
   "outputs": [
    {
     "name": "stdout",
     "output_type": "stream",
     "text": [
      "CPU times: user 41 µs, sys: 0 ns, total: 41 µs\n",
      "Wall time: 45.1 µs\n"
     ]
    }
   ],
   "source": [
    "%%time\n",
    "#create vectorizer\n",
    "\n",
    "wordnet_vectorizer = TfidfVectorizer(#input='content', \n",
    "#                 encoding='utf-8', \n",
    "#                 decode_error='strict', \n",
    "#                 strip_accents='ascii', \n",
    "                 lowercase=True, \n",
    "                 preprocessor=punc_strip, \n",
    "                 tokenizer=wordnet_tokenize, \n",
    "#                 analyzer='word', \n",
    "                 stop_words=stop_words, \n",
    "#                 token_pattern='(?u)\\b\\w\\w+\\b', \n",
    "                 ngram_range=(1, 1), \n",
    "                 max_df=0.9, \n",
    "                 min_df=0.1, \n",
    "                 max_features=None, \n",
    "#                 vocabulary=None, \n",
    "#                 binary=False, \n",
    "#                 dtype=<class 'numpy.float64'>, \n",
    "#                 norm='l2', \n",
    "#                 use_idf=True, \n",
    "#                 smooth_idf=True, \n",
    "#                 sublinear_tf=False\n",
    ")"
   ]
  },
  {
   "cell_type": "markdown",
   "metadata": {},
   "source": [
    "# test, train, split"
   ]
  },
  {
   "cell_type": "code",
   "execution_count": 43,
   "metadata": {},
   "outputs": [],
   "source": [
    "#test, train, split "
   ]
  },
  {
   "cell_type": "code",
   "execution_count": 44,
   "metadata": {},
   "outputs": [
    {
     "name": "stdout",
     "output_type": "stream",
     "text": [
      "(43488,) (14496,) (43488,) (14496,)\n",
      "CPU times: user 44.6 ms, sys: 3.95 ms, total: 48.6 ms\n",
      "Wall time: 47.7 ms\n"
     ]
    }
   ],
   "source": [
    "%%time\n",
    "#test, train, split\n",
    "X_train, X_test, y_train, y_test = train_test_split(X, y, random_state=50)\n",
    "print(X_train.shape, X_test.shape, y_train.shape, y_test.shape)"
   ]
  },
  {
   "cell_type": "code",
   "execution_count": 45,
   "metadata": {},
   "outputs": [
    {
     "name": "stdout",
     "output_type": "stream",
     "text": [
      "2021-01-07 10:32:15.746374\n",
      "CPU times: user 6min 4s, sys: 3.71 s, total: 6min 7s\n",
      "Wall time: 6min 11s\n"
     ]
    }
   ],
   "source": [
    "%%time\n",
    "print(datetime.datetime.now())\n",
    "X_train =  wordnet_vectorizer.fit_transform(X_train)"
   ]
  },
  {
   "cell_type": "code",
   "execution_count": 46,
   "metadata": {},
   "outputs": [
    {
     "name": "stdout",
     "output_type": "stream",
     "text": [
      "2021-01-07 10:38:27.045110\n",
      "CPU times: user 2min 1s, sys: 1.29 s, total: 2min 2s\n",
      "Wall time: 2min 4s\n"
     ]
    }
   ],
   "source": [
    "%%time\n",
    "print(datetime.datetime.now())\n",
    "X_test = wordnet_vectorizer.transform(X_test)"
   ]
  },
  {
   "cell_type": "code",
   "execution_count": 47,
   "metadata": {},
   "outputs": [],
   "source": [
    "vocab = wordnet_vectorizer.vocabulary_"
   ]
  },
  {
   "cell_type": "code",
   "execution_count": 48,
   "metadata": {},
   "outputs": [
    {
     "data": {
      "text/plain": [
       "892"
      ]
     },
     "execution_count": 48,
     "metadata": {},
     "output_type": "execute_result"
    }
   ],
   "source": [
    "len(vocab)"
   ]
  },
  {
   "cell_type": "code",
   "execution_count": 49,
   "metadata": {},
   "outputs": [
    {
     "data": {
      "text/plain": [
       "(43488, 892)"
      ]
     },
     "execution_count": 49,
     "metadata": {},
     "output_type": "execute_result"
    }
   ],
   "source": [
    "X_train.shape"
   ]
  },
  {
   "cell_type": "code",
   "execution_count": 50,
   "metadata": {},
   "outputs": [
    {
     "data": {
      "text/plain": [
       "(14496, 892)"
      ]
     },
     "execution_count": 50,
     "metadata": {},
     "output_type": "execute_result"
    }
   ],
   "source": [
    "X_test.shape"
   ]
  },
  {
   "cell_type": "markdown",
   "metadata": {},
   "source": [
    "# count vectorizer"
   ]
  },
  {
   "cell_type": "code",
   "execution_count": 51,
   "metadata": {},
   "outputs": [],
   "source": [
    "# count_vectorizer = CountVectorizer(strip_accents='None',\n",
    "#                                    lowercase=True,\n",
    "#                                    tokenizer=snowball_tokenize,\n",
    "#                                    stop_words='english',\n",
    "#                                    max_features=None)"
   ]
  },
  {
   "cell_type": "markdown",
   "metadata": {},
   "source": [
    "# balance classes"
   ]
  },
  {
   "cell_type": "code",
   "execution_count": 52,
   "metadata": {},
   "outputs": [
    {
     "name": "stdout",
     "output_type": "stream",
     "text": [
      "[(0, 2988), (1, 2988)]\n",
      "RandomUnderSampler(random_state=0)\n",
      "CPU times: user 28.9 ms, sys: 3.65 ms, total: 32.5 ms\n",
      "Wall time: 31.9 ms\n"
     ]
    }
   ],
   "source": [
    "%%time\n",
    "#balance the classes\n",
    "\n",
    "from imblearn.under_sampling import RandomUnderSampler\n",
    "rus = RandomUnderSampler(random_state=0)\n",
    "\n",
    "#X, y --> X_resampled, y_resampled\n",
    "X_resampled, y_resampled = rus.fit_resample(X_train, y_train)\n",
    "print(sorted(Counter(y_resampled).items()))\n",
    "print(rus)"
   ]
  },
  {
   "cell_type": "markdown",
   "metadata": {},
   "source": [
    "# random forest classifier"
   ]
  },
  {
   "cell_type": "code",
   "execution_count": 53,
   "metadata": {},
   "outputs": [
    {
     "name": "stdout",
     "output_type": "stream",
     "text": [
      "2021-01-07 10:40:31.299469\n",
      "CPU times: user 158 µs, sys: 56 µs, total: 214 µs\n",
      "Wall time: 192 µs\n"
     ]
    }
   ],
   "source": [
    "%%time\n",
    "print(datetime.datetime.now())\n",
    "rf_clf = RandomForestClassifier(max_depth=2, random_state=0)\n"
   ]
  },
  {
   "cell_type": "code",
   "execution_count": 54,
   "metadata": {},
   "outputs": [
    {
     "data": {
      "text/plain": [
       "(14496,)"
      ]
     },
     "execution_count": 54,
     "metadata": {},
     "output_type": "execute_result"
    }
   ],
   "source": [
    "rf_clf.fit(X_resampled, y_resampled)\n",
    "y_pred = rf_clf.predict(X_test)\n",
    "y_pred.shape"
   ]
  },
  {
   "cell_type": "markdown",
   "metadata": {},
   "source": [
    "### metrics y_pred"
   ]
  },
  {
   "cell_type": "code",
   "execution_count": 55,
   "metadata": {},
   "outputs": [],
   "source": [
    "tn, fp, fn, tp = confusion_matrix(y_true = y_test, y_pred = y_pred).ravel()"
   ]
  },
  {
   "cell_type": "code",
   "execution_count": 56,
   "metadata": {},
   "outputs": [
    {
     "name": "stdout",
     "output_type": "stream",
     "text": [
      "(14496,)\n",
      "(14496,)\n"
     ]
    }
   ],
   "source": [
    "print(y_test.shape)\n",
    "print(y_pred.shape)"
   ]
  },
  {
   "cell_type": "code",
   "execution_count": 57,
   "metadata": {},
   "outputs": [
    {
     "name": "stdout",
     "output_type": "stream",
     "text": [
      "accuracy = 0.8272626931567328\n",
      "recall = 0.8388671875\n",
      "precision = 0.2686053783614759\n",
      "tn:11133 fp:2339 fn:165 tp:859\n"
     ]
    }
   ],
   "source": [
    "metrics_(tn, fp, fn, tp)"
   ]
  },
  {
   "cell_type": "code",
   "execution_count": 100,
   "metadata": {},
   "outputs": [
    {
     "data": {
      "image/png": "[encoded data removed]",
      "text/plain": [
       "<Figure size 432x288 with 2 Axes>"
      ]
     },
     "metadata": {},
     "output_type": "display_data"
    }
   ],
   "source": [
    "class_names = [\"News\", \"Op-Ed\"]\n",
    "plot_confusion_matrix(estimator=rf_clf,\n",
    "                      X=X_test,\n",
    "                      y_true=y_test,\n",
    "                      display_labels=class_names,\n",
    "                     cmap='cividis')\n",
    "\n",
    "plt.savefig('../img/confusion_matrix.png');"
   ]
  },
  {
   "cell_type": "markdown",
   "metadata": {},
   "source": [
    "# important features"
   ]
  },
  {
   "cell_type": "markdown",
   "metadata": {},
   "source": [
    "### feature imporance"
   ]
  },
  {
   "cell_type": "code",
   "execution_count": 99,
   "metadata": {},
   "outputs": [
    {
     "name": "stdout",
     "output_type": "stream",
     "text": [
      "2021-01-07 11:02:06.441387\n",
      "CPU times: user 347 ms, sys: 15.3 ms, total: 362 ms\n",
      "Wall time: 361 ms\n"
     ]
    },
    {
     "data": {
      "image/png": "[encoded data removed]",
      "text/plain": [
       "<Figure size 1440x1080 with 1 Axes>"
      ]
     },
     "metadata": {},
     "output_type": "display_data"
    }
   ],
   "source": [
    "%%time\n",
    "print(datetime.datetime.now())\n",
    "\n",
    "feat_names = wordnet_vectorizer.get_feature_names()\n",
    "feature_import = rf_clf.feature_importances_\n",
    "\n",
    "feat_scores = pd.Series(feature_import,\n",
    "                           index=feat_names)\n",
    "feat_scores = feat_scores.sort_values()\n",
    "ax = feat_scores[-20:].plot(kind='barh', figsize=(20,15))\n",
    "ax.set_title('\"Decrease in Impurity\" Importance')\n",
    "ax.set_xlabel('Average contribution to the reduction in variance')\n",
    "plt.savefig('../img/feature_imporance.png');"
   ]
  },
  {
   "cell_type": "markdown",
   "metadata": {},
   "source": [
    "### permutation importance"
   ]
  },
  {
   "cell_type": "code",
   "execution_count": 60,
   "metadata": {},
   "outputs": [],
   "source": [
    "# %%time\n",
    "# print(datetime.datetime.now())\n",
    "# r = permutation_importance(rf_clf, X_test.toarray(), y_test, n_repeats=30, random_state=0)\n",
    "# for i in r.importances_mean.argsort()[::-1]:\n",
    "#     if r.importances_mean[i] - 2 * r.importances_std[i] > 0:\n",
    "#         print(f\"{feat_names[i]:<8}\"\n",
    "#               f\"{r.importances_mean[i]:.3f}\"\n",
    "#               f\" +/- {r.importances_std[i]:.3f}\")"
   ]
  },
  {
   "cell_type": "code",
   "execution_count": 61,
   "metadata": {},
   "outputs": [
    {
     "data": {
      "text/plain": [
       "892"
      ]
     },
     "execution_count": 61,
     "metadata": {},
     "output_type": "execute_result"
    }
   ],
   "source": [
    "len(feat_names)"
   ]
  },
  {
   "cell_type": "code",
   "execution_count": 62,
   "metadata": {},
   "outputs": [
    {
     "data": {
      "text/plain": [
       "['000',\n",
       " '1',\n",
       " '10',\n",
       " '100',\n",
       " '11',\n",
       " '12',\n",
       " '13',\n",
       " '14',\n",
       " '15',\n",
       " '16',\n",
       " '17',\n",
       " '18',\n",
       " '19',\n",
       " '2',\n",
       " '20',\n",
       " '2015',\n",
       " '2016',\n",
       " '2017',\n",
       " '2018',\n",
       " '2019',\n",
       " '2020',\n",
       " '25',\n",
       " '3',\n",
       " '30',\n",
       " '4',\n",
       " '40',\n",
       " '5',\n",
       " '50',\n",
       " '500',\n",
       " '6',\n",
       " '60',\n",
       " '7',\n",
       " '8',\n",
       " '9',\n",
       " 'ability',\n",
       " 'able',\n",
       " 'about',\n",
       " 'access',\n",
       " 'according',\n",
       " 'account',\n",
       " 'accused',\n",
       " 'across',\n",
       " 'act',\n",
       " 'action',\n",
       " 'actually',\n",
       " 'added',\n",
       " 'adding',\n",
       " 'address',\n",
       " 'administration',\n",
       " 'after',\n",
       " 'again',\n",
       " 'against',\n",
       " 'age',\n",
       " 'agency',\n",
       " 'ago',\n",
       " 'agreed',\n",
       " 'ahead',\n",
       " 'air',\n",
       " 'all',\n",
       " 'allow',\n",
       " 'allowed',\n",
       " 'almost',\n",
       " 'alone',\n",
       " 'along',\n",
       " 'already',\n",
       " 'also',\n",
       " 'although',\n",
       " 'always',\n",
       " 'am',\n",
       " 'america',\n",
       " 'american',\n",
       " 'among',\n",
       " 'amount',\n",
       " 'announced',\n",
       " 'another',\n",
       " 'answer',\n",
       " 'any',\n",
       " 'anyone',\n",
       " 'anything',\n",
       " 'appeared',\n",
       " 'approach',\n",
       " 'april',\n",
       " 'are',\n",
       " 'area',\n",
       " 'around',\n",
       " 'art',\n",
       " 'ask',\n",
       " 'asked',\n",
       " 'attack',\n",
       " 'attempt',\n",
       " 'attention',\n",
       " 'authority',\n",
       " 'available',\n",
       " 'avoid',\n",
       " 'away',\n",
       " 'back',\n",
       " 'bad',\n",
       " 'based',\n",
       " 'became',\n",
       " 'because',\n",
       " 'become',\n",
       " 'been',\n",
       " 'before',\n",
       " 'began',\n",
       " 'begin',\n",
       " 'beginning',\n",
       " 'behind',\n",
       " 'being',\n",
       " 'believe',\n",
       " 'benefit',\n",
       " 'best',\n",
       " 'better',\n",
       " 'between',\n",
       " 'beyond',\n",
       " 'big',\n",
       " 'biggest',\n",
       " 'bill',\n",
       " 'billion',\n",
       " 'bit',\n",
       " 'black',\n",
       " 'board',\n",
       " 'body',\n",
       " 'book',\n",
       " 'both',\n",
       " 'break',\n",
       " 'bring',\n",
       " 'brought',\n",
       " 'build',\n",
       " 'building',\n",
       " 'built',\n",
       " 'business',\n",
       " 'buy',\n",
       " 'california',\n",
       " 'call',\n",
       " 'called',\n",
       " 'calling',\n",
       " 'came',\n",
       " 'campaign',\n",
       " 'can',\n",
       " 'candidate',\n",
       " 'car',\n",
       " 'care',\n",
       " 'career',\n",
       " 'case',\n",
       " 'cause',\n",
       " 'center',\n",
       " 'central',\n",
       " 'century',\n",
       " 'certain',\n",
       " 'challenge',\n",
       " 'chance',\n",
       " 'change',\n",
       " 'changed',\n",
       " 'charge',\n",
       " 'chief',\n",
       " 'child',\n",
       " 'china',\n",
       " 'choice',\n",
       " 'city',\n",
       " 'claim',\n",
       " 'class',\n",
       " 'clear',\n",
       " 'close',\n",
       " 'closed',\n",
       " 'co',\n",
       " 'college',\n",
       " 'come',\n",
       " 'coming',\n",
       " 'comment',\n",
       " 'committee',\n",
       " 'common',\n",
       " 'community',\n",
       " 'company',\n",
       " 'concern',\n",
       " 'condition',\n",
       " 'conference',\n",
       " 'congress',\n",
       " 'consider',\n",
       " 'considered',\n",
       " 'continue',\n",
       " 'continued',\n",
       " 'control',\n",
       " 'conversation',\n",
       " 'coronavirus',\n",
       " 'cost',\n",
       " 'could',\n",
       " 'country',\n",
       " 'couple',\n",
       " 'course',\n",
       " 'court',\n",
       " 'cover',\n",
       " 'create',\n",
       " 'created',\n",
       " 'crisis',\n",
       " 'critic',\n",
       " 'culture',\n",
       " 'current',\n",
       " 'cut',\n",
       " 'daily',\n",
       " 'data',\n",
       " 'daughter',\n",
       " 'david',\n",
       " 'day',\n",
       " 'deal',\n",
       " 'death',\n",
       " 'debate',\n",
       " 'decade',\n",
       " 'decided',\n",
       " 'decision',\n",
       " 'declined',\n",
       " 'deep',\n",
       " 'defense',\n",
       " 'demand',\n",
       " 'democrat',\n",
       " 'democratic',\n",
       " 'department',\n",
       " 'described',\n",
       " 'despite',\n",
       " 'detail',\n",
       " 'development',\n",
       " 'did',\n",
       " 'didn',\n",
       " 'died',\n",
       " 'different',\n",
       " 'difficult',\n",
       " 'director',\n",
       " 'district',\n",
       " 'do',\n",
       " 'doe',\n",
       " 'doesn',\n",
       " 'doing',\n",
       " 'dollar',\n",
       " 'don',\n",
       " 'done',\n",
       " 'door',\n",
       " 'down',\n",
       " 'dozen',\n",
       " 'dr',\n",
       " 'during',\n",
       " 'each',\n",
       " 'earlier',\n",
       " 'early',\n",
       " 'east',\n",
       " 'easy',\n",
       " 'economic',\n",
       " 'economy',\n",
       " 'effect',\n",
       " 'effort',\n",
       " 'eight',\n",
       " 'either',\n",
       " 'election',\n",
       " 'else',\n",
       " 'email',\n",
       " 'employee',\n",
       " 'end',\n",
       " 'ended',\n",
       " 'enough',\n",
       " 'entire',\n",
       " 'especially',\n",
       " 'even',\n",
       " 'event',\n",
       " 'eventually',\n",
       " 'ever',\n",
       " 'every',\n",
       " 'everyone',\n",
       " 'everything',\n",
       " 'evidence',\n",
       " 'example',\n",
       " 'executive',\n",
       " 'expected',\n",
       " 'experience',\n",
       " 'expert',\n",
       " 'eye',\n",
       " 'face',\n",
       " 'facebook',\n",
       " 'fact',\n",
       " 'fall',\n",
       " 'family',\n",
       " 'far',\n",
       " 'father',\n",
       " 'fear',\n",
       " 'federal',\n",
       " 'feel',\n",
       " 'feeling',\n",
       " 'felt',\n",
       " 'few',\n",
       " 'field',\n",
       " 'fight',\n",
       " 'figure',\n",
       " 'final',\n",
       " 'finally',\n",
       " 'financial',\n",
       " 'find',\n",
       " 'finding',\n",
       " 'fire',\n",
       " 'firm',\n",
       " 'first',\n",
       " 'five',\n",
       " 'focus',\n",
       " 'focused',\n",
       " 'follow',\n",
       " 'followed',\n",
       " 'following',\n",
       " 'food',\n",
       " 'foot',\n",
       " 'force',\n",
       " 'forced',\n",
       " 'foreign',\n",
       " 'form',\n",
       " 'former',\n",
       " 'forward',\n",
       " 'found',\n",
       " 'four',\n",
       " 'free',\n",
       " 'friday',\n",
       " 'friend',\n",
       " 'front',\n",
       " 'full',\n",
       " 'fund',\n",
       " 'further',\n",
       " 'future',\n",
       " 'game',\n",
       " 'gave',\n",
       " 'general',\n",
       " 'george',\n",
       " 'get',\n",
       " 'getting',\n",
       " 'give',\n",
       " 'given',\n",
       " 'giving',\n",
       " 'global',\n",
       " 'go',\n",
       " 'goal',\n",
       " 'going',\n",
       " 'gone',\n",
       " 'good',\n",
       " 'got',\n",
       " 'government',\n",
       " 'great',\n",
       " 'grew',\n",
       " 'ground',\n",
       " 'group',\n",
       " 'growing',\n",
       " 'ha',\n",
       " 'had',\n",
       " 'half',\n",
       " 'hand',\n",
       " 'happen',\n",
       " 'happened',\n",
       " 'hard',\n",
       " 'having',\n",
       " 'he',\n",
       " 'head',\n",
       " 'health',\n",
       " 'heard',\n",
       " 'heart',\n",
       " 'held',\n",
       " 'help',\n",
       " 'helped',\n",
       " 'her',\n",
       " 'here',\n",
       " 'high',\n",
       " 'higher',\n",
       " 'him',\n",
       " 'himself',\n",
       " 'his',\n",
       " 'history',\n",
       " 'hit',\n",
       " 'hold',\n",
       " 'home',\n",
       " 'hope',\n",
       " 'hospital',\n",
       " 'hour',\n",
       " 'house',\n",
       " 'how',\n",
       " 'however',\n",
       " 'human',\n",
       " 'hundred',\n",
       " 'idea',\n",
       " 'if',\n",
       " 'immediately',\n",
       " 'impact',\n",
       " 'important',\n",
       " 'include',\n",
       " 'included',\n",
       " 'includes',\n",
       " 'including',\n",
       " 'increase',\n",
       " 'increasingly',\n",
       " 'individual',\n",
       " 'industry',\n",
       " 'information',\n",
       " 'inside',\n",
       " 'instead',\n",
       " 'interest',\n",
       " 'international',\n",
       " 'interview',\n",
       " 'into',\n",
       " 'investigation',\n",
       " 'involved',\n",
       " 'isn',\n",
       " 'issue',\n",
       " 'itself',\n",
       " 'january',\n",
       " 'job',\n",
       " 'john',\n",
       " 'jr',\n",
       " 'july',\n",
       " 'june',\n",
       " 'just',\n",
       " 'justice',\n",
       " 'keep',\n",
       " 'kept',\n",
       " 'key',\n",
       " 'killed',\n",
       " 'kind',\n",
       " 'knew',\n",
       " 'know',\n",
       " 'known',\n",
       " 'lack',\n",
       " 'large',\n",
       " 'largely',\n",
       " 'largest',\n",
       " 'last',\n",
       " 'late',\n",
       " 'later',\n",
       " 'latest',\n",
       " 'law',\n",
       " 'lawyer',\n",
       " 'le',\n",
       " 'lead',\n",
       " 'leader',\n",
       " 'leading',\n",
       " 'least',\n",
       " 'leave',\n",
       " 'leaving',\n",
       " 'led',\n",
       " 'left',\n",
       " 'legal',\n",
       " 'let',\n",
       " 'letter',\n",
       " 'level',\n",
       " 'life',\n",
       " 'light',\n",
       " 'like',\n",
       " 'likely',\n",
       " 'limited',\n",
       " 'line',\n",
       " 'list',\n",
       " 'little',\n",
       " 'live',\n",
       " 'living',\n",
       " 'll',\n",
       " 'local',\n",
       " 'long',\n",
       " 'longer',\n",
       " 'look',\n",
       " 'looked',\n",
       " 'looking',\n",
       " 'los',\n",
       " 'loss',\n",
       " 'lost',\n",
       " 'lot',\n",
       " 'love',\n",
       " 'low',\n",
       " 'lower',\n",
       " 'made',\n",
       " 'main',\n",
       " 'major',\n",
       " 'majority',\n",
       " 'make',\n",
       " 'making',\n",
       " 'man',\n",
       " 'manager',\n",
       " 'many',\n",
       " 'march',\n",
       " 'mark',\n",
       " 'market',\n",
       " 'matter',\n",
       " 'may',\n",
       " 'maybe',\n",
       " 'me',\n",
       " 'mean',\n",
       " 'meant',\n",
       " 'measure',\n",
       " 'medical',\n",
       " 'medium',\n",
       " 'meet',\n",
       " 'meeting',\n",
       " 'member',\n",
       " 'men',\n",
       " 'message',\n",
       " 'met',\n",
       " 'michael',\n",
       " 'middle',\n",
       " 'might',\n",
       " 'mile',\n",
       " 'military',\n",
       " 'million',\n",
       " 'mind',\n",
       " 'minister',\n",
       " 'minute',\n",
       " 'moment',\n",
       " 'monday',\n",
       " 'money',\n",
       " 'month',\n",
       " 'more',\n",
       " 'morning',\n",
       " 'most',\n",
       " 'mostly',\n",
       " 'mother',\n",
       " 'move',\n",
       " 'moved',\n",
       " 'movement',\n",
       " 'moving',\n",
       " 'much',\n",
       " 'must',\n",
       " 'my',\n",
       " 'name',\n",
       " 'named',\n",
       " 'nation',\n",
       " 'national',\n",
       " 'near',\n",
       " 'nearly',\n",
       " 'need',\n",
       " 'needed',\n",
       " 'network',\n",
       " 'never',\n",
       " 'new',\n",
       " 'news',\n",
       " 'next',\n",
       " 'night',\n",
       " 'no',\n",
       " 'north',\n",
       " 'noted',\n",
       " 'nothing',\n",
       " 'now',\n",
       " 'number',\n",
       " 'off',\n",
       " 'offer',\n",
       " 'offered',\n",
       " 'office',\n",
       " 'officer',\n",
       " 'official',\n",
       " 'often',\n",
       " 'old',\n",
       " 'once',\n",
       " 'one',\n",
       " 'online',\n",
       " 'only',\n",
       " 'open',\n",
       " 'opened',\n",
       " 'opening',\n",
       " 'operation',\n",
       " 'opportunity',\n",
       " 'or',\n",
       " 'order',\n",
       " 'organization',\n",
       " 'other',\n",
       " 'others',\n",
       " 'our',\n",
       " 'out',\n",
       " 'outside',\n",
       " 'over',\n",
       " 'own',\n",
       " 'owner',\n",
       " 'page',\n",
       " 'paid',\n",
       " 'pandemic',\n",
       " 'parent',\n",
       " 'park',\n",
       " 'part',\n",
       " 'particularly',\n",
       " 'partner',\n",
       " 'party',\n",
       " 'past',\n",
       " 'pay',\n",
       " 'people',\n",
       " 'percent',\n",
       " 'performance',\n",
       " 'perhaps',\n",
       " 'period',\n",
       " 'person',\n",
       " 'personal',\n",
       " 'phone',\n",
       " 'piece',\n",
       " 'place',\n",
       " 'plan',\n",
       " 'planned',\n",
       " 'play',\n",
       " 'played',\n",
       " 'player',\n",
       " 'playing',\n",
       " 'point',\n",
       " 'police',\n",
       " 'policy',\n",
       " 'political',\n",
       " 'politics',\n",
       " 'popular',\n",
       " 'position',\n",
       " 'possible',\n",
       " 'post',\n",
       " 'potential',\n",
       " 'power',\n",
       " 'powerful',\n",
       " 'practice',\n",
       " 'present',\n",
       " 'president',\n",
       " 'presidential',\n",
       " 'pressure',\n",
       " 'previous',\n",
       " 'price',\n",
       " 'private',\n",
       " 'probably',\n",
       " 'problem',\n",
       " 'process',\n",
       " 'professor',\n",
       " 'program',\n",
       " 'project',\n",
       " 'protect',\n",
       " 'protest',\n",
       " 'provide',\n",
       " 'public',\n",
       " 'published',\n",
       " 'put',\n",
       " 'question',\n",
       " 'quickly',\n",
       " 'race',\n",
       " 'raised',\n",
       " 'rate',\n",
       " 'rather',\n",
       " 're',\n",
       " 'reach',\n",
       " 'reached',\n",
       " 'read',\n",
       " 'real',\n",
       " 'really',\n",
       " 'reason',\n",
       " 'received',\n",
       " 'recent',\n",
       " 'recently',\n",
       " 'record',\n",
       " 'red',\n",
       " 'regular',\n",
       " 'related',\n",
       " 'relationship',\n",
       " 'released',\n",
       " 'remain',\n",
       " 'remains',\n",
       " 'report',\n",
       " 'reported',\n",
       " 'reporter',\n",
       " 'representative',\n",
       " 'republican',\n",
       " 'request',\n",
       " 'research',\n",
       " 'resident',\n",
       " 'response',\n",
       " 'rest',\n",
       " 'restaurant',\n",
       " 'result',\n",
       " 'return',\n",
       " 'right',\n",
       " 'rise',\n",
       " 'risk',\n",
       " 'robert',\n",
       " 'role',\n",
       " 'room',\n",
       " 'rule',\n",
       " 'run',\n",
       " 'running',\n",
       " 'safe',\n",
       " 'safety',\n",
       " 'sale',\n",
       " 'same',\n",
       " 'saturday',\n",
       " 'saw',\n",
       " 'say',\n",
       " 'saying',\n",
       " 'scene',\n",
       " 'school',\n",
       " 'season',\n",
       " 'second',\n",
       " 'secretary',\n",
       " 'security',\n",
       " 'see',\n",
       " 'seeking',\n",
       " 'seem',\n",
       " 'seemed',\n",
       " 'seems',\n",
       " 'seen',\n",
       " 'self',\n",
       " 'senator',\n",
       " 'senior',\n",
       " 'sense',\n",
       " 'sent',\n",
       " 'series',\n",
       " 'serious',\n",
       " 'served',\n",
       " 'service',\n",
       " 'set',\n",
       " 'seven',\n",
       " 'several',\n",
       " 'share',\n",
       " 'she',\n",
       " 'short',\n",
       " 'shot',\n",
       " 'should',\n",
       " 'show',\n",
       " 'showed',\n",
       " 'side',\n",
       " 'sign',\n",
       " 'significant',\n",
       " 'similar',\n",
       " 'simply',\n",
       " 'since',\n",
       " 'single',\n",
       " 'site',\n",
       " 'situation',\n",
       " 'six',\n",
       " 'small',\n",
       " 'so',\n",
       " 'social',\n",
       " 'some',\n",
       " 'someone',\n",
       " 'something',\n",
       " 'sometimes',\n",
       " 'son',\n",
       " 'soon',\n",
       " 'sort',\n",
       " 'south',\n",
       " 'space',\n",
       " 'special',\n",
       " 'spent',\n",
       " 'spoke',\n",
       " 'spokesman',\n",
       " 'spread',\n",
       " 'spring',\n",
       " 'staff',\n",
       " 'stage',\n",
       " 'stand',\n",
       " 'standard',\n",
       " 'star',\n",
       " 'start',\n",
       " 'started',\n",
       " 'starting',\n",
       " 'state',\n",
       " 'statement',\n",
       " 'stay',\n",
       " 'step',\n",
       " 'still',\n",
       " 'stop',\n",
       " 'store',\n",
       " 'story',\n",
       " 'street',\n",
       " 'strong',\n",
       " 'student',\n",
       " 'study',\n",
       " 'style',\n",
       " 'such',\n",
       " 'suggested',\n",
       " 'summer',\n",
       " 'sunday',\n",
       " 'support',\n",
       " 'sure',\n",
       " 'system',\n",
       " 'take',\n",
       " 'taken',\n",
       " 'taking',\n",
       " 'talk',\n",
       " 'talking',\n",
       " 'team',\n",
       " 'technology',\n",
       " 'television',\n",
       " 'tell',\n",
       " 'term',\n",
       " 'test',\n",
       " 'than',\n",
       " 'their',\n",
       " 'them',\n",
       " 'themselves',\n",
       " 'then',\n",
       " 'there',\n",
       " 'these',\n",
       " 'they',\n",
       " 'thing',\n",
       " 'think',\n",
       " 'thinking',\n",
       " 'third',\n",
       " 'this',\n",
       " 'those',\n",
       " 'though',\n",
       " 'thought',\n",
       " 'thousand',\n",
       " 'threat',\n",
       " 'three',\n",
       " 'through',\n",
       " 'thursday',\n",
       " 'time',\n",
       " 'today',\n",
       " 'together',\n",
       " 'told',\n",
       " 'too',\n",
       " 'took',\n",
       " 'top',\n",
       " 'toward',\n",
       " 'town',\n",
       " 'trade',\n",
       " 'travel',\n",
       " 'tried',\n",
       " 'true',\n",
       " 'trump',\n",
       " 'try',\n",
       " 'trying',\n",
       " 'tuesday',\n",
       " 'turn',\n",
       " 'turned',\n",
       " 'twitter',\n",
       " 'two',\n",
       " 'under',\n",
       " 'understand',\n",
       " 'union',\n",
       " 'united',\n",
       " 'university',\n",
       " 'until',\n",
       " 'up',\n",
       " 'use',\n",
       " 'used',\n",
       " 'using',\n",
       " 'value',\n",
       " 've',\n",
       " 'version',\n",
       " 'very',\n",
       " 'vice',\n",
       " 'video',\n",
       " 'view',\n",
       " 'virus',\n",
       " 'visit',\n",
       " 'voice',\n",
       " 'vote',\n",
       " 'voter',\n",
       " 'wall',\n",
       " 'want',\n",
       " 'wanted',\n",
       " 'war',\n",
       " 'washington',\n",
       " 'wasn',\n",
       " 'watch',\n",
       " 'water',\n",
       " 'way',\n",
       " 'we',\n",
       " 'wednesday',\n",
       " 'week',\n",
       " 'weekend',\n",
       " 'well',\n",
       " 'went',\n",
       " 'were',\n",
       " 'west',\n",
       " 'what',\n",
       " 'when',\n",
       " 'where',\n",
       " 'whether',\n",
       " 'which',\n",
       " 'while',\n",
       " 'white',\n",
       " 'who',\n",
       " 'whole',\n",
       " 'whom',\n",
       " 'whose',\n",
       " 'why',\n",
       " 'wife',\n",
       " 'will',\n",
       " 'win',\n",
       " 'within',\n",
       " 'without',\n",
       " 'woman',\n",
       " 'won',\n",
       " 'word',\n",
       " 'work',\n",
       " 'worked',\n",
       " 'worker',\n",
       " 'working',\n",
       " 'world',\n",
       " 'would',\n",
       " 'wrote',\n",
       " 'year',\n",
       " 'yet',\n",
       " 'york',\n",
       " 'you',\n",
       " 'young',\n",
       " 'your',\n",
       " '‘']"
      ]
     },
     "execution_count": 62,
     "metadata": {},
     "output_type": "execute_result"
    }
   ],
   "source": [
    "feat_names"
   ]
  },
  {
   "cell_type": "code",
   "execution_count": 63,
   "metadata": {},
   "outputs": [],
   "source": [
    "stop_words = wordnet_vectorizer.stop_words_"
   ]
  },
  {
   "cell_type": "code",
   "execution_count": 64,
   "metadata": {},
   "outputs": [
    {
     "data": {
      "text/plain": [
       "211923"
      ]
     },
     "execution_count": 64,
     "metadata": {},
     "output_type": "execute_result"
    }
   ],
   "source": [
    "len(stop_words)"
   ]
  },
  {
   "cell_type": "code",
   "execution_count": null,
   "metadata": {},
   "outputs": [],
   "source": []
  },
  {
   "cell_type": "markdown",
   "metadata": {},
   "source": [
    "# save model as pickle file"
   ]
  },
  {
   "cell_type": "code",
   "execution_count": 65,
   "metadata": {},
   "outputs": [],
   "source": [
    "filename = '/Users/djbetts/Desktop/full_dataset.pkl'"
   ]
  },
  {
   "cell_type": "code",
   "execution_count": 66,
   "metadata": {},
   "outputs": [],
   "source": [
    "#pickle.dump(rf_clf, open(filename, 'wb'))"
   ]
  },
  {
   "cell_type": "code",
   "execution_count": 67,
   "metadata": {},
   "outputs": [],
   "source": [
    "#loaded_model = pickle.load(open(filename, 'rb'))"
   ]
  },
  {
   "cell_type": "code",
   "execution_count": 68,
   "metadata": {},
   "outputs": [],
   "source": [
    "#loaded_model.fit(X_resampled, y_resampled)"
   ]
  },
  {
   "cell_type": "code",
   "execution_count": 69,
   "metadata": {},
   "outputs": [],
   "source": [
    "#result = loaded_model.score(X_resampled, y_resampled)"
   ]
  },
  {
   "cell_type": "code",
   "execution_count": null,
   "metadata": {},
   "outputs": [],
   "source": []
  },
  {
   "cell_type": "code",
   "execution_count": null,
   "metadata": {},
   "outputs": [],
   "source": []
  },
  {
   "cell_type": "code",
   "execution_count": null,
   "metadata": {},
   "outputs": [],
   "source": []
  },
  {
   "cell_type": "code",
   "execution_count": null,
   "metadata": {},
   "outputs": [],
   "source": []
  },
  {
   "cell_type": "code",
   "execution_count": null,
   "metadata": {},
   "outputs": [],
   "source": []
  },
  {
   "cell_type": "code",
   "execution_count": null,
   "metadata": {},
   "outputs": [],
   "source": []
  },
  {
   "cell_type": "code",
   "execution_count": null,
   "metadata": {},
   "outputs": [],
   "source": []
  },
  {
   "cell_type": "code",
   "execution_count": null,
   "metadata": {},
   "outputs": [],
   "source": []
  },
  {
   "cell_type": "code",
   "execution_count": null,
   "metadata": {},
   "outputs": [],
   "source": []
  },
  {
   "cell_type": "code",
   "execution_count": null,
   "metadata": {},
   "outputs": [],
   "source": []
  },
  {
   "cell_type": "code",
   "execution_count": null,
   "metadata": {},
   "outputs": [],
   "source": []
  },
  {
   "cell_type": "code",
   "execution_count": null,
   "metadata": {},
   "outputs": [],
   "source": []
  },
  {
   "cell_type": "code",
   "execution_count": null,
   "metadata": {},
   "outputs": [],
   "source": []
  },
  {
   "cell_type": "code",
   "execution_count": null,
   "metadata": {},
   "outputs": [],
   "source": []
  },
  {
   "cell_type": "code",
   "execution_count": null,
   "metadata": {},
   "outputs": [],
   "source": []
  },
  {
   "cell_type": "code",
   "execution_count": null,
   "metadata": {},
   "outputs": [],
   "source": []
  },
  {
   "cell_type": "code",
   "execution_count": null,
   "metadata": {},
   "outputs": [],
   "source": []
  },
  {
   "cell_type": "code",
   "execution_count": null,
   "metadata": {},
   "outputs": [],
   "source": []
  },
  {
   "cell_type": "code",
   "execution_count": null,
   "metadata": {},
   "outputs": [],
   "source": []
  },
  {
   "cell_type": "code",
   "execution_count": null,
   "metadata": {},
   "outputs": [],
   "source": []
  },
  {
   "cell_type": "code",
   "execution_count": null,
   "metadata": {},
   "outputs": [],
   "source": []
  },
  {
   "cell_type": "code",
   "execution_count": null,
   "metadata": {},
   "outputs": [],
   "source": []
  }
 ],
 "metadata": {
  "kernelspec": {
   "display_name": "Python 3",
   "language": "python",
   "name": "python3"
  },
  "language_info": {
   "codemirror_mode": {
    "name": "ipython",
    "version": 3
   },
   "file_extension": ".py",
   "mimetype": "text/x-python",
   "name": "python",
   "nbconvert_exporter": "python",
   "pygments_lexer": "ipython3",
   "version": "3.7.9"
  }
 },
 "nbformat": 4,
 "nbformat_minor": 4
}
