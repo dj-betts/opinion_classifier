{
 "cells": [
  {
   "cell_type": "code",
   "execution_count": 1,
   "metadata": {},
   "outputs": [],
   "source": [
    "from functions import vectorize_y_ser"
   ]
  },
  {
   "cell_type": "code",
   "execution_count": 2,
   "metadata": {},
   "outputs": [],
   "source": [
    "import datetime"
   ]
  },
  {
   "cell_type": "code",
   "execution_count": 3,
   "metadata": {},
   "outputs": [],
   "source": [
    "import nltk\n",
    "import string"
   ]
  },
  {
   "cell_type": "code",
   "execution_count": 4,
   "metadata": {},
   "outputs": [],
   "source": [
    "import re"
   ]
  },
  {
   "cell_type": "code",
   "execution_count": 5,
   "metadata": {},
   "outputs": [],
   "source": [
    "import pickle"
   ]
  },
  {
   "cell_type": "code",
   "execution_count": 6,
   "metadata": {},
   "outputs": [],
   "source": [
    "import pandas as pd\n",
    "import numpy as np"
   ]
  },
  {
   "cell_type": "code",
   "execution_count": 7,
   "metadata": {},
   "outputs": [],
   "source": [
    "import matplotlib.pyplot as plt\n",
    "plt.style.use('fivethirtyeight')"
   ]
  },
  {
   "cell_type": "code",
   "execution_count": 8,
   "metadata": {},
   "outputs": [],
   "source": [
    "from sklearn.feature_extraction.text import CountVectorizer, TfidfVectorizer\n",
    "from sklearn.model_selection import train_test_split\n",
    "from sklearn.metrics import confusion_matrix, plot_confusion_matrix\n",
    "from sklearn.naive_bayes import MultinomialNB\n",
    "from sklearn.ensemble import RandomForestClassifier\n",
    "from sklearn.inspection import permutation_importance"
   ]
  },
  {
   "cell_type": "code",
   "execution_count": 9,
   "metadata": {},
   "outputs": [],
   "source": [
    "from collections import Counter"
   ]
  },
  {
   "cell_type": "code",
   "execution_count": 10,
   "metadata": {},
   "outputs": [],
   "source": [
    "from imblearn.under_sampling import RandomUnderSampler"
   ]
  },
  {
   "cell_type": "code",
   "execution_count": 11,
   "metadata": {},
   "outputs": [],
   "source": [
    "from nltk.stem.snowball import SnowballStemmer\n",
    "from nltk.stem.wordnet import WordNetLemmatizer\n",
    "from nltk.tokenize import word_tokenize\n",
    "from nltk.corpus import stopwords"
   ]
  },
  {
   "cell_type": "markdown",
   "metadata": {},
   "source": [
    "# NLP Pipeline \n",
    "\n",
    "![](images/pipeline-walkthrough1.png)\n",
    "\n",
    "Below is a to do list when converting text into vector form: \n",
    "\n",
    "**Clean text and Create a Bag of Words (BoW)**\n",
    ">1. Lowercase the text\n",
    "2. Tokenize \n",
    "3. Strip out punctuation or undesirable text\n",
    "4. Remove Stopwords \n",
    "5. Stemming or Lemmatizing\n",
    "6. Compute N-Grams\n",
    "7. Use this to create BoW\n",
    "\n",
    "**Vectorize BoW**\n",
    ">8. Term Frequencies\n",
    "9. Document Frequencies\n",
    "10. TF-IDF\n",
    "11. Normalize vectors\n",
    "\n",
    "Let's go through both what each of these steps are and how to do them in python with the following corpus of comments about data science...\n",
    " "
   ]
  },
  {
   "cell_type": "code",
   "execution_count": 12,
   "metadata": {},
   "outputs": [],
   "source": [
    "# function to vectorize the type_of_material series into a y target vector.\n",
    "def vectorize_y_ser(ser):\n",
    "    y = ser.copy()\n",
    "    y.replace({'Op-Ed': 1,'News': 0}, inplace=True)\n",
    "    return y"
   ]
  },
  {
   "cell_type": "code",
   "execution_count": 13,
   "metadata": {},
   "outputs": [],
   "source": [
    "#rate of correct predictions out of total predictions\n",
    "def metrics_(tn, fp, fn, tp):\n",
    "    accuracy = (tp + tn) / (tn + fn + tp + fp)\n",
    "    print(f'accuracy = {accuracy}')\n",
    "    recall = (tp) / (tp + fn)\n",
    "    print(f'recall = {recall}')\n",
    "    precision = (tp) / (tp + fp)\n",
    "    print(f'precision = {precision}')\n",
    "    print(f'tn:{tn} fp:{fp} fn:{fn} tp:{tp}')"
   ]
  },
  {
   "cell_type": "code",
   "execution_count": 14,
   "metadata": {},
   "outputs": [],
   "source": [
    "#function that removes string.punctuation w/out the '?'\n",
    "def punc_strip(document):\n",
    "    for char in document:\n",
    "        if char in '!\"#$%&\\'()*+—,-./:;<=>?@[\\\\]^_`{|}~”’“':\n",
    "            document = document.replace(char, \" \") \n",
    "    return document"
   ]
  },
  {
   "cell_type": "code",
   "execution_count": 15,
   "metadata": {},
   "outputs": [],
   "source": [
    "import os\n",
    "import glob\n",
    "import pandas as pd\n",
    "\n",
    "#extension = 'csv'\n",
    "#all_filenames = [i for i in glob.glob('*.{}'.format(extension))]\n",
    "df2020 = '/Users/djbetts/Desktop/opinion_classifier/data/archive/raw_2020.csv'\n",
    "df2019 = '/Users/djbetts/Desktop/opinion_classifier/data/archive/raw_2019.csv'\n",
    "\n",
    "#combine print, type, text columns in the list\n",
    "def printed(file):\n",
    "    print_cols = ['_id','print_page','pub_date','keywords','type_of_material','text']    \n",
    "    df = pd.read_csv(file, usecols=print_cols, index_col='_id', low_memory=False)\n",
    "    df = df[df.print_page.isna() == False]\n",
    "    df = df[~df.text.isna() == True]\n",
    "    return df"
   ]
  },
  {
   "cell_type": "code",
   "execution_count": 16,
   "metadata": {},
   "outputs": [],
   "source": [
    "#returns articles w/ 'United States Politics and Government' as a keyword\n",
    "def return_pol_gov(row):\n",
    "    list_dict = eval(row.keywords)\n",
    "    for (dic) in (list_dict):\n",
    "        if dic.get('value') == 'United States Politics and Government':\n",
    "            return True"
   ]
  },
  {
   "cell_type": "code",
   "execution_count": 17,
   "metadata": {},
   "outputs": [],
   "source": [
    "def filter_keyword(df, keyword='United States Politics and Government'):\n",
    "    df[keyword] = df.apply(return_pol_gov, axis=1)    \n",
    "    df = df[df[keyword] == True]\n",
    "    return df"
   ]
  },
  {
   "cell_type": "code",
   "execution_count": 18,
   "metadata": {},
   "outputs": [],
   "source": [
    "#returns shape of news and oped\n",
    "def oped_v_news(df):\n",
    "    news_df = df[df.type_of_material == \"News\"]\n",
    "    oped_df = df[df.type_of_material == \"Op-Ed\"]\n",
    "    print(f\"news shape:{news_df.shape}, oped shape:{oped_df.shape}, ratio: {oped_df.shape[0]/news_df.shape[0]}\")"
   ]
  },
  {
   "cell_type": "code",
   "execution_count": 19,
   "metadata": {},
   "outputs": [],
   "source": [
    "printed_2020 = printed(df2020)\n",
    "printed_2019 = printed(df2019)"
   ]
  },
  {
   "cell_type": "code",
   "execution_count": 20,
   "metadata": {},
   "outputs": [
    {
     "name": "stdout",
     "output_type": "stream",
     "text": [
      "(27752, 5)\n",
      "(30232, 5)\n"
     ]
    }
   ],
   "source": [
    "print(printed_2020.shape)\n",
    "print(printed_2019.shape)"
   ]
  },
  {
   "cell_type": "markdown",
   "metadata": {},
   "source": [
    "# filter keywords"
   ]
  },
  {
   "cell_type": "code",
   "execution_count": 21,
   "metadata": {},
   "outputs": [],
   "source": [
    "keyword_df2019 = filter_keyword(printed_2019)\n",
    "keyword_df2020 = filter_keyword(printed_2020)"
   ]
  },
  {
   "cell_type": "code",
   "execution_count": 22,
   "metadata": {},
   "outputs": [],
   "source": [
    "#concat df together\n",
    "df = pd.concat([keyword_df2019, keyword_df2020])"
   ]
  },
  {
   "cell_type": "code",
   "execution_count": 23,
   "metadata": {},
   "outputs": [
    {
     "name": "stdout",
     "output_type": "stream",
     "text": [
      "CPU times: user 1.22 ms, sys: 245 µs, total: 1.46 ms\n",
      "Wall time: 1.42 ms\n"
     ]
    }
   ],
   "source": [
    "%%time\n",
    "df = df.copy()"
   ]
  },
  {
   "cell_type": "code",
   "execution_count": 24,
   "metadata": {},
   "outputs": [
    {
     "data": {
      "text/plain": [
       "(8877, 6)"
      ]
     },
     "execution_count": 24,
     "metadata": {},
     "output_type": "execute_result"
    }
   ],
   "source": [
    "df.shape"
   ]
  },
  {
   "cell_type": "code",
   "execution_count": 25,
   "metadata": {},
   "outputs": [
    {
     "data": {
      "text/plain": [
       "'WASHINGTON — Federal prosecutors rebuffed a judge’s order to release by Friday highly classified transcripts of discussions that Michael T. Flynn, the president’s former national security adviser, had with the Russian ambassador during the presidential transition.The transcripts between Mr. Flynn and Sergey I. Kislyak, formerly Russia’s top diplomat in the United States, were expected to show that they talked in December 2016 about sanctions that the Obama administration had just imposed on Russia. Mr. Flynn initially denied those exchanges about sanctions both to Trump administration officials and the F.B.I. in the weeks after the discussions.The conversations prompted concerns among senior Obama administration officials about whether the Trump transition team was flouting norms about holding off on making policy until after taking office. The phone calls were also at the center of the scandal that eventually prompted Mr. Flynn’s ouster just weeks into President Trump’s term.The order last month from the judge, Emmet G. Sullivan of the Federal District Court in the District of Columbia, was unusual. The transcripts came from a secret F.B.I. wiretap of Mr. Kislyak, and their release would have provided an extraordinarily rare look at the fruits of the government’s eavesdropping. Agents routinely listen to wiretaps of foreign officials, but they remain among the government’s most closely held secrets.The calls between Mr. Flynn and Mr. Kislyak were referenced repeatedly in court documents and the special counsel’s report on Russian election interference but never released, and prosecutors have not acknowledged the existence of the wiretap. Judge Sullivan, who is overseeing Mr. Flynn’s case, ordered that audio recordings of his conversations with Mr. Kislyak be made public along with a voice mail message made by the president’s lawyer.The Justice Department’s refusal to comply with the judge’s order made clear that prosecutors had no interest in confirming the wiretap, which was approved by the secretive Foreign Intelligence Surveillance Court.“This would be a rare step to make public” such intelligence collection, said Joshua Geltzer, a former Justice Department official. “What you see in today’s filing is the government trying to avoid disclosing that material.”Instead, prosecutors asserted that they did not need to provide the transcripts because they were, in the end, not vital to the prosecution of Mr. Flynn. He pleaded guilty in December 2017 to lying to the F.B.I. after agents interviewed him about what was said on those calls.“The government further represents that it is not relying on any other recordings, of any person, for purposes of establishing the defendant’s guilt or determining his sentence, nor are there any other recordings that are part of the sentencing record,” prosecutors wrote in a court filing responding to Judge Sullivan’s order.In another filing on Friday, prosecutors did comply with Judge Sullivan’s order to make public the message that Mr. Trump’s former personal lawyer John Dowd left for Mr. Flynn’s lawyer, Robert K. Kelner. Mr. Dowd left the message after learning on Nov. 22, 2017, that Mr. Flynn had withdrawn from a joint defense agreement with the president. The contents of that voice mail were first disclosed in April in Mr. Mueller’s report.In a statement, Mr. Dowd called the special counsel’s report “a baseless, political document designed to smear and damage the reputation of counsel and innocent people.” He also said that Mr. Mueller never asked him about the voice mail “despite numerous opportunities to do so.”Mr. Flynn’s calls with Mr. Kislyak took place after the Obama administration had imposed sanctions on Moscow for interfering in the 2016 presidential election. The sanctions alarmed Trump transition officials, who were hoping to improve relations with the Russian government.Mr. Flynn had asked Mr. Kislyak that Russia refrain from escalating tensions in response to the Obama administration’s sanctions on Moscow for interfering in the 2016 election.When questioned by the F.B.I. on Jan. 24, 2017, Mr. Flynn told agents that he had not made that request. He also lied about discussing Russia’s vote on an impending United Nations resolution to condemn Israeli settlements in the West Bank. He has since admitted that he asked that Russia either delay or oppose the resolution.“F.B.I. agents gave the defendant multiple opportunities to correct his false statements by revisiting key questions,” prosecutors wrote in a sentencing memo in December. “When the defendant said he did not remember something they knew he said, they used the exact words the defendant had used in order to prompt a truthful response.”In early February 2017, White House officials reviewed for about an hour the transcripts of calls between Mr. Flynn and Mr. Kislyak, according to a confidential memo by White House lawyers that detailed how some of Mr. Trump’s advisers confronted the situation surrounding Mr. Flynn. Vice President Mike Pence reviewed at least some portions of the transcripts, according to the memo.Mr. Trump fired Mr. Flynn that month after administration officials concluded based on their review of the transcripts that he had been untruthful to Mr. Pence and other officials about the substance of his talks with Mr. Kislyak.Mr. Flynn’s supporters and the White House have tried to play down his actions, suggesting that investigators entrapped him or that his body language during the interview with agents showed he was not lying.Judge Sullivan rebuked Mr. Flynn for his conduct and raised concerns that Mr. Flynn’s lawyers were suggesting in presentencing memos that the F.B.I. agents who questioned him may have tricked him by failing to warn that lying to investigators was a crime.“This sounds like a backpedaling on the acceptance of responsibility,” Judge Sullivan said during Mr. Flynn’s sentencing hearing in December. The judge delayed the proceeding to give Mr. Flynn time to complete his cooperation with investigators in other federal cases.The judge said during that hearing that he found no fault with the conduct of the F.B.I. or prosecutors, and Mr. Flynn admitted that he knew at the time that agents questioned him that lying to the F.B.I. is a crime, and he once again acknowledged his guilt. Mr. Flynn also declined to challenge the circumstances surrounding the F.B.I. interview.'"
      ]
     },
     "execution_count": 25,
     "metadata": {},
     "output_type": "execute_result"
    }
   ],
   "source": [
    "df.text.iloc[0]"
   ]
  },
  {
   "cell_type": "code",
   "execution_count": 70,
   "metadata": {},
   "outputs": [
    {
     "data": {
      "text/plain": [
       "print_page                                                                            22.0\n",
       "keywords                                 [{'name': 'persons', 'value': 'Flynn, Michael ...\n",
       "pub_date                                                          2019-06-01T00:32:33+0000\n",
       "type_of_material                                                                      News\n",
       "text                                     WASHINGTON — Federal prosecutors rebuffed a ju...\n",
       "United States Politics and Government                                                 True\n",
       "Name: nyt://article/0ae91997-445f-5dd6-89a6-ea3cf6a550a6, dtype: object"
      ]
     },
     "execution_count": 70,
     "metadata": {},
     "output_type": "execute_result"
    }
   ],
   "source": [
    "last_check_before_split = (df.iloc[0])\n",
    "last_check_before_split"
   ]
  },
  {
   "cell_type": "code",
   "execution_count": 28,
   "metadata": {},
   "outputs": [
    {
     "data": {
      "text/plain": [
       "(8877, 6)"
      ]
     },
     "execution_count": 28,
     "metadata": {},
     "output_type": "execute_result"
    }
   ],
   "source": [
    "df.shape"
   ]
  },
  {
   "cell_type": "markdown",
   "metadata": {},
   "source": [
    "# X, y"
   ]
  },
  {
   "cell_type": "code",
   "execution_count": 29,
   "metadata": {},
   "outputs": [],
   "source": [
    "#define X. X is currently pandas series of unsplit strings\n",
    "X = df.text"
   ]
  },
  {
   "cell_type": "code",
   "execution_count": 30,
   "metadata": {},
   "outputs": [],
   "source": [
    "#turn series into list...\n",
    "corpus = list(X)"
   ]
  },
  {
   "cell_type": "code",
   "execution_count": 31,
   "metadata": {},
   "outputs": [],
   "source": [
    "# define y as a series of op-ed or news\n",
    "y = df.type_of_material"
   ]
  },
  {
   "cell_type": "code",
   "execution_count": 32,
   "metadata": {},
   "outputs": [
    {
     "data": {
      "text/plain": [
       "_id\n",
       "nyt://article/0ae91997-445f-5dd6-89a6-ea3cf6a550a6    0\n",
       "nyt://article/033c09be-8081-5ab2-bc5c-8120ee1da253    1\n",
       "nyt://article/85ca7462-2ada-5c4c-9c4f-e08c833d89d3    0\n",
       "nyt://article/cebe94a7-f72a-5534-883d-a6a6669ff987    0\n",
       "nyt://article/26f83d11-c666-5dd7-bb01-c79245874a41    0\n",
       "                                                     ..\n",
       "nyt://article/2bfafff5-96ce-5dba-acf8-e2d5f8eab27e    1\n",
       "nyt://article/7254685b-f45b-5165-a4a0-8aeab43d9841    0\n",
       "nyt://article/78e5cf9b-da8f-5fe1-8b69-4f91d4c5e174    0\n",
       "nyt://article/12aacb9c-8972-5cce-add8-c8c0cebe74e0    0\n",
       "nyt://article/34f9a992-f1c9-53f7-ad81-67d9f064908e    0\n",
       "Name: type_of_material, Length: 8877, dtype: int64"
      ]
     },
     "execution_count": 32,
     "metadata": {},
     "output_type": "execute_result"
    }
   ],
   "source": [
    "vectorize_y_ser(y)"
   ]
  },
  {
   "cell_type": "code",
   "execution_count": 33,
   "metadata": {},
   "outputs": [
    {
     "name": "stdout",
     "output_type": "stream",
     "text": [
      "CPU times: user 3.87 ms, sys: 771 µs, total: 4.64 ms\n",
      "Wall time: 4.26 ms\n"
     ]
    }
   ],
   "source": [
    "%%time\n",
    "# vectorize y in to (1, 0) (op-ed, news)\n",
    "y = vectorize_y_ser(y)"
   ]
  },
  {
   "cell_type": "code",
   "execution_count": 34,
   "metadata": {},
   "outputs": [
    {
     "data": {
      "text/plain": [
       "0    7357\n",
       "1    1520\n",
       "Name: type_of_material, dtype: int64"
      ]
     },
     "execution_count": 34,
     "metadata": {},
     "output_type": "execute_result"
    }
   ],
   "source": [
    "y.value_counts()"
   ]
  },
  {
   "cell_type": "code",
   "execution_count": 35,
   "metadata": {},
   "outputs": [
    {
     "data": {
      "text/plain": [
       "(8877,)"
      ]
     },
     "execution_count": 35,
     "metadata": {},
     "output_type": "execute_result"
    }
   ],
   "source": [
    "y.shape"
   ]
  },
  {
   "cell_type": "markdown",
   "metadata": {},
   "source": [
    "# remove stop words"
   ]
  },
  {
   "cell_type": "markdown",
   "metadata": {},
   "source": [
    "# stemming/lemmatization"
   ]
  },
  {
   "cell_type": "code",
   "execution_count": 36,
   "metadata": {},
   "outputs": [],
   "source": [
    "snowball = SnowballStemmer('english')\n",
    "wordnet = WordNetLemmatizer()"
   ]
  },
  {
   "cell_type": "code",
   "execution_count": 37,
   "metadata": {},
   "outputs": [
    {
     "name": "stdout",
     "output_type": "stream",
     "text": [
      "CPU times: user 1e+03 ns, sys: 1e+03 ns, total: 2 µs\n",
      "Wall time: 4.05 µs\n"
     ]
    }
   ],
   "source": [
    "%%time\n",
    "def snowball_tokenize(doc):\n",
    "    snowball = SnowballStemmer('english')\n",
    "    return [snowball.stem(word) for word in word_tokenize(doc.lower())]"
   ]
  },
  {
   "cell_type": "code",
   "execution_count": 38,
   "metadata": {},
   "outputs": [
    {
     "name": "stdout",
     "output_type": "stream",
     "text": [
      "CPU times: user 2 µs, sys: 0 ns, total: 2 µs\n",
      "Wall time: 4.77 µs\n"
     ]
    }
   ],
   "source": [
    "%%time\n",
    "def wordnet_tokenize(doc):\n",
    "    wordnet = WordNetLemmatizer()\n",
    "    return  [wordnet.lemmatize(word) for word in word_tokenize(doc.lower())]"
   ]
  },
  {
   "cell_type": "markdown",
   "metadata": {},
   "source": [
    "# vectorizer"
   ]
  },
  {
   "cell_type": "markdown",
   "metadata": {},
   "source": [
    "# SNOWBALL tfidf"
   ]
  },
  {
   "cell_type": "code",
   "execution_count": 39,
   "metadata": {},
   "outputs": [],
   "source": [
    "# %%time\n",
    "# #create vectorizer\n",
    "\n",
    "# snow_vectorizer = TfidfVectorizer(#input='content', \n",
    "# #                 encoding='utf-8', \n",
    "# #                 decode_error='strict', \n",
    "#                  strip_accents='ascii', \n",
    "#                  lowercase=True, \n",
    "# #                 preprocessor=None, \n",
    "#                  tokenizer=snowball_tokenize, \n",
    "# #                 analyzer='word', \n",
    "#                  stop_words='english', \n",
    "# #                 token_pattern='(?u)\\b\\w\\w+\\b', \n",
    "# #                 ngram_range=(1, 1), \n",
    "#                  max_df=0.90, \n",
    "#                  min_df=0.10, \n",
    "#                  max_features=None, \n",
    "# #                 vocabulary=None, \n",
    "# #                 binary=False, \n",
    "# #                 dtype=<class 'numpy.float64'>, \n",
    "# #                 norm='l2', \n",
    "# #                 use_idf=True, \n",
    "# #                 smooth_idf=True, \n",
    "# #                 sublinear_tf=False\n",
    "# )"
   ]
  },
  {
   "cell_type": "markdown",
   "metadata": {},
   "source": [
    "<!-- /Users/djbetts/opt/anaconda3/lib/python3.7/site-packages/sklearn/feature_extraction/text.py:386: UserWarning: Your stop_words may be inconsistent with your preprocessing. Tokenizing the stop words generated tokens ['abov', 'afterward', 'alon', 'alreadi', 'alway', 'ani', 'anoth', 'anyon', 'anyth', 'anywher', 'becam', 'becaus', 'becom', 'befor', 'besid', 'cri', 'describ', 'dure', 'els', 'elsewher', 'empti', 'everi', 'everyon', 'everyth', 'everywher', 'fifti', 'forti', 'henc', 'hereaft', 'herebi', 'howev', 'hundr', 'inde', 'mani', 'meanwhil', 'moreov', 'nobodi', 'noon', 'noth', 'nowher', 'onc', 'onli', 'otherwis', 'ourselv', 'perhap', 'pleas', 'sever', 'sinc', 'sincer', 'sixti', 'someon', 'someth', 'sometim', 'somewher', 'themselv', 'thenc', 'thereaft', 'therebi', 'therefor', 'togeth', 'twelv', 'twenti', 'veri', 'whatev', 'whenc', 'whenev', 'wherea', 'whereaft', 'wherebi', 'wherev', 'whi', 'yourselv'] not in stop_words.\n",
    "  'stop_words.' % sorted(inconsistent)) -->"
   ]
  },
  {
   "cell_type": "markdown",
   "metadata": {},
   "source": [
    "# WORDNET tfidf"
   ]
  },
  {
   "cell_type": "code",
   "execution_count": 40,
   "metadata": {},
   "outputs": [],
   "source": [
    "#function that removes string.punctuation w/out the '?'\n",
    "def punc_strip(document):\n",
    "    for char in document:\n",
    "        if char in '!\"#$%&\\'()*+—,-./:;<=>?@[\\\\]^_`{|}~”’':\n",
    "            document = document.replace(char, \" \")\n",
    "            \n",
    "    return document"
   ]
  },
  {
   "cell_type": "code",
   "execution_count": 41,
   "metadata": {},
   "outputs": [],
   "source": [
    "stop_words = ['said','a','b','c','d', 'e', 'f', 'g', 'h', 'i', 'j', 'k', 'l', 'm', 'n', 'o', 'p', 'q', 'r', 's', 't', 'u', 'v', 'w', 'x', 'y', 'z', 'mr','ms']\n"
   ]
  },
  {
   "cell_type": "code",
   "execution_count": 42,
   "metadata": {},
   "outputs": [
    {
     "name": "stdout",
     "output_type": "stream",
     "text": [
      "CPU times: user 40 µs, sys: 1e+03 ns, total: 41 µs\n",
      "Wall time: 44.1 µs\n"
     ]
    }
   ],
   "source": [
    "%%time\n",
    "#create vectorizer\n",
    "\n",
    "wordnet_vectorizer = TfidfVectorizer(#input='content', \n",
    "#                 encoding='utf-8', \n",
    "#                 decode_error='strict', \n",
    "#                 strip_accents='ascii', \n",
    "                 lowercase=True, \n",
    "                 preprocessor=punc_strip, \n",
    "                 tokenizer=wordnet_tokenize, \n",
    "#                 analyzer='word', \n",
    "#                 stop_words=stop_words, \n",
    "#                 token_pattern='(?u)\\b\\w\\w+\\b', \n",
    "                 ngram_range=(1, 1), \n",
    "                 max_df=0.9, \n",
    "                 min_df=0.1, \n",
    "                 max_features=None, \n",
    "#                 vocabulary=None, \n",
    "#                 binary=False, \n",
    "#                 dtype=<class 'numpy.float64'>, \n",
    "#                 norm='l2', \n",
    "#                 use_idf=True, \n",
    "#                 smooth_idf=True, \n",
    "#                 sublinear_tf=False\n",
    ")"
   ]
  },
  {
   "cell_type": "markdown",
   "metadata": {},
   "source": [
    "# test, train, split"
   ]
  },
  {
   "cell_type": "code",
   "execution_count": 43,
   "metadata": {},
   "outputs": [],
   "source": [
    "#test, train, split "
   ]
  },
  {
   "cell_type": "code",
   "execution_count": 44,
   "metadata": {},
   "outputs": [
    {
     "name": "stdout",
     "output_type": "stream",
     "text": [
      "(6657,) (2220,) (6657,) (2220,)\n",
      "CPU times: user 6.76 ms, sys: 1.54 ms, total: 8.3 ms\n",
      "Wall time: 7.23 ms\n"
     ]
    }
   ],
   "source": [
    "%%time\n",
    "#test, train, split\n",
    "X_train, X_test, y_train, y_test = train_test_split(X, y, random_state=50)\n",
    "print(X_train.shape, X_test.shape, y_train.shape, y_test.shape)"
   ]
  },
  {
   "cell_type": "code",
   "execution_count": 45,
   "metadata": {},
   "outputs": [
    {
     "name": "stdout",
     "output_type": "stream",
     "text": [
      "2021-01-07 12:16:17.618631\n",
      "CPU times: user 1min 4s, sys: 700 ms, total: 1min 5s\n",
      "Wall time: 1min 5s\n"
     ]
    }
   ],
   "source": [
    "%%time\n",
    "print(datetime.datetime.now())\n",
    "X_train =  wordnet_vectorizer.fit_transform(X_train)"
   ]
  },
  {
   "cell_type": "code",
   "execution_count": 46,
   "metadata": {},
   "outputs": [
    {
     "name": "stdout",
     "output_type": "stream",
     "text": [
      "2021-01-07 12:17:23.401133\n",
      "CPU times: user 20.6 s, sys: 211 ms, total: 20.8 s\n",
      "Wall time: 21 s\n"
     ]
    }
   ],
   "source": [
    "%%time\n",
    "print(datetime.datetime.now())\n",
    "X_test = wordnet_vectorizer.transform(X_test)"
   ]
  },
  {
   "cell_type": "code",
   "execution_count": 47,
   "metadata": {},
   "outputs": [],
   "source": [
    "vocab = wordnet_vectorizer.vocabulary_"
   ]
  },
  {
   "cell_type": "code",
   "execution_count": 48,
   "metadata": {},
   "outputs": [
    {
     "data": {
      "text/plain": [
       "1053"
      ]
     },
     "execution_count": 48,
     "metadata": {},
     "output_type": "execute_result"
    }
   ],
   "source": [
    "len(vocab)"
   ]
  },
  {
   "cell_type": "code",
   "execution_count": 49,
   "metadata": {},
   "outputs": [
    {
     "data": {
      "text/plain": [
       "(6657, 1053)"
      ]
     },
     "execution_count": 49,
     "metadata": {},
     "output_type": "execute_result"
    }
   ],
   "source": [
    "X_train.shape"
   ]
  },
  {
   "cell_type": "code",
   "execution_count": 50,
   "metadata": {},
   "outputs": [
    {
     "data": {
      "text/plain": [
       "(2220, 1053)"
      ]
     },
     "execution_count": 50,
     "metadata": {},
     "output_type": "execute_result"
    }
   ],
   "source": [
    "X_test.shape"
   ]
  },
  {
   "cell_type": "markdown",
   "metadata": {},
   "source": [
    "# count vectorizer"
   ]
  },
  {
   "cell_type": "code",
   "execution_count": 51,
   "metadata": {},
   "outputs": [],
   "source": [
    "# count_vectorizer = CountVectorizer(strip_accents='None',\n",
    "#                                    lowercase=True,\n",
    "#                                    tokenizer=snowball_tokenize,\n",
    "#                                    stop_words='english',\n",
    "#                                    max_features=None)"
   ]
  },
  {
   "cell_type": "markdown",
   "metadata": {},
   "source": [
    "# balance classes"
   ]
  },
  {
   "cell_type": "code",
   "execution_count": 52,
   "metadata": {},
   "outputs": [
    {
     "name": "stdout",
     "output_type": "stream",
     "text": [
      "[(0, 1136), (1, 1136)]\n",
      "RandomUnderSampler(random_state=0)\n",
      "CPU times: user 7.92 ms, sys: 1.71 ms, total: 9.63 ms\n",
      "Wall time: 8.82 ms\n"
     ]
    }
   ],
   "source": [
    "%%time\n",
    "#balance the classes\n",
    "\n",
    "from imblearn.under_sampling import RandomUnderSampler\n",
    "rus = RandomUnderSampler(random_state=0)\n",
    "\n",
    "#X, y --> X_resampled, y_resampled\n",
    "X_resampled, y_resampled = rus.fit_resample(X_train, y_train)\n",
    "print(sorted(Counter(y_resampled).items()))\n",
    "print(rus)"
   ]
  },
  {
   "cell_type": "markdown",
   "metadata": {},
   "source": [
    "# random forest classifier"
   ]
  },
  {
   "cell_type": "code",
   "execution_count": 53,
   "metadata": {},
   "outputs": [
    {
     "name": "stdout",
     "output_type": "stream",
     "text": [
      "2021-01-07 12:17:44.432521\n",
      "CPU times: user 306 µs, sys: 85 µs, total: 391 µs\n",
      "Wall time: 395 µs\n"
     ]
    }
   ],
   "source": [
    "%%time\n",
    "print(datetime.datetime.now())\n",
    "rf_clf = RandomForestClassifier(max_depth=2, random_state=0)\n"
   ]
  },
  {
   "cell_type": "code",
   "execution_count": 54,
   "metadata": {},
   "outputs": [
    {
     "data": {
      "text/plain": [
       "(2220,)"
      ]
     },
     "execution_count": 54,
     "metadata": {},
     "output_type": "execute_result"
    }
   ],
   "source": [
    "rf_clf.fit(X_resampled, y_resampled)\n",
    "y_pred = rf_clf.predict(X_test)\n",
    "y_pred.shape"
   ]
  },
  {
   "cell_type": "markdown",
   "metadata": {},
   "source": [
    "### metrics y_pred"
   ]
  },
  {
   "cell_type": "code",
   "execution_count": 55,
   "metadata": {},
   "outputs": [],
   "source": [
    "tn, fp, fn, tp = confusion_matrix(y_true = y_test, y_pred = y_pred).ravel()"
   ]
  },
  {
   "cell_type": "code",
   "execution_count": 56,
   "metadata": {},
   "outputs": [
    {
     "name": "stdout",
     "output_type": "stream",
     "text": [
      "(2220,)\n",
      "(2220,)\n"
     ]
    }
   ],
   "source": [
    "print(y_test.shape)\n",
    "print(y_pred.shape)"
   ]
  },
  {
   "cell_type": "code",
   "execution_count": 57,
   "metadata": {},
   "outputs": [
    {
     "name": "stdout",
     "output_type": "stream",
     "text": [
      "accuracy = 0.9162162162162162\n",
      "recall = 0.9036458333333334\n",
      "precision = 0.6995967741935484\n",
      "tn:1687 fp:149 fn:37 tp:347\n"
     ]
    }
   ],
   "source": [
    "metrics_(tn, fp, fn, tp)"
   ]
  },
  {
   "cell_type": "code",
   "execution_count": 58,
   "metadata": {},
   "outputs": [
    {
     "data": {
      "image/png": "[encoded data removed]",
      "text/plain": [
       "<Figure size 432x288 with 2 Axes>"
      ]
     },
     "metadata": {},
     "output_type": "display_data"
    }
   ],
   "source": [
    "class_names = [\"News\", \"Op-Ed\"]\n",
    "plot_confusion_matrix(estimator=rf_clf,\n",
    "                      X=X_test,\n",
    "                      y_true=y_test,\n",
    "                      display_labels=class_names,\n",
    "                     cmap='cividis')\n",
    "\n",
    "plt.savefig('../img/confusion_matrix.png');"
   ]
  },
  {
   "cell_type": "markdown",
   "metadata": {},
   "source": [
    "# important features"
   ]
  },
  {
   "cell_type": "markdown",
   "metadata": {},
   "source": [
    "### feature imporance"
   ]
  },
  {
   "cell_type": "code",
   "execution_count": 59,
   "metadata": {},
   "outputs": [
    {
     "name": "stdout",
     "output_type": "stream",
     "text": [
      "2021-01-07 12:17:45.281148\n",
      "CPU times: user 368 ms, sys: 14.8 ms, total: 383 ms\n",
      "Wall time: 389 ms\n"
     ]
    },
    {
     "data": {
      "image/png": "[encoded data removed]",
      "text/plain": [
       "<Figure size 1440x1080 with 1 Axes>"
      ]
     },
     "metadata": {},
     "output_type": "display_data"
    }
   ],
   "source": [
    "%%time\n",
    "print(datetime.datetime.now())\n",
    "\n",
    "feat_names = wordnet_vectorizer.get_feature_names()\n",
    "feature_import = rf_clf.feature_importances_\n",
    "\n",
    "feat_scores = pd.Series(feature_import,\n",
    "                           index=feat_names)\n",
    "feat_scores = feat_scores.sort_values()\n",
    "ax = feat_scores[-20:].plot(kind='barh', figsize=(20,15))\n",
    "ax.set_title('\"Decrease in Impurity\" Importance')\n",
    "ax.set_xlabel('Average contribution to the reduction in variance')\n",
    "plt.savefig('../img/feature_imporance.png');"
   ]
  },
  {
   "cell_type": "markdown",
   "metadata": {},
   "source": [
    "### permutation importance"
   ]
  },
  {
   "cell_type": "code",
   "execution_count": 60,
   "metadata": {},
   "outputs": [],
   "source": [
    "# %%time\n",
    "# print(datetime.datetime.now())\n",
    "# r = permutation_importance(rf_clf, X_test.toarray(), y_test, n_repeats=30, random_state=0)\n",
    "# for i in r.importances_mean.argsort()[::-1]:\n",
    "#     if r.importances_mean[i] - 2 * r.importances_std[i] > 0:\n",
    "#         print(f\"{feat_names[i]:<8}\"\n",
    "#               f\"{r.importances_mean[i]:.3f}\"\n",
    "#               f\" +/- {r.importances_std[i]:.3f}\")"
   ]
  },
  {
   "cell_type": "code",
   "execution_count": 61,
   "metadata": {},
   "outputs": [
    {
     "data": {
      "text/plain": [
       "1053"
      ]
     },
     "execution_count": 61,
     "metadata": {},
     "output_type": "execute_result"
    }
   ],
   "source": [
    "len(feat_names)"
   ]
  },
  {
   "cell_type": "code",
   "execution_count": 62,
   "metadata": {},
   "outputs": [
    {
     "data": {
      "text/plain": [
       "['000',\n",
       " '1',\n",
       " '10',\n",
       " '100',\n",
       " '11',\n",
       " '12',\n",
       " '15',\n",
       " '19',\n",
       " '2',\n",
       " '20',\n",
       " '2016',\n",
       " '2017',\n",
       " '2018',\n",
       " '2019',\n",
       " '2020',\n",
       " '25',\n",
       " '3',\n",
       " '30',\n",
       " '4',\n",
       " '40',\n",
       " '5',\n",
       " '50',\n",
       " '6',\n",
       " '7',\n",
       " '8',\n",
       " 'ability',\n",
       " 'able',\n",
       " 'access',\n",
       " 'according',\n",
       " 'account',\n",
       " 'accused',\n",
       " 'acknowledged',\n",
       " 'across',\n",
       " 'act',\n",
       " 'acting',\n",
       " 'action',\n",
       " 'activist',\n",
       " 'activity',\n",
       " 'actually',\n",
       " 'added',\n",
       " 'adding',\n",
       " 'additional',\n",
       " 'address',\n",
       " 'administration',\n",
       " 'advantage',\n",
       " 'adviser',\n",
       " 'affair',\n",
       " 'after',\n",
       " 'again',\n",
       " 'against',\n",
       " 'agency',\n",
       " 'agenda',\n",
       " 'ago',\n",
       " 'agree',\n",
       " 'agreed',\n",
       " 'agreement',\n",
       " 'ahead',\n",
       " 'aid',\n",
       " 'aide',\n",
       " 'air',\n",
       " 'all',\n",
       " 'allow',\n",
       " 'allowed',\n",
       " 'ally',\n",
       " 'almost',\n",
       " 'alone',\n",
       " 'along',\n",
       " 'already',\n",
       " 'also',\n",
       " 'although',\n",
       " 'always',\n",
       " 'am',\n",
       " 'america',\n",
       " 'american',\n",
       " 'amid',\n",
       " 'among',\n",
       " 'amount',\n",
       " 'announced',\n",
       " 'another',\n",
       " 'answer',\n",
       " 'anti',\n",
       " 'any',\n",
       " 'anyone',\n",
       " 'anything',\n",
       " 'appeal',\n",
       " 'appear',\n",
       " 'appearance',\n",
       " 'appeared',\n",
       " 'appears',\n",
       " 'approach',\n",
       " 'approval',\n",
       " 'april',\n",
       " 'area',\n",
       " 'argued',\n",
       " 'argument',\n",
       " 'around',\n",
       " 'article',\n",
       " 'ask',\n",
       " 'asked',\n",
       " 'asking',\n",
       " 'attack',\n",
       " 'attempt',\n",
       " 'attention',\n",
       " 'attorney',\n",
       " 'authority',\n",
       " 'available',\n",
       " 'avoid',\n",
       " 'away',\n",
       " 'b',\n",
       " 'back',\n",
       " 'bad',\n",
       " 'ballot',\n",
       " 'bank',\n",
       " 'barack',\n",
       " 'base',\n",
       " 'based',\n",
       " 'battle',\n",
       " 'became',\n",
       " 'because',\n",
       " 'become',\n",
       " 'been',\n",
       " 'before',\n",
       " 'began',\n",
       " 'begin',\n",
       " 'beginning',\n",
       " 'behind',\n",
       " 'being',\n",
       " 'belief',\n",
       " 'believe',\n",
       " 'believed',\n",
       " 'benefit',\n",
       " 'bernie',\n",
       " 'best',\n",
       " 'better',\n",
       " 'between',\n",
       " 'beyond',\n",
       " 'biden',\n",
       " 'big',\n",
       " 'biggest',\n",
       " 'bill',\n",
       " 'billion',\n",
       " 'bipartisan',\n",
       " 'black',\n",
       " 'block',\n",
       " 'board',\n",
       " 'book',\n",
       " 'border',\n",
       " 'both',\n",
       " 'break',\n",
       " 'bring',\n",
       " 'broad',\n",
       " 'brought',\n",
       " 'budget',\n",
       " 'build',\n",
       " 'building',\n",
       " 'bush',\n",
       " 'business',\n",
       " 'c',\n",
       " 'california',\n",
       " 'call',\n",
       " 'called',\n",
       " 'calling',\n",
       " 'came',\n",
       " 'campaign',\n",
       " 'can',\n",
       " 'candidate',\n",
       " 'capitol',\n",
       " 'care',\n",
       " 'career',\n",
       " 'carolina',\n",
       " 'case',\n",
       " 'cast',\n",
       " 'cause',\n",
       " 'center',\n",
       " 'central',\n",
       " 'certain',\n",
       " 'certainly',\n",
       " 'chairman',\n",
       " 'challenge',\n",
       " 'chance',\n",
       " 'change',\n",
       " 'changed',\n",
       " 'charge',\n",
       " 'check',\n",
       " 'chief',\n",
       " 'child',\n",
       " 'china',\n",
       " 'choice',\n",
       " 'citizen',\n",
       " 'city',\n",
       " 'civil',\n",
       " 'claim',\n",
       " 'claimed',\n",
       " 'class',\n",
       " 'clear',\n",
       " 'clinton',\n",
       " 'close',\n",
       " 'closed',\n",
       " 'colleague',\n",
       " 'college',\n",
       " 'come',\n",
       " 'coming',\n",
       " 'comment',\n",
       " 'committee',\n",
       " 'communication',\n",
       " 'community',\n",
       " 'company',\n",
       " 'concern',\n",
       " 'concerned',\n",
       " 'condition',\n",
       " 'conduct',\n",
       " 'conference',\n",
       " 'confirmed',\n",
       " 'congress',\n",
       " 'congressional',\n",
       " 'conservative',\n",
       " 'consider',\n",
       " 'considered',\n",
       " 'continue',\n",
       " 'continued',\n",
       " 'control',\n",
       " 'conversation',\n",
       " 'coronavirus',\n",
       " 'cost',\n",
       " 'could',\n",
       " 'council',\n",
       " 'counsel',\n",
       " 'country',\n",
       " 'county',\n",
       " 'course',\n",
       " 'court',\n",
       " 'cover',\n",
       " 'create',\n",
       " 'created',\n",
       " 'crime',\n",
       " 'criminal',\n",
       " 'crisis',\n",
       " 'critic',\n",
       " 'critical',\n",
       " 'criticism',\n",
       " 'criticized',\n",
       " 'current',\n",
       " 'cut',\n",
       " 'd',\n",
       " 'damage',\n",
       " 'data',\n",
       " 'david',\n",
       " 'day',\n",
       " 'deal',\n",
       " 'death',\n",
       " 'debate',\n",
       " 'decade',\n",
       " 'decided',\n",
       " 'decision',\n",
       " 'declared',\n",
       " 'declined',\n",
       " 'deep',\n",
       " 'defense',\n",
       " 'demand',\n",
       " 'democracy',\n",
       " 'democrat',\n",
       " 'democratic',\n",
       " 'denied',\n",
       " 'department',\n",
       " 'deputy',\n",
       " 'described',\n",
       " 'despite',\n",
       " 'detail',\n",
       " 'development',\n",
       " 'did',\n",
       " 'didn',\n",
       " 'difference',\n",
       " 'different',\n",
       " 'difficult',\n",
       " 'direct',\n",
       " 'directly',\n",
       " 'director',\n",
       " 'discus',\n",
       " 'discussion',\n",
       " 'district',\n",
       " 'do',\n",
       " 'document',\n",
       " 'doe',\n",
       " 'doesn',\n",
       " 'doing',\n",
       " 'dollar',\n",
       " 'don',\n",
       " 'donald',\n",
       " 'done',\n",
       " 'door',\n",
       " 'doubt',\n",
       " 'down',\n",
       " 'dozen',\n",
       " 'drug',\n",
       " 'during',\n",
       " 'e',\n",
       " 'each',\n",
       " 'earlier',\n",
       " 'early',\n",
       " 'economic',\n",
       " 'economy',\n",
       " 'effect',\n",
       " 'effectively',\n",
       " 'effort',\n",
       " 'eight',\n",
       " 'either',\n",
       " 'elected',\n",
       " 'election',\n",
       " 'elizabeth',\n",
       " 'else',\n",
       " 'email',\n",
       " 'emergency',\n",
       " 'employee',\n",
       " 'end',\n",
       " 'energy',\n",
       " 'enforcement',\n",
       " 'enough',\n",
       " 'ensure',\n",
       " 'entire',\n",
       " 'era',\n",
       " 'especially',\n",
       " 'even',\n",
       " 'event',\n",
       " 'ever',\n",
       " 'every',\n",
       " 'everyone',\n",
       " 'everything',\n",
       " 'evidence',\n",
       " 'example',\n",
       " 'executive',\n",
       " 'expected',\n",
       " 'experience',\n",
       " 'expert',\n",
       " 'expressed',\n",
       " 'f',\n",
       " 'face',\n",
       " 'faced',\n",
       " 'facing',\n",
       " 'fact',\n",
       " 'failed',\n",
       " 'fall',\n",
       " 'false',\n",
       " 'familiar',\n",
       " 'family',\n",
       " 'far',\n",
       " 'favor',\n",
       " 'fear',\n",
       " 'federal',\n",
       " 'feel',\n",
       " 'fellow',\n",
       " 'felt',\n",
       " 'few',\n",
       " 'fight',\n",
       " 'figure',\n",
       " 'final',\n",
       " 'financial',\n",
       " 'find',\n",
       " 'finding',\n",
       " 'fire',\n",
       " 'firm',\n",
       " 'first',\n",
       " 'five',\n",
       " 'florida',\n",
       " 'focus',\n",
       " 'focused',\n",
       " 'follow',\n",
       " 'followed',\n",
       " 'following',\n",
       " 'force',\n",
       " 'forced',\n",
       " 'foreign',\n",
       " 'form',\n",
       " 'former',\n",
       " 'forward',\n",
       " 'found',\n",
       " 'four',\n",
       " 'fox',\n",
       " 'free',\n",
       " 'friday',\n",
       " 'friend',\n",
       " 'front',\n",
       " 'full',\n",
       " 'fund',\n",
       " 'funding',\n",
       " 'further',\n",
       " 'future',\n",
       " 'g',\n",
       " 'gain',\n",
       " 'gave',\n",
       " 'general',\n",
       " 'george',\n",
       " 'get',\n",
       " 'getting',\n",
       " 'give',\n",
       " 'given',\n",
       " 'giving',\n",
       " 'global',\n",
       " 'go',\n",
       " 'goal',\n",
       " 'going',\n",
       " 'gone',\n",
       " 'good',\n",
       " 'got',\n",
       " 'government',\n",
       " 'governor',\n",
       " 'great',\n",
       " 'ground',\n",
       " 'group',\n",
       " 'growing',\n",
       " 'h',\n",
       " 'had',\n",
       " 'half',\n",
       " 'hand',\n",
       " 'happen',\n",
       " 'happened',\n",
       " 'hard',\n",
       " 'having',\n",
       " 'head',\n",
       " 'health',\n",
       " 'hear',\n",
       " 'heard',\n",
       " 'hearing',\n",
       " 'held',\n",
       " 'help',\n",
       " 'helped',\n",
       " 'her',\n",
       " 'here',\n",
       " 'high',\n",
       " 'higher',\n",
       " 'hill',\n",
       " 'hillary',\n",
       " 'him',\n",
       " 'himself',\n",
       " 'his',\n",
       " 'history',\n",
       " 'hit',\n",
       " 'hold',\n",
       " 'holding',\n",
       " 'home',\n",
       " 'hope',\n",
       " 'hour',\n",
       " 'house',\n",
       " 'how',\n",
       " 'however',\n",
       " 'human',\n",
       " 'hundred',\n",
       " 'i',\n",
       " 'idea',\n",
       " 'if',\n",
       " 'immediately',\n",
       " 'immigrant',\n",
       " 'immigration',\n",
       " 'impact',\n",
       " 'impeachment',\n",
       " 'important',\n",
       " 'include',\n",
       " 'included',\n",
       " 'includes',\n",
       " 'including',\n",
       " 'increase',\n",
       " 'increasingly',\n",
       " 'independent',\n",
       " 'individual',\n",
       " 'industry',\n",
       " 'influence',\n",
       " 'information',\n",
       " 'inquiry',\n",
       " 'inside',\n",
       " 'insisted',\n",
       " 'instead',\n",
       " 'institute',\n",
       " 'institution',\n",
       " 'intelligence',\n",
       " 'intended',\n",
       " 'interest',\n",
       " 'international',\n",
       " 'interview',\n",
       " 'into',\n",
       " 'investigation',\n",
       " 'involved',\n",
       " 'isn',\n",
       " 'issue',\n",
       " 'issued',\n",
       " 'itself',\n",
       " 'j',\n",
       " 'james',\n",
       " 'january',\n",
       " 'job',\n",
       " 'joe',\n",
       " 'john',\n",
       " 'joined',\n",
       " 'joseph',\n",
       " 'jr',\n",
       " 'judge',\n",
       " 'july',\n",
       " 'june',\n",
       " 'just',\n",
       " 'justice',\n",
       " 'keep',\n",
       " 'key',\n",
       " 'kind',\n",
       " 'knew',\n",
       " 'know',\n",
       " 'known',\n",
       " 'l',\n",
       " 'lack',\n",
       " 'large',\n",
       " 'largely',\n",
       " 'largest',\n",
       " 'last',\n",
       " 'late',\n",
       " 'later',\n",
       " 'latest',\n",
       " 'law',\n",
       " 'lawmaker',\n",
       " 'lawyer',\n",
       " 'le',\n",
       " 'lead',\n",
       " 'leader',\n",
       " 'leadership',\n",
       " 'leading',\n",
       " 'least',\n",
       " 'leave',\n",
       " 'leaving',\n",
       " 'led',\n",
       " 'left',\n",
       " 'legal',\n",
       " 'legislation',\n",
       " 'let',\n",
       " 'letter',\n",
       " 'level',\n",
       " 'liberal',\n",
       " 'life',\n",
       " 'like',\n",
       " 'likely',\n",
       " 'limit',\n",
       " 'limited',\n",
       " 'line',\n",
       " 'list',\n",
       " 'little',\n",
       " 'live',\n",
       " 'll',\n",
       " 'local',\n",
       " 'long',\n",
       " 'longer',\n",
       " 'longtime',\n",
       " 'look',\n",
       " 'looking',\n",
       " 'lose',\n",
       " 'loss',\n",
       " 'lost',\n",
       " 'lot',\n",
       " 'low',\n",
       " 'lower',\n",
       " 'm',\n",
       " 'made',\n",
       " 'major',\n",
       " 'majority',\n",
       " 'make',\n",
       " 'making',\n",
       " 'man',\n",
       " 'many',\n",
       " 'march',\n",
       " 'mark',\n",
       " 'market',\n",
       " 'matter',\n",
       " 'may',\n",
       " 'mayor',\n",
       " 'mcconnell',\n",
       " 'me',\n",
       " 'mean',\n",
       " 'meant',\n",
       " 'measure',\n",
       " 'medical',\n",
       " 'medium',\n",
       " 'meet',\n",
       " 'meeting',\n",
       " 'member',\n",
       " 'men',\n",
       " 'message',\n",
       " 'met',\n",
       " 'michael',\n",
       " 'michigan',\n",
       " 'middle',\n",
       " 'might',\n",
       " 'mike',\n",
       " 'military',\n",
       " 'million',\n",
       " 'mind',\n",
       " 'minute',\n",
       " 'mitch',\n",
       " 'moderate',\n",
       " 'moment',\n",
       " 'monday',\n",
       " 'money',\n",
       " 'month',\n",
       " 'more',\n",
       " 'morning',\n",
       " 'most',\n",
       " 'mostly',\n",
       " 'move',\n",
       " 'moved',\n",
       " 'movement',\n",
       " 'moving',\n",
       " 'mr',\n",
       " 'much',\n",
       " 'multiple',\n",
       " 'must',\n",
       " 'my',\n",
       " 'n',\n",
       " 'name',\n",
       " 'nancy',\n",
       " 'nation',\n",
       " 'national',\n",
       " 'near',\n",
       " 'nearly',\n",
       " 'necessary',\n",
       " 'need',\n",
       " 'needed',\n",
       " 'network',\n",
       " 'never',\n",
       " 'new',\n",
       " 'news',\n",
       " 'next',\n",
       " 'night',\n",
       " 'no',\n",
       " 'nomination',\n",
       " 'nominee',\n",
       " 'nor',\n",
       " 'north',\n",
       " 'noted',\n",
       " 'nothing',\n",
       " 'november',\n",
       " 'now',\n",
       " 'number',\n",
       " 'o',\n",
       " 'obama',\n",
       " 'off',\n",
       " 'offer',\n",
       " 'offered',\n",
       " 'office',\n",
       " 'officer',\n",
       " 'official',\n",
       " 'often',\n",
       " 'old',\n",
       " 'once',\n",
       " 'one',\n",
       " 'online',\n",
       " 'only',\n",
       " 'open',\n",
       " 'operation',\n",
       " 'opinion',\n",
       " 'opponent',\n",
       " 'opportunity',\n",
       " 'opposed',\n",
       " 'opposition',\n",
       " 'option',\n",
       " 'or',\n",
       " 'order',\n",
       " 'organization',\n",
       " 'other',\n",
       " 'others',\n",
       " 'our',\n",
       " 'out',\n",
       " 'outcome',\n",
       " 'outside',\n",
       " 'over',\n",
       " 'own',\n",
       " 'p',\n",
       " 'page',\n",
       " 'paid',\n",
       " 'pandemic',\n",
       " 'part',\n",
       " 'particular',\n",
       " 'particularly',\n",
       " 'partisan',\n",
       " 'party',\n",
       " 'pas',\n",
       " 'passed',\n",
       " 'past',\n",
       " 'pay',\n",
       " 'pelosi',\n",
       " 'people',\n",
       " 'percent',\n",
       " 'perhaps',\n",
       " 'period',\n",
       " 'person',\n",
       " 'personal',\n",
       " 'phone',\n",
       " 'place',\n",
       " 'plan',\n",
       " 'planned',\n",
       " 'play',\n",
       " 'played',\n",
       " 'point',\n",
       " 'pointed',\n",
       " 'police',\n",
       " 'policy',\n",
       " 'political',\n",
       " 'politically',\n",
       " 'politician',\n",
       " 'politics',\n",
       " 'poll',\n",
       " 'popular',\n",
       " 'position',\n",
       " 'possibility',\n",
       " 'possible',\n",
       " 'post',\n",
       " 'potential',\n",
       " 'potentially',\n",
       " 'power',\n",
       " 'powerful',\n",
       " 'practice',\n",
       " 'present',\n",
       " 'presidency',\n",
       " 'presidential',\n",
       " 'press',\n",
       " 'pressure',\n",
       " 'prevent',\n",
       " 'previous',\n",
       " 'previously',\n",
       " 'price',\n",
       " 'primary',\n",
       " 'priority',\n",
       " 'private',\n",
       " 'probably',\n",
       " 'problem',\n",
       " 'process',\n",
       " 'professor',\n",
       " 'program',\n",
       " 'progressive',\n",
       " 'project',\n",
       " 'prominent',\n",
       " 'promise',\n",
       " 'proposal',\n",
       " 'proposed',\n",
       " 'prosecutor',\n",
       " 'protect',\n",
       " 'protection',\n",
       " 'protest',\n",
       " 'provide',\n",
       " 'provided',\n",
       " 'public',\n",
       " 'publicly',\n",
       " 'published',\n",
       " 'push',\n",
       " 'pushed',\n",
       " 'pushing',\n",
       " 'put',\n",
       " 'question',\n",
       " 'quickly',\n",
       " 'r',\n",
       " 'race',\n",
       " 'raise',\n",
       " 'raised',\n",
       " 'raising',\n",
       " 'rally',\n",
       " 'ran',\n",
       " 'rate',\n",
       " 'rather',\n",
       " 're',\n",
       " 'reach',\n",
       " 'reached',\n",
       " 'read',\n",
       " 'real',\n",
       " 'reality',\n",
       " 'really',\n",
       " 'reason',\n",
       " 'received',\n",
       " 'recent',\n",
       " 'recently',\n",
       " 'record',\n",
       " 'referring',\n",
       " 'refused',\n",
       " 'related',\n",
       " 'relationship',\n",
       " 'release',\n",
       " 'released',\n",
       " 'remain',\n",
       " 'remained',\n",
       " 'remains',\n",
       " 'remark',\n",
       " 'repeatedly',\n",
       " 'report',\n",
       " 'reported',\n",
       " 'reporter',\n",
       " 'representative',\n",
       " 'republican',\n",
       " 'request',\n",
       " 'require',\n",
       " 'required',\n",
       " 'research',\n",
       " 'resource',\n",
       " 'respond',\n",
       " 'response',\n",
       " 'rest',\n",
       " 'result',\n",
       " 'return',\n",
       " 'review',\n",
       " 'richard',\n",
       " 'right',\n",
       " 'rise',\n",
       " 'risk',\n",
       " 'rival',\n",
       " 'robert',\n",
       " 'role',\n",
       " 'room',\n",
       " 'rule',\n",
       " 'run',\n",
       " 'running',\n",
       " 'russia',\n",
       " 'russian',\n",
       " 'safety',\n",
       " 'same',\n",
       " 'sander',\n",
       " 'saturday',\n",
       " 'saw',\n",
       " 'say',\n",
       " 'saying',\n",
       " 'school',\n",
       " 'seat',\n",
       " 'second',\n",
       " 'secretary',\n",
       " 'security',\n",
       " 'see',\n",
       " 'seek',\n",
       " 'seeking',\n",
       " 'seem',\n",
       " 'seemed',\n",
       " 'seems',\n",
       " 'seen',\n",
       " 'self',\n",
       " 'senate',\n",
       " 'senator',\n",
       " 'send',\n",
       " 'senior',\n",
       " 'sense',\n",
       " 'sent',\n",
       " 'series',\n",
       " 'serious',\n",
       " 'serve',\n",
       " 'served',\n",
       " 'service',\n",
       " 'set',\n",
       " 'seven',\n",
       " 'several',\n",
       " 'share',\n",
       " 'shared',\n",
       " 'she',\n",
       " 'short',\n",
       " 'should',\n",
       " 'show',\n",
       " 'showed',\n",
       " 'side',\n",
       " 'sign',\n",
       " 'signed',\n",
       " 'significant',\n",
       " 'similar',\n",
       " 'simply',\n",
       " 'since',\n",
       " 'single',\n",
       " 'situation',\n",
       " 'six',\n",
       " 'small',\n",
       " 'so',\n",
       " 'social',\n",
       " 'some',\n",
       " 'someone',\n",
       " 'something',\n",
       " 'sometimes',\n",
       " 'son',\n",
       " 'soon',\n",
       " 'sought',\n",
       " 'source',\n",
       " 'south',\n",
       " 'speak',\n",
       " 'speaker',\n",
       " 'speaking',\n",
       " 'special',\n",
       " 'specific',\n",
       " 'speech',\n",
       " 'spending',\n",
       " 'spent',\n",
       " 'spoke',\n",
       " 'spokesman',\n",
       " 'spokeswoman',\n",
       " 'spread',\n",
       " 'staff',\n",
       " 'stage',\n",
       " 'stand',\n",
       " 'standard',\n",
       " 'start',\n",
       " 'started',\n",
       " 'state',\n",
       " 'statement',\n",
       " 'stay',\n",
       " 'step',\n",
       " 'still',\n",
       " 'stop',\n",
       " 'story',\n",
       " 'strategy',\n",
       " 'street',\n",
       " 'strong',\n",
       " 'study',\n",
       " 'subject',\n",
       " 'success',\n",
       " 'such',\n",
       " 'suggested',\n",
       " 'summer',\n",
       " 'sunday',\n",
       " 'support',\n",
       " 'supported',\n",
       " 'supporter',\n",
       " 'supreme',\n",
       " 'sure',\n",
       " 'system',\n",
       " 't',\n",
       " 'take',\n",
       " 'taken',\n",
       " 'taking',\n",
       " 'talk',\n",
       " 'talking',\n",
       " 'target',\n",
       " 'tax',\n",
       " 'team',\n",
       " 'television',\n",
       " 'tell',\n",
       " 'telling',\n",
       " 'term',\n",
       " 'test',\n",
       " 'texas',\n",
       " 'than',\n",
       " 'their',\n",
       " 'them',\n",
       " 'themselves',\n",
       " 'then',\n",
       " 'there',\n",
       " 'these',\n",
       " 'thing',\n",
       " 'think',\n",
       " 'third',\n",
       " 'those',\n",
       " 'though',\n",
       " 'thought',\n",
       " 'thousand',\n",
       " 'threat',\n",
       " 'three',\n",
       " 'through',\n",
       " 'thursday',\n",
       " 'tie',\n",
       " 'time',\n",
       " 'today',\n",
       " 'together',\n",
       " 'told',\n",
       " 'too',\n",
       " 'took',\n",
       " 'top',\n",
       " 'total',\n",
       " 'toward',\n",
       " 'trade',\n",
       " 'tried',\n",
       " 'true',\n",
       " 'try',\n",
       " 'trying',\n",
       " 'tuesday',\n",
       " 'turn',\n",
       " 'turned',\n",
       " 'tweet',\n",
       " 'twitter',\n",
       " 'two',\n",
       " 'u',\n",
       " 'ultimately',\n",
       " 'under',\n",
       " 'understand',\n",
       " 'union',\n",
       " 'united',\n",
       " 'university',\n",
       " 'until',\n",
       " 'up',\n",
       " 'urged',\n",
       " 'use',\n",
       " 'used',\n",
       " 'using',\n",
       " 'value',\n",
       " 've',\n",
       " 'very',\n",
       " 'veteran',\n",
       " 'vice',\n",
       " 'victory',\n",
       " 'video',\n",
       " 'view',\n",
       " 'virus',\n",
       " 'voice',\n",
       " 'vote',\n",
       " 'voted',\n",
       " 'voter',\n",
       " 'voting',\n",
       " 'w',\n",
       " 'wall',\n",
       " 'want',\n",
       " ...]"
      ]
     },
     "execution_count": 62,
     "metadata": {},
     "output_type": "execute_result"
    }
   ],
   "source": [
    "feat_names"
   ]
  },
  {
   "cell_type": "code",
   "execution_count": 63,
   "metadata": {},
   "outputs": [],
   "source": [
    "stop_words = wordnet_vectorizer.stop_words_"
   ]
  },
  {
   "cell_type": "code",
   "execution_count": 64,
   "metadata": {},
   "outputs": [
    {
     "data": {
      "text/plain": [
       "54555"
      ]
     },
     "execution_count": 64,
     "metadata": {},
     "output_type": "execute_result"
    }
   ],
   "source": [
    "len(stop_words)"
   ]
  },
  {
   "cell_type": "code",
   "execution_count": null,
   "metadata": {},
   "outputs": [],
   "source": []
  },
  {
   "cell_type": "markdown",
   "metadata": {},
   "source": [
    "# save model as pickle file"
   ]
  },
  {
   "cell_type": "code",
   "execution_count": 65,
   "metadata": {},
   "outputs": [],
   "source": [
    "filename = '/Users/djbetts/Desktop/full_dataset.pkl'"
   ]
  },
  {
   "cell_type": "code",
   "execution_count": 66,
   "metadata": {},
   "outputs": [],
   "source": [
    "#pickle.dump(rf_clf, open(filename, 'wb'))"
   ]
  },
  {
   "cell_type": "code",
   "execution_count": 67,
   "metadata": {},
   "outputs": [],
   "source": [
    "#loaded_model = pickle.load(open(filename, 'rb'))"
   ]
  },
  {
   "cell_type": "code",
   "execution_count": 68,
   "metadata": {},
   "outputs": [],
   "source": [
    "#loaded_model.fit(X_resampled, y_resampled)"
   ]
  },
  {
   "cell_type": "code",
   "execution_count": 69,
   "metadata": {},
   "outputs": [],
   "source": [
    "#result = loaded_model.score(X_resampled, y_resampled)"
   ]
  },
  {
   "cell_type": "code",
   "execution_count": null,
   "metadata": {},
   "outputs": [],
   "source": []
  },
  {
   "cell_type": "code",
   "execution_count": null,
   "metadata": {},
   "outputs": [],
   "source": []
  },
  {
   "cell_type": "code",
   "execution_count": null,
   "metadata": {},
   "outputs": [],
   "source": []
  },
  {
   "cell_type": "code",
   "execution_count": null,
   "metadata": {},
   "outputs": [],
   "source": []
  },
  {
   "cell_type": "code",
   "execution_count": null,
   "metadata": {},
   "outputs": [],
   "source": []
  },
  {
   "cell_type": "code",
   "execution_count": null,
   "metadata": {},
   "outputs": [],
   "source": []
  },
  {
   "cell_type": "code",
   "execution_count": null,
   "metadata": {},
   "outputs": [],
   "source": []
  },
  {
   "cell_type": "code",
   "execution_count": null,
   "metadata": {},
   "outputs": [],
   "source": []
  },
  {
   "cell_type": "code",
   "execution_count": null,
   "metadata": {},
   "outputs": [],
   "source": []
  },
  {
   "cell_type": "code",
   "execution_count": null,
   "metadata": {},
   "outputs": [],
   "source": []
  },
  {
   "cell_type": "code",
   "execution_count": null,
   "metadata": {},
   "outputs": [],
   "source": []
  },
  {
   "cell_type": "code",
   "execution_count": null,
   "metadata": {},
   "outputs": [],
   "source": []
  },
  {
   "cell_type": "code",
   "execution_count": null,
   "metadata": {},
   "outputs": [],
   "source": []
  },
  {
   "cell_type": "code",
   "execution_count": null,
   "metadata": {},
   "outputs": [],
   "source": []
  },
  {
   "cell_type": "code",
   "execution_count": null,
   "metadata": {},
   "outputs": [],
   "source": []
  },
  {
   "cell_type": "code",
   "execution_count": null,
   "metadata": {},
   "outputs": [],
   "source": []
  },
  {
   "cell_type": "code",
   "execution_count": null,
   "metadata": {},
   "outputs": [],
   "source": []
  },
  {
   "cell_type": "code",
   "execution_count": null,
   "metadata": {},
   "outputs": [],
   "source": []
  },
  {
   "cell_type": "code",
   "execution_count": null,
   "metadata": {},
   "outputs": [],
   "source": []
  },
  {
   "cell_type": "code",
   "execution_count": null,
   "metadata": {},
   "outputs": [],
   "source": []
  },
  {
   "cell_type": "code",
   "execution_count": null,
   "metadata": {},
   "outputs": [],
   "source": []
  },
  {
   "cell_type": "code",
   "execution_count": null,
   "metadata": {},
   "outputs": [],
   "source": []
  }
 ],
 "metadata": {
  "kernelspec": {
   "display_name": "Python 3",
   "language": "python",
   "name": "python3"
  },
  "language_info": {
   "codemirror_mode": {
    "name": "ipython",
    "version": 3
   },
   "file_extension": ".py",
   "mimetype": "text/x-python",
   "name": "python",
   "nbconvert_exporter": "python",
   "pygments_lexer": "ipython3",
   "version": "3.7.9"
  }
 },
 "nbformat": 4,
 "nbformat_minor": 4
}
