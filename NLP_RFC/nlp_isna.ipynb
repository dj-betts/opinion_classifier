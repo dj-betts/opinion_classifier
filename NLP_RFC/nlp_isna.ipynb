{
 "cells": [
  {
   "cell_type": "code",
   "execution_count": 1,
   "metadata": {},
   "outputs": [],
   "source": [
    "import datetime"
   ]
  },
  {
   "cell_type": "code",
   "execution_count": 2,
   "metadata": {},
   "outputs": [],
   "source": [
    "import nltk\n",
    "import string"
   ]
  },
  {
   "cell_type": "code",
   "execution_count": 3,
   "metadata": {},
   "outputs": [],
   "source": [
    "import pickle"
   ]
  },
  {
   "cell_type": "code",
   "execution_count": 4,
   "metadata": {},
   "outputs": [],
   "source": [
    "import pandas as pd\n",
    "import numpy as np"
   ]
  },
  {
   "cell_type": "code",
   "execution_count": 5,
   "metadata": {},
   "outputs": [],
   "source": [
    "import matplotlib.pyplot as plt\n",
    "plt.style.use('fivethirtyeight')"
   ]
  },
  {
   "cell_type": "code",
   "execution_count": 6,
   "metadata": {},
   "outputs": [],
   "source": [
    "from sklearn.feature_extraction.text import CountVectorizer, TfidfVectorizer\n",
    "from sklearn.model_selection import train_test_split\n",
    "from sklearn.metrics import confusion_matrix, plot_confusion_matrix\n",
    "from sklearn.naive_bayes import MultinomialNB\n",
    "from sklearn.ensemble import RandomForestClassifier\n",
    "from sklearn.inspection import permutation_importance"
   ]
  },
  {
   "cell_type": "code",
   "execution_count": 7,
   "metadata": {},
   "outputs": [],
   "source": [
    "from collections import Counter"
   ]
  },
  {
   "cell_type": "code",
   "execution_count": 8,
   "metadata": {},
   "outputs": [],
   "source": [
    "from imblearn.under_sampling import RandomUnderSampler"
   ]
  },
  {
   "cell_type": "code",
   "execution_count": 9,
   "metadata": {},
   "outputs": [],
   "source": [
    "from nltk.stem.snowball import SnowballStemmer\n",
    "from nltk.stem.wordnet import WordNetLemmatizer\n",
    "from nltk.tokenize import word_tokenize\n",
    "from nltk.corpus import stopwords"
   ]
  },
  {
   "cell_type": "markdown",
   "metadata": {},
   "source": [
    "# NLP Pipeline \n",
    "\n",
    "![](images/pipeline-walkthrough1.png)\n",
    "\n",
    "Below is a to do list when converting text into vector form: \n",
    "\n",
    "**Clean text and Create a Bag of Words (BoW)**\n",
    ">1. Lowercase the text\n",
    "2. Tokenize \n",
    "3. Strip out punctuation or undesirable text\n",
    "4. Remove Stopwords \n",
    "5. Stemming or Lemmatizing\n",
    "6. Compute N-Grams\n",
    "7. Use this to create BoW\n",
    "\n",
    "**Vectorize BoW**\n",
    ">8. Term Frequencies\n",
    "9. Document Frequencies\n",
    "10. TF-IDF\n",
    "11. Normalize vectors\n",
    "\n",
    "Let's go through both what each of these steps are and how to do them in python with the following corpus of comments about data science...\n",
    " "
   ]
  },
  {
   "cell_type": "code",
   "execution_count": 10,
   "metadata": {},
   "outputs": [],
   "source": [
    "# function to vectorize the type_of_material series into a y target vector.\n",
    "\n",
    "def vectorize_y_ser(ser):\n",
    "    y = ser.copy()\n",
    "    y.replace({'Op-Ed': 1,'News': 0}, inplace=True)\n",
    "    return y"
   ]
  },
  {
   "cell_type": "code",
   "execution_count": 11,
   "metadata": {},
   "outputs": [],
   "source": [
    "#rate of correct predictions out of total predictions\n",
    "\n",
    "def metrics_(tn, fp, fn, tp):\n",
    "    accuracy = (tp + tn) / (tn + fn + tp + fp)\n",
    "    print(f'accuracy = {accuracy}')\n",
    "    recall = (tp) / (tp + fn)\n",
    "    print(f'recall = {recall}')\n",
    "    precision = (tp) / (tp + fp)\n",
    "    print(f'precision = {precision}')\n",
    "    print(f'tn:{tn} fp:{fp} fn:{fn} tp:{tp}')"
   ]
  },
  {
   "cell_type": "code",
   "execution_count": 12,
   "metadata": {},
   "outputs": [],
   "source": [
    "#function that removes string.punctuation w/out the '?'\n",
    "def punc_strip(string):\n",
    "    for char in string:\n",
    "        if char in string.punctuation:\n",
    "            string = string.replace(char, \"\")\n",
    "            \n",
    "    return string"
   ]
  },
  {
   "cell_type": "code",
   "execution_count": 13,
   "metadata": {},
   "outputs": [
    {
     "name": "stdout",
     "output_type": "stream",
     "text": [
      "CPU times: user 2.03 s, sys: 279 ms, total: 2.31 s\n",
      "Wall time: 2.32 s\n"
     ]
    }
   ],
   "source": [
    "%%time\n",
    "#import csv\n",
    "\n",
    "data = pd.read_csv('/Users/djbetts/Desktop/opinion_classifier/data/only_printed_2019.csv', index_col=0, low_memory=False)"
   ]
  },
  {
   "cell_type": "code",
   "execution_count": 14,
   "metadata": {},
   "outputs": [
    {
     "name": "stdout",
     "output_type": "stream",
     "text": [
      "CPU times: user 6.36 ms, sys: 2.01 ms, total: 8.37 ms\n",
      "Wall time: 7.52 ms\n"
     ]
    }
   ],
   "source": [
    "%%time\n",
    "df = data.copy()"
   ]
  },
  {
   "cell_type": "code",
   "execution_count": 15,
   "metadata": {},
   "outputs": [
    {
     "data": {
      "text/plain": [
       "(30232, 21)"
      ]
     },
     "execution_count": 15,
     "metadata": {},
     "output_type": "execute_result"
    }
   ],
   "source": [
    "df.shape"
   ]
  },
  {
   "cell_type": "code",
   "execution_count": 16,
   "metadata": {},
   "outputs": [
    {
     "data": {
      "text/plain": [
       "'North Carolina’s secretary of health on Friday called for an investigation into a hospital where doctors had suspected children with complex heart conditions had been dying at higher than expected rates after undergoing heart surgery.Dr. Mandy Cohen, the secretary, said in a statement that a team from the state’s division of health service regulation would work with federal regulators to conduct a “thorough investigation” into events that occurred in 2016 and 2017 at North Carolina Children’s Hospital, part of the University of North Carolina medical center in Chapel Hill.“As a mother and a doctor my heart goes out to any family that loses a child,” Dr. Cohen said in the statement. “Patient safety, particularly for the most vulnerable children, is paramount.”The investigation is in response to an article published by The New York Times on Thursday, which gave a detailed look inside the medical institution as cardiologists grappled with whether to keep sending their young patients there for surgery.The article included discussions among doctors that were captured on secret audio recordings provided to The Times, in which the physicians talked openly about their concerns, including that some might not feel comfortable allowing their own children to have surgery at the hospital. The physicians also discussed unexpected complications with lower-risk patients.While the doctors could not pinpoint what might be going wrong, they considered everything from inadequate resources to misgivings about the chief pediatric cardiac surgeon to whether the hospital was taking on patients it was not equipped to handle.“It’s a nightmare right now,” Dr. Tim Hoffman, the hospital’s chief of pediatric cardiology, said in a 2016 meeting. “We are in crisis, and everyone is aware of that.”In a later meeting, Dr. Kevin Kelly, the head of the hospital at the time, told cardiologists to “do what your conscience says” when considering where to refer patients, according to one of the recordings.But, he warned, performing fewer surgeries at UNC could hurt revenues and could cost the cardiologists their jobs. “If it reduces the volume of things,” he said, “I’ll just —— we’ll just reduce the number of people that we have.”On Thursday, Dr. Wesley Burks, the chief executive of UNC Health Care, which runs the state-owned hospital, emailed employees about The Times’s article.“While this program faced culture challenges in the 2016-2017 time frame, we believe the Times’ criticism is overstated and does not consider the quality improvements we’ve made within this program over many years,” he said.A local newspaper, The News & Observer in Raleigh, posted an editorial Thursday evening in response to The Times article that said “it will take leaders outside of the self-serving ranks of UNC’s leadership to crack its culture of arrogant denial and bring it back to being a servant of the people.”UNC Health Care has defended its surgery program, describing it as “very strong” while denying any past problems affecting patient care. Administrators said there was “a dysfunctional group” in 2016 that sowed mistrust, creating “team culture issues,” and they maintain that there is a different team at the hospital today.Administrators told The Times it had conducted a “thorough internal investigation” of its heart surgery program in 2016 and had determined “criticism of the program was found to be unsubstantiated.”The Times is suing the hospital for mortality data related to pediatric heart surgeries that the hospital has refused to provide under the state’s open records law.'"
      ]
     },
     "execution_count": 16,
     "metadata": {},
     "output_type": "execute_result"
    }
   ],
   "source": [
    "df.text.iloc[0]"
   ]
  },
  {
   "cell_type": "code",
   "execution_count": 17,
   "metadata": {},
   "outputs": [
    {
     "data": {
      "text/plain": [
       "Unnamed: 0                                                          0\n",
       "abstract            The state health secretary announced an inquir...\n",
       "web_url             https://www.nytimes.com/2019/05/31/us/unc-chil...\n",
       "snippet             The state health secretary announced an inquir...\n",
       "lead_paragraph      North Carolina’s secretary of health on Friday...\n",
       "print_section                                                       A\n",
       "print_page                                                       13.0\n",
       "source                                             The New York Times\n",
       "multimedia          [{'rank': 0, 'subtype': 'xlarge', 'caption': N...\n",
       "headline            {'main': 'North Carolina to Investigate After ...\n",
       "keywords            [{'name': 'subject', 'value': 'Hospitals', 'ra...\n",
       "pub_date                                     2019-06-01T00:03:16+0000\n",
       "document_type                                                 article\n",
       "news_desk                                               Investigative\n",
       "section_name                                                     U.S.\n",
       "byline              {'original': 'By Ellen Gabler', 'person': [{'f...\n",
       "type_of_material                                                 News\n",
       "word_count                                                        574\n",
       "uri                 nyt://article/4b1e8a16-71b7-5fac-b1cc-87b459a0...\n",
       "subsection_name                                                   NaN\n",
       "text                North Carolina’s secretary of health on Friday...\n",
       "Name: nyt://article/4b1e8a16-71b7-5fac-b1cc-87b459a0a5dd, dtype: object"
      ]
     },
     "execution_count": 17,
     "metadata": {},
     "output_type": "execute_result"
    }
   ],
   "source": [
    "(df.iloc[0])"
   ]
  },
  {
   "cell_type": "code",
   "execution_count": 18,
   "metadata": {},
   "outputs": [
    {
     "data": {
      "text/plain": [
       "Unnamed: 0                                                          0\n",
       "abstract            The state health secretary announced an inquir...\n",
       "web_url             https://www.nytimes.com/2019/05/31/us/unc-chil...\n",
       "snippet             The state health secretary announced an inquir...\n",
       "lead_paragraph      North Carolina’s secretary of health on Friday...\n",
       "print_section                                                       A\n",
       "print_page                                                       13.0\n",
       "source                                             The New York Times\n",
       "multimedia          [{'rank': 0, 'subtype': 'xlarge', 'caption': N...\n",
       "headline            {'main': 'North Carolina to Investigate After ...\n",
       "keywords            [{'name': 'subject', 'value': 'Hospitals', 'ra...\n",
       "pub_date                                     2019-06-01T00:03:16+0000\n",
       "document_type                                                 article\n",
       "news_desk                                               Investigative\n",
       "section_name                                                     U.S.\n",
       "byline              {'original': 'By Ellen Gabler', 'person': [{'f...\n",
       "type_of_material                                                 News\n",
       "word_count                                                        574\n",
       "uri                 nyt://article/4b1e8a16-71b7-5fac-b1cc-87b459a0...\n",
       "subsection_name                                                   NaN\n",
       "text                North Carolina’s secretary of health on Friday...\n",
       "Name: nyt://article/4b1e8a16-71b7-5fac-b1cc-87b459a0a5dd, dtype: object"
      ]
     },
     "execution_count": 18,
     "metadata": {},
     "output_type": "execute_result"
    }
   ],
   "source": [
    "(df.iloc[0])"
   ]
  },
  {
   "cell_type": "code",
   "execution_count": 19,
   "metadata": {},
   "outputs": [
    {
     "data": {
      "text/plain": [
       "(30232, 21)"
      ]
     },
     "execution_count": 19,
     "metadata": {},
     "output_type": "execute_result"
    }
   ],
   "source": [
    "df.shape"
   ]
  },
  {
   "cell_type": "code",
   "execution_count": 20,
   "metadata": {},
   "outputs": [
    {
     "data": {
      "text/plain": [
       "Unnamed: 0                                                          0\n",
       "abstract            The state health secretary announced an inquir...\n",
       "web_url             https://www.nytimes.com/2019/05/31/us/unc-chil...\n",
       "snippet             The state health secretary announced an inquir...\n",
       "lead_paragraph      North Carolina’s secretary of health on Friday...\n",
       "print_section                                                       A\n",
       "print_page                                                       13.0\n",
       "source                                             The New York Times\n",
       "multimedia          [{'rank': 0, 'subtype': 'xlarge', 'caption': N...\n",
       "headline            {'main': 'North Carolina to Investigate After ...\n",
       "keywords            [{'name': 'subject', 'value': 'Hospitals', 'ra...\n",
       "pub_date                                     2019-06-01T00:03:16+0000\n",
       "document_type                                                 article\n",
       "news_desk                                               Investigative\n",
       "section_name                                                     U.S.\n",
       "byline              {'original': 'By Ellen Gabler', 'person': [{'f...\n",
       "type_of_material                                                 News\n",
       "word_count                                                        574\n",
       "uri                 nyt://article/4b1e8a16-71b7-5fac-b1cc-87b459a0...\n",
       "subsection_name                                                   NaN\n",
       "text                North Carolina’s secretary of health on Friday...\n",
       "Name: nyt://article/4b1e8a16-71b7-5fac-b1cc-87b459a0a5dd, dtype: object"
      ]
     },
     "execution_count": 20,
     "metadata": {},
     "output_type": "execute_result"
    }
   ],
   "source": [
    "(df.iloc[0])"
   ]
  },
  {
   "cell_type": "code",
   "execution_count": 21,
   "metadata": {},
   "outputs": [],
   "source": [
    "#sum(df.type_of_material == \"News\")"
   ]
  },
  {
   "cell_type": "code",
   "execution_count": 22,
   "metadata": {},
   "outputs": [],
   "source": [
    "#sum(df.type_of_material == \"Op-Ed\")"
   ]
  },
  {
   "cell_type": "code",
   "execution_count": 23,
   "metadata": {},
   "outputs": [
    {
     "data": {
      "text/plain": [
       "(30232, 21)"
      ]
     },
     "execution_count": 23,
     "metadata": {},
     "output_type": "execute_result"
    }
   ],
   "source": [
    "df.shape"
   ]
  },
  {
   "cell_type": "code",
   "execution_count": 24,
   "metadata": {},
   "outputs": [],
   "source": [
    "#define X. X is currently pandas series of unsplit strings\n",
    "\n",
    "X = df.text"
   ]
  },
  {
   "cell_type": "code",
   "execution_count": 25,
   "metadata": {},
   "outputs": [],
   "source": [
    "#turn series into list...\n",
    "\n",
    "corpus = list(X)"
   ]
  },
  {
   "cell_type": "code",
   "execution_count": 26,
   "metadata": {},
   "outputs": [],
   "source": [
    "# define y as a series of op-ed or news\n",
    "\n",
    "y = df.type_of_material"
   ]
  },
  {
   "cell_type": "code",
   "execution_count": 27,
   "metadata": {},
   "outputs": [
    {
     "data": {
      "text/plain": [
       "_id\n",
       "nyt://article/4b1e8a16-71b7-5fac-b1cc-87b459a0a5dd     News\n",
       "nyt://article/2c929a23-32cb-5794-a320-2a254caa6dc1     News\n",
       "nyt://article/49a7077e-85df-5fef-a886-a9503d73c657     News\n",
       "nyt://article/ea6418b4-c464-5be4-86ef-f465d38dade2     News\n",
       "nyt://article/0ae91997-445f-5dd6-89a6-ea3cf6a550a6     News\n",
       "                                                      ...  \n",
       "nyt://article/c6d36069-bd5f-5d16-a368-a5b483305b4b    Op-Ed\n",
       "nyt://article/d92bfe8d-73cf-5d9f-8cb2-923375c97382     News\n",
       "nyt://article/0f731777-ab06-52a2-aecb-a7bf0bcea285     News\n",
       "nyt://article/2c085975-3489-5c75-97e7-8556738b5acb     News\n",
       "nyt://article/bcc0212f-3e67-5ad7-bc4b-271d5556503d    Op-Ed\n",
       "Name: type_of_material, Length: 30232, dtype: object"
      ]
     },
     "execution_count": 27,
     "metadata": {},
     "output_type": "execute_result"
    }
   ],
   "source": [
    "y"
   ]
  },
  {
   "cell_type": "code",
   "execution_count": 28,
   "metadata": {},
   "outputs": [
    {
     "name": "stdout",
     "output_type": "stream",
     "text": [
      "CPU times: user 11.6 ms, sys: 419 µs, total: 12 ms\n",
      "Wall time: 12 ms\n"
     ]
    }
   ],
   "source": [
    "%%time\n",
    "# vectorize y in to (1, 0) (op-ed, news)\n",
    "\n",
    "y = vectorize_y_ser(y)"
   ]
  },
  {
   "cell_type": "code",
   "execution_count": 29,
   "metadata": {},
   "outputs": [
    {
     "data": {
      "text/plain": [
       "0    28194\n",
       "1     2038\n",
       "Name: type_of_material, dtype: int64"
      ]
     },
     "execution_count": 29,
     "metadata": {},
     "output_type": "execute_result"
    }
   ],
   "source": [
    "y.value_counts()"
   ]
  },
  {
   "cell_type": "code",
   "execution_count": 30,
   "metadata": {},
   "outputs": [
    {
     "data": {
      "text/plain": [
       "(30232,)"
      ]
     },
     "execution_count": 30,
     "metadata": {},
     "output_type": "execute_result"
    }
   ],
   "source": [
    "y.shape"
   ]
  },
  {
   "cell_type": "markdown",
   "metadata": {},
   "source": [
    "# remove stop words"
   ]
  },
  {
   "cell_type": "markdown",
   "metadata": {},
   "source": [
    "# stemming/lemmatization"
   ]
  },
  {
   "cell_type": "code",
   "execution_count": 31,
   "metadata": {},
   "outputs": [],
   "source": [
    "snowball = SnowballStemmer('english')\n",
    "wordnet = WordNetLemmatizer()"
   ]
  },
  {
   "cell_type": "code",
   "execution_count": 32,
   "metadata": {},
   "outputs": [
    {
     "name": "stdout",
     "output_type": "stream",
     "text": [
      "CPU times: user 3 µs, sys: 0 ns, total: 3 µs\n",
      "Wall time: 5.25 µs\n"
     ]
    }
   ],
   "source": [
    "%%time\n",
    "def snowball_tokenize(doc):\n",
    "    snowball = SnowballStemmer('english')\n",
    "    return [snowball.stem(word) for word in word_tokenize(doc.lower())]"
   ]
  },
  {
   "cell_type": "code",
   "execution_count": 33,
   "metadata": {},
   "outputs": [
    {
     "name": "stdout",
     "output_type": "stream",
     "text": [
      "CPU times: user 3 µs, sys: 0 ns, total: 3 µs\n",
      "Wall time: 7.15 µs\n"
     ]
    }
   ],
   "source": [
    "%%time\n",
    "def wordnet_tokenize(doc):\n",
    "    wordnet = WordNetLemmatizer()\n",
    "    return  [wordnet.lemmatize(word) for word in word_tokenize(doc.lower())]"
   ]
  },
  {
   "cell_type": "code",
   "execution_count": 34,
   "metadata": {},
   "outputs": [],
   "source": [
    "snowball_test_token = snowball_tokenize(corpus[0])"
   ]
  },
  {
   "cell_type": "code",
   "execution_count": 35,
   "metadata": {},
   "outputs": [
    {
     "data": {
      "text/plain": [
       "['north',\n",
       " 'carolina',\n",
       " '’',\n",
       " 's',\n",
       " 'secretari',\n",
       " 'of',\n",
       " 'health',\n",
       " 'on',\n",
       " 'friday',\n",
       " 'call',\n",
       " 'for',\n",
       " 'an',\n",
       " 'investig',\n",
       " 'into',\n",
       " 'a',\n",
       " 'hospit',\n",
       " 'where',\n",
       " 'doctor',\n",
       " 'had',\n",
       " 'suspect',\n",
       " 'children',\n",
       " 'with',\n",
       " 'complex',\n",
       " 'heart',\n",
       " 'condit',\n",
       " 'had',\n",
       " 'been',\n",
       " 'die',\n",
       " 'at',\n",
       " 'higher',\n",
       " 'than',\n",
       " 'expect',\n",
       " 'rate',\n",
       " 'after',\n",
       " 'undergo',\n",
       " 'heart',\n",
       " 'surgery.dr',\n",
       " '.',\n",
       " 'mandi',\n",
       " 'cohen',\n",
       " ',',\n",
       " 'the',\n",
       " 'secretari',\n",
       " ',',\n",
       " 'said',\n",
       " 'in',\n",
       " 'a',\n",
       " 'statement',\n",
       " 'that',\n",
       " 'a',\n",
       " 'team',\n",
       " 'from',\n",
       " 'the',\n",
       " 'state',\n",
       " '’',\n",
       " 's',\n",
       " 'divis',\n",
       " 'of',\n",
       " 'health',\n",
       " 'servic',\n",
       " 'regul',\n",
       " 'would',\n",
       " 'work',\n",
       " 'with',\n",
       " 'feder',\n",
       " 'regul',\n",
       " 'to',\n",
       " 'conduct',\n",
       " 'a',\n",
       " '“',\n",
       " 'thorough',\n",
       " 'investig',\n",
       " '”',\n",
       " 'into',\n",
       " 'event',\n",
       " 'that',\n",
       " 'occur',\n",
       " 'in',\n",
       " '2016',\n",
       " 'and',\n",
       " '2017',\n",
       " 'at',\n",
       " 'north',\n",
       " 'carolina',\n",
       " 'children',\n",
       " '’',\n",
       " 's',\n",
       " 'hospit',\n",
       " ',',\n",
       " 'part',\n",
       " 'of',\n",
       " 'the',\n",
       " 'univers',\n",
       " 'of',\n",
       " 'north',\n",
       " 'carolina',\n",
       " 'medic',\n",
       " 'center',\n",
       " 'in',\n",
       " 'chapel',\n",
       " 'hill.',\n",
       " '“',\n",
       " 'as',\n",
       " 'a',\n",
       " 'mother',\n",
       " 'and',\n",
       " 'a',\n",
       " 'doctor',\n",
       " 'my',\n",
       " 'heart',\n",
       " 'goe',\n",
       " 'out',\n",
       " 'to',\n",
       " 'ani',\n",
       " 'famili',\n",
       " 'that',\n",
       " 'lose',\n",
       " 'a',\n",
       " 'child',\n",
       " ',',\n",
       " '”',\n",
       " 'dr.',\n",
       " 'cohen',\n",
       " 'said',\n",
       " 'in',\n",
       " 'the',\n",
       " 'statement',\n",
       " '.',\n",
       " '“',\n",
       " 'patient',\n",
       " 'safeti',\n",
       " ',',\n",
       " 'particular',\n",
       " 'for',\n",
       " 'the',\n",
       " 'most',\n",
       " 'vulner',\n",
       " 'children',\n",
       " ',',\n",
       " 'is',\n",
       " 'paramount.',\n",
       " '”',\n",
       " 'the',\n",
       " 'investig',\n",
       " 'is',\n",
       " 'in',\n",
       " 'respons',\n",
       " 'to',\n",
       " 'an',\n",
       " 'articl',\n",
       " 'publish',\n",
       " 'by',\n",
       " 'the',\n",
       " 'new',\n",
       " 'york',\n",
       " 'time',\n",
       " 'on',\n",
       " 'thursday',\n",
       " ',',\n",
       " 'which',\n",
       " 'gave',\n",
       " 'a',\n",
       " 'detail',\n",
       " 'look',\n",
       " 'insid',\n",
       " 'the',\n",
       " 'medic',\n",
       " 'institut',\n",
       " 'as',\n",
       " 'cardiologist',\n",
       " 'grappl',\n",
       " 'with',\n",
       " 'whether',\n",
       " 'to',\n",
       " 'keep',\n",
       " 'send',\n",
       " 'their',\n",
       " 'young',\n",
       " 'patient',\n",
       " 'there',\n",
       " 'for',\n",
       " 'surgery.th',\n",
       " 'articl',\n",
       " 'includ',\n",
       " 'discuss',\n",
       " 'among',\n",
       " 'doctor',\n",
       " 'that',\n",
       " 'were',\n",
       " 'captur',\n",
       " 'on',\n",
       " 'secret',\n",
       " 'audio',\n",
       " 'record',\n",
       " 'provid',\n",
       " 'to',\n",
       " 'the',\n",
       " 'time',\n",
       " ',',\n",
       " 'in',\n",
       " 'which',\n",
       " 'the',\n",
       " 'physician',\n",
       " 'talk',\n",
       " 'open',\n",
       " 'about',\n",
       " 'their',\n",
       " 'concern',\n",
       " ',',\n",
       " 'includ',\n",
       " 'that',\n",
       " 'some',\n",
       " 'might',\n",
       " 'not',\n",
       " 'feel',\n",
       " 'comfort',\n",
       " 'allow',\n",
       " 'their',\n",
       " 'own',\n",
       " 'children',\n",
       " 'to',\n",
       " 'have',\n",
       " 'surgeri',\n",
       " 'at',\n",
       " 'the',\n",
       " 'hospit',\n",
       " '.',\n",
       " 'the',\n",
       " 'physician',\n",
       " 'also',\n",
       " 'discuss',\n",
       " 'unexpect',\n",
       " 'complic',\n",
       " 'with',\n",
       " 'lower-risk',\n",
       " 'patients.whil',\n",
       " 'the',\n",
       " 'doctor',\n",
       " 'could',\n",
       " 'not',\n",
       " 'pinpoint',\n",
       " 'what',\n",
       " 'might',\n",
       " 'be',\n",
       " 'go',\n",
       " 'wrong',\n",
       " ',',\n",
       " 'they',\n",
       " 'consid',\n",
       " 'everyth',\n",
       " 'from',\n",
       " 'inadequ',\n",
       " 'resourc',\n",
       " 'to',\n",
       " 'misgiv',\n",
       " 'about',\n",
       " 'the',\n",
       " 'chief',\n",
       " 'pediatr',\n",
       " 'cardiac',\n",
       " 'surgeon',\n",
       " 'to',\n",
       " 'whether',\n",
       " 'the',\n",
       " 'hospit',\n",
       " 'was',\n",
       " 'take',\n",
       " 'on',\n",
       " 'patient',\n",
       " 'it',\n",
       " 'was',\n",
       " 'not',\n",
       " 'equip',\n",
       " 'to',\n",
       " 'handle.',\n",
       " '“',\n",
       " 'it',\n",
       " '’',\n",
       " 's',\n",
       " 'a',\n",
       " 'nightmar',\n",
       " 'right',\n",
       " 'now',\n",
       " ',',\n",
       " '”',\n",
       " 'dr.',\n",
       " 'tim',\n",
       " 'hoffman',\n",
       " ',',\n",
       " 'the',\n",
       " 'hospit',\n",
       " '’',\n",
       " 's',\n",
       " 'chief',\n",
       " 'of',\n",
       " 'pediatr',\n",
       " 'cardiolog',\n",
       " ',',\n",
       " 'said',\n",
       " 'in',\n",
       " 'a',\n",
       " '2016',\n",
       " 'meet',\n",
       " '.',\n",
       " '“',\n",
       " 'we',\n",
       " 'are',\n",
       " 'in',\n",
       " 'crisi',\n",
       " ',',\n",
       " 'and',\n",
       " 'everyon',\n",
       " 'is',\n",
       " 'awar',\n",
       " 'of',\n",
       " 'that.',\n",
       " '”',\n",
       " 'in',\n",
       " 'a',\n",
       " 'later',\n",
       " 'meet',\n",
       " ',',\n",
       " 'dr.',\n",
       " 'kevin',\n",
       " 'kelli',\n",
       " ',',\n",
       " 'the',\n",
       " 'head',\n",
       " 'of',\n",
       " 'the',\n",
       " 'hospit',\n",
       " 'at',\n",
       " 'the',\n",
       " 'time',\n",
       " ',',\n",
       " 'told',\n",
       " 'cardiologist',\n",
       " 'to',\n",
       " '“',\n",
       " 'do',\n",
       " 'what',\n",
       " 'your',\n",
       " 'conscienc',\n",
       " 'say',\n",
       " '”',\n",
       " 'when',\n",
       " 'consid',\n",
       " 'where',\n",
       " 'to',\n",
       " 'refer',\n",
       " 'patient',\n",
       " ',',\n",
       " 'accord',\n",
       " 'to',\n",
       " 'one',\n",
       " 'of',\n",
       " 'the',\n",
       " 'recordings.but',\n",
       " ',',\n",
       " 'he',\n",
       " 'warn',\n",
       " ',',\n",
       " 'perform',\n",
       " 'fewer',\n",
       " 'surgeri',\n",
       " 'at',\n",
       " 'unc',\n",
       " 'could',\n",
       " 'hurt',\n",
       " 'revenu',\n",
       " 'and',\n",
       " 'could',\n",
       " 'cost',\n",
       " 'the',\n",
       " 'cardiologist',\n",
       " 'their',\n",
       " 'job',\n",
       " '.',\n",
       " '“',\n",
       " 'if',\n",
       " 'it',\n",
       " 'reduc',\n",
       " 'the',\n",
       " 'volum',\n",
       " 'of',\n",
       " 'thing',\n",
       " ',',\n",
       " '”',\n",
       " 'he',\n",
       " 'said',\n",
       " ',',\n",
       " '“',\n",
       " 'i',\n",
       " '’',\n",
       " 'll',\n",
       " 'just',\n",
       " '——',\n",
       " 'we',\n",
       " '’',\n",
       " 'll',\n",
       " 'just',\n",
       " 'reduc',\n",
       " 'the',\n",
       " 'number',\n",
       " 'of',\n",
       " 'peopl',\n",
       " 'that',\n",
       " 'we',\n",
       " 'have.',\n",
       " '”',\n",
       " 'on',\n",
       " 'thursday',\n",
       " ',',\n",
       " 'dr.',\n",
       " 'wesley',\n",
       " 'burk',\n",
       " ',',\n",
       " 'the',\n",
       " 'chief',\n",
       " 'execut',\n",
       " 'of',\n",
       " 'unc',\n",
       " 'health',\n",
       " 'care',\n",
       " ',',\n",
       " 'which',\n",
       " 'run',\n",
       " 'the',\n",
       " 'state-own',\n",
       " 'hospit',\n",
       " ',',\n",
       " 'email',\n",
       " 'employe',\n",
       " 'about',\n",
       " 'the',\n",
       " 'time',\n",
       " '’',\n",
       " 's',\n",
       " 'article.',\n",
       " '“',\n",
       " 'while',\n",
       " 'this',\n",
       " 'program',\n",
       " 'face',\n",
       " 'cultur',\n",
       " 'challeng',\n",
       " 'in',\n",
       " 'the',\n",
       " '2016-2017',\n",
       " 'time',\n",
       " 'frame',\n",
       " ',',\n",
       " 'we',\n",
       " 'believ',\n",
       " 'the',\n",
       " 'time',\n",
       " '’',\n",
       " 'critic',\n",
       " 'is',\n",
       " 'overst',\n",
       " 'and',\n",
       " 'doe',\n",
       " 'not',\n",
       " 'consid',\n",
       " 'the',\n",
       " 'qualiti',\n",
       " 'improv',\n",
       " 'we',\n",
       " '’',\n",
       " 've',\n",
       " 'made',\n",
       " 'within',\n",
       " 'this',\n",
       " 'program',\n",
       " 'over',\n",
       " 'mani',\n",
       " 'year',\n",
       " ',',\n",
       " '”',\n",
       " 'he',\n",
       " 'said.a',\n",
       " 'local',\n",
       " 'newspap',\n",
       " ',',\n",
       " 'the',\n",
       " 'news',\n",
       " '&',\n",
       " 'observ',\n",
       " 'in',\n",
       " 'raleigh',\n",
       " ',',\n",
       " 'post',\n",
       " 'an',\n",
       " 'editori',\n",
       " 'thursday',\n",
       " 'even',\n",
       " 'in',\n",
       " 'respons',\n",
       " 'to',\n",
       " 'the',\n",
       " 'time',\n",
       " 'articl',\n",
       " 'that',\n",
       " 'said',\n",
       " '“',\n",
       " 'it',\n",
       " 'will',\n",
       " 'take',\n",
       " 'leader',\n",
       " 'outsid',\n",
       " 'of',\n",
       " 'the',\n",
       " 'self-serv',\n",
       " 'rank',\n",
       " 'of',\n",
       " 'unc',\n",
       " '’',\n",
       " 's',\n",
       " 'leadership',\n",
       " 'to',\n",
       " 'crack',\n",
       " 'it',\n",
       " 'cultur',\n",
       " 'of',\n",
       " 'arrog',\n",
       " 'denial',\n",
       " 'and',\n",
       " 'bring',\n",
       " 'it',\n",
       " 'back',\n",
       " 'to',\n",
       " 'be',\n",
       " 'a',\n",
       " 'servant',\n",
       " 'of',\n",
       " 'the',\n",
       " 'people.',\n",
       " '”',\n",
       " 'unc',\n",
       " 'health',\n",
       " 'care',\n",
       " 'has',\n",
       " 'defend',\n",
       " 'it',\n",
       " 'surgeri',\n",
       " 'program',\n",
       " ',',\n",
       " 'describ',\n",
       " 'it',\n",
       " 'as',\n",
       " '“',\n",
       " 'veri',\n",
       " 'strong',\n",
       " '”',\n",
       " 'while',\n",
       " 'deni',\n",
       " 'ani',\n",
       " 'past',\n",
       " 'problem',\n",
       " 'affect',\n",
       " 'patient',\n",
       " 'care',\n",
       " '.',\n",
       " 'administr',\n",
       " 'said',\n",
       " 'there',\n",
       " 'was',\n",
       " '“',\n",
       " 'a',\n",
       " 'dysfunct',\n",
       " 'group',\n",
       " '”',\n",
       " 'in',\n",
       " '2016',\n",
       " 'that',\n",
       " 'sow',\n",
       " 'mistrust',\n",
       " ',',\n",
       " 'creat',\n",
       " '“',\n",
       " 'team',\n",
       " 'cultur',\n",
       " 'issu',\n",
       " ',',\n",
       " '”',\n",
       " 'and',\n",
       " 'they',\n",
       " 'maintain',\n",
       " 'that',\n",
       " 'there',\n",
       " 'is',\n",
       " 'a',\n",
       " 'differ',\n",
       " 'team',\n",
       " 'at',\n",
       " 'the',\n",
       " 'hospit',\n",
       " 'today.administr',\n",
       " 'told',\n",
       " 'the',\n",
       " 'time',\n",
       " 'it',\n",
       " 'had',\n",
       " 'conduct',\n",
       " 'a',\n",
       " '“',\n",
       " 'thorough',\n",
       " 'intern',\n",
       " 'investig',\n",
       " '”',\n",
       " 'of',\n",
       " 'it',\n",
       " 'heart',\n",
       " 'surgeri',\n",
       " 'program',\n",
       " 'in',\n",
       " '2016',\n",
       " 'and',\n",
       " 'had',\n",
       " 'determin',\n",
       " '“',\n",
       " 'critic',\n",
       " 'of',\n",
       " 'the',\n",
       " 'program',\n",
       " 'was',\n",
       " 'found',\n",
       " 'to',\n",
       " 'be',\n",
       " 'unsubstantiated.',\n",
       " '”',\n",
       " 'the',\n",
       " 'time',\n",
       " 'is',\n",
       " 'su',\n",
       " 'the',\n",
       " 'hospit',\n",
       " 'for',\n",
       " 'mortal',\n",
       " 'data',\n",
       " 'relat',\n",
       " 'to',\n",
       " 'pediatr',\n",
       " 'heart',\n",
       " 'surgeri',\n",
       " 'that',\n",
       " 'the',\n",
       " 'hospit',\n",
       " 'has',\n",
       " 'refus',\n",
       " 'to',\n",
       " 'provid',\n",
       " 'under',\n",
       " 'the',\n",
       " 'state',\n",
       " '’',\n",
       " 's',\n",
       " 'open',\n",
       " 'record',\n",
       " 'law',\n",
       " '.']"
      ]
     },
     "execution_count": 35,
     "metadata": {},
     "output_type": "execute_result"
    }
   ],
   "source": [
    "snowball_test_token"
   ]
  },
  {
   "cell_type": "markdown",
   "metadata": {},
   "source": [
    "# vectorizer"
   ]
  },
  {
   "cell_type": "markdown",
   "metadata": {},
   "source": [
    "# SNOWBALL tfidf"
   ]
  },
  {
   "cell_type": "code",
   "execution_count": 36,
   "metadata": {},
   "outputs": [],
   "source": [
    "# %%time\n",
    "# #create vectorizer\n",
    "\n",
    "# snow_vectorizer = TfidfVectorizer(#input='content', \n",
    "# #                 encoding='utf-8', \n",
    "# #                 decode_error='strict', \n",
    "#                  strip_accents='ascii', \n",
    "#                  lowercase=True, \n",
    "# #                 preprocessor=None, \n",
    "#                  tokenizer=snowball_tokenize, \n",
    "# #                 analyzer='word', \n",
    "#                  stop_words='english', \n",
    "# #                 token_pattern='(?u)\\b\\w\\w+\\b', \n",
    "# #                 ngram_range=(1, 1), \n",
    "#                  max_df=0.90, \n",
    "#                  min_df=0.10, \n",
    "#                  max_features=None, \n",
    "# #                 vocabulary=None, \n",
    "# #                 binary=False, \n",
    "# #                 dtype=<class 'numpy.float64'>, \n",
    "# #                 norm='l2', \n",
    "# #                 use_idf=True, \n",
    "# #                 smooth_idf=True, \n",
    "# #                 sublinear_tf=False\n",
    "# )"
   ]
  },
  {
   "cell_type": "markdown",
   "metadata": {},
   "source": [
    "<!-- /Users/djbetts/opt/anaconda3/lib/python3.7/site-packages/sklearn/feature_extraction/text.py:386: UserWarning: Your stop_words may be inconsistent with your preprocessing. Tokenizing the stop words generated tokens ['abov', 'afterward', 'alon', 'alreadi', 'alway', 'ani', 'anoth', 'anyon', 'anyth', 'anywher', 'becam', 'becaus', 'becom', 'befor', 'besid', 'cri', 'describ', 'dure', 'els', 'elsewher', 'empti', 'everi', 'everyon', 'everyth', 'everywher', 'fifti', 'forti', 'henc', 'hereaft', 'herebi', 'howev', 'hundr', 'inde', 'mani', 'meanwhil', 'moreov', 'nobodi', 'noon', 'noth', 'nowher', 'onc', 'onli', 'otherwis', 'ourselv', 'perhap', 'pleas', 'sever', 'sinc', 'sincer', 'sixti', 'someon', 'someth', 'sometim', 'somewher', 'themselv', 'thenc', 'thereaft', 'therebi', 'therefor', 'togeth', 'twelv', 'twenti', 'veri', 'whatev', 'whenc', 'whenev', 'wherea', 'whereaft', 'wherebi', 'wherev', 'whi', 'yourselv'] not in stop_words.\n",
    "  'stop_words.' % sorted(inconsistent)) -->"
   ]
  },
  {
   "cell_type": "markdown",
   "metadata": {},
   "source": [
    "# WORDNET tfidf"
   ]
  },
  {
   "cell_type": "code",
   "execution_count": 71,
   "metadata": {},
   "outputs": [],
   "source": [
    "#function that removes string.punctuation w/out the '?'\n",
    "def punc_strip(document):\n",
    "    for char in document:\n",
    "        if char in '!\"#$%&\\'()*+,-./:;<=>?@[\\\\]^_`{|}~”“’—':\n",
    "            document = document.replace(char, \" \")\n",
    "    return document"
   ]
  },
  {
   "cell_type": "code",
   "execution_count": 103,
   "metadata": {},
   "outputs": [],
   "source": [
    "stop_words = ['a','b','c','d','e','f','g','h','i','j','k','l','m','n','o','p','q','r','s','t','u','v','w','x','y','z','mr','ms','said',]\n"
   ]
  },
  {
   "cell_type": "code",
   "execution_count": 110,
   "metadata": {},
   "outputs": [
    {
     "name": "stdout",
     "output_type": "stream",
     "text": [
      "CPU times: user 97 µs, sys: 1e+03 ns, total: 98 µs\n",
      "Wall time: 105 µs\n"
     ]
    }
   ],
   "source": [
    "%%time\n",
    "#create vectorizer\n",
    "\n",
    "wordnet_vectorizer = TfidfVectorizer(#input='content', \n",
    "#                 encoding='utf-8', \n",
    "#                 decode_error='strict', \n",
    "#                 strip_accents='ascii', \n",
    "                 lowercase=True, \n",
    "                 preprocessor=punc_strip, \n",
    "                 tokenizer=wordnet_tokenize, \n",
    "#                 analyzer='word', \n",
    "                stop_words=stop_words, \n",
    "#                 token_pattern='(?u)\\b\\w\\w+\\b', \n",
    "                 ngram_range=(1, 1), \n",
    "                 max_df=0.9, \n",
    "                 min_df=0.1, \n",
    "                 max_features=None, \n",
    "#                 vocabulary=None, \n",
    "#                 binary=False, \n",
    "#                 dtype=<class 'numpy.float64'>, \n",
    "#                 norm='l2', \n",
    "#                 use_idf=True, \n",
    "#                 smooth_idf=True, \n",
    "#                 sublinear_tf=False\n",
    ")"
   ]
  },
  {
   "cell_type": "markdown",
   "metadata": {},
   "source": [
    "# test, train, split"
   ]
  },
  {
   "cell_type": "code",
   "execution_count": 111,
   "metadata": {},
   "outputs": [],
   "source": [
    "#test, train, split"
   ]
  },
  {
   "cell_type": "code",
   "execution_count": 112,
   "metadata": {},
   "outputs": [
    {
     "name": "stdout",
     "output_type": "stream",
     "text": [
      "(22674,) (7558,) (22674,) (7558,)\n",
      "CPU times: user 12.3 ms, sys: 1.84 ms, total: 14.2 ms\n",
      "Wall time: 13.1 ms\n"
     ]
    }
   ],
   "source": [
    "%%time\n",
    "#test, train, split\n",
    "\n",
    "X_train, X_test, y_train, y_test = train_test_split(X, y, random_state=50)\n",
    "print(X_train.shape, X_test.shape, y_train.shape, y_test.shape)\n",
    "\n",
    "# (100935, 563) (33645, 563) (100935,) (33645,)\n",
    "# CPU times: user 65.7 ms, sys: 16.5 ms, total: 82.2 ms\n",
    "# Wall time: 81.8 ms"
   ]
  },
  {
   "cell_type": "code",
   "execution_count": 113,
   "metadata": {},
   "outputs": [
    {
     "name": "stdout",
     "output_type": "stream",
     "text": [
      "2021-01-06 17:19:20.497011\n",
      "CPU times: user 3min 15s, sys: 2.74 s, total: 3min 18s\n",
      "Wall time: 3min 21s\n"
     ]
    }
   ],
   "source": [
    "%%time\n",
    "print(datetime.datetime.now())\n",
    "X_train =  wordnet_vectorizer.fit_transform(X_train)"
   ]
  },
  {
   "cell_type": "code",
   "execution_count": 114,
   "metadata": {},
   "outputs": [
    {
     "name": "stdout",
     "output_type": "stream",
     "text": [
      "2021-01-06 17:22:41.783385\n",
      "CPU times: user 1min 3s, sys: 795 ms, total: 1min 4s\n",
      "Wall time: 1min 5s\n"
     ]
    }
   ],
   "source": [
    "%%time\n",
    "print(datetime.datetime.now())\n",
    "X_test = wordnet_vectorizer.transform(X_test)"
   ]
  },
  {
   "cell_type": "code",
   "execution_count": 115,
   "metadata": {},
   "outputs": [],
   "source": [
    "vocab = wordnet_vectorizer.vocabulary_"
   ]
  },
  {
   "cell_type": "code",
   "execution_count": 116,
   "metadata": {},
   "outputs": [
    {
     "data": {
      "text/plain": [
       "852"
      ]
     },
     "execution_count": 116,
     "metadata": {},
     "output_type": "execute_result"
    }
   ],
   "source": [
    "len(vocab)"
   ]
  },
  {
   "cell_type": "code",
   "execution_count": 117,
   "metadata": {},
   "outputs": [
    {
     "data": {
      "text/plain": [
       "(22674, 852)"
      ]
     },
     "execution_count": 117,
     "metadata": {},
     "output_type": "execute_result"
    }
   ],
   "source": [
    "X_train.shape"
   ]
  },
  {
   "cell_type": "code",
   "execution_count": 118,
   "metadata": {},
   "outputs": [
    {
     "data": {
      "text/plain": [
       "(7558, 852)"
      ]
     },
     "execution_count": 118,
     "metadata": {},
     "output_type": "execute_result"
    }
   ],
   "source": [
    "X_test.shape"
   ]
  },
  {
   "cell_type": "markdown",
   "metadata": {},
   "source": [
    "# count vectorizer"
   ]
  },
  {
   "cell_type": "code",
   "execution_count": 119,
   "metadata": {},
   "outputs": [],
   "source": [
    "# count_vectorizer = CountVectorizer(strip_accents='None',\n",
    "#                                    lowercase=True,\n",
    "#                                    tokenizer=snowball_tokenize,\n",
    "#                                    stop_words='english',\n",
    "#                                    max_features=None)"
   ]
  },
  {
   "cell_type": "markdown",
   "metadata": {},
   "source": [
    "# balance classes"
   ]
  },
  {
   "cell_type": "code",
   "execution_count": 120,
   "metadata": {},
   "outputs": [
    {
     "name": "stdout",
     "output_type": "stream",
     "text": [
      "[(0, 1554), (1, 1554)]\n",
      "RandomUnderSampler(random_state=0)\n",
      "CPU times: user 23.9 ms, sys: 3.61 ms, total: 27.6 ms\n",
      "Wall time: 26.9 ms\n"
     ]
    }
   ],
   "source": [
    "%%time\n",
    "#balance the classes\n",
    "\n",
    "from imblearn.under_sampling import RandomUnderSampler\n",
    "rus = RandomUnderSampler(random_state=0)\n",
    "\n",
    "#X, y --> X_resampled, y_resampled\n",
    "X_resampled, y_resampled = rus.fit_resample(X_train, y_train)\n",
    "print(sorted(Counter(y_resampled).items()))\n",
    "print(rus)"
   ]
  },
  {
   "cell_type": "markdown",
   "metadata": {},
   "source": [
    "# random forest classifier"
   ]
  },
  {
   "cell_type": "code",
   "execution_count": 121,
   "metadata": {},
   "outputs": [
    {
     "name": "stdout",
     "output_type": "stream",
     "text": [
      "2021-01-06 17:23:47.157852\n",
      "CPU times: user 699 ms, sys: 14.7 ms, total: 714 ms\n",
      "Wall time: 723 ms\n"
     ]
    }
   ],
   "source": [
    "%%time\n",
    "print(datetime.datetime.now())\n",
    "rf_clf = RandomForestClassifier(max_depth=2, random_state=0)\n",
    "rf_clf.fit(X_resampled, y_resampled)\n",
    "y_pred = rf_clf.predict(X_test)"
   ]
  },
  {
   "cell_type": "code",
   "execution_count": 122,
   "metadata": {},
   "outputs": [
    {
     "data": {
      "text/plain": [
       "(7558,)"
      ]
     },
     "execution_count": 122,
     "metadata": {},
     "output_type": "execute_result"
    }
   ],
   "source": [
    "y_pred.shape"
   ]
  },
  {
   "cell_type": "markdown",
   "metadata": {},
   "source": [
    "### metrics y_pred"
   ]
  },
  {
   "cell_type": "code",
   "execution_count": 123,
   "metadata": {},
   "outputs": [],
   "source": [
    "tn, fp, fn, tp = confusion_matrix(y_true = y_test, y_pred = y_pred).ravel()"
   ]
  },
  {
   "cell_type": "code",
   "execution_count": 124,
   "metadata": {},
   "outputs": [
    {
     "name": "stdout",
     "output_type": "stream",
     "text": [
      "(7558,)\n",
      "(7558,)\n"
     ]
    }
   ],
   "source": [
    "print(y_test.shape)\n",
    "print(y_pred.shape)"
   ]
  },
  {
   "cell_type": "code",
   "execution_count": 125,
   "metadata": {},
   "outputs": [
    {
     "name": "stdout",
     "output_type": "stream",
     "text": [
      "accuracy = 0.8163535326806033\n",
      "recall = 0.8512396694214877\n",
      "precision = 0.23842592592592593\n",
      "tn:5758 fp:1316 fn:72 tp:412\n"
     ]
    }
   ],
   "source": [
    "metrics_(tn, fp, fn, tp)"
   ]
  },
  {
   "cell_type": "code",
   "execution_count": 126,
   "metadata": {},
   "outputs": [
    {
     "data": {
      "image/png": "[encoded data removed]",
      "text/plain": [
       "<Figure size 432x288 with 2 Axes>"
      ]
     },
     "metadata": {},
     "output_type": "display_data"
    }
   ],
   "source": [
    "class_names = [\"News\", \"Op-Ed\"]\n",
    "\n",
    "plot_confusion_matrix(estimator=rf_clf,\n",
    "                      X=X_test,\n",
    "                      y_true=y_test,\n",
    "                      display_labels=class_names,\n",
    "                     cmap='cividis');"
   ]
  },
  {
   "cell_type": "markdown",
   "metadata": {},
   "source": [
    "# important features"
   ]
  },
  {
   "cell_type": "markdown",
   "metadata": {},
   "source": [
    "### feature imporance"
   ]
  },
  {
   "cell_type": "code",
   "execution_count": 127,
   "metadata": {},
   "outputs": [
    {
     "name": "stdout",
     "output_type": "stream",
     "text": [
      "2021-01-06 17:23:48.347181\n",
      "CPU times: user 340 ms, sys: 14.2 ms, total: 354 ms\n",
      "Wall time: 355 ms\n"
     ]
    },
    {
     "data": {
      "image/png": "[encoded data removed]",
      "text/plain": [
       "<Figure size 1440x1080 with 1 Axes>"
      ]
     },
     "metadata": {},
     "output_type": "display_data"
    }
   ],
   "source": [
    "%%time\n",
    "print(datetime.datetime.now())\n",
    "\n",
    "feat_names = wordnet_vectorizer.get_feature_names()\n",
    "feature_import = rf_clf.feature_importances_\n",
    "\n",
    "feat_scores = pd.Series(feature_import,\n",
    "                           index=feat_names)\n",
    "feat_scores = feat_scores.sort_values()\n",
    "ax = feat_scores[-15:].plot(kind='barh', figsize=(20,15))\n",
    "ax.set_title('\"Decrease in Impurity\" Importance')\n",
    "ax.set_xlabel('Average contribution to the reduction in variance')\n",
    "plt.savefig('important_feat_bar');"
   ]
  },
  {
   "cell_type": "markdown",
   "metadata": {},
   "source": [
    "### permutation importance"
   ]
  },
  {
   "cell_type": "code",
   "execution_count": 128,
   "metadata": {},
   "outputs": [],
   "source": [
    "# %%time\n",
    "# print(datetime.datetime.now())\n",
    "# r = permutation_importance(rf_clf, X_test.toarray(), y_test, n_repeats=30, random_state=0)\n",
    "# for i in r.importances_mean.argsort()[::-1]:\n",
    "#     if r.importances_mean[i] - 2 * r.importances_std[i] > 0:\n",
    "#         print(f\"{feat_names[i]:<8}\"\n",
    "#               f\"{r.importances_mean[i]:.3f}\"\n",
    "#               f\" +/- {r.importances_std[i]:.3f}\")"
   ]
  },
  {
   "cell_type": "code",
   "execution_count": 129,
   "metadata": {},
   "outputs": [
    {
     "data": {
      "text/plain": [
       "852"
      ]
     },
     "execution_count": 129,
     "metadata": {},
     "output_type": "execute_result"
    }
   ],
   "source": [
    "len(feat_names)"
   ]
  },
  {
   "cell_type": "code",
   "execution_count": 130,
   "metadata": {},
   "outputs": [
    {
     "data": {
      "text/plain": [
       "['000',\n",
       " '1',\n",
       " '10',\n",
       " '100',\n",
       " '11',\n",
       " '12',\n",
       " '13',\n",
       " '14',\n",
       " '15',\n",
       " '16',\n",
       " '17',\n",
       " '18',\n",
       " '2',\n",
       " '20',\n",
       " '2014',\n",
       " '2015',\n",
       " '2016',\n",
       " '2017',\n",
       " '2018',\n",
       " '2020',\n",
       " '25',\n",
       " '3',\n",
       " '30',\n",
       " '4',\n",
       " '40',\n",
       " '5',\n",
       " '50',\n",
       " '500',\n",
       " '6',\n",
       " '7',\n",
       " '8',\n",
       " '9',\n",
       " 'ability',\n",
       " 'able',\n",
       " 'about',\n",
       " 'access',\n",
       " 'according',\n",
       " 'account',\n",
       " 'accused',\n",
       " 'across',\n",
       " 'act',\n",
       " 'action',\n",
       " 'actually',\n",
       " 'added',\n",
       " 'adding',\n",
       " 'address',\n",
       " 'administration',\n",
       " 'after',\n",
       " 'again',\n",
       " 'against',\n",
       " 'age',\n",
       " 'agency',\n",
       " 'ago',\n",
       " 'agreed',\n",
       " 'ahead',\n",
       " 'air',\n",
       " 'all',\n",
       " 'allow',\n",
       " 'allowed',\n",
       " 'almost',\n",
       " 'alone',\n",
       " 'along',\n",
       " 'already',\n",
       " 'also',\n",
       " 'although',\n",
       " 'always',\n",
       " 'am',\n",
       " 'america',\n",
       " 'american',\n",
       " 'among',\n",
       " 'amount',\n",
       " 'announced',\n",
       " 'another',\n",
       " 'answer',\n",
       " 'any',\n",
       " 'anyone',\n",
       " 'anything',\n",
       " 'appeared',\n",
       " 'approach',\n",
       " 'april',\n",
       " 'are',\n",
       " 'area',\n",
       " 'around',\n",
       " 'art',\n",
       " 'ask',\n",
       " 'asked',\n",
       " 'attack',\n",
       " 'attempt',\n",
       " 'attention',\n",
       " 'authority',\n",
       " 'available',\n",
       " 'away',\n",
       " 'back',\n",
       " 'bad',\n",
       " 'based',\n",
       " 'be',\n",
       " 'became',\n",
       " 'because',\n",
       " 'become',\n",
       " 'been',\n",
       " 'before',\n",
       " 'began',\n",
       " 'begin',\n",
       " 'behind',\n",
       " 'being',\n",
       " 'believe',\n",
       " 'benefit',\n",
       " 'best',\n",
       " 'better',\n",
       " 'between',\n",
       " 'beyond',\n",
       " 'big',\n",
       " 'biggest',\n",
       " 'bill',\n",
       " 'billion',\n",
       " 'bit',\n",
       " 'black',\n",
       " 'board',\n",
       " 'body',\n",
       " 'book',\n",
       " 'born',\n",
       " 'both',\n",
       " 'break',\n",
       " 'bring',\n",
       " 'brought',\n",
       " 'build',\n",
       " 'building',\n",
       " 'built',\n",
       " 'business',\n",
       " 'buy',\n",
       " 'california',\n",
       " 'call',\n",
       " 'called',\n",
       " 'calling',\n",
       " 'came',\n",
       " 'campaign',\n",
       " 'can',\n",
       " 'candidate',\n",
       " 'capital',\n",
       " 'car',\n",
       " 'care',\n",
       " 'career',\n",
       " 'case',\n",
       " 'cause',\n",
       " 'center',\n",
       " 'central',\n",
       " 'century',\n",
       " 'certain',\n",
       " 'challenge',\n",
       " 'chance',\n",
       " 'change',\n",
       " 'changed',\n",
       " 'charge',\n",
       " 'chief',\n",
       " 'child',\n",
       " 'choice',\n",
       " 'city',\n",
       " 'claim',\n",
       " 'class',\n",
       " 'clear',\n",
       " 'close',\n",
       " 'co',\n",
       " 'college',\n",
       " 'come',\n",
       " 'coming',\n",
       " 'comment',\n",
       " 'committee',\n",
       " 'common',\n",
       " 'community',\n",
       " 'company',\n",
       " 'concern',\n",
       " 'condition',\n",
       " 'conference',\n",
       " 'congress',\n",
       " 'considered',\n",
       " 'continue',\n",
       " 'continued',\n",
       " 'control',\n",
       " 'conversation',\n",
       " 'cost',\n",
       " 'could',\n",
       " 'country',\n",
       " 'couple',\n",
       " 'course',\n",
       " 'court',\n",
       " 'create',\n",
       " 'created',\n",
       " 'crime',\n",
       " 'crisis',\n",
       " 'critic',\n",
       " 'culture',\n",
       " 'current',\n",
       " 'cut',\n",
       " 'data',\n",
       " 'daughter',\n",
       " 'david',\n",
       " 'day',\n",
       " 'deal',\n",
       " 'death',\n",
       " 'debate',\n",
       " 'decade',\n",
       " 'decided',\n",
       " 'decision',\n",
       " 'declined',\n",
       " 'deep',\n",
       " 'defense',\n",
       " 'demand',\n",
       " 'democrat',\n",
       " 'democratic',\n",
       " 'department',\n",
       " 'described',\n",
       " 'despite',\n",
       " 'detail',\n",
       " 'development',\n",
       " 'did',\n",
       " 'didn',\n",
       " 'died',\n",
       " 'different',\n",
       " 'difficult',\n",
       " 'director',\n",
       " 'district',\n",
       " 'do',\n",
       " 'doe',\n",
       " 'doesn',\n",
       " 'doing',\n",
       " 'dollar',\n",
       " 'don',\n",
       " 'done',\n",
       " 'door',\n",
       " 'down',\n",
       " 'dozen',\n",
       " 'dr',\n",
       " 'during',\n",
       " 'each',\n",
       " 'earlier',\n",
       " 'early',\n",
       " 'east',\n",
       " 'easy',\n",
       " 'economic',\n",
       " 'economy',\n",
       " 'effect',\n",
       " 'effort',\n",
       " 'eight',\n",
       " 'either',\n",
       " 'election',\n",
       " 'else',\n",
       " 'email',\n",
       " 'employee',\n",
       " 'end',\n",
       " 'ended',\n",
       " 'enough',\n",
       " 'especially',\n",
       " 'even',\n",
       " 'event',\n",
       " 'eventually',\n",
       " 'ever',\n",
       " 'every',\n",
       " 'everyone',\n",
       " 'everything',\n",
       " 'evidence',\n",
       " 'example',\n",
       " 'executive',\n",
       " 'expected',\n",
       " 'experience',\n",
       " 'expert',\n",
       " 'eye',\n",
       " 'face',\n",
       " 'facebook',\n",
       " 'fact',\n",
       " 'fall',\n",
       " 'family',\n",
       " 'far',\n",
       " 'father',\n",
       " 'fear',\n",
       " 'federal',\n",
       " 'feel',\n",
       " 'feeling',\n",
       " 'felt',\n",
       " 'few',\n",
       " 'field',\n",
       " 'fight',\n",
       " 'figure',\n",
       " 'final',\n",
       " 'financial',\n",
       " 'find',\n",
       " 'fire',\n",
       " 'firm',\n",
       " 'first',\n",
       " 'five',\n",
       " 'focus',\n",
       " 'focused',\n",
       " 'follow',\n",
       " 'followed',\n",
       " 'following',\n",
       " 'food',\n",
       " 'foot',\n",
       " 'force',\n",
       " 'foreign',\n",
       " 'form',\n",
       " 'former',\n",
       " 'forward',\n",
       " 'found',\n",
       " 'four',\n",
       " 'free',\n",
       " 'friday',\n",
       " 'friend',\n",
       " 'front',\n",
       " 'full',\n",
       " 'fund',\n",
       " 'further',\n",
       " 'future',\n",
       " 'game',\n",
       " 'gave',\n",
       " 'general',\n",
       " 'get',\n",
       " 'getting',\n",
       " 'give',\n",
       " 'given',\n",
       " 'global',\n",
       " 'go',\n",
       " 'goal',\n",
       " 'going',\n",
       " 'gone',\n",
       " 'good',\n",
       " 'got',\n",
       " 'government',\n",
       " 'great',\n",
       " 'grew',\n",
       " 'ground',\n",
       " 'group',\n",
       " 'growing',\n",
       " 'ha',\n",
       " 'had',\n",
       " 'half',\n",
       " 'hand',\n",
       " 'happened',\n",
       " 'hard',\n",
       " 'have',\n",
       " 'having',\n",
       " 'he',\n",
       " 'head',\n",
       " 'health',\n",
       " 'heard',\n",
       " 'heart',\n",
       " 'held',\n",
       " 'help',\n",
       " 'helped',\n",
       " 'her',\n",
       " 'here',\n",
       " 'high',\n",
       " 'higher',\n",
       " 'him',\n",
       " 'himself',\n",
       " 'his',\n",
       " 'history',\n",
       " 'hit',\n",
       " 'hold',\n",
       " 'home',\n",
       " 'hope',\n",
       " 'hour',\n",
       " 'house',\n",
       " 'how',\n",
       " 'however',\n",
       " 'human',\n",
       " 'hundred',\n",
       " 'idea',\n",
       " 'if',\n",
       " 'immediately',\n",
       " 'important',\n",
       " 'include',\n",
       " 'included',\n",
       " 'includes',\n",
       " 'including',\n",
       " 'increase',\n",
       " 'increasingly',\n",
       " 'individual',\n",
       " 'industry',\n",
       " 'information',\n",
       " 'inside',\n",
       " 'instead',\n",
       " 'interest',\n",
       " 'international',\n",
       " 'interview',\n",
       " 'into',\n",
       " 'investigation',\n",
       " 'involved',\n",
       " 'isn',\n",
       " 'issue',\n",
       " 'itself',\n",
       " 'job',\n",
       " 'john',\n",
       " 'july',\n",
       " 'june',\n",
       " 'just',\n",
       " 'justice',\n",
       " 'keep',\n",
       " 'kept',\n",
       " 'key',\n",
       " 'killed',\n",
       " 'kind',\n",
       " 'knew',\n",
       " 'know',\n",
       " 'known',\n",
       " 'large',\n",
       " 'largely',\n",
       " 'largest',\n",
       " 'last',\n",
       " 'late',\n",
       " 'later',\n",
       " 'latest',\n",
       " 'law',\n",
       " 'lawyer',\n",
       " 'le',\n",
       " 'lead',\n",
       " 'leader',\n",
       " 'leading',\n",
       " 'least',\n",
       " 'leave',\n",
       " 'leaving',\n",
       " 'led',\n",
       " 'left',\n",
       " 'legal',\n",
       " 'let',\n",
       " 'letter',\n",
       " 'level',\n",
       " 'life',\n",
       " 'light',\n",
       " 'like',\n",
       " 'likely',\n",
       " 'line',\n",
       " 'list',\n",
       " 'little',\n",
       " 'live',\n",
       " 'living',\n",
       " 'll',\n",
       " 'local',\n",
       " 'long',\n",
       " 'longer',\n",
       " 'look',\n",
       " 'looked',\n",
       " 'looking',\n",
       " 'lost',\n",
       " 'lot',\n",
       " 'love',\n",
       " 'low',\n",
       " 'lower',\n",
       " 'made',\n",
       " 'main',\n",
       " 'major',\n",
       " 'majority',\n",
       " 'make',\n",
       " 'making',\n",
       " 'man',\n",
       " 'manager',\n",
       " 'manhattan',\n",
       " 'many',\n",
       " 'march',\n",
       " 'mark',\n",
       " 'market',\n",
       " 'matter',\n",
       " 'may',\n",
       " 'maybe',\n",
       " 'me',\n",
       " 'mean',\n",
       " 'meant',\n",
       " 'measure',\n",
       " 'medium',\n",
       " 'meet',\n",
       " 'meeting',\n",
       " 'member',\n",
       " 'men',\n",
       " 'message',\n",
       " 'met',\n",
       " 'michael',\n",
       " 'middle',\n",
       " 'might',\n",
       " 'mile',\n",
       " 'military',\n",
       " 'million',\n",
       " 'mind',\n",
       " 'minister',\n",
       " 'minute',\n",
       " 'moment',\n",
       " 'monday',\n",
       " 'money',\n",
       " 'month',\n",
       " 'more',\n",
       " 'morning',\n",
       " 'most',\n",
       " 'mostly',\n",
       " 'mother',\n",
       " 'move',\n",
       " 'moved',\n",
       " 'movement',\n",
       " 'moving',\n",
       " 'much',\n",
       " 'must',\n",
       " 'my',\n",
       " 'name',\n",
       " 'named',\n",
       " 'nation',\n",
       " 'national',\n",
       " 'near',\n",
       " 'nearly',\n",
       " 'need',\n",
       " 'needed',\n",
       " 'network',\n",
       " 'never',\n",
       " 'new',\n",
       " 'news',\n",
       " 'next',\n",
       " 'night',\n",
       " 'no',\n",
       " 'north',\n",
       " 'not',\n",
       " 'noted',\n",
       " 'nothing',\n",
       " 'now',\n",
       " 'number',\n",
       " 'off',\n",
       " 'offer',\n",
       " 'offered',\n",
       " 'office',\n",
       " 'officer',\n",
       " 'official',\n",
       " 'often',\n",
       " 'old',\n",
       " 'once',\n",
       " 'one',\n",
       " 'online',\n",
       " 'only',\n",
       " 'open',\n",
       " 'opened',\n",
       " 'operation',\n",
       " 'opportunity',\n",
       " 'or',\n",
       " 'order',\n",
       " 'organization',\n",
       " 'other',\n",
       " 'others',\n",
       " 'our',\n",
       " 'out',\n",
       " 'outside',\n",
       " 'over',\n",
       " 'own',\n",
       " 'owner',\n",
       " 'page',\n",
       " 'paid',\n",
       " 'parent',\n",
       " 'park',\n",
       " 'part',\n",
       " 'particularly',\n",
       " 'partner',\n",
       " 'party',\n",
       " 'past',\n",
       " 'pay',\n",
       " 'people',\n",
       " 'percent',\n",
       " 'performance',\n",
       " 'perhaps',\n",
       " 'period',\n",
       " 'person',\n",
       " 'personal',\n",
       " 'phone',\n",
       " 'piece',\n",
       " 'place',\n",
       " 'plan',\n",
       " 'play',\n",
       " 'played',\n",
       " 'player',\n",
       " 'playing',\n",
       " 'point',\n",
       " 'police',\n",
       " 'policy',\n",
       " 'political',\n",
       " 'politics',\n",
       " 'popular',\n",
       " 'position',\n",
       " 'possible',\n",
       " 'post',\n",
       " 'potential',\n",
       " 'power',\n",
       " 'practice',\n",
       " 'president',\n",
       " 'presidential',\n",
       " 'pressure',\n",
       " 'previous',\n",
       " 'price',\n",
       " 'private',\n",
       " 'probably',\n",
       " 'problem',\n",
       " 'process',\n",
       " 'product',\n",
       " 'professor',\n",
       " 'program',\n",
       " 'project',\n",
       " 'provide',\n",
       " 'public',\n",
       " 'published',\n",
       " 'put',\n",
       " 'question',\n",
       " 'quickly',\n",
       " 'race',\n",
       " 'raised',\n",
       " 'rate',\n",
       " 'rather',\n",
       " 're',\n",
       " 'reach',\n",
       " 'reached',\n",
       " 'read',\n",
       " 'real',\n",
       " 'really',\n",
       " 'reason',\n",
       " 'received',\n",
       " 'recent',\n",
       " 'recently',\n",
       " 'record',\n",
       " 'red',\n",
       " 'related',\n",
       " 'relationship',\n",
       " 'released',\n",
       " 'remain',\n",
       " 'remains',\n",
       " 'report',\n",
       " 'reported',\n",
       " 'reporter',\n",
       " 'representative',\n",
       " 'republican',\n",
       " 'request',\n",
       " 'research',\n",
       " 'response',\n",
       " 'rest',\n",
       " 'result',\n",
       " 'return',\n",
       " 'review',\n",
       " 'right',\n",
       " 'risk',\n",
       " 'robert',\n",
       " 'role',\n",
       " 'room',\n",
       " 'rule',\n",
       " 'run',\n",
       " 'running',\n",
       " 'sale',\n",
       " 'same',\n",
       " 'saturday',\n",
       " 'saw',\n",
       " 'say',\n",
       " 'saying',\n",
       " 'scene',\n",
       " 'school',\n",
       " 'season',\n",
       " 'second',\n",
       " 'secretary',\n",
       " 'security',\n",
       " 'see',\n",
       " 'seeking',\n",
       " 'seem',\n",
       " 'seemed',\n",
       " 'seems',\n",
       " 'seen',\n",
       " 'self',\n",
       " 'senator',\n",
       " 'senior',\n",
       " 'sense',\n",
       " 'sent',\n",
       " 'series',\n",
       " 'serious',\n",
       " 'served',\n",
       " 'service',\n",
       " 'set',\n",
       " 'seven',\n",
       " 'several',\n",
       " 'share',\n",
       " 'she',\n",
       " 'short',\n",
       " 'shot',\n",
       " 'should',\n",
       " 'show',\n",
       " 'showed',\n",
       " 'side',\n",
       " 'sign',\n",
       " 'significant',\n",
       " 'similar',\n",
       " 'simply',\n",
       " 'since',\n",
       " 'single',\n",
       " 'site',\n",
       " 'situation',\n",
       " 'six',\n",
       " 'small',\n",
       " 'so',\n",
       " 'social',\n",
       " 'some',\n",
       " 'someone',\n",
       " 'something',\n",
       " 'sometimes',\n",
       " 'son',\n",
       " 'soon',\n",
       " 'south',\n",
       " 'space',\n",
       " 'special',\n",
       " 'spent',\n",
       " 'spoke',\n",
       " 'spokesman',\n",
       " 'staff',\n",
       " 'stage',\n",
       " 'stand',\n",
       " 'standard',\n",
       " 'star',\n",
       " 'start',\n",
       " 'started',\n",
       " 'starting',\n",
       " 'state',\n",
       " 'statement',\n",
       " 'stay',\n",
       " 'step',\n",
       " 'still',\n",
       " 'stop',\n",
       " 'story',\n",
       " 'street',\n",
       " 'strong',\n",
       " 'student',\n",
       " 'study',\n",
       " 'style',\n",
       " 'such',\n",
       " 'suggested',\n",
       " 'summer',\n",
       " 'sunday',\n",
       " 'support',\n",
       " 'sure',\n",
       " 'system',\n",
       " 'take',\n",
       " 'taken',\n",
       " 'taking',\n",
       " 'talk',\n",
       " 'talking',\n",
       " 'team',\n",
       " 'technology',\n",
       " 'television',\n",
       " 'tell',\n",
       " 'term',\n",
       " 'than',\n",
       " 'their',\n",
       " 'them',\n",
       " 'themselves',\n",
       " 'then',\n",
       " 'there',\n",
       " 'these',\n",
       " 'they',\n",
       " 'thing',\n",
       " 'think',\n",
       " 'third',\n",
       " 'this',\n",
       " 'those',\n",
       " 'though',\n",
       " 'thought',\n",
       " 'thousand',\n",
       " 'threat',\n",
       " 'three',\n",
       " 'through',\n",
       " 'thursday',\n",
       " 'time',\n",
       " 'today',\n",
       " 'together',\n",
       " 'told',\n",
       " 'too',\n",
       " 'took',\n",
       " 'top',\n",
       " 'toward',\n",
       " 'town',\n",
       " 'trade',\n",
       " 'tried',\n",
       " 'true',\n",
       " 'trump',\n",
       " 'try',\n",
       " 'trying',\n",
       " 'tuesday',\n",
       " 'turn',\n",
       " 'turned',\n",
       " 'twitter',\n",
       " 'two',\n",
       " 'under',\n",
       " 'understand',\n",
       " 'union',\n",
       " 'united',\n",
       " 'university',\n",
       " 'until',\n",
       " 'up',\n",
       " 'use',\n",
       " 'used',\n",
       " 'using',\n",
       " 'value',\n",
       " 've',\n",
       " 'version',\n",
       " 'very',\n",
       " 'vice',\n",
       " 'video',\n",
       " 'view',\n",
       " 'visit',\n",
       " 'voice',\n",
       " 'vote',\n",
       " 'wall',\n",
       " 'want',\n",
       " 'wanted',\n",
       " 'war',\n",
       " 'washington',\n",
       " 'wasn',\n",
       " 'water',\n",
       " 'way',\n",
       " 'we',\n",
       " 'wednesday',\n",
       " 'week',\n",
       " 'weekend',\n",
       " 'well',\n",
       " 'went',\n",
       " 'were',\n",
       " 'west',\n",
       " 'what',\n",
       " 'when',\n",
       " 'where',\n",
       " 'whether',\n",
       " 'which',\n",
       " 'while',\n",
       " 'white',\n",
       " 'who',\n",
       " 'whole',\n",
       " 'whom',\n",
       " 'whose',\n",
       " 'why',\n",
       " 'wife',\n",
       " 'will',\n",
       " 'win',\n",
       " 'within',\n",
       " 'without',\n",
       " 'woman',\n",
       " 'won',\n",
       " 'word',\n",
       " 'work',\n",
       " 'worked',\n",
       " 'worker',\n",
       " 'working',\n",
       " 'world',\n",
       " 'would',\n",
       " 'wrote',\n",
       " 'year',\n",
       " 'yet',\n",
       " 'york',\n",
       " 'you',\n",
       " 'young',\n",
       " 'your',\n",
       " '‘']"
      ]
     },
     "execution_count": 130,
     "metadata": {},
     "output_type": "execute_result"
    }
   ],
   "source": [
    "feat_names"
   ]
  },
  {
   "cell_type": "code",
   "execution_count": 131,
   "metadata": {},
   "outputs": [],
   "source": [
    "stop_words = wordnet_vectorizer.stop_words_"
   ]
  },
  {
   "cell_type": "code",
   "execution_count": 132,
   "metadata": {},
   "outputs": [
    {
     "data": {
      "text/plain": [
       "152160"
      ]
     },
     "execution_count": 132,
     "metadata": {},
     "output_type": "execute_result"
    }
   ],
   "source": [
    "len(stop_words)"
   ]
  },
  {
   "cell_type": "code",
   "execution_count": 133,
   "metadata": {},
   "outputs": [
    {
     "data": {
      "text/plain": [
       "False"
      ]
     },
     "execution_count": 133,
     "metadata": {},
     "output_type": "execute_result"
    }
   ],
   "source": [
    "wordnet_vectorizer.fixed_vocabulary_"
   ]
  },
  {
   "cell_type": "markdown",
   "metadata": {},
   "source": [
    "# save model as pickle file"
   ]
  },
  {
   "cell_type": "code",
   "execution_count": 134,
   "metadata": {},
   "outputs": [],
   "source": [
    "filename = '/Users/djbetts/Desktop/full_dataset.pkl'"
   ]
  },
  {
   "cell_type": "code",
   "execution_count": 135,
   "metadata": {},
   "outputs": [],
   "source": [
    "#pickle.dump(rf_clf, open(filename, 'wb'))"
   ]
  },
  {
   "cell_type": "code",
   "execution_count": 136,
   "metadata": {},
   "outputs": [],
   "source": [
    "#loaded_model = pickle.load(open(filename, 'rb'))"
   ]
  },
  {
   "cell_type": "code",
   "execution_count": 137,
   "metadata": {},
   "outputs": [],
   "source": [
    "#loaded_model.fit(X_resampled, y_resampled)"
   ]
  },
  {
   "cell_type": "code",
   "execution_count": 138,
   "metadata": {},
   "outputs": [],
   "source": [
    "#result = loaded_model.score(X_resampled, y_resampled)"
   ]
  },
  {
   "cell_type": "code",
   "execution_count": null,
   "metadata": {},
   "outputs": [],
   "source": []
  },
  {
   "cell_type": "code",
   "execution_count": null,
   "metadata": {},
   "outputs": [],
   "source": []
  },
  {
   "cell_type": "code",
   "execution_count": null,
   "metadata": {},
   "outputs": [],
   "source": []
  },
  {
   "cell_type": "code",
   "execution_count": null,
   "metadata": {},
   "outputs": [],
   "source": []
  },
  {
   "cell_type": "code",
   "execution_count": null,
   "metadata": {},
   "outputs": [],
   "source": []
  }
 ],
 "metadata": {
  "kernelspec": {
   "display_name": "Python 3",
   "language": "python",
   "name": "python3"
  },
  "language_info": {
   "codemirror_mode": {
    "name": "ipython",
    "version": 3
   },
   "file_extension": ".py",
   "mimetype": "text/x-python",
   "name": "python",
   "nbconvert_exporter": "python",
   "pygments_lexer": "ipython3",
   "version": "3.7.9"
  }
 },
 "nbformat": 4,
 "nbformat_minor": 4
}
