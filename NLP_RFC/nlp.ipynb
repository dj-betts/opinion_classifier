{
 "cells": [
  {
   "cell_type": "code",
   "execution_count": 1,
   "metadata": {},
   "outputs": [],
   "source": [
    "from functions import vectorize_y_ser"
   ]
  },
  {
   "cell_type": "code",
   "execution_count": 2,
   "metadata": {},
   "outputs": [],
   "source": [
    "import datetime"
   ]
  },
  {
   "cell_type": "code",
   "execution_count": 3,
   "metadata": {},
   "outputs": [],
   "source": [
    "import nltk\n",
    "import string"
   ]
  },
  {
   "cell_type": "code",
   "execution_count": 4,
   "metadata": {},
   "outputs": [],
   "source": [
    "import re"
   ]
  },
  {
   "cell_type": "code",
   "execution_count": 5,
   "metadata": {},
   "outputs": [],
   "source": [
    "import pickle"
   ]
  },
  {
   "cell_type": "code",
   "execution_count": 6,
   "metadata": {},
   "outputs": [],
   "source": [
    "import pandas as pd\n",
    "import numpy as np"
   ]
  },
  {
   "cell_type": "code",
   "execution_count": 7,
   "metadata": {},
   "outputs": [],
   "source": [
    "import matplotlib.pyplot as plt\n",
    "plt.style.use('fivethirtyeight')"
   ]
  },
  {
   "cell_type": "code",
   "execution_count": 8,
   "metadata": {},
   "outputs": [],
   "source": [
    "from sklearn.feature_extraction.text import CountVectorizer, TfidfVectorizer\n",
    "from sklearn.model_selection import train_test_split\n",
    "from sklearn.metrics import confusion_matrix, plot_confusion_matrix\n",
    "from sklearn.naive_bayes import MultinomialNB\n",
    "from sklearn.ensemble import RandomForestClassifier\n",
    "from sklearn.inspection import permutation_importance"
   ]
  },
  {
   "cell_type": "code",
   "execution_count": 9,
   "metadata": {},
   "outputs": [],
   "source": [
    "from collections import Counter"
   ]
  },
  {
   "cell_type": "code",
   "execution_count": 10,
   "metadata": {},
   "outputs": [],
   "source": [
    "from imblearn.under_sampling import RandomUnderSampler"
   ]
  },
  {
   "cell_type": "code",
   "execution_count": 11,
   "metadata": {},
   "outputs": [],
   "source": [
    "from nltk.stem.snowball import SnowballStemmer\n",
    "from nltk.stem.wordnet import WordNetLemmatizer\n",
    "from nltk.tokenize import word_tokenize\n",
    "from nltk.corpus import stopwords"
   ]
  },
  {
   "cell_type": "markdown",
   "metadata": {},
   "source": [
    "# NLP Pipeline \n",
    "\n",
    "![](images/pipeline-walkthrough1.png)\n",
    "\n",
    "Below is a to do list when converting text into vector form: \n",
    "\n",
    "**Clean text and Create a Bag of Words (BoW)**\n",
    ">1. Lowercase the text\n",
    "2. Tokenize \n",
    "3. Strip out punctuation or undesirable text\n",
    "4. Remove Stopwords \n",
    "5. Stemming or Lemmatizing\n",
    "6. Compute N-Grams\n",
    "7. Use this to create BoW\n",
    "\n",
    "**Vectorize BoW**\n",
    ">8. Term Frequencies\n",
    "9. Document Frequencies\n",
    "10. TF-IDF\n",
    "11. Normalize vectors\n",
    "\n",
    "Let's go through both what each of these steps are and how to do them in python with the following corpus of comments about data science...\n",
    " "
   ]
  },
  {
   "cell_type": "code",
   "execution_count": 12,
   "metadata": {},
   "outputs": [],
   "source": [
    "# function to vectorize the type_of_material series into a y target vector.\n",
    "def vectorize_y_ser(ser):\n",
    "    y = ser.copy()\n",
    "    y.replace({'Op-Ed': 1,'News': 0}, inplace=True)\n",
    "    return y"
   ]
  },
  {
   "cell_type": "code",
   "execution_count": 13,
   "metadata": {},
   "outputs": [],
   "source": [
    "#rate of correct predictions out of total predictions\n",
    "def metrics_(tn, fp, fn, tp):\n",
    "    accuracy = (tp + tn) / (tn + fn + tp + fp)\n",
    "    print(f'Accuracy: {round(accuracy, 2)}')\n",
    "    recall = (tp) / (tp + fn)\n",
    "    print(f'Recall: {round(recall, 2)}')\n",
    "    precision = (tp) / (tp + fp)\n",
    "    print(f'Precision: {round(precision, 2)}')\n",
    "    print(f'TN:{tn} FP:{fp} FN:{fn} TP:{tp}')"
   ]
  },
  {
   "cell_type": "code",
   "execution_count": 14,
   "metadata": {},
   "outputs": [],
   "source": [
    "#prints number of features, stop words and parameters for vectorizer\n",
    "def vectorizer_parameters(vectorizer):\n",
    "    #features\n",
    "    feat_names = vectorizer.get_feature_names()\n",
    "    num_feat = len(feat_names)\n",
    "    \n",
    "    #stop words\n",
    "    stop_words = vectorizer.stop_words_\n",
    "    num_stop = len(stop_words)\n",
    "\n",
    "    params = vectorizer.get_params()\n",
    "    \n",
    "    print(f'Number of features: {num_feat}, Numbers of stop words: {num_stop}')\n",
    "      \n",
    "    for key, val in params.items():\n",
    "        print(f'{key}: {val}')"
   ]
  },
  {
   "cell_type": "code",
   "execution_count": 15,
   "metadata": {},
   "outputs": [],
   "source": [
    "#function that removes string.punctuation w/out the '?'\n",
    "def punc_strip(document):\n",
    "    for char in document:\n",
    "        if char in '!\"#$%&\\'()*+—,-./:;<=>?@[\\\\]^_`{|}~”’“':\n",
    "            document = document.replace(char, \" \") \n",
    "    return document"
   ]
  },
  {
   "cell_type": "code",
   "execution_count": 166,
   "metadata": {},
   "outputs": [],
   "source": [
    "import os\n",
    "import glob\n",
    "import pandas as pd\n",
    "\n",
    "#extension = 'csv'\n",
    "#all_filenames = [i for i in glob.glob('*.{}'.format(extension))]\n",
    "df2020 = '/Users/djbetts/Desktop/opinion_classifier/data/archive/raw_2020.csv'\n",
    "df2019 = '/Users/djbetts/Desktop/opinion_classifier/data/archive/raw_2019.csv'\n",
    "df2018 = '/Users/djbetts/Desktop/opinion_classifier/data/archive/raw_2018.csv'\n",
    "df2017 = '/Users/djbetts/Desktop/opinion_classifier/data/archive/raw_2017.csv'\n",
    "df2016 = '/Users/djbetts/Desktop/opinion_classifier/data/archive/raw_2016.csv'\n",
    "df2015 = '/Users/djbetts/Desktop/opinion_classifier/data/archive/raw_2015.csv'\n",
    "df2014 = '/Users/djbetts/Desktop/opinion_classifier/data/archive/raw_2014.csv'\n",
    "df2013 = '/Users/djbetts/Desktop/opinion_classifier/data/archive/raw_2013.csv'\n",
    "df2012 = '/Users/djbetts/Desktop/opinion_classifier/data/archive/raw_2012.csv'\n",
    "df2011 = '/Users/djbetts/Desktop/opinion_classifier/data/archive/raw_2011.csv'\n",
    "df2010 = '/Users/djbetts/Desktop/opinion_classifier/data/archive/raw_2010.csv'\n",
    "df2009 = '/Users/djbetts/Desktop/opinion_classifier/data/archive/raw_2009.csv'\n",
    "df2008 = '/Users/djbetts/Desktop/opinion_classifier/data/archive/raw_2008.csv'\n",
    "df2007 = '/Users/djbetts/Desktop/opinion_classifier/data/archive/raw_2007.csv'\n",
    "df2006 = '/Users/djbetts/Desktop/opinion_classifier/data/archive/raw_2006.csv'\n",
    "df2005 = '/Users/djbetts/Desktop/opinion_classifier/data/archive/raw_2005.csv'\n",
    "df2004 = '/Users/djbetts/Desktop/opinion_classifier/data/archive/raw_2004.csv'\n",
    "df2003 = '/Users/djbetts/Desktop/opinion_classifier/data/archive/raw_2003.csv'\n",
    "df2002 = '/Users/djbetts/Desktop/opinion_classifier/data/archive/raw_2002.csv'\n",
    "df2001 = '/Users/djbetts/Desktop/opinion_classifier/data/archive/raw_2001.csv'\n",
    "df2000 = '/Users/djbetts/Desktop/opinion_classifier/data/archive/raw_2000.csv'"
   ]
  },
  {
   "cell_type": "code",
   "execution_count": 114,
   "metadata": {},
   "outputs": [],
   "source": [
    "#combine print, type, text columns in the list\n",
    "def printed(file):\n",
    "    print_cols = ['_id','print_page','pub_date','keywords','type_of_material','text']    \n",
    "    df = pd.read_csv(file, usecols=print_cols, index_col='_id', low_memory=False)\n",
    "    df = df[df.print_page.isna() == False]\n",
    "    df = df[~df.text.isna() == True]\n",
    "    return df"
   ]
  },
  {
   "cell_type": "code",
   "execution_count": 115,
   "metadata": {},
   "outputs": [],
   "source": [
    "#returns articles w/ 'United States Politics and Government' as a keyword\n",
    "def return_pol_gov(row):\n",
    "    list_dict = eval(row.keywords)\n",
    "    for (dic) in (list_dict):\n",
    "        if dic.get('value') == 'United States Politics and Government':\n",
    "            return True"
   ]
  },
  {
   "cell_type": "code",
   "execution_count": 116,
   "metadata": {},
   "outputs": [],
   "source": [
    "def filter_keyword(df, keyword='United States Politics and Government'):\n",
    "    df[keyword] = df.apply(return_pol_gov, axis=1)    \n",
    "    df = df[df[keyword] == True]\n",
    "    return df"
   ]
  },
  {
   "cell_type": "code",
   "execution_count": 117,
   "metadata": {},
   "outputs": [],
   "source": [
    "#returns shape of news and oped\n",
    "def oped_v_news(df):\n",
    "    df.type_of_material.hist()\n",
    "    news = sum(df.type_of_material == \"News\")\n",
    "    oped = sum(df.type_of_material == \"Op-Ed\")\n",
    "    print(f'News: {news} Oped: {oped}, Total: {oped+news}, Op-Ed {round(oped/(oped+news), 2)} of total')\n",
    "    plt.savefig('../img/oped_news_hist.png')"
   ]
  },
  {
   "cell_type": "code",
   "execution_count": 167,
   "metadata": {},
   "outputs": [],
   "source": [
    "printed_2020 = printed(df2020)\n",
    "printed_2019 = printed(df2019)\n",
    "printed_2018 = printed(df2018)\n",
    "printed_2017 = printed(df2017)\n",
    "printed_2016 = printed(df2016)\n",
    "printed_2015 = printed(df2015)\n",
    "printed_2014 = printed(df2014)\n",
    "printed_2013 = printed(df2013)\n",
    "printed_2012 = printed(df2012)\n",
    "printed_2011 = printed(df2011)\n",
    "printed_2010 = printed(df2010)\n",
    "printed_2009 = printed(df2009)\n",
    "printed_2008 = printed(df2008)\n",
    "printed_2007 = printed(df2007)\n",
    "printed_2006 = printed(df2006)\n",
    "printed_2005 = printed(df2005)\n",
    "printed_2004 = printed(df2004)\n",
    "printed_2003 = printed(df2003)\n",
    "printed_2002 = printed(df2002)\n",
    "printed_2001 = printed(df2001)\n",
    "printed_2000 = printed(df2000)"
   ]
  },
  {
   "cell_type": "code",
   "execution_count": 168,
   "metadata": {},
   "outputs": [
    {
     "name": "stdout",
     "output_type": "stream",
     "text": [
      "(27752, 5)\n",
      "(30232, 5)\n",
      "(31353, 5)\n",
      "(32539, 5)\n",
      "(33838, 5)\n",
      "(34432, 5)\n",
      "(34314, 5)\n",
      "(32789, 5)\n",
      "(32402, 5)\n",
      "(34496, 5)\n",
      "(36351, 5)\n",
      "(36692, 5)\n",
      "(0, 5)\n",
      "(43113, 5)\n",
      "(84734, 5)\n",
      "(54644, 5)\n",
      "(57283, 5)\n",
      "(59961, 5)\n",
      "(61870, 5)\n",
      "(60124, 5)\n",
      "(58080, 5)\n"
     ]
    }
   ],
   "source": [
    "print(printed_2020.shape)\n",
    "print(printed_2019.shape)\n",
    "print(printed_2018.shape)\n",
    "print(printed_2017.shape)\n",
    "print(printed_2016.shape)\n",
    "print(printed_2015.shape)\n",
    "print(printed_2014.shape)\n",
    "print(printed_2013.shape)\n",
    "print(printed_2012.shape)\n",
    "print(printed_2011.shape)\n",
    "print(printed_2010.shape)\n",
    "print(printed_2009.shape)\n",
    "print(printed_2008.shape)\n",
    "print(printed_2007.shape)\n",
    "print(printed_2006.shape)\n",
    "print(printed_2005.shape)\n",
    "print(printed_2004.shape)\n",
    "print(printed_2003.shape)\n",
    "print(printed_2002.shape)\n",
    "print(printed_2001.shape)\n",
    "print(printed_2000.shape)"
   ]
  },
  {
   "cell_type": "code",
   "execution_count": 170,
   "metadata": {},
   "outputs": [
    {
     "data": {
      "text/html": [
       "<div>\n",
       "<style scoped>\n",
       "    .dataframe tbody tr th:only-of-type {\n",
       "        vertical-align: middle;\n",
       "    }\n",
       "\n",
       "    .dataframe tbody tr th {\n",
       "        vertical-align: top;\n",
       "    }\n",
       "\n",
       "    .dataframe thead th {\n",
       "        text-align: right;\n",
       "    }\n",
       "</style>\n",
       "<table border=\"1\" class=\"dataframe\">\n",
       "  <thead>\n",
       "    <tr style=\"text-align: right;\">\n",
       "      <th></th>\n",
       "      <th>keywords</th>\n",
       "      <th>pub_date</th>\n",
       "      <th>type_of_material</th>\n",
       "      <th>print_page</th>\n",
       "      <th>text</th>\n",
       "    </tr>\n",
       "    <tr>\n",
       "      <th>_id</th>\n",
       "      <th></th>\n",
       "      <th></th>\n",
       "      <th></th>\n",
       "      <th></th>\n",
       "      <th></th>\n",
       "    </tr>\n",
       "  </thead>\n",
       "  <tbody>\n",
       "  </tbody>\n",
       "</table>\n",
       "</div>"
      ],
      "text/plain": [
       "Empty DataFrame\n",
       "Columns: [keywords, pub_date, type_of_material, print_page, text]\n",
       "Index: []"
      ]
     },
     "execution_count": 170,
     "metadata": {},
     "output_type": "execute_result"
    }
   ],
   "source": [
    "printed_2008.head()"
   ]
  },
  {
   "cell_type": "markdown",
   "metadata": {},
   "source": [
    "# filter keywords"
   ]
  },
  {
   "cell_type": "code",
   "execution_count": 172,
   "metadata": {},
   "outputs": [],
   "source": [
    "keyword_df2020 = filter_keyword(printed_2020)\n",
    "keyword_df2019 = filter_keyword(printed_2019)\n",
    "keyword_df2018 = filter_keyword(printed_2018)\n",
    "keyword_df2017 = filter_keyword(printed_2017)\n",
    "keyword_df2016 = filter_keyword(printed_2016)\n",
    "keyword_df2015 = filter_keyword(printed_2015)\n",
    "keyword_df2014 = filter_keyword(printed_2014)\n",
    "keyword_df2013 = filter_keyword(printed_2013)\n",
    "keyword_df2012 = filter_keyword(printed_2012)\n",
    "keyword_df2011 = filter_keyword(printed_2011)\n",
    "keyword_df2010 = filter_keyword(printed_2010)\n",
    "keyword_df2009 = filter_keyword(printed_2009)\n",
    "#keyword_df2008 = filter_keyword(printed_2008)\n",
    "keyword_df2007 = filter_keyword(printed_2007)\n",
    "keyword_df2006 = filter_keyword(printed_2006)\n",
    "keyword_df2005 = filter_keyword(printed_2005)\n",
    "keyword_df2004 = filter_keyword(printed_2004)\n",
    "keyword_df2003 = filter_keyword(printed_2003)\n",
    "keyword_df2002 = filter_keyword(printed_2002)\n",
    "keyword_df2001 = filter_keyword(printed_2001)\n",
    "keyword_df2000 = filter_keyword(printed_2000)"
   ]
  },
  {
   "cell_type": "code",
   "execution_count": 173,
   "metadata": {},
   "outputs": [
    {
     "name": "stdout",
     "output_type": "stream",
     "text": [
      "(4585, 6)\n",
      "(4292, 6)\n",
      "(4368, 6)\n",
      "(4577, 6)\n",
      "(1345, 6)\n",
      "(1332, 6)\n",
      "(1233, 6)\n",
      "(1281, 6)\n",
      "(1290, 6)\n",
      "(1416, 6)\n",
      "(1742, 6)\n",
      "(1352, 6)\n",
      "(1754, 6)\n",
      "(2446, 6)\n",
      "(431, 6)\n",
      "(482, 6)\n",
      "(269, 6)\n",
      "(375, 6)\n",
      "(670, 6)\n",
      "(378, 6)\n"
     ]
    }
   ],
   "source": [
    "print(keyword_df2020.shape)\n",
    "print(keyword_df2019.shape)\n",
    "print(keyword_df2018.shape)\n",
    "print(keyword_df2017.shape)\n",
    "print(keyword_df2016.shape)\n",
    "print(keyword_df2015.shape)\n",
    "print(keyword_df2014.shape)\n",
    "print(keyword_df2013.shape)\n",
    "print(keyword_df2012.shape)\n",
    "print(keyword_df2011.shape)\n",
    "print(keyword_df2010.shape)\n",
    "print(keyword_df2009.shape)\n",
    "#print(keyword_df2008.shape)\n",
    "print(keyword_df2007.shape)\n",
    "print(keyword_df2006.shape)\n",
    "print(keyword_df2005.shape)\n",
    "print(keyword_df2004.shape)\n",
    "print(keyword_df2003.shape)\n",
    "print(keyword_df2002.shape)\n",
    "print(keyword_df2001.shape)\n",
    "print(keyword_df2000.shape)"
   ]
  },
  {
   "cell_type": "markdown",
   "metadata": {},
   "source": [
    "# concat"
   ]
  },
  {
   "cell_type": "code",
   "execution_count": 175,
   "metadata": {},
   "outputs": [],
   "source": [
    "#concat df together\n",
    "df = pd.concat([keyword_df2020,\n",
    "                keyword_df2019,\n",
    "                keyword_df2018,\n",
    "                keyword_df2017,\n",
    "                keyword_df2016,\n",
    "                keyword_df2015,\n",
    "                keyword_df2014,\n",
    "                keyword_df2013,\n",
    "                keyword_df2012,\n",
    "                keyword_df2011,\n",
    "                keyword_df2010,\n",
    "                keyword_df2009,\n",
    "#                keyword_df2008,\n",
    "                keyword_df2007,\n",
    "                keyword_df2006,\n",
    "                keyword_df2005,\n",
    "                keyword_df2004,\n",
    "                keyword_df2003,\n",
    "                keyword_df2002,\n",
    "                keyword_df2001,\n",
    "                keyword_df2000,\n",
    "               ])"
   ]
  },
  {
   "cell_type": "code",
   "execution_count": 176,
   "metadata": {},
   "outputs": [
    {
     "name": "stdout",
     "output_type": "stream",
     "text": [
      "CPU times: user 7.24 ms, sys: 1.79 ms, total: 9.03 ms\n",
      "Wall time: 7.74 ms\n"
     ]
    }
   ],
   "source": [
    "%%time\n",
    "df = df.copy()"
   ]
  },
  {
   "cell_type": "code",
   "execution_count": 177,
   "metadata": {},
   "outputs": [
    {
     "data": {
      "text/plain": [
       "(35618, 6)"
      ]
     },
     "execution_count": 177,
     "metadata": {},
     "output_type": "execute_result"
    }
   ],
   "source": [
    "df.shape"
   ]
  },
  {
   "cell_type": "code",
   "execution_count": 178,
   "metadata": {},
   "outputs": [
    {
     "data": {
      "text/plain": [
       "'On the first Monday in May, the Department of Justice headquarters in Washington was on coronavirus lockdown — or at least it appeared to be from the outside. Signs posted on the outer doors facing Constitution Avenue admonished visitors to keep out if they had symptoms of Covid-19 or had been “exposed to any person diagnosed” with it. Inside, the guards operating the X-ray machines wore masks and gloves. Across the lobby, a free-standing pump of hand sanitizer cast a cautionary shadow down empty marble halls.But as you drew closer to the fifth floor, where Attorney General William Pelham Barr works out of a suite of offices, things started to loosen up. One assistant outside his conference room wore a mask, but the other did not. In the middle of the room, with its oil paintings and vaulted ceiling, the long central table had fewer chairs than you might expect, and an appropriate distance between them. But past the next door, inside the attorney general’s smaller personal office, Barr himself was also mask-free. Turning around to greet his visitors, he moved into the middle of a wide circle of four chairs arranged in front of his desk.Now nearing the end of his career, Barr did not take his current job for the glory. He had already been attorney general once, in President George H.W. Bush’s administration, winning him a reputation as a wise old man — a reputation that, in the eyes of some, his tenure in the Trump administration has tarnished. Nor is he doing it for the money. His time in corporate America earned him tens of millions of dollars in compensation and stock options, and his bearing is still that of a Fortune 500 counsel, cozy manners wrapped around a harder core.“I’m not going to insist that you have a mask,” Barr said, though I had been asked to bring one. His tone was jokingly conspiratorial, as though he were making an exception for an old friend. Barr is sometimes described as “rumpled,” an adjective that also captures his professorial manner. His speaking voice is very soft, just loud enough to be consistently perceptible; his accent is patrician, with a trace of old New York. His personality breaks through mostly in frequent moments of humor, which range from clubby chuckles to tension-breaking eruptions.“If you want to take it off … ,” an aide added. Barr crossed the circle of chairs, grinning away any awkwardness. We bumped elbows. “I’m not going to infect you,” he said in the same joshing tone. The greater risk, of course, was that I might infect him, given his cabinet-level access to regular coronavirus testing, the difference in our ages, Barr’s regular meetings with the president and the mostly one-way prophylactic value of masks in general.“Go ahead and take it off,” his aide suggested again. I took it off.That Monday, the whole country was doing the same dance. The Centers for Disease Control and Prevention had recommended that all Americans wear masks at meetings like this one. President Trump was doing something else, and so, for the time being, was the White House staff. Vice President Mike Pence, having been wrong-footed after taking the no-mask custom to the Mayo Clinic, now seemed to be making it up as he went along. Eight weeks into the global pandemic, a charitable observer might still have described the administration’s response as improvisational or misguided, as opposed to willfully cavalier. But things were about to get worse. That day, Trump’s projection of the total U.S. death toll (75,000 to 100,000), which was given the previous evening at the Lincoln Memorial, would be challenged by an internal Trump-administration document predicting that the number of daily deaths would rise into June. The reckless faith of the president’s inner circle would be challenged when two members of the White House staff tested positive for the coronavirus. Barr and I did not know it then, but we were enjoying the tail end of the Trump administration’s libertine phase. On May 27, the official death toll would surpass 100,000, the upper bound of what Trump predicted on May 3.One has to assume that Trump is keeping a close eye on the 70-year-old Barr right now. The powers of the attorney general, as the executive branch’s rule interpreter and law enforcer, peak during moments of social unrest. Barr knows these powers well: He led the Justice Department through the Los Angeles riots of 1992, when Bush invoked the Insurrection Act and deployed thousands of soldiers and Marines. (Later, Barr said the L.A. riots were “opportunistic” gang activity and not “the product of some festering injustice.”) Like Trump, Barr is a stalwart believer in the righteousness of the police; those communities that fail to give the police “respect and support,” he said in a December speech, “might find themselves without the police protection they need.” Last summer, Barr dropped the department’s federal case against the New York police officer who killed Eric Garner during an arrest in 2014.Barr’s role also gives him influence over three major political fronts heading into November. First, there is Trump’s fight to open the nation’s economy, which could depend in no small part on Barr’s interpretation of federal authority and willingness to twist governors’ arms. Then there are the mechanics of the vote itself, a topic of great partisan controversy about which the Justice Department has shown a growing willingness to weigh in. Finally, there is the ongoing investigation led by John Durham, the United States attorney in Connecticut, into the origins of the F.B.I.’s Russia probe in the run-up to the 2016 election, the findings of which are widely expected to be announced before November.With the election now on the horizon, Barr defended his record in two recent interviews. His critics charge that, since becoming attorney general, he has repeatedly steered the Justice Department toward decisions that serve Trump’s interests — particularly around the investigations, carried out by the F.B.I. and Robert S. Mueller III, into Russian influence over the 2016 election. Barr insists that he acts independently, even as the president often undermines that claim by tweeting out apparent instructions for what his attorney general ought to do.By the time of our first meeting in his office, Barr had already started looking at how the federal government might intervene in state-ordered coronavirus shutdowns. As Trump accused Democratic governors of denying citizens their “freedom” and encouraged residents to “liberate” Michigan, Minnesota and Virginia, Barr zeroed in on the nuts and bolts of the legal case for “liberation”: When two small churches filed lawsuits, seeking to hold live services despite state or local regulations, the Justice Department made filings in support of their First Amendment rights. In a signed memorandum sent to the department’s 93 United States attorneys, Barr suggested that the federal government’s interest went beyond protecting live worship. It included “disfavored speech and undue interference with the national economy.”Three weeks before our interview, Trump bragged that he held “total” authority over the states. This went against the prevailing view that the federal government, while free to enforce a variety of measures during its own emergencies, is more constrained in its authority to compel state or local governments to lift theirs. When I asked Barr what Trump meant, he responded by laying out a general view of the president’s pandemic-related powers: “I think the federal government does have the power to step in where a state is impairing interstate commerce,” he said, “where they’re intruding on civil liberties, or where Congress under the commerce clause — or some other power Congress has — has given the president under emergency authorities that essentially pre-empt the states in a particular area, if he chooses to use them.” The answer sounded so dry and routine that I failed to ask what he meant by “other power.” Construed broadly enough, Barr’s interpretation could sanitize and legalize Trump’s claim to “total” authority.Mail-in ballots are another domain where Trump had been staking out turf. He called the distribution of ballot applications in Michigan “illegal” and warned that voting by mail “doesn’t work out well for Republicans.” In a second interview on May 20, when I asked who was going to referee the 2020 election, Barr replied, “The voters.” He said his department’s role would be limited, as the power belongs to the states and their electors. But when I brought up Trump’s tweet about Michigan, which he posted that same morning, Barr quickly seized the opportunity to float a new theory: that foreign governments might conspire to mail in fake ballots.“I haven’t looked into that,” he cautioned, offering no evidence to substantiate that this was a real possibility. But he called it “one of the issues that I’m real worried about,” and added: “We’ve been talking about how, in terms of foreign influence, there are a number of foreign countries that could easily make counterfeit ballots, put names on them, send them in. And it’d be very hard to sort out what’s happening.”On many election-related issues, the Department of Justice has to defer to the states. But in the case of Durham’s investigation of the 2016 investigators, or the “witch hunt,” as Trump has so often called it, Barr has a greater degree of control. For years, Trump has been saying that he was treated unfairly in 2016, particularly at the hands of James Comey, then the F.B.I. director. Barr, who is open about his agreement with this premise, is now in the process of nailing down the details. He won’t rule out the possibility that Durham’s findings could undermine a key consensus about 2016, the well-established conclusion that Russian interference sought to favor Trump — a finding of the Intelligence Community Assessment of 2017 that was later underscored by Mueller, the special counsel, and verified by the Republican-controlled Senate intelligence committee.Durham, Barr told me, was looking for “who should be held accountable for this, and … .” He paused, glanced down and fidgeted for a moment with his necktie before going on. “As I’ve said publicly, I think Comey has cast himself as being seven layers above the decision-making. I don’t think that holds water. The record will be clear that that’s not the case.”Barr seems aware at times that he is gambling with his reputation. “Everyone dies,” he said with a matter-of-fact sigh in a TV interview last year. “I don’t believe in the Homeric idea that, you know, immortality comes by, you know, having odes sung about you over the centuries.” When we spoke in his office, he was critical of what he called Comey’s tendency to “wrap the institution” around himself. “I don’t say, ‘Gee, if you criticize me, you’re attacking the men and women of the department.’” he said. “B.S.,” he added. “I’ll live or die by my decisions.”Barr’s willingness to weather controversy on the president’s behalf has not only caused consternation among some former friends and allies; it has given rise to considerable speculation about his motives. Why would a grandfather in semiretirement, who had already reached the pinnacle of his profession, sign up for this? Some wonder if Barr might still be hungry for influence, having been attorney general for only 17 months the first time. Others wonder whether he spent too much time watching Fox News during the Obama years and came out the other side an ideologue. And there are others who look at Barr’s support for Trump and see more consistency than contradiction. Barr, they say, hasn’t changed his values. Rather, he has found in Trump the perfect vehicle with which to move them forward.“Those who think he’s a tool of Donald Trump are missing the point,” says Stuart Gerson, who led the Justice Department’s civil division during Barr’s first tour and then succeeded him, serving as acting attorney general during the first three months of Bill Clinton’s presidency. “If anything, it’s the other way around. Barr is vastly more intelligent than Donald Trump. What Trump gives Bill Barr is a canvas upon which to paint. Bill has longstanding views about how society should be organized, which can now be manifested and acted upon to a degree that they never could have before.”As far as what Barr is hoping to do with his canvas, Gerson says he is committed to the “hierarchical” and “authoritarian” premise that “a top-down ordering of society will produce a more moral society.” That isn’t too far away from what Barr himself articulated in a 2019 speech at the University of Notre Dame. In Barr’s view, piety lay at the heart of the founders’ model of self-government, which depended on religious values to restrain human passions. “The founding generation were Christians,” Barr said. Goodness flows from “a transcendent Supreme Being” through “individual morality” to form “the social order.” Reason and experience merely serve to confirm the infallible divine law. That law, he said, is under threat from “militant secularists,” including “so-called progressives,” who call on the state “to mitigate the social costs of personal misconduct and irresponsibility.” At their feet, Barr places mental illness, drug overdoses, violence and suicide. All these things, he said, are getting worse. All are “the bitter results of the new secular age.”Barr started his career in the C.I.A. as an analyst, working on China and other matters. When I asked about the origin of his interest in the intelligence service, he responded indirectly, with an anecdote about telling his high school guidance counselor that he wanted to be C.I.A. director. It was tempting to link Barr’s career and conservatism with his father, Donald Barr, who served in the Office of Strategic Services, the C.I.A.’s forerunner, during World War II. In 1940, as an undergraduate at Columbia, Donald wrote a controversial editorial for The Columbia Review, defending a speech by the university president that called upon the faculty to support the American war effort. “Most liberals,” he wrote, “do not think precisely.” As tempting as it was to see the son as part of some epigenetic chain of old-line conservatism, Barr cautioned me not to make such assumptions. “My father was like: ‘Do what you want to do. Do what you enjoy. Do something that you’re really interested in, because that’s what you’ll do best in.’”Barr’s parents met at the University of Missouri in the early 1940s. Donald, who already spoke three languages, had been sent there by the Army to learn Italian. He spotted Mary Ahern, a young Irish-Catholic woman who had a master’s degree in English from Yale, through an open doorway, teaching Shakespeare to undergraduates, and was smitten. Ahern took some courting. She thought Donald was a “New York wolf,” Barr told me, and his background was also an issue; he was raised without much religion, but his father, William’s grandfather, was born a secular Jew. Upon joining the Army, Donald gave his religion as Dutch Reformed. He converted to Catholicism after he and Mary wed.Donald Barr’s 26-page O.S.S. file, obtained from the National Archives, gives a detailed account of his transition from the military to intelligence work. In 1944, he shipped off to Europe. He suffered from hay fever and 20/200 vision; much of his time overseas was spent hospitalized with allergies. The next year, he was assigned to the O.S.S. His interviewer found him to be “a quiet, unassuming person ... matured beyond his age.” In late 1945, he moved to Washington to begin work at the Interim Research and Intelligence Service, which would become the State Department’s in-house intelligence bureau.William, the couple’s second son, was born in 1950. By age 8, he had taken up the bagpipes, which would become a lifelong hobby. He attended the Horace Mann School in New York, where his classmates remembered his conservatism, the delight he took in making an argument and his sense of humor. The yearbook praised him as an “incomparable master of facial contortions.”Barr’s involvement with campus politics continued at Columbia. He joined the Majority Coalition, which organized against student occupiers who had taken over the campus to protest the Vietnam War. Columbia was known as a feeder school for the C.I.A. An average of 14 seniors went to the agency each year from 1960 through 1966, according to a 1967 article from the student newspaper, The Daily Spectator, which reported that a majority came in not through the college’s Office of Career Planning and Placement but “through interviews with various affiliated groups” — perhaps a reference to the private foundations and student organizations that were receiving C.I.A. funding at that time.In the late 1960s, this recruiting drew campus protests, which eventually broadened to take on other issues beyond the war. On the morning of April 24, 1968, student demonstrators, many of them affiliated with Students for a Democratic Society, stormed Low Memorial Library and took over the offices of Columbia’s president. The protesters were angry that Columbia was building a gymnasium nearby that would have two separate entrances — one for the school community and one for neighborhood residents — and also about the university’s connection with a think tank that did research for the Pentagon.Barr was on the other side, standing shoulder to shoulder with conservatives and athletes to form a blockade around the library. “We interposed ourselves around them,” he told me. “There was a group of S.D.S. students and younger people from Harlem that assembled and tried to break through. And so there was a huge fistfight. Over a dozen people went to the hospital, between the two groups, when they tried to rush through.” He smiled to himself. “They didn’t get through.”I asked if he was in the fistfight. He adjusted the bridge of his glasses and glanced down. “I was in the fistfight,” he said, letting out a big laugh. “I was lucky. I had big guys around me. I had the football team around me!” He later added, “I picked my opponents carefully.”Barr interned at the C.I.A. in the summers of 1971 and 1972. In 1973, after completing his graduate degree in government and Chinese studies, he married Christine Moynihan, whom he met at a fraternity party. The next day, the couple drove to Washington, and Barr began a permanent job at the C.I.A. the day after that. His mother’s memories of the Great Depression, he said, had instilled in him a desire for career stability, so he began taking law courses at night. By then, he had transferred to the C.I.A.’s Office of Legislative Counsel. “He was the ultimate straight arrow,” says John Rizzo, who worked down the hall from Barr in the general counsel’s office, where Rizzo would eventually rise to become the acting head. “Very serious. He was a nose-to-the-grindstone guy.”The new job put Barr on the C.I.A.’s seventh floor, not far from the director’s office and near the center of what was shaping up to be a historic fight with Congress. In the aftermath of World War II, the presidency was endowed with vast new powers — mass surveillance, covert operations, proxy wars and nuclear weapons. The young C.I.A., spurred on by the imperative to win the Cold War, abused its own new powers to an astonishing degree. Despite a statutory ban on its involvement in either “police” or “internal-security functions,” the C.I.A. surveilled and surreptitiously engaged with countless American citizens. The agency reported to the president and often took action based on informal conversations, without ever committing much to paper. Secrecy around the agency’s transgressions held until the 1970s, when antiwar sentiment began to peak. The scandals around the Pentagon Papers (1971) and the Watergate break-in (1972), culminating in the long-anticipated Vietnam defeat, convinced much of the public that the federal government should no longer be given the benefit of the doubt. In 1973, Richard Helms, the longtime C.I.A. director, ordered the destruction of internal C.I.A. documents regarding MK-Ultra, an experimental mind-control program. “The program was over,” Helms later recalled. “We thought we would just get rid of the files as well, so anybody who had assisted us in the past would not be subject to follow-up, or questions, embarrassment, if you will. … We kept faith with the people who had helped us, and I see nothing wrong with that.”In 1974, the journalist Seymour Hersh, who had already broken the story of the My Lai massacre in Vietnam, revealed that the C.I.A. had developed a sprawling domestic-spying operation, keeping dossiers on thousands of American citizens. Congress created two special committees — a Senate committee, led by Senator Frank Church, and a House committee that would eventually be led by Representative Otis Pike — to investigate. For years, the C.I.A. would be consumed with negotiations over the limits of what Congress could oversee.“We had, like, seven different committees investigating, and the Pike commission,” Barr told me in his office. “This was for excesses during the Cold War.”I asked if there had indeed been excesses. Barr’s poker face came to life. He grinned, turned his palms out and shrugged. “Some,” he said. He burst out laughing. Then he pulled back to give the matter some more thought, adjusting his glasses as he settled back into seriousness.“I don’t want to be quoted as saying they were not excessive,” he said. “There were some that clearly were excessive.”The battle between conservative hard-liners and a Democratic-led Congress would continue through the late Cold War. Inside the C.I.A., there was a sense of victimization. “The Church Committee period was a horror for the agency,” Frederick Hitz, the agency’s first presidentially appointed inspector general, told me. “We got batted around.”In 1976, the job of defending the agency in public passed to the new director, George H.W. Bush, who had served as a special U.S. envoy to China. On at least one occasion, Barr sat behind Bush during a congressional hearing, giving him legal advice. Congress wound up making oversight a permanent thorn in the C.I.A.’s side by establishing two intelligence oversight committees. That May, Barr drafted two letters, each signed by Bush, asking Congress if the C.I.A. could resume the routine destruction of documents. The request was denied.“The culture of the agency was passive resistance,” says Michael Glennon, now a law professor at the Fletcher School of Law and Diplomacy at Tufts University, who dealt with the C.I.A. as legal counsel of the Senate Foreign Relations Committee. “You’re never talking to the right person. You never had exactly the right document. They had a dozen different bureaucratic obstacles in their arsenal, and they used every one of them.”Rather than accept post-Watergate congressional limitations, the hard-liners decamped from the C.I.A. and became floaters, bureaucratic nomads who sought out underused and low-visibility pockets of the federal government from which to wage their war over executive power. The largest battle was fought around the Iran-contra affair. A covert group operating out of the Reagan White House had used money gained by selling arms to Iran to fund anti-Communist rebels in Central America, flouting a congressional prohibition. Much of the operation was organized by Lt. Col. Oliver North of the National Security Council. Many of the Iran-contra plotters were dragged into the public eye and indicted by a special prosecutor, another post-Watergate innovation. Evidence pointing to the involvement of President Ronald Reagan and Vice President George H.W. Bush was inconclusive. The hard-liners felt that foreign policy and covert operations were an exclusively presidential domain. “The business of Congress is to stay the [expletive] out of my business” is how Reagan’s first C.I.A. director, William Casey, put it in an interview with the political scientist Loch K. Johnson.Around this time, conservative thinkers of Barr’s generation began to coalesce around an idea they called “the unitary executive.” The president’s right to his powers under Article II of the Constitution, they argued, was undivided and absolute. Post-Watergate reforms — independent prosecutors to investigate high-level wrongdoing, requirements to get warrants for national-security wiretaps, and more — were unconstitutional incursions into the president’s rightful powers.In June 1977, Barr left the C.I.A. upon his graduation from George Washington University Law School, eventually landing as a policy lawyer in the Reagan White House. Bush, running for president, took Barr to the 1988 Republican National Convention to help vet potential running mates and, after winning the election, appointed him to lead the Justice Department’s Office of Legal Counsel, where his duties included determining the legal limits of C.I.A. activities. Rizzo, who was still at the C.I.A., recalls that Barr kept his independence from the Oval Office. Two of Barr’s opinions on classified C.I.A. operations “didn’t give the White House and C.I.A. everything that they wanted,” while a third operation, Rizzo says, was rejected entirely. One of Barr’s public opinions, though, effectively authorized the invasion of Panama. Later, as acting attorney general, he impressed Bush further by defusing a delicate prison-hostage crisis. As attorney general in 1992, Barr signed off on a mass-surveillance program that collected billions of call records for the Drug Enforcement Administration. At the end of Bush’s presidency, he successfully pushed for a pardon of six Iran-contra defendants.Gen. Michael V. Hayden, a former C.I.A. director, says Barr reminds him of David Addington — the former C.I.A. lawyer who became Vice President Dick Cheney’s chief of staff and played a major role in pushing the limits of conduct, including torture, that the White House and the C.I.A. determined to be legal in the aftermath of the Sept. 11 attacks. Barr “wants the president to be in charge,” Hayden says. “People who believe that if the president wants it, most times he gets it and it’s legal — those people usually go far in the White House.”Barr’s intellect and experience made him appealing to the private sector. For eight years, he served as general counsel at Verizon, at a time when the company was working out secret arrangements with the National Security Agency to turn over its customers’ data. In September 2001, a legal trade publication noted Barr’s $1.5 million salary and compared him to a “powerful amphibious vehicle” for the depth of his connections in both political Washington and corporate New York. At that time, he said, he had no interest in returning to officialdom. “The opportunity to pick up the phone and talk to policymakers, to kibitz — without worrying about what the newspaper is going to say the next day about you — is a great luxury,” he said. “I have the best of all worlds.”By the 2016 presidential election, Barr was a player in Republican politics and active in conservative Catholic causes. He gave nearly $50,000 to a PAC affiliated with Jeb Bush. His annual holiday parties, traditional Scottish cèilidhs with music and singers, drew hundreds whose friendships he had maintained over the years. He wrote and sold a screenplay about World War II. He spent time traveling abroad and hunting birds. His three daughters all became accomplished lawyers, working on Capitol Hill or as federal prosecutors. The eldest, Mary, moved to the Treasury Department’s financial-crimes unit after Barr’s nomination as attorney general; one of Barr’s sons-in-law left the Justice Department for the White House Counsel’s Office.Last year, shortly after his Notre Dame speech, Barr gave a second major address at the annual convention of the Federalist Society, an organization of conservative lawyers founded during the Reagan administration. The subject was executive power. Again Barr criticized progressives, this time for making politics “their religion.” The presidency, in his view, handled “sovereign functions … which by their very nature cannot be directed by a pre-existing legal regime but rather demand speed, secrecy, unity of purpose and prudent judgment to meet contingent circumstances.” Part of the core function of the presidency was the ability to act swiftly and without constraint, but this capability had been diminished by the other branches since Watergate. Congress had burdened the president with oversight, while the courts were interfering with Trump’s travel ban on certain countries and his termination of President Barack Obama’s DACA program for young immigrants. Barr seemed to suggest that when it comes to foreign policy, the only legitimate check on presidential behavior is the next election. Months later, this argument would become the foundation of Trump’s impeachment defense.On Dec. 5, 2018, Barr attended George H.W. Bush’s funeral. While waiting in line for the shuttle bus that would take him to Washington National Cathedral, he and his wife ran into a friend, C. Boyden Gray, who was Bush’s White House counsel during the Reagan years. The two men spent most of the day together. Barr sounded out Gray about the attorney-general job. Gray knew from following the news that Barr was under consideration, but Barr never tipped his hand about how close he was to being tapped, and Gray never asked. Later that week, when Trump announced Barr’s nomination, Gray was not surprised. “I don’t think he felt totally fulfilled by the limited time he had” under Bush, Gray says. “I think he felt he had another round left in him.”At the time of his nomination, Barr’s supporters presented him as a trustworthy and sensible conservative, a known quantity within the Washington establishment who would restrain Trump’s worst impulses. James Comey called him “an institutionalist who cares deeply about the integrity of the Justice Department.” Benjamin Wittes, a legal commentator who is now one of Barr’s harshest critics, tweeted at the time that he had been “a very fine A.G.” under Bush and that his confirmation would be “a very decent outcome.”During the confirmation hearing, Senator Dianne Feinstein of California, the ranking Democrat on the Judiciary Committee, questioned Barr at length about a memorandum he wrote to the administration the previous summer, outlining why he believed that Mueller had no legal right to investigate Trump for obstruction of justice. The president, Barr argued, has “complete authority to start or stop” investigations and can “give direction” on individual cases, including those that touch on his political or financial interests. “The Constitution itself places no limit on the president’s authority to act on matters which concern him or his own conduct,” Barr wrote. Law enforcement, he argued, was a power exclusively held by the president, because “he alone is the executive branch.”In the hearing, Barr seemed to say that he did not believe the unitary executive’s powers to be infinite. When Senator Patrick Leahy, a Vermont Democrat, asked if it would be lawful for a president to trade a pardon for a promise not to incriminate him, Barr answered that such an exchange would be a crime. He also mentioned his long friendship with Mueller. Barr’s wife attends the same Bible study as Mueller’s wife; Mueller attended the weddings of two of Barr’s daughters.Barr was confirmed by a vote of 54 to 45. He had barely served one month as attorney general when his friendship with Mueller was tested by the special prosecutor’s delivery of his report, on the afternoon of Friday, March 22. Trump’s Twitter account then went dark for nearly 40 hours. That Sunday, Barr sent a letter to Congress that he would later describe as giving Mueller’s “bottom line,” and Trump’s feed came back to life. “No Collusion, No Obstruction, Complete and Total EXONERATION,” he tweeted. In his first public comments that same day, Trump said the words “no collusion with Russia” three times. “Hopefully someone is going to be looking at the other side,” he added.Trump’s tweet, Barr’s letter and Mueller’s report said three different things. Neither Barr nor Mueller exonerated Trump. Barr quoted Mueller’s own words that his complicated finding on obstruction “does not exonerate” the president. But Barr omitted Mueller’s conclusions that Russian interference sought to favor Trump; that Trump and his campaign welcomed the interference and believed they would benefit from it; and that the “links” and “contacts” between Russians and the campaign were substantial, even though the evidence Mueller was able to gather fell short of a criminal conspiracy.Mueller fired off two letters complaining that Barr had misrepresented his work. In the second letter, dated March 27, he asked Barr to immediately release the report’s introductions and executive summaries. But the public would not get to read Mueller’s work until April 18, when Barr released a redacted version of the full report. Before doing so, Barr gave a news conference in which he tilted further toward declaring Trump innocent, something Mueller bent over backward not to do. “As he said from the beginning,” Barr said of Trump, “there was in fact no collusion.”Barr’s distortions drew wide criticism. Democrats were also frustrated by the report’s content. It lacked the thunderous revelations about Russia that had long been promised by Trump’s opponents, and it suffered from legalistic inconclusiveness on the most fundamental questions. Mueller, having been given a chance to put the 2016 election to bed for good, had carefully avoided doing so.Democrats’ hopes for the promised collusion bombshell now turned to the unredacted version of the Mueller report, which Barr refused to give them. In an echo of his C.I.A. work during the Church Commission years, the Barr-led Justice Department has taken a very hard line regarding what information Congress and the courts are entitled to get from the White House. It has fought in court against the release of Trump’s tax returns; argued that Congress did not need to see the Ukraine whistle-blower’s complaint, because it was not a matter of “urgent concern”; and has challenged congressional requests for Mueller’s secret grand-jury materials.After Barr refused to turn over the fully unredacted Mueller report to the House Judiciary Committee, citing executive privilege, the committee voted to hold him in contempt. The Democratic chairman, Representative Jerrold Nadler of New York, claimed that this was the beginning of a “constitutional crisis.” Barr seemed untroubled. “Madam Speaker, did you bring your handcuffs?” he reportedly quipped to Nancy Pelosi at an event a few days later. But concerns about Barr’s handling of Mueller’s investigation have not been confined to Democrats. Judge Reggie B. Walton of the United States District Court for the District of Columbia, a George W. Bush appointee, recently criticized Barr’s “lack of candor” and questioned whether “Barr’s intent was to create a one-sided narrative.”At his first meeting with President Trump in 2017, Barr later recalled in his confirmation hearing, he told Trump that “the Barrs and Muellers were good friends and would be good friends when this was all over.” In the end, he was half right. “I haven’t talked to him since March 5, when he came over to talk about his report,” Barr said in one of our interviews. That would have been March 2019 — more than a year ago.“My wife and his wife still talk, and they’re friends,” Barr continued. I asked if they still saw each other at Bible study. “Yup,” Barr replied.Attorneys general are chosen by the president; no law prohibits them from doing the president’s bidding. Many presidents have occasionally asked the attorney general to intervene in individual prosecutions. John Mitchell, President Richard M. Nixon’s attorney general, went much further, helping to plan the Watergate burglary and then working to cover it up. But the Justice Department’s guidelines do enjoin prosecutors not to comment about ongoing investigations, something Barr does regularly. They also caution that legal judgments “must be impartial and insulated from political influence” and that the department must respect Congress’s “legitimate investigatory and oversight functions.”None of this has stopped Barr from overruling his subordinates to the benefit of Trump’s friends and associates — most notably Roger Stone, Trump’s longtime political mentor, and Michael Flynn, his former national security adviser. In both cases, Trump has tweeted about what he sees as the unfairness of their legal troubles, and the Justice Department has subsequently pushed for leniency.Barr has repeatedly said that Trump has never asked him to do anything in a criminal case: “I’m not going to be bullied or influenced by anybody,” he said in an interview with ABC News. But the department’s interventions on behalf of Stone and Flynn have raised questions about the supposed Trump-Barr firewall. “Even assuming that Bill Barr is acting with integrity, it is impossible for people to believe that, because the president is making him look like his political lap dog,” Jack Goldsmith, who led the Office of Legal Counsel under George W. Bush, told The Times in February. Barr has said he doesn’t pay attention to Trump’s tweets and doesn’t take seriously the ones he is made aware of. “The president says a lot of things which he doesn’t follow through on, and doesn’t actually mean, probably,” says Gray, Barr’s friend and former colleague.Vanita Gupta, the former head of Obama’s civil rights division at the department, articulated a prevailing view of Barr among Democrats, telling me that the attorney general has “since Day 1 operated as the president’s defense lawyer.” Gupta says Barr’s interventions on behalf of Trump associates have far-reaching consequences. “Barr is overturning decisions made by career prosecutors to placate the president,” she says. “It’s insulting to federal prosecutors who have given their time to build cases with honor and integrity. It has a destructive impact on morale.”In February, prosecutors recommended that Stone be sentenced to seven to nine years in prison for witness tampering and other crimes. The following day, the Justice Department filed a second, revised sentencing memo asking that Stone’s sentence be reduced. Eighty-seven to 108 months, the memo argued, “could be considered excessive” given Stone’s “advanced age, health, personal circumstances and lack of criminal history.”On the same day the department revised its sentencing recommendation, all four of the prosecutors responsible for the case announced their withdrawal. One, Jonathan Kravis, left the department entirely. “I am convinced that the department’s conduct in the Stone and Flynn cases will do lasting damage to the institution,” Kravis wrote later in an op-ed in The Washington Post.On Twitter, Trump said the Stone prosecutors “cut and ran after being exposed.” He tweeted out congratulations to Barr for “taking charge of a case that was totally out of control.” Barr pushed back in the ABC interview, insisting that he reached the Stone decision independently. “To have public statements and tweets made about the department, about our people in the department, our men and women here, about cases pending in the department and about judges before whom we have cases make it impossible for me to do my job and to assure the courts and the prosecutors that we’re doing our work with integrity,” he said, adding, “I think it’s time to stop the tweeting about Department of Justice criminal cases.”The post-Mueller case that has arguably received the most attention among Trump’s supporters is that of Flynn, the lieutenant general who briefly served as Trump’s national security adviser. The dueling narratives around the Obama-to-Trump transition crystallize around Flynn, and the question of whether he or those who investigated him were in the wrong. In addition to drawing scrutiny for his Russian contacts, Flynn initially failed to report, as legally required, that his company was effectively on the payroll of the Turkish government during the 2016 campaign. Obama himself tried and failed to talk Trump into dropping him. Many of Trump’s own problems hinged on his asking Comey if he could “see your way clear” to dropping the Flynn investigation. Trump’s adversaries consider Flynn to be a loose cannon and possible Russian pawn who needed to be rooted out. His supporters depict him as the second coming of Oliver North — a good soldier who was martyred in public for his loyalty to the executive.On May 4, the day of my first interview with Barr, Flynn was still awaiting sentencing, having pleaded guilty to lying to the F.B.I. From time to time, Trump had been tweeting about the Flynn case in ways that seemed to cross the line that Barr had drawn about public comments from the White House about matters pending before the Justice Department. Trump said Flynn had been victimized by the “same scammers” as Stone.I asked Barr, in light of his statement on ABC News, whether these were the kind of tweets that made his job “impossible.”“I’ve already made my position on the tweets clear,” Barr said. “I don’t have anything further to say about it.”Trump had recently been tweeting about Flynn, I said. “I haven’t seen any of his tweets about Flynn, so I’m not sure what he’s saying,” Barr replied.I asked if he would like to see them. “Not particularly,” Barr said. “I don’t pay any attention. I don’t even know what he tweets.”I handed Barr a printout of an April 29 Trump tweet. It read:“Take it for what you will,” Barr said with cool indifference. “The thing that I reacted to with Stone, was him [Trump] saying what the department should do.”I asked how it was that Flynn’s supposed antagonists could be punished — “pay a big price” — without involvement from the department.“That doesn’t have to do with the Flynn matter, does it?” Barr asked, referring to the particular case that was now before Judge Emmet Sullivan. He had found the right hair to split, and he split it so cleanly and decisively that I couldn’t say this wasn’t his position from the beginning.The tweet, Barr said, was nothing new. Trump, he said, “has been calling for justice and for holding people to account since the very beginning.”Three days later, on the afternoon of May 7, the Justice Department filed a motion to dismiss its own prosecution of Flynn. The government argued that Flynn’s false statements were not “material” to the investigation of Flynn, because the investigation was itself unjustified. The argument relied in part on the contents of handwritten F.B.I. notes that had been turned over to Flynn’s attorneys by the department and released to the public by mutual agreement. One of the prosecutors assigned to the case immediately withdrew.A few days later, Sullivan decided he wouldn’t rule on whether to accept the department’s motion until he had heard from friends of the court and a special counsel. Flynn’s lawyers appealed, asking a higher court to force the judge’s hand. Again, the department took Flynn’s side. Trump took to Twitter, celebrating “a BIG day for Justice in the USA. … I do believe there is MUCH more to come!”The definitive Sept. 11 Commission-style history of the 2016 election remains unwritten, though not for lack of trying. In addition to the Mueller report and voluminous criminal indictments, we have the Intelligence Community Assessment, the Horowitz report (by the Justice Department’s inspector general, Michael Horowitz) and four volumes of the Senate intelligence committee’s report, a fifth volume of which is on the way.The major episodes of the story may now seem like familiar terrain to those who have kept up, and a hopeless mess to everyone else. But zoom out a bit, and the stakes could not be higher. Many of Trump’s critics, like Representative Adam Schiff of California, the Democratic chairman of the House Intelligence Committee, and James Clapper, Obama’s director of national intelligence, go further than saying that the Russians put a thumb on the scale for Trump. They have suggested that the extra boost was decisive — that Trump would not have been elected in 2016 but for Russian interference. The crucial legacy of 2016 is that the question of Trump’s legitimacy was never settled. And without any consensus on what happened in 2016, the rules of the road for 2020 are up in the air.But first, armed with the powers of law enforcement and presidential access to classified material, Trump is getting ready to roll out his account of 2016. When Trump promises “much more to come,” he most likely has in mind the ongoing investigation by John Durham and its long-expected report — although it is also possible that Durham’s public work product will take the form of indictments, or perhaps nothing at all. Barr, who assigned Durham the task of investigating the Russia probe in May last year and met with him several times immediately after the conclusion of Mueller’s investigation, is overseeing Durham’s work and briefs Trump on his findings regularly. Based on Barr’s public statements, we can see the rough contours of Durham’s findings beginning to take shape. The government’s conduct during the Obama-to-Trump transition, Barr has said, was “abhorrent.” Surveillance of Trump’s campaign amounted to “spying.” Then there was the all-important question of whether the F.B.I. was justified in opening the initial Crossfire Hurricane investigation into the Trump campaign’s Russia ties.Under ordinary circumstances, Justice Department prosecutors do not comment on anything connected to an ongoing investigation, but on the day that Horowitz released his report, both Barr and Durham decided to do just that. The F.B.I.’s interest in Trump, Barr said, was based “on the thinnest of suspicions” and “insufficient to justify the steps taken.” “We do not agree with some of the report’s conclusions as to predication,” Durham said in his own statement. Horowitz had found that the investigation was justified, so these sounded like sweeping words of dissent. But over the coming months, as attention drifted elsewhere, they shrank. By the time I sat down with Barr, the only dispute with Horowitz he’d voiced was whether the F.B.I. had enough evidence to open a full investigation. (Barr and Durham believe that there was only enough to open a preliminary investigation, not a full one.)In our first interview, Barr mentioned the dossier of salacious anti-Trump claims that had been gathered and circulated by Christopher Steele, a former British intelligence agent who was working indirectly for the Clinton campaign. The possibility that the Russian government intentionally seeded the dossier with misinformation was one of the issues Mueller ignored and Durham was looking at, Barr said. Nor had Mueller gone back and looked at the investigative steps taken as Crossfire Hurricane accelerated, he continued. Horowitz had done that, but unlike Barr and Durham, he had no access to the C.I.A., the N.S.A. and the foreign governments that were involved.To facilitate what later became a criminal investigation, Trump ordered the heads of the intelligence agencies to cooperate with Barr. He delegated to Barr the power to order the declassification of secret documents. Barr has spoken with intelligence officials from Italy, Australia and Britain to reportedly solicit information that could help Durham. In the case of Italy, where Barr and Durham met with political leaders and intelligence chiefs in person, his visit provoked concern among U.S. diplomats, who told The Times that Barr circumvented protocols in setting up the trip. Senator Mark Warner of Virginia, who is the ranking Democrat on the Intelligence Committee and helped write its five-volume report, said there were “concerns” about Barr’s trips. “There is queasiness among our allies about the kind of activities Barr is engaged in,” he said.Timothy Flanigan, a former colleague of Barr’s from the George H.W. Bush years, said he thought Durham could come back with something more. Mueller’s investigation “was limited to the president and the campaign,” he told me. “No one has looked at the whole intelligence community and asked, ‘Was there something amiss here?’”Durham’s investigation is not the only means through which Barr’s decisions could affect the election. If the F.B.I. wants to open a criminal investigation into either campaign, it will first need Barr’s personal approval. Barr has established a special “intake process” to deal with materials that Rudolph W. Giuliani says he has obtained from Ukrainian sources, which, Giuliani has claimed, implicate Joe Biden, the presumptive Democratic presidential nominee. In the interview, Barr did not dispute the notion that the Russian government had interfered in 2016, but he made it sound as though the assumption that it favored Trump would be coming under some pressure.One also would expect Barr to play a role in deterring and punishing foreign interference in the 2020 election, but that could get complicated. Trump’s camp continues to deny the intelligence community’s consensus view, one strongly reiterated by Mueller and the Senate intelligence committee, that the Russians favored Trump over Hillary Clinton. Some, including Republicans on the House Intelligence Committee, claim to have unreleased evidence that points the other way. Based on what Barr told me, Russian intentions will most likely emerge as the key retrospective battlegrounds as Durham’s work continues and the election draws closer.“There was definitely Russian, uh, interference,” Barr said. “I think Durham is looking at the intelligence community’s I.C.A. — the report that they did in December. And he’s sort of examining all the information that was based on, the basis for their conclusions. So to that extent, I still have an open mind, depending on what he finds.”But what Barr did not address directly was the fourth volume of the report from the Senate intelligence committee. That report reviewed much of the same intelligence underlying the Intelligence Community Assessment. It affirmed that Russia’s pro-Trump position and President Vladimir V. Putin’s direct involvement were supported by “specific intelligence.” The N.S.A.’s disagreement was “reasonable, transparent and openly debated.” Unlike the committee’s groundbreaking 2012 Torture Report, the fourth volume was unanimously approved by a bipartisan vote of the Republican-led committee. “The committee found no reason to dispute the intelligence community’s conclusions,” said Senator Richard Burr, a Republican from North Carolina and the chairman of the committee.Warner, for his part, dismissed Durham’s investigation as “a fishing expedition,” he told me. “I will be very surprised if Durham finds anything new.”I brought up the Durham investigation again in my last interview with Barr, on May 20. The fifth floor of Justice Department headquarters now felt different; some older, lawyerly looking men walking around wore masks. Two younger men in suits with lapel pins, who were most likely security, did not. Barr himself still wore no mask, but there were no more polite entreaties for visitors to take theirs off. One could see two crumpled blue surgical masks lying amid the papers on Barr’s desk. With disarming familiarity, Barr sat down on a sofa and offered me my “usual place” in a tufted leather chair.By then, Trump had seized on the “Obamagate” meme, accusing the former president and Biden of “the biggest political crime in American history.” When asked what crime he thought they were guilty of, Trump declined to answer. In a news conference two days before I went to see him, Barr was asked indirectly if Durham’s investigation might lead to criminal charges being filed against Obama or Biden. “I have a general idea of how Mr. Durham’s investigation is going,” he said. “Based on the information I have today, I don’t expect Mr. Durham’s work will lead to a criminal investigation of either man. Our concern about potential criminality was focused on others.”Later that same day, Trump, asked about Barr’s statement, replied, “I’m a little surprised.” He went on: “I don’t think he said it quite the way you said it. I think he said ‘as of this moment,’ I guess. But if it was me, I guarantee that they’d be going after me.” Trump then said he had “no doubt” that Obama and Biden were “involved” in what he now called a “scandal.” As to whether or not it was criminal, he said, “I would think it would be very serious — very, very serious. It was a takedown … and in my opinion, it was an illegal takedown.”In Barr’s office two days later, I brought up how Trump seemed to have heard only what he wanted to hear, that Barr’s prediction about not prosecuting the former president was only valid “as of this moment.”Barr said I shouldn’t read too much into those words.“I was just qualifying it simply as any lawyer would qualify an absolute statement,” he said. “I have nothing in mind like that.”Whether he realized it or not, the line Barr had drawn at the news conference was getting blurrier with every word, just as Trump had hoped.“You never say never,” Barr went on. “Things could pop up that change the world.” He pulled back from the conversation and thought for a moment. “But I have a pretty good grasp of what went down and what was happening, and I don’t expect that.”After keeping tabs on Durham’s investigation for more than a year, Barr did not think it was likely that he would have to prosecute a former president. But neither, at that moment, was he willing to rule it out. He made this position sound reasonable, even as it served to support the unsupported “Obamagate” theory that the president was floating at the time.In the end, the substance of Durham’s findings might not matter. Whatever he turns up will become a major theme of Trump’s 2020 campaign; the less time there is before an election, the greater political impact of even the smallest apparent revelation. All Trump needed from Barr was the glimmer of a possibility, a slight shadow of official uncertainty in which his wild theories could flourish. And for now, Barr was giving him that. How much more he would give the president before November, it was hard to say.'"
      ]
     },
     "execution_count": 178,
     "metadata": {},
     "output_type": "execute_result"
    }
   ],
   "source": [
    "df.text.iloc[0]"
   ]
  },
  {
   "cell_type": "code",
   "execution_count": 179,
   "metadata": {},
   "outputs": [
    {
     "data": {
      "text/plain": [
       "keywords                                 [{'name': 'persons', 'value': 'Barr, William P...\n",
       "pub_date                                                          2020-06-01T09:00:11+0000\n",
       "type_of_material                                                                      News\n",
       "print_page                                                                              20\n",
       "text                                     On the first Monday in May, the Department of ...\n",
       "United States Politics and Government                                                 True\n",
       "Name: nyt://article/f5d2e4a7-f89b-54da-9985-dd5fc704a51e, dtype: object"
      ]
     },
     "execution_count": 179,
     "metadata": {},
     "output_type": "execute_result"
    }
   ],
   "source": [
    "last_check_before_split = (df.iloc[0])\n",
    "last_check_before_split"
   ]
  },
  {
   "cell_type": "code",
   "execution_count": 180,
   "metadata": {},
   "outputs": [
    {
     "name": "stdout",
     "output_type": "stream",
     "text": [
      "News: 28810 Oped: 6808, Total: 35618, Op-Ed 0.19 of total\n"
     ]
    },
    {
     "data": {
      "image/png": "[encoded data removed]",
      "text/plain": [
       "<Figure size 432x288 with 1 Axes>"
      ]
     },
     "metadata": {},
     "output_type": "display_data"
    }
   ],
   "source": [
    "oped_v_news(df)"
   ]
  },
  {
   "cell_type": "markdown",
   "metadata": {},
   "source": [
    "# X, y"
   ]
  },
  {
   "cell_type": "code",
   "execution_count": 181,
   "metadata": {},
   "outputs": [],
   "source": [
    "#define X. X is currently pandas series of unsplit strings\n",
    "X = df.text"
   ]
  },
  {
   "cell_type": "code",
   "execution_count": 182,
   "metadata": {},
   "outputs": [],
   "source": [
    "#turn series into list...\n",
    "corpus = list(X)"
   ]
  },
  {
   "cell_type": "code",
   "execution_count": 183,
   "metadata": {},
   "outputs": [],
   "source": [
    "# define y as a series of op-ed or news\n",
    "y = df.type_of_material"
   ]
  },
  {
   "cell_type": "code",
   "execution_count": 184,
   "metadata": {},
   "outputs": [
    {
     "data": {
      "text/plain": [
       "_id\n",
       "nyt://article/f5d2e4a7-f89b-54da-9985-dd5fc704a51e    0\n",
       "nyt://article/0fa09b77-5faa-588f-9d4a-39a34748c7f3    0\n",
       "nyt://article/6b274a69-c82b-5b68-bada-ec1467440ddf    0\n",
       "nyt://article/8867f9cb-5914-5731-90b9-e1f1781fa568    0\n",
       "nyt://article/fb5f6e07-033e-5618-967e-fbc1ebcfd61c    0\n",
       "                                                     ..\n",
       "nyt://article/24bb4513-c69d-549b-b09e-c9bd3dc027dd    0\n",
       "nyt://article/9df2fcb8-1c61-5b7c-9651-fd2c985d2aaa    0\n",
       "nyt://article/ae793069-ac45-520f-a140-ab5b84eb0fc2    1\n",
       "nyt://article/5d2d86bf-7d76-534e-a931-f0ec162c00af    0\n",
       "nyt://article/e12fb4a3-42c2-5806-bae4-a5f917749f24    0\n",
       "Name: type_of_material, Length: 35618, dtype: int64"
      ]
     },
     "execution_count": 184,
     "metadata": {},
     "output_type": "execute_result"
    }
   ],
   "source": [
    "vectorize_y_ser(y)"
   ]
  },
  {
   "cell_type": "code",
   "execution_count": 185,
   "metadata": {},
   "outputs": [
    {
     "name": "stdout",
     "output_type": "stream",
     "text": [
      "CPU times: user 11.7 ms, sys: 1.94 ms, total: 13.7 ms\n",
      "Wall time: 12.4 ms\n"
     ]
    }
   ],
   "source": [
    "%%time\n",
    "# vectorize y in to (1, 0) (op-ed, news)\n",
    "y = vectorize_y_ser(y)"
   ]
  },
  {
   "cell_type": "code",
   "execution_count": 186,
   "metadata": {},
   "outputs": [
    {
     "data": {
      "text/plain": [
       "0    28810\n",
       "1     6808\n",
       "Name: type_of_material, dtype: int64"
      ]
     },
     "execution_count": 186,
     "metadata": {},
     "output_type": "execute_result"
    }
   ],
   "source": [
    "y.value_counts()"
   ]
  },
  {
   "cell_type": "code",
   "execution_count": 187,
   "metadata": {},
   "outputs": [
    {
     "data": {
      "text/plain": [
       "(35618,)"
      ]
     },
     "execution_count": 187,
     "metadata": {},
     "output_type": "execute_result"
    }
   ],
   "source": [
    "y.shape"
   ]
  },
  {
   "cell_type": "markdown",
   "metadata": {},
   "source": [
    "# remove stop words"
   ]
  },
  {
   "cell_type": "markdown",
   "metadata": {},
   "source": [
    "# stemming/lemmatization"
   ]
  },
  {
   "cell_type": "code",
   "execution_count": 188,
   "metadata": {},
   "outputs": [],
   "source": [
    "snowball = SnowballStemmer('english')\n",
    "wordnet = WordNetLemmatizer()"
   ]
  },
  {
   "cell_type": "code",
   "execution_count": 189,
   "metadata": {},
   "outputs": [],
   "source": [
    "# %%time\n",
    "# def snowball_tokenize(doc):\n",
    "#     snowball = SnowballStemmer('english')\n",
    "#     return [snowball.stem(word) for word in word_tokenize(doc.lower())]"
   ]
  },
  {
   "cell_type": "code",
   "execution_count": 190,
   "metadata": {},
   "outputs": [
    {
     "name": "stdout",
     "output_type": "stream",
     "text": [
      "CPU times: user 4 µs, sys: 1 µs, total: 5 µs\n",
      "Wall time: 9.78 µs\n"
     ]
    }
   ],
   "source": [
    "%%time\n",
    "def wordnet_tokenize(doc):\n",
    "    wordnet = WordNetLemmatizer()\n",
    "    return  [wordnet.lemmatize(word) for word in word_tokenize(doc.lower())]"
   ]
  },
  {
   "cell_type": "markdown",
   "metadata": {},
   "source": [
    "# vectorizer"
   ]
  },
  {
   "cell_type": "markdown",
   "metadata": {},
   "source": [
    "# WORDNET tfidf"
   ]
  },
  {
   "cell_type": "code",
   "execution_count": 191,
   "metadata": {},
   "outputs": [],
   "source": [
    "#function that removes string.punctuation w/out the '?'\n",
    "def punc_strip(document):\n",
    "    for char in document:\n",
    "        if char in '!\"#$%&\\'()*+—,-./:;<=>?@[\\\\]^_`{|}~”’':\n",
    "            document = document.replace(char, \" \")  \n",
    "    return document"
   ]
  },
  {
   "cell_type": "code",
   "execution_count": 192,
   "metadata": {},
   "outputs": [],
   "source": [
    "alphabet = ['a','b','c','d', 'e', 'f', 'g', 'h', 'i', 'j', 'k', 'l', 'm', 'n', 'o', 'p', 'q', 'r', 's', 't', 'u', 'v', 'w', 'x', 'y', 'z']\n",
    "#stop_words = ['said']#, 'mr','our','trump','biden','america','american']\n",
    "#stop_words += alphabet"
   ]
  },
  {
   "cell_type": "code",
   "execution_count": 193,
   "metadata": {},
   "outputs": [],
   "source": [
    "#stop_words = ['said']"
   ]
  },
  {
   "cell_type": "code",
   "execution_count": 194,
   "metadata": {},
   "outputs": [
    {
     "name": "stdout",
     "output_type": "stream",
     "text": [
      "CPU times: user 4.88 ms, sys: 8.3 ms, total: 13.2 ms\n",
      "Wall time: 13.6 ms\n"
     ]
    }
   ],
   "source": [
    "%%time\n",
    "#create vectorizer\n",
    "\n",
    "vectorizer = TfidfVectorizer(#input='content', \n",
    "#                 encoding='utf-8', \n",
    "#                 decode_error='strict', \n",
    "#                 strip_accents='ascii', \n",
    "#                 lowercase=True, \n",
    "                 preprocessor=punc_strip, \n",
    "                 tokenizer=wordnet_tokenize, \n",
    "#                 analyzer='word', \n",
    "                 stop_words=alphabet, \n",
    "#                 token_pattern='(?u)\\b\\w\\w+\\b', \n",
    "#                 ngram_range=(1, 1), \n",
    "#                 max_df=0.95, #\n",
    "                 min_df=0.05, \n",
    "                 max_features=None, \n",
    "#                 vocabulary=None, \n",
    "#                 binary=False, \n",
    "#                 dtype=<class 'numpy.float64'>, \n",
    "#                 norm='l2', \n",
    "#                 use_idf=True, \n",
    "#                 smooth_idf=True, \n",
    "#                 sublinear_tf=False\n",
    ")"
   ]
  },
  {
   "cell_type": "markdown",
   "metadata": {},
   "source": [
    "# test, train, split"
   ]
  },
  {
   "cell_type": "code",
   "execution_count": 195,
   "metadata": {},
   "outputs": [],
   "source": [
    "#test, train, split"
   ]
  },
  {
   "cell_type": "code",
   "execution_count": 196,
   "metadata": {},
   "outputs": [
    {
     "name": "stdout",
     "output_type": "stream",
     "text": [
      "(26713,) (8905,) (26713,) (8905,)\n",
      "CPU times: user 25.4 ms, sys: 29.8 ms, total: 55.2 ms\n",
      "Wall time: 55.2 ms\n"
     ]
    }
   ],
   "source": [
    "%%time\n",
    "#test, train, split\n",
    "X_train, X_test, y_train, y_test = train_test_split(X, y, random_state=50)\n",
    "print(X_train.shape, X_test.shape, y_train.shape, y_test.shape)"
   ]
  },
  {
   "cell_type": "code",
   "execution_count": 197,
   "metadata": {},
   "outputs": [
    {
     "name": "stdout",
     "output_type": "stream",
     "text": [
      "2021-01-07 16:32:02.736384\n",
      "CPU times: user 4min 17s, sys: 8.62 s, total: 4min 25s\n",
      "Wall time: 5min 19s\n"
     ]
    }
   ],
   "source": [
    "%%time\n",
    "print(datetime.datetime.now())\n",
    "X_train =  vectorizer.fit_transform(X_train)"
   ]
  },
  {
   "cell_type": "code",
   "execution_count": 198,
   "metadata": {},
   "outputs": [
    {
     "name": "stdout",
     "output_type": "stream",
     "text": [
      "2021-01-07 16:37:22.088029\n",
      "CPU times: user 1min 27s, sys: 1.93 s, total: 1min 29s\n",
      "Wall time: 1min 42s\n"
     ]
    }
   ],
   "source": [
    "%%time\n",
    "print(datetime.datetime.now())\n",
    "X_test = vectorizer.transform(X_test)"
   ]
  },
  {
   "cell_type": "code",
   "execution_count": 199,
   "metadata": {},
   "outputs": [],
   "source": [
    "vocab = vectorizer.vocabulary_"
   ]
  },
  {
   "cell_type": "code",
   "execution_count": 200,
   "metadata": {},
   "outputs": [
    {
     "data": {
      "text/plain": [
       "1785"
      ]
     },
     "execution_count": 200,
     "metadata": {},
     "output_type": "execute_result"
    }
   ],
   "source": [
    "len(vocab)"
   ]
  },
  {
   "cell_type": "code",
   "execution_count": 201,
   "metadata": {},
   "outputs": [
    {
     "data": {
      "text/plain": [
       "(26713, 1785)"
      ]
     },
     "execution_count": 201,
     "metadata": {},
     "output_type": "execute_result"
    }
   ],
   "source": [
    "X_train.shape"
   ]
  },
  {
   "cell_type": "code",
   "execution_count": 202,
   "metadata": {},
   "outputs": [
    {
     "data": {
      "text/plain": [
       "(8905, 1785)"
      ]
     },
     "execution_count": 202,
     "metadata": {},
     "output_type": "execute_result"
    }
   ],
   "source": [
    "X_test.shape"
   ]
  },
  {
   "cell_type": "markdown",
   "metadata": {},
   "source": [
    "# count vectorizer"
   ]
  },
  {
   "cell_type": "code",
   "execution_count": 203,
   "metadata": {},
   "outputs": [],
   "source": [
    "# count_vectorizer = CountVectorizer(strip_accents='None',\n",
    "#                                    lowercase=True,\n",
    "#                                    tokenizer=snowball_tokenize,\n",
    "#                                    stop_words='english',\n",
    "#                                    max_features=None)"
   ]
  },
  {
   "cell_type": "markdown",
   "metadata": {},
   "source": [
    "# balance classes"
   ]
  },
  {
   "cell_type": "code",
   "execution_count": 204,
   "metadata": {},
   "outputs": [
    {
     "name": "stdout",
     "output_type": "stream",
     "text": [
      "[(0, 5154), (1, 5154)]\n",
      "RandomUnderSampler(random_state=0)\n",
      "CPU times: user 45.8 ms, sys: 44 ms, total: 89.8 ms\n",
      "Wall time: 152 ms\n"
     ]
    }
   ],
   "source": [
    "%%time\n",
    "#balance the classes\n",
    "\n",
    "from imblearn.under_sampling import RandomUnderSampler\n",
    "rus = RandomUnderSampler(random_state=0)\n",
    "\n",
    "#X, y --> X_resampled, y_resampled\n",
    "X_resampled, y_resampled = rus.fit_resample(X_train, y_train)\n",
    "print(sorted(Counter(y_resampled).items()))\n",
    "print(rus)"
   ]
  },
  {
   "cell_type": "markdown",
   "metadata": {},
   "source": [
    "# random forest classifier"
   ]
  },
  {
   "cell_type": "code",
   "execution_count": 205,
   "metadata": {},
   "outputs": [
    {
     "name": "stdout",
     "output_type": "stream",
     "text": [
      "2021-01-07 16:39:05.314568\n",
      "CPU times: user 2.34 ms, sys: 15.9 ms, total: 18.3 ms\n",
      "Wall time: 49.4 ms\n"
     ]
    }
   ],
   "source": [
    "%%time\n",
    "print(datetime.datetime.now())\n",
    "rf_clf = RandomForestClassifier(max_depth=2, random_state=0)"
   ]
  },
  {
   "cell_type": "code",
   "execution_count": 206,
   "metadata": {},
   "outputs": [
    {
     "data": {
      "text/plain": [
       "(8905,)"
      ]
     },
     "execution_count": 206,
     "metadata": {},
     "output_type": "execute_result"
    }
   ],
   "source": [
    "rf_clf.fit(X_resampled, y_resampled)\n",
    "y_pred = rf_clf.predict(X_test)\n",
    "y_pred.shape"
   ]
  },
  {
   "cell_type": "markdown",
   "metadata": {},
   "source": [
    "### metrics y_pred"
   ]
  },
  {
   "cell_type": "code",
   "execution_count": 207,
   "metadata": {},
   "outputs": [],
   "source": [
    "tn, fp, fn, tp = confusion_matrix(y_true = y_test, y_pred = y_pred).ravel()"
   ]
  },
  {
   "cell_type": "code",
   "execution_count": 208,
   "metadata": {},
   "outputs": [
    {
     "name": "stdout",
     "output_type": "stream",
     "text": [
      "(8905,)\n",
      "(8905,)\n"
     ]
    }
   ],
   "source": [
    "print(y_test.shape)\n",
    "print(y_pred.shape)"
   ]
  },
  {
   "cell_type": "code",
   "execution_count": 209,
   "metadata": {},
   "outputs": [
    {
     "name": "stdout",
     "output_type": "stream",
     "text": [
      "Accuracy: 0.91\n",
      "Recall: 0.91\n",
      "Precision: 0.68\n",
      "TN:6560 FP:691 FN:152 TP:1502\n"
     ]
    }
   ],
   "source": [
    "metrics_(tn, fp, fn, tp)"
   ]
  },
  {
   "cell_type": "code",
   "execution_count": 210,
   "metadata": {},
   "outputs": [
    {
     "data": {
      "image/png": "[encoded data removed]",
      "text/plain": [
       "<Figure size 432x288 with 2 Axes>"
      ]
     },
     "metadata": {},
     "output_type": "display_data"
    }
   ],
   "source": [
    "class_names = [\"News\", \"Op-Ed\"]\n",
    "plot_confusion_matrix(estimator=rf_clf,\n",
    "                      X=X_test,\n",
    "                      y_true=y_test,\n",
    "                      display_labels=class_names,\n",
    "                      cmap='cividis')\n",
    "plt.savefig('../img/confusion_matrix.png');"
   ]
  },
  {
   "cell_type": "markdown",
   "metadata": {},
   "source": [
    "# vectorizer parameters"
   ]
  },
  {
   "cell_type": "code",
   "execution_count": 211,
   "metadata": {},
   "outputs": [
    {
     "name": "stdout",
     "output_type": "stream",
     "text": [
      "Number of features: 1785, Numbers of stop words: 94015\n",
      "analyzer: word\n",
      "binary: False\n",
      "decode_error: strict\n",
      "dtype: <class 'numpy.float64'>\n",
      "encoding: utf-8\n",
      "input: content\n",
      "lowercase: True\n",
      "max_df: 0.95\n",
      "max_features: None\n",
      "min_df: 0.05\n",
      "ngram_range: (1, 1)\n",
      "norm: l2\n",
      "preprocessor: <function punc_strip at 0x7fd43e21b950>\n",
      "smooth_idf: True\n",
      "stop_words: ['a', 'b', 'c', 'd', 'e', 'f', 'g', 'h', 'i', 'j', 'k', 'l', 'm', 'n', 'o', 'p', 'q', 'r', 's', 't', 'u', 'v', 'w', 'x', 'y', 'z']\n",
      "strip_accents: None\n",
      "sublinear_tf: False\n",
      "token_pattern: (?u)\\b\\w\\w+\\b\n",
      "tokenizer: <function wordnet_tokenize at 0x7fd43e22f170>\n",
      "use_idf: True\n",
      "vocabulary: None\n"
     ]
    }
   ],
   "source": [
    "vectorizer_parameters(vectorizer)"
   ]
  },
  {
   "cell_type": "markdown",
   "metadata": {},
   "source": [
    "# important features"
   ]
  },
  {
   "cell_type": "markdown",
   "metadata": {},
   "source": [
    "### feature imporance"
   ]
  },
  {
   "cell_type": "code",
   "execution_count": 212,
   "metadata": {},
   "outputs": [
    {
     "name": "stdout",
     "output_type": "stream",
     "text": [
      "2021-01-07 16:39:07.960408\n",
      "CPU times: user 357 ms, sys: 61.6 ms, total: 418 ms\n",
      "Wall time: 488 ms\n"
     ]
    },
    {
     "data": {
      "image/png": "[encoded data removed]",
      "text/plain": [
       "<Figure size 1440x1080 with 1 Axes>"
      ]
     },
     "metadata": {},
     "output_type": "display_data"
    }
   ],
   "source": [
    "%%time\n",
    "print(datetime.datetime.now())\n",
    "\n",
    "feat_names = vectorizer.get_feature_names()\n",
    "feature_import = rf_clf.feature_importances_\n",
    "\n",
    "feat_scores = pd.Series(feature_import, index=feat_names)\n",
    "feat_scores = feat_scores.sort_values()\n",
    "ax = feat_scores[-20:].plot(kind='barh', figsize=(20,15))\n",
    "ax.set_title('\"Decrease in Impurity\" Importance')\n",
    "ax.set_xlabel('Average contribution to the reduction in variance')\n",
    "plt.savefig('../img/feature_imporance.png');"
   ]
  },
  {
   "cell_type": "markdown",
   "metadata": {},
   "source": [
    "### permutation importance"
   ]
  },
  {
   "cell_type": "code",
   "execution_count": 216,
   "metadata": {},
   "outputs": [],
   "source": [
    "# %%time\n",
    "# print(datetime.datetime.now())\n",
    "# r = permutation_importance(rf_clf, X_test.toarray(), y_test, n_repeats=30, random_state=0)\n",
    "# for i in r.importances_mean.argsort()[::-1]:\n",
    "#     if r.importances_mean[i] - 2 * r.importances_std[i] > 0:\n",
    "#         print(f\"{feat_names[i]:<8}\"\n",
    "#               f\"{r.importances_mean[i]:.3f}\"\n",
    "#               f\" +/- {r.importances_std[i]:.3f}\")"
   ]
  },
  {
   "cell_type": "code",
   "execution_count": 214,
   "metadata": {},
   "outputs": [
    {
     "data": {
      "text/plain": [
       "['000',\n",
       " '1',\n",
       " '10',\n",
       " '100',\n",
       " '11',\n",
       " '12',\n",
       " '13',\n",
       " '14',\n",
       " '15',\n",
       " '16',\n",
       " '17',\n",
       " '18',\n",
       " '19',\n",
       " '2',\n",
       " '20',\n",
       " '200',\n",
       " '2000',\n",
       " '2001',\n",
       " '2004',\n",
       " '2005',\n",
       " '2006',\n",
       " '2008',\n",
       " '2009',\n",
       " '2010',\n",
       " '2011',\n",
       " '2012',\n",
       " '2013',\n",
       " '2014',\n",
       " '2015',\n",
       " '2016',\n",
       " '2017',\n",
       " '2018',\n",
       " '2020',\n",
       " '21',\n",
       " '24',\n",
       " '25',\n",
       " '3',\n",
       " '30',\n",
       " '35',\n",
       " '4',\n",
       " '40',\n",
       " '5',\n",
       " '50',\n",
       " '500',\n",
       " '6',\n",
       " '60',\n",
       " '7',\n",
       " '70',\n",
       " '8',\n",
       " '80',\n",
       " '9',\n",
       " '90',\n",
       " 'ability',\n",
       " 'able',\n",
       " 'abortion',\n",
       " 'about',\n",
       " 'above',\n",
       " 'abuse',\n",
       " 'accept',\n",
       " 'access',\n",
       " 'according',\n",
       " 'account',\n",
       " 'accusation',\n",
       " 'accused',\n",
       " 'acknowledged',\n",
       " 'across',\n",
       " 'act',\n",
       " 'acting',\n",
       " 'action',\n",
       " 'activist',\n",
       " 'activity',\n",
       " 'actually',\n",
       " 'ad',\n",
       " 'add',\n",
       " 'added',\n",
       " 'adding',\n",
       " 'addition',\n",
       " 'additional',\n",
       " 'address',\n",
       " 'administration',\n",
       " 'advance',\n",
       " 'advantage',\n",
       " 'advice',\n",
       " 'adviser',\n",
       " 'advocacy',\n",
       " 'advocate',\n",
       " 'affair',\n",
       " 'affect',\n",
       " 'affordable',\n",
       " 'african',\n",
       " 'after',\n",
       " 'afternoon',\n",
       " 'again',\n",
       " 'against',\n",
       " 'age',\n",
       " 'agency',\n",
       " 'agenda',\n",
       " 'agent',\n",
       " 'aggressive',\n",
       " 'ago',\n",
       " 'agree',\n",
       " 'agreed',\n",
       " 'agreement',\n",
       " 'ahead',\n",
       " 'aid',\n",
       " 'aide',\n",
       " 'aimed',\n",
       " 'air',\n",
       " 'al',\n",
       " 'all',\n",
       " 'allegation',\n",
       " 'allow',\n",
       " 'allowed',\n",
       " 'allowing',\n",
       " 'ally',\n",
       " 'almost',\n",
       " 'alone',\n",
       " 'along',\n",
       " 'already',\n",
       " 'also',\n",
       " 'alternative',\n",
       " 'although',\n",
       " 'always',\n",
       " 'am',\n",
       " 'ambassador',\n",
       " 'amendment',\n",
       " 'america',\n",
       " 'american',\n",
       " 'amid',\n",
       " 'among',\n",
       " 'amount',\n",
       " 'analysis',\n",
       " 'analyst',\n",
       " 'andrew',\n",
       " 'anger',\n",
       " 'angry',\n",
       " 'announced',\n",
       " 'announcement',\n",
       " 'annual',\n",
       " 'anonymity',\n",
       " 'another',\n",
       " 'answer',\n",
       " 'anti',\n",
       " 'any',\n",
       " 'anyone',\n",
       " 'anything',\n",
       " 'apparently',\n",
       " 'appeal',\n",
       " 'appear',\n",
       " 'appearance',\n",
       " 'appeared',\n",
       " 'appears',\n",
       " 'apply',\n",
       " 'appointed',\n",
       " 'appointment',\n",
       " 'approach',\n",
       " 'approval',\n",
       " 'approved',\n",
       " 'april',\n",
       " 'are',\n",
       " 'area',\n",
       " 'aren',\n",
       " 'argue',\n",
       " 'argued',\n",
       " 'arguing',\n",
       " 'argument',\n",
       " 'arizona',\n",
       " 'arm',\n",
       " 'army',\n",
       " 'around',\n",
       " 'arrived',\n",
       " 'article',\n",
       " 'aside',\n",
       " 'ask',\n",
       " 'asked',\n",
       " 'asking',\n",
       " 'assault',\n",
       " 'assistance',\n",
       " 'assistant',\n",
       " 'associate',\n",
       " 'association',\n",
       " 'at',\n",
       " 'attack',\n",
       " 'attempt',\n",
       " 'attended',\n",
       " 'attention',\n",
       " 'attorney',\n",
       " 'audience',\n",
       " 'august',\n",
       " 'author',\n",
       " 'authority',\n",
       " 'available',\n",
       " 'average',\n",
       " 'avoid',\n",
       " 'aware',\n",
       " 'away',\n",
       " 'back',\n",
       " 'backed',\n",
       " 'background',\n",
       " 'bad',\n",
       " 'balance',\n",
       " 'ballot',\n",
       " 'ban',\n",
       " 'bank',\n",
       " 'bar',\n",
       " 'barack',\n",
       " 'base',\n",
       " 'based',\n",
       " 'basic',\n",
       " 'basis',\n",
       " 'battle',\n",
       " 'be',\n",
       " 'became',\n",
       " 'because',\n",
       " 'become',\n",
       " 'becoming',\n",
       " 'been',\n",
       " 'before',\n",
       " 'began',\n",
       " 'begin',\n",
       " 'beginning',\n",
       " 'begun',\n",
       " 'behalf',\n",
       " 'behavior',\n",
       " 'behind',\n",
       " 'being',\n",
       " 'belief',\n",
       " 'believe',\n",
       " 'believed',\n",
       " 'benefit',\n",
       " 'best',\n",
       " 'better',\n",
       " 'between',\n",
       " 'beyond',\n",
       " 'bid',\n",
       " 'biden',\n",
       " 'big',\n",
       " 'bigger',\n",
       " 'biggest',\n",
       " 'bill',\n",
       " 'billion',\n",
       " 'bipartisan',\n",
       " 'bit',\n",
       " 'black',\n",
       " 'blame',\n",
       " 'block',\n",
       " 'blue',\n",
       " 'board',\n",
       " 'bob',\n",
       " 'body',\n",
       " 'book',\n",
       " 'border',\n",
       " 'born',\n",
       " 'both',\n",
       " 'branch',\n",
       " 'break',\n",
       " 'brief',\n",
       " 'briefing',\n",
       " 'bring',\n",
       " 'bringing',\n",
       " 'broad',\n",
       " 'broader',\n",
       " 'broke',\n",
       " 'brother',\n",
       " 'brought',\n",
       " 'budget',\n",
       " 'build',\n",
       " 'building',\n",
       " 'built',\n",
       " 'bureau',\n",
       " 'bush',\n",
       " 'business',\n",
       " 'buy',\n",
       " 'cabinet',\n",
       " 'california',\n",
       " 'call',\n",
       " 'called',\n",
       " 'calling',\n",
       " 'came',\n",
       " 'campaign',\n",
       " 'can',\n",
       " 'candidate',\n",
       " 'capital',\n",
       " 'capitol',\n",
       " 'car',\n",
       " 'card',\n",
       " 'care',\n",
       " 'career',\n",
       " 'carolina',\n",
       " 'carried',\n",
       " 'carry',\n",
       " 'case',\n",
       " 'cast',\n",
       " 'caucus',\n",
       " 'caught',\n",
       " 'cause',\n",
       " 'caused',\n",
       " 'center',\n",
       " 'central',\n",
       " 'century',\n",
       " 'certain',\n",
       " 'certainly',\n",
       " 'chairman',\n",
       " 'challenge',\n",
       " 'chamber',\n",
       " 'chance',\n",
       " 'change',\n",
       " 'changed',\n",
       " 'changing',\n",
       " 'charge',\n",
       " 'charged',\n",
       " 'charles',\n",
       " 'check',\n",
       " 'chicago',\n",
       " 'chief',\n",
       " 'child',\n",
       " 'china',\n",
       " 'choice',\n",
       " 'choose',\n",
       " 'chris',\n",
       " 'chuck',\n",
       " 'cited',\n",
       " 'citing',\n",
       " 'citizen',\n",
       " 'city',\n",
       " 'civil',\n",
       " 'claim',\n",
       " 'claimed',\n",
       " 'class',\n",
       " 'clear',\n",
       " 'clearly',\n",
       " 'client',\n",
       " 'climate',\n",
       " 'clinton',\n",
       " 'close',\n",
       " 'closed',\n",
       " 'closely',\n",
       " 'club',\n",
       " 'cnn',\n",
       " 'co',\n",
       " 'coalition',\n",
       " 'code',\n",
       " 'colleague',\n",
       " 'college',\n",
       " 'come',\n",
       " 'coming',\n",
       " 'comment',\n",
       " 'commerce',\n",
       " 'commission',\n",
       " 'commitment',\n",
       " 'committed',\n",
       " 'committee',\n",
       " 'common',\n",
       " 'communication',\n",
       " 'community',\n",
       " 'company',\n",
       " 'compared',\n",
       " 'complained',\n",
       " 'complaint',\n",
       " 'complete',\n",
       " 'completely',\n",
       " 'complex',\n",
       " 'complicated',\n",
       " 'compromise',\n",
       " 'concern',\n",
       " 'concerned',\n",
       " 'concluded',\n",
       " 'conclusion',\n",
       " 'condition',\n",
       " 'conduct',\n",
       " 'conducted',\n",
       " 'conference',\n",
       " 'confidence',\n",
       " 'confirmation',\n",
       " 'confirmed',\n",
       " 'conflict',\n",
       " 'congress',\n",
       " 'congressional',\n",
       " 'congressman',\n",
       " 'connection',\n",
       " 'consequence',\n",
       " 'conservative',\n",
       " 'consider',\n",
       " 'considered',\n",
       " 'considering',\n",
       " 'constitution',\n",
       " 'constitutional',\n",
       " 'consumer',\n",
       " 'contact',\n",
       " 'contest',\n",
       " 'continue',\n",
       " 'continued',\n",
       " 'continues',\n",
       " 'continuing',\n",
       " 'contrast',\n",
       " 'contribution',\n",
       " 'control',\n",
       " 'controlled',\n",
       " 'convention',\n",
       " 'conversation',\n",
       " 'core',\n",
       " 'coronavirus',\n",
       " 'corporate',\n",
       " 'corporation',\n",
       " 'cost',\n",
       " 'could',\n",
       " 'couldn',\n",
       " 'council',\n",
       " 'counsel',\n",
       " 'count',\n",
       " 'country',\n",
       " 'county',\n",
       " 'couple',\n",
       " 'course',\n",
       " 'court',\n",
       " 'cover',\n",
       " 'coverage',\n",
       " 'create',\n",
       " 'created',\n",
       " 'creating',\n",
       " 'credit',\n",
       " 'crime',\n",
       " 'criminal',\n",
       " 'crisis',\n",
       " 'critic',\n",
       " 'critical',\n",
       " 'criticism',\n",
       " 'criticized',\n",
       " 'crowd',\n",
       " 'crucial',\n",
       " 'culture',\n",
       " 'current',\n",
       " 'currently',\n",
       " 'cut',\n",
       " 'cutting',\n",
       " 'daily',\n",
       " 'damage',\n",
       " 'danger',\n",
       " 'dangerous',\n",
       " 'data',\n",
       " 'date',\n",
       " 'daughter',\n",
       " 'david',\n",
       " 'day',\n",
       " 'dead',\n",
       " 'deal',\n",
       " 'dealing',\n",
       " 'death',\n",
       " 'debate',\n",
       " 'debt',\n",
       " 'decade',\n",
       " 'december',\n",
       " 'decide',\n",
       " 'decided',\n",
       " 'decision',\n",
       " 'declared',\n",
       " 'declined',\n",
       " 'deep',\n",
       " 'deeply',\n",
       " 'defeat',\n",
       " 'defend',\n",
       " 'defended',\n",
       " 'defense',\n",
       " 'deficit',\n",
       " 'degree',\n",
       " 'delay',\n",
       " 'deliver',\n",
       " 'delivered',\n",
       " 'demand',\n",
       " 'democracy',\n",
       " 'democrat',\n",
       " 'democratic',\n",
       " 'denied',\n",
       " 'department',\n",
       " 'deputy',\n",
       " 'described',\n",
       " 'designed',\n",
       " 'desire',\n",
       " 'despite',\n",
       " 'detail',\n",
       " 'determine',\n",
       " 'determined',\n",
       " 'development',\n",
       " 'did',\n",
       " 'didn',\n",
       " 'died',\n",
       " 'difference',\n",
       " 'different',\n",
       " 'difficult',\n",
       " 'dinner',\n",
       " 'direct',\n",
       " 'direction',\n",
       " 'directly',\n",
       " 'director',\n",
       " 'disclosure',\n",
       " 'discus',\n",
       " 'discussed',\n",
       " 'discussion',\n",
       " 'dismissed',\n",
       " 'dispute',\n",
       " 'district',\n",
       " 'divided',\n",
       " 'division',\n",
       " 'do',\n",
       " 'doctor',\n",
       " 'document',\n",
       " 'doe',\n",
       " 'doesn',\n",
       " 'doing',\n",
       " 'dollar',\n",
       " 'domestic',\n",
       " 'don',\n",
       " 'donald',\n",
       " 'done',\n",
       " 'donor',\n",
       " 'door',\n",
       " 'doubt',\n",
       " 'down',\n",
       " 'dozen',\n",
       " 'dr',\n",
       " 'draw',\n",
       " 'drawn',\n",
       " 'drew',\n",
       " 'drive',\n",
       " 'driven',\n",
       " 'drop',\n",
       " 'dropped',\n",
       " 'drug',\n",
       " 'during',\n",
       " 'duty',\n",
       " 'each',\n",
       " 'eager',\n",
       " 'earlier',\n",
       " 'early',\n",
       " 'easier',\n",
       " 'easily',\n",
       " 'east',\n",
       " 'easy',\n",
       " 'economic',\n",
       " 'economist',\n",
       " 'economy',\n",
       " 'education',\n",
       " 'edward',\n",
       " 'effect',\n",
       " 'effective',\n",
       " 'effectively',\n",
       " 'effort',\n",
       " 'eight',\n",
       " 'either',\n",
       " 'elect',\n",
       " 'elected',\n",
       " 'election',\n",
       " 'electoral',\n",
       " 'element',\n",
       " 'else',\n",
       " 'email',\n",
       " 'embrace',\n",
       " 'emerged',\n",
       " 'emergency',\n",
       " 'employee',\n",
       " 'end',\n",
       " 'ended',\n",
       " 'enemy',\n",
       " 'energy',\n",
       " 'enforcement',\n",
       " 'engaged',\n",
       " 'enough',\n",
       " 'ensure',\n",
       " 'entire',\n",
       " 'entirely',\n",
       " 'environment',\n",
       " 'environmental',\n",
       " 'era',\n",
       " 'eric',\n",
       " 'especially',\n",
       " 'essentially',\n",
       " 'established',\n",
       " 'establishment',\n",
       " 'estimate',\n",
       " 'estimated',\n",
       " 'ethic',\n",
       " 'europe',\n",
       " 'european',\n",
       " 'even',\n",
       " 'evening',\n",
       " 'event',\n",
       " 'eventually',\n",
       " 'ever',\n",
       " 'every',\n",
       " 'everybody',\n",
       " 'everyone',\n",
       " 'everything',\n",
       " 'evidence',\n",
       " 'exactly',\n",
       " 'example',\n",
       " 'exchange',\n",
       " 'executive',\n",
       " 'existing',\n",
       " 'expand',\n",
       " 'expect',\n",
       " 'expected',\n",
       " 'experience',\n",
       " 'expert',\n",
       " 'explain',\n",
       " 'expressed',\n",
       " 'eye',\n",
       " 'face',\n",
       " 'faced',\n",
       " 'facing',\n",
       " 'fact',\n",
       " 'factor',\n",
       " 'failed',\n",
       " 'failing',\n",
       " 'failure',\n",
       " 'fair',\n",
       " 'faith',\n",
       " 'fall',\n",
       " 'false',\n",
       " 'familiar',\n",
       " 'family',\n",
       " 'far',\n",
       " 'fast',\n",
       " 'father',\n",
       " 'favor',\n",
       " 'favorite',\n",
       " 'fear',\n",
       " 'february',\n",
       " 'federal',\n",
       " 'feel',\n",
       " 'feeling',\n",
       " 'fell',\n",
       " 'fellow',\n",
       " 'felt',\n",
       " 'few',\n",
       " 'fewer',\n",
       " 'field',\n",
       " 'fight',\n",
       " 'fighting',\n",
       " 'figure',\n",
       " 'file',\n",
       " 'filed',\n",
       " 'final',\n",
       " 'finally',\n",
       " 'finance',\n",
       " 'financial',\n",
       " 'find',\n",
       " 'finding',\n",
       " 'fine',\n",
       " 'fire',\n",
       " 'fired',\n",
       " 'firm',\n",
       " 'first',\n",
       " 'fiscal',\n",
       " 'five',\n",
       " 'floor',\n",
       " 'florida',\n",
       " 'focus',\n",
       " 'focused',\n",
       " 'follow',\n",
       " 'followed',\n",
       " 'following',\n",
       " 'food',\n",
       " 'foot',\n",
       " 'force',\n",
       " 'forced',\n",
       " 'foreign',\n",
       " 'form',\n",
       " 'former',\n",
       " 'forward',\n",
       " 'found',\n",
       " 'foundation',\n",
       " 'founder',\n",
       " 'four',\n",
       " 'fox',\n",
       " 'fraud',\n",
       " 'free',\n",
       " 'freedom',\n",
       " 'frequently',\n",
       " 'friday',\n",
       " 'friend',\n",
       " 'front',\n",
       " 'full',\n",
       " 'fully',\n",
       " 'fund',\n",
       " 'funding',\n",
       " 'further',\n",
       " 'future',\n",
       " 'gain',\n",
       " 'game',\n",
       " 'gas',\n",
       " 'gathering',\n",
       " 'gave',\n",
       " 'general',\n",
       " 'generally',\n",
       " 'generation',\n",
       " 'george',\n",
       " 'georgia',\n",
       " 'get',\n",
       " 'getting',\n",
       " 'give',\n",
       " 'given',\n",
       " 'giving',\n",
       " 'global',\n",
       " 'go',\n",
       " 'goal',\n",
       " 'going',\n",
       " 'gone',\n",
       " 'good',\n",
       " 'got',\n",
       " 'gov',\n",
       " 'government',\n",
       " 'governor',\n",
       " 'grant',\n",
       " 'great',\n",
       " 'greater',\n",
       " 'green',\n",
       " 'grew',\n",
       " 'ground',\n",
       " 'group',\n",
       " 'growing',\n",
       " 'grown',\n",
       " 'growth',\n",
       " 'gun',\n",
       " 'guy',\n",
       " 'ha',\n",
       " 'had',\n",
       " 'half',\n",
       " 'hall',\n",
       " 'hand',\n",
       " 'handful',\n",
       " 'handling',\n",
       " 'happen',\n",
       " 'happened',\n",
       " 'happens',\n",
       " 'happy',\n",
       " 'hard',\n",
       " 'harder',\n",
       " 'hardly',\n",
       " 'harry',\n",
       " 'haven',\n",
       " 'having',\n",
       " 'he',\n",
       " 'head',\n",
       " 'health',\n",
       " 'hear',\n",
       " 'heard',\n",
       " 'hearing',\n",
       " 'heart',\n",
       " 'heavily',\n",
       " 'held',\n",
       " 'help',\n",
       " 'helped',\n",
       " 'helping',\n",
       " 'her',\n",
       " 'here',\n",
       " 'herself',\n",
       " 'high',\n",
       " 'higher',\n",
       " 'highest',\n",
       " 'highly',\n",
       " 'hill',\n",
       " 'hillary',\n",
       " 'him',\n",
       " 'himself',\n",
       " 'his',\n",
       " 'history',\n",
       " 'hit',\n",
       " 'hold',\n",
       " 'holding',\n",
       " 'home',\n",
       " 'homeland',\n",
       " 'hope',\n",
       " 'hoped',\n",
       " 'hoping',\n",
       " 'hospital',\n",
       " 'host',\n",
       " 'hour',\n",
       " 'house',\n",
       " 'how',\n",
       " 'however',\n",
       " 'huge',\n",
       " 'human',\n",
       " 'hundred',\n",
       " 'hurt',\n",
       " 'husband',\n",
       " 'idea',\n",
       " 'identified',\n",
       " 'ideological',\n",
       " 'if',\n",
       " 'ii',\n",
       " 'iii',\n",
       " 'illegal',\n",
       " 'illinois',\n",
       " 'image',\n",
       " 'imagine',\n",
       " 'immediate',\n",
       " 'immediately',\n",
       " 'immigrant',\n",
       " 'immigration',\n",
       " 'impact',\n",
       " 'impeachment',\n",
       " 'important',\n",
       " 'impose',\n",
       " 'impossible',\n",
       " 'improve',\n",
       " 'include',\n",
       " 'included',\n",
       " 'includes',\n",
       " 'including',\n",
       " 'income',\n",
       " 'increase',\n",
       " 'increased',\n",
       " 'increasing',\n",
       " 'increasingly',\n",
       " 'incumbent',\n",
       " 'indeed',\n",
       " 'independent',\n",
       " 'individual',\n",
       " 'industry',\n",
       " 'influence',\n",
       " 'information',\n",
       " 'infrastructure',\n",
       " 'initial',\n",
       " 'initially',\n",
       " 'initiative',\n",
       " 'inquiry',\n",
       " 'inside',\n",
       " 'insisted',\n",
       " 'instance',\n",
       " 'instead',\n",
       " 'institute',\n",
       " 'institution',\n",
       " 'insurance',\n",
       " 'intelligence',\n",
       " 'intended',\n",
       " 'interest',\n",
       " 'interested',\n",
       " 'internal',\n",
       " 'international',\n",
       " 'internet',\n",
       " 'interview',\n",
       " 'into',\n",
       " 'introduced',\n",
       " 'investigation',\n",
       " 'investigator',\n",
       " 'investment',\n",
       " 'involved',\n",
       " 'involving',\n",
       " 'iowa',\n",
       " 'iran',\n",
       " 'iraq',\n",
       " 'island',\n",
       " 'isn',\n",
       " 'issue',\n",
       " 'issued',\n",
       " 'itself',\n",
       " 'james',\n",
       " 'jan',\n",
       " 'january',\n",
       " 'jeff',\n",
       " 'jersey',\n",
       " 'jim',\n",
       " 'job',\n",
       " 'joe',\n",
       " 'john',\n",
       " 'johnson',\n",
       " 'join',\n",
       " 'joined',\n",
       " 'joint',\n",
       " 'joseph',\n",
       " 'journalist',\n",
       " 'jr',\n",
       " 'judge',\n",
       " 'judiciary',\n",
       " 'july',\n",
       " 'june',\n",
       " 'just',\n",
       " 'justice',\n",
       " 'keep',\n",
       " 'keeping',\n",
       " 'kennedy',\n",
       " 'kentucky',\n",
       " 'kept',\n",
       " 'key',\n",
       " 'killed',\n",
       " 'kind',\n",
       " 'king',\n",
       " 'knew',\n",
       " 'know',\n",
       " 'knowledge',\n",
       " 'known',\n",
       " 'labor',\n",
       " 'lack',\n",
       " 'land',\n",
       " 'language',\n",
       " 'large',\n",
       " 'largely',\n",
       " 'larger',\n",
       " 'largest',\n",
       " 'last',\n",
       " 'late',\n",
       " 'later',\n",
       " 'latest',\n",
       " 'law',\n",
       " 'lawmaker',\n",
       " 'lawsuit',\n",
       " 'lawyer',\n",
       " 'le',\n",
       " 'lead',\n",
       " 'leader',\n",
       " 'leadership',\n",
       " 'leading',\n",
       " 'leaning',\n",
       " 'learned',\n",
       " 'least',\n",
       " 'leave',\n",
       " 'leaving',\n",
       " 'led',\n",
       " 'left',\n",
       " 'legal',\n",
       " 'legislation',\n",
       " 'legislative',\n",
       " 'let',\n",
       " 'letter',\n",
       " 'level',\n",
       " 'liberal',\n",
       " 'lie',\n",
       " 'life',\n",
       " 'light',\n",
       " 'like',\n",
       " 'likely',\n",
       " 'limit',\n",
       " 'limited',\n",
       " 'line',\n",
       " 'list',\n",
       " 'little',\n",
       " 'live',\n",
       " 'living',\n",
       " 'll',\n",
       " 'lobbying',\n",
       " 'lobbyist',\n",
       " 'local',\n",
       " 'long',\n",
       " 'longer',\n",
       " 'longtime',\n",
       " 'look',\n",
       " 'looked',\n",
       " 'looking',\n",
       " 'lose',\n",
       " 'losing',\n",
       " 'loss',\n",
       " 'lost',\n",
       " 'lot',\n",
       " 'love',\n",
       " 'low',\n",
       " 'lower',\n",
       " 'made',\n",
       " 'mail',\n",
       " 'main',\n",
       " 'major',\n",
       " 'majority',\n",
       " 'make',\n",
       " 'making',\n",
       " 'man',\n",
       " 'managed',\n",
       " 'management',\n",
       " 'manager',\n",
       " 'many',\n",
       " 'march',\n",
       " 'mark',\n",
       " 'market',\n",
       " 'maryland',\n",
       " 'mass',\n",
       " 'massachusetts',\n",
       " 'material',\n",
       " 'matter',\n",
       " 'may',\n",
       " 'maybe',\n",
       " 'mayor',\n",
       " 'mccain',\n",
       " 'mcconnell',\n",
       " 'me',\n",
       " 'mean',\n",
       " 'meant',\n",
       " 'meanwhile',\n",
       " 'measure',\n",
       " 'medical',\n",
       " 'medicare',\n",
       " 'medium',\n",
       " 'meet',\n",
       " 'meeting',\n",
       " 'member',\n",
       " 'men',\n",
       " 'mention',\n",
       " 'message',\n",
       " 'met',\n",
       " 'mexico',\n",
       " 'michael',\n",
       " 'michigan',\n",
       " 'middle',\n",
       " ...]"
      ]
     },
     "execution_count": 214,
     "metadata": {},
     "output_type": "execute_result"
    }
   ],
   "source": [
    "feat_names"
   ]
  },
  {
   "cell_type": "code",
   "execution_count": null,
   "metadata": {},
   "outputs": [],
   "source": []
  },
  {
   "cell_type": "code",
   "execution_count": null,
   "metadata": {},
   "outputs": [],
   "source": []
  },
  {
   "cell_type": "code",
   "execution_count": null,
   "metadata": {},
   "outputs": [],
   "source": []
  },
  {
   "cell_type": "code",
   "execution_count": null,
   "metadata": {},
   "outputs": [],
   "source": []
  },
  {
   "cell_type": "code",
   "execution_count": null,
   "metadata": {},
   "outputs": [],
   "source": []
  },
  {
   "cell_type": "code",
   "execution_count": null,
   "metadata": {},
   "outputs": [],
   "source": []
  },
  {
   "cell_type": "code",
   "execution_count": null,
   "metadata": {},
   "outputs": [],
   "source": []
  },
  {
   "cell_type": "code",
   "execution_count": null,
   "metadata": {},
   "outputs": [],
   "source": []
  },
  {
   "cell_type": "code",
   "execution_count": null,
   "metadata": {},
   "outputs": [],
   "source": []
  },
  {
   "cell_type": "code",
   "execution_count": null,
   "metadata": {},
   "outputs": [],
   "source": []
  },
  {
   "cell_type": "code",
   "execution_count": null,
   "metadata": {},
   "outputs": [],
   "source": [
    "\n"
   ]
  }
 ],
 "metadata": {
  "kernelspec": {
   "display_name": "Python 3",
   "language": "python",
   "name": "python3"
  },
  "language_info": {
   "codemirror_mode": {
    "name": "ipython",
    "version": 3
   },
   "file_extension": ".py",
   "mimetype": "text/x-python",
   "name": "python",
   "nbconvert_exporter": "python",
   "pygments_lexer": "ipython3",
   "version": "3.7.9"
  }
 },
 "nbformat": 4,
 "nbformat_minor": 4
}
