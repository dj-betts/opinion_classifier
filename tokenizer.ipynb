{
 "cells": [
  {
   "cell_type": "code",
   "execution_count": 6,
   "metadata": {},
   "outputs": [],
   "source": [
    "from functions import vectorize_y_ser"
   ]
  },
  {
   "cell_type": "code",
   "execution_count": 7,
   "metadata": {},
   "outputs": [],
   "source": [
    "import string"
   ]
  },
  {
   "cell_type": "code",
   "execution_count": 8,
   "metadata": {},
   "outputs": [],
   "source": [
    "import re"
   ]
  },
  {
   "cell_type": "code",
   "execution_count": 9,
   "metadata": {},
   "outputs": [],
   "source": [
    "import datetime"
   ]
  },
  {
   "cell_type": "code",
   "execution_count": 10,
   "metadata": {},
   "outputs": [],
   "source": [
    "import nltk\n",
    "import string"
   ]
  },
  {
   "cell_type": "code",
   "execution_count": 11,
   "metadata": {},
   "outputs": [],
   "source": [
    "import pandas as pd\n",
    "import numpy as np"
   ]
  },
  {
   "cell_type": "code",
   "execution_count": 12,
   "metadata": {},
   "outputs": [],
   "source": [
    "from collections import Counter"
   ]
  },
  {
   "cell_type": "code",
   "execution_count": 13,
   "metadata": {},
   "outputs": [],
   "source": [
    "from nltk.stem.snowball import SnowballStemmer\n",
    "from nltk.stem.wordnet import WordNetLemmatizer\n",
    "from nltk.tokenize import word_tokenize\n",
    "from nltk.corpus import stopwords"
   ]
  },
  {
   "cell_type": "code",
   "execution_count": 14,
   "metadata": {},
   "outputs": [],
   "source": [
    "def vectorize_y_ser(ser):\n",
    "    y = ser.copy()\n",
    "    y.replace({'Op-Ed': 1,'News': 0}, inplace=True)\n",
    "    return y"
   ]
  },
  {
   "cell_type": "code",
   "execution_count": 15,
   "metadata": {},
   "outputs": [],
   "source": [
    "file = '/Users/djbetts/Desktop/opinion_classifier/data/archive/raw_2020.csv'"
   ]
  },
  {
   "cell_type": "code",
   "execution_count": 45,
   "metadata": {},
   "outputs": [],
   "source": [
    "#combine print, type, text columns in the list\n",
    "def printed(file):\n",
    "    print_cols = ['_id','print_page','pub_date','keywords','type_of_material','lead_paragraph','text']    \n",
    "    df = pd.read_csv(file, usecols=print_cols, index_col='_id', low_memory=False)\n",
    "    df = df[df.print_page.isna() == False]\n",
    "    df = df[~df.text.isna() == True]\n",
    "    return df"
   ]
  },
  {
   "cell_type": "code",
   "execution_count": 53,
   "metadata": {},
   "outputs": [],
   "source": [
    "#returns articles w/ 'United States Politics and Government' as a keyword\n",
    "def return_pol_gov(row):\n",
    "    list_dict = eval(row.keywords)\n",
    "    for (dic) in (list_dict):\n",
    "        if dic.get('value') == 'United States Politics and Government':\n",
    "            return True\n",
    "\n",
    "def keyword_filter(df, keyword='United States Politics and Government'):\n",
    "    df[keyword] = df.apply(return_pol_gov, axis=1)\n",
    "    df = df[df[keyword] == True]\n",
    "    return df"
   ]
  },
  {
   "cell_type": "markdown",
   "metadata": {},
   "source": [
    "# data"
   ]
  },
  {
   "cell_type": "code",
   "execution_count": 195,
   "metadata": {},
   "outputs": [],
   "source": [
    "data = printed(file)"
   ]
  },
  {
   "cell_type": "code",
   "execution_count": 196,
   "metadata": {},
   "outputs": [
    {
     "data": {
      "text/plain": [
       "(27752, 6)"
      ]
     },
     "execution_count": 196,
     "metadata": {},
     "output_type": "execute_result"
    }
   ],
   "source": [
    "data.shape"
   ]
  },
  {
   "cell_type": "code",
   "execution_count": 197,
   "metadata": {},
   "outputs": [
    {
     "name": "stdout",
     "output_type": "stream",
     "text": [
      "CPU times: user 2.75 s, sys: 71.8 ms, total: 2.83 s\n",
      "Wall time: 2.83 s\n"
     ]
    }
   ],
   "source": [
    "%%time\n",
    "df = keyword_filter(data)"
   ]
  },
  {
   "cell_type": "code",
   "execution_count": 198,
   "metadata": {},
   "outputs": [
    {
     "data": {
      "text/plain": [
       "(4585, 7)"
      ]
     },
     "execution_count": 198,
     "metadata": {},
     "output_type": "execute_result"
    }
   ],
   "source": [
    "df.shape"
   ]
  },
  {
   "cell_type": "code",
   "execution_count": 199,
   "metadata": {},
   "outputs": [
    {
     "data": {
      "text/plain": [
       "Index(['lead_paragraph', 'keywords', 'pub_date', 'type_of_material',\n",
       "       'print_page', 'text', 'United States Politics and Government'],\n",
       "      dtype='object')"
      ]
     },
     "execution_count": 199,
     "metadata": {},
     "output_type": "execute_result"
    }
   ],
   "source": [
    "df.columns"
   ]
  },
  {
   "cell_type": "code",
   "execution_count": 200,
   "metadata": {},
   "outputs": [
    {
     "data": {
      "text/plain": [
       "(4585, 7)"
      ]
     },
     "execution_count": 200,
     "metadata": {},
     "output_type": "execute_result"
    }
   ],
   "source": [
    "df.shape"
   ]
  },
  {
   "cell_type": "code",
   "execution_count": 201,
   "metadata": {},
   "outputs": [
    {
     "name": "stderr",
     "output_type": "stream",
     "text": [
      "/Users/djbetts/opt/anaconda3/lib/python3.7/site-packages/ipykernel_launcher.py:1: SettingWithCopyWarning: \n",
      "A value is trying to be set on a copy of a slice from a DataFrame.\n",
      "Try using .loc[row_indexer,col_indexer] = value instead\n",
      "\n",
      "See the caveats in the documentation: https://pandas.pydata.org/pandas-docs/stable/user_guide/indexing.html#returning-a-view-versus-a-copy\n",
      "  \"\"\"Entry point for launching an IPython kernel.\n"
     ]
    }
   ],
   "source": [
    "df['text'] = [text.replace(lead, \"\") for text, lead in zip(df.text[:].astype('str'), df.lead_paragraph[:].astype('str'))]"
   ]
  },
  {
   "cell_type": "code",
   "execution_count": 202,
   "metadata": {},
   "outputs": [
    {
     "data": {
      "text/plain": [
       "'But as you drew closer to the fifth floor, where Attorney General William Pelham Barr works out of a suite of offices, things started to loosen up. One assistant outside his conference room wore a mask, but the other did not. In the middle of the room, with its oil paintings and vaulted ceiling, the long central table had fewer chairs than you might expect, and an appropriate distance between them. But past the next door, inside the attorney general’s smaller personal office, Barr himself was al'"
      ]
     },
     "execution_count": 202,
     "metadata": {},
     "output_type": "execute_result"
    }
   ],
   "source": [
    "df.text[0][:500]"
   ]
  },
  {
   "cell_type": "markdown",
   "metadata": {},
   "source": [
    "# remove quotations"
   ]
  },
  {
   "cell_type": "code",
   "execution_count": 203,
   "metadata": {},
   "outputs": [],
   "source": [
    "#split document into article body and quotation\n",
    "def text_parse(document):\n",
    "    article = []\n",
    "    quote_list = []\n",
    "    \n",
    "    open_quote = \"“\"\n",
    "    close_quote = \"”\"\n",
    "    \n",
    "    close_split = document.split(close_quote)\n",
    "    \n",
    "    for string in close_split:\n",
    "\n",
    "        quote = string.split(open_quote)\n",
    "        article.append(quote.pop(0))\n",
    "        quote_list += quote\n",
    "    \n",
    "    article = \" \".join(article)\n",
    "    quotation = \" \".join(quote_list)\n",
    "        \n",
    "    return(article, quotation)"
   ]
  },
  {
   "cell_type": "code",
   "execution_count": 204,
   "metadata": {},
   "outputs": [],
   "source": [
    "#split article and return quote\n",
    "def return_article(document):\n",
    "    article = []\n",
    "    quote_list = []\n",
    "    \n",
    "    open_quote = \"“\"\n",
    "    close_quote = \"”\"\n",
    "    \n",
    "    close_split = document.split(close_quote)\n",
    "    \n",
    "    for string in close_split:\n",
    "\n",
    "        quote = string.split(open_quote)\n",
    "        article.append(quote.pop(0))\n",
    "        quote_list += quote\n",
    "    \n",
    "    article = \" \".join(article)\n",
    "    quotation = \" \".join(quote_list)\n",
    "    \n",
    "    return(article)"
   ]
  },
  {
   "cell_type": "code",
   "execution_count": 205,
   "metadata": {},
   "outputs": [],
   "source": [
    "#split article and return quote\n",
    "def return_quote(document):\n",
    "    article = []\n",
    "    quote_list = []\n",
    "    \n",
    "    open_quote = \"“\"\n",
    "    close_quote = \"”\"\n",
    "    \n",
    "    close_split = document.split(close_quote)\n",
    "    \n",
    "    for string in close_split:\n",
    "\n",
    "        quote = string.split(open_quote)\n",
    "        article.append(quote.pop(0))\n",
    "        quote_list.append(quote)\n",
    "    \n",
    "    article = \" \".join(article)\n",
    "#    quotation = \" \".join(quote_list)\n",
    "        \n",
    "    return(quote_list)"
   ]
  },
  {
   "cell_type": "code",
   "execution_count": 206,
   "metadata": {},
   "outputs": [
    {
     "name": "stderr",
     "output_type": "stream",
     "text": [
      "/Users/djbetts/opt/anaconda3/lib/python3.7/site-packages/ipykernel_launcher.py:1: SettingWithCopyWarning: \n",
      "A value is trying to be set on a copy of a slice from a DataFrame.\n",
      "Try using .loc[row_indexer,col_indexer] = value instead\n",
      "\n",
      "See the caveats in the documentation: https://pandas.pydata.org/pandas-docs/stable/user_guide/indexing.html#returning-a-view-versus-a-copy\n",
      "  \"\"\"Entry point for launching an IPython kernel.\n"
     ]
    }
   ],
   "source": [
    "df['article'] = df.text.apply(return_article)"
   ]
  },
  {
   "cell_type": "code",
   "execution_count": 207,
   "metadata": {},
   "outputs": [
    {
     "name": "stderr",
     "output_type": "stream",
     "text": [
      "/Users/djbetts/opt/anaconda3/lib/python3.7/site-packages/ipykernel_launcher.py:1: SettingWithCopyWarning: \n",
      "A value is trying to be set on a copy of a slice from a DataFrame.\n",
      "Try using .loc[row_indexer,col_indexer] = value instead\n",
      "\n",
      "See the caveats in the documentation: https://pandas.pydata.org/pandas-docs/stable/user_guide/indexing.html#returning-a-view-versus-a-copy\n",
      "  \"\"\"Entry point for launching an IPython kernel.\n"
     ]
    }
   ],
   "source": [
    "df['article_text'] = df.text.apply(return_article)"
   ]
  },
  {
   "cell_type": "code",
   "execution_count": 208,
   "metadata": {},
   "outputs": [
    {
     "data": {
      "text/plain": [
       "'But as you drew closer to the fifth floor, where Attorney General William Pelham Barr works out of a suite of offices, things started to loosen up. One assistant outside his conference room wore a mask, but the other did not. In the middle of the room, with its oil paintings and vaulted ceiling, the long central table had fewer chairs than you might expect, and an appropriate distance between them. But past the next door, inside the attorney general’s smaller personal office, Barr himself was al'"
      ]
     },
     "execution_count": 208,
     "metadata": {},
     "output_type": "execute_result"
    }
   ],
   "source": [
    "df['article'][0][:500]"
   ]
  },
  {
   "cell_type": "code",
   "execution_count": 209,
   "metadata": {},
   "outputs": [
    {
     "name": "stderr",
     "output_type": "stream",
     "text": [
      "/Users/djbetts/opt/anaconda3/lib/python3.7/site-packages/ipykernel_launcher.py:1: SettingWithCopyWarning: \n",
      "A value is trying to be set on a copy of a slice from a DataFrame.\n",
      "Try using .loc[row_indexer,col_indexer] = value instead\n",
      "\n",
      "See the caveats in the documentation: https://pandas.pydata.org/pandas-docs/stable/user_guide/indexing.html#returning-a-view-versus-a-copy\n",
      "  \"\"\"Entry point for launching an IPython kernel.\n"
     ]
    }
   ],
   "source": [
    "df['quote_list'] = df.text.apply(return_quote)"
   ]
  },
  {
   "cell_type": "code",
   "execution_count": 210,
   "metadata": {},
   "outputs": [
    {
     "data": {
      "text/plain": [
       "178"
      ]
     },
     "execution_count": 210,
     "metadata": {},
     "output_type": "execute_result"
    }
   ],
   "source": [
    "len(df['quote_list'][0])"
   ]
  },
  {
   "cell_type": "markdown",
   "metadata": {},
   "source": [
    "# created keyword list"
   ]
  },
  {
   "cell_type": "code",
   "execution_count": 211,
   "metadata": {},
   "outputs": [],
   "source": [
    "def keyword_string(row):\n",
    "    \n",
    "    dictionary_list = (eval(row))\n",
    "    output = \" \"\n",
    "    \n",
    "    for dictionary in dictionary_list:\n",
    "        dict_value = dictionary.get('value')\n",
    "        output += (f'{dict_value} ')\n",
    "    return output.split(\" \")"
   ]
  },
  {
   "cell_type": "code",
   "execution_count": 212,
   "metadata": {},
   "outputs": [
    {
     "name": "stderr",
     "output_type": "stream",
     "text": [
      "/Users/djbetts/opt/anaconda3/lib/python3.7/site-packages/ipykernel_launcher.py:1: SettingWithCopyWarning: \n",
      "A value is trying to be set on a copy of a slice from a DataFrame.\n",
      "Try using .loc[row_indexer,col_indexer] = value instead\n",
      "\n",
      "See the caveats in the documentation: https://pandas.pydata.org/pandas-docs/stable/user_guide/indexing.html#returning-a-view-versus-a-copy\n",
      "  \"\"\"Entry point for launching an IPython kernel.\n"
     ]
    }
   ],
   "source": [
    "df['keyword_list'] =  df.keywords.apply(keyword_string)"
   ]
  },
  {
   "cell_type": "markdown",
   "metadata": {},
   "source": [
    "# remove punctuation"
   ]
  },
  {
   "cell_type": "code",
   "execution_count": 213,
   "metadata": {},
   "outputs": [],
   "source": [
    "#string.punctuation\n",
    "nytimes_punct = \"”“\"\n",
    "open_quote = \"“\"\n",
    "close_quote = \"”\""
   ]
  },
  {
   "cell_type": "code",
   "execution_count": 214,
   "metadata": {},
   "outputs": [],
   "source": [
    "#function that removes string.punctuation w/out the '?'\n",
    "def punc_strip(document):\n",
    "    for char in word_tokenize(document):\n",
    "        if char in '!\"#$%&\\'()*+,-./:;<=>?@[\\\\]^_`{|}~—’':\n",
    "            document = document.replace(char, \" \")\n",
    "        if char == \"’\":\n",
    "            document = document.replace(char, \"\")\n",
    "    return document"
   ]
  },
  {
   "cell_type": "code",
   "execution_count": 215,
   "metadata": {},
   "outputs": [
    {
     "name": "stderr",
     "output_type": "stream",
     "text": [
      "/Users/djbetts/opt/anaconda3/lib/python3.7/site-packages/ipykernel_launcher.py:1: SettingWithCopyWarning: \n",
      "A value is trying to be set on a copy of a slice from a DataFrame.\n",
      "Try using .loc[row_indexer,col_indexer] = value instead\n",
      "\n",
      "See the caveats in the documentation: https://pandas.pydata.org/pandas-docs/stable/user_guide/indexing.html#returning-a-view-versus-a-copy\n",
      "  \"\"\"Entry point for launching an IPython kernel.\n"
     ]
    }
   ],
   "source": [
    "df['text'] = df.text.apply(punc_strip)"
   ]
  },
  {
   "cell_type": "markdown",
   "metadata": {},
   "source": [
    "# remove capitalized words "
   ]
  },
  {
   "cell_type": "code",
   "execution_count": 216,
   "metadata": {},
   "outputs": [],
   "source": [
    "def remove_cap_words(row):\n",
    "    row = row.split()\n",
    "    for word in row:\n",
    "        if word[0].isupper():\n",
    "            row.remove(word)\n",
    "            \n",
    "    return \" \".join(row)"
   ]
  },
  {
   "cell_type": "code",
   "execution_count": 217,
   "metadata": {},
   "outputs": [
    {
     "name": "stderr",
     "output_type": "stream",
     "text": [
      "/Users/djbetts/opt/anaconda3/lib/python3.7/site-packages/ipykernel_launcher.py:1: SettingWithCopyWarning: \n",
      "A value is trying to be set on a copy of a slice from a DataFrame.\n",
      "Try using .loc[row_indexer,col_indexer] = value instead\n",
      "\n",
      "See the caveats in the documentation: https://pandas.pydata.org/pandas-docs/stable/user_guide/indexing.html#returning-a-view-versus-a-copy\n",
      "  \"\"\"Entry point for launching an IPython kernel.\n"
     ]
    }
   ],
   "source": [
    "df['text'] = df.text.apply(remove_cap_words)"
   ]
  },
  {
   "cell_type": "code",
   "execution_count": 223,
   "metadata": {},
   "outputs": [],
   "source": [
    "df.to_csv('test2020.csv')"
   ]
  },
  {
   "cell_type": "code",
   "execution_count": null,
   "metadata": {},
   "outputs": [],
   "source": []
  },
  {
   "cell_type": "code",
   "execution_count": null,
   "metadata": {},
   "outputs": [],
   "source": []
  },
  {
   "cell_type": "code",
   "execution_count": null,
   "metadata": {},
   "outputs": [],
   "source": []
  },
  {
   "cell_type": "code",
   "execution_count": null,
   "metadata": {},
   "outputs": [],
   "source": []
  },
  {
   "cell_type": "markdown",
   "metadata": {},
   "source": [
    "# remove keywords"
   ]
  },
  {
   "cell_type": "code",
   "execution_count": null,
   "metadata": {},
   "outputs": [],
   "source": [
    "df['text'] = [text.replace(lead, \"\") for article, keywords in zip(df.article[:].astype('str'), df.lead_paragraph[:].astype('str'))]"
   ]
  },
  {
   "cell_type": "code",
   "execution_count": 107,
   "metadata": {},
   "outputs": [],
   "source": [
    "text = df.text[0]"
   ]
  },
  {
   "cell_type": "code",
   "execution_count": 123,
   "metadata": {},
   "outputs": [],
   "source": [
    "article = df.article[0]"
   ]
  },
  {
   "cell_type": "code",
   "execution_count": 124,
   "metadata": {},
   "outputs": [],
   "source": [
    "keywords = df.keyword_list[0]"
   ]
  },
  {
   "cell_type": "code",
   "execution_count": null,
   "metadata": {},
   "outputs": [],
   "source": []
  },
  {
   "cell_type": "code",
   "execution_count": 129,
   "metadata": {},
   "outputs": [
    {
     "name": "stdout",
     "output_type": "stream",
     "text": [
      "['But', 'as', 'you', 'drew', 'closer', 'to', 'the', 'fifth', 'floor,', 'where', 'Attorney', 'Pelham', 'Barr', 'works', 'out', 'a', 'suite', 'offices,', 'things', 'started', 'to', 'loosen', 'up.', 'One', 'assistant', 'outside', 'his', 'conference', 'room', 'wore', 'a', 'mask,', 'but', 'the', 'other', 'did', 'not.', 'In', 'the', 'middle', 'the', 'room,', 'with', 'its', 'oil', 'paintings', 'vaulted', 'ceiling,', 'the', 'long', 'central', 'table', 'had', 'fewer', 'chairs', 'than', 'you', 'might', 'expect,', 'an', 'appropriate', 'distance', 'between', 'them.', 'But', 'past', 'the', 'next', 'door,', 'inside', 'the', 'attorney', 'general’s', 'smaller', 'personal', 'office,', 'Barr', 'himself', 'was', 'also', 'mask-free.', 'Turning', 'around', 'to', 'greet', 'his', 'visitors,', 'he', 'moved', 'into', 'the', 'middle', 'a', 'wide', 'circle', 'four', 'chairs', 'arranged', 'in', 'front', 'his', 'desk.Now', 'nearing', 'the', 'end', 'his', 'career,', 'Barr', 'did', 'not', 'take', 'his', 'current', 'job', 'for', 'the', 'glory.', 'He', 'had', 'already', 'been', 'attorney', 'general', 'once,', 'in', 'President', 'H.W.', 'Bush’s', 'administration,', 'winning', 'him', 'a', 'reputation', 'as', 'a', 'wise', 'old', 'man', '—', 'a', 'reputation', 'that,', 'in', 'the', 'eyes', 'some,', 'his', 'tenure', 'in', 'the', 'Trump', 'administration', 'has', 'tarnished.', 'Nor', 'is', 'he', 'doing', 'it', 'for', 'the', 'money.', 'His', 'time', 'in', 'corporate', 'America', 'earned', 'him', 'tens', 'millions', 'dollars', 'in', 'compensation', 'stock', 'options,', 'his', 'bearing', 'is', 'still', 'that', 'a', 'Fortune', '500', 'counsel,', 'cozy', 'manners', 'wrapped', 'around', 'a', 'harder', 'core.', '', 'Barr', 'said,', 'though', 'I', 'had', 'been', 'asked', 'to', 'bring', 'one.', 'His', 'tone', 'was', 'jokingly', 'conspiratorial,', 'as', 'though', 'he', 'were', 'making', 'an', 'exception', 'for', 'an', 'old', 'friend.', 'Barr', 'is', 'sometimes', 'described', 'as', '', '', 'an', 'adjective', 'that', 'also', 'captures', 'his', 'professorial', 'manner.', 'His', 'speaking', 'voice', 'is', 'very', 'soft,', 'just', 'loud', 'enough', 'to', 'be', 'consistently', 'perceptible;', 'his', 'accent', 'is', 'patrician,', 'with', 'a', 'trace', 'old', 'New', 'York.', 'His', 'personality', 'breaks', 'through', 'mostly', 'in', 'frequent', 'moments', 'humor,', 'which', 'range', 'from', 'clubby', 'chuckles', 'to', 'tension-breaking', 'eruptions.', '', 'an', 'aide', 'added.', 'Barr', 'crossed', 'the', 'circle', 'chairs,', 'grinning', 'away', 'any', 'awkwardness.', 'We', 'bumped', 'elbows.', '', '', 'he', 'said', 'in', 'the', 'same', 'joshing', 'tone.', 'The', 'greater', 'risk,', 'course,', 'was', 'that', 'I', 'might', 'infect', 'him,', 'given', 'his', 'cabinet-level', 'access', 'to', 'regular', 'coronavirus', 'testing,', 'the', 'difference', 'in', 'our', 'ages,', 'Barr’s', 'regular', 'meetings', 'with', 'the', 'president', 'the', 'mostly', 'one-way', 'prophylactic', 'value', 'masks', 'in', 'general.', '', 'his', 'aide', 'suggested', 'again.', 'I', 'took', 'it', 'off.That', 'Monday,', 'the', 'whole', 'country', 'was', 'doing', 'the', 'same', 'dance.', 'The', 'Centers', 'for', 'Disease', 'Control', 'Prevention', 'had', 'recommended', 'that', 'all', 'Americans', 'wear', 'masks', 'at', 'meetings', 'like', 'this', 'one.', 'President', 'Trump', 'was', 'doing', 'something', 'else,', 'so,', 'for', 'the', 'time', 'being,', 'was', 'the', 'White', 'House', 'staff.', 'Vice', 'President', 'Mike', 'Pence,', 'having', 'been', 'wrong-footed', 'after', 'taking', 'the', 'no-mask', 'custom', 'to', 'the', 'Mayo', 'Clinic,', 'now', 'seemed', 'to', 'be', 'making', 'it', 'up', 'as', 'he', 'went', 'along.', 'Eight', 'weeks', 'into', 'the', 'global', 'pandemic,', 'a', 'charitable', 'observer', 'might', 'still', 'have', 'described', 'the', 'administration’s', 'response', 'as', 'improvisational', 'or', 'misguided,', 'as', 'opposed', 'to', 'willfully', 'cavalier.', 'But', 'things', 'were', 'about', 'to', 'get', 'worse.', 'That', 'day,', 'Trump’s', 'projection', 'the', 'total', 'U.S.', 'death', 'toll', '(75,000', 'to', '100,000),', 'which', 'was', 'given', 'the', 'previous', 'evening', 'at', 'the', 'Lincoln', 'Memorial,', 'would', 'be', 'challenged', 'by', 'an', 'internal', 'Trump-administration', 'document', 'predicting', 'that', 'the', 'number', 'daily', 'deaths', 'would', 'rise', 'into', 'June.', 'The', 'reckless', 'faith', 'the', 'president’s', 'inner', 'circle', 'would', 'be', 'challenged', 'when', 'two', 'members', 'the', 'White', 'House', 'staff', 'tested', 'positive', 'for', 'the', 'coronavirus.', 'Barr', 'I', 'did', 'not', 'know', 'it', 'then,', 'but', 'we', 'were', 'enjoying', 'the', 'tail', 'end', 'the', 'Trump', 'administration’s', 'libertine', 'phase.', 'On', 'May', '27,', 'the', 'official', 'death', 'toll', 'would', 'surpass', '100,000,', 'the', 'upper', 'bound', 'what', 'Trump', 'predicted', 'on', 'May', '3.One', 'has', 'to', 'assume', 'that', 'Trump', 'is', 'keeping', 'a', 'close', 'eye', 'on', 'the', '70-year-old', 'Barr', 'right', 'now.', 'The', 'powers', 'the', 'attorney', 'general,', 'as', 'the', 'executive', 'branch’s', 'rule', 'interpreter', 'law', 'enforcer,', 'peak', 'during', 'moments', 'social', 'unrest.', 'Barr', 'knows', 'these', 'powers', 'well:', 'He', 'led', 'the', 'through', 'the', 'Los', 'Angeles', 'riots', '1992,', 'when', 'Bush', 'invoked', 'the', 'Insurrection', 'Act', 'deployed', 'thousands', 'soldiers', 'Marines.', '(Later,', 'Barr', 'said', 'the', 'L.A.', 'riots', 'were', '', '', 'gang', 'activity', 'not', '', ')', 'Like', 'Barr', 'is', 'a', 'stalwart', 'believer', 'in', 'the', 'righteousness', 'the', 'police;', 'those', 'communities', 'that', 'fail', 'to', 'give', 'the', 'police', '', '', 'he', 'said', 'in', 'a', 'December', 'speech,', '', '', 'Last', 'summer,', 'Barr', 'dropped', 'the', 'department’s', 'federal', 'case', 'against', 'the', 'New', 'York', 'police', 'officer', 'who', 'killed', 'Eric', 'Garner', 'during', 'an', 'arrest', 'in', '2014.Barr’s', 'role', 'also', 'gives', 'him', 'influence', 'over', 'three', 'major', 'political', 'fronts', 'heading', 'into', 'November.', 'First,', 'there', 'is', 'Trump’s', 'fight', 'to', 'open', 'the', 'nation’s', 'economy,', 'which', 'could', 'depend', 'in', 'no', 'small', 'part', 'on', 'Barr’s', 'interpretation', 'federal', 'authority', 'willingness', 'to', 'twist', 'governors’', 'arms.', 'Then', 'there', 'are', 'the', 'mechanics', 'the', 'vote', 'itself,', 'a', 'topic', 'great', 'partisan', 'controversy', 'about', 'which', 'the', 'has', 'shown', 'a', 'growing', 'willingness', 'to', 'weigh', 'in.', 'Finally,', 'there', 'is', 'the', 'ongoing', 'investigation', 'led', 'by', 'John', 'Durham,', 'the', 'States', 'attorney', 'in', 'Connecticut,', 'into', 'the', 'origins', 'the', 'F.B.I.’s', 'Russia', 'probe', 'in', 'the', 'run-up', 'to', 'the', '2016', 'election,', 'the', 'findings', 'which', 'are', 'widely', 'expected', 'to', 'be', 'announced', 'before', 'November.With', 'the', 'election', 'now', 'on', 'the', 'horizon,', 'Barr', 'defended', 'his', 'record', 'in', 'two', 'recent', 'interviews.', 'His', 'critics', 'charge', 'that,', 'since', 'becoming', 'attorney', 'general,', 'he', 'has', 'repeatedly', 'steered', 'the', 'Department', 'toward', 'decisions', 'that', 'serve', 'Trump’s', 'interests', '—', 'particularly', 'around', 'the', 'investigations,', 'carried', 'out', 'by', 'the', 'F.B.I.', 'Robert', 'S.', 'Mueller', 'III,', 'into', 'Russian', 'influence', 'over', 'the', '2016', 'election.', 'Barr', 'insists', 'that', 'he', 'acts', 'independently,', 'even', 'as', 'the', 'president', 'often', 'undermines', 'that', 'claim', 'by', 'tweeting', 'out', 'apparent', 'instructions', 'for', 'what', 'his', 'attorney', 'general', 'ought', 'to', 'do.By', 'the', 'time', 'our', 'first', 'meeting', 'in', 'his', 'office,', 'Barr', 'had', 'already', 'started', 'looking', 'at', 'how', 'the', 'federal', 'government', 'might', 'intervene', 'in', 'state-ordered', 'coronavirus', 'shutdowns.', 'As', 'Trump', 'accused', 'Democratic', 'governors', 'denying', 'citizens', 'their', '', '', 'encouraged', 'residents', 'to', '', '', 'Michigan,', 'Minnesota', 'Virginia,', 'Barr', 'zeroed', 'in', 'on', 'the', 'nuts', 'bolts', 'the', 'legal', 'case', 'for', '', ':', 'When', 'two', 'small', 'churches', 'filed', 'lawsuits,', 'seeking', 'to', 'hold', 'live', 'services', 'despite', 'state', 'or', 'local', 'regulations,', 'the', 'Department', 'made', 'filings', 'in', 'support', 'their', 'First', 'Amendment', 'rights.', 'In', 'a', 'signed', 'memorandum', 'sent', 'to', 'the', 'department’s', '93', 'States', 'attorneys,', 'Barr', 'suggested', 'that', 'the', 'federal', 'government’s', 'interest', 'went', 'beyond', 'protecting', 'live', 'worship.', 'It', 'included', '', 'Three', 'weeks', 'before', 'our', 'interview,', 'Trump', 'bragged', 'that', 'he', 'held', '', '', 'authority', 'over', 'the', 'states.', 'This', 'went', 'against', 'the', 'prevailing', 'view', 'that', 'the', 'federal', 'government,', 'while', 'free', 'to', 'enforce', 'a', 'variety', 'measures', 'during', 'its', 'own', 'emergencies,', 'is', 'more', 'constrained', 'in', 'its', 'authority', 'to', 'compel', 'state', 'or', 'local', 'governments', 'to', 'lift', 'theirs.', 'When', 'I', 'asked', 'Barr', 'what', 'Trump', 'meant,', 'he', 'responded', 'by', 'laying', 'out', 'a', 'general', 'view', 'the', 'president’s', 'pandemic-related', 'powers:', '', '', 'he', 'said,', '', '', 'The', 'answer', 'sounded', 'so', 'dry', 'routine', 'that', 'I', 'failed', 'to', 'ask', 'what', 'he', 'meant', 'by', '', '', 'Construed', 'broadly', 'enough,', 'Barr’s', 'interpretation', 'could', 'sanitize', 'legalize', 'Trump’s', 'claim', 'to', '', '', 'authority.Mail-in', 'ballots', 'are', 'another', 'domain', 'where', 'Trump', 'had', 'been', 'staking', 'out', 'turf.', 'He', 'called', 'the', 'distribution', 'ballot', 'applications', 'in', 'Michigan', '', '', 'warned', 'that', 'voting', 'by', 'mail', '', '', 'In', 'a', 'second', 'interview', 'on', 'May', '20,', 'when', 'I', 'asked', 'who', 'was', 'going', 'to', 'referee', 'the', 'election,', 'Barr', 'replied,', '', '', 'He', 'said', 'his', 'department’s', 'role', 'would', 'be', 'limited,', 'as', 'the', 'power', 'belongs', 'to', 'the', 'states', 'their', 'electors.', 'But', 'when', 'I', 'brought', 'up', 'Trump’s', 'tweet', 'about', 'Michigan,', 'which', 'he', 'posted', 'that', 'same', 'morning,', 'Barr', 'quickly', 'seized', 'the', 'opportunity', 'to', 'float', 'a', 'new', 'theory:', 'that', 'foreign', 'governments', 'might', 'conspire', 'to', 'mail', 'in', 'fake', 'ballots.', '', 'he', 'cautioned,', 'offering', 'no', 'evidence', 'to', 'substantiate', 'that', 'this', 'was', 'a', 'real', 'possibility.', 'But', 'he', 'called', 'it', '', '', 'added:', '', 'On', 'many', 'election-related', 'issues,', 'the', 'Department', 'has', 'to', 'defer', 'to', 'the', 'states.', 'But', 'in', 'the', 'case', 'Durham’s', 'investigation', 'the', '2016', 'investigators,', 'or', 'the', '', '', 'as', 'Trump', 'has', 'so', 'often', 'called', 'it,', 'Barr', 'has', 'a', 'greater', 'degree', 'control.', 'For', 'years,', 'Trump', 'has', 'been', 'saying', 'that', 'he', 'was', 'treated', 'unfairly', 'in', '2016,', 'particularly', 'at', 'the', 'hands', 'James', 'Comey,', 'then', 'the', 'F.B.I.', 'director.', 'who', 'is', 'open', 'about', 'his', 'agreement', 'with', 'this', 'premise,', 'is', 'now', 'in', 'the', 'process', 'nailing', 'down', 'the', 'details.', 'He', 'won’t', 'rule', 'out', 'the', 'possibility', 'that', 'Durham’s', 'findings', 'could', 'undermine', 'a', 'key', 'consensus', 'about', '2016,', 'the', 'well-established', 'conclusion', 'that', 'Russian', 'interference', 'sought', 'to', 'favor', 'Trump', '—', 'a', 'finding', 'the', 'Community', 'Assessment', '2017', 'that', 'was', 'later', 'underscored', 'by', 'Mueller,', 'the', 'special', 'counsel,', 'verified', 'by', 'the', 'Republican-controlled', 'Senate', 'intelligence', 'committee.Durham,', 'Barr', 'told', 'me,', 'was', 'looking', 'for', '', '', 'He', 'paused,', 'glanced', 'down', 'fidgeted', 'for', 'a', 'moment', 'with', 'his', 'necktie', 'before', 'going', 'on.', '', 'Barr', 'seems', 'aware', 'at', 'times', 'that', 'he', 'is', 'gambling', 'with', 'his', 'reputation.', '', '', 'he', 'said', 'with', 'a', 'matter-of-fact', 'sigh', 'in', 'a', 'TV', 'interview', 'last', 'year.', '', '', 'When', 'we', 'spoke', 'in', 'his', 'office,', 'he', 'was', 'critical', 'what', 'he', 'called', 'Comey’s', 'tendency', 'to', '', '', 'around', 'himself.', '', '', 'he', 'said.', '', '', 'he', 'added.', '', 'Barr’s', 'willingness', 'to', 'weather', 'controversy', 'on', 'the', 'president’s', 'behalf', 'has', 'not', 'only', 'caused', 'consternation', 'among', 'some', 'former', 'friends', 'allies;', 'it', 'has', 'given', 'rise', 'to', 'considerable', 'speculation', 'about', 'his', 'motives.', 'Why', 'would', 'a', 'grandfather', 'in', 'semiretirement,', 'who', 'had', 'already', 'reached', 'the', 'pinnacle', 'his', 'profession,', 'sign', 'up', 'for', 'this?', 'Some', 'wonder', 'if', 'Barr', 'might', 'still', 'be', 'hungry', 'for', 'influence,', 'having', 'been', 'attorney', 'general', 'for', 'only', '17', 'months', 'the', 'first', 'time.', 'Others', 'wonder', 'whether', 'he', 'spent', 'too', 'much', 'time', 'watching', 'Fox', 'News', 'during', 'the', 'Obama', 'years', 'came', 'out', 'the', 'other', 'side', 'an', 'ideologue.', 'And', 'there', 'are', 'others', 'who', 'look', 'at', 'Barr’s', 'support', 'for', 'Trump', 'see', 'more', 'consistency', 'than', 'contradiction.', 'they', 'say,', 'hasn’t', 'changed', 'his', 'values.', 'Rather,', 'he', 'has', 'found', 'in', 'Trump', 'the', 'perfect', 'vehicle', 'with', 'which', 'to', 'move', 'them', 'forward.', '', 'says', 'Stuart', 'Gerson,', 'who', 'led', 'the', 'Department’s', 'civil', 'division', 'during', 'Barr’s', 'first', 'tour', 'then', 'succeeded', 'him,', 'serving', 'as', 'acting', 'attorney', 'general', 'during', 'the', 'first', 'three', 'months', 'Bill', 'Clinton’s', 'presidency.', '', 'As', 'far', 'as', 'what', 'Barr', 'is', 'hoping', 'to', 'do', 'with', 'his', 'canvas,', 'Gerson', 'says', 'he', 'is', 'committed', 'to', 'the', '', '', '', '', 'premise', 'that', '', '', 'That', 'isn’t', 'too', 'far', 'away', 'from', 'what', 'Barr', 'himself', 'articulated', 'in', 'a', '2019', 'speech', 'at', 'the', 'University', 'Notre', 'Dame.', 'In', 'Barr’s', 'view,', 'piety', 'lay', 'at', 'the', 'heart', 'the', 'founders’', 'model', 'self-government,', 'which', 'depended', 'on', 'religious', 'values', 'to', 'restrain', 'human', 'passions.', '', '', 'Barr', 'said.', 'Goodness', 'flows', 'from', '', '', 'through', '', '', 'to', 'form', '', '', 'Reason', 'experience', 'merely', 'serve', 'to', 'confirm', 'the', 'infallible', 'divine', 'law.', 'That', 'law,', 'he', 'said,', 'is', 'under', 'threat', 'from', '', '', 'including', '', '', 'who', 'call', 'on', 'the', 'state', '', '', 'At', 'their', 'feet,', 'Barr', 'places', 'mental', 'illness,', 'drug', 'overdoses,', 'violence', 'suicide.', 'All', 'these', 'things,', 'he', 'said,', 'are', 'getting', 'worse.', 'All', 'are', '', 'Barr', 'started', 'his', 'career', 'in', 'the', 'C.I.A.', 'as', 'an', 'analyst,', 'working', 'on', 'China', 'other', 'matters.', 'When', 'I', 'asked', 'about', 'the', 'origin', 'his', 'interest', 'in', 'the', 'intelligence', 'service,', 'he', 'responded', 'indirectly,', 'with', 'an', 'anecdote', 'about', 'telling', 'his', 'high', 'school', 'guidance', 'counselor', 'that', 'he', 'wanted', 'to', 'be', 'C.I.A.', 'director.', 'It', 'was', 'tempting', 'to', 'link', 'Barr’s', 'career', 'conservatism', 'with', 'his', 'father,', 'who', 'served', 'in', 'the', 'Office', 'Strategic', 'Services,', 'the', 'C.I.A.’s', 'forerunner,', 'during', 'World', 'War', 'II.', 'In', '1940,', 'as', 'an', 'undergraduate', 'at', 'Columbia,', 'wrote', 'a', 'controversial', 'editorial', 'for', 'The', 'Columbia', 'Review,', 'defending', 'a', 'speech', 'by', 'the', 'university', 'president', 'that', 'called', 'upon', 'the', 'faculty', 'to', 'support', 'the', 'American', 'war', 'effort.', '', '', 'he', 'wrote,', '', '', 'As', 'tempting', 'as', 'it', 'was', 'to', 'see', 'the', 'son', 'as', 'part', 'some', 'epigenetic', 'chain', 'old-line', 'conservatism,', 'Barr', 'cautioned', 'me', 'not', 'to', 'make', 'such', 'assumptions.', '', 'Barr’s', 'parents', 'met', 'at', 'the', 'University', 'Missouri', 'in', 'the', 'early', '1940s.', 'Donald,', 'who', 'already', 'spoke', 'three', 'languages,', 'had', 'been', 'sent', 'there', 'by', 'the', 'Army', 'to', 'learn', 'Italian.', 'He', 'spotted', 'Mary', 'Ahern,', 'a', 'young', 'Irish-Catholic', 'woman', 'who', 'had', 'a', 'master’s', 'degree', 'in', 'English', 'from', 'Yale,', 'through', 'an', 'open', 'doorway,', 'teaching', 'Shakespeare', 'to', 'undergraduates,', 'was', 'smitten.', 'Ahern', 'took', 'some', 'courting.', 'She', 'thought', 'was', 'a', '', '', 'Barr', 'told', 'me,', 'his', 'background', 'was', 'also', 'an', 'issue;', 'he', 'was', 'raised', 'without', 'much', 'religion,', 'but', 'his', 'father,', 'William’s', 'grandfather,', 'was', 'born', 'a', 'secular', 'Jew.', 'Upon', 'joining', 'the', 'Army,', 'gave', 'his', 'religion', 'as', 'Dutch', 'Reformed.', 'He', 'converted', 'to', 'Catholicism', 'after', 'he', 'Mary', 'wed.Donald', 'Barr’s', '26-page', 'O.S.S.', 'file,', 'obtained', 'from', 'the', 'National', 'Archives,', 'gives', 'a', 'detailed', 'account', 'his', 'transition', 'from', 'the', 'military', 'to', 'intelligence', 'work.', 'In', '1944,', 'he', 'shipped', 'off', 'to', 'Europe.', 'He', 'suffered', 'from', 'hay', 'fever', '20/200', 'vision;', 'much', 'his', 'time', 'overseas', 'was', 'spent', 'hospitalized', 'with', 'allergies.', 'The', 'next', 'year,', 'he', 'was', 'assigned', 'to', 'the', 'O.S.S.', 'His', 'interviewer', 'found', 'him', 'to', 'be', '', '', 'In', 'late', '1945,', 'he', 'moved', 'to', 'Washington', 'to', 'begin', 'work', 'at', 'the', 'Interim', 'Research', 'Service,', 'which', 'would', 'become', 'the', 'State', 'Department’s', 'in-house', 'intelligence', 'bureau.William,', 'the', 'couple’s', 'second', 'son,', 'was', 'born', 'in', '1950.', 'By', 'age', '8,', 'he', 'had', 'taken', 'up', 'the', 'bagpipes,', 'which', 'would', 'become', 'a', 'lifelong', 'hobby.', 'He', 'attended', 'the', 'Horace', 'Mann', 'School', 'in', 'New', 'York,', 'where', 'his', 'classmates', 'remembered', 'his', 'conservatism,', 'the', 'delight', 'he', 'took', 'in', 'making', 'an', 'argument', 'his', 'sense', 'humor.', 'The', 'yearbook', 'praised', 'him', 'as', 'an', '', 'Barr’s', 'involvement', 'with', 'campus', 'politics', 'continued', 'at', 'Columbia.', 'He', 'joined', 'the', 'Majority', 'Coalition,', 'which', 'organized', 'against', 'student', 'occupiers', 'who', 'had', 'taken', 'over', 'the', 'campus', 'to', 'protest', 'the', 'Vietnam', 'War.', 'Columbia', 'was', 'known', 'as', 'a', 'feeder', 'school', 'for', 'the', 'C.I.A.', 'An', 'average', '14', 'seniors', 'went', 'to', 'the', 'agency', 'each', 'year', 'from', '1960', 'through', '1966,', 'according', 'to', 'a', '1967', 'article', 'from', 'the', 'student', 'newspaper,', 'The', 'Daily', 'Spectator,', 'which', 'reported', 'that', 'a', 'majority', 'came', 'in', 'not', 'through', 'the', 'college’s', 'Office', 'Career', 'Planning', 'Placement', 'but', '', '', '—', 'perhaps', 'a', 'reference', 'to', 'the', 'private', 'foundations', 'student', 'organizations', 'that', 'were', 'receiving', 'C.I.A.', 'funding', 'at', 'that', 'time.In', 'the', 'late', '1960s,', 'this', 'recruiting', 'drew', 'campus', 'protests,', 'which', 'eventually', 'broadened', 'to', 'take', 'on', 'other', 'issues', 'beyond', 'the', 'war.', 'On', 'the', 'morning', 'April', '24,', '1968,', 'student', 'demonstrators,', 'many', 'them', 'affiliated', 'with', 'Students', 'for', 'a', 'Democratic', 'Society,', 'stormed', 'Low', 'Memorial', 'Library', 'took', 'over', 'the', 'offices', 'Columbia’s', 'president.', 'The', 'protesters', 'were', 'angry', 'that', 'Columbia', 'was', 'building', 'a', 'gymnasium', 'nearby', 'that', 'would', 'have', 'two', 'separate', 'entrances', '—', 'one', 'for', 'the', 'school', 'community', 'one', 'for', 'neighborhood', 'residents', '—', 'also', 'about', 'the', 'university’s', 'connection', 'with', 'a', 'think', 'tank', 'that', 'did', 'research', 'for', 'the', 'Pentagon.Barr', 'was', 'on', 'the', 'other', 'side,', 'standing', 'shoulder', 'to', 'shoulder', 'with', 'conservatives', 'athletes', 'to', 'form', 'a', 'blockade', 'around', 'the', 'library.', '', '', 'he', 'told', 'me.', '', '', 'He', 'smiled', 'to', 'himself.', '', 'I', 'asked', 'if', 'he', 'was', 'in', 'the', 'fistfight.', 'He', 'adjusted', 'the', 'bridge', 'his', 'glasses', 'glanced', 'down.', '', '', 'he', 'said,', 'letting', 'out', 'a', 'big', 'laugh.', '', '', 'He', 'later', 'added,', '', 'Barr', 'interned', 'at', 'the', 'C.I.A.', 'in', 'the', 'summers', '1971', '1972.', 'In', '1973,', 'after', 'completing', 'his', 'graduate', 'degree', 'in', 'government', 'Chinese', 'studies,', 'he', 'married', 'Christine', 'Moynihan,', 'whom', 'he', 'met', 'at', 'a', 'fraternity', 'party.', 'The', 'next', 'day,', 'the', 'couple', 'drove', 'to', 'Washington,', 'Barr', 'began', 'a', 'permanent', 'job', 'at', 'the', 'C.I.A.', 'the', 'day', 'after', 'that.', 'His', 'mother’s', 'memories', 'the', 'Great', 'Depression,', 'he', 'said,', 'had', 'instilled', 'in', 'him', 'a', 'desire', 'for', 'career', 'stability,', 'so', 'he', 'began', 'taking', 'law', 'courses', 'at', 'night.', 'By', 'then,', 'he', 'had', 'transferred', 'to', 'the', 'C.I.A.’s', 'Office', 'Legislative', 'Counsel.', '', '', 'says', 'John', 'Rizzo,', 'who', 'worked', 'down', 'the', 'hall', 'from', 'Barr', 'in', 'the', 'general', 'counsel’s', 'office,', 'where', 'Rizzo', 'would', 'eventually', 'rise', 'to', 'become', 'the', 'acting', 'head.', '', 'The', 'new', 'job', 'put', 'Barr', 'on', 'the', 'C.I.A.’s', 'seventh', 'floor,', 'not', 'far', 'from', 'the', 'director’s', 'office', 'near', 'the', 'center', 'what', 'was', 'shaping', 'up', 'to', 'be', 'a', 'historic', 'fight', 'with', 'Congress.', 'In', 'the', 'aftermath', 'World', 'War', 'II,', 'the', 'presidency', 'was', 'endowed', 'with', 'vast', 'new', 'powers', '—', 'mass', 'surveillance,', 'covert', 'operations,', 'proxy', 'wars', 'nuclear', 'weapons.', 'The', 'young', 'C.I.A.,', 'spurred', 'on', 'by', 'the', 'imperative', 'to', 'win', 'the', 'Cold', 'War,', 'abused', 'its', 'own', 'new', 'powers', 'to', 'an', 'astonishing', 'degree.', 'Despite', 'a', 'statutory', 'ban', 'on', 'its', 'involvement', 'in', 'either', '', '', 'or', '', '', 'the', 'C.I.A.', 'surveilled', 'surreptitiously', 'engaged', 'with', 'countless', 'American', 'citizens.', 'The', 'agency', 'reported', 'to', 'the', 'president', 'often', 'took', 'action', 'based', 'on', 'informal', 'conversations,', 'without', 'ever', 'committing', 'much', 'to', 'paper.', 'Secrecy', 'around', 'the', 'agency’s', 'transgressions', 'held', 'until', 'the', '1970s,', 'when', 'antiwar', 'sentiment', 'began', 'to', 'peak.', 'The', 'scandals', 'around', 'the', 'Pentagon', 'Papers', '(1971)', 'the', 'Watergate', 'break-in', '(1972),', 'culminating', 'in', 'the', 'long-anticipated', 'Vietnam', 'defeat,', 'convinced', 'much', 'the', 'public', 'that', 'the', 'federal', 'government', 'should', 'no', 'longer', 'be', 'given', 'the', 'benefit', 'the', 'doubt.', 'In', '1973,', 'Richard', 'Helms,', 'the', 'longtime', 'C.I.A.', 'director,', 'ordered', 'the', 'destruction', 'internal', 'C.I.A.', 'documents', 'regarding', 'MK-Ultra,', 'an', 'experimental', 'mind-control', 'program.', '', '', 'Helms', 'later', 'recalled.', '', 'In', '1974,', 'the', 'journalist', 'Seymour', 'Hersh,', 'who', 'had', 'already', 'broken', 'the', 'story', 'the', 'My', 'Lai', 'massacre', 'in', 'Vietnam,', 'revealed', 'that', 'the', 'C.I.A.', 'had', 'developed', 'a', 'sprawling', 'domestic-spying', 'operation,', 'keeping', 'dossiers', 'on', 'thousands', 'American', 'citizens.', 'Congress', 'created', 'two', 'special', 'committees', '—', 'a', 'Senate', 'committee,', 'led', 'by', 'Senator', 'Frank', 'Church,', 'a', 'House', 'committee', 'that', 'would', 'eventually', 'be', 'led', 'by', 'Representative', 'Otis', 'Pike', '—', 'to', 'investigate.', 'For', 'years,', 'the', 'C.I.A.', 'would', 'be', 'consumed', 'with', 'negotiations', 'over', 'the', 'limits', 'what', 'Congress', 'could', 'oversee.', '', 'Barr', 'told', 'me', 'in', 'his', 'office.', '', 'I', 'asked', 'if', 'there', 'had', 'indeed', 'been', 'excesses.', 'Barr’s', 'poker', 'face', 'came', 'to', 'life.', 'He', 'grinned,', 'turned', 'his', 'palms', 'out', 'shrugged.', '', '', 'he', 'said.', 'He', 'burst', 'out', 'laughing.', 'Then', 'he', 'pulled', 'back', 'to', 'give', 'the', 'matter', 'some', 'more', 'thought,', 'adjusting', 'his', 'glasses', 'as', 'he', 'settled', 'back', 'into', 'seriousness.', '', 'he', 'said.', '', 'The', 'battle', 'between', 'conservative', 'hard-liners', 'a', 'Democratic-led', 'Congress', 'would', 'continue', 'through', 'the', 'late', 'Cold', 'War.', 'Inside', 'the', 'C.I.A.,', 'there', 'was', 'a', 'sense', 'victimization.', '', '', 'Frederick', 'Hitz,', 'the', 'agency’s', 'first', 'presidentially', 'appointed', 'inspector', 'general,', 'told', 'me.', '', 'In', '1976,', 'the', 'job', 'defending', 'the', 'agency', 'in', 'public', 'passed', 'to', 'the', 'new', 'director,', 'H.W.', 'who', 'had', 'served', 'as', 'a', 'special', 'U.S.', 'envoy', 'to', 'China.', 'On', 'at', 'least', 'one', 'occasion,', 'Barr', 'sat', 'behind', 'Bush', 'during', 'a', 'congressional', 'hearing,', 'giving', 'him', 'legal', 'advice.', 'Congress', 'wound', 'up', 'making', 'oversight', 'a', 'permanent', 'thorn', 'in', 'the', 'C.I.A.’s', 'side', 'by', 'establishing', 'two', 'intelligence', 'oversight', 'committees.', 'That', 'May,', 'Barr', 'drafted', 'two', 'letters,', 'each', 'signed', 'by', 'asking', 'Congress', 'if', 'the', 'C.I.A.', 'could', 'resume', 'the', 'routine', 'destruction', 'documents.', 'The', 'request', 'was', 'denied.', '', 'says', 'Michael', 'Glennon,', 'now', 'a', 'law', 'professor', 'at', 'the', 'Fletcher', 'School', 'Law', 'Diplomacy', 'at', 'Tufts', 'University,', 'who', 'dealt', 'with', 'the', 'C.I.A.', 'as', 'legal', 'counsel', 'the', 'Senate', 'Foreign', 'Relations', 'Committee.', '', 'Rather', 'than', 'accept', 'post-Watergate', 'congressional', 'limitations,', 'the', 'hard-liners', 'decamped', 'from', 'the', 'C.I.A.', 'became', 'floaters,', 'bureaucratic', 'nomads', 'who', 'sought', 'out', 'underused', 'low-visibility', 'pockets', 'the', 'federal', 'government', 'from', 'which', 'to', 'wage', 'their', 'war', 'over', 'executive', 'power.', 'The', 'largest', 'battle', 'was', 'fought', 'around', 'the', 'Iran-contra', 'affair.', 'A', 'covert', 'group', 'operating', 'out', 'the', 'Reagan', 'White', 'House', 'had', 'used', 'money', 'gained', 'by', 'selling', 'arms', 'to', 'Iran', 'to', 'fund', 'anti-Communist', 'rebels', 'in', 'America,', 'flouting', 'a', 'congressional', 'prohibition.', 'Much', 'the', 'operation', 'was', 'organized', 'by', 'Lt.', 'Col.', 'Oliver', 'North', 'the', 'National', 'Security', 'Council.', 'Many', 'the', 'Iran-contra', 'plotters', 'were', 'dragged', 'into', 'the', 'public', 'eye', 'indicted', 'by', 'a', 'special', 'prosecutor,', 'another', 'post-Watergate', 'innovation.', 'Evidence', 'pointing', 'to', 'the', 'involvement', 'President', 'Ronald', 'Reagan', 'Vice', 'President', 'H.W.', 'Bush', 'was', 'inconclusive.', 'The', 'hard-liners', 'felt', 'that', 'foreign', 'policy', 'covert', 'operations', 'were', 'an', 'exclusively', 'presidential', 'domain.', '', '', 'is', 'how', 'Reagan’s', 'first', 'C.I.A.', 'director,', 'William', 'Casey,', 'put', 'it', 'in', 'an', 'interview', 'with', 'the', 'political', 'scientist', 'Loch', 'K.', 'Johnson.Around', 'this', 'time,', 'conservative', 'thinkers', 'Barr’s', 'generation', 'began', 'to', 'coalesce', 'around', 'an', 'idea', 'they', 'called', '', '', 'The', 'president’s', 'right', 'to', 'his', 'powers', 'under', 'Article', 'II', 'the', 'Constitution,', 'they', 'argued,', 'was', 'undivided', 'absolute.', 'Post-Watergate', 'reforms', '—', 'independent', 'prosecutors', 'to', 'investigate', 'high-level', 'wrongdoing,', 'requirements', 'to', 'get', 'warrants', 'for', 'national-security', 'wiretaps,', 'more', '—', 'were', 'unconstitutional', 'incursions', 'into', 'the', 'president’s', 'rightful', 'powers.In', 'June', '1977,', 'Barr', 'left', 'the', 'C.I.A.', 'upon', 'his', 'graduation', 'from', 'Washington', 'University', 'Law', 'School,', 'eventually', 'landing', 'as', 'a', 'policy', 'lawyer', 'in', 'the', 'Reagan', 'White', 'House.', 'running', 'for', 'president,', 'took', 'Barr', 'to', 'the', '1988', 'Republican', 'National', 'Convention', 'to', 'help', 'vet', 'potential', 'running', 'mates', 'and,', 'after', 'winning', 'the', 'election,', 'appointed', 'him', 'to', 'lead', 'the', 'Department’s', 'Office', 'Legal', 'Counsel,', 'where', 'his', 'duties', 'included', 'determining', 'the', 'legal', 'limits', 'C.I.A.', 'activities.', 'Rizzo,', 'who', 'was', 'still', 'at', 'the', 'C.I.A.,', 'recalls', 'that', 'Barr', 'kept', 'his', 'independence', 'from', 'the', 'Oval', 'Office.', 'Two', 'Barr’s', 'opinions', 'on', 'classified', 'C.I.A.', 'operations', '', '', 'while', 'a', 'third', 'operation,', 'Rizzo', 'says,', 'was', 'rejected', 'entirely.', 'One', 'Barr’s', 'public', 'opinions,', 'though,', 'effectively', 'authorized', 'the', 'invasion', 'Panama.', 'Later,', 'as', 'acting', 'attorney', 'general,', 'he', 'impressed', 'Bush', 'further', 'by', 'defusing', 'a', 'delicate', 'prison-hostage', 'crisis.', 'As', 'attorney', 'general', 'in', '1992,', 'Barr', 'signed', 'off', 'on', 'a', 'mass-surveillance', 'program', 'that', 'collected', 'billions', 'call', 'records', 'for', 'the', 'Drug', 'Enforcement', 'Administration.', 'At', 'the', 'end', 'Bush’s', 'presidency,', 'he', 'successfully', 'pushed', 'for', 'a', 'pardon', 'six', 'Iran-contra', 'defendants.Gen.', 'Michael', 'V.', 'Hayden,', 'a', 'former', 'C.I.A.', 'director,', 'says', 'Barr', 'reminds', 'him', 'David', 'Addington', '—', 'the', 'former', 'C.I.A.', 'lawyer', 'who', 'became', 'Vice', 'President', 'Dick', 'Cheney’s', 'chief', 'staff', 'played', 'a', 'major', 'role', 'in', 'pushing', 'the', 'limits', 'conduct,', 'including', 'torture,', 'that', 'the', 'White', 'House', 'the', 'C.I.A.', 'determined', 'to', 'be', 'legal', 'in', 'the', 'aftermath', 'the', 'Sept.', '11', 'attacks.', 'Barr', '', '', 'Hayden', 'says.', '', 'Barr’s', 'intellect', 'experience', 'made', 'him', 'appealing', 'to', 'the', 'private', 'sector.', 'For', 'eight', 'years,', 'he', 'served', 'as', 'general', 'counsel', 'at', 'Verizon,', 'at', 'a', 'time', 'when', 'the', 'company', 'was', 'working', 'out', 'secret', 'arrangements', 'with', 'the', 'National', 'Security', 'to', 'turn', 'over', 'its', 'customers’', 'data.', 'In', 'September', '2001,', 'a', 'legal', 'trade', 'publication', 'noted', 'Barr’s', '$1.5', 'million', 'salary', 'compared', 'him', 'to', 'a', '', '', 'for', 'the', 'depth', 'his', 'connections', 'in', 'both', 'political', 'Washington', 'corporate', 'New', 'York.', 'At', 'that', 'time,', 'he', 'said,', 'he', 'had', 'no', 'interest', 'in', 'returning', 'to', 'officialdom.', '', '', 'he', 'said.', '', 'By', 'the', '2016', 'presidential', 'election,', 'Barr', 'was', 'a', 'player', 'in', 'Republican', 'politics', 'active', 'in', 'conservative', 'Catholic', 'causes.', 'He', 'gave', 'nearly', '$50,000', 'to', 'a', 'PAC', 'affiliated', 'with', 'Jeb', 'Bush.', 'His', 'annual', 'holiday', 'parties,', 'traditional', 'Scottish', 'cèilidhs', 'with', 'music', 'singers,', 'drew', 'hundreds', 'whose', 'friendships', 'he', 'had', 'maintained', 'over', 'the', 'years.', 'He', 'wrote', 'sold', 'a', 'screenplay', 'about', 'World', 'War', 'II.', 'He', 'spent', 'time', 'traveling', 'abroad', 'hunting', 'birds.', 'His', 'three', 'daughters', 'all', 'became', 'accomplished', 'lawyers,', 'working', 'on', 'Capitol', 'Hill', 'or', 'as', 'federal', 'prosecutors.', 'The', 'eldest,', 'Mary,', 'moved', 'to', 'the', 'Treasury', 'Department’s', 'financial-crimes', 'unit', 'after', 'Barr’s', 'nomination', 'as', 'attorney', 'general;', 'one', 'Barr’s', 'sons-in-law', 'left', 'the', 'Department', 'for', 'the', 'White', 'House', 'Counsel’s', 'Office.Last', 'year,', 'shortly', 'after', 'his', 'Notre', 'Dame', 'speech,', 'Barr', 'gave', 'a', 'second', 'major', 'address', 'at', 'the', 'annual', 'convention', 'the', 'Federalist', 'Society,', 'an', 'organization', 'conservative', 'lawyers', 'founded', 'during', 'the', 'Reagan', 'administration.', 'The', 'subject', 'was', 'executive', 'power.', 'Again', 'Barr', 'criticized', 'progressives,', 'this', 'time', 'for', 'making', 'politics', '', '', 'The', 'presidency,', 'in', 'his', 'view,', 'handled', '', '', 'Part', 'the', 'core', 'function', 'the', 'presidency', 'was', 'the', 'ability', 'to', 'act', 'swiftly', 'without', 'constraint,', 'but', 'this', 'capability', 'had', 'been', 'diminished', 'by', 'the', 'other', 'branches', 'since', 'Watergate.', 'Congress', 'had', 'burdened', 'the', 'president', 'with', 'oversight,', 'while', 'the', 'courts', 'were', 'interfering', 'with', 'Trump’s', 'travel', 'ban', 'on', 'certain', 'countries', 'his', 'termination', 'President', 'Barack', 'Obama’s', 'DACA', 'program', 'for', 'young', 'immigrants.', 'Barr', 'seemed', 'to', 'suggest', 'that', 'when', 'it', 'comes', 'to', 'foreign', 'policy,', 'the', 'only', 'legitimate', 'check', 'on', 'presidential', 'behavior', 'is', 'the', 'next', 'election.', 'Months', 'later,', 'this', 'argument', 'would', 'become', 'the', 'foundation', 'Trump’s', 'impeachment', 'defense.On', 'Dec.', '5,', '2018,', 'Barr', 'attended', 'H.W.', 'Bush’s', 'funeral.', 'While', 'waiting', 'in', 'line', 'for', 'the', 'shuttle', 'bus', 'that', 'would', 'take', 'him', 'to', 'Washington', 'National', 'Cathedral,', 'he', 'his', 'wife', 'ran', 'into', 'a', 'friend,', 'C.', 'Boyden', 'Gray,', 'who', 'was', 'Bush’s', 'White', 'House', 'counsel', 'during', 'the', 'Reagan', 'years.', 'The', 'two', 'men', 'spent', 'most', 'the', 'day', 'together.', 'Barr', 'sounded', 'out', 'Gray', 'about', 'the', 'attorney-general', 'job.', 'Gray', 'knew', 'from', 'following', 'the', 'news', 'that', 'Barr', 'was', 'under', 'consideration,', 'but', 'Barr', 'never', 'tipped', 'his', 'hand', 'about', 'how', 'close', 'he', 'was', 'to', 'being', 'tapped,', 'Gray', 'never', 'asked.', 'Later', 'that', 'week,', 'when', 'Trump', 'announced', 'Barr’s', 'nomination,', 'Gray', 'was', 'not', 'surprised.', '', '', 'under', 'Gray', 'says.', '', 'At', 'the', 'time', 'his', 'nomination,', 'Barr’s', 'supporters', 'presented', 'him', 'as', 'a', 'trustworthy', 'sensible', 'conservative,', 'a', 'known', 'quantity', 'within', 'the', 'Washington', 'establishment', 'who', 'would', 'restrain', 'Trump’s', 'worst', 'impulses.', 'James', 'Comey', 'called', 'him', '', '', 'Benjamin', 'Wittes,', 'a', 'legal', 'commentator', 'who', 'is', 'now', 'one', 'Barr’s', 'harshest', 'critics,', 'tweeted', 'at', 'the', 'time', 'that', 'he', 'had', 'been', '', '', 'under', 'Bush', 'that', 'his', 'confirmation', 'would', 'be', '', 'During', 'the', 'confirmation', 'hearing,', 'Senator', 'Dianne', 'Feinstein', 'California,', 'the', 'ranking', 'Democrat', 'on', 'the', 'Judiciary', 'Committee,', 'questioned', 'Barr', 'at', 'length', 'about', 'a', 'memorandum', 'he', 'wrote', 'to', 'the', 'administration', 'the', 'previous', 'summer,', 'outlining', 'why', 'he', 'believed', 'that', 'Mueller', 'had', 'no', 'legal', 'right', 'to', 'investigate', 'Trump', 'for', 'obstruction', 'justice.', 'The', 'president,', 'Barr', 'argued,', 'has', '', '', 'investigations', 'can', '', '', 'on', 'individual', 'cases,', 'including', 'those', 'that', 'touch', 'on', 'his', 'political', 'or', 'financial', 'interests.', '', '', 'Barr', 'wrote.', 'Law', 'enforcement,', 'he', 'argued,', 'was', 'a', 'power', 'exclusively', 'held', 'by', 'the', 'president,', 'because', '', 'In', 'the', 'hearing,', 'Barr', 'seemed', 'to', 'say', 'that', 'he', 'did', 'not', 'believe', 'the', 'unitary', 'executive’s', 'powers', 'to', 'be', 'infinite.', 'When', 'Senator', 'Patrick', 'Leahy,', 'a', 'Vermont', 'Democrat,', 'asked', 'if', 'it', 'would', 'be', 'lawful', 'for', 'a', 'president', 'to', 'trade', 'a', 'pardon', 'for', 'a', 'promise', 'not', 'to', 'incriminate', 'him,', 'Barr', 'answered', 'that', 'such', 'an', 'exchange', 'would', 'be', 'a', 'crime.', 'He', 'also', 'mentioned', 'his', 'long', 'friendship', 'with', 'Mueller.', 'Barr’s', 'wife', 'attends', 'the', 'same', 'Bible', 'study', 'as', 'Mueller’s', 'wife;', 'Mueller', 'attended', 'the', 'weddings', 'two', 'Barr’s', 'daughters.Barr', 'was', 'confirmed', 'by', 'a', 'vote', '54', 'to', '45.', 'He', 'had', 'barely', 'served', 'one', 'month', 'as', 'attorney', 'general', 'when', 'his', 'friendship', 'with', 'Mueller', 'was', 'tested', 'by', 'the', 'special', 'prosecutor’s', 'delivery', 'his', 'report,', 'on', 'the', 'afternoon', 'Friday,', 'March', '22.', 'Trump’s', 'Twitter', 'account', 'then', 'went', 'dark', 'for', 'nearly', '40', 'hours.', 'That', 'Sunday,', 'Barr', 'sent', 'a', 'letter', 'to', 'Congress', 'that', 'he', 'would', 'later', 'describe', 'as', 'giving', 'Mueller’s', '', '', 'Trump’s', 'feed', 'came', 'back', 'to', 'life.', '', '', 'he', 'tweeted.', 'In', 'his', 'first', 'public', 'comments', 'that', 'same', 'day,', 'Trump', 'said', 'the', 'words', '', '', 'three', 'times.', '', '', 'he', 'added.Trump’s', 'tweet,', 'Barr’s', 'letter', 'Mueller’s', 'report', 'said', 'three', 'different', 'things.', 'Neither', 'Barr', 'nor', 'Mueller', 'exonerated', 'Trump.', 'Barr', 'quoted', 'Mueller’s', 'own', 'words', 'that', 'his', 'complicated', 'finding', 'on', 'obstruction', '', '', 'the', 'president.', 'But', 'Barr', 'omitted', 'Mueller’s', 'conclusions', 'that', 'Russian', 'interference', 'sought', 'to', 'favor', 'Trump;', 'that', 'Trump', 'his', 'campaign', 'welcomed', 'the', 'interference', 'believed', 'they', 'would', 'benefit', 'from', 'it;', 'that', 'the', '', '', '', '', 'between', 'Russians', 'the', 'campaign', 'were', 'substantial,', 'even', 'though', 'the', 'evidence', 'Mueller', 'was', 'able', 'to', 'gather', 'fell', 'short', 'a', 'criminal', 'conspiracy.Mueller', 'fired', 'off', 'two', 'letters', 'complaining', 'that', 'Barr', 'had', 'misrepresented', 'his', 'work.', 'In', 'the', 'second', 'letter,', 'dated', 'March', '27,', 'he', 'asked', 'Barr', 'to', 'immediately', 'release', 'the', 'report’s', 'introductions', 'executive', 'summaries.', 'But', 'the', 'public', 'would', 'not', 'get', 'to', 'read', 'Mueller’s', 'work', 'until', 'April', '18,', 'when', 'Barr', 'released', 'a', 'redacted', 'version', 'the', 'full', 'report.', 'Before', 'doing', 'so,', 'Barr', 'gave', 'a', 'news', 'conference', 'in', 'which', 'he', 'tilted', 'further', 'toward', 'declaring', 'Trump', 'innocent,', 'something', 'Mueller', 'bent', 'over', 'backward', 'not', 'to', 'do.', '', '', 'Barr', 'said', '', 'Barr’s', 'distortions', 'drew', 'wide', 'criticism.', 'Democrats', 'were', 'also', 'frustrated', 'by', 'the', 'report’s', 'content.', 'It', 'lacked', 'the', 'thunderous', 'revelations', 'about', 'Russia', 'that', 'had', 'long', 'been', 'promised', 'by', 'Trump’s', 'opponents,', 'it', 'suffered', 'from', 'legalistic', 'inconclusiveness', 'on', 'the', 'most', 'fundamental', 'questions.', 'Mueller,', 'having', 'been', 'given', 'a', 'chance', 'to', 'put', 'the', '2016', 'election', 'to', 'bed', 'for', 'good,', 'had', 'carefully', 'avoided', 'doing', 'so.Democrats’', 'hopes', 'for', 'the', 'promised', 'collusion', 'bombshell', 'now', 'turned', 'to', 'the', 'unredacted', 'version', 'the', 'Mueller', 'report,', 'which', 'Barr', 'refused', 'to', 'give', 'them.', 'In', 'an', 'echo', 'his', 'C.I.A.', 'work', 'during', 'the', 'Church', 'Commission', 'years,', 'the', 'Barr-led', 'Department', 'has', 'taken', 'a', 'very', 'hard', 'line', 'regarding', 'what', 'information', 'Congress', 'the', 'courts', 'are', 'entitled', 'to', 'get', 'from', 'the', 'White', 'House.', 'It', 'has', 'fought', 'in', 'court', 'against', 'the', 'release', 'Trump’s', 'tax', 'returns;', 'argued', 'that', 'Congress', 'did', 'not', 'need', 'to', 'see', 'the', 'Ukraine', 'whistle-blower’s', 'complaint,', 'because', 'it', 'was', 'not', 'a', 'matter', '', ';', 'has', 'challenged', 'congressional', 'requests', 'for', 'Mueller’s', 'secret', 'grand-jury', 'materials.After', 'Barr', 'refused', 'to', 'turn', 'over', 'the', 'fully', 'unredacted', 'Mueller', 'report', 'to', 'the', 'House', 'Judiciary', 'Committee,', 'citing', 'executive', 'privilege,', 'the', 'committee', 'voted', 'to', 'hold', 'him', 'in', 'contempt.', 'The', 'Democratic', 'chairman,', 'Representative', 'Jerrold', 'Nadler', 'New', 'York,', 'claimed', 'that', 'this', 'was', 'the', 'beginning', 'a', '', '', 'Barr', 'seemed', 'untroubled.', '', '', 'he', 'reportedly', 'quipped', 'to', 'Nancy', 'Pelosi', 'at', 'an', 'event', 'a', 'few', 'days', 'later.', 'But', 'concerns', 'about', 'Barr’s', 'handling', 'Mueller’s', 'investigation', 'have', 'not', 'been', 'confined', 'to', 'Democrats.', 'Judge', 'Reggie', 'B.', 'Walton', 'the', 'States', 'District', 'Court', 'for', 'the', 'District', 'Columbia,', 'a', 'W.', 'Bush', 'appointee,', 'recently', 'criticized', 'Barr’s', '', '', 'questioned', 'whether', '', 'At', 'his', 'first', 'meeting', 'with', 'President', 'Trump', 'in', '2017,', 'Barr', 'later', 'recalled', 'in', 'his', 'confirmation', 'hearing,', 'he', 'told', 'Trump', 'that', '', '', 'In', 'the', 'end,', 'he', 'was', 'half', 'right.', '', '', 'Barr', 'said', 'in', 'one', 'our', 'interviews.', 'That', 'would', 'have', 'been', 'March', '2019', '—', 'more', 'than', 'a', 'year', 'ago.', '', 'Barr', 'continued.', 'I', 'asked', 'if', 'they', 'still', 'saw', 'each', 'other', 'at', 'Bible', 'study.', '', '', 'Barr', 'replied.Attorneys', 'general', 'are', 'chosen', 'by', 'the', 'president;', 'no', 'law', 'prohibits', 'them', 'from', 'doing', 'the', 'president’s', 'bidding.', 'Many', 'presidents', 'have', 'occasionally', 'asked', 'the', 'attorney', 'general', 'to', 'intervene', 'in', 'individual', 'prosecutions.', 'John', 'Mitchell,', 'President', 'Richard', 'M.', 'Nixon’s', 'attorney', 'general,', 'went', 'much', 'further,', 'helping', 'to', 'plan', 'the', 'Watergate', 'burglary', 'then', 'working', 'to', 'cover', 'it', 'up.', 'But', 'the', 'Department’s', 'guidelines', 'do', 'enjoin', 'prosecutors', 'not', 'to', 'comment', 'about', 'ongoing', 'investigations,', 'something', 'Barr', 'does', 'regularly.', 'They', 'also', 'caution', 'that', 'legal', 'judgments', '', '', 'that', 'the', 'department', 'must', 'respect', 'Congress’s', '', 'None', 'this', 'has', 'stopped', 'Barr', 'from', 'overruling', 'his', 'subordinates', 'to', 'the', 'benefit', 'Trump’s', 'friends', 'associates', '—', 'most', 'notably', 'Roger', 'Stone,', 'Trump’s', 'longtime', 'political', 'mentor,', 'Michael', 'Flynn,', 'his', 'former', 'national', 'security', 'adviser.', 'In', 'both', 'cases,', 'Trump', 'has', 'tweeted', 'about', 'what', 'he', 'sees', 'as', 'the', 'unfairness', 'their', 'legal', 'troubles,', 'the', 'Department', 'has', 'subsequently', 'pushed', 'for', 'leniency.Barr', 'has', 'repeatedly', 'said', 'that', 'Trump', 'has', 'never', 'asked', 'him', 'to', 'do', 'anything', 'in', 'a', 'criminal', 'case:', '', '', 'he', 'said', 'in', 'an', 'interview', 'with', 'ABC', 'News.', 'But', 'the', 'department’s', 'interventions', 'on', 'behalf', 'Stone', 'Flynn', 'have', 'raised', 'questions', 'about', 'the', 'supposed', 'Trump-Barr', 'firewall.', '', '', 'Jack', 'Goldsmith,', 'who', 'led', 'the', 'Office', 'Legal', 'Counsel', 'under', 'W.', 'told', 'The', 'Times', 'in', 'February.', 'Barr', 'has', 'said', 'he', 'doesn’t', 'pay', 'attention', 'to', 'Trump’s', 'tweets', 'doesn’t', 'take', 'seriously', 'the', 'ones', 'he', 'is', 'made', 'aware', 'of.', '', '', 'says', 'Gray,', 'Barr’s', 'friend', 'former', 'colleague.Vanita', 'Gupta,', 'the', 'former', 'head', 'Obama’s', 'civil', 'rights', 'division', 'at', 'the', 'department,', 'articulated', 'a', 'prevailing', 'view', 'Barr', 'among', 'Democrats,', 'telling', 'me', 'that', 'the', 'attorney', 'general', 'has', '', '', 'Gupta', 'says', 'Barr’s', 'interventions', 'on', 'behalf', 'Trump', 'associates', 'have', 'far-reaching', 'consequences.', '', '', 'she', 'says.', '', 'In', 'February,', 'prosecutors', 'recommended', 'that', 'Stone', 'be', 'sentenced', 'to', 'seven', 'to', 'nine', 'years', 'in', 'prison', 'for', 'witness', 'tampering', 'other', 'crimes.', 'The', 'following', 'day,', 'the', 'Department', 'filed', 'a', 'second,', 'revised', 'sentencing', 'memo', 'asking', 'that', 'Stone’s', 'sentence', 'be', 'reduced.', 'Eighty-seven', 'to', '108', 'months,', 'the', 'memo', 'argued,', '', '', 'given', 'Stone’s', '', 'On', 'the', 'same', 'day', 'the', 'department', 'revised', 'its', 'sentencing', 'recommendation,', 'all', 'four', 'the', 'prosecutors', 'responsible', 'for', 'the', 'case', 'announced', 'their', 'withdrawal.', 'One,', 'Jonathan', 'Kravis,', 'left', 'the', 'department', 'entirely.', '', '', 'Kravis', 'wrote', 'later', 'in', 'an', 'op-ed', 'in', 'The', 'Washington', 'Post.On', 'Twitter,', 'Trump', 'said', 'the', 'Stone', 'prosecutors', '', '', 'He', 'tweeted', 'out', 'congratulations', 'to', 'Barr', 'for', '', '', 'Barr', 'pushed', 'back', 'in', 'the', 'ABC', 'interview,', 'insisting', 'that', 'he', 'reached', 'the', 'Stone', 'decision', 'independently.', '', '', 'he', 'said,', 'adding,', '', 'The', 'post-Mueller', 'case', 'that', 'has', 'arguably', 'received', 'the', 'most', 'attention', 'among', 'Trump’s', 'supporters', 'is', 'that', 'Flynn,', 'the', 'lieutenant', 'general', 'who', 'briefly', 'served', 'as', 'Trump’s', 'national', 'security', 'adviser.', 'The', 'dueling', 'narratives', 'around', 'the', 'Obama-to-Trump', 'transition', 'crystallize', 'around', 'Flynn,', 'the', 'question', 'whether', 'he', 'or', 'those', 'who', 'investigated', 'him', 'were', 'in', 'the', 'wrong.', 'In', 'addition', 'to', 'drawing', 'scrutiny', 'for', 'his', 'Russian', 'contacts,', 'Flynn', 'initially', 'failed', 'to', 'report,', 'as', 'legally', 'required,', 'that', 'his', 'company', 'was', 'effectively', 'on', 'the', 'payroll', 'the', 'Turkish', 'government', 'during', 'the', '2016', 'campaign.', 'Obama', 'himself', 'tried', 'failed', 'to', 'talk', 'Trump', 'into', 'dropping', 'him.', 'Many', 'Trump’s', 'own', 'problems', 'hinged', 'on', 'his', 'asking', 'Comey', 'if', 'he', 'could', '', '', 'to', 'dropping', 'the', 'Flynn', 'investigation.', 'Trump’s', 'adversaries', 'consider', 'Flynn', 'to', 'be', 'a', 'loose', 'cannon', 'possible', 'Russian', 'pawn', 'who', 'needed', 'to', 'be', 'rooted', 'out.', 'His', 'supporters', 'depict', 'him', 'as', 'the', 'second', 'coming', 'Oliver', 'North', '—', 'a', 'good', 'soldier', 'who', 'was', 'martyred', 'in', 'public', 'for', 'his', 'loyalty', 'to', 'the', 'executive.On', 'May', '4,', 'the', 'day', 'my', 'first', 'interview', 'with', 'Flynn', 'was', 'still', 'awaiting', 'sentencing,', 'having', 'pleaded', 'guilty', 'to', 'lying', 'to', 'the', 'F.B.I.', 'From', 'time', 'to', 'time,', 'Trump', 'had', 'been', 'tweeting', 'about', 'the', 'Flynn', 'case', 'in', 'ways', 'that', 'seemed', 'to', 'cross', 'the', 'line', 'that', 'Barr', 'had', 'drawn', 'about', 'public', 'comments', 'from', 'the', 'White', 'House', 'about', 'matters', 'pending', 'before', 'the', 'Department.', 'Trump', 'said', 'Flynn', 'had', 'been', 'victimized', 'by', 'the', '', '', 'as', 'Stone.I', 'asked', 'in', 'light', 'his', 'statement', 'on', 'ABC', 'News,', 'whether', 'these', 'were', 'the', 'kind', 'tweets', 'that', 'made', 'his', 'job', '', '', '', 'Barr', 'said.', '', 'Trump', 'had', 'recently', 'been', 'tweeting', 'about', 'Flynn,', 'I', 'said.', '', '', 'Barr', 'replied.I', 'asked', 'if', 'he', 'would', 'like', 'to', 'see', 'them.', '', '', 'Barr', 'said.', '', 'I', 'handed', 'Barr', 'a', 'printout', 'an', 'April', '29', 'Trump', 'tweet.', 'It', 'read:', '', 'Barr', 'said', 'with', 'cool', 'indifference.', '', 'I', 'asked', 'how', 'it', 'was', 'that', 'Flynn’s', 'supposed', 'antagonists', 'could', 'be', 'punished', '—', '', '', '—', 'without', 'involvement', 'from', 'the', 'department.', '', 'Barr', 'asked,', 'referring', 'to', 'the', 'particular', 'case', 'that', 'was', 'now', 'before', 'Judge', 'Emmet', 'Sullivan.', 'He', 'had', 'found', 'the', 'right', 'hair', 'to', 'split,', 'he', 'split', 'it', 'so', 'cleanly', 'decisively', 'that', 'I', 'couldn’t', 'say', 'this', 'wasn’t', 'his', 'position', 'from', 'the', 'beginning.The', 'tweet,', 'Barr', 'said,', 'was', 'nothing', 'new.', 'he', 'said,', '', 'Three', 'days', 'later,', 'on', 'the', 'afternoon', 'May', '7,', 'the', 'Department', 'filed', 'a', 'motion', 'to', 'dismiss', 'its', 'own', 'prosecution', 'Flynn.', 'The', 'government', 'argued', 'that', 'Flynn’s', 'false', 'statements', 'were', 'not', '', '', 'to', 'the', 'investigation', 'Flynn,', 'because', 'the', 'investigation', 'was', 'itself', 'unjustified.', 'The', 'argument', 'relied', 'in', 'part', 'on', 'the', 'contents', 'handwritten', 'F.B.I.', 'notes', 'that', 'had', 'been', 'turned', 'over', 'to', 'Flynn’s', 'attorneys', 'by', 'the', 'department', 'released', 'to', 'the', 'public', 'by', 'mutual', 'agreement.', 'One', 'the', 'prosecutors', 'assigned', 'to', 'the', 'case', 'immediately', 'withdrew.A', 'few', 'days', 'later,', 'Sullivan', 'decided', 'he', 'wouldn’t', 'rule', 'on', 'whether', 'to', 'accept', 'the', 'department’s', 'motion', 'until', 'he', 'had', 'heard', 'from', 'friends', 'the', 'court', 'a', 'special', 'counsel.', 'Flynn’s', 'lawyers', 'appealed,', 'asking', 'a', 'higher', 'court', 'to', 'force', 'the', 'judge’s', 'hand.', 'Again,', 'the', 'department', 'took', 'Flynn’s', 'side.', 'Trump', 'took', 'to', 'Twitter,', 'celebrating', '', 'The', 'definitive', 'Sept.', '11', 'Commission-style', 'history', 'the', '2016', 'election', 'remains', 'unwritten,', 'though', 'not', 'for', 'lack', 'trying.', 'In', 'addition', 'to', 'the', 'Mueller', 'report', 'voluminous', 'criminal', 'indictments,', 'we', 'have', 'the', 'Community', 'Assessment,', 'the', 'Horowitz', 'report', '(by', 'the', 'Department’s', 'inspector', 'general,', 'Michael', 'Horowitz)', 'four', 'volumes', 'the', 'Senate', 'intelligence', 'committee’s', 'report,', 'a', 'fifth', 'volume', 'which', 'is', 'on', 'the', 'way.The', 'major', 'episodes', 'the', 'story', 'may', 'now', 'seem', 'like', 'familiar', 'terrain', 'to', 'those', 'who', 'have', 'kept', 'up,', 'a', 'hopeless', 'mess', 'to', 'everyone', 'else.', 'But', 'zoom', 'out', 'a', 'bit,', 'the', 'stakes', 'could', 'not', 'be', 'higher.', 'Many', 'Trump’s', 'critics,', 'like', 'Representative', 'Adam', 'Schiff', 'California,', 'the', 'Democratic', 'chairman', 'the', 'House', 'Committee,', 'James', 'Clapper,', 'Obama’s', 'director', 'national', 'intelligence,', 'go', 'further', 'than', 'saying', 'that', 'the', 'Russians', 'put', 'a', 'thumb', 'on', 'the', 'scale', 'for', 'Trump.', 'They', 'have', 'suggested', 'that', 'the', 'extra', 'boost', 'was', 'decisive', '—', 'that', 'Trump', 'would', 'not', 'have', 'been', 'elected', 'in', '2016', 'but', 'for', 'Russian', 'interference.', 'The', 'crucial', 'legacy', '2016', 'is', 'that', 'the', 'question', 'Trump’s', 'legitimacy', 'was', 'never', 'settled.', 'And', 'without', 'any', 'consensus', 'on', 'what', 'happened', 'in', '2016,', 'the', 'rules', 'the', 'road', 'for', 'are', 'up', 'in', 'the', 'air.But', 'first,', 'armed', 'with', 'the', 'powers', 'law', 'enforcement', 'presidential', 'access', 'to', 'classified', 'material,', 'Trump', 'is', 'getting', 'ready', 'to', 'roll', 'out', 'his', 'account', '2016.', 'When', 'Trump', 'promises', '', '', 'he', 'most', 'likely', 'has', 'in', 'mind', 'the', 'ongoing', 'investigation', 'by', 'John', 'Durham', 'its', 'long-expected', 'report', '—', 'although', 'it', 'is', 'also', 'possible', 'that', 'Durham’s', 'public', 'work', 'product', 'will', 'take', 'the', 'form', 'indictments,', 'or', 'perhaps', 'nothing', 'at', 'all.', 'who', 'assigned', 'Durham', 'the', 'task', 'investigating', 'the', 'Russia', 'probe', 'in', 'May', 'last', 'year', 'met', 'with', 'him', 'several', 'times', 'immediately', 'after', 'the', 'conclusion', 'Mueller’s', 'investigation,', 'is', 'overseeing', 'Durham’s', 'work', 'briefs', 'Trump', 'on', 'his', 'findings', 'regularly.', 'Based', 'on', 'Barr’s', 'public', 'statements,', 'we', 'can', 'see', 'the', 'rough', 'contours', 'Durham’s', 'findings', 'beginning', 'to', 'take', 'shape.', 'The', 'government’s', 'conduct', 'during', 'the', 'Obama-to-Trump', 'transition,', 'Barr', 'has', 'said,', 'was', '', '', 'Surveillance', 'Trump’s', 'campaign', 'amounted', 'to', '', '', 'Then', 'there', 'was', 'the', 'all-important', 'question', 'whether', 'the', 'F.B.I.', 'was', 'justified', 'in', 'opening', 'the', 'initial', 'Crossfire', 'Hurricane', 'investigation', 'into', 'the', 'Trump', 'campaign’s', 'Russia', 'ties.Under', 'ordinary', 'circumstances,', 'Department', 'prosecutors', 'do', 'not', 'comment', 'on', 'anything', 'connected', 'to', 'an', 'ongoing', 'investigation,', 'but', 'on', 'the', 'day', 'that', 'Horowitz', 'released', 'his', 'report,', 'both', 'Barr', 'Durham', 'decided', 'to', 'do', 'just', 'that.', 'The', 'F.B.I.’s', 'interest', 'in', 'Barr', 'said,', 'was', 'based', '', '', '', '', '', '', 'Durham', 'said', 'in', 'his', 'own', 'statement.', 'Horowitz', 'had', 'found', 'that', 'the', 'investigation', 'was', 'justified,', 'so', 'these', 'sounded', 'like', 'sweeping', 'words', 'dissent.', 'But', 'over', 'the', 'coming', 'months,', 'as', 'attention', 'drifted', 'elsewhere,', 'they', 'shrank.', 'By', 'the', 'time', 'I', 'sat', 'down', 'with', 'the', 'only', 'dispute', 'with', 'Horowitz', 'he’d', 'voiced', 'was', 'whether', 'the', 'F.B.I.', 'had', 'enough', 'evidence', 'to', 'open', 'a', 'full', 'investigation.', '(Barr', 'Durham', 'believe', 'that', 'there', 'was', 'only', 'enough', 'to', 'open', 'a', 'preliminary', 'investigation,', 'not', 'a', 'full', 'one.)In', 'our', 'first', 'interview,', 'Barr', 'mentioned', 'the', 'dossier', 'salacious', 'anti-Trump', 'claims', 'that', 'had', 'been', 'gathered', 'circulated', 'by', 'Christopher', 'Steele,', 'a', 'former', 'British', 'intelligence', 'agent', 'who', 'was', 'working', 'indirectly', 'for', 'the', 'Clinton', 'campaign.', 'The', 'possibility', 'that', 'the', 'Russian', 'government', 'intentionally', 'seeded', 'the', 'dossier', 'with', 'misinformation', 'was', 'one', 'the', 'issues', 'Mueller', 'ignored', 'Durham', 'was', 'looking', 'at,', 'Barr', 'said.', 'Nor', 'had', 'Mueller', 'gone', 'back', 'looked', 'at', 'the', 'investigative', 'steps', 'taken', 'as', 'Crossfire', 'Hurricane', 'accelerated,', 'he', 'continued.', 'Horowitz', 'had', 'done', 'that,', 'but', 'unlike', 'Barr', 'Durham,', 'he', 'had', 'no', 'access', 'to', 'the', 'C.I.A.,', 'the', 'N.S.A.', 'the', 'foreign', 'governments', 'that', 'were', 'involved.To', 'facilitate', 'what', 'later', 'became', 'a', 'criminal', 'investigation,', 'Trump', 'ordered', 'the', 'heads', 'the', 'intelligence', 'agencies', 'to', 'cooperate', 'with', 'Barr.', 'He', 'delegated', 'to', 'Barr', 'the', 'power', 'to', 'order', 'the', 'declassification', 'secret', 'documents.', 'Barr', 'has', 'spoken', 'with', 'intelligence', 'officials', 'from', 'Italy,', 'Australia', 'Britain', 'to', 'reportedly', 'solicit', 'information', 'that', 'could', 'help', 'Durham.', 'In', 'the', 'case', 'Italy,', 'where', 'Barr', 'Durham', 'met', 'with', 'political', 'leaders', 'intelligence', 'chiefs', 'in', 'person,', 'his', 'visit', 'provoked', 'concern', 'among', 'U.S.', 'diplomats,', 'who', 'told', 'The', 'Times', 'that', 'Barr', 'circumvented', 'protocols', 'in', 'setting', 'up', 'the', 'trip.', 'Senator', 'Mark', 'Warner', 'Virginia,', 'who', 'is', 'the', 'ranking', 'Democrat', 'on', 'the', 'Committee', 'helped', 'write', 'its', 'five-volume', 'report,', 'said', 'there', 'were', '', '', 'about', 'Barr’s', 'trips.', '', '', 'he', 'said.Timothy', 'Flanigan,', 'a', 'former', 'colleague', 'Barr’s', 'from', 'the', 'H.W.', 'Bush', 'years,', 'said', 'he', 'thought', 'Durham', 'could', 'come', 'back', 'with', 'something', 'more.', 'Mueller’s', 'investigation', '', '', 'he', 'told', 'me.', '', 'Durham’s', 'investigation', 'is', 'not', 'the', 'only', 'means', 'through', 'which', 'Barr’s', 'decisions', 'could', 'affect', 'the', 'election.', 'If', 'the', 'F.B.I.', 'wants', 'to', 'open', 'a', 'criminal', 'investigation', 'into', 'either', 'campaign,', 'it', 'will', 'first', 'need', 'Barr’s', 'personal', 'approval.', 'Barr', 'has', 'established', 'a', 'special', '', '', 'to', 'deal', 'with', 'materials', 'that', 'Rudolph', 'W.', 'Giuliani', 'says', 'he', 'has', 'obtained', 'from', 'Ukrainian', 'sources,', 'which,', 'Giuliani', 'has', 'claimed,', 'implicate', 'Joe', 'Biden,', 'the', 'presumptive', 'Democratic', 'presidential', 'nominee.', 'In', 'the', 'interview,', 'Barr', 'did', 'not', 'dispute', 'the', 'notion', 'that', 'the', 'Russian', 'government', 'had', 'interfered', 'in', '2016,', 'but', 'he', 'made', 'it', 'sound', 'as', 'though', 'the', 'assumption', 'that', 'it', 'favored', 'Trump', 'would', 'be', 'coming', 'under', 'some', 'pressure.One', 'also', 'would', 'expect', 'Barr', 'to', 'play', 'a', 'role', 'in', 'deterring', 'punishing', 'foreign', 'interference', 'in', 'the', 'election,', 'but', 'that', 'could', 'get', 'complicated.', 'Trump’s', 'camp', 'continues', 'to', 'deny', 'the', 'intelligence', 'community’s', 'consensus', 'view,', 'one', 'strongly', 'reiterated', 'by', 'Mueller', 'the', 'Senate', 'intelligence', 'committee,', 'that', 'the', 'Russians', 'favored', 'Trump', 'over', 'Hillary', 'Clinton.', 'Some,', 'including', 'Republicans', 'on', 'the', 'House', 'Committee,', 'claim', 'to', 'have', 'unreleased', 'evidence', 'that', 'points', 'the', 'other', 'way.', 'Based', 'on', 'what', 'Barr', 'told', 'me,', 'Russian', 'intentions', 'will', 'most', 'likely', 'emerge', 'as', 'the', 'key', 'retrospective', 'battlegrounds', 'as', 'Durham’s', 'work', 'continues', 'the', 'election', 'draws', 'closer.', '', 'Barr', 'said.', '', 'But', 'what', 'Barr', 'did', 'not', 'address', 'directly', 'was', 'the', 'fourth', 'volume', 'the', 'report', 'from', 'the', 'Senate', 'intelligence', 'committee.', 'That', 'report', 'reviewed', 'much', 'the', 'same', 'intelligence', 'underlying', 'the', 'Intelligence', 'Community', 'Assessment.', 'It', 'affirmed', 'that', 'Russia’s', 'pro-Trump', 'position', 'President', 'Vladimir', 'V.', 'Putin’s', 'direct', 'involvement', 'were', 'supported', 'by', '', '', 'The', 'N.S.A.’s', 'disagreement', 'was', '', '', 'Unlike', 'the', 'committee’s', 'groundbreaking', '2012', 'Torture', 'Report,', 'the', 'fourth', 'volume', 'was', 'unanimously', 'approved', 'by', 'a', 'bipartisan', 'vote', 'the', 'Republican-led', 'committee.', '', '', 'said', 'Senator', 'Richard', 'Burr,', 'a', 'Republican', 'from', 'North', 'Carolina', 'the', 'chairman', 'the', 'committee.Warner,', 'for', 'his', 'part,', 'dismissed', 'Durham’s', 'investigation', 'as', '', '', 'he', 'told', 'me.', '', 'I', 'brought', 'up', 'the', 'Durham', 'investigation', 'again', 'in', 'my', 'last', 'interview', 'with', 'Barr,', 'on', 'May', '20.', 'The', 'fifth', 'floor', 'Justice', 'Department', 'headquarters', 'now', 'felt', 'different;', 'some', 'older,', 'lawyerly', 'looking', 'men', 'walking', 'around', 'wore', 'masks.', 'Two', 'younger', 'men', 'in', 'suits', 'with', 'lapel', 'pins,', 'who', 'were', 'most', 'likely', 'security,', 'did', 'not.', 'Barr', 'himself', 'still', 'wore', 'no', 'mask,', 'but', 'there', 'were', 'no', 'more', 'polite', 'entreaties', 'for', 'visitors', 'to', 'take', 'theirs', 'off.', 'One', 'could', 'see', 'two', 'crumpled', 'blue', 'surgical', 'masks', 'lying', 'amid', 'the', 'papers', 'on', 'Barr’s', 'desk.', 'With', 'disarming', 'familiarity,', 'Barr', 'sat', 'down', 'on', 'a', 'sofa', 'offered', 'me', 'my', '', '', 'in', 'a', 'tufted', 'leather', 'chair.By', 'then,', 'Trump', 'had', 'seized', 'on', 'the', '', '', 'meme,', 'accusing', 'the', 'former', 'president', 'Biden', '', '', 'When', 'asked', 'what', 'crime', 'he', 'thought', 'they', 'were', 'guilty', 'of,', 'Trump', 'declined', 'to', 'answer.', 'In', 'a', 'news', 'conference', 'two', 'days', 'before', 'I', 'went', 'to', 'see', 'him,', 'Barr', 'was', 'asked', 'indirectly', 'if', 'Durham’s', 'investigation', 'might', 'lead', 'to', 'criminal', 'charges', 'being', 'filed', 'against', 'Obama', 'or', 'Biden.', '', '', 'he', 'said.', '', 'Later', 'that', 'same', 'day,', 'Trump,', 'asked', 'about', 'Barr’s', 'statement,', 'replied,', '', '', 'He', 'went', 'on:', '', '', 'Trump', 'then', 'said', 'he', 'had', '', '', 'that', 'Obama', 'Biden', 'were', '', '', 'in', 'what', 'he', 'now', 'called', 'a', '', '', 'As', 'to', 'whether', 'or', 'not', 'it', 'was', 'criminal,', 'he', 'said,', '', 'In', 'Barr’s', 'office', 'two', 'days', 'later,', 'I', 'brought', 'up', 'how', 'Trump', 'seemed', 'to', 'have', 'heard', 'only', 'what', 'he', 'wanted', 'to', 'hear,', 'that', 'Barr’s', 'prediction', 'about', 'not', 'prosecuting', 'the', 'former', 'president', 'was', 'only', 'valid', '', 'Barr', 'said', 'I', 'shouldn’t', 'read', 'too', 'much', 'into', 'those', 'words.', '', 'he', 'said.', '', 'Whether', 'he', 'realized', 'it', 'or', 'not,', 'the', 'line', 'Barr', 'had', 'drawn', 'at', 'the', 'news', 'conference', 'was', 'getting', 'blurrier', 'with', 'every', 'word,', 'just', 'as', 'Trump', 'had', 'hoped.', '', 'Barr', 'went', 'on.', '', '', 'He', 'pulled', 'back', 'from', 'the', 'conversation', 'thought', 'for', 'a', 'moment.', '', 'After', 'keeping', 'tabs', 'on', 'Durham’s', 'investigation', 'for', 'more', 'than', 'a', 'year,', 'Barr', 'did', 'not', 'think', 'it', 'was', 'likely', 'that', 'he', 'would', 'have', 'to', 'prosecute', 'a', 'former', 'president.', 'But', 'neither,', 'at', 'that', 'moment,', 'was', 'he', 'willing', 'to', 'rule', 'it', 'out.', 'He', 'made', 'this', 'position', 'sound', 'reasonable,', 'even', 'as', 'it', 'served', 'to', 'support', 'the', 'unsupported', '', '', 'theory', 'that', 'the', 'president', 'was', 'floating', 'at', 'the', 'time.In', 'the', 'end,', 'the', 'substance', 'Durham’s', 'findings', 'might', 'not', 'matter.', 'Whatever', 'he', 'turns', 'up', 'will', 'become', 'a', 'major', 'theme', 'Trump’s', 'campaign;', 'the', 'less', 'time', 'there', 'is', 'before', 'an', 'election,', 'the', 'greater', 'political', 'impact', 'even', 'the', 'smallest', 'apparent', 'revelation.', 'All', 'Trump', 'needed', 'from', 'Barr', 'was', 'the', 'glimmer', 'a', 'possibility,', 'a', 'slight', 'shadow', 'of', 'official', 'uncertainty', 'in', 'which', 'his', 'wild', 'theories', 'could', 'flourish.', 'And', 'for', 'now,', 'Barr', 'was', 'giving', 'him', 'that.', 'How', 'much', 'more', 'he', 'would', 'give', 'the', 'president', 'before', 'November,', 'it', 'was', 'hard', 'to', 'say.']\n"
     ]
    }
   ],
   "source": [
    "article_list = article.split(\" \")\n",
    "for word in article_list:\n",
    "    if word in keywords[1:-1]:\n",
    "        article_list.remove(word)\n",
    "print(article_list)"
   ]
  },
  {
   "cell_type": "code",
   "execution_count": 127,
   "metadata": {},
   "outputs": [
    {
     "data": {
      "text/plain": [
       "'But as you drew closer to the fifth floor, where Attorney General William Pelham Barr works out of a suite of offices, things started to loosen up. One assistant outside his conference room wore a mask, but the other did not. In the middle of the room, with its oil paintings and vaulted ceiling, the long central table had fewer chairs than you might expect, and an appropriate distance between them. But past the next door, inside the attorney general’s smaller personal office, Barr himself was also mask-free. Turning around to greet his visitors, he moved into the middle of a wide circle of four chairs arranged in front of his desk.Now nearing the end of his career, Barr did not take his current job for the glory. He had already been attorney general once, in President George H.W. Bush’s administration, winning him a reputation as a wise old man — a reputation that, in the eyes of some, his tenure in the Trump administration has tarnished. Nor is he doing it for the money. His time in corporate America earned him tens of millions of dollars in compensation and stock options, and his bearing is still that of a Fortune 500 counsel, cozy manners wrapped around a harder core.  Barr said, though I had been asked to bring one. His tone was jokingly conspiratorial, as though he were making an exception for an old friend. Barr is sometimes described as   an adjective that also captures his professorial manner. His speaking voice is very soft, just loud enough to be consistently perceptible; his accent is patrician, with a trace of old New York. His personality breaks through mostly in frequent moments of humor, which range from clubby chuckles to tension-breaking eruptions.  an aide added. Barr crossed the circle of chairs, grinning away any awkwardness. We bumped elbows.   he said in the same joshing tone. The greater risk, of course, was that I might infect him, given his cabinet-level access to regular coronavirus testing, the difference in our ages, Barr’s regular meetings with the president and the mostly one-way prophylactic value of masks in general.  his aide suggested again. I took it off.That Monday, the whole country was doing the same dance. The Centers for Disease Control and Prevention had recommended that all Americans wear masks at meetings like this one. President Trump was doing something else, and so, for the time being, was the White House staff. Vice President Mike Pence, having been wrong-footed after taking the no-mask custom to the Mayo Clinic, now seemed to be making it up as he went along. Eight weeks into the global pandemic, a charitable observer might still have described the administration’s response as improvisational or misguided, as opposed to willfully cavalier. But things were about to get worse. That day, Trump’s projection of the total U.S. death toll (75,000 to 100,000), which was given the previous evening at the Lincoln Memorial, would be challenged by an internal Trump-administration document predicting that the number of daily deaths would rise into June. The reckless faith of the president’s inner circle would be challenged when two members of the White House staff tested positive for the coronavirus. Barr and I did not know it then, but we were enjoying the tail end of the Trump administration’s libertine phase. On May 27, the official death toll would surpass 100,000, the upper bound of what Trump predicted on May 3.One has to assume that Trump is keeping a close eye on the 70-year-old Barr right now. The powers of the attorney general, as the executive branch’s rule interpreter and law enforcer, peak during moments of social unrest. Barr knows these powers well: He led the Justice Department through the Los Angeles riots of 1992, when Bush invoked the Insurrection Act and deployed thousands of soldiers and Marines. (Later, Barr said the L.A. riots were   gang activity and not  ) Like Trump, Barr is a stalwart believer in the righteousness of the police; those communities that fail to give the police   he said in a December speech,   Last summer, Barr dropped the department’s federal case against the New York police officer who killed Eric Garner during an arrest in 2014.Barr’s role also gives him influence over three major political fronts heading into November. First, there is Trump’s fight to open the nation’s economy, which could depend in no small part on Barr’s interpretation of federal authority and willingness to twist governors’ arms. Then there are the mechanics of the vote itself, a topic of great partisan controversy about which the Justice Department has shown a growing willingness to weigh in. Finally, there is the ongoing investigation led by John Durham, the United States attorney in Connecticut, into the origins of the F.B.I.’s Russia probe in the run-up to the 2016 election, the findings of which are widely expected to be announced before November.With the election now on the horizon, Barr defended his record in two recent interviews. His critics charge that, since becoming attorney general, he has repeatedly steered the Justice Department toward decisions that serve Trump’s interests — particularly around the investigations, carried out by the F.B.I. and Robert S. Mueller III, into Russian influence over the 2016 election. Barr insists that he acts independently, even as the president often undermines that claim by tweeting out apparent instructions for what his attorney general ought to do.By the time of our first meeting in his office, Barr had already started looking at how the federal government might intervene in state-ordered coronavirus shutdowns. As Trump accused Democratic governors of denying citizens their   and encouraged residents to   Michigan, Minnesota and Virginia, Barr zeroed in on the nuts and bolts of the legal case for  : When two small churches filed lawsuits, seeking to hold live services despite state or local regulations, the Justice Department made filings in support of their First Amendment rights. In a signed memorandum sent to the department’s 93 United States attorneys, Barr suggested that the federal government’s interest went beyond protecting live worship. It included  Three weeks before our interview, Trump bragged that he held   authority over the states. This went against the prevailing view that the federal government, while free to enforce a variety of measures during its own emergencies, is more constrained in its authority to compel state or local governments to lift theirs. When I asked Barr what Trump meant, he responded by laying out a general view of the president’s pandemic-related powers:   he said,   The answer sounded so dry and routine that I failed to ask what he meant by   Construed broadly enough, Barr’s interpretation could sanitize and legalize Trump’s claim to   authority.Mail-in ballots are another domain where Trump had been staking out turf. He called the distribution of ballot applications in Michigan   and warned that voting by mail   In a second interview on May 20, when I asked who was going to referee the 2020 election, Barr replied,   He said his department’s role would be limited, as the power belongs to the states and their electors. But when I brought up Trump’s tweet about Michigan, which he posted that same morning, Barr quickly seized the opportunity to float a new theory: that foreign governments might conspire to mail in fake ballots.  he cautioned, offering no evidence to substantiate that this was a real possibility. But he called it   and added:  On many election-related issues, the Department of Justice has to defer to the states. But in the case of Durham’s investigation of the 2016 investigators, or the   as Trump has so often called it, Barr has a greater degree of control. For years, Trump has been saying that he was treated unfairly in 2016, particularly at the hands of James Comey, then the F.B.I. director. Barr, who is open about his agreement with this premise, is now in the process of nailing down the details. He won’t rule out the possibility that Durham’s findings could undermine a key consensus about 2016, the well-established conclusion that Russian interference sought to favor Trump — a finding of the Intelligence Community Assessment of 2017 that was later underscored by Mueller, the special counsel, and verified by the Republican-controlled Senate intelligence committee.Durham, Barr told me, was looking for   He paused, glanced down and fidgeted for a moment with his necktie before going on.  Barr seems aware at times that he is gambling with his reputation.   he said with a matter-of-fact sigh in a TV interview last year.   When we spoke in his office, he was critical of what he called Comey’s tendency to   around himself.   he said.   he added.  Barr’s willingness to weather controversy on the president’s behalf has not only caused consternation among some former friends and allies; it has given rise to considerable speculation about his motives. Why would a grandfather in semiretirement, who had already reached the pinnacle of his profession, sign up for this? Some wonder if Barr might still be hungry for influence, having been attorney general for only 17 months the first time. Others wonder whether he spent too much time watching Fox News during the Obama years and came out the other side an ideologue. And there are others who look at Barr’s support for Trump and see more consistency than contradiction. Barr, they say, hasn’t changed his values. Rather, he has found in Trump the perfect vehicle with which to move them forward.  says Stuart Gerson, who led the Justice Department’s civil division during Barr’s first tour and then succeeded him, serving as acting attorney general during the first three months of Bill Clinton’s presidency.  As far as what Barr is hoping to do with his canvas, Gerson says he is committed to the   and   premise that   That isn’t too far away from what Barr himself articulated in a 2019 speech at the University of Notre Dame. In Barr’s view, piety lay at the heart of the founders’ model of self-government, which depended on religious values to restrain human passions.   Barr said. Goodness flows from   through   to form   Reason and experience merely serve to confirm the infallible divine law. That law, he said, is under threat from   including   who call on the state   At their feet, Barr places mental illness, drug overdoses, violence and suicide. All these things, he said, are getting worse. All are  Barr started his career in the C.I.A. as an analyst, working on China and other matters. When I asked about the origin of his interest in the intelligence service, he responded indirectly, with an anecdote about telling his high school guidance counselor that he wanted to be C.I.A. director. It was tempting to link Barr’s career and conservatism with his father, Donald Barr, who served in the Office of Strategic Services, the C.I.A.’s forerunner, during World War II. In 1940, as an undergraduate at Columbia, Donald wrote a controversial editorial for The Columbia Review, defending a speech by the university president that called upon the faculty to support the American war effort.   he wrote,   As tempting as it was to see the son as part of some epigenetic chain of old-line conservatism, Barr cautioned me not to make such assumptions.  Barr’s parents met at the University of Missouri in the early 1940s. Donald, who already spoke three languages, had been sent there by the Army to learn Italian. He spotted Mary Ahern, a young Irish-Catholic woman who had a master’s degree in English from Yale, through an open doorway, teaching Shakespeare to undergraduates, and was smitten. Ahern took some courting. She thought Donald was a   Barr told me, and his background was also an issue; he was raised without much religion, but his father, William’s grandfather, was born a secular Jew. Upon joining the Army, Donald gave his religion as Dutch Reformed. He converted to Catholicism after he and Mary wed.Donald Barr’s 26-page O.S.S. file, obtained from the National Archives, gives a detailed account of his transition from the military to intelligence work. In 1944, he shipped off to Europe. He suffered from hay fever and 20/200 vision; much of his time overseas was spent hospitalized with allergies. The next year, he was assigned to the O.S.S. His interviewer found him to be   In late 1945, he moved to Washington to begin work at the Interim Research and Intelligence Service, which would become the State Department’s in-house intelligence bureau.William, the couple’s second son, was born in 1950. By age 8, he had taken up the bagpipes, which would become a lifelong hobby. He attended the Horace Mann School in New York, where his classmates remembered his conservatism, the delight he took in making an argument and his sense of humor. The yearbook praised him as an  Barr’s involvement with campus politics continued at Columbia. He joined the Majority Coalition, which organized against student occupiers who had taken over the campus to protest the Vietnam War. Columbia was known as a feeder school for the C.I.A. An average of 14 seniors went to the agency each year from 1960 through 1966, according to a 1967 article from the student newspaper, The Daily Spectator, which reported that a majority came in not through the college’s Office of Career Planning and Placement but   — perhaps a reference to the private foundations and student organizations that were receiving C.I.A. funding at that time.In the late 1960s, this recruiting drew campus protests, which eventually broadened to take on other issues beyond the war. On the morning of April 24, 1968, student demonstrators, many of them affiliated with Students for a Democratic Society, stormed Low Memorial Library and took over the offices of Columbia’s president. The protesters were angry that Columbia was building a gymnasium nearby that would have two separate entrances — one for the school community and one for neighborhood residents — and also about the university’s connection with a think tank that did research for the Pentagon.Barr was on the other side, standing shoulder to shoulder with conservatives and athletes to form a blockade around the library.   he told me.   He smiled to himself.  I asked if he was in the fistfight. He adjusted the bridge of his glasses and glanced down.   he said, letting out a big laugh.   He later added,  Barr interned at the C.I.A. in the summers of 1971 and 1972. In 1973, after completing his graduate degree in government and Chinese studies, he married Christine Moynihan, whom he met at a fraternity party. The next day, the couple drove to Washington, and Barr began a permanent job at the C.I.A. the day after that. His mother’s memories of the Great Depression, he said, had instilled in him a desire for career stability, so he began taking law courses at night. By then, he had transferred to the C.I.A.’s Office of Legislative Counsel.   says John Rizzo, who worked down the hall from Barr in the general counsel’s office, where Rizzo would eventually rise to become the acting head.  The new job put Barr on the C.I.A.’s seventh floor, not far from the director’s office and near the center of what was shaping up to be a historic fight with Congress. In the aftermath of World War II, the presidency was endowed with vast new powers — mass surveillance, covert operations, proxy wars and nuclear weapons. The young C.I.A., spurred on by the imperative to win the Cold War, abused its own new powers to an astonishing degree. Despite a statutory ban on its involvement in either   or   the C.I.A. surveilled and surreptitiously engaged with countless American citizens. The agency reported to the president and often took action based on informal conversations, without ever committing much to paper. Secrecy around the agency’s transgressions held until the 1970s, when antiwar sentiment began to peak. The scandals around the Pentagon Papers (1971) and the Watergate break-in (1972), culminating in the long-anticipated Vietnam defeat, convinced much of the public that the federal government should no longer be given the benefit of the doubt. In 1973, Richard Helms, the longtime C.I.A. director, ordered the destruction of internal C.I.A. documents regarding MK-Ultra, an experimental mind-control program.   Helms later recalled.  In 1974, the journalist Seymour Hersh, who had already broken the story of the My Lai massacre in Vietnam, revealed that the C.I.A. had developed a sprawling domestic-spying operation, keeping dossiers on thousands of American citizens. Congress created two special committees — a Senate committee, led by Senator Frank Church, and a House committee that would eventually be led by Representative Otis Pike — to investigate. For years, the C.I.A. would be consumed with negotiations over the limits of what Congress could oversee.  Barr told me in his office.  I asked if there had indeed been excesses. Barr’s poker face came to life. He grinned, turned his palms out and shrugged.   he said. He burst out laughing. Then he pulled back to give the matter some more thought, adjusting his glasses as he settled back into seriousness.  he said.  The battle between conservative hard-liners and a Democratic-led Congress would continue through the late Cold War. Inside the C.I.A., there was a sense of victimization.   Frederick Hitz, the agency’s first presidentially appointed inspector general, told me.  In 1976, the job of defending the agency in public passed to the new director, George H.W. Bush, who had served as a special U.S. envoy to China. On at least one occasion, Barr sat behind Bush during a congressional hearing, giving him legal advice. Congress wound up making oversight a permanent thorn in the C.I.A.’s side by establishing two intelligence oversight committees. That May, Barr drafted two letters, each signed by Bush, asking Congress if the C.I.A. could resume the routine destruction of documents. The request was denied.  says Michael Glennon, now a law professor at the Fletcher School of Law and Diplomacy at Tufts University, who dealt with the C.I.A. as legal counsel of the Senate Foreign Relations Committee.  Rather than accept post-Watergate congressional limitations, the hard-liners decamped from the C.I.A. and became floaters, bureaucratic nomads who sought out underused and low-visibility pockets of the federal government from which to wage their war over executive power. The largest battle was fought around the Iran-contra affair. A covert group operating out of the Reagan White House had used money gained by selling arms to Iran to fund anti-Communist rebels in Central America, flouting a congressional prohibition. Much of the operation was organized by Lt. Col. Oliver North of the National Security Council. Many of the Iran-contra plotters were dragged into the public eye and indicted by a special prosecutor, another post-Watergate innovation. Evidence pointing to the involvement of President Ronald Reagan and Vice President George H.W. Bush was inconclusive. The hard-liners felt that foreign policy and covert operations were an exclusively presidential domain.   is how Reagan’s first C.I.A. director, William Casey, put it in an interview with the political scientist Loch K. Johnson.Around this time, conservative thinkers of Barr’s generation began to coalesce around an idea they called   The president’s right to his powers under Article II of the Constitution, they argued, was undivided and absolute. Post-Watergate reforms — independent prosecutors to investigate high-level wrongdoing, requirements to get warrants for national-security wiretaps, and more — were unconstitutional incursions into the president’s rightful powers.In June 1977, Barr left the C.I.A. upon his graduation from George Washington University Law School, eventually landing as a policy lawyer in the Reagan White House. Bush, running for president, took Barr to the 1988 Republican National Convention to help vet potential running mates and, after winning the election, appointed him to lead the Justice Department’s Office of Legal Counsel, where his duties included determining the legal limits of C.I.A. activities. Rizzo, who was still at the C.I.A., recalls that Barr kept his independence from the Oval Office. Two of Barr’s opinions on classified C.I.A. operations   while a third operation, Rizzo says, was rejected entirely. One of Barr’s public opinions, though, effectively authorized the invasion of Panama. Later, as acting attorney general, he impressed Bush further by defusing a delicate prison-hostage crisis. As attorney general in 1992, Barr signed off on a mass-surveillance program that collected billions of call records for the Drug Enforcement Administration. At the end of Bush’s presidency, he successfully pushed for a pardon of six Iran-contra defendants.Gen. Michael V. Hayden, a former C.I.A. director, says Barr reminds him of David Addington — the former C.I.A. lawyer who became Vice President Dick Cheney’s chief of staff and played a major role in pushing the limits of conduct, including torture, that the White House and the C.I.A. determined to be legal in the aftermath of the Sept. 11 attacks. Barr   Hayden says.  Barr’s intellect and experience made him appealing to the private sector. For eight years, he served as general counsel at Verizon, at a time when the company was working out secret arrangements with the National Security Agency to turn over its customers’ data. In September 2001, a legal trade publication noted Barr’s $1.5 million salary and compared him to a   for the depth of his connections in both political Washington and corporate New York. At that time, he said, he had no interest in returning to officialdom.   he said.  By the 2016 presidential election, Barr was a player in Republican politics and active in conservative Catholic causes. He gave nearly $50,000 to a PAC affiliated with Jeb Bush. His annual holiday parties, traditional Scottish cèilidhs with music and singers, drew hundreds whose friendships he had maintained over the years. He wrote and sold a screenplay about World War II. He spent time traveling abroad and hunting birds. His three daughters all became accomplished lawyers, working on Capitol Hill or as federal prosecutors. The eldest, Mary, moved to the Treasury Department’s financial-crimes unit after Barr’s nomination as attorney general; one of Barr’s sons-in-law left the Justice Department for the White House Counsel’s Office.Last year, shortly after his Notre Dame speech, Barr gave a second major address at the annual convention of the Federalist Society, an organization of conservative lawyers founded during the Reagan administration. The subject was executive power. Again Barr criticized progressives, this time for making politics   The presidency, in his view, handled   Part of the core function of the presidency was the ability to act swiftly and without constraint, but this capability had been diminished by the other branches since Watergate. Congress had burdened the president with oversight, while the courts were interfering with Trump’s travel ban on certain countries and his termination of President Barack Obama’s DACA program for young immigrants. Barr seemed to suggest that when it comes to foreign policy, the only legitimate check on presidential behavior is the next election. Months later, this argument would become the foundation of Trump’s impeachment defense.On Dec. 5, 2018, Barr attended George H.W. Bush’s funeral. While waiting in line for the shuttle bus that would take him to Washington National Cathedral, he and his wife ran into a friend, C. Boyden Gray, who was Bush’s White House counsel during the Reagan years. The two men spent most of the day together. Barr sounded out Gray about the attorney-general job. Gray knew from following the news that Barr was under consideration, but Barr never tipped his hand about how close he was to being tapped, and Gray never asked. Later that week, when Trump announced Barr’s nomination, Gray was not surprised.   under Bush, Gray says.  At the time of his nomination, Barr’s supporters presented him as a trustworthy and sensible conservative, a known quantity within the Washington establishment who would restrain Trump’s worst impulses. James Comey called him   Benjamin Wittes, a legal commentator who is now one of Barr’s harshest critics, tweeted at the time that he had been   under Bush and that his confirmation would be  During the confirmation hearing, Senator Dianne Feinstein of California, the ranking Democrat on the Judiciary Committee, questioned Barr at length about a memorandum he wrote to the administration the previous summer, outlining why he believed that Mueller had no legal right to investigate Trump for obstruction of justice. The president, Barr argued, has   investigations and can   on individual cases, including those that touch on his political or financial interests.   Barr wrote. Law enforcement, he argued, was a power exclusively held by the president, because  In the hearing, Barr seemed to say that he did not believe the unitary executive’s powers to be infinite. When Senator Patrick Leahy, a Vermont Democrat, asked if it would be lawful for a president to trade a pardon for a promise not to incriminate him, Barr answered that such an exchange would be a crime. He also mentioned his long friendship with Mueller. Barr’s wife attends the same Bible study as Mueller’s wife; Mueller attended the weddings of two of Barr’s daughters.Barr was confirmed by a vote of 54 to 45. He had barely served one month as attorney general when his friendship with Mueller was tested by the special prosecutor’s delivery of his report, on the afternoon of Friday, March 22. Trump’s Twitter account then went dark for nearly 40 hours. That Sunday, Barr sent a letter to Congress that he would later describe as giving Mueller’s   and Trump’s feed came back to life.   he tweeted. In his first public comments that same day, Trump said the words   three times.   he added.Trump’s tweet, Barr’s letter and Mueller’s report said three different things. Neither Barr nor Mueller exonerated Trump. Barr quoted Mueller’s own words that his complicated finding on obstruction   the president. But Barr omitted Mueller’s conclusions that Russian interference sought to favor Trump; that Trump and his campaign welcomed the interference and believed they would benefit from it; and that the   and   between Russians and the campaign were substantial, even though the evidence Mueller was able to gather fell short of a criminal conspiracy.Mueller fired off two letters complaining that Barr had misrepresented his work. In the second letter, dated March 27, he asked Barr to immediately release the report’s introductions and executive summaries. But the public would not get to read Mueller’s work until April 18, when Barr released a redacted version of the full report. Before doing so, Barr gave a news conference in which he tilted further toward declaring Trump innocent, something Mueller bent over backward not to do.   Barr said of Trump,  Barr’s distortions drew wide criticism. Democrats were also frustrated by the report’s content. It lacked the thunderous revelations about Russia that had long been promised by Trump’s opponents, and it suffered from legalistic inconclusiveness on the most fundamental questions. Mueller, having been given a chance to put the 2016 election to bed for good, had carefully avoided doing so.Democrats’ hopes for the promised collusion bombshell now turned to the unredacted version of the Mueller report, which Barr refused to give them. In an echo of his C.I.A. work during the Church Commission years, the Barr-led Justice Department has taken a very hard line regarding what information Congress and the courts are entitled to get from the White House. It has fought in court against the release of Trump’s tax returns; argued that Congress did not need to see the Ukraine whistle-blower’s complaint, because it was not a matter of  ; and has challenged congressional requests for Mueller’s secret grand-jury materials.After Barr refused to turn over the fully unredacted Mueller report to the House Judiciary Committee, citing executive privilege, the committee voted to hold him in contempt. The Democratic chairman, Representative Jerrold Nadler of New York, claimed that this was the beginning of a   Barr seemed untroubled.   he reportedly quipped to Nancy Pelosi at an event a few days later. But concerns about Barr’s handling of Mueller’s investigation have not been confined to Democrats. Judge Reggie B. Walton of the United States District Court for the District of Columbia, a George W. Bush appointee, recently criticized Barr’s   and questioned whether  At his first meeting with President Trump in 2017, Barr later recalled in his confirmation hearing, he told Trump that   In the end, he was half right.   Barr said in one of our interviews. That would have been March 2019 — more than a year ago.  Barr continued. I asked if they still saw each other at Bible study.   Barr replied.Attorneys general are chosen by the president; no law prohibits them from doing the president’s bidding. Many presidents have occasionally asked the attorney general to intervene in individual prosecutions. John Mitchell, President Richard M. Nixon’s attorney general, went much further, helping to plan the Watergate burglary and then working to cover it up. But the Justice Department’s guidelines do enjoin prosecutors not to comment about ongoing investigations, something Barr does regularly. They also caution that legal judgments   and that the department must respect Congress’s  None of this has stopped Barr from overruling his subordinates to the benefit of Trump’s friends and associates — most notably Roger Stone, Trump’s longtime political mentor, and Michael Flynn, his former national security adviser. In both cases, Trump has tweeted about what he sees as the unfairness of their legal troubles, and the Justice Department has subsequently pushed for leniency.Barr has repeatedly said that Trump has never asked him to do anything in a criminal case:   he said in an interview with ABC News. But the department’s interventions on behalf of Stone and Flynn have raised questions about the supposed Trump-Barr firewall.   Jack Goldsmith, who led the Office of Legal Counsel under George W. Bush, told The Times in February. Barr has said he doesn’t pay attention to Trump’s tweets and doesn’t take seriously the ones he is made aware of.   says Gray, Barr’s friend and former colleague.Vanita Gupta, the former head of Obama’s civil rights division at the department, articulated a prevailing view of Barr among Democrats, telling me that the attorney general has   Gupta says Barr’s interventions on behalf of Trump associates have far-reaching consequences.   she says.  In February, prosecutors recommended that Stone be sentenced to seven to nine years in prison for witness tampering and other crimes. The following day, the Justice Department filed a second, revised sentencing memo asking that Stone’s sentence be reduced. Eighty-seven to 108 months, the memo argued,   given Stone’s  On the same day the department revised its sentencing recommendation, all four of the prosecutors responsible for the case announced their withdrawal. One, Jonathan Kravis, left the department entirely.   Kravis wrote later in an op-ed in The Washington Post.On Twitter, Trump said the Stone prosecutors   He tweeted out congratulations to Barr for   Barr pushed back in the ABC interview, insisting that he reached the Stone decision independently.   he said, adding,  The post-Mueller case that has arguably received the most attention among Trump’s supporters is that of Flynn, the lieutenant general who briefly served as Trump’s national security adviser. The dueling narratives around the Obama-to-Trump transition crystallize around Flynn, and the question of whether he or those who investigated him were in the wrong. In addition to drawing scrutiny for his Russian contacts, Flynn initially failed to report, as legally required, that his company was effectively on the payroll of the Turkish government during the 2016 campaign. Obama himself tried and failed to talk Trump into dropping him. Many of Trump’s own problems hinged on his asking Comey if he could   to dropping the Flynn investigation. Trump’s adversaries consider Flynn to be a loose cannon and possible Russian pawn who needed to be rooted out. His supporters depict him as the second coming of Oliver North — a good soldier who was martyred in public for his loyalty to the executive.On May 4, the day of my first interview with Barr, Flynn was still awaiting sentencing, having pleaded guilty to lying to the F.B.I. From time to time, Trump had been tweeting about the Flynn case in ways that seemed to cross the line that Barr had drawn about public comments from the White House about matters pending before the Justice Department. Trump said Flynn had been victimized by the   as Stone.I asked Barr, in light of his statement on ABC News, whether these were the kind of tweets that made his job    Barr said.  Trump had recently been tweeting about Flynn, I said.   Barr replied.I asked if he would like to see them.   Barr said.  I handed Barr a printout of an April 29 Trump tweet. It read:  Barr said with cool indifference.  I asked how it was that Flynn’s supposed antagonists could be punished —   — without involvement from the department.  Barr asked, referring to the particular case that was now before Judge Emmet Sullivan. He had found the right hair to split, and he split it so cleanly and decisively that I couldn’t say this wasn’t his position from the beginning.The tweet, Barr said, was nothing new. Trump, he said,  Three days later, on the afternoon of May 7, the Justice Department filed a motion to dismiss its own prosecution of Flynn. The government argued that Flynn’s false statements were not   to the investigation of Flynn, because the investigation was itself unjustified. The argument relied in part on the contents of handwritten F.B.I. notes that had been turned over to Flynn’s attorneys by the department and released to the public by mutual agreement. One of the prosecutors assigned to the case immediately withdrew.A few days later, Sullivan decided he wouldn’t rule on whether to accept the department’s motion until he had heard from friends of the court and a special counsel. Flynn’s lawyers appealed, asking a higher court to force the judge’s hand. Again, the department took Flynn’s side. Trump took to Twitter, celebrating  The definitive Sept. 11 Commission-style history of the 2016 election remains unwritten, though not for lack of trying. In addition to the Mueller report and voluminous criminal indictments, we have the Intelligence Community Assessment, the Horowitz report (by the Justice Department’s inspector general, Michael Horowitz) and four volumes of the Senate intelligence committee’s report, a fifth volume of which is on the way.The major episodes of the story may now seem like familiar terrain to those who have kept up, and a hopeless mess to everyone else. But zoom out a bit, and the stakes could not be higher. Many of Trump’s critics, like Representative Adam Schiff of California, the Democratic chairman of the House Intelligence Committee, and James Clapper, Obama’s director of national intelligence, go further than saying that the Russians put a thumb on the scale for Trump. They have suggested that the extra boost was decisive — that Trump would not have been elected in 2016 but for Russian interference. The crucial legacy of 2016 is that the question of Trump’s legitimacy was never settled. And without any consensus on what happened in 2016, the rules of the road for 2020 are up in the air.But first, armed with the powers of law enforcement and presidential access to classified material, Trump is getting ready to roll out his account of 2016. When Trump promises   he most likely has in mind the ongoing investigation by John Durham and its long-expected report — although it is also possible that Durham’s public work product will take the form of indictments, or perhaps nothing at all. Barr, who assigned Durham the task of investigating the Russia probe in May last year and met with him several times immediately after the conclusion of Mueller’s investigation, is overseeing Durham’s work and briefs Trump on his findings regularly. Based on Barr’s public statements, we can see the rough contours of Durham’s findings beginning to take shape. The government’s conduct during the Obama-to-Trump transition, Barr has said, was   Surveillance of Trump’s campaign amounted to   Then there was the all-important question of whether the F.B.I. was justified in opening the initial Crossfire Hurricane investigation into the Trump campaign’s Russia ties.Under ordinary circumstances, Justice Department prosecutors do not comment on anything connected to an ongoing investigation, but on the day that Horowitz released his report, both Barr and Durham decided to do just that. The F.B.I.’s interest in Trump, Barr said, was based   and     Durham said in his own statement. Horowitz had found that the investigation was justified, so these sounded like sweeping words of dissent. But over the coming months, as attention drifted elsewhere, they shrank. By the time I sat down with Barr, the only dispute with Horowitz he’d voiced was whether the F.B.I. had enough evidence to open a full investigation. (Barr and Durham believe that there was only enough to open a preliminary investigation, not a full one.)In our first interview, Barr mentioned the dossier of salacious anti-Trump claims that had been gathered and circulated by Christopher Steele, a former British intelligence agent who was working indirectly for the Clinton campaign. The possibility that the Russian government intentionally seeded the dossier with misinformation was one of the issues Mueller ignored and Durham was looking at, Barr said. Nor had Mueller gone back and looked at the investigative steps taken as Crossfire Hurricane accelerated, he continued. Horowitz had done that, but unlike Barr and Durham, he had no access to the C.I.A., the N.S.A. and the foreign governments that were involved.To facilitate what later became a criminal investigation, Trump ordered the heads of the intelligence agencies to cooperate with Barr. He delegated to Barr the power to order the declassification of secret documents. Barr has spoken with intelligence officials from Italy, Australia and Britain to reportedly solicit information that could help Durham. In the case of Italy, where Barr and Durham met with political leaders and intelligence chiefs in person, his visit provoked concern among U.S. diplomats, who told The Times that Barr circumvented protocols in setting up the trip. Senator Mark Warner of Virginia, who is the ranking Democrat on the Intelligence Committee and helped write its five-volume report, said there were   about Barr’s trips.   he said.Timothy Flanigan, a former colleague of Barr’s from the George H.W. Bush years, said he thought Durham could come back with something more. Mueller’s investigation   he told me.  Durham’s investigation is not the only means through which Barr’s decisions could affect the election. If the F.B.I. wants to open a criminal investigation into either campaign, it will first need Barr’s personal approval. Barr has established a special   to deal with materials that Rudolph W. Giuliani says he has obtained from Ukrainian sources, which, Giuliani has claimed, implicate Joe Biden, the presumptive Democratic presidential nominee. In the interview, Barr did not dispute the notion that the Russian government had interfered in 2016, but he made it sound as though the assumption that it favored Trump would be coming under some pressure.One also would expect Barr to play a role in deterring and punishing foreign interference in the 2020 election, but that could get complicated. Trump’s camp continues to deny the intelligence community’s consensus view, one strongly reiterated by Mueller and the Senate intelligence committee, that the Russians favored Trump over Hillary Clinton. Some, including Republicans on the House Intelligence Committee, claim to have unreleased evidence that points the other way. Based on what Barr told me, Russian intentions will most likely emerge as the key retrospective battlegrounds as Durham’s work continues and the election draws closer.  Barr said.  But what Barr did not address directly was the fourth volume of the report from the Senate intelligence committee. That report reviewed much of the same intelligence underlying the Intelligence Community Assessment. It affirmed that Russia’s pro-Trump position and President Vladimir V. Putin’s direct involvement were supported by   The N.S.A.’s disagreement was   Unlike the committee’s groundbreaking 2012 Torture Report, the fourth volume was unanimously approved by a bipartisan vote of the Republican-led committee.   said Senator Richard Burr, a Republican from North Carolina and the chairman of the committee.Warner, for his part, dismissed Durham’s investigation as   he told me.  I brought up the Durham investigation again in my last interview with Barr, on May 20. The fifth floor of Justice Department headquarters now felt different; some older, lawyerly looking men walking around wore masks. Two younger men in suits with lapel pins, who were most likely security, did not. Barr himself still wore no mask, but there were no more polite entreaties for visitors to take theirs off. One could see two crumpled blue surgical masks lying amid the papers on Barr’s desk. With disarming familiarity, Barr sat down on a sofa and offered me my   in a tufted leather chair.By then, Trump had seized on the   meme, accusing the former president and Biden of   When asked what crime he thought they were guilty of, Trump declined to answer. In a news conference two days before I went to see him, Barr was asked indirectly if Durham’s investigation might lead to criminal charges being filed against Obama or Biden.   he said.  Later that same day, Trump, asked about Barr’s statement, replied,   He went on:   Trump then said he had   that Obama and Biden were   in what he now called a   As to whether or not it was criminal, he said,  In Barr’s office two days later, I brought up how Trump seemed to have heard only what he wanted to hear, that Barr’s prediction about not prosecuting the former president was only valid  Barr said I shouldn’t read too much into those words.  he said.  Whether he realized it or not, the line Barr had drawn at the news conference was getting blurrier with every word, just as Trump had hoped.  Barr went on.   He pulled back from the conversation and thought for a moment.  After keeping tabs on Durham’s investigation for more than a year, Barr did not think it was likely that he would have to prosecute a former president. But neither, at that moment, was he willing to rule it out. He made this position sound reasonable, even as it served to support the unsupported   theory that the president was floating at the time.In the end, the substance of Durham’s findings might not matter. Whatever he turns up will become a major theme of Trump’s 2020 campaign; the less time there is before an election, the greater political impact of even the smallest apparent revelation. All Trump needed from Barr was the glimmer of a possibility, a slight shadow of official uncertainty in which his wild theories could flourish. And for now, Barr was giving him that. How much more he would give the president before November, it was hard to say.'"
      ]
     },
     "execution_count": 127,
     "metadata": {},
     "output_type": "execute_result"
    }
   ],
   "source": [
    "article"
   ]
  },
  {
   "cell_type": "markdown",
   "metadata": {},
   "source": []
  },
  {
   "cell_type": "code",
   "execution_count": 387,
   "metadata": {},
   "outputs": [],
   "source": [
    "for word in document.split():\n",
    "    word_upper = []\n",
    "    if word[0].isupper():\n",
    "        word_upper.append(word) \n",
    "    if word in word_upper:\n",
    "        document = document.replace(word, \"\")"
   ]
  },
  {
   "cell_type": "code",
   "execution_count": 2,
   "metadata": {},
   "outputs": [
    {
     "ename": "NameError",
     "evalue": "name 'document' is not defined",
     "output_type": "error",
     "traceback": [
      "\u001b[0;31m---------------------------------------------------------------------------\u001b[0m",
      "\u001b[0;31mNameError\u001b[0m                                 Traceback (most recent call last)",
      "\u001b[0;32m<ipython-input-2-76e6d464a06c>\u001b[0m in \u001b[0;36m<module>\u001b[0;34m\u001b[0m\n\u001b[0;32m----> 1\u001b[0;31m \u001b[0mprint\u001b[0m\u001b[0;34m(\u001b[0m\u001b[0mdocument\u001b[0m\u001b[0;34m)\u001b[0m\u001b[0;34m\u001b[0m\u001b[0;34m\u001b[0m\u001b[0m\n\u001b[0m",
      "\u001b[0;31mNameError\u001b[0m: name 'document' is not defined"
     ]
    }
   ],
   "source": [
    "print(document)"
   ]
  },
  {
   "cell_type": "code",
   "execution_count": 3,
   "metadata": {},
   "outputs": [
    {
     "name": "stdout",
     "output_type": "stream",
     "text": [
      "CPU times: user 4 µs, sys: 0 ns, total: 4 µs\n",
      "Wall time: 7.15 µs\n"
     ]
    }
   ],
   "source": [
    "%%time\n",
    "def wordnet_tokenize(doc):\n",
    "    wordnet = WordNetLemmatizer()\n",
    "    return  [wordnet.lemmatize(word) for word in word_tokenize(doc.lower())]"
   ]
  },
  {
   "cell_type": "code",
   "execution_count": 30,
   "metadata": {},
   "outputs": [
    {
     "name": "stdout",
     "output_type": "stream",
     "text": [
      "CPU times: user 9.24 ms, sys: 2.26 ms, total: 11.5 ms\n",
      "Wall time: 10.9 ms\n"
     ]
    }
   ],
   "source": [
    "%%time\n",
    "df = data.copy()"
   ]
  },
  {
   "cell_type": "code",
   "execution_count": 38,
   "metadata": {},
   "outputs": [],
   "source": [
    "documents = list(df.text)"
   ]
  },
  {
   "cell_type": "code",
   "execution_count": 110,
   "metadata": {},
   "outputs": [],
   "source": [
    "sample = documents[0]"
   ]
  },
  {
   "cell_type": "code",
   "execution_count": 111,
   "metadata": {},
   "outputs": [
    {
     "data": {
      "text/plain": [
       "str"
      ]
     },
     "execution_count": 111,
     "metadata": {},
     "output_type": "execute_result"
    }
   ],
   "source": [
    "type(sample)"
   ]
  },
  {
   "cell_type": "code",
   "execution_count": null,
   "metadata": {},
   "outputs": [],
   "source": []
  },
  {
   "cell_type": "markdown",
   "metadata": {},
   "source": [
    "# fix contractions"
   ]
  },
  {
   "cell_type": "code",
   "execution_count": 50,
   "metadata": {},
   "outputs": [],
   "source": [
    "CONTRACTION_MAP = {\n",
    "\"ain't\": \"is not\",\n",
    "\"aren't\": \"are not\",\n",
    "\"can't\": \"cannot\",\n",
    "\"can't've\": \"cannot have\",\n",
    "\"'cause\": \"because\",\n",
    "\"could've\": \"could have\",\n",
    "\"couldn't\": \"could not\",\n",
    "\"couldn't've\": \"could not have\",\n",
    "\"didn't\": \"did not\",\n",
    "\"doesn't\": \"does not\",\n",
    "\"don't\": \"do not\",\n",
    "\"hadn't\": \"had not\",\n",
    "\"hadn't've\": \"had not have\",\n",
    "\"hasn't\": \"has not\",\n",
    "\"haven't\": \"have not\",\n",
    "\"he'd\": \"he would\",\n",
    "\"he'd've\": \"he would have\",\n",
    "\"he'll\": \"he will\",\n",
    "\"he'll've\": \"he he will have\",\n",
    "\"he's\": \"he is\",\n",
    "\"how'd\": \"how did\",\n",
    "\"how'd'y\": \"how do you\",\n",
    "\"how'll\": \"how will\",\n",
    "\"how's\": \"how is\",\n",
    "\"I'd\": \"I would\",\n",
    "\"I'd've\": \"I would have\",\n",
    "\"I'll\": \"I will\",\n",
    "\"I'll've\": \"I will have\",\n",
    "\"I'm\": \"I am\",\n",
    "\"I've\": \"I have\",\n",
    "\"i'd\": \"i would\",\n",
    "\"i'd've\": \"i would have\",\n",
    "\"i'll\": \"i will\",\n",
    "\"i'll've\": \"i will have\",\n",
    "\"i'm\": \"i am\",\n",
    "\"i've\": \"i have\",\n",
    "\"isn't\": \"is not\",\n",
    "\"it'd\": \"it would\",\n",
    "\"it'd've\": \"it would have\",\n",
    "\"it'll\": \"it will\",\n",
    "\"it'll've\": \"it will have\",\n",
    "\"it's\": \"it is\",\n",
    "\"let's\": \"let us\",\n",
    "\"ma'am\": \"madam\",\n",
    "\"mayn't\": \"may not\",\n",
    "\"might've\": \"might have\",\n",
    "\"mightn't\": \"might not\",\n",
    "\"mightn't've\": \"might not have\",\n",
    "\"must've\": \"must have\",\n",
    "\"mustn't\": \"must not\",\n",
    "\"mustn't've\": \"must not have\",\n",
    "\"needn't\": \"need not\",\n",
    "\"needn't've\": \"need not have\",\n",
    "\"o'clock\": \"of the clock\",\n",
    "\"oughtn't\": \"ought not\",\n",
    "\"oughtn't've\": \"ought not have\",\n",
    "\"shan't\": \"shall not\",\n",
    "\"sha'n't\": \"shall not\",\n",
    "\"shan't've\": \"shall not have\",\n",
    "\"she'd\": \"she would\",\n",
    "\"she'd've\": \"she would have\",\n",
    "\"she'll\": \"she will\",\n",
    "\"she'll've\": \"she will have\",\n",
    "\"she's\": \"she is\",\n",
    "\"should've\": \"should have\",\n",
    "\"shouldn't\": \"should not\",\n",
    "\"shouldn't've\": \"should not have\",\n",
    "\"so've\": \"so have\",\n",
    "\"so's\": \"so as\",\n",
    "\"that'd\": \"that would\",\n",
    "\"that'd've\": \"that would have\",\n",
    "\"that's\": \"that is\",\n",
    "\"there'd\": \"there would\",\n",
    "\"there'd've\": \"there would have\",\n",
    "\"there's\": \"there is\",\n",
    "\"they'd\": \"they would\",\n",
    "\"they'd've\": \"they would have\",\n",
    "\"they'll\": \"they will\",\n",
    "\"they'll've\": \"they will have\",\n",
    "\"they're\": \"they are\",\n",
    "\"they've\": \"they have\",\n",
    "\"to've\": \"to have\",\n",
    "\"wasn't\": \"was not\",\n",
    "\"we'd\": \"we would\",\n",
    "\"we'd've\": \"we would have\",\n",
    "\"we'll\": \"we will\",\n",
    "\"we'll've\": \"we will have\",\n",
    "\"we're\": \"we are\",\n",
    "\"we've\": \"we have\",\n",
    "\"weren't\": \"were not\",\n",
    "\"what'll\": \"what will\",\n",
    "\"what'll've\": \"what will have\",\n",
    "\"what're\": \"what are\",\n",
    "\"what's\": \"what is\",\n",
    "\"what've\": \"what have\",\n",
    "\"when's\": \"when is\",\n",
    "\"when've\": \"when have\",\n",
    "\"where'd\": \"where did\",\n",
    "\"where's\": \"where is\",\n",
    "\"where've\": \"where have\",\n",
    "\"who'll\": \"who will\",\n",
    "\"who'll've\": \"who will have\",\n",
    "\"who's\": \"who is\",\n",
    "\"who've\": \"who have\",\n",
    "\"why's\": \"why is\",\n",
    "\"why've\": \"why have\",\n",
    "\"will've\": \"will have\",\n",
    "\"won't\": \"will not\",\n",
    "\"won't've\": \"will not have\",\n",
    "\"would've\": \"would have\",\n",
    "\"wouldn't\": \"would not\",\n",
    "\"wouldn't've\": \"would not have\",\n",
    "\"y'all\": \"you all\",\n",
    "\"y'all'd\": \"you all would\",\n",
    "\"y'all'd've\": \"you all would have\",\n",
    "\"y'all're\": \"you all are\",\n",
    "\"y'all've\": \"you all have\",\n",
    "\"you'd\": \"you would\",\n",
    "\"you'd've\": \"you would have\",\n",
    "\"you'll\": \"you will\",\n",
    "\"you'll've\": \"you will have\",\n",
    "\"you're\": \"you are\",\n",
    "\"you've\": \"you have\"\n",
    "}"
   ]
  },
  {
   "cell_type": "code",
   "execution_count": 55,
   "metadata": {},
   "outputs": [],
   "source": [
    "def expand_contractions(text, contraction_mapping=CONTRACTION_MAP):\n",
    "    \n",
    "    contractions_pattern = re.compile('({})'.format('|'.join(contraction_mapping.keys())), \n",
    "                                      flags=re.IGNORECASE|re.DOTALL)\n",
    "    def expand_match(contraction):\n",
    "        match = contraction.group(0)\n",
    "        first_char = match[0]\n",
    "        expanded_contraction = contraction_mapping.get(match)\\\n",
    "                                if contraction_mapping.get(match)\\\n",
    "                                else contraction_mapping.get(match.lower())                       \n",
    "        expanded_contraction = first_char+expanded_contraction[1:]\n",
    "        return expanded_contraction\n",
    "        \n",
    "    expanded_text = contractions_pattern.sub(expand_match, text)\n",
    "    expanded_text = re.sub(\"'\", \"\", expanded_text)\n",
    "    return expanded_text"
   ]
  },
  {
   "cell_type": "code",
   "execution_count": 56,
   "metadata": {},
   "outputs": [],
   "source": [
    "document = expand_contractions(document)"
   ]
  },
  {
   "cell_type": "code",
   "execution_count": 60,
   "metadata": {},
   "outputs": [
    {
     "data": {
      "text/plain": [
       "True"
      ]
     },
     "execution_count": 60,
     "metadata": {},
     "output_type": "execute_result"
    }
   ],
   "source": [
    "\"’\" == \"’\""
   ]
  },
  {
   "cell_type": "code",
   "execution_count": 57,
   "metadata": {},
   "outputs": [
    {
     "data": {
      "text/plain": [
       "'WASHINGTON — Federal prosecutors rebuffed a judge’s order to release by Friday highly classified transcripts of discussions that Michael T. Flynn, the president’s former national security adviser, had with the Russian ambassador during the presidential transition.The transcripts between Mr. Flynn and Sergey I. Kislyak, formerly Russia’s top diplomat in the United States, were expected to show that they talked in December 2016 about sanctions that the Obama administration had just imposed on Russia. Mr. Flynn initially denied those exchanges about sanctions both to Trump administration officials and the F.B.I. in the weeks after the discussions.The conversations prompted concerns among senior Obama administration officials about whether the Trump transition team was flouting norms about holding off on making policy until after taking office. The phone calls were also at the center of the scandal that eventually prompted Mr. Flynn’s ouster just weeks into President Trump’s term.The order last month from the judge, Emmet G. Sullivan of the Federal District Court in the District of Columbia, was unusual. The transcripts came from a secret F.B.I. wiretap of Mr. Kislyak, and their release would have provided an extraordinarily rare look at the fruits of the government’s eavesdropping. Agents routinely listen to wiretaps of foreign officials, but they remain among the government’s most closely held secrets.The calls between Mr. Flynn and Mr. Kislyak were referenced repeatedly in court documents and the special counsel’s report on Russian election interference but never released, and prosecutors have not acknowledged the existence of the wiretap. Judge Sullivan, who is overseeing Mr. Flynn’s case, ordered that audio recordings of his conversations with Mr. Kislyak be made public along with a voice mail message made by the president’s lawyer.The Justice Department’s refusal to comply with the judge’s order made clear that prosecutors had no interest in confirming the wiretap, which was approved by the secretive Foreign Intelligence Surveillance Court.“This would be a rare step to make public” such intelligence collection, said Joshua Geltzer, a former Justice Department official. “What you see in today’s filing is the government trying to avoid disclosing that material.”Instead, prosecutors asserted that they did not need to provide the transcripts because they were, in the end, not vital to the prosecution of Mr. Flynn. He pleaded guilty in December 2017 to lying to the F.B.I. after agents interviewed him about what was said on those calls.“The government further represents that it is not relying on any other recordings, of any person, for purposes of establishing the defendant’s guilt or determining his sentence, nor are there any other recordings that are part of the sentencing record,” prosecutors wrote in a court filing responding to Judge Sullivan’s order.In another filing on Friday, prosecutors did comply with Judge Sullivan’s order to make public the message that Mr. Trump’s former personal lawyer John Dowd left for Mr. Flynn’s lawyer, Robert K. Kelner. Mr. Dowd left the message after learning on Nov. 22, 2017, that Mr. Flynn had withdrawn from a joint defense agreement with the president. The contents of that voice mail were first disclosed in April in Mr. Mueller’s report.In a statement, Mr. Dowd called the special counsel’s report “a baseless, political document designed to smear and damage the reputation of counsel and innocent people.” He also said that Mr. Mueller never asked him about the voice mail “despite numerous opportunities to do so.”Mr. Flynn’s calls with Mr. Kislyak took place after the Obama administration had imposed sanctions on Moscow for interfering in the 2016 presidential election. The sanctions alarmed Trump transition officials, who were hoping to improve relations with the Russian government.Mr. Flynn had asked Mr. Kislyak that Russia refrain from escalating tensions in response to the Obama administration’s sanctions on Moscow for interfering in the 2016 election.When questioned by the F.B.I. on Jan. 24, 2017, Mr. Flynn told agents that he had not made that request. He also lied about discussing Russia’s vote on an impending United Nations resolution to condemn Israeli settlements in the West Bank. He has since admitted that he asked that Russia either delay or oppose the resolution.“F.B.I. agents gave the defendant multiple opportunities to correct his false statements by revisiting key questions,” prosecutors wrote in a sentencing memo in December. “When the defendant said he did not remember something they knew he said, they used the exact words the defendant had used in order to prompt a truthful response.”In early February 2017, White House officials reviewed for about an hour the transcripts of calls between Mr. Flynn and Mr. Kislyak, according to a confidential memo by White House lawyers that detailed how some of Mr. Trump’s advisers confronted the situation surrounding Mr. Flynn. Vice President Mike Pence reviewed at least some portions of the transcripts, according to the memo.Mr. Trump fired Mr. Flynn that month after administration officials concluded based on their review of the transcripts that he had been untruthful to Mr. Pence and other officials about the substance of his talks with Mr. Kislyak.Mr. Flynn’s supporters and the White House have tried to play down his actions, suggesting that investigators entrapped him or that his body language during the interview with agents showed he was not lying.Judge Sullivan rebuked Mr. Flynn for his conduct and raised concerns that Mr. Flynn’s lawyers were suggesting in presentencing memos that the F.B.I. agents who questioned him may have tricked him by failing to warn that lying to investigators was a crime.“This sounds like a backpedaling on the acceptance of responsibility,” Judge Sullivan said during Mr. Flynn’s sentencing hearing in December. The judge delayed the proceeding to give Mr. Flynn time to complete his cooperation with investigators in other federal cases.The judge said during that hearing that he found no fault with the conduct of the F.B.I. or prosecutors, and Mr. Flynn admitted that he knew at the time that agents questioned him that lying to the F.B.I. is a crime, and he once again acknowledged his guilt. Mr. Flynn also declined to challenge the circumstances surrounding the F.B.I. interview.'"
      ]
     },
     "execution_count": 57,
     "metadata": {},
     "output_type": "execute_result"
    }
   ],
   "source": [
    "document"
   ]
  },
  {
   "cell_type": "markdown",
   "metadata": {},
   "source": [
    "# stemming/lemmatization"
   ]
  },
  {
   "cell_type": "code",
   "execution_count": 30,
   "metadata": {},
   "outputs": [],
   "source": [
    "document = df.text.iloc[0]"
   ]
  },
  {
   "cell_type": "code",
   "execution_count": 22,
   "metadata": {},
   "outputs": [],
   "source": [
    "snowball = SnowballStemmer('english')\n",
    "wordnet = WordNetLemmatizer()"
   ]
  },
  {
   "cell_type": "code",
   "execution_count": 23,
   "metadata": {},
   "outputs": [
    {
     "name": "stdout",
     "output_type": "stream",
     "text": [
      "CPU times: user 3 µs, sys: 1e+03 ns, total: 4 µs\n",
      "Wall time: 6.91 µs\n"
     ]
    }
   ],
   "source": [
    "%%time\n",
    "def snowball_tokenize(doc):\n",
    "    snowball = SnowballStemmer('english')\n",
    "    return [snowball.stem(word) for word in word_tokenize(doc.lower())]"
   ]
  },
  {
   "cell_type": "code",
   "execution_count": 24,
   "metadata": {},
   "outputs": [
    {
     "name": "stdout",
     "output_type": "stream",
     "text": [
      "CPU times: user 3 µs, sys: 0 ns, total: 3 µs\n",
      "Wall time: 7.15 µs\n"
     ]
    }
   ],
   "source": [
    "%%time\n",
    "def wordnet_tokenize(doc):\n",
    "    wordnet = WordNetLemmatizer()\n",
    "    return  [wordnet.lemmatize(word) for word in word_tokenize(doc.lower())]"
   ]
  },
  {
   "cell_type": "code",
   "execution_count": 25,
   "metadata": {},
   "outputs": [],
   "source": [
    "test = word_tokenize(document.lower())"
   ]
  },
  {
   "cell_type": "code",
   "execution_count": 37,
   "metadata": {},
   "outputs": [],
   "source": [
    "#document.lower()"
   ]
  },
  {
   "cell_type": "code",
   "execution_count": 42,
   "metadata": {},
   "outputs": [],
   "source": [
    "document = df.text.iloc[0]"
   ]
  },
  {
   "cell_type": "code",
   "execution_count": 44,
   "metadata": {},
   "outputs": [
    {
     "data": {
      "text/plain": [
       "['washington',\n",
       " '—',\n",
       " 'feder',\n",
       " 'prosecutor',\n",
       " 'rebuf',\n",
       " 'a',\n",
       " 'judg',\n",
       " '’',\n",
       " 's',\n",
       " 'order',\n",
       " 'to',\n",
       " 'releas',\n",
       " 'by',\n",
       " 'friday',\n",
       " 'high',\n",
       " 'classifi',\n",
       " 'transcript',\n",
       " 'of',\n",
       " 'discuss',\n",
       " 'that',\n",
       " 'michael',\n",
       " 't.',\n",
       " 'flynn',\n",
       " ',',\n",
       " 'the',\n",
       " 'presid',\n",
       " '’',\n",
       " 's',\n",
       " 'former',\n",
       " 'nation',\n",
       " 'secur',\n",
       " 'advis',\n",
       " ',',\n",
       " 'had',\n",
       " 'with',\n",
       " 'the',\n",
       " 'russian',\n",
       " 'ambassador',\n",
       " 'dure',\n",
       " 'the',\n",
       " 'presidenti',\n",
       " 'transition.th',\n",
       " 'transcript',\n",
       " 'between',\n",
       " 'mr.',\n",
       " 'flynn',\n",
       " 'and',\n",
       " 'sergey',\n",
       " 'i.',\n",
       " 'kislyak',\n",
       " ',',\n",
       " 'former',\n",
       " 'russia',\n",
       " '’',\n",
       " 's',\n",
       " 'top',\n",
       " 'diplomat',\n",
       " 'in',\n",
       " 'the',\n",
       " 'unit',\n",
       " 'state',\n",
       " ',',\n",
       " 'were',\n",
       " 'expect',\n",
       " 'to',\n",
       " 'show',\n",
       " 'that',\n",
       " 'they',\n",
       " 'talk',\n",
       " 'in',\n",
       " 'decemb',\n",
       " '2016',\n",
       " 'about',\n",
       " 'sanction',\n",
       " 'that',\n",
       " 'the',\n",
       " 'obama',\n",
       " 'administr',\n",
       " 'had',\n",
       " 'just',\n",
       " 'impos',\n",
       " 'on',\n",
       " 'russia',\n",
       " '.',\n",
       " 'mr.',\n",
       " 'flynn',\n",
       " 'initi',\n",
       " 'deni',\n",
       " 'those',\n",
       " 'exchang',\n",
       " 'about',\n",
       " 'sanction',\n",
       " 'both',\n",
       " 'to',\n",
       " 'trump',\n",
       " 'administr',\n",
       " 'offici',\n",
       " 'and',\n",
       " 'the',\n",
       " 'f.b.i',\n",
       " '.',\n",
       " 'in',\n",
       " 'the',\n",
       " 'week',\n",
       " 'after',\n",
       " 'the',\n",
       " 'discussions.th',\n",
       " 'convers',\n",
       " 'prompt',\n",
       " 'concern',\n",
       " 'among',\n",
       " 'senior',\n",
       " 'obama',\n",
       " 'administr',\n",
       " 'offici',\n",
       " 'about',\n",
       " 'whether',\n",
       " 'the',\n",
       " 'trump',\n",
       " 'transit',\n",
       " 'team',\n",
       " 'was',\n",
       " 'flout',\n",
       " 'norm',\n",
       " 'about',\n",
       " 'hold',\n",
       " 'off',\n",
       " 'on',\n",
       " 'make',\n",
       " 'polici',\n",
       " 'until',\n",
       " 'after',\n",
       " 'take',\n",
       " 'offic',\n",
       " '.',\n",
       " 'the',\n",
       " 'phone',\n",
       " 'call',\n",
       " 'were',\n",
       " 'also',\n",
       " 'at',\n",
       " 'the',\n",
       " 'center',\n",
       " 'of',\n",
       " 'the',\n",
       " 'scandal',\n",
       " 'that',\n",
       " 'eventu',\n",
       " 'prompt',\n",
       " 'mr.',\n",
       " 'flynn',\n",
       " '’',\n",
       " 's',\n",
       " 'ouster',\n",
       " 'just',\n",
       " 'week',\n",
       " 'into',\n",
       " 'presid',\n",
       " 'trump',\n",
       " '’',\n",
       " 's',\n",
       " 'term.th',\n",
       " 'order',\n",
       " 'last',\n",
       " 'month',\n",
       " 'from',\n",
       " 'the',\n",
       " 'judg',\n",
       " ',',\n",
       " 'emmet',\n",
       " 'g.',\n",
       " 'sullivan',\n",
       " 'of',\n",
       " 'the',\n",
       " 'feder',\n",
       " 'district',\n",
       " 'court',\n",
       " 'in',\n",
       " 'the',\n",
       " 'district',\n",
       " 'of',\n",
       " 'columbia',\n",
       " ',',\n",
       " 'was',\n",
       " 'unusu',\n",
       " '.',\n",
       " 'the',\n",
       " 'transcript',\n",
       " 'came',\n",
       " 'from',\n",
       " 'a',\n",
       " 'secret',\n",
       " 'f.b.i',\n",
       " '.',\n",
       " 'wiretap',\n",
       " 'of',\n",
       " 'mr.',\n",
       " 'kislyak',\n",
       " ',',\n",
       " 'and',\n",
       " 'their',\n",
       " 'releas',\n",
       " 'would',\n",
       " 'have',\n",
       " 'provid',\n",
       " 'an',\n",
       " 'extraordinarili',\n",
       " 'rare',\n",
       " 'look',\n",
       " 'at',\n",
       " 'the',\n",
       " 'fruit',\n",
       " 'of',\n",
       " 'the',\n",
       " 'govern',\n",
       " '’',\n",
       " 's',\n",
       " 'eavesdrop',\n",
       " '.',\n",
       " 'agent',\n",
       " 'routin',\n",
       " 'listen',\n",
       " 'to',\n",
       " 'wiretap',\n",
       " 'of',\n",
       " 'foreign',\n",
       " 'offici',\n",
       " ',',\n",
       " 'but',\n",
       " 'they',\n",
       " 'remain',\n",
       " 'among',\n",
       " 'the',\n",
       " 'govern',\n",
       " '’',\n",
       " 's',\n",
       " 'most',\n",
       " 'close',\n",
       " 'held',\n",
       " 'secrets.th',\n",
       " 'call',\n",
       " 'between',\n",
       " 'mr.',\n",
       " 'flynn',\n",
       " 'and',\n",
       " 'mr.',\n",
       " 'kislyak',\n",
       " 'were',\n",
       " 'referenc',\n",
       " 'repeat',\n",
       " 'in',\n",
       " 'court',\n",
       " 'document',\n",
       " 'and',\n",
       " 'the',\n",
       " 'special',\n",
       " 'counsel',\n",
       " '’',\n",
       " 's',\n",
       " 'report',\n",
       " 'on',\n",
       " 'russian',\n",
       " 'elect',\n",
       " 'interfer',\n",
       " 'but',\n",
       " 'never',\n",
       " 'releas',\n",
       " ',',\n",
       " 'and',\n",
       " 'prosecutor',\n",
       " 'have',\n",
       " 'not',\n",
       " 'acknowledg',\n",
       " 'the',\n",
       " 'exist',\n",
       " 'of',\n",
       " 'the',\n",
       " 'wiretap',\n",
       " '.',\n",
       " 'judg',\n",
       " 'sullivan',\n",
       " ',',\n",
       " 'who',\n",
       " 'is',\n",
       " 'overse',\n",
       " 'mr.',\n",
       " 'flynn',\n",
       " '’',\n",
       " 's',\n",
       " 'case',\n",
       " ',',\n",
       " 'order',\n",
       " 'that',\n",
       " 'audio',\n",
       " 'record',\n",
       " 'of',\n",
       " 'his',\n",
       " 'convers',\n",
       " 'with',\n",
       " 'mr.',\n",
       " 'kislyak',\n",
       " 'be',\n",
       " 'made',\n",
       " 'public',\n",
       " 'along',\n",
       " 'with',\n",
       " 'a',\n",
       " 'voic',\n",
       " 'mail',\n",
       " 'messag',\n",
       " 'made',\n",
       " 'by',\n",
       " 'the',\n",
       " 'presid',\n",
       " '’',\n",
       " 's',\n",
       " 'lawyer.th',\n",
       " 'justic',\n",
       " 'depart',\n",
       " '’',\n",
       " 's',\n",
       " 'refus',\n",
       " 'to',\n",
       " 'compli',\n",
       " 'with',\n",
       " 'the',\n",
       " 'judg',\n",
       " '’',\n",
       " 's',\n",
       " 'order',\n",
       " 'made',\n",
       " 'clear',\n",
       " 'that',\n",
       " 'prosecutor',\n",
       " 'had',\n",
       " 'no',\n",
       " 'interest',\n",
       " 'in',\n",
       " 'confirm',\n",
       " 'the',\n",
       " 'wiretap',\n",
       " ',',\n",
       " 'which',\n",
       " 'was',\n",
       " 'approv',\n",
       " 'by',\n",
       " 'the',\n",
       " 'secret',\n",
       " 'foreign',\n",
       " 'intellig',\n",
       " 'surveil',\n",
       " 'court.',\n",
       " '“',\n",
       " 'this',\n",
       " 'would',\n",
       " 'be',\n",
       " 'a',\n",
       " 'rare',\n",
       " 'step',\n",
       " 'to',\n",
       " 'make',\n",
       " 'public',\n",
       " '”',\n",
       " 'such',\n",
       " 'intellig',\n",
       " 'collect',\n",
       " ',',\n",
       " 'said',\n",
       " 'joshua',\n",
       " 'geltzer',\n",
       " ',',\n",
       " 'a',\n",
       " 'former',\n",
       " 'justic',\n",
       " 'depart',\n",
       " 'offici',\n",
       " '.',\n",
       " '“',\n",
       " 'what',\n",
       " 'you',\n",
       " 'see',\n",
       " 'in',\n",
       " 'today',\n",
       " '’',\n",
       " 's',\n",
       " 'file',\n",
       " 'is',\n",
       " 'the',\n",
       " 'govern',\n",
       " 'tri',\n",
       " 'to',\n",
       " 'avoid',\n",
       " 'disclos',\n",
       " 'that',\n",
       " 'material.',\n",
       " '”',\n",
       " 'instead',\n",
       " ',',\n",
       " 'prosecutor',\n",
       " 'assert',\n",
       " 'that',\n",
       " 'they',\n",
       " 'did',\n",
       " 'not',\n",
       " 'need',\n",
       " 'to',\n",
       " 'provid',\n",
       " 'the',\n",
       " 'transcript',\n",
       " 'becaus',\n",
       " 'they',\n",
       " 'were',\n",
       " ',',\n",
       " 'in',\n",
       " 'the',\n",
       " 'end',\n",
       " ',',\n",
       " 'not',\n",
       " 'vital',\n",
       " 'to',\n",
       " 'the',\n",
       " 'prosecut',\n",
       " 'of',\n",
       " 'mr.',\n",
       " 'flynn',\n",
       " '.',\n",
       " 'he',\n",
       " 'plead',\n",
       " 'guilti',\n",
       " 'in',\n",
       " 'decemb',\n",
       " '2017',\n",
       " 'to',\n",
       " 'lie',\n",
       " 'to',\n",
       " 'the',\n",
       " 'f.b.i',\n",
       " '.',\n",
       " 'after',\n",
       " 'agent',\n",
       " 'interview',\n",
       " 'him',\n",
       " 'about',\n",
       " 'what',\n",
       " 'was',\n",
       " 'said',\n",
       " 'on',\n",
       " 'those',\n",
       " 'calls.',\n",
       " '“',\n",
       " 'the',\n",
       " 'govern',\n",
       " 'further',\n",
       " 'repres',\n",
       " 'that',\n",
       " 'it',\n",
       " 'is',\n",
       " 'not',\n",
       " 'reli',\n",
       " 'on',\n",
       " 'ani',\n",
       " 'other',\n",
       " 'record',\n",
       " ',',\n",
       " 'of',\n",
       " 'ani',\n",
       " 'person',\n",
       " ',',\n",
       " 'for',\n",
       " 'purpos',\n",
       " 'of',\n",
       " 'establish',\n",
       " 'the',\n",
       " 'defend',\n",
       " '’',\n",
       " 's',\n",
       " 'guilt',\n",
       " 'or',\n",
       " 'determin',\n",
       " 'his',\n",
       " 'sentenc',\n",
       " ',',\n",
       " 'nor',\n",
       " 'are',\n",
       " 'there',\n",
       " 'ani',\n",
       " 'other',\n",
       " 'record',\n",
       " 'that',\n",
       " 'are',\n",
       " 'part',\n",
       " 'of',\n",
       " 'the',\n",
       " 'sentenc',\n",
       " 'record',\n",
       " ',',\n",
       " '”',\n",
       " 'prosecutor',\n",
       " 'wrote',\n",
       " 'in',\n",
       " 'a',\n",
       " 'court',\n",
       " 'file',\n",
       " 'respond',\n",
       " 'to',\n",
       " 'judg',\n",
       " 'sullivan',\n",
       " '’',\n",
       " 's',\n",
       " 'order.in',\n",
       " 'anoth',\n",
       " 'file',\n",
       " 'on',\n",
       " 'friday',\n",
       " ',',\n",
       " 'prosecutor',\n",
       " 'did',\n",
       " 'compli',\n",
       " 'with',\n",
       " 'judg',\n",
       " 'sullivan',\n",
       " '’',\n",
       " 's',\n",
       " 'order',\n",
       " 'to',\n",
       " 'make',\n",
       " 'public',\n",
       " 'the',\n",
       " 'messag',\n",
       " 'that',\n",
       " 'mr.',\n",
       " 'trump',\n",
       " '’',\n",
       " 's',\n",
       " 'former',\n",
       " 'person',\n",
       " 'lawyer',\n",
       " 'john',\n",
       " 'dowd',\n",
       " 'left',\n",
       " 'for',\n",
       " 'mr.',\n",
       " 'flynn',\n",
       " '’',\n",
       " 's',\n",
       " 'lawyer',\n",
       " ',',\n",
       " 'robert',\n",
       " 'k.',\n",
       " 'kelner',\n",
       " '.',\n",
       " 'mr.',\n",
       " 'dowd',\n",
       " 'left',\n",
       " 'the',\n",
       " 'messag',\n",
       " 'after',\n",
       " 'learn',\n",
       " 'on',\n",
       " 'nov.',\n",
       " '22',\n",
       " ',',\n",
       " '2017',\n",
       " ',',\n",
       " 'that',\n",
       " 'mr.',\n",
       " 'flynn',\n",
       " 'had',\n",
       " 'withdrawn',\n",
       " 'from',\n",
       " 'a',\n",
       " 'joint',\n",
       " 'defens',\n",
       " 'agreement',\n",
       " 'with',\n",
       " 'the',\n",
       " 'presid',\n",
       " '.',\n",
       " 'the',\n",
       " 'content',\n",
       " 'of',\n",
       " 'that',\n",
       " 'voic',\n",
       " 'mail',\n",
       " 'were',\n",
       " 'first',\n",
       " 'disclos',\n",
       " 'in',\n",
       " 'april',\n",
       " 'in',\n",
       " 'mr.',\n",
       " 'mueller',\n",
       " '’',\n",
       " 's',\n",
       " 'report.in',\n",
       " 'a',\n",
       " 'statement',\n",
       " ',',\n",
       " 'mr.',\n",
       " 'dowd',\n",
       " 'call',\n",
       " 'the',\n",
       " 'special',\n",
       " 'counsel',\n",
       " '’',\n",
       " 's',\n",
       " 'report',\n",
       " '“',\n",
       " 'a',\n",
       " 'baseless',\n",
       " ',',\n",
       " 'polit',\n",
       " 'document',\n",
       " 'design',\n",
       " 'to',\n",
       " 'smear',\n",
       " 'and',\n",
       " 'damag',\n",
       " 'the',\n",
       " 'reput',\n",
       " 'of',\n",
       " 'counsel',\n",
       " 'and',\n",
       " 'innoc',\n",
       " 'people.',\n",
       " '”',\n",
       " 'he',\n",
       " 'also',\n",
       " 'said',\n",
       " 'that',\n",
       " 'mr.',\n",
       " 'mueller',\n",
       " 'never',\n",
       " 'ask',\n",
       " 'him',\n",
       " 'about',\n",
       " 'the',\n",
       " 'voic',\n",
       " 'mail',\n",
       " '“',\n",
       " 'despit',\n",
       " 'numer',\n",
       " 'opportun',\n",
       " 'to',\n",
       " 'do',\n",
       " 'so.',\n",
       " '”',\n",
       " 'mr',\n",
       " '.',\n",
       " 'flynn',\n",
       " '’',\n",
       " 's',\n",
       " 'call',\n",
       " 'with',\n",
       " 'mr.',\n",
       " 'kislyak',\n",
       " 'took',\n",
       " 'place',\n",
       " 'after',\n",
       " 'the',\n",
       " 'obama',\n",
       " 'administr',\n",
       " 'had',\n",
       " 'impos',\n",
       " 'sanction',\n",
       " 'on',\n",
       " 'moscow',\n",
       " 'for',\n",
       " 'interf',\n",
       " 'in',\n",
       " 'the',\n",
       " '2016',\n",
       " 'presidenti',\n",
       " 'elect',\n",
       " '.',\n",
       " 'the',\n",
       " 'sanction',\n",
       " 'alarm',\n",
       " 'trump',\n",
       " 'transit',\n",
       " 'offici',\n",
       " ',',\n",
       " 'who',\n",
       " 'were',\n",
       " 'hope',\n",
       " 'to',\n",
       " 'improv',\n",
       " 'relat',\n",
       " 'with',\n",
       " 'the',\n",
       " 'russian',\n",
       " 'government.mr',\n",
       " '.',\n",
       " 'flynn',\n",
       " 'had',\n",
       " 'ask',\n",
       " 'mr.',\n",
       " 'kislyak',\n",
       " 'that',\n",
       " 'russia',\n",
       " 'refrain',\n",
       " 'from',\n",
       " 'escal',\n",
       " 'tension',\n",
       " 'in',\n",
       " 'respons',\n",
       " 'to',\n",
       " 'the',\n",
       " 'obama',\n",
       " 'administr',\n",
       " '’',\n",
       " 's',\n",
       " 'sanction',\n",
       " 'on',\n",
       " 'moscow',\n",
       " 'for',\n",
       " 'interf',\n",
       " 'in',\n",
       " 'the',\n",
       " '2016',\n",
       " 'election.when',\n",
       " 'question',\n",
       " 'by',\n",
       " 'the',\n",
       " 'f.b.i',\n",
       " '.',\n",
       " 'on',\n",
       " 'jan.',\n",
       " '24',\n",
       " ',',\n",
       " '2017',\n",
       " ',',\n",
       " 'mr.',\n",
       " 'flynn',\n",
       " 'told',\n",
       " 'agent',\n",
       " 'that',\n",
       " 'he',\n",
       " 'had',\n",
       " 'not',\n",
       " 'made',\n",
       " 'that',\n",
       " 'request',\n",
       " '.',\n",
       " 'he',\n",
       " 'also',\n",
       " 'lie',\n",
       " 'about',\n",
       " 'discuss',\n",
       " 'russia',\n",
       " '’',\n",
       " 's',\n",
       " 'vote',\n",
       " 'on',\n",
       " 'an',\n",
       " 'impend',\n",
       " 'unit',\n",
       " 'nation',\n",
       " 'resolut',\n",
       " 'to',\n",
       " 'condemn',\n",
       " 'isra',\n",
       " 'settlement',\n",
       " 'in',\n",
       " 'the',\n",
       " 'west',\n",
       " 'bank',\n",
       " '.',\n",
       " 'he',\n",
       " 'has',\n",
       " 'sinc',\n",
       " 'admit',\n",
       " 'that',\n",
       " 'he',\n",
       " 'ask',\n",
       " 'that',\n",
       " 'russia',\n",
       " 'either',\n",
       " 'delay',\n",
       " 'or',\n",
       " 'oppos',\n",
       " 'the',\n",
       " 'resolution.',\n",
       " '“',\n",
       " 'f.b.i',\n",
       " '.',\n",
       " 'agent',\n",
       " 'gave',\n",
       " 'the',\n",
       " 'defend',\n",
       " 'multipl',\n",
       " 'opportun',\n",
       " 'to',\n",
       " 'correct',\n",
       " 'his',\n",
       " 'fals',\n",
       " 'statement',\n",
       " 'by',\n",
       " 'revisit',\n",
       " 'key',\n",
       " 'question',\n",
       " ',',\n",
       " '”',\n",
       " 'prosecutor',\n",
       " 'wrote',\n",
       " 'in',\n",
       " 'a',\n",
       " 'sentenc',\n",
       " 'memo',\n",
       " 'in',\n",
       " 'decemb',\n",
       " '.',\n",
       " '“',\n",
       " 'when',\n",
       " 'the',\n",
       " 'defend',\n",
       " 'said',\n",
       " 'he',\n",
       " 'did',\n",
       " 'not',\n",
       " 'rememb',\n",
       " 'someth',\n",
       " 'they',\n",
       " 'knew',\n",
       " 'he',\n",
       " 'said',\n",
       " ',',\n",
       " 'they',\n",
       " 'use',\n",
       " 'the',\n",
       " 'exact',\n",
       " 'word',\n",
       " 'the',\n",
       " 'defend',\n",
       " 'had',\n",
       " 'use',\n",
       " 'in',\n",
       " 'order',\n",
       " 'to',\n",
       " 'prompt',\n",
       " 'a',\n",
       " 'truth',\n",
       " 'response.',\n",
       " '”',\n",
       " 'in',\n",
       " 'earli',\n",
       " 'februari',\n",
       " '2017',\n",
       " ',',\n",
       " 'white',\n",
       " 'hous',\n",
       " 'offici',\n",
       " 'review',\n",
       " 'for',\n",
       " 'about',\n",
       " 'an',\n",
       " 'hour',\n",
       " 'the',\n",
       " 'transcript',\n",
       " 'of',\n",
       " 'call',\n",
       " 'between',\n",
       " 'mr.',\n",
       " 'flynn',\n",
       " 'and',\n",
       " 'mr.',\n",
       " 'kislyak',\n",
       " ',',\n",
       " 'accord',\n",
       " 'to',\n",
       " 'a',\n",
       " 'confidenti',\n",
       " 'memo',\n",
       " 'by',\n",
       " 'white',\n",
       " 'hous',\n",
       " 'lawyer',\n",
       " 'that',\n",
       " 'detail',\n",
       " 'how',\n",
       " 'some',\n",
       " 'of',\n",
       " 'mr.',\n",
       " 'trump',\n",
       " '’',\n",
       " 's',\n",
       " 'advis',\n",
       " 'confront',\n",
       " 'the',\n",
       " 'situat',\n",
       " 'surround',\n",
       " 'mr.',\n",
       " 'flynn',\n",
       " '.',\n",
       " 'vice',\n",
       " 'presid',\n",
       " 'mike',\n",
       " 'penc',\n",
       " 'review',\n",
       " 'at',\n",
       " 'least',\n",
       " 'some',\n",
       " 'portion',\n",
       " 'of',\n",
       " 'the',\n",
       " 'transcript',\n",
       " ',',\n",
       " 'accord',\n",
       " 'to',\n",
       " 'the',\n",
       " 'memo.mr',\n",
       " '.',\n",
       " 'trump',\n",
       " 'fire',\n",
       " 'mr.',\n",
       " 'flynn',\n",
       " 'that',\n",
       " 'month',\n",
       " 'after',\n",
       " 'administr',\n",
       " 'offici',\n",
       " 'conclud',\n",
       " 'base',\n",
       " 'on',\n",
       " 'their',\n",
       " 'review',\n",
       " 'of',\n",
       " 'the',\n",
       " 'transcript',\n",
       " 'that',\n",
       " 'he',\n",
       " 'had',\n",
       " 'been',\n",
       " 'untruth',\n",
       " 'to',\n",
       " 'mr.',\n",
       " 'penc',\n",
       " 'and',\n",
       " 'other',\n",
       " 'offici',\n",
       " 'about',\n",
       " 'the',\n",
       " 'substanc',\n",
       " 'of',\n",
       " 'his',\n",
       " 'talk',\n",
       " 'with',\n",
       " 'mr.',\n",
       " 'kislyak.mr',\n",
       " '.',\n",
       " 'flynn',\n",
       " '’',\n",
       " 's',\n",
       " 'support',\n",
       " 'and',\n",
       " 'the',\n",
       " 'white',\n",
       " 'hous',\n",
       " 'have',\n",
       " 'tri',\n",
       " 'to',\n",
       " 'play',\n",
       " 'down',\n",
       " 'his',\n",
       " 'action',\n",
       " ',',\n",
       " 'suggest',\n",
       " 'that',\n",
       " 'investig',\n",
       " 'entrap',\n",
       " 'him',\n",
       " 'or',\n",
       " 'that',\n",
       " 'his',\n",
       " 'bodi',\n",
       " 'languag',\n",
       " 'dure',\n",
       " 'the',\n",
       " 'interview',\n",
       " 'with',\n",
       " 'agent',\n",
       " 'show',\n",
       " 'he',\n",
       " 'was',\n",
       " 'not',\n",
       " 'lying.judg',\n",
       " 'sullivan',\n",
       " 'rebuk',\n",
       " 'mr.',\n",
       " 'flynn',\n",
       " 'for',\n",
       " 'his',\n",
       " 'conduct',\n",
       " 'and',\n",
       " 'rais',\n",
       " 'concern',\n",
       " 'that',\n",
       " 'mr.',\n",
       " 'flynn',\n",
       " '’',\n",
       " ...]"
      ]
     },
     "execution_count": 44,
     "metadata": {},
     "output_type": "execute_result"
    }
   ],
   "source": [
    "document = snowball_tokenize(document)\n",
    "document"
   ]
  },
  {
   "cell_type": "code",
   "execution_count": 39,
   "metadata": {},
   "outputs": [],
   "source": [
    "document = punc_strip(document)\n",
    "document"
   ]
  },
  {
   "cell_type": "code",
   "execution_count": 58,
   "metadata": {},
   "outputs": [],
   "source": [
    "stopword_list = nltk.corpus.stopwords.words('english')"
   ]
  },
  {
   "cell_type": "code",
   "execution_count": 59,
   "metadata": {},
   "outputs": [
    {
     "data": {
      "text/plain": [
       "['i',\n",
       " 'me',\n",
       " 'my',\n",
       " 'myself',\n",
       " 'we',\n",
       " 'our',\n",
       " 'ours',\n",
       " 'ourselves',\n",
       " 'you',\n",
       " \"you're\",\n",
       " \"you've\",\n",
       " \"you'll\",\n",
       " \"you'd\",\n",
       " 'your',\n",
       " 'yours',\n",
       " 'yourself',\n",
       " 'yourselves',\n",
       " 'he',\n",
       " 'him',\n",
       " 'his',\n",
       " 'himself',\n",
       " 'she',\n",
       " \"she's\",\n",
       " 'her',\n",
       " 'hers',\n",
       " 'herself',\n",
       " 'it',\n",
       " \"it's\",\n",
       " 'its',\n",
       " 'itself',\n",
       " 'they',\n",
       " 'them',\n",
       " 'their',\n",
       " 'theirs',\n",
       " 'themselves',\n",
       " 'what',\n",
       " 'which',\n",
       " 'who',\n",
       " 'whom',\n",
       " 'this',\n",
       " 'that',\n",
       " \"that'll\",\n",
       " 'these',\n",
       " 'those',\n",
       " 'am',\n",
       " 'is',\n",
       " 'are',\n",
       " 'was',\n",
       " 'were',\n",
       " 'be',\n",
       " 'been',\n",
       " 'being',\n",
       " 'have',\n",
       " 'has',\n",
       " 'had',\n",
       " 'having',\n",
       " 'do',\n",
       " 'does',\n",
       " 'did',\n",
       " 'doing',\n",
       " 'a',\n",
       " 'an',\n",
       " 'the',\n",
       " 'and',\n",
       " 'but',\n",
       " 'if',\n",
       " 'or',\n",
       " 'because',\n",
       " 'as',\n",
       " 'until',\n",
       " 'while',\n",
       " 'of',\n",
       " 'at',\n",
       " 'by',\n",
       " 'for',\n",
       " 'with',\n",
       " 'about',\n",
       " 'against',\n",
       " 'between',\n",
       " 'into',\n",
       " 'through',\n",
       " 'during',\n",
       " 'before',\n",
       " 'after',\n",
       " 'above',\n",
       " 'below',\n",
       " 'to',\n",
       " 'from',\n",
       " 'up',\n",
       " 'down',\n",
       " 'in',\n",
       " 'out',\n",
       " 'on',\n",
       " 'off',\n",
       " 'over',\n",
       " 'under',\n",
       " 'again',\n",
       " 'further',\n",
       " 'then',\n",
       " 'once',\n",
       " 'here',\n",
       " 'there',\n",
       " 'when',\n",
       " 'where',\n",
       " 'why',\n",
       " 'how',\n",
       " 'all',\n",
       " 'any',\n",
       " 'both',\n",
       " 'each',\n",
       " 'few',\n",
       " 'more',\n",
       " 'most',\n",
       " 'other',\n",
       " 'some',\n",
       " 'such',\n",
       " 'no',\n",
       " 'nor',\n",
       " 'not',\n",
       " 'only',\n",
       " 'own',\n",
       " 'same',\n",
       " 'so',\n",
       " 'than',\n",
       " 'too',\n",
       " 'very',\n",
       " 's',\n",
       " 't',\n",
       " 'can',\n",
       " 'will',\n",
       " 'just',\n",
       " 'don',\n",
       " \"don't\",\n",
       " 'should',\n",
       " \"should've\",\n",
       " 'now',\n",
       " 'd',\n",
       " 'll',\n",
       " 'm',\n",
       " 'o',\n",
       " 're',\n",
       " 've',\n",
       " 'y',\n",
       " 'ain',\n",
       " 'aren',\n",
       " \"aren't\",\n",
       " 'couldn',\n",
       " \"couldn't\",\n",
       " 'didn',\n",
       " \"didn't\",\n",
       " 'doesn',\n",
       " \"doesn't\",\n",
       " 'hadn',\n",
       " \"hadn't\",\n",
       " 'hasn',\n",
       " \"hasn't\",\n",
       " 'haven',\n",
       " \"haven't\",\n",
       " 'isn',\n",
       " \"isn't\",\n",
       " 'ma',\n",
       " 'mightn',\n",
       " \"mightn't\",\n",
       " 'mustn',\n",
       " \"mustn't\",\n",
       " 'needn',\n",
       " \"needn't\",\n",
       " 'shan',\n",
       " \"shan't\",\n",
       " 'shouldn',\n",
       " \"shouldn't\",\n",
       " 'wasn',\n",
       " \"wasn't\",\n",
       " 'weren',\n",
       " \"weren't\",\n",
       " 'won',\n",
       " \"won't\",\n",
       " 'wouldn',\n",
       " \"wouldn't\"]"
      ]
     },
     "execution_count": 59,
     "metadata": {},
     "output_type": "execute_result"
    }
   ],
   "source": [
    "stopword_list"
   ]
  },
  {
   "cell_type": "code",
   "execution_count": null,
   "metadata": {},
   "outputs": [],
   "source": []
  }
 ],
 "metadata": {
  "kernelspec": {
   "display_name": "Python 3",
   "language": "python",
   "name": "python3"
  },
  "language_info": {
   "codemirror_mode": {
    "name": "ipython",
    "version": 3
   },
   "file_extension": ".py",
   "mimetype": "text/x-python",
   "name": "python",
   "nbconvert_exporter": "python",
   "pygments_lexer": "ipython3",
   "version": "3.7.9"
  }
 },
 "nbformat": 4,
 "nbformat_minor": 4
}
