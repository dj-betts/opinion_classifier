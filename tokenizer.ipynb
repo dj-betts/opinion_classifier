{
 "cells": [
  {
   "cell_type": "code",
   "execution_count": 16,
   "metadata": {},
   "outputs": [],
   "source": [
    "from functions import vectorize_y_ser, oped_v_news"
   ]
  },
  {
   "cell_type": "code",
   "execution_count": 17,
   "metadata": {},
   "outputs": [],
   "source": [
    "import string"
   ]
  },
  {
   "cell_type": "code",
   "execution_count": 18,
   "metadata": {},
   "outputs": [],
   "source": [
    "import re"
   ]
  },
  {
   "cell_type": "code",
   "execution_count": 19,
   "metadata": {},
   "outputs": [],
   "source": [
    "import datetime"
   ]
  },
  {
   "cell_type": "code",
   "execution_count": 20,
   "metadata": {},
   "outputs": [],
   "source": [
    "import nltk\n",
    "import string"
   ]
  },
  {
   "cell_type": "code",
   "execution_count": 21,
   "metadata": {},
   "outputs": [],
   "source": [
    "import matplotlib.pyplot as plt\n",
    "plt.style.use('fivethirtyeight')"
   ]
  },
  {
   "cell_type": "code",
   "execution_count": 22,
   "metadata": {},
   "outputs": [],
   "source": [
    "import pandas as pd\n",
    "import numpy as np"
   ]
  },
  {
   "cell_type": "code",
   "execution_count": 23,
   "metadata": {},
   "outputs": [],
   "source": [
    "from collections import Counter"
   ]
  },
  {
   "cell_type": "code",
   "execution_count": 24,
   "metadata": {},
   "outputs": [],
   "source": [
    "from nltk.stem.snowball import SnowballStemmer\n",
    "from nltk.stem.wordnet import WordNetLemmatizer\n",
    "from nltk.tokenize import word_tokenize\n",
    "from nltk.corpus import stopwords"
   ]
  },
  {
   "cell_type": "code",
   "execution_count": 25,
   "metadata": {},
   "outputs": [],
   "source": [
    "def vectorize_y_ser(ser):\n",
    "    y = ser.copy()\n",
    "    y.replace({'Op-Ed': 1,'News': 0}, inplace=True)\n",
    "    return y"
   ]
  },
  {
   "cell_type": "code",
   "execution_count": 26,
   "metadata": {},
   "outputs": [],
   "source": [
    "#returns articles w/ 'United States Politics and Government' as a keyword\n",
    "def return_pol_gov(row):\n",
    "    list_dict = eval(row.keywords)\n",
    "    for (dic) in (list_dict):\n",
    "        if dic.get('value') == 'United States Politics and Government':\n",
    "            return True\n",
    "\n",
    "def keyword_filter(df, keyword='United States Politics and Government'):\n",
    "    df[keyword] = df.apply(return_pol_gov, axis=1)\n",
    "    df = df[df[keyword] == True]\n",
    "    return df"
   ]
  },
  {
   "cell_type": "code",
   "execution_count": 1,
   "metadata": {},
   "outputs": [],
   "source": [
    "#combine print, type, text columns in the list\n",
    "def printed(file):\n",
    "    print_cols = ['_id','print_page','pub_date','keywords','type_of_material','lead_paragraph','text','word_count']    \n",
    "    df = pd.read_csv(file, usecols=print_cols, index_col='_id', low_memory=False)\n",
    "    df = df[df.print_page.isna() == False]\n",
    "    df = df[~df.text.isna() == True]\n",
    "    return df"
   ]
  },
  {
   "cell_type": "markdown",
   "metadata": {},
   "source": [
    "# data"
   ]
  },
  {
   "cell_type": "code",
   "execution_count": 27,
   "metadata": {},
   "outputs": [],
   "source": [
    "import os\n",
    "import glob\n",
    "import pandas as pd\n",
    "\n",
    "#extension = 'csv'\n",
    "#all_filenames = [i for i in glob.glob('*.{}'.format(extension))]\n",
    "df2020 = '/Users/djbetts/Desktop/opinion_classifier/data/archive/raw_2020.csv'\n",
    "df2019 = '/Users/djbetts/Desktop/opinion_classifier/data/archive/raw_2019.csv'\n",
    "df2018 = '/Users/djbetts/Desktop/opinion_classifier/data/archive/raw_2018.csv'\n",
    "df2017 = '/Users/djbetts/Desktop/opinion_classifier/data/archive/raw_2017.csv'\n",
    "df2016 = '/Users/djbetts/Desktop/opinion_classifier/data/archive/raw_2016.csv'\n",
    "df2015 = '/Users/djbetts/Desktop/opinion_classifier/data/archive/raw_2015.csv'\n",
    "df2014 = '/Users/djbetts/Desktop/opinion_classifier/data/archive/raw_2014.csv'\n",
    "df2013 = '/Users/djbetts/Desktop/opinion_classifier/data/archive/raw_2013.csv'\n",
    "df2012 = '/Users/djbetts/Desktop/opinion_classifier/data/archive/raw_2012.csv'\n",
    "df2011 = '/Users/djbetts/Desktop/opinion_classifier/data/archive/raw_2011.csv'\n",
    "df2010 = '/Users/djbetts/Desktop/opinion_classifier/data/archive/raw_2010.csv'\n",
    "df2009 = '/Users/djbetts/Desktop/opinion_classifier/data/archive/raw_2009.csv'\n",
    "df2008 = '/Users/djbetts/Desktop/opinion_classifier/data/archive/raw_2008.csv'\n",
    "df2007 = '/Users/djbetts/Desktop/opinion_classifier/data/archive/raw_2007.csv'\n",
    "df2006 = '/Users/djbetts/Desktop/opinion_classifier/data/archive/raw_2006.csv'\n",
    "df2005 = '/Users/djbetts/Desktop/opinion_classifier/data/archive/raw_2005.csv'\n",
    "df2004 = '/Users/djbetts/Desktop/opinion_classifier/data/archive/raw_2004.csv'\n",
    "df2003 = '/Users/djbetts/Desktop/opinion_classifier/data/archive/raw_2003.csv'\n",
    "df2002 = '/Users/djbetts/Desktop/opinion_classifier/data/archive/raw_2002.csv'\n",
    "df2001 = '/Users/djbetts/Desktop/opinion_classifier/data/archive/raw_2001.csv'\n",
    "df2000 = '/Users/djbetts/Desktop/opinion_classifier/data/archive/raw_2000.csv'\n",
    "df1999 = '/Users/djbetts/Desktop/opinion_classifier/data/archive/raw_1999.csv'\n",
    "df1998 = '/Users/djbetts/Desktop/opinion_classifier/data/archive/raw_1998.csv'\n",
    "df1997 = '/Users/djbetts/Desktop/opinion_classifier/data/archive/raw_1997.csv'\n",
    "df1996 = '/Users/djbetts/Desktop/opinion_classifier/data/archive/raw_1996.csv'\n",
    "df1995 = '/Users/djbetts/Desktop/opinion_classifier/data/archive/raw_1995.csv'\n",
    "df1994 = '/Users/djbetts/Desktop/opinion_classifier/data/archive/raw_1994.csv'\n",
    "df1993 = '/Users/djbetts/Desktop/opinion_classifier/data/archive/raw_1993.csv'\n",
    "df1992 = '/Users/djbetts/Desktop/opinion_classifier/data/archive/raw_1992.csv'\n",
    "df1991 = '/Users/djbetts/Desktop/opinion_classifier/data/archive/raw_1991.csv'\n",
    "df1990 = '/Users/djbetts/Desktop/opinion_classifier/data/archive/raw_1990.csv'\n",
    "df1989 = '/Users/djbetts/Desktop/opinion_classifier/data/archive/raw_1989.csv'\n",
    "df1988 = '/Users/djbetts/Desktop/opinion_classifier/data/archive/raw_1988.csv'\n",
    "df1987 = '/Users/djbetts/Desktop/opinion_classifier/data/archive/raw_1987.csv'\n",
    "df1986 = '/Users/djbetts/Desktop/opinion_classifier/data/archive/raw_1986.csv'\n",
    "df1985 = '/Users/djbetts/Desktop/opinion_classifier/data/archive/raw_1985.csv'\n",
    "df1984 = '/Users/djbetts/Desktop/opinion_classifier/data/archive/raw_1984.csv'\n",
    "df1983 = '/Users/djbetts/Desktop/opinion_classifier/data/archive/raw_1983.csv'\n",
    "df1982 = '/Users/djbetts/Desktop/opinion_classifier/data/archive/raw_1982.csv'\n",
    "df1981 = '/Users/djbetts/Desktop/opinion_classifier/data/archive/raw_1981.csv'"
   ]
  },
  {
   "cell_type": "code",
   "execution_count": 28,
   "metadata": {},
   "outputs": [],
   "source": [
    "#returns articles w/ 'United States Politics and Government' as a keyword\n",
    "def return_pol_gov(row):\n",
    "    list_dict = eval(row.keywords)\n",
    "    for (dic) in (list_dict):\n",
    "        if dic.get('value') == 'United States Politics and Government':\n",
    "            return True\n",
    "\n",
    "def keyword_filter(df, keyword='United States Politics and Government'):\n",
    "    df[keyword] = df.apply(return_pol_gov, axis=1)\n",
    "    df = df[df[keyword] == True]\n",
    "    return df"
   ]
  },
  {
   "cell_type": "code",
   "execution_count": 105,
   "metadata": {},
   "outputs": [],
   "source": [
    "data2020 = printed(df2020)\n",
    "data2019 = printed(df2019)\n",
    "data2018 = printed(df2018)\n",
    "data2017 = printed(df2017)\n",
    "# data2016 = printed(df2016)\n",
    "# data2015 = printed(df2015)\n",
    "# data2014 = printed(df2014)\n",
    "# data2013 = printed(df2013)\n",
    "# data2012 = printed(df2012)\n",
    "# data2011 = printed(df2011)\n",
    "# data2010 = printed(df2010)"
   ]
  },
  {
   "cell_type": "code",
   "execution_count": 106,
   "metadata": {},
   "outputs": [
    {
     "name": "stdout",
     "output_type": "stream",
     "text": [
      "CPU times: user 175 ms, sys: 794 ms, total: 969 ms\n",
      "Wall time: 1.5 s\n"
     ]
    }
   ],
   "source": [
    "%%time\n",
    "data = pd.concat([data2020, data2019, data2018, data2017])#, data2016,data2015, data2014, data2013, data2012, data2011, data2010])"
   ]
  },
  {
   "cell_type": "code",
   "execution_count": 107,
   "metadata": {},
   "outputs": [
    {
     "name": "stdout",
     "output_type": "stream",
     "text": [
      "News: 113679 Oped: 8197, Total: 121876, Op-Ed 0.07 of total\n"
     ]
    },
    {
     "data": {
      "image/png": "[encoded data removed]",
      "text/plain": [
       "<Figure size 432x288 with 1 Axes>"
      ]
     },
     "metadata": {},
     "output_type": "display_data"
    }
   ],
   "source": [
    "oped_v_news(data)"
   ]
  },
  {
   "cell_type": "code",
   "execution_count": 108,
   "metadata": {},
   "outputs": [
    {
     "data": {
      "text/plain": [
       "(121876, 7)"
      ]
     },
     "execution_count": 108,
     "metadata": {},
     "output_type": "execute_result"
    }
   ],
   "source": [
    "data.shape"
   ]
  },
  {
   "cell_type": "code",
   "execution_count": 109,
   "metadata": {},
   "outputs": [
    {
     "name": "stdout",
     "output_type": "stream",
     "text": [
      "CPU times: user 9.85 s, sys: 342 ms, total: 10.2 s\n",
      "Wall time: 10.4 s\n"
     ]
    }
   ],
   "source": [
    "%%time\n",
    "df = keyword_filter(data)"
   ]
  },
  {
   "cell_type": "code",
   "execution_count": 110,
   "metadata": {},
   "outputs": [
    {
     "data": {
      "text/plain": [
       "(17822, 8)"
      ]
     },
     "execution_count": 110,
     "metadata": {},
     "output_type": "execute_result"
    }
   ],
   "source": [
    "df.shape"
   ]
  },
  {
   "cell_type": "code",
   "execution_count": 111,
   "metadata": {},
   "outputs": [
    {
     "data": {
      "text/plain": [
       "Index(['lead_paragraph', 'keywords', 'pub_date', 'type_of_material',\n",
       "       'word_count', 'print_page', 'text',\n",
       "       'United States Politics and Government'],\n",
       "      dtype='object')"
      ]
     },
     "execution_count": 111,
     "metadata": {},
     "output_type": "execute_result"
    }
   ],
   "source": [
    "df.columns"
   ]
  },
  {
   "cell_type": "code",
   "execution_count": 112,
   "metadata": {},
   "outputs": [
    {
     "name": "stdout",
     "output_type": "stream",
     "text": [
      "News: 14627 Oped: 3195, Total: 17822, Op-Ed 0.18 of total\n"
     ]
    },
    {
     "data": {
      "image/png": "[encoded data removed]",
      "text/plain": [
       "<Figure size 432x288 with 1 Axes>"
      ]
     },
     "metadata": {},
     "output_type": "display_data"
    }
   ],
   "source": [
    "oped_v_news(df)"
   ]
  },
  {
   "cell_type": "markdown",
   "metadata": {},
   "source": [
    "# remove lead paragraph"
   ]
  },
  {
   "cell_type": "code",
   "execution_count": 113,
   "metadata": {},
   "outputs": [
    {
     "name": "stderr",
     "output_type": "stream",
     "text": [
      "/Users/djbetts/opt/anaconda3/lib/python3.7/site-packages/ipykernel_launcher.py:2: SettingWithCopyWarning: \n",
      "A value is trying to be set on a copy of a slice from a DataFrame.\n",
      "Try using .loc[row_indexer,col_indexer] = value instead\n",
      "\n",
      "See the caveats in the documentation: https://pandas.pydata.org/pandas-docs/stable/user_guide/indexing.html#returning-a-view-versus-a-copy\n",
      "  \n"
     ]
    }
   ],
   "source": [
    "# replace lead paragraph in text with empty quotes\n",
    "df['text'] = [text.replace(lead, \"\") for text, lead in zip(df.text[:].astype('str'), df.lead_paragraph[:].astype('str'))]"
   ]
  },
  {
   "cell_type": "code",
   "execution_count": 114,
   "metadata": {},
   "outputs": [
    {
     "data": {
      "text/plain": [
       "'But as you drew closer to the fifth floor, where Attorney General William Pelham Barr works out of a suite of offices, things started to loosen up. One assistant outside his conference room wore a mask, but the other did not. In the middle of the room, with its oil paintings and vaulted ceiling, the long central table had fewer chairs than you might expect, and an appropriate distance between them. But past the next door, inside the attorney general’s smaller personal office, Barr himself was al'"
      ]
     },
     "execution_count": 114,
     "metadata": {},
     "output_type": "execute_result"
    }
   ],
   "source": [
    "#confirm lead paragraph has been removed\n",
    "df.text[0][:500]"
   ]
  },
  {
   "cell_type": "markdown",
   "metadata": {},
   "source": [
    "# remove quotations"
   ]
  },
  {
   "cell_type": "code",
   "execution_count": 115,
   "metadata": {},
   "outputs": [],
   "source": [
    "#split document into article body and quotation\n",
    "def text_parse(document):\n",
    "    article = []\n",
    "    quote_list = []\n",
    "    \n",
    "    open_quote = \"“\"\n",
    "    close_quote = \"”\"\n",
    "    \n",
    "    close_split = document.split(close_quote)\n",
    "    \n",
    "    for string in close_split:\n",
    "\n",
    "        quote = string.split(open_quote)\n",
    "        article.append(quote.pop(0))\n",
    "        quote_list += quote\n",
    "    \n",
    "    article = \" \".join(article)\n",
    "    quotation = \" \".join(quote_list)\n",
    "        \n",
    "    return(article, quotation)"
   ]
  },
  {
   "cell_type": "code",
   "execution_count": 116,
   "metadata": {},
   "outputs": [],
   "source": [
    "#split article and return quote\n",
    "def return_article(document):\n",
    "    article = []\n",
    "    quote_list = []\n",
    "    \n",
    "    open_quote = \"“\"\n",
    "    close_quote = \"”\"\n",
    "    \n",
    "    close_split = document.split(close_quote)\n",
    "    \n",
    "    for string in close_split:\n",
    "\n",
    "        quote = string.split(open_quote)\n",
    "        article.append(quote.pop(0))\n",
    "        quote_list += quote\n",
    "    \n",
    "    article = \" \".join(article)\n",
    "    quotation = \" \".join(quote_list)\n",
    "    \n",
    "    return(article)"
   ]
  },
  {
   "cell_type": "code",
   "execution_count": 117,
   "metadata": {},
   "outputs": [],
   "source": [
    "#split article and return quote\n",
    "def return_quote(document):\n",
    "    article = []\n",
    "    quote_list = []\n",
    "    \n",
    "    open_quote = \"“\"\n",
    "    close_quote = \"”\"\n",
    "    \n",
    "    close_split = document.split(close_quote)\n",
    "    \n",
    "    for string in close_split:\n",
    "\n",
    "        quote = string.split(open_quote)\n",
    "        article.append(quote.pop(0))\n",
    "        quote_list.append(quote)\n",
    "    \n",
    "    article = \" \".join(article)\n",
    "#    quotation = \" \".join(quote_list)\n",
    "        \n",
    "    return(quote_list)"
   ]
  },
  {
   "cell_type": "code",
   "execution_count": 118,
   "metadata": {},
   "outputs": [],
   "source": [
    "# df['text'] = df.text.apply(return_article)"
   ]
  },
  {
   "cell_type": "code",
   "execution_count": 119,
   "metadata": {},
   "outputs": [],
   "source": [
    "# df['text'][0][:500]"
   ]
  },
  {
   "cell_type": "code",
   "execution_count": 120,
   "metadata": {},
   "outputs": [
    {
     "name": "stderr",
     "output_type": "stream",
     "text": [
      "/Users/djbetts/opt/anaconda3/lib/python3.7/site-packages/ipykernel_launcher.py:1: SettingWithCopyWarning: \n",
      "A value is trying to be set on a copy of a slice from a DataFrame.\n",
      "Try using .loc[row_indexer,col_indexer] = value instead\n",
      "\n",
      "See the caveats in the documentation: https://pandas.pydata.org/pandas-docs/stable/user_guide/indexing.html#returning-a-view-versus-a-copy\n",
      "  \"\"\"Entry point for launching an IPython kernel.\n"
     ]
    }
   ],
   "source": [
    "df['quote_list'] = df.text.apply(return_quote)"
   ]
  },
  {
   "cell_type": "code",
   "execution_count": 124,
   "metadata": {},
   "outputs": [],
   "source": [
    "df_news = df[df.type_of_material == 'News']"
   ]
  },
  {
   "cell_type": "code",
   "execution_count": 125,
   "metadata": {},
   "outputs": [],
   "source": [
    "df_oped = df[df.type_of_material == \"Op-Ed\"]"
   ]
  },
  {
   "cell_type": "code",
   "execution_count": 137,
   "metadata": {},
   "outputs": [
    {
     "name": "stderr",
     "output_type": "stream",
     "text": [
      "/Users/djbetts/opt/anaconda3/lib/python3.7/site-packages/ipykernel_launcher.py:1: SettingWithCopyWarning: \n",
      "A value is trying to be set on a copy of a slice from a DataFrame.\n",
      "Try using .loc[row_indexer,col_indexer] = value instead\n",
      "\n",
      "See the caveats in the documentation: https://pandas.pydata.org/pandas-docs/stable/user_guide/indexing.html#returning-a-view-versus-a-copy\n",
      "  \"\"\"Entry point for launching an IPython kernel.\n"
     ]
    }
   ],
   "source": [
    "df['quote_count'] = df.quote_list.apply(lambda x: len(x))"
   ]
  },
  {
   "cell_type": "code",
   "execution_count": 141,
   "metadata": {},
   "outputs": [
    {
     "data": {
      "text/plain": [
       "Index(['lead_paragraph', 'keywords', 'pub_date', 'type_of_material',\n",
       "       'word_count', 'print_page', 'text',\n",
       "       'United States Politics and Government', 'quote_list', 'quote_count'],\n",
       "      dtype='object')"
      ]
     },
     "execution_count": 141,
     "metadata": {},
     "output_type": "execute_result"
    }
   ],
   "source": [
    "df.columns"
   ]
  },
  {
   "cell_type": "code",
   "execution_count": 142,
   "metadata": {},
   "outputs": [
    {
     "ename": "KeyError",
     "evalue": "('quote_count', 'word_count')",
     "output_type": "error",
     "traceback": [
      "\u001b[0;31m---------------------------------------------------------------------------\u001b[0m",
      "\u001b[0;31mKeyError\u001b[0m                                  Traceback (most recent call last)",
      "\u001b[0;32m~/opt/anaconda3/lib/python3.7/site-packages/pandas/core/indexes/base.py\u001b[0m in \u001b[0;36mget_loc\u001b[0;34m(self, key, method, tolerance)\u001b[0m\n\u001b[1;32m   2894\u001b[0m             \u001b[0;32mtry\u001b[0m\u001b[0;34m:\u001b[0m\u001b[0;34m\u001b[0m\u001b[0;34m\u001b[0m\u001b[0m\n\u001b[0;32m-> 2895\u001b[0;31m                 \u001b[0;32mreturn\u001b[0m \u001b[0mself\u001b[0m\u001b[0;34m.\u001b[0m\u001b[0m_engine\u001b[0m\u001b[0;34m.\u001b[0m\u001b[0mget_loc\u001b[0m\u001b[0;34m(\u001b[0m\u001b[0mcasted_key\u001b[0m\u001b[0;34m)\u001b[0m\u001b[0;34m\u001b[0m\u001b[0;34m\u001b[0m\u001b[0m\n\u001b[0m\u001b[1;32m   2896\u001b[0m             \u001b[0;32mexcept\u001b[0m \u001b[0mKeyError\u001b[0m \u001b[0;32mas\u001b[0m \u001b[0merr\u001b[0m\u001b[0;34m:\u001b[0m\u001b[0;34m\u001b[0m\u001b[0;34m\u001b[0m\u001b[0m\n",
      "\u001b[0;32mpandas/_libs/index.pyx\u001b[0m in \u001b[0;36mpandas._libs.index.IndexEngine.get_loc\u001b[0;34m()\u001b[0m\n",
      "\u001b[0;32mpandas/_libs/index.pyx\u001b[0m in \u001b[0;36mpandas._libs.index.IndexEngine.get_loc\u001b[0;34m()\u001b[0m\n",
      "\u001b[0;32mpandas/_libs/hashtable_class_helper.pxi\u001b[0m in \u001b[0;36mpandas._libs.hashtable.PyObjectHashTable.get_item\u001b[0;34m()\u001b[0m\n",
      "\u001b[0;32mpandas/_libs/hashtable_class_helper.pxi\u001b[0m in \u001b[0;36mpandas._libs.hashtable.PyObjectHashTable.get_item\u001b[0;34m()\u001b[0m\n",
      "\u001b[0;31mKeyError\u001b[0m: ('quote_count', 'word_count')",
      "\nThe above exception was the direct cause of the following exception:\n",
      "\u001b[0;31mKeyError\u001b[0m                                  Traceback (most recent call last)",
      "\u001b[0;32m<ipython-input-142-3dc3bab343a7>\u001b[0m in \u001b[0;36m<module>\u001b[0;34m\u001b[0m\n\u001b[0;32m----> 1\u001b[0;31m \u001b[0mnews_word_quote_count\u001b[0m \u001b[0;34m=\u001b[0m \u001b[0mdf\u001b[0m\u001b[0;34m[\u001b[0m\u001b[0;34m'quote_count'\u001b[0m\u001b[0;34m,\u001b[0m \u001b[0;34m'word_count'\u001b[0m\u001b[0;34m]\u001b[0m\u001b[0;34m.\u001b[0m\u001b[0mwhere\u001b[0m\u001b[0;34m(\u001b[0m\u001b[0mdf\u001b[0m\u001b[0;34m.\u001b[0m\u001b[0mtype_of_material\u001b[0m \u001b[0;34m==\u001b[0m \u001b[0;34m'News'\u001b[0m\u001b[0;34m)\u001b[0m\u001b[0;34m\u001b[0m\u001b[0;34m\u001b[0m\u001b[0m\n\u001b[0m",
      "\u001b[0;32m~/opt/anaconda3/lib/python3.7/site-packages/pandas/core/frame.py\u001b[0m in \u001b[0;36m__getitem__\u001b[0;34m(self, key)\u001b[0m\n\u001b[1;32m   2900\u001b[0m             \u001b[0;32mif\u001b[0m \u001b[0mself\u001b[0m\u001b[0;34m.\u001b[0m\u001b[0mcolumns\u001b[0m\u001b[0;34m.\u001b[0m\u001b[0mnlevels\u001b[0m \u001b[0;34m>\u001b[0m \u001b[0;36m1\u001b[0m\u001b[0;34m:\u001b[0m\u001b[0;34m\u001b[0m\u001b[0;34m\u001b[0m\u001b[0m\n\u001b[1;32m   2901\u001b[0m                 \u001b[0;32mreturn\u001b[0m \u001b[0mself\u001b[0m\u001b[0;34m.\u001b[0m\u001b[0m_getitem_multilevel\u001b[0m\u001b[0;34m(\u001b[0m\u001b[0mkey\u001b[0m\u001b[0;34m)\u001b[0m\u001b[0;34m\u001b[0m\u001b[0;34m\u001b[0m\u001b[0m\n\u001b[0;32m-> 2902\u001b[0;31m             \u001b[0mindexer\u001b[0m \u001b[0;34m=\u001b[0m \u001b[0mself\u001b[0m\u001b[0;34m.\u001b[0m\u001b[0mcolumns\u001b[0m\u001b[0;34m.\u001b[0m\u001b[0mget_loc\u001b[0m\u001b[0;34m(\u001b[0m\u001b[0mkey\u001b[0m\u001b[0;34m)\u001b[0m\u001b[0;34m\u001b[0m\u001b[0;34m\u001b[0m\u001b[0m\n\u001b[0m\u001b[1;32m   2903\u001b[0m             \u001b[0;32mif\u001b[0m \u001b[0mis_integer\u001b[0m\u001b[0;34m(\u001b[0m\u001b[0mindexer\u001b[0m\u001b[0;34m)\u001b[0m\u001b[0;34m:\u001b[0m\u001b[0;34m\u001b[0m\u001b[0;34m\u001b[0m\u001b[0m\n\u001b[1;32m   2904\u001b[0m                 \u001b[0mindexer\u001b[0m \u001b[0;34m=\u001b[0m \u001b[0;34m[\u001b[0m\u001b[0mindexer\u001b[0m\u001b[0;34m]\u001b[0m\u001b[0;34m\u001b[0m\u001b[0;34m\u001b[0m\u001b[0m\n",
      "\u001b[0;32m~/opt/anaconda3/lib/python3.7/site-packages/pandas/core/indexes/base.py\u001b[0m in \u001b[0;36mget_loc\u001b[0;34m(self, key, method, tolerance)\u001b[0m\n\u001b[1;32m   2895\u001b[0m                 \u001b[0;32mreturn\u001b[0m \u001b[0mself\u001b[0m\u001b[0;34m.\u001b[0m\u001b[0m_engine\u001b[0m\u001b[0;34m.\u001b[0m\u001b[0mget_loc\u001b[0m\u001b[0;34m(\u001b[0m\u001b[0mcasted_key\u001b[0m\u001b[0;34m)\u001b[0m\u001b[0;34m\u001b[0m\u001b[0;34m\u001b[0m\u001b[0m\n\u001b[1;32m   2896\u001b[0m             \u001b[0;32mexcept\u001b[0m \u001b[0mKeyError\u001b[0m \u001b[0;32mas\u001b[0m \u001b[0merr\u001b[0m\u001b[0;34m:\u001b[0m\u001b[0;34m\u001b[0m\u001b[0;34m\u001b[0m\u001b[0m\n\u001b[0;32m-> 2897\u001b[0;31m                 \u001b[0;32mraise\u001b[0m \u001b[0mKeyError\u001b[0m\u001b[0;34m(\u001b[0m\u001b[0mkey\u001b[0m\u001b[0;34m)\u001b[0m \u001b[0;32mfrom\u001b[0m \u001b[0merr\u001b[0m\u001b[0;34m\u001b[0m\u001b[0;34m\u001b[0m\u001b[0m\n\u001b[0m\u001b[1;32m   2898\u001b[0m \u001b[0;34m\u001b[0m\u001b[0m\n\u001b[1;32m   2899\u001b[0m         \u001b[0;32mif\u001b[0m \u001b[0mtolerance\u001b[0m \u001b[0;32mis\u001b[0m \u001b[0;32mnot\u001b[0m \u001b[0;32mNone\u001b[0m\u001b[0;34m:\u001b[0m\u001b[0;34m\u001b[0m\u001b[0;34m\u001b[0m\u001b[0m\n",
      "\u001b[0;31mKeyError\u001b[0m: ('quote_count', 'word_count')"
     ]
    }
   ],
   "source": [
    "news_word_quote_count = df['quote_count', 'word_count'].where(df.type_of_material == 'News')"
   ]
  },
  {
   "cell_type": "code",
   "execution_count": null,
   "metadata": {},
   "outputs": [],
   "source": [
    "news_word_quote_count = df['quote_count', 'word_count']"
   ]
  },
  {
   "cell_type": "code",
   "execution_count": null,
   "metadata": {},
   "outputs": [],
   "source": []
  },
  {
   "cell_type": "code",
   "execution_count": 99,
   "metadata": {},
   "outputs": [
    {
     "data": {
      "text/plain": [
       "_id\n",
       "nyt://article/f5d2e4a7-f89b-54da-9985-dd5fc704a51e    as you drew closer to the fifth floor where wo...\n",
       "nyt://article/0fa09b77-5faa-588f-9d4a-39a34748c7f3    at a moment that is emerging as a critical tes...\n",
       "nyt://article/6b274a69-c82b-5b68-bada-ec1467440ddf    court ruled that members of a government board...\n",
       "nyt://article/8867f9cb-5914-5731-90b9-e1f1781fa568    their report posted online they also point to ...\n",
       "nyt://article/fb5f6e07-033e-5618-967e-fbc1ebcfd61c    said in brief remarks in the the president beg...\n",
       "                                                                            ...                        \n",
       "nyt://article/b47c7977-3810-52d4-951b-7ad9e89f3b65    major policy battles over health care and taxa...\n",
       "nyt://article/efdf8f07-a026-5e4f-8411-9eb40827b2e7    has however inherited his fathers affection fo...\n",
       "nyt://article/e395b682-6d55-5d1f-981b-0a6d3daae3c4    are turning as they long have in times of unce...\n",
       "nyt://article/5d1387dd-723c-51ef-ba68-2514b7752a95    gave his blessing in a post after a dissatisfi...\n",
       "nyt://article/f02a1a48-9eb3-521d-83bc-f59267848cf9    is facing an intense backlash in his home stat...\n",
       "Name: text, Length: 17822, dtype: object"
      ]
     },
     "execution_count": 99,
     "metadata": {},
     "output_type": "execute_result"
    }
   ],
   "source": [
    "df.text"
   ]
  },
  {
   "cell_type": "markdown",
   "metadata": {},
   "source": [
    "# created keyword list"
   ]
  },
  {
   "cell_type": "code",
   "execution_count": 64,
   "metadata": {},
   "outputs": [],
   "source": [
    "# def keyword_string(row):\n",
    "    \n",
    "#     dictionary_list = (eval(row))\n",
    "#     output = \" \"\n",
    "    \n",
    "#     for dictionary in dictionary_list:\n",
    "#         dict_value = dictionary.get('value')\n",
    "#         output += (f'{dict_value} ')\n",
    "#     return output.split(\" \")"
   ]
  },
  {
   "cell_type": "code",
   "execution_count": 65,
   "metadata": {},
   "outputs": [
    {
     "name": "stderr",
     "output_type": "stream",
     "text": [
      "/Users/djbetts/opt/anaconda3/lib/python3.7/site-packages/ipykernel_launcher.py:1: SettingWithCopyWarning: \n",
      "A value is trying to be set on a copy of a slice from a DataFrame.\n",
      "Try using .loc[row_indexer,col_indexer] = value instead\n",
      "\n",
      "See the caveats in the documentation: https://pandas.pydata.org/pandas-docs/stable/user_guide/indexing.html#returning-a-view-versus-a-copy\n",
      "  \"\"\"Entry point for launching an IPython kernel.\n"
     ]
    }
   ],
   "source": [
    "# df['keyword_list'] =  df.keywords.apply(keyword_string)"
   ]
  },
  {
   "cell_type": "markdown",
   "metadata": {},
   "source": [
    "# remove punctuation"
   ]
  },
  {
   "cell_type": "code",
   "execution_count": 66,
   "metadata": {},
   "outputs": [],
   "source": [
    "#string.punctuation\n",
    "nytimes_punct = \"”“\"\n",
    "open_quote = \"“\"\n",
    "close_quote = \"”\""
   ]
  },
  {
   "cell_type": "code",
   "execution_count": 67,
   "metadata": {},
   "outputs": [],
   "source": [
    "#function that removes string.punctuation w/out the '?'\n",
    "def punc_strip(document):\n",
    "    for char in word_tokenize(document):\n",
    "        if char in '!\"#$%&\\'()*+,-./:;<=>?@[\\\\]^_`{|}~—':\n",
    "            document = document.replace(char, \" \")\n",
    "        if char == \"’\":\n",
    "            document = document.replace(char, \"\")\n",
    "    return document"
   ]
  },
  {
   "cell_type": "code",
   "execution_count": 68,
   "metadata": {},
   "outputs": [
    {
     "name": "stderr",
     "output_type": "stream",
     "text": [
      "/Users/djbetts/opt/anaconda3/lib/python3.7/site-packages/ipykernel_launcher.py:1: SettingWithCopyWarning: \n",
      "A value is trying to be set on a copy of a slice from a DataFrame.\n",
      "Try using .loc[row_indexer,col_indexer] = value instead\n",
      "\n",
      "See the caveats in the documentation: https://pandas.pydata.org/pandas-docs/stable/user_guide/indexing.html#returning-a-view-versus-a-copy\n",
      "  \"\"\"Entry point for launching an IPython kernel.\n"
     ]
    }
   ],
   "source": [
    "df['text'] = df.text.apply(punc_strip)"
   ]
  },
  {
   "cell_type": "markdown",
   "metadata": {},
   "source": [
    "# remove capitalized words "
   ]
  },
  {
   "cell_type": "code",
   "execution_count": 92,
   "metadata": {},
   "outputs": [
    {
     "name": "stderr",
     "output_type": "stream",
     "text": [
      "/Users/djbetts/opt/anaconda3/lib/python3.7/site-packages/ipykernel_launcher.py:8: SettingWithCopyWarning: \n",
      "A value is trying to be set on a copy of a slice from a DataFrame.\n",
      "Try using .loc[row_indexer,col_indexer] = value instead\n",
      "\n",
      "See the caveats in the documentation: https://pandas.pydata.org/pandas-docs/stable/user_guide/indexing.html#returning-a-view-versus-a-copy\n",
      "  \n"
     ]
    }
   ],
   "source": [
    "def remove_cap_words(row):\n",
    "    temp = row.split()\n",
    "    for i, word in enumerate(temp):\n",
    "        if word[0].isupper():\n",
    "            temp[i] = \"\"\n",
    "            \n",
    "    return \" \".join(temp)\n",
    "df['text'] = df.text.apply(remove_cap_words)"
   ]
  },
  {
   "cell_type": "code",
   "execution_count": 93,
   "metadata": {},
   "outputs": [
    {
     "data": {
      "text/plain": [
       "'as you drew closer to the fifth floor where works out of a suite of offices things started to loosen up assistant outside his conference room wore a mask but the other did not the middle of the room with its oil paintings and vaulted ceiling the long central table had fewer chairs than you might expect and an appropriate distance between them past the next door inside the attorney generals smaller personal office himself was also mask-free around to greet his visitors he moved into the middle of a wide circle of four chairs arranged in front of his desk nearing the end of his career did not take his current job for the glory had already been attorney general once in administration winning him a reputation as a wise old man a reputation that in the eyes of some his tenure in the administration has tarnished is he doing it for the money time in corporate earned him tens of millions of dollars in compensation and stock options and his bearing is still that of a 500 counsel cozy manners wrapped around a harder core said though had been asked to bring one tone was jokingly conspiratorial as though he were making an exception for an old friend is sometimes described as an adjective that also captures his professorial manner speaking voice is very soft just loud enough to be consistently perceptible his accent is patrician with a trace of old personality breaks through mostly in frequent moments of humor which range from clubby chuckles to tension-breaking eruptions an aide added crossed the circle of chairs grinning away any awkwardness bumped elbows he said in the same joshing tone greater risk of course was that might infect him given his cabinet-level access to regular coronavirus testing the difference in our ages regular meetings with the president and the mostly one-way prophylactic value of masks in general his aide suggested again took it off the whole country was doing the same dance for and had recommended that all wear masks at meetings like this one was doing something else and so for the time being was the staff having been wrong-footed after taking the no-mask custom to the now seemed to be making it up as he went along weeks into the global pandemic a charitable observer might still have described the administrations response as improvisational or misguided as opposed to willfully cavalier things were about to get worse day projection of the total death toll 75 000 to 100 000 which was given the previous evening at the would be challenged by an internal document predicting that the number of daily deaths would rise into reckless faith of the presidents inner circle would be challenged when two members of the staff tested positive for the coronavirus and did not know it then but we were enjoying the tail end of the administrations libertine phase 27 the official death toll would surpass 100 000 the upper bound of what predicted on 3 has to assume that is keeping a close eye on the 70-year-old right now powers of the attorney general as the executive branchs rule interpreter and law enforcer peak during moments of social unrest knows these powers well led the through the riots of 1992 when invoked the and deployed thousands of soldiers and said the riots were gang activity and not is a stalwart believer in the righteousness of the police those communities that fail to give the police he said in a speech summer dropped the departments federal case against the police officer who killed during an arrest in 2014 role also gives him influence over three major political fronts heading into there is fight to open the nations economy which could depend in no small part on interpretation of federal authority and willingness to twist governors arms there are the mechanics of the vote itself a topic of great partisan controversy about which the has shown a growing willingness to weigh in there is the ongoing investigation led by the attorney in into the origins of the s probe in the run-up to the 2016 election the findings of which are widely expected to be announced before the election now on the horizon defended his record in two recent interviews critics charge that since becoming attorney general he has repeatedly steered the toward decisions that serve interests particularly around the investigations carried out by the and into influence over the 2016 election insists that he acts independently even as the president often undermines that claim by tweeting out apparent instructions for what his attorney general ought to do the time of our first meeting in his office had already started looking at how the federal government might intervene in state-ordered coronavirus shutdowns accused governors of denying citizens their and encouraged residents to and zeroed in on the nuts and bolts of the legal case for two small churches filed lawsuits seeking to hold live services despite state or local regulations the made filings in support of their rights a signed memorandum sent to the departments 93 attorneys suggested that the federal governments interest went beyond protecting live worship included weeks before our interview bragged that he held authority over the states went against the prevailing view that the federal government while free to enforce a variety of measures during its own emergencies is more constrained in its authority to compel state or local governments to lift theirs asked what meant he responded by laying out a general view of the presidents pandemic-related powers he said answer sounded so dry and routine that failed to ask what he meant by broadly enough interpretation could sanitize and legalize claim to authority ballots are another domain where had been staking out turf called the distribution of ballot applications in and warned that voting by mail a second interview on 20 when asked who was going to referee the 2020 election replied said his departments role would be limited as the power belongs to the states and their electors when brought up tweet about which he posted that same morning quickly seized the opportunity to float a new theory that foreign governments might conspire to mail in fake ballots he cautioned offering no evidence to substantiate that this was a real possibility he called it and added many election-related issues the of has to defer to the states in the case of investigation of the 2016 investigators or the as has so often called it has a greater degree of control years has been saying that he was treated unfairly in 2016 particularly at the hands of then the director who is open about his agreement with this premise is now in the process of nailing down the details wont rule out the possibility that findings could undermine a key consensus about 2016 the well-established conclusion that interference sought to favor a finding of the of 2017 that was later underscored by the special counsel and verified by the intelligence committee told me was looking for paused glanced down and fidgeted for a moment with his necktie before going on seems aware at times that he is gambling with his reputation he said with a matter-of-fact sigh in a interview last year we spoke in his office he was critical of what he called tendency to around himself he said he added willingness to weather controversy on the presidents behalf has not only caused consternation among some former friends and allies it has given rise to considerable speculation about his motives would a grandfather in semiretirement who had already reached the pinnacle of his profession sign up for this wonder if might still be hungry for influence having been attorney general for only 17 months the first time wonder whether he spent too much time watching during the years and came out the other side an ideologue there are others who look at support for and see more consistency than contradiction they say hasnt changed his values he has found in the perfect vehicle with which to move them forward says who led the civil division during first tour and then succeeded him serving as acting attorney general during the first three months of presidency far as what is hoping to do with his canvas says he is committed to the and premise that isnt too far away from what himself articulated in a 2019 speech at the of view piety lay at the heart of the founders model of self-government which depended on religious values to restrain human passions said flows from through to form and experience merely serve to confirm the infallible divine law law he said is under threat from including who call on the state their feet places mental illness drug overdoses violence and suicide these things he said are getting worse are started his career in the as an analyst working on and other matters asked about the origin of his interest in the intelligence service he responded indirectly with an anecdote about telling his high school guidance counselor that he wanted to be director was tempting to link career and conservatism with his father who served in the of the s forerunner during 1940 as an undergraduate at wrote a controversial editorial for defending a speech by the university president that called upon the faculty to support the war effort he wrote tempting as it was to see the son as part of some epigenetic chain of old-line conservatism cautioned me not to make such assumptions parents met at the of in the early 1940s who already spoke three languages had been sent there by the to learn spotted a young woman who had a masters degree in from through an open doorway teaching to undergraduates and was smitten took some courting thought was a told me and his background was also an issue he was raised without much religion but his father grandfather was born a secular joining the gave his religion as converted to after he and wed 26-page file obtained from the gives a detailed account of his transition from the military to intelligence work 1944 he shipped off to suffered from hay fever and 20/200 vision much of his time overseas was spent hospitalized with allergies next year he was assigned to the interviewer found him to be late 1945 he moved to to begin work at the and which would become the in-house intelligence bureau the couples second son was born in 1950 age 8 he had taken up the bagpipes which would become a lifelong hobby attended the in where his classmates remembered his conservatism the delight he took in making an argument and his sense of humor yearbook praised him as an involvement with campus politics continued at joined the which organized against student occupiers who had taken over the campus to protest the was known as a feeder school for the average of 14 seniors went to the agency each year from 1960 through 1966 according to a 1967 article from the student newspaper which reported that a majority came in not through the colleges of and but perhaps a reference to the private foundations and student organizations that were receiving funding at that time the late 1960s this recruiting drew campus protests which eventually broadened to take on other issues beyond the war the morning of 24 1968 student demonstrators many of them affiliated with for a stormed and took over the offices of president protesters were angry that was building a gymnasium nearby that would have two separate entrances one for the school community and one for neighborhood residents and also about the universitys connection with a think tank that did research for the was on the other side standing shoulder to shoulder with conservatives and athletes to form a blockade around the library he told me smiled to himself asked if he was in the fistfight adjusted the bridge of his glasses and glanced down he said letting out a big laugh later added interned at the in the summers of 1971 and 1972 1973 after completing his graduate degree in government and studies he married whom he met at a fraternity party next day the couple drove to and began a permanent job at the the day after that mothers memories of the he said had instilled in him a desire for career stability so he began taking law courses at night then he had transferred to the s of says who worked down the hall from in the general counsels office where would eventually rise to become the acting head new job put on the s seventh floor not far from the directors office and near the center of what was shaping up to be a historic fight with the aftermath of the presidency was endowed with vast new powers mass surveillance covert operations proxy wars and nuclear weapons young spurred on by the imperative to win the abused its own new powers to an astonishing degree a statutory ban on its involvement in either or the surveilled and surreptitiously engaged with countless citizens agency reported to the president and often took action based on informal conversations without ever committing much to paper around the agencys transgressions held until the 1970s when antiwar sentiment began to peak scandals around the 1971 and the break-in 1972 culminating in the long-anticipated defeat convinced much of the public that the federal government should no longer be given the benefit of the doubt 1973 the longtime director ordered the destruction of internal documents regarding an experimental mind-control program later recalled 1974 the journalist who had already broken the story of the massacre in revealed that the had developed a sprawling domestic-spying operation keeping dossiers on thousands of citizens created two special committees a committee led by and a committee that would eventually be led by to investigate years the would be consumed with negotiations over the limits of what could oversee told me in his office asked if there had indeed been excesses poker face came to life grinned turned his palms out and shrugged he said burst out laughing he pulled back to give the matter some more thought adjusting his glasses as he settled back into seriousness he said battle between conservative hard-liners and a would continue through the late the there was a sense of victimization the agencys first presidentially appointed inspector general told me 1976 the job of defending the agency in public passed to the new director who had served as a special envoy to at least one occasion sat behind during a congressional hearing giving him legal advice wound up making oversight a permanent thorn in the s side by establishing two intelligence oversight committees drafted two letters each signed by asking if the could resume the routine destruction of documents request was denied says now a law professor at the of and at who dealt with the as legal counsel of the than accept post-Watergate congressional limitations the hard-liners decamped from the and became floaters bureaucratic nomads who sought out underused and low-visibility pockets of the federal government from which to wage their war over executive power largest battle was fought around the affair covert group operating out of the had used money gained by selling arms to to fund anti-Communist rebels in flouting a congressional prohibition of the operation was organized by of the of the plotters were dragged into the public eye and indicted by a special prosecutor another post-Watergate innovation pointing to the involvement of and was inconclusive hard-liners felt that foreign policy and covert operations were an exclusively presidential domain is how first director put it in an interview with the political scientist this time conservative thinkers of generation began to coalesce around an idea they called presidents right to his powers under of the they argued was undivided and absolute reforms independent prosecutors to investigate high-level wrongdoing requirements to get warrants for national-security wiretaps and more were unconstitutional incursions into the presidents rightful powers 1977 left the upon his graduation from eventually landing as a policy lawyer in the running for president took to the 1988 to help vet potential running mates and after winning the election appointed him to lead the of where his duties included determining the legal limits of activities who was still at the recalls that kept his independence from the of opinions on classified operations while a third operation says was rejected entirely of public opinions though effectively authorized the invasion of as acting attorney general he impressed further by defusing a delicate prison-hostage crisis attorney general in 1992 signed off on a mass-surveillance program that collected billions of call records for the the end of presidency he successfully pushed for a pardon of six defendants a former director says reminds him of the former lawyer who became chief of staff and played a major role in pushing the limits of conduct including torture that the and the determined to be legal in the aftermath of the 11 attacks says intellect and experience made him appealing to the private sector eight years he served as general counsel at at a time when the company was working out secret arrangements with the to turn over its customers data 2001 a legal trade publication noted 1 5 million salary and compared him to a for the depth of his connections in both political and corporate that time he said he had no interest in returning to officialdom he said the 2016 presidential election was a player in politics and active in conservative causes gave nearly 50 000 to a affiliated with annual holiday parties traditional cèilidhs with music and singers drew hundreds whose friendships he had maintained over the years wrote and sold a screenplay about spent time traveling abroad and hunting birds three daughters all became accomplished lawyers working on or as federal prosecutors eldest moved to the financial-crimes unit after nomination as attorney general one of sons-in-law left the for the year shortly after his speech gave a second major address at the annual convention of the an organization of conservative lawyers founded during the administration subject was executive power criticized progressives this time for making politics presidency in his view handled of the core function of the presidency was the ability to act swiftly and without constraint but this capability had been diminished by the other branches since had burdened the president with oversight while the courts were interfering with travel ban on certain countries and his termination of program for young immigrants seemed to suggest that when it comes to foreign policy the only legitimate check on presidential behavior is the next election later this argument would become the foundation of impeachment defense 5 2018 attended funeral waiting in line for the shuttle bus that would take him to he and his wife ran into a friend who was counsel during the years two men spent most of the day together sounded out about the attorney-general job knew from following the news that was under consideration but never tipped his hand about how close he was to being tapped and never asked that week when announced nomination was not surprised under says the time of his nomination supporters presented him as a trustworthy and sensible conservative a known quantity within the establishment who would restrain worst impulses called him a legal commentator who is now one of harshest critics tweeted at the time that he had been under and that his confirmation would be the confirmation hearing of the ranking on the questioned at length about a memorandum he wrote to the administration the previous summer outlining why he believed that had no legal right to investigate for obstruction of justice president argued has investigations and can on individual cases including those that touch on his political or financial interests wrote enforcement he argued was a power exclusively held by the president because the hearing seemed to say that he did not believe the unitary executives powers to be infinite a asked if it would be lawful for a president to trade a pardon for a promise not to incriminate him answered that such an exchange would be a crime also mentioned his long friendship with wife attends the same study as wife attended the weddings of two of daughters was confirmed by a vote of 54 to 45 had barely served one month as attorney general when his friendship with was tested by the special prosecutors delivery of his report on the afternoon of 22 account then went dark for nearly 40 hours sent a letter to that he would later describe as giving and feed came back to life he tweeted his first public comments that same day said the words three times he added tweet letter and report said three different things nor exonerated quoted own words that his complicated finding on obstruction the president omitted conclusions that interference sought to favor that and his campaign welcomed the interference and believed they would benefit from it and that the and between and the campaign were substantial even though the evidence was able to gather fell short of a criminal conspiracy fired off two letters complaining that had misrepresented his work the second letter dated 27 he asked to immediately release the reports introductions and executive summaries the public would not get to read work until 18 when released a redacted version of the full report doing so gave a news conference in which he tilted further toward declaring innocent something bent over backward not to do said of distortions drew wide criticism were also frustrated by the reports content lacked the thunderous revelations about that had long been promised by opponents and it suffered from legalistic inconclusiveness on the most fundamental questions having been given a chance to put the 2016 election to bed for good had carefully avoided doing so hopes for the promised collusion bombshell now turned to the unredacted version of the report which refused to give them an echo of his work during the years the has taken a very hard line regarding what information and the courts are entitled to get from the has fought in court against the release of tax returns argued that did not need to see the whistle-blowers complaint because it was not a matter of and has challenged congressional requests for secret grand-jury materials refused to turn over the fully unredacted report to the citing executive privilege the committee voted to hold him in contempt chairman of claimed that this was the beginning of a seemed untroubled he reportedly quipped to at an event a few days later concerns about handling of investigation have not been confined to of the for the of a appointee recently criticized and questioned whether his first meeting with in 2017 later recalled in his confirmation hearing he told that the end he was half right said in one of our interviews would have been 2019 more than a year ago continued asked if they still saw each other at study replied general are chosen by the president no law prohibits them from doing the presidents bidding presidents have occasionally asked the attorney general to intervene in individual prosecutions attorney general went much further helping to plan the burglary and then working to cover it up the guidelines do enjoin prosecutors not to comment about ongoing investigations something does regularly also caution that legal judgments and that the department must respect of this has stopped from overruling his subordinates to the benefit of friends and associates most notably longtime political mentor and his former national security adviser both cases has tweeted about what he sees as the unfairness of their legal troubles and the has subsequently pushed for leniency has repeatedly said that has never asked him to do anything in a criminal case he said in an interview with the departments interventions on behalf of and have raised questions about the supposed firewall who led the of under told in has said he doesnt pay attention to tweets and doesnt take seriously the ones he is made aware of says friend and former colleague the former head of civil rights division at the department articulated a prevailing view of among telling me that the attorney general has says interventions on behalf of associates have far-reaching consequences she says prosecutors recommended that be sentenced to seven to nine years in prison for witness tampering and other crimes following day the filed a second revised sentencing memo asking that sentence be reduced to 108 months the memo argued given the same day the department revised its sentencing recommendation all four of the prosecutors responsible for the case announced their withdrawal left the department entirely wrote later in an op-ed in said the prosecutors tweeted out congratulations to for pushed back in the interview insisting that he reached the decision independently he said adding post-Mueller case that has arguably received the most attention among supporters is that of the lieutenant general who briefly served as national security adviser dueling narratives around the transition crystallize around and the question of whether he or those who investigated him were in the wrong addition to drawing scrutiny for his contacts initially failed to report as legally required that his company was effectively on the payroll of the government during the 2016 campaign himself tried and failed to talk into dropping him of own problems hinged on his asking if he could to dropping the investigation adversaries consider to be a loose cannon and possible pawn who needed to be rooted out supporters depict him as the second coming of a good soldier who was martyred in public for his loyalty to the executive 4 the day of my first interview with was still awaiting sentencing having pleaded guilty to lying to the time to time had been tweeting about the case in ways that seemed to cross the line that had drawn about public comments from the about matters pending before the said had been victimized by the as asked in light of his statement on whether these were the kind of tweets that made his job said had recently been tweeting about said replied asked if he would like to see them said handed a printout of an 29 tweet read said with cool indifference asked how it was that supposed antagonists could be punished without involvement from the department asked referring to the particular case that was now before had found the right hair to split and he split it so cleanly and decisively that couldnt say this wasnt his position from the beginning tweet said was nothing new he said days later on the afternoon of 7 the filed a motion to dismiss its own prosecution of government argued that false statements were not to the investigation of because the investigation was itself unjustified argument relied in part on the contents of handwritten notes that had been turned over to attorneys by the department and released to the public by mutual agreement of the prosecutors assigned to the case immediately withdrew few days later decided he wouldnt rule on whether to accept the departments motion until he had heard from friends of the court and a special counsel lawyers appealed asking a higher court to force the judges hand the department took side took to celebrating definitive 11 history of the 2016 election remains unwritten though not for lack of trying addition to the report and voluminous criminal indictments we have the the report by the inspector general and four volumes of the intelligence committees report a fifth volume of which is on the way major episodes of the story may now seem like familiar terrain to those who have kept up and a hopeless mess to everyone else zoom out a bit and the stakes could not be higher of critics like of the chairman of the and director of national intelligence go further than saying that the put a thumb on the scale for have suggested that the extra boost was decisive that would not have been elected in 2016 but for interference crucial legacy of 2016 is that the question of legitimacy was never settled without any consensus on what happened in 2016 the rules of the road for 2020 are up in the air first armed with the powers of law enforcement and presidential access to classified material is getting ready to roll out his account of 2016 promises he most likely has in mind the ongoing investigation by and its long-expected report although it is also possible that public work product will take the form of indictments or perhaps nothing at all who assigned the task of investigating the probe in last year and met with him several times immediately after the conclusion of investigation is overseeing work and briefs on his findings regularly on public statements we can see the rough contours of findings beginning to take shape governments conduct during the transition has said was of campaign amounted to there was the all-important question of whether the was justified in opening the initial investigation into the campaigns ties ordinary circumstances prosecutors do not comment on anything connected to an ongoing investigation but on the day that released his report both and decided to do just that s interest in said was based and said in his own statement had found that the investigation was justified so these sounded like sweeping words of dissent over the coming months as attention drifted elsewhere they shrank the time sat down with the only dispute with hed voiced was whether the had enough evidence to open a full investigation and believe that there was only enough to open a preliminary investigation not a full one our first interview mentioned the dossier of salacious anti-Trump claims that had been gathered and circulated by a former intelligence agent who was working indirectly for the campaign possibility that the government intentionally seeded the dossier with misinformation was one of the issues ignored and was looking at said had gone back and looked at the investigative steps taken as accelerated he continued had done that but unlike and he had no access to the the and the foreign governments that were involved facilitate what later became a criminal investigation ordered the heads of the intelligence agencies to cooperate with delegated to the power to order the declassification of secret documents has spoken with intelligence officials from and to reportedly solicit information that could help the case of where and met with political leaders and intelligence chiefs in person his visit provoked concern among diplomats who told that circumvented protocols in setting up the trip of who is the ranking on the and helped write its five-volume report said there were about trips he said a former colleague of from the years said he thought could come back with something more investigation he told me investigation is not the only means through which decisions could affect the election the wants to open a criminal investigation into either campaign it will first need personal approval has established a special to deal with materials that says he has obtained from sources which has claimed implicate the presumptive presidential nominee the interview did not dispute the notion that the government had interfered in 2016 but he made it sound as though the assumption that it favored would be coming under some pressure also would expect to play a role in deterring and punishing foreign interference in the 2020 election but that could get complicated camp continues to deny the intelligence communitys consensus view one strongly reiterated by and the intelligence committee that the favored over including on the claim to have unreleased evidence that points the other way on what told me intentions will most likely emerge as the key retrospective battlegrounds as work continues and the election draws closer said what did not address directly was the fourth volume of the report from the intelligence committee report reviewed much of the same intelligence underlying the affirmed that pro-Trump position and direct involvement were supported by s disagreement was the committees groundbreaking 2012 the fourth volume was unanimously approved by a bipartisan vote of the committee said a from and the chairman of the committee for his part dismissed investigation as he told me brought up the investigation again in my last interview with on 20 fifth floor of headquarters now felt different some older lawyerly looking men walking around wore masks younger men in suits with lapel pins who were most likely security did not himself still wore no mask but there were no more polite entreaties for visitors to take theirs off could see two crumpled blue surgical masks lying amid the papers on desk disarming familiarity sat down on a sofa and offered me my in a tufted leather chair then had seized on the meme accusing the former president and of asked what crime he thought they were guilty of declined to answer a news conference two days before went to see him was asked indirectly if investigation might lead to criminal charges being filed against or he said that same day asked about statement replied went on then said he had that and were in what he now called a to whether or not it was criminal he said office two days later brought up how seemed to have heard only what he wanted to hear that prediction about not prosecuting the former president was only valid said shouldnt read too much into those words he said he realized it or not the line had drawn at the news conference was getting blurrier with every word just as had hoped went on pulled back from the conversation and thought for a moment keeping tabs on investigation for more than a year did not think it was likely that he would have to prosecute a former president neither at that moment was he willing to rule it out made this position sound reasonable even as it served to support the unsupported theory that the president was floating at the time the end the substance of findings might not matter he turns up will become a major theme of 2020 campaign the less time there is before an election the greater political impact of even the smallest apparent revelation needed from was the glimmer of a possibility a slight shadow of official uncertainty in which his wild theories could flourish for now was giving him that much more he would give the president before it was hard to say'"
      ]
     },
     "execution_count": 93,
     "metadata": {},
     "output_type": "execute_result"
    }
   ],
   "source": [
    "df['text'][0]"
   ]
  },
  {
   "cell_type": "markdown",
   "metadata": {},
   "source": [
    "# export"
   ]
  },
  {
   "cell_type": "code",
   "execution_count": null,
   "metadata": {},
   "outputs": [],
   "source": [
    "#df.to_csv('data/token_2017_2020.csv')"
   ]
  }
 ],
 "metadata": {
  "kernelspec": {
   "display_name": "Python 3",
   "language": "python",
   "name": "python3"
  },
  "language_info": {
   "codemirror_mode": {
    "name": "ipython",
    "version": 3
   },
   "file_extension": ".py",
   "mimetype": "text/x-python",
   "name": "python",
   "nbconvert_exporter": "python",
   "pygments_lexer": "ipython3",
   "version": "3.7.9"
  }
 },
 "nbformat": 4,
 "nbformat_minor": 4
}
