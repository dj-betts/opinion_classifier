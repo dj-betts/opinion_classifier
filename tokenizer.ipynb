{
 "cells": [
  {
   "cell_type": "code",
   "execution_count": 222,
   "metadata": {},
   "outputs": [],
   "source": [
    "from functions import vectorize_y_ser, oped_v_news"
   ]
  },
  {
   "cell_type": "code",
   "execution_count": 2,
   "metadata": {},
   "outputs": [],
   "source": [
    "import string"
   ]
  },
  {
   "cell_type": "code",
   "execution_count": 3,
   "metadata": {},
   "outputs": [],
   "source": [
    "import re"
   ]
  },
  {
   "cell_type": "code",
   "execution_count": 4,
   "metadata": {},
   "outputs": [],
   "source": [
    "import datetime"
   ]
  },
  {
   "cell_type": "code",
   "execution_count": 5,
   "metadata": {},
   "outputs": [],
   "source": [
    "import nltk\n",
    "import string"
   ]
  },
  {
   "cell_type": "code",
   "execution_count": 6,
   "metadata": {},
   "outputs": [],
   "source": [
    "import pandas as pd\n",
    "import numpy as np"
   ]
  },
  {
   "cell_type": "code",
   "execution_count": 7,
   "metadata": {},
   "outputs": [],
   "source": [
    "from collections import Counter"
   ]
  },
  {
   "cell_type": "code",
   "execution_count": 8,
   "metadata": {},
   "outputs": [],
   "source": [
    "from nltk.stem.snowball import SnowballStemmer\n",
    "from nltk.stem.wordnet import WordNetLemmatizer\n",
    "from nltk.tokenize import word_tokenize\n",
    "from nltk.corpus import stopwords"
   ]
  },
  {
   "cell_type": "code",
   "execution_count": 9,
   "metadata": {},
   "outputs": [],
   "source": [
    "def vectorize_y_ser(ser):\n",
    "    y = ser.copy()\n",
    "    y.replace({'Op-Ed': 1,'News': 0}, inplace=True)\n",
    "    return y"
   ]
  },
  {
   "cell_type": "code",
   "execution_count": 215,
   "metadata": {},
   "outputs": [],
   "source": [
    "#returns articles w/ 'United States Politics and Government' as a keyword\n",
    "def return_pol_gov(row):\n",
    "    list_dict = eval(row.keywords)\n",
    "    for (dic) in (list_dict):\n",
    "        if dic.get('value') == 'United States Politics and Government':\n",
    "            return True\n",
    "\n",
    "def keyword_filter(df, keyword='United States Politics and Government'):\n",
    "    df[keyword] = df.apply(return_pol_gov, axis=1)\n",
    "    df = df[df[keyword] == True]\n",
    "    return df"
   ]
  },
  {
   "cell_type": "markdown",
   "metadata": {},
   "source": [
    "# data"
   ]
  },
  {
   "cell_type": "code",
   "execution_count": 213,
   "metadata": {},
   "outputs": [],
   "source": [
    "import os\n",
    "import glob\n",
    "import pandas as pd\n",
    "\n",
    "#extension = 'csv'\n",
    "#all_filenames = [i for i in glob.glob('*.{}'.format(extension))]\n",
    "df2020 = '/Users/djbetts/Desktop/opinion_classifier/data/archive/raw_2020.csv'\n",
    "df2019 = '/Users/djbetts/Desktop/opinion_classifier/data/archive/raw_2019.csv'\n",
    "df2018 = '/Users/djbetts/Desktop/opinion_classifier/data/archive/raw_2018.csv'\n",
    "df2017 = '/Users/djbetts/Desktop/opinion_classifier/data/archive/raw_2017.csv'\n",
    "df2016 = '/Users/djbetts/Desktop/opinion_classifier/data/archive/raw_2016.csv'\n",
    "df2015 = '/Users/djbetts/Desktop/opinion_classifier/data/archive/raw_2015.csv'\n",
    "df2014 = '/Users/djbetts/Desktop/opinion_classifier/data/archive/raw_2014.csv'\n",
    "df2013 = '/Users/djbetts/Desktop/opinion_classifier/data/archive/raw_2013.csv'\n",
    "df2012 = '/Users/djbetts/Desktop/opinion_classifier/data/archive/raw_2012.csv'\n",
    "df2011 = '/Users/djbetts/Desktop/opinion_classifier/data/archive/raw_2011.csv'\n",
    "df2010 = '/Users/djbetts/Desktop/opinion_classifier/data/archive/raw_2010.csv'\n",
    "df2009 = '/Users/djbetts/Desktop/opinion_classifier/data/archive/raw_2009.csv'\n",
    "df2008 = '/Users/djbetts/Desktop/opinion_classifier/data/archive/raw_2008.csv'\n",
    "df2007 = '/Users/djbetts/Desktop/opinion_classifier/data/archive/raw_2007.csv'\n",
    "df2006 = '/Users/djbetts/Desktop/opinion_classifier/data/archive/raw_2006.csv'\n",
    "df2005 = '/Users/djbetts/Desktop/opinion_classifier/data/archive/raw_2005.csv'\n",
    "df2004 = '/Users/djbetts/Desktop/opinion_classifier/data/archive/raw_2004.csv'\n",
    "df2003 = '/Users/djbetts/Desktop/opinion_classifier/data/archive/raw_2003.csv'\n",
    "df2002 = '/Users/djbetts/Desktop/opinion_classifier/data/archive/raw_2002.csv'\n",
    "df2001 = '/Users/djbetts/Desktop/opinion_classifier/data/archive/raw_2001.csv'\n",
    "df2000 = '/Users/djbetts/Desktop/opinion_classifier/data/archive/raw_2000.csv'\n",
    "df1999 = '/Users/djbetts/Desktop/opinion_classifier/data/archive/raw_1999.csv'\n",
    "df1998 = '/Users/djbetts/Desktop/opinion_classifier/data/archive/raw_1998.csv'\n",
    "df1997 = '/Users/djbetts/Desktop/opinion_classifier/data/archive/raw_1997.csv'\n",
    "df1996 = '/Users/djbetts/Desktop/opinion_classifier/data/archive/raw_1996.csv'\n",
    "df1995 = '/Users/djbetts/Desktop/opinion_classifier/data/archive/raw_1995.csv'\n",
    "df1994 = '/Users/djbetts/Desktop/opinion_classifier/data/archive/raw_1994.csv'\n",
    "df1993 = '/Users/djbetts/Desktop/opinion_classifier/data/archive/raw_1993.csv'\n",
    "df1992 = '/Users/djbetts/Desktop/opinion_classifier/data/archive/raw_1992.csv'\n",
    "df1991 = '/Users/djbetts/Desktop/opinion_classifier/data/archive/raw_1991.csv'\n",
    "df1990 = '/Users/djbetts/Desktop/opinion_classifier/data/archive/raw_1990.csv'\n",
    "df1989 = '/Users/djbetts/Desktop/opinion_classifier/data/archive/raw_1989.csv'\n",
    "df1988 = '/Users/djbetts/Desktop/opinion_classifier/data/archive/raw_1988.csv'\n",
    "df1987 = '/Users/djbetts/Desktop/opinion_classifier/data/archive/raw_1987.csv'\n",
    "df1986 = '/Users/djbetts/Desktop/opinion_classifier/data/archive/raw_1986.csv'\n",
    "df1985 = '/Users/djbetts/Desktop/opinion_classifier/data/archive/raw_1985.csv'\n",
    "df1984 = '/Users/djbetts/Desktop/opinion_classifier/data/archive/raw_1984.csv'\n",
    "df1983 = '/Users/djbetts/Desktop/opinion_classifier/data/archive/raw_1983.csv'\n",
    "df1982 = '/Users/djbetts/Desktop/opinion_classifier/data/archive/raw_1982.csv'\n",
    "df1981 = '/Users/djbetts/Desktop/opinion_classifier/data/archive/raw_1981.csv'"
   ]
  },
  {
   "cell_type": "code",
   "execution_count": null,
   "metadata": {},
   "outputs": [],
   "source": [
    "#returns articles w/ 'United States Politics and Government' as a keyword\n",
    "def return_pol_gov(row):\n",
    "    list_dict = eval(row.keywords)\n",
    "    for (dic) in (list_dict):\n",
    "        if dic.get('value') == 'United States Politics and Government':\n",
    "            return True\n",
    "\n",
    "def keyword_filter(df, keyword='United States Politics and Government'):\n",
    "    df[keyword] = df.apply(return_pol_gov, axis=1)\n",
    "    df = df[df[keyword] == True]\n",
    "    return df"
   ]
  },
  {
   "cell_type": "code",
   "execution_count": 11,
   "metadata": {},
   "outputs": [],
   "source": [
    "#combine print, type, text columns in the list\n",
    "def printed(file):\n",
    "    print_cols = ['_id','print_page','pub_date','keywords','type_of_material','lead_paragraph','text']    \n",
    "    df = pd.read_csv(file, usecols=print_cols, index_col='_id', low_memory=False)\n",
    "    df = df[df.print_page.isna() == False]\n",
    "    df = df[~df.text.isna() == True]\n",
    "    return df"
   ]
  },
  {
   "cell_type": "code",
   "execution_count": 248,
   "metadata": {},
   "outputs": [],
   "source": [
    "data2020 = printed(df2020)\n",
    "data2019 = printed(df2019)\n",
    "data2018 = printed(df2018)\n",
    "data2017 = printed(df2017)\n",
    "data2016 = printed(df2016)\n",
    "data2015 = printed(df2015)\n",
    "data2014 = printed(df2014)\n",
    "data2013 = printed(df2013)\n",
    "data2012 = printed(df2012)\n",
    "data2011 = printed(df2011)\n",
    "data2010 = printed(df2010)"
   ]
  },
  {
   "cell_type": "code",
   "execution_count": 249,
   "metadata": {},
   "outputs": [],
   "source": [
    "data = pd.concat([data2020, data2019, data2018, data2017, data2016,data2015, data2014, data2013, data2012, data2011, data2010])"
   ]
  },
  {
   "cell_type": "code",
   "execution_count": 250,
   "metadata": {},
   "outputs": [
    {
     "name": "stdout",
     "output_type": "stream",
     "text": [
      "News: 339111 Oped: 21387, Total: 360498, Op-Ed 0.06 of total\n"
     ]
    },
    {
     "data": {
      "image/png": "[encoded data removed]",
      "text/plain": [
       "<Figure size 432x288 with 1 Axes>"
      ]
     },
     "metadata": {
      "needs_background": "light"
     },
     "output_type": "display_data"
    }
   ],
   "source": [
    "oped_v_news(data)"
   ]
  },
  {
   "cell_type": "code",
   "execution_count": 251,
   "metadata": {},
   "outputs": [
    {
     "data": {
      "text/plain": [
       "(360498, 6)"
      ]
     },
     "execution_count": 251,
     "metadata": {},
     "output_type": "execute_result"
    }
   ],
   "source": [
    "data.shape"
   ]
  },
  {
   "cell_type": "code",
   "execution_count": 252,
   "metadata": {},
   "outputs": [
    {
     "name": "stdout",
     "output_type": "stream",
     "text": [
      "CPU times: user 26.9 s, sys: 829 ms, total: 27.7 s\n",
      "Wall time: 28.4 s\n"
     ]
    }
   ],
   "source": [
    "%%time\n",
    "df = keyword_filter(data)"
   ]
  },
  {
   "cell_type": "code",
   "execution_count": 253,
   "metadata": {},
   "outputs": [
    {
     "data": {
      "text/plain": [
       "(27461, 7)"
      ]
     },
     "execution_count": 253,
     "metadata": {},
     "output_type": "execute_result"
    }
   ],
   "source": [
    "df.shape"
   ]
  },
  {
   "cell_type": "code",
   "execution_count": 254,
   "metadata": {},
   "outputs": [
    {
     "data": {
      "text/plain": [
       "Index(['lead_paragraph', 'keywords', 'pub_date', 'type_of_material',\n",
       "       'print_page', 'text', 'United States Politics and Government'],\n",
       "      dtype='object')"
      ]
     },
     "execution_count": 254,
     "metadata": {},
     "output_type": "execute_result"
    }
   ],
   "source": [
    "df.columns"
   ]
  },
  {
   "cell_type": "code",
   "execution_count": 255,
   "metadata": {},
   "outputs": [
    {
     "name": "stdout",
     "output_type": "stream",
     "text": [
      "News: 22160 Oped: 5301, Total: 27461, Op-Ed 0.19 of total\n"
     ]
    },
    {
     "data": {
      "image/png": "[encoded data removed]",
      "text/plain": [
       "<Figure size 432x288 with 1 Axes>"
      ]
     },
     "metadata": {
      "needs_background": "light"
     },
     "output_type": "display_data"
    }
   ],
   "source": [
    "oped_v_news(df)"
   ]
  },
  {
   "cell_type": "code",
   "execution_count": 256,
   "metadata": {},
   "outputs": [
    {
     "name": "stderr",
     "output_type": "stream",
     "text": [
      "/Users/djbetts/opt/anaconda3/lib/python3.7/site-packages/ipykernel_launcher.py:1: SettingWithCopyWarning: \n",
      "A value is trying to be set on a copy of a slice from a DataFrame.\n",
      "Try using .loc[row_indexer,col_indexer] = value instead\n",
      "\n",
      "See the caveats in the documentation: https://pandas.pydata.org/pandas-docs/stable/user_guide/indexing.html#returning-a-view-versus-a-copy\n",
      "  \"\"\"Entry point for launching an IPython kernel.\n"
     ]
    }
   ],
   "source": [
    "df['text'] = [text.replace(lead, \"\") for text, lead in zip(df.text[:].astype('str'), df.lead_paragraph[:].astype('str'))]"
   ]
  },
  {
   "cell_type": "code",
   "execution_count": 257,
   "metadata": {},
   "outputs": [
    {
     "data": {
      "text/plain": [
       "'But as you drew closer to the fifth floor, where Attorney General William Pelham Barr works out of a suite of offices, things started to loosen up. One assistant outside his conference room wore a mask, but the other did not. In the middle of the room, with its oil paintings and vaulted ceiling, the long central table had fewer chairs than you might expect, and an appropriate distance between them. But past the next door, inside the attorney general’s smaller personal office, Barr himself was al'"
      ]
     },
     "execution_count": 257,
     "metadata": {},
     "output_type": "execute_result"
    }
   ],
   "source": [
    "df.text[0][:500]"
   ]
  },
  {
   "cell_type": "markdown",
   "metadata": {},
   "source": [
    "# remove quotations"
   ]
  },
  {
   "cell_type": "code",
   "execution_count": 258,
   "metadata": {},
   "outputs": [],
   "source": [
    "#split document into article body and quotation\n",
    "def text_parse(document):\n",
    "    article = []\n",
    "    quote_list = []\n",
    "    \n",
    "    open_quote = \"“\"\n",
    "    close_quote = \"”\"\n",
    "    \n",
    "    close_split = document.split(close_quote)\n",
    "    \n",
    "    for string in close_split:\n",
    "\n",
    "        quote = string.split(open_quote)\n",
    "        article.append(quote.pop(0))\n",
    "        quote_list += quote\n",
    "    \n",
    "    article = \" \".join(article)\n",
    "    quotation = \" \".join(quote_list)\n",
    "        \n",
    "    return(article, quotation)"
   ]
  },
  {
   "cell_type": "code",
   "execution_count": 259,
   "metadata": {},
   "outputs": [],
   "source": [
    "#split article and return quote\n",
    "def return_article(document):\n",
    "    article = []\n",
    "    quote_list = []\n",
    "    \n",
    "    open_quote = \"“\"\n",
    "    close_quote = \"”\"\n",
    "    \n",
    "    close_split = document.split(close_quote)\n",
    "    \n",
    "    for string in close_split:\n",
    "\n",
    "        quote = string.split(open_quote)\n",
    "        article.append(quote.pop(0))\n",
    "        quote_list += quote\n",
    "    \n",
    "    article = \" \".join(article)\n",
    "    quotation = \" \".join(quote_list)\n",
    "    \n",
    "    return(article)"
   ]
  },
  {
   "cell_type": "code",
   "execution_count": 260,
   "metadata": {},
   "outputs": [],
   "source": [
    "#split article and return quote\n",
    "def return_quote(document):\n",
    "    article = []\n",
    "    quote_list = []\n",
    "    \n",
    "    open_quote = \"“\"\n",
    "    close_quote = \"”\"\n",
    "    \n",
    "    close_split = document.split(close_quote)\n",
    "    \n",
    "    for string in close_split:\n",
    "\n",
    "        quote = string.split(open_quote)\n",
    "        article.append(quote.pop(0))\n",
    "        quote_list.append(quote)\n",
    "    \n",
    "    article = \" \".join(article)\n",
    "#    quotation = \" \".join(quote_list)\n",
    "        \n",
    "    return(quote_list)"
   ]
  },
  {
   "cell_type": "code",
   "execution_count": 261,
   "metadata": {},
   "outputs": [
    {
     "name": "stderr",
     "output_type": "stream",
     "text": [
      "/Users/djbetts/opt/anaconda3/lib/python3.7/site-packages/ipykernel_launcher.py:1: SettingWithCopyWarning: \n",
      "A value is trying to be set on a copy of a slice from a DataFrame.\n",
      "Try using .loc[row_indexer,col_indexer] = value instead\n",
      "\n",
      "See the caveats in the documentation: https://pandas.pydata.org/pandas-docs/stable/user_guide/indexing.html#returning-a-view-versus-a-copy\n",
      "  \"\"\"Entry point for launching an IPython kernel.\n"
     ]
    }
   ],
   "source": [
    "df['text'] = df.text.apply(return_article)"
   ]
  },
  {
   "cell_type": "code",
   "execution_count": 262,
   "metadata": {},
   "outputs": [
    {
     "data": {
      "text/plain": [
       "'But as you drew closer to the fifth floor, where Attorney General William Pelham Barr works out of a suite of offices, things started to loosen up. One assistant outside his conference room wore a mask, but the other did not. In the middle of the room, with its oil paintings and vaulted ceiling, the long central table had fewer chairs than you might expect, and an appropriate distance between them. But past the next door, inside the attorney general’s smaller personal office, Barr himself was al'"
      ]
     },
     "execution_count": 262,
     "metadata": {},
     "output_type": "execute_result"
    }
   ],
   "source": [
    "df['text'][0][:500]"
   ]
  },
  {
   "cell_type": "code",
   "execution_count": 263,
   "metadata": {},
   "outputs": [
    {
     "name": "stderr",
     "output_type": "stream",
     "text": [
      "/Users/djbetts/opt/anaconda3/lib/python3.7/site-packages/ipykernel_launcher.py:1: SettingWithCopyWarning: \n",
      "A value is trying to be set on a copy of a slice from a DataFrame.\n",
      "Try using .loc[row_indexer,col_indexer] = value instead\n",
      "\n",
      "See the caveats in the documentation: https://pandas.pydata.org/pandas-docs/stable/user_guide/indexing.html#returning-a-view-versus-a-copy\n",
      "  \"\"\"Entry point for launching an IPython kernel.\n"
     ]
    }
   ],
   "source": [
    "df['quote_list'] = df.text.apply(return_quote)"
   ]
  },
  {
   "cell_type": "code",
   "execution_count": 264,
   "metadata": {},
   "outputs": [
    {
     "data": {
      "text/plain": [
       "1"
      ]
     },
     "execution_count": 264,
     "metadata": {},
     "output_type": "execute_result"
    }
   ],
   "source": [
    "len(df['quote_list'][0])"
   ]
  },
  {
   "cell_type": "code",
   "execution_count": 265,
   "metadata": {},
   "outputs": [
    {
     "data": {
      "text/plain": [
       "Index(['lead_paragraph', 'keywords', 'pub_date', 'type_of_material',\n",
       "       'print_page', 'text', 'United States Politics and Government',\n",
       "       'quote_list'],\n",
       "      dtype='object')"
      ]
     },
     "execution_count": 265,
     "metadata": {},
     "output_type": "execute_result"
    }
   ],
   "source": [
    "df.columns"
   ]
  },
  {
   "cell_type": "markdown",
   "metadata": {},
   "source": [
    "# created keyword list"
   ]
  },
  {
   "cell_type": "code",
   "execution_count": 266,
   "metadata": {},
   "outputs": [],
   "source": [
    "def keyword_string(row):\n",
    "    \n",
    "    dictionary_list = (eval(row))\n",
    "    output = \" \"\n",
    "    \n",
    "    for dictionary in dictionary_list:\n",
    "        dict_value = dictionary.get('value')\n",
    "        output += (f'{dict_value} ')\n",
    "    return output.split(\" \")"
   ]
  },
  {
   "cell_type": "code",
   "execution_count": 267,
   "metadata": {},
   "outputs": [
    {
     "name": "stderr",
     "output_type": "stream",
     "text": [
      "/Users/djbetts/opt/anaconda3/lib/python3.7/site-packages/ipykernel_launcher.py:1: SettingWithCopyWarning: \n",
      "A value is trying to be set on a copy of a slice from a DataFrame.\n",
      "Try using .loc[row_indexer,col_indexer] = value instead\n",
      "\n",
      "See the caveats in the documentation: https://pandas.pydata.org/pandas-docs/stable/user_guide/indexing.html#returning-a-view-versus-a-copy\n",
      "  \"\"\"Entry point for launching an IPython kernel.\n"
     ]
    }
   ],
   "source": [
    "df['keyword_list'] =  df.keywords.apply(keyword_string)"
   ]
  },
  {
   "cell_type": "markdown",
   "metadata": {},
   "source": [
    "# remove punctuation"
   ]
  },
  {
   "cell_type": "code",
   "execution_count": 268,
   "metadata": {},
   "outputs": [],
   "source": [
    "#string.punctuation\n",
    "nytimes_punct = \"”“\"\n",
    "open_quote = \"“\"\n",
    "close_quote = \"”\""
   ]
  },
  {
   "cell_type": "code",
   "execution_count": 269,
   "metadata": {},
   "outputs": [],
   "source": [
    "#function that removes string.punctuation w/out the '?'\n",
    "def punc_strip(document):\n",
    "    for char in word_tokenize(document):\n",
    "        if char in '!\"#$%&\\'()*+,-./:;<=>?@[\\\\]^_`{|}~—':\n",
    "            document = document.replace(char, \" \")\n",
    "        if char == \"’\":\n",
    "            document = document.replace(char, \"\")\n",
    "    return document"
   ]
  },
  {
   "cell_type": "code",
   "execution_count": 270,
   "metadata": {},
   "outputs": [
    {
     "name": "stderr",
     "output_type": "stream",
     "text": [
      "/Users/djbetts/opt/anaconda3/lib/python3.7/site-packages/ipykernel_launcher.py:1: SettingWithCopyWarning: \n",
      "A value is trying to be set on a copy of a slice from a DataFrame.\n",
      "Try using .loc[row_indexer,col_indexer] = value instead\n",
      "\n",
      "See the caveats in the documentation: https://pandas.pydata.org/pandas-docs/stable/user_guide/indexing.html#returning-a-view-versus-a-copy\n",
      "  \"\"\"Entry point for launching an IPython kernel.\n"
     ]
    }
   ],
   "source": [
    "df['text'] = df.text.apply(punc_strip)"
   ]
  },
  {
   "cell_type": "markdown",
   "metadata": {},
   "source": [
    "# remove capitalized words "
   ]
  },
  {
   "cell_type": "code",
   "execution_count": 271,
   "metadata": {},
   "outputs": [],
   "source": [
    "test = df.text[0]"
   ]
  },
  {
   "cell_type": "code",
   "execution_count": 272,
   "metadata": {},
   "outputs": [
    {
     "data": {
      "text/plain": [
       "'But as you drew closer to the fifth floor  where Attorney General William Pelham Barr works out of a suite of offices  things started to loosen up  One assistant outside his conference room wore a mask  but the other did not  In the middle of the room  with its oil paintings and vaulted ceiling  the long central table had fewer chairs than you might expect  and an appropriate distance between them  But past the next door  inside the attorney generals smaller personal office  Barr himself was also mask-free  Turning around to greet his visitors  he moved into the middle of a wide circle of four chairs arranged in front of his desk Now nearing the end of his career  Barr did not take his current job for the glory  He had already been attorney general once  in President George H W  Bushs administration  winning him a reputation as a wise old man   a reputation that  in the eyes of some  his tenure in the Trump administration has tarnished  Nor is he doing it for the money  His time in corporate America earned him tens of millions of dollars in compensation and stock options  and his bearing is still that of a Fortune 500 counsel  cozy manners wrapped around a harder core   Barr said  though I had been asked to bring one  His tone was jokingly conspiratorial  as though he were making an exception for an old friend  Barr is sometimes described as   an adjective that also captures his professorial manner  His speaking voice is very soft  just loud enough to be consistently perceptible  his accent is patrician  with a trace of old New York  His personality breaks through mostly in frequent moments of humor  which range from clubby chuckles to tension-breaking eruptions   an aide added  Barr crossed the circle of chairs  grinning away any awkwardness  We bumped elbows    he said in the same joshing tone  The greater risk  of course  was that I might infect him  given his cabinet-level access to regular coronavirus testing  the difference in our ages  Barrs regular meetings with the president and the mostly one-way prophylactic value of masks in general   his aide suggested again  I took it off That Monday  the whole country was doing the same dance  The Centers for Disease Control and Prevention had recommended that all Americans wear masks at meetings like this one  President Trump was doing something else  and so  for the time being  was the White House staff  Vice President Mike Pence  having been wrong-footed after taking the no-mask custom to the Mayo Clinic  now seemed to be making it up as he went along  Eight weeks into the global pandemic  a charitable observer might still have described the administrations response as improvisational or misguided  as opposed to willfully cavalier  But things were about to get worse  That day  Trumps projection of the total U S  death toll  75 000 to 100 000   which was given the previous evening at the Lincoln Memorial  would be challenged by an internal Trump-administration document predicting that the number of daily deaths would rise into June  The reckless faith of the presidents inner circle would be challenged when two members of the White House staff tested positive for the coronavirus  Barr and I did not know it then  but we were enjoying the tail end of the Trump administrations libertine phase  On May 27  the official death toll would surpass 100 000  the upper bound of what Trump predicted on May 3 One has to assume that Trump is keeping a close eye on the 70-year-old Barr right now  The powers of the attorney general  as the executive branchs rule interpreter and law enforcer  peak during moments of social unrest  Barr knows these powers well  He led the Justice Department through the Los Angeles riots of 1992  when Bush invoked the Insurrection Act and deployed thousands of soldiers and Marines   Later  Barr said the L A  riots were   gang activity and not    Like Trump  Barr is a stalwart believer in the righteousness of the police  those communities that fail to give the police   he said in a December speech    Last summer  Barr dropped the departments federal case against the New York police officer who killed Eric Garner during an arrest in 2014 Barrs role also gives him influence over three major political fronts heading into November  First  there is Trumps fight to open the nations economy  which could depend in no small part on Barrs interpretation of federal authority and willingness to twist governors arms  Then there are the mechanics of the vote itself  a topic of great partisan controversy about which the Justice Department has shown a growing willingness to weigh in  Finally  there is the ongoing investigation led by John Durham  the United States attorney in Connecticut  into the origins of the F B I s Russia probe in the run-up to the 2016 election  the findings of which are widely expected to be announced before November With the election now on the horizon  Barr defended his record in two recent interviews  His critics charge that  since becoming attorney general  he has repeatedly steered the Justice Department toward decisions that serve Trumps interests   particularly around the investigations  carried out by the F B I  and Robert S  Mueller III  into Russian influence over the 2016 election  Barr insists that he acts independently  even as the president often undermines that claim by tweeting out apparent instructions for what his attorney general ought to do By the time of our first meeting in his office  Barr had already started looking at how the federal government might intervene in state-ordered coronavirus shutdowns  As Trump accused Democratic governors of denying citizens their   and encouraged residents to   Michigan  Minnesota and Virginia  Barr zeroed in on the nuts and bolts of the legal case for    When two small churches filed lawsuits  seeking to hold live services despite state or local regulations  the Justice Department made filings in support of their First Amendment rights  In a signed memorandum sent to the departments 93 United States attorneys  Barr suggested that the federal governments interest went beyond protecting live worship  It included  Three weeks before our interview  Trump bragged that he held   authority over the states  This went against the prevailing view that the federal government  while free to enforce a variety of measures during its own emergencies  is more constrained in its authority to compel state or local governments to lift theirs  When I asked Barr what Trump meant  he responded by laying out a general view of the presidents pandemic-related powers    he said    The answer sounded so dry and routine that I failed to ask what he meant by   Construed broadly enough  Barrs interpretation could sanitize and legalize Trumps claim to   authority Mail-in ballots are another domain where Trump had been staking out turf  He called the distribution of ballot applications in Michigan   and warned that voting by mail   In a second interview on May 20  when I asked who was going to referee the 2020 election  Barr replied    He said his departments role would be limited  as the power belongs to the states and their electors  But when I brought up Trumps tweet about Michigan  which he posted that same morning  Barr quickly seized the opportunity to float a new theory  that foreign governments might conspire to mail in fake ballots   he cautioned  offering no evidence to substantiate that this was a real possibility  But he called it   and added   On many election-related issues  the Department of Justice has to defer to the states  But in the case of Durhams investigation of the 2016 investigators  or the   as Trump has so often called it  Barr has a greater degree of control  For years  Trump has been saying that he was treated unfairly in 2016  particularly at the hands of James Comey  then the F B I  director  Barr  who is open about his agreement with this premise  is now in the process of nailing down the details  He wont rule out the possibility that Durhams findings could undermine a key consensus about 2016  the well-established conclusion that Russian interference sought to favor Trump   a finding of the Intelligence Community Assessment of 2017 that was later underscored by Mueller  the special counsel  and verified by the Republican-controlled Senate intelligence committee Durham  Barr told me  was looking for   He paused  glanced down and fidgeted for a moment with his necktie before going on   Barr seems aware at times that he is gambling with his reputation    he said with a matter-of-fact sigh in a TV interview last year    When we spoke in his office  he was critical of what he called Comeys tendency to   around himself    he said    he added   Barrs willingness to weather controversy on the presidents behalf has not only caused consternation among some former friends and allies  it has given rise to considerable speculation about his motives  Why would a grandfather in semiretirement  who had already reached the pinnacle of his profession  sign up for this  Some wonder if Barr might still be hungry for influence  having been attorney general for only 17 months the first time  Others wonder whether he spent too much time watching Fox News during the Obama years and came out the other side an ideologue  And there are others who look at Barrs support for Trump and see more consistency than contradiction  Barr  they say  hasnt changed his values  Rather  he has found in Trump the perfect vehicle with which to move them forward   says Stuart Gerson  who led the Justice Departments civil division during Barrs first tour and then succeeded him  serving as acting attorney general during the first three months of Bill Clintons presidency   As far as what Barr is hoping to do with his canvas  Gerson says he is committed to the   and   premise that   That isnt too far away from what Barr himself articulated in a 2019 speech at the University of Notre Dame  In Barrs view  piety lay at the heart of the founders model of self-government  which depended on religious values to restrain human passions    Barr said  Goodness flows from   through   to form   Reason and experience merely serve to confirm the infallible divine law  That law  he said  is under threat from   including   who call on the state   At their feet  Barr places mental illness  drug overdoses  violence and suicide  All these things  he said  are getting worse  All are  Barr started his career in the C I A  as an analyst  working on China and other matters  When I asked about the origin of his interest in the intelligence service  he responded indirectly  with an anecdote about telling his high school guidance counselor that he wanted to be C I A  director  It was tempting to link Barrs career and conservatism with his father  Donald Barr  who served in the Office of Strategic Services  the C I A s forerunner  during World War II  In 1940  as an undergraduate at Columbia  Donald wrote a controversial editorial for The Columbia Review  defending a speech by the university president that called upon the faculty to support the American war effort    he wrote    As tempting as it was to see the son as part of some epigenetic chain of old-line conservatism  Barr cautioned me not to make such assumptions   Barrs parents met at the University of Missouri in the early 1940s  Donald  who already spoke three languages  had been sent there by the Army to learn Italian  He spotted Mary Ahern  a young Irish-Catholic woman who had a masters degree in English from Yale  through an open doorway  teaching Shakespeare to undergraduates  and was smitten  Ahern took some courting  She thought Donald was a   Barr told me  and his background was also an issue  he was raised without much religion  but his father  Williams grandfather  was born a secular Jew  Upon joining the Army  Donald gave his religion as Dutch Reformed  He converted to Catholicism after he and Mary wed Donald Barrs 26-page O S S  file  obtained from the National Archives  gives a detailed account of his transition from the military to intelligence work  In 1944  he shipped off to Europe  He suffered from hay fever and 20/200 vision  much of his time overseas was spent hospitalized with allergies  The next year  he was assigned to the O S S  His interviewer found him to be   In late 1945  he moved to Washington to begin work at the Interim Research and Intelligence Service  which would become the State Departments in-house intelligence bureau William  the couples second son  was born in 1950  By age 8  he had taken up the bagpipes  which would become a lifelong hobby  He attended the Horace Mann School in New York  where his classmates remembered his conservatism  the delight he took in making an argument and his sense of humor  The yearbook praised him as an  Barrs involvement with campus politics continued at Columbia  He joined the Majority Coalition  which organized against student occupiers who had taken over the campus to protest the Vietnam War  Columbia was known as a feeder school for the C I A  An average of 14 seniors went to the agency each year from 1960 through 1966  according to a 1967 article from the student newspaper  The Daily Spectator  which reported that a majority came in not through the colleges Office of Career Planning and Placement but     perhaps a reference to the private foundations and student organizations that were receiving C I A  funding at that time In the late 1960s  this recruiting drew campus protests  which eventually broadened to take on other issues beyond the war  On the morning of April 24  1968  student demonstrators  many of them affiliated with Students for a Democratic Society  stormed Low Memorial Library and took over the offices of Columbias president  The protesters were angry that Columbia was building a gymnasium nearby that would have two separate entrances   one for the school community and one for neighborhood residents   and also about the universitys connection with a think tank that did research for the Pentagon Barr was on the other side  standing shoulder to shoulder with conservatives and athletes to form a blockade around the library    he told me    He smiled to himself   I asked if he was in the fistfight  He adjusted the bridge of his glasses and glanced down    he said  letting out a big laugh    He later added   Barr interned at the C I A  in the summers of 1971 and 1972  In 1973  after completing his graduate degree in government and Chinese studies  he married Christine Moynihan  whom he met at a fraternity party  The next day  the couple drove to Washington  and Barr began a permanent job at the C I A  the day after that  His mothers memories of the Great Depression  he said  had instilled in him a desire for career stability  so he began taking law courses at night  By then  he had transferred to the C I A s Office of Legislative Counsel    says John Rizzo  who worked down the hall from Barr in the general counsels office  where Rizzo would eventually rise to become the acting head   The new job put Barr on the C I A s seventh floor  not far from the directors office and near the center of what was shaping up to be a historic fight with Congress  In the aftermath of World War II  the presidency was endowed with vast new powers   mass surveillance  covert operations  proxy wars and nuclear weapons  The young C I A   spurred on by the imperative to win the Cold War  abused its own new powers to an astonishing degree  Despite a statutory ban on its involvement in either   or   the C I A  surveilled and surreptitiously engaged with countless American citizens  The agency reported to the president and often took action based on informal conversations  without ever committing much to paper  Secrecy around the agencys transgressions held until the 1970s  when antiwar sentiment began to peak  The scandals around the Pentagon Papers  1971  and the Watergate break-in  1972   culminating in the long-anticipated Vietnam defeat  convinced much of the public that the federal government should no longer be given the benefit of the doubt  In 1973  Richard Helms  the longtime C I A  director  ordered the destruction of internal C I A  documents regarding MK-Ultra  an experimental mind-control program    Helms later recalled   In 1974  the journalist Seymour Hersh  who had already broken the story of the My Lai massacre in Vietnam  revealed that the C I A  had developed a sprawling domestic-spying operation  keeping dossiers on thousands of American citizens  Congress created two special committees   a Senate committee  led by Senator Frank Church  and a House committee that would eventually be led by Representative Otis Pike   to investigate  For years  the C I A  would be consumed with negotiations over the limits of what Congress could oversee   Barr told me in his office   I asked if there had indeed been excesses  Barrs poker face came to life  He grinned  turned his palms out and shrugged    he said  He burst out laughing  Then he pulled back to give the matter some more thought  adjusting his glasses as he settled back into seriousness   he said   The battle between conservative hard-liners and a Democratic-led Congress would continue through the late Cold War  Inside the C I A   there was a sense of victimization    Frederick Hitz  the agencys first presidentially appointed inspector general  told me   In 1976  the job of defending the agency in public passed to the new director  George H W  Bush  who had served as a special U S  envoy to China  On at least one occasion  Barr sat behind Bush during a congressional hearing  giving him legal advice  Congress wound up making oversight a permanent thorn in the C I A s side by establishing two intelligence oversight committees  That May  Barr drafted two letters  each signed by Bush  asking Congress if the C I A  could resume the routine destruction of documents  The request was denied   says Michael Glennon  now a law professor at the Fletcher School of Law and Diplomacy at Tufts University  who dealt with the C I A  as legal counsel of the Senate Foreign Relations Committee   Rather than accept post-Watergate congressional limitations  the hard-liners decamped from the C I A  and became floaters  bureaucratic nomads who sought out underused and low-visibility pockets of the federal government from which to wage their war over executive power  The largest battle was fought around the Iran-contra affair  A covert group operating out of the Reagan White House had used money gained by selling arms to Iran to fund anti-Communist rebels in Central America  flouting a congressional prohibition  Much of the operation was organized by Lt  Col  Oliver North of the National Security Council  Many of the Iran-contra plotters were dragged into the public eye and indicted by a special prosecutor  another post-Watergate innovation  Evidence pointing to the involvement of President Ronald Reagan and Vice President George H W  Bush was inconclusive  The hard-liners felt that foreign policy and covert operations were an exclusively presidential domain    is how Reagans first C I A  director  William Casey  put it in an interview with the political scientist Loch K  Johnson Around this time  conservative thinkers of Barrs generation began to coalesce around an idea they called   The presidents right to his powers under Article II of the Constitution  they argued  was undivided and absolute  Post-Watergate reforms   independent prosecutors to investigate high-level wrongdoing  requirements to get warrants for national-security wiretaps  and more   were unconstitutional incursions into the presidents rightful powers In June 1977  Barr left the C I A  upon his graduation from George Washington University Law School  eventually landing as a policy lawyer in the Reagan White House  Bush  running for president  took Barr to the 1988 Republican National Convention to help vet potential running mates and  after winning the election  appointed him to lead the Justice Departments Office of Legal Counsel  where his duties included determining the legal limits of C I A  activities  Rizzo  who was still at the C I A   recalls that Barr kept his independence from the Oval Office  Two of Barrs opinions on classified C I A  operations   while a third operation  Rizzo says  was rejected entirely  One of Barrs public opinions  though  effectively authorized the invasion of Panama  Later  as acting attorney general  he impressed Bush further by defusing a delicate prison-hostage crisis  As attorney general in 1992  Barr signed off on a mass-surveillance program that collected billions of call records for the Drug Enforcement Administration  At the end of Bushs presidency  he successfully pushed for a pardon of six Iran-contra defendants Gen  Michael V  Hayden  a former C I A  director  says Barr reminds him of David Addington   the former C I A  lawyer who became Vice President Dick Cheneys chief of staff and played a major role in pushing the limits of conduct  including torture  that the White House and the C I A  determined to be legal in the aftermath of the Sept  11 attacks  Barr   Hayden says   Barrs intellect and experience made him appealing to the private sector  For eight years  he served as general counsel at Verizon  at a time when the company was working out secret arrangements with the National Security Agency to turn over its customers data  In September 2001  a legal trade publication noted Barrs  1 5 million salary and compared him to a   for the depth of his connections in both political Washington and corporate New York  At that time  he said  he had no interest in returning to officialdom    he said   By the 2016 presidential election  Barr was a player in Republican politics and active in conservative Catholic causes  He gave nearly  50 000 to a PAC affiliated with Jeb Bush  His annual holiday parties  traditional Scottish cèilidhs with music and singers  drew hundreds whose friendships he had maintained over the years  He wrote and sold a screenplay about World War II  He spent time traveling abroad and hunting birds  His three daughters all became accomplished lawyers  working on Capitol Hill or as federal prosecutors  The eldest  Mary  moved to the Treasury Departments financial-crimes unit after Barrs nomination as attorney general  one of Barrs sons-in-law left the Justice Department for the White House Counsels Office Last year  shortly after his Notre Dame speech  Barr gave a second major address at the annual convention of the Federalist Society  an organization of conservative lawyers founded during the Reagan administration  The subject was executive power  Again Barr criticized progressives  this time for making politics   The presidency  in his view  handled   Part of the core function of the presidency was the ability to act swiftly and without constraint  but this capability had been diminished by the other branches since Watergate  Congress had burdened the president with oversight  while the courts were interfering with Trumps travel ban on certain countries and his termination of President Barack Obamas DACA program for young immigrants  Barr seemed to suggest that when it comes to foreign policy  the only legitimate check on presidential behavior is the next election  Months later  this argument would become the foundation of Trumps impeachment defense On Dec  5  2018  Barr attended George H W  Bushs funeral  While waiting in line for the shuttle bus that would take him to Washington National Cathedral  he and his wife ran into a friend  C  Boyden Gray  who was Bushs White House counsel during the Reagan years  The two men spent most of the day together  Barr sounded out Gray about the attorney-general job  Gray knew from following the news that Barr was under consideration  but Barr never tipped his hand about how close he was to being tapped  and Gray never asked  Later that week  when Trump announced Barrs nomination  Gray was not surprised    under Bush  Gray says   At the time of his nomination  Barrs supporters presented him as a trustworthy and sensible conservative  a known quantity within the Washington establishment who would restrain Trumps worst impulses  James Comey called him   Benjamin Wittes  a legal commentator who is now one of Barrs harshest critics  tweeted at the time that he had been   under Bush and that his confirmation would be  During the confirmation hearing  Senator Dianne Feinstein of California  the ranking Democrat on the Judiciary Committee  questioned Barr at length about a memorandum he wrote to the administration the previous summer  outlining why he believed that Mueller had no legal right to investigate Trump for obstruction of justice  The president  Barr argued  has   investigations and can   on individual cases  including those that touch on his political or financial interests    Barr wrote  Law enforcement  he argued  was a power exclusively held by the president  because  In the hearing  Barr seemed to say that he did not believe the unitary executives powers to be infinite  When Senator Patrick Leahy  a Vermont Democrat  asked if it would be lawful for a president to trade a pardon for a promise not to incriminate him  Barr answered that such an exchange would be a crime  He also mentioned his long friendship with Mueller  Barrs wife attends the same Bible study as Muellers wife  Mueller attended the weddings of two of Barrs daughters Barr was confirmed by a vote of 54 to 45  He had barely served one month as attorney general when his friendship with Mueller was tested by the special prosecutors delivery of his report  on the afternoon of Friday  March 22  Trumps Twitter account then went dark for nearly 40 hours  That Sunday  Barr sent a letter to Congress that he would later describe as giving Muellers   and Trumps feed came back to life    he tweeted  In his first public comments that same day  Trump said the words   three times    he added Trumps tweet  Barrs letter and Muellers report said three different things  Neither Barr nor Mueller exonerated Trump  Barr quoted Muellers own words that his complicated finding on obstruction   the president  But Barr omitted Muellers conclusions that Russian interference sought to favor Trump  that Trump and his campaign welcomed the interference and believed they would benefit from it  and that the   and   between Russians and the campaign were substantial  even though the evidence Mueller was able to gather fell short of a criminal conspiracy Mueller fired off two letters complaining that Barr had misrepresented his work  In the second letter  dated March 27  he asked Barr to immediately release the reports introductions and executive summaries  But the public would not get to read Muellers work until April 18  when Barr released a redacted version of the full report  Before doing so  Barr gave a news conference in which he tilted further toward declaring Trump innocent  something Mueller bent over backward not to do    Barr said of Trump   Barrs distortions drew wide criticism  Democrats were also frustrated by the reports content  It lacked the thunderous revelations about Russia that had long been promised by Trumps opponents  and it suffered from legalistic inconclusiveness on the most fundamental questions  Mueller  having been given a chance to put the 2016 election to bed for good  had carefully avoided doing so Democrats hopes for the promised collusion bombshell now turned to the unredacted version of the Mueller report  which Barr refused to give them  In an echo of his C I A  work during the Church Commission years  the Barr-led Justice Department has taken a very hard line regarding what information Congress and the courts are entitled to get from the White House  It has fought in court against the release of Trumps tax returns  argued that Congress did not need to see the Ukraine whistle-blowers complaint  because it was not a matter of    and has challenged congressional requests for Muellers secret grand-jury materials After Barr refused to turn over the fully unredacted Mueller report to the House Judiciary Committee  citing executive privilege  the committee voted to hold him in contempt  The Democratic chairman  Representative Jerrold Nadler of New York  claimed that this was the beginning of a   Barr seemed untroubled    he reportedly quipped to Nancy Pelosi at an event a few days later  But concerns about Barrs handling of Muellers investigation have not been confined to Democrats  Judge Reggie B  Walton of the United States District Court for the District of Columbia  a George W  Bush appointee  recently criticized Barrs   and questioned whether  At his first meeting with President Trump in 2017  Barr later recalled in his confirmation hearing  he told Trump that   In the end  he was half right    Barr said in one of our interviews  That would have been March 2019   more than a year ago   Barr continued  I asked if they still saw each other at Bible study    Barr replied Attorneys general are chosen by the president  no law prohibits them from doing the presidents bidding  Many presidents have occasionally asked the attorney general to intervene in individual prosecutions  John Mitchell  President Richard M  Nixons attorney general  went much further  helping to plan the Watergate burglary and then working to cover it up  But the Justice Departments guidelines do enjoin prosecutors not to comment about ongoing investigations  something Barr does regularly  They also caution that legal judgments   and that the department must respect Congresss  None of this has stopped Barr from overruling his subordinates to the benefit of Trumps friends and associates   most notably Roger Stone  Trumps longtime political mentor  and Michael Flynn  his former national security adviser  In both cases  Trump has tweeted about what he sees as the unfairness of their legal troubles  and the Justice Department has subsequently pushed for leniency Barr has repeatedly said that Trump has never asked him to do anything in a criminal case    he said in an interview with ABC News  But the departments interventions on behalf of Stone and Flynn have raised questions about the supposed Trump-Barr firewall    Jack Goldsmith  who led the Office of Legal Counsel under George W  Bush  told The Times in February  Barr has said he doesnt pay attention to Trumps tweets and doesnt take seriously the ones he is made aware of    says Gray  Barrs friend and former colleague Vanita Gupta  the former head of Obamas civil rights division at the department  articulated a prevailing view of Barr among Democrats  telling me that the attorney general has   Gupta says Barrs interventions on behalf of Trump associates have far-reaching consequences    she says   In February  prosecutors recommended that Stone be sentenced to seven to nine years in prison for witness tampering and other crimes  The following day  the Justice Department filed a second  revised sentencing memo asking that Stones sentence be reduced  Eighty-seven to 108 months  the memo argued    given Stones  On the same day the department revised its sentencing recommendation  all four of the prosecutors responsible for the case announced their withdrawal  One  Jonathan Kravis  left the department entirely    Kravis wrote later in an op-ed in The Washington Post On Twitter  Trump said the Stone prosecutors   He tweeted out congratulations to Barr for   Barr pushed back in the ABC interview  insisting that he reached the Stone decision independently    he said  adding   The post-Mueller case that has arguably received the most attention among Trumps supporters is that of Flynn  the lieutenant general who briefly served as Trumps national security adviser  The dueling narratives around the Obama-to-Trump transition crystallize around Flynn  and the question of whether he or those who investigated him were in the wrong  In addition to drawing scrutiny for his Russian contacts  Flynn initially failed to report  as legally required  that his company was effectively on the payroll of the Turkish government during the 2016 campaign  Obama himself tried and failed to talk Trump into dropping him  Many of Trumps own problems hinged on his asking Comey if he could   to dropping the Flynn investigation  Trumps adversaries consider Flynn to be a loose cannon and possible Russian pawn who needed to be rooted out  His supporters depict him as the second coming of Oliver North   a good soldier who was martyred in public for his loyalty to the executive On May 4  the day of my first interview with Barr  Flynn was still awaiting sentencing  having pleaded guilty to lying to the F B I  From time to time  Trump had been tweeting about the Flynn case in ways that seemed to cross the line that Barr had drawn about public comments from the White House about matters pending before the Justice Department  Trump said Flynn had been victimized by the   as Stone I asked Barr  in light of his statement on ABC News  whether these were the kind of tweets that made his job    Barr said   Trump had recently been tweeting about Flynn  I said    Barr replied I asked if he would like to see them    Barr said   I handed Barr a printout of an April 29 Trump tweet  It read   Barr said with cool indifference   I asked how it was that Flynns supposed antagonists could be punished       without involvement from the department   Barr asked  referring to the particular case that was now before Judge Emmet Sullivan  He had found the right hair to split  and he split it so cleanly and decisively that I couldnt say this wasnt his position from the beginning The tweet  Barr said  was nothing new  Trump  he said   Three days later  on the afternoon of May 7  the Justice Department filed a motion to dismiss its own prosecution of Flynn  The government argued that Flynns false statements were not   to the investigation of Flynn  because the investigation was itself unjustified  The argument relied in part on the contents of handwritten F B I  notes that had been turned over to Flynns attorneys by the department and released to the public by mutual agreement  One of the prosecutors assigned to the case immediately withdrew A few days later  Sullivan decided he wouldnt rule on whether to accept the departments motion until he had heard from friends of the court and a special counsel  Flynns lawyers appealed  asking a higher court to force the judges hand  Again  the department took Flynns side  Trump took to Twitter  celebrating  The definitive Sept  11 Commission-style history of the 2016 election remains unwritten  though not for lack of trying  In addition to the Mueller report and voluminous criminal indictments  we have the Intelligence Community Assessment  the Horowitz report  by the Justice Departments inspector general  Michael Horowitz  and four volumes of the Senate intelligence committees report  a fifth volume of which is on the way The major episodes of the story may now seem like familiar terrain to those who have kept up  and a hopeless mess to everyone else  But zoom out a bit  and the stakes could not be higher  Many of Trumps critics  like Representative Adam Schiff of California  the Democratic chairman of the House Intelligence Committee  and James Clapper  Obamas director of national intelligence  go further than saying that the Russians put a thumb on the scale for Trump  They have suggested that the extra boost was decisive   that Trump would not have been elected in 2016 but for Russian interference  The crucial legacy of 2016 is that the question of Trumps legitimacy was never settled  And without any consensus on what happened in 2016  the rules of the road for 2020 are up in the air But first  armed with the powers of law enforcement and presidential access to classified material  Trump is getting ready to roll out his account of 2016  When Trump promises   he most likely has in mind the ongoing investigation by John Durham and its long-expected report   although it is also possible that Durhams public work product will take the form of indictments  or perhaps nothing at all  Barr  who assigned Durham the task of investigating the Russia probe in May last year and met with him several times immediately after the conclusion of Muellers investigation  is overseeing Durhams work and briefs Trump on his findings regularly  Based on Barrs public statements  we can see the rough contours of Durhams findings beginning to take shape  The governments conduct during the Obama-to-Trump transition  Barr has said  was   Surveillance of Trumps campaign amounted to   Then there was the all-important question of whether the F B I  was justified in opening the initial Crossfire Hurricane investigation into the Trump campaigns Russia ties Under ordinary circumstances  Justice Department prosecutors do not comment on anything connected to an ongoing investigation  but on the day that Horowitz released his report  both Barr and Durham decided to do just that  The F B I s interest in Trump  Barr said  was based   and     Durham said in his own statement  Horowitz had found that the investigation was justified  so these sounded like sweeping words of dissent  But over the coming months  as attention drifted elsewhere  they shrank  By the time I sat down with Barr  the only dispute with Horowitz hed voiced was whether the F B I  had enough evidence to open a full investigation   Barr and Durham believe that there was only enough to open a preliminary investigation  not a full one  In our first interview  Barr mentioned the dossier of salacious anti-Trump claims that had been gathered and circulated by Christopher Steele  a former British intelligence agent who was working indirectly for the Clinton campaign  The possibility that the Russian government intentionally seeded the dossier with misinformation was one of the issues Mueller ignored and Durham was looking at  Barr said  Nor had Mueller gone back and looked at the investigative steps taken as Crossfire Hurricane accelerated  he continued  Horowitz had done that  but unlike Barr and Durham  he had no access to the C I A   the N S A  and the foreign governments that were involved To facilitate what later became a criminal investigation  Trump ordered the heads of the intelligence agencies to cooperate with Barr  He delegated to Barr the power to order the declassification of secret documents  Barr has spoken with intelligence officials from Italy  Australia and Britain to reportedly solicit information that could help Durham  In the case of Italy  where Barr and Durham met with political leaders and intelligence chiefs in person  his visit provoked concern among U S  diplomats  who told The Times that Barr circumvented protocols in setting up the trip  Senator Mark Warner of Virginia  who is the ranking Democrat on the Intelligence Committee and helped write its five-volume report  said there were   about Barrs trips    he said Timothy Flanigan  a former colleague of Barrs from the George H W  Bush years  said he thought Durham could come back with something more  Muellers investigation   he told me   Durhams investigation is not the only means through which Barrs decisions could affect the election  If the F B I  wants to open a criminal investigation into either campaign  it will first need Barrs personal approval  Barr has established a special   to deal with materials that Rudolph W  Giuliani says he has obtained from Ukrainian sources  which  Giuliani has claimed  implicate Joe Biden  the presumptive Democratic presidential nominee  In the interview  Barr did not dispute the notion that the Russian government had interfered in 2016  but he made it sound as though the assumption that it favored Trump would be coming under some pressure One also would expect Barr to play a role in deterring and punishing foreign interference in the 2020 election  but that could get complicated  Trumps camp continues to deny the intelligence communitys consensus view  one strongly reiterated by Mueller and the Senate intelligence committee  that the Russians favored Trump over Hillary Clinton  Some  including Republicans on the House Intelligence Committee  claim to have unreleased evidence that points the other way  Based on what Barr told me  Russian intentions will most likely emerge as the key retrospective battlegrounds as Durhams work continues and the election draws closer   Barr said   But what Barr did not address directly was the fourth volume of the report from the Senate intelligence committee  That report reviewed much of the same intelligence underlying the Intelligence Community Assessment  It affirmed that Russias pro-Trump position and President Vladimir V  Putins direct involvement were supported by   The N S A s disagreement was   Unlike the committees groundbreaking 2012 Torture Report  the fourth volume was unanimously approved by a bipartisan vote of the Republican-led committee    said Senator Richard Burr  a Republican from North Carolina and the chairman of the committee Warner  for his part  dismissed Durhams investigation as   he told me   I brought up the Durham investigation again in my last interview with Barr  on May 20  The fifth floor of Justice Department headquarters now felt different  some older  lawyerly looking men walking around wore masks  Two younger men in suits with lapel pins  who were most likely security  did not  Barr himself still wore no mask  but there were no more polite entreaties for visitors to take theirs off  One could see two crumpled blue surgical masks lying amid the papers on Barrs desk  With disarming familiarity  Barr sat down on a sofa and offered me my   in a tufted leather chair By then  Trump had seized on the   meme  accusing the former president and Biden of   When asked what crime he thought they were guilty of  Trump declined to answer  In a news conference two days before I went to see him  Barr was asked indirectly if Durhams investigation might lead to criminal charges being filed against Obama or Biden    he said   Later that same day  Trump  asked about Barrs statement  replied    He went on    Trump then said he had   that Obama and Biden were   in what he now called a   As to whether or not it was criminal  he said   In Barrs office two days later  I brought up how Trump seemed to have heard only what he wanted to hear  that Barrs prediction about not prosecuting the former president was only valid  Barr said I shouldnt read too much into those words   he said   Whether he realized it or not  the line Barr had drawn at the news conference was getting blurrier with every word  just as Trump had hoped   Barr went on    He pulled back from the conversation and thought for a moment   After keeping tabs on Durhams investigation for more than a year  Barr did not think it was likely that he would have to prosecute a former president  But neither  at that moment  was he willing to rule it out  He made this position sound reasonable  even as it served to support the unsupported   theory that the president was floating at the time In the end  the substance of Durhams findings might not matter  Whatever he turns up will become a major theme of Trumps 2020 campaign  the less time there is before an election  the greater political impact of even the smallest apparent revelation  All Trump needed from Barr was the glimmer of a possibility  a slight shadow of official uncertainty in which his wild theories could flourish  And for now  Barr was giving him that  How much more he would give the president before November  it was hard to say '"
      ]
     },
     "execution_count": 272,
     "metadata": {},
     "output_type": "execute_result"
    }
   ],
   "source": [
    "test"
   ]
  },
  {
   "cell_type": "code",
   "execution_count": 273,
   "metadata": {},
   "outputs": [],
   "source": [
    "def remove_cap_words(row):\n",
    "    temp = row.split()\n",
    "    for i, word in enumerate(temp):\n",
    "        if word[0].isupper():\n",
    "            temp[i] = \"\"\n",
    "            \n",
    "    return \" \".join(temp)"
   ]
  },
  {
   "cell_type": "code",
   "execution_count": 274,
   "metadata": {},
   "outputs": [],
   "source": [
    "# def remove_cap_words(row):\n",
    "#     r1 = re.findall(r\"([A-Z][^ ]*)(?=\\s+(?:[^A-Z]\\S*\\s+){1,4}cells?)\", row)\n",
    "#     print(r1)"
   ]
  },
  {
   "cell_type": "code",
   "execution_count": 275,
   "metadata": {},
   "outputs": [
    {
     "name": "stderr",
     "output_type": "stream",
     "text": [
      "/Users/djbetts/opt/anaconda3/lib/python3.7/site-packages/ipykernel_launcher.py:1: SettingWithCopyWarning: \n",
      "A value is trying to be set on a copy of a slice from a DataFrame.\n",
      "Try using .loc[row_indexer,col_indexer] = value instead\n",
      "\n",
      "See the caveats in the documentation: https://pandas.pydata.org/pandas-docs/stable/user_guide/indexing.html#returning-a-view-versus-a-copy\n",
      "  \"\"\"Entry point for launching an IPython kernel.\n"
     ]
    }
   ],
   "source": [
    "df['text'] = df.text.apply(remove_cap_words)"
   ]
  },
  {
   "cell_type": "code",
   "execution_count": 276,
   "metadata": {},
   "outputs": [
    {
     "data": {
      "text/plain": [
       "' as you drew closer to the fifth floor where      works out of a suite of offices things started to loosen up  assistant outside his conference room wore a mask but the other did not  the middle of the room with its oil paintings and vaulted ceiling the long central table had fewer chairs than you might expect and an appropriate distance between them  past the next door inside the attorney generals smaller personal office  himself was also mask-free  around to greet his visitors he moved into the middle of a wide circle of four chairs arranged in front of his desk  nearing the end of his career  did not take his current job for the glory  had already been attorney general once in      administration winning him a reputation as a wise old man a reputation that in the eyes of some his tenure in the  administration has tarnished  is he doing it for the money  time in corporate  earned him tens of millions of dollars in compensation and stock options and his bearing is still that of a  500 counsel cozy manners wrapped around a harder core  said though  had been asked to bring one  tone was jokingly conspiratorial as though he were making an exception for an old friend  is sometimes described as an adjective that also captures his professorial manner  speaking voice is very soft just loud enough to be consistently perceptible his accent is patrician with a trace of old    personality breaks through mostly in frequent moments of humor which range from clubby chuckles to tension-breaking eruptions an aide added  crossed the circle of chairs grinning away any awkwardness  bumped elbows he said in the same joshing tone  greater risk of course was that  might infect him given his cabinet-level access to regular coronavirus testing the difference in our ages  regular meetings with the president and the mostly one-way prophylactic value of masks in general his aide suggested again  took it off   the whole country was doing the same dance   for   and  had recommended that all  wear masks at meetings like this one   was doing something else and so for the time being was the   staff     having been wrong-footed after taking the no-mask custom to the   now seemed to be making it up as he went along  weeks into the global pandemic a charitable observer might still have described the administrations response as improvisational or misguided as opposed to willfully cavalier  things were about to get worse  day  projection of the total   death toll 75 000 to 100 000 which was given the previous evening at the   would be challenged by an internal  document predicting that the number of daily deaths would rise into   reckless faith of the presidents inner circle would be challenged when two members of the   staff tested positive for the coronavirus  and  did not know it then but we were enjoying the tail end of the  administrations libertine phase   27 the official death toll would surpass 100 000 the upper bound of what  predicted on  3  has to assume that  is keeping a close eye on the 70-year-old  right now  powers of the attorney general as the executive branchs rule interpreter and law enforcer peak during moments of social unrest  knows these powers well  led the   through the   riots of 1992 when  invoked the   and deployed thousands of soldiers and    said the   riots were gang activity and not    is a stalwart believer in the righteousness of the police those communities that fail to give the police he said in a  speech  summer  dropped the departments federal case against the   police officer who killed   during an arrest in 2014  role also gives him influence over three major political fronts heading into   there is  fight to open the nations economy which could depend in no small part on  interpretation of federal authority and willingness to twist governors arms  there are the mechanics of the vote itself a topic of great partisan controversy about which the   has shown a growing willingness to weigh in  there is the ongoing investigation led by   the   attorney in  into the origins of the    s  probe in the run-up to the 2016 election the findings of which are widely expected to be announced before   the election now on the horizon  defended his record in two recent interviews  critics charge that since becoming attorney general he has repeatedly steered the   toward decisions that serve  interests particularly around the investigations carried out by the    and     into  influence over the 2016 election  insists that he acts independently even as the president often undermines that claim by tweeting out apparent instructions for what his attorney general ought to do  the time of our first meeting in his office  had already started looking at how the federal government might intervene in state-ordered coronavirus shutdowns   accused  governors of denying citizens their and encouraged residents to   and   zeroed in on the nuts and bolts of the legal case for  two small churches filed lawsuits seeking to hold live services despite state or local regulations the   made filings in support of their   rights  a signed memorandum sent to the departments 93   attorneys  suggested that the federal governments interest went beyond protecting live worship  included  weeks before our interview  bragged that he held authority over the states  went against the prevailing view that the federal government while free to enforce a variety of measures during its own emergencies is more constrained in its authority to compel state or local governments to lift theirs   asked  what  meant he responded by laying out a general view of the presidents pandemic-related powers he said  answer sounded so dry and routine that  failed to ask what he meant by  broadly enough  interpretation could sanitize and legalize  claim to authority  ballots are another domain where  had been staking out turf  called the distribution of ballot applications in  and warned that voting by mail  a second interview on  20 when  asked who was going to referee the 2020 election  replied  said his departments role would be limited as the power belongs to the states and their electors  when  brought up  tweet about  which he posted that same morning  quickly seized the opportunity to float a new theory that foreign governments might conspire to mail in fake ballots he cautioned offering no evidence to substantiate that this was a real possibility  he called it and added  many election-related issues the  of  has to defer to the states  in the case of  investigation of the 2016 investigators or the as  has so often called it  has a greater degree of control  years  has been saying that he was treated unfairly in 2016 particularly at the hands of   then the    director  who is open about his agreement with this premise is now in the process of nailing down the details  wont rule out the possibility that  findings could undermine a key consensus about 2016 the well-established conclusion that  interference sought to favor  a finding of the    of 2017 that was later underscored by  the special counsel and verified by the   intelligence committee   told me was looking for  paused glanced down and fidgeted for a moment with his necktie before going on  seems aware at times that he is gambling with his reputation he said with a matter-of-fact sigh in a  interview last year  we spoke in his office he was critical of what he called  tendency to around himself he said he added  willingness to weather controversy on the presidents behalf has not only caused consternation among some former friends and allies it has given rise to considerable speculation about his motives  would a grandfather in semiretirement who had already reached the pinnacle of his profession sign up for this  wonder if  might still be hungry for influence having been attorney general for only 17 months the first time  wonder whether he spent too much time watching   during the  years and came out the other side an ideologue  there are others who look at  support for  and see more consistency than contradiction  they say hasnt changed his values  he has found in  the perfect vehicle with which to move them forward says   who led the   civil division during  first tour and then succeeded him serving as acting attorney general during the first three months of   presidency  far as what  is hoping to do with his canvas  says he is committed to the and premise that  isnt too far away from what  himself articulated in a 2019 speech at the  of     view piety lay at the heart of the founders model of self-government which depended on religious values to restrain human passions  said  flows from through to form  and experience merely serve to confirm the infallible divine law  law he said is under threat from including who call on the state  their feet  places mental illness drug overdoses violence and suicide  these things he said are getting worse  are  started his career in the    as an analyst working on  and other matters   asked about the origin of his interest in the intelligence service he responded indirectly with an anecdote about telling his high school guidance counselor that he wanted to be    director  was tempting to link  career and conservatism with his father   who served in the  of   the    s forerunner during     1940 as an undergraduate at   wrote a controversial editorial for    defending a speech by the university president that called upon the faculty to support the  war effort he wrote  tempting as it was to see the son as part of some epigenetic chain of old-line conservatism  cautioned me not to make such assumptions  parents met at the  of  in the early 1940s  who already spoke three languages had been sent there by the  to learn   spotted   a young  woman who had a masters degree in  from  through an open doorway teaching  to undergraduates and was smitten  took some courting  thought  was a  told me and his background was also an issue he was raised without much religion but his father  grandfather was born a secular   joining the   gave his religion as    converted to  after he and  wed   26-page    file obtained from the   gives a detailed account of his transition from the military to intelligence work  1944 he shipped off to   suffered from hay fever and 20/200 vision much of his time overseas was spent hospitalized with allergies  next year he was assigned to the     interviewer found him to be  late 1945 he moved to  to begin work at the   and   which would become the   in-house intelligence bureau  the couples second son was born in 1950  age 8 he had taken up the bagpipes which would become a lifelong hobby  attended the    in   where his classmates remembered his conservatism the delight he took in making an argument and his sense of humor  yearbook praised him as an  involvement with campus politics continued at   joined the   which organized against student occupiers who had taken over the campus to protest the    was known as a feeder school for the     average of 14 seniors went to the agency each year from 1960 through 1966 according to a 1967 article from the student newspaper    which reported that a majority came in not through the colleges  of   and  but perhaps a reference to the private foundations and student organizations that were receiving    funding at that time  the late 1960s this recruiting drew campus protests which eventually broadened to take on other issues beyond the war  the morning of  24 1968 student demonstrators many of them affiliated with  for a   stormed    and took over the offices of  president  protesters were angry that  was building a gymnasium nearby that would have two separate entrances one for the school community and one for neighborhood residents and also about the universitys connection with a think tank that did research for the   was on the other side standing shoulder to shoulder with conservatives and athletes to form a blockade around the library he told me  smiled to himself  asked if he was in the fistfight  adjusted the bridge of his glasses and glanced down he said letting out a big laugh  later added  interned at the    in the summers of 1971 and 1972  1973 after completing his graduate degree in government and  studies he married   whom he met at a fraternity party  next day the couple drove to  and  began a permanent job at the    the day after that  mothers memories of the   he said had instilled in him a desire for career stability so he began taking law courses at night  then he had transferred to the    s  of   says   who worked down the hall from  in the general counsels office where  would eventually rise to become the acting head  new job put  on the    s seventh floor not far from the directors office and near the center of what was shaping up to be a historic fight with   the aftermath of    the presidency was endowed with vast new powers mass surveillance covert operations proxy wars and nuclear weapons  young    spurred on by the imperative to win the   abused its own new powers to an astonishing degree  a statutory ban on its involvement in either or the    surveilled and surreptitiously engaged with countless  citizens  agency reported to the president and often took action based on informal conversations without ever committing much to paper  around the agencys transgressions held until the 1970s when antiwar sentiment began to peak  scandals around the   1971 and the  break-in 1972 culminating in the long-anticipated  defeat convinced much of the public that the federal government should no longer be given the benefit of the doubt  1973   the longtime    director ordered the destruction of internal    documents regarding  an experimental mind-control program  later recalled  1974 the journalist   who had already broken the story of the   massacre in  revealed that the    had developed a sprawling domestic-spying operation keeping dossiers on thousands of  citizens  created two special committees a  committee led by    and a  committee that would eventually be led by    to investigate  years the    would be consumed with negotiations over the limits of what  could oversee  told me in his office  asked if there had indeed been excesses  poker face came to life  grinned turned his palms out and shrugged he said  burst out laughing  he pulled back to give the matter some more thought adjusting his glasses as he settled back into seriousness he said  battle between conservative hard-liners and a   would continue through the late    the    there was a sense of victimization   the agencys first presidentially appointed inspector general told me  1976 the job of defending the agency in public passed to the new director     who had served as a special   envoy to   at least one occasion  sat behind  during a congressional hearing giving him legal advice  wound up making oversight a permanent thorn in the    s side by establishing two intelligence oversight committees    drafted two letters each signed by  asking  if the    could resume the routine destruction of documents  request was denied says   now a law professor at the   of  and  at   who dealt with the    as legal counsel of the      than accept post-Watergate congressional limitations the hard-liners decamped from the    and became floaters bureaucratic nomads who sought out underused and low-visibility pockets of the federal government from which to wage their war over executive power  largest battle was fought around the  affair  covert group operating out of the    had used money gained by selling arms to  to fund anti-Communist rebels in   flouting a congressional prohibition  of the operation was organized by     of the     of the  plotters were dragged into the public eye and indicted by a special prosecutor another post-Watergate innovation  pointing to the involvement of    and       was inconclusive  hard-liners felt that foreign policy and covert operations were an exclusively presidential domain is how  first    director   put it in an interview with the political scientist     this time conservative thinkers of  generation began to coalesce around an idea they called  presidents right to his powers under   of the  they argued was undivided and absolute  reforms independent prosecutors to investigate high-level wrongdoing requirements to get warrants for national-security wiretaps and more were unconstitutional incursions into the presidents rightful powers   1977  left the    upon his graduation from      eventually landing as a policy lawyer in the     running for president took  to the 1988    to help vet potential running mates and after winning the election appointed him to lead the    of   where his duties included determining the legal limits of    activities  who was still at the    recalls that  kept his independence from the    of  opinions on classified    operations while a third operation  says was rejected entirely  of  public opinions though effectively authorized the invasion of   as acting attorney general he impressed  further by defusing a delicate prison-hostage crisis  attorney general in 1992  signed off on a mass-surveillance program that collected billions of call records for the     the end of  presidency he successfully pushed for a pardon of six  defendants     a former    director says  reminds him of   the former    lawyer who became     chief of staff and played a major role in pushing the limits of conduct including torture that the   and the    determined to be legal in the aftermath of the  11 attacks   says  intellect and experience made him appealing to the private sector  eight years he served as general counsel at  at a time when the company was working out secret arrangements with the    to turn over its customers data   2001 a legal trade publication noted  1 5 million salary and compared him to a for the depth of his connections in both political  and corporate    that time he said he had no interest in returning to officialdom he said  the 2016 presidential election  was a player in  politics and active in conservative  causes  gave nearly 50 000 to a  affiliated with    annual holiday parties traditional  cèilidhs with music and singers drew hundreds whose friendships he had maintained over the years  wrote and sold a screenplay about     spent time traveling abroad and hunting birds  three daughters all became accomplished lawyers working on   or as federal prosecutors  eldest  moved to the   financial-crimes unit after  nomination as attorney general one of  sons-in-law left the   for the      year shortly after his   speech  gave a second major address at the annual convention of the   an organization of conservative lawyers founded during the  administration  subject was executive power   criticized progressives this time for making politics  presidency in his view handled  of the core function of the presidency was the ability to act swiftly and without constraint but this capability had been diminished by the other branches since   had burdened the president with oversight while the courts were interfering with  travel ban on certain countries and his termination of     program for young immigrants  seemed to suggest that when it comes to foreign policy the only legitimate check on presidential behavior is the next election  later this argument would become the foundation of  impeachment defense   5 2018  attended     funeral  waiting in line for the shuttle bus that would take him to    he and his wife ran into a friend    who was    counsel during the  years  two men spent most of the day together  sounded out  about the attorney-general job  knew from following the news that  was under consideration but  never tipped his hand about how close he was to being tapped and  never asked  that week when  announced  nomination  was not surprised under   says  the time of his nomination  supporters presented him as a trustworthy and sensible conservative a known quantity within the  establishment who would restrain  worst impulses   called him   a legal commentator who is now one of  harshest critics tweeted at the time that he had been under  and that his confirmation would be  the confirmation hearing    of  the ranking  on the   questioned  at length about a memorandum he wrote to the administration the previous summer outlining why he believed that  had no legal right to investigate  for obstruction of justice  president  argued has investigations and can on individual cases including those that touch on his political or financial interests  wrote  enforcement he argued was a power exclusively held by the president because  the hearing  seemed to say that he did not believe the unitary executives powers to be infinite     a   asked if it would be lawful for a president to trade a pardon for a promise not to incriminate him  answered that such an exchange would be a crime  also mentioned his long friendship with   wife attends the same  study as  wife  attended the weddings of two of  daughters  was confirmed by a vote of 54 to 45  had barely served one month as attorney general when his friendship with  was tested by the special prosecutors delivery of his report on the afternoon of   22   account then went dark for nearly 40 hours    sent a letter to  that he would later describe as giving  and  feed came back to life he tweeted  his first public comments that same day  said the words three times he added  tweet  letter and  report said three different things   nor  exonerated   quoted  own words that his complicated finding on obstruction the president   omitted  conclusions that  interference sought to favor  that  and his campaign welcomed the interference and believed they would benefit from it and that the and between  and the campaign were substantial even though the evidence  was able to gather fell short of a criminal conspiracy  fired off two letters complaining that  had misrepresented his work  the second letter dated  27 he asked  to immediately release the reports introductions and executive summaries  the public would not get to read  work until  18 when  released a redacted version of the full report  doing so  gave a news conference in which he tilted further toward declaring  innocent something  bent over backward not to do  said of   distortions drew wide criticism  were also frustrated by the reports content  lacked the thunderous revelations about  that had long been promised by  opponents and it suffered from legalistic inconclusiveness on the most fundamental questions  having been given a chance to put the 2016 election to bed for good had carefully avoided doing so  hopes for the promised collusion bombshell now turned to the unredacted version of the  report which  refused to give them  an echo of his    work during the   years the    has taken a very hard line regarding what information  and the courts are entitled to get from the    has fought in court against the release of  tax returns argued that  did not need to see the  whistle-blowers complaint because it was not a matter of and has challenged congressional requests for  secret grand-jury materials   refused to turn over the fully unredacted  report to the    citing executive privilege the committee voted to hold him in contempt   chairman    of   claimed that this was the beginning of a  seemed untroubled he reportedly quipped to   at an event a few days later  concerns about  handling of  investigation have not been confined to      of the     for the  of  a    appointee recently criticized  and questioned whether  his first meeting with   in 2017  later recalled in his confirmation hearing he told  that  the end he was half right  said in one of our interviews  would have been  2019 more than a year ago  continued  asked if they still saw each other at  study  replied  general are chosen by the president no law prohibits them from doing the presidents bidding  presidents have occasionally asked the attorney general to intervene in individual prosecutions       attorney general went much further helping to plan the  burglary and then working to cover it up  the   guidelines do enjoin prosecutors not to comment about ongoing investigations something  does regularly  also caution that legal judgments and that the department must respect   of this has stopped  from overruling his subordinates to the benefit of  friends and associates most notably    longtime political mentor and   his former national security adviser  both cases  has tweeted about what he sees as the unfairness of their legal troubles and the   has subsequently pushed for leniency  has repeatedly said that  has never asked him to do anything in a criminal case he said in an interview with    the departments interventions on behalf of  and  have raised questions about the supposed  firewall   who led the  of   under    told   in   has said he doesnt pay attention to  tweets and doesnt take seriously the ones he is made aware of says   friend and former colleague   the former head of  civil rights division at the department articulated a prevailing view of  among  telling me that the attorney general has  says  interventions on behalf of  associates have far-reaching consequences she says   prosecutors recommended that  be sentenced to seven to nine years in prison for witness tampering and other crimes  following day the   filed a second revised sentencing memo asking that  sentence be reduced  to 108 months the memo argued given   the same day the department revised its sentencing recommendation all four of the prosecutors responsible for the case announced their withdrawal    left the department entirely  wrote later in an op-ed in       said the  prosecutors  tweeted out congratulations to  for  pushed back in the  interview insisting that he reached the  decision independently he said adding  post-Mueller case that has arguably received the most attention among  supporters is that of  the lieutenant general who briefly served as  national security adviser  dueling narratives around the  transition crystallize around  and the question of whether he or those who investigated him were in the wrong  addition to drawing scrutiny for his  contacts  initially failed to report as legally required that his company was effectively on the payroll of the  government during the 2016 campaign  himself tried and failed to talk  into dropping him  of  own problems hinged on his asking  if he could to dropping the  investigation  adversaries consider  to be a loose cannon and possible  pawn who needed to be rooted out  supporters depict him as the second coming of   a good soldier who was martyred in public for his loyalty to the executive   4 the day of my first interview with   was still awaiting sentencing having pleaded guilty to lying to the     time to time  had been tweeting about the  case in ways that seemed to cross the line that  had drawn about public comments from the   about matters pending before the    said  had been victimized by the as   asked  in light of his statement on   whether these were the kind of tweets that made his job  said  had recently been tweeting about   said  replied  asked if he would like to see them  said  handed  a printout of an  29  tweet  read  said with cool indifference  asked how it was that  supposed antagonists could be punished without involvement from the department  asked referring to the particular case that was now before     had found the right hair to split and he split it so cleanly and decisively that  couldnt say this wasnt his position from the beginning  tweet  said was nothing new  he said  days later on the afternoon of  7 the   filed a motion to dismiss its own prosecution of   government argued that  false statements were not to the investigation of  because the investigation was itself unjustified  argument relied in part on the contents of handwritten    notes that had been turned over to  attorneys by the department and released to the public by mutual agreement  of the prosecutors assigned to the case immediately withdrew  few days later  decided he wouldnt rule on whether to accept the departments motion until he had heard from friends of the court and a special counsel  lawyers appealed asking a higher court to force the judges hand  the department took  side  took to  celebrating  definitive  11  history of the 2016 election remains unwritten though not for lack of trying  addition to the  report and voluminous criminal indictments we have the    the  report by the   inspector general   and four volumes of the  intelligence committees report a fifth volume of which is on the way  major episodes of the story may now seem like familiar terrain to those who have kept up and a hopeless mess to everyone else  zoom out a bit and the stakes could not be higher  of  critics like    of  the  chairman of the    and    director of national intelligence go further than saying that the  put a thumb on the scale for   have suggested that the extra boost was decisive that  would not have been elected in 2016 but for  interference  crucial legacy of 2016 is that the question of  legitimacy was never settled  without any consensus on what happened in 2016 the rules of the road for 2020 are up in the air  first armed with the powers of law enforcement and presidential access to classified material  is getting ready to roll out his account of 2016   promises he most likely has in mind the ongoing investigation by   and its long-expected report although it is also possible that  public work product will take the form of indictments or perhaps nothing at all  who assigned  the task of investigating the  probe in  last year and met with him several times immediately after the conclusion of  investigation is overseeing  work and briefs  on his findings regularly  on  public statements we can see the rough contours of  findings beginning to take shape  governments conduct during the  transition  has said was  of  campaign amounted to  there was the all-important question of whether the    was justified in opening the initial   investigation into the  campaigns  ties  ordinary circumstances   prosecutors do not comment on anything connected to an ongoing investigation but on the day that  released his report both  and  decided to do just that     s interest in   said was based and  said in his own statement  had found that the investigation was justified so these sounded like sweeping words of dissent  over the coming months as attention drifted elsewhere they shrank  the time  sat down with  the only dispute with  hed voiced was whether the    had enough evidence to open a full investigation  and  believe that there was only enough to open a preliminary investigation not a full one  our first interview  mentioned the dossier of salacious anti-Trump claims that had been gathered and circulated by   a former  intelligence agent who was working indirectly for the  campaign  possibility that the  government intentionally seeded the dossier with misinformation was one of the issues  ignored and  was looking at  said  had  gone back and looked at the investigative steps taken as   accelerated he continued  had done that but unlike  and  he had no access to the    the    and the foreign governments that were involved  facilitate what later became a criminal investigation  ordered the heads of the intelligence agencies to cooperate with   delegated to  the power to order the declassification of secret documents  has spoken with intelligence officials from   and  to reportedly solicit information that could help   the case of  where  and  met with political leaders and intelligence chiefs in person his visit provoked concern among   diplomats who told   that  circumvented protocols in setting up the trip    of  who is the ranking  on the   and helped write its five-volume report said there were about  trips he said   a former colleague of  from the     years said he thought  could come back with something more  investigation he told me  investigation is not the only means through which  decisions could affect the election  the    wants to open a criminal investigation into either campaign it will first need  personal approval  has established a special to deal with materials that    says he has obtained from  sources which  has claimed implicate   the presumptive  presidential nominee  the interview  did not dispute the notion that the  government had interfered in 2016 but he made it sound as though the assumption that it favored  would be coming under some pressure  also would expect  to play a role in deterring and punishing foreign interference in the 2020 election but that could get complicated  camp continues to deny the intelligence communitys consensus view one strongly reiterated by  and the  intelligence committee that the  favored  over    including  on the    claim to have unreleased evidence that points the other way  on what  told me  intentions will most likely emerge as the key retrospective battlegrounds as  work continues and the election draws closer  said  what  did not address directly was the fourth volume of the report from the  intelligence committee  report reviewed much of the same intelligence underlying the     affirmed that  pro-Trump position and     direct involvement were supported by     s disagreement was  the committees groundbreaking 2012   the fourth volume was unanimously approved by a bipartisan vote of the  committee said    a  from   and the chairman of the committee  for his part dismissed  investigation as he told me  brought up the  investigation again in my last interview with  on  20  fifth floor of   headquarters now felt different some older lawyerly looking men walking around wore masks  younger men in suits with lapel pins who were most likely security did not  himself still wore no mask but there were no more polite entreaties for visitors to take theirs off  could see two crumpled blue surgical masks lying amid the papers on  desk  disarming familiarity  sat down on a sofa and offered me my in a tufted leather chair  then  had seized on the meme accusing the former president and  of  asked what crime he thought they were guilty of  declined to answer  a news conference two days before  went to see him  was asked indirectly if  investigation might lead to criminal charges being filed against  or  he said  that same day  asked about  statement replied  went on  then said he had that  and  were in what he now called a  to whether or not it was criminal he said   office two days later  brought up how  seemed to have heard only what he wanted to hear that  prediction about not prosecuting the former president was only valid  said  shouldnt read too much into those words he said  he realized it or not the line  had drawn at the news conference was getting blurrier with every word just as  had hoped  went on  pulled back from the conversation and thought for a moment  keeping tabs on  investigation for more than a year  did not think it was likely that he would have to prosecute a former president  neither at that moment was he willing to rule it out  made this position sound reasonable even as it served to support the unsupported theory that the president was floating at the time  the end the substance of  findings might not matter  he turns up will become a major theme of  2020 campaign the less time there is before an election the greater political impact of even the smallest apparent revelation   needed from  was the glimmer of a possibility a slight shadow of official uncertainty in which his wild theories could flourish  for now  was giving him that  much more he would give the president before  it was hard to say'"
      ]
     },
     "execution_count": 276,
     "metadata": {},
     "output_type": "execute_result"
    }
   ],
   "source": [
    "df['text'][0]"
   ]
  },
  {
   "cell_type": "code",
   "execution_count": 283,
   "metadata": {},
   "outputs": [],
   "source": [
    "df.to_csv('token_2010_2020.csv')"
   ]
  },
  {
   "cell_type": "code",
   "execution_count": 284,
   "metadata": {},
   "outputs": [
    {
     "name": "stdout",
     "output_type": "stream",
     "text": [
      "<class 'pandas.core.frame.DataFrame'>\n",
      "Index: 27461 entries, nyt://article/f5d2e4a7-f89b-54da-9985-dd5fc704a51e to nyt://article/a56ad218-e173-568e-b4b5-ddd584ec79cb\n",
      "Data columns (total 9 columns):\n",
      " #   Column                                 Non-Null Count  Dtype \n",
      "---  ------                                 --------------  ----- \n",
      " 0   lead_paragraph                         27419 non-null  object\n",
      " 1   keywords                               27461 non-null  object\n",
      " 2   pub_date                               27461 non-null  object\n",
      " 3   type_of_material                       27461 non-null  object\n",
      " 4   print_page                             27461 non-null  object\n",
      " 5   text                                   27461 non-null  object\n",
      " 6   United States Politics and Government  27461 non-null  object\n",
      " 7   quote_list                             27461 non-null  object\n",
      " 8   keyword_list                           27461 non-null  object\n",
      "dtypes: object(9)\n",
      "memory usage: 2.1+ MB\n"
     ]
    }
   ],
   "source": [
    "df.info()"
   ]
  },
  {
   "cell_type": "code",
   "execution_count": null,
   "metadata": {},
   "outputs": [],
   "source": []
  },
  {
   "cell_type": "code",
   "execution_count": null,
   "metadata": {},
   "outputs": [],
   "source": []
  },
  {
   "cell_type": "code",
   "execution_count": null,
   "metadata": {},
   "outputs": [],
   "source": []
  },
  {
   "cell_type": "markdown",
   "metadata": {},
   "source": [
    "# remove keywords"
   ]
  },
  {
   "cell_type": "code",
   "execution_count": 278,
   "metadata": {},
   "outputs": [
    {
     "ename": "AttributeError",
     "evalue": "'DataFrame' object has no attribute 'article'",
     "output_type": "error",
     "traceback": [
      "\u001b[0;31m---------------------------------------------------------------------------\u001b[0m",
      "\u001b[0;31mAttributeError\u001b[0m                            Traceback (most recent call last)",
      "\u001b[0;32m<ipython-input-278-c12fff8ddf53>\u001b[0m in \u001b[0;36m<module>\u001b[0;34m\u001b[0m\n\u001b[0;32m----> 1\u001b[0;31m \u001b[0mdf\u001b[0m\u001b[0;34m[\u001b[0m\u001b[0;34m'text'\u001b[0m\u001b[0;34m]\u001b[0m \u001b[0;34m=\u001b[0m \u001b[0;34m[\u001b[0m\u001b[0mtext\u001b[0m\u001b[0;34m.\u001b[0m\u001b[0mreplace\u001b[0m\u001b[0;34m(\u001b[0m\u001b[0mlead\u001b[0m\u001b[0;34m,\u001b[0m \u001b[0;34m\"\"\u001b[0m\u001b[0;34m)\u001b[0m \u001b[0;32mfor\u001b[0m \u001b[0marticle\u001b[0m\u001b[0;34m,\u001b[0m \u001b[0mkeywords\u001b[0m \u001b[0;32min\u001b[0m \u001b[0mzip\u001b[0m\u001b[0;34m(\u001b[0m\u001b[0mdf\u001b[0m\u001b[0;34m.\u001b[0m\u001b[0marticle\u001b[0m\u001b[0;34m[\u001b[0m\u001b[0;34m:\u001b[0m\u001b[0;34m]\u001b[0m\u001b[0;34m.\u001b[0m\u001b[0mastype\u001b[0m\u001b[0;34m(\u001b[0m\u001b[0;34m'str'\u001b[0m\u001b[0;34m)\u001b[0m\u001b[0;34m,\u001b[0m \u001b[0mdf\u001b[0m\u001b[0;34m.\u001b[0m\u001b[0mlead_paragraph\u001b[0m\u001b[0;34m[\u001b[0m\u001b[0;34m:\u001b[0m\u001b[0;34m]\u001b[0m\u001b[0;34m.\u001b[0m\u001b[0mastype\u001b[0m\u001b[0;34m(\u001b[0m\u001b[0;34m'str'\u001b[0m\u001b[0;34m)\u001b[0m\u001b[0;34m)\u001b[0m\u001b[0;34m]\u001b[0m\u001b[0;34m\u001b[0m\u001b[0;34m\u001b[0m\u001b[0m\n\u001b[0m",
      "\u001b[0;32m~/opt/anaconda3/lib/python3.7/site-packages/pandas/core/generic.py\u001b[0m in \u001b[0;36m__getattr__\u001b[0;34m(self, name)\u001b[0m\n\u001b[1;32m   5137\u001b[0m             \u001b[0;32mif\u001b[0m \u001b[0mself\u001b[0m\u001b[0;34m.\u001b[0m\u001b[0m_info_axis\u001b[0m\u001b[0;34m.\u001b[0m\u001b[0m_can_hold_identifiers_and_holds_name\u001b[0m\u001b[0;34m(\u001b[0m\u001b[0mname\u001b[0m\u001b[0;34m)\u001b[0m\u001b[0;34m:\u001b[0m\u001b[0;34m\u001b[0m\u001b[0;34m\u001b[0m\u001b[0m\n\u001b[1;32m   5138\u001b[0m                 \u001b[0;32mreturn\u001b[0m \u001b[0mself\u001b[0m\u001b[0;34m[\u001b[0m\u001b[0mname\u001b[0m\u001b[0;34m]\u001b[0m\u001b[0;34m\u001b[0m\u001b[0;34m\u001b[0m\u001b[0m\n\u001b[0;32m-> 5139\u001b[0;31m             \u001b[0;32mreturn\u001b[0m \u001b[0mobject\u001b[0m\u001b[0;34m.\u001b[0m\u001b[0m__getattribute__\u001b[0m\u001b[0;34m(\u001b[0m\u001b[0mself\u001b[0m\u001b[0;34m,\u001b[0m \u001b[0mname\u001b[0m\u001b[0;34m)\u001b[0m\u001b[0;34m\u001b[0m\u001b[0;34m\u001b[0m\u001b[0m\n\u001b[0m\u001b[1;32m   5140\u001b[0m \u001b[0;34m\u001b[0m\u001b[0m\n\u001b[1;32m   5141\u001b[0m     \u001b[0;32mdef\u001b[0m \u001b[0m__setattr__\u001b[0m\u001b[0;34m(\u001b[0m\u001b[0mself\u001b[0m\u001b[0;34m,\u001b[0m \u001b[0mname\u001b[0m\u001b[0;34m:\u001b[0m \u001b[0mstr\u001b[0m\u001b[0;34m,\u001b[0m \u001b[0mvalue\u001b[0m\u001b[0;34m)\u001b[0m \u001b[0;34m->\u001b[0m \u001b[0;32mNone\u001b[0m\u001b[0;34m:\u001b[0m\u001b[0;34m\u001b[0m\u001b[0;34m\u001b[0m\u001b[0m\n",
      "\u001b[0;31mAttributeError\u001b[0m: 'DataFrame' object has no attribute 'article'"
     ]
    }
   ],
   "source": [
    "df['text'] = [text.replace(lead, \"\") for article, keywords in zip(df.article[:].astype('str'), df.lead_paragraph[:].astype('str'))]"
   ]
  },
  {
   "cell_type": "code",
   "execution_count": null,
   "metadata": {},
   "outputs": [],
   "source": [
    "text = df.text[0]"
   ]
  },
  {
   "cell_type": "code",
   "execution_count": null,
   "metadata": {},
   "outputs": [],
   "source": [
    "article = df.article[0]"
   ]
  },
  {
   "cell_type": "code",
   "execution_count": null,
   "metadata": {},
   "outputs": [],
   "source": [
    "keywords = df.keyword_list[0]"
   ]
  },
  {
   "cell_type": "code",
   "execution_count": null,
   "metadata": {},
   "outputs": [],
   "source": []
  },
  {
   "cell_type": "code",
   "execution_count": null,
   "metadata": {},
   "outputs": [],
   "source": [
    "article_list = article.split(\" \")\n",
    "for word in article_list:\n",
    "    if word in keywords[1:-1]:\n",
    "        article_list.remove(word)\n",
    "print(article_list)"
   ]
  },
  {
   "cell_type": "code",
   "execution_count": null,
   "metadata": {},
   "outputs": [],
   "source": [
    "article"
   ]
  },
  {
   "cell_type": "code",
   "execution_count": null,
   "metadata": {},
   "outputs": [],
   "source": []
  },
  {
   "cell_type": "code",
   "execution_count": null,
   "metadata": {},
   "outputs": [],
   "source": [
    "%%time\n",
    "def wordnet_tokenize(doc):\n",
    "    wordnet = WordNetLemmatizer()\n",
    "    return  [wordnet.lemmatize(word) for word in word_tokenize(doc.lower())]"
   ]
  },
  {
   "cell_type": "code",
   "execution_count": null,
   "metadata": {},
   "outputs": [],
   "source": [
    "%%time\n",
    "df = data.copy()"
   ]
  },
  {
   "cell_type": "code",
   "execution_count": null,
   "metadata": {},
   "outputs": [],
   "source": [
    "documents = list(df.text)"
   ]
  },
  {
   "cell_type": "code",
   "execution_count": null,
   "metadata": {},
   "outputs": [],
   "source": [
    "sample = documents[0]"
   ]
  },
  {
   "cell_type": "code",
   "execution_count": null,
   "metadata": {},
   "outputs": [],
   "source": [
    "type(sample)"
   ]
  },
  {
   "cell_type": "code",
   "execution_count": null,
   "metadata": {},
   "outputs": [],
   "source": []
  },
  {
   "cell_type": "markdown",
   "metadata": {},
   "source": [
    "# fix contractions"
   ]
  },
  {
   "cell_type": "code",
   "execution_count": null,
   "metadata": {},
   "outputs": [],
   "source": [
    "CONTRACTION_MAP = {\n",
    "\"ain't\": \"is not\",\n",
    "\"aren't\": \"are not\",\n",
    "\"can't\": \"cannot\",\n",
    "\"can't've\": \"cannot have\",\n",
    "\"'cause\": \"because\",\n",
    "\"could've\": \"could have\",\n",
    "\"couldn't\": \"could not\",\n",
    "\"couldn't've\": \"could not have\",\n",
    "\"didn't\": \"did not\",\n",
    "\"doesn't\": \"does not\",\n",
    "\"don't\": \"do not\",\n",
    "\"hadn't\": \"had not\",\n",
    "\"hadn't've\": \"had not have\",\n",
    "\"hasn't\": \"has not\",\n",
    "\"haven't\": \"have not\",\n",
    "\"he'd\": \"he would\",\n",
    "\"he'd've\": \"he would have\",\n",
    "\"he'll\": \"he will\",\n",
    "\"he'll've\": \"he he will have\",\n",
    "\"he's\": \"he is\",\n",
    "\"how'd\": \"how did\",\n",
    "\"how'd'y\": \"how do you\",\n",
    "\"how'll\": \"how will\",\n",
    "\"how's\": \"how is\",\n",
    "\"I'd\": \"I would\",\n",
    "\"I'd've\": \"I would have\",\n",
    "\"I'll\": \"I will\",\n",
    "\"I'll've\": \"I will have\",\n",
    "\"I'm\": \"I am\",\n",
    "\"I've\": \"I have\",\n",
    "\"i'd\": \"i would\",\n",
    "\"i'd've\": \"i would have\",\n",
    "\"i'll\": \"i will\",\n",
    "\"i'll've\": \"i will have\",\n",
    "\"i'm\": \"i am\",\n",
    "\"i've\": \"i have\",\n",
    "\"isn't\": \"is not\",\n",
    "\"it'd\": \"it would\",\n",
    "\"it'd've\": \"it would have\",\n",
    "\"it'll\": \"it will\",\n",
    "\"it'll've\": \"it will have\",\n",
    "\"it's\": \"it is\",\n",
    "\"let's\": \"let us\",\n",
    "\"ma'am\": \"madam\",\n",
    "\"mayn't\": \"may not\",\n",
    "\"might've\": \"might have\",\n",
    "\"mightn't\": \"might not\",\n",
    "\"mightn't've\": \"might not have\",\n",
    "\"must've\": \"must have\",\n",
    "\"mustn't\": \"must not\",\n",
    "\"mustn't've\": \"must not have\",\n",
    "\"needn't\": \"need not\",\n",
    "\"needn't've\": \"need not have\",\n",
    "\"o'clock\": \"of the clock\",\n",
    "\"oughtn't\": \"ought not\",\n",
    "\"oughtn't've\": \"ought not have\",\n",
    "\"shan't\": \"shall not\",\n",
    "\"sha'n't\": \"shall not\",\n",
    "\"shan't've\": \"shall not have\",\n",
    "\"she'd\": \"she would\",\n",
    "\"she'd've\": \"she would have\",\n",
    "\"she'll\": \"she will\",\n",
    "\"she'll've\": \"she will have\",\n",
    "\"she's\": \"she is\",\n",
    "\"should've\": \"should have\",\n",
    "\"shouldn't\": \"should not\",\n",
    "\"shouldn't've\": \"should not have\",\n",
    "\"so've\": \"so have\",\n",
    "\"so's\": \"so as\",\n",
    "\"that'd\": \"that would\",\n",
    "\"that'd've\": \"that would have\",\n",
    "\"that's\": \"that is\",\n",
    "\"there'd\": \"there would\",\n",
    "\"there'd've\": \"there would have\",\n",
    "\"there's\": \"there is\",\n",
    "\"they'd\": \"they would\",\n",
    "\"they'd've\": \"they would have\",\n",
    "\"they'll\": \"they will\",\n",
    "\"they'll've\": \"they will have\",\n",
    "\"they're\": \"they are\",\n",
    "\"they've\": \"they have\",\n",
    "\"to've\": \"to have\",\n",
    "\"wasn't\": \"was not\",\n",
    "\"we'd\": \"we would\",\n",
    "\"we'd've\": \"we would have\",\n",
    "\"we'll\": \"we will\",\n",
    "\"we'll've\": \"we will have\",\n",
    "\"we're\": \"we are\",\n",
    "\"we've\": \"we have\",\n",
    "\"weren't\": \"were not\",\n",
    "\"what'll\": \"what will\",\n",
    "\"what'll've\": \"what will have\",\n",
    "\"what're\": \"what are\",\n",
    "\"what's\": \"what is\",\n",
    "\"what've\": \"what have\",\n",
    "\"when's\": \"when is\",\n",
    "\"when've\": \"when have\",\n",
    "\"where'd\": \"where did\",\n",
    "\"where's\": \"where is\",\n",
    "\"where've\": \"where have\",\n",
    "\"who'll\": \"who will\",\n",
    "\"who'll've\": \"who will have\",\n",
    "\"who's\": \"who is\",\n",
    "\"who've\": \"who have\",\n",
    "\"why's\": \"why is\",\n",
    "\"why've\": \"why have\",\n",
    "\"will've\": \"will have\",\n",
    "\"won't\": \"will not\",\n",
    "\"won't've\": \"will not have\",\n",
    "\"would've\": \"would have\",\n",
    "\"wouldn't\": \"would not\",\n",
    "\"wouldn't've\": \"would not have\",\n",
    "\"y'all\": \"you all\",\n",
    "\"y'all'd\": \"you all would\",\n",
    "\"y'all'd've\": \"you all would have\",\n",
    "\"y'all're\": \"you all are\",\n",
    "\"y'all've\": \"you all have\",\n",
    "\"you'd\": \"you would\",\n",
    "\"you'd've\": \"you would have\",\n",
    "\"you'll\": \"you will\",\n",
    "\"you'll've\": \"you will have\",\n",
    "\"you're\": \"you are\",\n",
    "\"you've\": \"you have\"\n",
    "}"
   ]
  },
  {
   "cell_type": "code",
   "execution_count": null,
   "metadata": {},
   "outputs": [],
   "source": [
    "def expand_contractions(text, contraction_mapping=CONTRACTION_MAP):\n",
    "    \n",
    "    contractions_pattern = re.compile('({})'.format('|'.join(contraction_mapping.keys())), \n",
    "                                      flags=re.IGNORECASE|re.DOTALL)\n",
    "    def expand_match(contraction):\n",
    "        match = contraction.group(0)\n",
    "        first_char = match[0]\n",
    "        expanded_contraction = contraction_mapping.get(match)\\\n",
    "                                if contraction_mapping.get(match)\\\n",
    "                                else contraction_mapping.get(match.lower())                       \n",
    "        expanded_contraction = first_char+expanded_contraction[1:]\n",
    "        return expanded_contraction\n",
    "        \n",
    "    expanded_text = contractions_pattern.sub(expand_match, text)\n",
    "    expanded_text = re.sub(\"'\", \"\", expanded_text)\n",
    "    return expanded_text"
   ]
  },
  {
   "cell_type": "code",
   "execution_count": null,
   "metadata": {},
   "outputs": [],
   "source": [
    "document = expand_contractions(document)"
   ]
  },
  {
   "cell_type": "code",
   "execution_count": null,
   "metadata": {},
   "outputs": [],
   "source": [
    "\"’\" == \"’\""
   ]
  },
  {
   "cell_type": "code",
   "execution_count": null,
   "metadata": {},
   "outputs": [],
   "source": [
    "document"
   ]
  },
  {
   "cell_type": "markdown",
   "metadata": {},
   "source": [
    "# stemming/lemmatization"
   ]
  },
  {
   "cell_type": "code",
   "execution_count": null,
   "metadata": {},
   "outputs": [],
   "source": [
    "document = df.text.iloc[0]"
   ]
  },
  {
   "cell_type": "code",
   "execution_count": null,
   "metadata": {},
   "outputs": [],
   "source": [
    "snowball = SnowballStemmer('english')\n",
    "wordnet = WordNetLemmatizer()"
   ]
  },
  {
   "cell_type": "code",
   "execution_count": null,
   "metadata": {},
   "outputs": [],
   "source": [
    "%%time\n",
    "def snowball_tokenize(doc):\n",
    "    snowball = SnowballStemmer('english')\n",
    "    return [snowball.stem(word) for word in word_tokenize(doc.lower())]"
   ]
  },
  {
   "cell_type": "code",
   "execution_count": null,
   "metadata": {},
   "outputs": [],
   "source": [
    "%%time\n",
    "def wordnet_tokenize(doc):\n",
    "    wordnet = WordNetLemmatizer()\n",
    "    return  [wordnet.lemmatize(word) for word in word_tokenize(doc.lower())]"
   ]
  },
  {
   "cell_type": "code",
   "execution_count": null,
   "metadata": {},
   "outputs": [],
   "source": [
    "test = word_tokenize(document.lower())"
   ]
  },
  {
   "cell_type": "code",
   "execution_count": null,
   "metadata": {},
   "outputs": [],
   "source": [
    "#document.lower()"
   ]
  },
  {
   "cell_type": "code",
   "execution_count": null,
   "metadata": {},
   "outputs": [],
   "source": [
    "document = df.text.iloc[0]"
   ]
  },
  {
   "cell_type": "code",
   "execution_count": null,
   "metadata": {},
   "outputs": [],
   "source": [
    "document = snowball_tokenize(document)\n",
    "document"
   ]
  },
  {
   "cell_type": "code",
   "execution_count": null,
   "metadata": {},
   "outputs": [],
   "source": [
    "document = punc_strip(document)\n",
    "document"
   ]
  },
  {
   "cell_type": "code",
   "execution_count": null,
   "metadata": {},
   "outputs": [],
   "source": [
    "stopword_list = nltk.corpus.stopwords.words('english')"
   ]
  },
  {
   "cell_type": "code",
   "execution_count": null,
   "metadata": {},
   "outputs": [],
   "source": [
    "stopword_list"
   ]
  },
  {
   "cell_type": "code",
   "execution_count": null,
   "metadata": {},
   "outputs": [],
   "source": []
  },
  {
   "cell_type": "code",
   "execution_count": null,
   "metadata": {},
   "outputs": [],
   "source": []
  },
  {
   "cell_type": "code",
   "execution_count": null,
   "metadata": {},
   "outputs": [],
   "source": []
  },
  {
   "cell_type": "code",
   "execution_count": null,
   "metadata": {},
   "outputs": [],
   "source": []
  },
  {
   "cell_type": "code",
   "execution_count": null,
   "metadata": {},
   "outputs": [],
   "source": []
  },
  {
   "cell_type": "code",
   "execution_count": null,
   "metadata": {},
   "outputs": [],
   "source": []
  },
  {
   "cell_type": "code",
   "execution_count": null,
   "metadata": {},
   "outputs": [],
   "source": []
  },
  {
   "cell_type": "code",
   "execution_count": null,
   "metadata": {},
   "outputs": [],
   "source": []
  }
 ],
 "metadata": {
  "kernelspec": {
   "display_name": "Python 3",
   "language": "python",
   "name": "python3"
  },
  "language_info": {
   "codemirror_mode": {
    "name": "ipython",
    "version": 3
   },
   "file_extension": ".py",
   "mimetype": "text/x-python",
   "name": "python",
   "nbconvert_exporter": "python",
   "pygments_lexer": "ipython3",
   "version": "3.7.9"
  }
 },
 "nbformat": 4,
 "nbformat_minor": 4
}
