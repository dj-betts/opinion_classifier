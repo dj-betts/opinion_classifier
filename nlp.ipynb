{
 "cells": [
  {
   "cell_type": "code",
   "execution_count": 1,
   "metadata": {},
   "outputs": [],
   "source": [
    "from functions import vectorize_y_ser"
   ]
  },
  {
   "cell_type": "code",
   "execution_count": 2,
   "metadata": {},
   "outputs": [],
   "source": [
    "import datetime"
   ]
  },
  {
   "cell_type": "code",
   "execution_count": 3,
   "metadata": {},
   "outputs": [],
   "source": [
    "import nltk\n",
    "import string"
   ]
  },
  {
   "cell_type": "code",
   "execution_count": 4,
   "metadata": {},
   "outputs": [],
   "source": [
    "import re"
   ]
  },
  {
   "cell_type": "code",
   "execution_count": 5,
   "metadata": {},
   "outputs": [],
   "source": [
    "import pickle"
   ]
  },
  {
   "cell_type": "code",
   "execution_count": 6,
   "metadata": {},
   "outputs": [],
   "source": [
    "import pandas as pd\n",
    "import numpy as np"
   ]
  },
  {
   "cell_type": "code",
   "execution_count": 7,
   "metadata": {},
   "outputs": [],
   "source": [
    "import matplotlib.pyplot as plt\n",
    "plt.style.use('fivethirtyeight')"
   ]
  },
  {
   "cell_type": "code",
   "execution_count": 8,
   "metadata": {},
   "outputs": [],
   "source": [
    "from sklearn.feature_extraction.text import CountVectorizer, TfidfVectorizer\n",
    "from sklearn.model_selection import train_test_split\n",
    "from sklearn.metrics import confusion_matrix, plot_confusion_matrix\n",
    "from sklearn.naive_bayes import MultinomialNB\n",
    "from sklearn.ensemble import RandomForestClassifier\n",
    "from sklearn.inspection import permutation_importance"
   ]
  },
  {
   "cell_type": "code",
   "execution_count": 9,
   "metadata": {},
   "outputs": [],
   "source": [
    "from collections import Counter"
   ]
  },
  {
   "cell_type": "code",
   "execution_count": 10,
   "metadata": {},
   "outputs": [],
   "source": [
    "from imblearn.under_sampling import RandomUnderSampler"
   ]
  },
  {
   "cell_type": "code",
   "execution_count": 11,
   "metadata": {},
   "outputs": [],
   "source": [
    "from nltk.stem.snowball import SnowballStemmer\n",
    "from nltk.stem.wordnet import WordNetLemmatizer\n",
    "from nltk.tokenize import word_tokenize\n",
    "from nltk.corpus import stopwords"
   ]
  },
  {
   "cell_type": "markdown",
   "metadata": {},
   "source": [
    "# NLP Pipeline \n",
    "\n",
    "![](images/pipeline-walkthrough1.png)\n",
    "\n",
    "Below is a to do list when converting text into vector form: \n",
    "\n",
    "**Clean text and Create a Bag of Words (BoW)**\n",
    ">1. Lowercase the text\n",
    "2. Tokenize \n",
    "3. Strip out punctuation or undesirable text\n",
    "4. Remove Stopwords \n",
    "5. Stemming or Lemmatizing\n",
    "6. Compute N-Grams\n",
    "7. Use this to create BoW\n",
    "\n",
    "**Vectorize BoW**\n",
    ">8. Term Frequencies\n",
    "9. Document Frequencies\n",
    "10. TF-IDF\n",
    "11. Normalize vectors\n",
    "\n",
    "Let's go through both what each of these steps are and how to do them in python with the following corpus of comments about data science...\n",
    " "
   ]
  },
  {
   "cell_type": "code",
   "execution_count": 12,
   "metadata": {},
   "outputs": [],
   "source": [
    "# function to vectorize the type_of_material series into a y target vector.\n",
    "def vectorize_y_ser(ser):\n",
    "    y = ser.copy()\n",
    "    y.replace({'Op-Ed': 1,'News': 0}, inplace=True)\n",
    "    return y"
   ]
  },
  {
   "cell_type": "code",
   "execution_count": 13,
   "metadata": {},
   "outputs": [],
   "source": [
    "#rate of correct predictions out of total predictions\n",
    "def metrics_(tn, fp, fn, tp):\n",
    "    accuracy = (tp + tn) / (tn + fn + tp + fp)\n",
    "    print(f'Accuracy: {round(accuracy, 2)}')\n",
    "    recall = (tp) / (tp + fn)\n",
    "    print(f'Recall: {round(recall, 2)}')\n",
    "    precision = (tp) / (tp + fp)\n",
    "    print(f'Precision: {round(precision, 2)}')\n",
    "    print(f'TN:{tn} FP:{fp} FN:{fn} TP:{tp}')\n",
    "    return (accuracy, recall, precision)"
   ]
  },
  {
   "cell_type": "code",
   "execution_count": 14,
   "metadata": {},
   "outputs": [],
   "source": [
    "#prints number of features, stop words and parameters for vectorizer\n",
    "def vectorizer_parameters(vectorizer):\n",
    "    #features\n",
    "    feat_names = vectorizer.get_feature_names()\n",
    "    num_feat = len(feat_names)\n",
    "    \n",
    "    #stop words\n",
    "    stop_words = vectorizer.stop_words_\n",
    "    num_stop = len(stop_words)\n",
    "\n",
    "    params = vectorizer.get_params()\n",
    "    \n",
    "    print(f'Number of features: {num_feat}, Numbers of stop words: {num_stop}')\n",
    "      \n",
    "    for key, val in params.items():\n",
    "        print(f'{key}: {val}')"
   ]
  },
  {
   "cell_type": "code",
   "execution_count": 15,
   "metadata": {},
   "outputs": [],
   "source": [
    "#function that removes string.punctuation w/out the '?'\n",
    "def punc_strip(document):\n",
    "    for char in document:\n",
    "        if char in '!\"#$%&\\'()*+—,-./:;<=>?@[\\\\]^_`{|}~”’“':\n",
    "            document = document.replace(char, \" \") \n",
    "    return document"
   ]
  },
  {
   "cell_type": "code",
   "execution_count": 17,
   "metadata": {},
   "outputs": [],
   "source": [
    "#combine print, type, text columns in the list\n",
    "def printed(file):\n",
    "    print_cols = ['_id','print_page','pub_date','keywords','type_of_material','lead_paragraph','text']    \n",
    "    df = pd.read_csv(file, usecols=print_cols, index_col='_id', low_memory=False)\n",
    "    df = df[df.print_page.isna() == False]\n",
    "    df = df[~df.text.isna() == True]\n",
    "    return df"
   ]
  },
  {
   "cell_type": "code",
   "execution_count": 18,
   "metadata": {},
   "outputs": [],
   "source": [
    "#returns articles w/ 'United States Politics and Government' as a keyword\n",
    "def return_pol_gov(row):\n",
    "    list_dict = eval(row.keywords)\n",
    "    for (dic) in (list_dict):\n",
    "        if dic.get('value') == 'United States Politics and Government':\n",
    "            return True"
   ]
  },
  {
   "cell_type": "code",
   "execution_count": 19,
   "metadata": {},
   "outputs": [],
   "source": [
    "def filter_keyword(df, keyword='United States Politics and Government'):\n",
    "    df[keyword] = df.apply(return_pol_gov, axis=1)\n",
    "    df = df[df[keyword] == True]\n",
    "    return df"
   ]
  },
  {
   "cell_type": "code",
   "execution_count": 20,
   "metadata": {},
   "outputs": [],
   "source": [
    "#returns shape of news and oped\n",
    "def oped_v_news(df):\n",
    "    df.type_of_material.hist()\n",
    "    news = sum(df.type_of_material == \"News\")\n",
    "    oped = sum(df.type_of_material == \"Op-Ed\")\n",
    "    print(f'News: {news} Oped: {oped}, Total: {oped+news}, Op-Ed {round(oped/(oped+news), 2)} of total')\n",
    "    #plt.savefig('img/oped_news_hist.png')"
   ]
  },
  {
   "cell_type": "code",
   "execution_count": 21,
   "metadata": {},
   "outputs": [],
   "source": [
    "#split article and return quote\n",
    "def return_quote(document):\n",
    "    article = []\n",
    "    quote_list = []\n",
    "    \n",
    "    open_quote = \"“\"\n",
    "    close_quote = \"”\"\n",
    "    \n",
    "    close_split = document.split(close_quote)\n",
    "    \n",
    "    for string in close_split:\n",
    "\n",
    "        quote = string.split(open_quote)\n",
    "        article.append(quote.pop(0))\n",
    "        quote_list += quote\n",
    "    \n",
    "    article = \" \".join(article)\n",
    "    quotation = \" \".join(quote_list)\n",
    "        \n",
    "    return(quotation)"
   ]
  },
  {
   "cell_type": "code",
   "execution_count": 22,
   "metadata": {},
   "outputs": [],
   "source": [
    "#split article and return quote\n",
    "def return_article(document):\n",
    "    article = []\n",
    "    quote_list = []\n",
    "    \n",
    "    open_quote = \"“\"\n",
    "    close_quote = \"”\"\n",
    "    \n",
    "    close_split = document.split(close_quote)\n",
    "    \n",
    "    for string in close_split:\n",
    "\n",
    "        quote = string.split(open_quote)\n",
    "        article.append(quote.pop(0))\n",
    "        quote_list += quote\n",
    "    \n",
    "    article = \" \".join(article)\n",
    "    quotation = \" \".join(quote_list)\n",
    "    \n",
    "    return(article)"
   ]
  },
  {
   "cell_type": "code",
   "execution_count": 275,
   "metadata": {},
   "outputs": [],
   "source": [
    "data = pd.read_csv('token_2016_2020.csv', index_col='_id')"
   ]
  },
  {
   "cell_type": "code",
   "execution_count": 276,
   "metadata": {},
   "outputs": [
    {
     "name": "stdout",
     "output_type": "stream",
     "text": [
      "CPU times: user 2.11 ms, sys: 381 µs, total: 2.49 ms\n",
      "Wall time: 2.14 ms\n"
     ]
    }
   ],
   "source": [
    "%%time\n",
    "df = data.copy()"
   ]
  },
  {
   "cell_type": "code",
   "execution_count": 277,
   "metadata": {},
   "outputs": [
    {
     "data": {
      "text/plain": [
       "(19167, 9)"
      ]
     },
     "execution_count": 277,
     "metadata": {},
     "output_type": "execute_result"
    }
   ],
   "source": [
    "df.shape"
   ]
  },
  {
   "cell_type": "code",
   "execution_count": 278,
   "metadata": {},
   "outputs": [],
   "source": [
    "df = filter_keyword(df)"
   ]
  },
  {
   "cell_type": "code",
   "execution_count": 283,
   "metadata": {},
   "outputs": [
    {
     "data": {
      "text/html": [
       "<div>\n",
       "<style scoped>\n",
       "    .dataframe tbody tr th:only-of-type {\n",
       "        vertical-align: middle;\n",
       "    }\n",
       "\n",
       "    .dataframe tbody tr th {\n",
       "        vertical-align: top;\n",
       "    }\n",
       "\n",
       "    .dataframe thead th {\n",
       "        text-align: right;\n",
       "    }\n",
       "</style>\n",
       "<table border=\"1\" class=\"dataframe\">\n",
       "  <thead>\n",
       "    <tr style=\"text-align: right;\">\n",
       "      <th></th>\n",
       "      <th>lead_paragraph</th>\n",
       "      <th>keywords</th>\n",
       "      <th>pub_date</th>\n",
       "      <th>type_of_material</th>\n",
       "      <th>print_page</th>\n",
       "      <th>text</th>\n",
       "      <th>United States Politics and Government</th>\n",
       "      <th>quote_list</th>\n",
       "      <th>keyword_list</th>\n",
       "    </tr>\n",
       "    <tr>\n",
       "      <th>_id</th>\n",
       "      <th></th>\n",
       "      <th></th>\n",
       "      <th></th>\n",
       "      <th></th>\n",
       "      <th></th>\n",
       "      <th></th>\n",
       "      <th></th>\n",
       "      <th></th>\n",
       "      <th></th>\n",
       "    </tr>\n",
       "  </thead>\n",
       "  <tbody>\n",
       "    <tr>\n",
       "      <th>nyt://article/f5d2e4a7-f89b-54da-9985-dd5fc704a51e</th>\n",
       "      <td>On the first Monday in May, the Department of ...</td>\n",
       "      <td>[{'name': 'persons', 'value': 'Barr, William P...</td>\n",
       "      <td>2020-06-01T09:00:11+0000</td>\n",
       "      <td>News</td>\n",
       "      <td>20.0</td>\n",
       "      <td>as you drew closer to the fifth floor where  ...</td>\n",
       "      <td>True</td>\n",
       "      <td>[[]]</td>\n",
       "      <td>['', 'Barr,', 'William', 'P', 'Justice', 'Depa...</td>\n",
       "    </tr>\n",
       "    <tr>\n",
       "      <th>nyt://article/0fa09b77-5faa-588f-9d4a-39a34748c7f3</th>\n",
       "      <td>Under normal circumstances, Joseph R. Biden Jr...</td>\n",
       "      <td>[{'name': 'subject', 'value': 'Presidential El...</td>\n",
       "      <td>2020-06-01T09:01:09+0000</td>\n",
       "      <td>News</td>\n",
       "      <td>14.0</td>\n",
       "      <td>at a moment that is emerging as a critical te...</td>\n",
       "      <td>True</td>\n",
       "      <td>[[]]</td>\n",
       "      <td>['', 'Presidential', 'Election', 'of', '2020',...</td>\n",
       "    </tr>\n",
       "    <tr>\n",
       "      <th>nyt://article/6b274a69-c82b-5b68-bada-ec1467440ddf</th>\n",
       "      <td>The Supreme Court on Monday unanimously upheld...</td>\n",
       "      <td>[{'name': 'organizations', 'value': 'Supreme C...</td>\n",
       "      <td>2020-06-01T16:38:59+0000</td>\n",
       "      <td>News</td>\n",
       "      <td>15.0</td>\n",
       "      <td>court ruled that members of a government boar...</td>\n",
       "      <td>True</td>\n",
       "      <td>[[]]</td>\n",
       "      <td>['', 'Supreme', 'Court', '(US)', 'Puerto', 'Ri...</td>\n",
       "    </tr>\n",
       "    <tr>\n",
       "      <th>nyt://article/8867f9cb-5914-5731-90b9-e1f1781fa568</th>\n",
       "      <td>An international team of scientists, including...</td>\n",
       "      <td>[{'name': 'subject', 'value': 'Coronavirus (20...</td>\n",
       "      <td>2020-06-01T16:42:18+0000</td>\n",
       "      <td>News</td>\n",
       "      <td>6.0</td>\n",
       "      <td>their report posted online  they also point t...</td>\n",
       "      <td>True</td>\n",
       "      <td>[[]]</td>\n",
       "      <td>['', 'Coronavirus', '(2019-nCoV)', 'Bats', 'SA...</td>\n",
       "    </tr>\n",
       "    <tr>\n",
       "      <th>nyt://article/fb5f6e07-033e-5618-967e-fbc1ebcfd61c</th>\n",
       "      <td>WASHINGTON — President Trump on Monday angrily...</td>\n",
       "      <td>[{'name': 'subject', 'value': 'George Floyd Pr...</td>\n",
       "      <td>2020-06-01T17:20:54+0000</td>\n",
       "      <td>News</td>\n",
       "      <td>1.0</td>\n",
       "      <td>said in brief remarks in the    the presiden...</td>\n",
       "      <td>True</td>\n",
       "      <td>[[]]</td>\n",
       "      <td>['', 'George', 'Floyd', 'Protests', '(2020)', ...</td>\n",
       "    </tr>\n",
       "  </tbody>\n",
       "</table>\n",
       "</div>"
      ],
      "text/plain": [
       "                                                                                       lead_paragraph  \\\n",
       "_id                                                                                                     \n",
       "nyt://article/f5d2e4a7-f89b-54da-9985-dd5fc704a51e  On the first Monday in May, the Department of ...   \n",
       "nyt://article/0fa09b77-5faa-588f-9d4a-39a34748c7f3  Under normal circumstances, Joseph R. Biden Jr...   \n",
       "nyt://article/6b274a69-c82b-5b68-bada-ec1467440ddf  The Supreme Court on Monday unanimously upheld...   \n",
       "nyt://article/8867f9cb-5914-5731-90b9-e1f1781fa568  An international team of scientists, including...   \n",
       "nyt://article/fb5f6e07-033e-5618-967e-fbc1ebcfd61c  WASHINGTON — President Trump on Monday angrily...   \n",
       "\n",
       "                                                                                             keywords  \\\n",
       "_id                                                                                                     \n",
       "nyt://article/f5d2e4a7-f89b-54da-9985-dd5fc704a51e  [{'name': 'persons', 'value': 'Barr, William P...   \n",
       "nyt://article/0fa09b77-5faa-588f-9d4a-39a34748c7f3  [{'name': 'subject', 'value': 'Presidential El...   \n",
       "nyt://article/6b274a69-c82b-5b68-bada-ec1467440ddf  [{'name': 'organizations', 'value': 'Supreme C...   \n",
       "nyt://article/8867f9cb-5914-5731-90b9-e1f1781fa568  [{'name': 'subject', 'value': 'Coronavirus (20...   \n",
       "nyt://article/fb5f6e07-033e-5618-967e-fbc1ebcfd61c  [{'name': 'subject', 'value': 'George Floyd Pr...   \n",
       "\n",
       "                                                                    pub_date  \\\n",
       "_id                                                                            \n",
       "nyt://article/f5d2e4a7-f89b-54da-9985-dd5fc704a51e  2020-06-01T09:00:11+0000   \n",
       "nyt://article/0fa09b77-5faa-588f-9d4a-39a34748c7f3  2020-06-01T09:01:09+0000   \n",
       "nyt://article/6b274a69-c82b-5b68-bada-ec1467440ddf  2020-06-01T16:38:59+0000   \n",
       "nyt://article/8867f9cb-5914-5731-90b9-e1f1781fa568  2020-06-01T16:42:18+0000   \n",
       "nyt://article/fb5f6e07-033e-5618-967e-fbc1ebcfd61c  2020-06-01T17:20:54+0000   \n",
       "\n",
       "                                                   type_of_material  \\\n",
       "_id                                                                   \n",
       "nyt://article/f5d2e4a7-f89b-54da-9985-dd5fc704a51e             News   \n",
       "nyt://article/0fa09b77-5faa-588f-9d4a-39a34748c7f3             News   \n",
       "nyt://article/6b274a69-c82b-5b68-bada-ec1467440ddf             News   \n",
       "nyt://article/8867f9cb-5914-5731-90b9-e1f1781fa568             News   \n",
       "nyt://article/fb5f6e07-033e-5618-967e-fbc1ebcfd61c             News   \n",
       "\n",
       "                                                    print_page  \\\n",
       "_id                                                              \n",
       "nyt://article/f5d2e4a7-f89b-54da-9985-dd5fc704a51e        20.0   \n",
       "nyt://article/0fa09b77-5faa-588f-9d4a-39a34748c7f3        14.0   \n",
       "nyt://article/6b274a69-c82b-5b68-bada-ec1467440ddf        15.0   \n",
       "nyt://article/8867f9cb-5914-5731-90b9-e1f1781fa568         6.0   \n",
       "nyt://article/fb5f6e07-033e-5618-967e-fbc1ebcfd61c         1.0   \n",
       "\n",
       "                                                                                                 text  \\\n",
       "_id                                                                                                     \n",
       "nyt://article/f5d2e4a7-f89b-54da-9985-dd5fc704a51e   as you drew closer to the fifth floor where  ...   \n",
       "nyt://article/0fa09b77-5faa-588f-9d4a-39a34748c7f3   at a moment that is emerging as a critical te...   \n",
       "nyt://article/6b274a69-c82b-5b68-bada-ec1467440ddf   court ruled that members of a government boar...   \n",
       "nyt://article/8867f9cb-5914-5731-90b9-e1f1781fa568   their report posted online  they also point t...   \n",
       "nyt://article/fb5f6e07-033e-5618-967e-fbc1ebcfd61c    said in brief remarks in the    the presiden...   \n",
       "\n",
       "                                                    United States Politics and Government  \\\n",
       "_id                                                                                         \n",
       "nyt://article/f5d2e4a7-f89b-54da-9985-dd5fc704a51e                                   True   \n",
       "nyt://article/0fa09b77-5faa-588f-9d4a-39a34748c7f3                                   True   \n",
       "nyt://article/6b274a69-c82b-5b68-bada-ec1467440ddf                                   True   \n",
       "nyt://article/8867f9cb-5914-5731-90b9-e1f1781fa568                                   True   \n",
       "nyt://article/fb5f6e07-033e-5618-967e-fbc1ebcfd61c                                   True   \n",
       "\n",
       "                                                   quote_list  \\\n",
       "_id                                                             \n",
       "nyt://article/f5d2e4a7-f89b-54da-9985-dd5fc704a51e       [[]]   \n",
       "nyt://article/0fa09b77-5faa-588f-9d4a-39a34748c7f3       [[]]   \n",
       "nyt://article/6b274a69-c82b-5b68-bada-ec1467440ddf       [[]]   \n",
       "nyt://article/8867f9cb-5914-5731-90b9-e1f1781fa568       [[]]   \n",
       "nyt://article/fb5f6e07-033e-5618-967e-fbc1ebcfd61c       [[]]   \n",
       "\n",
       "                                                                                         keyword_list  \n",
       "_id                                                                                                    \n",
       "nyt://article/f5d2e4a7-f89b-54da-9985-dd5fc704a51e  ['', 'Barr,', 'William', 'P', 'Justice', 'Depa...  \n",
       "nyt://article/0fa09b77-5faa-588f-9d4a-39a34748c7f3  ['', 'Presidential', 'Election', 'of', '2020',...  \n",
       "nyt://article/6b274a69-c82b-5b68-bada-ec1467440ddf  ['', 'Supreme', 'Court', '(US)', 'Puerto', 'Ri...  \n",
       "nyt://article/8867f9cb-5914-5731-90b9-e1f1781fa568  ['', 'Coronavirus', '(2019-nCoV)', 'Bats', 'SA...  \n",
       "nyt://article/fb5f6e07-033e-5618-967e-fbc1ebcfd61c  ['', 'George', 'Floyd', 'Protests', '(2020)', ...  "
      ]
     },
     "execution_count": 283,
     "metadata": {},
     "output_type": "execute_result"
    }
   ],
   "source": [
    "df.head()"
   ]
  },
  {
   "cell_type": "code",
   "execution_count": 285,
   "metadata": {},
   "outputs": [
    {
     "data": {
      "text/plain": [
       "' as you drew closer to the fifth floor where      works out of a suite of offices things started to loosen up  assistant outside his conference room wore a mask but the other did not  the middle of the room with its oil paintings and vaulted ceiling the long central table had fewer chairs than you might expect and an appropriate distance between them  past the next door inside the attorney generals smaller personal office  himself was also mask-free  around to greet his visitors he moved into the middle of a wide circle of four chairs arranged in front of his desk  nearing the end of his career  did not take his current job for the glory  had already been attorney general once in      administration winning him a reputation as a wise old man a reputation that in the eyes of some his tenure in the  administration has tarnished  is he doing it for the money  time in corporate  earned him tens of millions of dollars in compensation and stock options and his bearing is still that of a  500 counsel cozy manners wrapped around a harder core  said though  had been asked to bring one  tone was jokingly conspiratorial as though he were making an exception for an old friend  is sometimes described as an adjective that also captures his professorial manner  speaking voice is very soft just loud enough to be consistently perceptible his accent is patrician with a trace of old    personality breaks through mostly in frequent moments of humor which range from clubby chuckles to tension-breaking eruptions an aide added  crossed the circle of chairs grinning away any awkwardness  bumped elbows he said in the same joshing tone  greater risk of course was that  might infect him given his cabinet-level access to regular coronavirus testing the difference in our ages  regular meetings with the president and the mostly one-way prophylactic value of masks in general his aide suggested again  took it off   the whole country was doing the same dance   for   and  had recommended that all  wear masks at meetings like this one   was doing something else and so for the time being was the   staff     having been wrong-footed after taking the no-mask custom to the   now seemed to be making it up as he went along  weeks into the global pandemic a charitable observer might still have described the administrations response as improvisational or misguided as opposed to willfully cavalier  things were about to get worse  day  projection of the total   death toll 75 000 to 100 000 which was given the previous evening at the   would be challenged by an internal  document predicting that the number of daily deaths would rise into   reckless faith of the presidents inner circle would be challenged when two members of the   staff tested positive for the coronavirus  and  did not know it then but we were enjoying the tail end of the  administrations libertine phase   27 the official death toll would surpass 100 000 the upper bound of what  predicted on  3  has to assume that  is keeping a close eye on the 70-year-old  right now  powers of the attorney general as the executive branchs rule interpreter and law enforcer peak during moments of social unrest  knows these powers well  led the   through the   riots of 1992 when  invoked the   and deployed thousands of soldiers and    said the   riots were gang activity and not    is a stalwart believer in the righteousness of the police those communities that fail to give the police he said in a  speech  summer  dropped the departments federal case against the   police officer who killed   during an arrest in 2014  role also gives him influence over three major political fronts heading into   there is  fight to open the nations economy which could depend in no small part on  interpretation of federal authority and willingness to twist governors arms  there are the mechanics of the vote itself a topic of great partisan controversy about which the   has shown a growing willingness to weigh in  there is the ongoing investigation led by   the   attorney in  into the origins of the    s  probe in the run-up to the 2016 election the findings of which are widely expected to be announced before   the election now on the horizon  defended his record in two recent interviews  critics charge that since becoming attorney general he has repeatedly steered the   toward decisions that serve  interests particularly around the investigations carried out by the    and     into  influence over the 2016 election  insists that he acts independently even as the president often undermines that claim by tweeting out apparent instructions for what his attorney general ought to do  the time of our first meeting in his office  had already started looking at how the federal government might intervene in state-ordered coronavirus shutdowns   accused  governors of denying citizens their and encouraged residents to   and   zeroed in on the nuts and bolts of the legal case for  two small churches filed lawsuits seeking to hold live services despite state or local regulations the   made filings in support of their   rights  a signed memorandum sent to the departments 93   attorneys  suggested that the federal governments interest went beyond protecting live worship  included  weeks before our interview  bragged that he held authority over the states  went against the prevailing view that the federal government while free to enforce a variety of measures during its own emergencies is more constrained in its authority to compel state or local governments to lift theirs   asked  what  meant he responded by laying out a general view of the presidents pandemic-related powers he said  answer sounded so dry and routine that  failed to ask what he meant by  broadly enough  interpretation could sanitize and legalize  claim to authority  ballots are another domain where  had been staking out turf  called the distribution of ballot applications in  and warned that voting by mail  a second interview on  20 when  asked who was going to referee the 2020 election  replied  said his departments role would be limited as the power belongs to the states and their electors  when  brought up  tweet about  which he posted that same morning  quickly seized the opportunity to float a new theory that foreign governments might conspire to mail in fake ballots he cautioned offering no evidence to substantiate that this was a real possibility  he called it and added  many election-related issues the  of  has to defer to the states  in the case of  investigation of the 2016 investigators or the as  has so often called it  has a greater degree of control  years  has been saying that he was treated unfairly in 2016 particularly at the hands of   then the    director  who is open about his agreement with this premise is now in the process of nailing down the details  wont rule out the possibility that  findings could undermine a key consensus about 2016 the well-established conclusion that  interference sought to favor  a finding of the    of 2017 that was later underscored by  the special counsel and verified by the   intelligence committee   told me was looking for  paused glanced down and fidgeted for a moment with his necktie before going on  seems aware at times that he is gambling with his reputation he said with a matter-of-fact sigh in a  interview last year  we spoke in his office he was critical of what he called  tendency to around himself he said he added  willingness to weather controversy on the presidents behalf has not only caused consternation among some former friends and allies it has given rise to considerable speculation about his motives  would a grandfather in semiretirement who had already reached the pinnacle of his profession sign up for this  wonder if  might still be hungry for influence having been attorney general for only 17 months the first time  wonder whether he spent too much time watching   during the  years and came out the other side an ideologue  there are others who look at  support for  and see more consistency than contradiction  they say hasnt changed his values  he has found in  the perfect vehicle with which to move them forward says   who led the   civil division during  first tour and then succeeded him serving as acting attorney general during the first three months of   presidency  far as what  is hoping to do with his canvas  says he is committed to the and premise that  isnt too far away from what  himself articulated in a 2019 speech at the  of     view piety lay at the heart of the founders model of self-government which depended on religious values to restrain human passions  said  flows from through to form  and experience merely serve to confirm the infallible divine law  law he said is under threat from including who call on the state  their feet  places mental illness drug overdoses violence and suicide  these things he said are getting worse  are  started his career in the    as an analyst working on  and other matters   asked about the origin of his interest in the intelligence service he responded indirectly with an anecdote about telling his high school guidance counselor that he wanted to be    director  was tempting to link  career and conservatism with his father   who served in the  of   the    s forerunner during     1940 as an undergraduate at   wrote a controversial editorial for    defending a speech by the university president that called upon the faculty to support the  war effort he wrote  tempting as it was to see the son as part of some epigenetic chain of old-line conservatism  cautioned me not to make such assumptions  parents met at the  of  in the early 1940s  who already spoke three languages had been sent there by the  to learn   spotted   a young  woman who had a masters degree in  from  through an open doorway teaching  to undergraduates and was smitten  took some courting  thought  was a  told me and his background was also an issue he was raised without much religion but his father  grandfather was born a secular   joining the   gave his religion as    converted to  after he and  wed   26-page    file obtained from the   gives a detailed account of his transition from the military to intelligence work  1944 he shipped off to   suffered from hay fever and 20/200 vision much of his time overseas was spent hospitalized with allergies  next year he was assigned to the     interviewer found him to be  late 1945 he moved to  to begin work at the   and   which would become the   in-house intelligence bureau  the couples second son was born in 1950  age 8 he had taken up the bagpipes which would become a lifelong hobby  attended the    in   where his classmates remembered his conservatism the delight he took in making an argument and his sense of humor  yearbook praised him as an  involvement with campus politics continued at   joined the   which organized against student occupiers who had taken over the campus to protest the    was known as a feeder school for the     average of 14 seniors went to the agency each year from 1960 through 1966 according to a 1967 article from the student newspaper    which reported that a majority came in not through the colleges  of   and  but perhaps a reference to the private foundations and student organizations that were receiving    funding at that time  the late 1960s this recruiting drew campus protests which eventually broadened to take on other issues beyond the war  the morning of  24 1968 student demonstrators many of them affiliated with  for a   stormed    and took over the offices of  president  protesters were angry that  was building a gymnasium nearby that would have two separate entrances one for the school community and one for neighborhood residents and also about the universitys connection with a think tank that did research for the   was on the other side standing shoulder to shoulder with conservatives and athletes to form a blockade around the library he told me  smiled to himself  asked if he was in the fistfight  adjusted the bridge of his glasses and glanced down he said letting out a big laugh  later added  interned at the    in the summers of 1971 and 1972  1973 after completing his graduate degree in government and  studies he married   whom he met at a fraternity party  next day the couple drove to  and  began a permanent job at the    the day after that  mothers memories of the   he said had instilled in him a desire for career stability so he began taking law courses at night  then he had transferred to the    s  of   says   who worked down the hall from  in the general counsels office where  would eventually rise to become the acting head  new job put  on the    s seventh floor not far from the directors office and near the center of what was shaping up to be a historic fight with   the aftermath of    the presidency was endowed with vast new powers mass surveillance covert operations proxy wars and nuclear weapons  young    spurred on by the imperative to win the   abused its own new powers to an astonishing degree  a statutory ban on its involvement in either or the    surveilled and surreptitiously engaged with countless  citizens  agency reported to the president and often took action based on informal conversations without ever committing much to paper  around the agencys transgressions held until the 1970s when antiwar sentiment began to peak  scandals around the   1971 and the  break-in 1972 culminating in the long-anticipated  defeat convinced much of the public that the federal government should no longer be given the benefit of the doubt  1973   the longtime    director ordered the destruction of internal    documents regarding  an experimental mind-control program  later recalled  1974 the journalist   who had already broken the story of the   massacre in  revealed that the    had developed a sprawling domestic-spying operation keeping dossiers on thousands of  citizens  created two special committees a  committee led by    and a  committee that would eventually be led by    to investigate  years the    would be consumed with negotiations over the limits of what  could oversee  told me in his office  asked if there had indeed been excesses  poker face came to life  grinned turned his palms out and shrugged he said  burst out laughing  he pulled back to give the matter some more thought adjusting his glasses as he settled back into seriousness he said  battle between conservative hard-liners and a   would continue through the late    the    there was a sense of victimization   the agencys first presidentially appointed inspector general told me  1976 the job of defending the agency in public passed to the new director     who had served as a special   envoy to   at least one occasion  sat behind  during a congressional hearing giving him legal advice  wound up making oversight a permanent thorn in the    s side by establishing two intelligence oversight committees    drafted two letters each signed by  asking  if the    could resume the routine destruction of documents  request was denied says   now a law professor at the   of  and  at   who dealt with the    as legal counsel of the      than accept post-Watergate congressional limitations the hard-liners decamped from the    and became floaters bureaucratic nomads who sought out underused and low-visibility pockets of the federal government from which to wage their war over executive power  largest battle was fought around the  affair  covert group operating out of the    had used money gained by selling arms to  to fund anti-Communist rebels in   flouting a congressional prohibition  of the operation was organized by     of the     of the  plotters were dragged into the public eye and indicted by a special prosecutor another post-Watergate innovation  pointing to the involvement of    and       was inconclusive  hard-liners felt that foreign policy and covert operations were an exclusively presidential domain is how  first    director   put it in an interview with the political scientist     this time conservative thinkers of  generation began to coalesce around an idea they called  presidents right to his powers under   of the  they argued was undivided and absolute  reforms independent prosecutors to investigate high-level wrongdoing requirements to get warrants for national-security wiretaps and more were unconstitutional incursions into the presidents rightful powers   1977  left the    upon his graduation from      eventually landing as a policy lawyer in the     running for president took  to the 1988    to help vet potential running mates and after winning the election appointed him to lead the    of   where his duties included determining the legal limits of    activities  who was still at the    recalls that  kept his independence from the    of  opinions on classified    operations while a third operation  says was rejected entirely  of  public opinions though effectively authorized the invasion of   as acting attorney general he impressed  further by defusing a delicate prison-hostage crisis  attorney general in 1992  signed off on a mass-surveillance program that collected billions of call records for the     the end of  presidency he successfully pushed for a pardon of six  defendants     a former    director says  reminds him of   the former    lawyer who became     chief of staff and played a major role in pushing the limits of conduct including torture that the   and the    determined to be legal in the aftermath of the  11 attacks   says  intellect and experience made him appealing to the private sector  eight years he served as general counsel at  at a time when the company was working out secret arrangements with the    to turn over its customers data   2001 a legal trade publication noted  1 5 million salary and compared him to a for the depth of his connections in both political  and corporate    that time he said he had no interest in returning to officialdom he said  the 2016 presidential election  was a player in  politics and active in conservative  causes  gave nearly 50 000 to a  affiliated with    annual holiday parties traditional  cèilidhs with music and singers drew hundreds whose friendships he had maintained over the years  wrote and sold a screenplay about     spent time traveling abroad and hunting birds  three daughters all became accomplished lawyers working on   or as federal prosecutors  eldest  moved to the   financial-crimes unit after  nomination as attorney general one of  sons-in-law left the   for the      year shortly after his   speech  gave a second major address at the annual convention of the   an organization of conservative lawyers founded during the  administration  subject was executive power   criticized progressives this time for making politics  presidency in his view handled  of the core function of the presidency was the ability to act swiftly and without constraint but this capability had been diminished by the other branches since   had burdened the president with oversight while the courts were interfering with  travel ban on certain countries and his termination of     program for young immigrants  seemed to suggest that when it comes to foreign policy the only legitimate check on presidential behavior is the next election  later this argument would become the foundation of  impeachment defense   5 2018  attended     funeral  waiting in line for the shuttle bus that would take him to    he and his wife ran into a friend    who was    counsel during the  years  two men spent most of the day together  sounded out  about the attorney-general job  knew from following the news that  was under consideration but  never tipped his hand about how close he was to being tapped and  never asked  that week when  announced  nomination  was not surprised under   says  the time of his nomination  supporters presented him as a trustworthy and sensible conservative a known quantity within the  establishment who would restrain  worst impulses   called him   a legal commentator who is now one of  harshest critics tweeted at the time that he had been under  and that his confirmation would be  the confirmation hearing    of  the ranking  on the   questioned  at length about a memorandum he wrote to the administration the previous summer outlining why he believed that  had no legal right to investigate  for obstruction of justice  president  argued has investigations and can on individual cases including those that touch on his political or financial interests  wrote  enforcement he argued was a power exclusively held by the president because  the hearing  seemed to say that he did not believe the unitary executives powers to be infinite     a   asked if it would be lawful for a president to trade a pardon for a promise not to incriminate him  answered that such an exchange would be a crime  also mentioned his long friendship with   wife attends the same  study as  wife  attended the weddings of two of  daughters  was confirmed by a vote of 54 to 45  had barely served one month as attorney general when his friendship with  was tested by the special prosecutors delivery of his report on the afternoon of   22   account then went dark for nearly 40 hours    sent a letter to  that he would later describe as giving  and  feed came back to life he tweeted  his first public comments that same day  said the words three times he added  tweet  letter and  report said three different things   nor  exonerated   quoted  own words that his complicated finding on obstruction the president   omitted  conclusions that  interference sought to favor  that  and his campaign welcomed the interference and believed they would benefit from it and that the and between  and the campaign were substantial even though the evidence  was able to gather fell short of a criminal conspiracy  fired off two letters complaining that  had misrepresented his work  the second letter dated  27 he asked  to immediately release the reports introductions and executive summaries  the public would not get to read  work until  18 when  released a redacted version of the full report  doing so  gave a news conference in which he tilted further toward declaring  innocent something  bent over backward not to do  said of   distortions drew wide criticism  were also frustrated by the reports content  lacked the thunderous revelations about  that had long been promised by  opponents and it suffered from legalistic inconclusiveness on the most fundamental questions  having been given a chance to put the 2016 election to bed for good had carefully avoided doing so  hopes for the promised collusion bombshell now turned to the unredacted version of the  report which  refused to give them  an echo of his    work during the   years the    has taken a very hard line regarding what information  and the courts are entitled to get from the    has fought in court against the release of  tax returns argued that  did not need to see the  whistle-blowers complaint because it was not a matter of and has challenged congressional requests for  secret grand-jury materials   refused to turn over the fully unredacted  report to the    citing executive privilege the committee voted to hold him in contempt   chairman    of   claimed that this was the beginning of a  seemed untroubled he reportedly quipped to   at an event a few days later  concerns about  handling of  investigation have not been confined to      of the     for the  of  a    appointee recently criticized  and questioned whether  his first meeting with   in 2017  later recalled in his confirmation hearing he told  that  the end he was half right  said in one of our interviews  would have been  2019 more than a year ago  continued  asked if they still saw each other at  study  replied  general are chosen by the president no law prohibits them from doing the presidents bidding  presidents have occasionally asked the attorney general to intervene in individual prosecutions       attorney general went much further helping to plan the  burglary and then working to cover it up  the   guidelines do enjoin prosecutors not to comment about ongoing investigations something  does regularly  also caution that legal judgments and that the department must respect   of this has stopped  from overruling his subordinates to the benefit of  friends and associates most notably    longtime political mentor and   his former national security adviser  both cases  has tweeted about what he sees as the unfairness of their legal troubles and the   has subsequently pushed for leniency  has repeatedly said that  has never asked him to do anything in a criminal case he said in an interview with    the departments interventions on behalf of  and  have raised questions about the supposed  firewall   who led the  of   under    told   in   has said he doesnt pay attention to  tweets and doesnt take seriously the ones he is made aware of says   friend and former colleague   the former head of  civil rights division at the department articulated a prevailing view of  among  telling me that the attorney general has  says  interventions on behalf of  associates have far-reaching consequences she says   prosecutors recommended that  be sentenced to seven to nine years in prison for witness tampering and other crimes  following day the   filed a second revised sentencing memo asking that  sentence be reduced  to 108 months the memo argued given   the same day the department revised its sentencing recommendation all four of the prosecutors responsible for the case announced their withdrawal    left the department entirely  wrote later in an op-ed in       said the  prosecutors  tweeted out congratulations to  for  pushed back in the  interview insisting that he reached the  decision independently he said adding  post-Mueller case that has arguably received the most attention among  supporters is that of  the lieutenant general who briefly served as  national security adviser  dueling narratives around the  transition crystallize around  and the question of whether he or those who investigated him were in the wrong  addition to drawing scrutiny for his  contacts  initially failed to report as legally required that his company was effectively on the payroll of the  government during the 2016 campaign  himself tried and failed to talk  into dropping him  of  own problems hinged on his asking  if he could to dropping the  investigation  adversaries consider  to be a loose cannon and possible  pawn who needed to be rooted out  supporters depict him as the second coming of   a good soldier who was martyred in public for his loyalty to the executive   4 the day of my first interview with   was still awaiting sentencing having pleaded guilty to lying to the     time to time  had been tweeting about the  case in ways that seemed to cross the line that  had drawn about public comments from the   about matters pending before the    said  had been victimized by the as   asked  in light of his statement on   whether these were the kind of tweets that made his job  said  had recently been tweeting about   said  replied  asked if he would like to see them  said  handed  a printout of an  29  tweet  read  said with cool indifference  asked how it was that  supposed antagonists could be punished without involvement from the department  asked referring to the particular case that was now before     had found the right hair to split and he split it so cleanly and decisively that  couldnt say this wasnt his position from the beginning  tweet  said was nothing new  he said  days later on the afternoon of  7 the   filed a motion to dismiss its own prosecution of   government argued that  false statements were not to the investigation of  because the investigation was itself unjustified  argument relied in part on the contents of handwritten    notes that had been turned over to  attorneys by the department and released to the public by mutual agreement  of the prosecutors assigned to the case immediately withdrew  few days later  decided he wouldnt rule on whether to accept the departments motion until he had heard from friends of the court and a special counsel  lawyers appealed asking a higher court to force the judges hand  the department took  side  took to  celebrating  definitive  11  history of the 2016 election remains unwritten though not for lack of trying  addition to the  report and voluminous criminal indictments we have the    the  report by the   inspector general   and four volumes of the  intelligence committees report a fifth volume of which is on the way  major episodes of the story may now seem like familiar terrain to those who have kept up and a hopeless mess to everyone else  zoom out a bit and the stakes could not be higher  of  critics like    of  the  chairman of the    and    director of national intelligence go further than saying that the  put a thumb on the scale for   have suggested that the extra boost was decisive that  would not have been elected in 2016 but for  interference  crucial legacy of 2016 is that the question of  legitimacy was never settled  without any consensus on what happened in 2016 the rules of the road for 2020 are up in the air  first armed with the powers of law enforcement and presidential access to classified material  is getting ready to roll out his account of 2016   promises he most likely has in mind the ongoing investigation by   and its long-expected report although it is also possible that  public work product will take the form of indictments or perhaps nothing at all  who assigned  the task of investigating the  probe in  last year and met with him several times immediately after the conclusion of  investigation is overseeing  work and briefs  on his findings regularly  on  public statements we can see the rough contours of  findings beginning to take shape  governments conduct during the  transition  has said was  of  campaign amounted to  there was the all-important question of whether the    was justified in opening the initial   investigation into the  campaigns  ties  ordinary circumstances   prosecutors do not comment on anything connected to an ongoing investigation but on the day that  released his report both  and  decided to do just that     s interest in   said was based and  said in his own statement  had found that the investigation was justified so these sounded like sweeping words of dissent  over the coming months as attention drifted elsewhere they shrank  the time  sat down with  the only dispute with  hed voiced was whether the    had enough evidence to open a full investigation  and  believe that there was only enough to open a preliminary investigation not a full one  our first interview  mentioned the dossier of salacious anti-Trump claims that had been gathered and circulated by   a former  intelligence agent who was working indirectly for the  campaign  possibility that the  government intentionally seeded the dossier with misinformation was one of the issues  ignored and  was looking at  said  had  gone back and looked at the investigative steps taken as   accelerated he continued  had done that but unlike  and  he had no access to the    the    and the foreign governments that were involved  facilitate what later became a criminal investigation  ordered the heads of the intelligence agencies to cooperate with   delegated to  the power to order the declassification of secret documents  has spoken with intelligence officials from   and  to reportedly solicit information that could help   the case of  where  and  met with political leaders and intelligence chiefs in person his visit provoked concern among   diplomats who told   that  circumvented protocols in setting up the trip    of  who is the ranking  on the   and helped write its five-volume report said there were about  trips he said   a former colleague of  from the     years said he thought  could come back with something more  investigation he told me  investigation is not the only means through which  decisions could affect the election  the    wants to open a criminal investigation into either campaign it will first need  personal approval  has established a special to deal with materials that    says he has obtained from  sources which  has claimed implicate   the presumptive  presidential nominee  the interview  did not dispute the notion that the  government had interfered in 2016 but he made it sound as though the assumption that it favored  would be coming under some pressure  also would expect  to play a role in deterring and punishing foreign interference in the 2020 election but that could get complicated  camp continues to deny the intelligence communitys consensus view one strongly reiterated by  and the  intelligence committee that the  favored  over    including  on the    claim to have unreleased evidence that points the other way  on what  told me  intentions will most likely emerge as the key retrospective battlegrounds as  work continues and the election draws closer  said  what  did not address directly was the fourth volume of the report from the  intelligence committee  report reviewed much of the same intelligence underlying the     affirmed that  pro-Trump position and     direct involvement were supported by     s disagreement was  the committees groundbreaking 2012   the fourth volume was unanimously approved by a bipartisan vote of the  committee said    a  from   and the chairman of the committee  for his part dismissed  investigation as he told me  brought up the  investigation again in my last interview with  on  20  fifth floor of   headquarters now felt different some older lawyerly looking men walking around wore masks  younger men in suits with lapel pins who were most likely security did not  himself still wore no mask but there were no more polite entreaties for visitors to take theirs off  could see two crumpled blue surgical masks lying amid the papers on  desk  disarming familiarity  sat down on a sofa and offered me my in a tufted leather chair  then  had seized on the meme accusing the former president and  of  asked what crime he thought they were guilty of  declined to answer  a news conference two days before  went to see him  was asked indirectly if  investigation might lead to criminal charges being filed against  or  he said  that same day  asked about  statement replied  went on  then said he had that  and  were in what he now called a  to whether or not it was criminal he said   office two days later  brought up how  seemed to have heard only what he wanted to hear that  prediction about not prosecuting the former president was only valid  said  shouldnt read too much into those words he said  he realized it or not the line  had drawn at the news conference was getting blurrier with every word just as  had hoped  went on  pulled back from the conversation and thought for a moment  keeping tabs on  investigation for more than a year  did not think it was likely that he would have to prosecute a former president  neither at that moment was he willing to rule it out  made this position sound reasonable even as it served to support the unsupported theory that the president was floating at the time  the end the substance of  findings might not matter  he turns up will become a major theme of  2020 campaign the less time there is before an election the greater political impact of even the smallest apparent revelation   needed from  was the glimmer of a possibility a slight shadow of official uncertainty in which his wild theories could flourish  for now  was giving him that  much more he would give the president before  it was hard to say'"
      ]
     },
     "execution_count": 285,
     "metadata": {},
     "output_type": "execute_result"
    }
   ],
   "source": [
    "df.text.iloc[0]"
   ]
  },
  {
   "cell_type": "code",
   "execution_count": 286,
   "metadata": {},
   "outputs": [
    {
     "data": {
      "text/plain": [
       "lead_paragraph                           On the first Monday in May, the Department of ...\n",
       "keywords                                 [{'name': 'persons', 'value': 'Barr, William P...\n",
       "pub_date                                                          2020-06-01T09:00:11+0000\n",
       "type_of_material                                                                      News\n",
       "print_page                                                                              20\n",
       "text                                      as you drew closer to the fifth floor where  ...\n",
       "United States Politics and Government                                                 True\n",
       "quote_list                                                                            [[]]\n",
       "keyword_list                             ['', 'Barr,', 'William', 'P', 'Justice', 'Depa...\n",
       "Name: nyt://article/f5d2e4a7-f89b-54da-9985-dd5fc704a51e, dtype: object"
      ]
     },
     "execution_count": 286,
     "metadata": {},
     "output_type": "execute_result"
    }
   ],
   "source": [
    "last_check_before_split = (df.iloc[0])\n",
    "last_check_before_split"
   ]
  },
  {
   "cell_type": "code",
   "execution_count": 287,
   "metadata": {},
   "outputs": [
    {
     "name": "stdout",
     "output_type": "stream",
     "text": [
      "News: 15679 Oped: 3488, Total: 19167, Op-Ed 0.18 of total\n"
     ]
    },
    {
     "data": {
      "image/png": "[encoded data removed]",
      "text/plain": [
       "<Figure size 432x288 with 1 Axes>"
      ]
     },
     "metadata": {},
     "output_type": "display_data"
    }
   ],
   "source": [
    "oped_v_news(df)"
   ]
  },
  {
   "cell_type": "markdown",
   "metadata": {},
   "source": [
    "# drop na"
   ]
  },
  {
   "cell_type": "code",
   "execution_count": 316,
   "metadata": {},
   "outputs": [
    {
     "data": {
      "text/plain": [
       "(19167, 9)"
      ]
     },
     "execution_count": 316,
     "metadata": {},
     "output_type": "execute_result"
    }
   ],
   "source": [
    "df.shape"
   ]
  },
  {
   "cell_type": "code",
   "execution_count": 317,
   "metadata": {},
   "outputs": [],
   "source": [
    "df = df.dropna()"
   ]
  },
  {
   "cell_type": "code",
   "execution_count": 318,
   "metadata": {},
   "outputs": [
    {
     "data": {
      "text/plain": [
       "(19127, 9)"
      ]
     },
     "execution_count": 318,
     "metadata": {},
     "output_type": "execute_result"
    }
   ],
   "source": [
    "df.shape"
   ]
  },
  {
   "cell_type": "markdown",
   "metadata": {},
   "source": [
    "# X, y"
   ]
  },
  {
   "cell_type": "code",
   "execution_count": 319,
   "metadata": {},
   "outputs": [],
   "source": [
    "#define X. X is currently pandas series of unsplit strings\n",
    "X = df.text"
   ]
  },
  {
   "cell_type": "code",
   "execution_count": 320,
   "metadata": {},
   "outputs": [],
   "source": [
    "#turn series into list...\n",
    "corpus = list(X)"
   ]
  },
  {
   "cell_type": "code",
   "execution_count": 321,
   "metadata": {},
   "outputs": [
    {
     "data": {
      "text/plain": [
       "' as you drew closer to the fifth floor where      works out of a suite of offices things started to loosen up  assistant outside his conference room wore a mask but the other did not  the middle of the room with its oil paintings and vaulted ceiling the long central table had fewer chairs than you might expect and an appropriate distance between them  past the next door inside the attorney generals smaller personal office  himself was also mask-free  around to greet his visitors he moved into the middle of a wide circle of four chairs arranged in front of his desk  nearing the end of his career  did not take his current job for the glory  had already been attorney general once in      administration winning him a reputation as a wise old man a reputation that in the eyes of some his tenure in the  administration has tarnished  is he doing it for the money  time in corporate  earned him tens of millions of dollars in compensation and stock options and his bearing is still that of a  500 counsel cozy manners wrapped around a harder core  said though  had been asked to bring one  tone was jokingly conspiratorial as though he were making an exception for an old friend  is sometimes described as an adjective that also captures his professorial manner  speaking voice is very soft just loud enough to be consistently perceptible his accent is patrician with a trace of old    personality breaks through mostly in frequent moments of humor which range from clubby chuckles to tension-breaking eruptions an aide added  crossed the circle of chairs grinning away any awkwardness  bumped elbows he said in the same joshing tone  greater risk of course was that  might infect him given his cabinet-level access to regular coronavirus testing the difference in our ages  regular meetings with the president and the mostly one-way prophylactic value of masks in general his aide suggested again  took it off   the whole country was doing the same dance   for   and  had recommended that all  wear masks at meetings like this one   was doing something else and so for the time being was the   staff     having been wrong-footed after taking the no-mask custom to the   now seemed to be making it up as he went along  weeks into the global pandemic a charitable observer might still have described the administrations response as improvisational or misguided as opposed to willfully cavalier  things were about to get worse  day  projection of the total   death toll 75 000 to 100 000 which was given the previous evening at the   would be challenged by an internal  document predicting that the number of daily deaths would rise into   reckless faith of the presidents inner circle would be challenged when two members of the   staff tested positive for the coronavirus  and  did not know it then but we were enjoying the tail end of the  administrations libertine phase   27 the official death toll would surpass 100 000 the upper bound of what  predicted on  3  has to assume that  is keeping a close eye on the 70-year-old  right now  powers of the attorney general as the executive branchs rule interpreter and law enforcer peak during moments of social unrest  knows these powers well  led the   through the   riots of 1992 when  invoked the   and deployed thousands of soldiers and    said the   riots were gang activity and not    is a stalwart believer in the righteousness of the police those communities that fail to give the police he said in a  speech  summer  dropped the departments federal case against the   police officer who killed   during an arrest in 2014  role also gives him influence over three major political fronts heading into   there is  fight to open the nations economy which could depend in no small part on  interpretation of federal authority and willingness to twist governors arms  there are the mechanics of the vote itself a topic of great partisan controversy about which the   has shown a growing willingness to weigh in  there is the ongoing investigation led by   the   attorney in  into the origins of the    s  probe in the run-up to the 2016 election the findings of which are widely expected to be announced before   the election now on the horizon  defended his record in two recent interviews  critics charge that since becoming attorney general he has repeatedly steered the   toward decisions that serve  interests particularly around the investigations carried out by the    and     into  influence over the 2016 election  insists that he acts independently even as the president often undermines that claim by tweeting out apparent instructions for what his attorney general ought to do  the time of our first meeting in his office  had already started looking at how the federal government might intervene in state-ordered coronavirus shutdowns   accused  governors of denying citizens their and encouraged residents to   and   zeroed in on the nuts and bolts of the legal case for  two small churches filed lawsuits seeking to hold live services despite state or local regulations the   made filings in support of their   rights  a signed memorandum sent to the departments 93   attorneys  suggested that the federal governments interest went beyond protecting live worship  included  weeks before our interview  bragged that he held authority over the states  went against the prevailing view that the federal government while free to enforce a variety of measures during its own emergencies is more constrained in its authority to compel state or local governments to lift theirs   asked  what  meant he responded by laying out a general view of the presidents pandemic-related powers he said  answer sounded so dry and routine that  failed to ask what he meant by  broadly enough  interpretation could sanitize and legalize  claim to authority  ballots are another domain where  had been staking out turf  called the distribution of ballot applications in  and warned that voting by mail  a second interview on  20 when  asked who was going to referee the 2020 election  replied  said his departments role would be limited as the power belongs to the states and their electors  when  brought up  tweet about  which he posted that same morning  quickly seized the opportunity to float a new theory that foreign governments might conspire to mail in fake ballots he cautioned offering no evidence to substantiate that this was a real possibility  he called it and added  many election-related issues the  of  has to defer to the states  in the case of  investigation of the 2016 investigators or the as  has so often called it  has a greater degree of control  years  has been saying that he was treated unfairly in 2016 particularly at the hands of   then the    director  who is open about his agreement with this premise is now in the process of nailing down the details  wont rule out the possibility that  findings could undermine a key consensus about 2016 the well-established conclusion that  interference sought to favor  a finding of the    of 2017 that was later underscored by  the special counsel and verified by the   intelligence committee   told me was looking for  paused glanced down and fidgeted for a moment with his necktie before going on  seems aware at times that he is gambling with his reputation he said with a matter-of-fact sigh in a  interview last year  we spoke in his office he was critical of what he called  tendency to around himself he said he added  willingness to weather controversy on the presidents behalf has not only caused consternation among some former friends and allies it has given rise to considerable speculation about his motives  would a grandfather in semiretirement who had already reached the pinnacle of his profession sign up for this  wonder if  might still be hungry for influence having been attorney general for only 17 months the first time  wonder whether he spent too much time watching   during the  years and came out the other side an ideologue  there are others who look at  support for  and see more consistency than contradiction  they say hasnt changed his values  he has found in  the perfect vehicle with which to move them forward says   who led the   civil division during  first tour and then succeeded him serving as acting attorney general during the first three months of   presidency  far as what  is hoping to do with his canvas  says he is committed to the and premise that  isnt too far away from what  himself articulated in a 2019 speech at the  of     view piety lay at the heart of the founders model of self-government which depended on religious values to restrain human passions  said  flows from through to form  and experience merely serve to confirm the infallible divine law  law he said is under threat from including who call on the state  their feet  places mental illness drug overdoses violence and suicide  these things he said are getting worse  are  started his career in the    as an analyst working on  and other matters   asked about the origin of his interest in the intelligence service he responded indirectly with an anecdote about telling his high school guidance counselor that he wanted to be    director  was tempting to link  career and conservatism with his father   who served in the  of   the    s forerunner during     1940 as an undergraduate at   wrote a controversial editorial for    defending a speech by the university president that called upon the faculty to support the  war effort he wrote  tempting as it was to see the son as part of some epigenetic chain of old-line conservatism  cautioned me not to make such assumptions  parents met at the  of  in the early 1940s  who already spoke three languages had been sent there by the  to learn   spotted   a young  woman who had a masters degree in  from  through an open doorway teaching  to undergraduates and was smitten  took some courting  thought  was a  told me and his background was also an issue he was raised without much religion but his father  grandfather was born a secular   joining the   gave his religion as    converted to  after he and  wed   26-page    file obtained from the   gives a detailed account of his transition from the military to intelligence work  1944 he shipped off to   suffered from hay fever and 20/200 vision much of his time overseas was spent hospitalized with allergies  next year he was assigned to the     interviewer found him to be  late 1945 he moved to  to begin work at the   and   which would become the   in-house intelligence bureau  the couples second son was born in 1950  age 8 he had taken up the bagpipes which would become a lifelong hobby  attended the    in   where his classmates remembered his conservatism the delight he took in making an argument and his sense of humor  yearbook praised him as an  involvement with campus politics continued at   joined the   which organized against student occupiers who had taken over the campus to protest the    was known as a feeder school for the     average of 14 seniors went to the agency each year from 1960 through 1966 according to a 1967 article from the student newspaper    which reported that a majority came in not through the colleges  of   and  but perhaps a reference to the private foundations and student organizations that were receiving    funding at that time  the late 1960s this recruiting drew campus protests which eventually broadened to take on other issues beyond the war  the morning of  24 1968 student demonstrators many of them affiliated with  for a   stormed    and took over the offices of  president  protesters were angry that  was building a gymnasium nearby that would have two separate entrances one for the school community and one for neighborhood residents and also about the universitys connection with a think tank that did research for the   was on the other side standing shoulder to shoulder with conservatives and athletes to form a blockade around the library he told me  smiled to himself  asked if he was in the fistfight  adjusted the bridge of his glasses and glanced down he said letting out a big laugh  later added  interned at the    in the summers of 1971 and 1972  1973 after completing his graduate degree in government and  studies he married   whom he met at a fraternity party  next day the couple drove to  and  began a permanent job at the    the day after that  mothers memories of the   he said had instilled in him a desire for career stability so he began taking law courses at night  then he had transferred to the    s  of   says   who worked down the hall from  in the general counsels office where  would eventually rise to become the acting head  new job put  on the    s seventh floor not far from the directors office and near the center of what was shaping up to be a historic fight with   the aftermath of    the presidency was endowed with vast new powers mass surveillance covert operations proxy wars and nuclear weapons  young    spurred on by the imperative to win the   abused its own new powers to an astonishing degree  a statutory ban on its involvement in either or the    surveilled and surreptitiously engaged with countless  citizens  agency reported to the president and often took action based on informal conversations without ever committing much to paper  around the agencys transgressions held until the 1970s when antiwar sentiment began to peak  scandals around the   1971 and the  break-in 1972 culminating in the long-anticipated  defeat convinced much of the public that the federal government should no longer be given the benefit of the doubt  1973   the longtime    director ordered the destruction of internal    documents regarding  an experimental mind-control program  later recalled  1974 the journalist   who had already broken the story of the   massacre in  revealed that the    had developed a sprawling domestic-spying operation keeping dossiers on thousands of  citizens  created two special committees a  committee led by    and a  committee that would eventually be led by    to investigate  years the    would be consumed with negotiations over the limits of what  could oversee  told me in his office  asked if there had indeed been excesses  poker face came to life  grinned turned his palms out and shrugged he said  burst out laughing  he pulled back to give the matter some more thought adjusting his glasses as he settled back into seriousness he said  battle between conservative hard-liners and a   would continue through the late    the    there was a sense of victimization   the agencys first presidentially appointed inspector general told me  1976 the job of defending the agency in public passed to the new director     who had served as a special   envoy to   at least one occasion  sat behind  during a congressional hearing giving him legal advice  wound up making oversight a permanent thorn in the    s side by establishing two intelligence oversight committees    drafted two letters each signed by  asking  if the    could resume the routine destruction of documents  request was denied says   now a law professor at the   of  and  at   who dealt with the    as legal counsel of the      than accept post-Watergate congressional limitations the hard-liners decamped from the    and became floaters bureaucratic nomads who sought out underused and low-visibility pockets of the federal government from which to wage their war over executive power  largest battle was fought around the  affair  covert group operating out of the    had used money gained by selling arms to  to fund anti-Communist rebels in   flouting a congressional prohibition  of the operation was organized by     of the     of the  plotters were dragged into the public eye and indicted by a special prosecutor another post-Watergate innovation  pointing to the involvement of    and       was inconclusive  hard-liners felt that foreign policy and covert operations were an exclusively presidential domain is how  first    director   put it in an interview with the political scientist     this time conservative thinkers of  generation began to coalesce around an idea they called  presidents right to his powers under   of the  they argued was undivided and absolute  reforms independent prosecutors to investigate high-level wrongdoing requirements to get warrants for national-security wiretaps and more were unconstitutional incursions into the presidents rightful powers   1977  left the    upon his graduation from      eventually landing as a policy lawyer in the     running for president took  to the 1988    to help vet potential running mates and after winning the election appointed him to lead the    of   where his duties included determining the legal limits of    activities  who was still at the    recalls that  kept his independence from the    of  opinions on classified    operations while a third operation  says was rejected entirely  of  public opinions though effectively authorized the invasion of   as acting attorney general he impressed  further by defusing a delicate prison-hostage crisis  attorney general in 1992  signed off on a mass-surveillance program that collected billions of call records for the     the end of  presidency he successfully pushed for a pardon of six  defendants     a former    director says  reminds him of   the former    lawyer who became     chief of staff and played a major role in pushing the limits of conduct including torture that the   and the    determined to be legal in the aftermath of the  11 attacks   says  intellect and experience made him appealing to the private sector  eight years he served as general counsel at  at a time when the company was working out secret arrangements with the    to turn over its customers data   2001 a legal trade publication noted  1 5 million salary and compared him to a for the depth of his connections in both political  and corporate    that time he said he had no interest in returning to officialdom he said  the 2016 presidential election  was a player in  politics and active in conservative  causes  gave nearly 50 000 to a  affiliated with    annual holiday parties traditional  cèilidhs with music and singers drew hundreds whose friendships he had maintained over the years  wrote and sold a screenplay about     spent time traveling abroad and hunting birds  three daughters all became accomplished lawyers working on   or as federal prosecutors  eldest  moved to the   financial-crimes unit after  nomination as attorney general one of  sons-in-law left the   for the      year shortly after his   speech  gave a second major address at the annual convention of the   an organization of conservative lawyers founded during the  administration  subject was executive power   criticized progressives this time for making politics  presidency in his view handled  of the core function of the presidency was the ability to act swiftly and without constraint but this capability had been diminished by the other branches since   had burdened the president with oversight while the courts were interfering with  travel ban on certain countries and his termination of     program for young immigrants  seemed to suggest that when it comes to foreign policy the only legitimate check on presidential behavior is the next election  later this argument would become the foundation of  impeachment defense   5 2018  attended     funeral  waiting in line for the shuttle bus that would take him to    he and his wife ran into a friend    who was    counsel during the  years  two men spent most of the day together  sounded out  about the attorney-general job  knew from following the news that  was under consideration but  never tipped his hand about how close he was to being tapped and  never asked  that week when  announced  nomination  was not surprised under   says  the time of his nomination  supporters presented him as a trustworthy and sensible conservative a known quantity within the  establishment who would restrain  worst impulses   called him   a legal commentator who is now one of  harshest critics tweeted at the time that he had been under  and that his confirmation would be  the confirmation hearing    of  the ranking  on the   questioned  at length about a memorandum he wrote to the administration the previous summer outlining why he believed that  had no legal right to investigate  for obstruction of justice  president  argued has investigations and can on individual cases including those that touch on his political or financial interests  wrote  enforcement he argued was a power exclusively held by the president because  the hearing  seemed to say that he did not believe the unitary executives powers to be infinite     a   asked if it would be lawful for a president to trade a pardon for a promise not to incriminate him  answered that such an exchange would be a crime  also mentioned his long friendship with   wife attends the same  study as  wife  attended the weddings of two of  daughters  was confirmed by a vote of 54 to 45  had barely served one month as attorney general when his friendship with  was tested by the special prosecutors delivery of his report on the afternoon of   22   account then went dark for nearly 40 hours    sent a letter to  that he would later describe as giving  and  feed came back to life he tweeted  his first public comments that same day  said the words three times he added  tweet  letter and  report said three different things   nor  exonerated   quoted  own words that his complicated finding on obstruction the president   omitted  conclusions that  interference sought to favor  that  and his campaign welcomed the interference and believed they would benefit from it and that the and between  and the campaign were substantial even though the evidence  was able to gather fell short of a criminal conspiracy  fired off two letters complaining that  had misrepresented his work  the second letter dated  27 he asked  to immediately release the reports introductions and executive summaries  the public would not get to read  work until  18 when  released a redacted version of the full report  doing so  gave a news conference in which he tilted further toward declaring  innocent something  bent over backward not to do  said of   distortions drew wide criticism  were also frustrated by the reports content  lacked the thunderous revelations about  that had long been promised by  opponents and it suffered from legalistic inconclusiveness on the most fundamental questions  having been given a chance to put the 2016 election to bed for good had carefully avoided doing so  hopes for the promised collusion bombshell now turned to the unredacted version of the  report which  refused to give them  an echo of his    work during the   years the    has taken a very hard line regarding what information  and the courts are entitled to get from the    has fought in court against the release of  tax returns argued that  did not need to see the  whistle-blowers complaint because it was not a matter of and has challenged congressional requests for  secret grand-jury materials   refused to turn over the fully unredacted  report to the    citing executive privilege the committee voted to hold him in contempt   chairman    of   claimed that this was the beginning of a  seemed untroubled he reportedly quipped to   at an event a few days later  concerns about  handling of  investigation have not been confined to      of the     for the  of  a    appointee recently criticized  and questioned whether  his first meeting with   in 2017  later recalled in his confirmation hearing he told  that  the end he was half right  said in one of our interviews  would have been  2019 more than a year ago  continued  asked if they still saw each other at  study  replied  general are chosen by the president no law prohibits them from doing the presidents bidding  presidents have occasionally asked the attorney general to intervene in individual prosecutions       attorney general went much further helping to plan the  burglary and then working to cover it up  the   guidelines do enjoin prosecutors not to comment about ongoing investigations something  does regularly  also caution that legal judgments and that the department must respect   of this has stopped  from overruling his subordinates to the benefit of  friends and associates most notably    longtime political mentor and   his former national security adviser  both cases  has tweeted about what he sees as the unfairness of their legal troubles and the   has subsequently pushed for leniency  has repeatedly said that  has never asked him to do anything in a criminal case he said in an interview with    the departments interventions on behalf of  and  have raised questions about the supposed  firewall   who led the  of   under    told   in   has said he doesnt pay attention to  tweets and doesnt take seriously the ones he is made aware of says   friend and former colleague   the former head of  civil rights division at the department articulated a prevailing view of  among  telling me that the attorney general has  says  interventions on behalf of  associates have far-reaching consequences she says   prosecutors recommended that  be sentenced to seven to nine years in prison for witness tampering and other crimes  following day the   filed a second revised sentencing memo asking that  sentence be reduced  to 108 months the memo argued given   the same day the department revised its sentencing recommendation all four of the prosecutors responsible for the case announced their withdrawal    left the department entirely  wrote later in an op-ed in       said the  prosecutors  tweeted out congratulations to  for  pushed back in the  interview insisting that he reached the  decision independently he said adding  post-Mueller case that has arguably received the most attention among  supporters is that of  the lieutenant general who briefly served as  national security adviser  dueling narratives around the  transition crystallize around  and the question of whether he or those who investigated him were in the wrong  addition to drawing scrutiny for his  contacts  initially failed to report as legally required that his company was effectively on the payroll of the  government during the 2016 campaign  himself tried and failed to talk  into dropping him  of  own problems hinged on his asking  if he could to dropping the  investigation  adversaries consider  to be a loose cannon and possible  pawn who needed to be rooted out  supporters depict him as the second coming of   a good soldier who was martyred in public for his loyalty to the executive   4 the day of my first interview with   was still awaiting sentencing having pleaded guilty to lying to the     time to time  had been tweeting about the  case in ways that seemed to cross the line that  had drawn about public comments from the   about matters pending before the    said  had been victimized by the as   asked  in light of his statement on   whether these were the kind of tweets that made his job  said  had recently been tweeting about   said  replied  asked if he would like to see them  said  handed  a printout of an  29  tweet  read  said with cool indifference  asked how it was that  supposed antagonists could be punished without involvement from the department  asked referring to the particular case that was now before     had found the right hair to split and he split it so cleanly and decisively that  couldnt say this wasnt his position from the beginning  tweet  said was nothing new  he said  days later on the afternoon of  7 the   filed a motion to dismiss its own prosecution of   government argued that  false statements were not to the investigation of  because the investigation was itself unjustified  argument relied in part on the contents of handwritten    notes that had been turned over to  attorneys by the department and released to the public by mutual agreement  of the prosecutors assigned to the case immediately withdrew  few days later  decided he wouldnt rule on whether to accept the departments motion until he had heard from friends of the court and a special counsel  lawyers appealed asking a higher court to force the judges hand  the department took  side  took to  celebrating  definitive  11  history of the 2016 election remains unwritten though not for lack of trying  addition to the  report and voluminous criminal indictments we have the    the  report by the   inspector general   and four volumes of the  intelligence committees report a fifth volume of which is on the way  major episodes of the story may now seem like familiar terrain to those who have kept up and a hopeless mess to everyone else  zoom out a bit and the stakes could not be higher  of  critics like    of  the  chairman of the    and    director of national intelligence go further than saying that the  put a thumb on the scale for   have suggested that the extra boost was decisive that  would not have been elected in 2016 but for  interference  crucial legacy of 2016 is that the question of  legitimacy was never settled  without any consensus on what happened in 2016 the rules of the road for 2020 are up in the air  first armed with the powers of law enforcement and presidential access to classified material  is getting ready to roll out his account of 2016   promises he most likely has in mind the ongoing investigation by   and its long-expected report although it is also possible that  public work product will take the form of indictments or perhaps nothing at all  who assigned  the task of investigating the  probe in  last year and met with him several times immediately after the conclusion of  investigation is overseeing  work and briefs  on his findings regularly  on  public statements we can see the rough contours of  findings beginning to take shape  governments conduct during the  transition  has said was  of  campaign amounted to  there was the all-important question of whether the    was justified in opening the initial   investigation into the  campaigns  ties  ordinary circumstances   prosecutors do not comment on anything connected to an ongoing investigation but on the day that  released his report both  and  decided to do just that     s interest in   said was based and  said in his own statement  had found that the investigation was justified so these sounded like sweeping words of dissent  over the coming months as attention drifted elsewhere they shrank  the time  sat down with  the only dispute with  hed voiced was whether the    had enough evidence to open a full investigation  and  believe that there was only enough to open a preliminary investigation not a full one  our first interview  mentioned the dossier of salacious anti-Trump claims that had been gathered and circulated by   a former  intelligence agent who was working indirectly for the  campaign  possibility that the  government intentionally seeded the dossier with misinformation was one of the issues  ignored and  was looking at  said  had  gone back and looked at the investigative steps taken as   accelerated he continued  had done that but unlike  and  he had no access to the    the    and the foreign governments that were involved  facilitate what later became a criminal investigation  ordered the heads of the intelligence agencies to cooperate with   delegated to  the power to order the declassification of secret documents  has spoken with intelligence officials from   and  to reportedly solicit information that could help   the case of  where  and  met with political leaders and intelligence chiefs in person his visit provoked concern among   diplomats who told   that  circumvented protocols in setting up the trip    of  who is the ranking  on the   and helped write its five-volume report said there were about  trips he said   a former colleague of  from the     years said he thought  could come back with something more  investigation he told me  investigation is not the only means through which  decisions could affect the election  the    wants to open a criminal investigation into either campaign it will first need  personal approval  has established a special to deal with materials that    says he has obtained from  sources which  has claimed implicate   the presumptive  presidential nominee  the interview  did not dispute the notion that the  government had interfered in 2016 but he made it sound as though the assumption that it favored  would be coming under some pressure  also would expect  to play a role in deterring and punishing foreign interference in the 2020 election but that could get complicated  camp continues to deny the intelligence communitys consensus view one strongly reiterated by  and the  intelligence committee that the  favored  over    including  on the    claim to have unreleased evidence that points the other way  on what  told me  intentions will most likely emerge as the key retrospective battlegrounds as  work continues and the election draws closer  said  what  did not address directly was the fourth volume of the report from the  intelligence committee  report reviewed much of the same intelligence underlying the     affirmed that  pro-Trump position and     direct involvement were supported by     s disagreement was  the committees groundbreaking 2012   the fourth volume was unanimously approved by a bipartisan vote of the  committee said    a  from   and the chairman of the committee  for his part dismissed  investigation as he told me  brought up the  investigation again in my last interview with  on  20  fifth floor of   headquarters now felt different some older lawyerly looking men walking around wore masks  younger men in suits with lapel pins who were most likely security did not  himself still wore no mask but there were no more polite entreaties for visitors to take theirs off  could see two crumpled blue surgical masks lying amid the papers on  desk  disarming familiarity  sat down on a sofa and offered me my in a tufted leather chair  then  had seized on the meme accusing the former president and  of  asked what crime he thought they were guilty of  declined to answer  a news conference two days before  went to see him  was asked indirectly if  investigation might lead to criminal charges being filed against  or  he said  that same day  asked about  statement replied  went on  then said he had that  and  were in what he now called a  to whether or not it was criminal he said   office two days later  brought up how  seemed to have heard only what he wanted to hear that  prediction about not prosecuting the former president was only valid  said  shouldnt read too much into those words he said  he realized it or not the line  had drawn at the news conference was getting blurrier with every word just as  had hoped  went on  pulled back from the conversation and thought for a moment  keeping tabs on  investigation for more than a year  did not think it was likely that he would have to prosecute a former president  neither at that moment was he willing to rule it out  made this position sound reasonable even as it served to support the unsupported theory that the president was floating at the time  the end the substance of  findings might not matter  he turns up will become a major theme of  2020 campaign the less time there is before an election the greater political impact of even the smallest apparent revelation   needed from  was the glimmer of a possibility a slight shadow of official uncertainty in which his wild theories could flourish  for now  was giving him that  much more he would give the president before  it was hard to say'"
      ]
     },
     "execution_count": 321,
     "metadata": {},
     "output_type": "execute_result"
    }
   ],
   "source": [
    "corpus[0]"
   ]
  },
  {
   "cell_type": "code",
   "execution_count": 322,
   "metadata": {},
   "outputs": [],
   "source": [
    "# define y as a series of op-ed or news\n",
    "y = df.type_of_material"
   ]
  },
  {
   "cell_type": "code",
   "execution_count": 323,
   "metadata": {},
   "outputs": [
    {
     "data": {
      "text/plain": [
       "_id\n",
       "nyt://article/f5d2e4a7-f89b-54da-9985-dd5fc704a51e    0\n",
       "nyt://article/0fa09b77-5faa-588f-9d4a-39a34748c7f3    0\n",
       "nyt://article/6b274a69-c82b-5b68-bada-ec1467440ddf    0\n",
       "nyt://article/8867f9cb-5914-5731-90b9-e1f1781fa568    0\n",
       "nyt://article/fb5f6e07-033e-5618-967e-fbc1ebcfd61c    0\n",
       "                                                     ..\n",
       "nyt://article/adf8989f-dc8d-5fc4-84a5-2b120bc7a98d    1\n",
       "nyt://article/8ef6f922-f284-5e25-a7fe-238c655d208c    0\n",
       "nyt://article/d19abb0a-d352-5b66-ae66-1a258b8decfa    1\n",
       "nyt://article/1baa68a7-0a54-53b4-8e1e-0f122863f502    0\n",
       "nyt://article/bd857af2-036b-51a6-ad4f-d37558606b41    0\n",
       "Name: type_of_material, Length: 19127, dtype: int64"
      ]
     },
     "execution_count": 323,
     "metadata": {},
     "output_type": "execute_result"
    }
   ],
   "source": [
    "vectorize_y_ser(y)"
   ]
  },
  {
   "cell_type": "code",
   "execution_count": 324,
   "metadata": {},
   "outputs": [
    {
     "name": "stdout",
     "output_type": "stream",
     "text": [
      "CPU times: user 6.58 ms, sys: 1.05 ms, total: 7.63 ms\n",
      "Wall time: 7.01 ms\n"
     ]
    }
   ],
   "source": [
    "%%time\n",
    "# vectorize y in to (1, 0) (op-ed, news)\n",
    "y = vectorize_y_ser(y)"
   ]
  },
  {
   "cell_type": "code",
   "execution_count": 325,
   "metadata": {},
   "outputs": [
    {
     "data": {
      "text/plain": [
       "0    15644\n",
       "1     3483\n",
       "Name: type_of_material, dtype: int64"
      ]
     },
     "execution_count": 325,
     "metadata": {},
     "output_type": "execute_result"
    }
   ],
   "source": [
    "y.value_counts()"
   ]
  },
  {
   "cell_type": "code",
   "execution_count": 326,
   "metadata": {},
   "outputs": [
    {
     "data": {
      "text/plain": [
       "(19127,)"
      ]
     },
     "execution_count": 326,
     "metadata": {},
     "output_type": "execute_result"
    }
   ],
   "source": [
    "y.shape\n",
    "X.shape"
   ]
  },
  {
   "cell_type": "markdown",
   "metadata": {},
   "source": [
    "# remove stop words"
   ]
  },
  {
   "cell_type": "markdown",
   "metadata": {},
   "source": [
    "# stemming/lemmatization"
   ]
  },
  {
   "cell_type": "code",
   "execution_count": 327,
   "metadata": {},
   "outputs": [],
   "source": [
    "snowball = SnowballStemmer('english')\n",
    "wordnet = WordNetLemmatizer()"
   ]
  },
  {
   "cell_type": "code",
   "execution_count": 328,
   "metadata": {},
   "outputs": [],
   "source": [
    "# %%time\n",
    "# def snowball_tokenize(doc):\n",
    "#     snowball = SnowballStemmer('english')\n",
    "#     return [snowball.stem(word) for word in word_tokenize(doc.lower())]"
   ]
  },
  {
   "cell_type": "code",
   "execution_count": 329,
   "metadata": {},
   "outputs": [
    {
     "name": "stdout",
     "output_type": "stream",
     "text": [
      "CPU times: user 3 µs, sys: 1 µs, total: 4 µs\n",
      "Wall time: 5.96 µs\n"
     ]
    }
   ],
   "source": [
    "%%time\n",
    "def wordnet_tokenize(doc):\n",
    "    wordnet = WordNetLemmatizer()\n",
    "    return  [wordnet.lemmatize(word) for word in word_tokenize(doc.lower())]"
   ]
  },
  {
   "cell_type": "markdown",
   "metadata": {},
   "source": [
    "# vectorizer"
   ]
  },
  {
   "cell_type": "markdown",
   "metadata": {},
   "source": [
    "# WORDNET tfidf"
   ]
  },
  {
   "cell_type": "code",
   "execution_count": 330,
   "metadata": {},
   "outputs": [],
   "source": [
    "import string"
   ]
  },
  {
   "cell_type": "code",
   "execution_count": 331,
   "metadata": {},
   "outputs": [
    {
     "name": "stdout",
     "output_type": "stream",
     "text": [
      "!\"#$%&'()*+,-./:;<=>?@[\\]^_`{|}~\n",
      "!\"#$%&'()*+,-./:;<=>?@[\\]^_`{|}~\n"
     ]
    }
   ],
   "source": [
    "print(string.punctuation)\n",
    "print('!\"#$%&\\'()*+,-./:;<=>?@[\\\\]^_`{|}~')"
   ]
  },
  {
   "cell_type": "code",
   "execution_count": 332,
   "metadata": {},
   "outputs": [],
   "source": [
    "# nytimes_quotes = \"”“\"\n",
    "# nytimes_punctuation = \"—’\""
   ]
  },
  {
   "cell_type": "code",
   "execution_count": 333,
   "metadata": {},
   "outputs": [],
   "source": [
    "#function that removes string.punctuation w/out the '?'\n",
    "def punc_strip(document):\n",
    "    for char in document:\n",
    "        if char in '!\"#$%&\\'()*+—,-./:;<=>?@[\\\\]^_`{|}~':\n",
    "            document = document.replace(char, \" \")\n",
    "    return document"
   ]
  },
  {
   "cell_type": "code",
   "execution_count": 334,
   "metadata": {},
   "outputs": [],
   "source": [
    "stop_words = final_stop = ['', 'over', 'john', 'email', 'discus', 'in', 'word', 'inquiry', 'acknowledged',\n",
    "              'despite', 'three', 'amid', 'television', 'business', 'aren', 'never', \n",
    "              'thursday', 'told', 'chairman', 'plan', 'given', 'medium', 'prompted', 'spirit',\n",
    "              'voter', 'before', 'face', '2019', 'm', 'think', 'director', 'citizen', 'panel',\n",
    "              'spokesman', 'become', 'expert', 'idea', 'matter', 'previously', 'family', \n",
    "              'rule', 'rich', 'during', 'few', '40', 'criticized', 'social', 'unclear', 'final',\n",
    "              'v', 'role', 'selection', 'same', 'while', 'report', 'u', 'announcement', 'record',\n",
    "              '” “', 'let', 'democratic', 'way', 'disclosed', 've', 'doe', 'c', 'and', 'out', 'joe', \n",
    "              'noted', 'major', 'if', 'intended', 'understanding', 'data', 'dispute', 'white', 'take', \n",
    "              'operation', 'i', 'place', 'request', 'go', 'congress', 'worse', 'mean', 'investigation', \n",
    "              'x', 'catastrophe', 'then', 'small', 'were', 'those', 'decision', 'covid', 'looking', 'not',\n",
    "              'lost', 'doesn', 'received', 'response', 'evidence', 'might', 'tested', 'another', 'b', \n",
    "              'representative', 'h', 'something', 'are', 'up', 'where', 'released', 'joined', 'delay', \n",
    "              'institution', '10', 'yet', 'back', 'democracy', 'want', 'added', 'order', 'discussion', \n",
    "              'four', 'california', 'early', 'man', 'against', 'sought', 'wrote', 'first', 'began', 'for',\n",
    "              'company', 'chief', 'university', 'only', 'described', 'concern', 'our', 'terrible', 'ago', \n",
    "              'based', 'him', 'memo', 'keep', 'accused', 'put', 'much', 'new', 'joseph', 'detail', \n",
    "              'second', 'briefed', 'economy', 'lawmaker', 'right', 'candidate', 'reporter', 'aide', \n",
    "              'better', 'earlier', 'y', 'statement', 'mr', 'obama', 'death', 'century', 'willing', \n",
    "              'defended', 'administration', 'why', 'call', 'just', 'comment', 'off', 'public', 'often', \n",
    "              'clear', 'won', 'nature', 'crisis', 'view', 'himself', 'member', 'pandemic', 'n', 'around', \n",
    "              'allowing', 'office', 'survive', 'employee', 'you', 'according', 'government', 'york', 'know'\n",
    "            , 'until', 're', 'say', 'reason', 'coronavirus', 'executive', 'wednesday', 'seems', 'with', \n",
    "              'house', 'economic', 'conservative', 'got', 'decent', 'deputy', 'review', '13', 'me', \n",
    "              'expressed', 'joint', 'could', 'two', 'appeared', 'k', 'thing', 'legal', 'moment', 'an', \n",
    "              'made', 'risk', 'longtime', 'which', 'george', 'part', 'city', 'team', 'committee', \n",
    "              'opportunity', 'working', 'largely', 'including', 'top', 'guy', '500', 'somehow', 'others', \n",
    "              'everyone', 'like', 'o', 'both', 'wrong', 'time', 'group', 'by', 'person', 'between', 'have',\n",
    "              'term', 'professor', 'washington', 'most', 'freedom', 'america', 'whole', 'job', 'society', \n",
    "              'twitter', 'her', 'law', 'secretary', 'gathered', 'many', 'w', 'give', 'appearance', 'from', \n",
    "              'cited', 'seek', 'lawsuit', 'next', 'program', 'showed', 'disclose', 'committed', 'afternoon',\n",
    "              'late', 'actually', 'interview', 'party', 'either', 'least', 'through', 'several', 'court', \n",
    "              'imagine', 'whether', 'down', 'event', 'long', 'department', 'happens', 'week', 'electoral', \n",
    "              'strategist', 'politician', 'objection', 'taken', '2001', 'vote', 'probably', 'seem', \n",
    "              'chairwoman', 'policy', 'trying', 'leader', 'radical', 'agreement', 'living', 'must', \n",
    "              'supposed', 'local', 'result', 'should', 'highlighted', 'familiar', 'south', 'set', '30', \n",
    "              'recent', 'health', 'expected', 'look', 'democrat', 'friday', 'tuesday', 'adding', '2018', \n",
    "              'post', '2', 'effort', 'officer', 'nothing', 'series', 'she', 'treasury', 'world', 'course', \n",
    "              'later', 'posted', 'they', 'other', 'fund', 'my', 'find', 'senator', 'bill', 'but', \n",
    "              'referring', 'across', 'biden', 'don', 'q', 'effective', 'f', 'dead', 'sense', 'extensive', \n",
    "              'challenging', 'do', 'is', 'funding', 'getting', 'organization', 'be', 'publicly', 'your', \n",
    "              'directed', 'isn', 'shared', 'sort', 'fact', 'point', 'five', 'led', '2016', 'aggressive', \n",
    "              'about', 'meeting', 'there', 'college', 'general', 'lot', 'come', 'now', 'agency', 'found', \n",
    "              'such', 'vice', 'campaign', 'used', 'called', 'billion', 'bit', 'no', 'more', 'am', 'after', \n",
    "              'raised', 'year', 'thinking', 'when', 'indicated', 'decency', 'all', 'weren', 'senior', \n",
    "              'them', 'justice', 'pretty', 'former', 'act', 'privately', 'we', 'self', 'may', 'every', \n",
    "              'making', 'support', 'kill', 'federal', 'disclosure', 'been', 'a', 'because', 'since', 'said',\n",
    "              'bigger', 'would', 'included', 'presidential', 'wa', 'move', 'run', 'completely', 'ordinary',\n",
    "              'million', 'critical', 'donald', 'different', 'else', 'end', 'll', 'attack', 'e', \n",
    "              'information', 'war', 'selected', 'l', 't', 'offered', 'large', 'any', 'didn', 'very', 'done',\n",
    "              'president', 'ha', 'served', 'analyst', 'among', 'again', 'private', 'night', 'ever', 'how', \n",
    "              'remark', 'line', 'nation', 'political', 'country', 'each', 'so', 'warned', 'united', \n",
    "              'worker', 'official', 'intelligence', 'these', 'barack', 'away', 'lobbyist', '1', 'racism', \n",
    "              'came', 'being', 'good', 'religious', 'criticism', 'worked', 'past', 'chaos', 'battleground',\n",
    "              'one', 'sent', 'presidency', 'include', 'case', 'work', 'son', 'too', 'the', 'hard', \n",
    "              'asked', 'going', 'adviser', 'home', 'perfectly', 'than', 'money', 'hour', 'doing', 'that', \n",
    "              'supporter', 'took', 'real', 'county', 'position', 'get', 'signed', 'once', 'win', 'at', \n",
    "              'care', 'system', 'future', 'today', 'close', 'declined', 'though', 'far', 'problem', 'story',\n",
    "              'or', 'enough', 'remember', 'his', 'itself', 'anyone', 'turn', 'black', 'claim', 'trump', \n",
    "              'decade', 'school', 'returning', 'spokeswoman', 'election', 'national', 'monday', 'did', \n",
    "              'message', 'high', 'age', 'issued', 'planned', 'month', 'everything', 'tie', 'common', \n",
    "              'always', 'percent', 'into', 'spoken', 'related', 'on', 'to', 'really', 'complained', \n",
    "              'last', 'true', 'already', 'fair', 'congressional', 'it', 'american', 'center', 'can', 'he', \n",
    "              'number', 'ourselves', 'staff', 'virus', 'p', 'change', 'day', 'make', '000', 'lawyer', \n",
    "              'news', 'hosted', 's', 'dozen', 'happen', 'also', 'will', 'had', 'little', 'z', 'jr', \n",
    "              'lead', 'left', 'senate', 'minnesota', 'this', 'bad', 'action', 'yes', '3', 'see', 'online', \n",
    "              'd', 'letter', 'ally', 'life', 'who', 'tell', 'r', 'mind', 'region', 'rest', 'feel', \n",
    "              'behavior', 'power', 'wouldn', 'document', 'best', 'politics', 'march', 'largest', 'security',\n",
    "              'some', 'here', 'respect', 'under', 'announced', 'own', 'elected', 'understand', 'forget', \n",
    "              'easy', 'without', 'saying', 'of', 'whose', 'le', 'even', 'service', 'child', 'republican', \n",
    "              'questioned', 'well', 'need', 'j', 'held', 'state', 'assessment', 'show', 'issue', 'their', \n",
    "              'what', 'use', 'wasn', 'still', 'people', 'however', 'g', 'majority','hoped', 'involving', \n",
    "              'hadn', 'restriction', 'fix', '','industry', '', '','lobbying', '', 'ego', 'dark', \n",
    "               'obtained', '', 'none','blocked', 'remained', 'economist', 'wisdom', 'evening', 'die',\n",
    "       'direction', 'hear', 'ending', 'citing', '…', 'hate', 'character',\n",
    "       'trial', 'six', 'couldn', 'conference', 'reality', 'populist', '7',\n",
    "       '', '', 'spent', 'simply', 'airing', 'bid', 'huge',\n",
    "       'manufacturer', 'slavery', '', '', '', 'mass',\n",
    "       'deserves', '', '', '', 'maintained',\n",
    "       'education', 'innovative', 'visit', 'simple', 'trip', 'equally',\n",
    "       'handling', 'difficult', 'session', 'maybe', 'quite', 'thus',\n",
    "       'overseas', 'ad', 'viewed', 'choose', 'regard', '', 'stand',\n",
    "       'expect', 'half', '', 'conversation', 'dream', 'accusation',\n",
    "       'drew', 'happening', 'accountability', 'seeking', 'ignore', 'regularly',\n",
    "       'manager', '', '', '', '', 'sound', 'anonymity',\n",
    "       'additional', 'infrastructure', '6', '“', '”']\n",
    "\n",
    "\n",
    "['kid', 'potentially', 'website', 'dictator', 'themselves', 'smart',\n",
    "       'someone', 'propaganda', 'pundit', 'raising', 'discussed', 'resolution',\n",
    "       'failure', 'hell', 'allow', 'income', 'live', 'equality', 'everybody',\n",
    "       'scrutiny', 'contact', 'investigating', 'measure', 'target', 'honest',\n",
    "       'turning', 'thanks', 'lengthy', 'contract', 'mistake', 'briefing',\n",
    "       'separate', 'annual', 'traveled', 'hope', '5', 'principle', 'proposed',\n",
    "       'continued', 'treat', 'cruelty', 'cultural', 'exists', 'free',\n",
    "       'quickly', 'example', 'finally', 'mess', 'deal', 'brings', 'assistant',\n",
    "       'eager', 'reform', 'wouldnt', 'corrupt', 'advocacy', 'morally',\n",
    "       'fantasy', 'provision', 'youd', 'overhaul', 'certainly', 'hatred',\n",
    "       'counsel', 'love', 'indeed', 'whatsoever', 'class', 'faith', 'guess',\n",
    "       'believe', 'obviously', 'negotiation', 'moral', 'value', 'theyve',\n",
    "       'didnt', 'destroy', 'arent', 'thats', 'column', 'deserve', 'culture',\n",
    "       'filed', 'important', 'exactly', 'happened', 'urged', 'anything',\n",
    "       'hasnt', 'whats', 'stupid', 'dignity', 'truth', 'ignorance',\n",
    "       'preparing', 'sure', 'cant', 'isnt', 'youre']"
   ]
  },
  {
   "cell_type": "code",
   "execution_count": 335,
   "metadata": {},
   "outputs": [],
   "source": [
    "stop_words = set(final_stop)"
   ]
  },
  {
   "cell_type": "code",
   "execution_count": 336,
   "metadata": {},
   "outputs": [
    {
     "data": {
      "text/plain": [
       "751"
      ]
     },
     "execution_count": 336,
     "metadata": {},
     "output_type": "execute_result"
    }
   ],
   "source": [
    "len(stop_words)"
   ]
  },
  {
   "cell_type": "code",
   "execution_count": 337,
   "metadata": {},
   "outputs": [
    {
     "name": "stdout",
     "output_type": "stream",
     "text": [
      "CPU times: user 59 µs, sys: 0 ns, total: 59 µs\n",
      "Wall time: 62.9 µs\n"
     ]
    }
   ],
   "source": [
    "%%time\n",
    "#create vectorizer\n",
    "\n",
    "vectorizer = TfidfVectorizer(#input='content', \n",
    "#                 encoding='utf-8', \n",
    "#                 decode_error='strict', \n",
    "#                 strip_accents='ascii', \n",
    "#                 lowercase=True, \n",
    "                 preprocessor=punc_strip, \n",
    "                 tokenizer=wordnet_tokenize, \n",
    "#                 analyzer='word', \n",
    "                 stop_words=final_stop,\n",
    "#                 token_pattern='(?u)\\b\\w\\w+\\b', \n",
    "#                 ngram_range=(1, 2), \n",
    "                 max_df=0.7, \n",
    "#                 min_df=0.1, \n",
    "                 max_features=None, \n",
    "#                 vocabulary=None, \n",
    "#                 binary=False, \n",
    "#                 dtype=<class 'numpy.float64'>, \n",
    "#                 norm='l2', \n",
    "#                 use_idf=True, \n",
    "#                 smooth_idf=True, \n",
    "#                 sublinear_tf=False\n",
    ")"
   ]
  },
  {
   "cell_type": "markdown",
   "metadata": {},
   "source": [
    "# test, train, split"
   ]
  },
  {
   "cell_type": "code",
   "execution_count": 338,
   "metadata": {},
   "outputs": [],
   "source": [
    "#test, train, split"
   ]
  },
  {
   "cell_type": "code",
   "execution_count": 339,
   "metadata": {},
   "outputs": [
    {
     "name": "stdout",
     "output_type": "stream",
     "text": [
      "(14345,) (4782,) (14345,) (4782,)\n"
     ]
    },
    {
     "name": "stderr",
     "output_type": "stream",
     "text": [
      "/Users/djbetts/opt/anaconda3/lib/python3.7/site-packages/sklearn/feature_extraction/text.py:386: UserWarning: Your stop_words may be inconsistent with your preprocessing. Tokenizing the stop words generated tokens ['“', '”'] not in stop_words.\n",
      "  'stop_words.' % sorted(inconsistent))\n"
     ]
    },
    {
     "name": "stdout",
     "output_type": "stream",
     "text": [
      "CPU times: user 1min 40s, sys: 225 ms, total: 1min 41s\n",
      "Wall time: 1min 41s\n"
     ]
    }
   ],
   "source": [
    "%%time\n",
    "#test, train, split\n",
    "X_train, X_test, y_train, y_test = train_test_split(X, y, random_state=50)\n",
    "print(X_train.shape, X_test.shape, y_train.shape, y_test.shape)\n",
    "\n",
    "X_train = vectorizer.fit_transform(X_train)\n",
    "\n",
    "X_test = vectorizer.transform(X_test)"
   ]
  },
  {
   "cell_type": "code",
   "execution_count": 340,
   "metadata": {},
   "outputs": [
    {
     "data": {
      "text/plain": [
       "(14345, 40339)"
      ]
     },
     "execution_count": 340,
     "metadata": {},
     "output_type": "execute_result"
    }
   ],
   "source": [
    "X_train.shape"
   ]
  },
  {
   "cell_type": "code",
   "execution_count": 341,
   "metadata": {},
   "outputs": [
    {
     "data": {
      "text/plain": [
       "(4782, 40339)"
      ]
     },
     "execution_count": 341,
     "metadata": {},
     "output_type": "execute_result"
    }
   ],
   "source": [
    "X_test.shape"
   ]
  },
  {
   "cell_type": "markdown",
   "metadata": {},
   "source": [
    "# count vectorizer"
   ]
  },
  {
   "cell_type": "code",
   "execution_count": 342,
   "metadata": {},
   "outputs": [],
   "source": [
    "# count_vectorizer = CountVectorizer(strip_accents='None',\n",
    "#                                    lowercase=True,\n",
    "#                                    tokenizer=snowball_tokenize,\n",
    "#                                    stop_words='english',\n",
    "#                                    max_features=None)"
   ]
  },
  {
   "cell_type": "markdown",
   "metadata": {},
   "source": [
    "# balance classes"
   ]
  },
  {
   "cell_type": "code",
   "execution_count": 347,
   "metadata": {},
   "outputs": [
    {
     "name": "stdout",
     "output_type": "stream",
     "text": [
      "[(0, 2648), (1, 2648)]\n",
      "RandomUnderSampler(random_state=0)\n",
      "CPU times: user 8.32 ms, sys: 3.41 ms, total: 11.7 ms\n",
      "Wall time: 10.6 ms\n"
     ]
    }
   ],
   "source": [
    "%%time\n",
    "#balance the classes\n",
    "\n",
    "from imblearn.under_sampling import RandomUnderSampler\n",
    "rus = RandomUnderSampler(random_state=0)\n",
    "\n",
    "#X, y --> X_resampled, y_resampled\n",
    "X_resampled, y_resampled = rus.fit_resample(X_train, y_train)\n",
    "print(sorted(Counter(y_resampled).items()))\n",
    "print(rus)"
   ]
  },
  {
   "cell_type": "markdown",
   "metadata": {},
   "source": [
    "# random forest classifier"
   ]
  },
  {
   "cell_type": "code",
   "execution_count": 348,
   "metadata": {},
   "outputs": [
    {
     "name": "stdout",
     "output_type": "stream",
     "text": [
      "2021-01-10 15:34:21.618367\n",
      "CPU times: user 849 µs, sys: 708 µs, total: 1.56 ms\n",
      "Wall time: 905 µs\n"
     ]
    }
   ],
   "source": [
    "%%time\n",
    "print(datetime.datetime.now())\n",
    "rf_clf = RandomForestClassifier(max_depth=2, random_state=0)"
   ]
  },
  {
   "cell_type": "code",
   "execution_count": 349,
   "metadata": {},
   "outputs": [
    {
     "data": {
      "text/plain": [
       "(4782,)"
      ]
     },
     "execution_count": 349,
     "metadata": {},
     "output_type": "execute_result"
    }
   ],
   "source": [
    "rf_clf.fit(X_resampled, y_resampled)\n",
    "y_pred = rf_clf.predict(X_test)\n",
    "y_pred.shape"
   ]
  },
  {
   "cell_type": "markdown",
   "metadata": {},
   "source": [
    "### metrics y_pred"
   ]
  },
  {
   "cell_type": "code",
   "execution_count": 350,
   "metadata": {},
   "outputs": [],
   "source": [
    "tn, fp, fn, tp = confusion_matrix(y_true = y_test, y_pred = y_pred).ravel()"
   ]
  },
  {
   "cell_type": "code",
   "execution_count": 351,
   "metadata": {},
   "outputs": [
    {
     "name": "stdout",
     "output_type": "stream",
     "text": [
      "(4782,)\n",
      "(4782,)\n"
     ]
    }
   ],
   "source": [
    "print(y_test.shape)\n",
    "print(y_pred.shape)"
   ]
  },
  {
   "cell_type": "code",
   "execution_count": 352,
   "metadata": {},
   "outputs": [
    {
     "name": "stdout",
     "output_type": "stream",
     "text": [
      "Accuracy: 0.9\n",
      "Recall: 0.8\n",
      "Precision: 0.68\n",
      "TN:3635 FP:312 FN:170 TP:665\n"
     ]
    },
    {
     "data": {
      "text/plain": [
       "(0.8992053534086156, 0.7964071856287425, 0.6806550665301945)"
      ]
     },
     "execution_count": 352,
     "metadata": {},
     "output_type": "execute_result"
    }
   ],
   "source": [
    "metrics_(tn, fp, fn, tp)"
   ]
  },
  {
   "cell_type": "code",
   "execution_count": 353,
   "metadata": {},
   "outputs": [
    {
     "data": {
      "image/png": "[encoded data removed]",
      "text/plain": [
       "<Figure size 432x288 with 2 Axes>"
      ]
     },
     "metadata": {},
     "output_type": "display_data"
    }
   ],
   "source": [
    "class_names = [\"News\", \"Op-Ed\"]\n",
    "plot_confusion_matrix(estimator=rf_clf,\n",
    "                      X=X_test,\n",
    "                      y_true=y_test,\n",
    "                      display_labels=class_names,\n",
    "                      cmap='cividis')\n",
    "plt.savefig('img/confusion_matrix.png');"
   ]
  },
  {
   "cell_type": "markdown",
   "metadata": {},
   "source": [
    "# vectorizer parameters"
   ]
  },
  {
   "cell_type": "code",
   "execution_count": 354,
   "metadata": {},
   "outputs": [
    {
     "name": "stdout",
     "output_type": "stream",
     "text": [
      "Number of features: 40339, Numbers of stop words: 0\n",
      "analyzer: word\n",
      "binary: False\n",
      "decode_error: strict\n",
      "dtype: <class 'numpy.float64'>\n",
      "encoding: utf-8\n",
      "input: content\n",
      "lowercase: True\n",
      "max_df: 0.7\n",
      "max_features: None\n",
      "min_df: 1\n",
      "ngram_range: (1, 1)\n",
      "norm: l2\n",
      "preprocessor: <function punc_strip at 0x7f908e4d8560>\n",
      "smooth_idf: True\n",
      "stop_words: ['', 'over', 'john', 'email', 'discus', 'in', 'word', 'inquiry', 'acknowledged', 'despite', 'three', 'amid', 'television', 'business', 'aren', 'never', 'thursday', 'told', 'chairman', 'plan', 'given', 'medium', 'prompted', 'spirit', 'voter', 'before', 'face', '2019', 'm', 'think', 'director', 'citizen', 'panel', 'spokesman', 'become', 'expert', 'idea', 'matter', 'previously', 'family', 'rule', 'rich', 'during', 'few', '40', 'criticized', 'social', 'unclear', 'final', 'v', 'role', 'selection', 'same', 'while', 'report', 'u', 'announcement', 'record', '” “', 'let', 'democratic', 'way', 'disclosed', 've', 'doe', 'c', 'and', 'out', 'joe', 'noted', 'major', 'if', 'intended', 'understanding', 'data', 'dispute', 'white', 'take', 'operation', 'i', 'place', 'request', 'go', 'congress', 'worse', 'mean', 'investigation', 'x', 'catastrophe', 'then', 'small', 'were', 'those', 'decision', 'covid', 'looking', 'not', 'lost', 'doesn', 'received', 'response', 'evidence', 'might', 'tested', 'another', 'b', 'representative', 'h', 'something', 'are', 'up', 'where', 'released', 'joined', 'delay', 'institution', '10', 'yet', 'back', 'democracy', 'want', 'added', 'order', 'discussion', 'four', 'california', 'early', 'man', 'against', 'sought', 'wrote', 'first', 'began', 'for', 'company', 'chief', 'university', 'only', 'described', 'concern', 'our', 'terrible', 'ago', 'based', 'him', 'memo', 'keep', 'accused', 'put', 'much', 'new', 'joseph', 'detail', 'second', 'briefed', 'economy', 'lawmaker', 'right', 'candidate', 'reporter', 'aide', 'better', 'earlier', 'y', 'statement', 'mr', 'obama', 'death', 'century', 'willing', 'defended', 'administration', 'why', 'call', 'just', 'comment', 'off', 'public', 'often', 'clear', 'won', 'nature', 'crisis', 'view', 'himself', 'member', 'pandemic', 'n', 'around', 'allowing', 'office', 'survive', 'employee', 'you', 'according', 'government', 'york', 'know', 'until', 're', 'say', 'reason', 'coronavirus', 'executive', 'wednesday', 'seems', 'with', 'house', 'economic', 'conservative', 'got', 'decent', 'deputy', 'review', '13', 'me', 'expressed', 'joint', 'could', 'two', 'appeared', 'k', 'thing', 'legal', 'moment', 'an', 'made', 'risk', 'longtime', 'which', 'george', 'part', 'city', 'team', 'committee', 'opportunity', 'working', 'largely', 'including', 'top', 'guy', '500', 'somehow', 'others', 'everyone', 'like', 'o', 'both', 'wrong', 'time', 'group', 'by', 'person', 'between', 'have', 'term', 'professor', 'washington', 'most', 'freedom', 'america', 'whole', 'job', 'society', 'twitter', 'her', 'law', 'secretary', 'gathered', 'many', 'w', 'give', 'appearance', 'from', 'cited', 'seek', 'lawsuit', 'next', 'program', 'showed', 'disclose', 'committed', 'afternoon', 'late', 'actually', 'interview', 'party', 'either', 'least', 'through', 'several', 'court', 'imagine', 'whether', 'down', 'event', 'long', 'department', 'happens', 'week', 'electoral', 'strategist', 'politician', 'objection', 'taken', '2001', 'vote', 'probably', 'seem', 'chairwoman', 'policy', 'trying', 'leader', 'radical', 'agreement', 'living', 'must', 'supposed', 'local', 'result', 'should', 'highlighted', 'familiar', 'south', 'set', '30', 'recent', 'health', 'expected', 'look', 'democrat', 'friday', 'tuesday', 'adding', '2018', 'post', '2', 'effort', 'officer', 'nothing', 'series', 'she', 'treasury', 'world', 'course', 'later', 'posted', 'they', 'other', 'fund', 'my', 'find', 'senator', 'bill', 'but', 'referring', 'across', 'biden', 'don', 'q', 'effective', 'f', 'dead', 'sense', 'extensive', 'challenging', 'do', 'is', 'funding', 'getting', 'organization', 'be', 'publicly', 'your', 'directed', 'isn', 'shared', 'sort', 'fact', 'point', 'five', 'led', '2016', 'aggressive', 'about', 'meeting', 'there', 'college', 'general', 'lot', 'come', 'now', 'agency', 'found', 'such', 'vice', 'campaign', 'used', 'called', 'billion', 'bit', 'no', 'more', 'am', 'after', 'raised', 'year', 'thinking', 'when', 'indicated', 'decency', 'all', 'weren', 'senior', 'them', 'justice', 'pretty', 'former', 'act', 'privately', 'we', 'self', 'may', 'every', 'making', 'support', 'kill', 'federal', 'disclosure', 'been', 'a', 'because', 'since', 'said', 'bigger', 'would', 'included', 'presidential', 'wa', 'move', 'run', 'completely', 'ordinary', 'million', 'critical', 'donald', 'different', 'else', 'end', 'll', 'attack', 'e', 'information', 'war', 'selected', 'l', 't', 'offered', 'large', 'any', 'didn', 'very', 'done', 'president', 'ha', 'served', 'analyst', 'among', 'again', 'private', 'night', 'ever', 'how', 'remark', 'line', 'nation', 'political', 'country', 'each', 'so', 'warned', 'united', 'worker', 'official', 'intelligence', 'these', 'barack', 'away', 'lobbyist', '1', 'racism', 'came', 'being', 'good', 'religious', 'criticism', 'worked', 'past', 'chaos', 'battleground', 'one', 'sent', 'presidency', 'include', 'case', 'work', 'son', 'too', 'the', 'hard', 'asked', 'going', 'adviser', 'home', 'perfectly', 'than', 'money', 'hour', 'doing', 'that', 'supporter', 'took', 'real', 'county', 'position', 'get', 'signed', 'once', 'win', 'at', 'care', 'system', 'future', 'today', 'close', 'declined', 'though', 'far', 'problem', 'story', 'or', 'enough', 'remember', 'his', 'itself', 'anyone', 'turn', 'black', 'claim', 'trump', 'decade', 'school', 'returning', 'spokeswoman', 'election', 'national', 'monday', 'did', 'message', 'high', 'age', 'issued', 'planned', 'month', 'everything', 'tie', 'common', 'always', 'percent', 'into', 'spoken', 'related', 'on', 'to', 'really', 'complained', 'last', 'true', 'already', 'fair', 'congressional', 'it', 'american', 'center', 'can', 'he', 'number', 'ourselves', 'staff', 'virus', 'p', 'change', 'day', 'make', '000', 'lawyer', 'news', 'hosted', 's', 'dozen', 'happen', 'also', 'will', 'had', 'little', 'z', 'jr', 'lead', 'left', 'senate', 'minnesota', 'this', 'bad', 'action', 'yes', '3', 'see', 'online', 'd', 'letter', 'ally', 'life', 'who', 'tell', 'r', 'mind', 'region', 'rest', 'feel', 'behavior', 'power', 'wouldn', 'document', 'best', 'politics', 'march', 'largest', 'security', 'some', 'here', 'respect', 'under', 'announced', 'own', 'elected', 'understand', 'forget', 'easy', 'without', 'saying', 'of', 'whose', 'le', 'even', 'service', 'child', 'republican', 'questioned', 'well', 'need', 'j', 'held', 'state', 'assessment', 'show', 'issue', 'their', 'what', 'use', 'wasn', 'still', 'people', 'however', 'g', 'majority', 'hoped', 'involving', 'hadn', 'restriction', 'fix', '', 'industry', '', '', 'lobbying', '', 'ego', 'dark', 'obtained', '', 'none', 'blocked', 'remained', 'economist', 'wisdom', 'evening', 'die', 'direction', 'hear', 'ending', 'citing', '…', 'hate', 'character', 'trial', 'six', 'couldn', 'conference', 'reality', 'populist', '7', '', '', 'spent', 'simply', 'airing', 'bid', 'huge', 'manufacturer', 'slavery', '', '', '', 'mass', 'deserves', '', '', '', 'maintained', 'education', 'innovative', 'visit', 'simple', 'trip', 'equally', 'handling', 'difficult', 'session', 'maybe', 'quite', 'thus', 'overseas', 'ad', 'viewed', 'choose', 'regard', '', 'stand', 'expect', 'half', '', 'conversation', 'dream', 'accusation', 'drew', 'happening', 'accountability', 'seeking', 'ignore', 'regularly', 'manager', '', '', '', '', 'sound', 'anonymity', 'additional', 'infrastructure', '6', '', '']\n",
      "strip_accents: None\n",
      "sublinear_tf: False\n",
      "token_pattern: (?u)\\b\\w\\w+\\b\n",
      "tokenizer: <function wordnet_tokenize at 0x7f908e4d8170>\n",
      "use_idf: True\n",
      "vocabulary: None\n"
     ]
    }
   ],
   "source": [
    "vectorizer_parameters(vectorizer)"
   ]
  },
  {
   "cell_type": "markdown",
   "metadata": {},
   "source": [
    "# important features"
   ]
  },
  {
   "cell_type": "markdown",
   "metadata": {},
   "source": [
    "### feature imporance"
   ]
  },
  {
   "cell_type": "code",
   "execution_count": 358,
   "metadata": {},
   "outputs": [
    {
     "data": {
      "text/plain": [
       "Index(['kid', 'potentially', 'website', 'dictator', 'themselves', 'smart',\n",
       "       'someone', 'propaganda', 'pundit', 'raising', 'discussed', 'resolution',\n",
       "       'failure', 'hell', 'allow', 'income', 'live', 'equality', 'everybody',\n",
       "       'scrutiny', 'contact', 'investigating', 'measure', 'target', 'honest',\n",
       "       'turning', 'thanks', 'lengthy', 'contract', 'mistake', 'briefing',\n",
       "       'separate', 'annual', 'traveled', 'hope', '5', 'principle', 'proposed',\n",
       "       'continued', 'treat', 'cruelty', 'cultural', 'exists', 'free',\n",
       "       'quickly', 'example', 'finally', 'mess', 'deal', 'brings', 'assistant',\n",
       "       'eager', 'reform', 'wouldnt', 'corrupt', 'advocacy', 'morally',\n",
       "       'fantasy', 'provision', 'youd', 'overhaul', 'certainly', 'hatred',\n",
       "       'counsel', 'love', 'indeed', 'whatsoever', 'class', 'faith', 'guess',\n",
       "       'believe', 'obviously', 'negotiation', 'moral', 'value', 'theyve',\n",
       "       'didnt', 'destroy', 'arent', 'thats', 'column', 'deserve', 'culture',\n",
       "       'filed', 'important', 'exactly', 'happened', 'urged', 'anything',\n",
       "       'hasnt', 'whats', 'stupid', 'dignity', 'truth', 'ignorance',\n",
       "       'preparing', 'sure', 'cant', 'isnt', 'youre'],\n",
       "      dtype='object')"
      ]
     },
     "execution_count": 358,
     "metadata": {},
     "output_type": "execute_result"
    }
   ],
   "source": [
    "feat_scores[-100:].index"
   ]
  },
  {
   "cell_type": "code",
   "execution_count": 356,
   "metadata": {
    "scrolled": true
   },
   "outputs": [
    {
     "name": "stdout",
     "output_type": "stream",
     "text": [
      "2021-01-10 15:34:31.584804\n",
      "CPU times: user 381 ms, sys: 30.3 ms, total: 411 ms\n",
      "Wall time: 411 ms\n"
     ]
    },
    {
     "data": {
      "image/png": "[encoded data removed]",
      "text/plain": [
       "<Figure size 1440x1080 with 1 Axes>"
      ]
     },
     "metadata": {},
     "output_type": "display_data"
    }
   ],
   "source": [
    "%%time\n",
    "print(datetime.datetime.now())\n",
    "\n",
    "feat_names = vectorizer.get_feature_names()\n",
    "feature_import = rf_clf.feature_importances_\n",
    "\n",
    "feat_scores = pd.Series(feature_import, index=feat_names)\n",
    "feat_scores = feat_scores.sort_values()\n",
    "ax = feat_scores[-20:].plot(kind='barh', figsize=(20,15))\n",
    "ax.set_title('\"Decrease in Impurity\" Importance')\n",
    "ax.set_xlabel('Average contribution to the reduction in variance')\n",
    "plt.savefig('img/feature_imporance.png');"
   ]
  },
  {
   "cell_type": "code",
   "execution_count": null,
   "metadata": {},
   "outputs": [],
   "source": []
  },
  {
   "cell_type": "code",
   "execution_count": null,
   "metadata": {},
   "outputs": [],
   "source": []
  },
  {
   "cell_type": "code",
   "execution_count": null,
   "metadata": {},
   "outputs": [],
   "source": []
  },
  {
   "cell_type": "code",
   "execution_count": null,
   "metadata": {},
   "outputs": [],
   "source": []
  },
  {
   "cell_type": "code",
   "execution_count": null,
   "metadata": {},
   "outputs": [],
   "source": []
  },
  {
   "cell_type": "code",
   "execution_count": null,
   "metadata": {},
   "outputs": [],
   "source": []
  },
  {
   "cell_type": "code",
   "execution_count": null,
   "metadata": {},
   "outputs": [],
   "source": []
  },
  {
   "cell_type": "code",
   "execution_count": null,
   "metadata": {},
   "outputs": [],
   "source": []
  },
  {
   "cell_type": "markdown",
   "metadata": {},
   "source": [
    "### permutation importance"
   ]
  },
  {
   "cell_type": "code",
   "execution_count": 75,
   "metadata": {},
   "outputs": [],
   "source": [
    "# %%time\n",
    "# print(datetime.datetime.now())\n",
    "# r = permutation_importance(rf_clf, X_test.toarray(), y_test, n_repeats=30, random_state=0)"
   ]
  },
  {
   "cell_type": "code",
   "execution_count": 76,
   "metadata": {},
   "outputs": [],
   "source": [
    "# for i in r.importances_mean.argsort()[::-1]:\n",
    "#     if r.importances_mean[i] - 2 * r.importances_std[i] > 0:\n",
    "#         print(f\"{feat_names[i]:<8}\"\n",
    "#               f\"{r.importances_mean[i]:.3f}\"\n",
    "#               f\" +/- {r.importances_std[i]:.3f}\")"
   ]
  },
  {
   "cell_type": "code",
   "execution_count": 77,
   "metadata": {},
   "outputs": [],
   "source": [
    "# for i in r.importances_mean.argsort()[::-1]:\n",
    "#     if r.importances_mean[i] - 2 * r.importances_std[i] > 0:\n",
    "#         print(f\"{feat_names[i]:<20}\")\n",
    "# #               f\"{r.importances_mean[i]:.3f}\"\n",
    "# #               f\" +/- {r.importances_std[i]:.3f}\")"
   ]
  },
  {
   "cell_type": "code",
   "execution_count": 78,
   "metadata": {},
   "outputs": [
    {
     "data": {
      "text/plain": [
       "27662"
      ]
     },
     "execution_count": 78,
     "metadata": {},
     "output_type": "execute_result"
    }
   ],
   "source": [
    "len(feat_names)"
   ]
  },
  {
   "cell_type": "code",
   "execution_count": null,
   "metadata": {},
   "outputs": [],
   "source": []
  },
  {
   "cell_type": "code",
   "execution_count": null,
   "metadata": {},
   "outputs": [],
   "source": []
  },
  {
   "cell_type": "markdown",
   "metadata": {},
   "source": [
    "# make a plot"
   ]
  },
  {
   "cell_type": "code",
   "execution_count": 79,
   "metadata": {},
   "outputs": [
    {
     "data": {
      "text/plain": [
       "_id\n",
       "nyt://article/f5d2e4a7-f89b-54da-9985-dd5fc704a51e    0\n",
       "nyt://article/0fa09b77-5faa-588f-9d4a-39a34748c7f3    0\n",
       "nyt://article/6b274a69-c82b-5b68-bada-ec1467440ddf    0\n",
       "nyt://article/8867f9cb-5914-5731-90b9-e1f1781fa568    0\n",
       "nyt://article/fb5f6e07-033e-5618-967e-fbc1ebcfd61c    0\n",
       "                                                     ..\n",
       "nyt://article/2bfafff5-96ce-5dba-acf8-e2d5f8eab27e    1\n",
       "nyt://article/7254685b-f45b-5165-a4a0-8aeab43d9841    0\n",
       "nyt://article/78e5cf9b-da8f-5fe1-8b69-4f91d4c5e174    0\n",
       "nyt://article/12aacb9c-8972-5cce-add8-c8c0cebe74e0    0\n",
       "nyt://article/34f9a992-f1c9-53f7-ad81-67d9f064908e    0\n",
       "Name: type_of_material, Length: 4585, dtype: int64"
      ]
     },
     "execution_count": 79,
     "metadata": {},
     "output_type": "execute_result"
    }
   ],
   "source": [
    "y"
   ]
  },
  {
   "cell_type": "code",
   "execution_count": 80,
   "metadata": {},
   "outputs": [],
   "source": [
    "min_df = np.linspace(0,.4,5)"
   ]
  },
  {
   "cell_type": "code",
   "execution_count": 81,
   "metadata": {},
   "outputs": [
    {
     "data": {
      "text/plain": [
       "array([0. , 0.1, 0.2, 0.3, 0.4])"
      ]
     },
     "execution_count": 81,
     "metadata": {},
     "output_type": "execute_result"
    }
   ],
   "source": [
    "min_df"
   ]
  },
  {
   "cell_type": "code",
   "execution_count": 82,
   "metadata": {},
   "outputs": [
    {
     "data": {
      "text/plain": [
       "'as you drew closer to the fifth floor where works out of a suite of offices things started to loosen up assistant outside his conference room wore a mask but the other did not the middle of the room with its oil paintings and vaulted ceiling the long central table had fewer chairs than you might expect and an appropriate distance between them past the next door inside the attorney general s smaller personal office himself was also mask-free around to greet his visitors he moved into the middle of a wide circle of four chairs arranged in front of his desk nearing the end of his career did not take his current job for the glory had already been attorney general once in s administration winning him a reputation as a wise old man a reputation that in the eyes of some his tenure in the administration has tarnished is he doing it for the money time in corporate earned him tens of millions of dollars in compensation and stock options and his bearing is still that of a 500 counsel cozy manners wrapped around a harder core said though had been asked to bring one tone was jokingly conspiratorial as though he were making an exception for an old friend is sometimes described as an adjective that also captures his professorial manner speaking voice is very soft just loud enough to be consistently perceptible his accent is patrician with a trace of old personality breaks through mostly in frequent moments of humor which range from clubby chuckles to tension-breaking eruptions an aide added crossed the circle of chairs grinning away any awkwardness bumped elbows he said in the same joshing tone greater risk of course was that might infect him given his cabinet-level access to regular coronavirus testing the difference in our ages s regular meetings with the president and the mostly one-way prophylactic value of masks in general his aide suggested again took it off the whole country was doing the same dance for and had recommended that all wear masks at meetings like this one was doing something else and so for the time being was the staff having been wrong-footed after taking the no-mask custom to the now seemed to be making it up as he went along weeks into the global pandemic a charitable observer might still have described the administration s response as improvisational or misguided as opposed to willfully cavalier things were about to get worse day s projection of the total death toll 75 000 to 100 000 which was given the previous evening at the would be challenged by an internal document predicting that the number of daily deaths would rise into reckless faith of the president s inner circle would be challenged when two members of the staff tested positive for the coronavirus and did not know it then but we were enjoying the tail end of the administration s libertine phase 27 the official death toll would surpass 100 000 the upper bound of what predicted on 3 has to assume that is keeping a close eye on the 70-year-old right now powers of the attorney general as the executive branch s rule interpreter and law enforcer peak during moments of social unrest knows these powers well led the through the riots of 1992 when invoked the and deployed thousands of soldiers and said the riots were gang activity and not is a stalwart believer in the righteousness of the police those communities that fail to give the police he said in a speech summer dropped the department s federal case against the police officer who killed during an arrest in 2014 s role also gives him influence over three major political fronts heading into there is s fight to open the nation s economy which could depend in no small part on s interpretation of federal authority and willingness to twist governors arms there are the mechanics of the vote itself a topic of great partisan controversy about which the has shown a growing willingness to weigh in there is the ongoing investigation led by the attorney in into the origins of the s probe in the run-up to the 2016 election the findings of which are widely expected to be announced before the election now on the horizon defended his record in two recent interviews critics charge that since becoming attorney general he has repeatedly steered the toward decisions that serve s interests particularly around the investigations carried out by the and into influence over the 2016 election insists that he acts independently even as the president often undermines that claim by tweeting out apparent instructions for what his attorney general ought to do the time of our first meeting in his office had already started looking at how the federal government might intervene in state-ordered coronavirus shutdowns accused governors of denying citizens their and encouraged residents to and zeroed in on the nuts and bolts of the legal case for two small churches filed lawsuits seeking to hold live services despite state or local regulations the made filings in support of their rights a signed memorandum sent to the department s 93 attorneys suggested that the federal government s interest went beyond protecting live worship included weeks before our interview bragged that he held authority over the states went against the prevailing view that the federal government while free to enforce a variety of measures during its own emergencies is more constrained in its authority to compel state or local governments to lift theirs asked what meant he responded by laying out a general view of the president s pandemic-related powers he said answer sounded so dry and routine that failed to ask what he meant by broadly enough s interpretation could sanitize and legalize s claim to authority ballots are another domain where had been staking out turf called the distribution of ballot applications in and warned that voting by mail a second interview on 20 when asked who was going to referee the 2020 election replied said his department s role would be limited as the power belongs to the states and their electors when brought up s tweet about which he posted that same morning quickly seized the opportunity to float a new theory that foreign governments might conspire to mail in fake ballots he cautioned offering no evidence to substantiate that this was a real possibility he called it and added many election-related issues the of has to defer to the states in the case of s investigation of the 2016 investigators or the as has so often called it has a greater degree of control years has been saying that he was treated unfairly in 2016 particularly at the hands of then the director who is open about his agreement with this premise is now in the process of nailing down the details won t rule out the possibility that s findings could undermine a key consensus about 2016 the well-established conclusion that interference sought to favor a finding of the of 2017 that was later underscored by the special counsel and verified by the intelligence committee told me was looking for paused glanced down and fidgeted for a moment with his necktie before going on seems aware at times that he is gambling with his reputation he said with a matter-of-fact sigh in a interview last year we spoke in his office he was critical of what he called s tendency to around himself he said he added s willingness to weather controversy on the president s behalf has not only caused consternation among some former friends and allies it has given rise to considerable speculation about his motives would a grandfather in semiretirement who had already reached the pinnacle of his profession sign up for this wonder if might still be hungry for influence having been attorney general for only 17 months the first time wonder whether he spent too much time watching during the years and came out the other side an ideologue there are others who look at s support for and see more consistency than contradiction they say hasn t changed his values he has found in the perfect vehicle with which to move them forward says who led the s civil division during s first tour and then succeeded him serving as acting attorney general during the first three months of s presidency far as what is hoping to do with his canvas says he is committed to the and premise that isn t too far away from what himself articulated in a 2019 speech at the of s view piety lay at the heart of the founders model of self-government which depended on religious values to restrain human passions said flows from through to form and experience merely serve to confirm the infallible divine law law he said is under threat from including who call on the state their feet places mental illness drug overdoses violence and suicide these things he said are getting worse are started his career in the as an analyst working on and other matters asked about the origin of his interest in the intelligence service he responded indirectly with an anecdote about telling his high school guidance counselor that he wanted to be director was tempting to link s career and conservatism with his father who served in the of the s forerunner during 1940 as an undergraduate at wrote a controversial editorial for defending a speech by the university president that called upon the faculty to support the war effort he wrote tempting as it was to see the son as part of some epigenetic chain of old-line conservatism cautioned me not to make such assumptions s parents met at the of in the early 1940s who already spoke three languages had been sent there by the to learn spotted a young woman who had a master s degree in from through an open doorway teaching to undergraduates and was smitten took some courting thought was a told me and his background was also an issue he was raised without much religion but his father s grandfather was born a secular joining the gave his religion as converted to after he and wed s 26-page file obtained from the gives a detailed account of his transition from the military to intelligence work 1944 he shipped off to suffered from hay fever and 20/200 vision much of his time overseas was spent hospitalized with allergies next year he was assigned to the interviewer found him to be late 1945 he moved to to begin work at the and which would become the s in-house intelligence bureau the couple s second son was born in 1950 age 8 he had taken up the bagpipes which would become a lifelong hobby attended the in where his classmates remembered his conservatism the delight he took in making an argument and his sense of humor yearbook praised him as an s involvement with campus politics continued at joined the which organized against student occupiers who had taken over the campus to protest the was known as a feeder school for the average of 14 seniors went to the agency each year from 1960 through 1966 according to a 1967 article from the student newspaper which reported that a majority came in not through the college s of and but perhaps a reference to the private foundations and student organizations that were receiving funding at that time the late 1960s this recruiting drew campus protests which eventually broadened to take on other issues beyond the war the morning of 24 1968 student demonstrators many of them affiliated with for a stormed and took over the offices of s president protesters were angry that was building a gymnasium nearby that would have two separate entrances one for the school community and one for neighborhood residents and also about the university s connection with a think tank that did research for the was on the other side standing shoulder to shoulder with conservatives and athletes to form a blockade around the library he told me smiled to himself asked if he was in the fistfight adjusted the bridge of his glasses and glanced down he said letting out a big laugh later added interned at the in the summers of 1971 and 1972 1973 after completing his graduate degree in government and studies he married whom he met at a fraternity party next day the couple drove to and began a permanent job at the the day after that mother s memories of the he said had instilled in him a desire for career stability so he began taking law courses at night then he had transferred to the s of says who worked down the hall from in the general counsel s office where would eventually rise to become the acting head new job put on the s seventh floor not far from the director s office and near the center of what was shaping up to be a historic fight with the aftermath of the presidency was endowed with vast new powers mass surveillance covert operations proxy wars and nuclear weapons young spurred on by the imperative to win the abused its own new powers to an astonishing degree a statutory ban on its involvement in either or the surveilled and surreptitiously engaged with countless citizens agency reported to the president and often took action based on informal conversations without ever committing much to paper around the agency s transgressions held until the 1970s when antiwar sentiment began to peak scandals around the 1971 and the break-in 1972 culminating in the long-anticipated defeat convinced much of the public that the federal government should no longer be given the benefit of the doubt 1973 the longtime director ordered the destruction of internal documents regarding an experimental mind-control program later recalled 1974 the journalist who had already broken the story of the massacre in revealed that the had developed a sprawling domestic-spying operation keeping dossiers on thousands of citizens created two special committees a committee led by and a committee that would eventually be led by to investigate years the would be consumed with negotiations over the limits of what could oversee told me in his office asked if there had indeed been excesses s poker face came to life grinned turned his palms out and shrugged he said burst out laughing he pulled back to give the matter some more thought adjusting his glasses as he settled back into seriousness he said battle between conservative hard-liners and a would continue through the late the there was a sense of victimization the agency s first presidentially appointed inspector general told me 1976 the job of defending the agency in public passed to the new director who had served as a special envoy to at least one occasion sat behind during a congressional hearing giving him legal advice wound up making oversight a permanent thorn in the s side by establishing two intelligence oversight committees drafted two letters each signed by asking if the could resume the routine destruction of documents request was denied says now a law professor at the of and at who dealt with the as legal counsel of the than accept post-Watergate congressional limitations the hard-liners decamped from the and became floaters bureaucratic nomads who sought out underused and low-visibility pockets of the federal government from which to wage their war over executive power largest battle was fought around the affair covert group operating out of the had used money gained by selling arms to to fund anti-Communist rebels in flouting a congressional prohibition of the operation was organized by of the of the plotters were dragged into the public eye and indicted by a special prosecutor another post-Watergate innovation pointing to the involvement of and was inconclusive hard-liners felt that foreign policy and covert operations were an exclusively presidential domain is how s first director put it in an interview with the political scientist this time conservative thinkers of s generation began to coalesce around an idea they called president s right to his powers under of the they argued was undivided and absolute reforms independent prosecutors to investigate high-level wrongdoing requirements to get warrants for national-security wiretaps and more were unconstitutional incursions into the president s rightful powers 1977 left the upon his graduation from eventually landing as a policy lawyer in the running for president took to the 1988 to help vet potential running mates and after winning the election appointed him to lead the s of where his duties included determining the legal limits of activities who was still at the recalls that kept his independence from the of s opinions on classified operations while a third operation says was rejected entirely of s public opinions though effectively authorized the invasion of as acting attorney general he impressed further by defusing a delicate prison-hostage crisis attorney general in 1992 signed off on a mass-surveillance program that collected billions of call records for the the end of s presidency he successfully pushed for a pardon of six defendants a former director says reminds him of the former lawyer who became s chief of staff and played a major role in pushing the limits of conduct including torture that the and the determined to be legal in the aftermath of the 11 attacks says s intellect and experience made him appealing to the private sector eight years he served as general counsel at at a time when the company was working out secret arrangements with the to turn over its customers data 2001 a legal trade publication noted s 1 5 million salary and compared him to a for the depth of his connections in both political and corporate that time he said he had no interest in returning to officialdom he said the 2016 presidential election was a player in politics and active in conservative causes gave nearly 50 000 to a affiliated with annual holiday parties traditional cèilidhs with music and singers drew hundreds whose friendships he had maintained over the years wrote and sold a screenplay about spent time traveling abroad and hunting birds three daughters all became accomplished lawyers working on or as federal prosecutors eldest moved to the s financial-crimes unit after s nomination as attorney general one of s sons-in-law left the for the s year shortly after his speech gave a second major address at the annual convention of the an organization of conservative lawyers founded during the administration subject was executive power criticized progressives this time for making politics presidency in his view handled of the core function of the presidency was the ability to act swiftly and without constraint but this capability had been diminished by the other branches since had burdened the president with oversight while the courts were interfering with s travel ban on certain countries and his termination of s program for young immigrants seemed to suggest that when it comes to foreign policy the only legitimate check on presidential behavior is the next election later this argument would become the foundation of s impeachment defense 5 2018 attended s funeral waiting in line for the shuttle bus that would take him to he and his wife ran into a friend who was s counsel during the years two men spent most of the day together sounded out about the attorney-general job knew from following the news that was under consideration but never tipped his hand about how close he was to being tapped and never asked that week when announced s nomination was not surprised under says the time of his nomination s supporters presented him as a trustworthy and sensible conservative a known quantity within the establishment who would restrain s worst impulses called him a legal commentator who is now one of s harshest critics tweeted at the time that he had been under and that his confirmation would be the confirmation hearing of the ranking on the questioned at length about a memorandum he wrote to the administration the previous summer outlining why he believed that had no legal right to investigate for obstruction of justice president argued has investigations and can on individual cases including those that touch on his political or financial interests wrote enforcement he argued was a power exclusively held by the president because the hearing seemed to say that he did not believe the unitary executive s powers to be infinite a asked if it would be lawful for a president to trade a pardon for a promise not to incriminate him answered that such an exchange would be a crime also mentioned his long friendship with s wife attends the same study as s wife attended the weddings of two of s daughters was confirmed by a vote of 54 to 45 had barely served one month as attorney general when his friendship with was tested by the special prosecutor s delivery of his report on the afternoon of 22 s account then went dark for nearly 40 hours sent a letter to that he would later describe as giving s and s feed came back to life he tweeted his first public comments that same day said the words three times he added s tweet s letter and s report said three different things nor exonerated quoted s own words that his complicated finding on obstruction the president omitted s conclusions that interference sought to favor that and his campaign welcomed the interference and believed they would benefit from it and that the and between and the campaign were substantial even though the evidence was able to gather fell short of a criminal conspiracy fired off two letters complaining that had misrepresented his work the second letter dated 27 he asked to immediately release the report s introductions and executive summaries the public would not get to read s work until 18 when released a redacted version of the full report doing so gave a news conference in which he tilted further toward declaring innocent something bent over backward not to do said of s distortions drew wide criticism were also frustrated by the report s content lacked the thunderous revelations about that had long been promised by s opponents and it suffered from legalistic inconclusiveness on the most fundamental questions having been given a chance to put the 2016 election to bed for good had carefully avoided doing so hopes for the promised collusion bombshell now turned to the unredacted version of the report which refused to give them an echo of his work during the years the has taken a very hard line regarding what information and the courts are entitled to get from the has fought in court against the release of s tax returns argued that did not need to see the whistle-blower s complaint because it was not a matter of and has challenged congressional requests for s secret grand-jury materials refused to turn over the fully unredacted report to the citing executive privilege the committee voted to hold him in contempt chairman of claimed that this was the beginning of a seemed untroubled he reportedly quipped to at an event a few days later concerns about s handling of s investigation have not been confined to of the for the of a appointee recently criticized s and questioned whether his first meeting with in 2017 later recalled in his confirmation hearing he told that the end he was half right said in one of our interviews would have been 2019 more than a year ago continued asked if they still saw each other at study replied general are chosen by the president no law prohibits them from doing the president s bidding presidents have occasionally asked the attorney general to intervene in individual prosecutions s attorney general went much further helping to plan the burglary and then working to cover it up the s guidelines do enjoin prosecutors not to comment about ongoing investigations something does regularly also caution that legal judgments and that the department must respect s of this has stopped from overruling his subordinates to the benefit of s friends and associates most notably s longtime political mentor and his former national security adviser both cases has tweeted about what he sees as the unfairness of their legal troubles and the has subsequently pushed for leniency has repeatedly said that has never asked him to do anything in a criminal case he said in an interview with the department s interventions on behalf of and have raised questions about the supposed firewall who led the of under told in has said he doesn t pay attention to s tweets and doesn t take seriously the ones he is made aware of says s friend and former colleague the former head of s civil rights division at the department articulated a prevailing view of among telling me that the attorney general has says s interventions on behalf of associates have far-reaching consequences she says prosecutors recommended that be sentenced to seven to nine years in prison for witness tampering and other crimes following day the filed a second revised sentencing memo asking that s sentence be reduced to 108 months the memo argued given s the same day the department revised its sentencing recommendation all four of the prosecutors responsible for the case announced their withdrawal left the department entirely wrote later in an op-ed in said the prosecutors tweeted out congratulations to for pushed back in the interview insisting that he reached the decision independently he said adding post-Mueller case that has arguably received the most attention among s supporters is that of the lieutenant general who briefly served as s national security adviser dueling narratives around the transition crystallize around and the question of whether he or those who investigated him were in the wrong addition to drawing scrutiny for his contacts initially failed to report as legally required that his company was effectively on the payroll of the government during the 2016 campaign himself tried and failed to talk into dropping him of s own problems hinged on his asking if he could to dropping the investigation s adversaries consider to be a loose cannon and possible pawn who needed to be rooted out supporters depict him as the second coming of a good soldier who was martyred in public for his loyalty to the executive 4 the day of my first interview with was still awaiting sentencing having pleaded guilty to lying to the time to time had been tweeting about the case in ways that seemed to cross the line that had drawn about public comments from the about matters pending before the said had been victimized by the as asked in light of his statement on whether these were the kind of tweets that made his job said had recently been tweeting about said replied asked if he would like to see them said handed a printout of an 29 tweet read said with cool indifference asked how it was that s supposed antagonists could be punished without involvement from the department asked referring to the particular case that was now before had found the right hair to split and he split it so cleanly and decisively that couldn t say this wasn t his position from the beginning tweet said was nothing new he said days later on the afternoon of 7 the filed a motion to dismiss its own prosecution of government argued that s false statements were not to the investigation of because the investigation was itself unjustified argument relied in part on the contents of handwritten notes that had been turned over to s attorneys by the department and released to the public by mutual agreement of the prosecutors assigned to the case immediately withdrew few days later decided he wouldn t rule on whether to accept the department s motion until he had heard from friends of the court and a special counsel s lawyers appealed asking a higher court to force the judge s hand the department took s side took to celebrating definitive 11 history of the 2016 election remains unwritten though not for lack of trying addition to the report and voluminous criminal indictments we have the the report by the s inspector general and four volumes of the intelligence committee s report a fifth volume of which is on the way major episodes of the story may now seem like familiar terrain to those who have kept up and a hopeless mess to everyone else zoom out a bit and the stakes could not be higher of s critics like of the chairman of the and s director of national intelligence go further than saying that the put a thumb on the scale for have suggested that the extra boost was decisive that would not have been elected in 2016 but for interference crucial legacy of 2016 is that the question of s legitimacy was never settled without any consensus on what happened in 2016 the rules of the road for 2020 are up in the air first armed with the powers of law enforcement and presidential access to classified material is getting ready to roll out his account of 2016 promises he most likely has in mind the ongoing investigation by and its long-expected report although it is also possible that s public work product will take the form of indictments or perhaps nothing at all who assigned the task of investigating the probe in last year and met with him several times immediately after the conclusion of s investigation is overseeing s work and briefs on his findings regularly on s public statements we can see the rough contours of s findings beginning to take shape government s conduct during the transition has said was of s campaign amounted to there was the all-important question of whether the was justified in opening the initial investigation into the campaign s ties ordinary circumstances prosecutors do not comment on anything connected to an ongoing investigation but on the day that released his report both and decided to do just that s interest in said was based and said in his own statement had found that the investigation was justified so these sounded like sweeping words of dissent over the coming months as attention drifted elsewhere they shrank the time sat down with the only dispute with he d voiced was whether the had enough evidence to open a full investigation and believe that there was only enough to open a preliminary investigation not a full one our first interview mentioned the dossier of salacious anti-Trump claims that had been gathered and circulated by a former intelligence agent who was working indirectly for the campaign possibility that the government intentionally seeded the dossier with misinformation was one of the issues ignored and was looking at said had gone back and looked at the investigative steps taken as accelerated he continued had done that but unlike and he had no access to the the and the foreign governments that were involved facilitate what later became a criminal investigation ordered the heads of the intelligence agencies to cooperate with delegated to the power to order the declassification of secret documents has spoken with intelligence officials from and to reportedly solicit information that could help the case of where and met with political leaders and intelligence chiefs in person his visit provoked concern among diplomats who told that circumvented protocols in setting up the trip of who is the ranking on the and helped write its five-volume report said there were about s trips he said a former colleague of s from the years said he thought could come back with something more s investigation he told me s investigation is not the only means through which s decisions could affect the election the wants to open a criminal investigation into either campaign it will first need s personal approval has established a special to deal with materials that says he has obtained from sources which has claimed implicate the presumptive presidential nominee the interview did not dispute the notion that the government had interfered in 2016 but he made it sound as though the assumption that it favored would be coming under some pressure also would expect to play a role in deterring and punishing foreign interference in the 2020 election but that could get complicated s camp continues to deny the intelligence community s consensus view one strongly reiterated by and the intelligence committee that the favored over including on the claim to have unreleased evidence that points the other way on what told me intentions will most likely emerge as the key retrospective battlegrounds as s work continues and the election draws closer said what did not address directly was the fourth volume of the report from the intelligence committee report reviewed much of the same intelligence underlying the affirmed that s pro-Trump position and s direct involvement were supported by s disagreement was the committee s groundbreaking 2012 the fourth volume was unanimously approved by a bipartisan vote of the committee said a from and the chairman of the committee for his part dismissed s investigation as he told me brought up the investigation again in my last interview with on 20 fifth floor of headquarters now felt different some older lawyerly looking men walking around wore masks younger men in suits with lapel pins who were most likely security did not himself still wore no mask but there were no more polite entreaties for visitors to take theirs off could see two crumpled blue surgical masks lying amid the papers on s desk disarming familiarity sat down on a sofa and offered me my in a tufted leather chair then had seized on the meme accusing the former president and of asked what crime he thought they were guilty of declined to answer a news conference two days before went to see him was asked indirectly if s investigation might lead to criminal charges being filed against or he said that same day asked about s statement replied went on then said he had that and were in what he now called a to whether or not it was criminal he said s office two days later brought up how seemed to have heard only what he wanted to hear that s prediction about not prosecuting the former president was only valid said shouldn t read too much into those words he said he realized it or not the line had drawn at the news conference was getting blurrier with every word just as had hoped went on pulled back from the conversation and thought for a moment keeping tabs on s investigation for more than a year did not think it was likely that he would have to prosecute a former president neither at that moment was he willing to rule it out made this position sound reasonable even as it served to support the unsupported theory that the president was floating at the time the end the substance of s findings might not matter he turns up will become a major theme of s 2020 campaign the less time there is before an election the greater political impact of even the smallest apparent revelation needed from was the glimmer of a possibility a slight shadow of official uncertainty in which his wild theories could flourish for now was giving him that much more he would give the president before it was hard to say'"
      ]
     },
     "execution_count": 82,
     "metadata": {},
     "output_type": "execute_result"
    }
   ],
   "source": [
    "corpus[0]"
   ]
  },
  {
   "cell_type": "markdown",
   "metadata": {},
   "source": [
    "# min_df_plot"
   ]
  },
  {
   "cell_type": "code",
   "execution_count": 83,
   "metadata": {},
   "outputs": [
    {
     "name": "stdout",
     "output_type": "stream",
     "text": [
      "CPU times: user 16.8 s, sys: 158 ms, total: 17 s\n",
      "Wall time: 17 s\n"
     ]
    }
   ],
   "source": [
    "%%time\n",
    "num_feat_min = []\n",
    "\n",
    "min_df = np.linspace(0.01,0.5,5)\n",
    "\n",
    "for val in min_df:\n",
    "    vectorizer_plot = TfidfVectorizer(preprocessor=punc_strip,\n",
    "#                 tokenizer=wordnet_tokenize,\n",
    "                stop_words=alphabet,\n",
    "#                 max_df=0.95,\n",
    "                 min_df=val,\n",
    "                 max_features=None)\n",
    "    \n",
    "    vectorizer_plot.fit(X)\n",
    "    \n",
    "    features = vectorizer_plot.get_feature_names()\n",
    "    stop_word = vectorizer_plot.get_stop_words()\n",
    "\n",
    "    num_feat_min.append(len(features))"
   ]
  },
  {
   "cell_type": "code",
   "execution_count": 84,
   "metadata": {},
   "outputs": [
    {
     "name": "stderr",
     "output_type": "stream",
     "text": [
      "/Users/djbetts/opt/anaconda3/lib/python3.7/site-packages/sklearn/feature_extraction/text.py:484: UserWarning: The parameter 'token_pattern' will not be used since 'tokenizer' is not None'\n",
      "  warnings.warn(\"The parameter 'token_pattern' will not be used\"\n"
     ]
    }
   ],
   "source": [
    "learn_vect = TfidfVectorizer(preprocessor=punc_strip,\n",
    "                 tokenizer=wordnet_tokenize,\n",
    "#            stop_words=alphabet,\n",
    "#                max_df=0.95,\n",
    "             min_df=.2,\n",
    "             max_features=None)\n",
    "\n",
    "learn_vect.fit(X)\n",
    "\n",
    "min_df_features = learn_vect.get_feature_names()\n",
    "stop_word = learn_vect.get_stop_words()"
   ]
  },
  {
   "cell_type": "code",
   "execution_count": 85,
   "metadata": {},
   "outputs": [
    {
     "data": {
      "text/plain": [
       "340"
      ]
     },
     "execution_count": 85,
     "metadata": {},
     "output_type": "execute_result"
    }
   ],
   "source": [
    "len(min_df_features)"
   ]
  },
  {
   "cell_type": "code",
   "execution_count": 86,
   "metadata": {},
   "outputs": [
    {
     "data": {
      "text/plain": [
       "['000',\n",
       " '1',\n",
       " '10',\n",
       " '2',\n",
       " '2016',\n",
       " '2018',\n",
       " '3',\n",
       " 'a',\n",
       " 'about',\n",
       " 'according',\n",
       " 'across',\n",
       " 'action',\n",
       " 'added',\n",
       " 'administration',\n",
       " 'adviser',\n",
       " 'after',\n",
       " 'again',\n",
       " 'against',\n",
       " 'agency',\n",
       " 'ago',\n",
       " 'aide',\n",
       " 'all',\n",
       " 'ally',\n",
       " 'already',\n",
       " 'also',\n",
       " 'among',\n",
       " 'an',\n",
       " 'and',\n",
       " 'announced',\n",
       " 'another',\n",
       " 'any',\n",
       " 'are',\n",
       " 'around',\n",
       " 'asked',\n",
       " 'at',\n",
       " 'attack',\n",
       " 'away',\n",
       " 'back',\n",
       " 'be',\n",
       " 'because',\n",
       " 'become',\n",
       " 'been',\n",
       " 'before',\n",
       " 'began',\n",
       " 'being',\n",
       " 'between',\n",
       " 'both',\n",
       " 'business',\n",
       " 'but',\n",
       " 'by',\n",
       " 'call',\n",
       " 'called',\n",
       " 'came',\n",
       " 'campaign',\n",
       " 'can',\n",
       " 'candidate',\n",
       " 'care',\n",
       " 'case',\n",
       " 'chairman',\n",
       " 'change',\n",
       " 'chief',\n",
       " 'claim',\n",
       " 'clear',\n",
       " 'close',\n",
       " 'come',\n",
       " 'comment',\n",
       " 'company',\n",
       " 'concern',\n",
       " 'conservative',\n",
       " 'control',\n",
       " 'coronavirus',\n",
       " 'could',\n",
       " 'country',\n",
       " 'court',\n",
       " 'crisis',\n",
       " 'day',\n",
       " 'decade',\n",
       " 'decision',\n",
       " 'did',\n",
       " 'director',\n",
       " 'do',\n",
       " 'doe',\n",
       " 'down',\n",
       " 'during',\n",
       " 'earlier',\n",
       " 'early',\n",
       " 'economic',\n",
       " 'economy',\n",
       " 'effort',\n",
       " 'election',\n",
       " 'end',\n",
       " 'enough',\n",
       " 'even',\n",
       " 'event',\n",
       " 'every',\n",
       " 'evidence',\n",
       " 'executive',\n",
       " 'expected',\n",
       " 'expert',\n",
       " 'face',\n",
       " 'fact',\n",
       " 'family',\n",
       " 'far',\n",
       " 'federal',\n",
       " 'few',\n",
       " 'first',\n",
       " 'for',\n",
       " 'force',\n",
       " 'former',\n",
       " 'found',\n",
       " 'four',\n",
       " 'from',\n",
       " 'general',\n",
       " 'get',\n",
       " 'give',\n",
       " 'given',\n",
       " 'go',\n",
       " 'government',\n",
       " 'group',\n",
       " 'ha',\n",
       " 'had',\n",
       " 'have',\n",
       " 'he',\n",
       " 'health',\n",
       " 'held',\n",
       " 'help',\n",
       " 'her',\n",
       " 'high',\n",
       " 'him',\n",
       " 'himself',\n",
       " 'his',\n",
       " 'home',\n",
       " 'hour',\n",
       " 'how',\n",
       " 'if',\n",
       " 'in',\n",
       " 'including',\n",
       " 'interview',\n",
       " 'into',\n",
       " 'is',\n",
       " 'issue',\n",
       " 'it',\n",
       " 'job',\n",
       " 'just',\n",
       " 'keep',\n",
       " 'known',\n",
       " 'large',\n",
       " 'last',\n",
       " 'late',\n",
       " 'later',\n",
       " 'law',\n",
       " 'lawmaker',\n",
       " 'le',\n",
       " 'lead',\n",
       " 'leader',\n",
       " 'least',\n",
       " 'led',\n",
       " 'left',\n",
       " 'legal',\n",
       " 'life',\n",
       " 'like',\n",
       " 'likely',\n",
       " 'line',\n",
       " 'little',\n",
       " 'local',\n",
       " 'long',\n",
       " 'made',\n",
       " 'major',\n",
       " 'majority',\n",
       " 'make',\n",
       " 'making',\n",
       " 'many',\n",
       " 'matter',\n",
       " 'may',\n",
       " 'medium',\n",
       " 'member',\n",
       " 'message',\n",
       " 'might',\n",
       " 'million',\n",
       " 'money',\n",
       " 'month',\n",
       " 'more',\n",
       " 'most',\n",
       " 'move',\n",
       " 'much',\n",
       " 'nation',\n",
       " 'national',\n",
       " 'nearly',\n",
       " 'need',\n",
       " 'never',\n",
       " 'new',\n",
       " 'news',\n",
       " 'next',\n",
       " 'night',\n",
       " 'no',\n",
       " 'not',\n",
       " 'now',\n",
       " 'number',\n",
       " 'of',\n",
       " 'off',\n",
       " 'office',\n",
       " 'official',\n",
       " 'often',\n",
       " 'on',\n",
       " 'once',\n",
       " 'one',\n",
       " 'only',\n",
       " 'or',\n",
       " 'order',\n",
       " 'other',\n",
       " 'others',\n",
       " 'out',\n",
       " 'over',\n",
       " 'own',\n",
       " 'pandemic',\n",
       " 'part',\n",
       " 'party',\n",
       " 'past',\n",
       " 'people',\n",
       " 'percent',\n",
       " 'person',\n",
       " 'place',\n",
       " 'plan',\n",
       " 'point',\n",
       " 'policy',\n",
       " 'political',\n",
       " 'position',\n",
       " 'power',\n",
       " 'president',\n",
       " 'presidential',\n",
       " 'process',\n",
       " 'program',\n",
       " 'public',\n",
       " 'put',\n",
       " 'question',\n",
       " 'race',\n",
       " 're',\n",
       " 'recent',\n",
       " 'recently',\n",
       " 'record',\n",
       " 'report',\n",
       " 'reporter',\n",
       " 'response',\n",
       " 'result',\n",
       " 'right',\n",
       " 'risk',\n",
       " 'role',\n",
       " 'rule',\n",
       " 'run',\n",
       " 's',\n",
       " 'said',\n",
       " 'same',\n",
       " 'say',\n",
       " 'saying',\n",
       " 'second',\n",
       " 'secretary',\n",
       " 'security',\n",
       " 'see',\n",
       " 'senator',\n",
       " 'senior',\n",
       " 'set',\n",
       " 'several',\n",
       " 'she',\n",
       " 'should',\n",
       " 'show',\n",
       " 'since',\n",
       " 'small',\n",
       " 'so',\n",
       " 'social',\n",
       " 'some',\n",
       " 'staff',\n",
       " 'state',\n",
       " 'statement',\n",
       " 'still',\n",
       " 'such',\n",
       " 'support',\n",
       " 'supporter',\n",
       " 'system',\n",
       " 't',\n",
       " 'take',\n",
       " 'team',\n",
       " 'term',\n",
       " 'than',\n",
       " 'that',\n",
       " 'the',\n",
       " 'their',\n",
       " 'them',\n",
       " 'then',\n",
       " 'there',\n",
       " 'they',\n",
       " 'this',\n",
       " 'those',\n",
       " 'though',\n",
       " 'threat',\n",
       " 'three',\n",
       " 'through',\n",
       " 'time',\n",
       " 'to',\n",
       " 'told',\n",
       " 'too',\n",
       " 'took',\n",
       " 'top',\n",
       " 'trying',\n",
       " 'two',\n",
       " 'under',\n",
       " 'until',\n",
       " 'up',\n",
       " 'use',\n",
       " 'used',\n",
       " 'view',\n",
       " 'virus',\n",
       " 'vote',\n",
       " 'voter',\n",
       " 'wa',\n",
       " 'want',\n",
       " 'way',\n",
       " 'week',\n",
       " 'well',\n",
       " 'were',\n",
       " 'what',\n",
       " 'when',\n",
       " 'where',\n",
       " 'whether',\n",
       " 'which',\n",
       " 'while',\n",
       " 'who',\n",
       " 'whose',\n",
       " 'will',\n",
       " 'win',\n",
       " 'with',\n",
       " 'without',\n",
       " 'won',\n",
       " 'work',\n",
       " 'worked',\n",
       " 'worker',\n",
       " 'working',\n",
       " 'world',\n",
       " 'would',\n",
       " 'wrote',\n",
       " 'year']"
      ]
     },
     "execution_count": 86,
     "metadata": {},
     "output_type": "execute_result"
    }
   ],
   "source": [
    "min_df_features"
   ]
  },
  {
   "cell_type": "code",
   "execution_count": null,
   "metadata": {},
   "outputs": [],
   "source": []
  },
  {
   "cell_type": "code",
   "execution_count": null,
   "metadata": {},
   "outputs": [],
   "source": []
  },
  {
   "cell_type": "code",
   "execution_count": 87,
   "metadata": {},
   "outputs": [
    {
     "name": "stdout",
     "output_type": "stream",
     "text": [
      "CPU times: user 14.3 ms, sys: 2.27 ms, total: 16.6 ms\n",
      "Wall time: 14.9 ms\n"
     ]
    },
    {
     "data": {
      "text/plain": [
       "[<matplotlib.lines.Line2D at 0x7f908d6f1d50>]"
      ]
     },
     "execution_count": 87,
     "metadata": {},
     "output_type": "execute_result"
    },
    {
     "data": {
      "image/png": "[encoded data removed]",
      "text/plain": [
       "<Figure size 432x288 with 1 Axes>"
      ]
     },
     "metadata": {},
     "output_type": "display_data"
    }
   ],
   "source": [
    "%%time\n",
    "fig, ax = plt.subplots()\n",
    "ax.plot(min_df, num_feat_min);"
   ]
  },
  {
   "cell_type": "markdown",
   "metadata": {},
   "source": [
    "# "
   ]
  },
  {
   "cell_type": "code",
   "execution_count": null,
   "metadata": {},
   "outputs": [],
   "source": []
  },
  {
   "cell_type": "code",
   "execution_count": null,
   "metadata": {},
   "outputs": [],
   "source": []
  },
  {
   "cell_type": "code",
   "execution_count": null,
   "metadata": {},
   "outputs": [],
   "source": []
  },
  {
   "cell_type": "code",
   "execution_count": null,
   "metadata": {},
   "outputs": [],
   "source": []
  },
  {
   "cell_type": "code",
   "execution_count": null,
   "metadata": {},
   "outputs": [],
   "source": []
  },
  {
   "cell_type": "code",
   "execution_count": null,
   "metadata": {},
   "outputs": [],
   "source": []
  },
  {
   "cell_type": "markdown",
   "metadata": {},
   "source": [
    "# max_features"
   ]
  },
  {
   "cell_type": "code",
   "execution_count": 88,
   "metadata": {},
   "outputs": [
    {
     "name": "stdout",
     "output_type": "stream",
     "text": [
      "Accuracy: 0.95\n",
      "Recall: 0.96\n",
      "Precision: 0.79\n",
      "TN:915 FP:48 FN:7 TP:177\n",
      "Accuracy: 0.94\n",
      "Recall: 0.92\n",
      "Precision: 0.75\n",
      "TN:907 FP:56 FN:15 TP:169\n",
      "Accuracy: 0.95\n",
      "Recall: 0.95\n",
      "Precision: 0.78\n",
      "TN:914 FP:49 FN:9 TP:175\n",
      "Accuracy: 0.93\n",
      "Recall: 0.93\n",
      "Precision: 0.73\n",
      "TN:899 FP:64 FN:13 TP:171\n",
      "Accuracy: 0.94\n",
      "Recall: 0.93\n",
      "Precision: 0.77\n",
      "TN:911 FP:52 FN:12 TP:172\n",
      "Accuracy: 0.94\n",
      "Recall: 0.93\n",
      "Precision: 0.77\n",
      "TN:911 FP:52 FN:12 TP:172\n",
      "CPU times: user 24 s, sys: 286 ms, total: 24.3 s\n",
      "Wall time: 24.4 s\n"
     ]
    }
   ],
   "source": [
    "%%time\n",
    "TN = []\n",
    "FP = []\n",
    "FN = []\n",
    "TP = []\n",
    "\n",
    "num_feat = np.linspace(1000,50000,6)\n",
    "\n",
    "for val in num_feat:\n",
    "    vectorizer_plot = TfidfVectorizer(preprocessor=punc_strip,\n",
    "#                 tokenizer=wordnet_tokenize,\n",
    "                stop_words=alphabet,\n",
    "#                 max_df=0.95,\n",
    "#                 min_df=val,\n",
    "                 max_features=int(val))\n",
    "\n",
    "    #test, train, split\n",
    "    X_train, X_test, y_train, y_test = train_test_split(X, y, random_state=50)\n",
    "\n",
    "    X_train = vectorizer_plot.fit_transform(X_train)\n",
    "\n",
    "    X_test = vectorizer_plot.transform(X_test)\n",
    "    \n",
    "    #X, y --> X_resampled, y_resampled\n",
    "    rus = RandomUnderSampler(random_state=0)\n",
    "    X_resampled, y_resampled = rus.fit_resample(X_train, y_train)\n",
    "    \n",
    "    recall_rfc = RandomForestClassifier(max_depth=2, random_state=0)\n",
    "\n",
    "    rf_clf.fit(X_resampled, y_resampled)\n",
    "    y_pred = rf_clf.predict(X_test)\n",
    "    \n",
    "    tn, fp, fn, tp = confusion_matrix(y_true = y_test, y_pred = y_pred).ravel()\n",
    "    a, r, p  = metrics_(tn, fp, fn, tp)\n",
    "    \n",
    "    TN.append(tn)\n",
    "    FP.append(fp)\n",
    "    FN.append(fn)\n",
    "    TP.append(tp)\n",
    "    \n",
    "    \n",
    "    num_feat_min.append(len(features))"
   ]
  },
  {
   "cell_type": "code",
   "execution_count": 89,
   "metadata": {},
   "outputs": [],
   "source": [
    "# for f in features:\n",
    "#     model = RandomForestClassifier(max_features=f)\n",
    "#     score = cross_val_score(model, X, y).mean()\n",
    "#     print('A Random Forest Regressor with max features of: {} gets a score of {}'\n",
    "#           .format(f,score))\n",
    "#     scores.append(score)\n",
    "    \n",
    "# fig, ax = plt.subplots()\n",
    "# ax.plot(features, scores)"
   ]
  },
  {
   "cell_type": "code",
   "execution_count": 90,
   "metadata": {},
   "outputs": [],
   "source": [
    "# for f in features:\n",
    "#     model = RandomForestClassifier(max_features=f)\n",
    "#     score = cross_val_score(model, X, y).mean()\n",
    "#     print('A Random Forest Regressor with max features of: {} gets a score of {}'\n",
    "#           .format(f,score))\n",
    "#     scores.append(score)"
   ]
  },
  {
   "cell_type": "code",
   "execution_count": null,
   "metadata": {},
   "outputs": [],
   "source": []
  }
 ],
 "metadata": {
  "kernelspec": {
   "display_name": "Python 3",
   "language": "python",
   "name": "python3"
  },
  "language_info": {
   "codemirror_mode": {
    "name": "ipython",
    "version": 3
   },
   "file_extension": ".py",
   "mimetype": "text/x-python",
   "name": "python",
   "nbconvert_exporter": "python",
   "pygments_lexer": "ipython3",
   "version": "3.7.9"
  }
 },
 "nbformat": 4,
 "nbformat_minor": 4
}
