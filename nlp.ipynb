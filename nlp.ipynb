{
 "cells": [
  {
   "cell_type": "code",
   "execution_count": 1,
   "metadata": {},
   "outputs": [],
   "source": [
    "from functions import vectorize_y_ser"
   ]
  },
  {
   "cell_type": "code",
   "execution_count": 2,
   "metadata": {},
   "outputs": [],
   "source": [
    "import datetime"
   ]
  },
  {
   "cell_type": "code",
   "execution_count": 3,
   "metadata": {},
   "outputs": [],
   "source": [
    "import nltk\n",
    "import string"
   ]
  },
  {
   "cell_type": "code",
   "execution_count": 4,
   "metadata": {},
   "outputs": [],
   "source": [
    "import re"
   ]
  },
  {
   "cell_type": "code",
   "execution_count": 5,
   "metadata": {},
   "outputs": [],
   "source": [
    "import pickle"
   ]
  },
  {
   "cell_type": "code",
   "execution_count": 6,
   "metadata": {},
   "outputs": [],
   "source": [
    "import pandas as pd\n",
    "import numpy as np"
   ]
  },
  {
   "cell_type": "code",
   "execution_count": 7,
   "metadata": {},
   "outputs": [],
   "source": [
    "import matplotlib.pyplot as plt\n",
    "plt.style.use('fivethirtyeight')"
   ]
  },
  {
   "cell_type": "code",
   "execution_count": 8,
   "metadata": {},
   "outputs": [],
   "source": [
    "from sklearn.feature_extraction.text import CountVectorizer, TfidfVectorizer\n",
    "from sklearn.model_selection import train_test_split\n",
    "from sklearn.metrics import confusion_matrix, plot_confusion_matrix\n",
    "from sklearn.naive_bayes import MultinomialNB\n",
    "from sklearn.ensemble import RandomForestClassifier\n",
    "from sklearn.inspection import permutation_importance"
   ]
  },
  {
   "cell_type": "code",
   "execution_count": 9,
   "metadata": {},
   "outputs": [],
   "source": [
    "from collections import Counter"
   ]
  },
  {
   "cell_type": "code",
   "execution_count": 10,
   "metadata": {},
   "outputs": [],
   "source": [
    "from imblearn.under_sampling import RandomUnderSampler"
   ]
  },
  {
   "cell_type": "code",
   "execution_count": 11,
   "metadata": {},
   "outputs": [],
   "source": [
    "from nltk.stem.snowball import SnowballStemmer\n",
    "from nltk.stem.wordnet import WordNetLemmatizer\n",
    "from nltk.tokenize import word_tokenize\n",
    "from nltk.corpus import stopwords"
   ]
  },
  {
   "cell_type": "markdown",
   "metadata": {},
   "source": [
    "# NLP Pipeline \n",
    "\n",
    "![](images/pipeline-walkthrough1.png)\n",
    "\n",
    "Below is a to do list when converting text into vector form: \n",
    "\n",
    "**Clean text and Create a Bag of Words (BoW)**\n",
    ">1. Lowercase the text\n",
    "2. Tokenize \n",
    "3. Strip out punctuation or undesirable text\n",
    "4. Remove Stopwords \n",
    "5. Stemming or Lemmatizing\n",
    "6. Compute N-Grams\n",
    "7. Use this to create BoW\n",
    "\n",
    "**Vectorize BoW**\n",
    ">8. Term Frequencies\n",
    "9. Document Frequencies\n",
    "10. TF-IDF\n",
    "11. Normalize vectors\n",
    "\n",
    "Let's go through both what each of these steps are and how to do them in python with the following corpus of comments about data science...\n",
    " "
   ]
  },
  {
   "cell_type": "code",
   "execution_count": 12,
   "metadata": {},
   "outputs": [],
   "source": [
    "# function to vectorize the type_of_material series into a y target vector.\n",
    "def vectorize_y_ser(ser):\n",
    "    y = ser.copy()\n",
    "    y.replace({'Op-Ed': 1,'News': 0}, inplace=True)\n",
    "    return y"
   ]
  },
  {
   "cell_type": "code",
   "execution_count": 13,
   "metadata": {},
   "outputs": [],
   "source": [
    "#rate of correct predictions out of total predictions\n",
    "def metrics_(tn, fp, fn, tp):\n",
    "    accuracy = (tp + tn) / (tn + fn + tp + fp)\n",
    "    print(f'Accuracy: {round(accuracy, 2)}')\n",
    "    recall = (tp) / (tp + fn)\n",
    "    print(f'Recall: {round(recall, 2)}')\n",
    "    precision = (tp) / (tp + fp)\n",
    "    print(f'Precision: {round(precision, 2)}')\n",
    "    print(f'TN:{tn} FP:{fp} FN:{fn} TP:{tp}')\n",
    "    return (accuracy, recall, precision)"
   ]
  },
  {
   "cell_type": "code",
   "execution_count": 14,
   "metadata": {},
   "outputs": [],
   "source": [
    "#prints number of features, stop words and parameters for vectorizer\n",
    "def vectorizer_parameters(vectorizer):\n",
    "    #features\n",
    "    feat_names = vectorizer.get_feature_names()\n",
    "    num_feat = len(feat_names)\n",
    "    \n",
    "    #stop words\n",
    "    stop_words = vectorizer.stop_words_\n",
    "    num_stop = len(stop_words)\n",
    "\n",
    "    params = vectorizer.get_params()\n",
    "    \n",
    "    print(f'Number of features: {num_feat}, Numbers of stop words: {num_stop}')\n",
    "      \n",
    "    for key, val in params.items():\n",
    "        print(f'{key}: {val}')"
   ]
  },
  {
   "cell_type": "code",
   "execution_count": 15,
   "metadata": {},
   "outputs": [],
   "source": [
    "#function that removes string.punctuation w/out the '?'\n",
    "def punc_strip(document):\n",
    "    for char in document:\n",
    "        if char in '!\"#$%&\\'()*+—,-./:;<=>?@[\\\\]^_`{|}~”’“':\n",
    "            document = document.replace(char, \" \") \n",
    "    return document"
   ]
  },
  {
   "cell_type": "code",
   "execution_count": 16,
   "metadata": {},
   "outputs": [],
   "source": [
    "#combine print, type, text columns in the list\n",
    "def printed(file):\n",
    "    print_cols = ['_id','print_page','pub_date','keywords','type_of_material','lead_paragraph','text']    \n",
    "    df = pd.read_csv(file, usecols=print_cols, index_col='_id', low_memory=False)\n",
    "    df = df[df.print_page.isna() == False]\n",
    "    df = df[~df.text.isna() == True]\n",
    "    return df"
   ]
  },
  {
   "cell_type": "code",
   "execution_count": 17,
   "metadata": {},
   "outputs": [],
   "source": [
    "#returns articles w/ 'United States Politics and Government' as a keyword\n",
    "def return_pol_gov(row):\n",
    "    list_dict = eval(row.keywords)\n",
    "    for (dic) in (list_dict):\n",
    "        if dic.get('value') == 'United States Politics and Government':\n",
    "            return True"
   ]
  },
  {
   "cell_type": "code",
   "execution_count": 18,
   "metadata": {},
   "outputs": [],
   "source": [
    "def filter_keyword(df, keyword='United States Politics and Government'):\n",
    "    df[keyword] = df.apply(return_pol_gov, axis=1)\n",
    "    df = df[df[keyword] == True]\n",
    "    return df"
   ]
  },
  {
   "cell_type": "code",
   "execution_count": 19,
   "metadata": {},
   "outputs": [],
   "source": [
    "#returns shape of news and oped\n",
    "def oped_v_news(df):\n",
    "    df.type_of_material.hist()\n",
    "    news = sum(df.type_of_material == \"News\")\n",
    "    oped = sum(df.type_of_material == \"Op-Ed\")\n",
    "    print(f'News: {news} Oped: {oped}, Total: {oped+news}, Op-Ed {round(oped/(oped+news), 2)} of total')\n",
    "    #plt.savefig('img/oped_news_hist.png')"
   ]
  },
  {
   "cell_type": "code",
   "execution_count": 20,
   "metadata": {},
   "outputs": [],
   "source": [
    "#split article and return quote\n",
    "def return_quote(document):\n",
    "    article = []\n",
    "    quote_list = []\n",
    "    \n",
    "    open_quote = \"“\"\n",
    "    close_quote = \"”\"\n",
    "    \n",
    "    close_split = document.split(close_quote)\n",
    "    \n",
    "    for string in close_split:\n",
    "\n",
    "        quote = string.split(open_quote)\n",
    "        article.append(quote.pop(0))\n",
    "        quote_list += quote\n",
    "    \n",
    "    article = \" \".join(article)\n",
    "    quotation = \" \".join(quote_list)\n",
    "        \n",
    "    return(quotation)"
   ]
  },
  {
   "cell_type": "code",
   "execution_count": 21,
   "metadata": {},
   "outputs": [],
   "source": [
    "#split article and return quote\n",
    "def return_article(document):\n",
    "    article = []\n",
    "    quote_list = []\n",
    "    \n",
    "    open_quote = \"“\"\n",
    "    close_quote = \"”\"\n",
    "    \n",
    "    close_split = document.split(close_quote)\n",
    "    \n",
    "    for string in close_split:\n",
    "\n",
    "        quote = string.split(open_quote)\n",
    "        article.append(quote.pop(0))\n",
    "        quote_list += quote\n",
    "    \n",
    "    article = \" \".join(article)\n",
    "    quotation = \" \".join(quote_list)\n",
    "    \n",
    "    return(article)"
   ]
  },
  {
   "cell_type": "code",
   "execution_count": 22,
   "metadata": {},
   "outputs": [],
   "source": [
    "data = pd.read_csv('token_2010_2020.csv', index_col='_id')"
   ]
  },
  {
   "cell_type": "code",
   "execution_count": 23,
   "metadata": {},
   "outputs": [
    {
     "name": "stdout",
     "output_type": "stream",
     "text": [
      "CPU times: user 2.12 ms, sys: 405 µs, total: 2.52 ms\n",
      "Wall time: 2.54 ms\n"
     ]
    }
   ],
   "source": [
    "%%time\n",
    "df = data.copy()"
   ]
  },
  {
   "cell_type": "code",
   "execution_count": 24,
   "metadata": {},
   "outputs": [
    {
     "data": {
      "text/plain": [
       "(27461, 9)"
      ]
     },
     "execution_count": 24,
     "metadata": {},
     "output_type": "execute_result"
    }
   ],
   "source": [
    "df.shape"
   ]
  },
  {
   "cell_type": "code",
   "execution_count": 25,
   "metadata": {},
   "outputs": [],
   "source": [
    "df = filter_keyword(df)"
   ]
  },
  {
   "cell_type": "code",
   "execution_count": 26,
   "metadata": {},
   "outputs": [
    {
     "data": {
      "text/html": [
       "<div>\n",
       "<style scoped>\n",
       "    .dataframe tbody tr th:only-of-type {\n",
       "        vertical-align: middle;\n",
       "    }\n",
       "\n",
       "    .dataframe tbody tr th {\n",
       "        vertical-align: top;\n",
       "    }\n",
       "\n",
       "    .dataframe thead th {\n",
       "        text-align: right;\n",
       "    }\n",
       "</style>\n",
       "<table border=\"1\" class=\"dataframe\">\n",
       "  <thead>\n",
       "    <tr style=\"text-align: right;\">\n",
       "      <th></th>\n",
       "      <th>lead_paragraph</th>\n",
       "      <th>keywords</th>\n",
       "      <th>pub_date</th>\n",
       "      <th>type_of_material</th>\n",
       "      <th>print_page</th>\n",
       "      <th>text</th>\n",
       "      <th>United States Politics and Government</th>\n",
       "      <th>quote_list</th>\n",
       "      <th>keyword_list</th>\n",
       "    </tr>\n",
       "    <tr>\n",
       "      <th>_id</th>\n",
       "      <th></th>\n",
       "      <th></th>\n",
       "      <th></th>\n",
       "      <th></th>\n",
       "      <th></th>\n",
       "      <th></th>\n",
       "      <th></th>\n",
       "      <th></th>\n",
       "      <th></th>\n",
       "    </tr>\n",
       "  </thead>\n",
       "  <tbody>\n",
       "    <tr>\n",
       "      <th>nyt://article/f5d2e4a7-f89b-54da-9985-dd5fc704a51e</th>\n",
       "      <td>On the first Monday in May, the Department of ...</td>\n",
       "      <td>[{'name': 'persons', 'value': 'Barr, William P...</td>\n",
       "      <td>2020-06-01T09:00:11+0000</td>\n",
       "      <td>News</td>\n",
       "      <td>20.0</td>\n",
       "      <td>as you drew closer to the fifth floor where  ...</td>\n",
       "      <td>True</td>\n",
       "      <td>[[]]</td>\n",
       "      <td>['', 'Barr,', 'William', 'P', 'Justice', 'Depa...</td>\n",
       "    </tr>\n",
       "    <tr>\n",
       "      <th>nyt://article/0fa09b77-5faa-588f-9d4a-39a34748c7f3</th>\n",
       "      <td>Under normal circumstances, Joseph R. Biden Jr...</td>\n",
       "      <td>[{'name': 'subject', 'value': 'Presidential El...</td>\n",
       "      <td>2020-06-01T09:01:09+0000</td>\n",
       "      <td>News</td>\n",
       "      <td>14.0</td>\n",
       "      <td>at a moment that is emerging as a critical te...</td>\n",
       "      <td>True</td>\n",
       "      <td>[[]]</td>\n",
       "      <td>['', 'Presidential', 'Election', 'of', '2020',...</td>\n",
       "    </tr>\n",
       "    <tr>\n",
       "      <th>nyt://article/6b274a69-c82b-5b68-bada-ec1467440ddf</th>\n",
       "      <td>The Supreme Court on Monday unanimously upheld...</td>\n",
       "      <td>[{'name': 'organizations', 'value': 'Supreme C...</td>\n",
       "      <td>2020-06-01T16:38:59+0000</td>\n",
       "      <td>News</td>\n",
       "      <td>15.0</td>\n",
       "      <td>court ruled that members of a government boar...</td>\n",
       "      <td>True</td>\n",
       "      <td>[[]]</td>\n",
       "      <td>['', 'Supreme', 'Court', '(US)', 'Puerto', 'Ri...</td>\n",
       "    </tr>\n",
       "    <tr>\n",
       "      <th>nyt://article/8867f9cb-5914-5731-90b9-e1f1781fa568</th>\n",
       "      <td>An international team of scientists, including...</td>\n",
       "      <td>[{'name': 'subject', 'value': 'Coronavirus (20...</td>\n",
       "      <td>2020-06-01T16:42:18+0000</td>\n",
       "      <td>News</td>\n",
       "      <td>6.0</td>\n",
       "      <td>their report posted online  they also point t...</td>\n",
       "      <td>True</td>\n",
       "      <td>[[]]</td>\n",
       "      <td>['', 'Coronavirus', '(2019-nCoV)', 'Bats', 'SA...</td>\n",
       "    </tr>\n",
       "    <tr>\n",
       "      <th>nyt://article/fb5f6e07-033e-5618-967e-fbc1ebcfd61c</th>\n",
       "      <td>WASHINGTON — President Trump on Monday angrily...</td>\n",
       "      <td>[{'name': 'subject', 'value': 'George Floyd Pr...</td>\n",
       "      <td>2020-06-01T17:20:54+0000</td>\n",
       "      <td>News</td>\n",
       "      <td>1.0</td>\n",
       "      <td>said in brief remarks in the    the presiden...</td>\n",
       "      <td>True</td>\n",
       "      <td>[[]]</td>\n",
       "      <td>['', 'George', 'Floyd', 'Protests', '(2020)', ...</td>\n",
       "    </tr>\n",
       "  </tbody>\n",
       "</table>\n",
       "</div>"
      ],
      "text/plain": [
       "                                                                                       lead_paragraph  \\\n",
       "_id                                                                                                     \n",
       "nyt://article/f5d2e4a7-f89b-54da-9985-dd5fc704a51e  On the first Monday in May, the Department of ...   \n",
       "nyt://article/0fa09b77-5faa-588f-9d4a-39a34748c7f3  Under normal circumstances, Joseph R. Biden Jr...   \n",
       "nyt://article/6b274a69-c82b-5b68-bada-ec1467440ddf  The Supreme Court on Monday unanimously upheld...   \n",
       "nyt://article/8867f9cb-5914-5731-90b9-e1f1781fa568  An international team of scientists, including...   \n",
       "nyt://article/fb5f6e07-033e-5618-967e-fbc1ebcfd61c  WASHINGTON — President Trump on Monday angrily...   \n",
       "\n",
       "                                                                                             keywords  \\\n",
       "_id                                                                                                     \n",
       "nyt://article/f5d2e4a7-f89b-54da-9985-dd5fc704a51e  [{'name': 'persons', 'value': 'Barr, William P...   \n",
       "nyt://article/0fa09b77-5faa-588f-9d4a-39a34748c7f3  [{'name': 'subject', 'value': 'Presidential El...   \n",
       "nyt://article/6b274a69-c82b-5b68-bada-ec1467440ddf  [{'name': 'organizations', 'value': 'Supreme C...   \n",
       "nyt://article/8867f9cb-5914-5731-90b9-e1f1781fa568  [{'name': 'subject', 'value': 'Coronavirus (20...   \n",
       "nyt://article/fb5f6e07-033e-5618-967e-fbc1ebcfd61c  [{'name': 'subject', 'value': 'George Floyd Pr...   \n",
       "\n",
       "                                                                    pub_date  \\\n",
       "_id                                                                            \n",
       "nyt://article/f5d2e4a7-f89b-54da-9985-dd5fc704a51e  2020-06-01T09:00:11+0000   \n",
       "nyt://article/0fa09b77-5faa-588f-9d4a-39a34748c7f3  2020-06-01T09:01:09+0000   \n",
       "nyt://article/6b274a69-c82b-5b68-bada-ec1467440ddf  2020-06-01T16:38:59+0000   \n",
       "nyt://article/8867f9cb-5914-5731-90b9-e1f1781fa568  2020-06-01T16:42:18+0000   \n",
       "nyt://article/fb5f6e07-033e-5618-967e-fbc1ebcfd61c  2020-06-01T17:20:54+0000   \n",
       "\n",
       "                                                   type_of_material  \\\n",
       "_id                                                                   \n",
       "nyt://article/f5d2e4a7-f89b-54da-9985-dd5fc704a51e             News   \n",
       "nyt://article/0fa09b77-5faa-588f-9d4a-39a34748c7f3             News   \n",
       "nyt://article/6b274a69-c82b-5b68-bada-ec1467440ddf             News   \n",
       "nyt://article/8867f9cb-5914-5731-90b9-e1f1781fa568             News   \n",
       "nyt://article/fb5f6e07-033e-5618-967e-fbc1ebcfd61c             News   \n",
       "\n",
       "                                                   print_page  \\\n",
       "_id                                                             \n",
       "nyt://article/f5d2e4a7-f89b-54da-9985-dd5fc704a51e       20.0   \n",
       "nyt://article/0fa09b77-5faa-588f-9d4a-39a34748c7f3       14.0   \n",
       "nyt://article/6b274a69-c82b-5b68-bada-ec1467440ddf       15.0   \n",
       "nyt://article/8867f9cb-5914-5731-90b9-e1f1781fa568        6.0   \n",
       "nyt://article/fb5f6e07-033e-5618-967e-fbc1ebcfd61c        1.0   \n",
       "\n",
       "                                                                                                 text  \\\n",
       "_id                                                                                                     \n",
       "nyt://article/f5d2e4a7-f89b-54da-9985-dd5fc704a51e   as you drew closer to the fifth floor where  ...   \n",
       "nyt://article/0fa09b77-5faa-588f-9d4a-39a34748c7f3   at a moment that is emerging as a critical te...   \n",
       "nyt://article/6b274a69-c82b-5b68-bada-ec1467440ddf   court ruled that members of a government boar...   \n",
       "nyt://article/8867f9cb-5914-5731-90b9-e1f1781fa568   their report posted online  they also point t...   \n",
       "nyt://article/fb5f6e07-033e-5618-967e-fbc1ebcfd61c    said in brief remarks in the    the presiden...   \n",
       "\n",
       "                                                    United States Politics and Government  \\\n",
       "_id                                                                                         \n",
       "nyt://article/f5d2e4a7-f89b-54da-9985-dd5fc704a51e                                   True   \n",
       "nyt://article/0fa09b77-5faa-588f-9d4a-39a34748c7f3                                   True   \n",
       "nyt://article/6b274a69-c82b-5b68-bada-ec1467440ddf                                   True   \n",
       "nyt://article/8867f9cb-5914-5731-90b9-e1f1781fa568                                   True   \n",
       "nyt://article/fb5f6e07-033e-5618-967e-fbc1ebcfd61c                                   True   \n",
       "\n",
       "                                                   quote_list  \\\n",
       "_id                                                             \n",
       "nyt://article/f5d2e4a7-f89b-54da-9985-dd5fc704a51e       [[]]   \n",
       "nyt://article/0fa09b77-5faa-588f-9d4a-39a34748c7f3       [[]]   \n",
       "nyt://article/6b274a69-c82b-5b68-bada-ec1467440ddf       [[]]   \n",
       "nyt://article/8867f9cb-5914-5731-90b9-e1f1781fa568       [[]]   \n",
       "nyt://article/fb5f6e07-033e-5618-967e-fbc1ebcfd61c       [[]]   \n",
       "\n",
       "                                                                                         keyword_list  \n",
       "_id                                                                                                    \n",
       "nyt://article/f5d2e4a7-f89b-54da-9985-dd5fc704a51e  ['', 'Barr,', 'William', 'P', 'Justice', 'Depa...  \n",
       "nyt://article/0fa09b77-5faa-588f-9d4a-39a34748c7f3  ['', 'Presidential', 'Election', 'of', '2020',...  \n",
       "nyt://article/6b274a69-c82b-5b68-bada-ec1467440ddf  ['', 'Supreme', 'Court', '(US)', 'Puerto', 'Ri...  \n",
       "nyt://article/8867f9cb-5914-5731-90b9-e1f1781fa568  ['', 'Coronavirus', '(2019-nCoV)', 'Bats', 'SA...  \n",
       "nyt://article/fb5f6e07-033e-5618-967e-fbc1ebcfd61c  ['', 'George', 'Floyd', 'Protests', '(2020)', ...  "
      ]
     },
     "execution_count": 26,
     "metadata": {},
     "output_type": "execute_result"
    }
   ],
   "source": [
    "df.head()"
   ]
  },
  {
   "cell_type": "code",
   "execution_count": 27,
   "metadata": {},
   "outputs": [
    {
     "data": {
      "text/plain": [
       "' as you drew closer to the fifth floor where      works out of a suite of offices things started to loosen up  assistant outside his conference room wore a mask but the other did not  the middle of the room with its oil paintings and vaulted ceiling the long central table had fewer chairs than you might expect and an appropriate distance between them  past the next door inside the attorney generals smaller personal office  himself was also mask-free  around to greet his visitors he moved into the middle of a wide circle of four chairs arranged in front of his desk  nearing the end of his career  did not take his current job for the glory  had already been attorney general once in      administration winning him a reputation as a wise old man a reputation that in the eyes of some his tenure in the  administration has tarnished  is he doing it for the money  time in corporate  earned him tens of millions of dollars in compensation and stock options and his bearing is still that of a  500 counsel cozy manners wrapped around a harder core  said though  had been asked to bring one  tone was jokingly conspiratorial as though he were making an exception for an old friend  is sometimes described as an adjective that also captures his professorial manner  speaking voice is very soft just loud enough to be consistently perceptible his accent is patrician with a trace of old    personality breaks through mostly in frequent moments of humor which range from clubby chuckles to tension-breaking eruptions an aide added  crossed the circle of chairs grinning away any awkwardness  bumped elbows he said in the same joshing tone  greater risk of course was that  might infect him given his cabinet-level access to regular coronavirus testing the difference in our ages  regular meetings with the president and the mostly one-way prophylactic value of masks in general his aide suggested again  took it off   the whole country was doing the same dance   for   and  had recommended that all  wear masks at meetings like this one   was doing something else and so for the time being was the   staff     having been wrong-footed after taking the no-mask custom to the   now seemed to be making it up as he went along  weeks into the global pandemic a charitable observer might still have described the administrations response as improvisational or misguided as opposed to willfully cavalier  things were about to get worse  day  projection of the total   death toll 75 000 to 100 000 which was given the previous evening at the   would be challenged by an internal  document predicting that the number of daily deaths would rise into   reckless faith of the presidents inner circle would be challenged when two members of the   staff tested positive for the coronavirus  and  did not know it then but we were enjoying the tail end of the  administrations libertine phase   27 the official death toll would surpass 100 000 the upper bound of what  predicted on  3  has to assume that  is keeping a close eye on the 70-year-old  right now  powers of the attorney general as the executive branchs rule interpreter and law enforcer peak during moments of social unrest  knows these powers well  led the   through the   riots of 1992 when  invoked the   and deployed thousands of soldiers and    said the   riots were gang activity and not    is a stalwart believer in the righteousness of the police those communities that fail to give the police he said in a  speech  summer  dropped the departments federal case against the   police officer who killed   during an arrest in 2014  role also gives him influence over three major political fronts heading into   there is  fight to open the nations economy which could depend in no small part on  interpretation of federal authority and willingness to twist governors arms  there are the mechanics of the vote itself a topic of great partisan controversy about which the   has shown a growing willingness to weigh in  there is the ongoing investigation led by   the   attorney in  into the origins of the    s  probe in the run-up to the 2016 election the findings of which are widely expected to be announced before   the election now on the horizon  defended his record in two recent interviews  critics charge that since becoming attorney general he has repeatedly steered the   toward decisions that serve  interests particularly around the investigations carried out by the    and     into  influence over the 2016 election  insists that he acts independently even as the president often undermines that claim by tweeting out apparent instructions for what his attorney general ought to do  the time of our first meeting in his office  had already started looking at how the federal government might intervene in state-ordered coronavirus shutdowns   accused  governors of denying citizens their and encouraged residents to   and   zeroed in on the nuts and bolts of the legal case for  two small churches filed lawsuits seeking to hold live services despite state or local regulations the   made filings in support of their   rights  a signed memorandum sent to the departments 93   attorneys  suggested that the federal governments interest went beyond protecting live worship  included  weeks before our interview  bragged that he held authority over the states  went against the prevailing view that the federal government while free to enforce a variety of measures during its own emergencies is more constrained in its authority to compel state or local governments to lift theirs   asked  what  meant he responded by laying out a general view of the presidents pandemic-related powers he said  answer sounded so dry and routine that  failed to ask what he meant by  broadly enough  interpretation could sanitize and legalize  claim to authority  ballots are another domain where  had been staking out turf  called the distribution of ballot applications in  and warned that voting by mail  a second interview on  20 when  asked who was going to referee the 2020 election  replied  said his departments role would be limited as the power belongs to the states and their electors  when  brought up  tweet about  which he posted that same morning  quickly seized the opportunity to float a new theory that foreign governments might conspire to mail in fake ballots he cautioned offering no evidence to substantiate that this was a real possibility  he called it and added  many election-related issues the  of  has to defer to the states  in the case of  investigation of the 2016 investigators or the as  has so often called it  has a greater degree of control  years  has been saying that he was treated unfairly in 2016 particularly at the hands of   then the    director  who is open about his agreement with this premise is now in the process of nailing down the details  wont rule out the possibility that  findings could undermine a key consensus about 2016 the well-established conclusion that  interference sought to favor  a finding of the    of 2017 that was later underscored by  the special counsel and verified by the   intelligence committee   told me was looking for  paused glanced down and fidgeted for a moment with his necktie before going on  seems aware at times that he is gambling with his reputation he said with a matter-of-fact sigh in a  interview last year  we spoke in his office he was critical of what he called  tendency to around himself he said he added  willingness to weather controversy on the presidents behalf has not only caused consternation among some former friends and allies it has given rise to considerable speculation about his motives  would a grandfather in semiretirement who had already reached the pinnacle of his profession sign up for this  wonder if  might still be hungry for influence having been attorney general for only 17 months the first time  wonder whether he spent too much time watching   during the  years and came out the other side an ideologue  there are others who look at  support for  and see more consistency than contradiction  they say hasnt changed his values  he has found in  the perfect vehicle with which to move them forward says   who led the   civil division during  first tour and then succeeded him serving as acting attorney general during the first three months of   presidency  far as what  is hoping to do with his canvas  says he is committed to the and premise that  isnt too far away from what  himself articulated in a 2019 speech at the  of     view piety lay at the heart of the founders model of self-government which depended on religious values to restrain human passions  said  flows from through to form  and experience merely serve to confirm the infallible divine law  law he said is under threat from including who call on the state  their feet  places mental illness drug overdoses violence and suicide  these things he said are getting worse  are  started his career in the    as an analyst working on  and other matters   asked about the origin of his interest in the intelligence service he responded indirectly with an anecdote about telling his high school guidance counselor that he wanted to be    director  was tempting to link  career and conservatism with his father   who served in the  of   the    s forerunner during     1940 as an undergraduate at   wrote a controversial editorial for    defending a speech by the university president that called upon the faculty to support the  war effort he wrote  tempting as it was to see the son as part of some epigenetic chain of old-line conservatism  cautioned me not to make such assumptions  parents met at the  of  in the early 1940s  who already spoke three languages had been sent there by the  to learn   spotted   a young  woman who had a masters degree in  from  through an open doorway teaching  to undergraduates and was smitten  took some courting  thought  was a  told me and his background was also an issue he was raised without much religion but his father  grandfather was born a secular   joining the   gave his religion as    converted to  after he and  wed   26-page    file obtained from the   gives a detailed account of his transition from the military to intelligence work  1944 he shipped off to   suffered from hay fever and 20/200 vision much of his time overseas was spent hospitalized with allergies  next year he was assigned to the     interviewer found him to be  late 1945 he moved to  to begin work at the   and   which would become the   in-house intelligence bureau  the couples second son was born in 1950  age 8 he had taken up the bagpipes which would become a lifelong hobby  attended the    in   where his classmates remembered his conservatism the delight he took in making an argument and his sense of humor  yearbook praised him as an  involvement with campus politics continued at   joined the   which organized against student occupiers who had taken over the campus to protest the    was known as a feeder school for the     average of 14 seniors went to the agency each year from 1960 through 1966 according to a 1967 article from the student newspaper    which reported that a majority came in not through the colleges  of   and  but perhaps a reference to the private foundations and student organizations that were receiving    funding at that time  the late 1960s this recruiting drew campus protests which eventually broadened to take on other issues beyond the war  the morning of  24 1968 student demonstrators many of them affiliated with  for a   stormed    and took over the offices of  president  protesters were angry that  was building a gymnasium nearby that would have two separate entrances one for the school community and one for neighborhood residents and also about the universitys connection with a think tank that did research for the   was on the other side standing shoulder to shoulder with conservatives and athletes to form a blockade around the library he told me  smiled to himself  asked if he was in the fistfight  adjusted the bridge of his glasses and glanced down he said letting out a big laugh  later added  interned at the    in the summers of 1971 and 1972  1973 after completing his graduate degree in government and  studies he married   whom he met at a fraternity party  next day the couple drove to  and  began a permanent job at the    the day after that  mothers memories of the   he said had instilled in him a desire for career stability so he began taking law courses at night  then he had transferred to the    s  of   says   who worked down the hall from  in the general counsels office where  would eventually rise to become the acting head  new job put  on the    s seventh floor not far from the directors office and near the center of what was shaping up to be a historic fight with   the aftermath of    the presidency was endowed with vast new powers mass surveillance covert operations proxy wars and nuclear weapons  young    spurred on by the imperative to win the   abused its own new powers to an astonishing degree  a statutory ban on its involvement in either or the    surveilled and surreptitiously engaged with countless  citizens  agency reported to the president and often took action based on informal conversations without ever committing much to paper  around the agencys transgressions held until the 1970s when antiwar sentiment began to peak  scandals around the   1971 and the  break-in 1972 culminating in the long-anticipated  defeat convinced much of the public that the federal government should no longer be given the benefit of the doubt  1973   the longtime    director ordered the destruction of internal    documents regarding  an experimental mind-control program  later recalled  1974 the journalist   who had already broken the story of the   massacre in  revealed that the    had developed a sprawling domestic-spying operation keeping dossiers on thousands of  citizens  created two special committees a  committee led by    and a  committee that would eventually be led by    to investigate  years the    would be consumed with negotiations over the limits of what  could oversee  told me in his office  asked if there had indeed been excesses  poker face came to life  grinned turned his palms out and shrugged he said  burst out laughing  he pulled back to give the matter some more thought adjusting his glasses as he settled back into seriousness he said  battle between conservative hard-liners and a   would continue through the late    the    there was a sense of victimization   the agencys first presidentially appointed inspector general told me  1976 the job of defending the agency in public passed to the new director     who had served as a special   envoy to   at least one occasion  sat behind  during a congressional hearing giving him legal advice  wound up making oversight a permanent thorn in the    s side by establishing two intelligence oversight committees    drafted two letters each signed by  asking  if the    could resume the routine destruction of documents  request was denied says   now a law professor at the   of  and  at   who dealt with the    as legal counsel of the      than accept post-Watergate congressional limitations the hard-liners decamped from the    and became floaters bureaucratic nomads who sought out underused and low-visibility pockets of the federal government from which to wage their war over executive power  largest battle was fought around the  affair  covert group operating out of the    had used money gained by selling arms to  to fund anti-Communist rebels in   flouting a congressional prohibition  of the operation was organized by     of the     of the  plotters were dragged into the public eye and indicted by a special prosecutor another post-Watergate innovation  pointing to the involvement of    and       was inconclusive  hard-liners felt that foreign policy and covert operations were an exclusively presidential domain is how  first    director   put it in an interview with the political scientist     this time conservative thinkers of  generation began to coalesce around an idea they called  presidents right to his powers under   of the  they argued was undivided and absolute  reforms independent prosecutors to investigate high-level wrongdoing requirements to get warrants for national-security wiretaps and more were unconstitutional incursions into the presidents rightful powers   1977  left the    upon his graduation from      eventually landing as a policy lawyer in the     running for president took  to the 1988    to help vet potential running mates and after winning the election appointed him to lead the    of   where his duties included determining the legal limits of    activities  who was still at the    recalls that  kept his independence from the    of  opinions on classified    operations while a third operation  says was rejected entirely  of  public opinions though effectively authorized the invasion of   as acting attorney general he impressed  further by defusing a delicate prison-hostage crisis  attorney general in 1992  signed off on a mass-surveillance program that collected billions of call records for the     the end of  presidency he successfully pushed for a pardon of six  defendants     a former    director says  reminds him of   the former    lawyer who became     chief of staff and played a major role in pushing the limits of conduct including torture that the   and the    determined to be legal in the aftermath of the  11 attacks   says  intellect and experience made him appealing to the private sector  eight years he served as general counsel at  at a time when the company was working out secret arrangements with the    to turn over its customers data   2001 a legal trade publication noted  1 5 million salary and compared him to a for the depth of his connections in both political  and corporate    that time he said he had no interest in returning to officialdom he said  the 2016 presidential election  was a player in  politics and active in conservative  causes  gave nearly 50 000 to a  affiliated with    annual holiday parties traditional  cèilidhs with music and singers drew hundreds whose friendships he had maintained over the years  wrote and sold a screenplay about     spent time traveling abroad and hunting birds  three daughters all became accomplished lawyers working on   or as federal prosecutors  eldest  moved to the   financial-crimes unit after  nomination as attorney general one of  sons-in-law left the   for the      year shortly after his   speech  gave a second major address at the annual convention of the   an organization of conservative lawyers founded during the  administration  subject was executive power   criticized progressives this time for making politics  presidency in his view handled  of the core function of the presidency was the ability to act swiftly and without constraint but this capability had been diminished by the other branches since   had burdened the president with oversight while the courts were interfering with  travel ban on certain countries and his termination of     program for young immigrants  seemed to suggest that when it comes to foreign policy the only legitimate check on presidential behavior is the next election  later this argument would become the foundation of  impeachment defense   5 2018  attended     funeral  waiting in line for the shuttle bus that would take him to    he and his wife ran into a friend    who was    counsel during the  years  two men spent most of the day together  sounded out  about the attorney-general job  knew from following the news that  was under consideration but  never tipped his hand about how close he was to being tapped and  never asked  that week when  announced  nomination  was not surprised under   says  the time of his nomination  supporters presented him as a trustworthy and sensible conservative a known quantity within the  establishment who would restrain  worst impulses   called him   a legal commentator who is now one of  harshest critics tweeted at the time that he had been under  and that his confirmation would be  the confirmation hearing    of  the ranking  on the   questioned  at length about a memorandum he wrote to the administration the previous summer outlining why he believed that  had no legal right to investigate  for obstruction of justice  president  argued has investigations and can on individual cases including those that touch on his political or financial interests  wrote  enforcement he argued was a power exclusively held by the president because  the hearing  seemed to say that he did not believe the unitary executives powers to be infinite     a   asked if it would be lawful for a president to trade a pardon for a promise not to incriminate him  answered that such an exchange would be a crime  also mentioned his long friendship with   wife attends the same  study as  wife  attended the weddings of two of  daughters  was confirmed by a vote of 54 to 45  had barely served one month as attorney general when his friendship with  was tested by the special prosecutors delivery of his report on the afternoon of   22   account then went dark for nearly 40 hours    sent a letter to  that he would later describe as giving  and  feed came back to life he tweeted  his first public comments that same day  said the words three times he added  tweet  letter and  report said three different things   nor  exonerated   quoted  own words that his complicated finding on obstruction the president   omitted  conclusions that  interference sought to favor  that  and his campaign welcomed the interference and believed they would benefit from it and that the and between  and the campaign were substantial even though the evidence  was able to gather fell short of a criminal conspiracy  fired off two letters complaining that  had misrepresented his work  the second letter dated  27 he asked  to immediately release the reports introductions and executive summaries  the public would not get to read  work until  18 when  released a redacted version of the full report  doing so  gave a news conference in which he tilted further toward declaring  innocent something  bent over backward not to do  said of   distortions drew wide criticism  were also frustrated by the reports content  lacked the thunderous revelations about  that had long been promised by  opponents and it suffered from legalistic inconclusiveness on the most fundamental questions  having been given a chance to put the 2016 election to bed for good had carefully avoided doing so  hopes for the promised collusion bombshell now turned to the unredacted version of the  report which  refused to give them  an echo of his    work during the   years the    has taken a very hard line regarding what information  and the courts are entitled to get from the    has fought in court against the release of  tax returns argued that  did not need to see the  whistle-blowers complaint because it was not a matter of and has challenged congressional requests for  secret grand-jury materials   refused to turn over the fully unredacted  report to the    citing executive privilege the committee voted to hold him in contempt   chairman    of   claimed that this was the beginning of a  seemed untroubled he reportedly quipped to   at an event a few days later  concerns about  handling of  investigation have not been confined to      of the     for the  of  a    appointee recently criticized  and questioned whether  his first meeting with   in 2017  later recalled in his confirmation hearing he told  that  the end he was half right  said in one of our interviews  would have been  2019 more than a year ago  continued  asked if they still saw each other at  study  replied  general are chosen by the president no law prohibits them from doing the presidents bidding  presidents have occasionally asked the attorney general to intervene in individual prosecutions       attorney general went much further helping to plan the  burglary and then working to cover it up  the   guidelines do enjoin prosecutors not to comment about ongoing investigations something  does regularly  also caution that legal judgments and that the department must respect   of this has stopped  from overruling his subordinates to the benefit of  friends and associates most notably    longtime political mentor and   his former national security adviser  both cases  has tweeted about what he sees as the unfairness of their legal troubles and the   has subsequently pushed for leniency  has repeatedly said that  has never asked him to do anything in a criminal case he said in an interview with    the departments interventions on behalf of  and  have raised questions about the supposed  firewall   who led the  of   under    told   in   has said he doesnt pay attention to  tweets and doesnt take seriously the ones he is made aware of says   friend and former colleague   the former head of  civil rights division at the department articulated a prevailing view of  among  telling me that the attorney general has  says  interventions on behalf of  associates have far-reaching consequences she says   prosecutors recommended that  be sentenced to seven to nine years in prison for witness tampering and other crimes  following day the   filed a second revised sentencing memo asking that  sentence be reduced  to 108 months the memo argued given   the same day the department revised its sentencing recommendation all four of the prosecutors responsible for the case announced their withdrawal    left the department entirely  wrote later in an op-ed in       said the  prosecutors  tweeted out congratulations to  for  pushed back in the  interview insisting that he reached the  decision independently he said adding  post-Mueller case that has arguably received the most attention among  supporters is that of  the lieutenant general who briefly served as  national security adviser  dueling narratives around the  transition crystallize around  and the question of whether he or those who investigated him were in the wrong  addition to drawing scrutiny for his  contacts  initially failed to report as legally required that his company was effectively on the payroll of the  government during the 2016 campaign  himself tried and failed to talk  into dropping him  of  own problems hinged on his asking  if he could to dropping the  investigation  adversaries consider  to be a loose cannon and possible  pawn who needed to be rooted out  supporters depict him as the second coming of   a good soldier who was martyred in public for his loyalty to the executive   4 the day of my first interview with   was still awaiting sentencing having pleaded guilty to lying to the     time to time  had been tweeting about the  case in ways that seemed to cross the line that  had drawn about public comments from the   about matters pending before the    said  had been victimized by the as   asked  in light of his statement on   whether these were the kind of tweets that made his job  said  had recently been tweeting about   said  replied  asked if he would like to see them  said  handed  a printout of an  29  tweet  read  said with cool indifference  asked how it was that  supposed antagonists could be punished without involvement from the department  asked referring to the particular case that was now before     had found the right hair to split and he split it so cleanly and decisively that  couldnt say this wasnt his position from the beginning  tweet  said was nothing new  he said  days later on the afternoon of  7 the   filed a motion to dismiss its own prosecution of   government argued that  false statements were not to the investigation of  because the investigation was itself unjustified  argument relied in part on the contents of handwritten    notes that had been turned over to  attorneys by the department and released to the public by mutual agreement  of the prosecutors assigned to the case immediately withdrew  few days later  decided he wouldnt rule on whether to accept the departments motion until he had heard from friends of the court and a special counsel  lawyers appealed asking a higher court to force the judges hand  the department took  side  took to  celebrating  definitive  11  history of the 2016 election remains unwritten though not for lack of trying  addition to the  report and voluminous criminal indictments we have the    the  report by the   inspector general   and four volumes of the  intelligence committees report a fifth volume of which is on the way  major episodes of the story may now seem like familiar terrain to those who have kept up and a hopeless mess to everyone else  zoom out a bit and the stakes could not be higher  of  critics like    of  the  chairman of the    and    director of national intelligence go further than saying that the  put a thumb on the scale for   have suggested that the extra boost was decisive that  would not have been elected in 2016 but for  interference  crucial legacy of 2016 is that the question of  legitimacy was never settled  without any consensus on what happened in 2016 the rules of the road for 2020 are up in the air  first armed with the powers of law enforcement and presidential access to classified material  is getting ready to roll out his account of 2016   promises he most likely has in mind the ongoing investigation by   and its long-expected report although it is also possible that  public work product will take the form of indictments or perhaps nothing at all  who assigned  the task of investigating the  probe in  last year and met with him several times immediately after the conclusion of  investigation is overseeing  work and briefs  on his findings regularly  on  public statements we can see the rough contours of  findings beginning to take shape  governments conduct during the  transition  has said was  of  campaign amounted to  there was the all-important question of whether the    was justified in opening the initial   investigation into the  campaigns  ties  ordinary circumstances   prosecutors do not comment on anything connected to an ongoing investigation but on the day that  released his report both  and  decided to do just that     s interest in   said was based and  said in his own statement  had found that the investigation was justified so these sounded like sweeping words of dissent  over the coming months as attention drifted elsewhere they shrank  the time  sat down with  the only dispute with  hed voiced was whether the    had enough evidence to open a full investigation  and  believe that there was only enough to open a preliminary investigation not a full one  our first interview  mentioned the dossier of salacious anti-Trump claims that had been gathered and circulated by   a former  intelligence agent who was working indirectly for the  campaign  possibility that the  government intentionally seeded the dossier with misinformation was one of the issues  ignored and  was looking at  said  had  gone back and looked at the investigative steps taken as   accelerated he continued  had done that but unlike  and  he had no access to the    the    and the foreign governments that were involved  facilitate what later became a criminal investigation  ordered the heads of the intelligence agencies to cooperate with   delegated to  the power to order the declassification of secret documents  has spoken with intelligence officials from   and  to reportedly solicit information that could help   the case of  where  and  met with political leaders and intelligence chiefs in person his visit provoked concern among   diplomats who told   that  circumvented protocols in setting up the trip    of  who is the ranking  on the   and helped write its five-volume report said there were about  trips he said   a former colleague of  from the     years said he thought  could come back with something more  investigation he told me  investigation is not the only means through which  decisions could affect the election  the    wants to open a criminal investigation into either campaign it will first need  personal approval  has established a special to deal with materials that    says he has obtained from  sources which  has claimed implicate   the presumptive  presidential nominee  the interview  did not dispute the notion that the  government had interfered in 2016 but he made it sound as though the assumption that it favored  would be coming under some pressure  also would expect  to play a role in deterring and punishing foreign interference in the 2020 election but that could get complicated  camp continues to deny the intelligence communitys consensus view one strongly reiterated by  and the  intelligence committee that the  favored  over    including  on the    claim to have unreleased evidence that points the other way  on what  told me  intentions will most likely emerge as the key retrospective battlegrounds as  work continues and the election draws closer  said  what  did not address directly was the fourth volume of the report from the  intelligence committee  report reviewed much of the same intelligence underlying the     affirmed that  pro-Trump position and     direct involvement were supported by     s disagreement was  the committees groundbreaking 2012   the fourth volume was unanimously approved by a bipartisan vote of the  committee said    a  from   and the chairman of the committee  for his part dismissed  investigation as he told me  brought up the  investigation again in my last interview with  on  20  fifth floor of   headquarters now felt different some older lawyerly looking men walking around wore masks  younger men in suits with lapel pins who were most likely security did not  himself still wore no mask but there were no more polite entreaties for visitors to take theirs off  could see two crumpled blue surgical masks lying amid the papers on  desk  disarming familiarity  sat down on a sofa and offered me my in a tufted leather chair  then  had seized on the meme accusing the former president and  of  asked what crime he thought they were guilty of  declined to answer  a news conference two days before  went to see him  was asked indirectly if  investigation might lead to criminal charges being filed against  or  he said  that same day  asked about  statement replied  went on  then said he had that  and  were in what he now called a  to whether or not it was criminal he said   office two days later  brought up how  seemed to have heard only what he wanted to hear that  prediction about not prosecuting the former president was only valid  said  shouldnt read too much into those words he said  he realized it or not the line  had drawn at the news conference was getting blurrier with every word just as  had hoped  went on  pulled back from the conversation and thought for a moment  keeping tabs on  investigation for more than a year  did not think it was likely that he would have to prosecute a former president  neither at that moment was he willing to rule it out  made this position sound reasonable even as it served to support the unsupported theory that the president was floating at the time  the end the substance of  findings might not matter  he turns up will become a major theme of  2020 campaign the less time there is before an election the greater political impact of even the smallest apparent revelation   needed from  was the glimmer of a possibility a slight shadow of official uncertainty in which his wild theories could flourish  for now  was giving him that  much more he would give the president before  it was hard to say'"
      ]
     },
     "execution_count": 27,
     "metadata": {},
     "output_type": "execute_result"
    }
   ],
   "source": [
    "df.text.iloc[0]"
   ]
  },
  {
   "cell_type": "code",
   "execution_count": 28,
   "metadata": {},
   "outputs": [
    {
     "data": {
      "text/plain": [
       "lead_paragraph                           On the first Monday in May, the Department of ...\n",
       "keywords                                 [{'name': 'persons', 'value': 'Barr, William P...\n",
       "pub_date                                                          2020-06-01T09:00:11+0000\n",
       "type_of_material                                                                      News\n",
       "print_page                                                                            20.0\n",
       "text                                      as you drew closer to the fifth floor where  ...\n",
       "United States Politics and Government                                                 True\n",
       "quote_list                                                                            [[]]\n",
       "keyword_list                             ['', 'Barr,', 'William', 'P', 'Justice', 'Depa...\n",
       "Name: nyt://article/f5d2e4a7-f89b-54da-9985-dd5fc704a51e, dtype: object"
      ]
     },
     "execution_count": 28,
     "metadata": {},
     "output_type": "execute_result"
    }
   ],
   "source": [
    "last_check_before_split = (df.iloc[0])\n",
    "last_check_before_split"
   ]
  },
  {
   "cell_type": "code",
   "execution_count": 29,
   "metadata": {},
   "outputs": [
    {
     "name": "stdout",
     "output_type": "stream",
     "text": [
      "News: 22160 Oped: 5301, Total: 27461, Op-Ed 0.19 of total\n"
     ]
    },
    {
     "data": {
      "image/png": "[encoded data removed]",
      "text/plain": [
       "<Figure size 432x288 with 1 Axes>"
      ]
     },
     "metadata": {},
     "output_type": "display_data"
    }
   ],
   "source": [
    "oped_v_news(df)"
   ]
  },
  {
   "cell_type": "markdown",
   "metadata": {},
   "source": [
    "# drop na"
   ]
  },
  {
   "cell_type": "code",
   "execution_count": 30,
   "metadata": {},
   "outputs": [
    {
     "data": {
      "text/plain": [
       "(27461, 9)"
      ]
     },
     "execution_count": 30,
     "metadata": {},
     "output_type": "execute_result"
    }
   ],
   "source": [
    "df.shape"
   ]
  },
  {
   "cell_type": "code",
   "execution_count": 31,
   "metadata": {},
   "outputs": [],
   "source": [
    "df = df.dropna()"
   ]
  },
  {
   "cell_type": "code",
   "execution_count": 32,
   "metadata": {},
   "outputs": [
    {
     "data": {
      "text/plain": [
       "(27406, 9)"
      ]
     },
     "execution_count": 32,
     "metadata": {},
     "output_type": "execute_result"
    }
   ],
   "source": [
    "df.shape"
   ]
  },
  {
   "cell_type": "markdown",
   "metadata": {},
   "source": [
    "# X, y"
   ]
  },
  {
   "cell_type": "code",
   "execution_count": 33,
   "metadata": {},
   "outputs": [],
   "source": [
    "#define X. X is currently pandas series of unsplit strings\n",
    "X = df.text"
   ]
  },
  {
   "cell_type": "code",
   "execution_count": 34,
   "metadata": {},
   "outputs": [],
   "source": [
    "#turn series into list...\n",
    "corpus = list(X)"
   ]
  },
  {
   "cell_type": "code",
   "execution_count": 35,
   "metadata": {},
   "outputs": [
    {
     "data": {
      "text/plain": [
       "' as you drew closer to the fifth floor where      works out of a suite of offices things started to loosen up  assistant outside his conference room wore a mask but the other did not  the middle of the room with its oil paintings and vaulted ceiling the long central table had fewer chairs than you might expect and an appropriate distance between them  past the next door inside the attorney generals smaller personal office  himself was also mask-free  around to greet his visitors he moved into the middle of a wide circle of four chairs arranged in front of his desk  nearing the end of his career  did not take his current job for the glory  had already been attorney general once in      administration winning him a reputation as a wise old man a reputation that in the eyes of some his tenure in the  administration has tarnished  is he doing it for the money  time in corporate  earned him tens of millions of dollars in compensation and stock options and his bearing is still that of a  500 counsel cozy manners wrapped around a harder core  said though  had been asked to bring one  tone was jokingly conspiratorial as though he were making an exception for an old friend  is sometimes described as an adjective that also captures his professorial manner  speaking voice is very soft just loud enough to be consistently perceptible his accent is patrician with a trace of old    personality breaks through mostly in frequent moments of humor which range from clubby chuckles to tension-breaking eruptions an aide added  crossed the circle of chairs grinning away any awkwardness  bumped elbows he said in the same joshing tone  greater risk of course was that  might infect him given his cabinet-level access to regular coronavirus testing the difference in our ages  regular meetings with the president and the mostly one-way prophylactic value of masks in general his aide suggested again  took it off   the whole country was doing the same dance   for   and  had recommended that all  wear masks at meetings like this one   was doing something else and so for the time being was the   staff     having been wrong-footed after taking the no-mask custom to the   now seemed to be making it up as he went along  weeks into the global pandemic a charitable observer might still have described the administrations response as improvisational or misguided as opposed to willfully cavalier  things were about to get worse  day  projection of the total   death toll 75 000 to 100 000 which was given the previous evening at the   would be challenged by an internal  document predicting that the number of daily deaths would rise into   reckless faith of the presidents inner circle would be challenged when two members of the   staff tested positive for the coronavirus  and  did not know it then but we were enjoying the tail end of the  administrations libertine phase   27 the official death toll would surpass 100 000 the upper bound of what  predicted on  3  has to assume that  is keeping a close eye on the 70-year-old  right now  powers of the attorney general as the executive branchs rule interpreter and law enforcer peak during moments of social unrest  knows these powers well  led the   through the   riots of 1992 when  invoked the   and deployed thousands of soldiers and    said the   riots were gang activity and not    is a stalwart believer in the righteousness of the police those communities that fail to give the police he said in a  speech  summer  dropped the departments federal case against the   police officer who killed   during an arrest in 2014  role also gives him influence over three major political fronts heading into   there is  fight to open the nations economy which could depend in no small part on  interpretation of federal authority and willingness to twist governors arms  there are the mechanics of the vote itself a topic of great partisan controversy about which the   has shown a growing willingness to weigh in  there is the ongoing investigation led by   the   attorney in  into the origins of the    s  probe in the run-up to the 2016 election the findings of which are widely expected to be announced before   the election now on the horizon  defended his record in two recent interviews  critics charge that since becoming attorney general he has repeatedly steered the   toward decisions that serve  interests particularly around the investigations carried out by the    and     into  influence over the 2016 election  insists that he acts independently even as the president often undermines that claim by tweeting out apparent instructions for what his attorney general ought to do  the time of our first meeting in his office  had already started looking at how the federal government might intervene in state-ordered coronavirus shutdowns   accused  governors of denying citizens their and encouraged residents to   and   zeroed in on the nuts and bolts of the legal case for  two small churches filed lawsuits seeking to hold live services despite state or local regulations the   made filings in support of their   rights  a signed memorandum sent to the departments 93   attorneys  suggested that the federal governments interest went beyond protecting live worship  included  weeks before our interview  bragged that he held authority over the states  went against the prevailing view that the federal government while free to enforce a variety of measures during its own emergencies is more constrained in its authority to compel state or local governments to lift theirs   asked  what  meant he responded by laying out a general view of the presidents pandemic-related powers he said  answer sounded so dry and routine that  failed to ask what he meant by  broadly enough  interpretation could sanitize and legalize  claim to authority  ballots are another domain where  had been staking out turf  called the distribution of ballot applications in  and warned that voting by mail  a second interview on  20 when  asked who was going to referee the 2020 election  replied  said his departments role would be limited as the power belongs to the states and their electors  when  brought up  tweet about  which he posted that same morning  quickly seized the opportunity to float a new theory that foreign governments might conspire to mail in fake ballots he cautioned offering no evidence to substantiate that this was a real possibility  he called it and added  many election-related issues the  of  has to defer to the states  in the case of  investigation of the 2016 investigators or the as  has so often called it  has a greater degree of control  years  has been saying that he was treated unfairly in 2016 particularly at the hands of   then the    director  who is open about his agreement with this premise is now in the process of nailing down the details  wont rule out the possibility that  findings could undermine a key consensus about 2016 the well-established conclusion that  interference sought to favor  a finding of the    of 2017 that was later underscored by  the special counsel and verified by the   intelligence committee   told me was looking for  paused glanced down and fidgeted for a moment with his necktie before going on  seems aware at times that he is gambling with his reputation he said with a matter-of-fact sigh in a  interview last year  we spoke in his office he was critical of what he called  tendency to around himself he said he added  willingness to weather controversy on the presidents behalf has not only caused consternation among some former friends and allies it has given rise to considerable speculation about his motives  would a grandfather in semiretirement who had already reached the pinnacle of his profession sign up for this  wonder if  might still be hungry for influence having been attorney general for only 17 months the first time  wonder whether he spent too much time watching   during the  years and came out the other side an ideologue  there are others who look at  support for  and see more consistency than contradiction  they say hasnt changed his values  he has found in  the perfect vehicle with which to move them forward says   who led the   civil division during  first tour and then succeeded him serving as acting attorney general during the first three months of   presidency  far as what  is hoping to do with his canvas  says he is committed to the and premise that  isnt too far away from what  himself articulated in a 2019 speech at the  of     view piety lay at the heart of the founders model of self-government which depended on religious values to restrain human passions  said  flows from through to form  and experience merely serve to confirm the infallible divine law  law he said is under threat from including who call on the state  their feet  places mental illness drug overdoses violence and suicide  these things he said are getting worse  are  started his career in the    as an analyst working on  and other matters   asked about the origin of his interest in the intelligence service he responded indirectly with an anecdote about telling his high school guidance counselor that he wanted to be    director  was tempting to link  career and conservatism with his father   who served in the  of   the    s forerunner during     1940 as an undergraduate at   wrote a controversial editorial for    defending a speech by the university president that called upon the faculty to support the  war effort he wrote  tempting as it was to see the son as part of some epigenetic chain of old-line conservatism  cautioned me not to make such assumptions  parents met at the  of  in the early 1940s  who already spoke three languages had been sent there by the  to learn   spotted   a young  woman who had a masters degree in  from  through an open doorway teaching  to undergraduates and was smitten  took some courting  thought  was a  told me and his background was also an issue he was raised without much religion but his father  grandfather was born a secular   joining the   gave his religion as    converted to  after he and  wed   26-page    file obtained from the   gives a detailed account of his transition from the military to intelligence work  1944 he shipped off to   suffered from hay fever and 20/200 vision much of his time overseas was spent hospitalized with allergies  next year he was assigned to the     interviewer found him to be  late 1945 he moved to  to begin work at the   and   which would become the   in-house intelligence bureau  the couples second son was born in 1950  age 8 he had taken up the bagpipes which would become a lifelong hobby  attended the    in   where his classmates remembered his conservatism the delight he took in making an argument and his sense of humor  yearbook praised him as an  involvement with campus politics continued at   joined the   which organized against student occupiers who had taken over the campus to protest the    was known as a feeder school for the     average of 14 seniors went to the agency each year from 1960 through 1966 according to a 1967 article from the student newspaper    which reported that a majority came in not through the colleges  of   and  but perhaps a reference to the private foundations and student organizations that were receiving    funding at that time  the late 1960s this recruiting drew campus protests which eventually broadened to take on other issues beyond the war  the morning of  24 1968 student demonstrators many of them affiliated with  for a   stormed    and took over the offices of  president  protesters were angry that  was building a gymnasium nearby that would have two separate entrances one for the school community and one for neighborhood residents and also about the universitys connection with a think tank that did research for the   was on the other side standing shoulder to shoulder with conservatives and athletes to form a blockade around the library he told me  smiled to himself  asked if he was in the fistfight  adjusted the bridge of his glasses and glanced down he said letting out a big laugh  later added  interned at the    in the summers of 1971 and 1972  1973 after completing his graduate degree in government and  studies he married   whom he met at a fraternity party  next day the couple drove to  and  began a permanent job at the    the day after that  mothers memories of the   he said had instilled in him a desire for career stability so he began taking law courses at night  then he had transferred to the    s  of   says   who worked down the hall from  in the general counsels office where  would eventually rise to become the acting head  new job put  on the    s seventh floor not far from the directors office and near the center of what was shaping up to be a historic fight with   the aftermath of    the presidency was endowed with vast new powers mass surveillance covert operations proxy wars and nuclear weapons  young    spurred on by the imperative to win the   abused its own new powers to an astonishing degree  a statutory ban on its involvement in either or the    surveilled and surreptitiously engaged with countless  citizens  agency reported to the president and often took action based on informal conversations without ever committing much to paper  around the agencys transgressions held until the 1970s when antiwar sentiment began to peak  scandals around the   1971 and the  break-in 1972 culminating in the long-anticipated  defeat convinced much of the public that the federal government should no longer be given the benefit of the doubt  1973   the longtime    director ordered the destruction of internal    documents regarding  an experimental mind-control program  later recalled  1974 the journalist   who had already broken the story of the   massacre in  revealed that the    had developed a sprawling domestic-spying operation keeping dossiers on thousands of  citizens  created two special committees a  committee led by    and a  committee that would eventually be led by    to investigate  years the    would be consumed with negotiations over the limits of what  could oversee  told me in his office  asked if there had indeed been excesses  poker face came to life  grinned turned his palms out and shrugged he said  burst out laughing  he pulled back to give the matter some more thought adjusting his glasses as he settled back into seriousness he said  battle between conservative hard-liners and a   would continue through the late    the    there was a sense of victimization   the agencys first presidentially appointed inspector general told me  1976 the job of defending the agency in public passed to the new director     who had served as a special   envoy to   at least one occasion  sat behind  during a congressional hearing giving him legal advice  wound up making oversight a permanent thorn in the    s side by establishing two intelligence oversight committees    drafted two letters each signed by  asking  if the    could resume the routine destruction of documents  request was denied says   now a law professor at the   of  and  at   who dealt with the    as legal counsel of the      than accept post-Watergate congressional limitations the hard-liners decamped from the    and became floaters bureaucratic nomads who sought out underused and low-visibility pockets of the federal government from which to wage their war over executive power  largest battle was fought around the  affair  covert group operating out of the    had used money gained by selling arms to  to fund anti-Communist rebels in   flouting a congressional prohibition  of the operation was organized by     of the     of the  plotters were dragged into the public eye and indicted by a special prosecutor another post-Watergate innovation  pointing to the involvement of    and       was inconclusive  hard-liners felt that foreign policy and covert operations were an exclusively presidential domain is how  first    director   put it in an interview with the political scientist     this time conservative thinkers of  generation began to coalesce around an idea they called  presidents right to his powers under   of the  they argued was undivided and absolute  reforms independent prosecutors to investigate high-level wrongdoing requirements to get warrants for national-security wiretaps and more were unconstitutional incursions into the presidents rightful powers   1977  left the    upon his graduation from      eventually landing as a policy lawyer in the     running for president took  to the 1988    to help vet potential running mates and after winning the election appointed him to lead the    of   where his duties included determining the legal limits of    activities  who was still at the    recalls that  kept his independence from the    of  opinions on classified    operations while a third operation  says was rejected entirely  of  public opinions though effectively authorized the invasion of   as acting attorney general he impressed  further by defusing a delicate prison-hostage crisis  attorney general in 1992  signed off on a mass-surveillance program that collected billions of call records for the     the end of  presidency he successfully pushed for a pardon of six  defendants     a former    director says  reminds him of   the former    lawyer who became     chief of staff and played a major role in pushing the limits of conduct including torture that the   and the    determined to be legal in the aftermath of the  11 attacks   says  intellect and experience made him appealing to the private sector  eight years he served as general counsel at  at a time when the company was working out secret arrangements with the    to turn over its customers data   2001 a legal trade publication noted  1 5 million salary and compared him to a for the depth of his connections in both political  and corporate    that time he said he had no interest in returning to officialdom he said  the 2016 presidential election  was a player in  politics and active in conservative  causes  gave nearly 50 000 to a  affiliated with    annual holiday parties traditional  cèilidhs with music and singers drew hundreds whose friendships he had maintained over the years  wrote and sold a screenplay about     spent time traveling abroad and hunting birds  three daughters all became accomplished lawyers working on   or as federal prosecutors  eldest  moved to the   financial-crimes unit after  nomination as attorney general one of  sons-in-law left the   for the      year shortly after his   speech  gave a second major address at the annual convention of the   an organization of conservative lawyers founded during the  administration  subject was executive power   criticized progressives this time for making politics  presidency in his view handled  of the core function of the presidency was the ability to act swiftly and without constraint but this capability had been diminished by the other branches since   had burdened the president with oversight while the courts were interfering with  travel ban on certain countries and his termination of     program for young immigrants  seemed to suggest that when it comes to foreign policy the only legitimate check on presidential behavior is the next election  later this argument would become the foundation of  impeachment defense   5 2018  attended     funeral  waiting in line for the shuttle bus that would take him to    he and his wife ran into a friend    who was    counsel during the  years  two men spent most of the day together  sounded out  about the attorney-general job  knew from following the news that  was under consideration but  never tipped his hand about how close he was to being tapped and  never asked  that week when  announced  nomination  was not surprised under   says  the time of his nomination  supporters presented him as a trustworthy and sensible conservative a known quantity within the  establishment who would restrain  worst impulses   called him   a legal commentator who is now one of  harshest critics tweeted at the time that he had been under  and that his confirmation would be  the confirmation hearing    of  the ranking  on the   questioned  at length about a memorandum he wrote to the administration the previous summer outlining why he believed that  had no legal right to investigate  for obstruction of justice  president  argued has investigations and can on individual cases including those that touch on his political or financial interests  wrote  enforcement he argued was a power exclusively held by the president because  the hearing  seemed to say that he did not believe the unitary executives powers to be infinite     a   asked if it would be lawful for a president to trade a pardon for a promise not to incriminate him  answered that such an exchange would be a crime  also mentioned his long friendship with   wife attends the same  study as  wife  attended the weddings of two of  daughters  was confirmed by a vote of 54 to 45  had barely served one month as attorney general when his friendship with  was tested by the special prosecutors delivery of his report on the afternoon of   22   account then went dark for nearly 40 hours    sent a letter to  that he would later describe as giving  and  feed came back to life he tweeted  his first public comments that same day  said the words three times he added  tweet  letter and  report said three different things   nor  exonerated   quoted  own words that his complicated finding on obstruction the president   omitted  conclusions that  interference sought to favor  that  and his campaign welcomed the interference and believed they would benefit from it and that the and between  and the campaign were substantial even though the evidence  was able to gather fell short of a criminal conspiracy  fired off two letters complaining that  had misrepresented his work  the second letter dated  27 he asked  to immediately release the reports introductions and executive summaries  the public would not get to read  work until  18 when  released a redacted version of the full report  doing so  gave a news conference in which he tilted further toward declaring  innocent something  bent over backward not to do  said of   distortions drew wide criticism  were also frustrated by the reports content  lacked the thunderous revelations about  that had long been promised by  opponents and it suffered from legalistic inconclusiveness on the most fundamental questions  having been given a chance to put the 2016 election to bed for good had carefully avoided doing so  hopes for the promised collusion bombshell now turned to the unredacted version of the  report which  refused to give them  an echo of his    work during the   years the    has taken a very hard line regarding what information  and the courts are entitled to get from the    has fought in court against the release of  tax returns argued that  did not need to see the  whistle-blowers complaint because it was not a matter of and has challenged congressional requests for  secret grand-jury materials   refused to turn over the fully unredacted  report to the    citing executive privilege the committee voted to hold him in contempt   chairman    of   claimed that this was the beginning of a  seemed untroubled he reportedly quipped to   at an event a few days later  concerns about  handling of  investigation have not been confined to      of the     for the  of  a    appointee recently criticized  and questioned whether  his first meeting with   in 2017  later recalled in his confirmation hearing he told  that  the end he was half right  said in one of our interviews  would have been  2019 more than a year ago  continued  asked if they still saw each other at  study  replied  general are chosen by the president no law prohibits them from doing the presidents bidding  presidents have occasionally asked the attorney general to intervene in individual prosecutions       attorney general went much further helping to plan the  burglary and then working to cover it up  the   guidelines do enjoin prosecutors not to comment about ongoing investigations something  does regularly  also caution that legal judgments and that the department must respect   of this has stopped  from overruling his subordinates to the benefit of  friends and associates most notably    longtime political mentor and   his former national security adviser  both cases  has tweeted about what he sees as the unfairness of their legal troubles and the   has subsequently pushed for leniency  has repeatedly said that  has never asked him to do anything in a criminal case he said in an interview with    the departments interventions on behalf of  and  have raised questions about the supposed  firewall   who led the  of   under    told   in   has said he doesnt pay attention to  tweets and doesnt take seriously the ones he is made aware of says   friend and former colleague   the former head of  civil rights division at the department articulated a prevailing view of  among  telling me that the attorney general has  says  interventions on behalf of  associates have far-reaching consequences she says   prosecutors recommended that  be sentenced to seven to nine years in prison for witness tampering and other crimes  following day the   filed a second revised sentencing memo asking that  sentence be reduced  to 108 months the memo argued given   the same day the department revised its sentencing recommendation all four of the prosecutors responsible for the case announced their withdrawal    left the department entirely  wrote later in an op-ed in       said the  prosecutors  tweeted out congratulations to  for  pushed back in the  interview insisting that he reached the  decision independently he said adding  post-Mueller case that has arguably received the most attention among  supporters is that of  the lieutenant general who briefly served as  national security adviser  dueling narratives around the  transition crystallize around  and the question of whether he or those who investigated him were in the wrong  addition to drawing scrutiny for his  contacts  initially failed to report as legally required that his company was effectively on the payroll of the  government during the 2016 campaign  himself tried and failed to talk  into dropping him  of  own problems hinged on his asking  if he could to dropping the  investigation  adversaries consider  to be a loose cannon and possible  pawn who needed to be rooted out  supporters depict him as the second coming of   a good soldier who was martyred in public for his loyalty to the executive   4 the day of my first interview with   was still awaiting sentencing having pleaded guilty to lying to the     time to time  had been tweeting about the  case in ways that seemed to cross the line that  had drawn about public comments from the   about matters pending before the    said  had been victimized by the as   asked  in light of his statement on   whether these were the kind of tweets that made his job  said  had recently been tweeting about   said  replied  asked if he would like to see them  said  handed  a printout of an  29  tweet  read  said with cool indifference  asked how it was that  supposed antagonists could be punished without involvement from the department  asked referring to the particular case that was now before     had found the right hair to split and he split it so cleanly and decisively that  couldnt say this wasnt his position from the beginning  tweet  said was nothing new  he said  days later on the afternoon of  7 the   filed a motion to dismiss its own prosecution of   government argued that  false statements were not to the investigation of  because the investigation was itself unjustified  argument relied in part on the contents of handwritten    notes that had been turned over to  attorneys by the department and released to the public by mutual agreement  of the prosecutors assigned to the case immediately withdrew  few days later  decided he wouldnt rule on whether to accept the departments motion until he had heard from friends of the court and a special counsel  lawyers appealed asking a higher court to force the judges hand  the department took  side  took to  celebrating  definitive  11  history of the 2016 election remains unwritten though not for lack of trying  addition to the  report and voluminous criminal indictments we have the    the  report by the   inspector general   and four volumes of the  intelligence committees report a fifth volume of which is on the way  major episodes of the story may now seem like familiar terrain to those who have kept up and a hopeless mess to everyone else  zoom out a bit and the stakes could not be higher  of  critics like    of  the  chairman of the    and    director of national intelligence go further than saying that the  put a thumb on the scale for   have suggested that the extra boost was decisive that  would not have been elected in 2016 but for  interference  crucial legacy of 2016 is that the question of  legitimacy was never settled  without any consensus on what happened in 2016 the rules of the road for 2020 are up in the air  first armed with the powers of law enforcement and presidential access to classified material  is getting ready to roll out his account of 2016   promises he most likely has in mind the ongoing investigation by   and its long-expected report although it is also possible that  public work product will take the form of indictments or perhaps nothing at all  who assigned  the task of investigating the  probe in  last year and met with him several times immediately after the conclusion of  investigation is overseeing  work and briefs  on his findings regularly  on  public statements we can see the rough contours of  findings beginning to take shape  governments conduct during the  transition  has said was  of  campaign amounted to  there was the all-important question of whether the    was justified in opening the initial   investigation into the  campaigns  ties  ordinary circumstances   prosecutors do not comment on anything connected to an ongoing investigation but on the day that  released his report both  and  decided to do just that     s interest in   said was based and  said in his own statement  had found that the investigation was justified so these sounded like sweeping words of dissent  over the coming months as attention drifted elsewhere they shrank  the time  sat down with  the only dispute with  hed voiced was whether the    had enough evidence to open a full investigation  and  believe that there was only enough to open a preliminary investigation not a full one  our first interview  mentioned the dossier of salacious anti-Trump claims that had been gathered and circulated by   a former  intelligence agent who was working indirectly for the  campaign  possibility that the  government intentionally seeded the dossier with misinformation was one of the issues  ignored and  was looking at  said  had  gone back and looked at the investigative steps taken as   accelerated he continued  had done that but unlike  and  he had no access to the    the    and the foreign governments that were involved  facilitate what later became a criminal investigation  ordered the heads of the intelligence agencies to cooperate with   delegated to  the power to order the declassification of secret documents  has spoken with intelligence officials from   and  to reportedly solicit information that could help   the case of  where  and  met with political leaders and intelligence chiefs in person his visit provoked concern among   diplomats who told   that  circumvented protocols in setting up the trip    of  who is the ranking  on the   and helped write its five-volume report said there were about  trips he said   a former colleague of  from the     years said he thought  could come back with something more  investigation he told me  investigation is not the only means through which  decisions could affect the election  the    wants to open a criminal investigation into either campaign it will first need  personal approval  has established a special to deal with materials that    says he has obtained from  sources which  has claimed implicate   the presumptive  presidential nominee  the interview  did not dispute the notion that the  government had interfered in 2016 but he made it sound as though the assumption that it favored  would be coming under some pressure  also would expect  to play a role in deterring and punishing foreign interference in the 2020 election but that could get complicated  camp continues to deny the intelligence communitys consensus view one strongly reiterated by  and the  intelligence committee that the  favored  over    including  on the    claim to have unreleased evidence that points the other way  on what  told me  intentions will most likely emerge as the key retrospective battlegrounds as  work continues and the election draws closer  said  what  did not address directly was the fourth volume of the report from the  intelligence committee  report reviewed much of the same intelligence underlying the     affirmed that  pro-Trump position and     direct involvement were supported by     s disagreement was  the committees groundbreaking 2012   the fourth volume was unanimously approved by a bipartisan vote of the  committee said    a  from   and the chairman of the committee  for his part dismissed  investigation as he told me  brought up the  investigation again in my last interview with  on  20  fifth floor of   headquarters now felt different some older lawyerly looking men walking around wore masks  younger men in suits with lapel pins who were most likely security did not  himself still wore no mask but there were no more polite entreaties for visitors to take theirs off  could see two crumpled blue surgical masks lying amid the papers on  desk  disarming familiarity  sat down on a sofa and offered me my in a tufted leather chair  then  had seized on the meme accusing the former president and  of  asked what crime he thought they were guilty of  declined to answer  a news conference two days before  went to see him  was asked indirectly if  investigation might lead to criminal charges being filed against  or  he said  that same day  asked about  statement replied  went on  then said he had that  and  were in what he now called a  to whether or not it was criminal he said   office two days later  brought up how  seemed to have heard only what he wanted to hear that  prediction about not prosecuting the former president was only valid  said  shouldnt read too much into those words he said  he realized it or not the line  had drawn at the news conference was getting blurrier with every word just as  had hoped  went on  pulled back from the conversation and thought for a moment  keeping tabs on  investigation for more than a year  did not think it was likely that he would have to prosecute a former president  neither at that moment was he willing to rule it out  made this position sound reasonable even as it served to support the unsupported theory that the president was floating at the time  the end the substance of  findings might not matter  he turns up will become a major theme of  2020 campaign the less time there is before an election the greater political impact of even the smallest apparent revelation   needed from  was the glimmer of a possibility a slight shadow of official uncertainty in which his wild theories could flourish  for now  was giving him that  much more he would give the president before  it was hard to say'"
      ]
     },
     "execution_count": 35,
     "metadata": {},
     "output_type": "execute_result"
    }
   ],
   "source": [
    "corpus[0]"
   ]
  },
  {
   "cell_type": "code",
   "execution_count": 36,
   "metadata": {},
   "outputs": [],
   "source": [
    "# define y as a series of op-ed or news\n",
    "y = df.type_of_material"
   ]
  },
  {
   "cell_type": "code",
   "execution_count": 37,
   "metadata": {},
   "outputs": [
    {
     "data": {
      "text/plain": [
       "_id\n",
       "nyt://article/f5d2e4a7-f89b-54da-9985-dd5fc704a51e    0\n",
       "nyt://article/0fa09b77-5faa-588f-9d4a-39a34748c7f3    0\n",
       "nyt://article/6b274a69-c82b-5b68-bada-ec1467440ddf    0\n",
       "nyt://article/8867f9cb-5914-5731-90b9-e1f1781fa568    0\n",
       "nyt://article/fb5f6e07-033e-5618-967e-fbc1ebcfd61c    0\n",
       "                                                     ..\n",
       "nyt://article/8ebe71ee-2cbe-5c25-8d4a-91696cff67d4    0\n",
       "nyt://article/87f0a2b8-39f6-5fb5-a076-a4949353400e    0\n",
       "nyt://article/a6e31872-431b-5b24-8d35-dfae18af1f0c    0\n",
       "nyt://article/bd4bc1cd-7cbc-525e-a65c-76c6b338e331    0\n",
       "nyt://article/a56ad218-e173-568e-b4b5-ddd584ec79cb    0\n",
       "Name: type_of_material, Length: 27406, dtype: int64"
      ]
     },
     "execution_count": 37,
     "metadata": {},
     "output_type": "execute_result"
    }
   ],
   "source": [
    "vectorize_y_ser(y)"
   ]
  },
  {
   "cell_type": "code",
   "execution_count": 38,
   "metadata": {},
   "outputs": [
    {
     "name": "stdout",
     "output_type": "stream",
     "text": [
      "CPU times: user 11.5 ms, sys: 1.16 ms, total: 12.7 ms\n",
      "Wall time: 12.2 ms\n"
     ]
    }
   ],
   "source": [
    "%%time\n",
    "# vectorize y in to (1, 0) (op-ed, news)\n",
    "y = vectorize_y_ser(y)"
   ]
  },
  {
   "cell_type": "code",
   "execution_count": 39,
   "metadata": {},
   "outputs": [
    {
     "data": {
      "text/plain": [
       "0    22122\n",
       "1     5284\n",
       "Name: type_of_material, dtype: int64"
      ]
     },
     "execution_count": 39,
     "metadata": {},
     "output_type": "execute_result"
    }
   ],
   "source": [
    "y.value_counts()"
   ]
  },
  {
   "cell_type": "code",
   "execution_count": 40,
   "metadata": {},
   "outputs": [
    {
     "data": {
      "text/plain": [
       "(27406,)"
      ]
     },
     "execution_count": 40,
     "metadata": {},
     "output_type": "execute_result"
    }
   ],
   "source": [
    "y.shape\n",
    "X.shape"
   ]
  },
  {
   "cell_type": "markdown",
   "metadata": {},
   "source": [
    "# remove stop words"
   ]
  },
  {
   "cell_type": "markdown",
   "metadata": {},
   "source": [
    "# stemming/lemmatization"
   ]
  },
  {
   "cell_type": "code",
   "execution_count": 41,
   "metadata": {},
   "outputs": [],
   "source": [
    "snowball = SnowballStemmer('english')\n",
    "wordnet = WordNetLemmatizer()"
   ]
  },
  {
   "cell_type": "code",
   "execution_count": 42,
   "metadata": {},
   "outputs": [],
   "source": [
    "# %%time\n",
    "# def snowball_tokenize(doc):\n",
    "#     snowball = SnowballStemmer('english')\n",
    "#     return [snowball.stem(word) for word in word_tokenize(doc.lower())]"
   ]
  },
  {
   "cell_type": "code",
   "execution_count": 43,
   "metadata": {},
   "outputs": [
    {
     "name": "stdout",
     "output_type": "stream",
     "text": [
      "CPU times: user 3 µs, sys: 1 µs, total: 4 µs\n",
      "Wall time: 6.91 µs\n"
     ]
    }
   ],
   "source": [
    "%%time\n",
    "def wordnet_tokenize(doc):\n",
    "    wordnet = WordNetLemmatizer()\n",
    "    return  [wordnet.lemmatize(word) for word in word_tokenize(doc.lower())]"
   ]
  },
  {
   "cell_type": "markdown",
   "metadata": {},
   "source": [
    "# vectorizer"
   ]
  },
  {
   "cell_type": "markdown",
   "metadata": {},
   "source": [
    "# WORDNET tfidf"
   ]
  },
  {
   "cell_type": "code",
   "execution_count": 44,
   "metadata": {},
   "outputs": [],
   "source": [
    "import string"
   ]
  },
  {
   "cell_type": "code",
   "execution_count": 45,
   "metadata": {},
   "outputs": [
    {
     "name": "stdout",
     "output_type": "stream",
     "text": [
      "!\"#$%&'()*+,-./:;<=>?@[\\]^_`{|}~\n",
      "!\"#$%&'()*+,-./:;<=>?@[\\]^_`{|}~\n"
     ]
    }
   ],
   "source": [
    "print(string.punctuation)\n",
    "print('!\"#$%&\\'()*+,-./:;<=>?@[\\\\]^_`{|}~')"
   ]
  },
  {
   "cell_type": "code",
   "execution_count": 46,
   "metadata": {},
   "outputs": [],
   "source": [
    "# nytimes_quotes = \"”“\"\n",
    "# nytimes_punctuation = \"—’\""
   ]
  },
  {
   "cell_type": "code",
   "execution_count": 47,
   "metadata": {},
   "outputs": [],
   "source": [
    "#function that removes string.punctuation w/out the '?'\n",
    "def punc_strip(document):\n",
    "    for char in document:\n",
    "        if char in '!\"#$%&\\'()*+—,-./:;<=>?@[\\\\]^_`{|}~':\n",
    "            document = document.replace(char, \" \")\n",
    "    return document"
   ]
  },
  {
   "cell_type": "code",
   "execution_count": 213,
   "metadata": {},
   "outputs": [],
   "source": [
    "final_stop = ['', 'over', 'john', 'email', 'discus', 'in', 'word', 'inquiry', 'acknowledged',\n",
    "              'despite', 'three', 'amid', 'television', 'business', 'aren', 'never', 'thursday',\n",
    "              'told', 'chairman', 'plan', 'given', 'medium', 'prompted', 'spirit', 'voter', \n",
    "              'before', 'face', '2019', 'm', 'think', 'director', 'citizen', 'panel', \n",
    "              'spokesman', 'become', 'expert', 'idea', 'matter', 'previously', 'family', 'rule',\n",
    "              'rich', 'during', 'few', '40', 'criticized', 'social', 'unclear', 'final', 'v', \n",
    "              'role', 'selection', 'same', 'while', 'report', 'u', 'announcement', 'record', \n",
    "              '” “', 'let', 'democratic', 'way', 'disclosed', 've', 'doe', 'c', 'and', 'out', \n",
    "              'joe', 'noted', 'major', 'if', 'intended', 'understanding', 'data', 'dispute', \n",
    "              'white', 'take', 'operation', 'i', 'place', 'request', 'go', 'congress', 'worse',\n",
    "              'mean', 'investigation', 'x', 'catastrophe', 'then', 'small', 'were', 'those',\n",
    "              'decision', 'covid', 'looking', 'not', 'lost', 'doesn', 'received', 'response',\n",
    "              'evidence', 'might', 'tested', 'another', 'b', 'representative', 'h', 'something',\n",
    "              'are', 'up', 'where', 'released', 'joined', 'delay', 'institution', '10', 'yet',\n",
    "              'back', 'democracy', 'want', 'added', 'order', 'discussion', 'four', \n",
    "              'california', 'early', 'man', 'against', 'sought', 'wrote', 'first', 'began', \n",
    "              'for', 'company', 'chief', 'university', 'only', 'described', 'concern', 'our', \n",
    "              'terrible', 'ago', 'based', 'him', 'memo', 'keep', 'accused', 'put', 'much', \n",
    "              'new', 'joseph', 'detail', 'second', 'briefed', 'economy', 'lawmaker', 'right', \n",
    "              'candidate', 'reporter', 'aide', 'better', 'earlier', 'y', 'statement', 'mr', \n",
    "              'obama', 'death', 'century', 'willing', 'defended', 'administration', 'why', \n",
    "              'call', 'just', 'comment', 'off', 'public', 'often', 'clear', 'won', 'nature',\n",
    "              'crisis', 'view', 'himself', 'member', 'pandemic', 'n', 'around', 'allowing', \n",
    "              'office', 'survive', 'employee', 'you', 'according', 'government', 'york', 'know',\n",
    "              'until', 're', 'say', 'reason', 'coronavirus', 'executive', 'wednesday', 'seems',\n",
    "              'with', 'house', 'economic', 'conservative', 'got', 'decent', 'deputy', 'review',\n",
    "              '13', 'me', 'expressed', 'joint', 'could', 'two', 'appeared', 'k', 'thing', \n",
    "              'legal', 'moment', 'an', 'made', 'risk', 'longtime', 'which', 'george', 'part', \n",
    "              'city', 'team', 'committee', 'opportunity', 'working', 'largely', 'including', \n",
    "              'top', 'guy', '500', 'somehow', 'others', 'everyone', 'like', 'o', 'both', \n",
    "              'wrong', 'time', 'group', 'by', 'person', 'between', 'have', 'term', 'professor',\n",
    "              'washington', 'most', 'freedom', 'america', 'whole', 'job', 'society', 'twitter',\n",
    "              'her', 'law', 'secretary', 'gathered', 'many', 'w', 'give', 'appearance', 'from',\n",
    "              'cited', 'seek', 'lawsuit', 'next', 'program', 'showed', 'disclose', 'committed',\n",
    "              'afternoon', 'late', 'actually', 'interview', 'party', 'either', 'least', \n",
    "              'through', 'several', 'court', 'imagine', 'whether', 'down', 'event', 'long', \n",
    "              'department', 'happens', 'week', 'electoral', 'strategist', 'politician', \n",
    "              'objection', 'taken', '2001', 'vote', 'probably', 'seem', 'chairwoman', 'policy',\n",
    "              'trying', 'leader', 'radical', 'agreement', 'living', 'must', 'supposed', 'local',\n",
    "              'result', 'should', 'highlighted', 'familiar', 'south', 'set', '30', 'recent', \n",
    "              'health', 'expected', 'look', 'democrat', 'friday', 'tuesday', 'adding', '2018', \n",
    "              'post', '2', 'effort', 'officer', 'nothing', 'series', 'she', 'treasury', 'world',\n",
    "              'course', 'later', 'posted', 'they', 'other', 'fund', 'my', 'find', 'senator', \n",
    "              'bill', 'but', 'referring', 'across', 'biden', 'don', 'q', 'effective', 'f', \n",
    "              'dead', 'sense', 'extensive', 'challenging', 'do', 'is', 'funding', 'getting', \n",
    "              'organization', 'be', 'publicly', 'your', 'directed', 'isn', 'shared', 'sort', \n",
    "              'fact', 'point', 'five', 'led', '2016', 'aggressive', 'about', 'meeting', 'there',\n",
    "              'college', 'general', 'lot', 'come', 'now', 'agency', 'found', 'such', 'vice', \n",
    "              'campaign', 'used', 'called', 'billion', 'bit', 'no', 'more', 'am', 'after', \n",
    "              'raised', 'year', 'thinking', 'when', 'indicated', 'decency', 'all', 'weren', \n",
    "              'senior', 'them', 'justice', 'pretty', 'former', 'act', 'privately', 'we', \n",
    "              'self', 'may', 'every', 'making', 'support', 'kill', 'federal', 'disclosure', \n",
    "              'been', 'a', 'because', 'since', 'said', 'bigger', 'would', 'included', \n",
    "              'presidential', 'wa', 'move', 'run', 'completely', 'ordinary', 'million', \n",
    "              'critical', 'donald', 'different', 'else', 'end', 'll', 'attack', 'e', \n",
    "              'information', 'war', 'selected', 'l', 't', 'offered', 'large', 'any', \n",
    "              'didn', 'very', 'done', 'president', 'ha', 'served', 'analyst', \n",
    "              'among', 'again', 'private', 'night', 'ever', 'how', 'remark', \n",
    "              'line', 'nation', 'political', 'country', 'each', 'so', 'warned', 'united', \n",
    "              'worker', 'official', 'intelligence', 'these', 'barack', 'away', 'lobbyist', \n",
    "              '1', 'racism', 'came', 'being', 'good', 'religious', 'criticism', 'worked', \n",
    "              'past', 'chaos', 'battleground', 'one', 'sent', 'presidency', 'include', 'case', \n",
    "              'work', 'son', 'too', 'the', 'hard', 'asked', 'going', 'adviser', 'home', \n",
    "              'perfectly', 'than', 'money', 'hour', 'doing', 'that', 'supporter', 'took', \n",
    "              'real', 'county', 'position', 'get', 'signed', 'once', 'win', 'at', 'care', \n",
    "              'system', 'future', 'today', 'close', 'declined', 'though', 'far', 'problem', \n",
    "              'story', 'or', 'enough', 'remember', 'his', 'itself', 'anyone', 'turn', 'black', \n",
    "              'claim', 'trump', 'decade', 'school', 'returning', 'spokeswoman', 'election', \n",
    "              'national', 'monday', 'did', 'message', 'high', 'age', 'issued', 'planned', \n",
    "              'month', 'everything', 'tie', 'common', 'always', 'percent', 'into', 'spoken', \n",
    "              'related', 'on', 'to', 'really', 'complained', 'last', 'true', 'already', 'fair',\n",
    "              'congressional', 'it', 'american', 'center', 'can', 'he', 'number', 'ourselves', \n",
    "              'staff', 'virus', 'p', 'change', 'day', 'make', '000', 'lawyer', 'news', 'hosted',\n",
    "              's', 'dozen', 'happen', 'also', 'will', 'had', 'little', 'z', 'jr', 'lead', 'left',\n",
    "              'senate', 'minnesota', 'this', 'bad', 'action', 'yes', '3', 'see', 'online', 'd', \n",
    "              'letter', 'ally', 'life', 'who', 'tell', 'r', 'mind', 'region', 'rest', 'feel', \n",
    "              'behavior', 'power', 'wouldn', 'document', 'best', 'politics', 'march', 'largest',\n",
    "              'security', 'some', 'here', 'respect', 'under', 'announced', 'own', 'elected', \n",
    "              'understand', 'forget', 'easy', 'without', 'saying', 'of', 'whose', 'le', 'even', \n",
    "              'service', 'child', 'republican', 'questioned', 'well', 'need', 'j', 'held', \n",
    "              'state', 'assessment', 'show', 'issue', 'their', 'what', 'use', 'wasn', 'still', \n",
    "              'people', 'however', 'g', 'majority', 'hoped', 'involving', 'hadn', 'restriction',\n",
    "              'fix', '', 'industry', '', '', 'lobbying', '', 'ego', 'dark', 'obtained', '', \n",
    "              'none', 'blocked', 'remained', 'economist', 'wisdom', 'evening', 'die', 'direction'\n",
    "              , 'hear', 'ending', 'citing', '…', 'hate', 'character', 'trial', 'six', 'couldn', \n",
    "              'conference', 'reality', 'populist', '7', '', '', 'spent', 'simply', 'airing', \n",
    "              'bid', 'huge', 'manufacturer', 'slavery', '', '', '', 'mass', 'deserves', '', '', \n",
    "              '', 'maintained', 'education', 'innovative', 'visit', 'simple', 'trip', 'equally',\n",
    "              'handling', 'difficult', 'session', 'maybe', 'quite', 'thus', 'overseas', 'ad', \n",
    "              'viewed', 'choose', 'regard', '', 'stand', 'expect', 'half', '', 'conversation', \n",
    "              'dream', 'accusation', 'drew', 'happening', 'accountability', 'seeking', 'ignore',\n",
    "              'regularly', 'manager', '', '', '', '', 'sound', 'anonymity', 'additional', \n",
    "              'infrastructure', '6', '“', '”', 'kid', '', 'website', 'dictator', 'themselves', \n",
    "              'smart', 'someone', '', '', 'raising', 'discussed', 'resolution', '', '', 'allow',\n",
    "              'income', 'live', 'equality', 'everybody', 'scrutiny', 'contact', 'investigating',\n",
    "              'measure', 'target', 'honest', 'turning', 'thanks', 'lengthy', 'contract', \n",
    "              'mistake', 'briefing', 'separate', 'annual', 'traveled', 'hope', '5', '', \n",
    "              'proposed', 'continued', 'treat', '', 'cultural', '', '', '', 'example', '', \n",
    "              'mess', 'deal', 'brings', 'assistant', 'eager', 'reform', 'wouldnt', '', \n",
    "              'advocacy', '', '', 'provision', 'youd', 'overhaul', '', '', 'counsel', '', \n",
    "              'indeed', '', 'class', '', 'guess', '', '', 'negotiation', '', 'value', 'theyve',\n",
    "              'didnt', '', 'arent', 'thats', 'column', 'deserve', 'culture', 'filed', \n",
    "              'important', '', 'happened', 'urged', 'anything', 'hasnt', 'whats', '', '', '', '',\n",
    "              'preparing', 'sure', 'cant', 'isnt', 'youre', 'kid', 'potentially', 'website', \n",
    "              'dictator', 'themselves', 'smart', 'someone', 'propaganda', 'pundit', 'raising', \n",
    "              'discussed', 'resolution', '', '', '', 'income', 'live', '', 'everybody', \n",
    "              'scrutiny', 'contact', 'investigating', 'measure', 'target', '', 'turning', \n",
    "              'thanks', 'lengthy', 'contract', 'mistake', 'briefing', 'separate', 'annual', \n",
    "              'traveled', 'hope', '5', '', 'proposed', 'continued', 'treat', '', 'cultural', \n",
    "              'exists', '', '', 'example', '', 'mess', 'deal', 'brings', 'assistant', 'eager',\n",
    "              'reform', 'wouldnt', 'corrupt', 'advocacy', '', 'fantasy', 'provision', 'youd', \n",
    "              'overhaul', '', 'hatred', 'counsel', '', 'indeed', 'whatsoever', 'class', '', \n",
    "              'guess', '', 'obviously', 'negotiation', '', 'value', 'theyve', 'didnt', 'arent', \n",
    "              'thats', 'column', 'deserve', 'culture', 'filed', 'important', 'exactly', \n",
    "              'happened', 'urged', 'anything', 'hasnt', 'whats', '', 'preparing', \n",
    "              'sure', 'cant', 'isnt', 'youre','extreme', 'liberalism', 'met', 'absolutely', 'known', 'schedule',\n",
    "       'learned', 'enemy', 'humanity', 'rather', 'addition', 'hearing',\n",
    "       'lesson', 'surely', 'definitely', 'shouldnt', 'greatest', 'skill',\n",
    "       'old', 'afraid', 'weve', '', 'worst', 'morning', 'firm', 'lie',\n",
    "       'obvious', '', 'interesting', 'release', 'cruelty', 'ranking',\n",
    "       'racist', 'learn', 'noting', 'illegally', 'folk', 'opposite',\n",
    "       'formally', '', 'scheduled', 'hed', 'wont', 'requested', '',\n",
    "       'theyre', 'havent', 'nobody', 'werent', '']"
   ]
  },
  {
   "cell_type": "code",
   "execution_count": 214,
   "metadata": {},
   "outputs": [
    {
     "data": {
      "text/plain": [
       "1018"
      ]
     },
     "execution_count": 214,
     "metadata": {},
     "output_type": "execute_result"
    }
   ],
   "source": [
    "len(final_stop)"
   ]
  },
  {
   "cell_type": "code",
   "execution_count": 215,
   "metadata": {},
   "outputs": [],
   "source": [
    "stop_words = set(final_stop)"
   ]
  },
  {
   "cell_type": "code",
   "execution_count": 216,
   "metadata": {},
   "outputs": [
    {
     "data": {
      "text/plain": [
       "880"
      ]
     },
     "execution_count": 216,
     "metadata": {},
     "output_type": "execute_result"
    }
   ],
   "source": [
    "len(stop_words)"
   ]
  },
  {
   "cell_type": "code",
   "execution_count": 217,
   "metadata": {},
   "outputs": [
    {
     "name": "stdout",
     "output_type": "stream",
     "text": [
      "CPU times: user 1.36 ms, sys: 504 µs, total: 1.86 ms\n",
      "Wall time: 1.87 ms\n"
     ]
    }
   ],
   "source": [
    "%%time\n",
    "#create vectorizer\n",
    "\n",
    "vectorizer = TfidfVectorizer(#input='content', \n",
    "#                 encoding='utf-8', \n",
    "#                 decode_error='strict', \n",
    "#                 strip_accents='ascii', \n",
    "#                 lowercase=True, \n",
    "                 preprocessor=punc_strip, \n",
    "                 tokenizer=wordnet_tokenize, \n",
    "#                 analyzer='word', \n",
    "                 stop_words=final_stop,\n",
    "#                 token_pattern='(?u)\\b\\w\\w+\\b', \n",
    "#                 ngram_range=(1, 2), \n",
    "                 max_df=0.7, \n",
    "#                 min_df=0.1, \n",
    "                 max_features=None, \n",
    "#                 vocabulary=None, \n",
    "#                 binary=False, \n",
    "#                 dtype=<class 'numpy.float64'>, \n",
    "#                 norm='l2', \n",
    "#                 use_idf=True, \n",
    "#                 smooth_idf=True, \n",
    "#                 sublinear_tf=False\n",
    ")"
   ]
  },
  {
   "cell_type": "markdown",
   "metadata": {},
   "source": [
    "# test, train, split"
   ]
  },
  {
   "cell_type": "code",
   "execution_count": 218,
   "metadata": {},
   "outputs": [],
   "source": [
    "#test, train, split"
   ]
  },
  {
   "cell_type": "code",
   "execution_count": 219,
   "metadata": {},
   "outputs": [
    {
     "name": "stdout",
     "output_type": "stream",
     "text": [
      "(20554,) (6852,) (20554,) (6852,)\n",
      "CPU times: user 2min 20s, sys: 314 ms, total: 2min 20s\n",
      "Wall time: 2min 20s\n"
     ]
    }
   ],
   "source": [
    "%%time\n",
    "#test, train, split\n",
    "X_train, X_test, y_train, y_test = train_test_split(X, y, random_state=50)\n",
    "print(X_train.shape, X_test.shape, y_train.shape, y_test.shape)\n",
    "\n",
    "X_train = vectorizer.fit_transform(X_train)\n",
    "\n",
    "X_test = vectorizer.transform(X_test)"
   ]
  },
  {
   "cell_type": "code",
   "execution_count": 220,
   "metadata": {},
   "outputs": [
    {
     "data": {
      "text/plain": [
       "(20554, 44427)"
      ]
     },
     "execution_count": 220,
     "metadata": {},
     "output_type": "execute_result"
    }
   ],
   "source": [
    "X_train.shape"
   ]
  },
  {
   "cell_type": "code",
   "execution_count": 221,
   "metadata": {},
   "outputs": [
    {
     "data": {
      "text/plain": [
       "(6852, 44427)"
      ]
     },
     "execution_count": 221,
     "metadata": {},
     "output_type": "execute_result"
    }
   ],
   "source": [
    "X_test.shape"
   ]
  },
  {
   "cell_type": "markdown",
   "metadata": {},
   "source": [
    "# count vectorizer"
   ]
  },
  {
   "cell_type": "code",
   "execution_count": 222,
   "metadata": {},
   "outputs": [],
   "source": [
    "# count_vectorizer = CountVectorizer(strip_accents='None',\n",
    "#                                    lowercase=True,\n",
    "#                                    tokenizer=snowball_tokenize,\n",
    "#                                    stop_words='english',\n",
    "#                                    max_features=None)"
   ]
  },
  {
   "cell_type": "markdown",
   "metadata": {},
   "source": [
    "# balance classes"
   ]
  },
  {
   "cell_type": "code",
   "execution_count": 223,
   "metadata": {},
   "outputs": [
    {
     "name": "stdout",
     "output_type": "stream",
     "text": [
      "[(0, 3981), (1, 3981)]\n",
      "RandomUnderSampler(random_state=0)\n",
      "CPU times: user 12.4 ms, sys: 3.45 ms, total: 15.9 ms\n",
      "Wall time: 15 ms\n"
     ]
    }
   ],
   "source": [
    "%%time\n",
    "#balance the classes\n",
    "\n",
    "from imblearn.under_sampling import RandomUnderSampler\n",
    "rus = RandomUnderSampler(random_state=0)\n",
    "\n",
    "#X, y --> X_resampled, y_resampled\n",
    "X_resampled, y_resampled = rus.fit_resample(X_train, y_train)\n",
    "print(sorted(Counter(y_resampled).items()))\n",
    "print(rus)"
   ]
  },
  {
   "cell_type": "markdown",
   "metadata": {},
   "source": [
    "# random forest classifier"
   ]
  },
  {
   "cell_type": "code",
   "execution_count": 224,
   "metadata": {},
   "outputs": [
    {
     "name": "stdout",
     "output_type": "stream",
     "text": [
      "2021-01-10 21:23:06.807037\n",
      "CPU times: user 432 µs, sys: 95 µs, total: 527 µs\n",
      "Wall time: 522 µs\n"
     ]
    }
   ],
   "source": [
    "%%time\n",
    "print(datetime.datetime.now())\n",
    "rf_clf = RandomForestClassifier(max_depth=2, random_state=0)"
   ]
  },
  {
   "cell_type": "code",
   "execution_count": 225,
   "metadata": {},
   "outputs": [
    {
     "data": {
      "text/plain": [
       "(6852,)"
      ]
     },
     "execution_count": 225,
     "metadata": {},
     "output_type": "execute_result"
    }
   ],
   "source": [
    "rf_clf.fit(X_resampled, y_resampled)\n",
    "y_pred = rf_clf.predict(X_test)\n",
    "y_pred.shape"
   ]
  },
  {
   "cell_type": "markdown",
   "metadata": {},
   "source": [
    "### metrics y_pred"
   ]
  },
  {
   "cell_type": "code",
   "execution_count": 226,
   "metadata": {},
   "outputs": [],
   "source": [
    "tn, fp, fn, tp = confusion_matrix(y_true = y_test, y_pred = y_pred).ravel()"
   ]
  },
  {
   "cell_type": "code",
   "execution_count": 227,
   "metadata": {},
   "outputs": [
    {
     "name": "stdout",
     "output_type": "stream",
     "text": [
      "(6852,)\n",
      "(6852,)\n"
     ]
    }
   ],
   "source": [
    "print(y_test.shape)\n",
    "print(y_pred.shape)"
   ]
  },
  {
   "cell_type": "code",
   "execution_count": 228,
   "metadata": {},
   "outputs": [
    {
     "name": "stdout",
     "output_type": "stream",
     "text": [
      "Accuracy: 0.87\n",
      "Recall: 0.76\n",
      "Precision: 0.63\n",
      "TN:4963 FP:586 FN:307 TP:996\n"
     ]
    },
    {
     "data": {
      "text/plain": [
       "(0.8696730881494454, 0.7643898695318496, 0.629582806573957)"
      ]
     },
     "execution_count": 228,
     "metadata": {},
     "output_type": "execute_result"
    }
   ],
   "source": [
    "metrics_(tn, fp, fn, tp)"
   ]
  },
  {
   "cell_type": "code",
   "execution_count": 229,
   "metadata": {},
   "outputs": [
    {
     "data": {
      "image/png": "[encoded data removed]",
      "text/plain": [
       "<Figure size 432x288 with 2 Axes>"
      ]
     },
     "metadata": {},
     "output_type": "display_data"
    }
   ],
   "source": [
    "class_names = [\"News\", \"Op-Ed\"]\n",
    "plot_confusion_matrix(estimator=rf_clf,\n",
    "                      X=X_test,\n",
    "                      y_true=y_test,\n",
    "                      display_labels=class_names,\n",
    "                      cmap='cividis')\n",
    "plt.savefig('img/confusion_matrix.png');"
   ]
  },
  {
   "cell_type": "markdown",
   "metadata": {},
   "source": [
    "# vectorizer parameters"
   ]
  },
  {
   "cell_type": "code",
   "execution_count": 230,
   "metadata": {},
   "outputs": [
    {
     "name": "stdout",
     "output_type": "stream",
     "text": [
      "Number of features: 44427, Numbers of stop words: 0\n",
      "analyzer: word\n",
      "binary: False\n",
      "decode_error: strict\n",
      "dtype: <class 'numpy.float64'>\n",
      "encoding: utf-8\n",
      "input: content\n",
      "lowercase: True\n",
      "max_df: 0.7\n",
      "max_features: None\n",
      "min_df: 1\n",
      "ngram_range: (1, 1)\n",
      "norm: l2\n",
      "preprocessor: <function punc_strip at 0x7ffdcf8437a0>\n",
      "smooth_idf: True\n",
      "stop_words: ['', 'over', 'john', 'email', 'discus', 'in', 'word', 'inquiry', 'acknowledged', 'despite', 'three', 'amid', 'television', 'business', 'aren', 'never', 'thursday', 'told', 'chairman', 'plan', 'given', 'medium', 'prompted', 'spirit', 'voter', 'before', 'face', '2019', 'm', 'think', 'director', 'citizen', 'panel', 'spokesman', 'become', 'expert', 'idea', 'matter', 'previously', 'family', 'rule', 'rich', 'during', 'few', '40', 'criticized', 'social', 'unclear', 'final', 'v', 'role', 'selection', 'same', 'while', 'report', 'u', 'announcement', 'record', '” “', 'let', 'democratic', 'way', 'disclosed', 've', 'doe', 'c', 'and', 'out', 'joe', 'noted', 'major', 'if', 'intended', 'understanding', 'data', 'dispute', 'white', 'take', 'operation', 'i', 'place', 'request', 'go', 'congress', 'worse', 'mean', 'investigation', 'x', 'catastrophe', 'then', 'small', 'were', 'those', 'decision', 'covid', 'looking', 'not', 'lost', 'doesn', 'received', 'response', 'evidence', 'might', 'tested', 'another', 'b', 'representative', 'h', 'something', 'are', 'up', 'where', 'released', 'joined', 'delay', 'institution', '10', 'yet', 'back', 'democracy', 'want', 'added', 'order', 'discussion', 'four', 'california', 'early', 'man', 'against', 'sought', 'wrote', 'first', 'began', 'for', 'company', 'chief', 'university', 'only', 'described', 'concern', 'our', 'terrible', 'ago', 'based', 'him', 'memo', 'keep', 'accused', 'put', 'much', 'new', 'joseph', 'detail', 'second', 'briefed', 'economy', 'lawmaker', 'right', 'candidate', 'reporter', 'aide', 'better', 'earlier', 'y', 'statement', 'mr', 'obama', 'death', 'century', 'willing', 'defended', 'administration', 'why', 'call', 'just', 'comment', 'off', 'public', 'often', 'clear', 'won', 'nature', 'crisis', 'view', 'himself', 'member', 'pandemic', 'n', 'around', 'allowing', 'office', 'survive', 'employee', 'you', 'according', 'government', 'york', 'know', 'until', 're', 'say', 'reason', 'coronavirus', 'executive', 'wednesday', 'seems', 'with', 'house', 'economic', 'conservative', 'got', 'decent', 'deputy', 'review', '13', 'me', 'expressed', 'joint', 'could', 'two', 'appeared', 'k', 'thing', 'legal', 'moment', 'an', 'made', 'risk', 'longtime', 'which', 'george', 'part', 'city', 'team', 'committee', 'opportunity', 'working', 'largely', 'including', 'top', 'guy', '500', 'somehow', 'others', 'everyone', 'like', 'o', 'both', 'wrong', 'time', 'group', 'by', 'person', 'between', 'have', 'term', 'professor', 'washington', 'most', 'freedom', 'america', 'whole', 'job', 'society', 'twitter', 'her', 'law', 'secretary', 'gathered', 'many', 'w', 'give', 'appearance', 'from', 'cited', 'seek', 'lawsuit', 'next', 'program', 'showed', 'disclose', 'committed', 'afternoon', 'late', 'actually', 'interview', 'party', 'either', 'least', 'through', 'several', 'court', 'imagine', 'whether', 'down', 'event', 'long', 'department', 'happens', 'week', 'electoral', 'strategist', 'politician', 'objection', 'taken', '2001', 'vote', 'probably', 'seem', 'chairwoman', 'policy', 'trying', 'leader', 'radical', 'agreement', 'living', 'must', 'supposed', 'local', 'result', 'should', 'highlighted', 'familiar', 'south', 'set', '30', 'recent', 'health', 'expected', 'look', 'democrat', 'friday', 'tuesday', 'adding', '2018', 'post', '2', 'effort', 'officer', 'nothing', 'series', 'she', 'treasury', 'world', 'course', 'later', 'posted', 'they', 'other', 'fund', 'my', 'find', 'senator', 'bill', 'but', 'referring', 'across', 'biden', 'don', 'q', 'effective', 'f', 'dead', 'sense', 'extensive', 'challenging', 'do', 'is', 'funding', 'getting', 'organization', 'be', 'publicly', 'your', 'directed', 'isn', 'shared', 'sort', 'fact', 'point', 'five', 'led', '2016', 'aggressive', 'about', 'meeting', 'there', 'college', 'general', 'lot', 'come', 'now', 'agency', 'found', 'such', 'vice', 'campaign', 'used', 'called', 'billion', 'bit', 'no', 'more', 'am', 'after', 'raised', 'year', 'thinking', 'when', 'indicated', 'decency', 'all', 'weren', 'senior', 'them', 'justice', 'pretty', 'former', 'act', 'privately', 'we', 'self', 'may', 'every', 'making', 'support', 'kill', 'federal', 'disclosure', 'been', 'a', 'because', 'since', 'said', 'bigger', 'would', 'included', 'presidential', 'wa', 'move', 'run', 'completely', 'ordinary', 'million', 'critical', 'donald', 'different', 'else', 'end', 'll', 'attack', 'e', 'information', 'war', 'selected', 'l', 't', 'offered', 'large', 'any', 'didn', 'very', 'done', 'president', 'ha', 'served', 'analyst', 'among', 'again', 'private', 'night', 'ever', 'how', 'remark', 'line', 'nation', 'political', 'country', 'each', 'so', 'warned', 'united', 'worker', 'official', 'intelligence', 'these', 'barack', 'away', 'lobbyist', '1', 'racism', 'came', 'being', 'good', 'religious', 'criticism', 'worked', 'past', 'chaos', 'battleground', 'one', 'sent', 'presidency', 'include', 'case', 'work', 'son', 'too', 'the', 'hard', 'asked', 'going', 'adviser', 'home', 'perfectly', 'than', 'money', 'hour', 'doing', 'that', 'supporter', 'took', 'real', 'county', 'position', 'get', 'signed', 'once', 'win', 'at', 'care', 'system', 'future', 'today', 'close', 'declined', 'though', 'far', 'problem', 'story', 'or', 'enough', 'remember', 'his', 'itself', 'anyone', 'turn', 'black', 'claim', 'trump', 'decade', 'school', 'returning', 'spokeswoman', 'election', 'national', 'monday', 'did', 'message', 'high', 'age', 'issued', 'planned', 'month', 'everything', 'tie', 'common', 'always', 'percent', 'into', 'spoken', 'related', 'on', 'to', 'really', 'complained', 'last', 'true', 'already', 'fair', 'congressional', 'it', 'american', 'center', 'can', 'he', 'number', 'ourselves', 'staff', 'virus', 'p', 'change', 'day', 'make', '000', 'lawyer', 'news', 'hosted', 's', 'dozen', 'happen', 'also', 'will', 'had', 'little', 'z', 'jr', 'lead', 'left', 'senate', 'minnesota', 'this', 'bad', 'action', 'yes', '3', 'see', 'online', 'd', 'letter', 'ally', 'life', 'who', 'tell', 'r', 'mind', 'region', 'rest', 'feel', 'behavior', 'power', 'wouldn', 'document', 'best', 'politics', 'march', 'largest', 'security', 'some', 'here', 'respect', 'under', 'announced', 'own', 'elected', 'understand', 'forget', 'easy', 'without', 'saying', 'of', 'whose', 'le', 'even', 'service', 'child', 'republican', 'questioned', 'well', 'need', 'j', 'held', 'state', 'assessment', 'show', 'issue', 'their', 'what', 'use', 'wasn', 'still', 'people', 'however', 'g', 'majority', 'hoped', 'involving', 'hadn', 'restriction', 'fix', '', 'industry', '', '', 'lobbying', '', 'ego', 'dark', 'obtained', '', 'none', 'blocked', 'remained', 'economist', 'wisdom', 'evening', 'die', 'direction', 'hear', 'ending', 'citing', '…', 'hate', 'character', 'trial', 'six', 'couldn', 'conference', 'reality', 'populist', '7', '', '', 'spent', 'simply', 'airing', 'bid', 'huge', 'manufacturer', 'slavery', '', '', '', 'mass', 'deserves', '', '', '', 'maintained', 'education', 'innovative', 'visit', 'simple', 'trip', 'equally', 'handling', 'difficult', 'session', 'maybe', 'quite', 'thus', 'overseas', 'ad', 'viewed', 'choose', 'regard', '', 'stand', 'expect', 'half', '', 'conversation', 'dream', 'accusation', 'drew', 'happening', 'accountability', 'seeking', 'ignore', 'regularly', 'manager', '', '', '', '', 'sound', 'anonymity', 'additional', 'infrastructure', '6', '“', '”', 'kid', '', 'website', 'dictator', 'themselves', 'smart', 'someone', '', '', 'raising', 'discussed', 'resolution', '', '', 'allow', 'income', 'live', 'equality', 'everybody', 'scrutiny', 'contact', 'investigating', 'measure', 'target', 'honest', 'turning', 'thanks', 'lengthy', 'contract', 'mistake', 'briefing', 'separate', 'annual', 'traveled', 'hope', '5', '', 'proposed', 'continued', 'treat', '', 'cultural', '', '', '', 'example', '', 'mess', 'deal', 'brings', 'assistant', 'eager', 'reform', 'wouldnt', '', 'advocacy', '', '', 'provision', 'youd', 'overhaul', '', '', 'counsel', '', 'indeed', '', 'class', '', 'guess', '', '', 'negotiation', '', 'value', 'theyve', 'didnt', '', 'arent', 'thats', 'column', 'deserve', 'culture', 'filed', 'important', '', 'happened', 'urged', 'anything', 'hasnt', 'whats', '', '', '', '', 'preparing', 'sure', 'cant', 'isnt', 'youre', 'kid', 'potentially', 'website', 'dictator', 'themselves', 'smart', 'someone', 'propaganda', 'pundit', 'raising', 'discussed', 'resolution', '', '', '', 'income', 'live', '', 'everybody', 'scrutiny', 'contact', 'investigating', 'measure', 'target', '', 'turning', 'thanks', 'lengthy', 'contract', 'mistake', 'briefing', 'separate', 'annual', 'traveled', 'hope', '5', '', 'proposed', 'continued', 'treat', '', 'cultural', 'exists', '', '', 'example', '', 'mess', 'deal', 'brings', 'assistant', 'eager', 'reform', 'wouldnt', 'corrupt', 'advocacy', '', 'fantasy', 'provision', 'youd', 'overhaul', '', 'hatred', 'counsel', '', 'indeed', 'whatsoever', 'class', '', 'guess', '', 'obviously', 'negotiation', '', 'value', 'theyve', 'didnt', 'arent', 'thats', 'column', 'deserve', 'culture', 'filed', 'important', 'exactly', 'happened', 'urged', 'anything', 'hasnt', 'whats', '', 'preparing', 'sure', 'cant', 'isnt', 'youre', 'extreme', 'liberalism', 'met', 'absolutely', 'known', 'schedule', 'learned', 'enemy', 'humanity', 'rather', 'addition', 'hearing', 'lesson', 'surely', 'definitely', 'shouldnt', 'greatest', 'skill', 'old', 'afraid', 'weve', '', 'worst', 'morning', 'firm', 'lie', 'obvious', '', 'interesting', 'release', 'cruelty', 'ranking', 'racist', 'learn', 'noting', 'illegally', 'folk', 'opposite', 'formally', '', 'scheduled', 'hed', 'wont', 'requested', '', 'theyre', 'havent', 'nobody', 'werent', '']\n",
      "strip_accents: None\n",
      "sublinear_tf: False\n",
      "token_pattern: (?u)\\b\\w\\w+\\b\n",
      "tokenizer: <function wordnet_tokenize at 0x7ffdc5a373b0>\n",
      "use_idf: True\n",
      "vocabulary: None\n"
     ]
    }
   ],
   "source": [
    "vectorizer_parameters(vectorizer)"
   ]
  },
  {
   "cell_type": "markdown",
   "metadata": {},
   "source": [
    "# important features"
   ]
  },
  {
   "cell_type": "markdown",
   "metadata": {},
   "source": [
    "### feature imporance"
   ]
  },
  {
   "cell_type": "code",
   "execution_count": 231,
   "metadata": {
    "scrolled": true
   },
   "outputs": [
    {
     "name": "stdout",
     "output_type": "stream",
     "text": [
      "2021-01-10 21:23:08.338658\n",
      "CPU times: user 418 ms, sys: 30.8 ms, total: 449 ms\n",
      "Wall time: 446 ms\n"
     ]
    },
    {
     "data": {
      "image/png": "[encoded data removed]",
      "text/plain": [
       "<Figure size 1440x1080 with 1 Axes>"
      ]
     },
     "metadata": {},
     "output_type": "display_data"
    }
   ],
   "source": [
    "%%time\n",
    "print(datetime.datetime.now())\n",
    "\n",
    "feat_names = vectorizer.get_feature_names()\n",
    "feature_import = rf_clf.feature_importances_\n",
    "\n",
    "feat_scores = pd.Series(feature_import, index=feat_names)\n",
    "feat_scores = feat_scores.sort_values()\n",
    "ax = feat_scores[-20:].plot(kind='barh', figsize=(20,15))\n",
    "ax.set_title('\"Decrease in Impurity\" Importance')\n",
    "ax.set_xlabel('Average contribution to the reduction in variance')\n",
    "plt.savefig('img/feature_imporance.png');"
   ]
  },
  {
   "cell_type": "code",
   "execution_count": 232,
   "metadata": {},
   "outputs": [
    {
     "data": {
      "text/plain": [
       "Index(['imposed', 'client', 'includes', 'particularly', 'exist', 'shes',\n",
       "       'morality', 'unusual', 'clashed', 'struggled', 'proposal', 'consultant',\n",
       "       'innovation', 'equal', 'prosecutor', 'agent', 'initial', 'initially',\n",
       "       'becomes', '2013', 'nonsense', 'signaled', 'receive', 'formal',\n",
       "       'charged', 'vowed', 'finally', 'legislation', 'conservatism', 'um',\n",
       "       'critic', 'bear', 'bunch', 'aggressively', 'bigotry', 'betrayal',\n",
       "       'oversees', 'communication', 'criticizing', 'sensible', 'nice',\n",
       "       'appreciate', 'internal', 'nonprofit', 'file', 'push', 'throw',\n",
       "       'horror', 'confirmed', 'partner', 'wealth', 'soul', 'awful',\n",
       "       'suggested', 'poor', 'talking', 'strange', 'free', 'quickly',\n",
       "       'yourself', 'theyll', 'wed', 'hell', 'agreed', 'deadline', 'wing',\n",
       "       'certainly', 'monster', 'moral', 'judge', 'bolster', 'pressed',\n",
       "       'utterly', 'lose', 'almost', '20th', 'excellent', 'cynicism', 'advised',\n",
       "       'doesnt', 'brief', 'dont', 'game', 'rage', 'reader', 'ideal', 'respond',\n",
       "       'confirmation', 'potential', 'theyd', 'totally', 'payment', 'stuff',\n",
       "       'actual', 'wonder', 'love', 'wasnt', 'whatever', 'big', 'truth'],\n",
       "      dtype='object')"
      ]
     },
     "execution_count": 232,
     "metadata": {},
     "output_type": "execute_result"
    }
   ],
   "source": [
    "feat_scores[-100:].index"
   ]
  },
  {
   "cell_type": "code",
   "execution_count": 233,
   "metadata": {},
   "outputs": [],
   "source": [
    "count_df = df[['text', 'type_of_material']]\n",
    "oped = count_df[count_df['type_of_material'] == \"Op-Ed\"]\n",
    "news = count_df[count_df['type_of_material'] == \"News\"]"
   ]
  },
  {
   "cell_type": "code",
   "execution_count": 266,
   "metadata": {},
   "outputs": [
    {
     "name": "stdout",
     "output_type": "stream",
     "text": [
      "(5284, 2)\n",
      "(22122, 2)\n"
     ]
    }
   ],
   "source": [
    "print(oped.shape)\n",
    "print(news.shape)"
   ]
  },
  {
   "cell_type": "code",
   "execution_count": 234,
   "metadata": {},
   "outputs": [],
   "source": [
    "oped_string = oped.text.str.cat(sep = \" \")"
   ]
  },
  {
   "cell_type": "code",
   "execution_count": 235,
   "metadata": {},
   "outputs": [],
   "source": [
    "news_string = news.text.str.cat(sep = \" \")"
   ]
  },
  {
   "cell_type": "markdown",
   "metadata": {},
   "source": [
    "# counting"
   ]
  },
  {
   "cell_type": "code",
   "execution_count": 286,
   "metadata": {},
   "outputs": [],
   "source": [
    "top_10 = feat_scores[-15:].index"
   ]
  },
  {
   "cell_type": "code",
   "execution_count": 292,
   "metadata": {},
   "outputs": [],
   "source": [
    "oped_list = [word for word in oped_string.split() if word in list(top_10)]\n",
    "oped_ed_counter = Counter(oped_list)"
   ]
  },
  {
   "cell_type": "code",
   "execution_count": 293,
   "metadata": {},
   "outputs": [
    {
     "data": {
      "text/plain": [
       "dict_items([('truth', 1063), ('wasnt', 1066), ('wonder', 419), ('love', 603), ('big', 2224), ('actual', 480), ('respond', 278), ('whatever', 471), ('stuff', 260), ('potential', 554), ('totally', 211), ('ideal', 148), ('confirmation', 231), ('theyd', 195), ('payment', 58)])"
      ]
     },
     "execution_count": 293,
     "metadata": {},
     "output_type": "execute_result"
    }
   ],
   "source": [
    "oped_ed_counter.items()"
   ]
  },
  {
   "cell_type": "code",
   "execution_count": 294,
   "metadata": {},
   "outputs": [
    {
     "data": {
      "text/plain": [
       "dict_items([('wonder', 297), ('big', 4006), ('potential', 5069), ('confirmation', 2834), ('wasnt', 920), ('whatever', 658), ('respond', 2631), ('truth', 613), ('totally', 96), ('theyd', 88), ('actual', 647), ('payment', 987), ('ideal', 205), ('love', 543), ('stuff', 149)])"
      ]
     },
     "execution_count": 294,
     "metadata": {},
     "output_type": "execute_result"
    }
   ],
   "source": [
    "news_list = [word for word in news_string.split() if word  in list(top_10)]\n",
    "news_counter = Counter(news_list)\n",
    "news_counter.items()"
   ]
  },
  {
   "cell_type": "code",
   "execution_count": 295,
   "metadata": {},
   "outputs": [
    {
     "data": {
      "image/png": "[encoded data removed]",
      "text/plain": [
       "<Figure size 1440x1440 with 1 Axes>"
      ]
     },
     "metadata": {},
     "output_type": "display_data"
    }
   ],
   "source": [
    "import matplotlib\n",
    "import matplotlib.pyplot as plt\n",
    "import numpy as np\n",
    "\n",
    "\n",
    "labels = oped_ed_counter.keys()\n",
    "oped_counts = oped_ed_counter.values()\n",
    "news_counts = news_counter.values()\n",
    "\n",
    "x = np.arange(len(labels))  # the label locations\n",
    "width = 0.5  # the width of the bars\n",
    "\n",
    "fig, ax = plt.subplots(figsize=(20,20))\n",
    "rects1 = ax.bar(x - width/2, oped_counts, width, label='oped')\n",
    "rects2 = ax.bar(x + width/2, news_counts, width, label='news')\n",
    "\n",
    "# Add some text for labels, title and custom x-axis tick labels, etc.\n",
    "ax.set_ylabel('Scores')\n",
    "ax.set_title('Scores by group and gender')\n",
    "ax.set_xticks(x)\n",
    "ax.set_xticklabels(labels)\n",
    "ax.legend()\n",
    "\n",
    "\n",
    "# def autolabel(rects):\n",
    "#     \"\"\"Attach a text label above each bar in *rects*, displaying its height.\"\"\"\n",
    "#     for rect in rects:\n",
    "#         height = rect.get_height()\n",
    "#         ax.annotate('{}'.format(height),\n",
    "#                     xy=(rect.get_x() + rect.get_width() / 2, height),\n",
    "#                     xytext=(0, 3),  # 3 points vertical offset\n",
    "#                     textcoords=\"offset p/;oints\",\n",
    "#                     ha='center', va='bottom')\n",
    "\n",
    "\n",
    "#autolabel(rects1)\n",
    "#autolabel(rects2)\n",
    "\n",
    "fig.tight_layout()\n",
    "plt.xticks(rotation=90)\n",
    "plt.show()"
   ]
  },
  {
   "cell_type": "code",
   "execution_count": null,
   "metadata": {},
   "outputs": [],
   "source": []
  },
  {
   "cell_type": "code",
   "execution_count": null,
   "metadata": {},
   "outputs": [],
   "source": []
  },
  {
   "cell_type": "code",
   "execution_count": null,
   "metadata": {},
   "outputs": [],
   "source": []
  },
  {
   "cell_type": "code",
   "execution_count": null,
   "metadata": {},
   "outputs": [],
   "source": []
  },
  {
   "cell_type": "code",
   "execution_count": 272,
   "metadata": {},
   "outputs": [
    {
     "data": {
      "text/plain": [
       "dict_keys(['of', 'the', 'past', 'week', 'in', 'which', 'death', 'led', 'to', 'against', 'and', 'these', 'were', 'met', 'by', 'more', 'including', 'news', 'have', 'made', 'it', 'clear', 'what', 'off', 'far', 'from', 'trying', 'nation', 'is', 'on', 'he', 'seems', 'very', 'close', 'a', 'war', 'think', 'an', 'say', 'that', 'we', 'know', 'did', 'get', 'here', 'story', 'politics', 'over', 'four', 'white', 'racism', 'political', 'power', 'they', 'used', 'already', 'at', 'for', 'people', 'this', 'reality', 'with', 'face', 'point', 'however', 'not', 'see', 'whats', 'going', 'still', 'economic', 'been', 'opposite', 'populist', 'largely', 'effort', 'through', 'huge', 'rich', 'so', 'take', 'health', 'away', 'back', 'good', 'before', 'coronavirus', 'into', 'had', 'major', 'or', 'who', 'large', '2016', 'thanks', 'his', 'really', 'offered', 'working', 'class', 'up', 'most', 'than', 'only', 'thing', 'you', 'would', 'expect', 'are', 'after', 'all', 'both', 'make', 'enough', 'money', 'much', 'will', 'be', 'risk', 'if', 'state', 'local', 'might', 'such', 'while', 'many', 'largest', 'their', 'pretty', 'about', 'why', 'feel', 'them', 'even', 'behavior', 'probably', 'well', 'fact', 'some', 'those', 'any', 'other', 'should', 'held', 'accused', 'own', 'call', 'showed', 'no', 'either', 'there', 'role', 'told', 'must', 'when', 'began', 'also', 'said', 'spent', 'win', 'despite', 'policy', 'now', 'one', 'response', 'social', 'nobody', 'actually', 'future', 'though', 'use', 'do', 'election', 'pandemic', '000', 'put', 'life', 'out', 'work', 'man', 'officer', 'mass', 'across', 'country', 'system', 'society', 'crisis', 'year', 'among', 'making', 'reason', 'between', 'then', 'isnt', 'president', 'campaign', 'attack', 'cant', 'happening', 'your', 'former', 'vice', 'time', 'majority', 'could', 'claim', 'chaos', 'can', 'around', 'himself', 'order', 'federal', 'law', 'but', 'evidence', 'want', 'way', 'presidential', 'course', 'adding', 'first', 'chief', 'just', 'anyone', 'position', 'candidate', 'simple', 'how', 'simply', 'ago', 'too', 'late', 'different', 'turn', 'public', 'understanding', 'my', 'shouldnt', 'forget', 'our', 'next', 'move', 'another', 'understand', 'remember', 'like', 'seem', 'world', 'thinking', 'night', 'high', 'school', 'signed', 'family', 'home', 'doing', 'best', 'never', 'expected', 'filed', 'document', 'me', 'true', 'funding', 'administration', 'three', 'during', 'same', 'office', 'end', 'black', 'virus', 'data', '40', 'percent', 'yet', 'become', 'report', 'care', 'infrastructure', 'matter', 'support', 'example', 'since', 'few', 'statement', 'court', 'request', 'rule', 'number', 'wrote', 'case', 'right', 'nothing', 'private', 'continued', 'issue', 'may', 'am', 'down', 'whether', 'secretary', 'saying', 'left', 'called', 'others', 'common', 'service', 'guy', 'overseas', 'ordinary', 'government', 'ignore', 'act', 'without', 'last', 'trial', 'requested', 'legal', 'criticized', 'thus', 'asked', 'national', 'several', 'obviously', 'getting', 'opportunity', 'run', 'institution', 'itself', 'show', 'early', 'hope', 'part', 'because', 'respect', 'long', 'else', 'need', 'new', 'him', 'view', 'come', 'general', 'chairman', 'staff', 'expressed', 'moment', 'democracy', 'publicly', 'two', '2018', 'according', 'look', 'exactly', '…', 'later', 'wont', 'where', 'million', 'lost', 'something', 'trip', 'find', 'joined', 'day', 'turning', 'hear', 'deal', 'thats', 'old', 'willing', 'visit', 'until', 'guess', 'important', 'everything', 'rather', 'line', 'idea', 'arent', 'afraid', 'mind', 'quite', 'better', 'word', 'came', 'urged', 'often', 'mean', 'program', 'bill', 'education', 'agreement', 'go', 'always', 'got', 'message', 'completely', 'youre', 'hearing', 'taken', 'dead', 'her', 'keep', 'die', 'each', 'being', 'honest', 'voter', 'again', 'real', 'city', 'fix', 'learn', 'whole', 'ever', 'job', 'choose', 'vote', 'she', '6', 'anything', 'child', 'target', 'live', '5', 'hour', 'didnt', 'record', '1', 'won', 'absolutely', 'learned', 'measure', 'done', 'freedom', 'least', 'little', 'humanity', 'every', 'letter', 'spirit', 'party', 'concern', 'cultural', 'change', 'age', 'added', 'equality', 'action', 'challenging', 'worst', 'racist', 'final', 'deserve', 'surely', 'allow', 'ourselves', 'justice', 'drew', 'seek', 'everyone', 'email', 'stand', 'reform', 'easy', 'given', 'worse', 'obvious', 'bit', 'smart', 'took', 'plan', 'supposed', 'lead', 'business', 'today', 'problem', 'democratic', 'under', 'happen', 'potentially', 'wouldnt', 'rest', 'information', 'radical', 'sound', 'hard', 'group', 'ad', 'effective', 'leader', 'top', 'posted', 'presidency', 'committee', 'whose', 'include', 'adviser', 'strategist', 'small', 'member', 'bigger', 'character', 'five', 'critical', 'themselves', 'weve', 'theyve', 'accountability', 'theyre', 'firm', 'treat', 'dispute', 'bad', 'person', 'separate', 'culture', 'century', 'werent', 'complained', 'direction', 'intended', 'worked', 'found', 'nature', 'conservative', 'sense', 'someone', 'catastrophe', 'none', 'team', 'medium', 'give', 'result', 'lot', 'v', 'served', 'set', 'related', 'slavery', 'living', 'shared', 'hate', 'tell', 'hatred', 'remained', 'known', 'm', 'security', 'let', 'lawyer', 'noted', 'afternoon', 'dark', 'organization', 'fair', 'cruelty', 'once', 'sure', 'happened', 'equally', 'senator', 'yes', 'religious', 'department', 'elected', 'television', 'selected', 'based', 'college', 'recent', 'economy', 'youd', 'b', 'hasnt', 'place', 'allowing', 'half', 'described', 'longtime', 'exists', 'conference', 'raised', 'director', 'decent', 'income', 'representative', 'month', 'official', 'congressional', 'release', 'company', 'objection', 'decade', 'looking', 'everybody', 'maybe', 'billion', 'electoral', '10', '2001', 'perfectly', 'appeared', 'ending', 'conversation', 'acknowledged', 'professor', 'son', 'six', 'wrong', 'morning', '3', 'lie', '2', 'intelligence', 'cited', 'earlier', 'value', 'regard', 'imagine', 'announced', 'indeed', 'happens', 'somehow', 'assessment', 'eager', 'decision', 'second', 'criticism', 'spokesman', 'discussion', 'survive', 'familiar', 'center', 'amid', '500', 'formally', 'viewed', 'provision', 'citing', 'greatest', 'sought', 'term', 'regularly', 'proposed', '2019', 'online', 'liberalism', 'planned', 'dictator', 'lesson', 'comment', '30', '13', 'havent', 'ego', 'review', 'senior', 'innovative', 'expert', 'declined', 'event', 'noting', 'directed', 'preparing', 'house', 'sent', 'dozen', 'tested', 'meeting', 'issued', 'committed', 'received', 'previously', 'series', 'seeking', 'involving', 'extreme', 'appearance', 'warned', 'briefing', 'terrible', 'dream', 'difficult', 'schedule', 'corrupt', 'economist', 'hoped', 'citizen', '7', 'executive', 'mistake', 'region', 'agency', 'advocacy', 'kid', 'hed', 'interview', 'disclosure', 'inquiry', 'blocked', 'included', 'announcement', 'privately', 'negotiation', 'sort', 'additional', 'kill', 'employee', 'traveled', 'investigation', 'scrutiny', 'prompted', 'deserves', 'spoken', 'deputy', 'investigating', 'ally', 'bid', 'supporter', 'don', 'aide', 'handling', 'county', 'anonymity', 'mess', 'worker', 'annual', 'overhaul', 'memo', 'lobbying', 'illegally', 'industry', 'raising', 'reporter', 's', 'enemy', 'evening', 'briefed', 'referring', 'politician', 'fund', 'lawsuit', 'restriction', 'contact', 'tie', 'definitely', 'questioned', 'resolution', 'returning', 'brings', 'detail', 'session', 'assistant', 'discussed', 'column', 'south', 'counsel', 'obtained', 'released', 'panel', 'selection', 'scheduled', 'website', 'addition', 'fantasy', 'gathered', 'maintained', 'wisdom', 'operation', 'joint', 'aggressive', 'defended', 'skill', 'delay', 'extensive', 'march', 'decency', 'interesting', 'unclear', 'propaganda', 'manager', 'self', 'indicated', 'lawmaker', 'chairwoman', 'post', 'treasury', 'republican', 'folk', 'ranking', 'battleground', 'contract', 'whatsoever', 'k', 'united', 'highlighted', 'p', 'lengthy', 'accusation', 'disclose', 'university', 'hosted', 'r', 'remark', 'analyst', 'manufacturer', 'airing', 'lobbyist', 'o', 'spokeswoman', 'e', 'pundit', 'democrat', 'i', 'disclosed', 'twitter', 'f', 'n', 'trump', 'didn', 't', 'senate', 'g', 're', 'u', 'c', 'd', 'congress', 'le', 'j', 'ha'])"
      ]
     },
     "execution_count": 272,
     "metadata": {},
     "output_type": "execute_result"
    }
   ],
   "source": [
    "labels"
   ]
  },
  {
   "cell_type": "code",
   "execution_count": 260,
   "metadata": {},
   "outputs": [
    {
     "name": "stdout",
     "output_type": "stream",
     "text": [
      "of 117408\n",
      "the 222616\n",
      "past 1833\n",
      "week 2234\n",
      "in 71225\n",
      "which 9034\n",
      "death 673\n",
      "led 818\n",
      "to 121799\n",
      "against 3669\n",
      "and 98315\n",
      "these 4172\n",
      "were 9938\n",
      "met 418\n",
      "by 19281\n",
      "more 14321\n",
      "including 1737\n",
      "news 1809\n",
      "have 21962\n",
      "made 3179\n",
      "it 26389\n",
      "clear 1630\n",
      "what 8163\n",
      "off 2186\n",
      "far 2264\n",
      "from 16798\n",
      "trying 1557\n",
      "nation 1265\n",
      "is 46924\n",
      "on 29608\n",
      "he 22521\n",
      "seems 1646\n",
      "very 2596\n",
      "close 759\n",
      "a 98911\n",
      "war 1860\n",
      "think 2940\n",
      "an 15786\n",
      "say 3097\n",
      "that 68516\n",
      "we 11031\n",
      "know 3110\n",
      "did 3886\n",
      "get 4307\n",
      "here 1362\n",
      "story 1507\n",
      "politics 2985\n",
      "over 5329\n",
      "four 1077\n",
      "white 2142\n",
      "racism 447\n",
      "political 6502\n",
      "power 3206\n",
      "they 14463\n",
      "used 1660\n",
      "already 1918\n",
      "at 14669\n",
      "for 38490\n",
      "people 9594\n",
      "this 15470\n",
      "reality 1012\n",
      "with 25675\n",
      "face 1124\n",
      "point 2093\n",
      "however 1172\n",
      "not 18820\n",
      "see 2802\n",
      "whats 569\n",
      "going 2631\n",
      "still 3299\n",
      "economic 2651\n",
      "been 9191\n",
      "opposite 332\n",
      "populist 412\n",
      "largely 609\n",
      "effort 713\n",
      "through 2739\n",
      "huge 749\n",
      "rich 783\n",
      "so 7611\n",
      "take 2597\n",
      "health 3682\n",
      "away 1683\n",
      "back 3190\n",
      "good 2865\n",
      "before 3024\n",
      "coronavirus 628\n",
      "into 6031\n",
      "had 9400\n",
      "major 1137\n",
      "or 13734\n",
      "who 17563\n",
      "large 1043\n",
      "2016 1561\n",
      "thanks 347\n",
      "his 23693\n",
      "really 2079\n",
      "offered 443\n",
      "working 1294\n",
      "class 1030\n",
      "up 7543\n",
      "most 6068\n",
      "than 10696\n",
      "only 5828\n",
      "thing 1823\n",
      "you 8415\n",
      "would 13494\n",
      "expect 486\n",
      "are 21399\n",
      "after 3986\n",
      "all 10003\n",
      "both 3061\n",
      "make 4141\n",
      "enough 1829\n",
      "money 2083\n",
      "much 5163\n",
      "will 11574\n",
      "be 22354\n",
      "risk 740\n",
      "if 8203\n",
      "state 3406\n",
      "local 913\n",
      "might 3292\n",
      "such 2572\n",
      "while 3694\n",
      "many 6084\n",
      "largest 321\n",
      "their 14126\n",
      "pretty 617\n",
      "about 15311\n",
      "why 2142\n",
      "feel 1128\n",
      "them 6623\n",
      "even 7002\n",
      "behavior 657\n",
      "probably 1190\n",
      "well 3005\n",
      "fact 2202\n",
      "some 5969\n",
      "those 5253\n",
      "any 4470\n",
      "other 5834\n",
      "should 5230\n",
      "held 812\n",
      "accused 395\n",
      "own 3561\n",
      "call 1196\n",
      "showed 435\n",
      "no 6754\n",
      "either 909\n",
      "there 5649\n",
      "role 953\n",
      "told 2735\n",
      "must 1941\n",
      "when 8581\n",
      "began 837\n",
      "also 6296\n",
      "said 7095\n",
      "spent 846\n",
      "win 1422\n",
      "despite 680\n",
      "policy 3500\n",
      "now 5889\n",
      "one 9473\n",
      "response 881\n",
      "social 1877\n",
      "nobody 332\n",
      "actually 1889\n",
      "future 1386\n",
      "though 1624\n",
      "use 1608\n",
      "do 6315\n",
      "election 3316\n",
      "pandemic 677\n",
      "000 1646\n",
      "put 2086\n",
      "life 1822\n",
      "out 7657\n",
      "work 2865\n",
      "man 1802\n",
      "officer 178\n",
      "mass 482\n",
      "across 947\n",
      "country 3943\n",
      "system 2197\n",
      "society 763\n",
      "crisis 1524\n",
      "year 3275\n",
      "among 1782\n",
      "making 1573\n",
      "reason 1227\n",
      "between 2493\n",
      "then 3372\n",
      "isnt 1914\n",
      "president 7730\n",
      "campaign 3472\n",
      "attack 670\n",
      "cant 1798\n",
      "happening 412\n",
      "your 2188\n",
      "former 1918\n",
      "vice 422\n",
      "time 5040\n",
      "majority 1772\n",
      "could 6317\n",
      "claim 871\n",
      "chaos 206\n",
      "can 7857\n",
      "around 2328\n",
      "himself 1828\n",
      "order 1020\n",
      "federal 2614\n",
      "law 2241\n",
      "but 12638\n",
      "evidence 1114\n",
      "want 2718\n",
      "way 4821\n",
      "presidential 2276\n",
      "course 1731\n",
      "adding 222\n",
      "first 3684\n",
      "chief 897\n",
      "just 6544\n",
      "anyone 847\n",
      "position 714\n",
      "candidate 1616\n",
      "simple 461\n",
      "how 5361\n",
      "simply 1134\n",
      "ago 1424\n",
      "too 3349\n",
      "late 645\n",
      "different 1550\n",
      "turn 1098\n",
      "public 3687\n",
      "understanding 315\n",
      "my 3651\n",
      "shouldnt 416\n",
      "forget 246\n",
      "our 8763\n",
      "next 1840\n",
      "move 805\n",
      "another 2225\n",
      "understand 920\n",
      "remember 622\n",
      "like 8477\n",
      "seem 1432\n",
      "world 2895\n",
      "thinking 732\n",
      "night 595\n",
      "high 1225\n",
      "school 967\n",
      "signed 369\n",
      "family 1488\n",
      "home 1223\n",
      "doing 1388\n",
      "best 1577\n",
      "never 2567\n",
      "expected 426\n",
      "filed 109\n",
      "document 120\n",
      "me 3337\n",
      "true 1339\n",
      "funding 442\n",
      "administration 2703\n",
      "three 1554\n",
      "during 2090\n",
      "same 2905\n",
      "office 1840\n",
      "end 1845\n",
      "black 1473\n",
      "virus 436\n",
      "data 679\n",
      "40 460\n",
      "percent 5064\n",
      "yet 1209\n",
      "become 1945\n",
      "report 1100\n",
      "care 3093\n",
      "infrastructure 555\n",
      "matter 1306\n",
      "support 2400\n",
      "example 1371\n",
      "since 2388\n",
      "few 2188\n",
      "statement 406\n",
      "court 972\n",
      "request 111\n",
      "rule 756\n",
      "number 1202\n",
      "wrote 1495\n",
      "case 1893\n",
      "right 3884\n",
      "nothing 1368\n",
      "private 1144\n",
      "continued 494\n",
      "issue 1261\n",
      "may 3760\n",
      "am 586\n",
      "down 2660\n",
      "whether 1965\n",
      "secretary 871\n",
      "saying 1107\n",
      "left 1973\n",
      "called 1798\n",
      "others 1288\n",
      "common 699\n",
      "service 563\n",
      "guy 543\n",
      "overseas 130\n",
      "ordinary 285\n",
      "government 5341\n",
      "ignore 284\n",
      "act 817\n",
      "without 2336\n",
      "last 3835\n",
      "trial 233\n",
      "requested 51\n",
      "legal 893\n",
      "criticized 131\n",
      "thus 272\n",
      "asked 1308\n",
      "national 2490\n",
      "several 686\n",
      "obviously 260\n",
      "getting 1095\n",
      "opportunity 592\n",
      "run 1338\n",
      "institution 162\n",
      "itself 1081\n",
      "show 1173\n",
      "early 1081\n",
      "hope 892\n",
      "part 2355\n",
      "because 6294\n",
      "respect 437\n",
      "long 2445\n",
      "else 842\n",
      "need 2897\n",
      "new 4543\n",
      "him 6483\n",
      "view 810\n",
      "come 1961\n",
      "general 1106\n",
      "chairman 497\n",
      "staff 535\n",
      "expressed 218\n",
      "moment 1194\n",
      "democracy 1209\n",
      "publicly 325\n",
      "two 3662\n",
      "2018 536\n",
      "according 849\n",
      "look 1588\n",
      "exactly 626\n",
      "… 272\n",
      "later 1106\n",
      "wont 1125\n",
      "where 3328\n",
      "million 1871\n",
      "lost 1274\n",
      "something 2084\n",
      "trip 186\n",
      "find 1367\n",
      "joined 276\n",
      "day 1680\n",
      "turning 351\n",
      "hear 607\n",
      "deal 1298\n",
      "thats 1604\n",
      "old 1010\n",
      "willing 761\n",
      "visit 203\n",
      "until 1096\n",
      "guess 230\n",
      "important 1781\n",
      "everything 973\n",
      "rather 1494\n",
      "line 945\n",
      "idea 1502\n",
      "arent 980\n",
      "afraid 196\n",
      "mind 793\n",
      "quite 543\n",
      "better 2177\n",
      "word 562\n",
      "came 1549\n",
      "urged 195\n",
      "often 1911\n",
      "mean 925\n",
      "program 1005\n",
      "bill 1856\n",
      "education 947\n",
      "agreement 377\n",
      "go 2167\n",
      "always 1746\n",
      "got 1528\n",
      "message 637\n",
      "completely 399\n",
      "youre 769\n",
      "hearing 441\n",
      "taken 749\n",
      "dead 288\n",
      "her 5922\n",
      "keep 1429\n",
      "die 224\n",
      "each 1156\n",
      "being 3002\n",
      "honest 219\n",
      "voter 563\n",
      "again 1535\n",
      "real 1781\n",
      "city 446\n",
      "fix 244\n",
      "learn 389\n",
      "whole 1002\n",
      "ever 1559\n",
      "job 1521\n",
      "choose 393\n",
      "vote 2407\n",
      "she 4732\n",
      "6 416\n",
      "anything 1332\n",
      "child 585\n",
      "target 196\n",
      "live 885\n",
      "5 630\n",
      "hour 199\n",
      "didnt 2146\n",
      "record 740\n",
      "1 1362\n",
      "won 1128\n",
      "absolutely 155\n",
      "learned 540\n",
      "measure 354\n",
      "done 1333\n",
      "freedom 491\n",
      "least 1985\n",
      "little 1667\n",
      "humanity 129\n",
      "every 2502\n",
      "letter 301\n",
      "spirit 207\n",
      "party 3599\n",
      "concern 338\n",
      "cultural 500\n",
      "change 2236\n",
      "age 859\n",
      "added 606\n",
      "equality 247\n",
      "action 859\n",
      "challenging 102\n",
      "worst 557\n",
      "racist 428\n",
      "final 354\n",
      "deserve 248\n",
      "surely 407\n",
      "allow 531\n",
      "ourselves 318\n",
      "justice 785\n",
      "drew 115\n",
      "seek 336\n",
      "everyone 829\n",
      "email 197\n",
      "stand 646\n",
      "reform 1510\n",
      "easy 662\n",
      "given 1145\n",
      "worse 821\n",
      "obvious 547\n",
      "bit 498\n",
      "smart 277\n",
      "took 1322\n",
      "plan 1574\n",
      "supposed 737\n",
      "lead 983\n",
      "business 1353\n",
      "today 1159\n",
      "problem 1613\n",
      "democratic 515\n",
      "under 2116\n",
      "happen 798\n",
      "potentially 204\n",
      "wouldnt 649\n",
      "rest 637\n",
      "information 894\n",
      "radical 362\n",
      "sound 366\n",
      "hard 1568\n",
      "group 1158\n",
      "ad 201\n",
      "effective 491\n",
      "leader 1173\n",
      "top 1102\n",
      "posted 89\n",
      "presidency 1466\n",
      "committee 479\n",
      "whose 1489\n",
      "include 415\n",
      "adviser 396\n",
      "strategist 157\n",
      "small 1022\n",
      "member 485\n",
      "bigger 391\n",
      "character 400\n",
      "five 639\n",
      "critical 383\n",
      "themselves 1501\n",
      "weve 578\n",
      "theyve 331\n",
      "accountability 148\n",
      "theyre 1173\n",
      "firm 209\n",
      "treat 207\n",
      "dispute 84\n",
      "bad 1296\n",
      "person 958\n",
      "separate 179\n",
      "culture 735\n",
      "century 611\n",
      "werent 373\n",
      "complained 158\n",
      "direction 345\n",
      "intended 230\n",
      "worked 699\n",
      "found 1468\n",
      "nature 330\n",
      "conservative 2081\n",
      "sense 1292\n",
      "someone 968\n",
      "catastrophe 147\n",
      "none 393\n",
      "team 615\n",
      "medium 22\n",
      "give 1316\n",
      "result 840\n",
      "lot 1517\n",
      "v 274\n",
      "served 407\n",
      "set 1038\n",
      "related 144\n",
      "slavery 281\n",
      "living 646\n",
      "shared 358\n",
      "hate 338\n",
      "tell 840\n",
      "hatred 152\n",
      "remained 168\n",
      "known 741\n",
      "m 72\n",
      "security 1249\n",
      "let 957\n",
      "lawyer 340\n",
      "noted 581\n",
      "afternoon 91\n",
      "dark 234\n",
      "organization 321\n",
      "fair 476\n",
      "cruelty 108\n",
      "once 1901\n",
      "sure 843\n",
      "happened 815\n",
      "equally 225\n",
      "senator 583\n",
      "yes 392\n",
      "religious 740\n",
      "department 175\n",
      "elected 914\n",
      "television 355\n",
      "selected 40\n",
      "based 622\n",
      "college 713\n",
      "recent 1582\n",
      "economy 1894\n",
      "youd 176\n",
      "b 15\n",
      "hasnt 492\n",
      "place 1371\n",
      "allowing 217\n",
      "half 889\n",
      "described 531\n",
      "longtime 140\n",
      "exists 169\n",
      "conference 404\n",
      "raised 438\n",
      "director 551\n",
      "decent 187\n",
      "income 810\n",
      "representative 170\n",
      "month 953\n",
      "official 566\n",
      "congressional 737\n",
      "release 241\n",
      "company 605\n",
      "objection 40\n",
      "decade 560\n",
      "looking 693\n",
      "everybody 286\n",
      "maybe 632\n",
      "billion 936\n",
      "electoral 492\n",
      "10 927\n",
      "2001 107\n",
      "perfectly 208\n",
      "appeared 285\n",
      "ending 198\n",
      "conversation 347\n",
      "acknowledged 141\n",
      "professor 298\n",
      "son 369\n",
      "six 487\n",
      "wrong 1100\n",
      "morning 334\n",
      "3 630\n",
      "lie 353\n",
      "2 767\n",
      "intelligence 655\n",
      "cited 143\n",
      "earlier 416\n",
      "value 314\n",
      "regard 197\n",
      "imagine 584\n",
      "announced 576\n",
      "indeed 456\n",
      "happens 492\n",
      "somehow 288\n",
      "assessment 110\n",
      "eager 168\n",
      "decision 714\n",
      "second 1083\n",
      "criticism 214\n",
      "spokesman 93\n",
      "discussion 272\n",
      "survive 181\n",
      "familiar 226\n",
      "center 529\n",
      "amid 138\n",
      "500 197\n",
      "formally 33\n",
      "viewed 134\n",
      "provision 119\n",
      "citing 71\n",
      "greatest 328\n",
      "sought 306\n",
      "term 852\n",
      "regularly 147\n",
      "proposed 429\n",
      "2019 123\n",
      "online 345\n",
      "liberalism 269\n",
      "planned 112\n",
      "dictator 71\n",
      "lesson 298\n",
      "comment 133\n",
      "30 509\n",
      "13 217\n",
      "havent 380\n",
      "ego 120\n",
      "review 200\n",
      "senior 367\n",
      "innovative 78\n",
      "expert 193\n",
      "declined 158\n",
      "event 351\n",
      "noting 149\n",
      "directed 137\n",
      "preparing 66\n",
      "house 315\n",
      "sent 427\n",
      "dozen 162\n",
      "tested 102\n",
      "meeting 544\n",
      "issued 231\n",
      "committed 353\n",
      "received 430\n",
      "previously 186\n",
      "series 319\n",
      "seeking 329\n",
      "involving 136\n",
      "extreme 419\n",
      "appearance 167\n",
      "warned 316\n",
      "briefing 84\n",
      "terrible 369\n",
      "dream 263\n",
      "difficult 475\n",
      "schedule 68\n",
      "corrupt 236\n",
      "economist 176\n",
      "hoped 124\n",
      "citizen 163\n",
      "7 399\n",
      "executive 956\n",
      "mistake 284\n",
      "region 199\n",
      "agency 387\n",
      "advocacy 74\n",
      "kid 81\n",
      "hed 461\n",
      "interview 539\n",
      "disclosure 85\n",
      "inquiry 214\n",
      "blocked 115\n",
      "included 405\n",
      "announcement 155\n",
      "privately 76\n",
      "negotiation 30\n",
      "sort 718\n",
      "additional 287\n",
      "kill 243\n",
      "employee 85\n",
      "traveled 65\n",
      "investigation 886\n",
      "scrutiny 119\n",
      "prompted 84\n",
      "deserves 174\n",
      "spoken 97\n",
      "deputy 135\n",
      "investigating 102\n",
      "ally 105\n",
      "bid 161\n",
      "supporter 112\n",
      "don 11\n",
      "aide 139\n",
      "handling 110\n",
      "county 133\n",
      "anonymity 9\n",
      "mess 183\n",
      "worker 140\n",
      "annual 217\n",
      "overhaul 61\n",
      "memo 149\n",
      "lobbying 138\n",
      "illegally 90\n",
      "industry 650\n",
      "raising 325\n",
      "reporter 207\n",
      "s 604\n",
      "enemy 197\n",
      "evening 111\n",
      "briefed 12\n",
      "referring 187\n",
      "politician 361\n",
      "fund 254\n",
      "lawsuit 106\n",
      "restriction 24\n",
      "contact 100\n",
      "tie 84\n",
      "definitely 213\n",
      "questioned 90\n",
      "resolution 147\n",
      "returning 95\n",
      "brings 263\n",
      "detail 114\n",
      "session 125\n",
      "assistant 81\n",
      "discussed 94\n",
      "column 265\n",
      "south 49\n",
      "counsel 328\n",
      "obtained 61\n",
      "released 417\n",
      "panel 97\n",
      "selection 50\n",
      "scheduled 97\n",
      "website 159\n",
      "addition 186\n",
      "fantasy 187\n",
      "gathered 75\n",
      "maintained 73\n",
      "wisdom 231\n",
      "operation 113\n",
      "joint 83\n",
      "aggressive 188\n",
      "defended 136\n",
      "skill 60\n",
      "delay 86\n",
      "extensive 76\n",
      "march 151\n",
      "decency 155\n",
      "interesting 266\n",
      "unclear 64\n",
      "propaganda 152\n",
      "manager 115\n",
      "self 66\n",
      "indicated 46\n",
      "lawmaker 49\n",
      "chairwoman 38\n",
      "post 199\n",
      "treasury 7\n",
      "republican 31\n",
      "folk 39\n",
      "ranking 44\n",
      "battleground 52\n",
      "contract 70\n",
      "whatsoever 98\n",
      "k 49\n",
      "united 83\n",
      "highlighted 38\n",
      "p 37\n",
      "lengthy 29\n",
      "accusation 56\n",
      "disclose 53\n",
      "university 104\n",
      "hosted 45\n",
      "r 2\n",
      "remark 63\n",
      "analyst 46\n",
      "manufacturer 22\n",
      "airing 16\n",
      "lobbyist 77\n",
      "o 3\n",
      "spokeswoman 45\n",
      "e 43\n",
      "pundit 43\n",
      "democrat 3\n",
      "i 31\n",
      "disclosed 28\n",
      "twitter 3\n",
      "f 1\n",
      "n 3\n",
      "trump 20\n",
      "didn 2\n",
      "t 2\n",
      "senate 7\n",
      "g 15\n",
      "re 1\n",
      "u 2\n",
      "c 4\n",
      "d 2\n",
      "congress 2\n",
      "le 1\n",
      "j 1\n",
      "ha 2\n",
      "---\n",
      "great 1205\n",
      "wont 569\n",
      "learn 621\n",
      "ranking 809\n",
      "hed 170\n",
      "almost 4257\n",
      "opposite 677\n",
      "noting 1541\n",
      "requested 1094\n",
      "scheduled 2554\n",
      "illegally 1305\n",
      "dont 1851\n",
      "racist 599\n",
      "nobody 158\n",
      "theyre 452\n",
      "formally 920\n",
      "werent 246\n",
      "havent 223\n",
      "cruelty 22\n",
      "folk 45\n"
     ]
    }
   ],
   "source": [
    "for key, val in oped_ed_counter.items():\n",
    "    print(key, val)\n",
    "print('---')\n",
    "for key, val in news_counter.items():\n",
    "    print(key, val)\n"
   ]
  },
  {
   "cell_type": "code",
   "execution_count": null,
   "metadata": {},
   "outputs": [],
   "source": []
  },
  {
   "cell_type": "code",
   "execution_count": null,
   "metadata": {},
   "outputs": [],
   "source": []
  },
  {
   "cell_type": "code",
   "execution_count": null,
   "metadata": {},
   "outputs": [],
   "source": []
  },
  {
   "cell_type": "code",
   "execution_count": null,
   "metadata": {},
   "outputs": [],
   "source": []
  },
  {
   "cell_type": "markdown",
   "metadata": {},
   "source": [
    "### permutation importance"
   ]
  },
  {
   "cell_type": "code",
   "execution_count": 242,
   "metadata": {},
   "outputs": [],
   "source": [
    "# %%time\n",
    "# print(datetime.datetime.now())\n",
    "# r = permutation_importance(rf_clf, X_test.toarray(), y_test, n_repeats=30, random_state=0)"
   ]
  },
  {
   "cell_type": "code",
   "execution_count": 243,
   "metadata": {},
   "outputs": [],
   "source": [
    "# for i in r.importances_mean.argsort()[::-1]:\n",
    "#     if r.importances_mean[i] - 2 * r.importances_std[i] > 0:\n",
    "#         print(f\"{feat_names[i]:<8}\"\n",
    "#               f\"{r.importances_mean[i]:.3f}\"\n",
    "#               f\" +/- {r.importances_std[i]:.3f}\")"
   ]
  },
  {
   "cell_type": "code",
   "execution_count": 244,
   "metadata": {},
   "outputs": [],
   "source": [
    "# for i in r.importances_mean.argsort()[::-1]:\n",
    "#     if r.importances_mean[i] - 2 * r.importances_std[i] > 0:\n",
    "#         print(f\"{feat_names[i]:<20}\")\n",
    "# #               f\"{r.importances_mean[i]:.3f}\"\n",
    "# #               f\" +/- {r.importances_std[i]:.3f}\")"
   ]
  },
  {
   "cell_type": "code",
   "execution_count": 245,
   "metadata": {},
   "outputs": [
    {
     "data": {
      "text/plain": [
       "44427"
      ]
     },
     "execution_count": 245,
     "metadata": {},
     "output_type": "execute_result"
    }
   ],
   "source": [
    "len(feat_names)"
   ]
  },
  {
   "cell_type": "markdown",
   "metadata": {},
   "source": []
  },
  {
   "cell_type": "code",
   "execution_count": null,
   "metadata": {},
   "outputs": [],
   "source": [
    "corpus[0]"
   ]
  },
  {
   "cell_type": "code",
   "execution_count": null,
   "metadata": {},
   "outputs": [],
   "source": [
    "features"
   ]
  },
  {
   "cell_type": "code",
   "execution_count": null,
   "metadata": {},
   "outputs": [],
   "source": []
  },
  {
   "cell_type": "code",
   "execution_count": null,
   "metadata": {},
   "outputs": [],
   "source": []
  },
  {
   "cell_type": "code",
   "execution_count": null,
   "metadata": {},
   "outputs": [],
   "source": []
  },
  {
   "cell_type": "code",
   "execution_count": null,
   "metadata": {},
   "outputs": [],
   "source": []
  },
  {
   "cell_type": "markdown",
   "metadata": {},
   "source": [
    "# make a plot"
   ]
  },
  {
   "cell_type": "code",
   "execution_count": null,
   "metadata": {},
   "outputs": [],
   "source": [
    "y"
   ]
  },
  {
   "cell_type": "code",
   "execution_count": null,
   "metadata": {},
   "outputs": [],
   "source": [
    "min_df = np.linspace(0,.4,5)"
   ]
  },
  {
   "cell_type": "code",
   "execution_count": null,
   "metadata": {},
   "outputs": [],
   "source": [
    "min_df"
   ]
  },
  {
   "cell_type": "code",
   "execution_count": null,
   "metadata": {},
   "outputs": [],
   "source": [
    "corpus[0]"
   ]
  },
  {
   "cell_type": "markdown",
   "metadata": {},
   "source": [
    "# min_df_plot"
   ]
  },
  {
   "cell_type": "code",
   "execution_count": null,
   "metadata": {},
   "outputs": [],
   "source": [
    "%%time\n",
    "num_feat_min = []\n",
    "\n",
    "min_df = np.linspace(0.01,0.5,5)\n",
    "\n",
    "for val in min_df:\n",
    "    vectorizer_plot = TfidfVectorizer(preprocessor=punc_strip,\n",
    "#                 tokenizer=wordnet_tokenize,\n",
    "                stop_words=alphabet,\n",
    "#                 max_df=0.95,\n",
    "                 min_df=val,\n",
    "                 max_features=None)\n",
    "    \n",
    "    vectorizer_plot.fit(X)\n",
    "    \n",
    "    features = vectorizer_plot.get_feature_names()\n",
    "    stop_word = vectorizer_plot.get_stop_words()\n",
    "\n",
    "    num_feat_min.append(len(features))"
   ]
  },
  {
   "cell_type": "code",
   "execution_count": null,
   "metadata": {},
   "outputs": [],
   "source": [
    "learn_vect = TfidfVectorizer(preprocessor=punc_strip,\n",
    "                 tokenizer=wordnet_tokenize,\n",
    "#            stop_words=alphabet,\n",
    "#                max_df=0.95,\n",
    "             min_df=.2,\n",
    "             max_features=None)\n",
    "\n",
    "learn_vect.fit(X)\n",
    "\n",
    "min_df_features = learn_vect.get_feature_names()\n",
    "stop_word = learn_vect.get_stop_words()"
   ]
  },
  {
   "cell_type": "code",
   "execution_count": null,
   "metadata": {},
   "outputs": [],
   "source": [
    "len(min_df_features)"
   ]
  },
  {
   "cell_type": "code",
   "execution_count": null,
   "metadata": {},
   "outputs": [],
   "source": [
    "min_df_features"
   ]
  },
  {
   "cell_type": "code",
   "execution_count": null,
   "metadata": {},
   "outputs": [],
   "source": []
  },
  {
   "cell_type": "code",
   "execution_count": null,
   "metadata": {},
   "outputs": [],
   "source": []
  },
  {
   "cell_type": "code",
   "execution_count": null,
   "metadata": {},
   "outputs": [],
   "source": [
    "%%time\n",
    "fig, ax = plt.subplots()\n",
    "ax.plot(min_df, num_feat_min);"
   ]
  },
  {
   "cell_type": "markdown",
   "metadata": {},
   "source": [
    "# "
   ]
  },
  {
   "cell_type": "code",
   "execution_count": null,
   "metadata": {},
   "outputs": [],
   "source": []
  },
  {
   "cell_type": "code",
   "execution_count": null,
   "metadata": {},
   "outputs": [],
   "source": []
  },
  {
   "cell_type": "code",
   "execution_count": null,
   "metadata": {},
   "outputs": [],
   "source": []
  },
  {
   "cell_type": "code",
   "execution_count": null,
   "metadata": {},
   "outputs": [],
   "source": []
  },
  {
   "cell_type": "code",
   "execution_count": null,
   "metadata": {},
   "outputs": [],
   "source": []
  },
  {
   "cell_type": "code",
   "execution_count": null,
   "metadata": {},
   "outputs": [],
   "source": []
  },
  {
   "cell_type": "markdown",
   "metadata": {},
   "source": [
    "# max_features"
   ]
  },
  {
   "cell_type": "code",
   "execution_count": null,
   "metadata": {},
   "outputs": [],
   "source": [
    "%%time\n",
    "TN = []\n",
    "FP = []\n",
    "FN = []\n",
    "TP = []\n",
    "\n",
    "num_feat = np.linspace(1000,50000,6)\n",
    "\n",
    "for val in num_feat:\n",
    "    vectorizer_plot = TfidfVectorizer(preprocessor=punc_strip,\n",
    "#                 tokenizer=wordnet_tokenize,\n",
    "                stop_words=alphabet,\n",
    "#                 max_df=0.95,\n",
    "#                 min_df=val,\n",
    "                 max_features=int(val))\n",
    "\n",
    "    #test, train, split\n",
    "    X_train, X_test, y_train, y_test = train_test_split(X, y, random_state=50)\n",
    "\n",
    "    X_train = vectorizer_plot.fit_transform(X_train)\n",
    "\n",
    "    X_test = vectorizer_plot.transform(X_test)\n",
    "    \n",
    "    #X, y --> X_resampled, y_resampled\n",
    "    rus = RandomUnderSampler(random_state=0)\n",
    "    X_resampled, y_resampled = rus.fit_resample(X_train, y_train)\n",
    "    \n",
    "    recall_rfc = RandomForestClassifier(max_depth=2, random_state=0)\n",
    "\n",
    "    rf_clf.fit(X_resampled, y_resampled)\n",
    "    y_pred = rf_clf.predict(X_test)\n",
    "    \n",
    "    tn, fp, fn, tp = confusion_matrix(y_true = y_test, y_pred = y_pred).ravel()\n",
    "    a, r, p  = metrics_(tn, fp, fn, tp)\n",
    "    \n",
    "    TN.append(tn)\n",
    "    FP.append(fp)\n",
    "    FN.append(fn)\n",
    "    TP.append(tp)\n",
    "    \n",
    "    \n",
    "    num_feat_min.append(len(features))"
   ]
  },
  {
   "cell_type": "code",
   "execution_count": null,
   "metadata": {},
   "outputs": [],
   "source": [
    "# for f in features:\n",
    "#     model = RandomForestClassifier(max_features=f)\n",
    "#     score = cross_val_score(model, X, y).mean()\n",
    "#     print('A Random Forest Regressor with max features of: {} gets a score of {}'\n",
    "#           .format(f,score))\n",
    "#     scores.append(score)\n",
    "    \n",
    "# fig, ax = plt.subplots()\n",
    "# ax.plot(features, scores)"
   ]
  },
  {
   "cell_type": "code",
   "execution_count": null,
   "metadata": {},
   "outputs": [],
   "source": [
    "# for f in features:\n",
    "#     model = RandomForestClassifier(max_features=f)\n",
    "#     score = cross_val_score(model, X, y).mean()\n",
    "#     print('A Random Forest Regressor with max features of: {} gets a score of {}'\n",
    "#           .format(f,score))\n",
    "#     scores.append(score)"
   ]
  },
  {
   "cell_type": "code",
   "execution_count": null,
   "metadata": {},
   "outputs": [],
   "source": []
  }
 ],
 "metadata": {
  "kernelspec": {
   "display_name": "Python 3",
   "language": "python",
   "name": "python3"
  },
  "language_info": {
   "codemirror_mode": {
    "name": "ipython",
    "version": 3
   },
   "file_extension": ".py",
   "mimetype": "text/x-python",
   "name": "python",
   "nbconvert_exporter": "python",
   "pygments_lexer": "ipython3",
   "version": "3.7.9"
  }
 },
 "nbformat": 4,
 "nbformat_minor": 4
}
