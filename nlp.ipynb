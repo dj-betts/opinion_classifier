{
 "cells": [
  {
   "cell_type": "code",
   "execution_count": 1,
   "metadata": {},
   "outputs": [],
   "source": [
    "from functions import vectorize_y_ser"
   ]
  },
  {
   "cell_type": "code",
   "execution_count": 2,
   "metadata": {},
   "outputs": [],
   "source": [
    "import datetime"
   ]
  },
  {
   "cell_type": "code",
   "execution_count": 3,
   "metadata": {},
   "outputs": [],
   "source": [
    "import nltk\n",
    "import string"
   ]
  },
  {
   "cell_type": "code",
   "execution_count": 4,
   "metadata": {},
   "outputs": [],
   "source": [
    "import re"
   ]
  },
  {
   "cell_type": "code",
   "execution_count": 5,
   "metadata": {},
   "outputs": [],
   "source": [
    "import pickle"
   ]
  },
  {
   "cell_type": "code",
   "execution_count": 6,
   "metadata": {},
   "outputs": [],
   "source": [
    "import pandas as pd\n",
    "import numpy as np"
   ]
  },
  {
   "cell_type": "code",
   "execution_count": 7,
   "metadata": {},
   "outputs": [],
   "source": [
    "import matplotlib.pyplot as plt\n",
    "plt.style.use('fivethirtyeight')"
   ]
  },
  {
   "cell_type": "code",
   "execution_count": 8,
   "metadata": {},
   "outputs": [],
   "source": [
    "from sklearn.feature_extraction.text import CountVectorizer, TfidfVectorizer\n",
    "from sklearn.model_selection import train_test_split\n",
    "from sklearn.metrics import confusion_matrix, plot_confusion_matrix\n",
    "from sklearn.naive_bayes import MultinomialNB\n",
    "from sklearn.ensemble import RandomForestClassifier\n",
    "from sklearn.inspection import permutation_importance"
   ]
  },
  {
   "cell_type": "code",
   "execution_count": 9,
   "metadata": {},
   "outputs": [],
   "source": [
    "from collections import Counter"
   ]
  },
  {
   "cell_type": "code",
   "execution_count": 10,
   "metadata": {},
   "outputs": [],
   "source": [
    "from imblearn.under_sampling import RandomUnderSampler"
   ]
  },
  {
   "cell_type": "code",
   "execution_count": 11,
   "metadata": {},
   "outputs": [],
   "source": [
    "from nltk.stem.snowball import SnowballStemmer\n",
    "from nltk.stem.wordnet import WordNetLemmatizer\n",
    "from nltk.tokenize import word_tokenize\n",
    "from nltk.corpus import stopwords"
   ]
  },
  {
   "cell_type": "markdown",
   "metadata": {},
   "source": [
    "# NLP Pipeline \n",
    "\n",
    "![](images/pipeline-walkthrough1.png)\n",
    "\n",
    "Below is a to do list when converting text into vector form: \n",
    "\n",
    "**Clean text and Create a Bag of Words (BoW)**\n",
    ">1. Lowercase the text\n",
    "2. Tokenize \n",
    "3. Strip out punctuation or undesirable text\n",
    "4. Remove Stopwords \n",
    "5. Stemming or Lemmatizing\n",
    "6. Compute N-Grams\n",
    "7. Use this to create BoW\n",
    "\n",
    "**Vectorize BoW**\n",
    ">8. Term Frequencies\n",
    "9. Document Frequencies\n",
    "10. TF-IDF\n",
    "11. Normalize vectors\n",
    "\n",
    "Let's go through both what each of these steps are and how to do them in python with the following corpus of comments about data science...\n",
    " "
   ]
  },
  {
   "cell_type": "code",
   "execution_count": 12,
   "metadata": {},
   "outputs": [],
   "source": [
    "# function to vectorize the type_of_material series into a y target vector.\n",
    "def vectorize_y_ser(ser):\n",
    "    y = ser.copy()\n",
    "    y.replace({'Op-Ed': 1,'News': 0}, inplace=True)\n",
    "    return y"
   ]
  },
  {
   "cell_type": "code",
   "execution_count": 13,
   "metadata": {},
   "outputs": [],
   "source": [
    "#rate of correct predictions out of total predictions\n",
    "def metrics_(tn, fp, fn, tp):\n",
    "    accuracy = (tp + tn) / (tn + fn + tp + fp)\n",
    "    print(f'Accuracy: {round(accuracy, 2)}')\n",
    "    recall = (tp) / (tp + fn)\n",
    "    print(f'Recall: {round(recall, 2)}')\n",
    "    precision = (tp) / (tp + fp)\n",
    "    print(f'Precision: {round(precision, 2)}')\n",
    "    print(f'TN:{tn} FP:{fp} FN:{fn} TP:{tp}')\n",
    "    return (accuracy, recall, precision)"
   ]
  },
  {
   "cell_type": "code",
   "execution_count": 14,
   "metadata": {},
   "outputs": [],
   "source": [
    "#prints number of features, stop words and parameters for vectorizer\n",
    "def vectorizer_parameters(vectorizer):\n",
    "    #features\n",
    "    feat_names = vectorizer.get_feature_names()\n",
    "    num_feat = len(feat_names)\n",
    "    \n",
    "    #stop words\n",
    "    stop_words = vectorizer.stop_words_\n",
    "    num_stop = len(stop_words)\n",
    "\n",
    "    params = vectorizer.get_params()\n",
    "    \n",
    "    print(f'Number of features: {num_feat}, Numbers of stop words: {num_stop}')\n",
    "      \n",
    "    for key, val in params.items():\n",
    "        print(f'{key}: {val}')"
   ]
  },
  {
   "cell_type": "code",
   "execution_count": 15,
   "metadata": {},
   "outputs": [],
   "source": [
    "#function that removes string.punctuation w/out the '?'\n",
    "def punc_strip(document):\n",
    "    for char in document:\n",
    "        if char in '!\"#$%&\\'()*+—,-./:;<=>?@[\\\\]^_`{|}~”’“':\n",
    "            document = document.replace(char, \" \") \n",
    "    return document"
   ]
  },
  {
   "cell_type": "code",
   "execution_count": 16,
   "metadata": {},
   "outputs": [],
   "source": [
    "#combine print, type, text columns in the list\n",
    "def printed(file):\n",
    "    print_cols = ['_id','print_page','pub_date','keywords','type_of_material','lead_paragraph','text']    \n",
    "    df = pd.read_csv(file, usecols=print_cols, index_col='_id', low_memory=False)\n",
    "    df = df[df.print_page.isna() == False]\n",
    "    df = df[~df.text.isna() == True]\n",
    "    return df"
   ]
  },
  {
   "cell_type": "code",
   "execution_count": 17,
   "metadata": {},
   "outputs": [],
   "source": [
    "#returns articles w/ 'United States Politics and Government' as a keyword\n",
    "def return_pol_gov(row):\n",
    "    list_dict = eval(row.keywords)\n",
    "    for (dic) in (list_dict):\n",
    "        if dic.get('value') == 'United States Politics and Government':\n",
    "            return True"
   ]
  },
  {
   "cell_type": "code",
   "execution_count": 18,
   "metadata": {},
   "outputs": [],
   "source": [
    "def filter_keyword(df, keyword='United States Politics and Government'):\n",
    "    df[keyword] = df.apply(return_pol_gov, axis=1)\n",
    "    df = df[df[keyword] == True]\n",
    "    return df"
   ]
  },
  {
   "cell_type": "code",
   "execution_count": 19,
   "metadata": {},
   "outputs": [],
   "source": [
    "#returns shape of news and oped\n",
    "def oped_v_news(df):\n",
    "    df.type_of_material.hist()\n",
    "    news = sum(df.type_of_material == \"News\")\n",
    "    oped = sum(df.type_of_material == \"Op-Ed\")\n",
    "    print(f'News: {news} Oped: {oped}, Total: {oped+news}, Op-Ed {round(oped/(oped+news), 2)} of total')\n",
    "    #plt.savefig('img/oped_news_hist.png')"
   ]
  },
  {
   "cell_type": "code",
   "execution_count": 20,
   "metadata": {},
   "outputs": [],
   "source": [
    "#split article and return quote\n",
    "def return_quote(document):\n",
    "    article = []\n",
    "    quote_list = []\n",
    "    \n",
    "    open_quote = \"“\"\n",
    "    close_quote = \"”\"\n",
    "    \n",
    "    close_split = document.split(close_quote)\n",
    "    \n",
    "    for string in close_split:\n",
    "\n",
    "        quote = string.split(open_quote)\n",
    "        article.append(quote.pop(0))\n",
    "        quote_list += quote\n",
    "    \n",
    "    article = \" \".join(article)\n",
    "    quotation = \" \".join(quote_list)\n",
    "        \n",
    "    return(quotation)"
   ]
  },
  {
   "cell_type": "code",
   "execution_count": 21,
   "metadata": {},
   "outputs": [],
   "source": [
    "#split article and return quote\n",
    "def return_article(document):\n",
    "    article = []\n",
    "    quote_list = []\n",
    "    \n",
    "    open_quote = \"“\"\n",
    "    close_quote = \"”\"\n",
    "    \n",
    "    close_split = document.split(close_quote)\n",
    "    \n",
    "    for string in close_split:\n",
    "\n",
    "        quote = string.split(open_quote)\n",
    "        article.append(quote.pop(0))\n",
    "        quote_list += quote\n",
    "    \n",
    "    article = \" \".join(article)\n",
    "    quotation = \" \".join(quote_list)\n",
    "    \n",
    "    return(article)"
   ]
  },
  {
   "cell_type": "code",
   "execution_count": 22,
   "metadata": {},
   "outputs": [],
   "source": [
    "data = pd.read_csv('token_2017_2020.csv', index_col='_id')"
   ]
  },
  {
   "cell_type": "code",
   "execution_count": 23,
   "metadata": {},
   "outputs": [
    {
     "name": "stdout",
     "output_type": "stream",
     "text": [
      "CPU times: user 1.69 ms, sys: 713 µs, total: 2.4 ms\n",
      "Wall time: 2.06 ms\n"
     ]
    }
   ],
   "source": [
    "%%time\n",
    "df = data.copy()"
   ]
  },
  {
   "cell_type": "code",
   "execution_count": 24,
   "metadata": {},
   "outputs": [
    {
     "data": {
      "text/plain": [
       "(17822, 9)"
      ]
     },
     "execution_count": 24,
     "metadata": {},
     "output_type": "execute_result"
    }
   ],
   "source": [
    "df.shape"
   ]
  },
  {
   "cell_type": "code",
   "execution_count": 25,
   "metadata": {},
   "outputs": [],
   "source": [
    "df = filter_keyword(df)"
   ]
  },
  {
   "cell_type": "code",
   "execution_count": 26,
   "metadata": {},
   "outputs": [
    {
     "data": {
      "text/html": [
       "<div>\n",
       "<style scoped>\n",
       "    .dataframe tbody tr th:only-of-type {\n",
       "        vertical-align: middle;\n",
       "    }\n",
       "\n",
       "    .dataframe tbody tr th {\n",
       "        vertical-align: top;\n",
       "    }\n",
       "\n",
       "    .dataframe thead th {\n",
       "        text-align: right;\n",
       "    }\n",
       "</style>\n",
       "<table border=\"1\" class=\"dataframe\">\n",
       "  <thead>\n",
       "    <tr style=\"text-align: right;\">\n",
       "      <th></th>\n",
       "      <th>lead_paragraph</th>\n",
       "      <th>keywords</th>\n",
       "      <th>pub_date</th>\n",
       "      <th>type_of_material</th>\n",
       "      <th>print_page</th>\n",
       "      <th>text</th>\n",
       "      <th>United States Politics and Government</th>\n",
       "      <th>quote_list</th>\n",
       "      <th>keyword_list</th>\n",
       "    </tr>\n",
       "    <tr>\n",
       "      <th>_id</th>\n",
       "      <th></th>\n",
       "      <th></th>\n",
       "      <th></th>\n",
       "      <th></th>\n",
       "      <th></th>\n",
       "      <th></th>\n",
       "      <th></th>\n",
       "      <th></th>\n",
       "      <th></th>\n",
       "    </tr>\n",
       "  </thead>\n",
       "  <tbody>\n",
       "    <tr>\n",
       "      <th>nyt://article/f5d2e4a7-f89b-54da-9985-dd5fc704a51e</th>\n",
       "      <td>On the first Monday in May, the Department of ...</td>\n",
       "      <td>[{'name': 'persons', 'value': 'Barr, William P...</td>\n",
       "      <td>2020-06-01T09:00:11+0000</td>\n",
       "      <td>News</td>\n",
       "      <td>20.0</td>\n",
       "      <td>as you drew closer to the fifth floor where  ...</td>\n",
       "      <td>True</td>\n",
       "      <td>[[]]</td>\n",
       "      <td>['', 'Barr,', 'William', 'P', 'Justice', 'Depa...</td>\n",
       "    </tr>\n",
       "    <tr>\n",
       "      <th>nyt://article/0fa09b77-5faa-588f-9d4a-39a34748c7f3</th>\n",
       "      <td>Under normal circumstances, Joseph R. Biden Jr...</td>\n",
       "      <td>[{'name': 'subject', 'value': 'Presidential El...</td>\n",
       "      <td>2020-06-01T09:01:09+0000</td>\n",
       "      <td>News</td>\n",
       "      <td>14.0</td>\n",
       "      <td>at a moment that is emerging as a critical te...</td>\n",
       "      <td>True</td>\n",
       "      <td>[[]]</td>\n",
       "      <td>['', 'Presidential', 'Election', 'of', '2020',...</td>\n",
       "    </tr>\n",
       "    <tr>\n",
       "      <th>nyt://article/6b274a69-c82b-5b68-bada-ec1467440ddf</th>\n",
       "      <td>The Supreme Court on Monday unanimously upheld...</td>\n",
       "      <td>[{'name': 'organizations', 'value': 'Supreme C...</td>\n",
       "      <td>2020-06-01T16:38:59+0000</td>\n",
       "      <td>News</td>\n",
       "      <td>15.0</td>\n",
       "      <td>court ruled that members of a government boar...</td>\n",
       "      <td>True</td>\n",
       "      <td>[[]]</td>\n",
       "      <td>['', 'Supreme', 'Court', '(US)', 'Puerto', 'Ri...</td>\n",
       "    </tr>\n",
       "    <tr>\n",
       "      <th>nyt://article/8867f9cb-5914-5731-90b9-e1f1781fa568</th>\n",
       "      <td>An international team of scientists, including...</td>\n",
       "      <td>[{'name': 'subject', 'value': 'Coronavirus (20...</td>\n",
       "      <td>2020-06-01T16:42:18+0000</td>\n",
       "      <td>News</td>\n",
       "      <td>6.0</td>\n",
       "      <td>their report posted online  they also point t...</td>\n",
       "      <td>True</td>\n",
       "      <td>[[]]</td>\n",
       "      <td>['', 'Coronavirus', '(2019-nCoV)', 'Bats', 'SA...</td>\n",
       "    </tr>\n",
       "    <tr>\n",
       "      <th>nyt://article/fb5f6e07-033e-5618-967e-fbc1ebcfd61c</th>\n",
       "      <td>WASHINGTON — President Trump on Monday angrily...</td>\n",
       "      <td>[{'name': 'subject', 'value': 'George Floyd Pr...</td>\n",
       "      <td>2020-06-01T17:20:54+0000</td>\n",
       "      <td>News</td>\n",
       "      <td>1.0</td>\n",
       "      <td>said in brief remarks in the    the presiden...</td>\n",
       "      <td>True</td>\n",
       "      <td>[[]]</td>\n",
       "      <td>['', 'George', 'Floyd', 'Protests', '(2020)', ...</td>\n",
       "    </tr>\n",
       "  </tbody>\n",
       "</table>\n",
       "</div>"
      ],
      "text/plain": [
       "                                                                                       lead_paragraph  \\\n",
       "_id                                                                                                     \n",
       "nyt://article/f5d2e4a7-f89b-54da-9985-dd5fc704a51e  On the first Monday in May, the Department of ...   \n",
       "nyt://article/0fa09b77-5faa-588f-9d4a-39a34748c7f3  Under normal circumstances, Joseph R. Biden Jr...   \n",
       "nyt://article/6b274a69-c82b-5b68-bada-ec1467440ddf  The Supreme Court on Monday unanimously upheld...   \n",
       "nyt://article/8867f9cb-5914-5731-90b9-e1f1781fa568  An international team of scientists, including...   \n",
       "nyt://article/fb5f6e07-033e-5618-967e-fbc1ebcfd61c  WASHINGTON — President Trump on Monday angrily...   \n",
       "\n",
       "                                                                                             keywords  \\\n",
       "_id                                                                                                     \n",
       "nyt://article/f5d2e4a7-f89b-54da-9985-dd5fc704a51e  [{'name': 'persons', 'value': 'Barr, William P...   \n",
       "nyt://article/0fa09b77-5faa-588f-9d4a-39a34748c7f3  [{'name': 'subject', 'value': 'Presidential El...   \n",
       "nyt://article/6b274a69-c82b-5b68-bada-ec1467440ddf  [{'name': 'organizations', 'value': 'Supreme C...   \n",
       "nyt://article/8867f9cb-5914-5731-90b9-e1f1781fa568  [{'name': 'subject', 'value': 'Coronavirus (20...   \n",
       "nyt://article/fb5f6e07-033e-5618-967e-fbc1ebcfd61c  [{'name': 'subject', 'value': 'George Floyd Pr...   \n",
       "\n",
       "                                                                    pub_date  \\\n",
       "_id                                                                            \n",
       "nyt://article/f5d2e4a7-f89b-54da-9985-dd5fc704a51e  2020-06-01T09:00:11+0000   \n",
       "nyt://article/0fa09b77-5faa-588f-9d4a-39a34748c7f3  2020-06-01T09:01:09+0000   \n",
       "nyt://article/6b274a69-c82b-5b68-bada-ec1467440ddf  2020-06-01T16:38:59+0000   \n",
       "nyt://article/8867f9cb-5914-5731-90b9-e1f1781fa568  2020-06-01T16:42:18+0000   \n",
       "nyt://article/fb5f6e07-033e-5618-967e-fbc1ebcfd61c  2020-06-01T17:20:54+0000   \n",
       "\n",
       "                                                   type_of_material  \\\n",
       "_id                                                                   \n",
       "nyt://article/f5d2e4a7-f89b-54da-9985-dd5fc704a51e             News   \n",
       "nyt://article/0fa09b77-5faa-588f-9d4a-39a34748c7f3             News   \n",
       "nyt://article/6b274a69-c82b-5b68-bada-ec1467440ddf             News   \n",
       "nyt://article/8867f9cb-5914-5731-90b9-e1f1781fa568             News   \n",
       "nyt://article/fb5f6e07-033e-5618-967e-fbc1ebcfd61c             News   \n",
       "\n",
       "                                                    print_page  \\\n",
       "_id                                                              \n",
       "nyt://article/f5d2e4a7-f89b-54da-9985-dd5fc704a51e        20.0   \n",
       "nyt://article/0fa09b77-5faa-588f-9d4a-39a34748c7f3        14.0   \n",
       "nyt://article/6b274a69-c82b-5b68-bada-ec1467440ddf        15.0   \n",
       "nyt://article/8867f9cb-5914-5731-90b9-e1f1781fa568         6.0   \n",
       "nyt://article/fb5f6e07-033e-5618-967e-fbc1ebcfd61c         1.0   \n",
       "\n",
       "                                                                                                 text  \\\n",
       "_id                                                                                                     \n",
       "nyt://article/f5d2e4a7-f89b-54da-9985-dd5fc704a51e   as you drew closer to the fifth floor where  ...   \n",
       "nyt://article/0fa09b77-5faa-588f-9d4a-39a34748c7f3   at a moment that is emerging as a critical te...   \n",
       "nyt://article/6b274a69-c82b-5b68-bada-ec1467440ddf   court ruled that members of a government boar...   \n",
       "nyt://article/8867f9cb-5914-5731-90b9-e1f1781fa568   their report posted online  they also point t...   \n",
       "nyt://article/fb5f6e07-033e-5618-967e-fbc1ebcfd61c    said in brief remarks in the    the presiden...   \n",
       "\n",
       "                                                    United States Politics and Government  \\\n",
       "_id                                                                                         \n",
       "nyt://article/f5d2e4a7-f89b-54da-9985-dd5fc704a51e                                   True   \n",
       "nyt://article/0fa09b77-5faa-588f-9d4a-39a34748c7f3                                   True   \n",
       "nyt://article/6b274a69-c82b-5b68-bada-ec1467440ddf                                   True   \n",
       "nyt://article/8867f9cb-5914-5731-90b9-e1f1781fa568                                   True   \n",
       "nyt://article/fb5f6e07-033e-5618-967e-fbc1ebcfd61c                                   True   \n",
       "\n",
       "                                                   quote_list  \\\n",
       "_id                                                             \n",
       "nyt://article/f5d2e4a7-f89b-54da-9985-dd5fc704a51e       [[]]   \n",
       "nyt://article/0fa09b77-5faa-588f-9d4a-39a34748c7f3       [[]]   \n",
       "nyt://article/6b274a69-c82b-5b68-bada-ec1467440ddf       [[]]   \n",
       "nyt://article/8867f9cb-5914-5731-90b9-e1f1781fa568       [[]]   \n",
       "nyt://article/fb5f6e07-033e-5618-967e-fbc1ebcfd61c       [[]]   \n",
       "\n",
       "                                                                                         keyword_list  \n",
       "_id                                                                                                    \n",
       "nyt://article/f5d2e4a7-f89b-54da-9985-dd5fc704a51e  ['', 'Barr,', 'William', 'P', 'Justice', 'Depa...  \n",
       "nyt://article/0fa09b77-5faa-588f-9d4a-39a34748c7f3  ['', 'Presidential', 'Election', 'of', '2020',...  \n",
       "nyt://article/6b274a69-c82b-5b68-bada-ec1467440ddf  ['', 'Supreme', 'Court', '(US)', 'Puerto', 'Ri...  \n",
       "nyt://article/8867f9cb-5914-5731-90b9-e1f1781fa568  ['', 'Coronavirus', '(2019-nCoV)', 'Bats', 'SA...  \n",
       "nyt://article/fb5f6e07-033e-5618-967e-fbc1ebcfd61c  ['', 'George', 'Floyd', 'Protests', '(2020)', ...  "
      ]
     },
     "execution_count": 26,
     "metadata": {},
     "output_type": "execute_result"
    }
   ],
   "source": [
    "df.head()"
   ]
  },
  {
   "cell_type": "code",
   "execution_count": 27,
   "metadata": {},
   "outputs": [
    {
     "data": {
      "text/plain": [
       "' as you drew closer to the fifth floor where      works out of a suite of offices things started to loosen up  assistant outside his conference room wore a mask but the other did not  the middle of the room with its oil paintings and vaulted ceiling the long central table had fewer chairs than you might expect and an appropriate distance between them  past the next door inside the attorney generals smaller personal office  himself was also mask-free  around to greet his visitors he moved into the middle of a wide circle of four chairs arranged in front of his desk  nearing the end of his career  did not take his current job for the glory  had already been attorney general once in      administration winning him a reputation as a wise old man a reputation that in the eyes of some his tenure in the  administration has tarnished  is he doing it for the money  time in corporate  earned him tens of millions of dollars in compensation and stock options and his bearing is still that of a  500 counsel cozy manners wrapped around a harder core  said though  had been asked to bring one  tone was jokingly conspiratorial as though he were making an exception for an old friend  is sometimes described as an adjective that also captures his professorial manner  speaking voice is very soft just loud enough to be consistently perceptible his accent is patrician with a trace of old    personality breaks through mostly in frequent moments of humor which range from clubby chuckles to tension-breaking eruptions an aide added  crossed the circle of chairs grinning away any awkwardness  bumped elbows he said in the same joshing tone  greater risk of course was that  might infect him given his cabinet-level access to regular coronavirus testing the difference in our ages  regular meetings with the president and the mostly one-way prophylactic value of masks in general his aide suggested again  took it off   the whole country was doing the same dance   for   and  had recommended that all  wear masks at meetings like this one   was doing something else and so for the time being was the   staff     having been wrong-footed after taking the no-mask custom to the   now seemed to be making it up as he went along  weeks into the global pandemic a charitable observer might still have described the administrations response as improvisational or misguided as opposed to willfully cavalier  things were about to get worse  day  projection of the total   death toll 75 000 to 100 000 which was given the previous evening at the   would be challenged by an internal  document predicting that the number of daily deaths would rise into   reckless faith of the presidents inner circle would be challenged when two members of the   staff tested positive for the coronavirus  and  did not know it then but we were enjoying the tail end of the  administrations libertine phase   27 the official death toll would surpass 100 000 the upper bound of what  predicted on  3  has to assume that  is keeping a close eye on the 70-year-old  right now  powers of the attorney general as the executive branchs rule interpreter and law enforcer peak during moments of social unrest  knows these powers well  led the   through the   riots of 1992 when  invoked the   and deployed thousands of soldiers and    said the   riots were gang activity and not    is a stalwart believer in the righteousness of the police those communities that fail to give the police he said in a  speech  summer  dropped the departments federal case against the   police officer who killed   during an arrest in 2014  role also gives him influence over three major political fronts heading into   there is  fight to open the nations economy which could depend in no small part on  interpretation of federal authority and willingness to twist governors arms  there are the mechanics of the vote itself a topic of great partisan controversy about which the   has shown a growing willingness to weigh in  there is the ongoing investigation led by   the   attorney in  into the origins of the    s  probe in the run-up to the 2016 election the findings of which are widely expected to be announced before   the election now on the horizon  defended his record in two recent interviews  critics charge that since becoming attorney general he has repeatedly steered the   toward decisions that serve  interests particularly around the investigations carried out by the    and     into  influence over the 2016 election  insists that he acts independently even as the president often undermines that claim by tweeting out apparent instructions for what his attorney general ought to do  the time of our first meeting in his office  had already started looking at how the federal government might intervene in state-ordered coronavirus shutdowns   accused  governors of denying citizens their and encouraged residents to   and   zeroed in on the nuts and bolts of the legal case for  two small churches filed lawsuits seeking to hold live services despite state or local regulations the   made filings in support of their   rights  a signed memorandum sent to the departments 93   attorneys  suggested that the federal governments interest went beyond protecting live worship  included  weeks before our interview  bragged that he held authority over the states  went against the prevailing view that the federal government while free to enforce a variety of measures during its own emergencies is more constrained in its authority to compel state or local governments to lift theirs   asked  what  meant he responded by laying out a general view of the presidents pandemic-related powers he said  answer sounded so dry and routine that  failed to ask what he meant by  broadly enough  interpretation could sanitize and legalize  claim to authority  ballots are another domain where  had been staking out turf  called the distribution of ballot applications in  and warned that voting by mail  a second interview on  20 when  asked who was going to referee the 2020 election  replied  said his departments role would be limited as the power belongs to the states and their electors  when  brought up  tweet about  which he posted that same morning  quickly seized the opportunity to float a new theory that foreign governments might conspire to mail in fake ballots he cautioned offering no evidence to substantiate that this was a real possibility  he called it and added  many election-related issues the  of  has to defer to the states  in the case of  investigation of the 2016 investigators or the as  has so often called it  has a greater degree of control  years  has been saying that he was treated unfairly in 2016 particularly at the hands of   then the    director  who is open about his agreement with this premise is now in the process of nailing down the details  wont rule out the possibility that  findings could undermine a key consensus about 2016 the well-established conclusion that  interference sought to favor  a finding of the    of 2017 that was later underscored by  the special counsel and verified by the   intelligence committee   told me was looking for  paused glanced down and fidgeted for a moment with his necktie before going on  seems aware at times that he is gambling with his reputation he said with a matter-of-fact sigh in a  interview last year  we spoke in his office he was critical of what he called  tendency to around himself he said he added  willingness to weather controversy on the presidents behalf has not only caused consternation among some former friends and allies it has given rise to considerable speculation about his motives  would a grandfather in semiretirement who had already reached the pinnacle of his profession sign up for this  wonder if  might still be hungry for influence having been attorney general for only 17 months the first time  wonder whether he spent too much time watching   during the  years and came out the other side an ideologue  there are others who look at  support for  and see more consistency than contradiction  they say hasnt changed his values  he has found in  the perfect vehicle with which to move them forward says   who led the   civil division during  first tour and then succeeded him serving as acting attorney general during the first three months of   presidency  far as what  is hoping to do with his canvas  says he is committed to the and premise that  isnt too far away from what  himself articulated in a 2019 speech at the  of     view piety lay at the heart of the founders model of self-government which depended on religious values to restrain human passions  said  flows from through to form  and experience merely serve to confirm the infallible divine law  law he said is under threat from including who call on the state  their feet  places mental illness drug overdoses violence and suicide  these things he said are getting worse  are  started his career in the    as an analyst working on  and other matters   asked about the origin of his interest in the intelligence service he responded indirectly with an anecdote about telling his high school guidance counselor that he wanted to be    director  was tempting to link  career and conservatism with his father   who served in the  of   the    s forerunner during     1940 as an undergraduate at   wrote a controversial editorial for    defending a speech by the university president that called upon the faculty to support the  war effort he wrote  tempting as it was to see the son as part of some epigenetic chain of old-line conservatism  cautioned me not to make such assumptions  parents met at the  of  in the early 1940s  who already spoke three languages had been sent there by the  to learn   spotted   a young  woman who had a masters degree in  from  through an open doorway teaching  to undergraduates and was smitten  took some courting  thought  was a  told me and his background was also an issue he was raised without much religion but his father  grandfather was born a secular   joining the   gave his religion as    converted to  after he and  wed   26-page    file obtained from the   gives a detailed account of his transition from the military to intelligence work  1944 he shipped off to   suffered from hay fever and 20/200 vision much of his time overseas was spent hospitalized with allergies  next year he was assigned to the     interviewer found him to be  late 1945 he moved to  to begin work at the   and   which would become the   in-house intelligence bureau  the couples second son was born in 1950  age 8 he had taken up the bagpipes which would become a lifelong hobby  attended the    in   where his classmates remembered his conservatism the delight he took in making an argument and his sense of humor  yearbook praised him as an  involvement with campus politics continued at   joined the   which organized against student occupiers who had taken over the campus to protest the    was known as a feeder school for the     average of 14 seniors went to the agency each year from 1960 through 1966 according to a 1967 article from the student newspaper    which reported that a majority came in not through the colleges  of   and  but perhaps a reference to the private foundations and student organizations that were receiving    funding at that time  the late 1960s this recruiting drew campus protests which eventually broadened to take on other issues beyond the war  the morning of  24 1968 student demonstrators many of them affiliated with  for a   stormed    and took over the offices of  president  protesters were angry that  was building a gymnasium nearby that would have two separate entrances one for the school community and one for neighborhood residents and also about the universitys connection with a think tank that did research for the   was on the other side standing shoulder to shoulder with conservatives and athletes to form a blockade around the library he told me  smiled to himself  asked if he was in the fistfight  adjusted the bridge of his glasses and glanced down he said letting out a big laugh  later added  interned at the    in the summers of 1971 and 1972  1973 after completing his graduate degree in government and  studies he married   whom he met at a fraternity party  next day the couple drove to  and  began a permanent job at the    the day after that  mothers memories of the   he said had instilled in him a desire for career stability so he began taking law courses at night  then he had transferred to the    s  of   says   who worked down the hall from  in the general counsels office where  would eventually rise to become the acting head  new job put  on the    s seventh floor not far from the directors office and near the center of what was shaping up to be a historic fight with   the aftermath of    the presidency was endowed with vast new powers mass surveillance covert operations proxy wars and nuclear weapons  young    spurred on by the imperative to win the   abused its own new powers to an astonishing degree  a statutory ban on its involvement in either or the    surveilled and surreptitiously engaged with countless  citizens  agency reported to the president and often took action based on informal conversations without ever committing much to paper  around the agencys transgressions held until the 1970s when antiwar sentiment began to peak  scandals around the   1971 and the  break-in 1972 culminating in the long-anticipated  defeat convinced much of the public that the federal government should no longer be given the benefit of the doubt  1973   the longtime    director ordered the destruction of internal    documents regarding  an experimental mind-control program  later recalled  1974 the journalist   who had already broken the story of the   massacre in  revealed that the    had developed a sprawling domestic-spying operation keeping dossiers on thousands of  citizens  created two special committees a  committee led by    and a  committee that would eventually be led by    to investigate  years the    would be consumed with negotiations over the limits of what  could oversee  told me in his office  asked if there had indeed been excesses  poker face came to life  grinned turned his palms out and shrugged he said  burst out laughing  he pulled back to give the matter some more thought adjusting his glasses as he settled back into seriousness he said  battle between conservative hard-liners and a   would continue through the late    the    there was a sense of victimization   the agencys first presidentially appointed inspector general told me  1976 the job of defending the agency in public passed to the new director     who had served as a special   envoy to   at least one occasion  sat behind  during a congressional hearing giving him legal advice  wound up making oversight a permanent thorn in the    s side by establishing two intelligence oversight committees    drafted two letters each signed by  asking  if the    could resume the routine destruction of documents  request was denied says   now a law professor at the   of  and  at   who dealt with the    as legal counsel of the      than accept post-Watergate congressional limitations the hard-liners decamped from the    and became floaters bureaucratic nomads who sought out underused and low-visibility pockets of the federal government from which to wage their war over executive power  largest battle was fought around the  affair  covert group operating out of the    had used money gained by selling arms to  to fund anti-Communist rebels in   flouting a congressional prohibition  of the operation was organized by     of the     of the  plotters were dragged into the public eye and indicted by a special prosecutor another post-Watergate innovation  pointing to the involvement of    and       was inconclusive  hard-liners felt that foreign policy and covert operations were an exclusively presidential domain is how  first    director   put it in an interview with the political scientist     this time conservative thinkers of  generation began to coalesce around an idea they called  presidents right to his powers under   of the  they argued was undivided and absolute  reforms independent prosecutors to investigate high-level wrongdoing requirements to get warrants for national-security wiretaps and more were unconstitutional incursions into the presidents rightful powers   1977  left the    upon his graduation from      eventually landing as a policy lawyer in the     running for president took  to the 1988    to help vet potential running mates and after winning the election appointed him to lead the    of   where his duties included determining the legal limits of    activities  who was still at the    recalls that  kept his independence from the    of  opinions on classified    operations while a third operation  says was rejected entirely  of  public opinions though effectively authorized the invasion of   as acting attorney general he impressed  further by defusing a delicate prison-hostage crisis  attorney general in 1992  signed off on a mass-surveillance program that collected billions of call records for the     the end of  presidency he successfully pushed for a pardon of six  defendants     a former    director says  reminds him of   the former    lawyer who became     chief of staff and played a major role in pushing the limits of conduct including torture that the   and the    determined to be legal in the aftermath of the  11 attacks   says  intellect and experience made him appealing to the private sector  eight years he served as general counsel at  at a time when the company was working out secret arrangements with the    to turn over its customers data   2001 a legal trade publication noted  1 5 million salary and compared him to a for the depth of his connections in both political  and corporate    that time he said he had no interest in returning to officialdom he said  the 2016 presidential election  was a player in  politics and active in conservative  causes  gave nearly 50 000 to a  affiliated with    annual holiday parties traditional  cèilidhs with music and singers drew hundreds whose friendships he had maintained over the years  wrote and sold a screenplay about     spent time traveling abroad and hunting birds  three daughters all became accomplished lawyers working on   or as federal prosecutors  eldest  moved to the   financial-crimes unit after  nomination as attorney general one of  sons-in-law left the   for the      year shortly after his   speech  gave a second major address at the annual convention of the   an organization of conservative lawyers founded during the  administration  subject was executive power   criticized progressives this time for making politics  presidency in his view handled  of the core function of the presidency was the ability to act swiftly and without constraint but this capability had been diminished by the other branches since   had burdened the president with oversight while the courts were interfering with  travel ban on certain countries and his termination of     program for young immigrants  seemed to suggest that when it comes to foreign policy the only legitimate check on presidential behavior is the next election  later this argument would become the foundation of  impeachment defense   5 2018  attended     funeral  waiting in line for the shuttle bus that would take him to    he and his wife ran into a friend    who was    counsel during the  years  two men spent most of the day together  sounded out  about the attorney-general job  knew from following the news that  was under consideration but  never tipped his hand about how close he was to being tapped and  never asked  that week when  announced  nomination  was not surprised under   says  the time of his nomination  supporters presented him as a trustworthy and sensible conservative a known quantity within the  establishment who would restrain  worst impulses   called him   a legal commentator who is now one of  harshest critics tweeted at the time that he had been under  and that his confirmation would be  the confirmation hearing    of  the ranking  on the   questioned  at length about a memorandum he wrote to the administration the previous summer outlining why he believed that  had no legal right to investigate  for obstruction of justice  president  argued has investigations and can on individual cases including those that touch on his political or financial interests  wrote  enforcement he argued was a power exclusively held by the president because  the hearing  seemed to say that he did not believe the unitary executives powers to be infinite     a   asked if it would be lawful for a president to trade a pardon for a promise not to incriminate him  answered that such an exchange would be a crime  also mentioned his long friendship with   wife attends the same  study as  wife  attended the weddings of two of  daughters  was confirmed by a vote of 54 to 45  had barely served one month as attorney general when his friendship with  was tested by the special prosecutors delivery of his report on the afternoon of   22   account then went dark for nearly 40 hours    sent a letter to  that he would later describe as giving  and  feed came back to life he tweeted  his first public comments that same day  said the words three times he added  tweet  letter and  report said three different things   nor  exonerated   quoted  own words that his complicated finding on obstruction the president   omitted  conclusions that  interference sought to favor  that  and his campaign welcomed the interference and believed they would benefit from it and that the and between  and the campaign were substantial even though the evidence  was able to gather fell short of a criminal conspiracy  fired off two letters complaining that  had misrepresented his work  the second letter dated  27 he asked  to immediately release the reports introductions and executive summaries  the public would not get to read  work until  18 when  released a redacted version of the full report  doing so  gave a news conference in which he tilted further toward declaring  innocent something  bent over backward not to do  said of   distortions drew wide criticism  were also frustrated by the reports content  lacked the thunderous revelations about  that had long been promised by  opponents and it suffered from legalistic inconclusiveness on the most fundamental questions  having been given a chance to put the 2016 election to bed for good had carefully avoided doing so  hopes for the promised collusion bombshell now turned to the unredacted version of the  report which  refused to give them  an echo of his    work during the   years the    has taken a very hard line regarding what information  and the courts are entitled to get from the    has fought in court against the release of  tax returns argued that  did not need to see the  whistle-blowers complaint because it was not a matter of and has challenged congressional requests for  secret grand-jury materials   refused to turn over the fully unredacted  report to the    citing executive privilege the committee voted to hold him in contempt   chairman    of   claimed that this was the beginning of a  seemed untroubled he reportedly quipped to   at an event a few days later  concerns about  handling of  investigation have not been confined to      of the     for the  of  a    appointee recently criticized  and questioned whether  his first meeting with   in 2017  later recalled in his confirmation hearing he told  that  the end he was half right  said in one of our interviews  would have been  2019 more than a year ago  continued  asked if they still saw each other at  study  replied  general are chosen by the president no law prohibits them from doing the presidents bidding  presidents have occasionally asked the attorney general to intervene in individual prosecutions       attorney general went much further helping to plan the  burglary and then working to cover it up  the   guidelines do enjoin prosecutors not to comment about ongoing investigations something  does regularly  also caution that legal judgments and that the department must respect   of this has stopped  from overruling his subordinates to the benefit of  friends and associates most notably    longtime political mentor and   his former national security adviser  both cases  has tweeted about what he sees as the unfairness of their legal troubles and the   has subsequently pushed for leniency  has repeatedly said that  has never asked him to do anything in a criminal case he said in an interview with    the departments interventions on behalf of  and  have raised questions about the supposed  firewall   who led the  of   under    told   in   has said he doesnt pay attention to  tweets and doesnt take seriously the ones he is made aware of says   friend and former colleague   the former head of  civil rights division at the department articulated a prevailing view of  among  telling me that the attorney general has  says  interventions on behalf of  associates have far-reaching consequences she says   prosecutors recommended that  be sentenced to seven to nine years in prison for witness tampering and other crimes  following day the   filed a second revised sentencing memo asking that  sentence be reduced  to 108 months the memo argued given   the same day the department revised its sentencing recommendation all four of the prosecutors responsible for the case announced their withdrawal    left the department entirely  wrote later in an op-ed in       said the  prosecutors  tweeted out congratulations to  for  pushed back in the  interview insisting that he reached the  decision independently he said adding  post-Mueller case that has arguably received the most attention among  supporters is that of  the lieutenant general who briefly served as  national security adviser  dueling narratives around the  transition crystallize around  and the question of whether he or those who investigated him were in the wrong  addition to drawing scrutiny for his  contacts  initially failed to report as legally required that his company was effectively on the payroll of the  government during the 2016 campaign  himself tried and failed to talk  into dropping him  of  own problems hinged on his asking  if he could to dropping the  investigation  adversaries consider  to be a loose cannon and possible  pawn who needed to be rooted out  supporters depict him as the second coming of   a good soldier who was martyred in public for his loyalty to the executive   4 the day of my first interview with   was still awaiting sentencing having pleaded guilty to lying to the     time to time  had been tweeting about the  case in ways that seemed to cross the line that  had drawn about public comments from the   about matters pending before the    said  had been victimized by the as   asked  in light of his statement on   whether these were the kind of tweets that made his job  said  had recently been tweeting about   said  replied  asked if he would like to see them  said  handed  a printout of an  29  tweet  read  said with cool indifference  asked how it was that  supposed antagonists could be punished without involvement from the department  asked referring to the particular case that was now before     had found the right hair to split and he split it so cleanly and decisively that  couldnt say this wasnt his position from the beginning  tweet  said was nothing new  he said  days later on the afternoon of  7 the   filed a motion to dismiss its own prosecution of   government argued that  false statements were not to the investigation of  because the investigation was itself unjustified  argument relied in part on the contents of handwritten    notes that had been turned over to  attorneys by the department and released to the public by mutual agreement  of the prosecutors assigned to the case immediately withdrew  few days later  decided he wouldnt rule on whether to accept the departments motion until he had heard from friends of the court and a special counsel  lawyers appealed asking a higher court to force the judges hand  the department took  side  took to  celebrating  definitive  11  history of the 2016 election remains unwritten though not for lack of trying  addition to the  report and voluminous criminal indictments we have the    the  report by the   inspector general   and four volumes of the  intelligence committees report a fifth volume of which is on the way  major episodes of the story may now seem like familiar terrain to those who have kept up and a hopeless mess to everyone else  zoom out a bit and the stakes could not be higher  of  critics like    of  the  chairman of the    and    director of national intelligence go further than saying that the  put a thumb on the scale for   have suggested that the extra boost was decisive that  would not have been elected in 2016 but for  interference  crucial legacy of 2016 is that the question of  legitimacy was never settled  without any consensus on what happened in 2016 the rules of the road for 2020 are up in the air  first armed with the powers of law enforcement and presidential access to classified material  is getting ready to roll out his account of 2016   promises he most likely has in mind the ongoing investigation by   and its long-expected report although it is also possible that  public work product will take the form of indictments or perhaps nothing at all  who assigned  the task of investigating the  probe in  last year and met with him several times immediately after the conclusion of  investigation is overseeing  work and briefs  on his findings regularly  on  public statements we can see the rough contours of  findings beginning to take shape  governments conduct during the  transition  has said was  of  campaign amounted to  there was the all-important question of whether the    was justified in opening the initial   investigation into the  campaigns  ties  ordinary circumstances   prosecutors do not comment on anything connected to an ongoing investigation but on the day that  released his report both  and  decided to do just that     s interest in   said was based and  said in his own statement  had found that the investigation was justified so these sounded like sweeping words of dissent  over the coming months as attention drifted elsewhere they shrank  the time  sat down with  the only dispute with  hed voiced was whether the    had enough evidence to open a full investigation  and  believe that there was only enough to open a preliminary investigation not a full one  our first interview  mentioned the dossier of salacious anti-Trump claims that had been gathered and circulated by   a former  intelligence agent who was working indirectly for the  campaign  possibility that the  government intentionally seeded the dossier with misinformation was one of the issues  ignored and  was looking at  said  had  gone back and looked at the investigative steps taken as   accelerated he continued  had done that but unlike  and  he had no access to the    the    and the foreign governments that were involved  facilitate what later became a criminal investigation  ordered the heads of the intelligence agencies to cooperate with   delegated to  the power to order the declassification of secret documents  has spoken with intelligence officials from   and  to reportedly solicit information that could help   the case of  where  and  met with political leaders and intelligence chiefs in person his visit provoked concern among   diplomats who told   that  circumvented protocols in setting up the trip    of  who is the ranking  on the   and helped write its five-volume report said there were about  trips he said   a former colleague of  from the     years said he thought  could come back with something more  investigation he told me  investigation is not the only means through which  decisions could affect the election  the    wants to open a criminal investigation into either campaign it will first need  personal approval  has established a special to deal with materials that    says he has obtained from  sources which  has claimed implicate   the presumptive  presidential nominee  the interview  did not dispute the notion that the  government had interfered in 2016 but he made it sound as though the assumption that it favored  would be coming under some pressure  also would expect  to play a role in deterring and punishing foreign interference in the 2020 election but that could get complicated  camp continues to deny the intelligence communitys consensus view one strongly reiterated by  and the  intelligence committee that the  favored  over    including  on the    claim to have unreleased evidence that points the other way  on what  told me  intentions will most likely emerge as the key retrospective battlegrounds as  work continues and the election draws closer  said  what  did not address directly was the fourth volume of the report from the  intelligence committee  report reviewed much of the same intelligence underlying the     affirmed that  pro-Trump position and     direct involvement were supported by     s disagreement was  the committees groundbreaking 2012   the fourth volume was unanimously approved by a bipartisan vote of the  committee said    a  from   and the chairman of the committee  for his part dismissed  investigation as he told me  brought up the  investigation again in my last interview with  on  20  fifth floor of   headquarters now felt different some older lawyerly looking men walking around wore masks  younger men in suits with lapel pins who were most likely security did not  himself still wore no mask but there were no more polite entreaties for visitors to take theirs off  could see two crumpled blue surgical masks lying amid the papers on  desk  disarming familiarity  sat down on a sofa and offered me my in a tufted leather chair  then  had seized on the meme accusing the former president and  of  asked what crime he thought they were guilty of  declined to answer  a news conference two days before  went to see him  was asked indirectly if  investigation might lead to criminal charges being filed against  or  he said  that same day  asked about  statement replied  went on  then said he had that  and  were in what he now called a  to whether or not it was criminal he said   office two days later  brought up how  seemed to have heard only what he wanted to hear that  prediction about not prosecuting the former president was only valid  said  shouldnt read too much into those words he said  he realized it or not the line  had drawn at the news conference was getting blurrier with every word just as  had hoped  went on  pulled back from the conversation and thought for a moment  keeping tabs on  investigation for more than a year  did not think it was likely that he would have to prosecute a former president  neither at that moment was he willing to rule it out  made this position sound reasonable even as it served to support the unsupported theory that the president was floating at the time  the end the substance of  findings might not matter  he turns up will become a major theme of  2020 campaign the less time there is before an election the greater political impact of even the smallest apparent revelation   needed from  was the glimmer of a possibility a slight shadow of official uncertainty in which his wild theories could flourish  for now  was giving him that  much more he would give the president before  it was hard to say'"
      ]
     },
     "execution_count": 27,
     "metadata": {},
     "output_type": "execute_result"
    }
   ],
   "source": [
    "df.text.iloc[0]"
   ]
  },
  {
   "cell_type": "code",
   "execution_count": 28,
   "metadata": {},
   "outputs": [
    {
     "data": {
      "text/plain": [
       "lead_paragraph                           On the first Monday in May, the Department of ...\n",
       "keywords                                 [{'name': 'persons', 'value': 'Barr, William P...\n",
       "pub_date                                                          2020-06-01T09:00:11+0000\n",
       "type_of_material                                                                      News\n",
       "print_page                                                                              20\n",
       "text                                      as you drew closer to the fifth floor where  ...\n",
       "United States Politics and Government                                                 True\n",
       "quote_list                                                                            [[]]\n",
       "keyword_list                             ['', 'Barr,', 'William', 'P', 'Justice', 'Depa...\n",
       "Name: nyt://article/f5d2e4a7-f89b-54da-9985-dd5fc704a51e, dtype: object"
      ]
     },
     "execution_count": 28,
     "metadata": {},
     "output_type": "execute_result"
    }
   ],
   "source": [
    "last_check_before_split = (df.iloc[0])\n",
    "last_check_before_split"
   ]
  },
  {
   "cell_type": "code",
   "execution_count": 29,
   "metadata": {},
   "outputs": [
    {
     "name": "stdout",
     "output_type": "stream",
     "text": [
      "News: 14627 Oped: 3195, Total: 17822, Op-Ed 0.18 of total\n"
     ]
    },
    {
     "data": {
      "image/png": "[encoded data removed]",
      "text/plain": [
       "<Figure size 432x288 with 1 Axes>"
      ]
     },
     "metadata": {},
     "output_type": "display_data"
    }
   ],
   "source": [
    "oped_v_news(df)"
   ]
  },
  {
   "cell_type": "markdown",
   "metadata": {},
   "source": [
    "# drop na"
   ]
  },
  {
   "cell_type": "code",
   "execution_count": 30,
   "metadata": {},
   "outputs": [
    {
     "data": {
      "text/plain": [
       "(17822, 9)"
      ]
     },
     "execution_count": 30,
     "metadata": {},
     "output_type": "execute_result"
    }
   ],
   "source": [
    "df.shape"
   ]
  },
  {
   "cell_type": "code",
   "execution_count": 31,
   "metadata": {},
   "outputs": [],
   "source": [
    "df = df.dropna()"
   ]
  },
  {
   "cell_type": "code",
   "execution_count": 32,
   "metadata": {},
   "outputs": [
    {
     "data": {
      "text/plain": [
       "(17783, 9)"
      ]
     },
     "execution_count": 32,
     "metadata": {},
     "output_type": "execute_result"
    }
   ],
   "source": [
    "df.shape"
   ]
  },
  {
   "cell_type": "markdown",
   "metadata": {},
   "source": [
    "# X, y"
   ]
  },
  {
   "cell_type": "code",
   "execution_count": 33,
   "metadata": {},
   "outputs": [],
   "source": [
    "#define X. X is currently pandas series of unsplit strings\n",
    "X = df.text"
   ]
  },
  {
   "cell_type": "code",
   "execution_count": 34,
   "metadata": {},
   "outputs": [],
   "source": [
    "#turn series into list...\n",
    "corpus = list(X)"
   ]
  },
  {
   "cell_type": "code",
   "execution_count": 35,
   "metadata": {},
   "outputs": [
    {
     "data": {
      "text/plain": [
       "' as you drew closer to the fifth floor where      works out of a suite of offices things started to loosen up  assistant outside his conference room wore a mask but the other did not  the middle of the room with its oil paintings and vaulted ceiling the long central table had fewer chairs than you might expect and an appropriate distance between them  past the next door inside the attorney generals smaller personal office  himself was also mask-free  around to greet his visitors he moved into the middle of a wide circle of four chairs arranged in front of his desk  nearing the end of his career  did not take his current job for the glory  had already been attorney general once in      administration winning him a reputation as a wise old man a reputation that in the eyes of some his tenure in the  administration has tarnished  is he doing it for the money  time in corporate  earned him tens of millions of dollars in compensation and stock options and his bearing is still that of a  500 counsel cozy manners wrapped around a harder core  said though  had been asked to bring one  tone was jokingly conspiratorial as though he were making an exception for an old friend  is sometimes described as an adjective that also captures his professorial manner  speaking voice is very soft just loud enough to be consistently perceptible his accent is patrician with a trace of old    personality breaks through mostly in frequent moments of humor which range from clubby chuckles to tension-breaking eruptions an aide added  crossed the circle of chairs grinning away any awkwardness  bumped elbows he said in the same joshing tone  greater risk of course was that  might infect him given his cabinet-level access to regular coronavirus testing the difference in our ages  regular meetings with the president and the mostly one-way prophylactic value of masks in general his aide suggested again  took it off   the whole country was doing the same dance   for   and  had recommended that all  wear masks at meetings like this one   was doing something else and so for the time being was the   staff     having been wrong-footed after taking the no-mask custom to the   now seemed to be making it up as he went along  weeks into the global pandemic a charitable observer might still have described the administrations response as improvisational or misguided as opposed to willfully cavalier  things were about to get worse  day  projection of the total   death toll 75 000 to 100 000 which was given the previous evening at the   would be challenged by an internal  document predicting that the number of daily deaths would rise into   reckless faith of the presidents inner circle would be challenged when two members of the   staff tested positive for the coronavirus  and  did not know it then but we were enjoying the tail end of the  administrations libertine phase   27 the official death toll would surpass 100 000 the upper bound of what  predicted on  3  has to assume that  is keeping a close eye on the 70-year-old  right now  powers of the attorney general as the executive branchs rule interpreter and law enforcer peak during moments of social unrest  knows these powers well  led the   through the   riots of 1992 when  invoked the   and deployed thousands of soldiers and    said the   riots were gang activity and not    is a stalwart believer in the righteousness of the police those communities that fail to give the police he said in a  speech  summer  dropped the departments federal case against the   police officer who killed   during an arrest in 2014  role also gives him influence over three major political fronts heading into   there is  fight to open the nations economy which could depend in no small part on  interpretation of federal authority and willingness to twist governors arms  there are the mechanics of the vote itself a topic of great partisan controversy about which the   has shown a growing willingness to weigh in  there is the ongoing investigation led by   the   attorney in  into the origins of the    s  probe in the run-up to the 2016 election the findings of which are widely expected to be announced before   the election now on the horizon  defended his record in two recent interviews  critics charge that since becoming attorney general he has repeatedly steered the   toward decisions that serve  interests particularly around the investigations carried out by the    and     into  influence over the 2016 election  insists that he acts independently even as the president often undermines that claim by tweeting out apparent instructions for what his attorney general ought to do  the time of our first meeting in his office  had already started looking at how the federal government might intervene in state-ordered coronavirus shutdowns   accused  governors of denying citizens their and encouraged residents to   and   zeroed in on the nuts and bolts of the legal case for  two small churches filed lawsuits seeking to hold live services despite state or local regulations the   made filings in support of their   rights  a signed memorandum sent to the departments 93   attorneys  suggested that the federal governments interest went beyond protecting live worship  included  weeks before our interview  bragged that he held authority over the states  went against the prevailing view that the federal government while free to enforce a variety of measures during its own emergencies is more constrained in its authority to compel state or local governments to lift theirs   asked  what  meant he responded by laying out a general view of the presidents pandemic-related powers he said  answer sounded so dry and routine that  failed to ask what he meant by  broadly enough  interpretation could sanitize and legalize  claim to authority  ballots are another domain where  had been staking out turf  called the distribution of ballot applications in  and warned that voting by mail  a second interview on  20 when  asked who was going to referee the 2020 election  replied  said his departments role would be limited as the power belongs to the states and their electors  when  brought up  tweet about  which he posted that same morning  quickly seized the opportunity to float a new theory that foreign governments might conspire to mail in fake ballots he cautioned offering no evidence to substantiate that this was a real possibility  he called it and added  many election-related issues the  of  has to defer to the states  in the case of  investigation of the 2016 investigators or the as  has so often called it  has a greater degree of control  years  has been saying that he was treated unfairly in 2016 particularly at the hands of   then the    director  who is open about his agreement with this premise is now in the process of nailing down the details  wont rule out the possibility that  findings could undermine a key consensus about 2016 the well-established conclusion that  interference sought to favor  a finding of the    of 2017 that was later underscored by  the special counsel and verified by the   intelligence committee   told me was looking for  paused glanced down and fidgeted for a moment with his necktie before going on  seems aware at times that he is gambling with his reputation he said with a matter-of-fact sigh in a  interview last year  we spoke in his office he was critical of what he called  tendency to around himself he said he added  willingness to weather controversy on the presidents behalf has not only caused consternation among some former friends and allies it has given rise to considerable speculation about his motives  would a grandfather in semiretirement who had already reached the pinnacle of his profession sign up for this  wonder if  might still be hungry for influence having been attorney general for only 17 months the first time  wonder whether he spent too much time watching   during the  years and came out the other side an ideologue  there are others who look at  support for  and see more consistency than contradiction  they say hasnt changed his values  he has found in  the perfect vehicle with which to move them forward says   who led the   civil division during  first tour and then succeeded him serving as acting attorney general during the first three months of   presidency  far as what  is hoping to do with his canvas  says he is committed to the and premise that  isnt too far away from what  himself articulated in a 2019 speech at the  of     view piety lay at the heart of the founders model of self-government which depended on religious values to restrain human passions  said  flows from through to form  and experience merely serve to confirm the infallible divine law  law he said is under threat from including who call on the state  their feet  places mental illness drug overdoses violence and suicide  these things he said are getting worse  are  started his career in the    as an analyst working on  and other matters   asked about the origin of his interest in the intelligence service he responded indirectly with an anecdote about telling his high school guidance counselor that he wanted to be    director  was tempting to link  career and conservatism with his father   who served in the  of   the    s forerunner during     1940 as an undergraduate at   wrote a controversial editorial for    defending a speech by the university president that called upon the faculty to support the  war effort he wrote  tempting as it was to see the son as part of some epigenetic chain of old-line conservatism  cautioned me not to make such assumptions  parents met at the  of  in the early 1940s  who already spoke three languages had been sent there by the  to learn   spotted   a young  woman who had a masters degree in  from  through an open doorway teaching  to undergraduates and was smitten  took some courting  thought  was a  told me and his background was also an issue he was raised without much religion but his father  grandfather was born a secular   joining the   gave his religion as    converted to  after he and  wed   26-page    file obtained from the   gives a detailed account of his transition from the military to intelligence work  1944 he shipped off to   suffered from hay fever and 20/200 vision much of his time overseas was spent hospitalized with allergies  next year he was assigned to the     interviewer found him to be  late 1945 he moved to  to begin work at the   and   which would become the   in-house intelligence bureau  the couples second son was born in 1950  age 8 he had taken up the bagpipes which would become a lifelong hobby  attended the    in   where his classmates remembered his conservatism the delight he took in making an argument and his sense of humor  yearbook praised him as an  involvement with campus politics continued at   joined the   which organized against student occupiers who had taken over the campus to protest the    was known as a feeder school for the     average of 14 seniors went to the agency each year from 1960 through 1966 according to a 1967 article from the student newspaper    which reported that a majority came in not through the colleges  of   and  but perhaps a reference to the private foundations and student organizations that were receiving    funding at that time  the late 1960s this recruiting drew campus protests which eventually broadened to take on other issues beyond the war  the morning of  24 1968 student demonstrators many of them affiliated with  for a   stormed    and took over the offices of  president  protesters were angry that  was building a gymnasium nearby that would have two separate entrances one for the school community and one for neighborhood residents and also about the universitys connection with a think tank that did research for the   was on the other side standing shoulder to shoulder with conservatives and athletes to form a blockade around the library he told me  smiled to himself  asked if he was in the fistfight  adjusted the bridge of his glasses and glanced down he said letting out a big laugh  later added  interned at the    in the summers of 1971 and 1972  1973 after completing his graduate degree in government and  studies he married   whom he met at a fraternity party  next day the couple drove to  and  began a permanent job at the    the day after that  mothers memories of the   he said had instilled in him a desire for career stability so he began taking law courses at night  then he had transferred to the    s  of   says   who worked down the hall from  in the general counsels office where  would eventually rise to become the acting head  new job put  on the    s seventh floor not far from the directors office and near the center of what was shaping up to be a historic fight with   the aftermath of    the presidency was endowed with vast new powers mass surveillance covert operations proxy wars and nuclear weapons  young    spurred on by the imperative to win the   abused its own new powers to an astonishing degree  a statutory ban on its involvement in either or the    surveilled and surreptitiously engaged with countless  citizens  agency reported to the president and often took action based on informal conversations without ever committing much to paper  around the agencys transgressions held until the 1970s when antiwar sentiment began to peak  scandals around the   1971 and the  break-in 1972 culminating in the long-anticipated  defeat convinced much of the public that the federal government should no longer be given the benefit of the doubt  1973   the longtime    director ordered the destruction of internal    documents regarding  an experimental mind-control program  later recalled  1974 the journalist   who had already broken the story of the   massacre in  revealed that the    had developed a sprawling domestic-spying operation keeping dossiers on thousands of  citizens  created two special committees a  committee led by    and a  committee that would eventually be led by    to investigate  years the    would be consumed with negotiations over the limits of what  could oversee  told me in his office  asked if there had indeed been excesses  poker face came to life  grinned turned his palms out and shrugged he said  burst out laughing  he pulled back to give the matter some more thought adjusting his glasses as he settled back into seriousness he said  battle between conservative hard-liners and a   would continue through the late    the    there was a sense of victimization   the agencys first presidentially appointed inspector general told me  1976 the job of defending the agency in public passed to the new director     who had served as a special   envoy to   at least one occasion  sat behind  during a congressional hearing giving him legal advice  wound up making oversight a permanent thorn in the    s side by establishing two intelligence oversight committees    drafted two letters each signed by  asking  if the    could resume the routine destruction of documents  request was denied says   now a law professor at the   of  and  at   who dealt with the    as legal counsel of the      than accept post-Watergate congressional limitations the hard-liners decamped from the    and became floaters bureaucratic nomads who sought out underused and low-visibility pockets of the federal government from which to wage their war over executive power  largest battle was fought around the  affair  covert group operating out of the    had used money gained by selling arms to  to fund anti-Communist rebels in   flouting a congressional prohibition  of the operation was organized by     of the     of the  plotters were dragged into the public eye and indicted by a special prosecutor another post-Watergate innovation  pointing to the involvement of    and       was inconclusive  hard-liners felt that foreign policy and covert operations were an exclusively presidential domain is how  first    director   put it in an interview with the political scientist     this time conservative thinkers of  generation began to coalesce around an idea they called  presidents right to his powers under   of the  they argued was undivided and absolute  reforms independent prosecutors to investigate high-level wrongdoing requirements to get warrants for national-security wiretaps and more were unconstitutional incursions into the presidents rightful powers   1977  left the    upon his graduation from      eventually landing as a policy lawyer in the     running for president took  to the 1988    to help vet potential running mates and after winning the election appointed him to lead the    of   where his duties included determining the legal limits of    activities  who was still at the    recalls that  kept his independence from the    of  opinions on classified    operations while a third operation  says was rejected entirely  of  public opinions though effectively authorized the invasion of   as acting attorney general he impressed  further by defusing a delicate prison-hostage crisis  attorney general in 1992  signed off on a mass-surveillance program that collected billions of call records for the     the end of  presidency he successfully pushed for a pardon of six  defendants     a former    director says  reminds him of   the former    lawyer who became     chief of staff and played a major role in pushing the limits of conduct including torture that the   and the    determined to be legal in the aftermath of the  11 attacks   says  intellect and experience made him appealing to the private sector  eight years he served as general counsel at  at a time when the company was working out secret arrangements with the    to turn over its customers data   2001 a legal trade publication noted  1 5 million salary and compared him to a for the depth of his connections in both political  and corporate    that time he said he had no interest in returning to officialdom he said  the 2016 presidential election  was a player in  politics and active in conservative  causes  gave nearly 50 000 to a  affiliated with    annual holiday parties traditional  cèilidhs with music and singers drew hundreds whose friendships he had maintained over the years  wrote and sold a screenplay about     spent time traveling abroad and hunting birds  three daughters all became accomplished lawyers working on   or as federal prosecutors  eldest  moved to the   financial-crimes unit after  nomination as attorney general one of  sons-in-law left the   for the      year shortly after his   speech  gave a second major address at the annual convention of the   an organization of conservative lawyers founded during the  administration  subject was executive power   criticized progressives this time for making politics  presidency in his view handled  of the core function of the presidency was the ability to act swiftly and without constraint but this capability had been diminished by the other branches since   had burdened the president with oversight while the courts were interfering with  travel ban on certain countries and his termination of     program for young immigrants  seemed to suggest that when it comes to foreign policy the only legitimate check on presidential behavior is the next election  later this argument would become the foundation of  impeachment defense   5 2018  attended     funeral  waiting in line for the shuttle bus that would take him to    he and his wife ran into a friend    who was    counsel during the  years  two men spent most of the day together  sounded out  about the attorney-general job  knew from following the news that  was under consideration but  never tipped his hand about how close he was to being tapped and  never asked  that week when  announced  nomination  was not surprised under   says  the time of his nomination  supporters presented him as a trustworthy and sensible conservative a known quantity within the  establishment who would restrain  worst impulses   called him   a legal commentator who is now one of  harshest critics tweeted at the time that he had been under  and that his confirmation would be  the confirmation hearing    of  the ranking  on the   questioned  at length about a memorandum he wrote to the administration the previous summer outlining why he believed that  had no legal right to investigate  for obstruction of justice  president  argued has investigations and can on individual cases including those that touch on his political or financial interests  wrote  enforcement he argued was a power exclusively held by the president because  the hearing  seemed to say that he did not believe the unitary executives powers to be infinite     a   asked if it would be lawful for a president to trade a pardon for a promise not to incriminate him  answered that such an exchange would be a crime  also mentioned his long friendship with   wife attends the same  study as  wife  attended the weddings of two of  daughters  was confirmed by a vote of 54 to 45  had barely served one month as attorney general when his friendship with  was tested by the special prosecutors delivery of his report on the afternoon of   22   account then went dark for nearly 40 hours    sent a letter to  that he would later describe as giving  and  feed came back to life he tweeted  his first public comments that same day  said the words three times he added  tweet  letter and  report said three different things   nor  exonerated   quoted  own words that his complicated finding on obstruction the president   omitted  conclusions that  interference sought to favor  that  and his campaign welcomed the interference and believed they would benefit from it and that the and between  and the campaign were substantial even though the evidence  was able to gather fell short of a criminal conspiracy  fired off two letters complaining that  had misrepresented his work  the second letter dated  27 he asked  to immediately release the reports introductions and executive summaries  the public would not get to read  work until  18 when  released a redacted version of the full report  doing so  gave a news conference in which he tilted further toward declaring  innocent something  bent over backward not to do  said of   distortions drew wide criticism  were also frustrated by the reports content  lacked the thunderous revelations about  that had long been promised by  opponents and it suffered from legalistic inconclusiveness on the most fundamental questions  having been given a chance to put the 2016 election to bed for good had carefully avoided doing so  hopes for the promised collusion bombshell now turned to the unredacted version of the  report which  refused to give them  an echo of his    work during the   years the    has taken a very hard line regarding what information  and the courts are entitled to get from the    has fought in court against the release of  tax returns argued that  did not need to see the  whistle-blowers complaint because it was not a matter of and has challenged congressional requests for  secret grand-jury materials   refused to turn over the fully unredacted  report to the    citing executive privilege the committee voted to hold him in contempt   chairman    of   claimed that this was the beginning of a  seemed untroubled he reportedly quipped to   at an event a few days later  concerns about  handling of  investigation have not been confined to      of the     for the  of  a    appointee recently criticized  and questioned whether  his first meeting with   in 2017  later recalled in his confirmation hearing he told  that  the end he was half right  said in one of our interviews  would have been  2019 more than a year ago  continued  asked if they still saw each other at  study  replied  general are chosen by the president no law prohibits them from doing the presidents bidding  presidents have occasionally asked the attorney general to intervene in individual prosecutions       attorney general went much further helping to plan the  burglary and then working to cover it up  the   guidelines do enjoin prosecutors not to comment about ongoing investigations something  does regularly  also caution that legal judgments and that the department must respect   of this has stopped  from overruling his subordinates to the benefit of  friends and associates most notably    longtime political mentor and   his former national security adviser  both cases  has tweeted about what he sees as the unfairness of their legal troubles and the   has subsequently pushed for leniency  has repeatedly said that  has never asked him to do anything in a criminal case he said in an interview with    the departments interventions on behalf of  and  have raised questions about the supposed  firewall   who led the  of   under    told   in   has said he doesnt pay attention to  tweets and doesnt take seriously the ones he is made aware of says   friend and former colleague   the former head of  civil rights division at the department articulated a prevailing view of  among  telling me that the attorney general has  says  interventions on behalf of  associates have far-reaching consequences she says   prosecutors recommended that  be sentenced to seven to nine years in prison for witness tampering and other crimes  following day the   filed a second revised sentencing memo asking that  sentence be reduced  to 108 months the memo argued given   the same day the department revised its sentencing recommendation all four of the prosecutors responsible for the case announced their withdrawal    left the department entirely  wrote later in an op-ed in       said the  prosecutors  tweeted out congratulations to  for  pushed back in the  interview insisting that he reached the  decision independently he said adding  post-Mueller case that has arguably received the most attention among  supporters is that of  the lieutenant general who briefly served as  national security adviser  dueling narratives around the  transition crystallize around  and the question of whether he or those who investigated him were in the wrong  addition to drawing scrutiny for his  contacts  initially failed to report as legally required that his company was effectively on the payroll of the  government during the 2016 campaign  himself tried and failed to talk  into dropping him  of  own problems hinged on his asking  if he could to dropping the  investigation  adversaries consider  to be a loose cannon and possible  pawn who needed to be rooted out  supporters depict him as the second coming of   a good soldier who was martyred in public for his loyalty to the executive   4 the day of my first interview with   was still awaiting sentencing having pleaded guilty to lying to the     time to time  had been tweeting about the  case in ways that seemed to cross the line that  had drawn about public comments from the   about matters pending before the    said  had been victimized by the as   asked  in light of his statement on   whether these were the kind of tweets that made his job  said  had recently been tweeting about   said  replied  asked if he would like to see them  said  handed  a printout of an  29  tweet  read  said with cool indifference  asked how it was that  supposed antagonists could be punished without involvement from the department  asked referring to the particular case that was now before     had found the right hair to split and he split it so cleanly and decisively that  couldnt say this wasnt his position from the beginning  tweet  said was nothing new  he said  days later on the afternoon of  7 the   filed a motion to dismiss its own prosecution of   government argued that  false statements were not to the investigation of  because the investigation was itself unjustified  argument relied in part on the contents of handwritten    notes that had been turned over to  attorneys by the department and released to the public by mutual agreement  of the prosecutors assigned to the case immediately withdrew  few days later  decided he wouldnt rule on whether to accept the departments motion until he had heard from friends of the court and a special counsel  lawyers appealed asking a higher court to force the judges hand  the department took  side  took to  celebrating  definitive  11  history of the 2016 election remains unwritten though not for lack of trying  addition to the  report and voluminous criminal indictments we have the    the  report by the   inspector general   and four volumes of the  intelligence committees report a fifth volume of which is on the way  major episodes of the story may now seem like familiar terrain to those who have kept up and a hopeless mess to everyone else  zoom out a bit and the stakes could not be higher  of  critics like    of  the  chairman of the    and    director of national intelligence go further than saying that the  put a thumb on the scale for   have suggested that the extra boost was decisive that  would not have been elected in 2016 but for  interference  crucial legacy of 2016 is that the question of  legitimacy was never settled  without any consensus on what happened in 2016 the rules of the road for 2020 are up in the air  first armed with the powers of law enforcement and presidential access to classified material  is getting ready to roll out his account of 2016   promises he most likely has in mind the ongoing investigation by   and its long-expected report although it is also possible that  public work product will take the form of indictments or perhaps nothing at all  who assigned  the task of investigating the  probe in  last year and met with him several times immediately after the conclusion of  investigation is overseeing  work and briefs  on his findings regularly  on  public statements we can see the rough contours of  findings beginning to take shape  governments conduct during the  transition  has said was  of  campaign amounted to  there was the all-important question of whether the    was justified in opening the initial   investigation into the  campaigns  ties  ordinary circumstances   prosecutors do not comment on anything connected to an ongoing investigation but on the day that  released his report both  and  decided to do just that     s interest in   said was based and  said in his own statement  had found that the investigation was justified so these sounded like sweeping words of dissent  over the coming months as attention drifted elsewhere they shrank  the time  sat down with  the only dispute with  hed voiced was whether the    had enough evidence to open a full investigation  and  believe that there was only enough to open a preliminary investigation not a full one  our first interview  mentioned the dossier of salacious anti-Trump claims that had been gathered and circulated by   a former  intelligence agent who was working indirectly for the  campaign  possibility that the  government intentionally seeded the dossier with misinformation was one of the issues  ignored and  was looking at  said  had  gone back and looked at the investigative steps taken as   accelerated he continued  had done that but unlike  and  he had no access to the    the    and the foreign governments that were involved  facilitate what later became a criminal investigation  ordered the heads of the intelligence agencies to cooperate with   delegated to  the power to order the declassification of secret documents  has spoken with intelligence officials from   and  to reportedly solicit information that could help   the case of  where  and  met with political leaders and intelligence chiefs in person his visit provoked concern among   diplomats who told   that  circumvented protocols in setting up the trip    of  who is the ranking  on the   and helped write its five-volume report said there were about  trips he said   a former colleague of  from the     years said he thought  could come back with something more  investigation he told me  investigation is not the only means through which  decisions could affect the election  the    wants to open a criminal investigation into either campaign it will first need  personal approval  has established a special to deal with materials that    says he has obtained from  sources which  has claimed implicate   the presumptive  presidential nominee  the interview  did not dispute the notion that the  government had interfered in 2016 but he made it sound as though the assumption that it favored  would be coming under some pressure  also would expect  to play a role in deterring and punishing foreign interference in the 2020 election but that could get complicated  camp continues to deny the intelligence communitys consensus view one strongly reiterated by  and the  intelligence committee that the  favored  over    including  on the    claim to have unreleased evidence that points the other way  on what  told me  intentions will most likely emerge as the key retrospective battlegrounds as  work continues and the election draws closer  said  what  did not address directly was the fourth volume of the report from the  intelligence committee  report reviewed much of the same intelligence underlying the     affirmed that  pro-Trump position and     direct involvement were supported by     s disagreement was  the committees groundbreaking 2012   the fourth volume was unanimously approved by a bipartisan vote of the  committee said    a  from   and the chairman of the committee  for his part dismissed  investigation as he told me  brought up the  investigation again in my last interview with  on  20  fifth floor of   headquarters now felt different some older lawyerly looking men walking around wore masks  younger men in suits with lapel pins who were most likely security did not  himself still wore no mask but there were no more polite entreaties for visitors to take theirs off  could see two crumpled blue surgical masks lying amid the papers on  desk  disarming familiarity  sat down on a sofa and offered me my in a tufted leather chair  then  had seized on the meme accusing the former president and  of  asked what crime he thought they were guilty of  declined to answer  a news conference two days before  went to see him  was asked indirectly if  investigation might lead to criminal charges being filed against  or  he said  that same day  asked about  statement replied  went on  then said he had that  and  were in what he now called a  to whether or not it was criminal he said   office two days later  brought up how  seemed to have heard only what he wanted to hear that  prediction about not prosecuting the former president was only valid  said  shouldnt read too much into those words he said  he realized it or not the line  had drawn at the news conference was getting blurrier with every word just as  had hoped  went on  pulled back from the conversation and thought for a moment  keeping tabs on  investigation for more than a year  did not think it was likely that he would have to prosecute a former president  neither at that moment was he willing to rule it out  made this position sound reasonable even as it served to support the unsupported theory that the president was floating at the time  the end the substance of  findings might not matter  he turns up will become a major theme of  2020 campaign the less time there is before an election the greater political impact of even the smallest apparent revelation   needed from  was the glimmer of a possibility a slight shadow of official uncertainty in which his wild theories could flourish  for now  was giving him that  much more he would give the president before  it was hard to say'"
      ]
     },
     "execution_count": 35,
     "metadata": {},
     "output_type": "execute_result"
    }
   ],
   "source": [
    "corpus[0]"
   ]
  },
  {
   "cell_type": "code",
   "execution_count": 36,
   "metadata": {},
   "outputs": [],
   "source": [
    "# define y as a series of op-ed or news\n",
    "y = df.type_of_material"
   ]
  },
  {
   "cell_type": "code",
   "execution_count": 37,
   "metadata": {},
   "outputs": [
    {
     "data": {
      "text/plain": [
       "_id\n",
       "nyt://article/f5d2e4a7-f89b-54da-9985-dd5fc704a51e    0\n",
       "nyt://article/0fa09b77-5faa-588f-9d4a-39a34748c7f3    0\n",
       "nyt://article/6b274a69-c82b-5b68-bada-ec1467440ddf    0\n",
       "nyt://article/8867f9cb-5914-5731-90b9-e1f1781fa568    0\n",
       "nyt://article/fb5f6e07-033e-5618-967e-fbc1ebcfd61c    0\n",
       "                                                     ..\n",
       "nyt://article/b47c7977-3810-52d4-951b-7ad9e89f3b65    0\n",
       "nyt://article/efdf8f07-a026-5e4f-8411-9eb40827b2e7    0\n",
       "nyt://article/e395b682-6d55-5d1f-981b-0a6d3daae3c4    0\n",
       "nyt://article/5d1387dd-723c-51ef-ba68-2514b7752a95    0\n",
       "nyt://article/f02a1a48-9eb3-521d-83bc-f59267848cf9    0\n",
       "Name: type_of_material, Length: 17783, dtype: int64"
      ]
     },
     "execution_count": 37,
     "metadata": {},
     "output_type": "execute_result"
    }
   ],
   "source": [
    "vectorize_y_ser(y)"
   ]
  },
  {
   "cell_type": "code",
   "execution_count": 38,
   "metadata": {},
   "outputs": [
    {
     "name": "stdout",
     "output_type": "stream",
     "text": [
      "CPU times: user 7.67 ms, sys: 1.44 ms, total: 9.11 ms\n",
      "Wall time: 8 ms\n"
     ]
    }
   ],
   "source": [
    "%%time\n",
    "# vectorize y in to (1, 0) (op-ed, news)\n",
    "y = vectorize_y_ser(y)"
   ]
  },
  {
   "cell_type": "code",
   "execution_count": 39,
   "metadata": {},
   "outputs": [
    {
     "data": {
      "text/plain": [
       "0    14592\n",
       "1     3191\n",
       "Name: type_of_material, dtype: int64"
      ]
     },
     "execution_count": 39,
     "metadata": {},
     "output_type": "execute_result"
    }
   ],
   "source": [
    "y.value_counts()"
   ]
  },
  {
   "cell_type": "code",
   "execution_count": 40,
   "metadata": {},
   "outputs": [
    {
     "data": {
      "text/plain": [
       "(17783,)"
      ]
     },
     "execution_count": 40,
     "metadata": {},
     "output_type": "execute_result"
    }
   ],
   "source": [
    "y.shape\n",
    "X.shape"
   ]
  },
  {
   "cell_type": "markdown",
   "metadata": {},
   "source": [
    "# remove stop words"
   ]
  },
  {
   "cell_type": "markdown",
   "metadata": {},
   "source": [
    "# stemming/lemmatization"
   ]
  },
  {
   "cell_type": "code",
   "execution_count": 41,
   "metadata": {},
   "outputs": [],
   "source": [
    "snowball = SnowballStemmer('english')\n",
    "wordnet = WordNetLemmatizer()"
   ]
  },
  {
   "cell_type": "code",
   "execution_count": 42,
   "metadata": {},
   "outputs": [],
   "source": [
    "# %%time\n",
    "# def snowball_tokenize(doc):\n",
    "#     snowball = SnowballStemmer('english')\n",
    "#     return [snowball.stem(word) for word in word_tokenize(doc.lower())]"
   ]
  },
  {
   "cell_type": "code",
   "execution_count": 43,
   "metadata": {},
   "outputs": [
    {
     "name": "stdout",
     "output_type": "stream",
     "text": [
      "CPU times: user 3 µs, sys: 1 µs, total: 4 µs\n",
      "Wall time: 5.72 µs\n"
     ]
    }
   ],
   "source": [
    "%%time\n",
    "def wordnet_tokenize(doc):\n",
    "    wordnet = WordNetLemmatizer()\n",
    "    return  [wordnet.lemmatize(word) for word in word_tokenize(doc.lower())]"
   ]
  },
  {
   "cell_type": "markdown",
   "metadata": {},
   "source": [
    "# vectorizer"
   ]
  },
  {
   "cell_type": "markdown",
   "metadata": {},
   "source": [
    "# WORDNET tfidf"
   ]
  },
  {
   "cell_type": "code",
   "execution_count": 44,
   "metadata": {},
   "outputs": [],
   "source": [
    "import string"
   ]
  },
  {
   "cell_type": "code",
   "execution_count": 45,
   "metadata": {},
   "outputs": [
    {
     "name": "stdout",
     "output_type": "stream",
     "text": [
      "!\"#$%&'()*+,-./:;<=>?@[\\]^_`{|}~\n",
      "!\"#$%&'()*+,-./:;<=>?@[\\]^_`{|}~\n"
     ]
    }
   ],
   "source": [
    "print(string.punctuation)\n",
    "print('!\"#$%&\\'()*+,-./:;<=>?@[\\\\]^_`{|}~')"
   ]
  },
  {
   "cell_type": "code",
   "execution_count": 46,
   "metadata": {},
   "outputs": [],
   "source": [
    "# nytimes_quotes = \"”“\"\n",
    "# nytimes_punctuation = \"—’\""
   ]
  },
  {
   "cell_type": "code",
   "execution_count": 47,
   "metadata": {},
   "outputs": [],
   "source": [
    "#function that removes string.punctuation w/out the '?'\n",
    "def punc_strip(document):\n",
    "    for char in document:\n",
    "        if char in '!\"#$%&\\'()*+—,-./:;<=>?@[\\\\]^_`{|}~':\n",
    "            document = document.replace(char, \" \")\n",
    "    return document"
   ]
  },
  {
   "cell_type": "code",
   "execution_count": 48,
   "metadata": {},
   "outputs": [],
   "source": [
    "# stop_words_nlp = ['week',\n",
    "#  'these',\n",
    "#  'what',\n",
    "#  'seems',\n",
    "#  'very',\n",
    "#  'think',\n",
    "#  'get',\n",
    "#  'story',\n",
    "#  'people',\n",
    "#  'reality',\n",
    "#  'largely',\n",
    "#  'rich',\n",
    "#  'brought',\n",
    "#  'good',\n",
    "#  'major',\n",
    "#  'provided',\n",
    "#  'after',\n",
    "#  'enough',\n",
    "#  'will',\n",
    "#  'why',\n",
    "#  'feel',\n",
    "#  'them',\n",
    "#  'even',\n",
    "#  'behavior',\n",
    "#  'fact',\n",
    "#  'clearly',\n",
    "#  'should',\n",
    "#  'there',\n",
    "#  'kind',\n",
    "#  'actually',\n",
    "#  'future',\n",
    "#  'talking',\n",
    "#  'do',\n",
    "#  'life',\n",
    "#  'campaign',\n",
    "#  'want',\n",
    "#  'course',\n",
    "#  'adding',\n",
    "#  'different',\n",
    "#  'understand',\n",
    "#  'like',\n",
    "#  'seem',\n",
    "#  'world',\n",
    "#  'thinking',\n",
    "#  'filed',\n",
    "#  'true',\n",
    "#  'administration',\n",
    "#  'office',\n",
    "#  '14',\n",
    "#  'pushed',\n",
    "#  'may',\n",
    "#  'secretary',\n",
    "#  'saying',\n",
    "#  'criticized',\n",
    "#  'several',\n",
    "#  'respect',\n",
    "#  'else',\n",
    "#  'need',\n",
    "#  'considered',\n",
    "#  'chairman',\n",
    "#  'two',\n",
    "#  'look',\n",
    "#  'later',\n",
    "#  'day',\n",
    "#  'telephone',\n",
    "#  'visit',\n",
    "#  'important',\n",
    "#  'looked',\n",
    "#  'veteran',\n",
    "#  'mind',\n",
    "#  'mean',\n",
    "#  'got',\n",
    "#  'message',\n",
    "#  'keep',\n",
    "#  'voter',\n",
    "#  'real',\n",
    "#  'ever',\n",
    "#  'anything',\n",
    "#  'believed',\n",
    "#  '1',\n",
    "#  'done',\n",
    "#  'letter',\n",
    "#  'added',\n",
    "#  'everyone',\n",
    "#  'ask',\n",
    "#  'bit',\n",
    "#  'supposed',\n",
    "#  'problem',\n",
    "#  'under',\n",
    "#  'practice',\n",
    "#  'modern',\n",
    "#  'information',\n",
    "#  'sound',\n",
    "#  'group',\n",
    "#  'leader',\n",
    "#  'top',\n",
    "#  'committee',\n",
    "#  'member',\n",
    "#  'intended',\n",
    "#  'lot',\n",
    "#  'hero',\n",
    "#  '32',\n",
    "#  'conspiracy',\n",
    "#  'known',\n",
    "#  'security',\n",
    "#  'let',\n",
    "#  'fair',\n",
    "#  'fail',\n",
    "#  'yes',\n",
    "#  'intellectual',\n",
    "#  'department',\n",
    "#  'conference',\n",
    "#  'endorsement',\n",
    "#  'director',\n",
    "#  'month',\n",
    "#  'approved',\n",
    "#  'official',\n",
    "#  'oversees',\n",
    "#  'billion',\n",
    "#  'acknowledged',\n",
    "#  'professor',\n",
    "#  '2',\n",
    "#  'earlier',\n",
    "#  'decision',\n",
    "#  'solve',\n",
    "#  'provision',\n",
    "#  'legislation',\n",
    "#  'proposed',\n",
    "#  'attitude',\n",
    "#  'review',\n",
    "#  'declined',\n",
    "#  'rally',\n",
    "#  'preparing',\n",
    "#  'sent',\n",
    "#  'issued',\n",
    "#  'series',\n",
    "#  'seeking',\n",
    "#  'briefing',\n",
    "#  'rid',\n",
    "#  'struggled',\n",
    "#  'interview',\n",
    "#  'disclosure',\n",
    "#  'testified',\n",
    "#  'additional',\n",
    "#  'prosecutor',\n",
    "#  'deputy',\n",
    "#  'aide',\n",
    "#  'except',\n",
    "#  'enemy',\n",
    "#  'evening',\n",
    "#  'internal',\n",
    "#  'referring',\n",
    "#  'politician',\n",
    "#  'founder',\n",
    "#  'counsel',\n",
    "#  'obtained',\n",
    "#  'released',\n",
    "#  'practiced',\n",
    "#  'outlined',\n",
    "#  'replied',\n",
    "#  'hosted', 'including',\n",
    "#  'effort',\n",
    "#  'before',\n",
    "#  'largest',\n",
    "#  'accused',\n",
    "#  'force',\n",
    "#  '000',\n",
    "#  'officer',\n",
    "#  'nearly',\n",
    "#  'former',\n",
    "#  'move',\n",
    "#  'night',\n",
    "#  'document',\n",
    "#  'request',\n",
    "#  'continued',\n",
    "#  'issue',\n",
    "#  'called',\n",
    "#  'legal',\n",
    "#  'stretched',\n",
    "#  'range',\n",
    "#  'unusual',\n",
    "#  'staff',\n",
    "#  'expressed',\n",
    "#  'according',\n",
    "#  'nearby',\n",
    "#  'joined',\n",
    "#  'car',\n",
    "#  'forward',\n",
    "#  '6',\n",
    "#  '9',\n",
    "#  'measure',\n",
    "#  'primary',\n",
    "#  'final',\n",
    "#  'drew',\n",
    "#  'represents',\n",
    "#  'potentially',\n",
    "#  'nominee',\n",
    "#  'posted',\n",
    "#  'prominent',\n",
    "#  'include',\n",
    "#  'adviser',\n",
    "#  'strategist',\n",
    "#  'worked',\n",
    "#  'team',\n",
    "#  'remained',\n",
    "#  'lawyer',\n",
    "#  'afternoon',\n",
    "#  'senator',\n",
    "#  'proposal',\n",
    "#  'seat',\n",
    "#  'pleaded',\n",
    "#  'appeared',\n",
    "#  'increase',\n",
    "#  'agreed',\n",
    "#  'announced',\n",
    "#  'spokesman',\n",
    "#  'familiar',\n",
    "#  'convened',\n",
    "#  'sought',\n",
    "#  'online',\n",
    "#  'planned',\n",
    "#  'comment',\n",
    "#  'quickly',\n",
    "#  'senior',\n",
    "#  'expert',\n",
    "#  'meeting',\n",
    "#  'repeatedly',\n",
    "#  'appearance',\n",
    "#  'contest',\n",
    "#  'hoped',\n",
    "#  'agency',\n",
    "#  'inquiry',\n",
    "#  'announcement',\n",
    "#  'negotiation',\n",
    "#  'anonymity',\n",
    "#  'aimed',\n",
    "#  'detail',\n",
    "#  'discussed',\n",
    "#  'daughter',\n",
    "#  'scheduled',\n",
    "#  'lawmaker',\n",
    "#  'producer',\n",
    "#  'ranking',\n",
    "#  'remark',\n",
    "#  'mercurial', 'against',\n",
    "#  'news',\n",
    "#  'close',\n",
    "#  'did',\n",
    "#  'other',\n",
    "#  'role',\n",
    "#  'began',\n",
    "#  'could',\n",
    "#  'chief',\n",
    "#  'expected',\n",
    "#  'three',\n",
    "#  'during',\n",
    "#  'support',\n",
    "#  'since',\n",
    "#  'statement',\n",
    "#  'wrote',\n",
    "#  'focused',\n",
    "#  'last',\n",
    "#  'asked',\n",
    "#  'general',\n",
    "#  'spoke',\n",
    "#  'tried',\n",
    "#  'heavily',\n",
    "#  'urged',\n",
    "#  'agreement',\n",
    "#  'she',\n",
    "#  'email',\n",
    "#  'plan',\n",
    "#  'business',\n",
    "#  'dispute',\n",
    "#  'emphasized',\n",
    "#  'provide',\n",
    "#  'served',\n",
    "#  'speaking',\n",
    "#  'set',\n",
    "#  'attended',\n",
    "#  'brief',\n",
    "#  'noted',\n",
    "#  'longtime',\n",
    "#  'special',\n",
    "#  'company',\n",
    "#  'morning',\n",
    "#  'criticism',\n",
    "#  'viewed',\n",
    "#  'citing',\n",
    "#  'entered',\n",
    "#  'signature',\n",
    "#  'initially',\n",
    "#  'received',\n",
    "#  'executive',\n",
    "#  'advocacy',\n",
    "#  'ambassador',\n",
    "#  'floor',\n",
    "#  'privately',\n",
    "#  'scrutiny',\n",
    "#  'overhaul',\n",
    "#  'illegally',\n",
    "#  'briefed',\n",
    "#  'frequently',\n",
    "#  'fund',\n",
    "#  'bolster',\n",
    "#  'tie',\n",
    "#  'questioned',\n",
    "#  'assistant',\n",
    "#  'intends',\n",
    "#  'panel',\n",
    "#  'stance',\n",
    "#  'unclear',\n",
    "#  'commenting',\n",
    "#  'negotiating',\n",
    "#  'rang',\n",
    "#  'sow',\n",
    "#  'undecided',\n",
    "#  'allegation',\n",
    "#  'overly',\n",
    "#  'spokeswoman',\n",
    "#  'advertisement',\n",
    "#  'regulator']"
   ]
  },
  {
   "cell_type": "code",
   "execution_count": 267,
   "metadata": {},
   "outputs": [],
   "source": [
    "stop_words_normalized = ['this', 'statement', 'month', 'lawmaker', 'my', 'me', 'guy', 'going', 'world', 'lawyer']"
   ]
  },
  {
   "cell_type": "code",
   "execution_count": 317,
   "metadata": {},
   "outputs": [],
   "source": [
    "setb = ['see', 'all', 'much', 'if', 'many', 'former', 'chief', 'spokesman']"
   ]
  },
  {
   "cell_type": "code",
   "execution_count": 318,
   "metadata": {},
   "outputs": [],
   "source": [
    "alphabet = ['a','b','c','d','e','f','g','h','i','j','k','l','m','n','o','p','q','r','s','t','u','v','w','x','y','z']"
   ]
  },
  {
   "cell_type": "code",
   "execution_count": 319,
   "metadata": {},
   "outputs": [],
   "source": [
    "stop_words = alphabet + stop_words_normalized  + setb"
   ]
  },
  {
   "cell_type": "code",
   "execution_count": 320,
   "metadata": {},
   "outputs": [
    {
     "name": "stdout",
     "output_type": "stream",
     "text": [
      "CPU times: user 1.58 ms, sys: 221 µs, total: 1.8 ms\n",
      "Wall time: 1.85 ms\n"
     ]
    }
   ],
   "source": [
    "%%time\n",
    "#create vectorizer\n",
    "\n",
    "vectorizer = TfidfVectorizer(#input='content', \n",
    "#                 encoding='utf-8', \n",
    "#                 decode_error='strict', \n",
    "#                 strip_accents='ascii', \n",
    "#                 lowercase=True, \n",
    "                 preprocessor=punc_strip, \n",
    "                 tokenizer=wordnet_tokenize, \n",
    "#                 analyzer='word', \n",
    "                 stop_words=stop_words,\n",
    "#                 token_pattern='(?u)\\b\\w\\w+\\b', \n",
    "#                 ngram_range=(1, 2), \n",
    "                 max_df=0.7, \n",
    "#                 min_df=0.1, \n",
    "                 max_features=None, \n",
    "#                 vocabulary=None, \n",
    "#                 binary=False, \n",
    "#                 dtype=<class 'numpy.float64'>, \n",
    "#                 norm='l2', \n",
    "#                 use_idf=True, \n",
    "#                 smooth_idf=True, \n",
    "#                 sublinear_tf=False\n",
    ")"
   ]
  },
  {
   "cell_type": "markdown",
   "metadata": {},
   "source": [
    "# test, train, split"
   ]
  },
  {
   "cell_type": "code",
   "execution_count": 321,
   "metadata": {},
   "outputs": [],
   "source": [
    "#test, train, split"
   ]
  },
  {
   "cell_type": "code",
   "execution_count": 322,
   "metadata": {},
   "outputs": [
    {
     "name": "stdout",
     "output_type": "stream",
     "text": [
      "(13337,) (4446,) (13337,) (4446,)\n",
      "CPU times: user 1min 41s, sys: 1.16 s, total: 1min 43s\n",
      "Wall time: 1min 43s\n"
     ]
    }
   ],
   "source": [
    "%%time\n",
    "#test, train, split\n",
    "X_train, X_test, y_train, y_test = train_test_split(X, y, random_state=50)\n",
    "print(X_train.shape, X_test.shape, y_train.shape, y_test.shape)\n",
    "\n",
    "X_train = vectorizer.fit_transform(X_train)\n",
    "\n",
    "X_test = vectorizer.transform(X_test)"
   ]
  },
  {
   "cell_type": "code",
   "execution_count": 323,
   "metadata": {},
   "outputs": [
    {
     "data": {
      "text/plain": [
       "(13337, 39954)"
      ]
     },
     "execution_count": 323,
     "metadata": {},
     "output_type": "execute_result"
    }
   ],
   "source": [
    "X_train.shape"
   ]
  },
  {
   "cell_type": "code",
   "execution_count": 324,
   "metadata": {},
   "outputs": [
    {
     "data": {
      "text/plain": [
       "(4446, 39954)"
      ]
     },
     "execution_count": 324,
     "metadata": {},
     "output_type": "execute_result"
    }
   ],
   "source": [
    "X_test.shape"
   ]
  },
  {
   "cell_type": "markdown",
   "metadata": {},
   "source": [
    "# count vectorizer"
   ]
  },
  {
   "cell_type": "code",
   "execution_count": 325,
   "metadata": {},
   "outputs": [],
   "source": [
    "# count_vectorizer = CountVectorizer(strip_accents='None',\n",
    "#                                    lowercase=True,\n",
    "#                                    tokenizer=snowball_tokenize,\n",
    "#                                    stop_words='english',\n",
    "#                                    max_features=None)"
   ]
  },
  {
   "cell_type": "markdown",
   "metadata": {},
   "source": [
    "# balance classes"
   ]
  },
  {
   "cell_type": "code",
   "execution_count": 326,
   "metadata": {},
   "outputs": [
    {
     "name": "stdout",
     "output_type": "stream",
     "text": [
      "[(0, 2370), (1, 2370)]\n",
      "RandomUnderSampler(random_state=0)\n",
      "CPU times: user 11.7 ms, sys: 5.56 ms, total: 17.2 ms\n",
      "Wall time: 16.3 ms\n"
     ]
    }
   ],
   "source": [
    "%%time\n",
    "#balance the classes\n",
    "\n",
    "from imblearn.under_sampling import RandomUnderSampler\n",
    "rus = RandomUnderSampler(random_state=0)\n",
    "\n",
    "#X, y --> X_resampled, y_resampled\n",
    "X_resampled, y_resampled = rus.fit_resample(X_train, y_train)\n",
    "print(sorted(Counter(y_resampled).items()))\n",
    "print(rus)"
   ]
  },
  {
   "cell_type": "markdown",
   "metadata": {},
   "source": [
    "# random forest classifier"
   ]
  },
  {
   "cell_type": "code",
   "execution_count": 327,
   "metadata": {},
   "outputs": [
    {
     "name": "stdout",
     "output_type": "stream",
     "text": [
      "2021-01-12 16:08:50.684563\n",
      "CPU times: user 458 µs, sys: 120 µs, total: 578 µs\n",
      "Wall time: 556 µs\n"
     ]
    }
   ],
   "source": [
    "%%time\n",
    "print(datetime.datetime.now())\n",
    "rf_clf = RandomForestClassifier(max_depth=2, random_state=0)"
   ]
  },
  {
   "cell_type": "code",
   "execution_count": 328,
   "metadata": {},
   "outputs": [
    {
     "data": {
      "text/plain": [
       "(4446,)"
      ]
     },
     "execution_count": 328,
     "metadata": {},
     "output_type": "execute_result"
    }
   ],
   "source": [
    "rf_clf.fit(X_resampled, y_resampled)\n",
    "y_pred = rf_clf.predict(X_test)\n",
    "y_pred.shape"
   ]
  },
  {
   "cell_type": "markdown",
   "metadata": {},
   "source": [
    "### metrics y_pred"
   ]
  },
  {
   "cell_type": "code",
   "execution_count": 329,
   "metadata": {},
   "outputs": [],
   "source": [
    "tn, fp, fn, tp = confusion_matrix(y_true = y_test, y_pred = y_pred).ravel()"
   ]
  },
  {
   "cell_type": "code",
   "execution_count": 330,
   "metadata": {},
   "outputs": [
    {
     "name": "stdout",
     "output_type": "stream",
     "text": [
      "(4446,)\n",
      "(4446,)\n"
     ]
    }
   ],
   "source": [
    "print(y_test.shape)\n",
    "print(y_pred.shape)"
   ]
  },
  {
   "cell_type": "code",
   "execution_count": 331,
   "metadata": {},
   "outputs": [
    {
     "name": "stdout",
     "output_type": "stream",
     "text": [
      "Accuracy: 0.92\n",
      "Recall: 0.91\n",
      "Precision: 0.72\n",
      "TN:3334 FP:291 FN:72 TP:749\n"
     ]
    },
    {
     "data": {
      "text/plain": [
       "(0.918353576248313, 0.9123020706455542, 0.7201923076923077)"
      ]
     },
     "execution_count": 331,
     "metadata": {},
     "output_type": "execute_result"
    }
   ],
   "source": [
    "metrics_(tn, fp, fn, tp)"
   ]
  },
  {
   "cell_type": "code",
   "execution_count": 332,
   "metadata": {},
   "outputs": [
    {
     "data": {
      "image/png": "[encoded data removed]",
      "text/plain": [
       "<Figure size 432x288 with 2 Axes>"
      ]
     },
     "metadata": {},
     "output_type": "display_data"
    }
   ],
   "source": [
    "class_names = [\"News\", \"Op-Ed\"]\n",
    "plot_confusion_matrix(estimator=rf_clf,\n",
    "                      X=X_test,\n",
    "                      y_true=y_test,\n",
    "                      display_labels=class_names,\n",
    "                      cmap='cividis')\n",
    "plt.savefig('img/confusion_matrix.png');"
   ]
  },
  {
   "cell_type": "markdown",
   "metadata": {},
   "source": [
    "# vectorizer parameters"
   ]
  },
  {
   "cell_type": "code",
   "execution_count": 333,
   "metadata": {},
   "outputs": [
    {
     "name": "stdout",
     "output_type": "stream",
     "text": [
      "Number of features: 39954, Numbers of stop words: 42\n",
      "analyzer: word\n",
      "binary: False\n",
      "decode_error: strict\n",
      "dtype: <class 'numpy.float64'>\n",
      "encoding: utf-8\n",
      "input: content\n",
      "lowercase: True\n",
      "max_df: 0.7\n",
      "max_features: None\n",
      "min_df: 1\n",
      "ngram_range: (1, 1)\n",
      "norm: l2\n",
      "preprocessor: <function punc_strip at 0x7faacb57fb00>\n",
      "smooth_idf: True\n",
      "stop_words: ['a', 'b', 'c', 'd', 'e', 'f', 'g', 'h', 'i', 'j', 'k', 'l', 'm', 'n', 'o', 'p', 'q', 'r', 's', 't', 'u', 'v', 'w', 'x', 'y', 'z', 'this', 'statement', 'month', 'lawmaker', 'my', 'me', 'guy', 'going', 'world', 'lawyer', 'see', 'all', 'much', 'if', 'many', 'former', 'chief', 'spokesman']\n",
      "strip_accents: None\n",
      "sublinear_tf: False\n",
      "token_pattern: (?u)\\b\\w\\w+\\b\n",
      "tokenizer: <function wordnet_tokenize at 0x7faacb5767a0>\n",
      "use_idf: True\n",
      "vocabulary: None\n"
     ]
    }
   ],
   "source": [
    "vectorizer_parameters(vectorizer)"
   ]
  },
  {
   "cell_type": "markdown",
   "metadata": {},
   "source": [
    "# important features"
   ]
  },
  {
   "cell_type": "markdown",
   "metadata": {},
   "source": [
    "### feature imporance"
   ]
  },
  {
   "cell_type": "code",
   "execution_count": 334,
   "metadata": {
    "scrolled": true
   },
   "outputs": [
    {
     "name": "stdout",
     "output_type": "stream",
     "text": [
      "2021-01-12 16:08:52.369612\n",
      "CPU times: user 574 ms, sys: 77.6 ms, total: 652 ms\n",
      "Wall time: 406 ms\n"
     ]
    },
    {
     "data": {
      "image/png": "[encoded data removed]",
      "text/plain": [
       "<Figure size 1440x1080 with 1 Axes>"
      ]
     },
     "metadata": {},
     "output_type": "display_data"
    }
   ],
   "source": [
    "%%time\n",
    "print(datetime.datetime.now())\n",
    "\n",
    "feat_names = vectorizer.get_feature_names()\n",
    "feature_import = rf_clf.feature_importances_\n",
    "\n",
    "feat_scores = pd.Series(feature_import, index=feat_names)\n",
    "feat_scores = feat_scores.sort_values()\n",
    "ax = feat_scores[-6:].plot(kind='barh', figsize=(20,15))\n",
    "ax.set_title('\"Decrease in Impurity\" Importance')\n",
    "#ax.set_xlabel('Average contribution to the reduction in variance')\n",
    "plt.rcParams.update({'font.size': 40})\n",
    "plt.savefig('img/feature_imporance.png');"
   ]
  },
  {
   "cell_type": "code",
   "execution_count": 335,
   "metadata": {
    "scrolled": true
   },
   "outputs": [
    {
     "data": {
      "text/plain": [
       "Index(['self', 'true', 'hed', '2', 'hour', 'getting', 'story', 'actual',\n",
       "       'billion', 'employee', 'bad', 'website', 'feel', 'issue', 'committee',\n",
       "       'unclear', 'never', 'enough', 'probably', 'according', 'cultural',\n",
       "       'worse', 'rather', 'these', 'lie', 'amid', 'hasnt', 'make', 'behavior',\n",
       "       'power', 'posted', 'hell', 'dozen', 'believe', 'whether', 'during',\n",
       "       'certainly', 'effort', 'expressed', 'thats', 'presidency', 'like',\n",
       "       'leader', 'earlier', 'here', 'mind', 'voter', 'isnt', 'sort', 'firm',\n",
       "       'member', 'better', 'top', 'two', 'do', 'way', 'should', 'official',\n",
       "       'after', 'wouldnt', 'fact', 'reform', 'thing', 'want', 'truth',\n",
       "       'administration', 'comment', 'wont', 'imagine', 'group', 'youre', 'why',\n",
       "       'sent', 'theyre', 'maybe', 'always', 'doesnt', 'get', 'there', 'last',\n",
       "       'chairman', 'planned', 'today', 'aide', 'let', 'life', 'very', 'can',\n",
       "       'privately', 'whole', 'adding', 'declined', 'too', 'director', 'just',\n",
       "       'federal', 'right', 'appeared', 'we', 'didnt'],\n",
       "      dtype='object')"
      ]
     },
     "execution_count": 335,
     "metadata": {},
     "output_type": "execute_result"
    }
   ],
   "source": [
    "feat_scores[-100:].index"
   ]
  },
  {
   "cell_type": "code",
   "execution_count": 336,
   "metadata": {},
   "outputs": [],
   "source": [
    "count_df = df[['text', 'type_of_material']]\n",
    "oped = count_df[count_df['type_of_material'] == \"Op-Ed\"]\n",
    "news = count_df[count_df['type_of_material'] == \"News\"]"
   ]
  },
  {
   "cell_type": "code",
   "execution_count": 337,
   "metadata": {},
   "outputs": [
    {
     "name": "stdout",
     "output_type": "stream",
     "text": [
      "(3191, 2)\n",
      "(14592, 2)\n"
     ]
    }
   ],
   "source": [
    "print(oped.shape)\n",
    "print(news.shape)"
   ]
  },
  {
   "cell_type": "code",
   "execution_count": 338,
   "metadata": {},
   "outputs": [
    {
     "name": "stdout",
     "output_type": "stream",
     "text": [
      "14006924\n"
     ]
    }
   ],
   "source": [
    "oped_string = oped.text.str.cat(sep = \" \")\n",
    "num_oped_string = len(oped_string)\n",
    "print(num_oped_string)"
   ]
  },
  {
   "cell_type": "code",
   "execution_count": 339,
   "metadata": {},
   "outputs": [
    {
     "name": "stdout",
     "output_type": "stream",
     "text": [
      "71931567\n"
     ]
    }
   ],
   "source": [
    "news_string = news.text.str.cat(sep = \" \")\n",
    "num_news_string = len(news_string)\n",
    "print(num_news_string)"
   ]
  },
  {
   "cell_type": "markdown",
   "metadata": {},
   "source": [
    "# counting"
   ]
  },
  {
   "cell_type": "code",
   "execution_count": 340,
   "metadata": {},
   "outputs": [],
   "source": [
    "top_15 = feat_scores[-6:].index"
   ]
  },
  {
   "cell_type": "code",
   "execution_count": 341,
   "metadata": {},
   "outputs": [
    {
     "name": "stdout",
     "output_type": "stream",
     "text": [
      "CPU times: user 3.52 s, sys: 44.2 ms, total: 3.56 s\n",
      "Wall time: 3.59 s\n"
     ]
    },
    {
     "data": {
      "text/plain": [
       "dict_items([('we', 6856), ('federal', 1506), ('just', 4147), ('right', 2319), ('didnt', 1436), ('appeared', 193)])"
      ]
     },
     "execution_count": 341,
     "metadata": {},
     "output_type": "execute_result"
    }
   ],
   "source": [
    "%%time\n",
    "oped_list = [word for word in oped_string.split() if word in list(top_15)]\n",
    "oped_ed_counter = Counter(oped_list)\n",
    "oped_ed_counter.items()"
   ]
  },
  {
   "cell_type": "code",
   "execution_count": 342,
   "metadata": {},
   "outputs": [
    {
     "name": "stdout",
     "output_type": "stream",
     "text": [
      "CPU times: user 19.3 s, sys: 257 ms, total: 19.5 s\n",
      "Wall time: 19.8 s\n"
     ]
    },
    {
     "data": {
      "text/plain": [
       "dict_items([('just', 7993), ('we', 1892), ('right', 3205), ('federal', 14806), ('appeared', 3898), ('didnt', 1310)])"
      ]
     },
     "execution_count": 342,
     "metadata": {},
     "output_type": "execute_result"
    }
   ],
   "source": [
    "%%time\n",
    "news_list = [word for word in news_string.split() if word  in list(top_15)]\n",
    "news_counter = Counter(news_list)\n",
    "news_counter.items()"
   ]
  },
  {
   "cell_type": "markdown",
   "metadata": {},
   "source": [
    "# merge dictionary"
   ]
  },
  {
   "cell_type": "code",
   "execution_count": 343,
   "metadata": {},
   "outputs": [],
   "source": [
    "# merge_dic.val[0] = news\n",
    "# merge_dic.val[1] = oped\n",
    "\n",
    "merge_dic = {}\n",
    "for key, oped_val in oped_ed_counter.items():\n",
    "    news_val = news_counter.get(key)\n",
    "    merged_values = (news_val, oped_val)\n",
    "    merged_values_set = set(merged_values)\n",
    "    merge_dic[key] = merged_values_set"
   ]
  },
  {
   "cell_type": "code",
   "execution_count": 344,
   "metadata": {
    "scrolled": false
   },
   "outputs": [
    {
     "data": {
      "image/png": "[encoded data removed]",
      "text/plain": [
       "<Figure size 1440x720 with 1 Axes>"
      ]
     },
     "metadata": {},
     "output_type": "display_data"
    }
   ],
   "source": [
    "import matplotlib\n",
    "import matplotlib.pyplot as plt\n",
    "import numpy as np\n",
    "\n",
    "merge_dic = {}\n",
    "for key, oped_val in oped_ed_counter.items():\n",
    "    news_val = news_counter.get(key)\n",
    "    merged_values = (news_val, oped_val)\n",
    "    merge_dic[key] = merged_values\n",
    "\n",
    "keys = []\n",
    "news_counts = []\n",
    "oped_counts = []\n",
    "    \n",
    "for k, v in merge_dic.items():\n",
    "    keys.append(k)\n",
    "    news_counts.append(v[0]/num_news_string)\n",
    "    oped_counts.append(v[1]/num_oped_string)\n",
    "\n",
    "x = np.arange(len(keys))  # the label locations\n",
    "width = 0.35  # the width of the bars\n",
    "\n",
    "fig, ax = plt.subplots(figsize=(20,10))\n",
    "rects1 = ax.bar(x - width/2, news_counts, width, label='News')\n",
    "rects2 = ax.bar(x + width/2, oped_counts, width, label='Op-Ed')\n",
    "\n",
    "\n",
    "# Add some text for labels, title and custom x-axis tick labels, etc.\n",
    "#ax.set_ylabel('Count')\n",
    "ax.set_title('Word distribution in News and Op-Ed')\n",
    "ax.set_xticks(x)\n",
    "#ax.set_yscale('log')\n",
    "ax.set_xticklabels(keys)\n",
    "ax.legend()\n",
    "\n",
    "# def autolabel(rects):\n",
    "#     \"\"\"Attach a text label above each bar in *rects*, displaying its height.\"\"\"\n",
    "#     for rect in rects:\n",
    "#         height = rect.get_height()\n",
    "#         ax.annotate('{}'.format(height),\n",
    "#                     xy=(rect.get_x() + rect.get_width() / 2, height),\n",
    "#                     xytext=(0, 3),  # 3 points vertical offset\n",
    "#                     textcoords=\"offset points\",\n",
    "#                     ha='center', va='bottom')\n",
    "\n",
    "# autolabel(rects1)\n",
    "# autolabel(rects2)\n",
    "plt.yticks([])\n",
    "fig.tight_layout()\n",
    "plt.xticks(rotation=45, fontsize=30)\n",
    "plt.show()"
   ]
  },
  {
   "cell_type": "markdown",
   "metadata": {},
   "source": [
    "# news/oped most common "
   ]
  },
  {
   "cell_type": "code",
   "execution_count": 345,
   "metadata": {},
   "outputs": [],
   "source": [
    "# %%time\n",
    "# oped_list_features = [word for word in oped_string.split() if word in list(top_15)]\n",
    "# oped_ed_count_total = Counter(oped_list_features)"
   ]
  },
  {
   "cell_type": "code",
   "execution_count": 346,
   "metadata": {},
   "outputs": [],
   "source": [
    "# %%time\n",
    "# news_list_features = [word for word in news_string.split() if word in list(top_15)]\n",
    "# news_counter_total = Counter(news_list_features)"
   ]
  },
  {
   "cell_type": "code",
   "execution_count": 347,
   "metadata": {},
   "outputs": [],
   "source": [
    "# merge_dic.val[0] = news\n",
    "# merge_dic.val[1] = oped\n",
    "\n",
    "news_words = []\n",
    "oped_words = []\n",
    "\n",
    "for k, v in merge_dic.items():\n",
    "    if v[0]/num_news_string > v[1]/num_oped_string:\n",
    "        news_words.append(k)\n",
    "    else:\n",
    "        oped_words.append(k)"
   ]
  },
  {
   "cell_type": "code",
   "execution_count": 348,
   "metadata": {},
   "outputs": [
    {
     "name": "stdout",
     "output_type": "stream",
     "text": [
      "2\n",
      "4\n"
     ]
    }
   ],
   "source": [
    "print(len(news_words))\n",
    "print(len(oped_words))"
   ]
  },
  {
   "cell_type": "code",
   "execution_count": 349,
   "metadata": {},
   "outputs": [
    {
     "data": {
      "text/plain": [
       "['federal', 'appeared']"
      ]
     },
     "execution_count": 349,
     "metadata": {},
     "output_type": "execute_result"
    }
   ],
   "source": [
    "news_words"
   ]
  },
  {
   "cell_type": "code",
   "execution_count": 350,
   "metadata": {},
   "outputs": [
    {
     "data": {
      "text/plain": [
       "['we', 'just', 'right', 'didnt']"
      ]
     },
     "execution_count": 350,
     "metadata": {},
     "output_type": "execute_result"
    }
   ],
   "source": [
    "oped_words"
   ]
  },
  {
   "cell_type": "code",
   "execution_count": 351,
   "metadata": {},
   "outputs": [
    {
     "name": "stdout",
     "output_type": "stream",
     "text": [
      "14006924\n",
      "71931567\n"
     ]
    }
   ],
   "source": [
    "print(num_oped_string)\n",
    "print(num_news_string)"
   ]
  },
  {
   "cell_type": "code",
   "execution_count": null,
   "metadata": {},
   "outputs": [],
   "source": []
  },
  {
   "cell_type": "code",
   "execution_count": 352,
   "metadata": {},
   "outputs": [],
   "source": [
    "# import matplotlib\n",
    "# import matplotlib.pyplot as plt\n",
    "# import numpy as np\n",
    "\n",
    "\n",
    "# labels = oped_ed_counter.keys()\n",
    "# #news_labels = news_counter.keys()\n",
    "\n",
    "# oped_counts = oped_ed_counter.values()\n",
    "# #news_counts = news_counter.values()\n",
    "\n",
    "# x = np.arange(len(labels))  # the label locations\n",
    "# width = 0.5  # the width of the bars\n",
    "\n",
    "# fig, ax = plt.subplots(figsize=(10,10))\n",
    "# rects1 = ax.bar(x - width/2, oped_counts, width, label='oped')\n",
    "# #rects2 = ax.bar(x + width/2, news_counts, width, label='news')\n",
    "\n",
    "# # Add some text for labels, title and custom x-axis tick labels, etc.\n",
    "# #ax.set_ylabel('Scores')\n",
    "# ax.set_title('words in oped corpus')\n",
    "# ax.set_xticks(x)\n",
    "# ax.set_xticklabels(labels)\n",
    "# ax.legend()\n",
    "\n",
    "# fig.tight_layout()\n",
    "# plt.xticks(rotation=90)\n",
    "# plt.show()"
   ]
  },
  {
   "cell_type": "code",
   "execution_count": 353,
   "metadata": {},
   "outputs": [],
   "source": [
    "# import matplotlib\n",
    "# import matplotlib.pyplot as plt\n",
    "# import numpy as np\n",
    "\n",
    "\n",
    "# labels = news_counter.keys()\n",
    "# #news_labels = news_counter.keys()\n",
    "\n",
    "# oped_counts = news_counter.values()\n",
    "# #news_counts = news_counter.values()\n",
    "\n",
    "# x = np.arange(len(labels))  # the label locations\n",
    "# width = 0.5  # the width of the bars\n",
    "\n",
    "# fig, ax = plt.subplots(figsize=(10,10))\n",
    "# rects1 = ax.bar(x - width/2, oped_counts, width, label='news')\n",
    "# #rects2 = ax.bar(x + width/2, news_counts, width, label='news')\n",
    "\n",
    "# # Add some text for labels, title and custom x-axis tick labels, etc.\n",
    "# #ax.set_ylabel('Scores')\n",
    "# ax.set_title('words in news corpus')\n",
    "# ax.set_xticks(x)\n",
    "# ax.set_xticklabels(labels)\n",
    "# ax.legend()\n",
    "\n",
    "# fig.tight_layout()\n",
    "# plt.xticks(rotation=90)\n",
    "# plt.show()"
   ]
  },
  {
   "cell_type": "markdown",
   "metadata": {},
   "source": [
    "### permutation importance"
   ]
  },
  {
   "cell_type": "code",
   "execution_count": 305,
   "metadata": {},
   "outputs": [],
   "source": [
    "# %%time\n",
    "# print(datetime.datetime.now())\n",
    "# r = permutation_importance(rf_clf, X_test.toarray(), y_test, n_repeats=30, random_state=0)"
   ]
  },
  {
   "cell_type": "code",
   "execution_count": 306,
   "metadata": {},
   "outputs": [],
   "source": [
    "# for i in r.importances_mean.argsort()[::-1]:\n",
    "#     if r.importances_mean[i] - 2 * r.importances_std[i] > 0:\n",
    "#         print(f\"{feat_names[i]:<8}\"\n",
    "#               f\"{r.importances_mean[i]:.3f}\"\n",
    "#               f\" +/- {r.importances_std[i]:.3f}\")"
   ]
  },
  {
   "cell_type": "code",
   "execution_count": 307,
   "metadata": {},
   "outputs": [],
   "source": [
    "# for i in r.importances_mean.argsort()[::-1]:\n",
    "#     if r.importances_mean[i] - 2 * r.importances_std[i] > 0:\n",
    "#         print(f\"{feat_names[i]:<20}\")\n",
    "# #               f\"{r.importances_mean[i]:.3f}\"\n",
    "# #               f\" +/- {r.importances_std[i]:.3f}\")"
   ]
  },
  {
   "cell_type": "code",
   "execution_count": 308,
   "metadata": {},
   "outputs": [
    {
     "data": {
      "text/plain": [
       "39957"
      ]
     },
     "execution_count": 308,
     "metadata": {},
     "output_type": "execute_result"
    }
   ],
   "source": [
    "len(feat_names)"
   ]
  },
  {
   "cell_type": "markdown",
   "metadata": {},
   "source": [
    "# make a plot"
   ]
  },
  {
   "cell_type": "markdown",
   "metadata": {},
   "source": [
    "# min_df_plot"
   ]
  },
  {
   "cell_type": "code",
   "execution_count": 309,
   "metadata": {},
   "outputs": [],
   "source": [
    "# %%time\n",
    "# num_feat_min = []\n",
    "\n",
    "# min_df = np.linspace(0.01,0.5,5)\n",
    "\n",
    "# for val in min_df:\n",
    "#     vectorizer_plot = TfidfVectorizer(preprocessor=punc_strip,\n",
    "# #                 tokenizer=wordnet_tokenize,\n",
    "#                 stop_words=alphabet,\n",
    "# #                 max_df=0.95,\n",
    "#                  min_df=val,\n",
    "#                  max_features=None)\n",
    "    \n",
    "#     vectorizer_plot.fit(X)\n",
    "    \n",
    "#     features = vectorizer_plot.get_feature_names()\n",
    "#     stop_word = vectorizer_plot.get_stop_words()\n",
    "\n",
    "#     num_feat_min.append(len(features))"
   ]
  },
  {
   "cell_type": "code",
   "execution_count": 310,
   "metadata": {},
   "outputs": [],
   "source": [
    "# learn_vect = TfidfVectorizer(preprocessor=punc_strip,\n",
    "#                  tokenizer=wordnet_tokenize,\n",
    "# #            stop_words=alphabet,\n",
    "# #                max_df=0.95,\n",
    "#              min_df=.2,\n",
    "#              max_features=None)\n",
    "\n",
    "# learn_vect.fit(X)\n",
    "\n",
    "# min_df_features = learn_vect.get_feature_names()\n",
    "# stop_word = learn_vect.get_stop_words()"
   ]
  },
  {
   "cell_type": "code",
   "execution_count": 311,
   "metadata": {},
   "outputs": [],
   "source": [
    "# len(min_df_features)"
   ]
  },
  {
   "cell_type": "code",
   "execution_count": 312,
   "metadata": {},
   "outputs": [],
   "source": [
    "# min_df_features"
   ]
  },
  {
   "cell_type": "code",
   "execution_count": 313,
   "metadata": {},
   "outputs": [],
   "source": [
    "# %%time\n",
    "# fig, ax = plt.subplots()\n",
    "# ax.plot(min_df, num_feat_min);"
   ]
  },
  {
   "cell_type": "markdown",
   "metadata": {},
   "source": [
    "# "
   ]
  },
  {
   "cell_type": "markdown",
   "metadata": {},
   "source": [
    "# max_features"
   ]
  },
  {
   "cell_type": "code",
   "execution_count": 314,
   "metadata": {},
   "outputs": [],
   "source": [
    "# %%time\n",
    "# TN = []\n",
    "# FP = []\n",
    "# FN = []\n",
    "# TP = []\n",
    "\n",
    "# num_feat = np.linspace(1000,50000,6)\n",
    "\n",
    "# for val in num_feat:\n",
    "#     vectorizer_plot = TfidfVectorizer(preprocessor=punc_strip,\n",
    "# #                 tokenizer=wordnet_tokenize,\n",
    "#                 stop_words=alphabet,\n",
    "# #                 max_df=0.95,\n",
    "# #                 min_df=val,\n",
    "#                  max_features=int(val))\n",
    "\n",
    "#     #test, train, split\n",
    "#     X_train, X_test, y_train, y_test = train_test_split(X, y, random_state=50)\n",
    "\n",
    "#     X_train = vectorizer_plot.fit_transform(X_train)\n",
    "\n",
    "#     X_test = vectorizer_plot.transform(X_test)\n",
    "    \n",
    "#     #X, y --> X_resampled, y_resampled\n",
    "#     rus = RandomUnderSampler(random_state=0)\n",
    "#     X_resampled, y_resampled = rus.fit_resample(X_train, y_train)\n",
    "    \n",
    "#     recall_rfc = RandomForestClassifier(max_depth=2, random_state=0)\n",
    "\n",
    "#     rf_clf.fit(X_resampled, y_resampled)\n",
    "#     y_pred = rf_clf.predict(X_test)\n",
    "    \n",
    "#     tn, fp, fn, tp = confusion_matrix(y_true = y_test, y_pred = y_pred).ravel()\n",
    "#     a, r, p  = metrics_(tn, fp, fn, tp)\n",
    "    \n",
    "#     TN.append(tn)\n",
    "#     FP.append(fp)\n",
    "#     FN.append(fn)\n",
    "#     TP.append(tp)\n",
    "    \n",
    "    \n",
    "#     num_feat_min.append(len(features))"
   ]
  },
  {
   "cell_type": "code",
   "execution_count": 315,
   "metadata": {},
   "outputs": [],
   "source": [
    "# for f in features:\n",
    "#     model = RandomForestClassifier(max_features=f)\n",
    "#     score = cross_val_score(model, X, y).mean()\n",
    "#     print('A Random Forest Regressor with max features of: {} gets a score of {}'\n",
    "#           .format(f,score))\n",
    "#     scores.append(score)\n",
    "    \n",
    "# fig, ax = plt.subplots()\n",
    "# ax.plot(features, scores)"
   ]
  },
  {
   "cell_type": "code",
   "execution_count": 316,
   "metadata": {},
   "outputs": [],
   "source": [
    "# for f in features:\n",
    "#     model = RandomForestClassifier(max_features=f)\n",
    "#     score = cross_val_score(model, X, y).mean()\n",
    "#     print('A Random Forest Regressor with max features of: {} gets a score of {}'\n",
    "#           .format(f,score))\n",
    "#     scores.append(score)"
   ]
  },
  {
   "cell_type": "code",
   "execution_count": null,
   "metadata": {},
   "outputs": [],
   "source": []
  },
  {
   "cell_type": "code",
   "execution_count": null,
   "metadata": {},
   "outputs": [],
   "source": []
  },
  {
   "cell_type": "code",
   "execution_count": null,
   "metadata": {},
   "outputs": [],
   "source": []
  },
  {
   "cell_type": "code",
   "execution_count": null,
   "metadata": {},
   "outputs": [],
   "source": []
  },
  {
   "cell_type": "code",
   "execution_count": 262,
   "metadata": {},
   "outputs": [],
   "source": [
    "# #stacked bar graph\n",
    "\n",
    "# video_sales_df = pd.read_excel(\"data.xlsx\")\n",
    "\n",
    "# regional_genre = video_sales_df.groupby(['Genre'],as_index=False)[\"NA_Sales\",\"EU_Sales\",\"JP_Sales\"].sum()[:5]\n",
    "# columns = [\"NA_Sales\",\"EU_Sales\",\"JP_Sales\"]\n",
    "\n",
    "# # Normalization parameters\n",
    "# normalize_min = 0.1\n",
    "# normalize_max = 1\n",
    "\n",
    "# # Normalize\n",
    "# regional_genre[columns]= preprocessing.minmax_scale(regional_genre[columns], feature_range=(normalize_min, normalize_max))\n",
    "\n",
    "# # Plot stacked bars\n",
    "# plt.bar(regional_genre[\"Genre\"], regional_genre[\"NA_Sales\"], label=\"NA_Sales\")\n",
    "# plt.bar(regional_genre[\"Genre\"], regional_genre[\"EU_Sales\"], bottom=regional_genre[\"NA_Sales\"], label=\"EU_Sales\")\n",
    "# plt.bar(regional_genre[\"Genre\"], regional_genre[\"JP_Sales\"], bottom=regional_genre[\"EU_Sales\"]+regional_genre[\"NA_Sales\"], label=\"JP_Sales\")\n",
    "# plt.legend()\n",
    "# plt.ylabel(\"Normalized sales\")\n",
    "# plt.show()\n",
    "\n",
    "# # Another solution for plot:\n",
    "\n",
    "# plt.bar(columns, regional_genre.ix[0,1:], label=\"Action\")\n",
    "# bot = regional_genre.ix[0,1:]\n",
    "# plt.bar(columns, regional_genre.ix[1,1:], bottom=bot, label=\"Adventure\")\n",
    "# bot += regional_genre.ix[1,1:]\n",
    "# plt.bar(columns, regional_genre.ix[2,1:], bottom=bot, label=\"Fighting\")\n",
    "# bot += regional_genre.ix[2,1:]\n",
    "# plt.bar(columns, regional_genre.ix[3,1:], bottom=bot, label=\"Misc\")\n",
    "# bot += regional_genre.ix[3,1:]\n",
    "# plt.bar(columns, regional_genre.ix[4,1:], bottom=bot, label=\"Platform\")"
   ]
  },
  {
   "cell_type": "code",
   "execution_count": null,
   "metadata": {},
   "outputs": [],
   "source": []
  },
  {
   "cell_type": "code",
   "execution_count": null,
   "metadata": {},
   "outputs": [],
   "source": []
  },
  {
   "cell_type": "code",
   "execution_count": null,
   "metadata": {},
   "outputs": [],
   "source": []
  },
  {
   "cell_type": "code",
   "execution_count": null,
   "metadata": {},
   "outputs": [],
   "source": []
  },
  {
   "cell_type": "code",
   "execution_count": null,
   "metadata": {},
   "outputs": [],
   "source": []
  },
  {
   "cell_type": "code",
   "execution_count": null,
   "metadata": {},
   "outputs": [],
   "source": []
  },
  {
   "cell_type": "code",
   "execution_count": null,
   "metadata": {},
   "outputs": [],
   "source": []
  },
  {
   "cell_type": "code",
   "execution_count": null,
   "metadata": {},
   "outputs": [],
   "source": []
  }
 ],
 "metadata": {
  "kernelspec": {
   "display_name": "Python 3",
   "language": "python",
   "name": "python3"
  },
  "language_info": {
   "codemirror_mode": {
    "name": "ipython",
    "version": 3
   },
   "file_extension": ".py",
   "mimetype": "text/x-python",
   "name": "python",
   "nbconvert_exporter": "python",
   "pygments_lexer": "ipython3",
   "version": "3.7.9"
  }
 },
 "nbformat": 4,
 "nbformat_minor": 4
}
