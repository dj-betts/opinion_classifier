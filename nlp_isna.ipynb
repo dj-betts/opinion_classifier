{
 "cells": [
  {
   "cell_type": "code",
   "execution_count": 1,
   "metadata": {},
   "outputs": [],
   "source": [
    "import datetime"
   ]
  },
  {
   "cell_type": "code",
   "execution_count": 2,
   "metadata": {},
   "outputs": [],
   "source": [
    "import nltk\n",
    "import string"
   ]
  },
  {
   "cell_type": "code",
   "execution_count": 3,
   "metadata": {},
   "outputs": [],
   "source": [
    "import pickle"
   ]
  },
  {
   "cell_type": "code",
   "execution_count": 4,
   "metadata": {},
   "outputs": [],
   "source": [
    "import pandas as pd\n",
    "import numpy as np"
   ]
  },
  {
   "cell_type": "code",
   "execution_count": 5,
   "metadata": {},
   "outputs": [],
   "source": [
    "import matplotlib.pyplot as plt\n",
    "plt.style.use('fivethirtyeight')"
   ]
  },
  {
   "cell_type": "code",
   "execution_count": 6,
   "metadata": {},
   "outputs": [],
   "source": [
    "from sklearn.feature_extraction.text import CountVectorizer, TfidfVectorizer\n",
    "from sklearn.model_selection import train_test_split\n",
    "from sklearn.metrics import confusion_matrix, plot_confusion_matrix\n",
    "from sklearn.naive_bayes import MultinomialNB\n",
    "from sklearn.ensemble import RandomForestClassifier\n",
    "from sklearn.inspection import permutation_importance"
   ]
  },
  {
   "cell_type": "code",
   "execution_count": 7,
   "metadata": {},
   "outputs": [],
   "source": [
    "from collections import Counter"
   ]
  },
  {
   "cell_type": "code",
   "execution_count": 8,
   "metadata": {},
   "outputs": [],
   "source": [
    "from imblearn.under_sampling import RandomUnderSampler"
   ]
  },
  {
   "cell_type": "code",
   "execution_count": 9,
   "metadata": {},
   "outputs": [],
   "source": [
    "from nltk.stem.snowball import SnowballStemmer\n",
    "from nltk.stem.wordnet import WordNetLemmatizer\n",
    "from nltk.tokenize import word_tokenize\n",
    "from nltk.corpus import stopwords"
   ]
  },
  {
   "cell_type": "markdown",
   "metadata": {},
   "source": [
    "# NLP Pipeline \n",
    "\n",
    "![](images/pipeline-walkthrough1.png)\n",
    "\n",
    "Below is a to do list when converting text into vector form: \n",
    "\n",
    "**Clean text and Create a Bag of Words (BoW)**\n",
    ">1. Lowercase the text\n",
    "2. Tokenize \n",
    "3. Strip out punctuation or undesirable text\n",
    "4. Remove Stopwords \n",
    "5. Stemming or Lemmatizing\n",
    "6. Compute N-Grams\n",
    "7. Use this to create BoW\n",
    "\n",
    "**Vectorize BoW**\n",
    ">8. Term Frequencies\n",
    "9. Document Frequencies\n",
    "10. TF-IDF\n",
    "11. Normalize vectors\n",
    "\n",
    "Let's go through both what each of these steps are and how to do them in python with the following corpus of comments about data science...\n",
    " "
   ]
  },
  {
   "cell_type": "code",
   "execution_count": 93,
   "metadata": {},
   "outputs": [],
   "source": [
    "# function to vectorize the type_of_material series into a y target vector.\n",
    "\n",
    "def vectorize_y_ser(ser):\n",
    "    y = ser.copy()\n",
    "    y.replace({'Op-Ed': 1,'News': 0}, inplace=True)\n",
    "    return y"
   ]
  },
  {
   "cell_type": "code",
   "execution_count": 94,
   "metadata": {},
   "outputs": [],
   "source": [
    "#rate of correct predictions out of total predictions\n",
    "\n",
    "def metrics_(tn, fp, fn, tp):\n",
    "    accuracy = (tp + tn) / (tn + fn + tp + fp)\n",
    "    print(f'accuracy = {accuracy}')\n",
    "    recall = (tp) / (tp + fn)\n",
    "    print(f'recall = {recall}')\n",
    "    precision = (tp) / (tp + fp)\n",
    "    print(f'precision = {precision}')\n",
    "    print(f'tn:{tn} fp:{fp} fn:{fn} tp:{tp}')"
   ]
  },
  {
   "cell_type": "code",
   "execution_count": 95,
   "metadata": {},
   "outputs": [],
   "source": [
    "#function that removes string.punctuation w/out the '?'\n",
    "def punc_strip(string):\n",
    "    for char in string:\n",
    "        if char in string.punctuation:\n",
    "            string = string.replace(char, \"\")\n",
    "            \n",
    "    return string"
   ]
  },
  {
   "cell_type": "code",
   "execution_count": 96,
   "metadata": {},
   "outputs": [
    {
     "name": "stdout",
     "output_type": "stream",
     "text": [
      "CPU times: user 315 ms, sys: 81.7 ms, total: 396 ms\n",
      "Wall time: 397 ms\n"
     ]
    }
   ],
   "source": [
    "%%time\n",
    "#import csv\n",
    "\n",
    "data = pd.read_csv('/Users/djbetts/Desktop/opinion_classifier/data/us_gov_pol.csv', index_col=0, low_memory=False)"
   ]
  },
  {
   "cell_type": "code",
   "execution_count": 97,
   "metadata": {},
   "outputs": [
    {
     "name": "stdout",
     "output_type": "stream",
     "text": [
      "CPU times: user 1.89 ms, sys: 641 µs, total: 2.54 ms\n",
      "Wall time: 1.96 ms\n"
     ]
    }
   ],
   "source": [
    "%%time\n",
    "df = data.copy()"
   ]
  },
  {
   "cell_type": "code",
   "execution_count": 98,
   "metadata": {},
   "outputs": [
    {
     "data": {
      "text/plain": [
       "(4292, 21)"
      ]
     },
     "execution_count": 98,
     "metadata": {},
     "output_type": "execute_result"
    }
   ],
   "source": [
    "df.shape"
   ]
  },
  {
   "cell_type": "code",
   "execution_count": 99,
   "metadata": {},
   "outputs": [
    {
     "data": {
      "text/plain": [
       "'WASHINGTON — Federal prosecutors rebuffed a judge’s order to release by Friday highly classified transcripts of discussions that Michael T. Flynn, the president’s former national security adviser, had with the Russian ambassador during the presidential transition.The transcripts between Mr. Flynn and Sergey I. Kislyak, formerly Russia’s top diplomat in the United States, were expected to show that they talked in December 2016 about sanctions that the Obama administration had just imposed on Russia. Mr. Flynn initially denied those exchanges about sanctions both to Trump administration officials and the F.B.I. in the weeks after the discussions.The conversations prompted concerns among senior Obama administration officials about whether the Trump transition team was flouting norms about holding off on making policy until after taking office. The phone calls were also at the center of the scandal that eventually prompted Mr. Flynn’s ouster just weeks into President Trump’s term.The order last month from the judge, Emmet G. Sullivan of the Federal District Court in the District of Columbia, was unusual. The transcripts came from a secret F.B.I. wiretap of Mr. Kislyak, and their release would have provided an extraordinarily rare look at the fruits of the government’s eavesdropping. Agents routinely listen to wiretaps of foreign officials, but they remain among the government’s most closely held secrets.The calls between Mr. Flynn and Mr. Kislyak were referenced repeatedly in court documents and the special counsel’s report on Russian election interference but never released, and prosecutors have not acknowledged the existence of the wiretap. Judge Sullivan, who is overseeing Mr. Flynn’s case, ordered that audio recordings of his conversations with Mr. Kislyak be made public along with a voice mail message made by the president’s lawyer.The Justice Department’s refusal to comply with the judge’s order made clear that prosecutors had no interest in confirming the wiretap, which was approved by the secretive Foreign Intelligence Surveillance Court.“This would be a rare step to make public” such intelligence collection, said Joshua Geltzer, a former Justice Department official. “What you see in today’s filing is the government trying to avoid disclosing that material.”Instead, prosecutors asserted that they did not need to provide the transcripts because they were, in the end, not vital to the prosecution of Mr. Flynn. He pleaded guilty in December 2017 to lying to the F.B.I. after agents interviewed him about what was said on those calls.“The government further represents that it is not relying on any other recordings, of any person, for purposes of establishing the defendant’s guilt or determining his sentence, nor are there any other recordings that are part of the sentencing record,” prosecutors wrote in a court filing responding to Judge Sullivan’s order.In another filing on Friday, prosecutors did comply with Judge Sullivan’s order to make public the message that Mr. Trump’s former personal lawyer John Dowd left for Mr. Flynn’s lawyer, Robert K. Kelner. Mr. Dowd left the message after learning on Nov. 22, 2017, that Mr. Flynn had withdrawn from a joint defense agreement with the president. The contents of that voice mail were first disclosed in April in Mr. Mueller’s report.In a statement, Mr. Dowd called the special counsel’s report “a baseless, political document designed to smear and damage the reputation of counsel and innocent people.” He also said that Mr. Mueller never asked him about the voice mail “despite numerous opportunities to do so.”Mr. Flynn’s calls with Mr. Kislyak took place after the Obama administration had imposed sanctions on Moscow for interfering in the 2016 presidential election. The sanctions alarmed Trump transition officials, who were hoping to improve relations with the Russian government.Mr. Flynn had asked Mr. Kislyak that Russia refrain from escalating tensions in response to the Obama administration’s sanctions on Moscow for interfering in the 2016 election.When questioned by the F.B.I. on Jan. 24, 2017, Mr. Flynn told agents that he had not made that request. He also lied about discussing Russia’s vote on an impending United Nations resolution to condemn Israeli settlements in the West Bank. He has since admitted that he asked that Russia either delay or oppose the resolution.“F.B.I. agents gave the defendant multiple opportunities to correct his false statements by revisiting key questions,” prosecutors wrote in a sentencing memo in December. “When the defendant said he did not remember something they knew he said, they used the exact words the defendant had used in order to prompt a truthful response.”In early February 2017, White House officials reviewed for about an hour the transcripts of calls between Mr. Flynn and Mr. Kislyak, according to a confidential memo by White House lawyers that detailed how some of Mr. Trump’s advisers confronted the situation surrounding Mr. Flynn. Vice President Mike Pence reviewed at least some portions of the transcripts, according to the memo.Mr. Trump fired Mr. Flynn that month after administration officials concluded based on their review of the transcripts that he had been untruthful to Mr. Pence and other officials about the substance of his talks with Mr. Kislyak.Mr. Flynn’s supporters and the White House have tried to play down his actions, suggesting that investigators entrapped him or that his body language during the interview with agents showed he was not lying.Judge Sullivan rebuked Mr. Flynn for his conduct and raised concerns that Mr. Flynn’s lawyers were suggesting in presentencing memos that the F.B.I. agents who questioned him may have tricked him by failing to warn that lying to investigators was a crime.“This sounds like a backpedaling on the acceptance of responsibility,” Judge Sullivan said during Mr. Flynn’s sentencing hearing in December. The judge delayed the proceeding to give Mr. Flynn time to complete his cooperation with investigators in other federal cases.The judge said during that hearing that he found no fault with the conduct of the F.B.I. or prosecutors, and Mr. Flynn admitted that he knew at the time that agents questioned him that lying to the F.B.I. is a crime, and he once again acknowledged his guilt. Mr. Flynn also declined to challenge the circumstances surrounding the F.B.I. interview.'"
      ]
     },
     "execution_count": 99,
     "metadata": {},
     "output_type": "execute_result"
    }
   ],
   "source": [
    "df.text.iloc[0]"
   ]
  },
  {
   "cell_type": "code",
   "execution_count": 100,
   "metadata": {},
   "outputs": [
    {
     "data": {
      "text/plain": [
       "abstract                                 The release of transcripts of calls between Pr...\n",
       "web_url                                  https://www.nytimes.com/2019/05/31/us/politics...\n",
       "snippet                                  The release of transcripts of calls between Pr...\n",
       "lead_paragraph                           WASHINGTON — Federal prosecutors rebuffed a ju...\n",
       "print_section                                                                            A\n",
       "print_page                                                                              22\n",
       "source                                                                  The New York Times\n",
       "multimedia                               [{'rank': 0, 'subtype': 'xlarge', 'caption': N...\n",
       "headline                                 {'main': 'Justice Dept. Keeps Wiretaps Secret ...\n",
       "keywords                                 [{'name': 'persons', 'value': 'Flynn, Michael ...\n",
       "pub_date                                                          2019-06-01T00:32:33+0000\n",
       "document_type                                                                      article\n",
       "news_desk                                                                       Washington\n",
       "section_name                                                                          U.S.\n",
       "byline                                   {'original': 'By Adam Goldman', 'person': [{'f...\n",
       "type_of_material                                                                      News\n",
       "word_count                                                                            1014\n",
       "uri                                      nyt://article/0ae91997-445f-5dd6-89a6-ea3cf6a5...\n",
       "subsection_name                                                                   Politics\n",
       "text                                     WASHINGTON — Federal prosecutors rebuffed a ju...\n",
       "United States Politics and Government                                                 True\n",
       "Name: nyt://article/0ae91997-445f-5dd6-89a6-ea3cf6a550a6, dtype: object"
      ]
     },
     "execution_count": 100,
     "metadata": {},
     "output_type": "execute_result"
    }
   ],
   "source": [
    "(df.iloc[0])"
   ]
  },
  {
   "cell_type": "code",
   "execution_count": 101,
   "metadata": {},
   "outputs": [
    {
     "data": {
      "text/plain": [
       "abstract                                 The release of transcripts of calls between Pr...\n",
       "web_url                                  https://www.nytimes.com/2019/05/31/us/politics...\n",
       "snippet                                  The release of transcripts of calls between Pr...\n",
       "lead_paragraph                           WASHINGTON — Federal prosecutors rebuffed a ju...\n",
       "print_section                                                                            A\n",
       "print_page                                                                              22\n",
       "source                                                                  The New York Times\n",
       "multimedia                               [{'rank': 0, 'subtype': 'xlarge', 'caption': N...\n",
       "headline                                 {'main': 'Justice Dept. Keeps Wiretaps Secret ...\n",
       "keywords                                 [{'name': 'persons', 'value': 'Flynn, Michael ...\n",
       "pub_date                                                          2019-06-01T00:32:33+0000\n",
       "document_type                                                                      article\n",
       "news_desk                                                                       Washington\n",
       "section_name                                                                          U.S.\n",
       "byline                                   {'original': 'By Adam Goldman', 'person': [{'f...\n",
       "type_of_material                                                                      News\n",
       "word_count                                                                            1014\n",
       "uri                                      nyt://article/0ae91997-445f-5dd6-89a6-ea3cf6a5...\n",
       "subsection_name                                                                   Politics\n",
       "text                                     WASHINGTON — Federal prosecutors rebuffed a ju...\n",
       "United States Politics and Government                                                 True\n",
       "Name: nyt://article/0ae91997-445f-5dd6-89a6-ea3cf6a550a6, dtype: object"
      ]
     },
     "execution_count": 101,
     "metadata": {},
     "output_type": "execute_result"
    }
   ],
   "source": [
    "(df.iloc[0])"
   ]
  },
  {
   "cell_type": "code",
   "execution_count": 102,
   "metadata": {},
   "outputs": [
    {
     "data": {
      "text/plain": [
       "(4292, 21)"
      ]
     },
     "execution_count": 102,
     "metadata": {},
     "output_type": "execute_result"
    }
   ],
   "source": [
    "df.shape"
   ]
  },
  {
   "cell_type": "code",
   "execution_count": 103,
   "metadata": {},
   "outputs": [
    {
     "data": {
      "text/plain": [
       "abstract                                 The release of transcripts of calls between Pr...\n",
       "web_url                                  https://www.nytimes.com/2019/05/31/us/politics...\n",
       "snippet                                  The release of transcripts of calls between Pr...\n",
       "lead_paragraph                           WASHINGTON — Federal prosecutors rebuffed a ju...\n",
       "print_section                                                                            A\n",
       "print_page                                                                              22\n",
       "source                                                                  The New York Times\n",
       "multimedia                               [{'rank': 0, 'subtype': 'xlarge', 'caption': N...\n",
       "headline                                 {'main': 'Justice Dept. Keeps Wiretaps Secret ...\n",
       "keywords                                 [{'name': 'persons', 'value': 'Flynn, Michael ...\n",
       "pub_date                                                          2019-06-01T00:32:33+0000\n",
       "document_type                                                                      article\n",
       "news_desk                                                                       Washington\n",
       "section_name                                                                          U.S.\n",
       "byline                                   {'original': 'By Adam Goldman', 'person': [{'f...\n",
       "type_of_material                                                                      News\n",
       "word_count                                                                            1014\n",
       "uri                                      nyt://article/0ae91997-445f-5dd6-89a6-ea3cf6a5...\n",
       "subsection_name                                                                   Politics\n",
       "text                                     WASHINGTON — Federal prosecutors rebuffed a ju...\n",
       "United States Politics and Government                                                 True\n",
       "Name: nyt://article/0ae91997-445f-5dd6-89a6-ea3cf6a550a6, dtype: object"
      ]
     },
     "execution_count": 103,
     "metadata": {},
     "output_type": "execute_result"
    }
   ],
   "source": [
    "(df.iloc[0])"
   ]
  },
  {
   "cell_type": "code",
   "execution_count": 104,
   "metadata": {},
   "outputs": [],
   "source": [
    "#sum(df.type_of_material == \"News\")"
   ]
  },
  {
   "cell_type": "code",
   "execution_count": 105,
   "metadata": {},
   "outputs": [],
   "source": [
    "#sum(df.type_of_material == \"Op-Ed\")"
   ]
  },
  {
   "cell_type": "code",
   "execution_count": 106,
   "metadata": {},
   "outputs": [
    {
     "data": {
      "text/plain": [
       "(4292, 21)"
      ]
     },
     "execution_count": 106,
     "metadata": {},
     "output_type": "execute_result"
    }
   ],
   "source": [
    "df.shape"
   ]
  },
  {
   "cell_type": "code",
   "execution_count": 107,
   "metadata": {},
   "outputs": [],
   "source": [
    "#define X. X is currently pandas series of unsplit strings\n",
    "\n",
    "X = df.text"
   ]
  },
  {
   "cell_type": "code",
   "execution_count": 108,
   "metadata": {},
   "outputs": [],
   "source": [
    "#turn series into list...\n",
    "\n",
    "corpus = list(X)"
   ]
  },
  {
   "cell_type": "code",
   "execution_count": 109,
   "metadata": {},
   "outputs": [],
   "source": [
    "# define y as a series of op-ed or news\n",
    "\n",
    "y = df.type_of_material"
   ]
  },
  {
   "cell_type": "code",
   "execution_count": 110,
   "metadata": {},
   "outputs": [
    {
     "data": {
      "text/plain": [
       "_id\n",
       "nyt://article/0ae91997-445f-5dd6-89a6-ea3cf6a550a6     News\n",
       "nyt://article/033c09be-8081-5ab2-bc5c-8120ee1da253    Op-Ed\n",
       "nyt://article/85ca7462-2ada-5c4c-9c4f-e08c833d89d3     News\n",
       "nyt://article/cebe94a7-f72a-5534-883d-a6a6669ff987     News\n",
       "nyt://article/26f83d11-c666-5dd7-bb01-c79245874a41     News\n",
       "                                                      ...  \n",
       "nyt://article/6de8f431-350f-5e06-babb-5fb9bbe9cc30     News\n",
       "nyt://article/c6d36069-bd5f-5d16-a368-a5b483305b4b    Op-Ed\n",
       "nyt://article/d92bfe8d-73cf-5d9f-8cb2-923375c97382     News\n",
       "nyt://article/2c085975-3489-5c75-97e7-8556738b5acb     News\n",
       "nyt://article/bcc0212f-3e67-5ad7-bc4b-271d5556503d    Op-Ed\n",
       "Name: type_of_material, Length: 4292, dtype: object"
      ]
     },
     "execution_count": 110,
     "metadata": {},
     "output_type": "execute_result"
    }
   ],
   "source": [
    "y"
   ]
  },
  {
   "cell_type": "code",
   "execution_count": 111,
   "metadata": {},
   "outputs": [
    {
     "name": "stdout",
     "output_type": "stream",
     "text": [
      "CPU times: user 2.43 ms, sys: 603 µs, total: 3.03 ms\n",
      "Wall time: 2.87 ms\n"
     ]
    }
   ],
   "source": [
    "%%time\n",
    "# vectorize y in to (1, 0) (op-ed, news)\n",
    "\n",
    "y = vectorize_y_ser(y)"
   ]
  },
  {
   "cell_type": "code",
   "execution_count": 112,
   "metadata": {},
   "outputs": [
    {
     "data": {
      "text/plain": [
       "0    3571\n",
       "1     721\n",
       "Name: type_of_material, dtype: int64"
      ]
     },
     "execution_count": 112,
     "metadata": {},
     "output_type": "execute_result"
    }
   ],
   "source": [
    "y.value_counts()"
   ]
  },
  {
   "cell_type": "code",
   "execution_count": 113,
   "metadata": {},
   "outputs": [
    {
     "data": {
      "text/plain": [
       "(4292,)"
      ]
     },
     "execution_count": 113,
     "metadata": {},
     "output_type": "execute_result"
    }
   ],
   "source": [
    "y.shape"
   ]
  },
  {
   "cell_type": "markdown",
   "metadata": {},
   "source": [
    "# remove stop words"
   ]
  },
  {
   "cell_type": "markdown",
   "metadata": {},
   "source": [
    "# stemming/lemmatization"
   ]
  },
  {
   "cell_type": "code",
   "execution_count": 114,
   "metadata": {},
   "outputs": [],
   "source": [
    "snowball = SnowballStemmer('english')\n",
    "wordnet = WordNetLemmatizer()"
   ]
  },
  {
   "cell_type": "code",
   "execution_count": 115,
   "metadata": {},
   "outputs": [
    {
     "name": "stdout",
     "output_type": "stream",
     "text": [
      "CPU times: user 7 µs, sys: 11 µs, total: 18 µs\n",
      "Wall time: 21 µs\n"
     ]
    }
   ],
   "source": [
    "%%time\n",
    "def snowball_tokenize(doc):\n",
    "    snowball = SnowballStemmer('english')\n",
    "    return [snowball.stem(word) for word in word_tokenize(doc.lower())]"
   ]
  },
  {
   "cell_type": "code",
   "execution_count": 116,
   "metadata": {},
   "outputs": [
    {
     "name": "stdout",
     "output_type": "stream",
     "text": [
      "CPU times: user 3 µs, sys: 0 ns, total: 3 µs\n",
      "Wall time: 5.01 µs\n"
     ]
    }
   ],
   "source": [
    "%%time\n",
    "def wordnet_tokenize(doc):\n",
    "    wordnet = WordNetLemmatizer()\n",
    "    return  [wordnet.lemmatize(word) for word in word_tokenize(doc.lower())]"
   ]
  },
  {
   "cell_type": "code",
   "execution_count": 117,
   "metadata": {},
   "outputs": [],
   "source": [
    "snowball_test_token = snowball_tokenize(corpus[0])"
   ]
  },
  {
   "cell_type": "code",
   "execution_count": 118,
   "metadata": {},
   "outputs": [
    {
     "data": {
      "text/plain": [
       "['washington',\n",
       " '—',\n",
       " 'feder',\n",
       " 'prosecutor',\n",
       " 'rebuf',\n",
       " 'a',\n",
       " 'judg',\n",
       " '’',\n",
       " 's',\n",
       " 'order',\n",
       " 'to',\n",
       " 'releas',\n",
       " 'by',\n",
       " 'friday',\n",
       " 'high',\n",
       " 'classifi',\n",
       " 'transcript',\n",
       " 'of',\n",
       " 'discuss',\n",
       " 'that',\n",
       " 'michael',\n",
       " 't.',\n",
       " 'flynn',\n",
       " ',',\n",
       " 'the',\n",
       " 'presid',\n",
       " '’',\n",
       " 's',\n",
       " 'former',\n",
       " 'nation',\n",
       " 'secur',\n",
       " 'advis',\n",
       " ',',\n",
       " 'had',\n",
       " 'with',\n",
       " 'the',\n",
       " 'russian',\n",
       " 'ambassador',\n",
       " 'dure',\n",
       " 'the',\n",
       " 'presidenti',\n",
       " 'transition.th',\n",
       " 'transcript',\n",
       " 'between',\n",
       " 'mr.',\n",
       " 'flynn',\n",
       " 'and',\n",
       " 'sergey',\n",
       " 'i.',\n",
       " 'kislyak',\n",
       " ',',\n",
       " 'former',\n",
       " 'russia',\n",
       " '’',\n",
       " 's',\n",
       " 'top',\n",
       " 'diplomat',\n",
       " 'in',\n",
       " 'the',\n",
       " 'unit',\n",
       " 'state',\n",
       " ',',\n",
       " 'were',\n",
       " 'expect',\n",
       " 'to',\n",
       " 'show',\n",
       " 'that',\n",
       " 'they',\n",
       " 'talk',\n",
       " 'in',\n",
       " 'decemb',\n",
       " '2016',\n",
       " 'about',\n",
       " 'sanction',\n",
       " 'that',\n",
       " 'the',\n",
       " 'obama',\n",
       " 'administr',\n",
       " 'had',\n",
       " 'just',\n",
       " 'impos',\n",
       " 'on',\n",
       " 'russia',\n",
       " '.',\n",
       " 'mr.',\n",
       " 'flynn',\n",
       " 'initi',\n",
       " 'deni',\n",
       " 'those',\n",
       " 'exchang',\n",
       " 'about',\n",
       " 'sanction',\n",
       " 'both',\n",
       " 'to',\n",
       " 'trump',\n",
       " 'administr',\n",
       " 'offici',\n",
       " 'and',\n",
       " 'the',\n",
       " 'f.b.i',\n",
       " '.',\n",
       " 'in',\n",
       " 'the',\n",
       " 'week',\n",
       " 'after',\n",
       " 'the',\n",
       " 'discussions.th',\n",
       " 'convers',\n",
       " 'prompt',\n",
       " 'concern',\n",
       " 'among',\n",
       " 'senior',\n",
       " 'obama',\n",
       " 'administr',\n",
       " 'offici',\n",
       " 'about',\n",
       " 'whether',\n",
       " 'the',\n",
       " 'trump',\n",
       " 'transit',\n",
       " 'team',\n",
       " 'was',\n",
       " 'flout',\n",
       " 'norm',\n",
       " 'about',\n",
       " 'hold',\n",
       " 'off',\n",
       " 'on',\n",
       " 'make',\n",
       " 'polici',\n",
       " 'until',\n",
       " 'after',\n",
       " 'take',\n",
       " 'offic',\n",
       " '.',\n",
       " 'the',\n",
       " 'phone',\n",
       " 'call',\n",
       " 'were',\n",
       " 'also',\n",
       " 'at',\n",
       " 'the',\n",
       " 'center',\n",
       " 'of',\n",
       " 'the',\n",
       " 'scandal',\n",
       " 'that',\n",
       " 'eventu',\n",
       " 'prompt',\n",
       " 'mr.',\n",
       " 'flynn',\n",
       " '’',\n",
       " 's',\n",
       " 'ouster',\n",
       " 'just',\n",
       " 'week',\n",
       " 'into',\n",
       " 'presid',\n",
       " 'trump',\n",
       " '’',\n",
       " 's',\n",
       " 'term.th',\n",
       " 'order',\n",
       " 'last',\n",
       " 'month',\n",
       " 'from',\n",
       " 'the',\n",
       " 'judg',\n",
       " ',',\n",
       " 'emmet',\n",
       " 'g.',\n",
       " 'sullivan',\n",
       " 'of',\n",
       " 'the',\n",
       " 'feder',\n",
       " 'district',\n",
       " 'court',\n",
       " 'in',\n",
       " 'the',\n",
       " 'district',\n",
       " 'of',\n",
       " 'columbia',\n",
       " ',',\n",
       " 'was',\n",
       " 'unusu',\n",
       " '.',\n",
       " 'the',\n",
       " 'transcript',\n",
       " 'came',\n",
       " 'from',\n",
       " 'a',\n",
       " 'secret',\n",
       " 'f.b.i',\n",
       " '.',\n",
       " 'wiretap',\n",
       " 'of',\n",
       " 'mr.',\n",
       " 'kislyak',\n",
       " ',',\n",
       " 'and',\n",
       " 'their',\n",
       " 'releas',\n",
       " 'would',\n",
       " 'have',\n",
       " 'provid',\n",
       " 'an',\n",
       " 'extraordinarili',\n",
       " 'rare',\n",
       " 'look',\n",
       " 'at',\n",
       " 'the',\n",
       " 'fruit',\n",
       " 'of',\n",
       " 'the',\n",
       " 'govern',\n",
       " '’',\n",
       " 's',\n",
       " 'eavesdrop',\n",
       " '.',\n",
       " 'agent',\n",
       " 'routin',\n",
       " 'listen',\n",
       " 'to',\n",
       " 'wiretap',\n",
       " 'of',\n",
       " 'foreign',\n",
       " 'offici',\n",
       " ',',\n",
       " 'but',\n",
       " 'they',\n",
       " 'remain',\n",
       " 'among',\n",
       " 'the',\n",
       " 'govern',\n",
       " '’',\n",
       " 's',\n",
       " 'most',\n",
       " 'close',\n",
       " 'held',\n",
       " 'secrets.th',\n",
       " 'call',\n",
       " 'between',\n",
       " 'mr.',\n",
       " 'flynn',\n",
       " 'and',\n",
       " 'mr.',\n",
       " 'kislyak',\n",
       " 'were',\n",
       " 'referenc',\n",
       " 'repeat',\n",
       " 'in',\n",
       " 'court',\n",
       " 'document',\n",
       " 'and',\n",
       " 'the',\n",
       " 'special',\n",
       " 'counsel',\n",
       " '’',\n",
       " 's',\n",
       " 'report',\n",
       " 'on',\n",
       " 'russian',\n",
       " 'elect',\n",
       " 'interfer',\n",
       " 'but',\n",
       " 'never',\n",
       " 'releas',\n",
       " ',',\n",
       " 'and',\n",
       " 'prosecutor',\n",
       " 'have',\n",
       " 'not',\n",
       " 'acknowledg',\n",
       " 'the',\n",
       " 'exist',\n",
       " 'of',\n",
       " 'the',\n",
       " 'wiretap',\n",
       " '.',\n",
       " 'judg',\n",
       " 'sullivan',\n",
       " ',',\n",
       " 'who',\n",
       " 'is',\n",
       " 'overse',\n",
       " 'mr.',\n",
       " 'flynn',\n",
       " '’',\n",
       " 's',\n",
       " 'case',\n",
       " ',',\n",
       " 'order',\n",
       " 'that',\n",
       " 'audio',\n",
       " 'record',\n",
       " 'of',\n",
       " 'his',\n",
       " 'convers',\n",
       " 'with',\n",
       " 'mr.',\n",
       " 'kislyak',\n",
       " 'be',\n",
       " 'made',\n",
       " 'public',\n",
       " 'along',\n",
       " 'with',\n",
       " 'a',\n",
       " 'voic',\n",
       " 'mail',\n",
       " 'messag',\n",
       " 'made',\n",
       " 'by',\n",
       " 'the',\n",
       " 'presid',\n",
       " '’',\n",
       " 's',\n",
       " 'lawyer.th',\n",
       " 'justic',\n",
       " 'depart',\n",
       " '’',\n",
       " 's',\n",
       " 'refus',\n",
       " 'to',\n",
       " 'compli',\n",
       " 'with',\n",
       " 'the',\n",
       " 'judg',\n",
       " '’',\n",
       " 's',\n",
       " 'order',\n",
       " 'made',\n",
       " 'clear',\n",
       " 'that',\n",
       " 'prosecutor',\n",
       " 'had',\n",
       " 'no',\n",
       " 'interest',\n",
       " 'in',\n",
       " 'confirm',\n",
       " 'the',\n",
       " 'wiretap',\n",
       " ',',\n",
       " 'which',\n",
       " 'was',\n",
       " 'approv',\n",
       " 'by',\n",
       " 'the',\n",
       " 'secret',\n",
       " 'foreign',\n",
       " 'intellig',\n",
       " 'surveil',\n",
       " 'court.',\n",
       " '“',\n",
       " 'this',\n",
       " 'would',\n",
       " 'be',\n",
       " 'a',\n",
       " 'rare',\n",
       " 'step',\n",
       " 'to',\n",
       " 'make',\n",
       " 'public',\n",
       " '”',\n",
       " 'such',\n",
       " 'intellig',\n",
       " 'collect',\n",
       " ',',\n",
       " 'said',\n",
       " 'joshua',\n",
       " 'geltzer',\n",
       " ',',\n",
       " 'a',\n",
       " 'former',\n",
       " 'justic',\n",
       " 'depart',\n",
       " 'offici',\n",
       " '.',\n",
       " '“',\n",
       " 'what',\n",
       " 'you',\n",
       " 'see',\n",
       " 'in',\n",
       " 'today',\n",
       " '’',\n",
       " 's',\n",
       " 'file',\n",
       " 'is',\n",
       " 'the',\n",
       " 'govern',\n",
       " 'tri',\n",
       " 'to',\n",
       " 'avoid',\n",
       " 'disclos',\n",
       " 'that',\n",
       " 'material.',\n",
       " '”',\n",
       " 'instead',\n",
       " ',',\n",
       " 'prosecutor',\n",
       " 'assert',\n",
       " 'that',\n",
       " 'they',\n",
       " 'did',\n",
       " 'not',\n",
       " 'need',\n",
       " 'to',\n",
       " 'provid',\n",
       " 'the',\n",
       " 'transcript',\n",
       " 'becaus',\n",
       " 'they',\n",
       " 'were',\n",
       " ',',\n",
       " 'in',\n",
       " 'the',\n",
       " 'end',\n",
       " ',',\n",
       " 'not',\n",
       " 'vital',\n",
       " 'to',\n",
       " 'the',\n",
       " 'prosecut',\n",
       " 'of',\n",
       " 'mr.',\n",
       " 'flynn',\n",
       " '.',\n",
       " 'he',\n",
       " 'plead',\n",
       " 'guilti',\n",
       " 'in',\n",
       " 'decemb',\n",
       " '2017',\n",
       " 'to',\n",
       " 'lie',\n",
       " 'to',\n",
       " 'the',\n",
       " 'f.b.i',\n",
       " '.',\n",
       " 'after',\n",
       " 'agent',\n",
       " 'interview',\n",
       " 'him',\n",
       " 'about',\n",
       " 'what',\n",
       " 'was',\n",
       " 'said',\n",
       " 'on',\n",
       " 'those',\n",
       " 'calls.',\n",
       " '“',\n",
       " 'the',\n",
       " 'govern',\n",
       " 'further',\n",
       " 'repres',\n",
       " 'that',\n",
       " 'it',\n",
       " 'is',\n",
       " 'not',\n",
       " 'reli',\n",
       " 'on',\n",
       " 'ani',\n",
       " 'other',\n",
       " 'record',\n",
       " ',',\n",
       " 'of',\n",
       " 'ani',\n",
       " 'person',\n",
       " ',',\n",
       " 'for',\n",
       " 'purpos',\n",
       " 'of',\n",
       " 'establish',\n",
       " 'the',\n",
       " 'defend',\n",
       " '’',\n",
       " 's',\n",
       " 'guilt',\n",
       " 'or',\n",
       " 'determin',\n",
       " 'his',\n",
       " 'sentenc',\n",
       " ',',\n",
       " 'nor',\n",
       " 'are',\n",
       " 'there',\n",
       " 'ani',\n",
       " 'other',\n",
       " 'record',\n",
       " 'that',\n",
       " 'are',\n",
       " 'part',\n",
       " 'of',\n",
       " 'the',\n",
       " 'sentenc',\n",
       " 'record',\n",
       " ',',\n",
       " '”',\n",
       " 'prosecutor',\n",
       " 'wrote',\n",
       " 'in',\n",
       " 'a',\n",
       " 'court',\n",
       " 'file',\n",
       " 'respond',\n",
       " 'to',\n",
       " 'judg',\n",
       " 'sullivan',\n",
       " '’',\n",
       " 's',\n",
       " 'order.in',\n",
       " 'anoth',\n",
       " 'file',\n",
       " 'on',\n",
       " 'friday',\n",
       " ',',\n",
       " 'prosecutor',\n",
       " 'did',\n",
       " 'compli',\n",
       " 'with',\n",
       " 'judg',\n",
       " 'sullivan',\n",
       " '’',\n",
       " 's',\n",
       " 'order',\n",
       " 'to',\n",
       " 'make',\n",
       " 'public',\n",
       " 'the',\n",
       " 'messag',\n",
       " 'that',\n",
       " 'mr.',\n",
       " 'trump',\n",
       " '’',\n",
       " 's',\n",
       " 'former',\n",
       " 'person',\n",
       " 'lawyer',\n",
       " 'john',\n",
       " 'dowd',\n",
       " 'left',\n",
       " 'for',\n",
       " 'mr.',\n",
       " 'flynn',\n",
       " '’',\n",
       " 's',\n",
       " 'lawyer',\n",
       " ',',\n",
       " 'robert',\n",
       " 'k.',\n",
       " 'kelner',\n",
       " '.',\n",
       " 'mr.',\n",
       " 'dowd',\n",
       " 'left',\n",
       " 'the',\n",
       " 'messag',\n",
       " 'after',\n",
       " 'learn',\n",
       " 'on',\n",
       " 'nov.',\n",
       " '22',\n",
       " ',',\n",
       " '2017',\n",
       " ',',\n",
       " 'that',\n",
       " 'mr.',\n",
       " 'flynn',\n",
       " 'had',\n",
       " 'withdrawn',\n",
       " 'from',\n",
       " 'a',\n",
       " 'joint',\n",
       " 'defens',\n",
       " 'agreement',\n",
       " 'with',\n",
       " 'the',\n",
       " 'presid',\n",
       " '.',\n",
       " 'the',\n",
       " 'content',\n",
       " 'of',\n",
       " 'that',\n",
       " 'voic',\n",
       " 'mail',\n",
       " 'were',\n",
       " 'first',\n",
       " 'disclos',\n",
       " 'in',\n",
       " 'april',\n",
       " 'in',\n",
       " 'mr.',\n",
       " 'mueller',\n",
       " '’',\n",
       " 's',\n",
       " 'report.in',\n",
       " 'a',\n",
       " 'statement',\n",
       " ',',\n",
       " 'mr.',\n",
       " 'dowd',\n",
       " 'call',\n",
       " 'the',\n",
       " 'special',\n",
       " 'counsel',\n",
       " '’',\n",
       " 's',\n",
       " 'report',\n",
       " '“',\n",
       " 'a',\n",
       " 'baseless',\n",
       " ',',\n",
       " 'polit',\n",
       " 'document',\n",
       " 'design',\n",
       " 'to',\n",
       " 'smear',\n",
       " 'and',\n",
       " 'damag',\n",
       " 'the',\n",
       " 'reput',\n",
       " 'of',\n",
       " 'counsel',\n",
       " 'and',\n",
       " 'innoc',\n",
       " 'people.',\n",
       " '”',\n",
       " 'he',\n",
       " 'also',\n",
       " 'said',\n",
       " 'that',\n",
       " 'mr.',\n",
       " 'mueller',\n",
       " 'never',\n",
       " 'ask',\n",
       " 'him',\n",
       " 'about',\n",
       " 'the',\n",
       " 'voic',\n",
       " 'mail',\n",
       " '“',\n",
       " 'despit',\n",
       " 'numer',\n",
       " 'opportun',\n",
       " 'to',\n",
       " 'do',\n",
       " 'so.',\n",
       " '”',\n",
       " 'mr',\n",
       " '.',\n",
       " 'flynn',\n",
       " '’',\n",
       " 's',\n",
       " 'call',\n",
       " 'with',\n",
       " 'mr.',\n",
       " 'kislyak',\n",
       " 'took',\n",
       " 'place',\n",
       " 'after',\n",
       " 'the',\n",
       " 'obama',\n",
       " 'administr',\n",
       " 'had',\n",
       " 'impos',\n",
       " 'sanction',\n",
       " 'on',\n",
       " 'moscow',\n",
       " 'for',\n",
       " 'interf',\n",
       " 'in',\n",
       " 'the',\n",
       " '2016',\n",
       " 'presidenti',\n",
       " 'elect',\n",
       " '.',\n",
       " 'the',\n",
       " 'sanction',\n",
       " 'alarm',\n",
       " 'trump',\n",
       " 'transit',\n",
       " 'offici',\n",
       " ',',\n",
       " 'who',\n",
       " 'were',\n",
       " 'hope',\n",
       " 'to',\n",
       " 'improv',\n",
       " 'relat',\n",
       " 'with',\n",
       " 'the',\n",
       " 'russian',\n",
       " 'government.mr',\n",
       " '.',\n",
       " 'flynn',\n",
       " 'had',\n",
       " 'ask',\n",
       " 'mr.',\n",
       " 'kislyak',\n",
       " 'that',\n",
       " 'russia',\n",
       " 'refrain',\n",
       " 'from',\n",
       " 'escal',\n",
       " 'tension',\n",
       " 'in',\n",
       " 'respons',\n",
       " 'to',\n",
       " 'the',\n",
       " 'obama',\n",
       " 'administr',\n",
       " '’',\n",
       " 's',\n",
       " 'sanction',\n",
       " 'on',\n",
       " 'moscow',\n",
       " 'for',\n",
       " 'interf',\n",
       " 'in',\n",
       " 'the',\n",
       " '2016',\n",
       " 'election.when',\n",
       " 'question',\n",
       " 'by',\n",
       " 'the',\n",
       " 'f.b.i',\n",
       " '.',\n",
       " 'on',\n",
       " 'jan.',\n",
       " '24',\n",
       " ',',\n",
       " '2017',\n",
       " ',',\n",
       " 'mr.',\n",
       " 'flynn',\n",
       " 'told',\n",
       " 'agent',\n",
       " 'that',\n",
       " 'he',\n",
       " 'had',\n",
       " 'not',\n",
       " 'made',\n",
       " 'that',\n",
       " 'request',\n",
       " '.',\n",
       " 'he',\n",
       " 'also',\n",
       " 'lie',\n",
       " 'about',\n",
       " 'discuss',\n",
       " 'russia',\n",
       " '’',\n",
       " 's',\n",
       " 'vote',\n",
       " 'on',\n",
       " 'an',\n",
       " 'impend',\n",
       " 'unit',\n",
       " 'nation',\n",
       " 'resolut',\n",
       " 'to',\n",
       " 'condemn',\n",
       " 'isra',\n",
       " 'settlement',\n",
       " 'in',\n",
       " 'the',\n",
       " 'west',\n",
       " 'bank',\n",
       " '.',\n",
       " 'he',\n",
       " 'has',\n",
       " 'sinc',\n",
       " 'admit',\n",
       " 'that',\n",
       " 'he',\n",
       " 'ask',\n",
       " 'that',\n",
       " 'russia',\n",
       " 'either',\n",
       " 'delay',\n",
       " 'or',\n",
       " 'oppos',\n",
       " 'the',\n",
       " 'resolution.',\n",
       " '“',\n",
       " 'f.b.i',\n",
       " '.',\n",
       " 'agent',\n",
       " 'gave',\n",
       " 'the',\n",
       " 'defend',\n",
       " 'multipl',\n",
       " 'opportun',\n",
       " 'to',\n",
       " 'correct',\n",
       " 'his',\n",
       " 'fals',\n",
       " 'statement',\n",
       " 'by',\n",
       " 'revisit',\n",
       " 'key',\n",
       " 'question',\n",
       " ',',\n",
       " '”',\n",
       " 'prosecutor',\n",
       " 'wrote',\n",
       " 'in',\n",
       " 'a',\n",
       " 'sentenc',\n",
       " 'memo',\n",
       " 'in',\n",
       " 'decemb',\n",
       " '.',\n",
       " '“',\n",
       " 'when',\n",
       " 'the',\n",
       " 'defend',\n",
       " 'said',\n",
       " 'he',\n",
       " 'did',\n",
       " 'not',\n",
       " 'rememb',\n",
       " 'someth',\n",
       " 'they',\n",
       " 'knew',\n",
       " 'he',\n",
       " 'said',\n",
       " ',',\n",
       " 'they',\n",
       " 'use',\n",
       " 'the',\n",
       " 'exact',\n",
       " 'word',\n",
       " 'the',\n",
       " 'defend',\n",
       " 'had',\n",
       " 'use',\n",
       " 'in',\n",
       " 'order',\n",
       " 'to',\n",
       " 'prompt',\n",
       " 'a',\n",
       " 'truth',\n",
       " 'response.',\n",
       " '”',\n",
       " 'in',\n",
       " 'earli',\n",
       " 'februari',\n",
       " '2017',\n",
       " ',',\n",
       " 'white',\n",
       " 'hous',\n",
       " 'offici',\n",
       " 'review',\n",
       " 'for',\n",
       " 'about',\n",
       " 'an',\n",
       " 'hour',\n",
       " 'the',\n",
       " 'transcript',\n",
       " 'of',\n",
       " 'call',\n",
       " 'between',\n",
       " 'mr.',\n",
       " 'flynn',\n",
       " 'and',\n",
       " 'mr.',\n",
       " 'kislyak',\n",
       " ',',\n",
       " 'accord',\n",
       " 'to',\n",
       " 'a',\n",
       " 'confidenti',\n",
       " 'memo',\n",
       " 'by',\n",
       " 'white',\n",
       " 'hous',\n",
       " 'lawyer',\n",
       " 'that',\n",
       " 'detail',\n",
       " 'how',\n",
       " 'some',\n",
       " 'of',\n",
       " 'mr.',\n",
       " 'trump',\n",
       " '’',\n",
       " 's',\n",
       " 'advis',\n",
       " 'confront',\n",
       " 'the',\n",
       " 'situat',\n",
       " 'surround',\n",
       " 'mr.',\n",
       " 'flynn',\n",
       " '.',\n",
       " 'vice',\n",
       " 'presid',\n",
       " 'mike',\n",
       " 'penc',\n",
       " 'review',\n",
       " 'at',\n",
       " 'least',\n",
       " 'some',\n",
       " 'portion',\n",
       " 'of',\n",
       " 'the',\n",
       " 'transcript',\n",
       " ',',\n",
       " 'accord',\n",
       " 'to',\n",
       " 'the',\n",
       " 'memo.mr',\n",
       " '.',\n",
       " 'trump',\n",
       " 'fire',\n",
       " 'mr.',\n",
       " 'flynn',\n",
       " 'that',\n",
       " 'month',\n",
       " 'after',\n",
       " 'administr',\n",
       " 'offici',\n",
       " 'conclud',\n",
       " 'base',\n",
       " 'on',\n",
       " 'their',\n",
       " 'review',\n",
       " 'of',\n",
       " 'the',\n",
       " 'transcript',\n",
       " 'that',\n",
       " 'he',\n",
       " 'had',\n",
       " 'been',\n",
       " 'untruth',\n",
       " 'to',\n",
       " 'mr.',\n",
       " 'penc',\n",
       " 'and',\n",
       " 'other',\n",
       " 'offici',\n",
       " 'about',\n",
       " 'the',\n",
       " 'substanc',\n",
       " 'of',\n",
       " 'his',\n",
       " 'talk',\n",
       " 'with',\n",
       " 'mr.',\n",
       " 'kislyak.mr',\n",
       " '.',\n",
       " 'flynn',\n",
       " '’',\n",
       " 's',\n",
       " 'support',\n",
       " 'and',\n",
       " 'the',\n",
       " 'white',\n",
       " 'hous',\n",
       " 'have',\n",
       " 'tri',\n",
       " 'to',\n",
       " 'play',\n",
       " 'down',\n",
       " 'his',\n",
       " 'action',\n",
       " ',',\n",
       " 'suggest',\n",
       " 'that',\n",
       " 'investig',\n",
       " 'entrap',\n",
       " 'him',\n",
       " 'or',\n",
       " 'that',\n",
       " 'his',\n",
       " 'bodi',\n",
       " 'languag',\n",
       " 'dure',\n",
       " 'the',\n",
       " 'interview',\n",
       " 'with',\n",
       " 'agent',\n",
       " 'show',\n",
       " 'he',\n",
       " 'was',\n",
       " 'not',\n",
       " 'lying.judg',\n",
       " 'sullivan',\n",
       " 'rebuk',\n",
       " 'mr.',\n",
       " 'flynn',\n",
       " 'for',\n",
       " 'his',\n",
       " 'conduct',\n",
       " 'and',\n",
       " 'rais',\n",
       " 'concern',\n",
       " 'that',\n",
       " 'mr.',\n",
       " 'flynn',\n",
       " '’',\n",
       " ...]"
      ]
     },
     "execution_count": 118,
     "metadata": {},
     "output_type": "execute_result"
    }
   ],
   "source": [
    "snowball_test_token"
   ]
  },
  {
   "cell_type": "markdown",
   "metadata": {},
   "source": [
    "# vectorizer"
   ]
  },
  {
   "cell_type": "markdown",
   "metadata": {},
   "source": [
    "# SNOWBALL tfidf"
   ]
  },
  {
   "cell_type": "code",
   "execution_count": 119,
   "metadata": {},
   "outputs": [],
   "source": [
    "# %%time\n",
    "# #create vectorizer\n",
    "\n",
    "# snow_vectorizer = TfidfVectorizer(#input='content', \n",
    "# #                 encoding='utf-8', \n",
    "# #                 decode_error='strict', \n",
    "#                  strip_accents='ascii', \n",
    "#                  lowercase=True, \n",
    "# #                 preprocessor=None, \n",
    "#                  tokenizer=snowball_tokenize, \n",
    "# #                 analyzer='word', \n",
    "#                  stop_words='english', \n",
    "# #                 token_pattern='(?u)\\b\\w\\w+\\b', \n",
    "# #                 ngram_range=(1, 1), \n",
    "#                  max_df=0.90, \n",
    "#                  min_df=0.10, \n",
    "#                  max_features=None, \n",
    "# #                 vocabulary=None, \n",
    "# #                 binary=False, \n",
    "# #                 dtype=<class 'numpy.float64'>, \n",
    "# #                 norm='l2', \n",
    "# #                 use_idf=True, \n",
    "# #                 smooth_idf=True, \n",
    "# #                 sublinear_tf=False\n",
    "# )"
   ]
  },
  {
   "cell_type": "code",
   "execution_count": 120,
   "metadata": {},
   "outputs": [],
   "source": [
    "# %%time\n",
    "# print(datetime.datetime.now())\n",
    "\n",
    "# X_snowball = snow_vectorizer.fit_transform(corpus)\n",
    "# # UserWarning: Your stop_words may be inconsistent with your preprocessing. "
   ]
  },
  {
   "cell_type": "markdown",
   "metadata": {},
   "source": [
    "/Users/djbetts/opt/anaconda3/lib/python3.7/site-packages/sklearn/feature_extraction/text.py:386: UserWarning: Your stop_words may be inconsistent with your preprocessing. Tokenizing the stop words generated tokens ['abov', 'afterward', 'alon', 'alreadi', 'alway', 'ani', 'anoth', 'anyon', 'anyth', 'anywher', 'becam', 'becaus', 'becom', 'befor', 'besid', 'cri', 'describ', 'dure', 'els', 'elsewher', 'empti', 'everi', 'everyon', 'everyth', 'everywher', 'fifti', 'forti', 'henc', 'hereaft', 'herebi', 'howev', 'hundr', 'inde', 'mani', 'meanwhil', 'moreov', 'nobodi', 'noon', 'noth', 'nowher', 'onc', 'onli', 'otherwis', 'ourselv', 'perhap', 'pleas', 'sever', 'sinc', 'sincer', 'sixti', 'someon', 'someth', 'sometim', 'somewher', 'themselv', 'thenc', 'thereaft', 'therebi', 'therefor', 'togeth', 'twelv', 'twenti', 'veri', 'whatev', 'whenc', 'whenev', 'wherea', 'whereaft', 'wherebi', 'wherev', 'whi', 'yourselv'] not in stop_words.\n",
    "  'stop_words.' % sorted(inconsistent))"
   ]
  },
  {
   "cell_type": "markdown",
   "metadata": {},
   "source": [
    "<!-- /Users/djbetts/opt/anaconda3/lib/python3.7/site-packages/sklearn/feature_extraction/text.py:386: UserWarning: Your stop_words may be inconsistent with your preprocessing. Tokenizing the stop words generated tokens ['abov', 'afterward', 'alon', 'alreadi', 'alway', 'ani', 'anoth', 'anyon', 'anyth', 'anywher', 'becam', 'becaus', 'becom', 'befor', 'besid', 'cri', 'describ', 'dure', 'els', 'elsewher', 'empti', 'everi', 'everyon', 'everyth', 'everywher', 'fifti', 'forti', 'henc', 'hereaft', 'herebi', 'howev', 'hundr', 'inde', 'mani', 'meanwhil', 'moreov', 'nobodi', 'noon', 'noth', 'nowher', 'onc', 'onli', 'otherwis', 'ourselv', 'perhap', 'pleas', 'sever', 'sinc', 'sincer', 'sixti', 'someon', 'someth', 'sometim', 'somewher', 'themselv', 'thenc', 'thereaft', 'therebi', 'therefor', 'togeth', 'twelv', 'twenti', 'veri', 'whatev', 'whenc', 'whenev', 'wherea', 'whereaft', 'wherebi', 'wherev', 'whi', 'yourselv'] not in stop_words.\n",
    "  'stop_words.' % sorted(inconsistent)) -->"
   ]
  },
  {
   "cell_type": "markdown",
   "metadata": {},
   "source": [
    "# WORDNET tfidf"
   ]
  },
  {
   "cell_type": "code",
   "execution_count": 121,
   "metadata": {},
   "outputs": [],
   "source": [
    "#function that removes string.punctuation w/out the '?'\n",
    "def punc_strip(document):\n",
    "    for char in document:\n",
    "        if char in string.punctuation:\n",
    "            document = document.replace(char, \" \")\n",
    "            \n",
    "    return document"
   ]
  },
  {
   "cell_type": "code",
   "execution_count": 122,
   "metadata": {},
   "outputs": [
    {
     "name": "stdout",
     "output_type": "stream",
     "text": [
      "CPU times: user 50 µs, sys: 12 µs, total: 62 µs\n",
      "Wall time: 65.1 µs\n"
     ]
    }
   ],
   "source": [
    "%%time\n",
    "#create vectorizer\n",
    "\n",
    "wordnet_vectorizer = TfidfVectorizer(#input='content', \n",
    "#                 encoding='utf-8', \n",
    "#                 decode_error='strict', \n",
    "                 strip_accents='ascii', \n",
    "                 lowercase=True, \n",
    "                 preprocessor=punc_strip, \n",
    "                 tokenizer=wordnet_tokenize, \n",
    "#                 analyzer='word', \n",
    "                 stop_words='english', \n",
    "#                 token_pattern='(?u)\\b\\w\\w+\\b', \n",
    "#                 ngram_range=(1, 2), \n",
    "                 max_df=0.95, \n",
    "                 min_df=0.05, \n",
    "                 max_features=None, \n",
    "#                 vocabulary=None, \n",
    "#                 binary=False, \n",
    "#                 dtype=<class 'numpy.float64'>, \n",
    "#                 norm='l2', \n",
    "#                 use_idf=True, \n",
    "#                 smooth_idf=True, \n",
    "#                 sublinear_tf=False\n",
    ")"
   ]
  },
  {
   "cell_type": "markdown",
   "metadata": {},
   "source": [
    "# test, train, split"
   ]
  },
  {
   "cell_type": "code",
   "execution_count": 123,
   "metadata": {},
   "outputs": [],
   "source": [
    "#test, train, split"
   ]
  },
  {
   "cell_type": "code",
   "execution_count": 124,
   "metadata": {},
   "outputs": [
    {
     "name": "stdout",
     "output_type": "stream",
     "text": [
      "(3219,) (1073,) (3219,) (1073,)\n",
      "CPU times: user 2.8 ms, sys: 2.21 ms, total: 5.01 ms\n",
      "Wall time: 3.97 ms\n"
     ]
    }
   ],
   "source": [
    "%%time\n",
    "#test, train, split\n",
    "\n",
    "X_train, X_test, y_train, y_test = train_test_split(X, y, random_state=50)\n",
    "print(X_train.shape, X_test.shape, y_train.shape, y_test.shape)\n",
    "\n",
    "# (100935, 563) (33645, 563) (100935,) (33645,)\n",
    "# CPU times: user 65.7 ms, sys: 16.5 ms, total: 82.2 ms\n",
    "# Wall time: 81.8 ms"
   ]
  },
  {
   "cell_type": "code",
   "execution_count": 125,
   "metadata": {},
   "outputs": [
    {
     "name": "stdout",
     "output_type": "stream",
     "text": [
      "2021-01-06 11:22:24.686600\n"
     ]
    },
    {
     "name": "stderr",
     "output_type": "stream",
     "text": [
      "/Users/djbetts/opt/anaconda3/lib/python3.7/site-packages/sklearn/feature_extraction/text.py:386: UserWarning: Your stop_words may be inconsistent with your preprocessing. Tokenizing the stop words generated tokens ['ha', 'le', 'u', 'wa'] not in stop_words.\n",
      "  'stop_words.' % sorted(inconsistent))\n"
     ]
    },
    {
     "name": "stdout",
     "output_type": "stream",
     "text": [
      "CPU times: user 28.9 s, sys: 243 ms, total: 29.2 s\n",
      "Wall time: 29.4 s\n"
     ]
    }
   ],
   "source": [
    "%%time\n",
    "print(datetime.datetime.now())\n",
    "X_train =  wordnet_vectorizer.fit_transform(X_train)"
   ]
  },
  {
   "cell_type": "code",
   "execution_count": 126,
   "metadata": {},
   "outputs": [
    {
     "name": "stdout",
     "output_type": "stream",
     "text": [
      "2021-01-06 11:22:54.070868\n",
      "CPU times: user 9.49 s, sys: 63.5 ms, total: 9.56 s\n",
      "Wall time: 9.6 s\n"
     ]
    }
   ],
   "source": [
    "%%time\n",
    "print(datetime.datetime.now())\n",
    "X_test = wordnet_vectorizer.transform(X_test)"
   ]
  },
  {
   "cell_type": "code",
   "execution_count": 127,
   "metadata": {},
   "outputs": [],
   "source": [
    "vocab = wordnet_vectorizer.vocabulary_"
   ]
  },
  {
   "cell_type": "code",
   "execution_count": 128,
   "metadata": {},
   "outputs": [
    {
     "data": {
      "text/plain": [
       "1702"
      ]
     },
     "execution_count": 128,
     "metadata": {},
     "output_type": "execute_result"
    }
   ],
   "source": [
    "len(vocab)"
   ]
  },
  {
   "cell_type": "code",
   "execution_count": 129,
   "metadata": {},
   "outputs": [
    {
     "data": {
      "text/plain": [
       "(3219, 1702)"
      ]
     },
     "execution_count": 129,
     "metadata": {},
     "output_type": "execute_result"
    }
   ],
   "source": [
    "X_train.shape"
   ]
  },
  {
   "cell_type": "code",
   "execution_count": 130,
   "metadata": {},
   "outputs": [
    {
     "data": {
      "text/plain": [
       "(1073, 1702)"
      ]
     },
     "execution_count": 130,
     "metadata": {},
     "output_type": "execute_result"
    }
   ],
   "source": [
    "X_test.shape"
   ]
  },
  {
   "cell_type": "markdown",
   "metadata": {},
   "source": [
    "# count vectorizer"
   ]
  },
  {
   "cell_type": "code",
   "execution_count": 131,
   "metadata": {},
   "outputs": [],
   "source": [
    "# count_vectorizer = CountVectorizer(strip_accents='None',\n",
    "#                                    lowercase=True,\n",
    "#                                    tokenizer=snowball_tokenize,\n",
    "#                                    stop_words='english',\n",
    "#                                    max_features=None)"
   ]
  },
  {
   "cell_type": "markdown",
   "metadata": {},
   "source": [
    "# balance classes"
   ]
  },
  {
   "cell_type": "code",
   "execution_count": 132,
   "metadata": {},
   "outputs": [
    {
     "name": "stdout",
     "output_type": "stream",
     "text": [
      "[(0, 527), (1, 527)]\n",
      "RandomUnderSampler(random_state=0)\n",
      "CPU times: user 4.81 ms, sys: 1.51 ms, total: 6.32 ms\n",
      "Wall time: 5.08 ms\n"
     ]
    }
   ],
   "source": [
    "%%time\n",
    "#balance the classes\n",
    "\n",
    "from imblearn.under_sampling import RandomUnderSampler\n",
    "rus = RandomUnderSampler(random_state=0)\n",
    "\n",
    "#X, y --> X_resampled, y_resampled\n",
    "X_resampled, y_resampled = rus.fit_resample(X_train, y_train)\n",
    "print(sorted(Counter(y_resampled).items()))\n",
    "print(rus)"
   ]
  },
  {
   "cell_type": "markdown",
   "metadata": {},
   "source": [
    "# random forest classifier"
   ]
  },
  {
   "cell_type": "code",
   "execution_count": 133,
   "metadata": {},
   "outputs": [
    {
     "name": "stdout",
     "output_type": "stream",
     "text": [
      "2021-01-06 11:23:03.728306\n",
      "CPU times: user 247 ms, sys: 6.9 ms, total: 254 ms\n",
      "Wall time: 253 ms\n"
     ]
    }
   ],
   "source": [
    "%%time\n",
    "print(datetime.datetime.now())\n",
    "rf_clf = RandomForestClassifier(max_depth=2, random_state=0)\n",
    "rf_clf.fit(X_resampled, y_resampled)\n",
    "y_pred = rf_clf.predict(X_test)"
   ]
  },
  {
   "cell_type": "code",
   "execution_count": 134,
   "metadata": {},
   "outputs": [
    {
     "data": {
      "text/plain": [
       "(1073,)"
      ]
     },
     "execution_count": 134,
     "metadata": {},
     "output_type": "execute_result"
    }
   ],
   "source": [
    "y_pred.shape"
   ]
  },
  {
   "cell_type": "markdown",
   "metadata": {},
   "source": [
    "### metrics y_pred"
   ]
  },
  {
   "cell_type": "code",
   "execution_count": 135,
   "metadata": {},
   "outputs": [],
   "source": [
    "tn, fp, fn, tp = confusion_matrix(y_true = y_test, y_pred = y_pred).ravel()"
   ]
  },
  {
   "cell_type": "code",
   "execution_count": 136,
   "metadata": {},
   "outputs": [
    {
     "name": "stdout",
     "output_type": "stream",
     "text": [
      "(1073,)\n",
      "(1073,)\n"
     ]
    }
   ],
   "source": [
    "print(y_test.shape)\n",
    "print(y_pred.shape)"
   ]
  },
  {
   "cell_type": "code",
   "execution_count": 137,
   "metadata": {},
   "outputs": [
    {
     "name": "stdout",
     "output_type": "stream",
     "text": [
      "accuracy = 0.9123951537744641\n",
      "recall = 0.9123711340206185\n",
      "precision = 0.6968503937007874\n",
      "tn:802 fp:77 fn:17 tp:177\n"
     ]
    }
   ],
   "source": [
    "metrics_(tn, fp, fn, tp)"
   ]
  },
  {
   "cell_type": "code",
   "execution_count": 138,
   "metadata": {},
   "outputs": [
    {
     "data": {
      "image/png": "[encoded data removed]",
      "text/plain": [
       "<Figure size 432x288 with 2 Axes>"
      ]
     },
     "metadata": {},
     "output_type": "display_data"
    }
   ],
   "source": [
    "class_names = [\"News\", \"Op-Ed\"]\n",
    "\n",
    "plot_confusion_matrix(estimator=rf_clf,\n",
    "                      X=X_test,\n",
    "                      y_true=y_test,\n",
    "                      display_labels=class_names,\n",
    "                     cmap='cividis');"
   ]
  },
  {
   "cell_type": "markdown",
   "metadata": {},
   "source": [
    "# important features"
   ]
  },
  {
   "cell_type": "markdown",
   "metadata": {},
   "source": [
    "### feature imporance"
   ]
  },
  {
   "cell_type": "code",
   "execution_count": 139,
   "metadata": {},
   "outputs": [
    {
     "name": "stdout",
     "output_type": "stream",
     "text": [
      "2021-01-06 11:23:04.227370\n",
      "CPU times: user 318 ms, sys: 10.4 ms, total: 329 ms\n",
      "Wall time: 330 ms\n"
     ]
    },
    {
     "data": {
      "image/png": "[encoded data removed]",
      "text/plain": [
       "<Figure size 1440x1080 with 1 Axes>"
      ]
     },
     "metadata": {},
     "output_type": "display_data"
    }
   ],
   "source": [
    "%%time\n",
    "print(datetime.datetime.now())\n",
    "\n",
    "feat_names = wordnet_vectorizer.get_feature_names()\n",
    "feature_import = rf_clf.feature_importances_\n",
    "\n",
    "feat_scores = pd.Series(feature_import,\n",
    "                           index=feat_names)\n",
    "feat_scores = feat_scores.sort_values()\n",
    "ax = feat_scores[-15:].plot(kind='barh', figsize=(20,15))\n",
    "ax.set_title('\"Decrease in Impurity\" Importance')\n",
    "ax.set_xlabel('Average contribution to the reduction in variance')\n",
    "plt.savefig('important_feat_bar');"
   ]
  },
  {
   "cell_type": "markdown",
   "metadata": {},
   "source": [
    "### permutation importance"
   ]
  },
  {
   "cell_type": "code",
   "execution_count": null,
   "metadata": {},
   "outputs": [
    {
     "name": "stdout",
     "output_type": "stream",
     "text": [
      "2021-01-06 11:23:05.069450\n"
     ]
    }
   ],
   "source": [
    "%%time\n",
    "print(datetime.datetime.now())\n",
    "r = permutation_importance(rf_clf, X_test.toarray(), y_test, n_repeats=30, random_state=0)\n",
    "for i in r.importances_mean.argsort()[::-1]:\n",
    "    if r.importances_mean[i] - 2 * r.importances_std[i] > 0:\n",
    "        print(f\"{feat_names[i]:<8}\"\n",
    "              f\"{r.importances_mean[i]:.3f}\"\n",
    "              f\" +/- {r.importances_std[i]:.3f}\")"
   ]
  },
  {
   "cell_type": "code",
   "execution_count": null,
   "metadata": {},
   "outputs": [],
   "source": [
    "len(feat_names)"
   ]
  },
  {
   "cell_type": "code",
   "execution_count": null,
   "metadata": {},
   "outputs": [],
   "source": [
    "feat_names"
   ]
  },
  {
   "cell_type": "code",
   "execution_count": null,
   "metadata": {},
   "outputs": [],
   "source": [
    "stop_words = wordnet_vectorizer.stop_words_"
   ]
  },
  {
   "cell_type": "code",
   "execution_count": null,
   "metadata": {},
   "outputs": [],
   "source": [
    "len(stop_words)"
   ]
  },
  {
   "cell_type": "code",
   "execution_count": null,
   "metadata": {},
   "outputs": [],
   "source": [
    "wordnet_vectorizer.fixed_vocabulary_"
   ]
  },
  {
   "cell_type": "markdown",
   "metadata": {},
   "source": [
    "# save model as pickle file"
   ]
  },
  {
   "cell_type": "code",
   "execution_count": null,
   "metadata": {},
   "outputs": [],
   "source": [
    "filename = '/Users/djbetts/Desktop/full_dataset.pkl'"
   ]
  },
  {
   "cell_type": "code",
   "execution_count": null,
   "metadata": {},
   "outputs": [],
   "source": [
    "pickle.dump(rf_clf, open(filename, 'wb'))"
   ]
  },
  {
   "cell_type": "code",
   "execution_count": null,
   "metadata": {},
   "outputs": [],
   "source": [
    "loaded_model = pickle.load(open(filename, 'rb'))"
   ]
  },
  {
   "cell_type": "code",
   "execution_count": null,
   "metadata": {},
   "outputs": [],
   "source": [
    "#loaded_model.fit(X_resampled, y_resampled)"
   ]
  },
  {
   "cell_type": "code",
   "execution_count": null,
   "metadata": {},
   "outputs": [],
   "source": [
    "result = loaded_model.score(X_resampled, y_resampled)"
   ]
  },
  {
   "cell_type": "code",
   "execution_count": null,
   "metadata": {},
   "outputs": [],
   "source": [
    "type(result)"
   ]
  },
  {
   "cell_type": "code",
   "execution_count": null,
   "metadata": {},
   "outputs": [],
   "source": []
  },
  {
   "cell_type": "code",
   "execution_count": null,
   "metadata": {},
   "outputs": [],
   "source": []
  },
  {
   "cell_type": "code",
   "execution_count": null,
   "metadata": {},
   "outputs": [],
   "source": []
  },
  {
   "cell_type": "code",
   "execution_count": null,
   "metadata": {},
   "outputs": [],
   "source": []
  },
  {
   "cell_type": "code",
   "execution_count": null,
   "metadata": {},
   "outputs": [],
   "source": []
  },
  {
   "cell_type": "code",
   "execution_count": null,
   "metadata": {},
   "outputs": [],
   "source": []
  },
  {
   "cell_type": "code",
   "execution_count": null,
   "metadata": {},
   "outputs": [],
   "source": []
  },
  {
   "cell_type": "code",
   "execution_count": null,
   "metadata": {},
   "outputs": [],
   "source": []
  },
  {
   "cell_type": "code",
   "execution_count": null,
   "metadata": {},
   "outputs": [],
   "source": []
  },
  {
   "cell_type": "code",
   "execution_count": null,
   "metadata": {},
   "outputs": [],
   "source": []
  },
  {
   "cell_type": "code",
   "execution_count": null,
   "metadata": {},
   "outputs": [],
   "source": []
  },
  {
   "cell_type": "code",
   "execution_count": null,
   "metadata": {},
   "outputs": [],
   "source": []
  },
  {
   "cell_type": "code",
   "execution_count": null,
   "metadata": {},
   "outputs": [],
   "source": []
  },
  {
   "cell_type": "code",
   "execution_count": null,
   "metadata": {},
   "outputs": [],
   "source": []
  },
  {
   "cell_type": "code",
   "execution_count": null,
   "metadata": {},
   "outputs": [],
   "source": []
  },
  {
   "cell_type": "code",
   "execution_count": null,
   "metadata": {},
   "outputs": [],
   "source": []
  },
  {
   "cell_type": "code",
   "execution_count": null,
   "metadata": {},
   "outputs": [],
   "source": []
  },
  {
   "cell_type": "code",
   "execution_count": null,
   "metadata": {},
   "outputs": [],
   "source": []
  },
  {
   "cell_type": "code",
   "execution_count": null,
   "metadata": {},
   "outputs": [],
   "source": []
  },
  {
   "cell_type": "code",
   "execution_count": null,
   "metadata": {},
   "outputs": [],
   "source": []
  },
  {
   "cell_type": "code",
   "execution_count": null,
   "metadata": {},
   "outputs": [],
   "source": []
  }
 ],
 "metadata": {
  "kernelspec": {
   "display_name": "Python 3",
   "language": "python",
   "name": "python3"
  },
  "language_info": {
   "codemirror_mode": {
    "name": "ipython",
    "version": 3
   },
   "file_extension": ".py",
   "mimetype": "text/x-python",
   "name": "python",
   "nbconvert_exporter": "python",
   "pygments_lexer": "ipython3",
   "version": "3.7.9"
  }
 },
 "nbformat": 4,
 "nbformat_minor": 4
}
