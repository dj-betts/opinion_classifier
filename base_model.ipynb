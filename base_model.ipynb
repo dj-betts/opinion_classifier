{
 "cells": [
  {
   "cell_type": "code",
   "execution_count": 2,
   "metadata": {},
   "outputs": [],
   "source": [
    "import functions"
   ]
  },
  {
   "cell_type": "code",
   "execution_count": 3,
   "metadata": {},
   "outputs": [],
   "source": [
    "import datetime"
   ]
  },
  {
   "cell_type": "code",
   "execution_count": 4,
   "metadata": {},
   "outputs": [],
   "source": [
    "import nltk\n",
    "import string"
   ]
  },
  {
   "cell_type": "code",
   "execution_count": 5,
   "metadata": {},
   "outputs": [],
   "source": [
    "import re"
   ]
  },
  {
   "cell_type": "code",
   "execution_count": 6,
   "metadata": {},
   "outputs": [],
   "source": [
    "import pickle"
   ]
  },
  {
   "cell_type": "code",
   "execution_count": 7,
   "metadata": {},
   "outputs": [],
   "source": [
    "import pandas as pd\n",
    "import numpy as np"
   ]
  },
  {
   "cell_type": "code",
   "execution_count": 8,
   "metadata": {},
   "outputs": [
    {
     "name": "stderr",
     "output_type": "stream",
     "text": [
      "In /Users/djbetts/opt/anaconda3/lib/python3.7/site-packages/matplotlib/mpl-data/stylelib/_classic_test.mplstyle: \n",
      "The text.latex.preview rcparam was deprecated in Matplotlib 3.3 and will be removed two minor releases later.\n",
      "In /Users/djbetts/opt/anaconda3/lib/python3.7/site-packages/matplotlib/mpl-data/stylelib/_classic_test.mplstyle: \n",
      "The mathtext.fallback_to_cm rcparam was deprecated in Matplotlib 3.3 and will be removed two minor releases later.\n",
      "In /Users/djbetts/opt/anaconda3/lib/python3.7/site-packages/matplotlib/mpl-data/stylelib/_classic_test.mplstyle: Support for setting the 'mathtext.fallback_to_cm' rcParam is deprecated since 3.3 and will be removed two minor releases later; use 'mathtext.fallback : 'cm' instead.\n",
      "In /Users/djbetts/opt/anaconda3/lib/python3.7/site-packages/matplotlib/mpl-data/stylelib/_classic_test.mplstyle: \n",
      "The validate_bool_maybe_none function was deprecated in Matplotlib 3.3 and will be removed two minor releases later.\n",
      "In /Users/djbetts/opt/anaconda3/lib/python3.7/site-packages/matplotlib/mpl-data/stylelib/_classic_test.mplstyle: \n",
      "The savefig.jpeg_quality rcparam was deprecated in Matplotlib 3.3 and will be removed two minor releases later.\n",
      "In /Users/djbetts/opt/anaconda3/lib/python3.7/site-packages/matplotlib/mpl-data/stylelib/_classic_test.mplstyle: \n",
      "The keymap.all_axes rcparam was deprecated in Matplotlib 3.3 and will be removed two minor releases later.\n",
      "In /Users/djbetts/opt/anaconda3/lib/python3.7/site-packages/matplotlib/mpl-data/stylelib/_classic_test.mplstyle: \n",
      "The animation.avconv_path rcparam was deprecated in Matplotlib 3.3 and will be removed two minor releases later.\n",
      "In /Users/djbetts/opt/anaconda3/lib/python3.7/site-packages/matplotlib/mpl-data/stylelib/_classic_test.mplstyle: \n",
      "The animation.avconv_args rcparam was deprecated in Matplotlib 3.3 and will be removed two minor releases later.\n"
     ]
    }
   ],
   "source": [
    "import matplotlib.pyplot as plt\n",
    "plt.style.use('fivethirtyeight')"
   ]
  },
  {
   "cell_type": "code",
   "execution_count": 9,
   "metadata": {},
   "outputs": [],
   "source": [
    "from sklearn.feature_extraction.text import CountVectorizer, TfidfVectorizer\n",
    "from sklearn.model_selection import train_test_split\n",
    "from sklearn.metrics import confusion_matrix, plot_confusion_matrix\n",
    "from sklearn.naive_bayes import MultinomialNB\n",
    "from sklearn.ensemble import RandomForestClassifier\n",
    "from sklearn.inspection import permutation_importance"
   ]
  },
  {
   "cell_type": "code",
   "execution_count": 10,
   "metadata": {},
   "outputs": [],
   "source": [
    "from collections import Counter"
   ]
  },
  {
   "cell_type": "code",
   "execution_count": 11,
   "metadata": {},
   "outputs": [],
   "source": [
    "from imblearn.under_sampling import RandomUnderSampler"
   ]
  },
  {
   "cell_type": "code",
   "execution_count": 12,
   "metadata": {},
   "outputs": [],
   "source": [
    "from nltk.stem.snowball import SnowballStemmer\n",
    "from nltk.stem.wordnet import WordNetLemmatizer\n",
    "from nltk.tokenize import word_tokenize\n",
    "from nltk.corpus import stopwords"
   ]
  },
  {
   "cell_type": "markdown",
   "metadata": {},
   "source": [
    "# dataset used"
   ]
  },
  {
   "cell_type": "code",
   "execution_count": 13,
   "metadata": {},
   "outputs": [],
   "source": [
    "#data during last 4 years when us gov and politics keyword was high\n",
    "data = pd.read_csv('data/token_2017_2020.csv', index_col='_id')"
   ]
  },
  {
   "cell_type": "code",
   "execution_count": 14,
   "metadata": {},
   "outputs": [
    {
     "name": "stdout",
     "output_type": "stream",
     "text": [
      "CPU times: user 1.31 ms, sys: 545 µs, total: 1.86 ms\n",
      "Wall time: 1.55 ms\n"
     ]
    }
   ],
   "source": [
    "%%time\n",
    "df = data.copy()"
   ]
  },
  {
   "cell_type": "code",
   "execution_count": 15,
   "metadata": {},
   "outputs": [
    {
     "data": {
      "text/plain": [
       "(17822, 9)"
      ]
     },
     "execution_count": 15,
     "metadata": {},
     "output_type": "execute_result"
    }
   ],
   "source": [
    "df.shape"
   ]
  },
  {
   "cell_type": "code",
   "execution_count": 16,
   "metadata": {},
   "outputs": [],
   "source": [
    "##create and filter \"US POL AND GOV\" keyword\n",
    "df = functions.filter_keyword(df)"
   ]
  },
  {
   "cell_type": "code",
   "execution_count": 17,
   "metadata": {},
   "outputs": [
    {
     "data": {
      "text/plain": [
       "(17822, 9)"
      ]
     },
     "execution_count": 17,
     "metadata": {},
     "output_type": "execute_result"
    }
   ],
   "source": [
    "df.shape"
   ]
  },
  {
   "cell_type": "code",
   "execution_count": 18,
   "metadata": {},
   "outputs": [
    {
     "data": {
      "text/plain": [
       "' as you drew closer to the fifth floor where      works out of a suite of offices things started to loosen up  assistant outside his conference room wore a mask but the other did not  the middle of the room with its oil paintings and vaulted ceiling the long central table had fewer chairs than you might expect and an appropriate distance between them  past the next door inside the attorney generals smaller personal office  himself was also mask-free  around to greet his visitors he moved into the middle of a wide circle of four chairs arranged in front of his desk  nearing the end of his career  did not take his current job for the glory  had already been attorney general once in      administration winning him a reputation as a wise old man a reputation that in the eyes of some his tenure in the  administration has tarnished  is he doing it for the money  time in corporate  earned him tens of millions of dollars in compensation and stock options and his bearing is still that of a  500 counsel cozy manners wrapped around a harder core  said though  had been asked to bring one  tone was jokingly conspiratorial as though he were making an exception for an old friend  is sometimes described as an adjective that also captures his professorial manner  speaking voice is very soft just loud enough to be consistently perceptible his accent is patrician with a trace of old    personality breaks through mostly in frequent moments of humor which range from clubby chuckles to tension-breaking eruptions an aide added  crossed the circle of chairs grinning away any awkwardness  bumped elbows he said in the same joshing tone  greater risk of course was that  might infect him given his cabinet-level access to regular coronavirus testing the difference in our ages  regular meetings with the president and the mostly one-way prophylactic value of masks in general his aide suggested again  took it off   the whole country was doing the same dance   for   and  had recommended that all  wear masks at meetings like this one   was doing something else and so for the time being was the   staff     having been wrong-footed after taking the no-mask custom to the   now seemed to be making it up as he went along  weeks into the global pandemic a charitable observer might still have described the administrations response as improvisational or misguided as opposed to willfully cavalier  things were about to get worse  day  projection of the total   death toll 75 000 to 100 000 which was given the previous evening at the   would be challenged by an internal  document predicting that the number of daily deaths would rise into   reckless faith of the presidents inner circle would be challenged when two members of the   staff tested positive for the coronavirus  and  did not know it then but we were enjoying the tail end of the  administrations libertine phase   27 the official death toll would surpass 100 000 the upper bound of what  predicted on  3  has to assume that  is keeping a close eye on the 70-year-old  right now  powers of the attorney general as the executive branchs rule interpreter and law enforcer peak during moments of social unrest  knows these powers well  led the   through the   riots of 1992 when  invoked the   and deployed thousands of soldiers and    said the   riots were gang activity and not    is a stalwart believer in the righteousness of the police those communities that fail to give the police he said in a  speech  summer  dropped the departments federal case against the   police officer who killed   during an arrest in 2014  role also gives him influence over three major political fronts heading into   there is  fight to open the nations economy which could depend in no small part on  interpretation of federal authority and willingness to twist governors arms  there are the mechanics of the vote itself a topic of great partisan controversy about which the   has shown a growing willingness to weigh in  there is the ongoing investigation led by   the   attorney in  into the origins of the    s  probe in the run-up to the 2016 election the findings of which are widely expected to be announced before   the election now on the horizon  defended his record in two recent interviews  critics charge that since becoming attorney general he has repeatedly steered the   toward decisions that serve  interests particularly around the investigations carried out by the    and     into  influence over the 2016 election  insists that he acts independently even as the president often undermines that claim by tweeting out apparent instructions for what his attorney general ought to do  the time of our first meeting in his office  had already started looking at how the federal government might intervene in state-ordered coronavirus shutdowns   accused  governors of denying citizens their and encouraged residents to   and   zeroed in on the nuts and bolts of the legal case for  two small churches filed lawsuits seeking to hold live services despite state or local regulations the   made filings in support of their   rights  a signed memorandum sent to the departments 93   attorneys  suggested that the federal governments interest went beyond protecting live worship  included  weeks before our interview  bragged that he held authority over the states  went against the prevailing view that the federal government while free to enforce a variety of measures during its own emergencies is more constrained in its authority to compel state or local governments to lift theirs   asked  what  meant he responded by laying out a general view of the presidents pandemic-related powers he said  answer sounded so dry and routine that  failed to ask what he meant by  broadly enough  interpretation could sanitize and legalize  claim to authority  ballots are another domain where  had been staking out turf  called the distribution of ballot applications in  and warned that voting by mail  a second interview on  20 when  asked who was going to referee the 2020 election  replied  said his departments role would be limited as the power belongs to the states and their electors  when  brought up  tweet about  which he posted that same morning  quickly seized the opportunity to float a new theory that foreign governments might conspire to mail in fake ballots he cautioned offering no evidence to substantiate that this was a real possibility  he called it and added  many election-related issues the  of  has to defer to the states  in the case of  investigation of the 2016 investigators or the as  has so often called it  has a greater degree of control  years  has been saying that he was treated unfairly in 2016 particularly at the hands of   then the    director  who is open about his agreement with this premise is now in the process of nailing down the details  wont rule out the possibility that  findings could undermine a key consensus about 2016 the well-established conclusion that  interference sought to favor  a finding of the    of 2017 that was later underscored by  the special counsel and verified by the   intelligence committee   told me was looking for  paused glanced down and fidgeted for a moment with his necktie before going on  seems aware at times that he is gambling with his reputation he said with a matter-of-fact sigh in a  interview last year  we spoke in his office he was critical of what he called  tendency to around himself he said he added  willingness to weather controversy on the presidents behalf has not only caused consternation among some former friends and allies it has given rise to considerable speculation about his motives  would a grandfather in semiretirement who had already reached the pinnacle of his profession sign up for this  wonder if  might still be hungry for influence having been attorney general for only 17 months the first time  wonder whether he spent too much time watching   during the  years and came out the other side an ideologue  there are others who look at  support for  and see more consistency than contradiction  they say hasnt changed his values  he has found in  the perfect vehicle with which to move them forward says   who led the   civil division during  first tour and then succeeded him serving as acting attorney general during the first three months of   presidency  far as what  is hoping to do with his canvas  says he is committed to the and premise that  isnt too far away from what  himself articulated in a 2019 speech at the  of     view piety lay at the heart of the founders model of self-government which depended on religious values to restrain human passions  said  flows from through to form  and experience merely serve to confirm the infallible divine law  law he said is under threat from including who call on the state  their feet  places mental illness drug overdoses violence and suicide  these things he said are getting worse  are  started his career in the    as an analyst working on  and other matters   asked about the origin of his interest in the intelligence service he responded indirectly with an anecdote about telling his high school guidance counselor that he wanted to be    director  was tempting to link  career and conservatism with his father   who served in the  of   the    s forerunner during     1940 as an undergraduate at   wrote a controversial editorial for    defending a speech by the university president that called upon the faculty to support the  war effort he wrote  tempting as it was to see the son as part of some epigenetic chain of old-line conservatism  cautioned me not to make such assumptions  parents met at the  of  in the early 1940s  who already spoke three languages had been sent there by the  to learn   spotted   a young  woman who had a masters degree in  from  through an open doorway teaching  to undergraduates and was smitten  took some courting  thought  was a  told me and his background was also an issue he was raised without much religion but his father  grandfather was born a secular   joining the   gave his religion as    converted to  after he and  wed   26-page    file obtained from the   gives a detailed account of his transition from the military to intelligence work  1944 he shipped off to   suffered from hay fever and 20/200 vision much of his time overseas was spent hospitalized with allergies  next year he was assigned to the     interviewer found him to be  late 1945 he moved to  to begin work at the   and   which would become the   in-house intelligence bureau  the couples second son was born in 1950  age 8 he had taken up the bagpipes which would become a lifelong hobby  attended the    in   where his classmates remembered his conservatism the delight he took in making an argument and his sense of humor  yearbook praised him as an  involvement with campus politics continued at   joined the   which organized against student occupiers who had taken over the campus to protest the    was known as a feeder school for the     average of 14 seniors went to the agency each year from 1960 through 1966 according to a 1967 article from the student newspaper    which reported that a majority came in not through the colleges  of   and  but perhaps a reference to the private foundations and student organizations that were receiving    funding at that time  the late 1960s this recruiting drew campus protests which eventually broadened to take on other issues beyond the war  the morning of  24 1968 student demonstrators many of them affiliated with  for a   stormed    and took over the offices of  president  protesters were angry that  was building a gymnasium nearby that would have two separate entrances one for the school community and one for neighborhood residents and also about the universitys connection with a think tank that did research for the   was on the other side standing shoulder to shoulder with conservatives and athletes to form a blockade around the library he told me  smiled to himself  asked if he was in the fistfight  adjusted the bridge of his glasses and glanced down he said letting out a big laugh  later added  interned at the    in the summers of 1971 and 1972  1973 after completing his graduate degree in government and  studies he married   whom he met at a fraternity party  next day the couple drove to  and  began a permanent job at the    the day after that  mothers memories of the   he said had instilled in him a desire for career stability so he began taking law courses at night  then he had transferred to the    s  of   says   who worked down the hall from  in the general counsels office where  would eventually rise to become the acting head  new job put  on the    s seventh floor not far from the directors office and near the center of what was shaping up to be a historic fight with   the aftermath of    the presidency was endowed with vast new powers mass surveillance covert operations proxy wars and nuclear weapons  young    spurred on by the imperative to win the   abused its own new powers to an astonishing degree  a statutory ban on its involvement in either or the    surveilled and surreptitiously engaged with countless  citizens  agency reported to the president and often took action based on informal conversations without ever committing much to paper  around the agencys transgressions held until the 1970s when antiwar sentiment began to peak  scandals around the   1971 and the  break-in 1972 culminating in the long-anticipated  defeat convinced much of the public that the federal government should no longer be given the benefit of the doubt  1973   the longtime    director ordered the destruction of internal    documents regarding  an experimental mind-control program  later recalled  1974 the journalist   who had already broken the story of the   massacre in  revealed that the    had developed a sprawling domestic-spying operation keeping dossiers on thousands of  citizens  created two special committees a  committee led by    and a  committee that would eventually be led by    to investigate  years the    would be consumed with negotiations over the limits of what  could oversee  told me in his office  asked if there had indeed been excesses  poker face came to life  grinned turned his palms out and shrugged he said  burst out laughing  he pulled back to give the matter some more thought adjusting his glasses as he settled back into seriousness he said  battle between conservative hard-liners and a   would continue through the late    the    there was a sense of victimization   the agencys first presidentially appointed inspector general told me  1976 the job of defending the agency in public passed to the new director     who had served as a special   envoy to   at least one occasion  sat behind  during a congressional hearing giving him legal advice  wound up making oversight a permanent thorn in the    s side by establishing two intelligence oversight committees    drafted two letters each signed by  asking  if the    could resume the routine destruction of documents  request was denied says   now a law professor at the   of  and  at   who dealt with the    as legal counsel of the      than accept post-Watergate congressional limitations the hard-liners decamped from the    and became floaters bureaucratic nomads who sought out underused and low-visibility pockets of the federal government from which to wage their war over executive power  largest battle was fought around the  affair  covert group operating out of the    had used money gained by selling arms to  to fund anti-Communist rebels in   flouting a congressional prohibition  of the operation was organized by     of the     of the  plotters were dragged into the public eye and indicted by a special prosecutor another post-Watergate innovation  pointing to the involvement of    and       was inconclusive  hard-liners felt that foreign policy and covert operations were an exclusively presidential domain is how  first    director   put it in an interview with the political scientist     this time conservative thinkers of  generation began to coalesce around an idea they called  presidents right to his powers under   of the  they argued was undivided and absolute  reforms independent prosecutors to investigate high-level wrongdoing requirements to get warrants for national-security wiretaps and more were unconstitutional incursions into the presidents rightful powers   1977  left the    upon his graduation from      eventually landing as a policy lawyer in the     running for president took  to the 1988    to help vet potential running mates and after winning the election appointed him to lead the    of   where his duties included determining the legal limits of    activities  who was still at the    recalls that  kept his independence from the    of  opinions on classified    operations while a third operation  says was rejected entirely  of  public opinions though effectively authorized the invasion of   as acting attorney general he impressed  further by defusing a delicate prison-hostage crisis  attorney general in 1992  signed off on a mass-surveillance program that collected billions of call records for the     the end of  presidency he successfully pushed for a pardon of six  defendants     a former    director says  reminds him of   the former    lawyer who became     chief of staff and played a major role in pushing the limits of conduct including torture that the   and the    determined to be legal in the aftermath of the  11 attacks   says  intellect and experience made him appealing to the private sector  eight years he served as general counsel at  at a time when the company was working out secret arrangements with the    to turn over its customers data   2001 a legal trade publication noted  1 5 million salary and compared him to a for the depth of his connections in both political  and corporate    that time he said he had no interest in returning to officialdom he said  the 2016 presidential election  was a player in  politics and active in conservative  causes  gave nearly 50 000 to a  affiliated with    annual holiday parties traditional  cèilidhs with music and singers drew hundreds whose friendships he had maintained over the years  wrote and sold a screenplay about     spent time traveling abroad and hunting birds  three daughters all became accomplished lawyers working on   or as federal prosecutors  eldest  moved to the   financial-crimes unit after  nomination as attorney general one of  sons-in-law left the   for the      year shortly after his   speech  gave a second major address at the annual convention of the   an organization of conservative lawyers founded during the  administration  subject was executive power   criticized progressives this time for making politics  presidency in his view handled  of the core function of the presidency was the ability to act swiftly and without constraint but this capability had been diminished by the other branches since   had burdened the president with oversight while the courts were interfering with  travel ban on certain countries and his termination of     program for young immigrants  seemed to suggest that when it comes to foreign policy the only legitimate check on presidential behavior is the next election  later this argument would become the foundation of  impeachment defense   5 2018  attended     funeral  waiting in line for the shuttle bus that would take him to    he and his wife ran into a friend    who was    counsel during the  years  two men spent most of the day together  sounded out  about the attorney-general job  knew from following the news that  was under consideration but  never tipped his hand about how close he was to being tapped and  never asked  that week when  announced  nomination  was not surprised under   says  the time of his nomination  supporters presented him as a trustworthy and sensible conservative a known quantity within the  establishment who would restrain  worst impulses   called him   a legal commentator who is now one of  harshest critics tweeted at the time that he had been under  and that his confirmation would be  the confirmation hearing    of  the ranking  on the   questioned  at length about a memorandum he wrote to the administration the previous summer outlining why he believed that  had no legal right to investigate  for obstruction of justice  president  argued has investigations and can on individual cases including those that touch on his political or financial interests  wrote  enforcement he argued was a power exclusively held by the president because  the hearing  seemed to say that he did not believe the unitary executives powers to be infinite     a   asked if it would be lawful for a president to trade a pardon for a promise not to incriminate him  answered that such an exchange would be a crime  also mentioned his long friendship with   wife attends the same  study as  wife  attended the weddings of two of  daughters  was confirmed by a vote of 54 to 45  had barely served one month as attorney general when his friendship with  was tested by the special prosecutors delivery of his report on the afternoon of   22   account then went dark for nearly 40 hours    sent a letter to  that he would later describe as giving  and  feed came back to life he tweeted  his first public comments that same day  said the words three times he added  tweet  letter and  report said three different things   nor  exonerated   quoted  own words that his complicated finding on obstruction the president   omitted  conclusions that  interference sought to favor  that  and his campaign welcomed the interference and believed they would benefit from it and that the and between  and the campaign were substantial even though the evidence  was able to gather fell short of a criminal conspiracy  fired off two letters complaining that  had misrepresented his work  the second letter dated  27 he asked  to immediately release the reports introductions and executive summaries  the public would not get to read  work until  18 when  released a redacted version of the full report  doing so  gave a news conference in which he tilted further toward declaring  innocent something  bent over backward not to do  said of   distortions drew wide criticism  were also frustrated by the reports content  lacked the thunderous revelations about  that had long been promised by  opponents and it suffered from legalistic inconclusiveness on the most fundamental questions  having been given a chance to put the 2016 election to bed for good had carefully avoided doing so  hopes for the promised collusion bombshell now turned to the unredacted version of the  report which  refused to give them  an echo of his    work during the   years the    has taken a very hard line regarding what information  and the courts are entitled to get from the    has fought in court against the release of  tax returns argued that  did not need to see the  whistle-blowers complaint because it was not a matter of and has challenged congressional requests for  secret grand-jury materials   refused to turn over the fully unredacted  report to the    citing executive privilege the committee voted to hold him in contempt   chairman    of   claimed that this was the beginning of a  seemed untroubled he reportedly quipped to   at an event a few days later  concerns about  handling of  investigation have not been confined to      of the     for the  of  a    appointee recently criticized  and questioned whether  his first meeting with   in 2017  later recalled in his confirmation hearing he told  that  the end he was half right  said in one of our interviews  would have been  2019 more than a year ago  continued  asked if they still saw each other at  study  replied  general are chosen by the president no law prohibits them from doing the presidents bidding  presidents have occasionally asked the attorney general to intervene in individual prosecutions       attorney general went much further helping to plan the  burglary and then working to cover it up  the   guidelines do enjoin prosecutors not to comment about ongoing investigations something  does regularly  also caution that legal judgments and that the department must respect   of this has stopped  from overruling his subordinates to the benefit of  friends and associates most notably    longtime political mentor and   his former national security adviser  both cases  has tweeted about what he sees as the unfairness of their legal troubles and the   has subsequently pushed for leniency  has repeatedly said that  has never asked him to do anything in a criminal case he said in an interview with    the departments interventions on behalf of  and  have raised questions about the supposed  firewall   who led the  of   under    told   in   has said he doesnt pay attention to  tweets and doesnt take seriously the ones he is made aware of says   friend and former colleague   the former head of  civil rights division at the department articulated a prevailing view of  among  telling me that the attorney general has  says  interventions on behalf of  associates have far-reaching consequences she says   prosecutors recommended that  be sentenced to seven to nine years in prison for witness tampering and other crimes  following day the   filed a second revised sentencing memo asking that  sentence be reduced  to 108 months the memo argued given   the same day the department revised its sentencing recommendation all four of the prosecutors responsible for the case announced their withdrawal    left the department entirely  wrote later in an op-ed in       said the  prosecutors  tweeted out congratulations to  for  pushed back in the  interview insisting that he reached the  decision independently he said adding  post-Mueller case that has arguably received the most attention among  supporters is that of  the lieutenant general who briefly served as  national security adviser  dueling narratives around the  transition crystallize around  and the question of whether he or those who investigated him were in the wrong  addition to drawing scrutiny for his  contacts  initially failed to report as legally required that his company was effectively on the payroll of the  government during the 2016 campaign  himself tried and failed to talk  into dropping him  of  own problems hinged on his asking  if he could to dropping the  investigation  adversaries consider  to be a loose cannon and possible  pawn who needed to be rooted out  supporters depict him as the second coming of   a good soldier who was martyred in public for his loyalty to the executive   4 the day of my first interview with   was still awaiting sentencing having pleaded guilty to lying to the     time to time  had been tweeting about the  case in ways that seemed to cross the line that  had drawn about public comments from the   about matters pending before the    said  had been victimized by the as   asked  in light of his statement on   whether these were the kind of tweets that made his job  said  had recently been tweeting about   said  replied  asked if he would like to see them  said  handed  a printout of an  29  tweet  read  said with cool indifference  asked how it was that  supposed antagonists could be punished without involvement from the department  asked referring to the particular case that was now before     had found the right hair to split and he split it so cleanly and decisively that  couldnt say this wasnt his position from the beginning  tweet  said was nothing new  he said  days later on the afternoon of  7 the   filed a motion to dismiss its own prosecution of   government argued that  false statements were not to the investigation of  because the investigation was itself unjustified  argument relied in part on the contents of handwritten    notes that had been turned over to  attorneys by the department and released to the public by mutual agreement  of the prosecutors assigned to the case immediately withdrew  few days later  decided he wouldnt rule on whether to accept the departments motion until he had heard from friends of the court and a special counsel  lawyers appealed asking a higher court to force the judges hand  the department took  side  took to  celebrating  definitive  11  history of the 2016 election remains unwritten though not for lack of trying  addition to the  report and voluminous criminal indictments we have the    the  report by the   inspector general   and four volumes of the  intelligence committees report a fifth volume of which is on the way  major episodes of the story may now seem like familiar terrain to those who have kept up and a hopeless mess to everyone else  zoom out a bit and the stakes could not be higher  of  critics like    of  the  chairman of the    and    director of national intelligence go further than saying that the  put a thumb on the scale for   have suggested that the extra boost was decisive that  would not have been elected in 2016 but for  interference  crucial legacy of 2016 is that the question of  legitimacy was never settled  without any consensus on what happened in 2016 the rules of the road for 2020 are up in the air  first armed with the powers of law enforcement and presidential access to classified material  is getting ready to roll out his account of 2016   promises he most likely has in mind the ongoing investigation by   and its long-expected report although it is also possible that  public work product will take the form of indictments or perhaps nothing at all  who assigned  the task of investigating the  probe in  last year and met with him several times immediately after the conclusion of  investigation is overseeing  work and briefs  on his findings regularly  on  public statements we can see the rough contours of  findings beginning to take shape  governments conduct during the  transition  has said was  of  campaign amounted to  there was the all-important question of whether the    was justified in opening the initial   investigation into the  campaigns  ties  ordinary circumstances   prosecutors do not comment on anything connected to an ongoing investigation but on the day that  released his report both  and  decided to do just that     s interest in   said was based and  said in his own statement  had found that the investigation was justified so these sounded like sweeping words of dissent  over the coming months as attention drifted elsewhere they shrank  the time  sat down with  the only dispute with  hed voiced was whether the    had enough evidence to open a full investigation  and  believe that there was only enough to open a preliminary investigation not a full one  our first interview  mentioned the dossier of salacious anti-Trump claims that had been gathered and circulated by   a former  intelligence agent who was working indirectly for the  campaign  possibility that the  government intentionally seeded the dossier with misinformation was one of the issues  ignored and  was looking at  said  had  gone back and looked at the investigative steps taken as   accelerated he continued  had done that but unlike  and  he had no access to the    the    and the foreign governments that were involved  facilitate what later became a criminal investigation  ordered the heads of the intelligence agencies to cooperate with   delegated to  the power to order the declassification of secret documents  has spoken with intelligence officials from   and  to reportedly solicit information that could help   the case of  where  and  met with political leaders and intelligence chiefs in person his visit provoked concern among   diplomats who told   that  circumvented protocols in setting up the trip    of  who is the ranking  on the   and helped write its five-volume report said there were about  trips he said   a former colleague of  from the     years said he thought  could come back with something more  investigation he told me  investigation is not the only means through which  decisions could affect the election  the    wants to open a criminal investigation into either campaign it will first need  personal approval  has established a special to deal with materials that    says he has obtained from  sources which  has claimed implicate   the presumptive  presidential nominee  the interview  did not dispute the notion that the  government had interfered in 2016 but he made it sound as though the assumption that it favored  would be coming under some pressure  also would expect  to play a role in deterring and punishing foreign interference in the 2020 election but that could get complicated  camp continues to deny the intelligence communitys consensus view one strongly reiterated by  and the  intelligence committee that the  favored  over    including  on the    claim to have unreleased evidence that points the other way  on what  told me  intentions will most likely emerge as the key retrospective battlegrounds as  work continues and the election draws closer  said  what  did not address directly was the fourth volume of the report from the  intelligence committee  report reviewed much of the same intelligence underlying the     affirmed that  pro-Trump position and     direct involvement were supported by     s disagreement was  the committees groundbreaking 2012   the fourth volume was unanimously approved by a bipartisan vote of the  committee said    a  from   and the chairman of the committee  for his part dismissed  investigation as he told me  brought up the  investigation again in my last interview with  on  20  fifth floor of   headquarters now felt different some older lawyerly looking men walking around wore masks  younger men in suits with lapel pins who were most likely security did not  himself still wore no mask but there were no more polite entreaties for visitors to take theirs off  could see two crumpled blue surgical masks lying amid the papers on  desk  disarming familiarity  sat down on a sofa and offered me my in a tufted leather chair  then  had seized on the meme accusing the former president and  of  asked what crime he thought they were guilty of  declined to answer  a news conference two days before  went to see him  was asked indirectly if  investigation might lead to criminal charges being filed against  or  he said  that same day  asked about  statement replied  went on  then said he had that  and  were in what he now called a  to whether or not it was criminal he said   office two days later  brought up how  seemed to have heard only what he wanted to hear that  prediction about not prosecuting the former president was only valid  said  shouldnt read too much into those words he said  he realized it or not the line  had drawn at the news conference was getting blurrier with every word just as  had hoped  went on  pulled back from the conversation and thought for a moment  keeping tabs on  investigation for more than a year  did not think it was likely that he would have to prosecute a former president  neither at that moment was he willing to rule it out  made this position sound reasonable even as it served to support the unsupported theory that the president was floating at the time  the end the substance of  findings might not matter  he turns up will become a major theme of  2020 campaign the less time there is before an election the greater political impact of even the smallest apparent revelation   needed from  was the glimmer of a possibility a slight shadow of official uncertainty in which his wild theories could flourish  for now  was giving him that  much more he would give the president before  it was hard to say'"
      ]
     },
     "execution_count": 18,
     "metadata": {},
     "output_type": "execute_result"
    }
   ],
   "source": [
    "#print corpus for inspection\n",
    "df.text.iloc[0]"
   ]
  },
  {
   "cell_type": "code",
   "execution_count": 19,
   "metadata": {},
   "outputs": [
    {
     "data": {
      "text/plain": [
       "lead_paragraph                           On the first Monday in May, the Department of ...\n",
       "keywords                                 [{'name': 'persons', 'value': 'Barr, William P...\n",
       "pub_date                                                          2020-06-01T09:00:11+0000\n",
       "type_of_material                                                                      News\n",
       "print_page                                                                            20.0\n",
       "text                                      as you drew closer to the fifth floor where  ...\n",
       "United States Politics and Government                                                 True\n",
       "quote_list                                                                            [[]]\n",
       "keyword_list                             ['', 'Barr,', 'William', 'P', 'Justice', 'Depa...\n",
       "Name: nyt://article/f5d2e4a7-f89b-54da-9985-dd5fc704a51e, dtype: object"
      ]
     },
     "execution_count": 19,
     "metadata": {},
     "output_type": "execute_result"
    }
   ],
   "source": [
    "#last check of data before split\n",
    "last_check_before_split = (df.iloc[0])\n",
    "last_check_before_split"
   ]
  },
  {
   "cell_type": "markdown",
   "metadata": {},
   "source": [
    "# drop na"
   ]
  },
  {
   "cell_type": "code",
   "execution_count": 20,
   "metadata": {},
   "outputs": [
    {
     "data": {
      "text/plain": [
       "(17822, 9)"
      ]
     },
     "execution_count": 20,
     "metadata": {},
     "output_type": "execute_result"
    }
   ],
   "source": [
    "df.shape"
   ]
  },
  {
   "cell_type": "code",
   "execution_count": 21,
   "metadata": {},
   "outputs": [],
   "source": [
    "df = df.dropna()"
   ]
  },
  {
   "cell_type": "code",
   "execution_count": 22,
   "metadata": {},
   "outputs": [
    {
     "data": {
      "text/plain": [
       "(17783, 9)"
      ]
     },
     "execution_count": 22,
     "metadata": {},
     "output_type": "execute_result"
    }
   ],
   "source": [
    "df.shape"
   ]
  },
  {
   "cell_type": "code",
   "execution_count": 23,
   "metadata": {},
   "outputs": [
    {
     "name": "stdout",
     "output_type": "stream",
     "text": [
      "News: 14592 Oped: 3191, Total: 17783, Op-Ed 0.18 of total\n"
     ]
    },
    {
     "data": {
      "image/png": "[encoded data removed]",
      "text/plain": [
       "<Figure size 432x288 with 1 Axes>"
      ]
     },
     "metadata": {},
     "output_type": "display_data"
    }
   ],
   "source": [
    "#return new counts, oped counts and total count w/ hist.\n",
    "functions.oped_v_news(df)"
   ]
  },
  {
   "cell_type": "markdown",
   "metadata": {},
   "source": [
    "# X, y"
   ]
  },
  {
   "cell_type": "code",
   "execution_count": 24,
   "metadata": {},
   "outputs": [],
   "source": [
    "#define X. X is currently pandas series of unsplit strings\n",
    "X = df.text"
   ]
  },
  {
   "cell_type": "code",
   "execution_count": 25,
   "metadata": {},
   "outputs": [],
   "source": [
    "#turn series into list...\n",
    "corpus = list(X)"
   ]
  },
  {
   "cell_type": "code",
   "execution_count": 26,
   "metadata": {},
   "outputs": [
    {
     "data": {
      "text/plain": [
       "' as you drew closer to the fifth floor where      works out of a suite of offices things started to loosen up  assistant outside his conference room wore a mask but the other did not  the middle of the room with its oil paintings and vaulted ceiling the long central table had fewer chairs than you might expect and an appropriate distance between them  past the next door inside the attorney generals smaller personal office  himself was also mask-free  around to greet his visitors he moved into the middle of a wide circle of four chairs arranged in front of his desk  nearing the end of his career  did not take his current job for the glory  had already been attorney general once in      administration winning him a reputation as a wise old man a reputation that in the eyes of some his tenure in the  administration has tarnished  is he doing it for the money  time in corporate  earned him tens of millions of dollars in compensation and stock options and his bearing is still that of a  500 counsel cozy manners wrapped around a harder core  said though  had been asked to bring one  tone was jokingly conspiratorial as though he were making an exception for an old friend  is sometimes described as an adjective that also captures his professorial manner  speaking voice is very soft just loud enough to be consistently perceptible his accent is patrician with a trace of old    personality breaks through mostly in frequent moments of humor which range from clubby chuckles to tension-breaking eruptions an aide added  crossed the circle of chairs grinning away any awkwardness  bumped elbows he said in the same joshing tone  greater risk of course was that  might infect him given his cabinet-level access to regular coronavirus testing the difference in our ages  regular meetings with the president and the mostly one-way prophylactic value of masks in general his aide suggested again  took it off   the whole country was doing the same dance   for   and  had recommended that all  wear masks at meetings like this one   was doing something else and so for the time being was the   staff     having been wrong-footed after taking the no-mask custom to the   now seemed to be making it up as he went along  weeks into the global pandemic a charitable observer might still have described the administrations response as improvisational or misguided as opposed to willfully cavalier  things were about to get worse  day  projection of the total   death toll 75 000 to 100 000 which was given the previous evening at the   would be challenged by an internal  document predicting that the number of daily deaths would rise into   reckless faith of the presidents inner circle would be challenged when two members of the   staff tested positive for the coronavirus  and  did not know it then but we were enjoying the tail end of the  administrations libertine phase   27 the official death toll would surpass 100 000 the upper bound of what  predicted on  3  has to assume that  is keeping a close eye on the 70-year-old  right now  powers of the attorney general as the executive branchs rule interpreter and law enforcer peak during moments of social unrest  knows these powers well  led the   through the   riots of 1992 when  invoked the   and deployed thousands of soldiers and    said the   riots were gang activity and not    is a stalwart believer in the righteousness of the police those communities that fail to give the police he said in a  speech  summer  dropped the departments federal case against the   police officer who killed   during an arrest in 2014  role also gives him influence over three major political fronts heading into   there is  fight to open the nations economy which could depend in no small part on  interpretation of federal authority and willingness to twist governors arms  there are the mechanics of the vote itself a topic of great partisan controversy about which the   has shown a growing willingness to weigh in  there is the ongoing investigation led by   the   attorney in  into the origins of the    s  probe in the run-up to the 2016 election the findings of which are widely expected to be announced before   the election now on the horizon  defended his record in two recent interviews  critics charge that since becoming attorney general he has repeatedly steered the   toward decisions that serve  interests particularly around the investigations carried out by the    and     into  influence over the 2016 election  insists that he acts independently even as the president often undermines that claim by tweeting out apparent instructions for what his attorney general ought to do  the time of our first meeting in his office  had already started looking at how the federal government might intervene in state-ordered coronavirus shutdowns   accused  governors of denying citizens their and encouraged residents to   and   zeroed in on the nuts and bolts of the legal case for  two small churches filed lawsuits seeking to hold live services despite state or local regulations the   made filings in support of their   rights  a signed memorandum sent to the departments 93   attorneys  suggested that the federal governments interest went beyond protecting live worship  included  weeks before our interview  bragged that he held authority over the states  went against the prevailing view that the federal government while free to enforce a variety of measures during its own emergencies is more constrained in its authority to compel state or local governments to lift theirs   asked  what  meant he responded by laying out a general view of the presidents pandemic-related powers he said  answer sounded so dry and routine that  failed to ask what he meant by  broadly enough  interpretation could sanitize and legalize  claim to authority  ballots are another domain where  had been staking out turf  called the distribution of ballot applications in  and warned that voting by mail  a second interview on  20 when  asked who was going to referee the 2020 election  replied  said his departments role would be limited as the power belongs to the states and their electors  when  brought up  tweet about  which he posted that same morning  quickly seized the opportunity to float a new theory that foreign governments might conspire to mail in fake ballots he cautioned offering no evidence to substantiate that this was a real possibility  he called it and added  many election-related issues the  of  has to defer to the states  in the case of  investigation of the 2016 investigators or the as  has so often called it  has a greater degree of control  years  has been saying that he was treated unfairly in 2016 particularly at the hands of   then the    director  who is open about his agreement with this premise is now in the process of nailing down the details  wont rule out the possibility that  findings could undermine a key consensus about 2016 the well-established conclusion that  interference sought to favor  a finding of the    of 2017 that was later underscored by  the special counsel and verified by the   intelligence committee   told me was looking for  paused glanced down and fidgeted for a moment with his necktie before going on  seems aware at times that he is gambling with his reputation he said with a matter-of-fact sigh in a  interview last year  we spoke in his office he was critical of what he called  tendency to around himself he said he added  willingness to weather controversy on the presidents behalf has not only caused consternation among some former friends and allies it has given rise to considerable speculation about his motives  would a grandfather in semiretirement who had already reached the pinnacle of his profession sign up for this  wonder if  might still be hungry for influence having been attorney general for only 17 months the first time  wonder whether he spent too much time watching   during the  years and came out the other side an ideologue  there are others who look at  support for  and see more consistency than contradiction  they say hasnt changed his values  he has found in  the perfect vehicle with which to move them forward says   who led the   civil division during  first tour and then succeeded him serving as acting attorney general during the first three months of   presidency  far as what  is hoping to do with his canvas  says he is committed to the and premise that  isnt too far away from what  himself articulated in a 2019 speech at the  of     view piety lay at the heart of the founders model of self-government which depended on religious values to restrain human passions  said  flows from through to form  and experience merely serve to confirm the infallible divine law  law he said is under threat from including who call on the state  their feet  places mental illness drug overdoses violence and suicide  these things he said are getting worse  are  started his career in the    as an analyst working on  and other matters   asked about the origin of his interest in the intelligence service he responded indirectly with an anecdote about telling his high school guidance counselor that he wanted to be    director  was tempting to link  career and conservatism with his father   who served in the  of   the    s forerunner during     1940 as an undergraduate at   wrote a controversial editorial for    defending a speech by the university president that called upon the faculty to support the  war effort he wrote  tempting as it was to see the son as part of some epigenetic chain of old-line conservatism  cautioned me not to make such assumptions  parents met at the  of  in the early 1940s  who already spoke three languages had been sent there by the  to learn   spotted   a young  woman who had a masters degree in  from  through an open doorway teaching  to undergraduates and was smitten  took some courting  thought  was a  told me and his background was also an issue he was raised without much religion but his father  grandfather was born a secular   joining the   gave his religion as    converted to  after he and  wed   26-page    file obtained from the   gives a detailed account of his transition from the military to intelligence work  1944 he shipped off to   suffered from hay fever and 20/200 vision much of his time overseas was spent hospitalized with allergies  next year he was assigned to the     interviewer found him to be  late 1945 he moved to  to begin work at the   and   which would become the   in-house intelligence bureau  the couples second son was born in 1950  age 8 he had taken up the bagpipes which would become a lifelong hobby  attended the    in   where his classmates remembered his conservatism the delight he took in making an argument and his sense of humor  yearbook praised him as an  involvement with campus politics continued at   joined the   which organized against student occupiers who had taken over the campus to protest the    was known as a feeder school for the     average of 14 seniors went to the agency each year from 1960 through 1966 according to a 1967 article from the student newspaper    which reported that a majority came in not through the colleges  of   and  but perhaps a reference to the private foundations and student organizations that were receiving    funding at that time  the late 1960s this recruiting drew campus protests which eventually broadened to take on other issues beyond the war  the morning of  24 1968 student demonstrators many of them affiliated with  for a   stormed    and took over the offices of  president  protesters were angry that  was building a gymnasium nearby that would have two separate entrances one for the school community and one for neighborhood residents and also about the universitys connection with a think tank that did research for the   was on the other side standing shoulder to shoulder with conservatives and athletes to form a blockade around the library he told me  smiled to himself  asked if he was in the fistfight  adjusted the bridge of his glasses and glanced down he said letting out a big laugh  later added  interned at the    in the summers of 1971 and 1972  1973 after completing his graduate degree in government and  studies he married   whom he met at a fraternity party  next day the couple drove to  and  began a permanent job at the    the day after that  mothers memories of the   he said had instilled in him a desire for career stability so he began taking law courses at night  then he had transferred to the    s  of   says   who worked down the hall from  in the general counsels office where  would eventually rise to become the acting head  new job put  on the    s seventh floor not far from the directors office and near the center of what was shaping up to be a historic fight with   the aftermath of    the presidency was endowed with vast new powers mass surveillance covert operations proxy wars and nuclear weapons  young    spurred on by the imperative to win the   abused its own new powers to an astonishing degree  a statutory ban on its involvement in either or the    surveilled and surreptitiously engaged with countless  citizens  agency reported to the president and often took action based on informal conversations without ever committing much to paper  around the agencys transgressions held until the 1970s when antiwar sentiment began to peak  scandals around the   1971 and the  break-in 1972 culminating in the long-anticipated  defeat convinced much of the public that the federal government should no longer be given the benefit of the doubt  1973   the longtime    director ordered the destruction of internal    documents regarding  an experimental mind-control program  later recalled  1974 the journalist   who had already broken the story of the   massacre in  revealed that the    had developed a sprawling domestic-spying operation keeping dossiers on thousands of  citizens  created two special committees a  committee led by    and a  committee that would eventually be led by    to investigate  years the    would be consumed with negotiations over the limits of what  could oversee  told me in his office  asked if there had indeed been excesses  poker face came to life  grinned turned his palms out and shrugged he said  burst out laughing  he pulled back to give the matter some more thought adjusting his glasses as he settled back into seriousness he said  battle between conservative hard-liners and a   would continue through the late    the    there was a sense of victimization   the agencys first presidentially appointed inspector general told me  1976 the job of defending the agency in public passed to the new director     who had served as a special   envoy to   at least one occasion  sat behind  during a congressional hearing giving him legal advice  wound up making oversight a permanent thorn in the    s side by establishing two intelligence oversight committees    drafted two letters each signed by  asking  if the    could resume the routine destruction of documents  request was denied says   now a law professor at the   of  and  at   who dealt with the    as legal counsel of the      than accept post-Watergate congressional limitations the hard-liners decamped from the    and became floaters bureaucratic nomads who sought out underused and low-visibility pockets of the federal government from which to wage their war over executive power  largest battle was fought around the  affair  covert group operating out of the    had used money gained by selling arms to  to fund anti-Communist rebels in   flouting a congressional prohibition  of the operation was organized by     of the     of the  plotters were dragged into the public eye and indicted by a special prosecutor another post-Watergate innovation  pointing to the involvement of    and       was inconclusive  hard-liners felt that foreign policy and covert operations were an exclusively presidential domain is how  first    director   put it in an interview with the political scientist     this time conservative thinkers of  generation began to coalesce around an idea they called  presidents right to his powers under   of the  they argued was undivided and absolute  reforms independent prosecutors to investigate high-level wrongdoing requirements to get warrants for national-security wiretaps and more were unconstitutional incursions into the presidents rightful powers   1977  left the    upon his graduation from      eventually landing as a policy lawyer in the     running for president took  to the 1988    to help vet potential running mates and after winning the election appointed him to lead the    of   where his duties included determining the legal limits of    activities  who was still at the    recalls that  kept his independence from the    of  opinions on classified    operations while a third operation  says was rejected entirely  of  public opinions though effectively authorized the invasion of   as acting attorney general he impressed  further by defusing a delicate prison-hostage crisis  attorney general in 1992  signed off on a mass-surveillance program that collected billions of call records for the     the end of  presidency he successfully pushed for a pardon of six  defendants     a former    director says  reminds him of   the former    lawyer who became     chief of staff and played a major role in pushing the limits of conduct including torture that the   and the    determined to be legal in the aftermath of the  11 attacks   says  intellect and experience made him appealing to the private sector  eight years he served as general counsel at  at a time when the company was working out secret arrangements with the    to turn over its customers data   2001 a legal trade publication noted  1 5 million salary and compared him to a for the depth of his connections in both political  and corporate    that time he said he had no interest in returning to officialdom he said  the 2016 presidential election  was a player in  politics and active in conservative  causes  gave nearly 50 000 to a  affiliated with    annual holiday parties traditional  cèilidhs with music and singers drew hundreds whose friendships he had maintained over the years  wrote and sold a screenplay about     spent time traveling abroad and hunting birds  three daughters all became accomplished lawyers working on   or as federal prosecutors  eldest  moved to the   financial-crimes unit after  nomination as attorney general one of  sons-in-law left the   for the      year shortly after his   speech  gave a second major address at the annual convention of the   an organization of conservative lawyers founded during the  administration  subject was executive power   criticized progressives this time for making politics  presidency in his view handled  of the core function of the presidency was the ability to act swiftly and without constraint but this capability had been diminished by the other branches since   had burdened the president with oversight while the courts were interfering with  travel ban on certain countries and his termination of     program for young immigrants  seemed to suggest that when it comes to foreign policy the only legitimate check on presidential behavior is the next election  later this argument would become the foundation of  impeachment defense   5 2018  attended     funeral  waiting in line for the shuttle bus that would take him to    he and his wife ran into a friend    who was    counsel during the  years  two men spent most of the day together  sounded out  about the attorney-general job  knew from following the news that  was under consideration but  never tipped his hand about how close he was to being tapped and  never asked  that week when  announced  nomination  was not surprised under   says  the time of his nomination  supporters presented him as a trustworthy and sensible conservative a known quantity within the  establishment who would restrain  worst impulses   called him   a legal commentator who is now one of  harshest critics tweeted at the time that he had been under  and that his confirmation would be  the confirmation hearing    of  the ranking  on the   questioned  at length about a memorandum he wrote to the administration the previous summer outlining why he believed that  had no legal right to investigate  for obstruction of justice  president  argued has investigations and can on individual cases including those that touch on his political or financial interests  wrote  enforcement he argued was a power exclusively held by the president because  the hearing  seemed to say that he did not believe the unitary executives powers to be infinite     a   asked if it would be lawful for a president to trade a pardon for a promise not to incriminate him  answered that such an exchange would be a crime  also mentioned his long friendship with   wife attends the same  study as  wife  attended the weddings of two of  daughters  was confirmed by a vote of 54 to 45  had barely served one month as attorney general when his friendship with  was tested by the special prosecutors delivery of his report on the afternoon of   22   account then went dark for nearly 40 hours    sent a letter to  that he would later describe as giving  and  feed came back to life he tweeted  his first public comments that same day  said the words three times he added  tweet  letter and  report said three different things   nor  exonerated   quoted  own words that his complicated finding on obstruction the president   omitted  conclusions that  interference sought to favor  that  and his campaign welcomed the interference and believed they would benefit from it and that the and between  and the campaign were substantial even though the evidence  was able to gather fell short of a criminal conspiracy  fired off two letters complaining that  had misrepresented his work  the second letter dated  27 he asked  to immediately release the reports introductions and executive summaries  the public would not get to read  work until  18 when  released a redacted version of the full report  doing so  gave a news conference in which he tilted further toward declaring  innocent something  bent over backward not to do  said of   distortions drew wide criticism  were also frustrated by the reports content  lacked the thunderous revelations about  that had long been promised by  opponents and it suffered from legalistic inconclusiveness on the most fundamental questions  having been given a chance to put the 2016 election to bed for good had carefully avoided doing so  hopes for the promised collusion bombshell now turned to the unredacted version of the  report which  refused to give them  an echo of his    work during the   years the    has taken a very hard line regarding what information  and the courts are entitled to get from the    has fought in court against the release of  tax returns argued that  did not need to see the  whistle-blowers complaint because it was not a matter of and has challenged congressional requests for  secret grand-jury materials   refused to turn over the fully unredacted  report to the    citing executive privilege the committee voted to hold him in contempt   chairman    of   claimed that this was the beginning of a  seemed untroubled he reportedly quipped to   at an event a few days later  concerns about  handling of  investigation have not been confined to      of the     for the  of  a    appointee recently criticized  and questioned whether  his first meeting with   in 2017  later recalled in his confirmation hearing he told  that  the end he was half right  said in one of our interviews  would have been  2019 more than a year ago  continued  asked if they still saw each other at  study  replied  general are chosen by the president no law prohibits them from doing the presidents bidding  presidents have occasionally asked the attorney general to intervene in individual prosecutions       attorney general went much further helping to plan the  burglary and then working to cover it up  the   guidelines do enjoin prosecutors not to comment about ongoing investigations something  does regularly  also caution that legal judgments and that the department must respect   of this has stopped  from overruling his subordinates to the benefit of  friends and associates most notably    longtime political mentor and   his former national security adviser  both cases  has tweeted about what he sees as the unfairness of their legal troubles and the   has subsequently pushed for leniency  has repeatedly said that  has never asked him to do anything in a criminal case he said in an interview with    the departments interventions on behalf of  and  have raised questions about the supposed  firewall   who led the  of   under    told   in   has said he doesnt pay attention to  tweets and doesnt take seriously the ones he is made aware of says   friend and former colleague   the former head of  civil rights division at the department articulated a prevailing view of  among  telling me that the attorney general has  says  interventions on behalf of  associates have far-reaching consequences she says   prosecutors recommended that  be sentenced to seven to nine years in prison for witness tampering and other crimes  following day the   filed a second revised sentencing memo asking that  sentence be reduced  to 108 months the memo argued given   the same day the department revised its sentencing recommendation all four of the prosecutors responsible for the case announced their withdrawal    left the department entirely  wrote later in an op-ed in       said the  prosecutors  tweeted out congratulations to  for  pushed back in the  interview insisting that he reached the  decision independently he said adding  post-Mueller case that has arguably received the most attention among  supporters is that of  the lieutenant general who briefly served as  national security adviser  dueling narratives around the  transition crystallize around  and the question of whether he or those who investigated him were in the wrong  addition to drawing scrutiny for his  contacts  initially failed to report as legally required that his company was effectively on the payroll of the  government during the 2016 campaign  himself tried and failed to talk  into dropping him  of  own problems hinged on his asking  if he could to dropping the  investigation  adversaries consider  to be a loose cannon and possible  pawn who needed to be rooted out  supporters depict him as the second coming of   a good soldier who was martyred in public for his loyalty to the executive   4 the day of my first interview with   was still awaiting sentencing having pleaded guilty to lying to the     time to time  had been tweeting about the  case in ways that seemed to cross the line that  had drawn about public comments from the   about matters pending before the    said  had been victimized by the as   asked  in light of his statement on   whether these were the kind of tweets that made his job  said  had recently been tweeting about   said  replied  asked if he would like to see them  said  handed  a printout of an  29  tweet  read  said with cool indifference  asked how it was that  supposed antagonists could be punished without involvement from the department  asked referring to the particular case that was now before     had found the right hair to split and he split it so cleanly and decisively that  couldnt say this wasnt his position from the beginning  tweet  said was nothing new  he said  days later on the afternoon of  7 the   filed a motion to dismiss its own prosecution of   government argued that  false statements were not to the investigation of  because the investigation was itself unjustified  argument relied in part on the contents of handwritten    notes that had been turned over to  attorneys by the department and released to the public by mutual agreement  of the prosecutors assigned to the case immediately withdrew  few days later  decided he wouldnt rule on whether to accept the departments motion until he had heard from friends of the court and a special counsel  lawyers appealed asking a higher court to force the judges hand  the department took  side  took to  celebrating  definitive  11  history of the 2016 election remains unwritten though not for lack of trying  addition to the  report and voluminous criminal indictments we have the    the  report by the   inspector general   and four volumes of the  intelligence committees report a fifth volume of which is on the way  major episodes of the story may now seem like familiar terrain to those who have kept up and a hopeless mess to everyone else  zoom out a bit and the stakes could not be higher  of  critics like    of  the  chairman of the    and    director of national intelligence go further than saying that the  put a thumb on the scale for   have suggested that the extra boost was decisive that  would not have been elected in 2016 but for  interference  crucial legacy of 2016 is that the question of  legitimacy was never settled  without any consensus on what happened in 2016 the rules of the road for 2020 are up in the air  first armed with the powers of law enforcement and presidential access to classified material  is getting ready to roll out his account of 2016   promises he most likely has in mind the ongoing investigation by   and its long-expected report although it is also possible that  public work product will take the form of indictments or perhaps nothing at all  who assigned  the task of investigating the  probe in  last year and met with him several times immediately after the conclusion of  investigation is overseeing  work and briefs  on his findings regularly  on  public statements we can see the rough contours of  findings beginning to take shape  governments conduct during the  transition  has said was  of  campaign amounted to  there was the all-important question of whether the    was justified in opening the initial   investigation into the  campaigns  ties  ordinary circumstances   prosecutors do not comment on anything connected to an ongoing investigation but on the day that  released his report both  and  decided to do just that     s interest in   said was based and  said in his own statement  had found that the investigation was justified so these sounded like sweeping words of dissent  over the coming months as attention drifted elsewhere they shrank  the time  sat down with  the only dispute with  hed voiced was whether the    had enough evidence to open a full investigation  and  believe that there was only enough to open a preliminary investigation not a full one  our first interview  mentioned the dossier of salacious anti-Trump claims that had been gathered and circulated by   a former  intelligence agent who was working indirectly for the  campaign  possibility that the  government intentionally seeded the dossier with misinformation was one of the issues  ignored and  was looking at  said  had  gone back and looked at the investigative steps taken as   accelerated he continued  had done that but unlike  and  he had no access to the    the    and the foreign governments that were involved  facilitate what later became a criminal investigation  ordered the heads of the intelligence agencies to cooperate with   delegated to  the power to order the declassification of secret documents  has spoken with intelligence officials from   and  to reportedly solicit information that could help   the case of  where  and  met with political leaders and intelligence chiefs in person his visit provoked concern among   diplomats who told   that  circumvented protocols in setting up the trip    of  who is the ranking  on the   and helped write its five-volume report said there were about  trips he said   a former colleague of  from the     years said he thought  could come back with something more  investigation he told me  investigation is not the only means through which  decisions could affect the election  the    wants to open a criminal investigation into either campaign it will first need  personal approval  has established a special to deal with materials that    says he has obtained from  sources which  has claimed implicate   the presumptive  presidential nominee  the interview  did not dispute the notion that the  government had interfered in 2016 but he made it sound as though the assumption that it favored  would be coming under some pressure  also would expect  to play a role in deterring and punishing foreign interference in the 2020 election but that could get complicated  camp continues to deny the intelligence communitys consensus view one strongly reiterated by  and the  intelligence committee that the  favored  over    including  on the    claim to have unreleased evidence that points the other way  on what  told me  intentions will most likely emerge as the key retrospective battlegrounds as  work continues and the election draws closer  said  what  did not address directly was the fourth volume of the report from the  intelligence committee  report reviewed much of the same intelligence underlying the     affirmed that  pro-Trump position and     direct involvement were supported by     s disagreement was  the committees groundbreaking 2012   the fourth volume was unanimously approved by a bipartisan vote of the  committee said    a  from   and the chairman of the committee  for his part dismissed  investigation as he told me  brought up the  investigation again in my last interview with  on  20  fifth floor of   headquarters now felt different some older lawyerly looking men walking around wore masks  younger men in suits with lapel pins who were most likely security did not  himself still wore no mask but there were no more polite entreaties for visitors to take theirs off  could see two crumpled blue surgical masks lying amid the papers on  desk  disarming familiarity  sat down on a sofa and offered me my in a tufted leather chair  then  had seized on the meme accusing the former president and  of  asked what crime he thought they were guilty of  declined to answer  a news conference two days before  went to see him  was asked indirectly if  investigation might lead to criminal charges being filed against  or  he said  that same day  asked about  statement replied  went on  then said he had that  and  were in what he now called a  to whether or not it was criminal he said   office two days later  brought up how  seemed to have heard only what he wanted to hear that  prediction about not prosecuting the former president was only valid  said  shouldnt read too much into those words he said  he realized it or not the line  had drawn at the news conference was getting blurrier with every word just as  had hoped  went on  pulled back from the conversation and thought for a moment  keeping tabs on  investigation for more than a year  did not think it was likely that he would have to prosecute a former president  neither at that moment was he willing to rule it out  made this position sound reasonable even as it served to support the unsupported theory that the president was floating at the time  the end the substance of  findings might not matter  he turns up will become a major theme of  2020 campaign the less time there is before an election the greater political impact of even the smallest apparent revelation   needed from  was the glimmer of a possibility a slight shadow of official uncertainty in which his wild theories could flourish  for now  was giving him that  much more he would give the president before  it was hard to say'"
      ]
     },
     "execution_count": 26,
     "metadata": {},
     "output_type": "execute_result"
    }
   ],
   "source": [
    "corpus[0]"
   ]
  },
  {
   "cell_type": "code",
   "execution_count": 27,
   "metadata": {},
   "outputs": [],
   "source": [
    "# define y as a series of op-ed or news\n",
    "y = df.type_of_material"
   ]
  },
  {
   "cell_type": "code",
   "execution_count": 28,
   "metadata": {},
   "outputs": [
    {
     "data": {
      "text/plain": [
       "News     14592\n",
       "Op-Ed     3191\n",
       "Name: type_of_material, dtype: int64"
      ]
     },
     "execution_count": 28,
     "metadata": {},
     "output_type": "execute_result"
    }
   ],
   "source": [
    "y.value_counts()"
   ]
  },
  {
   "cell_type": "code",
   "execution_count": 29,
   "metadata": {},
   "outputs": [],
   "source": [
    "y = functions.vectorize_y_ser(y)"
   ]
  },
  {
   "cell_type": "code",
   "execution_count": 31,
   "metadata": {},
   "outputs": [
    {
     "data": {
      "text/plain": [
       "0"
      ]
     },
     "execution_count": 31,
     "metadata": {},
     "output_type": "execute_result"
    }
   ],
   "source": [
    "y[0]"
   ]
  },
  {
   "cell_type": "markdown",
   "metadata": {},
   "source": [
    "# remove stop words"
   ]
  },
  {
   "cell_type": "markdown",
   "metadata": {},
   "source": [
    "# stemming/lemmatization"
   ]
  },
  {
   "cell_type": "code",
   "execution_count": 32,
   "metadata": {},
   "outputs": [],
   "source": [
    "snowball = SnowballStemmer('english')\n",
    "wordnet = WordNetLemmatizer()"
   ]
  },
  {
   "cell_type": "code",
   "execution_count": 33,
   "metadata": {},
   "outputs": [],
   "source": [
    "# %%time\n",
    "# def snowball_tokenize(doc):\n",
    "#     snowball = SnowballStemmer('english')\n",
    "#     return [snowball.stem(word) for word in word_tokenize(doc.lower())]"
   ]
  },
  {
   "cell_type": "code",
   "execution_count": 34,
   "metadata": {},
   "outputs": [
    {
     "name": "stdout",
     "output_type": "stream",
     "text": [
      "CPU times: user 3 µs, sys: 0 ns, total: 3 µs\n",
      "Wall time: 7.15 µs\n"
     ]
    }
   ],
   "source": [
    "%%time\n",
    "def wordnet_tokenize(doc):\n",
    "    wordnet = WordNetLemmatizer()\n",
    "    return  [wordnet.lemmatize(word) for word in word_tokenize(doc.lower())]"
   ]
  },
  {
   "cell_type": "code",
   "execution_count": 35,
   "metadata": {},
   "outputs": [
    {
     "name": "stdout",
     "output_type": "stream",
     "text": [
      "['a', 'you', 'drew', 'closer', 'to', 'the', 'fifth', 'floor', 'where', 'work', 'out', 'of', 'a', 'suite', 'of', 'office', 'thing', 'started', 'to', 'loosen', 'up', 'assistant', 'outside', 'his', 'conference', 'room', 'wore', 'a', 'mask', 'but', 'the', 'other', 'did', 'not', 'the', 'middle', 'of', 'the', 'room', 'with', 'it', 'oil', 'painting', 'and', 'vaulted', 'ceiling', 'the', 'long', 'central', 'table']\n"
     ]
    }
   ],
   "source": [
    "print(wordnet_tokenize(corpus[0])[:50])"
   ]
  },
  {
   "cell_type": "markdown",
   "metadata": {},
   "source": [
    "# vectorizer"
   ]
  },
  {
   "cell_type": "markdown",
   "metadata": {},
   "source": [
    "# WORDNET tfidf"
   ]
  },
  {
   "cell_type": "code",
   "execution_count": 36,
   "metadata": {},
   "outputs": [],
   "source": [
    "import string"
   ]
  },
  {
   "cell_type": "code",
   "execution_count": 37,
   "metadata": {},
   "outputs": [],
   "source": [
    "# nytimes_quotes = \"”“\"\n",
    "# nytimes_punctuation = \"—’\""
   ]
  },
  {
   "cell_type": "code",
   "execution_count": 38,
   "metadata": {},
   "outputs": [],
   "source": [
    "setb = ['see', 'all', 'much', 'if', 'many', 'former', 'chief', 'spokesman', 'said']"
   ]
  },
  {
   "cell_type": "code",
   "execution_count": 39,
   "metadata": {},
   "outputs": [],
   "source": [
    "alphabet = ['a','b','c','d','e','f','g','h','i','j','k','l','m','n','o','p','q','r','s','t','u','v','w','x','y','z']"
   ]
  },
  {
   "cell_type": "code",
   "execution_count": 40,
   "metadata": {},
   "outputs": [],
   "source": [
    "stop_words = alphabet  + setb"
   ]
  },
  {
   "cell_type": "code",
   "execution_count": 41,
   "metadata": {},
   "outputs": [
    {
     "name": "stdout",
     "output_type": "stream",
     "text": [
      "CPU times: user 34 µs, sys: 0 ns, total: 34 µs\n",
      "Wall time: 37 µs\n"
     ]
    }
   ],
   "source": [
    "%%time\n",
    "#create vectorizer\n",
    "\n",
    "vectorizer = TfidfVectorizer(#input='content', \n",
    "#                 encoding='utf-8', \n",
    "#                 decode_error='strict', \n",
    "#                 strip_accents='ascii', \n",
    "#                 lowercase=True, \n",
    "                 preprocessor=functions.punc_strip, \n",
    "                 tokenizer=functions.wordnet_tokenize, \n",
    "#                 analyzer='word', \n",
    "                 stop_words=stop_words,\n",
    "#                 token_pattern='(?u)\\b\\w\\w+\\b', \n",
    "                 ngram_range=(1, 1), \n",
    "                 max_df=0.9, \n",
    "                 min_df=0.06, \n",
    "                 max_features=None, \n",
    "#                 vocabulary=None, \n",
    "#                 binary=False, \n",
    "#                 dtype=<class 'numpy.float64'>, \n",
    "#                 norm='l2', \n",
    "#                 use_idf=True, \n",
    "#                 smooth_idf=True, \n",
    "#                 sublinear_tf=False\n",
    ")"
   ]
  },
  {
   "cell_type": "markdown",
   "metadata": {},
   "source": [
    "# test, train, split"
   ]
  },
  {
   "cell_type": "code",
   "execution_count": 42,
   "metadata": {},
   "outputs": [],
   "source": [
    "#test, train, split"
   ]
  },
  {
   "cell_type": "code",
   "execution_count": 43,
   "metadata": {},
   "outputs": [
    {
     "name": "stdout",
     "output_type": "stream",
     "text": [
      "(13337,) (4446,) (13337,) (4446,)\n",
      "CPU times: user 2min 15s, sys: 822 ms, total: 2min 16s\n",
      "Wall time: 2min 17s\n"
     ]
    }
   ],
   "source": [
    "%%time\n",
    "print(datetime.datetime.now())\n",
    "#test, train, split\n",
    "X_train, X_test, y_train, y_test = train_test_split(X, y, random_state=50)\n",
    "print(X_train.shape, X_test.shape, y_train.shape, y_test.shape)\n",
    "\n",
    "X_train = vectorizer.fit_transform(X_train)\n",
    "\n",
    "X_test = vectorizer.transform(X_test)"
   ]
  },
  {
   "cell_type": "code",
   "execution_count": 44,
   "metadata": {},
   "outputs": [
    {
     "data": {
      "text/plain": [
       "(13337, 1190)"
      ]
     },
     "execution_count": 44,
     "metadata": {},
     "output_type": "execute_result"
    }
   ],
   "source": [
    "X_train.shape"
   ]
  },
  {
   "cell_type": "code",
   "execution_count": 45,
   "metadata": {},
   "outputs": [
    {
     "data": {
      "text/plain": [
       "(4446, 1190)"
      ]
     },
     "execution_count": 45,
     "metadata": {},
     "output_type": "execute_result"
    }
   ],
   "source": [
    "X_test.shape"
   ]
  },
  {
   "cell_type": "code",
   "execution_count": 46,
   "metadata": {},
   "outputs": [
    {
     "data": {
      "text/plain": [
       "0"
      ]
     },
     "execution_count": 46,
     "metadata": {},
     "output_type": "execute_result"
    }
   ],
   "source": [
    "y_test[0]"
   ]
  },
  {
   "cell_type": "markdown",
   "metadata": {},
   "source": [
    "# count vectorizer"
   ]
  },
  {
   "cell_type": "code",
   "execution_count": 43,
   "metadata": {},
   "outputs": [],
   "source": [
    "# count_vectorizer = CountVectorizer(strip_accents='None',\n",
    "#                                    lowercase=True,\n",
    "#                                    tokenizer=snowball_tokenize,\n",
    "#                                    stop_words='english',\n",
    "#                                    max_features=None)"
   ]
  },
  {
   "cell_type": "markdown",
   "metadata": {},
   "source": [
    "# balance classes"
   ]
  },
  {
   "cell_type": "code",
   "execution_count": 47,
   "metadata": {},
   "outputs": [
    {
     "name": "stdout",
     "output_type": "stream",
     "text": [
      "[(0, 2370), (1, 2370)]\n",
      "RandomUnderSampler(random_state=0)\n",
      "CPU times: user 11.2 ms, sys: 3.62 ms, total: 14.9 ms\n",
      "Wall time: 13.5 ms\n"
     ]
    }
   ],
   "source": [
    "%%time\n",
    "#balance the classes\n",
    "\n",
    "from imblearn.under_sampling import RandomUnderSampler\n",
    "rus = RandomUnderSampler(random_state=0)\n",
    "\n",
    "#X, y --> X_resampled, y_resampled\n",
    "X_resampled, y_resampled = rus.fit_resample(X_train, y_train)\n",
    "print(sorted(Counter(y_resampled).items()))\n",
    "print(rus)"
   ]
  },
  {
   "cell_type": "markdown",
   "metadata": {},
   "source": [
    "# random forest classifier"
   ]
  },
  {
   "cell_type": "code",
   "execution_count": 48,
   "metadata": {},
   "outputs": [
    {
     "name": "stdout",
     "output_type": "stream",
     "text": [
      "2021-04-08 13:16:56.527026\n",
      "CPU times: user 232 µs, sys: 82 µs, total: 314 µs\n",
      "Wall time: 268 µs\n"
     ]
    }
   ],
   "source": [
    "%%time\n",
    "print(datetime.datetime.now())\n",
    "rf_clf = RandomForestClassifier(max_depth=2, random_state=0)"
   ]
  },
  {
   "cell_type": "code",
   "execution_count": 49,
   "metadata": {},
   "outputs": [
    {
     "data": {
      "text/plain": [
       "(4446,)"
      ]
     },
     "execution_count": 49,
     "metadata": {},
     "output_type": "execute_result"
    }
   ],
   "source": [
    "rf_clf.fit(X_resampled, y_resampled)\n",
    "y_pred = rf_clf.predict(X_test)\n",
    "y_pred.shape"
   ]
  },
  {
   "cell_type": "markdown",
   "metadata": {},
   "source": [
    "### metrics y_pred"
   ]
  },
  {
   "cell_type": "code",
   "execution_count": 47,
   "metadata": {},
   "outputs": [],
   "source": [
    "tn, fp, fn, tp = confusion_matrix(y_true = y_test, y_pred = y_pred).ravel()"
   ]
  },
  {
   "cell_type": "code",
   "execution_count": 48,
   "metadata": {},
   "outputs": [
    {
     "name": "stdout",
     "output_type": "stream",
     "text": [
      "(4446,)\n",
      "(4446,)\n"
     ]
    }
   ],
   "source": [
    "print(y_test.shape)\n",
    "print(y_pred.shape)"
   ]
  },
  {
   "cell_type": "code",
   "execution_count": 49,
   "metadata": {},
   "outputs": [
    {
     "name": "stdout",
     "output_type": "stream",
     "text": [
      "Accuracy: 0.93\n",
      "Recall: 0.92\n",
      "Precision: 0.76\n",
      "TN:3386 FP:239 FN:69 TP:752\n"
     ]
    }
   ],
   "source": [
    "functions.metrics_(tn, fp, fn, tp)"
   ]
  },
  {
   "cell_type": "code",
   "execution_count": 50,
   "metadata": {},
   "outputs": [
    {
     "data": {
      "text/plain": [
       "<sklearn.metrics._plot.confusion_matrix.ConfusionMatrixDisplay at 0x7fb8b4b4b850>"
      ]
     },
     "execution_count": 50,
     "metadata": {},
     "output_type": "execute_result"
    },
    {
     "data": {
      "image/png": "[encoded data removed]",
      "text/plain": [
       "<Figure size 432x288 with 2 Axes>"
      ]
     },
     "metadata": {},
     "output_type": "display_data"
    }
   ],
   "source": [
    "class_names = [\"News\", \"Op-Ed\"]\n",
    "plot_confusion_matrix(estimator=rf_clf,\n",
    "                      X=X_test,\n",
    "                      y_true=y_test,\n",
    "                      display_labels=class_names,\n",
    "                      cmap='cividis')\n",
    "#plt.savefig('img/confusion_matrix.png');"
   ]
  },
  {
   "cell_type": "markdown",
   "metadata": {},
   "source": [
    "# vectorizer parameters"
   ]
  },
  {
   "cell_type": "code",
   "execution_count": 51,
   "metadata": {},
   "outputs": [
    {
     "name": "stdout",
     "output_type": "stream",
     "text": [
      "Number of features: 1190, Numbers of stop words: 54973\n",
      "analyzer: word\n",
      "binary: False\n",
      "decode_error: strict\n",
      "dtype: <class 'numpy.float64'>\n",
      "encoding: utf-8\n",
      "input: content\n",
      "lowercase: True\n",
      "max_df: 0.9\n",
      "max_features: None\n",
      "min_df: 0.06\n",
      "ngram_range: (1, 1)\n",
      "norm: l2\n",
      "preprocessor: <function punc_strip at 0x7fb8c5c38440>\n",
      "smooth_idf: True\n",
      "stop_words: ['a', 'b', 'c', 'd', 'e', 'f', 'g', 'h', 'i', 'j', 'k', 'l', 'm', 'n', 'o', 'p', 'q', 'r', 's', 't', 'u', 'v', 'w', 'x', 'y', 'z', 'see', 'all', 'much', 'if', 'many', 'former', 'chief', 'spokesman', 'said']\n",
      "strip_accents: None\n",
      "sublinear_tf: False\n",
      "token_pattern: (?u)\\b\\w\\w+\\b\n",
      "tokenizer: <function wordnet_tokenize at 0x7fb8c5c384d0>\n",
      "use_idf: True\n",
      "vocabulary: None\n"
     ]
    }
   ],
   "source": [
    "#return parameters of tfdif vectorizer.\n",
    "functions.print_vector_params(vectorizer)"
   ]
  },
  {
   "cell_type": "markdown",
   "metadata": {},
   "source": [
    "# important features"
   ]
  },
  {
   "cell_type": "markdown",
   "metadata": {},
   "source": [
    "### feature imporance"
   ]
  },
  {
   "cell_type": "code",
   "execution_count": 52,
   "metadata": {
    "scrolled": true
   },
   "outputs": [
    {
     "name": "stdout",
     "output_type": "stream",
     "text": [
      "2021-04-08 13:01:12.197164\n",
      "CPU times: user 207 ms, sys: 8.87 ms, total: 216 ms\n",
      "Wall time: 216 ms\n"
     ]
    },
    {
     "data": {
      "image/png": "[encoded data removed]",
      "text/plain": [
       "<Figure size 1440x1080 with 1 Axes>"
      ]
     },
     "metadata": {},
     "output_type": "display_data"
    }
   ],
   "source": [
    "%%time\n",
    "print(datetime.datetime.now())\n",
    "\n",
    "feat_names = vectorizer.get_feature_names()\n",
    "feature_import = rf_clf.feature_importances_\n",
    "\n",
    "feat_scores = pd.Series(feature_import, index=feat_names)\n",
    "feat_scores = feat_scores.sort_values()\n",
    "ax = feat_scores[-30:].plot(kind='barh', figsize=(20,15))\n",
    "ax.set_title('\"Decrease in Impurity\" Importance')\n",
    "#ax.set_xlabel('Average contribution to the reduction in variance')\n",
    "plt.rcParams.update({'font.size': 40})\n",
    "plt.savefig('img/feature_imporance.png');"
   ]
  },
  {
   "cell_type": "code",
   "execution_count": 53,
   "metadata": {
    "scrolled": true
   },
   "outputs": [
    {
     "data": {
      "text/plain": [
       "Index(['host', 'almost', 'secretary', 'plan', 'doubt', 'payment', 'recalled',\n",
       "       'appeared', 'put', 'professor', 'initially', 'meeting', 'criticism',\n",
       "       'earlier', 'expected', 'always', 'billion', 'whether', 'adding',\n",
       "       'after', 'going', 'go', 'course', 'hard', 'including', 'but', 'may',\n",
       "       'everything', 'scheduled', 'what', 'no', 'got', 'lawmaker', 'never',\n",
       "       'mean', 'like', 'life', 'seem', 'right', 'want', 'fact', 'too',\n",
       "       'according', 'senior', 'make', 'be', 'really', 'understand', 'bad',\n",
       "       'should', 'something', 'director', 'true', 'even', 'why', 'today',\n",
       "       'real', 'request', 'now', 'several', 'do', 'statement', 'thats',\n",
       "       'interview', 'need', 'man', 'look', 'way', 'month', 'good', 'isnt',\n",
       "       'are', 'added', 'our', 'lot', 'every', 'people', 'just', 'this', 'know',\n",
       "       'cant', 'my', 'your', 'comment', 'didnt', 'get', 'very', 'doesnt',\n",
       "       'dont', 'think', 'so', 'can', 'had', 'me', 'these', 'declined',\n",
       "       'official', 'thing', 'we', 'you'],\n",
       "      dtype='object')"
      ]
     },
     "execution_count": 53,
     "metadata": {},
     "output_type": "execute_result"
    }
   ],
   "source": [
    "feat_scores[-100:].index"
   ]
  },
  {
   "cell_type": "code",
   "execution_count": 54,
   "metadata": {},
   "outputs": [],
   "source": [
    "count_df = df[['text', 'type_of_material']]\n",
    "oped = count_df[count_df['type_of_material'] == \"Op-Ed\"]\n",
    "news = count_df[count_df['type_of_material'] == \"News\"]"
   ]
  },
  {
   "cell_type": "code",
   "execution_count": 55,
   "metadata": {},
   "outputs": [
    {
     "name": "stdout",
     "output_type": "stream",
     "text": [
      "(3191, 2)\n",
      "(14592, 2)\n"
     ]
    }
   ],
   "source": [
    "print(oped.shape)\n",
    "print(news.shape)"
   ]
  },
  {
   "cell_type": "code",
   "execution_count": 56,
   "metadata": {},
   "outputs": [
    {
     "name": "stdout",
     "output_type": "stream",
     "text": [
      "14006924\n"
     ]
    }
   ],
   "source": [
    "oped_string = oped.text.str.cat(sep = \" \")\n",
    "num_oped_string = len(oped_string)\n",
    "print(num_oped_string)"
   ]
  },
  {
   "cell_type": "code",
   "execution_count": 57,
   "metadata": {},
   "outputs": [
    {
     "name": "stdout",
     "output_type": "stream",
     "text": [
      "71931567\n"
     ]
    }
   ],
   "source": [
    "news_string = news.text.str.cat(sep = \" \")\n",
    "num_news_string = len(news_string)\n",
    "print(num_news_string)"
   ]
  },
  {
   "cell_type": "markdown",
   "metadata": {},
   "source": [
    "# counting"
   ]
  },
  {
   "cell_type": "code",
   "execution_count": 58,
   "metadata": {},
   "outputs": [],
   "source": [
    "top_feat = feat_scores[-100:].index"
   ]
  },
  {
   "cell_type": "code",
   "execution_count": 59,
   "metadata": {},
   "outputs": [
    {
     "name": "stdout",
     "output_type": "stream",
     "text": [
      "CPU times: user 15.6 s, sys: 46.8 ms, total: 15.7 s\n",
      "Wall time: 15.7 s\n"
     ]
    },
    {
     "data": {
      "text/plain": [
       "dict_items([('these', 2597), ('including', 1171), ('what', 5203), ('very', 1609), ('dont', 2061), ('think', 1828), ('we', 6856), ('know', 2024), ('get', 2524), ('people', 6501), ('this', 9884), ('going', 1540), ('so', 4837), ('good', 1782), ('had', 5921), ('really', 1152), ('thing', 1146), ('you', 5045), ('are', 13368), ('after', 2586), ('make', 2556), ('be', 13938), ('why', 1378), ('even', 4507), ('fact', 1340), ('should', 3214), ('no', 4281), ('now', 3712), ('do', 3941), ('put', 1311), ('life', 1211), ('man', 1253), ('isnt', 1247), ('cant', 1085), ('your', 1388), ('can', 4943), ('but', 7814), ('want', 1631), ('way', 3001), ('course', 1084), ('adding', 143), ('just', 4147), ('too', 2054), ('my', 2675), ('our', 5693), ('understand', 613), ('like', 5265), ('seem', 830), ('never', 1647), ('expected', 251), ('me', 2416), ('true', 870), ('statement', 276), ('request', 76), ('right', 2319), ('may', 2480), ('whether', 1275), ('secretary', 581), ('several', 444), ('doubt', 300), ('need', 1805), ('according', 520), ('look', 993), ('something', 1327), ('thats', 1028), ('everything', 616), ('almost', 970), ('mean', 592), ('go', 1325), ('always', 1081), ('got', 906), ('real', 1132), ('doesnt', 1434), ('didnt', 1436), ('every', 1662), ('added', 378), ('plan', 859), ('today', 686), ('hard', 952), ('host', 134), ('bad', 826), ('lot', 956), ('director', 408), ('month', 606), ('official', 385), ('billion', 472), ('appeared', 193), ('professor', 184), ('earlier', 235), ('criticism', 137), ('comment', 80), ('senior', 243), ('declined', 103), ('initially', 81), ('meeting', 382), ('interview', 330), ('scheduled', 49), ('recalled', 91), ('lawmaker', 28), ('payment', 32)])"
      ]
     },
     "execution_count": 59,
     "metadata": {},
     "output_type": "execute_result"
    }
   ],
   "source": [
    "%%time\n",
    "#count top words in oped_string\n",
    "oped_list = [word for word in oped_string.split() if word in list(top_feat)]\n",
    "oped_ed_counter = Counter(oped_list)\n",
    "oped_ed_counter.items()"
   ]
  },
  {
   "cell_type": "code",
   "execution_count": 60,
   "metadata": {},
   "outputs": [
    {
     "name": "stdout",
     "output_type": "stream",
     "text": [
      "CPU times: user 1min 19s, sys: 203 ms, total: 1min 19s\n",
      "Wall time: 1min 19s\n"
     ]
    },
    {
     "data": {
      "text/plain": [
       "dict_items([('you', 3496), ('but', 27157), ('had', 60883), ('man', 2268), ('very', 2090), ('just', 7993), ('be', 47790), ('added', 7862), ('course', 1952), ('our', 1572), ('like', 16433), ('this', 20804), ('something', 2268), ('so', 10813), ('after', 25148), ('now', 10924), ('get', 4913), ('know', 2205), ('we', 1892), ('official', 7315), ('what', 14553), ('right', 3205), ('these', 3230), ('no', 12918), ('are', 40104), ('expected', 4506), ('even', 13439), ('do', 8013), ('meeting', 7123), ('interview', 7566), ('going', 2328), ('real', 2192), ('director', 8102), ('me', 1809), ('whether', 10850), ('too', 4661), ('look', 1740), ('isnt', 491), ('including', 14821), ('make', 8218), ('according', 12355), ('think', 1996), ('put', 4805), ('should', 6859), ('doubt', 875), ('recalled', 1334), ('life', 2161), ('request', 2869), ('professor', 2589), ('never', 4109), ('why', 2270), ('can', 9545), ('month', 8549), ('criticism', 2663), ('good', 2101), ('hard', 1876), ('need', 3552), ('plan', 6321), ('comment', 3991), ('doesnt', 749), ('adding', 3116), ('initially', 1335), ('my', 1200), ('statement', 8137), ('way', 6302), ('may', 7857), ('seem', 1218), ('go', 3651), ('several', 6966), ('declined', 3963), ('every', 2938), ('senior', 6258), ('bad', 770), ('thing', 886), ('almost', 2759), ('always', 1572), ('fact', 2430), ('people', 19359), ('appeared', 3898), ('earlier', 3493), ('host', 1411), ('scheduled', 1764), ('true', 896), ('secretary', 6964), ('dont', 1261), ('want', 2703), ('billion', 5656), ('got', 1678), ('mean', 912), ('today', 662), ('understand', 638), ('really', 866), ('didnt', 1310), ('everything', 620), ('your', 1225), ('thats', 442), ('cant', 460), ('lawmaker', 498), ('payment', 709), ('lot', 941)])"
      ]
     },
     "execution_count": 60,
     "metadata": {},
     "output_type": "execute_result"
    }
   ],
   "source": [
    "%%time\n",
    "#count top words in news string\n",
    "news_list = [word for word in news_string.split() if word  in list(top_feat)]\n",
    "news_counter = Counter(news_list)\n",
    "news_counter.items()"
   ]
  },
  {
   "cell_type": "markdown",
   "metadata": {},
   "source": [
    "# merge dictionary"
   ]
  },
  {
   "cell_type": "code",
   "execution_count": 61,
   "metadata": {},
   "outputs": [
    {
     "name": "stdout",
     "output_type": "stream",
     "text": [
      "CPU times: user 93 µs, sys: 1e+03 ns, total: 94 µs\n",
      "Wall time: 96.1 µs\n"
     ]
    }
   ],
   "source": [
    "%%time\n",
    "#merge keys and values together.\n",
    "# merge_dic.val[0] = news\n",
    "# merge_dic.val[1] = oped\n",
    "\n",
    "merge_dic = {}\n",
    "for key, oped_val in oped_ed_counter.items():\n",
    "    news_val = news_counter.get(key)\n",
    "    merged_values = (news_val, oped_val)\n",
    "    merged_values_set = set(merged_values)\n",
    "    merge_dic[key] = merged_values_set"
   ]
  },
  {
   "cell_type": "code",
   "execution_count": 62,
   "metadata": {
    "scrolled": false
   },
   "outputs": [
    {
     "data": {
      "image/png": "[encoded data removed]",
      "text/plain": [
       "<Figure size 1440x720 with 1 Axes>"
      ]
     },
     "metadata": {},
     "output_type": "display_data"
    }
   ],
   "source": [
    "#plot of word distributions\n",
    "import matplotlib\n",
    "import matplotlib.pyplot as plt\n",
    "import numpy as np\n",
    "\n",
    "merge_dic = {}\n",
    "for key, oped_val in oped_ed_counter.items():\n",
    "    news_val = news_counter.get(key)\n",
    "    merged_values = (news_val, oped_val)\n",
    "    merge_dic[key] = merged_values\n",
    "\n",
    "keys = []\n",
    "news_counts = []\n",
    "oped_counts = []\n",
    "    \n",
    "for k, v in merge_dic.items():\n",
    "    keys.append(k)\n",
    "    news_counts.append(v[0]/num_news_string)\n",
    "    oped_counts.append(v[1]/num_oped_string)\n",
    "\n",
    "x = np.arange(len(keys))  # the label locations\n",
    "width = 0.35  # the width of the bars\n",
    "\n",
    "fig, ax = plt.subplots(figsize=(20,10))\n",
    "rects1 = ax.bar(x - width/2, news_counts, width, label='News')\n",
    "rects2 = ax.bar(x + width/2, oped_counts, width, label='Op-Ed')\n",
    "\n",
    "\n",
    "# Add some text for labels, title and custom x-axis tick labels, etc.\n",
    "#ax.set_ylabel('Count')\n",
    "ax.set_title('Word distribution in News and Op-Ed')\n",
    "ax.set_xticks(x)\n",
    "#ax.set_yscale('log')\n",
    "# ax.set_xticklabels(keys)\n",
    "# ax.legend()\n",
    "\n",
    "plt.yticks([])\n",
    "fig.tight_layout()\n",
    "plt.xticks(rotation=45, fontsize=30)\n",
    "plt.show();\n",
    "# plt.savefig('img/word_dist.png');"
   ]
  },
  {
   "cell_type": "markdown",
   "metadata": {},
   "source": [
    "# news/oped most common "
   ]
  },
  {
   "cell_type": "code",
   "execution_count": 63,
   "metadata": {},
   "outputs": [],
   "source": [
    "# %%time\n",
    "# oped_list_features = [word for word in oped_string.split() if word in list(top_15)]\n",
    "# oped_ed_count_total = Counter(oped_list_features)"
   ]
  },
  {
   "cell_type": "code",
   "execution_count": 64,
   "metadata": {},
   "outputs": [],
   "source": [
    "# %%time\n",
    "# news_list_features = [word for word in news_string.split() if word in list(top_15)]\n",
    "# news_counter_total = Counter(news_list_features)"
   ]
  },
  {
   "cell_type": "code",
   "execution_count": 65,
   "metadata": {},
   "outputs": [
    {
     "name": "stdout",
     "output_type": "stream",
     "text": [
      "CPU times: user 40 µs, sys: 0 ns, total: 40 µs\n",
      "Wall time: 42.9 µs\n"
     ]
    }
   ],
   "source": [
    "%%time\n",
    "#list of words that are more news_words and are more oped_words\n",
    "# merge_dic.val[0] = news\n",
    "# merge_dic.val[1] = oped\n",
    "\n",
    "news_words = []\n",
    "oped_words = []\n",
    "\n",
    "for k, v in merge_dic.items():\n",
    "    if v[0]/num_news_string > v[1]/num_oped_string:\n",
    "        news_words.append(k)\n",
    "    else:\n",
    "        oped_words.append(k)"
   ]
  },
  {
   "cell_type": "code",
   "execution_count": 66,
   "metadata": {},
   "outputs": [
    {
     "name": "stdout",
     "output_type": "stream",
     "text": [
      "32\n",
      "68\n"
     ]
    }
   ],
   "source": [
    "print(len(news_words))\n",
    "print(len(oped_words))"
   ]
  },
  {
   "cell_type": "code",
   "execution_count": 67,
   "metadata": {},
   "outputs": [
    {
     "data": {
      "text/plain": [
       "['including',\n",
       " 'had',\n",
       " 'after',\n",
       " 'adding',\n",
       " 'expected',\n",
       " 'statement',\n",
       " 'request',\n",
       " 'whether',\n",
       " 'secretary',\n",
       " 'several',\n",
       " 'according',\n",
       " 'added',\n",
       " 'plan',\n",
       " 'host',\n",
       " 'director',\n",
       " 'month',\n",
       " 'official',\n",
       " 'billion',\n",
       " 'appeared',\n",
       " 'professor',\n",
       " 'earlier',\n",
       " 'criticism',\n",
       " 'comment',\n",
       " 'senior',\n",
       " 'declined',\n",
       " 'initially',\n",
       " 'meeting',\n",
       " 'interview',\n",
       " 'scheduled',\n",
       " 'recalled',\n",
       " 'lawmaker',\n",
       " 'payment']"
      ]
     },
     "execution_count": 67,
     "metadata": {},
     "output_type": "execute_result"
    }
   ],
   "source": [
    "#top News Words\n",
    "news_words"
   ]
  },
  {
   "cell_type": "code",
   "execution_count": 68,
   "metadata": {},
   "outputs": [
    {
     "data": {
      "text/plain": [
       "['these',\n",
       " 'what',\n",
       " 'very',\n",
       " 'dont',\n",
       " 'think',\n",
       " 'we',\n",
       " 'know',\n",
       " 'get',\n",
       " 'people',\n",
       " 'this',\n",
       " 'going',\n",
       " 'so',\n",
       " 'good',\n",
       " 'really',\n",
       " 'thing',\n",
       " 'you',\n",
       " 'are',\n",
       " 'make',\n",
       " 'be',\n",
       " 'why',\n",
       " 'even',\n",
       " 'fact',\n",
       " 'should',\n",
       " 'no',\n",
       " 'now',\n",
       " 'do',\n",
       " 'put',\n",
       " 'life',\n",
       " 'man',\n",
       " 'isnt',\n",
       " 'cant',\n",
       " 'your',\n",
       " 'can',\n",
       " 'but',\n",
       " 'want',\n",
       " 'way',\n",
       " 'course',\n",
       " 'just',\n",
       " 'too',\n",
       " 'my',\n",
       " 'our',\n",
       " 'understand',\n",
       " 'like',\n",
       " 'seem',\n",
       " 'never',\n",
       " 'me',\n",
       " 'true',\n",
       " 'right',\n",
       " 'may',\n",
       " 'doubt',\n",
       " 'need',\n",
       " 'look',\n",
       " 'something',\n",
       " 'thats',\n",
       " 'everything',\n",
       " 'almost',\n",
       " 'mean',\n",
       " 'go',\n",
       " 'always',\n",
       " 'got',\n",
       " 'real',\n",
       " 'doesnt',\n",
       " 'didnt',\n",
       " 'every',\n",
       " 'today',\n",
       " 'hard',\n",
       " 'bad',\n",
       " 'lot']"
      ]
     },
     "execution_count": 68,
     "metadata": {},
     "output_type": "execute_result"
    }
   ],
   "source": [
    "#top Op-Ed Words\n",
    "oped_words"
   ]
  },
  {
   "cell_type": "code",
   "execution_count": 69,
   "metadata": {},
   "outputs": [
    {
     "name": "stdout",
     "output_type": "stream",
     "text": [
      "14006924\n",
      "71931567\n"
     ]
    }
   ],
   "source": [
    "print(num_oped_string)\n",
    "print(num_news_string)"
   ]
  },
  {
   "cell_type": "markdown",
   "metadata": {},
   "source": [
    "### permutation importance"
   ]
  },
  {
   "cell_type": "code",
   "execution_count": 70,
   "metadata": {},
   "outputs": [],
   "source": [
    "# %%time\n",
    "# print(datetime.datetime.now())\n",
    "# r = permutation_importance(rf_clf, X_test.toarray(), y_test, n_repeats=30, random_state=0)"
   ]
  },
  {
   "cell_type": "code",
   "execution_count": 71,
   "metadata": {},
   "outputs": [],
   "source": [
    "# for i in r.importances_mean.argsort()[::-1]:\n",
    "#     if r.importances_mean[i] - 2 * r.importances_std[i] > 0:\n",
    "#         print(f\"{feat_names[i]:<8}\"\n",
    "#               f\"{r.importances_mean[i]:.3f}\"\n",
    "#               f\" +/- {r.importances_std[i]:.3f}\")"
   ]
  },
  {
   "cell_type": "code",
   "execution_count": 72,
   "metadata": {},
   "outputs": [],
   "source": [
    "# for i in r.importances_mean.argsort()[::-1]:\n",
    "#     if r.importances_mean[i] - 2 * r.importances_std[i] > 0:\n",
    "#         print(f\"{feat_names[i]:<20}\")\n",
    "# #               f\"{r.importances_mean[i]:.3f}\"\n",
    "# #               f\" +/- {r.importances_std[i]:.3f}\")"
   ]
  },
  {
   "cell_type": "code",
   "execution_count": 73,
   "metadata": {},
   "outputs": [
    {
     "data": {
      "text/plain": [
       "1190"
      ]
     },
     "execution_count": 73,
     "metadata": {},
     "output_type": "execute_result"
    }
   ],
   "source": [
    "len(feat_names)"
   ]
  },
  {
   "cell_type": "markdown",
   "metadata": {},
   "source": [
    "# make a plot"
   ]
  },
  {
   "cell_type": "markdown",
   "metadata": {},
   "source": [
    "# min_df_plot"
   ]
  },
  {
   "cell_type": "code",
   "execution_count": 74,
   "metadata": {},
   "outputs": [
    {
     "name": "stdout",
     "output_type": "stream",
     "text": [
      "2021-04-08 13:02:48.779870\n",
      "CPU times: user 5min 2s, sys: 1.29 s, total: 5min 3s\n",
      "Wall time: 5min 4s\n"
     ]
    }
   ],
   "source": [
    "%%time\n",
    "print(datetime.datetime.now())\n",
    "num_feat_min = []\n",
    "\n",
    "min_df = np.linspace(0.01,0.3,6)\n",
    "\n",
    "for val in min_df:\n",
    "    vectorizer_plot = TfidfVectorizer(preprocessor=functions.punc_strip,\n",
    "#                 tokenizer=wordnet_tokenize,\n",
    "                stop_words=alphabet,\n",
    "#                 max_df=0.95,\n",
    "                 min_df=val,\n",
    "                 max_features=None)\n",
    "    \n",
    "    vectorizer_plot.fit(X)\n",
    "    \n",
    "    features = vectorizer_plot.get_feature_names()\n",
    "    stop_word = vectorizer_plot.get_stop_words()\n",
    "\n",
    "    num_feat_min.append(len(features))"
   ]
  },
  {
   "cell_type": "code",
   "execution_count": 75,
   "metadata": {},
   "outputs": [
    {
     "name": "stdout",
     "output_type": "stream",
     "text": [
      "CPU times: user 16.8 ms, sys: 1.68 ms, total: 18.5 ms\n",
      "Wall time: 17.4 ms\n"
     ]
    },
    {
     "data": {
      "text/plain": [
       "[<matplotlib.lines.Line2D at 0x7fb895086d50>]"
      ]
     },
     "execution_count": 75,
     "metadata": {},
     "output_type": "execute_result"
    },
    {
     "data": {
      "image/png": "[encoded data removed]",
      "text/plain": [
       "<Figure size 1440x1440 with 1 Axes>"
      ]
     },
     "metadata": {},
     "output_type": "display_data"
    }
   ],
   "source": [
    "%%time\n",
    "fig, ax = plt.subplots(figsize=(20,20))\n",
    "ax.plot(min_df, num_feat_min);"
   ]
  },
  {
   "cell_type": "code",
   "execution_count": 76,
   "metadata": {},
   "outputs": [
    {
     "name": "stdout",
     "output_type": "stream",
     "text": [
      "2021-04-08 13:07:53.346677\n"
     ]
    },
    {
     "name": "stderr",
     "output_type": "stream",
     "text": [
      "/Users/djbetts/opt/anaconda3/lib/python3.7/site-packages/sklearn/feature_extraction/text.py:489: UserWarning: The parameter 'token_pattern' will not be used since 'tokenizer' is not None'\n",
      "  warnings.warn(\"The parameter 'token_pattern' will not be used\"\n"
     ]
    },
    {
     "name": "stdout",
     "output_type": "stream",
     "text": [
      "CPU times: user 2min 8s, sys: 384 ms, total: 2min 9s\n",
      "Wall time: 2min 9s\n"
     ]
    }
   ],
   "source": [
    "%%time\n",
    "print(datetime.datetime.now())\n",
    "learn_vect = TfidfVectorizer(preprocessor=functions.punc_strip,\n",
    "                 tokenizer=wordnet_tokenize,\n",
    "#            stop_words=alphabet,\n",
    "#                max_df=0.95,\n",
    "             min_df=.06,\n",
    "             max_features=None)\n",
    "\n",
    "learn_vect.fit(X)\n",
    "\n",
    "min_df_features = learn_vect.get_feature_names()\n",
    "stop_word = learn_vect.get_stop_words()"
   ]
  },
  {
   "cell_type": "code",
   "execution_count": 77,
   "metadata": {},
   "outputs": [
    {
     "data": {
      "text/plain": [
       "1222"
      ]
     },
     "execution_count": 77,
     "metadata": {},
     "output_type": "execute_result"
    }
   ],
   "source": [
    "len(min_df_features)"
   ]
  },
  {
   "cell_type": "code",
   "execution_count": 78,
   "metadata": {},
   "outputs": [
    {
     "data": {
      "text/plain": [
       "['000',\n",
       " '1',\n",
       " '10',\n",
       " '100',\n",
       " '11',\n",
       " '12',\n",
       " '14',\n",
       " '15',\n",
       " '18',\n",
       " '2',\n",
       " '20',\n",
       " '200',\n",
       " '2008',\n",
       " '2010',\n",
       " '2012',\n",
       " '2013',\n",
       " '2014',\n",
       " '2015',\n",
       " '2016',\n",
       " '2017',\n",
       " '2018',\n",
       " '2020',\n",
       " '25',\n",
       " '3',\n",
       " '30',\n",
       " '4',\n",
       " '40',\n",
       " '5',\n",
       " '50',\n",
       " '500',\n",
       " '6',\n",
       " '60',\n",
       " '7',\n",
       " '8',\n",
       " '9',\n",
       " 'a',\n",
       " 'ability',\n",
       " 'able',\n",
       " 'about',\n",
       " 'abuse',\n",
       " 'access',\n",
       " 'according',\n",
       " 'account',\n",
       " 'accusation',\n",
       " 'accused',\n",
       " 'acknowledged',\n",
       " 'across',\n",
       " 'act',\n",
       " 'acting',\n",
       " 'action',\n",
       " 'activist',\n",
       " 'activity',\n",
       " 'actually',\n",
       " 'ad',\n",
       " 'add',\n",
       " 'added',\n",
       " 'adding',\n",
       " 'addition',\n",
       " 'additional',\n",
       " 'address',\n",
       " 'administration',\n",
       " 'advance',\n",
       " 'advantage',\n",
       " 'adviser',\n",
       " 'advocate',\n",
       " 'affair',\n",
       " 'after',\n",
       " 'afternoon',\n",
       " 'again',\n",
       " 'against',\n",
       " 'age',\n",
       " 'agency',\n",
       " 'agenda',\n",
       " 'agent',\n",
       " 'aggressive',\n",
       " 'ago',\n",
       " 'agree',\n",
       " 'agreed',\n",
       " 'agreement',\n",
       " 'ahead',\n",
       " 'aid',\n",
       " 'aide',\n",
       " 'aimed',\n",
       " 'air',\n",
       " 'all',\n",
       " 'allegation',\n",
       " 'allow',\n",
       " 'allowed',\n",
       " 'allowing',\n",
       " 'ally',\n",
       " 'almost',\n",
       " 'alone',\n",
       " 'along',\n",
       " 'already',\n",
       " 'also',\n",
       " 'although',\n",
       " 'always',\n",
       " 'ambassador',\n",
       " 'amid',\n",
       " 'among',\n",
       " 'amount',\n",
       " 'an',\n",
       " 'analysis',\n",
       " 'analyst',\n",
       " 'and',\n",
       " 'announced',\n",
       " 'announcement',\n",
       " 'annual',\n",
       " 'anonymity',\n",
       " 'another',\n",
       " 'answer',\n",
       " 'any',\n",
       " 'anyone',\n",
       " 'anything',\n",
       " 'appeal',\n",
       " 'appear',\n",
       " 'appearance',\n",
       " 'appeared',\n",
       " 'appears',\n",
       " 'appointed',\n",
       " 'approach',\n",
       " 'approval',\n",
       " 'approved',\n",
       " 'are',\n",
       " 'area',\n",
       " 'argue',\n",
       " 'argued',\n",
       " 'arguing',\n",
       " 'argument',\n",
       " 'arm',\n",
       " 'around',\n",
       " 'article',\n",
       " 'ask',\n",
       " 'asked',\n",
       " 'asking',\n",
       " 'assistant',\n",
       " 'associate',\n",
       " 'at',\n",
       " 'attack',\n",
       " 'attempt',\n",
       " 'attended',\n",
       " 'attention',\n",
       " 'attorney',\n",
       " 'audience',\n",
       " 'authority',\n",
       " 'available',\n",
       " 'average',\n",
       " 'avoid',\n",
       " 'away',\n",
       " 'back',\n",
       " 'backed',\n",
       " 'bad',\n",
       " 'ballot',\n",
       " 'ban',\n",
       " 'bank',\n",
       " 'base',\n",
       " 'based',\n",
       " 'battle',\n",
       " 'be',\n",
       " 'became',\n",
       " 'because',\n",
       " 'become',\n",
       " 'been',\n",
       " 'before',\n",
       " 'began',\n",
       " 'begin',\n",
       " 'beginning',\n",
       " 'begun',\n",
       " 'behalf',\n",
       " 'behavior',\n",
       " 'behind',\n",
       " 'being',\n",
       " 'belief',\n",
       " 'believe',\n",
       " 'believed',\n",
       " 'benefit',\n",
       " 'best',\n",
       " 'better',\n",
       " 'between',\n",
       " 'beyond',\n",
       " 'big',\n",
       " 'biggest',\n",
       " 'bill',\n",
       " 'billion',\n",
       " 'bipartisan',\n",
       " 'black',\n",
       " 'block',\n",
       " 'board',\n",
       " 'book',\n",
       " 'border',\n",
       " 'both',\n",
       " 'break',\n",
       " 'brief',\n",
       " 'briefing',\n",
       " 'bring',\n",
       " 'broad',\n",
       " 'broader',\n",
       " 'brought',\n",
       " 'budget',\n",
       " 'build',\n",
       " 'building',\n",
       " 'built',\n",
       " 'business',\n",
       " 'but',\n",
       " 'buy',\n",
       " 'by',\n",
       " 'call',\n",
       " 'called',\n",
       " 'calling',\n",
       " 'came',\n",
       " 'campaign',\n",
       " 'can',\n",
       " 'candidate',\n",
       " 'cant',\n",
       " 'capital',\n",
       " 'car',\n",
       " 'care',\n",
       " 'career',\n",
       " 'carried',\n",
       " 'carry',\n",
       " 'case',\n",
       " 'cast',\n",
       " 'cause',\n",
       " 'center',\n",
       " 'central',\n",
       " 'certain',\n",
       " 'chairman',\n",
       " 'challenge',\n",
       " 'chamber',\n",
       " 'chance',\n",
       " 'change',\n",
       " 'changed',\n",
       " 'charge',\n",
       " 'charged',\n",
       " 'check',\n",
       " 'chief',\n",
       " 'child',\n",
       " 'choice',\n",
       " 'cited',\n",
       " 'citing',\n",
       " 'citizen',\n",
       " 'city',\n",
       " 'civil',\n",
       " 'claim',\n",
       " 'claimed',\n",
       " 'class',\n",
       " 'clear',\n",
       " 'climate',\n",
       " 'close',\n",
       " 'closed',\n",
       " 'closely',\n",
       " 'colleague',\n",
       " 'college',\n",
       " 'come',\n",
       " 'coming',\n",
       " 'comment',\n",
       " 'committed',\n",
       " 'committee',\n",
       " 'common',\n",
       " 'communication',\n",
       " 'community',\n",
       " 'company',\n",
       " 'compared',\n",
       " 'complaint',\n",
       " 'concern',\n",
       " 'concerned',\n",
       " 'concluded',\n",
       " 'condition',\n",
       " 'conduct',\n",
       " 'conference',\n",
       " 'confirmation',\n",
       " 'confirmed',\n",
       " 'conflict',\n",
       " 'congressional',\n",
       " 'consequence',\n",
       " 'conservative',\n",
       " 'consider',\n",
       " 'considered',\n",
       " 'considering',\n",
       " 'consumer',\n",
       " 'contact',\n",
       " 'continue',\n",
       " 'continued',\n",
       " 'contrast',\n",
       " 'control',\n",
       " 'conversation',\n",
       " 'coronavirus',\n",
       " 'corporate',\n",
       " 'cost',\n",
       " 'could',\n",
       " 'counsel',\n",
       " 'country',\n",
       " 'course',\n",
       " 'court',\n",
       " 'cover',\n",
       " 'coverage',\n",
       " 'create',\n",
       " 'created',\n",
       " 'credit',\n",
       " 'crime',\n",
       " 'criminal',\n",
       " 'crisis',\n",
       " 'critic',\n",
       " 'critical',\n",
       " 'criticism',\n",
       " 'criticized',\n",
       " 'crowd',\n",
       " 'crucial',\n",
       " 'current',\n",
       " 'currently',\n",
       " 'cut',\n",
       " 'damage',\n",
       " 'data',\n",
       " 'daughter',\n",
       " 'day',\n",
       " 'deal',\n",
       " 'death',\n",
       " 'debate',\n",
       " 'decade',\n",
       " 'decide',\n",
       " 'decided',\n",
       " 'decision',\n",
       " 'declared',\n",
       " 'declined',\n",
       " 'deep',\n",
       " 'deeply',\n",
       " 'defended',\n",
       " 'defense',\n",
       " 'delivered',\n",
       " 'demand',\n",
       " 'denied',\n",
       " 'department',\n",
       " 'deputy',\n",
       " 'described',\n",
       " 'despite',\n",
       " 'detail',\n",
       " 'development',\n",
       " 'did',\n",
       " 'didnt',\n",
       " 'died',\n",
       " 'difference',\n",
       " 'different',\n",
       " 'difficult',\n",
       " 'direct',\n",
       " 'directly',\n",
       " 'director',\n",
       " 'discus',\n",
       " 'discussed',\n",
       " 'discussion',\n",
       " 'dismissed',\n",
       " 'dispute',\n",
       " 'district',\n",
       " 'division',\n",
       " 'do',\n",
       " 'document',\n",
       " 'doe',\n",
       " 'doesnt',\n",
       " 'doing',\n",
       " 'dollar',\n",
       " 'domestic',\n",
       " 'done',\n",
       " 'donor',\n",
       " 'dont',\n",
       " 'door',\n",
       " 'doubt',\n",
       " 'down',\n",
       " 'dozen',\n",
       " 'drew',\n",
       " 'drug',\n",
       " 'during',\n",
       " 'each',\n",
       " 'eager',\n",
       " 'earlier',\n",
       " 'early',\n",
       " 'economic',\n",
       " 'economy',\n",
       " 'education',\n",
       " 'effect',\n",
       " 'effectively',\n",
       " 'effort',\n",
       " 'eight',\n",
       " 'either',\n",
       " 'elected',\n",
       " 'election',\n",
       " 'else',\n",
       " 'email',\n",
       " 'emerged',\n",
       " 'emergency',\n",
       " 'employee',\n",
       " 'end',\n",
       " 'ended',\n",
       " 'energy',\n",
       " 'enforcement',\n",
       " 'enough',\n",
       " 'ensure',\n",
       " 'entire',\n",
       " 'era',\n",
       " 'especially',\n",
       " 'even',\n",
       " 'evening',\n",
       " 'event',\n",
       " 'eventually',\n",
       " 'ever',\n",
       " 'every',\n",
       " 'everyone',\n",
       " 'everything',\n",
       " 'evidence',\n",
       " 'example',\n",
       " 'exchange',\n",
       " 'executive',\n",
       " 'expand',\n",
       " 'expected',\n",
       " 'experience',\n",
       " 'expert',\n",
       " 'expressed',\n",
       " 'face',\n",
       " 'faced',\n",
       " 'facing',\n",
       " 'fact',\n",
       " 'failed',\n",
       " 'failure',\n",
       " 'fall',\n",
       " 'false',\n",
       " 'familiar',\n",
       " 'family',\n",
       " 'far',\n",
       " 'father',\n",
       " 'favor',\n",
       " 'fear',\n",
       " 'federal',\n",
       " 'feel',\n",
       " 'fellow',\n",
       " 'felt',\n",
       " 'few',\n",
       " 'field',\n",
       " 'fight',\n",
       " 'figure',\n",
       " 'filed',\n",
       " 'final',\n",
       " 'finance',\n",
       " 'financial',\n",
       " 'find',\n",
       " 'finding',\n",
       " 'fire',\n",
       " 'fired',\n",
       " 'firm',\n",
       " 'first',\n",
       " 'five',\n",
       " 'floor',\n",
       " 'focus',\n",
       " 'focused',\n",
       " 'follow',\n",
       " 'followed',\n",
       " 'following',\n",
       " 'for',\n",
       " 'force',\n",
       " 'forced',\n",
       " 'foreign',\n",
       " 'form',\n",
       " 'former',\n",
       " 'forward',\n",
       " 'found',\n",
       " 'four',\n",
       " 'free',\n",
       " 'friend',\n",
       " 'from',\n",
       " 'front',\n",
       " 'full',\n",
       " 'fund',\n",
       " 'funding',\n",
       " 'further',\n",
       " 'future',\n",
       " 'gain',\n",
       " 'gave',\n",
       " 'general',\n",
       " 'generally',\n",
       " 'get',\n",
       " 'getting',\n",
       " 'give',\n",
       " 'given',\n",
       " 'giving',\n",
       " 'global',\n",
       " 'go',\n",
       " 'goal',\n",
       " 'going',\n",
       " 'gone',\n",
       " 'good',\n",
       " 'got',\n",
       " 'government',\n",
       " 'governor',\n",
       " 'great',\n",
       " 'greater',\n",
       " 'grew',\n",
       " 'ground',\n",
       " 'group',\n",
       " 'growing',\n",
       " 'growth',\n",
       " 'ha',\n",
       " 'had',\n",
       " 'half',\n",
       " 'hand',\n",
       " 'happen',\n",
       " 'happened',\n",
       " 'hard',\n",
       " 'have',\n",
       " 'having',\n",
       " 'he',\n",
       " 'head',\n",
       " 'health',\n",
       " 'heard',\n",
       " 'hearing',\n",
       " 'held',\n",
       " 'help',\n",
       " 'helped',\n",
       " 'helping',\n",
       " 'her',\n",
       " 'here',\n",
       " 'high',\n",
       " 'higher',\n",
       " 'highly',\n",
       " 'him',\n",
       " 'himself',\n",
       " 'his',\n",
       " 'history',\n",
       " 'hit',\n",
       " 'hold',\n",
       " 'holding',\n",
       " 'home',\n",
       " 'hope',\n",
       " 'hoped',\n",
       " 'host',\n",
       " 'hour',\n",
       " 'house',\n",
       " 'how',\n",
       " 'however',\n",
       " 'huge',\n",
       " 'human',\n",
       " 'hundred',\n",
       " 'idea',\n",
       " 'if',\n",
       " 'illegal',\n",
       " 'image',\n",
       " 'immediately',\n",
       " 'immigrant',\n",
       " 'immigration',\n",
       " 'impact',\n",
       " 'impeachment',\n",
       " 'important',\n",
       " 'in',\n",
       " 'include',\n",
       " 'included',\n",
       " 'includes',\n",
       " 'including',\n",
       " 'income',\n",
       " 'increase',\n",
       " 'increased',\n",
       " 'increasingly',\n",
       " 'independent',\n",
       " 'individual',\n",
       " 'industry',\n",
       " 'influence',\n",
       " 'information',\n",
       " 'initial',\n",
       " 'initially',\n",
       " 'inquiry',\n",
       " 'inside',\n",
       " 'insisted',\n",
       " 'instance',\n",
       " 'instead',\n",
       " 'institution',\n",
       " 'insurance',\n",
       " 'intelligence',\n",
       " 'intended',\n",
       " 'interest',\n",
       " 'interference',\n",
       " 'internal',\n",
       " 'international',\n",
       " 'interview',\n",
       " 'into',\n",
       " 'investigation',\n",
       " 'investigator',\n",
       " 'investment',\n",
       " 'involved',\n",
       " 'is',\n",
       " 'isnt',\n",
       " 'issue',\n",
       " 'issued',\n",
       " 'it',\n",
       " 'itself',\n",
       " 'job',\n",
       " 'join',\n",
       " 'joined',\n",
       " 'journalist',\n",
       " 'judge',\n",
       " 'just',\n",
       " 'justice',\n",
       " 'keep',\n",
       " 'keeping',\n",
       " 'kept',\n",
       " 'key',\n",
       " 'killed',\n",
       " 'kind',\n",
       " 'knew',\n",
       " 'know',\n",
       " 'known',\n",
       " 'lack',\n",
       " 'language',\n",
       " 'large',\n",
       " 'largely',\n",
       " 'larger',\n",
       " 'largest',\n",
       " 'last',\n",
       " 'late',\n",
       " 'later',\n",
       " 'latest',\n",
       " 'law',\n",
       " 'lawmaker',\n",
       " 'lawsuit',\n",
       " 'lawyer',\n",
       " 'le',\n",
       " 'lead',\n",
       " 'leader',\n",
       " 'leadership',\n",
       " 'leading',\n",
       " 'learned',\n",
       " 'least',\n",
       " 'leave',\n",
       " 'leaving',\n",
       " 'led',\n",
       " 'left',\n",
       " 'legal',\n",
       " 'legislation',\n",
       " 'legislative',\n",
       " 'let',\n",
       " 'letter',\n",
       " 'level',\n",
       " 'liberal',\n",
       " 'life',\n",
       " 'light',\n",
       " 'like',\n",
       " 'likely',\n",
       " 'limit',\n",
       " 'limited',\n",
       " 'line',\n",
       " 'list',\n",
       " 'little',\n",
       " 'live',\n",
       " 'living',\n",
       " 'local',\n",
       " 'long',\n",
       " 'longer',\n",
       " 'longtime',\n",
       " 'look',\n",
       " 'looking',\n",
       " 'lose',\n",
       " 'loss',\n",
       " 'lost',\n",
       " 'lot',\n",
       " 'low',\n",
       " 'lower',\n",
       " 'made',\n",
       " 'main',\n",
       " 'major',\n",
       " 'majority',\n",
       " 'make',\n",
       " 'making',\n",
       " 'man',\n",
       " 'manager',\n",
       " 'many',\n",
       " 'market',\n",
       " 'matter',\n",
       " 'may',\n",
       " 'mayor',\n",
       " 'me',\n",
       " 'mean',\n",
       " 'meant',\n",
       " 'measure',\n",
       " 'medical',\n",
       " 'medium',\n",
       " 'meet',\n",
       " 'meeting',\n",
       " 'member',\n",
       " 'men',\n",
       " 'mention',\n",
       " 'message',\n",
       " 'met',\n",
       " 'middle',\n",
       " 'midterm',\n",
       " 'might',\n",
       " 'military',\n",
       " 'million',\n",
       " 'mind',\n",
       " 'minority',\n",
       " 'minute',\n",
       " 'moderate',\n",
       " 'moment',\n",
       " 'money',\n",
       " 'month',\n",
       " 'more',\n",
       " 'morning',\n",
       " 'most',\n",
       " 'mostly',\n",
       " 'move',\n",
       " 'moved',\n",
       " 'movement',\n",
       " 'moving',\n",
       " 'much',\n",
       " 'multiple',\n",
       " 'must',\n",
       " 'my',\n",
       " 'name',\n",
       " 'named',\n",
       " 'nation',\n",
       " 'national',\n",
       " 'near',\n",
       " 'nearly',\n",
       " 'necessary',\n",
       " 'need',\n",
       " 'needed',\n",
       " 'negotiation',\n",
       " 'network',\n",
       " 'never',\n",
       " 'new',\n",
       " 'news',\n",
       " 'next',\n",
       " 'night',\n",
       " 'no',\n",
       " 'nomination',\n",
       " 'nominee',\n",
       " 'not',\n",
       " 'note',\n",
       " 'noted',\n",
       " 'nothing',\n",
       " 'noting',\n",
       " 'now',\n",
       " 'number',\n",
       " 'of',\n",
       " 'off',\n",
       " 'offer',\n",
       " 'offered',\n",
       " 'offering',\n",
       " 'office',\n",
       " 'officer',\n",
       " 'official',\n",
       " 'often',\n",
       " 'old',\n",
       " 'on',\n",
       " 'once',\n",
       " 'one',\n",
       " 'online',\n",
       " 'only',\n",
       " 'open',\n",
       " 'opened',\n",
       " 'opening',\n",
       " 'operation',\n",
       " 'opinion',\n",
       " 'opponent',\n",
       " 'opportunity',\n",
       " 'opposed',\n",
       " 'opposition',\n",
       " 'option',\n",
       " 'or',\n",
       " 'order',\n",
       " 'ordered',\n",
       " 'organization',\n",
       " 'other',\n",
       " 'others',\n",
       " 'our',\n",
       " 'out',\n",
       " 'outcome',\n",
       " 'outside',\n",
       " 'over',\n",
       " 'own',\n",
       " 'package',\n",
       " 'page',\n",
       " 'paid',\n",
       " 'pandemic',\n",
       " 'panel',\n",
       " 'parent',\n",
       " 'part',\n",
       " 'particular',\n",
       " 'particularly',\n",
       " 'partisan',\n",
       " 'partner',\n",
       " 'party',\n",
       " 'pas',\n",
       " 'passed',\n",
       " 'past',\n",
       " 'path',\n",
       " 'pay',\n",
       " 'payment',\n",
       " 'people',\n",
       " 'percent',\n",
       " 'perhaps',\n",
       " 'period',\n",
       " 'person',\n",
       " 'personal',\n",
       " 'phone',\n",
       " 'place',\n",
       " 'plan',\n",
       " 'planned',\n",
       " 'planning',\n",
       " 'play',\n",
       " 'played',\n",
       " 'point',\n",
       " 'pointed',\n",
       " 'police',\n",
       " 'policy',\n",
       " 'political',\n",
       " 'politically',\n",
       " 'politician',\n",
       " 'politics',\n",
       " 'poll',\n",
       " 'popular',\n",
       " 'population',\n",
       " 'position',\n",
       " 'possibility',\n",
       " 'possible',\n",
       " 'post',\n",
       " 'posted',\n",
       " 'potential',\n",
       " 'potentially',\n",
       " 'power',\n",
       " 'powerful',\n",
       " 'practice',\n",
       " 'praised',\n",
       " 'prepared',\n",
       " 'present',\n",
       " 'presidency',\n",
       " 'president',\n",
       " 'presidential',\n",
       " 'press',\n",
       " 'pressure',\n",
       " 'prevent',\n",
       " 'previous',\n",
       " 'previously',\n",
       " 'price',\n",
       " 'primary',\n",
       " 'priority',\n",
       " 'private',\n",
       " 'privately',\n",
       " 'probably',\n",
       " 'problem',\n",
       " 'process',\n",
       " 'product',\n",
       " 'professor',\n",
       " 'program',\n",
       " 'progressive',\n",
       " 'project',\n",
       " 'prominent',\n",
       " 'promise',\n",
       " 'promised',\n",
       " 'prompted',\n",
       " 'proposal',\n",
       " 'proposed',\n",
       " 'prosecutor',\n",
       " 'prospect',\n",
       " 'protect',\n",
       " 'protection',\n",
       " 'protest',\n",
       " 'provide',\n",
       " 'provided',\n",
       " 'providing',\n",
       " 'provision',\n",
       " 'public',\n",
       " 'publicly',\n",
       " 'published',\n",
       " 'push',\n",
       " 'pushed',\n",
       " 'pushing',\n",
       " 'put',\n",
       " 'putting',\n",
       " 'question',\n",
       " 'questioned',\n",
       " 'quickly',\n",
       " 'race',\n",
       " 'racial',\n",
       " 'raise',\n",
       " 'raised',\n",
       " 'raising',\n",
       " 'rally',\n",
       " 'ran',\n",
       " 'rare',\n",
       " 'rate',\n",
       " 'rather',\n",
       " 're-election',\n",
       " 'reach',\n",
       " 'reached',\n",
       " 'read',\n",
       " 'real',\n",
       " 'reality',\n",
       " 'really',\n",
       " 'reason',\n",
       " 'receive',\n",
       " 'received',\n",
       " 'recent',\n",
       " 'recently',\n",
       " 'record',\n",
       " 'reduce',\n",
       " 'referred',\n",
       " 'referring',\n",
       " 'refused',\n",
       " 'region',\n",
       " 'regulation',\n",
       " 'rejected',\n",
       " 'related',\n",
       " 'relation',\n",
       " 'relationship',\n",
       " 'release',\n",
       " 'released',\n",
       " 'remain',\n",
       " 'remained',\n",
       " 'remains',\n",
       " 'remark',\n",
       " 'repeatedly',\n",
       " 'replace',\n",
       " 'report',\n",
       " 'reported',\n",
       " 'reporter',\n",
       " 'representative',\n",
       " 'represents',\n",
       " 'request',\n",
       " 'require',\n",
       " 'required',\n",
       " 'requirement',\n",
       " 'research',\n",
       " 'resident',\n",
       " 'respond',\n",
       " 'responded',\n",
       " 'response',\n",
       " 'rest',\n",
       " 'restriction',\n",
       " 'result',\n",
       " 'retired',\n",
       " 'return',\n",
       " 'returned',\n",
       " 'review',\n",
       " 'right',\n",
       " 'rise',\n",
       " 'rising',\n",
       " 'risk',\n",
       " 'rival',\n",
       " 'role',\n",
       " 'room',\n",
       " 'roughly',\n",
       " 'rule',\n",
       " 'ruling',\n",
       " 'run',\n",
       " 'running',\n",
       " 's',\n",
       " 'safety',\n",
       " 'said',\n",
       " 'sale',\n",
       " 'same',\n",
       " 'saw',\n",
       " 'say',\n",
       " 'saying',\n",
       " 'scheduled',\n",
       " 'school',\n",
       " 'scrutiny',\n",
       " 'seat',\n",
       " 'second',\n",
       " 'secret',\n",
       " 'secretary',\n",
       " 'security',\n",
       " 'see',\n",
       " 'seek',\n",
       " 'seeking',\n",
       " 'seem',\n",
       " 'seemed',\n",
       " 'seems',\n",
       " 'seen',\n",
       " 'senator',\n",
       " 'send',\n",
       " 'senior',\n",
       " 'sense',\n",
       " 'sent',\n",
       " 'separate',\n",
       " 'series',\n",
       " 'serious',\n",
       " 'serve',\n",
       " 'served',\n",
       " 'service',\n",
       " 'session',\n",
       " 'set',\n",
       " 'seven',\n",
       " 'several',\n",
       " 'share',\n",
       " 'shared',\n",
       " 'she',\n",
       " 'shift',\n",
       " 'short',\n",
       " 'should',\n",
       " 'show',\n",
       " 'showed',\n",
       " 'showing',\n",
       " 'shown',\n",
       " 'side',\n",
       " 'sign',\n",
       " 'signed',\n",
       " ...]"
      ]
     },
     "execution_count": 78,
     "metadata": {},
     "output_type": "execute_result"
    }
   ],
   "source": [
    "min_df_features"
   ]
  },
  {
   "cell_type": "markdown",
   "metadata": {},
   "source": [
    "# max_features"
   ]
  },
  {
   "cell_type": "code",
   "execution_count": 79,
   "metadata": {},
   "outputs": [],
   "source": [
    "# num_feat = np.linspace(.7,.99,6)"
   ]
  },
  {
   "cell_type": "code",
   "execution_count": 80,
   "metadata": {},
   "outputs": [],
   "source": [
    "# num_feat"
   ]
  },
  {
   "cell_type": "code",
   "execution_count": 81,
   "metadata": {},
   "outputs": [],
   "source": [
    "# %%time\n",
    "# TN = []\n",
    "# FP = []\n",
    "# FN = []\n",
    "# TP = []\n",
    "\n",
    "# num_feat = np.linspace(1000,50000,6)\n",
    "# max_df = np.linspace(.7,.99,6)\n",
    "# min_df = np.linspace(0,.3,6)\n",
    "\n",
    "\n",
    "# for val in max_df:\n",
    "#     vectorizer_plot = TfidfVectorizer(preprocessor=functions.punc_strip,\n",
    "# #                 tokenizer=wordnet_tokenize,\n",
    "#                 stop_words=alphabet,\n",
    "#                  max_df=val,\n",
    "# #                 min_df=val,\n",
    "#                  max_features=None\n",
    "\n",
    "#     #test, train, split\n",
    "#     X_train, X_test, y_train, y_test = train_test_split(X, y, random_state=50)\n",
    "\n",
    "#     X_train = vectorizer_plot.fit_transform(X_train)\n",
    "\n",
    "#     X_test = vectorizer_plot.transform(X_test)\n",
    "    \n",
    "#     #X, y --> X_resampled, y_resampled\n",
    "#     rus = RandomUnderSampler(random_state=0)\n",
    "#     X_resampled, y_resampled = rus.fit_resample(X_train, y_train)\n",
    "    \n",
    "#     recall_rfc = RandomForestClassifier(max_depth=2, random_state=0)\n",
    "\n",
    "#     rf_clf.fit(X_resampled, y_resampled)\n",
    "#     y_pred = rf_clf.predict(X_test)\n",
    "    \n",
    "#     tn, fp, fn, tp = confusion_matrix(y_true = y_test, y_pred = y_pred).ravel()\n",
    "#     #.ravel() make a 1d matrix into flat array\n",
    "#     a, r, p  = functions.metrics_(tn, fp, fn, tp)\n",
    "    \n",
    "#     TN.append(tn)\n",
    "#     FP.append(fp)\n",
    "#     FN.append(fn)\n",
    "#     TP.append(tp)\n",
    "    \n",
    "    \n",
    "#     num_feat_min.append(len(features))"
   ]
  },
  {
   "cell_type": "code",
   "execution_count": 82,
   "metadata": {},
   "outputs": [],
   "source": [
    "# for f in features:\n",
    "#     model = RandomForestClassifier(max_features=f)\n",
    "#     score = cross_val_score(model, X, y).mean()\n",
    "#     print('A Random Forest Regressor with max features of: {} gets a score of {}'\n",
    "#           .format(f,score))\n",
    "#     scores.append(score)\n",
    "    \n",
    "# fig, ax = plt.subplots()\n",
    "# ax.plot(features, scores)"
   ]
  },
  {
   "cell_type": "code",
   "execution_count": 83,
   "metadata": {},
   "outputs": [],
   "source": [
    "# for f in features:\n",
    "#     model = RandomForestClassifier(max_features=f)\n",
    "#     score = cross_val_score(model, X, y).mean()\n",
    "#     print('A Random Forest Regressor with max features of: {} gets a score of {}'\n",
    "#           .format(f,score))\n",
    "#     scores.append(score)"
   ]
  },
  {
   "cell_type": "code",
   "execution_count": 84,
   "metadata": {},
   "outputs": [],
   "source": [
    "# #stacked bar graph\n",
    "\n",
    "# video_sales_df = pd.read_excel(\"data.xlsx\")\n",
    "\n",
    "# regional_genre = video_sales_df.groupby(['Genre'],as_index=False)[\"NA_Sales\",\"EU_Sales\",\"JP_Sales\"].sum()[:5]\n",
    "# columns = [\"NA_Sales\",\"EU_Sales\",\"JP_Sales\"]\n",
    "\n",
    "# # Normalization parameters\n",
    "# normalize_min = 0.1\n",
    "# normalize_max = 1\n",
    "\n",
    "# # Normalize\n",
    "# regional_genre[columns]= preprocessing.minmax_scale(regional_genre[columns], feature_range=(normalize_min, normalize_max))\n",
    "\n",
    "# # Plot stacked bars\n",
    "# plt.bar(regional_genre[\"Genre\"], regional_genre[\"NA_Sales\"], label=\"NA_Sales\")\n",
    "# plt.bar(regional_genre[\"Genre\"], regional_genre[\"EU_Sales\"], bottom=regional_genre[\"NA_Sales\"], label=\"EU_Sales\")\n",
    "# plt.bar(regional_genre[\"Genre\"], regional_genre[\"JP_Sales\"], bottom=regional_genre[\"EU_Sales\"]+regional_genre[\"NA_Sales\"], label=\"JP_Sales\")\n",
    "# plt.legend()\n",
    "# plt.ylabel(\"Normalized sales\")\n",
    "# plt.show()\n",
    "\n",
    "# # Another solution for plot:\n",
    "\n",
    "# plt.bar(columns, regional_genre.ix[0,1:], label=\"Action\")\n",
    "# bot = regional_genre.ix[0,1:]\n",
    "# plt.bar(columns, regional_genre.ix[1,1:], bottom=bot, label=\"Adventure\")\n",
    "# bot += regional_genre.ix[1,1:]\n",
    "# plt.bar(columns, regional_genre.ix[2,1:], bottom=bot, label=\"Fighting\")\n",
    "# bot += regional_genre.ix[2,1:]\n",
    "# plt.bar(columns, regional_genre.ix[3,1:], bottom=bot, label=\"Misc\")\n",
    "# bot += regional_genre.ix[3,1:]\n",
    "# plt.bar(columns, regional_genre.ix[4,1:], bottom=bot, label=\"Platform\")"
   ]
  },
  {
   "cell_type": "markdown",
   "metadata": {},
   "source": [
    "# xgboost"
   ]
  },
  {
   "cell_type": "code",
   "execution_count": 56,
   "metadata": {},
   "outputs": [],
   "source": [
    "import xgboost as xgb"
   ]
  },
  {
   "cell_type": "code",
   "execution_count": 57,
   "metadata": {},
   "outputs": [],
   "source": [
    "D_train = xgb.DMatrix(X_resampled, label=y_resampled)\n",
    "D_test = xgb.DMatrix(X_test, label=y_test)"
   ]
  },
  {
   "cell_type": "code",
   "execution_count": 58,
   "metadata": {},
   "outputs": [],
   "source": [
    "param = {\n",
    "    'eta': 0.3, \n",
    "    'max_depth': 3,  \n",
    "    'objective': 'multi:softprob',  \n",
    "    'num_class': 3} \n",
    "\n",
    "steps = 20  # The number of training iterations"
   ]
  },
  {
   "cell_type": "code",
   "execution_count": 59,
   "metadata": {},
   "outputs": [
    {
     "name": "stdout",
     "output_type": "stream",
     "text": [
      "[13:21:13] WARNING: ../src/learner.cc:1061: Starting in XGBoost 1.3.0, the default evaluation metric used with the objective 'multi:softprob' was changed from 'merror' to 'mlogloss'. Explicitly set eval_metric if you'd like to restore the old behavior.\n"
     ]
    }
   ],
   "source": [
    "model = xgb.train(param, D_train, steps)"
   ]
  },
  {
   "cell_type": "code",
   "execution_count": 60,
   "metadata": {},
   "outputs": [
    {
     "name": "stdout",
     "output_type": "stream",
     "text": [
      "Precision = 0.883180186138801\n",
      "Recall = 0.9360448569868538\n",
      "Accuracy = 0.9394961763382816\n"
     ]
    }
   ],
   "source": [
    "import numpy as np\n",
    "from sklearn.metrics import precision_score, recall_score, accuracy_score\n",
    "\n",
    "preds = model.predict(D_test)\n",
    "best_preds = np.asarray([np.argmax(line) for line in preds])\n",
    "\n",
    "print(\"Precision = {}\".format(precision_score(y_test, best_preds, average='macro')))\n",
    "print(\"Recall = {}\".format(recall_score(y_test, best_preds, average='macro')))\n",
    "print(\"Accuracy = {}\".format(accuracy_score(y_test, best_preds)))"
   ]
  },
  {
   "cell_type": "code",
   "execution_count": 63,
   "metadata": {},
   "outputs": [],
   "source": []
  },
  {
   "cell_type": "code",
   "execution_count": null,
   "metadata": {},
   "outputs": [],
   "source": []
  },
  {
   "cell_type": "code",
   "execution_count": null,
   "metadata": {},
   "outputs": [],
   "source": []
  },
  {
   "cell_type": "code",
   "execution_count": null,
   "metadata": {},
   "outputs": [],
   "source": []
  },
  {
   "cell_type": "code",
   "execution_count": null,
   "metadata": {},
   "outputs": [],
   "source": []
  },
  {
   "cell_type": "code",
   "execution_count": null,
   "metadata": {},
   "outputs": [],
   "source": []
  },
  {
   "cell_type": "code",
   "execution_count": null,
   "metadata": {},
   "outputs": [],
   "source": [
    "from sklearn.model_selection import GridSearchCV\n",
    "\n",
    "xgBOOST_clf = xgb.XGBClassifier()\n",
    "parameters = {\n",
    "     \"eta\"    : [0.05, 0.10, 0.15, 0.20, 0.25, 0.30 ] ,\n",
    "     \"max_depth\"        : [ 3, 4, 5, 6, 8, 10, 12, 15],\n",
    "     \"min_child_weight\" : [ 1, 3, 5, 7 ],\n",
    "     \"gamma\"            : [ 0.0, 0.1, 0.2 , 0.3, 0.4 ],\n",
    "     \"colsample_bytree\" : [ 0.3, 0.4, 0.5 , 0.7 ]\n",
    "     }\n",
    "\n",
    "grid = GridSearchCV(xgBOOST_clf,\n",
    "                    parameters, n_jobs=4,\n",
    "                    scoring=\"neg_log_loss\",\n",
    "                    cv=3)"
   ]
  },
  {
   "cell_type": "code",
   "execution_count": null,
   "metadata": {},
   "outputs": [],
   "source": []
  },
  {
   "cell_type": "code",
   "execution_count": null,
   "metadata": {},
   "outputs": [],
   "source": [
    "%%time\n",
    "print(datetime.datetime.now())\n",
    "grid.fit(X_train, y_resampled)\n",
    "# y_pred = rf_clf.predict(X_test)\n",
    "# y_pred.shape)"
   ]
  },
  {
   "cell_type": "code",
   "execution_count": null,
   "metadata": {},
   "outputs": [],
   "source": []
  },
  {
   "cell_type": "code",
   "execution_count": null,
   "metadata": {},
   "outputs": [],
   "source": []
  },
  {
   "cell_type": "code",
   "execution_count": null,
   "metadata": {},
   "outputs": [],
   "source": []
  },
  {
   "cell_type": "code",
   "execution_count": null,
   "metadata": {},
   "outputs": [],
   "source": []
  }
 ],
 "metadata": {
  "kernelspec": {
   "display_name": "Python 3",
   "language": "python",
   "name": "python3"
  },
  "language_info": {
   "codemirror_mode": {
    "name": "ipython",
    "version": 3
   },
   "file_extension": ".py",
   "mimetype": "text/x-python",
   "name": "python",
   "nbconvert_exporter": "python",
   "pygments_lexer": "ipython3",
   "version": "3.7.10"
  }
 },
 "nbformat": 4,
 "nbformat_minor": 4
}
